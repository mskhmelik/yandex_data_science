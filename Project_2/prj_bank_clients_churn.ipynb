{
 "cells": [
  {
   "attachments": {},
   "cell_type": "markdown",
   "metadata": {},
   "source": [
    "# Отток клиентов банка\n",
    "\n",
    "**Описание проекта**\n",
    "\n",
    "Из «Бета-Банка» стали уходить клиенты. Каждый месяц. Немного, но заметно. Банковские маркетологи посчитали: сохранять текущих клиентов дешевле, чем привлекать новых.\n",
    "\n",
    "Нужно спрогнозировать, уйдёт клиент из банка в ближайшее время или нет. Вам предоставлены исторические данные о поведении клиентов и расторжении договоров с банком. \n",
    "\n",
    "Постройте модель с предельно большим значением F1-меры. Чтобы сдать проект успешно, нужно довести метрику до 0.59. Проверьте F1-меру на тестовой выборке самостоятельно.\n",
    "\n",
    "Дополнительно измеряйте AUC-ROC, сравнивайте её значение с F1-мерой.\n",
    "\n",
    "План работы:\n",
    "\n",
    "1. Загрузите и подготовьте данные.\n",
    "2. Исследуйте баланс классов, обучите модель без учёта дисбаланса.\n",
    "3. Улучшите качество модели, учитывая дисбаланс классов. Обучите разные модели и найдите лучшую.\n",
    "4. Проведите финальное тестирование.\n",
    "\n",
    "**Описание данных**\n",
    "\n",
    "Признаки\n",
    "\n",
    "1. `RowNumber` — индекс строки в данных\n",
    "2. `CustomerId` — уникальный идентификатор клиента\n",
    "3. `Surname` — фамилия\n",
    "4. `CreditScore` — кредитный рейтинг\n",
    "5. `Geography` — страна проживания\n",
    "6. `Gender` — пол\n",
    "7. `Age` — возраст\n",
    "8. `Tenure` — сколько лет человек является клиентом банка\n",
    "9. `Balance` — баланс на счёте\n",
    "10. `NumOfProducts` — количество продуктов банка, используемых клиентом\n",
    "11. `HasCrCard` — наличие кредитной карты\n",
    "12. `IsActiveMember` — активность клиента\n",
    "13. `EstimatedSalary` — предполагаемая зарплата\n",
    "\n",
    "Целевой признак\n",
    "\n",
    "1. `Exited` — факт ухода клиента"
   ]
  },
  {
   "cell_type": "code",
   "execution_count": 1,
   "metadata": {},
   "outputs": [],
   "source": [
    "import pandas as pd\n",
    "import optuna\n",
    "import plotly.express as px\n",
    "\n",
    "from caseconverter import snakecase\n",
    "from ydata_profiling import ProfileReport\n",
    "from IPython.display import display\n",
    "from tqdm import tqdm\n",
    "\n",
    "from fast_ml import eda\n",
    "from fast_ml.model_development import train_valid_test_split\n",
    "\n",
    "from sklearn.preprocessing import StandardScaler\n",
    "from sklearn.utils import shuffle\n",
    "from sklearn.tree import DecisionTreeClassifier\n",
    "from sklearn.linear_model import LogisticRegression\n",
    "from sklearn.ensemble import RandomForestClassifier\n",
    "from sklearn.dummy import DummyClassifier\n",
    "\n",
    "from sklearn.metrics import (\n",
    "    accuracy_score, f1_score, roc_curve, roc_auc_score\n",
    ")"
   ]
  },
  {
   "cell_type": "code",
   "execution_count": 2,
   "metadata": {},
   "outputs": [],
   "source": [
    "FIG_WIDTH = 8\n",
    "FIG_HEIGHT = 5\n",
    "RANDOM_SEED = 42"
   ]
  },
  {
   "cell_type": "code",
   "execution_count": 3,
   "metadata": {},
   "outputs": [],
   "source": [
    "try:\n",
    "    raw_users = pd.read_csv('Churn.csv')\n",
    "except:\n",
    "    raw_users = pd.read_csv('/datasets/Churn.csv')"
   ]
  },
  {
   "attachments": {},
   "cell_type": "markdown",
   "metadata": {},
   "source": [
    "## Исследовательский анализ данных\n",
    "\n",
    "Изучим основные зависимости в данных перед тем, как мы будем использовать их в алгоритмах машинного обучения.\n",
    "\n",
    "Таблица-резюме:"
   ]
  },
  {
   "cell_type": "code",
   "execution_count": 4,
   "metadata": {},
   "outputs": [
    {
     "data": {
      "text/html": [
       "<div>\n",
       "<style scoped>\n",
       "    .dataframe tbody tr th:only-of-type {\n",
       "        vertical-align: middle;\n",
       "    }\n",
       "\n",
       "    .dataframe tbody tr th {\n",
       "        vertical-align: top;\n",
       "    }\n",
       "\n",
       "    .dataframe thead th {\n",
       "        text-align: right;\n",
       "    }\n",
       "</style>\n",
       "<table border=\"1\" class=\"dataframe\">\n",
       "  <thead>\n",
       "    <tr style=\"text-align: right;\">\n",
       "      <th></th>\n",
       "      <th>data_type</th>\n",
       "      <th>data_type_grp</th>\n",
       "      <th>num_unique_values</th>\n",
       "      <th>sample_unique_values</th>\n",
       "      <th>num_missing</th>\n",
       "      <th>perc_missing</th>\n",
       "    </tr>\n",
       "  </thead>\n",
       "  <tbody>\n",
       "    <tr>\n",
       "      <th>RowNumber</th>\n",
       "      <td>int64</td>\n",
       "      <td>Numerical</td>\n",
       "      <td>10000</td>\n",
       "      <td>[1, 2, 3, 4, 5, 6, 7, 8, 9, 10]</td>\n",
       "      <td>0</td>\n",
       "      <td>0.0</td>\n",
       "    </tr>\n",
       "    <tr>\n",
       "      <th>CustomerId</th>\n",
       "      <td>int64</td>\n",
       "      <td>Numerical</td>\n",
       "      <td>10000</td>\n",
       "      <td>[15634602, 15647311, 15619304, 15701354, 15737...</td>\n",
       "      <td>0</td>\n",
       "      <td>0.0</td>\n",
       "    </tr>\n",
       "    <tr>\n",
       "      <th>Surname</th>\n",
       "      <td>object</td>\n",
       "      <td>Categorical</td>\n",
       "      <td>2932</td>\n",
       "      <td>[Hargrave, Hill, Onio, Boni, Mitchell, Chu, Ba...</td>\n",
       "      <td>0</td>\n",
       "      <td>0.0</td>\n",
       "    </tr>\n",
       "    <tr>\n",
       "      <th>CreditScore</th>\n",
       "      <td>int64</td>\n",
       "      <td>Numerical</td>\n",
       "      <td>460</td>\n",
       "      <td>[619, 608, 502, 699, 850, 645, 822, 376, 501, ...</td>\n",
       "      <td>0</td>\n",
       "      <td>0.0</td>\n",
       "    </tr>\n",
       "    <tr>\n",
       "      <th>Geography</th>\n",
       "      <td>object</td>\n",
       "      <td>Categorical</td>\n",
       "      <td>3</td>\n",
       "      <td>[France, Spain, Germany]</td>\n",
       "      <td>0</td>\n",
       "      <td>0.0</td>\n",
       "    </tr>\n",
       "    <tr>\n",
       "      <th>Gender</th>\n",
       "      <td>object</td>\n",
       "      <td>Categorical</td>\n",
       "      <td>2</td>\n",
       "      <td>[Female, Male]</td>\n",
       "      <td>0</td>\n",
       "      <td>0.0</td>\n",
       "    </tr>\n",
       "    <tr>\n",
       "      <th>Age</th>\n",
       "      <td>int64</td>\n",
       "      <td>Numerical</td>\n",
       "      <td>70</td>\n",
       "      <td>[42, 41, 39, 43, 44, 50, 29, 27, 31, 24]</td>\n",
       "      <td>0</td>\n",
       "      <td>0.0</td>\n",
       "    </tr>\n",
       "    <tr>\n",
       "      <th>Tenure</th>\n",
       "      <td>float64</td>\n",
       "      <td>Numerical</td>\n",
       "      <td>11</td>\n",
       "      <td>[2.0, 1.0, 8.0, 7.0, 4.0, 6.0, 3.0, 10.0, 5.0,...</td>\n",
       "      <td>909</td>\n",
       "      <td>9.09</td>\n",
       "    </tr>\n",
       "    <tr>\n",
       "      <th>Balance</th>\n",
       "      <td>float64</td>\n",
       "      <td>Numerical</td>\n",
       "      <td>6382</td>\n",
       "      <td>[0.0, 83807.86, 159660.8, 125510.82, 113755.78...</td>\n",
       "      <td>0</td>\n",
       "      <td>0.0</td>\n",
       "    </tr>\n",
       "    <tr>\n",
       "      <th>NumOfProducts</th>\n",
       "      <td>int64</td>\n",
       "      <td>Numerical</td>\n",
       "      <td>4</td>\n",
       "      <td>[1, 3, 2, 4]</td>\n",
       "      <td>0</td>\n",
       "      <td>0.0</td>\n",
       "    </tr>\n",
       "    <tr>\n",
       "      <th>HasCrCard</th>\n",
       "      <td>int64</td>\n",
       "      <td>Numerical</td>\n",
       "      <td>2</td>\n",
       "      <td>[1, 0]</td>\n",
       "      <td>0</td>\n",
       "      <td>0.0</td>\n",
       "    </tr>\n",
       "    <tr>\n",
       "      <th>IsActiveMember</th>\n",
       "      <td>int64</td>\n",
       "      <td>Numerical</td>\n",
       "      <td>2</td>\n",
       "      <td>[1, 0]</td>\n",
       "      <td>0</td>\n",
       "      <td>0.0</td>\n",
       "    </tr>\n",
       "    <tr>\n",
       "      <th>EstimatedSalary</th>\n",
       "      <td>float64</td>\n",
       "      <td>Numerical</td>\n",
       "      <td>9999</td>\n",
       "      <td>[101348.88, 112542.58, 113931.57, 93826.63, 79...</td>\n",
       "      <td>0</td>\n",
       "      <td>0.0</td>\n",
       "    </tr>\n",
       "    <tr>\n",
       "      <th>Exited</th>\n",
       "      <td>int64</td>\n",
       "      <td>Numerical</td>\n",
       "      <td>2</td>\n",
       "      <td>[1, 0]</td>\n",
       "      <td>0</td>\n",
       "      <td>0.0</td>\n",
       "    </tr>\n",
       "  </tbody>\n",
       "</table>\n",
       "</div>"
      ],
      "text/plain": [
       "                data_type data_type_grp num_unique_values  \\\n",
       "RowNumber           int64     Numerical             10000   \n",
       "CustomerId          int64     Numerical             10000   \n",
       "Surname            object   Categorical              2932   \n",
       "CreditScore         int64     Numerical               460   \n",
       "Geography          object   Categorical                 3   \n",
       "Gender             object   Categorical                 2   \n",
       "Age                 int64     Numerical                70   \n",
       "Tenure            float64     Numerical                11   \n",
       "Balance           float64     Numerical              6382   \n",
       "NumOfProducts       int64     Numerical                 4   \n",
       "HasCrCard           int64     Numerical                 2   \n",
       "IsActiveMember      int64     Numerical                 2   \n",
       "EstimatedSalary   float64     Numerical              9999   \n",
       "Exited              int64     Numerical                 2   \n",
       "\n",
       "                                              sample_unique_values  \\\n",
       "RowNumber                          [1, 2, 3, 4, 5, 6, 7, 8, 9, 10]   \n",
       "CustomerId       [15634602, 15647311, 15619304, 15701354, 15737...   \n",
       "Surname          [Hargrave, Hill, Onio, Boni, Mitchell, Chu, Ba...   \n",
       "CreditScore      [619, 608, 502, 699, 850, 645, 822, 376, 501, ...   \n",
       "Geography                                 [France, Spain, Germany]   \n",
       "Gender                                              [Female, Male]   \n",
       "Age                       [42, 41, 39, 43, 44, 50, 29, 27, 31, 24]   \n",
       "Tenure           [2.0, 1.0, 8.0, 7.0, 4.0, 6.0, 3.0, 10.0, 5.0,...   \n",
       "Balance          [0.0, 83807.86, 159660.8, 125510.82, 113755.78...   \n",
       "NumOfProducts                                         [1, 3, 2, 4]   \n",
       "HasCrCard                                                   [1, 0]   \n",
       "IsActiveMember                                              [1, 0]   \n",
       "EstimatedSalary  [101348.88, 112542.58, 113931.57, 93826.63, 79...   \n",
       "Exited                                                      [1, 0]   \n",
       "\n",
       "                num_missing perc_missing  \n",
       "RowNumber                 0          0.0  \n",
       "CustomerId                0          0.0  \n",
       "Surname                   0          0.0  \n",
       "CreditScore               0          0.0  \n",
       "Geography                 0          0.0  \n",
       "Gender                    0          0.0  \n",
       "Age                       0          0.0  \n",
       "Tenure                  909         9.09  \n",
       "Balance                   0          0.0  \n",
       "NumOfProducts             0          0.0  \n",
       "HasCrCard                 0          0.0  \n",
       "IsActiveMember            0          0.0  \n",
       "EstimatedSalary           0          0.0  \n",
       "Exited                    0          0.0  "
      ]
     },
     "metadata": {},
     "output_type": "display_data"
    }
   ],
   "source": [
    "display(eda.df_info(raw_users))"
   ]
  },
  {
   "attachments": {},
   "cell_type": "markdown",
   "metadata": {},
   "source": [
    "Числовые распределения:"
   ]
  },
  {
   "cell_type": "code",
   "execution_count": 5,
   "metadata": {},
   "outputs": [
    {
     "data": {
      "text/html": [
       "<div>\n",
       "<style scoped>\n",
       "    .dataframe tbody tr th:only-of-type {\n",
       "        vertical-align: middle;\n",
       "    }\n",
       "\n",
       "    .dataframe tbody tr th {\n",
       "        vertical-align: top;\n",
       "    }\n",
       "\n",
       "    .dataframe thead th {\n",
       "        text-align: right;\n",
       "    }\n",
       "</style>\n",
       "<table border=\"1\" class=\"dataframe\">\n",
       "  <thead>\n",
       "    <tr style=\"text-align: right;\">\n",
       "      <th></th>\n",
       "      <th>count</th>\n",
       "      <th>mean</th>\n",
       "      <th>std</th>\n",
       "      <th>min</th>\n",
       "      <th>25%</th>\n",
       "      <th>50%</th>\n",
       "      <th>75%</th>\n",
       "      <th>max</th>\n",
       "    </tr>\n",
       "  </thead>\n",
       "  <tbody>\n",
       "    <tr>\n",
       "      <th>RowNumber</th>\n",
       "      <td>10000.0</td>\n",
       "      <td>5000.50</td>\n",
       "      <td>2886.90</td>\n",
       "      <td>1.00</td>\n",
       "      <td>2500.75</td>\n",
       "      <td>5000.50</td>\n",
       "      <td>7500.25</td>\n",
       "      <td>10000.00</td>\n",
       "    </tr>\n",
       "    <tr>\n",
       "      <th>CustomerId</th>\n",
       "      <td>10000.0</td>\n",
       "      <td>15690940.57</td>\n",
       "      <td>71936.19</td>\n",
       "      <td>15565701.00</td>\n",
       "      <td>15628528.25</td>\n",
       "      <td>15690738.00</td>\n",
       "      <td>15753233.75</td>\n",
       "      <td>15815690.00</td>\n",
       "    </tr>\n",
       "    <tr>\n",
       "      <th>CreditScore</th>\n",
       "      <td>10000.0</td>\n",
       "      <td>650.53</td>\n",
       "      <td>96.65</td>\n",
       "      <td>350.00</td>\n",
       "      <td>584.00</td>\n",
       "      <td>652.00</td>\n",
       "      <td>718.00</td>\n",
       "      <td>850.00</td>\n",
       "    </tr>\n",
       "    <tr>\n",
       "      <th>Age</th>\n",
       "      <td>10000.0</td>\n",
       "      <td>38.92</td>\n",
       "      <td>10.49</td>\n",
       "      <td>18.00</td>\n",
       "      <td>32.00</td>\n",
       "      <td>37.00</td>\n",
       "      <td>44.00</td>\n",
       "      <td>92.00</td>\n",
       "    </tr>\n",
       "    <tr>\n",
       "      <th>Tenure</th>\n",
       "      <td>9091.0</td>\n",
       "      <td>5.00</td>\n",
       "      <td>2.89</td>\n",
       "      <td>0.00</td>\n",
       "      <td>2.00</td>\n",
       "      <td>5.00</td>\n",
       "      <td>7.00</td>\n",
       "      <td>10.00</td>\n",
       "    </tr>\n",
       "    <tr>\n",
       "      <th>Balance</th>\n",
       "      <td>10000.0</td>\n",
       "      <td>76485.89</td>\n",
       "      <td>62397.41</td>\n",
       "      <td>0.00</td>\n",
       "      <td>0.00</td>\n",
       "      <td>97198.54</td>\n",
       "      <td>127644.24</td>\n",
       "      <td>250898.09</td>\n",
       "    </tr>\n",
       "    <tr>\n",
       "      <th>NumOfProducts</th>\n",
       "      <td>10000.0</td>\n",
       "      <td>1.53</td>\n",
       "      <td>0.58</td>\n",
       "      <td>1.00</td>\n",
       "      <td>1.00</td>\n",
       "      <td>1.00</td>\n",
       "      <td>2.00</td>\n",
       "      <td>4.00</td>\n",
       "    </tr>\n",
       "    <tr>\n",
       "      <th>HasCrCard</th>\n",
       "      <td>10000.0</td>\n",
       "      <td>0.71</td>\n",
       "      <td>0.46</td>\n",
       "      <td>0.00</td>\n",
       "      <td>0.00</td>\n",
       "      <td>1.00</td>\n",
       "      <td>1.00</td>\n",
       "      <td>1.00</td>\n",
       "    </tr>\n",
       "    <tr>\n",
       "      <th>IsActiveMember</th>\n",
       "      <td>10000.0</td>\n",
       "      <td>0.52</td>\n",
       "      <td>0.50</td>\n",
       "      <td>0.00</td>\n",
       "      <td>0.00</td>\n",
       "      <td>1.00</td>\n",
       "      <td>1.00</td>\n",
       "      <td>1.00</td>\n",
       "    </tr>\n",
       "    <tr>\n",
       "      <th>EstimatedSalary</th>\n",
       "      <td>10000.0</td>\n",
       "      <td>100090.24</td>\n",
       "      <td>57510.49</td>\n",
       "      <td>11.58</td>\n",
       "      <td>51002.11</td>\n",
       "      <td>100193.92</td>\n",
       "      <td>149388.25</td>\n",
       "      <td>199992.48</td>\n",
       "    </tr>\n",
       "    <tr>\n",
       "      <th>Exited</th>\n",
       "      <td>10000.0</td>\n",
       "      <td>0.20</td>\n",
       "      <td>0.40</td>\n",
       "      <td>0.00</td>\n",
       "      <td>0.00</td>\n",
       "      <td>0.00</td>\n",
       "      <td>0.00</td>\n",
       "      <td>1.00</td>\n",
       "    </tr>\n",
       "  </tbody>\n",
       "</table>\n",
       "</div>"
      ],
      "text/plain": [
       "                   count         mean       std          min          25%  \\\n",
       "RowNumber        10000.0      5000.50   2886.90         1.00      2500.75   \n",
       "CustomerId       10000.0  15690940.57  71936.19  15565701.00  15628528.25   \n",
       "CreditScore      10000.0       650.53     96.65       350.00       584.00   \n",
       "Age              10000.0        38.92     10.49        18.00        32.00   \n",
       "Tenure            9091.0         5.00      2.89         0.00         2.00   \n",
       "Balance          10000.0     76485.89  62397.41         0.00         0.00   \n",
       "NumOfProducts    10000.0         1.53      0.58         1.00         1.00   \n",
       "HasCrCard        10000.0         0.71      0.46         0.00         0.00   \n",
       "IsActiveMember   10000.0         0.52      0.50         0.00         0.00   \n",
       "EstimatedSalary  10000.0    100090.24  57510.49        11.58     51002.11   \n",
       "Exited           10000.0         0.20      0.40         0.00         0.00   \n",
       "\n",
       "                         50%          75%          max  \n",
       "RowNumber            5000.50      7500.25     10000.00  \n",
       "CustomerId       15690738.00  15753233.75  15815690.00  \n",
       "CreditScore           652.00       718.00       850.00  \n",
       "Age                    37.00        44.00        92.00  \n",
       "Tenure                  5.00         7.00        10.00  \n",
       "Balance             97198.54    127644.24    250898.09  \n",
       "NumOfProducts           1.00         2.00         4.00  \n",
       "HasCrCard               1.00         1.00         1.00  \n",
       "IsActiveMember          1.00         1.00         1.00  \n",
       "EstimatedSalary    100193.92    149388.25    199992.48  \n",
       "Exited                  0.00         0.00         1.00  "
      ]
     },
     "metadata": {},
     "output_type": "display_data"
    }
   ],
   "source": [
    "display(round(raw_users.describe().T, 2))"
   ]
  },
  {
   "attachments": {},
   "cell_type": "markdown",
   "metadata": {},
   "source": [
    "И детальный отчет:"
   ]
  },
  {
   "cell_type": "code",
   "execution_count": 6,
   "metadata": {},
   "outputs": [
    {
     "name": "stderr",
     "output_type": "stream",
     "text": [
      "Summarize dataset: 100%|██████████| 72/72 [00:05<00:00, 13.87it/s, Completed]                               \n",
      "Generate report structure: 100%|██████████| 1/1 [00:02<00:00,  2.76s/it]\n",
      "Render widgets:   0%|          | 0/1 [00:00<?, ?it/s]"
     ]
    },
    {
     "name": "stderr",
     "output_type": "stream",
     "text": [
      "                                                             \r"
     ]
    },
    {
     "data": {
      "application/vnd.jupyter.widget-view+json": {
       "model_id": "117cafd62ae44c0ca09a1e03e4d563af",
       "version_major": 2,
       "version_minor": 0
      },
      "text/plain": [
       "VBox(children=(Tab(children=(Tab(children=(GridBox(children=(VBox(children=(GridspecLayout(children=(HTML(valu…"
      ]
     },
     "metadata": {},
     "output_type": "display_data"
    }
   ],
   "source": [
    "ProfileReport(raw_users).to_widgets()"
   ]
  },
  {
   "attachments": {},
   "cell_type": "markdown",
   "metadata": {},
   "source": [
    "Вот три ключевых наблюдения из предварительного анализа набора данных:\n",
    "\n",
    "1. **Демографические данные клиентов**: Набор данных содержит информацию о 10 000 клиентах с различными характеристиками. Средний возраст клиентов составляет 39 лет, с разбросом от 18 до 92 лет. В наборе данных представлены клиенты из трех стран: Франции, Испании и Германии. Кроме того, присутствует почти равномерное распределение мужчин и женщин.\n",
    "\n",
    "2. **Финансовые показатели**: Набор данных включает финансовые метрики, такие как кредитные баллы, балансы счетов, количество продуктов и зарплаты. Средний кредитный балл составляет 651, что указывает на относительно хорошую кредитоспособность. Средний баланс счета составляет 76К долларов, с широким диапазоном значений. Клиенты имеют в среднем 1,53 продукта в банке, а зарплаты варьируются от 11 до 200К долларов.\n",
    "\n",
    "3. **Отток и вовлеченность**: Около 20% клиентов в наборе данных покинули или прекратили использовать услуги банка. Приблизительно 52% клиентов являются активными участниками, что указывает на умеренный уровень вовлеченности. Средняя продолжительность работы с клиентом составляет 5 лет, хотя в этой колонке есть пропущенных значений для некоторых записей."
   ]
  },
  {
   "attachments": {},
   "cell_type": "markdown",
   "metadata": {},
   "source": [
    "# Подготовка данных для ML\n",
    "\n",
    "Выполним преобразования:\n",
    "\n",
    "1. Названия колонок приведем `snake_case` регистру.\n",
    "2. Уберем колонки, которые не нужны для моделей: `RowNumber`, `CustomerId`, `Surname`.\n",
    "3. Проведем кодирование категориальных признаков.\n",
    "\n",
    "Затем начнем выбор моделей машинного обучения."
   ]
  },
  {
   "cell_type": "code",
   "execution_count": 7,
   "metadata": {},
   "outputs": [
    {
     "data": {
      "text/html": [
       "<div>\n",
       "<style scoped>\n",
       "    .dataframe tbody tr th:only-of-type {\n",
       "        vertical-align: middle;\n",
       "    }\n",
       "\n",
       "    .dataframe tbody tr th {\n",
       "        vertical-align: top;\n",
       "    }\n",
       "\n",
       "    .dataframe thead th {\n",
       "        text-align: right;\n",
       "    }\n",
       "</style>\n",
       "<table border=\"1\" class=\"dataframe\">\n",
       "  <thead>\n",
       "    <tr style=\"text-align: right;\">\n",
       "      <th></th>\n",
       "      <th>credit_score</th>\n",
       "      <th>gender</th>\n",
       "      <th>age</th>\n",
       "      <th>tenure</th>\n",
       "      <th>balance</th>\n",
       "      <th>num_of_products</th>\n",
       "      <th>has_cr_card</th>\n",
       "      <th>is_active_member</th>\n",
       "      <th>estimated_salary</th>\n",
       "      <th>exited</th>\n",
       "      <th>geography_germany</th>\n",
       "      <th>geography_spain</th>\n",
       "    </tr>\n",
       "  </thead>\n",
       "  <tbody>\n",
       "    <tr>\n",
       "      <th>0</th>\n",
       "      <td>619</td>\n",
       "      <td>0</td>\n",
       "      <td>42</td>\n",
       "      <td>2.0</td>\n",
       "      <td>0.00</td>\n",
       "      <td>1</td>\n",
       "      <td>1</td>\n",
       "      <td>1</td>\n",
       "      <td>101348.88</td>\n",
       "      <td>1</td>\n",
       "      <td>0</td>\n",
       "      <td>0</td>\n",
       "    </tr>\n",
       "    <tr>\n",
       "      <th>1</th>\n",
       "      <td>608</td>\n",
       "      <td>0</td>\n",
       "      <td>41</td>\n",
       "      <td>1.0</td>\n",
       "      <td>83807.86</td>\n",
       "      <td>1</td>\n",
       "      <td>0</td>\n",
       "      <td>1</td>\n",
       "      <td>112542.58</td>\n",
       "      <td>0</td>\n",
       "      <td>0</td>\n",
       "      <td>1</td>\n",
       "    </tr>\n",
       "    <tr>\n",
       "      <th>2</th>\n",
       "      <td>502</td>\n",
       "      <td>0</td>\n",
       "      <td>42</td>\n",
       "      <td>8.0</td>\n",
       "      <td>159660.80</td>\n",
       "      <td>3</td>\n",
       "      <td>1</td>\n",
       "      <td>0</td>\n",
       "      <td>113931.57</td>\n",
       "      <td>1</td>\n",
       "      <td>0</td>\n",
       "      <td>0</td>\n",
       "    </tr>\n",
       "    <tr>\n",
       "      <th>3</th>\n",
       "      <td>699</td>\n",
       "      <td>0</td>\n",
       "      <td>39</td>\n",
       "      <td>1.0</td>\n",
       "      <td>0.00</td>\n",
       "      <td>2</td>\n",
       "      <td>0</td>\n",
       "      <td>0</td>\n",
       "      <td>93826.63</td>\n",
       "      <td>0</td>\n",
       "      <td>0</td>\n",
       "      <td>0</td>\n",
       "    </tr>\n",
       "    <tr>\n",
       "      <th>4</th>\n",
       "      <td>850</td>\n",
       "      <td>0</td>\n",
       "      <td>43</td>\n",
       "      <td>2.0</td>\n",
       "      <td>125510.82</td>\n",
       "      <td>1</td>\n",
       "      <td>1</td>\n",
       "      <td>1</td>\n",
       "      <td>79084.10</td>\n",
       "      <td>0</td>\n",
       "      <td>0</td>\n",
       "      <td>1</td>\n",
       "    </tr>\n",
       "  </tbody>\n",
       "</table>\n",
       "</div>"
      ],
      "text/plain": [
       "   credit_score  gender  age  tenure    balance  num_of_products  has_cr_card  \\\n",
       "0           619       0   42     2.0       0.00                1            1   \n",
       "1           608       0   41     1.0   83807.86                1            0   \n",
       "2           502       0   42     8.0  159660.80                3            1   \n",
       "3           699       0   39     1.0       0.00                2            0   \n",
       "4           850       0   43     2.0  125510.82                1            1   \n",
       "\n",
       "   is_active_member  estimated_salary  exited  geography_germany  \\\n",
       "0                 1         101348.88       1                  0   \n",
       "1                 1         112542.58       0                  0   \n",
       "2                 0         113931.57       1                  0   \n",
       "3                 0          93826.63       0                  0   \n",
       "4                 1          79084.10       0                  0   \n",
       "\n",
       "   geography_spain  \n",
       "0                0  \n",
       "1                1  \n",
       "2                0  \n",
       "3                0  \n",
       "4                1  "
      ]
     },
     "metadata": {},
     "output_type": "display_data"
    }
   ],
   "source": [
    "df_users = (\n",
    "    raw_users\n",
    "    .copy()\n",
    "    .drop(['RowNumber', 'CustomerId', 'Surname'], axis=1)\n",
    "    .replace({'Male': 1, 'Female': 0})\n",
    "    .pipe(lambda df: pd.get_dummies(df, drop_first=True))\n",
    "    .rename(columns=lambda column: snakecase(column))\n",
    ")\n",
    "\n",
    "display(df_users.head())"
   ]
  },
  {
   "attachments": {},
   "cell_type": "markdown",
   "metadata": {},
   "source": [
    "# Машинное обучение\n",
    "\n",
    "Сначала давайте выделим признаки и целевые переменные, а затем разделим основной набор данных на три части: одну для обучения, другую для валидации и последнюю для тестирования."
   ]
  },
  {
   "cell_type": "code",
   "execution_count": 8,
   "metadata": {},
   "outputs": [
    {
     "name": "stdout",
     "output_type": "stream",
     "text": [
      "Sample size train: features (7000, 11) & target (7000,)\n",
      "Sample size valid: features (1500, 11) & target (1500,)\n",
      "Sample size test: features (1500, 11) & target (1500,)\n"
     ]
    }
   ],
   "source": [
    "ftr_train, tgt_train, ftr_valid, tgt_valid, ftr_test, tgt_test = train_valid_test_split(\n",
    "    df_users, 'exited', train_size=0.7, valid_size=0.15, test_size=0.15, random_state=RANDOM_SEED\n",
    ")\n",
    "\n",
    "for sample, features, target in zip(['train', 'valid', 'test'], [ftr_train, ftr_valid, ftr_test], [tgt_train, tgt_valid, tgt_test]):\n",
    "    print(f'Sample size {sample}: features {features.shape} & target {target.shape}')"
   ]
  }
 ],
 "metadata": {
  "ExecuteTimeLog": [
   {
    "duration": 1605,
    "start_time": "2023-05-21T19:46:45.978Z"
   },
   {
    "duration": 35,
    "start_time": "2023-05-21T19:46:52.071Z"
   },
   {
    "duration": 836,
    "start_time": "2023-05-21T19:46:54.792Z"
   },
   {
    "duration": 168,
    "start_time": "2023-05-21T19:48:12.739Z"
   },
   {
    "duration": 73,
    "start_time": "2023-05-21T19:48:16.311Z"
   },
   {
    "duration": 24,
    "start_time": "2023-05-21T19:48:16.386Z"
   },
   {
    "duration": 360,
    "start_time": "2023-05-21T19:48:16.412Z"
   },
   {
    "duration": 6,
    "start_time": "2023-05-21T19:48:16.774Z"
   },
   {
    "duration": 321,
    "start_time": "2023-05-21T19:48:16.781Z"
   },
   {
    "duration": 64,
    "start_time": "2023-05-21T19:48:17.103Z"
   },
   {
    "duration": 12362,
    "start_time": "2023-05-21T19:48:22.972Z"
   },
   {
    "duration": 108,
    "start_time": "2023-05-21T19:48:35.337Z"
   },
   {
    "duration": 1385,
    "start_time": "2023-05-22T18:16:08.557Z"
   },
   {
    "duration": 37,
    "start_time": "2023-05-22T18:16:09.944Z"
   },
   {
    "duration": 865,
    "start_time": "2023-05-22T18:16:09.983Z"
   },
   {
    "duration": 9,
    "start_time": "2023-05-22T18:16:10.849Z"
   },
   {
    "duration": 119,
    "start_time": "2023-05-22T18:16:10.860Z"
   },
   {
    "duration": 0,
    "start_time": "2023-05-22T18:16:10.982Z"
   },
   {
    "duration": 0,
    "start_time": "2023-05-22T18:16:10.984Z"
   },
   {
    "duration": 0,
    "start_time": "2023-05-22T18:16:10.986Z"
   },
   {
    "duration": 0,
    "start_time": "2023-05-22T18:16:10.989Z"
   },
   {
    "duration": 0,
    "start_time": "2023-05-22T18:16:10.990Z"
   },
   {
    "duration": 0,
    "start_time": "2023-05-22T18:16:10.991Z"
   },
   {
    "duration": 0,
    "start_time": "2023-05-22T18:16:10.993Z"
   },
   {
    "duration": 2493,
    "start_time": "2023-05-22T18:16:36.511Z"
   },
   {
    "duration": 2398,
    "start_time": "2023-05-22T18:16:49.695Z"
   },
   {
    "duration": 9,
    "start_time": "2023-05-22T18:18:55.751Z"
   },
   {
    "duration": 9,
    "start_time": "2023-05-22T18:19:30.158Z"
   },
   {
    "duration": 11,
    "start_time": "2023-05-22T18:20:12.910Z"
   },
   {
    "duration": 9,
    "start_time": "2023-05-22T18:20:21.983Z"
   },
   {
    "duration": 77,
    "start_time": "2023-05-22T18:20:32.174Z"
   },
   {
    "duration": 87,
    "start_time": "2023-05-22T18:20:35.022Z"
   },
   {
    "duration": 10,
    "start_time": "2023-05-22T18:20:41.677Z"
   },
   {
    "duration": 11,
    "start_time": "2023-05-22T18:21:11.639Z"
   },
   {
    "duration": 9,
    "start_time": "2023-05-22T18:21:20.782Z"
   },
   {
    "duration": 8,
    "start_time": "2023-05-22T18:23:28.845Z"
   },
   {
    "duration": 13,
    "start_time": "2023-05-22T18:23:42.013Z"
   },
   {
    "duration": 10,
    "start_time": "2023-05-22T18:25:45.151Z"
   },
   {
    "duration": 33,
    "start_time": "2023-05-22T18:29:58.816Z"
   },
   {
    "duration": 45,
    "start_time": "2023-05-22T18:30:04.874Z"
   },
   {
    "duration": 9,
    "start_time": "2023-05-22T18:30:19.373Z"
   },
   {
    "duration": 29,
    "start_time": "2023-05-22T18:30:24.428Z"
   },
   {
    "duration": 9,
    "start_time": "2023-05-22T18:30:28.442Z"
   },
   {
    "duration": 70,
    "start_time": "2023-05-22T18:30:47.915Z"
   },
   {
    "duration": 9,
    "start_time": "2023-05-22T18:30:50.837Z"
   },
   {
    "duration": 11,
    "start_time": "2023-05-22T18:30:54.031Z"
   },
   {
    "duration": 12,
    "start_time": "2023-05-22T18:31:03.340Z"
   },
   {
    "duration": 9,
    "start_time": "2023-05-22T18:31:06.987Z"
   },
   {
    "duration": 9,
    "start_time": "2023-05-22T18:31:08.197Z"
   },
   {
    "duration": 26,
    "start_time": "2023-05-22T18:31:09.340Z"
   },
   {
    "duration": 179,
    "start_time": "2023-05-22T18:31:26.445Z"
   },
   {
    "duration": 1293,
    "start_time": "2023-05-22T18:31:50.893Z"
   },
   {
    "duration": 17,
    "start_time": "2023-05-22T18:31:52.188Z"
   },
   {
    "duration": 25,
    "start_time": "2023-05-22T18:31:52.207Z"
   },
   {
    "duration": 27,
    "start_time": "2023-05-22T18:31:52.234Z"
   },
   {
    "duration": 773,
    "start_time": "2023-05-22T18:31:52.263Z"
   },
   {
    "duration": 9,
    "start_time": "2023-05-22T18:31:53.037Z"
   },
   {
    "duration": 2404,
    "start_time": "2023-05-22T18:31:53.048Z"
   },
   {
    "duration": 184,
    "start_time": "2023-05-22T18:31:55.453Z"
   },
   {
    "duration": 0,
    "start_time": "2023-05-22T18:31:55.638Z"
   },
   {
    "duration": 0,
    "start_time": "2023-05-22T18:31:55.640Z"
   },
   {
    "duration": 0,
    "start_time": "2023-05-22T18:31:55.640Z"
   },
   {
    "duration": 0,
    "start_time": "2023-05-22T18:31:55.642Z"
   },
   {
    "duration": 0,
    "start_time": "2023-05-22T18:31:55.643Z"
   },
   {
    "duration": 0,
    "start_time": "2023-05-22T18:31:55.644Z"
   },
   {
    "duration": 13,
    "start_time": "2023-05-22T18:34:11.456Z"
   },
   {
    "duration": 25,
    "start_time": "2023-05-22T18:34:14.034Z"
   },
   {
    "duration": 2245,
    "start_time": "2023-05-22T18:34:26.018Z"
   },
   {
    "duration": 638,
    "start_time": "2023-05-22T18:34:37.931Z"
   },
   {
    "duration": 628,
    "start_time": "2023-05-22T18:34:58.575Z"
   },
   {
    "duration": 46,
    "start_time": "2023-05-22T18:35:11.934Z"
   },
   {
    "duration": 2240,
    "start_time": "2023-05-22T18:35:58.893Z"
   },
   {
    "duration": 46,
    "start_time": "2023-05-22T18:36:10.737Z"
   },
   {
    "duration": 35006,
    "start_time": "2023-05-22T18:43:11.984Z"
   },
   {
    "duration": 72,
    "start_time": "2023-05-22T18:44:58.325Z"
   },
   {
    "duration": 60,
    "start_time": "2023-05-22T18:45:29.078Z"
   },
   {
    "duration": 110,
    "start_time": "2023-05-22T18:46:32.716Z"
   },
   {
    "duration": 17,
    "start_time": "2023-05-22T18:48:06.773Z"
   },
   {
    "duration": 29,
    "start_time": "2023-05-22T18:48:19.134Z"
   },
   {
    "duration": 1344,
    "start_time": "2023-05-22T18:48:49.944Z"
   },
   {
    "duration": 22,
    "start_time": "2023-05-22T18:48:51.291Z"
   },
   {
    "duration": 16,
    "start_time": "2023-05-22T18:48:51.315Z"
   },
   {
    "duration": 26,
    "start_time": "2023-05-22T18:48:51.333Z"
   },
   {
    "duration": 711,
    "start_time": "2023-05-22T18:48:51.362Z"
   },
   {
    "duration": 9,
    "start_time": "2023-05-22T18:48:52.074Z"
   },
   {
    "duration": 2355,
    "start_time": "2023-05-22T18:48:52.085Z"
   },
   {
    "duration": 46,
    "start_time": "2023-05-22T18:48:54.442Z"
   },
   {
    "duration": 200,
    "start_time": "2023-05-22T18:48:54.489Z"
   },
   {
    "duration": 0,
    "start_time": "2023-05-22T18:48:54.691Z"
   },
   {
    "duration": 0,
    "start_time": "2023-05-22T18:48:54.693Z"
   },
   {
    "duration": 0,
    "start_time": "2023-05-22T18:48:54.694Z"
   },
   {
    "duration": 0,
    "start_time": "2023-05-22T18:48:54.695Z"
   },
   {
    "duration": 0,
    "start_time": "2023-05-22T18:48:54.696Z"
   },
   {
    "duration": 35180,
    "start_time": "2023-05-22T18:49:14.678Z"
   },
   {
    "duration": 29,
    "start_time": "2023-05-22T18:51:33.684Z"
   },
   {
    "duration": 36161,
    "start_time": "2023-05-22T18:59:42.601Z"
   },
   {
    "duration": 29,
    "start_time": "2023-05-22T19:00:25.095Z"
   },
   {
    "duration": 1322,
    "start_time": "2023-05-22T19:00:47.296Z"
   },
   {
    "duration": 1470,
    "start_time": "2023-05-22T19:01:46.489Z"
   },
   {
    "duration": 25,
    "start_time": "2023-05-22T19:02:02.352Z"
   },
   {
    "duration": 25,
    "start_time": "2023-05-22T19:02:11.960Z"
   },
   {
    "duration": 1220,
    "start_time": "2023-05-22T19:02:35.260Z"
   },
   {
    "duration": 6,
    "start_time": "2023-05-22T19:02:45.317Z"
   },
   {
    "duration": 13,
    "start_time": "2023-05-22T19:02:50.617Z"
   },
   {
    "duration": 13,
    "start_time": "2023-05-22T19:02:53.456Z"
   },
   {
    "duration": 30,
    "start_time": "2023-05-22T19:02:57.872Z"
   },
   {
    "duration": 1464,
    "start_time": "2023-05-22T19:03:02.297Z"
   },
   {
    "duration": 14,
    "start_time": "2023-05-22T19:03:10.960Z"
   },
   {
    "duration": 17,
    "start_time": "2023-05-22T19:03:28.776Z"
   },
   {
    "duration": 22,
    "start_time": "2023-05-22T19:03:33.560Z"
   },
   {
    "duration": 118,
    "start_time": "2023-05-22T19:03:46.106Z"
   },
   {
    "duration": 194,
    "start_time": "2023-05-22T19:05:43.456Z"
   },
   {
    "duration": 223,
    "start_time": "2023-05-22T19:06:06.752Z"
   },
   {
    "duration": 4,
    "start_time": "2023-05-22T19:06:09.856Z"
   },
   {
    "duration": 13,
    "start_time": "2023-05-22T19:08:23.155Z"
   },
   {
    "duration": 48,
    "start_time": "2023-05-22T19:08:27.164Z"
   },
   {
    "duration": 206,
    "start_time": "2023-05-22T19:08:48.168Z"
   },
   {
    "duration": 21,
    "start_time": "2023-05-22T19:08:51.352Z"
   },
   {
    "duration": 50,
    "start_time": "2023-05-22T19:09:09.387Z"
   },
   {
    "duration": 79,
    "start_time": "2023-05-22T19:11:42.417Z"
   },
   {
    "duration": 42,
    "start_time": "2023-05-22T19:11:44.002Z"
   },
   {
    "duration": 98,
    "start_time": "2023-05-22T19:11:52.163Z"
   },
   {
    "duration": 42,
    "start_time": "2023-05-22T19:11:53.777Z"
   },
   {
    "duration": 122,
    "start_time": "2023-05-22T19:12:02.124Z"
   },
   {
    "duration": 43,
    "start_time": "2023-05-22T19:12:03.660Z"
   },
   {
    "duration": 134,
    "start_time": "2023-05-22T19:12:12.560Z"
   },
   {
    "duration": 49,
    "start_time": "2023-05-22T19:12:13.873Z"
   },
   {
    "duration": 155,
    "start_time": "2023-05-22T19:12:23.064Z"
   },
   {
    "duration": 48,
    "start_time": "2023-05-22T19:12:25.472Z"
   },
   {
    "duration": 204,
    "start_time": "2023-05-22T19:12:41.581Z"
   },
   {
    "duration": 55,
    "start_time": "2023-05-22T19:12:43.242Z"
   },
   {
    "duration": 2488,
    "start_time": "2023-05-22T19:12:51.360Z"
   },
   {
    "duration": 41,
    "start_time": "2023-05-22T19:12:54.281Z"
   },
   {
    "duration": 12,
    "start_time": "2023-05-22T19:13:13.504Z"
   },
   {
    "duration": 131,
    "start_time": "2023-05-22T19:13:36.504Z"
   },
   {
    "duration": 46,
    "start_time": "2023-05-22T19:13:38.017Z"
   },
   {
    "duration": 15,
    "start_time": "2023-05-22T19:14:18.176Z"
   },
   {
    "duration": 6,
    "start_time": "2023-05-22T19:14:23.481Z"
   },
   {
    "duration": 12,
    "start_time": "2023-05-22T19:14:25.159Z"
   },
   {
    "duration": 22,
    "start_time": "2023-05-22T19:14:26.767Z"
   },
   {
    "duration": 68,
    "start_time": "2023-05-22T19:14:31.816Z"
   },
   {
    "duration": 49,
    "start_time": "2023-05-22T19:14:40.818Z"
   }
  ],
  "kernelspec": {
   "display_name": "Python 3 (ipykernel)",
   "language": "python",
   "name": "python3"
  },
  "language_info": {
   "codemirror_mode": {
    "name": "ipython",
    "version": 3
   },
   "file_extension": ".py",
   "mimetype": "text/x-python",
   "name": "python",
   "nbconvert_exporter": "python",
   "pygments_lexer": "ipython3",
   "version": "3.9.7"
  },
  "toc": {
   "base_numbering": 1,
   "nav_menu": {},
   "number_sections": true,
   "sideBar": true,
   "skip_h1_title": true,
   "title_cell": "Table of Contents",
   "title_sidebar": "Contents",
   "toc_cell": false,
   "toc_position": {},
   "toc_section_display": true,
   "toc_window_display": false
  },
  "vscode": {
   "interpreter": {
    "hash": "95633e14b7ea774968f538ab8687a60d358136f4a990a7903a22cc539dc1dcdb"
   }
  }
 },
 "nbformat": 4,
 "nbformat_minor": 2
}
