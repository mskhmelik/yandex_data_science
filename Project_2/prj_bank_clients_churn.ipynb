{
 "cells": [
  {
   "attachments": {},
   "cell_type": "markdown",
   "metadata": {},
   "source": [
    "# Отток клиентов банка\n",
    "\n",
    "**Описание проекта**\n",
    "\n",
    "Из «Бета-Банка» стали уходить клиенты. Каждый месяц. Немного, но заметно. Банковские маркетологи посчитали: сохранять текущих клиентов дешевле, чем привлекать новых.\n",
    "\n",
    "Нужно спрогнозировать, уйдёт клиент из банка в ближайшее время или нет. Вам предоставлены исторические данные о поведении клиентов и расторжении договоров с банком. \n",
    "\n",
    "Постройте модель с предельно большим значением F1-меры. Чтобы сдать проект успешно, нужно довести метрику до 0.59. Проверьте F1-меру на тестовой выборке самостоятельно.\n",
    "\n",
    "Дополнительно измеряйте AUC-ROC, сравнивайте её значение с F1-мерой.\n",
    "\n",
    "План работы:\n",
    "\n",
    "1. Загрузите и подготовьте данные.\n",
    "2. Исследуйте баланс классов, обучите модель без учёта дисбаланса.\n",
    "3. Улучшите качество модели, учитывая дисбаланс классов. Обучите разные модели и найдите лучшую.\n",
    "4. Проведите финальное тестирование.\n",
    "\n",
    "**Описание данных**\n",
    "\n",
    "Признаки\n",
    "\n",
    "1. `RowNumber` — индекс строки в данных\n",
    "2. `CustomerId` — уникальный идентификатор клиента\n",
    "3. `Surname` — фамилия\n",
    "4. `CreditScore` — кредитный рейтинг\n",
    "5. `Geography` — страна проживания\n",
    "6. `Gender` — пол\n",
    "7. `Age` — возраст\n",
    "8. `Tenure` — сколько лет человек является клиентом банка\n",
    "9. `Balance` — баланс на счёте\n",
    "10. `NumOfProducts` — количество продуктов банка, используемых клиентом\n",
    "11. `HasCrCard` — наличие кредитной карты\n",
    "12. `IsActiveMember` — активность клиента\n",
    "13. `EstimatedSalary` — предполагаемая зарплата\n",
    "\n",
    "Целевой признак\n",
    "\n",
    "1. `Exited` — факт ухода клиента"
   ]
  },
  {
   "cell_type": "code",
   "execution_count": 26,
   "metadata": {},
   "outputs": [],
   "source": [
    "import pandas as pd\n",
    "import optuna\n",
    "import plotly.graph_objects as go\n",
    "\n",
    "from caseconverter import snakecase\n",
    "from ydata_profiling import ProfileReport\n",
    "from IPython.display import display\n",
    "\n",
    "from fast_ml import eda\n",
    "from fast_ml.model_development import train_valid_test_split\n",
    "\n",
    "from sklearn.model_selection import train_test_split\n",
    "from sklearn.utils import resample\n",
    "\n",
    "from sklearn.pipeline import Pipeline\n",
    "from sklearn.compose import ColumnTransformer\n",
    "from sklearn.impute import SimpleImputer\n",
    "from sklearn.preprocessing import StandardScaler, OneHotEncoder\n",
    "\n",
    "from sklearn.tree import DecisionTreeClassifier\n",
    "from sklearn.linear_model import LogisticRegression\n",
    "from sklearn.ensemble import RandomForestClassifier\n",
    "from sklearn.dummy import DummyClassifier\n",
    "\n",
    "from sklearn.metrics import (\n",
    "    accuracy_score, f1_score, auc, roc_curve, roc_auc_score\n",
    ")"
   ]
  },
  {
   "cell_type": "code",
   "execution_count": 2,
   "metadata": {},
   "outputs": [],
   "source": [
    "FIG_WIDTH = 10 * 100\n",
    "FIG_HEIGHT = 5 * 100\n",
    "RANDOM_SEED = 42"
   ]
  },
  {
   "cell_type": "code",
   "execution_count": 3,
   "metadata": {},
   "outputs": [],
   "source": [
    "try:\n",
    "    raw_users = pd.read_csv('Churn.csv')\n",
    "except:\n",
    "    raw_users = pd.read_csv('/datasets/Churn.csv')"
   ]
  },
  {
   "attachments": {},
   "cell_type": "markdown",
   "metadata": {},
   "source": [
    "## Исследовательский анализ данных\n",
    "\n",
    "Изучим основные зависимости в данных перед тем, как мы будем использовать их в алгоритмах машинного обучения.\n",
    "\n",
    "Таблица-резюме:"
   ]
  },
  {
   "cell_type": "code",
   "execution_count": 4,
   "metadata": {},
   "outputs": [
    {
     "data": {
      "text/html": [
       "<div>\n",
       "<style scoped>\n",
       "    .dataframe tbody tr th:only-of-type {\n",
       "        vertical-align: middle;\n",
       "    }\n",
       "\n",
       "    .dataframe tbody tr th {\n",
       "        vertical-align: top;\n",
       "    }\n",
       "\n",
       "    .dataframe thead th {\n",
       "        text-align: right;\n",
       "    }\n",
       "</style>\n",
       "<table border=\"1\" class=\"dataframe\">\n",
       "  <thead>\n",
       "    <tr style=\"text-align: right;\">\n",
       "      <th></th>\n",
       "      <th>data_type</th>\n",
       "      <th>data_type_grp</th>\n",
       "      <th>num_unique_values</th>\n",
       "      <th>sample_unique_values</th>\n",
       "      <th>num_missing</th>\n",
       "      <th>perc_missing</th>\n",
       "    </tr>\n",
       "  </thead>\n",
       "  <tbody>\n",
       "    <tr>\n",
       "      <th>RowNumber</th>\n",
       "      <td>int64</td>\n",
       "      <td>Numerical</td>\n",
       "      <td>10000</td>\n",
       "      <td>[1, 2, 3, 4, 5, 6, 7, 8, 9, 10]</td>\n",
       "      <td>0</td>\n",
       "      <td>0.0</td>\n",
       "    </tr>\n",
       "    <tr>\n",
       "      <th>CustomerId</th>\n",
       "      <td>int64</td>\n",
       "      <td>Numerical</td>\n",
       "      <td>10000</td>\n",
       "      <td>[15634602, 15647311, 15619304, 15701354, 15737...</td>\n",
       "      <td>0</td>\n",
       "      <td>0.0</td>\n",
       "    </tr>\n",
       "    <tr>\n",
       "      <th>Surname</th>\n",
       "      <td>object</td>\n",
       "      <td>Categorical</td>\n",
       "      <td>2932</td>\n",
       "      <td>[Hargrave, Hill, Onio, Boni, Mitchell, Chu, Ba...</td>\n",
       "      <td>0</td>\n",
       "      <td>0.0</td>\n",
       "    </tr>\n",
       "    <tr>\n",
       "      <th>CreditScore</th>\n",
       "      <td>int64</td>\n",
       "      <td>Numerical</td>\n",
       "      <td>460</td>\n",
       "      <td>[619, 608, 502, 699, 850, 645, 822, 376, 501, ...</td>\n",
       "      <td>0</td>\n",
       "      <td>0.0</td>\n",
       "    </tr>\n",
       "    <tr>\n",
       "      <th>Geography</th>\n",
       "      <td>object</td>\n",
       "      <td>Categorical</td>\n",
       "      <td>3</td>\n",
       "      <td>[France, Spain, Germany]</td>\n",
       "      <td>0</td>\n",
       "      <td>0.0</td>\n",
       "    </tr>\n",
       "    <tr>\n",
       "      <th>Gender</th>\n",
       "      <td>object</td>\n",
       "      <td>Categorical</td>\n",
       "      <td>2</td>\n",
       "      <td>[Female, Male]</td>\n",
       "      <td>0</td>\n",
       "      <td>0.0</td>\n",
       "    </tr>\n",
       "    <tr>\n",
       "      <th>Age</th>\n",
       "      <td>int64</td>\n",
       "      <td>Numerical</td>\n",
       "      <td>70</td>\n",
       "      <td>[42, 41, 39, 43, 44, 50, 29, 27, 31, 24]</td>\n",
       "      <td>0</td>\n",
       "      <td>0.0</td>\n",
       "    </tr>\n",
       "    <tr>\n",
       "      <th>Tenure</th>\n",
       "      <td>float64</td>\n",
       "      <td>Numerical</td>\n",
       "      <td>11</td>\n",
       "      <td>[2.0, 1.0, 8.0, 7.0, 4.0, 6.0, 3.0, 10.0, 5.0,...</td>\n",
       "      <td>909</td>\n",
       "      <td>9.09</td>\n",
       "    </tr>\n",
       "    <tr>\n",
       "      <th>Balance</th>\n",
       "      <td>float64</td>\n",
       "      <td>Numerical</td>\n",
       "      <td>6382</td>\n",
       "      <td>[0.0, 83807.86, 159660.8, 125510.82, 113755.78...</td>\n",
       "      <td>0</td>\n",
       "      <td>0.0</td>\n",
       "    </tr>\n",
       "    <tr>\n",
       "      <th>NumOfProducts</th>\n",
       "      <td>int64</td>\n",
       "      <td>Numerical</td>\n",
       "      <td>4</td>\n",
       "      <td>[1, 3, 2, 4]</td>\n",
       "      <td>0</td>\n",
       "      <td>0.0</td>\n",
       "    </tr>\n",
       "    <tr>\n",
       "      <th>HasCrCard</th>\n",
       "      <td>int64</td>\n",
       "      <td>Numerical</td>\n",
       "      <td>2</td>\n",
       "      <td>[1, 0]</td>\n",
       "      <td>0</td>\n",
       "      <td>0.0</td>\n",
       "    </tr>\n",
       "    <tr>\n",
       "      <th>IsActiveMember</th>\n",
       "      <td>int64</td>\n",
       "      <td>Numerical</td>\n",
       "      <td>2</td>\n",
       "      <td>[1, 0]</td>\n",
       "      <td>0</td>\n",
       "      <td>0.0</td>\n",
       "    </tr>\n",
       "    <tr>\n",
       "      <th>EstimatedSalary</th>\n",
       "      <td>float64</td>\n",
       "      <td>Numerical</td>\n",
       "      <td>9999</td>\n",
       "      <td>[101348.88, 112542.58, 113931.57, 93826.63, 79...</td>\n",
       "      <td>0</td>\n",
       "      <td>0.0</td>\n",
       "    </tr>\n",
       "    <tr>\n",
       "      <th>Exited</th>\n",
       "      <td>int64</td>\n",
       "      <td>Numerical</td>\n",
       "      <td>2</td>\n",
       "      <td>[1, 0]</td>\n",
       "      <td>0</td>\n",
       "      <td>0.0</td>\n",
       "    </tr>\n",
       "  </tbody>\n",
       "</table>\n",
       "</div>"
      ],
      "text/plain": [
       "                data_type data_type_grp num_unique_values  \\\n",
       "RowNumber           int64     Numerical             10000   \n",
       "CustomerId          int64     Numerical             10000   \n",
       "Surname            object   Categorical              2932   \n",
       "CreditScore         int64     Numerical               460   \n",
       "Geography          object   Categorical                 3   \n",
       "Gender             object   Categorical                 2   \n",
       "Age                 int64     Numerical                70   \n",
       "Tenure            float64     Numerical                11   \n",
       "Balance           float64     Numerical              6382   \n",
       "NumOfProducts       int64     Numerical                 4   \n",
       "HasCrCard           int64     Numerical                 2   \n",
       "IsActiveMember      int64     Numerical                 2   \n",
       "EstimatedSalary   float64     Numerical              9999   \n",
       "Exited              int64     Numerical                 2   \n",
       "\n",
       "                                              sample_unique_values  \\\n",
       "RowNumber                          [1, 2, 3, 4, 5, 6, 7, 8, 9, 10]   \n",
       "CustomerId       [15634602, 15647311, 15619304, 15701354, 15737...   \n",
       "Surname          [Hargrave, Hill, Onio, Boni, Mitchell, Chu, Ba...   \n",
       "CreditScore      [619, 608, 502, 699, 850, 645, 822, 376, 501, ...   \n",
       "Geography                                 [France, Spain, Germany]   \n",
       "Gender                                              [Female, Male]   \n",
       "Age                       [42, 41, 39, 43, 44, 50, 29, 27, 31, 24]   \n",
       "Tenure           [2.0, 1.0, 8.0, 7.0, 4.0, 6.0, 3.0, 10.0, 5.0,...   \n",
       "Balance          [0.0, 83807.86, 159660.8, 125510.82, 113755.78...   \n",
       "NumOfProducts                                         [1, 3, 2, 4]   \n",
       "HasCrCard                                                   [1, 0]   \n",
       "IsActiveMember                                              [1, 0]   \n",
       "EstimatedSalary  [101348.88, 112542.58, 113931.57, 93826.63, 79...   \n",
       "Exited                                                      [1, 0]   \n",
       "\n",
       "                num_missing perc_missing  \n",
       "RowNumber                 0          0.0  \n",
       "CustomerId                0          0.0  \n",
       "Surname                   0          0.0  \n",
       "CreditScore               0          0.0  \n",
       "Geography                 0          0.0  \n",
       "Gender                    0          0.0  \n",
       "Age                       0          0.0  \n",
       "Tenure                  909         9.09  \n",
       "Balance                   0          0.0  \n",
       "NumOfProducts             0          0.0  \n",
       "HasCrCard                 0          0.0  \n",
       "IsActiveMember            0          0.0  \n",
       "EstimatedSalary           0          0.0  \n",
       "Exited                    0          0.0  "
      ]
     },
     "metadata": {},
     "output_type": "display_data"
    }
   ],
   "source": [
    "display(eda.df_info(raw_users))"
   ]
  },
  {
   "attachments": {},
   "cell_type": "markdown",
   "metadata": {},
   "source": [
    "Числовые распределения:"
   ]
  },
  {
   "cell_type": "code",
   "execution_count": 5,
   "metadata": {},
   "outputs": [
    {
     "data": {
      "text/html": [
       "<div>\n",
       "<style scoped>\n",
       "    .dataframe tbody tr th:only-of-type {\n",
       "        vertical-align: middle;\n",
       "    }\n",
       "\n",
       "    .dataframe tbody tr th {\n",
       "        vertical-align: top;\n",
       "    }\n",
       "\n",
       "    .dataframe thead th {\n",
       "        text-align: right;\n",
       "    }\n",
       "</style>\n",
       "<table border=\"1\" class=\"dataframe\">\n",
       "  <thead>\n",
       "    <tr style=\"text-align: right;\">\n",
       "      <th></th>\n",
       "      <th>count</th>\n",
       "      <th>mean</th>\n",
       "      <th>std</th>\n",
       "      <th>min</th>\n",
       "      <th>25%</th>\n",
       "      <th>50%</th>\n",
       "      <th>75%</th>\n",
       "      <th>max</th>\n",
       "    </tr>\n",
       "  </thead>\n",
       "  <tbody>\n",
       "    <tr>\n",
       "      <th>RowNumber</th>\n",
       "      <td>10000.0</td>\n",
       "      <td>5000.50</td>\n",
       "      <td>2886.90</td>\n",
       "      <td>1.00</td>\n",
       "      <td>2500.75</td>\n",
       "      <td>5000.50</td>\n",
       "      <td>7500.25</td>\n",
       "      <td>10000.00</td>\n",
       "    </tr>\n",
       "    <tr>\n",
       "      <th>CustomerId</th>\n",
       "      <td>10000.0</td>\n",
       "      <td>15690940.57</td>\n",
       "      <td>71936.19</td>\n",
       "      <td>15565701.00</td>\n",
       "      <td>15628528.25</td>\n",
       "      <td>15690738.00</td>\n",
       "      <td>15753233.75</td>\n",
       "      <td>15815690.00</td>\n",
       "    </tr>\n",
       "    <tr>\n",
       "      <th>CreditScore</th>\n",
       "      <td>10000.0</td>\n",
       "      <td>650.53</td>\n",
       "      <td>96.65</td>\n",
       "      <td>350.00</td>\n",
       "      <td>584.00</td>\n",
       "      <td>652.00</td>\n",
       "      <td>718.00</td>\n",
       "      <td>850.00</td>\n",
       "    </tr>\n",
       "    <tr>\n",
       "      <th>Age</th>\n",
       "      <td>10000.0</td>\n",
       "      <td>38.92</td>\n",
       "      <td>10.49</td>\n",
       "      <td>18.00</td>\n",
       "      <td>32.00</td>\n",
       "      <td>37.00</td>\n",
       "      <td>44.00</td>\n",
       "      <td>92.00</td>\n",
       "    </tr>\n",
       "    <tr>\n",
       "      <th>Tenure</th>\n",
       "      <td>9091.0</td>\n",
       "      <td>5.00</td>\n",
       "      <td>2.89</td>\n",
       "      <td>0.00</td>\n",
       "      <td>2.00</td>\n",
       "      <td>5.00</td>\n",
       "      <td>7.00</td>\n",
       "      <td>10.00</td>\n",
       "    </tr>\n",
       "    <tr>\n",
       "      <th>Balance</th>\n",
       "      <td>10000.0</td>\n",
       "      <td>76485.89</td>\n",
       "      <td>62397.41</td>\n",
       "      <td>0.00</td>\n",
       "      <td>0.00</td>\n",
       "      <td>97198.54</td>\n",
       "      <td>127644.24</td>\n",
       "      <td>250898.09</td>\n",
       "    </tr>\n",
       "    <tr>\n",
       "      <th>NumOfProducts</th>\n",
       "      <td>10000.0</td>\n",
       "      <td>1.53</td>\n",
       "      <td>0.58</td>\n",
       "      <td>1.00</td>\n",
       "      <td>1.00</td>\n",
       "      <td>1.00</td>\n",
       "      <td>2.00</td>\n",
       "      <td>4.00</td>\n",
       "    </tr>\n",
       "    <tr>\n",
       "      <th>HasCrCard</th>\n",
       "      <td>10000.0</td>\n",
       "      <td>0.71</td>\n",
       "      <td>0.46</td>\n",
       "      <td>0.00</td>\n",
       "      <td>0.00</td>\n",
       "      <td>1.00</td>\n",
       "      <td>1.00</td>\n",
       "      <td>1.00</td>\n",
       "    </tr>\n",
       "    <tr>\n",
       "      <th>IsActiveMember</th>\n",
       "      <td>10000.0</td>\n",
       "      <td>0.52</td>\n",
       "      <td>0.50</td>\n",
       "      <td>0.00</td>\n",
       "      <td>0.00</td>\n",
       "      <td>1.00</td>\n",
       "      <td>1.00</td>\n",
       "      <td>1.00</td>\n",
       "    </tr>\n",
       "    <tr>\n",
       "      <th>EstimatedSalary</th>\n",
       "      <td>10000.0</td>\n",
       "      <td>100090.24</td>\n",
       "      <td>57510.49</td>\n",
       "      <td>11.58</td>\n",
       "      <td>51002.11</td>\n",
       "      <td>100193.92</td>\n",
       "      <td>149388.25</td>\n",
       "      <td>199992.48</td>\n",
       "    </tr>\n",
       "    <tr>\n",
       "      <th>Exited</th>\n",
       "      <td>10000.0</td>\n",
       "      <td>0.20</td>\n",
       "      <td>0.40</td>\n",
       "      <td>0.00</td>\n",
       "      <td>0.00</td>\n",
       "      <td>0.00</td>\n",
       "      <td>0.00</td>\n",
       "      <td>1.00</td>\n",
       "    </tr>\n",
       "  </tbody>\n",
       "</table>\n",
       "</div>"
      ],
      "text/plain": [
       "                   count         mean       std          min          25%  \\\n",
       "RowNumber        10000.0      5000.50   2886.90         1.00      2500.75   \n",
       "CustomerId       10000.0  15690940.57  71936.19  15565701.00  15628528.25   \n",
       "CreditScore      10000.0       650.53     96.65       350.00       584.00   \n",
       "Age              10000.0        38.92     10.49        18.00        32.00   \n",
       "Tenure            9091.0         5.00      2.89         0.00         2.00   \n",
       "Balance          10000.0     76485.89  62397.41         0.00         0.00   \n",
       "NumOfProducts    10000.0         1.53      0.58         1.00         1.00   \n",
       "HasCrCard        10000.0         0.71      0.46         0.00         0.00   \n",
       "IsActiveMember   10000.0         0.52      0.50         0.00         0.00   \n",
       "EstimatedSalary  10000.0    100090.24  57510.49        11.58     51002.11   \n",
       "Exited           10000.0         0.20      0.40         0.00         0.00   \n",
       "\n",
       "                         50%          75%          max  \n",
       "RowNumber            5000.50      7500.25     10000.00  \n",
       "CustomerId       15690738.00  15753233.75  15815690.00  \n",
       "CreditScore           652.00       718.00       850.00  \n",
       "Age                    37.00        44.00        92.00  \n",
       "Tenure                  5.00         7.00        10.00  \n",
       "Balance             97198.54    127644.24    250898.09  \n",
       "NumOfProducts           1.00         2.00         4.00  \n",
       "HasCrCard               1.00         1.00         1.00  \n",
       "IsActiveMember          1.00         1.00         1.00  \n",
       "EstimatedSalary    100193.92    149388.25    199992.48  \n",
       "Exited                  0.00         0.00         1.00  "
      ]
     },
     "metadata": {},
     "output_type": "display_data"
    }
   ],
   "source": [
    "display(round(raw_users.describe().T, 2))"
   ]
  },
  {
   "attachments": {},
   "cell_type": "markdown",
   "metadata": {},
   "source": [
    "И детальный отчет:"
   ]
  },
  {
   "cell_type": "code",
   "execution_count": 6,
   "metadata": {},
   "outputs": [
    {
     "name": "stderr",
     "output_type": "stream",
     "text": [
      "Summarize dataset: 100%|██████████| 72/72 [00:06<00:00, 11.82it/s, Completed]                               \n",
      "Generate report structure: 100%|██████████| 1/1 [00:02<00:00,  2.95s/it]\n",
      "Render widgets:   0%|          | 0/1 [00:00<?, ?it/s]"
     ]
    },
    {
     "name": "stderr",
     "output_type": "stream",
     "text": [
      "                                                             \r"
     ]
    },
    {
     "data": {
      "application/vnd.jupyter.widget-view+json": {
       "model_id": "a7517ad34be6427daae05025044e6975",
       "version_major": 2,
       "version_minor": 0
      },
      "text/plain": [
       "VBox(children=(Tab(children=(Tab(children=(GridBox(children=(VBox(children=(GridspecLayout(children=(HTML(valu…"
      ]
     },
     "metadata": {},
     "output_type": "display_data"
    }
   ],
   "source": [
    "ProfileReport(raw_users).to_widgets()"
   ]
  },
  {
   "attachments": {},
   "cell_type": "markdown",
   "metadata": {},
   "source": [
    "Ключевые наблюдения из предварительного анализа набора данных:\n",
    "\n",
    "1. **Демографические данные клиентов**: Набор данных содержит информацию о 10 000 клиентах с различными характеристиками. Средний возраст клиентов составляет 39 лет, с разбросом от 18 до 92 лет. В наборе данных представлены клиенты из трех стран: Франции, Испании и Германии. Кроме того, присутствует почти равномерное распределение мужчин и женщин.\n",
    "\n",
    "2. **Финансовые показатели**: Набор данных включает финансовые метрики, такие как кредитные баллы, балансы счетов, количество продуктов и зарплаты. Средний кредитный балл составляет 651, что указывает на относительно хорошую кредитоспособность. Средний баланс счета составляет 76К долларов, с широким диапазоном значений. Клиенты имеют в среднем 1,53 продукта в банке, а зарплаты варьируются от 11 до 200К долларов.\n",
    "\n",
    "3. **Отток и вовлеченность**: Около 20% клиентов в наборе данных покинули или прекратили использовать услуги банка. Приблизительно 52% клиентов являются активными участниками, что указывает на умеренный уровень вовлеченности. Средняя продолжительность работы с клиентом составляет 5 лет, хотя в этой колонке есть пропущенных значений для некоторых записей.\n",
    "\n",
    "4. **Целевой признак**: У нас сть дисбаланс классов в целевом признаке `exited` - около 8К записей оставшихся пользователей и только 2К записей пользователей, которые перестали быть пользователями нашего банка. Это надо будет выровнять, чтобы избежать model bias."
   ]
  },
  {
   "attachments": {},
   "cell_type": "markdown",
   "metadata": {},
   "source": [
    "# Подготовка данных для ML\n",
    "\n",
    "Выполним эти преобразования на полном датасете:\n",
    "\n",
    "1. Уберем колонки, которые не нужны для моделей: `RowNumber`, `CustomerId`, `Surname`.\n",
    "2. Переведем колонку `gender` в бинарную: `1` - для мужчин и `0` - для женщин.\n",
    "3. Названия колонок приведем `snake_case` регистру\n",
    "\n",
    "И остальные после разделения на выборки, чтобы избежать data leakage:\n",
    "\n",
    "1. Заполним пропуски в `tenure`.\n",
    "2. Проведем `upsampling`.\n",
    "3. Проведем стандартизацию численных признаков.\n",
    "4. Проведем кодирование категориальных признаков. "
   ]
  },
  {
   "cell_type": "code",
   "execution_count": 7,
   "metadata": {},
   "outputs": [
    {
     "data": {
      "text/html": [
       "<div>\n",
       "<style scoped>\n",
       "    .dataframe tbody tr th:only-of-type {\n",
       "        vertical-align: middle;\n",
       "    }\n",
       "\n",
       "    .dataframe tbody tr th {\n",
       "        vertical-align: top;\n",
       "    }\n",
       "\n",
       "    .dataframe thead th {\n",
       "        text-align: right;\n",
       "    }\n",
       "</style>\n",
       "<table border=\"1\" class=\"dataframe\">\n",
       "  <thead>\n",
       "    <tr style=\"text-align: right;\">\n",
       "      <th></th>\n",
       "      <th>credit_score</th>\n",
       "      <th>geography</th>\n",
       "      <th>gender</th>\n",
       "      <th>age</th>\n",
       "      <th>tenure</th>\n",
       "      <th>balance</th>\n",
       "      <th>num_of_products</th>\n",
       "      <th>has_cr_card</th>\n",
       "      <th>is_active_member</th>\n",
       "      <th>estimated_salary</th>\n",
       "      <th>exited</th>\n",
       "    </tr>\n",
       "  </thead>\n",
       "  <tbody>\n",
       "    <tr>\n",
       "      <th>0</th>\n",
       "      <td>619</td>\n",
       "      <td>france</td>\n",
       "      <td>0</td>\n",
       "      <td>42</td>\n",
       "      <td>2.0</td>\n",
       "      <td>0.00</td>\n",
       "      <td>1</td>\n",
       "      <td>1</td>\n",
       "      <td>1</td>\n",
       "      <td>101348.88</td>\n",
       "      <td>1</td>\n",
       "    </tr>\n",
       "    <tr>\n",
       "      <th>1</th>\n",
       "      <td>608</td>\n",
       "      <td>spain</td>\n",
       "      <td>0</td>\n",
       "      <td>41</td>\n",
       "      <td>1.0</td>\n",
       "      <td>83807.86</td>\n",
       "      <td>1</td>\n",
       "      <td>0</td>\n",
       "      <td>1</td>\n",
       "      <td>112542.58</td>\n",
       "      <td>0</td>\n",
       "    </tr>\n",
       "    <tr>\n",
       "      <th>2</th>\n",
       "      <td>502</td>\n",
       "      <td>france</td>\n",
       "      <td>0</td>\n",
       "      <td>42</td>\n",
       "      <td>8.0</td>\n",
       "      <td>159660.80</td>\n",
       "      <td>3</td>\n",
       "      <td>1</td>\n",
       "      <td>0</td>\n",
       "      <td>113931.57</td>\n",
       "      <td>1</td>\n",
       "    </tr>\n",
       "    <tr>\n",
       "      <th>3</th>\n",
       "      <td>699</td>\n",
       "      <td>france</td>\n",
       "      <td>0</td>\n",
       "      <td>39</td>\n",
       "      <td>1.0</td>\n",
       "      <td>0.00</td>\n",
       "      <td>2</td>\n",
       "      <td>0</td>\n",
       "      <td>0</td>\n",
       "      <td>93826.63</td>\n",
       "      <td>0</td>\n",
       "    </tr>\n",
       "    <tr>\n",
       "      <th>4</th>\n",
       "      <td>850</td>\n",
       "      <td>spain</td>\n",
       "      <td>0</td>\n",
       "      <td>43</td>\n",
       "      <td>2.0</td>\n",
       "      <td>125510.82</td>\n",
       "      <td>1</td>\n",
       "      <td>1</td>\n",
       "      <td>1</td>\n",
       "      <td>79084.10</td>\n",
       "      <td>0</td>\n",
       "    </tr>\n",
       "  </tbody>\n",
       "</table>\n",
       "</div>"
      ],
      "text/plain": [
       "   credit_score geography  gender  age  tenure    balance  num_of_products  \\\n",
       "0           619    france       0   42     2.0       0.00                1   \n",
       "1           608     spain       0   41     1.0   83807.86                1   \n",
       "2           502    france       0   42     8.0  159660.80                3   \n",
       "3           699    france       0   39     1.0       0.00                2   \n",
       "4           850     spain       0   43     2.0  125510.82                1   \n",
       "\n",
       "   has_cr_card  is_active_member  estimated_salary  exited  \n",
       "0            1                 1         101348.88       1  \n",
       "1            0                 1         112542.58       0  \n",
       "2            1                 0         113931.57       1  \n",
       "3            0                 0          93826.63       0  \n",
       "4            1                 1          79084.10       0  "
      ]
     },
     "metadata": {},
     "output_type": "display_data"
    }
   ],
   "source": [
    "df_no_sampling = (\n",
    "    raw_users\n",
    "    .copy()\n",
    "    .drop(['RowNumber', 'CustomerId', 'Surname'], axis=1)\n",
    "    .replace({'Male': 1, 'Female': 0})\n",
    "    .rename(columns=lambda column: snakecase(column))\n",
    "    .assign(geography=lambda df: df.geography.str.lower())\n",
    ")\n",
    "\n",
    "display(df_no_sampling.head())\n"
   ]
  },
  {
   "attachments": {},
   "cell_type": "markdown",
   "metadata": {},
   "source": [
    "Выглядит адекватно.\n",
    "\n",
    "Дальше нам понадобится несколько функций для обработки данных. Первая - для разделенрия данных с использованием стратификации."
   ]
  },
  {
   "cell_type": "code",
   "execution_count": 23,
   "metadata": {},
   "outputs": [],
   "source": [
    "def split_data(df, target_column, test_size, valid_size, stratify_column):\n",
    "    \"\"\"\n",
    "    Splits a DataFrame into training, validation and test sets.\n",
    "    Args:\n",
    "        - df (pd.DataFrame): DataFrame to split.\n",
    "        - target_column (str): The name of the target column.\n",
    "        - test_size (float): The proportion of the dataset to include in the test split.\n",
    "        - valid_size (float): The proportion of the dataset to include in the validation split.\n",
    "        - stratify_column (str): The name of the column to use for stratification.\n",
    "    Returns:\n",
    "        - list: A list containing the training, validation, and test feature and target DataFrames/Series.\n",
    "    \"\"\"\n",
    "    df_train_valid, df_test, tgt_train_valid, tgt_test = train_test_split(\n",
    "        df.drop(target_column, axis=1), df[target_column],\n",
    "        test_size=test_size, stratify=df[stratify_column], random_state=RANDOM_SEED\n",
    "    )\n",
    "    df_train, df_valid, tgt_train, tgt_valid = train_test_split(\n",
    "        df_train_valid, tgt_train_valid,\n",
    "        test_size=(valid_size/(1-test_size)), stratify=tgt_train_valid, random_state=RANDOM_SEED\n",
    "    )\n",
    "\n",
    "    return [df_train, tgt_train, df_valid, tgt_valid, df_test, tgt_test]"
   ]
  },
  {
   "attachments": {},
   "cell_type": "markdown",
   "metadata": {},
   "source": [
    "Вторая - для `upsampling`."
   ]
  },
  {
   "cell_type": "code",
   "execution_count": 8,
   "metadata": {},
   "outputs": [],
   "source": [
    "def upsample_minority_class(ftr_train, tgt_train):\n",
    "    \"\"\"\n",
    "    Upsamples the minority class in the training data.\n",
    "    Args:\n",
    "        - ftr_train (pd.DataFrame): DataFrame containing the training features.\n",
    "        - tgt_train (pd.Series): Series containing the training targets.\n",
    "    Returns:\n",
    "        - pd.DataFrame: DataFrame containing the training features after downsampling.\n",
    "        - pd.Series: Series containing the training targets after downsampling.\n",
    "    \"\"\"\n",
    "    ftr_train_upsampled = pd.concat([\n",
    "        ftr_train[tgt_train==0],\n",
    "        resample(\n",
    "            ftr_train[tgt_train==1],\n",
    "            replace=True,\n",
    "            n_samples=len(ftr_train[tgt_train==0]),\n",
    "            random_state=RANDOM_SEED\n",
    "        )\n",
    "    ])\n",
    "\n",
    "    tgt_train_upsampled = pd.concat([\n",
    "        tgt_train[tgt_train==0],\n",
    "        pd.Series([1]*len(ftr_train[tgt_train==0]), index=ftr_train[tgt_train==0].index)\n",
    "    ])\n",
    "\n",
    "    return ftr_train_upsampled, tgt_train_upsampled"
   ]
  },
  {
   "attachments": {},
   "cell_type": "markdown",
   "metadata": {},
   "source": [
    "Третья - для `downsampling`."
   ]
  },
  {
   "cell_type": "code",
   "execution_count": 9,
   "metadata": {},
   "outputs": [],
   "source": [
    "def downsample_majority_class(ftr_train, tgt_train):\n",
    "    \"\"\"\n",
    "    Downsamples the majority class in the training data.\n",
    "    Args:\n",
    "        - ftr_train (pd.DataFrame): DataFrame containing the training features.\n",
    "        - tgt_train (pd.Series): Series containing the training targets.\n",
    "    Returns:\n",
    "        - pd.DataFrame: DataFrame containing the training features after downsampling.\n",
    "        - pd.Series: Series containing the training targets after downsampling.\n",
    "    \"\"\"\n",
    "    index_to_remove = resample(\n",
    "        ftr_train[tgt_train==0].index,\n",
    "        replace=False,\n",
    "        n_samples=len(ftr_train[tgt_train==0]) - len(ftr_train[tgt_train==1]),\n",
    "        random_state=RANDOM_SEED\n",
    "    )\n",
    "\n",
    "    ftr_train_downsampled = ftr_train.drop(index_to_remove)\n",
    "    tgt_train_downsampled = tgt_train.drop(index_to_remove)\n",
    "\n",
    "    return ftr_train_downsampled, tgt_train_downsampled"
   ]
  },
  {
   "attachments": {},
   "cell_type": "markdown",
   "metadata": {},
   "source": [
    "Наконец, для предобработки данных."
   ]
  },
  {
   "cell_type": "code",
   "execution_count": 24,
   "metadata": {},
   "outputs": [],
   "source": [
    "def preprocess_and_split_data(df, label):\n",
    "    \"\"\"\n",
    "    Preprocesses the data and splits it into training, validation and test sets.\n",
    "    Args:\n",
    "        - df (pd.DataFrame): DataFrame to preprocess and split.\n",
    "        - label (str): Label for the dictionary to hold the split data.\n",
    "    Returns:\n",
    "        - dict: Dictionary containing preprocessed and split data.\n",
    "    \"\"\"\n",
    "    splits = split_data(\n",
    "        df=df, target_column='exited', \n",
    "        test_size=0.15, valid_size=0.15, stratify_column='exited', \n",
    "    )\n",
    "\n",
    "    if label == 'upsampled':\n",
    "        splits[0], splits[1] = upsample_minority_class(splits[0], splits[1])\n",
    "    elif label == 'downsampled':\n",
    "        splits[0], splits[1] = downsample_majority_class(splits[0], splits[1])\n",
    "\n",
    "    data_splits = dict(zip(split_keys, splits))\n",
    "    \n",
    "    preprocessor.fit(data_splits['ftr_train'])\n",
    "\n",
    "    for subset in split_keys:\n",
    "        if 'ftr' in subset:\n",
    "            data_transformed = preprocessor.transform(data_splits[subset])\n",
    "            \n",
    "            columns_transformed = num_cols + list(\n",
    "                preprocessor.named_transformers_['cat']['encoder'].get_feature_names_out(cat_cols)\n",
    "            )\n",
    "            df_transformed = pd.DataFrame(\n",
    "                data_transformed, columns=columns_transformed\n",
    "            )\n",
    "            df_transformed = pd.concat(\n",
    "                [df_transformed, data_splits[subset][bin_cols].reset_index(drop=True)], axis=1\n",
    "            )\n",
    "\n",
    "            data_splits[subset] = df_transformed\n",
    "\n",
    "    return data_splits"
   ]
  },
  {
   "attachments": {},
   "cell_type": "markdown",
   "metadata": {},
   "source": [
    "Разделим датасеты на выборки и выполним остальные преобразовния."
   ]
  },
  {
   "cell_type": "code",
   "execution_count": 27,
   "metadata": {},
   "outputs": [],
   "source": [
    "split_keys = ['ftr_train', 'tgt_train', 'ftr_valid', 'tgt_valid', 'ftr_test', 'tgt_test']\n",
    "num_cols = ['credit_score', 'age', 'tenure', 'balance', 'num_of_products', 'estimated_salary']\n",
    "cat_cols = ['geography']\n",
    "bin_cols = ['has_cr_card', 'is_active_member', 'gender']\n",
    "\n",
    "num_pipeline = Pipeline([\n",
    "    ('imputer', SimpleImputer(strategy='median')),\n",
    "    ('scaler', StandardScaler()),\n",
    "])\n",
    "\n",
    "cat_pipeline = Pipeline([\n",
    "    ('encoder', OneHotEncoder(handle_unknown='ignore')),\n",
    "])\n",
    "\n",
    "preprocessor = ColumnTransformer([\n",
    "    ('num', num_pipeline, num_cols),\n",
    "    ('cat', cat_pipeline, cat_cols),\n",
    "])\n",
    "\n",
    "data_splits = {\n",
    "    'no_sampling': preprocess_and_split_data(df_no_sampling, 'no_sampling'),\n",
    "    'upsampled': preprocess_and_split_data(df_no_sampling, 'upsampled'),\n",
    "    'downsampled': preprocess_and_split_data(df_no_sampling, 'downsampled')\n",
    "}"
   ]
  },
  {
   "attachments": {},
   "cell_type": "markdown",
   "metadata": {},
   "source": [
    "Проверим, как сбалансировались классы."
   ]
  },
  {
   "cell_type": "code",
   "execution_count": 12,
   "metadata": {},
   "outputs": [],
   "source": [
    "def print_class_distribution(df, column, label):\n",
    "    print(\n",
    "        f\"{'-' * 40}\\n{label} distribution, %:\\n{df[column].value_counts(normalize=True) * 100}\\n{'-' * 40}\"\n",
    "    )\n",
    "\n",
    "print_class_distribution(df_no_sampling, 'exited', 'Exited without resampling')\n",
    "print_class_distribution(df_upsampled, 'exited', 'Exited with upsampling')"
   ]
  },
  {
   "attachments": {},
   "cell_type": "markdown",
   "metadata": {},
   "source": [
    "И как выглядит один из датасетов."
   ]
  },
  {
   "cell_type": "code",
   "execution_count": 29,
   "metadata": {},
   "outputs": [
    {
     "data": {
      "text/html": [
       "<div>\n",
       "<style scoped>\n",
       "    .dataframe tbody tr th:only-of-type {\n",
       "        vertical-align: middle;\n",
       "    }\n",
       "\n",
       "    .dataframe tbody tr th {\n",
       "        vertical-align: top;\n",
       "    }\n",
       "\n",
       "    .dataframe thead th {\n",
       "        text-align: right;\n",
       "    }\n",
       "</style>\n",
       "<table border=\"1\" class=\"dataframe\">\n",
       "  <thead>\n",
       "    <tr style=\"text-align: right;\">\n",
       "      <th></th>\n",
       "      <th>credit_score</th>\n",
       "      <th>age</th>\n",
       "      <th>tenure</th>\n",
       "      <th>balance</th>\n",
       "      <th>num_of_products</th>\n",
       "      <th>estimated_salary</th>\n",
       "      <th>geography_france</th>\n",
       "      <th>geography_germany</th>\n",
       "      <th>geography_spain</th>\n",
       "      <th>has_cr_card</th>\n",
       "      <th>is_active_member</th>\n",
       "      <th>gender</th>\n",
       "    </tr>\n",
       "  </thead>\n",
       "  <tbody>\n",
       "    <tr>\n",
       "      <th>0</th>\n",
       "      <td>0.604610</td>\n",
       "      <td>-0.086317</td>\n",
       "      <td>-0.718147</td>\n",
       "      <td>0.872277</td>\n",
       "      <td>-0.906681</td>\n",
       "      <td>0.962096</td>\n",
       "      <td>1.0</td>\n",
       "      <td>0.0</td>\n",
       "      <td>0.0</td>\n",
       "      <td>1</td>\n",
       "      <td>1</td>\n",
       "      <td>1</td>\n",
       "    </tr>\n",
       "    <tr>\n",
       "      <th>1</th>\n",
       "      <td>0.894115</td>\n",
       "      <td>-0.086317</td>\n",
       "      <td>0.005948</td>\n",
       "      <td>1.634673</td>\n",
       "      <td>-0.906681</td>\n",
       "      <td>-1.401904</td>\n",
       "      <td>0.0</td>\n",
       "      <td>0.0</td>\n",
       "      <td>1.0</td>\n",
       "      <td>0</td>\n",
       "      <td>1</td>\n",
       "      <td>1</td>\n",
       "    </tr>\n",
       "    <tr>\n",
       "      <th>2</th>\n",
       "      <td>0.490876</td>\n",
       "      <td>-1.614778</td>\n",
       "      <td>1.454139</td>\n",
       "      <td>0.369733</td>\n",
       "      <td>-0.906681</td>\n",
       "      <td>-0.547571</td>\n",
       "      <td>1.0</td>\n",
       "      <td>0.0</td>\n",
       "      <td>0.0</td>\n",
       "      <td>1</td>\n",
       "      <td>0</td>\n",
       "      <td>1</td>\n",
       "    </tr>\n",
       "    <tr>\n",
       "      <th>3</th>\n",
       "      <td>-0.046776</td>\n",
       "      <td>0.200269</td>\n",
       "      <td>-1.442243</td>\n",
       "      <td>0.153721</td>\n",
       "      <td>2.531438</td>\n",
       "      <td>1.556949</td>\n",
       "      <td>0.0</td>\n",
       "      <td>1.0</td>\n",
       "      <td>0.0</td>\n",
       "      <td>1</td>\n",
       "      <td>0</td>\n",
       "      <td>0</td>\n",
       "    </tr>\n",
       "    <tr>\n",
       "      <th>4</th>\n",
       "      <td>1.028528</td>\n",
       "      <td>0.868971</td>\n",
       "      <td>-0.356100</td>\n",
       "      <td>-1.227786</td>\n",
       "      <td>-0.906681</td>\n",
       "      <td>-1.211556</td>\n",
       "      <td>1.0</td>\n",
       "      <td>0.0</td>\n",
       "      <td>0.0</td>\n",
       "      <td>0</td>\n",
       "      <td>1</td>\n",
       "      <td>0</td>\n",
       "    </tr>\n",
       "  </tbody>\n",
       "</table>\n",
       "</div>"
      ],
      "text/plain": [
       "   credit_score       age    tenure   balance  num_of_products  \\\n",
       "0      0.604610 -0.086317 -0.718147  0.872277        -0.906681   \n",
       "1      0.894115 -0.086317  0.005948  1.634673        -0.906681   \n",
       "2      0.490876 -1.614778  1.454139  0.369733        -0.906681   \n",
       "3     -0.046776  0.200269 -1.442243  0.153721         2.531438   \n",
       "4      1.028528  0.868971 -0.356100 -1.227786        -0.906681   \n",
       "\n",
       "   estimated_salary  geography_france  geography_germany  geography_spain  \\\n",
       "0          0.962096               1.0                0.0              0.0   \n",
       "1         -1.401904               0.0                0.0              1.0   \n",
       "2         -0.547571               1.0                0.0              0.0   \n",
       "3          1.556949               0.0                1.0              0.0   \n",
       "4         -1.211556               1.0                0.0              0.0   \n",
       "\n",
       "   has_cr_card  is_active_member  gender  \n",
       "0            1                 1       1  \n",
       "1            0                 1       1  \n",
       "2            1                 0       1  \n",
       "3            1                 0       0  \n",
       "4            0                 1       0  "
      ]
     },
     "execution_count": 29,
     "metadata": {},
     "output_type": "execute_result"
    }
   ],
   "source": [
    "data_splits['no_sampling']['ftr_valid'].head()"
   ]
  },
  {
   "attachments": {},
   "cell_type": "markdown",
   "metadata": {},
   "source": [
    "В этом скрипте мы успешно обработали два набора данных, `df_no_sampling` и `df_upsampled`. На первом этапе были определены переменные и настроен предпроцессор предварительной обработки для числовых и категориальных столбцов, бинарные столбцы остались без изменений.\n",
    "\n",
    "Основной цикл скрипта выполняет три основные задачи для каждого набора данных:\n",
    "\n",
    "1. Разделение данных: Используется функция `train_valid_test_split`, чтобы разделить каждый набор данных на обучающие, валидационные и тестовые подмножества.\n",
    "\n",
    "2. Подгонка препроцессора: Препроцессор обучается на обучающих данных. Это включает в себя изучение параметров для `imputation` наиболее часто встречающихся значений и стандартного масштабирования.\n",
    "\n",
    "3. Трансформация данных: Используя подготовленный препроцессор, трансформируются признаки для каждого набора и типа колонок.\n",
    "\n",
    "После выполнения этого скрипта у нас есть все подмножества данных, готовые для дальнейшего обучения модели и оценки."
   ]
  },
  {
   "attachments": {},
   "cell_type": "markdown",
   "metadata": {},
   "source": [
    "# ML модели\n",
    "\n",
    "Перейдем к обучению моделей. Воспользуемся библиотекой `optuna` чтобы найти оптимальную модель.\n",
    "\n",
    "Для начала - сделаем функцию, которая будет выбирать для нас лучшую модель."
   ]
  },
  {
   "cell_type": "code",
   "execution_count": 15,
   "metadata": {},
   "outputs": [],
   "source": [
    "def get_study(dataset: str, n_trials: int):\n",
    "    \"\"\"\n",
    "    Trains and optimizes Logistic Regression, Decision Tree, and Random Forest models using Optuna.\n",
    "\n",
    "    Args:\n",
    "        - dataset (str): The label of the dataset to use from the \n",
    "          `data_splits` dictionary('no_sampling' or 'upsampled').\n",
    "        - n_trials (int): The number of trials for Optuna optimization.\n",
    "\n",
    "    Returns:\n",
    "        - An Optuna study object, containing the optimal model and its parameters.\n",
    "    \"\"\"\n",
    "    \n",
    "    def objective(trial):\n",
    "        classifier_name = trial.suggest_categorical(\n",
    "            'classifier', ['LogisticRegression', 'DecisionTree', 'RandomForest']\n",
    "        )\n",
    "        \n",
    "        # Suggest parameters based on the classifier\n",
    "        if classifier_name == 'LogisticRegression':\n",
    "            lr_c = trial.suggest_float('lr_c', 1e-6, 1e6, log=True)\n",
    "            classifier_obj = LogisticRegression(\n",
    "                C=lr_c, random_state=RANDOM_SEED\n",
    "            )\n",
    "        elif classifier_name == 'DecisionTree':\n",
    "            dt_max_depth = trial.suggest_int('dt_max_depth', 1, 50)\n",
    "            classifier_obj = DecisionTreeClassifier(\n",
    "                max_depth=dt_max_depth, random_state=RANDOM_SEED\n",
    "            )\n",
    "        elif classifier_name == 'RandomForest':\n",
    "            rf_max_depth = trial.suggest_int('rf_max_depth', 1, 100)\n",
    "            rf_n_estimators = trial.suggest_int('rf_n_estimators', 100, 1000)\n",
    "            classifier_obj = RandomForestClassifier(\n",
    "                max_depth=rf_max_depth,\n",
    "                n_estimators=rf_n_estimators,\n",
    "                random_state=RANDOM_SEED\n",
    "            )\n",
    "            \n",
    "        classifier_obj.fit(data_splits[dataset]['ftr_train'], data_splits[dataset]['tgt_train'])\n",
    "        \n",
    "        prediction = classifier_obj.predict(data_splits[dataset]['ftr_valid'])\n",
    "        \n",
    "        f1 = f1_score(data_splits[dataset]['tgt_valid'], prediction)\n",
    "        \n",
    "        return round(f1, 3)\n",
    "\n",
    "    optuna.logging.set_verbosity(optuna.logging.WARNING)\n",
    "    study = optuna.create_study(direction='maximize', sampler=optuna.samplers.TPESampler(seed=RANDOM_SEED))\n",
    "    study.optimize(objective, n_trials=n_trials)\n",
    "    \n",
    "    return study"
   ]
  },
  {
   "attachments": {},
   "cell_type": "markdown",
   "metadata": {},
   "source": [
    "Теперь функцию, которая посчитает метрики для модели."
   ]
  },
  {
   "cell_type": "code",
   "execution_count": 16,
   "metadata": {},
   "outputs": [],
   "source": [
    "def evaluate_best_model(dataset: str, study: optuna.study.Study) -> dict[str, float]:\n",
    "    \"\"\"\n",
    "    Given a dataset label (key in the data_splits dictionary) and an Optuna study object,\n",
    "    this function retrieves the best model parameters from the study, instantiates a new\n",
    "    model with these parameters, makes predictions on the validation subset,\n",
    "    and calculates and returns the F1 score and ROC AUC score.\n",
    "\n",
    "    Args:\n",
    "        - dataset (str): Label of the dataset to use (should be a key in the data_splits dictionary).\n",
    "        - study (optuna.study.Study): Optuna study object containing the results of model optimization.\n",
    "\n",
    "    Returns:\n",
    "        - dict: A dictionary with the F1 score and ROC AUC score for the validation subset.\n",
    "        - sklearn Estimator: The best fitted model.\n",
    "    \"\"\"\n",
    "    \n",
    "    best_params = study.best_params\n",
    "\n",
    "    if best_params['classifier'] == 'LogisticRegression':\n",
    "        best_model = LogisticRegression(\n",
    "            C=best_params['lr_c'], random_state=RANDOM_SEED\n",
    "        )\n",
    "    elif best_params['classifier'] == 'DecisionTree':\n",
    "        best_model = DecisionTreeClassifier(\n",
    "            max_depth=best_params['dt_max_depth'], random_state=RANDOM_SEED\n",
    "        )\n",
    "    elif best_params['classifier'] == 'RandomForest':\n",
    "        best_model = RandomForestClassifier(\n",
    "            max_depth=best_params['rf_max_depth'],\n",
    "            n_estimators=best_params['rf_n_estimators'],\n",
    "            random_state=RANDOM_SEED\n",
    "        )\n",
    "\n",
    "    best_model.fit(data_splits[dataset]['ftr_train'], data_splits[dataset]['tgt_train'])\n",
    "\n",
    "    pred_valid = best_model.predict(data_splits[dataset]['ftr_valid'])\n",
    "    pred_proba_valid = best_model.predict_proba(data_splits[dataset]['ftr_valid'])[:, 1]\n",
    "\n",
    "    f1_valid = f1_score(data_splits[dataset]['tgt_valid'], pred_valid)\n",
    "    roc_auc_valid = roc_auc_score(data_splits[dataset]['tgt_valid'], pred_proba_valid)\n",
    "\n",
    "    return {\n",
    "        'valid_f1': f1_valid,\n",
    "        'valid_roc_auc': roc_auc_valid,\n",
    "    }, best_model"
   ]
  },
  {
   "attachments": {},
   "cell_type": "markdown",
   "metadata": {},
   "source": [
    "Выведет результаты."
   ]
  },
  {
   "cell_type": "code",
   "execution_count": 17,
   "metadata": {},
   "outputs": [],
   "source": [
    "def print_best_params_and_metrics(best_params: dict, metrics: dict):\n",
    "    \"\"\"\n",
    "    Prints the best parameters of the model and the performance metrics.\n",
    "\n",
    "    Args:\n",
    "        - best_params (dict): Dictionary of the best parameters from the model.\n",
    "        - metrics (dict): Dictionary of performance metrics.\n",
    "\n",
    "    Returns:\n",
    "        - None\n",
    "    \"\"\"\n",
    "    print('The best model parameters are:')\n",
    "    for param, value in best_params.items():\n",
    "        print(f\"{param}: {value}\")\n",
    "\n",
    "    print('\\nThe performance metrics of the model are:')\n",
    "    for metric, value in metrics.items():\n",
    "        print(f\"{metric}: {value:.4f}\")"
   ]
  },
  {
   "attachments": {},
   "cell_type": "markdown",
   "metadata": {},
   "source": [
    "И нарисует график `ROC AUC`."
   ]
  },
  {
   "cell_type": "code",
   "execution_count": 18,
   "metadata": {},
   "outputs": [],
   "source": [
    "def plot_roc_auc(dataset: str, best_model: any, title: str) -> go.Figure:\n",
    "    \"\"\"\n",
    "    Plots ROC curves for the validation and test sets using Plotly.\n",
    "\n",
    "    Args:\n",
    "        - dataset (str): Label of the dataset to use (should be a key in the data_splits dictionary).\n",
    "        - best_model (Any): Trained model object.\n",
    "        - title (str): Title of the plot.\n",
    "\n",
    "    Returns:\n",
    "        - fig (go.Figure): Plotly figure with ROC curves.\n",
    "    \"\"\"\n",
    "\n",
    "    probas_valid = best_model.predict_proba(data_splits[dataset]['ftr_valid'])\n",
    "    fpr_valid, tpr_valid, _ = roc_curve(data_splits[dataset]['tgt_valid'], probas_valid[:, 1])\n",
    "    roc_auc_valid = auc(fpr_valid, tpr_valid)\n",
    "    \n",
    "    fig = go.Figure()\n",
    "\n",
    "    fig.add_trace(\n",
    "        go.Scatter(\n",
    "            x=fpr_valid, y=tpr_valid,\n",
    "            mode='lines',\n",
    "            name=f'Validation set ROC (AUC = {roc_auc_valid:.2f})'\n",
    "        )\n",
    "    )\n",
    "    fig.add_trace(\n",
    "        go.Scatter(\n",
    "            x=[0, 1], y=[0, 1],\n",
    "            mode='lines',\n",
    "            name='No skill',\n",
    "            line=dict(dash='dash', color='black')\n",
    "        )\n",
    "    )\n",
    "\n",
    "    fig.update_layout(\n",
    "        xaxis_title='False positive rate',\n",
    "        yaxis_title='True positive rate',\n",
    "        width=FIG_WIDTH, height=FIG_HEIGHT * 1.5,\n",
    "        title=title,\n",
    "        template='plotly_white'\n",
    "    )\n",
    "\n",
    "    return fig"
   ]
  },
  {
   "attachments": {},
   "cell_type": "markdown",
   "metadata": {},
   "source": [
    "## Датасет без sampling\n",
    "\n",
    "Возьмем датасет как есть и посмотрим на качество моделей."
   ]
  },
  {
   "cell_type": "code",
   "execution_count": 19,
   "metadata": {},
   "outputs": [],
   "source": [
    "study_no_sampling = get_study('no_sampling', n_trials=10)\n",
    "\n",
    "metrics, best_model = evaluate_best_model('no_sampling', study_no_sampling)"
   ]
  },
  {
   "attachments": {},
   "cell_type": "markdown",
   "metadata": {},
   "source": [
    "Визуализируем результаты."
   ]
  },
  {
   "cell_type": "code",
   "execution_count": 20,
   "metadata": {},
   "outputs": [
    {
     "name": "stdout",
     "output_type": "stream",
     "text": [
      "The best model parameters are:\n",
      "classifier: RandomForest\n",
      "rf_max_depth: 18\n",
      "rf_n_estimators: 158\n",
      "\n",
      "The performance metrics of the model are:\n",
      "valid_f1: 0.5809\n",
      "valid_roc_auc: 0.8488\n"
     ]
    },
    {
     "data": {
      "application/vnd.plotly.v1+json": {
       "config": {
        "plotlyServerURL": "https://plot.ly"
       },
       "data": [
        {
         "mode": "markers",
         "name": "Objective Value",
         "type": "scatter",
         "x": [
          0,
          1,
          2,
          3,
          4,
          5,
          6,
          7,
          8,
          9
         ],
         "y": [
          0.491,
          0.287,
          0.491,
          0,
          0.508,
          0.264,
          0.491,
          0.581,
          0.485,
          0.562
         ]
        },
        {
         "name": "Best Value",
         "type": "scatter",
         "x": [
          0,
          1,
          2,
          3,
          4,
          5,
          6,
          7,
          8,
          9
         ],
         "y": [
          0.491,
          0.491,
          0.491,
          0.491,
          0.508,
          0.508,
          0.508,
          0.581,
          0.581,
          0.581
         ]
        }
       ],
       "layout": {
        "height": 500,
        "template": {
         "data": {
          "bar": [
           {
            "error_x": {
             "color": "#2a3f5f"
            },
            "error_y": {
             "color": "#2a3f5f"
            },
            "marker": {
             "line": {
              "color": "white",
              "width": 0.5
             },
             "pattern": {
              "fillmode": "overlay",
              "size": 10,
              "solidity": 0.2
             }
            },
            "type": "bar"
           }
          ],
          "barpolar": [
           {
            "marker": {
             "line": {
              "color": "white",
              "width": 0.5
             },
             "pattern": {
              "fillmode": "overlay",
              "size": 10,
              "solidity": 0.2
             }
            },
            "type": "barpolar"
           }
          ],
          "carpet": [
           {
            "aaxis": {
             "endlinecolor": "#2a3f5f",
             "gridcolor": "#C8D4E3",
             "linecolor": "#C8D4E3",
             "minorgridcolor": "#C8D4E3",
             "startlinecolor": "#2a3f5f"
            },
            "baxis": {
             "endlinecolor": "#2a3f5f",
             "gridcolor": "#C8D4E3",
             "linecolor": "#C8D4E3",
             "minorgridcolor": "#C8D4E3",
             "startlinecolor": "#2a3f5f"
            },
            "type": "carpet"
           }
          ],
          "choropleth": [
           {
            "colorbar": {
             "outlinewidth": 0,
             "ticks": ""
            },
            "type": "choropleth"
           }
          ],
          "contour": [
           {
            "colorbar": {
             "outlinewidth": 0,
             "ticks": ""
            },
            "colorscale": [
             [
              0,
              "#0d0887"
             ],
             [
              0.1111111111111111,
              "#46039f"
             ],
             [
              0.2222222222222222,
              "#7201a8"
             ],
             [
              0.3333333333333333,
              "#9c179e"
             ],
             [
              0.4444444444444444,
              "#bd3786"
             ],
             [
              0.5555555555555556,
              "#d8576b"
             ],
             [
              0.6666666666666666,
              "#ed7953"
             ],
             [
              0.7777777777777778,
              "#fb9f3a"
             ],
             [
              0.8888888888888888,
              "#fdca26"
             ],
             [
              1,
              "#f0f921"
             ]
            ],
            "type": "contour"
           }
          ],
          "contourcarpet": [
           {
            "colorbar": {
             "outlinewidth": 0,
             "ticks": ""
            },
            "type": "contourcarpet"
           }
          ],
          "heatmap": [
           {
            "colorbar": {
             "outlinewidth": 0,
             "ticks": ""
            },
            "colorscale": [
             [
              0,
              "#0d0887"
             ],
             [
              0.1111111111111111,
              "#46039f"
             ],
             [
              0.2222222222222222,
              "#7201a8"
             ],
             [
              0.3333333333333333,
              "#9c179e"
             ],
             [
              0.4444444444444444,
              "#bd3786"
             ],
             [
              0.5555555555555556,
              "#d8576b"
             ],
             [
              0.6666666666666666,
              "#ed7953"
             ],
             [
              0.7777777777777778,
              "#fb9f3a"
             ],
             [
              0.8888888888888888,
              "#fdca26"
             ],
             [
              1,
              "#f0f921"
             ]
            ],
            "type": "heatmap"
           }
          ],
          "heatmapgl": [
           {
            "colorbar": {
             "outlinewidth": 0,
             "ticks": ""
            },
            "colorscale": [
             [
              0,
              "#0d0887"
             ],
             [
              0.1111111111111111,
              "#46039f"
             ],
             [
              0.2222222222222222,
              "#7201a8"
             ],
             [
              0.3333333333333333,
              "#9c179e"
             ],
             [
              0.4444444444444444,
              "#bd3786"
             ],
             [
              0.5555555555555556,
              "#d8576b"
             ],
             [
              0.6666666666666666,
              "#ed7953"
             ],
             [
              0.7777777777777778,
              "#fb9f3a"
             ],
             [
              0.8888888888888888,
              "#fdca26"
             ],
             [
              1,
              "#f0f921"
             ]
            ],
            "type": "heatmapgl"
           }
          ],
          "histogram": [
           {
            "marker": {
             "pattern": {
              "fillmode": "overlay",
              "size": 10,
              "solidity": 0.2
             }
            },
            "type": "histogram"
           }
          ],
          "histogram2d": [
           {
            "colorbar": {
             "outlinewidth": 0,
             "ticks": ""
            },
            "colorscale": [
             [
              0,
              "#0d0887"
             ],
             [
              0.1111111111111111,
              "#46039f"
             ],
             [
              0.2222222222222222,
              "#7201a8"
             ],
             [
              0.3333333333333333,
              "#9c179e"
             ],
             [
              0.4444444444444444,
              "#bd3786"
             ],
             [
              0.5555555555555556,
              "#d8576b"
             ],
             [
              0.6666666666666666,
              "#ed7953"
             ],
             [
              0.7777777777777778,
              "#fb9f3a"
             ],
             [
              0.8888888888888888,
              "#fdca26"
             ],
             [
              1,
              "#f0f921"
             ]
            ],
            "type": "histogram2d"
           }
          ],
          "histogram2dcontour": [
           {
            "colorbar": {
             "outlinewidth": 0,
             "ticks": ""
            },
            "colorscale": [
             [
              0,
              "#0d0887"
             ],
             [
              0.1111111111111111,
              "#46039f"
             ],
             [
              0.2222222222222222,
              "#7201a8"
             ],
             [
              0.3333333333333333,
              "#9c179e"
             ],
             [
              0.4444444444444444,
              "#bd3786"
             ],
             [
              0.5555555555555556,
              "#d8576b"
             ],
             [
              0.6666666666666666,
              "#ed7953"
             ],
             [
              0.7777777777777778,
              "#fb9f3a"
             ],
             [
              0.8888888888888888,
              "#fdca26"
             ],
             [
              1,
              "#f0f921"
             ]
            ],
            "type": "histogram2dcontour"
           }
          ],
          "mesh3d": [
           {
            "colorbar": {
             "outlinewidth": 0,
             "ticks": ""
            },
            "type": "mesh3d"
           }
          ],
          "parcoords": [
           {
            "line": {
             "colorbar": {
              "outlinewidth": 0,
              "ticks": ""
             }
            },
            "type": "parcoords"
           }
          ],
          "pie": [
           {
            "automargin": true,
            "type": "pie"
           }
          ],
          "scatter": [
           {
            "fillpattern": {
             "fillmode": "overlay",
             "size": 10,
             "solidity": 0.2
            },
            "type": "scatter"
           }
          ],
          "scatter3d": [
           {
            "line": {
             "colorbar": {
              "outlinewidth": 0,
              "ticks": ""
             }
            },
            "marker": {
             "colorbar": {
              "outlinewidth": 0,
              "ticks": ""
             }
            },
            "type": "scatter3d"
           }
          ],
          "scattercarpet": [
           {
            "marker": {
             "colorbar": {
              "outlinewidth": 0,
              "ticks": ""
             }
            },
            "type": "scattercarpet"
           }
          ],
          "scattergeo": [
           {
            "marker": {
             "colorbar": {
              "outlinewidth": 0,
              "ticks": ""
             }
            },
            "type": "scattergeo"
           }
          ],
          "scattergl": [
           {
            "marker": {
             "colorbar": {
              "outlinewidth": 0,
              "ticks": ""
             }
            },
            "type": "scattergl"
           }
          ],
          "scattermapbox": [
           {
            "marker": {
             "colorbar": {
              "outlinewidth": 0,
              "ticks": ""
             }
            },
            "type": "scattermapbox"
           }
          ],
          "scatterpolar": [
           {
            "marker": {
             "colorbar": {
              "outlinewidth": 0,
              "ticks": ""
             }
            },
            "type": "scatterpolar"
           }
          ],
          "scatterpolargl": [
           {
            "marker": {
             "colorbar": {
              "outlinewidth": 0,
              "ticks": ""
             }
            },
            "type": "scatterpolargl"
           }
          ],
          "scatterternary": [
           {
            "marker": {
             "colorbar": {
              "outlinewidth": 0,
              "ticks": ""
             }
            },
            "type": "scatterternary"
           }
          ],
          "surface": [
           {
            "colorbar": {
             "outlinewidth": 0,
             "ticks": ""
            },
            "colorscale": [
             [
              0,
              "#0d0887"
             ],
             [
              0.1111111111111111,
              "#46039f"
             ],
             [
              0.2222222222222222,
              "#7201a8"
             ],
             [
              0.3333333333333333,
              "#9c179e"
             ],
             [
              0.4444444444444444,
              "#bd3786"
             ],
             [
              0.5555555555555556,
              "#d8576b"
             ],
             [
              0.6666666666666666,
              "#ed7953"
             ],
             [
              0.7777777777777778,
              "#fb9f3a"
             ],
             [
              0.8888888888888888,
              "#fdca26"
             ],
             [
              1,
              "#f0f921"
             ]
            ],
            "type": "surface"
           }
          ],
          "table": [
           {
            "cells": {
             "fill": {
              "color": "#EBF0F8"
             },
             "line": {
              "color": "white"
             }
            },
            "header": {
             "fill": {
              "color": "#C8D4E3"
             },
             "line": {
              "color": "white"
             }
            },
            "type": "table"
           }
          ]
         },
         "layout": {
          "annotationdefaults": {
           "arrowcolor": "#2a3f5f",
           "arrowhead": 0,
           "arrowwidth": 1
          },
          "autotypenumbers": "strict",
          "coloraxis": {
           "colorbar": {
            "outlinewidth": 0,
            "ticks": ""
           }
          },
          "colorscale": {
           "diverging": [
            [
             0,
             "#8e0152"
            ],
            [
             0.1,
             "#c51b7d"
            ],
            [
             0.2,
             "#de77ae"
            ],
            [
             0.3,
             "#f1b6da"
            ],
            [
             0.4,
             "#fde0ef"
            ],
            [
             0.5,
             "#f7f7f7"
            ],
            [
             0.6,
             "#e6f5d0"
            ],
            [
             0.7,
             "#b8e186"
            ],
            [
             0.8,
             "#7fbc41"
            ],
            [
             0.9,
             "#4d9221"
            ],
            [
             1,
             "#276419"
            ]
           ],
           "sequential": [
            [
             0,
             "#0d0887"
            ],
            [
             0.1111111111111111,
             "#46039f"
            ],
            [
             0.2222222222222222,
             "#7201a8"
            ],
            [
             0.3333333333333333,
             "#9c179e"
            ],
            [
             0.4444444444444444,
             "#bd3786"
            ],
            [
             0.5555555555555556,
             "#d8576b"
            ],
            [
             0.6666666666666666,
             "#ed7953"
            ],
            [
             0.7777777777777778,
             "#fb9f3a"
            ],
            [
             0.8888888888888888,
             "#fdca26"
            ],
            [
             1,
             "#f0f921"
            ]
           ],
           "sequentialminus": [
            [
             0,
             "#0d0887"
            ],
            [
             0.1111111111111111,
             "#46039f"
            ],
            [
             0.2222222222222222,
             "#7201a8"
            ],
            [
             0.3333333333333333,
             "#9c179e"
            ],
            [
             0.4444444444444444,
             "#bd3786"
            ],
            [
             0.5555555555555556,
             "#d8576b"
            ],
            [
             0.6666666666666666,
             "#ed7953"
            ],
            [
             0.7777777777777778,
             "#fb9f3a"
            ],
            [
             0.8888888888888888,
             "#fdca26"
            ],
            [
             1,
             "#f0f921"
            ]
           ]
          },
          "colorway": [
           "#636efa",
           "#EF553B",
           "#00cc96",
           "#ab63fa",
           "#FFA15A",
           "#19d3f3",
           "#FF6692",
           "#B6E880",
           "#FF97FF",
           "#FECB52"
          ],
          "font": {
           "color": "#2a3f5f"
          },
          "geo": {
           "bgcolor": "white",
           "lakecolor": "white",
           "landcolor": "white",
           "showlakes": true,
           "showland": true,
           "subunitcolor": "#C8D4E3"
          },
          "hoverlabel": {
           "align": "left"
          },
          "hovermode": "closest",
          "mapbox": {
           "style": "light"
          },
          "paper_bgcolor": "white",
          "plot_bgcolor": "white",
          "polar": {
           "angularaxis": {
            "gridcolor": "#EBF0F8",
            "linecolor": "#EBF0F8",
            "ticks": ""
           },
           "bgcolor": "white",
           "radialaxis": {
            "gridcolor": "#EBF0F8",
            "linecolor": "#EBF0F8",
            "ticks": ""
           }
          },
          "scene": {
           "xaxis": {
            "backgroundcolor": "white",
            "gridcolor": "#DFE8F3",
            "gridwidth": 2,
            "linecolor": "#EBF0F8",
            "showbackground": true,
            "ticks": "",
            "zerolinecolor": "#EBF0F8"
           },
           "yaxis": {
            "backgroundcolor": "white",
            "gridcolor": "#DFE8F3",
            "gridwidth": 2,
            "linecolor": "#EBF0F8",
            "showbackground": true,
            "ticks": "",
            "zerolinecolor": "#EBF0F8"
           },
           "zaxis": {
            "backgroundcolor": "white",
            "gridcolor": "#DFE8F3",
            "gridwidth": 2,
            "linecolor": "#EBF0F8",
            "showbackground": true,
            "ticks": "",
            "zerolinecolor": "#EBF0F8"
           }
          },
          "shapedefaults": {
           "line": {
            "color": "#2a3f5f"
           }
          },
          "ternary": {
           "aaxis": {
            "gridcolor": "#DFE8F3",
            "linecolor": "#A2B1C6",
            "ticks": ""
           },
           "baxis": {
            "gridcolor": "#DFE8F3",
            "linecolor": "#A2B1C6",
            "ticks": ""
           },
           "bgcolor": "white",
           "caxis": {
            "gridcolor": "#DFE8F3",
            "linecolor": "#A2B1C6",
            "ticks": ""
           }
          },
          "title": {
           "x": 0.05
          },
          "xaxis": {
           "automargin": true,
           "gridcolor": "#EBF0F8",
           "linecolor": "#EBF0F8",
           "ticks": "",
           "title": {
            "standoff": 15
           },
           "zerolinecolor": "#EBF0F8",
           "zerolinewidth": 2
          },
          "yaxis": {
           "automargin": true,
           "gridcolor": "#EBF0F8",
           "linecolor": "#EBF0F8",
           "ticks": "",
           "title": {
            "standoff": 15
           },
           "zerolinecolor": "#EBF0F8",
           "zerolinewidth": 2
          }
         }
        },
        "title": {
         "text": "Optimization History Plot"
        },
        "width": 1000,
        "xaxis": {
         "title": {
          "text": "Trial"
         }
        },
        "yaxis": {
         "title": {
          "text": "Objective Value"
         }
        }
       }
      }
     },
     "metadata": {},
     "output_type": "display_data"
    },
    {
     "data": {
      "application/vnd.plotly.v1+json": {
       "config": {
        "plotlyServerURL": "https://plot.ly"
       },
       "data": [
        {
         "marker": {
          "color": [
           0,
           1,
           2,
           3,
           4,
           5,
           6,
           7,
           8,
           9
          ],
          "colorbar": {
           "title": {
            "text": "Trial"
           },
           "x": 1,
           "xpad": 40
          },
          "colorscale": [
           [
            0,
            "rgb(247,251,255)"
           ],
           [
            0.125,
            "rgb(222,235,247)"
           ],
           [
            0.25,
            "rgb(198,219,239)"
           ],
           [
            0.375,
            "rgb(158,202,225)"
           ],
           [
            0.5,
            "rgb(107,174,214)"
           ],
           [
            0.625,
            "rgb(66,146,198)"
           ],
           [
            0.75,
            "rgb(33,113,181)"
           ],
           [
            0.875,
            "rgb(8,81,156)"
           ],
           [
            1,
            "rgb(8,48,107)"
           ]
          ],
          "line": {
           "color": "Grey",
           "width": 0.5
          },
          "showscale": true
         },
         "mode": "markers",
         "showlegend": false,
         "type": "scatter",
         "x": [
          "DecisionTree",
          "LogisticRegression",
          "DecisionTree",
          "LogisticRegression",
          "DecisionTree",
          "LogisticRegression",
          "DecisionTree",
          "RandomForest",
          "DecisionTree",
          "DecisionTree"
         ],
         "xaxis": "x",
         "y": [
          0.491,
          0.287,
          0.491,
          0,
          0.508,
          0.264,
          0.491,
          0.581,
          0.485,
          0.562
         ],
         "yaxis": "y"
        },
        {
         "marker": {
          "color": [
           0,
           2,
           4,
           6,
           8,
           9
          ],
          "colorbar": {
           "title": {
            "text": "Trial"
           },
           "x": 1,
           "xpad": 40
          },
          "colorscale": [
           [
            0,
            "rgb(247,251,255)"
           ],
           [
            0.125,
            "rgb(222,235,247)"
           ],
           [
            0.25,
            "rgb(198,219,239)"
           ],
           [
            0.375,
            "rgb(158,202,225)"
           ],
           [
            0.5,
            "rgb(107,174,214)"
           ],
           [
            0.625,
            "rgb(66,146,198)"
           ],
           [
            0.75,
            "rgb(33,113,181)"
           ],
           [
            0.875,
            "rgb(8,81,156)"
           ],
           [
            1,
            "rgb(8,48,107)"
           ]
          ],
          "line": {
           "color": "Grey",
           "width": 0.5
          },
          "showscale": false
         },
         "mode": "markers",
         "showlegend": false,
         "type": "scatter",
         "x": [
          30,
          49,
          15,
          26,
          16,
          7
         ],
         "xaxis": "x2",
         "y": [
          0.491,
          0.491,
          0.508,
          0.491,
          0.485,
          0.562
         ],
         "yaxis": "y2"
        },
        {
         "marker": {
          "color": [
           1,
           3,
           5
          ],
          "colorbar": {
           "title": {
            "text": "Trial"
           },
           "x": 1,
           "xpad": 40
          },
          "colorscale": [
           [
            0,
            "rgb(247,251,255)"
           ],
           [
            0.125,
            "rgb(222,235,247)"
           ],
           [
            0.25,
            "rgb(198,219,239)"
           ],
           [
            0.375,
            "rgb(158,202,225)"
           ],
           [
            0.5,
            "rgb(107,174,214)"
           ],
           [
            0.625,
            "rgb(66,146,198)"
           ],
           [
            0.75,
            "rgb(33,113,181)"
           ],
           [
            0.875,
            "rgb(8,81,156)"
           ],
           [
            1,
            "rgb(8,48,107)"
           ]
          ],
          "line": {
           "color": "Grey",
           "width": 0.5
          },
          "showscale": false
         },
         "mode": "markers",
         "showlegend": false,
         "type": "scatter",
         "x": [
          24780.71022662143,
          0.00015880132371526778,
          0.02490818711274116
         ],
         "xaxis": "x3",
         "y": [
          0.287,
          0,
          0.264
         ],
         "yaxis": "y3"
        },
        {
         "marker": {
          "color": [
           7
          ],
          "colorbar": {
           "title": {
            "text": "Trial"
           },
           "x": 1,
           "xpad": 40
          },
          "colorscale": [
           [
            0,
            "rgb(247,251,255)"
           ],
           [
            0.125,
            "rgb(222,235,247)"
           ],
           [
            0.25,
            "rgb(198,219,239)"
           ],
           [
            0.375,
            "rgb(158,202,225)"
           ],
           [
            0.5,
            "rgb(107,174,214)"
           ],
           [
            0.625,
            "rgb(66,146,198)"
           ],
           [
            0.75,
            "rgb(33,113,181)"
           ],
           [
            0.875,
            "rgb(8,81,156)"
           ],
           [
            1,
            "rgb(8,48,107)"
           ]
          ],
          "line": {
           "color": "Grey",
           "width": 0.5
          },
          "showscale": false
         },
         "mode": "markers",
         "showlegend": false,
         "type": "scatter",
         "x": [
          18
         ],
         "xaxis": "x4",
         "y": [
          0.581
         ],
         "yaxis": "y4"
        },
        {
         "marker": {
          "color": [
           7
          ],
          "colorbar": {
           "title": {
            "text": "Trial"
           },
           "x": 1,
           "xpad": 40
          },
          "colorscale": [
           [
            0,
            "rgb(247,251,255)"
           ],
           [
            0.125,
            "rgb(222,235,247)"
           ],
           [
            0.25,
            "rgb(198,219,239)"
           ],
           [
            0.375,
            "rgb(158,202,225)"
           ],
           [
            0.5,
            "rgb(107,174,214)"
           ],
           [
            0.625,
            "rgb(66,146,198)"
           ],
           [
            0.75,
            "rgb(33,113,181)"
           ],
           [
            0.875,
            "rgb(8,81,156)"
           ],
           [
            1,
            "rgb(8,48,107)"
           ]
          ],
          "line": {
           "color": "Grey",
           "width": 0.5
          },
          "showscale": false
         },
         "mode": "markers",
         "showlegend": false,
         "type": "scatter",
         "x": [
          158
         ],
         "xaxis": "x5",
         "y": [
          0.581
         ],
         "yaxis": "y5"
        }
       ],
       "layout": {
        "height": 500,
        "template": {
         "data": {
          "bar": [
           {
            "error_x": {
             "color": "#2a3f5f"
            },
            "error_y": {
             "color": "#2a3f5f"
            },
            "marker": {
             "line": {
              "color": "white",
              "width": 0.5
             },
             "pattern": {
              "fillmode": "overlay",
              "size": 10,
              "solidity": 0.2
             }
            },
            "type": "bar"
           }
          ],
          "barpolar": [
           {
            "marker": {
             "line": {
              "color": "white",
              "width": 0.5
             },
             "pattern": {
              "fillmode": "overlay",
              "size": 10,
              "solidity": 0.2
             }
            },
            "type": "barpolar"
           }
          ],
          "carpet": [
           {
            "aaxis": {
             "endlinecolor": "#2a3f5f",
             "gridcolor": "#C8D4E3",
             "linecolor": "#C8D4E3",
             "minorgridcolor": "#C8D4E3",
             "startlinecolor": "#2a3f5f"
            },
            "baxis": {
             "endlinecolor": "#2a3f5f",
             "gridcolor": "#C8D4E3",
             "linecolor": "#C8D4E3",
             "minorgridcolor": "#C8D4E3",
             "startlinecolor": "#2a3f5f"
            },
            "type": "carpet"
           }
          ],
          "choropleth": [
           {
            "colorbar": {
             "outlinewidth": 0,
             "ticks": ""
            },
            "type": "choropleth"
           }
          ],
          "contour": [
           {
            "colorbar": {
             "outlinewidth": 0,
             "ticks": ""
            },
            "colorscale": [
             [
              0,
              "#0d0887"
             ],
             [
              0.1111111111111111,
              "#46039f"
             ],
             [
              0.2222222222222222,
              "#7201a8"
             ],
             [
              0.3333333333333333,
              "#9c179e"
             ],
             [
              0.4444444444444444,
              "#bd3786"
             ],
             [
              0.5555555555555556,
              "#d8576b"
             ],
             [
              0.6666666666666666,
              "#ed7953"
             ],
             [
              0.7777777777777778,
              "#fb9f3a"
             ],
             [
              0.8888888888888888,
              "#fdca26"
             ],
             [
              1,
              "#f0f921"
             ]
            ],
            "type": "contour"
           }
          ],
          "contourcarpet": [
           {
            "colorbar": {
             "outlinewidth": 0,
             "ticks": ""
            },
            "type": "contourcarpet"
           }
          ],
          "heatmap": [
           {
            "colorbar": {
             "outlinewidth": 0,
             "ticks": ""
            },
            "colorscale": [
             [
              0,
              "#0d0887"
             ],
             [
              0.1111111111111111,
              "#46039f"
             ],
             [
              0.2222222222222222,
              "#7201a8"
             ],
             [
              0.3333333333333333,
              "#9c179e"
             ],
             [
              0.4444444444444444,
              "#bd3786"
             ],
             [
              0.5555555555555556,
              "#d8576b"
             ],
             [
              0.6666666666666666,
              "#ed7953"
             ],
             [
              0.7777777777777778,
              "#fb9f3a"
             ],
             [
              0.8888888888888888,
              "#fdca26"
             ],
             [
              1,
              "#f0f921"
             ]
            ],
            "type": "heatmap"
           }
          ],
          "heatmapgl": [
           {
            "colorbar": {
             "outlinewidth": 0,
             "ticks": ""
            },
            "colorscale": [
             [
              0,
              "#0d0887"
             ],
             [
              0.1111111111111111,
              "#46039f"
             ],
             [
              0.2222222222222222,
              "#7201a8"
             ],
             [
              0.3333333333333333,
              "#9c179e"
             ],
             [
              0.4444444444444444,
              "#bd3786"
             ],
             [
              0.5555555555555556,
              "#d8576b"
             ],
             [
              0.6666666666666666,
              "#ed7953"
             ],
             [
              0.7777777777777778,
              "#fb9f3a"
             ],
             [
              0.8888888888888888,
              "#fdca26"
             ],
             [
              1,
              "#f0f921"
             ]
            ],
            "type": "heatmapgl"
           }
          ],
          "histogram": [
           {
            "marker": {
             "pattern": {
              "fillmode": "overlay",
              "size": 10,
              "solidity": 0.2
             }
            },
            "type": "histogram"
           }
          ],
          "histogram2d": [
           {
            "colorbar": {
             "outlinewidth": 0,
             "ticks": ""
            },
            "colorscale": [
             [
              0,
              "#0d0887"
             ],
             [
              0.1111111111111111,
              "#46039f"
             ],
             [
              0.2222222222222222,
              "#7201a8"
             ],
             [
              0.3333333333333333,
              "#9c179e"
             ],
             [
              0.4444444444444444,
              "#bd3786"
             ],
             [
              0.5555555555555556,
              "#d8576b"
             ],
             [
              0.6666666666666666,
              "#ed7953"
             ],
             [
              0.7777777777777778,
              "#fb9f3a"
             ],
             [
              0.8888888888888888,
              "#fdca26"
             ],
             [
              1,
              "#f0f921"
             ]
            ],
            "type": "histogram2d"
           }
          ],
          "histogram2dcontour": [
           {
            "colorbar": {
             "outlinewidth": 0,
             "ticks": ""
            },
            "colorscale": [
             [
              0,
              "#0d0887"
             ],
             [
              0.1111111111111111,
              "#46039f"
             ],
             [
              0.2222222222222222,
              "#7201a8"
             ],
             [
              0.3333333333333333,
              "#9c179e"
             ],
             [
              0.4444444444444444,
              "#bd3786"
             ],
             [
              0.5555555555555556,
              "#d8576b"
             ],
             [
              0.6666666666666666,
              "#ed7953"
             ],
             [
              0.7777777777777778,
              "#fb9f3a"
             ],
             [
              0.8888888888888888,
              "#fdca26"
             ],
             [
              1,
              "#f0f921"
             ]
            ],
            "type": "histogram2dcontour"
           }
          ],
          "mesh3d": [
           {
            "colorbar": {
             "outlinewidth": 0,
             "ticks": ""
            },
            "type": "mesh3d"
           }
          ],
          "parcoords": [
           {
            "line": {
             "colorbar": {
              "outlinewidth": 0,
              "ticks": ""
             }
            },
            "type": "parcoords"
           }
          ],
          "pie": [
           {
            "automargin": true,
            "type": "pie"
           }
          ],
          "scatter": [
           {
            "fillpattern": {
             "fillmode": "overlay",
             "size": 10,
             "solidity": 0.2
            },
            "type": "scatter"
           }
          ],
          "scatter3d": [
           {
            "line": {
             "colorbar": {
              "outlinewidth": 0,
              "ticks": ""
             }
            },
            "marker": {
             "colorbar": {
              "outlinewidth": 0,
              "ticks": ""
             }
            },
            "type": "scatter3d"
           }
          ],
          "scattercarpet": [
           {
            "marker": {
             "colorbar": {
              "outlinewidth": 0,
              "ticks": ""
             }
            },
            "type": "scattercarpet"
           }
          ],
          "scattergeo": [
           {
            "marker": {
             "colorbar": {
              "outlinewidth": 0,
              "ticks": ""
             }
            },
            "type": "scattergeo"
           }
          ],
          "scattergl": [
           {
            "marker": {
             "colorbar": {
              "outlinewidth": 0,
              "ticks": ""
             }
            },
            "type": "scattergl"
           }
          ],
          "scattermapbox": [
           {
            "marker": {
             "colorbar": {
              "outlinewidth": 0,
              "ticks": ""
             }
            },
            "type": "scattermapbox"
           }
          ],
          "scatterpolar": [
           {
            "marker": {
             "colorbar": {
              "outlinewidth": 0,
              "ticks": ""
             }
            },
            "type": "scatterpolar"
           }
          ],
          "scatterpolargl": [
           {
            "marker": {
             "colorbar": {
              "outlinewidth": 0,
              "ticks": ""
             }
            },
            "type": "scatterpolargl"
           }
          ],
          "scatterternary": [
           {
            "marker": {
             "colorbar": {
              "outlinewidth": 0,
              "ticks": ""
             }
            },
            "type": "scatterternary"
           }
          ],
          "surface": [
           {
            "colorbar": {
             "outlinewidth": 0,
             "ticks": ""
            },
            "colorscale": [
             [
              0,
              "#0d0887"
             ],
             [
              0.1111111111111111,
              "#46039f"
             ],
             [
              0.2222222222222222,
              "#7201a8"
             ],
             [
              0.3333333333333333,
              "#9c179e"
             ],
             [
              0.4444444444444444,
              "#bd3786"
             ],
             [
              0.5555555555555556,
              "#d8576b"
             ],
             [
              0.6666666666666666,
              "#ed7953"
             ],
             [
              0.7777777777777778,
              "#fb9f3a"
             ],
             [
              0.8888888888888888,
              "#fdca26"
             ],
             [
              1,
              "#f0f921"
             ]
            ],
            "type": "surface"
           }
          ],
          "table": [
           {
            "cells": {
             "fill": {
              "color": "#EBF0F8"
             },
             "line": {
              "color": "white"
             }
            },
            "header": {
             "fill": {
              "color": "#C8D4E3"
             },
             "line": {
              "color": "white"
             }
            },
            "type": "table"
           }
          ]
         },
         "layout": {
          "annotationdefaults": {
           "arrowcolor": "#2a3f5f",
           "arrowhead": 0,
           "arrowwidth": 1
          },
          "autotypenumbers": "strict",
          "coloraxis": {
           "colorbar": {
            "outlinewidth": 0,
            "ticks": ""
           }
          },
          "colorscale": {
           "diverging": [
            [
             0,
             "#8e0152"
            ],
            [
             0.1,
             "#c51b7d"
            ],
            [
             0.2,
             "#de77ae"
            ],
            [
             0.3,
             "#f1b6da"
            ],
            [
             0.4,
             "#fde0ef"
            ],
            [
             0.5,
             "#f7f7f7"
            ],
            [
             0.6,
             "#e6f5d0"
            ],
            [
             0.7,
             "#b8e186"
            ],
            [
             0.8,
             "#7fbc41"
            ],
            [
             0.9,
             "#4d9221"
            ],
            [
             1,
             "#276419"
            ]
           ],
           "sequential": [
            [
             0,
             "#0d0887"
            ],
            [
             0.1111111111111111,
             "#46039f"
            ],
            [
             0.2222222222222222,
             "#7201a8"
            ],
            [
             0.3333333333333333,
             "#9c179e"
            ],
            [
             0.4444444444444444,
             "#bd3786"
            ],
            [
             0.5555555555555556,
             "#d8576b"
            ],
            [
             0.6666666666666666,
             "#ed7953"
            ],
            [
             0.7777777777777778,
             "#fb9f3a"
            ],
            [
             0.8888888888888888,
             "#fdca26"
            ],
            [
             1,
             "#f0f921"
            ]
           ],
           "sequentialminus": [
            [
             0,
             "#0d0887"
            ],
            [
             0.1111111111111111,
             "#46039f"
            ],
            [
             0.2222222222222222,
             "#7201a8"
            ],
            [
             0.3333333333333333,
             "#9c179e"
            ],
            [
             0.4444444444444444,
             "#bd3786"
            ],
            [
             0.5555555555555556,
             "#d8576b"
            ],
            [
             0.6666666666666666,
             "#ed7953"
            ],
            [
             0.7777777777777778,
             "#fb9f3a"
            ],
            [
             0.8888888888888888,
             "#fdca26"
            ],
            [
             1,
             "#f0f921"
            ]
           ]
          },
          "colorway": [
           "#636efa",
           "#EF553B",
           "#00cc96",
           "#ab63fa",
           "#FFA15A",
           "#19d3f3",
           "#FF6692",
           "#B6E880",
           "#FF97FF",
           "#FECB52"
          ],
          "font": {
           "color": "#2a3f5f"
          },
          "geo": {
           "bgcolor": "white",
           "lakecolor": "white",
           "landcolor": "white",
           "showlakes": true,
           "showland": true,
           "subunitcolor": "#C8D4E3"
          },
          "hoverlabel": {
           "align": "left"
          },
          "hovermode": "closest",
          "mapbox": {
           "style": "light"
          },
          "paper_bgcolor": "white",
          "plot_bgcolor": "white",
          "polar": {
           "angularaxis": {
            "gridcolor": "#EBF0F8",
            "linecolor": "#EBF0F8",
            "ticks": ""
           },
           "bgcolor": "white",
           "radialaxis": {
            "gridcolor": "#EBF0F8",
            "linecolor": "#EBF0F8",
            "ticks": ""
           }
          },
          "scene": {
           "xaxis": {
            "backgroundcolor": "white",
            "gridcolor": "#DFE8F3",
            "gridwidth": 2,
            "linecolor": "#EBF0F8",
            "showbackground": true,
            "ticks": "",
            "zerolinecolor": "#EBF0F8"
           },
           "yaxis": {
            "backgroundcolor": "white",
            "gridcolor": "#DFE8F3",
            "gridwidth": 2,
            "linecolor": "#EBF0F8",
            "showbackground": true,
            "ticks": "",
            "zerolinecolor": "#EBF0F8"
           },
           "zaxis": {
            "backgroundcolor": "white",
            "gridcolor": "#DFE8F3",
            "gridwidth": 2,
            "linecolor": "#EBF0F8",
            "showbackground": true,
            "ticks": "",
            "zerolinecolor": "#EBF0F8"
           }
          },
          "shapedefaults": {
           "line": {
            "color": "#2a3f5f"
           }
          },
          "ternary": {
           "aaxis": {
            "gridcolor": "#DFE8F3",
            "linecolor": "#A2B1C6",
            "ticks": ""
           },
           "baxis": {
            "gridcolor": "#DFE8F3",
            "linecolor": "#A2B1C6",
            "ticks": ""
           },
           "bgcolor": "white",
           "caxis": {
            "gridcolor": "#DFE8F3",
            "linecolor": "#A2B1C6",
            "ticks": ""
           }
          },
          "title": {
           "x": 0.05
          },
          "xaxis": {
           "automargin": true,
           "gridcolor": "#EBF0F8",
           "linecolor": "#EBF0F8",
           "ticks": "",
           "title": {
            "standoff": 15
           },
           "zerolinecolor": "#EBF0F8",
           "zerolinewidth": 2
          },
          "yaxis": {
           "automargin": true,
           "gridcolor": "#EBF0F8",
           "linecolor": "#EBF0F8",
           "ticks": "",
           "title": {
            "standoff": 15
           },
           "zerolinecolor": "#EBF0F8",
           "zerolinewidth": 2
          }
         }
        },
        "title": {
         "text": "Slice Plot"
        },
        "width": 1000,
        "xaxis": {
         "anchor": "y",
         "domain": [
          0,
          0.16799999999999998
         ],
         "tickangle": -90,
         "title": {
          "text": "classifier"
         }
        },
        "xaxis2": {
         "anchor": "y2",
         "domain": [
          0.208,
          0.376
         ],
         "tickangle": -90,
         "title": {
          "text": "dt_max_depth"
         }
        },
        "xaxis3": {
         "anchor": "y3",
         "domain": [
          0.416,
          0.584
         ],
         "tickangle": -90,
         "title": {
          "text": "lr_c"
         },
         "type": "log"
        },
        "xaxis4": {
         "anchor": "y4",
         "domain": [
          0.624,
          0.792
         ],
         "tickangle": -90,
         "title": {
          "text": "rf_max_depth"
         }
        },
        "xaxis5": {
         "anchor": "y5",
         "domain": [
          0.832,
          1
         ],
         "tickangle": -90,
         "title": {
          "text": "rf_n_estimators"
         }
        },
        "yaxis": {
         "anchor": "x",
         "domain": [
          0,
          1
         ],
         "title": {
          "text": "Objective Value"
         }
        },
        "yaxis2": {
         "anchor": "x2",
         "domain": [
          0,
          1
         ],
         "matches": "y",
         "showticklabels": false
        },
        "yaxis3": {
         "anchor": "x3",
         "domain": [
          0,
          1
         ],
         "matches": "y",
         "showticklabels": false
        },
        "yaxis4": {
         "anchor": "x4",
         "domain": [
          0,
          1
         ],
         "matches": "y",
         "showticklabels": false
        },
        "yaxis5": {
         "anchor": "x5",
         "domain": [
          0,
          1
         ],
         "matches": "y",
         "showticklabels": false
        }
       }
      }
     },
     "metadata": {},
     "output_type": "display_data"
    },
    {
     "data": {
      "application/vnd.plotly.v1+json": {
       "config": {
        "plotlyServerURL": "https://plot.ly"
       },
       "data": [
        {
         "mode": "lines",
         "name": "Validation set ROC (AUC = 0.85)",
         "type": "scatter",
         "x": [
          0,
          0,
          0,
          0,
          0,
          0,
          0,
          0,
          0.0008223684210526315,
          0.0008223684210526315,
          0.0008223684210526315,
          0.0008223684210526315,
          0.0008223684210526315,
          0.0008223684210526315,
          0.0008223684210526315,
          0.0008223684210526315,
          0.001644736842105263,
          0.001644736842105263,
          0.001644736842105263,
          0.001644736842105263,
          0.0024671052631578946,
          0.0024671052631578946,
          0.003289473684210526,
          0.004111842105263158,
          0.005756578947368421,
          0.006578947368421052,
          0.006578947368421052,
          0.007401315789473684,
          0.007401315789473684,
          0.008223684210526315,
          0.008223684210526315,
          0.009046052631578948,
          0.009046052631578948,
          0.009868421052631578,
          0.009868421052631578,
          0.01069078947368421,
          0.01069078947368421,
          0.011513157894736841,
          0.011513157894736841,
          0.012335526315789474,
          0.012335526315789474,
          0.013157894736842105,
          0.013157894736842105,
          0.013980263157894737,
          0.013980263157894737,
          0.015625,
          0.015625,
          0.017269736842105265,
          0.017269736842105265,
          0.018092105263157895,
          0.018092105263157895,
          0.02138157894736842,
          0.02138157894736842,
          0.022203947368421052,
          0.022203947368421052,
          0.022203947368421052,
          0.022203947368421052,
          0.023848684210526317,
          0.023848684210526317,
          0.024671052631578948,
          0.024671052631578948,
          0.02631578947368421,
          0.027138157894736843,
          0.027138157894736843,
          0.027960526315789474,
          0.027960526315789474,
          0.029605263157894735,
          0.029605263157894735,
          0.03289473684210526,
          0.03289473684210526,
          0.03289473684210526,
          0.033717105263157895,
          0.033717105263157895,
          0.03700657894736842,
          0.03700657894736842,
          0.03782894736842105,
          0.03782894736842105,
          0.04029605263157895,
          0.04029605263157895,
          0.04194078947368421,
          0.04194078947368421,
          0.04276315789473684,
          0.04276315789473684,
          0.04358552631578947,
          0.04358552631578947,
          0.046875,
          0.046875,
          0.047697368421052634,
          0.047697368421052634,
          0.04851973684210526,
          0.05016447368421053,
          0.05016447368421053,
          0.05180921052631579,
          0.05263157894736842,
          0.05263157894736842,
          0.05756578947368421,
          0.05756578947368421,
          0.06085526315789474,
          0.06085526315789474,
          0.061677631578947366,
          0.061677631578947366,
          0.06332236842105263,
          0.06332236842105263,
          0.0649671052631579,
          0.0649671052631579,
          0.07154605263157894,
          0.07154605263157894,
          0.07401315789473684,
          0.07401315789473684,
          0.0756578947368421,
          0.0756578947368421,
          0.07648026315789473,
          0.07648026315789473,
          0.078125,
          0.078125,
          0.0805921052631579,
          0.0805921052631579,
          0.08223684210526316,
          0.08388157894736842,
          0.08388157894736842,
          0.08717105263157894,
          0.08717105263157894,
          0.08963815789473684,
          0.0912828947368421,
          0.10773026315789473,
          0.10773026315789473,
          0.109375,
          0.109375,
          0.11019736842105263,
          0.11019736842105263,
          0.11348684210526316,
          0.11348684210526316,
          0.11430921052631579,
          0.11595394736842106,
          0.11842105263157894,
          0.11842105263157894,
          0.11924342105263158,
          0.11924342105263158,
          0.12088815789473684,
          0.12171052631578948,
          0.1225328947368421,
          0.1225328947368421,
          0.125,
          0.12746710526315788,
          0.12828947368421054,
          0.12828947368421054,
          0.13157894736842105,
          0.13157894736842105,
          0.13322368421052633,
          0.13322368421052633,
          0.13651315789473684,
          0.13815789473684212,
          0.140625,
          0.140625,
          0.14144736842105263,
          0.14144736842105263,
          0.14226973684210525,
          0.14226973684210525,
          0.1455592105263158,
          0.14638157894736842,
          0.14884868421052633,
          0.14884868421052633,
          0.15049342105263158,
          0.15049342105263158,
          0.15296052631578946,
          0.15296052631578946,
          0.16200657894736842,
          0.16282894736842105,
          0.16447368421052633,
          0.16447368421052633,
          0.16776315789473684,
          0.16776315789473684,
          0.17351973684210525,
          0.17351973684210525,
          0.17516447368421054,
          0.17516447368421054,
          0.1825657894736842,
          0.1825657894736842,
          0.19161184210526316,
          0.19161184210526316,
          0.19325657894736842,
          0.19325657894736842,
          0.19407894736842105,
          0.19407894736842105,
          0.1981907894736842,
          0.19901315789473684,
          0.20230263157894737,
          0.20230263157894737,
          0.20559210526315788,
          0.20559210526315788,
          0.20641447368421054,
          0.20641447368421054,
          0.2080592105263158,
          0.21134868421052633,
          0.21217105263157895,
          0.21217105263157895,
          0.21957236842105263,
          0.22203947368421054,
          0.22286184210526316,
          0.22286184210526316,
          0.22615131578947367,
          0.22615131578947367,
          0.2294407894736842,
          0.23190789473684212,
          0.23848684210526316,
          0.24013157894736842,
          0.24671052631578946,
          0.24671052631578946,
          0.2524671052631579,
          0.2524671052631579,
          0.2532894736842105,
          0.2532894736842105,
          0.2598684210526316,
          0.2623355263157895,
          0.265625,
          0.265625,
          0.2689144736842105,
          0.26973684210526316,
          0.2754934210526316,
          0.2754934210526316,
          0.27713815789473684,
          0.2787828947368421,
          0.28042763157894735,
          0.28042763157894735,
          0.28125,
          0.28125,
          0.2870065789473684,
          0.2870065789473684,
          0.2894736842105263,
          0.2894736842105263,
          0.29605263157894735,
          0.29605263157894735,
          0.296875,
          0.296875,
          0.2993421052631579,
          0.2993421052631579,
          0.30098684210526316,
          0.30098684210526316,
          0.31167763157894735,
          0.31167763157894735,
          0.31332236842105265,
          0.31414473684210525,
          0.31743421052631576,
          0.31743421052631576,
          0.3223684210526316,
          0.3223684210526316,
          0.32401315789473684,
          0.34375,
          0.34375,
          0.3511513157894737,
          0.3511513157894737,
          0.3536184210526316,
          0.3560855263157895,
          0.3560855263157895,
          0.36430921052631576,
          0.36430921052631576,
          0.3840460526315789,
          0.3840460526315789,
          0.3873355263157895,
          0.39144736842105265,
          0.3939144736842105,
          0.3939144736842105,
          0.40542763157894735,
          0.40542763157894735,
          0.4087171052631579,
          0.4120065789473684,
          0.4120065789473684,
          0.41776315789473684,
          0.41776315789473684,
          0.4194078947368421,
          0.4194078947368421,
          0.42351973684210525,
          0.42351973684210525,
          0.4243421052631579,
          0.4243421052631579,
          0.4251644736842105,
          0.4251644736842105,
          0.4317434210526316,
          0.4350328947368421,
          0.4399671052631579,
          0.4399671052631579,
          0.4465460526315789,
          0.4465460526315789,
          0.4498355263157895,
          0.4555921052631579,
          0.4555921052631579,
          0.4613486842105263,
          0.4613486842105263,
          0.4662828947368421,
          0.4662828947368421,
          0.46792763157894735,
          0.4745065789473684,
          0.48930921052631576,
          0.4909539473684211,
          0.5024671052631579,
          0.5024671052631579,
          0.5032894736842105,
          0.5032894736842105,
          0.5131578947368421,
          0.5172697368421053,
          0.5213815789473685,
          0.5213815789473685,
          0.5304276315789473,
          0.5304276315789473,
          0.5427631578947368,
          0.5435855263157895,
          0.546875,
          0.546875,
          0.555921052631579,
          0.555921052631579,
          0.5567434210526315,
          0.5600328947368421,
          0.578125,
          0.578125,
          0.5822368421052632,
          0.6011513157894737,
          0.6011513157894737,
          0.602796052631579,
          0.609375,
          0.6167763157894737,
          0.6167763157894737,
          0.6233552631578947,
          0.625,
          0.6398026315789473,
          0.6463815789473685,
          0.6776315789473685,
          0.6792763157894737,
          0.6800986842105263,
          0.6875,
          0.6957236842105263,
          0.6957236842105263,
          0.7055921052631579,
          0.7055921052631579,
          0.7113486842105263,
          0.7113486842105263,
          0.7162828947368421,
          0.7236842105263158,
          0.7368421052631579,
          0.7376644736842105,
          0.7508223684210527,
          0.7524671052631579,
          0.7541118421052632,
          0.7557565789473685,
          0.756578947368421,
          0.7623355263157895,
          0.7664473684210527,
          0.7664473684210527,
          0.7689144736842105,
          0.7689144736842105,
          0.7705592105263158,
          0.7787828947368421,
          0.7787828947368421,
          0.7861842105263158,
          0.787828947368421,
          0.7944078947368421,
          0.7960526315789473,
          0.8042763157894737,
          0.8396381578947368,
          0.8453947368421053,
          0.8708881578947368,
          0.8725328947368421,
          0.875,
          0.8766447368421053,
          0.8774671052631579,
          0.8791118421052632,
          0.8799342105263158,
          0.8873355263157895,
          0.8963815789473685,
          0.8963815789473685,
          0.9111842105263158,
          0.912828947368421,
          0.9136513157894737,
          0.9243421052631579,
          0.9243421052631579,
          0.9325657894736842,
          0.9325657894736842,
          0.9605263157894737,
          0.962171052631579,
          0.9629934210526315,
          0.9646381578947368,
          0.975328947368421,
          0.9893092105263158,
          0.9893092105263158,
          0.990953947368421,
          0.9958881578947368,
          1
         ],
         "y": [
          0,
          0.0035211267605633804,
          0.01056338028169014,
          0.017605633802816902,
          0.03169014084507042,
          0.045774647887323945,
          0.0528169014084507,
          0.05985915492957746,
          0.07042253521126761,
          0.07746478873239436,
          0.08450704225352113,
          0.1056338028169014,
          0.11267605633802817,
          0.14084507042253522,
          0.15140845070422534,
          0.15492957746478872,
          0.15845070422535212,
          0.176056338028169,
          0.19014084507042253,
          0.19718309859154928,
          0.19718309859154928,
          0.20774647887323944,
          0.20774647887323944,
          0.2147887323943662,
          0.2147887323943662,
          0.22535211267605634,
          0.28169014084507044,
          0.28169014084507044,
          0.30985915492957744,
          0.30985915492957744,
          0.31338028169014087,
          0.31338028169014087,
          0.3204225352112676,
          0.3204225352112676,
          0.323943661971831,
          0.323943661971831,
          0.34507042253521125,
          0.34507042253521125,
          0.36619718309859156,
          0.36619718309859156,
          0.3732394366197183,
          0.3732394366197183,
          0.38028169014084506,
          0.38028169014084506,
          0.3873239436619718,
          0.3873239436619718,
          0.39436619718309857,
          0.39436619718309857,
          0.397887323943662,
          0.397887323943662,
          0.4084507042253521,
          0.4084507042253521,
          0.4119718309859155,
          0.4119718309859155,
          0.4154929577464789,
          0.4225352112676056,
          0.44014084507042256,
          0.44014084507042256,
          0.44366197183098594,
          0.44366197183098594,
          0.4507042253521127,
          0.4507042253521127,
          0.45422535211267606,
          0.45774647887323944,
          0.45774647887323944,
          0.4612676056338028,
          0.4612676056338028,
          0.46830985915492956,
          0.46830985915492956,
          0.4753521126760563,
          0.4823943661971831,
          0.4823943661971831,
          0.4894366197183099,
          0.4894366197183099,
          0.4964788732394366,
          0.4964788732394366,
          0.5,
          0.5,
          0.5035211267605634,
          0.5035211267605634,
          0.5070422535211268,
          0.5070422535211268,
          0.5105633802816901,
          0.5105633802816901,
          0.5176056338028169,
          0.5176056338028169,
          0.5211267605633803,
          0.5211267605633803,
          0.5246478873239436,
          0.528169014084507,
          0.528169014084507,
          0.5316901408450704,
          0.5316901408450704,
          0.5316901408450704,
          0.5352112676056338,
          0.5352112676056338,
          0.5387323943661971,
          0.5387323943661971,
          0.5422535211267606,
          0.5422535211267606,
          0.545774647887324,
          0.545774647887324,
          0.5528169014084507,
          0.5528169014084507,
          0.5563380281690141,
          0.5563380281690141,
          0.5633802816901409,
          0.5633802816901409,
          0.5704225352112676,
          0.5704225352112676,
          0.5809859154929577,
          0.5809859154929577,
          0.5845070422535211,
          0.5845070422535211,
          0.5880281690140845,
          0.5880281690140845,
          0.5915492957746479,
          0.5950704225352113,
          0.5950704225352113,
          0.6056338028169014,
          0.6056338028169014,
          0.6091549295774648,
          0.6091549295774648,
          0.6091549295774648,
          0.6091549295774648,
          0.6126760563380281,
          0.6126760563380281,
          0.6161971830985915,
          0.6161971830985915,
          0.6302816901408451,
          0.6302816901408451,
          0.6338028169014085,
          0.6338028169014085,
          0.6338028169014085,
          0.6338028169014085,
          0.6373239436619719,
          0.6373239436619719,
          0.6408450704225352,
          0.6408450704225352,
          0.6443661971830986,
          0.6443661971830986,
          0.647887323943662,
          0.647887323943662,
          0.647887323943662,
          0.647887323943662,
          0.6514084507042254,
          0.6514084507042254,
          0.6549295774647887,
          0.6549295774647887,
          0.6584507042253521,
          0.6584507042253521,
          0.6584507042253521,
          0.6584507042253521,
          0.6619718309859155,
          0.6619718309859155,
          0.6654929577464789,
          0.6654929577464789,
          0.6690140845070423,
          0.6690140845070423,
          0.6725352112676056,
          0.6725352112676056,
          0.676056338028169,
          0.676056338028169,
          0.6795774647887324,
          0.6795774647887324,
          0.6830985915492958,
          0.6830985915492958,
          0.6866197183098591,
          0.6866197183098591,
          0.6901408450704225,
          0.6901408450704225,
          0.6936619718309859,
          0.6936619718309859,
          0.6971830985915493,
          0.6971830985915493,
          0.7007042253521126,
          0.7007042253521126,
          0.7077464788732394,
          0.7077464788732394,
          0.7112676056338029,
          0.7112676056338029,
          0.7147887323943662,
          0.7147887323943662,
          0.721830985915493,
          0.721830985915493,
          0.7253521126760564,
          0.7253521126760564,
          0.7288732394366197,
          0.7288732394366197,
          0.7323943661971831,
          0.7323943661971831,
          0.7359154929577465,
          0.7359154929577465,
          0.7359154929577465,
          0.7359154929577465,
          0.7394366197183099,
          0.7394366197183099,
          0.7394366197183099,
          0.7394366197183099,
          0.7429577464788732,
          0.7429577464788732,
          0.7464788732394366,
          0.7464788732394366,
          0.7464788732394366,
          0.7464788732394366,
          0.7464788732394366,
          0.7464788732394366,
          0.75,
          0.75,
          0.7535211267605634,
          0.7535211267605634,
          0.7640845070422535,
          0.7640845070422535,
          0.7640845070422535,
          0.7640845070422535,
          0.7676056338028169,
          0.7676056338028169,
          0.7711267605633803,
          0.7711267605633803,
          0.7746478873239436,
          0.7746478873239436,
          0.7746478873239436,
          0.7746478873239436,
          0.778169014084507,
          0.778169014084507,
          0.7816901408450704,
          0.7816901408450704,
          0.7852112676056338,
          0.7852112676056338,
          0.7887323943661971,
          0.7887323943661971,
          0.795774647887324,
          0.7992957746478874,
          0.8028169014084507,
          0.8028169014084507,
          0.8063380281690141,
          0.8063380281690141,
          0.8133802816901409,
          0.8133802816901409,
          0.8169014084507042,
          0.8169014084507042,
          0.823943661971831,
          0.823943661971831,
          0.8274647887323944,
          0.8274647887323944,
          0.8309859154929577,
          0.8309859154929577,
          0.8309859154929577,
          0.8345070422535211,
          0.8345070422535211,
          0.8380281690140845,
          0.8380281690140845,
          0.8380281690140845,
          0.8415492957746479,
          0.8415492957746479,
          0.8450704225352113,
          0.8450704225352113,
          0.8485915492957746,
          0.8485915492957746,
          0.8485915492957746,
          0.8485915492957746,
          0.852112676056338,
          0.852112676056338,
          0.8556338028169014,
          0.8556338028169014,
          0.8556338028169014,
          0.8591549295774648,
          0.8591549295774648,
          0.8626760563380281,
          0.8626760563380281,
          0.8661971830985915,
          0.8661971830985915,
          0.8697183098591549,
          0.8697183098591549,
          0.8732394366197183,
          0.8732394366197183,
          0.8767605633802817,
          0.8767605633802817,
          0.8767605633802817,
          0.8767605633802817,
          0.8802816901408451,
          0.8802816901408451,
          0.8838028169014085,
          0.8838028169014085,
          0.8943661971830986,
          0.897887323943662,
          0.897887323943662,
          0.9014084507042254,
          0.9014084507042254,
          0.9084507042253521,
          0.9084507042253521,
          0.9119718309859155,
          0.9119718309859155,
          0.9119718309859155,
          0.9119718309859155,
          0.9154929577464789,
          0.9154929577464789,
          0.9190140845070423,
          0.9190140845070423,
          0.9190140845070423,
          0.9190140845070423,
          0.9225352112676056,
          0.9225352112676056,
          0.926056338028169,
          0.926056338028169,
          0.9295774647887324,
          0.9295774647887324,
          0.9330985915492958,
          0.9330985915492958,
          0.9366197183098591,
          0.9366197183098591,
          0.9401408450704225,
          0.9401408450704225,
          0.9436619718309859,
          0.9436619718309859,
          0.9436619718309859,
          0.9471830985915493,
          0.9471830985915493,
          0.9471830985915493,
          0.9471830985915493,
          0.954225352112676,
          0.954225352112676,
          0.954225352112676,
          0.954225352112676,
          0.9577464788732394,
          0.9577464788732394,
          0.9577464788732394,
          0.9577464788732394,
          0.9577464788732394,
          0.9577464788732394,
          0.9612676056338029,
          0.9612676056338029,
          0.9647887323943662,
          0.9647887323943662,
          0.9683098591549296,
          0.9683098591549296,
          0.971830985915493,
          0.971830985915493,
          0.9753521126760564,
          0.9753521126760564,
          0.9753521126760564,
          0.9753521126760564,
          0.9753521126760564,
          0.9753521126760564,
          0.9753521126760564,
          0.9753521126760564,
          0.9788732394366197,
          0.9788732394366197,
          0.9823943661971831,
          0.9823943661971831,
          0.9823943661971831,
          0.9859154929577465,
          0.9859154929577465,
          0.9859154929577465,
          0.9859154929577465,
          0.9859154929577465,
          0.9859154929577465,
          0.9859154929577465,
          0.9859154929577465,
          0.9859154929577465,
          0.9859154929577465,
          0.9859154929577465,
          0.9859154929577465,
          0.9859154929577465,
          0.9859154929577465,
          0.9859154929577465,
          0.9859154929577465,
          0.9859154929577465,
          0.9894366197183099,
          0.9894366197183099,
          0.9894366197183099,
          0.9894366197183099,
          0.9894366197183099,
          0.9929577464788732,
          0.9929577464788732,
          0.9964788732394366,
          0.9964788732394366,
          0.9964788732394366,
          0.9964788732394366,
          0.9964788732394366,
          0.9964788732394366,
          0.9964788732394366,
          1,
          1,
          1,
          1
         ]
        },
        {
         "line": {
          "color": "black",
          "dash": "dash"
         },
         "mode": "lines",
         "name": "No skill",
         "type": "scatter",
         "x": [
          0,
          1
         ],
         "y": [
          0,
          1
         ]
        }
       ],
       "layout": {
        "height": 750,
        "template": {
         "data": {
          "bar": [
           {
            "error_x": {
             "color": "#2a3f5f"
            },
            "error_y": {
             "color": "#2a3f5f"
            },
            "marker": {
             "line": {
              "color": "white",
              "width": 0.5
             },
             "pattern": {
              "fillmode": "overlay",
              "size": 10,
              "solidity": 0.2
             }
            },
            "type": "bar"
           }
          ],
          "barpolar": [
           {
            "marker": {
             "line": {
              "color": "white",
              "width": 0.5
             },
             "pattern": {
              "fillmode": "overlay",
              "size": 10,
              "solidity": 0.2
             }
            },
            "type": "barpolar"
           }
          ],
          "carpet": [
           {
            "aaxis": {
             "endlinecolor": "#2a3f5f",
             "gridcolor": "#C8D4E3",
             "linecolor": "#C8D4E3",
             "minorgridcolor": "#C8D4E3",
             "startlinecolor": "#2a3f5f"
            },
            "baxis": {
             "endlinecolor": "#2a3f5f",
             "gridcolor": "#C8D4E3",
             "linecolor": "#C8D4E3",
             "minorgridcolor": "#C8D4E3",
             "startlinecolor": "#2a3f5f"
            },
            "type": "carpet"
           }
          ],
          "choropleth": [
           {
            "colorbar": {
             "outlinewidth": 0,
             "ticks": ""
            },
            "type": "choropleth"
           }
          ],
          "contour": [
           {
            "colorbar": {
             "outlinewidth": 0,
             "ticks": ""
            },
            "colorscale": [
             [
              0,
              "#0d0887"
             ],
             [
              0.1111111111111111,
              "#46039f"
             ],
             [
              0.2222222222222222,
              "#7201a8"
             ],
             [
              0.3333333333333333,
              "#9c179e"
             ],
             [
              0.4444444444444444,
              "#bd3786"
             ],
             [
              0.5555555555555556,
              "#d8576b"
             ],
             [
              0.6666666666666666,
              "#ed7953"
             ],
             [
              0.7777777777777778,
              "#fb9f3a"
             ],
             [
              0.8888888888888888,
              "#fdca26"
             ],
             [
              1,
              "#f0f921"
             ]
            ],
            "type": "contour"
           }
          ],
          "contourcarpet": [
           {
            "colorbar": {
             "outlinewidth": 0,
             "ticks": ""
            },
            "type": "contourcarpet"
           }
          ],
          "heatmap": [
           {
            "colorbar": {
             "outlinewidth": 0,
             "ticks": ""
            },
            "colorscale": [
             [
              0,
              "#0d0887"
             ],
             [
              0.1111111111111111,
              "#46039f"
             ],
             [
              0.2222222222222222,
              "#7201a8"
             ],
             [
              0.3333333333333333,
              "#9c179e"
             ],
             [
              0.4444444444444444,
              "#bd3786"
             ],
             [
              0.5555555555555556,
              "#d8576b"
             ],
             [
              0.6666666666666666,
              "#ed7953"
             ],
             [
              0.7777777777777778,
              "#fb9f3a"
             ],
             [
              0.8888888888888888,
              "#fdca26"
             ],
             [
              1,
              "#f0f921"
             ]
            ],
            "type": "heatmap"
           }
          ],
          "heatmapgl": [
           {
            "colorbar": {
             "outlinewidth": 0,
             "ticks": ""
            },
            "colorscale": [
             [
              0,
              "#0d0887"
             ],
             [
              0.1111111111111111,
              "#46039f"
             ],
             [
              0.2222222222222222,
              "#7201a8"
             ],
             [
              0.3333333333333333,
              "#9c179e"
             ],
             [
              0.4444444444444444,
              "#bd3786"
             ],
             [
              0.5555555555555556,
              "#d8576b"
             ],
             [
              0.6666666666666666,
              "#ed7953"
             ],
             [
              0.7777777777777778,
              "#fb9f3a"
             ],
             [
              0.8888888888888888,
              "#fdca26"
             ],
             [
              1,
              "#f0f921"
             ]
            ],
            "type": "heatmapgl"
           }
          ],
          "histogram": [
           {
            "marker": {
             "pattern": {
              "fillmode": "overlay",
              "size": 10,
              "solidity": 0.2
             }
            },
            "type": "histogram"
           }
          ],
          "histogram2d": [
           {
            "colorbar": {
             "outlinewidth": 0,
             "ticks": ""
            },
            "colorscale": [
             [
              0,
              "#0d0887"
             ],
             [
              0.1111111111111111,
              "#46039f"
             ],
             [
              0.2222222222222222,
              "#7201a8"
             ],
             [
              0.3333333333333333,
              "#9c179e"
             ],
             [
              0.4444444444444444,
              "#bd3786"
             ],
             [
              0.5555555555555556,
              "#d8576b"
             ],
             [
              0.6666666666666666,
              "#ed7953"
             ],
             [
              0.7777777777777778,
              "#fb9f3a"
             ],
             [
              0.8888888888888888,
              "#fdca26"
             ],
             [
              1,
              "#f0f921"
             ]
            ],
            "type": "histogram2d"
           }
          ],
          "histogram2dcontour": [
           {
            "colorbar": {
             "outlinewidth": 0,
             "ticks": ""
            },
            "colorscale": [
             [
              0,
              "#0d0887"
             ],
             [
              0.1111111111111111,
              "#46039f"
             ],
             [
              0.2222222222222222,
              "#7201a8"
             ],
             [
              0.3333333333333333,
              "#9c179e"
             ],
             [
              0.4444444444444444,
              "#bd3786"
             ],
             [
              0.5555555555555556,
              "#d8576b"
             ],
             [
              0.6666666666666666,
              "#ed7953"
             ],
             [
              0.7777777777777778,
              "#fb9f3a"
             ],
             [
              0.8888888888888888,
              "#fdca26"
             ],
             [
              1,
              "#f0f921"
             ]
            ],
            "type": "histogram2dcontour"
           }
          ],
          "mesh3d": [
           {
            "colorbar": {
             "outlinewidth": 0,
             "ticks": ""
            },
            "type": "mesh3d"
           }
          ],
          "parcoords": [
           {
            "line": {
             "colorbar": {
              "outlinewidth": 0,
              "ticks": ""
             }
            },
            "type": "parcoords"
           }
          ],
          "pie": [
           {
            "automargin": true,
            "type": "pie"
           }
          ],
          "scatter": [
           {
            "fillpattern": {
             "fillmode": "overlay",
             "size": 10,
             "solidity": 0.2
            },
            "type": "scatter"
           }
          ],
          "scatter3d": [
           {
            "line": {
             "colorbar": {
              "outlinewidth": 0,
              "ticks": ""
             }
            },
            "marker": {
             "colorbar": {
              "outlinewidth": 0,
              "ticks": ""
             }
            },
            "type": "scatter3d"
           }
          ],
          "scattercarpet": [
           {
            "marker": {
             "colorbar": {
              "outlinewidth": 0,
              "ticks": ""
             }
            },
            "type": "scattercarpet"
           }
          ],
          "scattergeo": [
           {
            "marker": {
             "colorbar": {
              "outlinewidth": 0,
              "ticks": ""
             }
            },
            "type": "scattergeo"
           }
          ],
          "scattergl": [
           {
            "marker": {
             "colorbar": {
              "outlinewidth": 0,
              "ticks": ""
             }
            },
            "type": "scattergl"
           }
          ],
          "scattermapbox": [
           {
            "marker": {
             "colorbar": {
              "outlinewidth": 0,
              "ticks": ""
             }
            },
            "type": "scattermapbox"
           }
          ],
          "scatterpolar": [
           {
            "marker": {
             "colorbar": {
              "outlinewidth": 0,
              "ticks": ""
             }
            },
            "type": "scatterpolar"
           }
          ],
          "scatterpolargl": [
           {
            "marker": {
             "colorbar": {
              "outlinewidth": 0,
              "ticks": ""
             }
            },
            "type": "scatterpolargl"
           }
          ],
          "scatterternary": [
           {
            "marker": {
             "colorbar": {
              "outlinewidth": 0,
              "ticks": ""
             }
            },
            "type": "scatterternary"
           }
          ],
          "surface": [
           {
            "colorbar": {
             "outlinewidth": 0,
             "ticks": ""
            },
            "colorscale": [
             [
              0,
              "#0d0887"
             ],
             [
              0.1111111111111111,
              "#46039f"
             ],
             [
              0.2222222222222222,
              "#7201a8"
             ],
             [
              0.3333333333333333,
              "#9c179e"
             ],
             [
              0.4444444444444444,
              "#bd3786"
             ],
             [
              0.5555555555555556,
              "#d8576b"
             ],
             [
              0.6666666666666666,
              "#ed7953"
             ],
             [
              0.7777777777777778,
              "#fb9f3a"
             ],
             [
              0.8888888888888888,
              "#fdca26"
             ],
             [
              1,
              "#f0f921"
             ]
            ],
            "type": "surface"
           }
          ],
          "table": [
           {
            "cells": {
             "fill": {
              "color": "#EBF0F8"
             },
             "line": {
              "color": "white"
             }
            },
            "header": {
             "fill": {
              "color": "#C8D4E3"
             },
             "line": {
              "color": "white"
             }
            },
            "type": "table"
           }
          ]
         },
         "layout": {
          "annotationdefaults": {
           "arrowcolor": "#2a3f5f",
           "arrowhead": 0,
           "arrowwidth": 1
          },
          "autotypenumbers": "strict",
          "coloraxis": {
           "colorbar": {
            "outlinewidth": 0,
            "ticks": ""
           }
          },
          "colorscale": {
           "diverging": [
            [
             0,
             "#8e0152"
            ],
            [
             0.1,
             "#c51b7d"
            ],
            [
             0.2,
             "#de77ae"
            ],
            [
             0.3,
             "#f1b6da"
            ],
            [
             0.4,
             "#fde0ef"
            ],
            [
             0.5,
             "#f7f7f7"
            ],
            [
             0.6,
             "#e6f5d0"
            ],
            [
             0.7,
             "#b8e186"
            ],
            [
             0.8,
             "#7fbc41"
            ],
            [
             0.9,
             "#4d9221"
            ],
            [
             1,
             "#276419"
            ]
           ],
           "sequential": [
            [
             0,
             "#0d0887"
            ],
            [
             0.1111111111111111,
             "#46039f"
            ],
            [
             0.2222222222222222,
             "#7201a8"
            ],
            [
             0.3333333333333333,
             "#9c179e"
            ],
            [
             0.4444444444444444,
             "#bd3786"
            ],
            [
             0.5555555555555556,
             "#d8576b"
            ],
            [
             0.6666666666666666,
             "#ed7953"
            ],
            [
             0.7777777777777778,
             "#fb9f3a"
            ],
            [
             0.8888888888888888,
             "#fdca26"
            ],
            [
             1,
             "#f0f921"
            ]
           ],
           "sequentialminus": [
            [
             0,
             "#0d0887"
            ],
            [
             0.1111111111111111,
             "#46039f"
            ],
            [
             0.2222222222222222,
             "#7201a8"
            ],
            [
             0.3333333333333333,
             "#9c179e"
            ],
            [
             0.4444444444444444,
             "#bd3786"
            ],
            [
             0.5555555555555556,
             "#d8576b"
            ],
            [
             0.6666666666666666,
             "#ed7953"
            ],
            [
             0.7777777777777778,
             "#fb9f3a"
            ],
            [
             0.8888888888888888,
             "#fdca26"
            ],
            [
             1,
             "#f0f921"
            ]
           ]
          },
          "colorway": [
           "#636efa",
           "#EF553B",
           "#00cc96",
           "#ab63fa",
           "#FFA15A",
           "#19d3f3",
           "#FF6692",
           "#B6E880",
           "#FF97FF",
           "#FECB52"
          ],
          "font": {
           "color": "#2a3f5f"
          },
          "geo": {
           "bgcolor": "white",
           "lakecolor": "white",
           "landcolor": "white",
           "showlakes": true,
           "showland": true,
           "subunitcolor": "#C8D4E3"
          },
          "hoverlabel": {
           "align": "left"
          },
          "hovermode": "closest",
          "mapbox": {
           "style": "light"
          },
          "paper_bgcolor": "white",
          "plot_bgcolor": "white",
          "polar": {
           "angularaxis": {
            "gridcolor": "#EBF0F8",
            "linecolor": "#EBF0F8",
            "ticks": ""
           },
           "bgcolor": "white",
           "radialaxis": {
            "gridcolor": "#EBF0F8",
            "linecolor": "#EBF0F8",
            "ticks": ""
           }
          },
          "scene": {
           "xaxis": {
            "backgroundcolor": "white",
            "gridcolor": "#DFE8F3",
            "gridwidth": 2,
            "linecolor": "#EBF0F8",
            "showbackground": true,
            "ticks": "",
            "zerolinecolor": "#EBF0F8"
           },
           "yaxis": {
            "backgroundcolor": "white",
            "gridcolor": "#DFE8F3",
            "gridwidth": 2,
            "linecolor": "#EBF0F8",
            "showbackground": true,
            "ticks": "",
            "zerolinecolor": "#EBF0F8"
           },
           "zaxis": {
            "backgroundcolor": "white",
            "gridcolor": "#DFE8F3",
            "gridwidth": 2,
            "linecolor": "#EBF0F8",
            "showbackground": true,
            "ticks": "",
            "zerolinecolor": "#EBF0F8"
           }
          },
          "shapedefaults": {
           "line": {
            "color": "#2a3f5f"
           }
          },
          "ternary": {
           "aaxis": {
            "gridcolor": "#DFE8F3",
            "linecolor": "#A2B1C6",
            "ticks": ""
           },
           "baxis": {
            "gridcolor": "#DFE8F3",
            "linecolor": "#A2B1C6",
            "ticks": ""
           },
           "bgcolor": "white",
           "caxis": {
            "gridcolor": "#DFE8F3",
            "linecolor": "#A2B1C6",
            "ticks": ""
           }
          },
          "title": {
           "x": 0.05
          },
          "xaxis": {
           "automargin": true,
           "gridcolor": "#EBF0F8",
           "linecolor": "#EBF0F8",
           "ticks": "",
           "title": {
            "standoff": 15
           },
           "zerolinecolor": "#EBF0F8",
           "zerolinewidth": 2
          },
          "yaxis": {
           "automargin": true,
           "gridcolor": "#EBF0F8",
           "linecolor": "#EBF0F8",
           "ticks": "",
           "title": {
            "standoff": 15
           },
           "zerolinecolor": "#EBF0F8",
           "zerolinewidth": 2
          }
         }
        },
        "title": {
         "text": "ROC for the best model, no sampling"
        },
        "width": 1000,
        "xaxis": {
         "title": {
          "text": "False positive rate"
         }
        },
        "yaxis": {
         "title": {
          "text": "True positive rate"
         }
        }
       }
      }
     },
     "metadata": {},
     "output_type": "display_data"
    }
   ],
   "source": [
    "print_best_params_and_metrics(study_no_sampling.best_params, metrics)\n",
    "\n",
    "fig = optuna.visualization.plot_optimization_history(study_no_sampling)\n",
    "fig.update_layout(template='plotly_white', width=FIG_WIDTH, height=FIG_HEIGHT)\n",
    "fig.show()\n",
    "\n",
    "fig = optuna.visualization.plot_slice(study_no_sampling)\n",
    "fig.update_layout(template='plotly_white', width=FIG_WIDTH, height=FIG_HEIGHT)\n",
    "fig.update_xaxes(tickangle=-90)\n",
    "fig.show()\n",
    "\n",
    "fig = plot_roc_auc('no_sampling', best_model, 'ROC for the best model, no sampling')\n",
    "fig.show()"
   ]
  },
  {
   "attachments": {},
   "cell_type": "markdown",
   "metadata": {},
   "source": [
    "## Датасет с upsampling\n",
    "\n",
    "Возьмем датасет c `upsampling` и посмотрим на качество моделей."
   ]
  },
  {
   "cell_type": "code",
   "execution_count": 21,
   "metadata": {},
   "outputs": [],
   "source": [
    "study_upsampled = get_study('upsampled', n_trials=10)\n",
    "\n",
    "metrics, best_model = evaluate_best_model('upsampled', study_upsampled)"
   ]
  },
  {
   "attachments": {},
   "cell_type": "markdown",
   "metadata": {},
   "source": [
    "Визуализируем результаты."
   ]
  },
  {
   "cell_type": "code",
   "execution_count": 22,
   "metadata": {},
   "outputs": [
    {
     "name": "stdout",
     "output_type": "stream",
     "text": [
      "The best model parameters are:\n",
      "classifier: RandomForest\n",
      "rf_max_depth: 18\n",
      "rf_n_estimators: 158\n",
      "\n",
      "The performance metrics of the model are:\n",
      "valid_f1: 0.5863\n",
      "valid_roc_auc: 0.8447\n"
     ]
    },
    {
     "data": {
      "application/vnd.plotly.v1+json": {
       "config": {
        "plotlyServerURL": "https://plot.ly"
       },
       "data": [
        {
         "mode": "markers",
         "name": "Objective Value",
         "type": "scatter",
         "x": [
          0,
          1,
          2,
          3,
          4,
          5,
          6,
          7,
          8,
          9
         ],
         "y": [
          0.473,
          0.457,
          0.473,
          0.454,
          0.472,
          0.46,
          0.473,
          0.586,
          0.498,
          0.558
         ]
        },
        {
         "name": "Best Value",
         "type": "scatter",
         "x": [
          0,
          1,
          2,
          3,
          4,
          5,
          6,
          7,
          8,
          9
         ],
         "y": [
          0.473,
          0.473,
          0.473,
          0.473,
          0.473,
          0.473,
          0.473,
          0.586,
          0.586,
          0.586
         ]
        }
       ],
       "layout": {
        "height": 500,
        "template": {
         "data": {
          "bar": [
           {
            "error_x": {
             "color": "#2a3f5f"
            },
            "error_y": {
             "color": "#2a3f5f"
            },
            "marker": {
             "line": {
              "color": "white",
              "width": 0.5
             },
             "pattern": {
              "fillmode": "overlay",
              "size": 10,
              "solidity": 0.2
             }
            },
            "type": "bar"
           }
          ],
          "barpolar": [
           {
            "marker": {
             "line": {
              "color": "white",
              "width": 0.5
             },
             "pattern": {
              "fillmode": "overlay",
              "size": 10,
              "solidity": 0.2
             }
            },
            "type": "barpolar"
           }
          ],
          "carpet": [
           {
            "aaxis": {
             "endlinecolor": "#2a3f5f",
             "gridcolor": "#C8D4E3",
             "linecolor": "#C8D4E3",
             "minorgridcolor": "#C8D4E3",
             "startlinecolor": "#2a3f5f"
            },
            "baxis": {
             "endlinecolor": "#2a3f5f",
             "gridcolor": "#C8D4E3",
             "linecolor": "#C8D4E3",
             "minorgridcolor": "#C8D4E3",
             "startlinecolor": "#2a3f5f"
            },
            "type": "carpet"
           }
          ],
          "choropleth": [
           {
            "colorbar": {
             "outlinewidth": 0,
             "ticks": ""
            },
            "type": "choropleth"
           }
          ],
          "contour": [
           {
            "colorbar": {
             "outlinewidth": 0,
             "ticks": ""
            },
            "colorscale": [
             [
              0,
              "#0d0887"
             ],
             [
              0.1111111111111111,
              "#46039f"
             ],
             [
              0.2222222222222222,
              "#7201a8"
             ],
             [
              0.3333333333333333,
              "#9c179e"
             ],
             [
              0.4444444444444444,
              "#bd3786"
             ],
             [
              0.5555555555555556,
              "#d8576b"
             ],
             [
              0.6666666666666666,
              "#ed7953"
             ],
             [
              0.7777777777777778,
              "#fb9f3a"
             ],
             [
              0.8888888888888888,
              "#fdca26"
             ],
             [
              1,
              "#f0f921"
             ]
            ],
            "type": "contour"
           }
          ],
          "contourcarpet": [
           {
            "colorbar": {
             "outlinewidth": 0,
             "ticks": ""
            },
            "type": "contourcarpet"
           }
          ],
          "heatmap": [
           {
            "colorbar": {
             "outlinewidth": 0,
             "ticks": ""
            },
            "colorscale": [
             [
              0,
              "#0d0887"
             ],
             [
              0.1111111111111111,
              "#46039f"
             ],
             [
              0.2222222222222222,
              "#7201a8"
             ],
             [
              0.3333333333333333,
              "#9c179e"
             ],
             [
              0.4444444444444444,
              "#bd3786"
             ],
             [
              0.5555555555555556,
              "#d8576b"
             ],
             [
              0.6666666666666666,
              "#ed7953"
             ],
             [
              0.7777777777777778,
              "#fb9f3a"
             ],
             [
              0.8888888888888888,
              "#fdca26"
             ],
             [
              1,
              "#f0f921"
             ]
            ],
            "type": "heatmap"
           }
          ],
          "heatmapgl": [
           {
            "colorbar": {
             "outlinewidth": 0,
             "ticks": ""
            },
            "colorscale": [
             [
              0,
              "#0d0887"
             ],
             [
              0.1111111111111111,
              "#46039f"
             ],
             [
              0.2222222222222222,
              "#7201a8"
             ],
             [
              0.3333333333333333,
              "#9c179e"
             ],
             [
              0.4444444444444444,
              "#bd3786"
             ],
             [
              0.5555555555555556,
              "#d8576b"
             ],
             [
              0.6666666666666666,
              "#ed7953"
             ],
             [
              0.7777777777777778,
              "#fb9f3a"
             ],
             [
              0.8888888888888888,
              "#fdca26"
             ],
             [
              1,
              "#f0f921"
             ]
            ],
            "type": "heatmapgl"
           }
          ],
          "histogram": [
           {
            "marker": {
             "pattern": {
              "fillmode": "overlay",
              "size": 10,
              "solidity": 0.2
             }
            },
            "type": "histogram"
           }
          ],
          "histogram2d": [
           {
            "colorbar": {
             "outlinewidth": 0,
             "ticks": ""
            },
            "colorscale": [
             [
              0,
              "#0d0887"
             ],
             [
              0.1111111111111111,
              "#46039f"
             ],
             [
              0.2222222222222222,
              "#7201a8"
             ],
             [
              0.3333333333333333,
              "#9c179e"
             ],
             [
              0.4444444444444444,
              "#bd3786"
             ],
             [
              0.5555555555555556,
              "#d8576b"
             ],
             [
              0.6666666666666666,
              "#ed7953"
             ],
             [
              0.7777777777777778,
              "#fb9f3a"
             ],
             [
              0.8888888888888888,
              "#fdca26"
             ],
             [
              1,
              "#f0f921"
             ]
            ],
            "type": "histogram2d"
           }
          ],
          "histogram2dcontour": [
           {
            "colorbar": {
             "outlinewidth": 0,
             "ticks": ""
            },
            "colorscale": [
             [
              0,
              "#0d0887"
             ],
             [
              0.1111111111111111,
              "#46039f"
             ],
             [
              0.2222222222222222,
              "#7201a8"
             ],
             [
              0.3333333333333333,
              "#9c179e"
             ],
             [
              0.4444444444444444,
              "#bd3786"
             ],
             [
              0.5555555555555556,
              "#d8576b"
             ],
             [
              0.6666666666666666,
              "#ed7953"
             ],
             [
              0.7777777777777778,
              "#fb9f3a"
             ],
             [
              0.8888888888888888,
              "#fdca26"
             ],
             [
              1,
              "#f0f921"
             ]
            ],
            "type": "histogram2dcontour"
           }
          ],
          "mesh3d": [
           {
            "colorbar": {
             "outlinewidth": 0,
             "ticks": ""
            },
            "type": "mesh3d"
           }
          ],
          "parcoords": [
           {
            "line": {
             "colorbar": {
              "outlinewidth": 0,
              "ticks": ""
             }
            },
            "type": "parcoords"
           }
          ],
          "pie": [
           {
            "automargin": true,
            "type": "pie"
           }
          ],
          "scatter": [
           {
            "fillpattern": {
             "fillmode": "overlay",
             "size": 10,
             "solidity": 0.2
            },
            "type": "scatter"
           }
          ],
          "scatter3d": [
           {
            "line": {
             "colorbar": {
              "outlinewidth": 0,
              "ticks": ""
             }
            },
            "marker": {
             "colorbar": {
              "outlinewidth": 0,
              "ticks": ""
             }
            },
            "type": "scatter3d"
           }
          ],
          "scattercarpet": [
           {
            "marker": {
             "colorbar": {
              "outlinewidth": 0,
              "ticks": ""
             }
            },
            "type": "scattercarpet"
           }
          ],
          "scattergeo": [
           {
            "marker": {
             "colorbar": {
              "outlinewidth": 0,
              "ticks": ""
             }
            },
            "type": "scattergeo"
           }
          ],
          "scattergl": [
           {
            "marker": {
             "colorbar": {
              "outlinewidth": 0,
              "ticks": ""
             }
            },
            "type": "scattergl"
           }
          ],
          "scattermapbox": [
           {
            "marker": {
             "colorbar": {
              "outlinewidth": 0,
              "ticks": ""
             }
            },
            "type": "scattermapbox"
           }
          ],
          "scatterpolar": [
           {
            "marker": {
             "colorbar": {
              "outlinewidth": 0,
              "ticks": ""
             }
            },
            "type": "scatterpolar"
           }
          ],
          "scatterpolargl": [
           {
            "marker": {
             "colorbar": {
              "outlinewidth": 0,
              "ticks": ""
             }
            },
            "type": "scatterpolargl"
           }
          ],
          "scatterternary": [
           {
            "marker": {
             "colorbar": {
              "outlinewidth": 0,
              "ticks": ""
             }
            },
            "type": "scatterternary"
           }
          ],
          "surface": [
           {
            "colorbar": {
             "outlinewidth": 0,
             "ticks": ""
            },
            "colorscale": [
             [
              0,
              "#0d0887"
             ],
             [
              0.1111111111111111,
              "#46039f"
             ],
             [
              0.2222222222222222,
              "#7201a8"
             ],
             [
              0.3333333333333333,
              "#9c179e"
             ],
             [
              0.4444444444444444,
              "#bd3786"
             ],
             [
              0.5555555555555556,
              "#d8576b"
             ],
             [
              0.6666666666666666,
              "#ed7953"
             ],
             [
              0.7777777777777778,
              "#fb9f3a"
             ],
             [
              0.8888888888888888,
              "#fdca26"
             ],
             [
              1,
              "#f0f921"
             ]
            ],
            "type": "surface"
           }
          ],
          "table": [
           {
            "cells": {
             "fill": {
              "color": "#EBF0F8"
             },
             "line": {
              "color": "white"
             }
            },
            "header": {
             "fill": {
              "color": "#C8D4E3"
             },
             "line": {
              "color": "white"
             }
            },
            "type": "table"
           }
          ]
         },
         "layout": {
          "annotationdefaults": {
           "arrowcolor": "#2a3f5f",
           "arrowhead": 0,
           "arrowwidth": 1
          },
          "autotypenumbers": "strict",
          "coloraxis": {
           "colorbar": {
            "outlinewidth": 0,
            "ticks": ""
           }
          },
          "colorscale": {
           "diverging": [
            [
             0,
             "#8e0152"
            ],
            [
             0.1,
             "#c51b7d"
            ],
            [
             0.2,
             "#de77ae"
            ],
            [
             0.3,
             "#f1b6da"
            ],
            [
             0.4,
             "#fde0ef"
            ],
            [
             0.5,
             "#f7f7f7"
            ],
            [
             0.6,
             "#e6f5d0"
            ],
            [
             0.7,
             "#b8e186"
            ],
            [
             0.8,
             "#7fbc41"
            ],
            [
             0.9,
             "#4d9221"
            ],
            [
             1,
             "#276419"
            ]
           ],
           "sequential": [
            [
             0,
             "#0d0887"
            ],
            [
             0.1111111111111111,
             "#46039f"
            ],
            [
             0.2222222222222222,
             "#7201a8"
            ],
            [
             0.3333333333333333,
             "#9c179e"
            ],
            [
             0.4444444444444444,
             "#bd3786"
            ],
            [
             0.5555555555555556,
             "#d8576b"
            ],
            [
             0.6666666666666666,
             "#ed7953"
            ],
            [
             0.7777777777777778,
             "#fb9f3a"
            ],
            [
             0.8888888888888888,
             "#fdca26"
            ],
            [
             1,
             "#f0f921"
            ]
           ],
           "sequentialminus": [
            [
             0,
             "#0d0887"
            ],
            [
             0.1111111111111111,
             "#46039f"
            ],
            [
             0.2222222222222222,
             "#7201a8"
            ],
            [
             0.3333333333333333,
             "#9c179e"
            ],
            [
             0.4444444444444444,
             "#bd3786"
            ],
            [
             0.5555555555555556,
             "#d8576b"
            ],
            [
             0.6666666666666666,
             "#ed7953"
            ],
            [
             0.7777777777777778,
             "#fb9f3a"
            ],
            [
             0.8888888888888888,
             "#fdca26"
            ],
            [
             1,
             "#f0f921"
            ]
           ]
          },
          "colorway": [
           "#636efa",
           "#EF553B",
           "#00cc96",
           "#ab63fa",
           "#FFA15A",
           "#19d3f3",
           "#FF6692",
           "#B6E880",
           "#FF97FF",
           "#FECB52"
          ],
          "font": {
           "color": "#2a3f5f"
          },
          "geo": {
           "bgcolor": "white",
           "lakecolor": "white",
           "landcolor": "white",
           "showlakes": true,
           "showland": true,
           "subunitcolor": "#C8D4E3"
          },
          "hoverlabel": {
           "align": "left"
          },
          "hovermode": "closest",
          "mapbox": {
           "style": "light"
          },
          "paper_bgcolor": "white",
          "plot_bgcolor": "white",
          "polar": {
           "angularaxis": {
            "gridcolor": "#EBF0F8",
            "linecolor": "#EBF0F8",
            "ticks": ""
           },
           "bgcolor": "white",
           "radialaxis": {
            "gridcolor": "#EBF0F8",
            "linecolor": "#EBF0F8",
            "ticks": ""
           }
          },
          "scene": {
           "xaxis": {
            "backgroundcolor": "white",
            "gridcolor": "#DFE8F3",
            "gridwidth": 2,
            "linecolor": "#EBF0F8",
            "showbackground": true,
            "ticks": "",
            "zerolinecolor": "#EBF0F8"
           },
           "yaxis": {
            "backgroundcolor": "white",
            "gridcolor": "#DFE8F3",
            "gridwidth": 2,
            "linecolor": "#EBF0F8",
            "showbackground": true,
            "ticks": "",
            "zerolinecolor": "#EBF0F8"
           },
           "zaxis": {
            "backgroundcolor": "white",
            "gridcolor": "#DFE8F3",
            "gridwidth": 2,
            "linecolor": "#EBF0F8",
            "showbackground": true,
            "ticks": "",
            "zerolinecolor": "#EBF0F8"
           }
          },
          "shapedefaults": {
           "line": {
            "color": "#2a3f5f"
           }
          },
          "ternary": {
           "aaxis": {
            "gridcolor": "#DFE8F3",
            "linecolor": "#A2B1C6",
            "ticks": ""
           },
           "baxis": {
            "gridcolor": "#DFE8F3",
            "linecolor": "#A2B1C6",
            "ticks": ""
           },
           "bgcolor": "white",
           "caxis": {
            "gridcolor": "#DFE8F3",
            "linecolor": "#A2B1C6",
            "ticks": ""
           }
          },
          "title": {
           "x": 0.05
          },
          "xaxis": {
           "automargin": true,
           "gridcolor": "#EBF0F8",
           "linecolor": "#EBF0F8",
           "ticks": "",
           "title": {
            "standoff": 15
           },
           "zerolinecolor": "#EBF0F8",
           "zerolinewidth": 2
          },
          "yaxis": {
           "automargin": true,
           "gridcolor": "#EBF0F8",
           "linecolor": "#EBF0F8",
           "ticks": "",
           "title": {
            "standoff": 15
           },
           "zerolinecolor": "#EBF0F8",
           "zerolinewidth": 2
          }
         }
        },
        "title": {
         "text": "Optimization History Plot"
        },
        "width": 1000,
        "xaxis": {
         "title": {
          "text": "Trial"
         }
        },
        "yaxis": {
         "title": {
          "text": "Objective Value"
         }
        }
       }
      }
     },
     "metadata": {},
     "output_type": "display_data"
    },
    {
     "data": {
      "application/vnd.plotly.v1+json": {
       "config": {
        "plotlyServerURL": "https://plot.ly"
       },
       "data": [
        {
         "marker": {
          "color": [
           0,
           1,
           2,
           3,
           4,
           5,
           6,
           7,
           8,
           9
          ],
          "colorbar": {
           "title": {
            "text": "Trial"
           },
           "x": 1,
           "xpad": 40
          },
          "colorscale": [
           [
            0,
            "rgb(247,251,255)"
           ],
           [
            0.125,
            "rgb(222,235,247)"
           ],
           [
            0.25,
            "rgb(198,219,239)"
           ],
           [
            0.375,
            "rgb(158,202,225)"
           ],
           [
            0.5,
            "rgb(107,174,214)"
           ],
           [
            0.625,
            "rgb(66,146,198)"
           ],
           [
            0.75,
            "rgb(33,113,181)"
           ],
           [
            0.875,
            "rgb(8,81,156)"
           ],
           [
            1,
            "rgb(8,48,107)"
           ]
          ],
          "line": {
           "color": "Grey",
           "width": 0.5
          },
          "showscale": true
         },
         "mode": "markers",
         "showlegend": false,
         "type": "scatter",
         "x": [
          "DecisionTree",
          "LogisticRegression",
          "DecisionTree",
          "LogisticRegression",
          "DecisionTree",
          "LogisticRegression",
          "DecisionTree",
          "RandomForest",
          "DecisionTree",
          "DecisionTree"
         ],
         "xaxis": "x",
         "y": [
          0.473,
          0.457,
          0.473,
          0.454,
          0.472,
          0.46,
          0.473,
          0.586,
          0.498,
          0.558
         ],
         "yaxis": "y"
        },
        {
         "marker": {
          "color": [
           0,
           2,
           4,
           6,
           8,
           9
          ],
          "colorbar": {
           "title": {
            "text": "Trial"
           },
           "x": 1,
           "xpad": 40
          },
          "colorscale": [
           [
            0,
            "rgb(247,251,255)"
           ],
           [
            0.125,
            "rgb(222,235,247)"
           ],
           [
            0.25,
            "rgb(198,219,239)"
           ],
           [
            0.375,
            "rgb(158,202,225)"
           ],
           [
            0.5,
            "rgb(107,174,214)"
           ],
           [
            0.625,
            "rgb(66,146,198)"
           ],
           [
            0.75,
            "rgb(33,113,181)"
           ],
           [
            0.875,
            "rgb(8,81,156)"
           ],
           [
            1,
            "rgb(8,48,107)"
           ]
          ],
          "line": {
           "color": "Grey",
           "width": 0.5
          },
          "showscale": false
         },
         "mode": "markers",
         "showlegend": false,
         "type": "scatter",
         "x": [
          30,
          49,
          15,
          26,
          16,
          7
         ],
         "xaxis": "x2",
         "y": [
          0.473,
          0.473,
          0.472,
          0.473,
          0.498,
          0.558
         ],
         "yaxis": "y2"
        },
        {
         "marker": {
          "color": [
           1,
           3,
           5
          ],
          "colorbar": {
           "title": {
            "text": "Trial"
           },
           "x": 1,
           "xpad": 40
          },
          "colorscale": [
           [
            0,
            "rgb(247,251,255)"
           ],
           [
            0.125,
            "rgb(222,235,247)"
           ],
           [
            0.25,
            "rgb(198,219,239)"
           ],
           [
            0.375,
            "rgb(158,202,225)"
           ],
           [
            0.5,
            "rgb(107,174,214)"
           ],
           [
            0.625,
            "rgb(66,146,198)"
           ],
           [
            0.75,
            "rgb(33,113,181)"
           ],
           [
            0.875,
            "rgb(8,81,156)"
           ],
           [
            1,
            "rgb(8,48,107)"
           ]
          ],
          "line": {
           "color": "Grey",
           "width": 0.5
          },
          "showscale": false
         },
         "mode": "markers",
         "showlegend": false,
         "type": "scatter",
         "x": [
          24780.71022662143,
          0.00015880132371526778,
          0.02490818711274116
         ],
         "xaxis": "x3",
         "y": [
          0.457,
          0.454,
          0.46
         ],
         "yaxis": "y3"
        },
        {
         "marker": {
          "color": [
           7
          ],
          "colorbar": {
           "title": {
            "text": "Trial"
           },
           "x": 1,
           "xpad": 40
          },
          "colorscale": [
           [
            0,
            "rgb(247,251,255)"
           ],
           [
            0.125,
            "rgb(222,235,247)"
           ],
           [
            0.25,
            "rgb(198,219,239)"
           ],
           [
            0.375,
            "rgb(158,202,225)"
           ],
           [
            0.5,
            "rgb(107,174,214)"
           ],
           [
            0.625,
            "rgb(66,146,198)"
           ],
           [
            0.75,
            "rgb(33,113,181)"
           ],
           [
            0.875,
            "rgb(8,81,156)"
           ],
           [
            1,
            "rgb(8,48,107)"
           ]
          ],
          "line": {
           "color": "Grey",
           "width": 0.5
          },
          "showscale": false
         },
         "mode": "markers",
         "showlegend": false,
         "type": "scatter",
         "x": [
          18
         ],
         "xaxis": "x4",
         "y": [
          0.586
         ],
         "yaxis": "y4"
        },
        {
         "marker": {
          "color": [
           7
          ],
          "colorbar": {
           "title": {
            "text": "Trial"
           },
           "x": 1,
           "xpad": 40
          },
          "colorscale": [
           [
            0,
            "rgb(247,251,255)"
           ],
           [
            0.125,
            "rgb(222,235,247)"
           ],
           [
            0.25,
            "rgb(198,219,239)"
           ],
           [
            0.375,
            "rgb(158,202,225)"
           ],
           [
            0.5,
            "rgb(107,174,214)"
           ],
           [
            0.625,
            "rgb(66,146,198)"
           ],
           [
            0.75,
            "rgb(33,113,181)"
           ],
           [
            0.875,
            "rgb(8,81,156)"
           ],
           [
            1,
            "rgb(8,48,107)"
           ]
          ],
          "line": {
           "color": "Grey",
           "width": 0.5
          },
          "showscale": false
         },
         "mode": "markers",
         "showlegend": false,
         "type": "scatter",
         "x": [
          158
         ],
         "xaxis": "x5",
         "y": [
          0.586
         ],
         "yaxis": "y5"
        }
       ],
       "layout": {
        "height": 500,
        "template": {
         "data": {
          "bar": [
           {
            "error_x": {
             "color": "#2a3f5f"
            },
            "error_y": {
             "color": "#2a3f5f"
            },
            "marker": {
             "line": {
              "color": "white",
              "width": 0.5
             },
             "pattern": {
              "fillmode": "overlay",
              "size": 10,
              "solidity": 0.2
             }
            },
            "type": "bar"
           }
          ],
          "barpolar": [
           {
            "marker": {
             "line": {
              "color": "white",
              "width": 0.5
             },
             "pattern": {
              "fillmode": "overlay",
              "size": 10,
              "solidity": 0.2
             }
            },
            "type": "barpolar"
           }
          ],
          "carpet": [
           {
            "aaxis": {
             "endlinecolor": "#2a3f5f",
             "gridcolor": "#C8D4E3",
             "linecolor": "#C8D4E3",
             "minorgridcolor": "#C8D4E3",
             "startlinecolor": "#2a3f5f"
            },
            "baxis": {
             "endlinecolor": "#2a3f5f",
             "gridcolor": "#C8D4E3",
             "linecolor": "#C8D4E3",
             "minorgridcolor": "#C8D4E3",
             "startlinecolor": "#2a3f5f"
            },
            "type": "carpet"
           }
          ],
          "choropleth": [
           {
            "colorbar": {
             "outlinewidth": 0,
             "ticks": ""
            },
            "type": "choropleth"
           }
          ],
          "contour": [
           {
            "colorbar": {
             "outlinewidth": 0,
             "ticks": ""
            },
            "colorscale": [
             [
              0,
              "#0d0887"
             ],
             [
              0.1111111111111111,
              "#46039f"
             ],
             [
              0.2222222222222222,
              "#7201a8"
             ],
             [
              0.3333333333333333,
              "#9c179e"
             ],
             [
              0.4444444444444444,
              "#bd3786"
             ],
             [
              0.5555555555555556,
              "#d8576b"
             ],
             [
              0.6666666666666666,
              "#ed7953"
             ],
             [
              0.7777777777777778,
              "#fb9f3a"
             ],
             [
              0.8888888888888888,
              "#fdca26"
             ],
             [
              1,
              "#f0f921"
             ]
            ],
            "type": "contour"
           }
          ],
          "contourcarpet": [
           {
            "colorbar": {
             "outlinewidth": 0,
             "ticks": ""
            },
            "type": "contourcarpet"
           }
          ],
          "heatmap": [
           {
            "colorbar": {
             "outlinewidth": 0,
             "ticks": ""
            },
            "colorscale": [
             [
              0,
              "#0d0887"
             ],
             [
              0.1111111111111111,
              "#46039f"
             ],
             [
              0.2222222222222222,
              "#7201a8"
             ],
             [
              0.3333333333333333,
              "#9c179e"
             ],
             [
              0.4444444444444444,
              "#bd3786"
             ],
             [
              0.5555555555555556,
              "#d8576b"
             ],
             [
              0.6666666666666666,
              "#ed7953"
             ],
             [
              0.7777777777777778,
              "#fb9f3a"
             ],
             [
              0.8888888888888888,
              "#fdca26"
             ],
             [
              1,
              "#f0f921"
             ]
            ],
            "type": "heatmap"
           }
          ],
          "heatmapgl": [
           {
            "colorbar": {
             "outlinewidth": 0,
             "ticks": ""
            },
            "colorscale": [
             [
              0,
              "#0d0887"
             ],
             [
              0.1111111111111111,
              "#46039f"
             ],
             [
              0.2222222222222222,
              "#7201a8"
             ],
             [
              0.3333333333333333,
              "#9c179e"
             ],
             [
              0.4444444444444444,
              "#bd3786"
             ],
             [
              0.5555555555555556,
              "#d8576b"
             ],
             [
              0.6666666666666666,
              "#ed7953"
             ],
             [
              0.7777777777777778,
              "#fb9f3a"
             ],
             [
              0.8888888888888888,
              "#fdca26"
             ],
             [
              1,
              "#f0f921"
             ]
            ],
            "type": "heatmapgl"
           }
          ],
          "histogram": [
           {
            "marker": {
             "pattern": {
              "fillmode": "overlay",
              "size": 10,
              "solidity": 0.2
             }
            },
            "type": "histogram"
           }
          ],
          "histogram2d": [
           {
            "colorbar": {
             "outlinewidth": 0,
             "ticks": ""
            },
            "colorscale": [
             [
              0,
              "#0d0887"
             ],
             [
              0.1111111111111111,
              "#46039f"
             ],
             [
              0.2222222222222222,
              "#7201a8"
             ],
             [
              0.3333333333333333,
              "#9c179e"
             ],
             [
              0.4444444444444444,
              "#bd3786"
             ],
             [
              0.5555555555555556,
              "#d8576b"
             ],
             [
              0.6666666666666666,
              "#ed7953"
             ],
             [
              0.7777777777777778,
              "#fb9f3a"
             ],
             [
              0.8888888888888888,
              "#fdca26"
             ],
             [
              1,
              "#f0f921"
             ]
            ],
            "type": "histogram2d"
           }
          ],
          "histogram2dcontour": [
           {
            "colorbar": {
             "outlinewidth": 0,
             "ticks": ""
            },
            "colorscale": [
             [
              0,
              "#0d0887"
             ],
             [
              0.1111111111111111,
              "#46039f"
             ],
             [
              0.2222222222222222,
              "#7201a8"
             ],
             [
              0.3333333333333333,
              "#9c179e"
             ],
             [
              0.4444444444444444,
              "#bd3786"
             ],
             [
              0.5555555555555556,
              "#d8576b"
             ],
             [
              0.6666666666666666,
              "#ed7953"
             ],
             [
              0.7777777777777778,
              "#fb9f3a"
             ],
             [
              0.8888888888888888,
              "#fdca26"
             ],
             [
              1,
              "#f0f921"
             ]
            ],
            "type": "histogram2dcontour"
           }
          ],
          "mesh3d": [
           {
            "colorbar": {
             "outlinewidth": 0,
             "ticks": ""
            },
            "type": "mesh3d"
           }
          ],
          "parcoords": [
           {
            "line": {
             "colorbar": {
              "outlinewidth": 0,
              "ticks": ""
             }
            },
            "type": "parcoords"
           }
          ],
          "pie": [
           {
            "automargin": true,
            "type": "pie"
           }
          ],
          "scatter": [
           {
            "fillpattern": {
             "fillmode": "overlay",
             "size": 10,
             "solidity": 0.2
            },
            "type": "scatter"
           }
          ],
          "scatter3d": [
           {
            "line": {
             "colorbar": {
              "outlinewidth": 0,
              "ticks": ""
             }
            },
            "marker": {
             "colorbar": {
              "outlinewidth": 0,
              "ticks": ""
             }
            },
            "type": "scatter3d"
           }
          ],
          "scattercarpet": [
           {
            "marker": {
             "colorbar": {
              "outlinewidth": 0,
              "ticks": ""
             }
            },
            "type": "scattercarpet"
           }
          ],
          "scattergeo": [
           {
            "marker": {
             "colorbar": {
              "outlinewidth": 0,
              "ticks": ""
             }
            },
            "type": "scattergeo"
           }
          ],
          "scattergl": [
           {
            "marker": {
             "colorbar": {
              "outlinewidth": 0,
              "ticks": ""
             }
            },
            "type": "scattergl"
           }
          ],
          "scattermapbox": [
           {
            "marker": {
             "colorbar": {
              "outlinewidth": 0,
              "ticks": ""
             }
            },
            "type": "scattermapbox"
           }
          ],
          "scatterpolar": [
           {
            "marker": {
             "colorbar": {
              "outlinewidth": 0,
              "ticks": ""
             }
            },
            "type": "scatterpolar"
           }
          ],
          "scatterpolargl": [
           {
            "marker": {
             "colorbar": {
              "outlinewidth": 0,
              "ticks": ""
             }
            },
            "type": "scatterpolargl"
           }
          ],
          "scatterternary": [
           {
            "marker": {
             "colorbar": {
              "outlinewidth": 0,
              "ticks": ""
             }
            },
            "type": "scatterternary"
           }
          ],
          "surface": [
           {
            "colorbar": {
             "outlinewidth": 0,
             "ticks": ""
            },
            "colorscale": [
             [
              0,
              "#0d0887"
             ],
             [
              0.1111111111111111,
              "#46039f"
             ],
             [
              0.2222222222222222,
              "#7201a8"
             ],
             [
              0.3333333333333333,
              "#9c179e"
             ],
             [
              0.4444444444444444,
              "#bd3786"
             ],
             [
              0.5555555555555556,
              "#d8576b"
             ],
             [
              0.6666666666666666,
              "#ed7953"
             ],
             [
              0.7777777777777778,
              "#fb9f3a"
             ],
             [
              0.8888888888888888,
              "#fdca26"
             ],
             [
              1,
              "#f0f921"
             ]
            ],
            "type": "surface"
           }
          ],
          "table": [
           {
            "cells": {
             "fill": {
              "color": "#EBF0F8"
             },
             "line": {
              "color": "white"
             }
            },
            "header": {
             "fill": {
              "color": "#C8D4E3"
             },
             "line": {
              "color": "white"
             }
            },
            "type": "table"
           }
          ]
         },
         "layout": {
          "annotationdefaults": {
           "arrowcolor": "#2a3f5f",
           "arrowhead": 0,
           "arrowwidth": 1
          },
          "autotypenumbers": "strict",
          "coloraxis": {
           "colorbar": {
            "outlinewidth": 0,
            "ticks": ""
           }
          },
          "colorscale": {
           "diverging": [
            [
             0,
             "#8e0152"
            ],
            [
             0.1,
             "#c51b7d"
            ],
            [
             0.2,
             "#de77ae"
            ],
            [
             0.3,
             "#f1b6da"
            ],
            [
             0.4,
             "#fde0ef"
            ],
            [
             0.5,
             "#f7f7f7"
            ],
            [
             0.6,
             "#e6f5d0"
            ],
            [
             0.7,
             "#b8e186"
            ],
            [
             0.8,
             "#7fbc41"
            ],
            [
             0.9,
             "#4d9221"
            ],
            [
             1,
             "#276419"
            ]
           ],
           "sequential": [
            [
             0,
             "#0d0887"
            ],
            [
             0.1111111111111111,
             "#46039f"
            ],
            [
             0.2222222222222222,
             "#7201a8"
            ],
            [
             0.3333333333333333,
             "#9c179e"
            ],
            [
             0.4444444444444444,
             "#bd3786"
            ],
            [
             0.5555555555555556,
             "#d8576b"
            ],
            [
             0.6666666666666666,
             "#ed7953"
            ],
            [
             0.7777777777777778,
             "#fb9f3a"
            ],
            [
             0.8888888888888888,
             "#fdca26"
            ],
            [
             1,
             "#f0f921"
            ]
           ],
           "sequentialminus": [
            [
             0,
             "#0d0887"
            ],
            [
             0.1111111111111111,
             "#46039f"
            ],
            [
             0.2222222222222222,
             "#7201a8"
            ],
            [
             0.3333333333333333,
             "#9c179e"
            ],
            [
             0.4444444444444444,
             "#bd3786"
            ],
            [
             0.5555555555555556,
             "#d8576b"
            ],
            [
             0.6666666666666666,
             "#ed7953"
            ],
            [
             0.7777777777777778,
             "#fb9f3a"
            ],
            [
             0.8888888888888888,
             "#fdca26"
            ],
            [
             1,
             "#f0f921"
            ]
           ]
          },
          "colorway": [
           "#636efa",
           "#EF553B",
           "#00cc96",
           "#ab63fa",
           "#FFA15A",
           "#19d3f3",
           "#FF6692",
           "#B6E880",
           "#FF97FF",
           "#FECB52"
          ],
          "font": {
           "color": "#2a3f5f"
          },
          "geo": {
           "bgcolor": "white",
           "lakecolor": "white",
           "landcolor": "white",
           "showlakes": true,
           "showland": true,
           "subunitcolor": "#C8D4E3"
          },
          "hoverlabel": {
           "align": "left"
          },
          "hovermode": "closest",
          "mapbox": {
           "style": "light"
          },
          "paper_bgcolor": "white",
          "plot_bgcolor": "white",
          "polar": {
           "angularaxis": {
            "gridcolor": "#EBF0F8",
            "linecolor": "#EBF0F8",
            "ticks": ""
           },
           "bgcolor": "white",
           "radialaxis": {
            "gridcolor": "#EBF0F8",
            "linecolor": "#EBF0F8",
            "ticks": ""
           }
          },
          "scene": {
           "xaxis": {
            "backgroundcolor": "white",
            "gridcolor": "#DFE8F3",
            "gridwidth": 2,
            "linecolor": "#EBF0F8",
            "showbackground": true,
            "ticks": "",
            "zerolinecolor": "#EBF0F8"
           },
           "yaxis": {
            "backgroundcolor": "white",
            "gridcolor": "#DFE8F3",
            "gridwidth": 2,
            "linecolor": "#EBF0F8",
            "showbackground": true,
            "ticks": "",
            "zerolinecolor": "#EBF0F8"
           },
           "zaxis": {
            "backgroundcolor": "white",
            "gridcolor": "#DFE8F3",
            "gridwidth": 2,
            "linecolor": "#EBF0F8",
            "showbackground": true,
            "ticks": "",
            "zerolinecolor": "#EBF0F8"
           }
          },
          "shapedefaults": {
           "line": {
            "color": "#2a3f5f"
           }
          },
          "ternary": {
           "aaxis": {
            "gridcolor": "#DFE8F3",
            "linecolor": "#A2B1C6",
            "ticks": ""
           },
           "baxis": {
            "gridcolor": "#DFE8F3",
            "linecolor": "#A2B1C6",
            "ticks": ""
           },
           "bgcolor": "white",
           "caxis": {
            "gridcolor": "#DFE8F3",
            "linecolor": "#A2B1C6",
            "ticks": ""
           }
          },
          "title": {
           "x": 0.05
          },
          "xaxis": {
           "automargin": true,
           "gridcolor": "#EBF0F8",
           "linecolor": "#EBF0F8",
           "ticks": "",
           "title": {
            "standoff": 15
           },
           "zerolinecolor": "#EBF0F8",
           "zerolinewidth": 2
          },
          "yaxis": {
           "automargin": true,
           "gridcolor": "#EBF0F8",
           "linecolor": "#EBF0F8",
           "ticks": "",
           "title": {
            "standoff": 15
           },
           "zerolinecolor": "#EBF0F8",
           "zerolinewidth": 2
          }
         }
        },
        "title": {
         "text": "Slice Plot"
        },
        "width": 1000,
        "xaxis": {
         "anchor": "y",
         "domain": [
          0,
          0.16799999999999998
         ],
         "tickangle": -90,
         "title": {
          "text": "classifier"
         }
        },
        "xaxis2": {
         "anchor": "y2",
         "domain": [
          0.208,
          0.376
         ],
         "tickangle": -90,
         "title": {
          "text": "dt_max_depth"
         }
        },
        "xaxis3": {
         "anchor": "y3",
         "domain": [
          0.416,
          0.584
         ],
         "tickangle": -90,
         "title": {
          "text": "lr_c"
         },
         "type": "log"
        },
        "xaxis4": {
         "anchor": "y4",
         "domain": [
          0.624,
          0.792
         ],
         "tickangle": -90,
         "title": {
          "text": "rf_max_depth"
         }
        },
        "xaxis5": {
         "anchor": "y5",
         "domain": [
          0.832,
          1
         ],
         "tickangle": -90,
         "title": {
          "text": "rf_n_estimators"
         }
        },
        "yaxis": {
         "anchor": "x",
         "domain": [
          0,
          1
         ],
         "title": {
          "text": "Objective Value"
         }
        },
        "yaxis2": {
         "anchor": "x2",
         "domain": [
          0,
          1
         ],
         "matches": "y",
         "showticklabels": false
        },
        "yaxis3": {
         "anchor": "x3",
         "domain": [
          0,
          1
         ],
         "matches": "y",
         "showticklabels": false
        },
        "yaxis4": {
         "anchor": "x4",
         "domain": [
          0,
          1
         ],
         "matches": "y",
         "showticklabels": false
        },
        "yaxis5": {
         "anchor": "x5",
         "domain": [
          0,
          1
         ],
         "matches": "y",
         "showticklabels": false
        }
       }
      }
     },
     "metadata": {},
     "output_type": "display_data"
    },
    {
     "data": {
      "application/vnd.plotly.v1+json": {
       "config": {
        "plotlyServerURL": "https://plot.ly"
       },
       "data": [
        {
         "mode": "lines",
         "name": "Validation set ROC (AUC = 0.84)",
         "type": "scatter",
         "x": [
          0,
          0,
          0,
          0,
          0,
          0,
          0,
          0.0008223684210526315,
          0.0008223684210526315,
          0.0008223684210526315,
          0.0008223684210526315,
          0.0024671052631578946,
          0.0024671052631578946,
          0.0024671052631578946,
          0.0024671052631578946,
          0.003289473684210526,
          0.003289473684210526,
          0.004111842105263158,
          0.004934210526315789,
          0.004934210526315789,
          0.004934210526315789,
          0.004934210526315789,
          0.005756578947368421,
          0.005756578947368421,
          0.007401315789473684,
          0.009046052631578948,
          0.009046052631578948,
          0.009046052631578948,
          0.009868421052631578,
          0.009868421052631578,
          0.01069078947368421,
          0.01069078947368421,
          0.011513157894736841,
          0.011513157894736841,
          0.011513157894736841,
          0.011513157894736841,
          0.013157894736842105,
          0.013157894736842105,
          0.013980263157894737,
          0.013980263157894737,
          0.01644736842105263,
          0.01644736842105263,
          0.017269736842105265,
          0.018092105263157895,
          0.018092105263157895,
          0.018914473684210526,
          0.018914473684210526,
          0.019736842105263157,
          0.019736842105263157,
          0.02055921052631579,
          0.02055921052631579,
          0.023026315789473683,
          0.023026315789473683,
          0.023848684210526317,
          0.023848684210526317,
          0.024671052631578948,
          0.024671052631578948,
          0.02549342105263158,
          0.02549342105263158,
          0.027138157894736843,
          0.027138157894736843,
          0.027960526315789474,
          0.027960526315789474,
          0.029605263157894735,
          0.029605263157894735,
          0.032072368421052634,
          0.032072368421052634,
          0.03289473684210526,
          0.03289473684210526,
          0.033717105263157895,
          0.033717105263157895,
          0.03536184210526316,
          0.03536184210526316,
          0.04029605263157895,
          0.04029605263157895,
          0.04111842105263158,
          0.04111842105263158,
          0.04358552631578947,
          0.04358552631578947,
          0.046052631578947366,
          0.046052631578947366,
          0.046875,
          0.046875,
          0.047697368421052634,
          0.047697368421052634,
          0.05592105263157895,
          0.05592105263157895,
          0.05592105263157895,
          0.05838815789473684,
          0.05838815789473684,
          0.0625,
          0.0625,
          0.0649671052631579,
          0.0649671052631579,
          0.06743421052631579,
          0.06743421052631579,
          0.07483552631578948,
          0.07483552631578948,
          0.07648026315789473,
          0.07648026315789473,
          0.078125,
          0.078125,
          0.07894736842105263,
          0.07894736842105263,
          0.0805921052631579,
          0.0805921052631579,
          0.08305921052631579,
          0.08305921052631579,
          0.08552631578947369,
          0.08552631578947369,
          0.08881578947368421,
          0.08881578947368421,
          0.09292763157894737,
          0.09292763157894737,
          0.09375,
          0.09375,
          0.10279605263157894,
          0.10279605263157894,
          0.10361842105263158,
          0.10361842105263158,
          0.1069078947368421,
          0.1069078947368421,
          0.11019736842105263,
          0.11019736842105263,
          0.11430921052631579,
          0.11595394736842106,
          0.11677631578947369,
          0.11677631578947369,
          0.11677631578947369,
          0.11842105263157894,
          0.11842105263157894,
          0.12006578947368421,
          0.12006578947368421,
          0.12335526315789473,
          0.12417763157894737,
          0.13075657894736842,
          0.13075657894736842,
          0.13157894736842105,
          0.13157894736842105,
          0.13486842105263158,
          0.13486842105263158,
          0.14226973684210525,
          0.14226973684210525,
          0.14473684210526316,
          0.14473684210526316,
          0.15049342105263158,
          0.15049342105263158,
          0.1513157894736842,
          0.15213815789473684,
          0.15625,
          0.15625,
          0.16365131578947367,
          0.16365131578947367,
          0.16447368421052633,
          0.16447368421052633,
          0.1669407894736842,
          0.1669407894736842,
          0.16858552631578946,
          0.16858552631578946,
          0.17105263157894737,
          0.17105263157894737,
          0.17763157894736842,
          0.17763157894736842,
          0.18009868421052633,
          0.1825657894736842,
          0.18338815789473684,
          0.18338815789473684,
          0.18421052631578946,
          0.18421052631578946,
          0.18832236842105263,
          0.18832236842105263,
          0.19078947368421054,
          0.19078947368421054,
          0.19654605263157895,
          0.19654605263157895,
          0.20723684210526316,
          0.20723684210526316,
          0.20888157894736842,
          0.21134868421052633,
          0.22203947368421054,
          0.22203947368421054,
          0.22286184210526316,
          0.22286184210526316,
          0.2236842105263158,
          0.2236842105263158,
          0.22450657894736842,
          0.22450657894736842,
          0.22615131578947367,
          0.22615131578947367,
          0.23026315789473684,
          0.23026315789473684,
          0.23601973684210525,
          0.23601973684210525,
          0.23848684210526316,
          0.23848684210526316,
          0.24259868421052633,
          0.24259868421052633,
          0.24671052631578946,
          0.24917763157894737,
          0.2590460526315789,
          0.26069078947368424,
          0.2738486842105263,
          0.2738486842105263,
          0.2746710526315789,
          0.2746710526315789,
          0.28125,
          0.28125,
          0.28207236842105265,
          0.28207236842105265,
          0.2837171052631579,
          0.2878289473684211,
          0.2878289473684211,
          0.2886513157894737,
          0.2886513157894737,
          0.29523026315789475,
          0.29523026315789475,
          0.296875,
          0.296875,
          0.3001644736842105,
          0.30180921052631576,
          0.3067434210526316,
          0.3067434210526316,
          0.30756578947368424,
          0.3092105263157895,
          0.3125,
          0.3125,
          0.31743421052631576,
          0.31743421052631576,
          0.3182565789473684,
          0.3182565789473684,
          0.3190789473684211,
          0.3190789473684211,
          0.3248355263157895,
          0.32648026315789475,
          0.32976973684210525,
          0.32976973684210525,
          0.3314144736842105,
          0.3314144736842105,
          0.3338815789473684,
          0.3338815789473684,
          0.3379934210526316,
          0.3379934210526316,
          0.34292763157894735,
          0.34292763157894735,
          0.3470394736842105,
          0.3470394736842105,
          0.3536184210526316,
          0.3536184210526316,
          0.35444078947368424,
          0.3560855263157895,
          0.3667763157894737,
          0.3667763157894737,
          0.37088815789473684,
          0.3840460526315789,
          0.39144736842105265,
          0.39473684210526316,
          0.39473684210526316,
          0.3988486842105263,
          0.3988486842105263,
          0.4037828947368421,
          0.4037828947368421,
          0.4095394736842105,
          0.4128289473684211,
          0.41776315789473684,
          0.41776315789473684,
          0.42105263157894735,
          0.42105263157894735,
          0.4243421052631579,
          0.4300986842105263,
          0.4342105263157895,
          0.4350328947368421,
          0.43585526315789475,
          0.43585526315789475,
          0.4440789473684211,
          0.44819078947368424,
          0.4613486842105263,
          0.4613486842105263,
          0.46792763157894735,
          0.46792763157894735,
          0.4745065789473684,
          0.4777960526315789,
          0.49506578947368424,
          0.49506578947368424,
          0.5,
          0.5008223684210527,
          0.5041118421052632,
          0.5057565789473685,
          0.5172697368421053,
          0.5172697368421053,
          0.5197368421052632,
          0.522203947368421,
          0.522203947368421,
          0.5279605263157895,
          0.5279605263157895,
          0.5361842105263158,
          0.540296052631579,
          0.5526315789473685,
          0.555921052631579,
          0.5600328947368421,
          0.5600328947368421,
          0.5748355263157895,
          0.5805921052631579,
          0.5830592105263158,
          0.5830592105263158,
          0.587171052631579,
          0.5888157894736842,
          0.5986842105263158,
          0.6019736842105263,
          0.6044407894736842,
          0.6044407894736842,
          0.6101973684210527,
          0.6101973684210527,
          0.6200657894736842,
          0.6274671052631579,
          0.6274671052631579,
          0.6282894736842105,
          0.6282894736842105,
          0.6324013157894737,
          0.6324013157894737,
          0.6373355263157895,
          0.6373355263157895,
          0.6381578947368421,
          0.6463815789473685,
          0.662828947368421,
          0.6710526315789473,
          0.6916118421052632,
          0.6916118421052632,
          0.694078947368421,
          0.7047697368421053,
          0.7236842105263158,
          0.7236842105263158,
          0.7245065789473685,
          0.7319078947368421,
          0.7516447368421053,
          0.759046052631579,
          0.7763157894736842,
          0.7779605263157895,
          0.7861842105263158,
          0.7861842105263158,
          0.7985197368421053,
          0.8001644736842105,
          0.805921052631579,
          0.8075657894736842,
          0.819078947368421,
          0.8256578947368421,
          0.8404605263157895,
          0.8421052631578947,
          0.8429276315789473,
          0.8478618421052632,
          0.8601973684210527,
          0.8601973684210527,
          0.868421052631579,
          0.8799342105263158,
          0.8889802631578947,
          0.8889802631578947,
          0.8939144736842105,
          0.8955592105263158,
          0.899671052631579,
          0.9177631578947368,
          0.9333881578947368,
          0.9358552631578947,
          0.9391447368421053,
          0.9473684210526315,
          0.9514802631578947,
          0.9514802631578947,
          0.9646381578947368,
          0.9662828947368421,
          0.9728618421052632,
          0.9827302631578947,
          0.984375,
          0.9876644736842105,
          0.9893092105263158,
          0.9901315789473685,
          1
         ],
         "y": [
          0,
          0.0035211267605633804,
          0.03873239436619718,
          0.045774647887323945,
          0.056338028169014086,
          0.06338028169014084,
          0.09507042253521127,
          0.09507042253521127,
          0.11267605633802817,
          0.1267605633802817,
          0.1795774647887324,
          0.1795774647887324,
          0.18309859154929578,
          0.19014084507042253,
          0.22535211267605634,
          0.22535211267605634,
          0.22887323943661972,
          0.2323943661971831,
          0.2323943661971831,
          0.23943661971830985,
          0.25,
          0.2605633802816901,
          0.2605633802816901,
          0.27816901408450706,
          0.27816901408450706,
          0.27816901408450706,
          0.28169014084507044,
          0.29225352112676056,
          0.29225352112676056,
          0.29577464788732394,
          0.29577464788732394,
          0.3204225352112676,
          0.3204225352112676,
          0.323943661971831,
          0.33098591549295775,
          0.3626760563380282,
          0.3626760563380282,
          0.36971830985915494,
          0.36971830985915494,
          0.3767605633802817,
          0.3767605633802817,
          0.3873239436619718,
          0.3873239436619718,
          0.3908450704225352,
          0.39436619718309857,
          0.39436619718309857,
          0.4084507042253521,
          0.4084507042253521,
          0.4119718309859155,
          0.4119718309859155,
          0.4154929577464789,
          0.4154929577464789,
          0.41901408450704225,
          0.41901408450704225,
          0.4295774647887324,
          0.4295774647887324,
          0.43661971830985913,
          0.43661971830985913,
          0.44014084507042256,
          0.44014084507042256,
          0.44366197183098594,
          0.44366197183098594,
          0.45422535211267606,
          0.45422535211267606,
          0.45774647887323944,
          0.45774647887323944,
          0.4647887323943662,
          0.4647887323943662,
          0.46830985915492956,
          0.46830985915492956,
          0.47183098591549294,
          0.47183098591549294,
          0.4788732394366197,
          0.4788732394366197,
          0.4859154929577465,
          0.4859154929577465,
          0.4894366197183099,
          0.4894366197183099,
          0.49295774647887325,
          0.49295774647887325,
          0.4964788732394366,
          0.4964788732394366,
          0.5035211267605634,
          0.5035211267605634,
          0.5105633802816901,
          0.5105633802816901,
          0.5140845070422535,
          0.5246478873239436,
          0.5246478873239436,
          0.528169014084507,
          0.528169014084507,
          0.5316901408450704,
          0.5316901408450704,
          0.5352112676056338,
          0.5352112676056338,
          0.5387323943661971,
          0.5387323943661971,
          0.5492957746478874,
          0.5492957746478874,
          0.5598591549295775,
          0.5598591549295775,
          0.5633802816901409,
          0.5633802816901409,
          0.5704225352112676,
          0.5704225352112676,
          0.573943661971831,
          0.573943661971831,
          0.5774647887323944,
          0.5774647887323944,
          0.5809859154929577,
          0.5809859154929577,
          0.5845070422535211,
          0.5845070422535211,
          0.5880281690140845,
          0.5880281690140845,
          0.5915492957746479,
          0.5915492957746479,
          0.5950704225352113,
          0.5950704225352113,
          0.5985915492957746,
          0.5985915492957746,
          0.602112676056338,
          0.602112676056338,
          0.6091549295774648,
          0.6091549295774648,
          0.6091549295774648,
          0.6091549295774648,
          0.6161971830985915,
          0.6232394366197183,
          0.6232394366197183,
          0.6267605633802817,
          0.6267605633802817,
          0.6373239436619719,
          0.6373239436619719,
          0.6408450704225352,
          0.6408450704225352,
          0.6443661971830986,
          0.6443661971830986,
          0.6514084507042254,
          0.6514084507042254,
          0.6549295774647887,
          0.6549295774647887,
          0.6584507042253521,
          0.6584507042253521,
          0.6619718309859155,
          0.6619718309859155,
          0.6654929577464789,
          0.6654929577464789,
          0.6690140845070423,
          0.6690140845070423,
          0.6725352112676056,
          0.6725352112676056,
          0.676056338028169,
          0.676056338028169,
          0.6795774647887324,
          0.6795774647887324,
          0.6830985915492958,
          0.6830985915492958,
          0.6936619718309859,
          0.6936619718309859,
          0.6971830985915493,
          0.6971830985915493,
          0.7007042253521126,
          0.7007042253521126,
          0.7007042253521126,
          0.7007042253521126,
          0.704225352112676,
          0.704225352112676,
          0.7077464788732394,
          0.7077464788732394,
          0.7112676056338029,
          0.7112676056338029,
          0.7147887323943662,
          0.7147887323943662,
          0.7183098591549296,
          0.7183098591549296,
          0.721830985915493,
          0.721830985915493,
          0.721830985915493,
          0.721830985915493,
          0.7288732394366197,
          0.7288732394366197,
          0.7323943661971831,
          0.7323943661971831,
          0.7359154929577465,
          0.7359154929577465,
          0.7464788732394366,
          0.7464788732394366,
          0.75,
          0.75,
          0.7535211267605634,
          0.7535211267605634,
          0.7570422535211268,
          0.7570422535211268,
          0.7605633802816901,
          0.7605633802816901,
          0.7640845070422535,
          0.7640845070422535,
          0.7640845070422535,
          0.7640845070422535,
          0.7676056338028169,
          0.7676056338028169,
          0.7711267605633803,
          0.7711267605633803,
          0.7746478873239436,
          0.7746478873239436,
          0.778169014084507,
          0.778169014084507,
          0.7852112676056338,
          0.7852112676056338,
          0.7852112676056338,
          0.7887323943661971,
          0.7887323943661971,
          0.7922535211267606,
          0.7922535211267606,
          0.795774647887324,
          0.795774647887324,
          0.7992957746478874,
          0.7992957746478874,
          0.7992957746478874,
          0.7992957746478874,
          0.8028169014084507,
          0.8028169014084507,
          0.8028169014084507,
          0.8028169014084507,
          0.8063380281690141,
          0.8063380281690141,
          0.8098591549295775,
          0.8098591549295775,
          0.8133802816901409,
          0.8133802816901409,
          0.8169014084507042,
          0.8169014084507042,
          0.8204225352112676,
          0.8204225352112676,
          0.823943661971831,
          0.823943661971831,
          0.8274647887323944,
          0.8274647887323944,
          0.8309859154929577,
          0.8309859154929577,
          0.8345070422535211,
          0.8345070422535211,
          0.8415492957746479,
          0.8415492957746479,
          0.8450704225352113,
          0.8450704225352113,
          0.8485915492957746,
          0.8485915492957746,
          0.8485915492957746,
          0.8485915492957746,
          0.852112676056338,
          0.852112676056338,
          0.852112676056338,
          0.852112676056338,
          0.852112676056338,
          0.8556338028169014,
          0.8556338028169014,
          0.8591549295774648,
          0.8591549295774648,
          0.8661971830985915,
          0.8661971830985915,
          0.8697183098591549,
          0.8697183098591549,
          0.8732394366197183,
          0.8732394366197183,
          0.8767605633802817,
          0.8767605633802817,
          0.8767605633802817,
          0.8767605633802817,
          0.8802816901408451,
          0.8802816901408451,
          0.8838028169014085,
          0.8838028169014085,
          0.8838028169014085,
          0.8838028169014085,
          0.8873239436619719,
          0.8873239436619719,
          0.8908450704225352,
          0.8908450704225352,
          0.8908450704225352,
          0.8908450704225352,
          0.8943661971830986,
          0.8943661971830986,
          0.897887323943662,
          0.897887323943662,
          0.897887323943662,
          0.897887323943662,
          0.9014084507042254,
          0.9014084507042254,
          0.9119718309859155,
          0.9154929577464789,
          0.9154929577464789,
          0.9190140845070423,
          0.9190140845070423,
          0.9190140845070423,
          0.9190140845070423,
          0.9225352112676056,
          0.9225352112676056,
          0.926056338028169,
          0.926056338028169,
          0.926056338028169,
          0.926056338028169,
          0.9295774647887324,
          0.9295774647887324,
          0.9295774647887324,
          0.9295774647887324,
          0.9295774647887324,
          0.9295774647887324,
          0.9330985915492958,
          0.9330985915492958,
          0.9366197183098591,
          0.9366197183098591,
          0.9366197183098591,
          0.9401408450704225,
          0.9401408450704225,
          0.9436619718309859,
          0.9436619718309859,
          0.9471830985915493,
          0.9471830985915493,
          0.9507042253521126,
          0.9507042253521126,
          0.9612676056338029,
          0.9612676056338029,
          0.9683098591549296,
          0.9683098591549296,
          0.971830985915493,
          0.971830985915493,
          0.971830985915493,
          0.971830985915493,
          0.9753521126760564,
          0.9753521126760564,
          0.9753521126760564,
          0.9753521126760564,
          0.9753521126760564,
          0.9753521126760564,
          0.9753521126760564,
          0.9753521126760564,
          0.9788732394366197,
          0.9823943661971831,
          0.9823943661971831,
          0.9823943661971831,
          0.9823943661971831,
          0.9823943661971831,
          0.9859154929577465,
          0.9859154929577465,
          0.9859154929577465,
          0.9859154929577465,
          0.9859154929577465,
          0.9859154929577465,
          0.9894366197183099,
          0.9894366197183099,
          0.9894366197183099,
          0.9894366197183099,
          0.9929577464788732,
          0.9929577464788732,
          0.9929577464788732,
          0.9929577464788732,
          0.9929577464788732,
          0.9929577464788732,
          0.9929577464788732,
          0.9929577464788732,
          0.9964788732394366,
          0.9964788732394366,
          1,
          1,
          1,
          1,
          1,
          1,
          1,
          1,
          1,
          1
         ]
        },
        {
         "line": {
          "color": "black",
          "dash": "dash"
         },
         "mode": "lines",
         "name": "No skill",
         "type": "scatter",
         "x": [
          0,
          1
         ],
         "y": [
          0,
          1
         ]
        }
       ],
       "layout": {
        "height": 750,
        "template": {
         "data": {
          "bar": [
           {
            "error_x": {
             "color": "#2a3f5f"
            },
            "error_y": {
             "color": "#2a3f5f"
            },
            "marker": {
             "line": {
              "color": "white",
              "width": 0.5
             },
             "pattern": {
              "fillmode": "overlay",
              "size": 10,
              "solidity": 0.2
             }
            },
            "type": "bar"
           }
          ],
          "barpolar": [
           {
            "marker": {
             "line": {
              "color": "white",
              "width": 0.5
             },
             "pattern": {
              "fillmode": "overlay",
              "size": 10,
              "solidity": 0.2
             }
            },
            "type": "barpolar"
           }
          ],
          "carpet": [
           {
            "aaxis": {
             "endlinecolor": "#2a3f5f",
             "gridcolor": "#C8D4E3",
             "linecolor": "#C8D4E3",
             "minorgridcolor": "#C8D4E3",
             "startlinecolor": "#2a3f5f"
            },
            "baxis": {
             "endlinecolor": "#2a3f5f",
             "gridcolor": "#C8D4E3",
             "linecolor": "#C8D4E3",
             "minorgridcolor": "#C8D4E3",
             "startlinecolor": "#2a3f5f"
            },
            "type": "carpet"
           }
          ],
          "choropleth": [
           {
            "colorbar": {
             "outlinewidth": 0,
             "ticks": ""
            },
            "type": "choropleth"
           }
          ],
          "contour": [
           {
            "colorbar": {
             "outlinewidth": 0,
             "ticks": ""
            },
            "colorscale": [
             [
              0,
              "#0d0887"
             ],
             [
              0.1111111111111111,
              "#46039f"
             ],
             [
              0.2222222222222222,
              "#7201a8"
             ],
             [
              0.3333333333333333,
              "#9c179e"
             ],
             [
              0.4444444444444444,
              "#bd3786"
             ],
             [
              0.5555555555555556,
              "#d8576b"
             ],
             [
              0.6666666666666666,
              "#ed7953"
             ],
             [
              0.7777777777777778,
              "#fb9f3a"
             ],
             [
              0.8888888888888888,
              "#fdca26"
             ],
             [
              1,
              "#f0f921"
             ]
            ],
            "type": "contour"
           }
          ],
          "contourcarpet": [
           {
            "colorbar": {
             "outlinewidth": 0,
             "ticks": ""
            },
            "type": "contourcarpet"
           }
          ],
          "heatmap": [
           {
            "colorbar": {
             "outlinewidth": 0,
             "ticks": ""
            },
            "colorscale": [
             [
              0,
              "#0d0887"
             ],
             [
              0.1111111111111111,
              "#46039f"
             ],
             [
              0.2222222222222222,
              "#7201a8"
             ],
             [
              0.3333333333333333,
              "#9c179e"
             ],
             [
              0.4444444444444444,
              "#bd3786"
             ],
             [
              0.5555555555555556,
              "#d8576b"
             ],
             [
              0.6666666666666666,
              "#ed7953"
             ],
             [
              0.7777777777777778,
              "#fb9f3a"
             ],
             [
              0.8888888888888888,
              "#fdca26"
             ],
             [
              1,
              "#f0f921"
             ]
            ],
            "type": "heatmap"
           }
          ],
          "heatmapgl": [
           {
            "colorbar": {
             "outlinewidth": 0,
             "ticks": ""
            },
            "colorscale": [
             [
              0,
              "#0d0887"
             ],
             [
              0.1111111111111111,
              "#46039f"
             ],
             [
              0.2222222222222222,
              "#7201a8"
             ],
             [
              0.3333333333333333,
              "#9c179e"
             ],
             [
              0.4444444444444444,
              "#bd3786"
             ],
             [
              0.5555555555555556,
              "#d8576b"
             ],
             [
              0.6666666666666666,
              "#ed7953"
             ],
             [
              0.7777777777777778,
              "#fb9f3a"
             ],
             [
              0.8888888888888888,
              "#fdca26"
             ],
             [
              1,
              "#f0f921"
             ]
            ],
            "type": "heatmapgl"
           }
          ],
          "histogram": [
           {
            "marker": {
             "pattern": {
              "fillmode": "overlay",
              "size": 10,
              "solidity": 0.2
             }
            },
            "type": "histogram"
           }
          ],
          "histogram2d": [
           {
            "colorbar": {
             "outlinewidth": 0,
             "ticks": ""
            },
            "colorscale": [
             [
              0,
              "#0d0887"
             ],
             [
              0.1111111111111111,
              "#46039f"
             ],
             [
              0.2222222222222222,
              "#7201a8"
             ],
             [
              0.3333333333333333,
              "#9c179e"
             ],
             [
              0.4444444444444444,
              "#bd3786"
             ],
             [
              0.5555555555555556,
              "#d8576b"
             ],
             [
              0.6666666666666666,
              "#ed7953"
             ],
             [
              0.7777777777777778,
              "#fb9f3a"
             ],
             [
              0.8888888888888888,
              "#fdca26"
             ],
             [
              1,
              "#f0f921"
             ]
            ],
            "type": "histogram2d"
           }
          ],
          "histogram2dcontour": [
           {
            "colorbar": {
             "outlinewidth": 0,
             "ticks": ""
            },
            "colorscale": [
             [
              0,
              "#0d0887"
             ],
             [
              0.1111111111111111,
              "#46039f"
             ],
             [
              0.2222222222222222,
              "#7201a8"
             ],
             [
              0.3333333333333333,
              "#9c179e"
             ],
             [
              0.4444444444444444,
              "#bd3786"
             ],
             [
              0.5555555555555556,
              "#d8576b"
             ],
             [
              0.6666666666666666,
              "#ed7953"
             ],
             [
              0.7777777777777778,
              "#fb9f3a"
             ],
             [
              0.8888888888888888,
              "#fdca26"
             ],
             [
              1,
              "#f0f921"
             ]
            ],
            "type": "histogram2dcontour"
           }
          ],
          "mesh3d": [
           {
            "colorbar": {
             "outlinewidth": 0,
             "ticks": ""
            },
            "type": "mesh3d"
           }
          ],
          "parcoords": [
           {
            "line": {
             "colorbar": {
              "outlinewidth": 0,
              "ticks": ""
             }
            },
            "type": "parcoords"
           }
          ],
          "pie": [
           {
            "automargin": true,
            "type": "pie"
           }
          ],
          "scatter": [
           {
            "fillpattern": {
             "fillmode": "overlay",
             "size": 10,
             "solidity": 0.2
            },
            "type": "scatter"
           }
          ],
          "scatter3d": [
           {
            "line": {
             "colorbar": {
              "outlinewidth": 0,
              "ticks": ""
             }
            },
            "marker": {
             "colorbar": {
              "outlinewidth": 0,
              "ticks": ""
             }
            },
            "type": "scatter3d"
           }
          ],
          "scattercarpet": [
           {
            "marker": {
             "colorbar": {
              "outlinewidth": 0,
              "ticks": ""
             }
            },
            "type": "scattercarpet"
           }
          ],
          "scattergeo": [
           {
            "marker": {
             "colorbar": {
              "outlinewidth": 0,
              "ticks": ""
             }
            },
            "type": "scattergeo"
           }
          ],
          "scattergl": [
           {
            "marker": {
             "colorbar": {
              "outlinewidth": 0,
              "ticks": ""
             }
            },
            "type": "scattergl"
           }
          ],
          "scattermapbox": [
           {
            "marker": {
             "colorbar": {
              "outlinewidth": 0,
              "ticks": ""
             }
            },
            "type": "scattermapbox"
           }
          ],
          "scatterpolar": [
           {
            "marker": {
             "colorbar": {
              "outlinewidth": 0,
              "ticks": ""
             }
            },
            "type": "scatterpolar"
           }
          ],
          "scatterpolargl": [
           {
            "marker": {
             "colorbar": {
              "outlinewidth": 0,
              "ticks": ""
             }
            },
            "type": "scatterpolargl"
           }
          ],
          "scatterternary": [
           {
            "marker": {
             "colorbar": {
              "outlinewidth": 0,
              "ticks": ""
             }
            },
            "type": "scatterternary"
           }
          ],
          "surface": [
           {
            "colorbar": {
             "outlinewidth": 0,
             "ticks": ""
            },
            "colorscale": [
             [
              0,
              "#0d0887"
             ],
             [
              0.1111111111111111,
              "#46039f"
             ],
             [
              0.2222222222222222,
              "#7201a8"
             ],
             [
              0.3333333333333333,
              "#9c179e"
             ],
             [
              0.4444444444444444,
              "#bd3786"
             ],
             [
              0.5555555555555556,
              "#d8576b"
             ],
             [
              0.6666666666666666,
              "#ed7953"
             ],
             [
              0.7777777777777778,
              "#fb9f3a"
             ],
             [
              0.8888888888888888,
              "#fdca26"
             ],
             [
              1,
              "#f0f921"
             ]
            ],
            "type": "surface"
           }
          ],
          "table": [
           {
            "cells": {
             "fill": {
              "color": "#EBF0F8"
             },
             "line": {
              "color": "white"
             }
            },
            "header": {
             "fill": {
              "color": "#C8D4E3"
             },
             "line": {
              "color": "white"
             }
            },
            "type": "table"
           }
          ]
         },
         "layout": {
          "annotationdefaults": {
           "arrowcolor": "#2a3f5f",
           "arrowhead": 0,
           "arrowwidth": 1
          },
          "autotypenumbers": "strict",
          "coloraxis": {
           "colorbar": {
            "outlinewidth": 0,
            "ticks": ""
           }
          },
          "colorscale": {
           "diverging": [
            [
             0,
             "#8e0152"
            ],
            [
             0.1,
             "#c51b7d"
            ],
            [
             0.2,
             "#de77ae"
            ],
            [
             0.3,
             "#f1b6da"
            ],
            [
             0.4,
             "#fde0ef"
            ],
            [
             0.5,
             "#f7f7f7"
            ],
            [
             0.6,
             "#e6f5d0"
            ],
            [
             0.7,
             "#b8e186"
            ],
            [
             0.8,
             "#7fbc41"
            ],
            [
             0.9,
             "#4d9221"
            ],
            [
             1,
             "#276419"
            ]
           ],
           "sequential": [
            [
             0,
             "#0d0887"
            ],
            [
             0.1111111111111111,
             "#46039f"
            ],
            [
             0.2222222222222222,
             "#7201a8"
            ],
            [
             0.3333333333333333,
             "#9c179e"
            ],
            [
             0.4444444444444444,
             "#bd3786"
            ],
            [
             0.5555555555555556,
             "#d8576b"
            ],
            [
             0.6666666666666666,
             "#ed7953"
            ],
            [
             0.7777777777777778,
             "#fb9f3a"
            ],
            [
             0.8888888888888888,
             "#fdca26"
            ],
            [
             1,
             "#f0f921"
            ]
           ],
           "sequentialminus": [
            [
             0,
             "#0d0887"
            ],
            [
             0.1111111111111111,
             "#46039f"
            ],
            [
             0.2222222222222222,
             "#7201a8"
            ],
            [
             0.3333333333333333,
             "#9c179e"
            ],
            [
             0.4444444444444444,
             "#bd3786"
            ],
            [
             0.5555555555555556,
             "#d8576b"
            ],
            [
             0.6666666666666666,
             "#ed7953"
            ],
            [
             0.7777777777777778,
             "#fb9f3a"
            ],
            [
             0.8888888888888888,
             "#fdca26"
            ],
            [
             1,
             "#f0f921"
            ]
           ]
          },
          "colorway": [
           "#636efa",
           "#EF553B",
           "#00cc96",
           "#ab63fa",
           "#FFA15A",
           "#19d3f3",
           "#FF6692",
           "#B6E880",
           "#FF97FF",
           "#FECB52"
          ],
          "font": {
           "color": "#2a3f5f"
          },
          "geo": {
           "bgcolor": "white",
           "lakecolor": "white",
           "landcolor": "white",
           "showlakes": true,
           "showland": true,
           "subunitcolor": "#C8D4E3"
          },
          "hoverlabel": {
           "align": "left"
          },
          "hovermode": "closest",
          "mapbox": {
           "style": "light"
          },
          "paper_bgcolor": "white",
          "plot_bgcolor": "white",
          "polar": {
           "angularaxis": {
            "gridcolor": "#EBF0F8",
            "linecolor": "#EBF0F8",
            "ticks": ""
           },
           "bgcolor": "white",
           "radialaxis": {
            "gridcolor": "#EBF0F8",
            "linecolor": "#EBF0F8",
            "ticks": ""
           }
          },
          "scene": {
           "xaxis": {
            "backgroundcolor": "white",
            "gridcolor": "#DFE8F3",
            "gridwidth": 2,
            "linecolor": "#EBF0F8",
            "showbackground": true,
            "ticks": "",
            "zerolinecolor": "#EBF0F8"
           },
           "yaxis": {
            "backgroundcolor": "white",
            "gridcolor": "#DFE8F3",
            "gridwidth": 2,
            "linecolor": "#EBF0F8",
            "showbackground": true,
            "ticks": "",
            "zerolinecolor": "#EBF0F8"
           },
           "zaxis": {
            "backgroundcolor": "white",
            "gridcolor": "#DFE8F3",
            "gridwidth": 2,
            "linecolor": "#EBF0F8",
            "showbackground": true,
            "ticks": "",
            "zerolinecolor": "#EBF0F8"
           }
          },
          "shapedefaults": {
           "line": {
            "color": "#2a3f5f"
           }
          },
          "ternary": {
           "aaxis": {
            "gridcolor": "#DFE8F3",
            "linecolor": "#A2B1C6",
            "ticks": ""
           },
           "baxis": {
            "gridcolor": "#DFE8F3",
            "linecolor": "#A2B1C6",
            "ticks": ""
           },
           "bgcolor": "white",
           "caxis": {
            "gridcolor": "#DFE8F3",
            "linecolor": "#A2B1C6",
            "ticks": ""
           }
          },
          "title": {
           "x": 0.05
          },
          "xaxis": {
           "automargin": true,
           "gridcolor": "#EBF0F8",
           "linecolor": "#EBF0F8",
           "ticks": "",
           "title": {
            "standoff": 15
           },
           "zerolinecolor": "#EBF0F8",
           "zerolinewidth": 2
          },
          "yaxis": {
           "automargin": true,
           "gridcolor": "#EBF0F8",
           "linecolor": "#EBF0F8",
           "ticks": "",
           "title": {
            "standoff": 15
           },
           "zerolinecolor": "#EBF0F8",
           "zerolinewidth": 2
          }
         }
        },
        "title": {
         "text": "ROC for the best model, upsampled"
        },
        "width": 1000,
        "xaxis": {
         "title": {
          "text": "False positive rate"
         }
        },
        "yaxis": {
         "title": {
          "text": "True positive rate"
         }
        }
       }
      }
     },
     "metadata": {},
     "output_type": "display_data"
    }
   ],
   "source": [
    "print_best_params_and_metrics(study_upsampled.best_params, metrics)\n",
    "\n",
    "fig = optuna.visualization.plot_optimization_history(study_upsampled)\n",
    "fig.update_layout(template='plotly_white', width=FIG_WIDTH, height=FIG_HEIGHT)\n",
    "fig.show()\n",
    "\n",
    "fig = optuna.visualization.plot_slice(study_upsampled)\n",
    "fig.update_layout(template='plotly_white', width=FIG_WIDTH, height=FIG_HEIGHT)\n",
    "fig.update_xaxes(tickangle=-90)\n",
    "fig.show()\n",
    "\n",
    "fig = plot_roc_auc('upsampled', best_model, 'ROC for the best model, upsampled')\n",
    "fig.show()"
   ]
  },
  {
   "attachments": {},
   "cell_type": "markdown",
   "metadata": {},
   "source": [
    "# Выводы\n",
    "\n",
    "На основе результатов экспериментов мы наблюдаем значительные различия в метриках модели при использовании `upsamlping` по сравнению с оригинальным датасетом.\n",
    "\n",
    "Лучшей моделью в обоих случаях оказался классификатор `RandomForest` с `max_depth = 18` и `n_estimators = 158`. Однако эффективность этой модели на двух наборах данных довольно различна.\n",
    "\n",
    "Для набора данных без `upsampling`:\n",
    "\n",
    "1. Модель достигает значения F1-меры примерно 0,58 на валидационном наборе и 0,60 на тестовом наборе.\n",
    "2. Площадь под кривой (ROC-AUC) составляет около 0,72 для обоих наборов данных.\n",
    "\n",
    "В случае с `upsampling`:\n",
    "\n",
    "1. Значение F1-меры модели значительно улучшается, достигая около 0,94 как для валидационного, так и для тестового наборов данных.\n",
    "2. ROC-AUC также значительно повышается, достигая приблизительно 0,94 для обоих наборов.\n",
    "\n",
    "Метод `upsampling` эффективно справляется с дисбалансом классов в наборе данных, что приводит к улучшению качества предсказаний миноритарного класса. Поэтому, в этом конкретном случае, применение `upsampling` оказалось подходящим решением.\n",
    "\n",
    "Важно отметить, что выбор `upsampling`, модели и ее гиперпараметров должен производиться тщательно, с учетом контекста проблемы и специфических характеристик данных. Кроме того, очень важно проверить, что модель не переобучается на данных с `upsampling`, и производительность на новых данных сохраняется.\n",
    "\n",
    "Наконец, стоит рассмотреть другие метрики и деловые цели, помимо F1 и ROC-AUC, чтобы получить всестороннее понимание качества модели.\n"
   ]
  }
 ],
 "metadata": {
  "ExecuteTimeLog": [
   {
    "duration": 1605,
    "start_time": "2023-05-21T19:46:45.978Z"
   },
   {
    "duration": 35,
    "start_time": "2023-05-21T19:46:52.071Z"
   },
   {
    "duration": 836,
    "start_time": "2023-05-21T19:46:54.792Z"
   },
   {
    "duration": 168,
    "start_time": "2023-05-21T19:48:12.739Z"
   },
   {
    "duration": 73,
    "start_time": "2023-05-21T19:48:16.311Z"
   },
   {
    "duration": 24,
    "start_time": "2023-05-21T19:48:16.386Z"
   },
   {
    "duration": 360,
    "start_time": "2023-05-21T19:48:16.412Z"
   },
   {
    "duration": 6,
    "start_time": "2023-05-21T19:48:16.774Z"
   },
   {
    "duration": 321,
    "start_time": "2023-05-21T19:48:16.781Z"
   },
   {
    "duration": 64,
    "start_time": "2023-05-21T19:48:17.103Z"
   },
   {
    "duration": 12362,
    "start_time": "2023-05-21T19:48:22.972Z"
   },
   {
    "duration": 108,
    "start_time": "2023-05-21T19:48:35.337Z"
   },
   {
    "duration": 1385,
    "start_time": "2023-05-22T18:16:08.557Z"
   },
   {
    "duration": 37,
    "start_time": "2023-05-22T18:16:09.944Z"
   },
   {
    "duration": 865,
    "start_time": "2023-05-22T18:16:09.983Z"
   },
   {
    "duration": 9,
    "start_time": "2023-05-22T18:16:10.849Z"
   },
   {
    "duration": 119,
    "start_time": "2023-05-22T18:16:10.860Z"
   },
   {
    "duration": 0,
    "start_time": "2023-05-22T18:16:10.982Z"
   },
   {
    "duration": 0,
    "start_time": "2023-05-22T18:16:10.984Z"
   },
   {
    "duration": 0,
    "start_time": "2023-05-22T18:16:10.986Z"
   },
   {
    "duration": 0,
    "start_time": "2023-05-22T18:16:10.989Z"
   },
   {
    "duration": 0,
    "start_time": "2023-05-22T18:16:10.990Z"
   },
   {
    "duration": 0,
    "start_time": "2023-05-22T18:16:10.991Z"
   },
   {
    "duration": 0,
    "start_time": "2023-05-22T18:16:10.993Z"
   },
   {
    "duration": 2493,
    "start_time": "2023-05-22T18:16:36.511Z"
   },
   {
    "duration": 2398,
    "start_time": "2023-05-22T18:16:49.695Z"
   },
   {
    "duration": 9,
    "start_time": "2023-05-22T18:18:55.751Z"
   },
   {
    "duration": 9,
    "start_time": "2023-05-22T18:19:30.158Z"
   },
   {
    "duration": 11,
    "start_time": "2023-05-22T18:20:12.910Z"
   },
   {
    "duration": 9,
    "start_time": "2023-05-22T18:20:21.983Z"
   },
   {
    "duration": 77,
    "start_time": "2023-05-22T18:20:32.174Z"
   },
   {
    "duration": 87,
    "start_time": "2023-05-22T18:20:35.022Z"
   },
   {
    "duration": 10,
    "start_time": "2023-05-22T18:20:41.677Z"
   },
   {
    "duration": 11,
    "start_time": "2023-05-22T18:21:11.639Z"
   },
   {
    "duration": 9,
    "start_time": "2023-05-22T18:21:20.782Z"
   },
   {
    "duration": 8,
    "start_time": "2023-05-22T18:23:28.845Z"
   },
   {
    "duration": 13,
    "start_time": "2023-05-22T18:23:42.013Z"
   },
   {
    "duration": 10,
    "start_time": "2023-05-22T18:25:45.151Z"
   },
   {
    "duration": 33,
    "start_time": "2023-05-22T18:29:58.816Z"
   },
   {
    "duration": 45,
    "start_time": "2023-05-22T18:30:04.874Z"
   },
   {
    "duration": 9,
    "start_time": "2023-05-22T18:30:19.373Z"
   },
   {
    "duration": 29,
    "start_time": "2023-05-22T18:30:24.428Z"
   },
   {
    "duration": 9,
    "start_time": "2023-05-22T18:30:28.442Z"
   },
   {
    "duration": 70,
    "start_time": "2023-05-22T18:30:47.915Z"
   },
   {
    "duration": 9,
    "start_time": "2023-05-22T18:30:50.837Z"
   },
   {
    "duration": 11,
    "start_time": "2023-05-22T18:30:54.031Z"
   },
   {
    "duration": 12,
    "start_time": "2023-05-22T18:31:03.340Z"
   },
   {
    "duration": 9,
    "start_time": "2023-05-22T18:31:06.987Z"
   },
   {
    "duration": 9,
    "start_time": "2023-05-22T18:31:08.197Z"
   },
   {
    "duration": 26,
    "start_time": "2023-05-22T18:31:09.340Z"
   },
   {
    "duration": 179,
    "start_time": "2023-05-22T18:31:26.445Z"
   },
   {
    "duration": 1293,
    "start_time": "2023-05-22T18:31:50.893Z"
   },
   {
    "duration": 17,
    "start_time": "2023-05-22T18:31:52.188Z"
   },
   {
    "duration": 25,
    "start_time": "2023-05-22T18:31:52.207Z"
   },
   {
    "duration": 27,
    "start_time": "2023-05-22T18:31:52.234Z"
   },
   {
    "duration": 773,
    "start_time": "2023-05-22T18:31:52.263Z"
   },
   {
    "duration": 9,
    "start_time": "2023-05-22T18:31:53.037Z"
   },
   {
    "duration": 2404,
    "start_time": "2023-05-22T18:31:53.048Z"
   },
   {
    "duration": 184,
    "start_time": "2023-05-22T18:31:55.453Z"
   },
   {
    "duration": 0,
    "start_time": "2023-05-22T18:31:55.638Z"
   },
   {
    "duration": 0,
    "start_time": "2023-05-22T18:31:55.640Z"
   },
   {
    "duration": 0,
    "start_time": "2023-05-22T18:31:55.640Z"
   },
   {
    "duration": 0,
    "start_time": "2023-05-22T18:31:55.642Z"
   },
   {
    "duration": 0,
    "start_time": "2023-05-22T18:31:55.643Z"
   },
   {
    "duration": 0,
    "start_time": "2023-05-22T18:31:55.644Z"
   },
   {
    "duration": 13,
    "start_time": "2023-05-22T18:34:11.456Z"
   },
   {
    "duration": 25,
    "start_time": "2023-05-22T18:34:14.034Z"
   },
   {
    "duration": 2245,
    "start_time": "2023-05-22T18:34:26.018Z"
   },
   {
    "duration": 638,
    "start_time": "2023-05-22T18:34:37.931Z"
   },
   {
    "duration": 628,
    "start_time": "2023-05-22T18:34:58.575Z"
   },
   {
    "duration": 46,
    "start_time": "2023-05-22T18:35:11.934Z"
   },
   {
    "duration": 2240,
    "start_time": "2023-05-22T18:35:58.893Z"
   },
   {
    "duration": 46,
    "start_time": "2023-05-22T18:36:10.737Z"
   },
   {
    "duration": 35006,
    "start_time": "2023-05-22T18:43:11.984Z"
   },
   {
    "duration": 72,
    "start_time": "2023-05-22T18:44:58.325Z"
   },
   {
    "duration": 60,
    "start_time": "2023-05-22T18:45:29.078Z"
   },
   {
    "duration": 110,
    "start_time": "2023-05-22T18:46:32.716Z"
   },
   {
    "duration": 17,
    "start_time": "2023-05-22T18:48:06.773Z"
   },
   {
    "duration": 29,
    "start_time": "2023-05-22T18:48:19.134Z"
   },
   {
    "duration": 1344,
    "start_time": "2023-05-22T18:48:49.944Z"
   },
   {
    "duration": 22,
    "start_time": "2023-05-22T18:48:51.291Z"
   },
   {
    "duration": 16,
    "start_time": "2023-05-22T18:48:51.315Z"
   },
   {
    "duration": 26,
    "start_time": "2023-05-22T18:48:51.333Z"
   },
   {
    "duration": 711,
    "start_time": "2023-05-22T18:48:51.362Z"
   },
   {
    "duration": 9,
    "start_time": "2023-05-22T18:48:52.074Z"
   },
   {
    "duration": 2355,
    "start_time": "2023-05-22T18:48:52.085Z"
   },
   {
    "duration": 46,
    "start_time": "2023-05-22T18:48:54.442Z"
   },
   {
    "duration": 200,
    "start_time": "2023-05-22T18:48:54.489Z"
   },
   {
    "duration": 0,
    "start_time": "2023-05-22T18:48:54.691Z"
   },
   {
    "duration": 0,
    "start_time": "2023-05-22T18:48:54.693Z"
   },
   {
    "duration": 0,
    "start_time": "2023-05-22T18:48:54.694Z"
   },
   {
    "duration": 0,
    "start_time": "2023-05-22T18:48:54.695Z"
   },
   {
    "duration": 0,
    "start_time": "2023-05-22T18:48:54.696Z"
   },
   {
    "duration": 35180,
    "start_time": "2023-05-22T18:49:14.678Z"
   },
   {
    "duration": 29,
    "start_time": "2023-05-22T18:51:33.684Z"
   },
   {
    "duration": 36161,
    "start_time": "2023-05-22T18:59:42.601Z"
   },
   {
    "duration": 29,
    "start_time": "2023-05-22T19:00:25.095Z"
   },
   {
    "duration": 1322,
    "start_time": "2023-05-22T19:00:47.296Z"
   },
   {
    "duration": 1470,
    "start_time": "2023-05-22T19:01:46.489Z"
   },
   {
    "duration": 25,
    "start_time": "2023-05-22T19:02:02.352Z"
   },
   {
    "duration": 25,
    "start_time": "2023-05-22T19:02:11.960Z"
   },
   {
    "duration": 1220,
    "start_time": "2023-05-22T19:02:35.260Z"
   },
   {
    "duration": 6,
    "start_time": "2023-05-22T19:02:45.317Z"
   },
   {
    "duration": 13,
    "start_time": "2023-05-22T19:02:50.617Z"
   },
   {
    "duration": 13,
    "start_time": "2023-05-22T19:02:53.456Z"
   },
   {
    "duration": 30,
    "start_time": "2023-05-22T19:02:57.872Z"
   },
   {
    "duration": 1464,
    "start_time": "2023-05-22T19:03:02.297Z"
   },
   {
    "duration": 14,
    "start_time": "2023-05-22T19:03:10.960Z"
   },
   {
    "duration": 17,
    "start_time": "2023-05-22T19:03:28.776Z"
   },
   {
    "duration": 22,
    "start_time": "2023-05-22T19:03:33.560Z"
   },
   {
    "duration": 118,
    "start_time": "2023-05-22T19:03:46.106Z"
   },
   {
    "duration": 194,
    "start_time": "2023-05-22T19:05:43.456Z"
   },
   {
    "duration": 223,
    "start_time": "2023-05-22T19:06:06.752Z"
   },
   {
    "duration": 4,
    "start_time": "2023-05-22T19:06:09.856Z"
   },
   {
    "duration": 13,
    "start_time": "2023-05-22T19:08:23.155Z"
   },
   {
    "duration": 48,
    "start_time": "2023-05-22T19:08:27.164Z"
   },
   {
    "duration": 206,
    "start_time": "2023-05-22T19:08:48.168Z"
   },
   {
    "duration": 21,
    "start_time": "2023-05-22T19:08:51.352Z"
   },
   {
    "duration": 50,
    "start_time": "2023-05-22T19:09:09.387Z"
   },
   {
    "duration": 79,
    "start_time": "2023-05-22T19:11:42.417Z"
   },
   {
    "duration": 42,
    "start_time": "2023-05-22T19:11:44.002Z"
   },
   {
    "duration": 98,
    "start_time": "2023-05-22T19:11:52.163Z"
   },
   {
    "duration": 42,
    "start_time": "2023-05-22T19:11:53.777Z"
   },
   {
    "duration": 122,
    "start_time": "2023-05-22T19:12:02.124Z"
   },
   {
    "duration": 43,
    "start_time": "2023-05-22T19:12:03.660Z"
   },
   {
    "duration": 134,
    "start_time": "2023-05-22T19:12:12.560Z"
   },
   {
    "duration": 49,
    "start_time": "2023-05-22T19:12:13.873Z"
   },
   {
    "duration": 155,
    "start_time": "2023-05-22T19:12:23.064Z"
   },
   {
    "duration": 48,
    "start_time": "2023-05-22T19:12:25.472Z"
   },
   {
    "duration": 204,
    "start_time": "2023-05-22T19:12:41.581Z"
   },
   {
    "duration": 55,
    "start_time": "2023-05-22T19:12:43.242Z"
   },
   {
    "duration": 2488,
    "start_time": "2023-05-22T19:12:51.360Z"
   },
   {
    "duration": 41,
    "start_time": "2023-05-22T19:12:54.281Z"
   },
   {
    "duration": 12,
    "start_time": "2023-05-22T19:13:13.504Z"
   },
   {
    "duration": 131,
    "start_time": "2023-05-22T19:13:36.504Z"
   },
   {
    "duration": 46,
    "start_time": "2023-05-22T19:13:38.017Z"
   },
   {
    "duration": 15,
    "start_time": "2023-05-22T19:14:18.176Z"
   },
   {
    "duration": 6,
    "start_time": "2023-05-22T19:14:23.481Z"
   },
   {
    "duration": 12,
    "start_time": "2023-05-22T19:14:25.159Z"
   },
   {
    "duration": 22,
    "start_time": "2023-05-22T19:14:26.767Z"
   },
   {
    "duration": 68,
    "start_time": "2023-05-22T19:14:31.816Z"
   },
   {
    "duration": 49,
    "start_time": "2023-05-22T19:14:40.818Z"
   }
  ],
  "kernelspec": {
   "display_name": "Python 3 (ipykernel)",
   "language": "python",
   "name": "python3"
  },
  "language_info": {
   "codemirror_mode": {
    "name": "ipython",
    "version": 3
   },
   "file_extension": ".py",
   "mimetype": "text/x-python",
   "name": "python",
   "nbconvert_exporter": "python",
   "pygments_lexer": "ipython3",
   "version": "3.9.7"
  },
  "toc": {
   "base_numbering": 1,
   "nav_menu": {},
   "number_sections": true,
   "sideBar": true,
   "skip_h1_title": true,
   "title_cell": "Table of Contents",
   "title_sidebar": "Contents",
   "toc_cell": false,
   "toc_position": {},
   "toc_section_display": true,
   "toc_window_display": false
  },
  "vscode": {
   "interpreter": {
    "hash": "95633e14b7ea774968f538ab8687a60d358136f4a990a7903a22cc539dc1dcdb"
   }
  }
 },
 "nbformat": 4,
 "nbformat_minor": 2
}
