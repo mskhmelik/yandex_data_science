{
 "cells": [
  {
   "attachments": {},
   "cell_type": "markdown",
   "metadata": {},
   "source": [
    "# Отток клиентов банка\n",
    "\n",
    "**Описание проекта**\n",
    "\n",
    "Из «Бета-Банка» стали уходить клиенты. Каждый месяц. Немного, но заметно. Банковские маркетологи посчитали: сохранять текущих клиентов дешевле, чем привлекать новых.\n",
    "\n",
    "Нужно спрогнозировать, уйдёт клиент из банка в ближайшее время или нет. Вам предоставлены исторические данные о поведении клиентов и расторжении договоров с банком. \n",
    "\n",
    "Постройте модель с предельно большим значением F1-меры. Чтобы сдать проект успешно, нужно довести метрику до 0.59. Проверьте F1-меру на тестовой выборке самостоятельно.\n",
    "\n",
    "Дополнительно измеряйте AUC-ROC, сравнивайте её значение с F1-мерой.\n",
    "\n",
    "План работы:\n",
    "\n",
    "1. Загрузите и подготовьте данные.\n",
    "2. Исследуйте баланс классов, обучите модель без учёта дисбаланса.\n",
    "3. Улучшите качество модели, учитывая дисбаланс классов. Обучите разные модели и найдите лучшую.\n",
    "4. Проведите финальное тестирование.\n",
    "\n",
    "**Описание данных**\n",
    "\n",
    "Признаки\n",
    "\n",
    "1. `RowNumber` — индекс строки в данных\n",
    "2. `CustomerId` — уникальный идентификатор клиента\n",
    "3. `Surname` — фамилия\n",
    "4. `CreditScore` — кредитный рейтинг\n",
    "5. `Geography` — страна проживания\n",
    "6. `Gender` — пол\n",
    "7. `Age` — возраст\n",
    "8. `Tenure` — сколько лет человек является клиентом банка\n",
    "9. `Balance` — баланс на счёте\n",
    "10. `NumOfProducts` — количество продуктов банка, используемых клиентом\n",
    "11. `HasCrCard` — наличие кредитной карты\n",
    "12. `IsActiveMember` — активность клиента\n",
    "13. `EstimatedSalary` — предполагаемая зарплата\n",
    "\n",
    "Целевой признак\n",
    "\n",
    "1. `Exited` — факт ухода клиента"
   ]
  },
  {
   "cell_type": "code",
   "execution_count": 169,
   "metadata": {},
   "outputs": [],
   "source": [
    "import pandas as pd\n",
    "import optuna\n",
    "import plotly.graph_objects as go\n",
    "\n",
    "from caseconverter import snakecase\n",
    "from ydata_profiling import ProfileReport\n",
    "from IPython.display import display\n",
    "from tqdm import tqdm\n",
    "\n",
    "from fast_ml import eda\n",
    "from fast_ml.model_development import train_valid_test_split\n",
    "\n",
    "from sklearn.utils import resample\n",
    "\n",
    "from sklearn.pipeline import Pipeline\n",
    "from sklearn.compose import ColumnTransformer\n",
    "from sklearn.impute import SimpleImputer\n",
    "from sklearn.preprocessing import StandardScaler, OneHotEncoder\n",
    "\n",
    "from sklearn.tree import DecisionTreeClassifier\n",
    "from sklearn.linear_model import LogisticRegression\n",
    "from sklearn.ensemble import RandomForestClassifier\n",
    "from sklearn.dummy import DummyClassifier\n",
    "\n",
    "from sklearn.metrics import (\n",
    "    accuracy_score, f1_score, roc_curve, roc_auc_score\n",
    ")"
   ]
  },
  {
   "cell_type": "code",
   "execution_count": 165,
   "metadata": {},
   "outputs": [],
   "source": [
    "FIG_WIDTH = 10 * 100\n",
    "FIG_HEIGHT = 5 * 100\n",
    "RANDOM_SEED = 42"
   ]
  },
  {
   "cell_type": "code",
   "execution_count": 4,
   "metadata": {},
   "outputs": [],
   "source": [
    "try:\n",
    "    raw_users = pd.read_csv('Churn.csv')\n",
    "except:\n",
    "    raw_users = pd.read_csv('/datasets/Churn.csv')"
   ]
  },
  {
   "attachments": {},
   "cell_type": "markdown",
   "metadata": {},
   "source": [
    "## Исследовательский анализ данных\n",
    "\n",
    "Изучим основные зависимости в данных перед тем, как мы будем использовать их в алгоритмах машинного обучения.\n",
    "\n",
    "Таблица-резюме:"
   ]
  },
  {
   "cell_type": "code",
   "execution_count": 5,
   "metadata": {},
   "outputs": [
    {
     "data": {
      "text/html": [
       "<div>\n",
       "<style scoped>\n",
       "    .dataframe tbody tr th:only-of-type {\n",
       "        vertical-align: middle;\n",
       "    }\n",
       "\n",
       "    .dataframe tbody tr th {\n",
       "        vertical-align: top;\n",
       "    }\n",
       "\n",
       "    .dataframe thead th {\n",
       "        text-align: right;\n",
       "    }\n",
       "</style>\n",
       "<table border=\"1\" class=\"dataframe\">\n",
       "  <thead>\n",
       "    <tr style=\"text-align: right;\">\n",
       "      <th></th>\n",
       "      <th>data_type</th>\n",
       "      <th>data_type_grp</th>\n",
       "      <th>num_unique_values</th>\n",
       "      <th>sample_unique_values</th>\n",
       "      <th>num_missing</th>\n",
       "      <th>perc_missing</th>\n",
       "    </tr>\n",
       "  </thead>\n",
       "  <tbody>\n",
       "    <tr>\n",
       "      <th>RowNumber</th>\n",
       "      <td>int64</td>\n",
       "      <td>Numerical</td>\n",
       "      <td>10000</td>\n",
       "      <td>[1, 2, 3, 4, 5, 6, 7, 8, 9, 10]</td>\n",
       "      <td>0</td>\n",
       "      <td>0.0</td>\n",
       "    </tr>\n",
       "    <tr>\n",
       "      <th>CustomerId</th>\n",
       "      <td>int64</td>\n",
       "      <td>Numerical</td>\n",
       "      <td>10000</td>\n",
       "      <td>[15634602, 15647311, 15619304, 15701354, 15737...</td>\n",
       "      <td>0</td>\n",
       "      <td>0.0</td>\n",
       "    </tr>\n",
       "    <tr>\n",
       "      <th>Surname</th>\n",
       "      <td>object</td>\n",
       "      <td>Categorical</td>\n",
       "      <td>2932</td>\n",
       "      <td>[Hargrave, Hill, Onio, Boni, Mitchell, Chu, Ba...</td>\n",
       "      <td>0</td>\n",
       "      <td>0.0</td>\n",
       "    </tr>\n",
       "    <tr>\n",
       "      <th>CreditScore</th>\n",
       "      <td>int64</td>\n",
       "      <td>Numerical</td>\n",
       "      <td>460</td>\n",
       "      <td>[619, 608, 502, 699, 850, 645, 822, 376, 501, ...</td>\n",
       "      <td>0</td>\n",
       "      <td>0.0</td>\n",
       "    </tr>\n",
       "    <tr>\n",
       "      <th>Geography</th>\n",
       "      <td>object</td>\n",
       "      <td>Categorical</td>\n",
       "      <td>3</td>\n",
       "      <td>[France, Spain, Germany]</td>\n",
       "      <td>0</td>\n",
       "      <td>0.0</td>\n",
       "    </tr>\n",
       "    <tr>\n",
       "      <th>Gender</th>\n",
       "      <td>object</td>\n",
       "      <td>Categorical</td>\n",
       "      <td>2</td>\n",
       "      <td>[Female, Male]</td>\n",
       "      <td>0</td>\n",
       "      <td>0.0</td>\n",
       "    </tr>\n",
       "    <tr>\n",
       "      <th>Age</th>\n",
       "      <td>int64</td>\n",
       "      <td>Numerical</td>\n",
       "      <td>70</td>\n",
       "      <td>[42, 41, 39, 43, 44, 50, 29, 27, 31, 24]</td>\n",
       "      <td>0</td>\n",
       "      <td>0.0</td>\n",
       "    </tr>\n",
       "    <tr>\n",
       "      <th>Tenure</th>\n",
       "      <td>float64</td>\n",
       "      <td>Numerical</td>\n",
       "      <td>11</td>\n",
       "      <td>[2.0, 1.0, 8.0, 7.0, 4.0, 6.0, 3.0, 10.0, 5.0,...</td>\n",
       "      <td>909</td>\n",
       "      <td>9.09</td>\n",
       "    </tr>\n",
       "    <tr>\n",
       "      <th>Balance</th>\n",
       "      <td>float64</td>\n",
       "      <td>Numerical</td>\n",
       "      <td>6382</td>\n",
       "      <td>[0.0, 83807.86, 159660.8, 125510.82, 113755.78...</td>\n",
       "      <td>0</td>\n",
       "      <td>0.0</td>\n",
       "    </tr>\n",
       "    <tr>\n",
       "      <th>NumOfProducts</th>\n",
       "      <td>int64</td>\n",
       "      <td>Numerical</td>\n",
       "      <td>4</td>\n",
       "      <td>[1, 3, 2, 4]</td>\n",
       "      <td>0</td>\n",
       "      <td>0.0</td>\n",
       "    </tr>\n",
       "    <tr>\n",
       "      <th>HasCrCard</th>\n",
       "      <td>int64</td>\n",
       "      <td>Numerical</td>\n",
       "      <td>2</td>\n",
       "      <td>[1, 0]</td>\n",
       "      <td>0</td>\n",
       "      <td>0.0</td>\n",
       "    </tr>\n",
       "    <tr>\n",
       "      <th>IsActiveMember</th>\n",
       "      <td>int64</td>\n",
       "      <td>Numerical</td>\n",
       "      <td>2</td>\n",
       "      <td>[1, 0]</td>\n",
       "      <td>0</td>\n",
       "      <td>0.0</td>\n",
       "    </tr>\n",
       "    <tr>\n",
       "      <th>EstimatedSalary</th>\n",
       "      <td>float64</td>\n",
       "      <td>Numerical</td>\n",
       "      <td>9999</td>\n",
       "      <td>[101348.88, 112542.58, 113931.57, 93826.63, 79...</td>\n",
       "      <td>0</td>\n",
       "      <td>0.0</td>\n",
       "    </tr>\n",
       "    <tr>\n",
       "      <th>Exited</th>\n",
       "      <td>int64</td>\n",
       "      <td>Numerical</td>\n",
       "      <td>2</td>\n",
       "      <td>[1, 0]</td>\n",
       "      <td>0</td>\n",
       "      <td>0.0</td>\n",
       "    </tr>\n",
       "  </tbody>\n",
       "</table>\n",
       "</div>"
      ],
      "text/plain": [
       "                data_type data_type_grp num_unique_values  \\\n",
       "RowNumber           int64     Numerical             10000   \n",
       "CustomerId          int64     Numerical             10000   \n",
       "Surname            object   Categorical              2932   \n",
       "CreditScore         int64     Numerical               460   \n",
       "Geography          object   Categorical                 3   \n",
       "Gender             object   Categorical                 2   \n",
       "Age                 int64     Numerical                70   \n",
       "Tenure            float64     Numerical                11   \n",
       "Balance           float64     Numerical              6382   \n",
       "NumOfProducts       int64     Numerical                 4   \n",
       "HasCrCard           int64     Numerical                 2   \n",
       "IsActiveMember      int64     Numerical                 2   \n",
       "EstimatedSalary   float64     Numerical              9999   \n",
       "Exited              int64     Numerical                 2   \n",
       "\n",
       "                                              sample_unique_values  \\\n",
       "RowNumber                          [1, 2, 3, 4, 5, 6, 7, 8, 9, 10]   \n",
       "CustomerId       [15634602, 15647311, 15619304, 15701354, 15737...   \n",
       "Surname          [Hargrave, Hill, Onio, Boni, Mitchell, Chu, Ba...   \n",
       "CreditScore      [619, 608, 502, 699, 850, 645, 822, 376, 501, ...   \n",
       "Geography                                 [France, Spain, Germany]   \n",
       "Gender                                              [Female, Male]   \n",
       "Age                       [42, 41, 39, 43, 44, 50, 29, 27, 31, 24]   \n",
       "Tenure           [2.0, 1.0, 8.0, 7.0, 4.0, 6.0, 3.0, 10.0, 5.0,...   \n",
       "Balance          [0.0, 83807.86, 159660.8, 125510.82, 113755.78...   \n",
       "NumOfProducts                                         [1, 3, 2, 4]   \n",
       "HasCrCard                                                   [1, 0]   \n",
       "IsActiveMember                                              [1, 0]   \n",
       "EstimatedSalary  [101348.88, 112542.58, 113931.57, 93826.63, 79...   \n",
       "Exited                                                      [1, 0]   \n",
       "\n",
       "                num_missing perc_missing  \n",
       "RowNumber                 0          0.0  \n",
       "CustomerId                0          0.0  \n",
       "Surname                   0          0.0  \n",
       "CreditScore               0          0.0  \n",
       "Geography                 0          0.0  \n",
       "Gender                    0          0.0  \n",
       "Age                       0          0.0  \n",
       "Tenure                  909         9.09  \n",
       "Balance                   0          0.0  \n",
       "NumOfProducts             0          0.0  \n",
       "HasCrCard                 0          0.0  \n",
       "IsActiveMember            0          0.0  \n",
       "EstimatedSalary           0          0.0  \n",
       "Exited                    0          0.0  "
      ]
     },
     "metadata": {},
     "output_type": "display_data"
    }
   ],
   "source": [
    "display(eda.df_info(raw_users))"
   ]
  },
  {
   "attachments": {},
   "cell_type": "markdown",
   "metadata": {},
   "source": [
    "Числовые распределения:"
   ]
  },
  {
   "cell_type": "code",
   "execution_count": 6,
   "metadata": {},
   "outputs": [
    {
     "data": {
      "text/html": [
       "<div>\n",
       "<style scoped>\n",
       "    .dataframe tbody tr th:only-of-type {\n",
       "        vertical-align: middle;\n",
       "    }\n",
       "\n",
       "    .dataframe tbody tr th {\n",
       "        vertical-align: top;\n",
       "    }\n",
       "\n",
       "    .dataframe thead th {\n",
       "        text-align: right;\n",
       "    }\n",
       "</style>\n",
       "<table border=\"1\" class=\"dataframe\">\n",
       "  <thead>\n",
       "    <tr style=\"text-align: right;\">\n",
       "      <th></th>\n",
       "      <th>count</th>\n",
       "      <th>mean</th>\n",
       "      <th>std</th>\n",
       "      <th>min</th>\n",
       "      <th>25%</th>\n",
       "      <th>50%</th>\n",
       "      <th>75%</th>\n",
       "      <th>max</th>\n",
       "    </tr>\n",
       "  </thead>\n",
       "  <tbody>\n",
       "    <tr>\n",
       "      <th>RowNumber</th>\n",
       "      <td>10000.0</td>\n",
       "      <td>5000.50</td>\n",
       "      <td>2886.90</td>\n",
       "      <td>1.00</td>\n",
       "      <td>2500.75</td>\n",
       "      <td>5000.50</td>\n",
       "      <td>7500.25</td>\n",
       "      <td>10000.00</td>\n",
       "    </tr>\n",
       "    <tr>\n",
       "      <th>CustomerId</th>\n",
       "      <td>10000.0</td>\n",
       "      <td>15690940.57</td>\n",
       "      <td>71936.19</td>\n",
       "      <td>15565701.00</td>\n",
       "      <td>15628528.25</td>\n",
       "      <td>15690738.00</td>\n",
       "      <td>15753233.75</td>\n",
       "      <td>15815690.00</td>\n",
       "    </tr>\n",
       "    <tr>\n",
       "      <th>CreditScore</th>\n",
       "      <td>10000.0</td>\n",
       "      <td>650.53</td>\n",
       "      <td>96.65</td>\n",
       "      <td>350.00</td>\n",
       "      <td>584.00</td>\n",
       "      <td>652.00</td>\n",
       "      <td>718.00</td>\n",
       "      <td>850.00</td>\n",
       "    </tr>\n",
       "    <tr>\n",
       "      <th>Age</th>\n",
       "      <td>10000.0</td>\n",
       "      <td>38.92</td>\n",
       "      <td>10.49</td>\n",
       "      <td>18.00</td>\n",
       "      <td>32.00</td>\n",
       "      <td>37.00</td>\n",
       "      <td>44.00</td>\n",
       "      <td>92.00</td>\n",
       "    </tr>\n",
       "    <tr>\n",
       "      <th>Tenure</th>\n",
       "      <td>9091.0</td>\n",
       "      <td>5.00</td>\n",
       "      <td>2.89</td>\n",
       "      <td>0.00</td>\n",
       "      <td>2.00</td>\n",
       "      <td>5.00</td>\n",
       "      <td>7.00</td>\n",
       "      <td>10.00</td>\n",
       "    </tr>\n",
       "    <tr>\n",
       "      <th>Balance</th>\n",
       "      <td>10000.0</td>\n",
       "      <td>76485.89</td>\n",
       "      <td>62397.41</td>\n",
       "      <td>0.00</td>\n",
       "      <td>0.00</td>\n",
       "      <td>97198.54</td>\n",
       "      <td>127644.24</td>\n",
       "      <td>250898.09</td>\n",
       "    </tr>\n",
       "    <tr>\n",
       "      <th>NumOfProducts</th>\n",
       "      <td>10000.0</td>\n",
       "      <td>1.53</td>\n",
       "      <td>0.58</td>\n",
       "      <td>1.00</td>\n",
       "      <td>1.00</td>\n",
       "      <td>1.00</td>\n",
       "      <td>2.00</td>\n",
       "      <td>4.00</td>\n",
       "    </tr>\n",
       "    <tr>\n",
       "      <th>HasCrCard</th>\n",
       "      <td>10000.0</td>\n",
       "      <td>0.71</td>\n",
       "      <td>0.46</td>\n",
       "      <td>0.00</td>\n",
       "      <td>0.00</td>\n",
       "      <td>1.00</td>\n",
       "      <td>1.00</td>\n",
       "      <td>1.00</td>\n",
       "    </tr>\n",
       "    <tr>\n",
       "      <th>IsActiveMember</th>\n",
       "      <td>10000.0</td>\n",
       "      <td>0.52</td>\n",
       "      <td>0.50</td>\n",
       "      <td>0.00</td>\n",
       "      <td>0.00</td>\n",
       "      <td>1.00</td>\n",
       "      <td>1.00</td>\n",
       "      <td>1.00</td>\n",
       "    </tr>\n",
       "    <tr>\n",
       "      <th>EstimatedSalary</th>\n",
       "      <td>10000.0</td>\n",
       "      <td>100090.24</td>\n",
       "      <td>57510.49</td>\n",
       "      <td>11.58</td>\n",
       "      <td>51002.11</td>\n",
       "      <td>100193.92</td>\n",
       "      <td>149388.25</td>\n",
       "      <td>199992.48</td>\n",
       "    </tr>\n",
       "    <tr>\n",
       "      <th>Exited</th>\n",
       "      <td>10000.0</td>\n",
       "      <td>0.20</td>\n",
       "      <td>0.40</td>\n",
       "      <td>0.00</td>\n",
       "      <td>0.00</td>\n",
       "      <td>0.00</td>\n",
       "      <td>0.00</td>\n",
       "      <td>1.00</td>\n",
       "    </tr>\n",
       "  </tbody>\n",
       "</table>\n",
       "</div>"
      ],
      "text/plain": [
       "                   count         mean       std          min          25%  \\\n",
       "RowNumber        10000.0      5000.50   2886.90         1.00      2500.75   \n",
       "CustomerId       10000.0  15690940.57  71936.19  15565701.00  15628528.25   \n",
       "CreditScore      10000.0       650.53     96.65       350.00       584.00   \n",
       "Age              10000.0        38.92     10.49        18.00        32.00   \n",
       "Tenure            9091.0         5.00      2.89         0.00         2.00   \n",
       "Balance          10000.0     76485.89  62397.41         0.00         0.00   \n",
       "NumOfProducts    10000.0         1.53      0.58         1.00         1.00   \n",
       "HasCrCard        10000.0         0.71      0.46         0.00         0.00   \n",
       "IsActiveMember   10000.0         0.52      0.50         0.00         0.00   \n",
       "EstimatedSalary  10000.0    100090.24  57510.49        11.58     51002.11   \n",
       "Exited           10000.0         0.20      0.40         0.00         0.00   \n",
       "\n",
       "                         50%          75%          max  \n",
       "RowNumber            5000.50      7500.25     10000.00  \n",
       "CustomerId       15690738.00  15753233.75  15815690.00  \n",
       "CreditScore           652.00       718.00       850.00  \n",
       "Age                    37.00        44.00        92.00  \n",
       "Tenure                  5.00         7.00        10.00  \n",
       "Balance             97198.54    127644.24    250898.09  \n",
       "NumOfProducts           1.00         2.00         4.00  \n",
       "HasCrCard               1.00         1.00         1.00  \n",
       "IsActiveMember          1.00         1.00         1.00  \n",
       "EstimatedSalary    100193.92    149388.25    199992.48  \n",
       "Exited                  0.00         0.00         1.00  "
      ]
     },
     "metadata": {},
     "output_type": "display_data"
    }
   ],
   "source": [
    "display(round(raw_users.describe().T, 2))"
   ]
  },
  {
   "attachments": {},
   "cell_type": "markdown",
   "metadata": {},
   "source": [
    "И детальный отчет:"
   ]
  },
  {
   "cell_type": "code",
   "execution_count": 7,
   "metadata": {},
   "outputs": [
    {
     "name": "stderr",
     "output_type": "stream",
     "text": [
      "Summarize dataset: 100%|██████████| 72/72 [00:05<00:00, 13.38it/s, Completed]                               \n",
      "Generate report structure: 100%|██████████| 1/1 [00:02<00:00,  2.86s/it]\n",
      "Render widgets:   0%|          | 0/1 [00:00<?, ?it/s]"
     ]
    },
    {
     "name": "stderr",
     "output_type": "stream",
     "text": [
      "                                                             \r"
     ]
    },
    {
     "data": {
      "application/vnd.jupyter.widget-view+json": {
       "model_id": "fc40f0194a5d44ceb796ab8bb0b882f2",
       "version_major": 2,
       "version_minor": 0
      },
      "text/plain": [
       "VBox(children=(Tab(children=(Tab(children=(GridBox(children=(VBox(children=(GridspecLayout(children=(HTML(valu…"
      ]
     },
     "metadata": {},
     "output_type": "display_data"
    }
   ],
   "source": [
    "ProfileReport(raw_users).to_widgets()"
   ]
  },
  {
   "attachments": {},
   "cell_type": "markdown",
   "metadata": {},
   "source": [
    "Ключевые наблюдения из предварительного анализа набора данных:\n",
    "\n",
    "1. **Демографические данные клиентов**: Набор данных содержит информацию о 10 000 клиентах с различными характеристиками. Средний возраст клиентов составляет 39 лет, с разбросом от 18 до 92 лет. В наборе данных представлены клиенты из трех стран: Франции, Испании и Германии. Кроме того, присутствует почти равномерное распределение мужчин и женщин.\n",
    "\n",
    "2. **Финансовые показатели**: Набор данных включает финансовые метрики, такие как кредитные баллы, балансы счетов, количество продуктов и зарплаты. Средний кредитный балл составляет 651, что указывает на относительно хорошую кредитоспособность. Средний баланс счета составляет 76К долларов, с широким диапазоном значений. Клиенты имеют в среднем 1,53 продукта в банке, а зарплаты варьируются от 11 до 200К долларов.\n",
    "\n",
    "3. **Отток и вовлеченность**: Около 20% клиентов в наборе данных покинули или прекратили использовать услуги банка. Приблизительно 52% клиентов являются активными участниками, что указывает на умеренный уровень вовлеченности. Средняя продолжительность работы с клиентом составляет 5 лет, хотя в этой колонке есть пропущенных значений для некоторых записей.\n",
    "\n",
    "4. **Целевой признак**: У нас сть дисбаланс классов в целевом признаке `exited` - около 8К записей оставшихся пользователей и только 2К записей пользователей, которые перестали быть пользователями нашего банка. Это надо будет выровнять, чтобы избежать model bias."
   ]
  },
  {
   "attachments": {},
   "cell_type": "markdown",
   "metadata": {},
   "source": [
    "# Подготовка данных для ML\n",
    "\n",
    "Выполним эти преобразования на полном датасете:\n",
    "\n",
    "1. Уберем колонки, которые не нужны для моделей: `RowNumber`, `CustomerId`, `Surname`.\n",
    "2. Переведем колонку `gender` в бинарную: `1` - для мужчин и `0` - для женщин.\n",
    "3. Названия колонок приведем `snake_case` регистру.\n",
    "4. Проведем `upsampling`.\n",
    "\n",
    "И остальные после разделения на выборки, чтобы избежать data leakage:\n",
    "\n",
    "1. Заполним пропуски в `tenure`.\n",
    "2. Проведем стандартизацию численных признаков.\n",
    "3. Проведем кодирование категориальных признаков."
   ]
  },
  {
   "cell_type": "code",
   "execution_count": 8,
   "metadata": {},
   "outputs": [
    {
     "data": {
      "text/html": [
       "<div>\n",
       "<style scoped>\n",
       "    .dataframe tbody tr th:only-of-type {\n",
       "        vertical-align: middle;\n",
       "    }\n",
       "\n",
       "    .dataframe tbody tr th {\n",
       "        vertical-align: top;\n",
       "    }\n",
       "\n",
       "    .dataframe thead th {\n",
       "        text-align: right;\n",
       "    }\n",
       "</style>\n",
       "<table border=\"1\" class=\"dataframe\">\n",
       "  <thead>\n",
       "    <tr style=\"text-align: right;\">\n",
       "      <th></th>\n",
       "      <th>credit_score</th>\n",
       "      <th>geography</th>\n",
       "      <th>gender</th>\n",
       "      <th>age</th>\n",
       "      <th>tenure</th>\n",
       "      <th>balance</th>\n",
       "      <th>num_of_products</th>\n",
       "      <th>has_cr_card</th>\n",
       "      <th>is_active_member</th>\n",
       "      <th>estimated_salary</th>\n",
       "      <th>exited</th>\n",
       "    </tr>\n",
       "  </thead>\n",
       "  <tbody>\n",
       "    <tr>\n",
       "      <th>0</th>\n",
       "      <td>619</td>\n",
       "      <td>france</td>\n",
       "      <td>0</td>\n",
       "      <td>42</td>\n",
       "      <td>2.0</td>\n",
       "      <td>0.00</td>\n",
       "      <td>1</td>\n",
       "      <td>1</td>\n",
       "      <td>1</td>\n",
       "      <td>101348.88</td>\n",
       "      <td>1</td>\n",
       "    </tr>\n",
       "    <tr>\n",
       "      <th>1</th>\n",
       "      <td>608</td>\n",
       "      <td>spain</td>\n",
       "      <td>0</td>\n",
       "      <td>41</td>\n",
       "      <td>1.0</td>\n",
       "      <td>83807.86</td>\n",
       "      <td>1</td>\n",
       "      <td>0</td>\n",
       "      <td>1</td>\n",
       "      <td>112542.58</td>\n",
       "      <td>0</td>\n",
       "    </tr>\n",
       "    <tr>\n",
       "      <th>2</th>\n",
       "      <td>502</td>\n",
       "      <td>france</td>\n",
       "      <td>0</td>\n",
       "      <td>42</td>\n",
       "      <td>8.0</td>\n",
       "      <td>159660.80</td>\n",
       "      <td>3</td>\n",
       "      <td>1</td>\n",
       "      <td>0</td>\n",
       "      <td>113931.57</td>\n",
       "      <td>1</td>\n",
       "    </tr>\n",
       "    <tr>\n",
       "      <th>3</th>\n",
       "      <td>699</td>\n",
       "      <td>france</td>\n",
       "      <td>0</td>\n",
       "      <td>39</td>\n",
       "      <td>1.0</td>\n",
       "      <td>0.00</td>\n",
       "      <td>2</td>\n",
       "      <td>0</td>\n",
       "      <td>0</td>\n",
       "      <td>93826.63</td>\n",
       "      <td>0</td>\n",
       "    </tr>\n",
       "    <tr>\n",
       "      <th>4</th>\n",
       "      <td>850</td>\n",
       "      <td>spain</td>\n",
       "      <td>0</td>\n",
       "      <td>43</td>\n",
       "      <td>2.0</td>\n",
       "      <td>125510.82</td>\n",
       "      <td>1</td>\n",
       "      <td>1</td>\n",
       "      <td>1</td>\n",
       "      <td>79084.10</td>\n",
       "      <td>0</td>\n",
       "    </tr>\n",
       "  </tbody>\n",
       "</table>\n",
       "</div>"
      ],
      "text/plain": [
       "   credit_score geography  gender  age  tenure    balance  num_of_products  \\\n",
       "0           619    france       0   42     2.0       0.00                1   \n",
       "1           608     spain       0   41     1.0   83807.86                1   \n",
       "2           502    france       0   42     8.0  159660.80                3   \n",
       "3           699    france       0   39     1.0       0.00                2   \n",
       "4           850     spain       0   43     2.0  125510.82                1   \n",
       "\n",
       "   has_cr_card  is_active_member  estimated_salary  exited  \n",
       "0            1                 1         101348.88       1  \n",
       "1            0                 1         112542.58       0  \n",
       "2            1                 0         113931.57       1  \n",
       "3            0                 0          93826.63       0  \n",
       "4            1                 1          79084.10       0  "
      ]
     },
     "metadata": {},
     "output_type": "display_data"
    }
   ],
   "source": [
    "df_no_sampling = (\n",
    "    raw_users\n",
    "    .copy()\n",
    "    .drop(['RowNumber', 'CustomerId', 'Surname'], axis=1)\n",
    "    .replace({'Male': 1, 'Female': 0})\n",
    "    .rename(columns=lambda column: snakecase(column))\n",
    "    .assign(geography=lambda df: df.geography.str.lower())\n",
    ")\n",
    "\n",
    "display(df_no_sampling.head())\n"
   ]
  },
  {
   "attachments": {},
   "cell_type": "markdown",
   "metadata": {},
   "source": [
    "Выглядит адекватно. Сделаем `upsampling`."
   ]
  },
  {
   "cell_type": "code",
   "execution_count": 9,
   "metadata": {},
   "outputs": [],
   "source": [
    "# Perform the split between majority and minority, upsample minority, and concatenate results\n",
    "df_upsampled = (\n",
    "    pd.concat([\n",
    "        df_no_sampling[df_no_sampling.exited==0],\n",
    "        resample(\n",
    "            df_no_sampling[df_no_sampling.exited==1],\n",
    "            replace=True,\n",
    "            n_samples=len(df_no_sampling[df_no_sampling.exited==0]),\n",
    "            random_state=RANDOM_SEED\n",
    "        )\n",
    "    ])\n",
    ")"
   ]
  },
  {
   "attachments": {},
   "cell_type": "markdown",
   "metadata": {},
   "source": [
    "Проверим, что получилось."
   ]
  },
  {
   "cell_type": "code",
   "execution_count": 10,
   "metadata": {},
   "outputs": [
    {
     "name": "stdout",
     "output_type": "stream",
     "text": [
      "----------------------------------------\n",
      "Exited without resampling distribution, %:\n",
      "0    79.63\n",
      "1    20.37\n",
      "Name: exited, dtype: float64\n",
      "----------------------------------------\n",
      "----------------------------------------\n",
      "Exited with upsampling distribution, %:\n",
      "0    50.0\n",
      "1    50.0\n",
      "Name: exited, dtype: float64\n",
      "----------------------------------------\n"
     ]
    }
   ],
   "source": [
    "def print_class_distribution(df, column, label):\n",
    "    print(\n",
    "        f\"{'-' * 40}\\n{label} distribution, %:\\n{df[column].value_counts(normalize=True) * 100}\\n{'-' * 40}\"\n",
    "    )\n",
    "\n",
    "print_class_distribution(df_no_sampling, 'exited', 'Exited without resampling')\n",
    "print_class_distribution(df_upsampled, 'exited', 'Exited with upsampling')"
   ]
  },
  {
   "attachments": {},
   "cell_type": "markdown",
   "metadata": {},
   "source": [
    "В `df_upsampled` классы теперь сбалансированы.\n",
    "\n",
    "Разделим датасеты на выборки и выполним остальные преобразовния."
   ]
  },
  {
   "cell_type": "code",
   "execution_count": 98,
   "metadata": {},
   "outputs": [],
   "source": [
    "# Define variables\n",
    "data_splits = {}\n",
    "split_keys = ['ftr_train', 'tgt_train', 'ftr_valid', 'tgt_valid', 'ftr_test', 'tgt_test']\n",
    "num_cols = ['credit_score', 'age', 'tenure', 'balance', 'num_of_products', 'estimated_salary']\n",
    "cat_cols = ['geography']\n",
    "bin_cols = ['has_cr_card', 'is_active_member', 'gender']\n",
    "\n",
    "# Define the preprocessing pipelines\n",
    "num_pipeline = Pipeline([\n",
    "    ('imputer', SimpleImputer(strategy='median')),\n",
    "    ('scaler', StandardScaler()),\n",
    "])\n",
    "\n",
    "cat_pipeline = Pipeline([\n",
    "    ('encoder', OneHotEncoder(handle_unknown='ignore')),\n",
    "])\n",
    "\n",
    "preprocessor = ColumnTransformer([\n",
    "    ('num', num_pipeline, num_cols),\n",
    "    ('cat', cat_pipeline, cat_cols),\n",
    "])\n",
    "\n",
    "\n",
    "for dataset, label in zip([df_no_sampling, df_upsampled], ['no_sampling', 'upsampled']):\n",
    "    splits = train_valid_test_split(\n",
    "        dataset, 'exited', train_size=0.7, valid_size=0.15, test_size=0.15, random_state=RANDOM_SEED\n",
    "    )\n",
    "    \n",
    "    # Use the split keys and the splits to create a dictionary for each dataset\n",
    "    data_splits[label] = dict(zip(split_keys, splits))\n",
    "    \n",
    "    # Fit the preprocessor on the training data only\n",
    "    preprocessor.fit(data_splits[label]['ftr_train'])\n",
    "\n",
    "    # Transform and reformat each subset of the data\n",
    "    for subset in split_keys:\n",
    "        # Only transform feature subsets\n",
    "        if 'ftr' in subset:\n",
    "            data_transformed = preprocessor.transform(data_splits[label][subset])\n",
    "            columns_transformed = num_cols + list(\n",
    "                preprocessor.named_transformers_['cat']['encoder'].get_feature_names_out(cat_cols)\n",
    "            )\n",
    "\n",
    "            df_transformed = pd.DataFrame(\n",
    "                data_transformed, columns=columns_transformed\n",
    "            )\n",
    "            df_transformed = pd.concat(\n",
    "                [df_transformed, data_splits[label][subset][bin_cols].reset_index(drop=True)], axis=1\n",
    "            )\n",
    "\n",
    "            data_splits[label][subset] = df_transformed"
   ]
  },
  {
   "attachments": {},
   "cell_type": "markdown",
   "metadata": {},
   "source": [
    "Проверим, что получилось на одном примере."
   ]
  },
  {
   "cell_type": "code",
   "execution_count": 12,
   "metadata": {},
   "outputs": [
    {
     "data": {
      "text/html": [
       "<div>\n",
       "<style scoped>\n",
       "    .dataframe tbody tr th:only-of-type {\n",
       "        vertical-align: middle;\n",
       "    }\n",
       "\n",
       "    .dataframe tbody tr th {\n",
       "        vertical-align: top;\n",
       "    }\n",
       "\n",
       "    .dataframe thead th {\n",
       "        text-align: right;\n",
       "    }\n",
       "</style>\n",
       "<table border=\"1\" class=\"dataframe\">\n",
       "  <thead>\n",
       "    <tr style=\"text-align: right;\">\n",
       "      <th></th>\n",
       "      <th>credit_score</th>\n",
       "      <th>age</th>\n",
       "      <th>tenure</th>\n",
       "      <th>balance</th>\n",
       "      <th>num_of_products</th>\n",
       "      <th>estimated_salary</th>\n",
       "      <th>geography_france</th>\n",
       "      <th>geography_germany</th>\n",
       "      <th>geography_spain</th>\n",
       "      <th>has_cr_card</th>\n",
       "      <th>is_active_member</th>\n",
       "      <th>gender</th>\n",
       "    </tr>\n",
       "  </thead>\n",
       "  <tbody>\n",
       "    <tr>\n",
       "      <th>0</th>\n",
       "      <td>-0.012043</td>\n",
       "      <td>-0.371195</td>\n",
       "      <td>1.135650</td>\n",
       "      <td>0.538578</td>\n",
       "      <td>-0.903352</td>\n",
       "      <td>0.465751</td>\n",
       "      <td>0.0</td>\n",
       "      <td>1.0</td>\n",
       "      <td>0.0</td>\n",
       "      <td>1</td>\n",
       "      <td>0</td>\n",
       "      <td>1</td>\n",
       "    </tr>\n",
       "    <tr>\n",
       "      <th>1</th>\n",
       "      <td>-0.012043</td>\n",
       "      <td>-0.466380</td>\n",
       "      <td>-0.208087</td>\n",
       "      <td>0.242578</td>\n",
       "      <td>-0.903352</td>\n",
       "      <td>0.401147</td>\n",
       "      <td>1.0</td>\n",
       "      <td>0.0</td>\n",
       "      <td>0.0</td>\n",
       "      <td>1</td>\n",
       "      <td>1</td>\n",
       "      <td>1</td>\n",
       "    </tr>\n",
       "    <tr>\n",
       "      <th>2</th>\n",
       "      <td>-1.643626</td>\n",
       "      <td>-0.085639</td>\n",
       "      <td>0.799716</td>\n",
       "      <td>1.576231</td>\n",
       "      <td>-0.903352</td>\n",
       "      <td>-1.053519</td>\n",
       "      <td>0.0</td>\n",
       "      <td>1.0</td>\n",
       "      <td>0.0</td>\n",
       "      <td>1</td>\n",
       "      <td>0</td>\n",
       "      <td>0</td>\n",
       "    </tr>\n",
       "    <tr>\n",
       "      <th>3</th>\n",
       "      <td>0.829729</td>\n",
       "      <td>1.437322</td>\n",
       "      <td>-1.551825</td>\n",
       "      <td>0.925391</td>\n",
       "      <td>-0.903352</td>\n",
       "      <td>-1.516265</td>\n",
       "      <td>0.0</td>\n",
       "      <td>0.0</td>\n",
       "      <td>1.0</td>\n",
       "      <td>0</td>\n",
       "      <td>1</td>\n",
       "      <td>1</td>\n",
       "    </tr>\n",
       "    <tr>\n",
       "      <th>4</th>\n",
       "      <td>0.091879</td>\n",
       "      <td>-0.371195</td>\n",
       "      <td>0.127847</td>\n",
       "      <td>0.832067</td>\n",
       "      <td>-0.903352</td>\n",
       "      <td>0.725006</td>\n",
       "      <td>0.0</td>\n",
       "      <td>0.0</td>\n",
       "      <td>1.0</td>\n",
       "      <td>1</td>\n",
       "      <td>0</td>\n",
       "      <td>0</td>\n",
       "    </tr>\n",
       "  </tbody>\n",
       "</table>\n",
       "</div>"
      ],
      "text/plain": [
       "   credit_score       age    tenure   balance  num_of_products  \\\n",
       "0     -0.012043 -0.371195  1.135650  0.538578        -0.903352   \n",
       "1     -0.012043 -0.466380 -0.208087  0.242578        -0.903352   \n",
       "2     -1.643626 -0.085639  0.799716  1.576231        -0.903352   \n",
       "3      0.829729  1.437322 -1.551825  0.925391        -0.903352   \n",
       "4      0.091879 -0.371195  0.127847  0.832067        -0.903352   \n",
       "\n",
       "   estimated_salary  geography_france  geography_germany  geography_spain  \\\n",
       "0          0.465751               0.0                1.0              0.0   \n",
       "1          0.401147               1.0                0.0              0.0   \n",
       "2         -1.053519               0.0                1.0              0.0   \n",
       "3         -1.516265               0.0                0.0              1.0   \n",
       "4          0.725006               0.0                0.0              1.0   \n",
       "\n",
       "   has_cr_card  is_active_member  gender  \n",
       "0            1                 0       1  \n",
       "1            1                 1       1  \n",
       "2            1                 0       0  \n",
       "3            0                 1       1  \n",
       "4            1                 0       0  "
      ]
     },
     "execution_count": 12,
     "metadata": {},
     "output_type": "execute_result"
    }
   ],
   "source": [
    "data_splits['no_sampling']['ftr_valid'].head()"
   ]
  },
  {
   "attachments": {},
   "cell_type": "markdown",
   "metadata": {},
   "source": [
    "В этом скрипте мы успешно обработали два набора данных, `df_no_sampling` и `df_upsampled`. На первом этапе были определены переменные и настроен предпроцессор предварительной обработки для числовых и категориальных столбцов, бинарные столбцы остались без изменений.\n",
    "\n",
    "Основной цикл скрипта выполняет три основные задачи для каждого набора данных:\n",
    "\n",
    "1. Разделение данных: Используется функция `train_valid_test_split`, чтобы разделить каждый набор данных на обучающие, валидационные и тестовые подмножества.\n",
    "\n",
    "2. Подгонка препроцессора: Препроцессор обучается на обучающих данных. Это включает в себя изучение параметров для `imputation` наиболее часто встречающихся значений и стандартного масштабирования.\n",
    "\n",
    "3. Трансформация данных: Используя подготовленный препроцессор, трансформируются признаки для каждого набора и типа колонок.\n",
    "\n",
    "После выполнения этого скрипта у нас есть все подмножества данных, готовые для дальнейшего обучения модели и оценки."
   ]
  },
  {
   "attachments": {},
   "cell_type": "markdown",
   "metadata": {},
   "source": [
    "# ML модели\n",
    "\n",
    "Перейдем к обучению моделей. Воспользуемся библиотекой `optuna` чтобы найти оптимальную модель.\n",
    "\n",
    "Для начала - сделаем функцию, которая будет выбирать для нас лучшую модель."
   ]
  },
  {
   "cell_type": "code",
   "execution_count": 114,
   "metadata": {},
   "outputs": [],
   "source": [
    "def get_optimal_model(dataset: str, n_trials: int):\n",
    "    \"\"\"\n",
    "    Trains and optimizes Logistic Regression, Decision Tree, and Random Forest models using Optuna.\n",
    "\n",
    "    Args:\n",
    "        - dataset (str): The label of the dataset to use from the `data_splits` dictionary ('no_sampling' or 'upsampled').\n",
    "        - n_trials (int): The number of trials for Optuna optimization.\n",
    "\n",
    "    Returns:\n",
    "        - An Optuna study object, containing the optimal model and its parameters.\n",
    "    \"\"\"\n",
    "    \n",
    "    def objective(trial):\n",
    "        classifier_name = trial.suggest_categorical(\n",
    "            'classifier', ['LogisticRegression', 'DecisionTree', 'RandomForest']\n",
    "        )\n",
    "        \n",
    "        # Suggest parameters based on the classifier\n",
    "        if classifier_name == 'LogisticRegression':\n",
    "            lr_c = trial.suggest_float('lr_c', 1e-6, 1e6, log=True)\n",
    "            classifier_obj = LogisticRegression(\n",
    "                C=lr_c, random_state=RANDOM_SEED\n",
    "            )\n",
    "        elif classifier_name == 'DecisionTree':\n",
    "            dt_max_depth = trial.suggest_int('dt_max_depth', 1, 50)\n",
    "            classifier_obj = DecisionTreeClassifier(\n",
    "                max_depth=dt_max_depth, random_state=RANDOM_SEED\n",
    "            )\n",
    "        elif classifier_name == 'RandomForest':\n",
    "            rf_max_depth = trial.suggest_int('rf_max_depth', 1, 100)\n",
    "            rf_n_estimators = trial.suggest_int('rf_n_estimators', 100, 1000)\n",
    "            classifier_obj = RandomForestClassifier(\n",
    "                max_depth=rf_max_depth, n_estimators=rf_n_estimators, random_state=RANDOM_SEED\n",
    "            )\n",
    "            \n",
    "        classifier_obj.fit(data_splits[dataset]['ftr_train'], data_splits[dataset]['tgt_train'])\n",
    "        \n",
    "        prediction = classifier_obj.predict(data_splits[dataset]['ftr_valid'])\n",
    "        \n",
    "        f1 = f1_score(data_splits[dataset]['tgt_valid'], prediction)\n",
    "        \n",
    "        return round(f1, 3)\n",
    "\n",
    "    optuna.logging.set_verbosity(optuna.logging.WARNING)\n",
    "    study = optuna.create_study(direction='maximize', sampler=optuna.samplers.TPESampler(seed=RANDOM_SEED))\n",
    "    study.optimize(objective, n_trials=n_trials)\n",
    "    \n",
    "    return study"
   ]
  },
  {
   "attachments": {},
   "cell_type": "markdown",
   "metadata": {},
   "source": [
    "Теперь функцию, которая посчитает метрики для модели."
   ]
  },
  {
   "cell_type": "code",
   "execution_count": 144,
   "metadata": {},
   "outputs": [],
   "source": [
    "def evaluate_best_model(dataset: str, study: optuna.study.Study) -> dict[str, float]:\n",
    "    \"\"\"\n",
    "    Given a dataset label (key in the data_splits dictionary) and an Optuna study object,\n",
    "    this function retrieves the best model parameters from the study, instantiates a new\n",
    "    model with these parameters, makes predictions on the validation and test subsets,\n",
    "    and calculates and returns the F1 score and ROC AUC score for each subset.\n",
    "\n",
    "    Args:\n",
    "        - dataset (str): Label of the dataset to use (should be a key in the data_splits dictionary).\n",
    "        - study (optuna.study.Study): Optuna study object containing the results of model optimization.\n",
    "\n",
    "    Returns:\n",
    "        - dict: A dictionary with the F1 score and ROC AUC score for the validation and test subsets.\n",
    "    \"\"\"\n",
    "    \n",
    "    best_params = study.best_params\n",
    "\n",
    "    if best_params['classifier'] == 'LogisticRegression':\n",
    "        best_model = LogisticRegression(C=best_params['lr_c'], random_state=RANDOM_SEED)\n",
    "    elif best_params['classifier'] == 'DecisionTree':\n",
    "        best_model = DecisionTreeClassifier(max_depth=best_params['dt_max_depth'], random_state=RANDOM_SEED)\n",
    "    elif best_params['classifier'] == 'RandomForest':\n",
    "        best_model = RandomForestClassifier(max_depth=best_params['rf_max_depth'], n_estimators=best_params['rf_n_estimators'], random_state=RANDOM_SEED)\n",
    "\n",
    "    best_model.fit(data_splits[dataset]['ftr_train'], data_splits[dataset]['tgt_train'])\n",
    "\n",
    "    pred_valid = best_model.predict(data_splits[dataset]['ftr_valid'])\n",
    "    pred_test = best_model.predict(data_splits[dataset]['ftr_test'])\n",
    "\n",
    "    f1_valid = f1_score(data_splits[dataset]['tgt_valid'], pred_valid)\n",
    "    roc_auc_valid = roc_auc_score(data_splits[dataset]['tgt_valid'], pred_valid)\n",
    "\n",
    "    f1_test = f1_score(data_splits[dataset]['tgt_test'], pred_test)\n",
    "    roc_auc_test = roc_auc_score(data_splits[dataset]['tgt_test'], pred_test)\n",
    "\n",
    "    return {\n",
    "        'valid_f1': f1_valid,\n",
    "        'valid_roc_auc': roc_auc_valid,\n",
    "        'test_f1': f1_test,\n",
    "        'test_roc_auc': roc_auc_test\n",
    "    }, best_model\n"
   ]
  },
  {
   "attachments": {},
   "cell_type": "markdown",
   "metadata": {},
   "source": [
    "А теперь функцию, которая нарисует график `ROC AUC`."
   ]
  },
  {
   "cell_type": "code",
   "execution_count": 174,
   "metadata": {},
   "outputs": [],
   "source": [
    "def plot_roc_auc(dataset: str, best_model: any, title: str) -> go.Figure:\n",
    "    \"\"\"\n",
    "    Plots ROC curves for the validation and test sets using Plotly.\n",
    "\n",
    "    Args:\n",
    "        - dataset (str): Label of the dataset to use (should be a key in the data_splits dictionary).\n",
    "        - best_model (Any): Trained model object.\n",
    "        - title (str): Title of the plot.\n",
    "\n",
    "    Returns:\n",
    "        - fig (go.Figure): Plotly figure with ROC curves.\n",
    "    \"\"\"\n",
    "\n",
    "    probas_valid = best_model.predict_proba(data_splits[dataset]['ftr_valid'])\n",
    "    fpr_valid, tpr_valid, _ = roc_curve(data_splits[dataset]['tgt_valid'], probas_valid[:, 1])\n",
    "    roc_auc_valid = auc(fpr_valid, tpr_valid)\n",
    "    \n",
    "    probas_test = best_model.predict_proba(data_splits[dataset]['ftr_test'])\n",
    "    fpr_test, tpr_test, _ = roc_curve(data_splits[dataset]['tgt_test'], probas_test[:, 1])\n",
    "    roc_auc_test = auc(fpr_test, tpr_test)\n",
    "    \n",
    "    fig = go.Figure()\n",
    "\n",
    "    fig.add_trace(\n",
    "        go.Scatter(\n",
    "            x=fpr_valid, y=tpr_valid,\n",
    "            mode='lines',\n",
    "            name=f'Validation set ROC (AUC = {roc_auc_valid:.2f})'\n",
    "        )\n",
    "    )\n",
    "    fig.add_trace(\n",
    "        go.Scatter(\n",
    "            x=fpr_test, y=tpr_test,\n",
    "            mode='lines',\n",
    "            name=f'Test set ROC (AUC = {roc_auc_test:.2f})'\n",
    "        )\n",
    "    )\n",
    "    fig.add_trace(\n",
    "        go.Scatter(\n",
    "            x=[0, 1], y=[0, 1],\n",
    "            mode='lines',\n",
    "            name='No Skill',\n",
    "            line=dict(dash='dash', color='black')\n",
    "        )\n",
    "    )\n",
    "\n",
    "    fig.update_layout(\n",
    "        xaxis_title='False Positive Rate',\n",
    "        yaxis_title='True Positive Rate',\n",
    "        # yaxis=dict(scaleanchor=\"x\", scaleratio=1),\n",
    "        # xaxis=dict(constrain='domain'),\n",
    "        width=FIG_WIDTH, height=FIG_HEIGHT * 1.5,\n",
    "        title=title,\n",
    "        template='plotly_white'\n",
    "    )\n",
    "\n",
    "    return fig\n"
   ]
  },
  {
   "attachments": {},
   "cell_type": "markdown",
   "metadata": {},
   "source": [
    "## Датасет без sampling\n",
    "\n",
    "Возьмем датасет как есть и посмотрим на качество моделей."
   ]
  },
  {
   "cell_type": "code",
   "execution_count": 175,
   "metadata": {},
   "outputs": [],
   "source": [
    "study_no_sampling = get_optimal_model('no_sampling', n_trials=10)"
   ]
  },
  {
   "attachments": {},
   "cell_type": "markdown",
   "metadata": {},
   "source": [
    "Визуализируем результаты."
   ]
  },
  {
   "cell_type": "code",
   "execution_count": 176,
   "metadata": {},
   "outputs": [
    {
     "data": {
      "application/vnd.plotly.v1+json": {
       "config": {
        "plotlyServerURL": "https://plot.ly"
       },
       "data": [
        {
         "mode": "markers",
         "name": "Objective Value",
         "type": "scatter",
         "x": [
          0,
          1,
          2,
          3,
          4,
          5,
          6,
          7,
          8,
          9
         ],
         "y": [
          0.465,
          0.358,
          0.465,
          0,
          0.481,
          0.335,
          0.465,
          0.562,
          0.491,
          0.55
         ]
        },
        {
         "name": "Best Value",
         "type": "scatter",
         "x": [
          0,
          1,
          2,
          3,
          4,
          5,
          6,
          7,
          8,
          9
         ],
         "y": [
          0.465,
          0.465,
          0.465,
          0.465,
          0.481,
          0.481,
          0.481,
          0.562,
          0.562,
          0.562
         ]
        }
       ],
       "layout": {
        "height": 500,
        "template": {
         "data": {
          "bar": [
           {
            "error_x": {
             "color": "#2a3f5f"
            },
            "error_y": {
             "color": "#2a3f5f"
            },
            "marker": {
             "line": {
              "color": "white",
              "width": 0.5
             },
             "pattern": {
              "fillmode": "overlay",
              "size": 10,
              "solidity": 0.2
             }
            },
            "type": "bar"
           }
          ],
          "barpolar": [
           {
            "marker": {
             "line": {
              "color": "white",
              "width": 0.5
             },
             "pattern": {
              "fillmode": "overlay",
              "size": 10,
              "solidity": 0.2
             }
            },
            "type": "barpolar"
           }
          ],
          "carpet": [
           {
            "aaxis": {
             "endlinecolor": "#2a3f5f",
             "gridcolor": "#C8D4E3",
             "linecolor": "#C8D4E3",
             "minorgridcolor": "#C8D4E3",
             "startlinecolor": "#2a3f5f"
            },
            "baxis": {
             "endlinecolor": "#2a3f5f",
             "gridcolor": "#C8D4E3",
             "linecolor": "#C8D4E3",
             "minorgridcolor": "#C8D4E3",
             "startlinecolor": "#2a3f5f"
            },
            "type": "carpet"
           }
          ],
          "choropleth": [
           {
            "colorbar": {
             "outlinewidth": 0,
             "ticks": ""
            },
            "type": "choropleth"
           }
          ],
          "contour": [
           {
            "colorbar": {
             "outlinewidth": 0,
             "ticks": ""
            },
            "colorscale": [
             [
              0,
              "#0d0887"
             ],
             [
              0.1111111111111111,
              "#46039f"
             ],
             [
              0.2222222222222222,
              "#7201a8"
             ],
             [
              0.3333333333333333,
              "#9c179e"
             ],
             [
              0.4444444444444444,
              "#bd3786"
             ],
             [
              0.5555555555555556,
              "#d8576b"
             ],
             [
              0.6666666666666666,
              "#ed7953"
             ],
             [
              0.7777777777777778,
              "#fb9f3a"
             ],
             [
              0.8888888888888888,
              "#fdca26"
             ],
             [
              1,
              "#f0f921"
             ]
            ],
            "type": "contour"
           }
          ],
          "contourcarpet": [
           {
            "colorbar": {
             "outlinewidth": 0,
             "ticks": ""
            },
            "type": "contourcarpet"
           }
          ],
          "heatmap": [
           {
            "colorbar": {
             "outlinewidth": 0,
             "ticks": ""
            },
            "colorscale": [
             [
              0,
              "#0d0887"
             ],
             [
              0.1111111111111111,
              "#46039f"
             ],
             [
              0.2222222222222222,
              "#7201a8"
             ],
             [
              0.3333333333333333,
              "#9c179e"
             ],
             [
              0.4444444444444444,
              "#bd3786"
             ],
             [
              0.5555555555555556,
              "#d8576b"
             ],
             [
              0.6666666666666666,
              "#ed7953"
             ],
             [
              0.7777777777777778,
              "#fb9f3a"
             ],
             [
              0.8888888888888888,
              "#fdca26"
             ],
             [
              1,
              "#f0f921"
             ]
            ],
            "type": "heatmap"
           }
          ],
          "heatmapgl": [
           {
            "colorbar": {
             "outlinewidth": 0,
             "ticks": ""
            },
            "colorscale": [
             [
              0,
              "#0d0887"
             ],
             [
              0.1111111111111111,
              "#46039f"
             ],
             [
              0.2222222222222222,
              "#7201a8"
             ],
             [
              0.3333333333333333,
              "#9c179e"
             ],
             [
              0.4444444444444444,
              "#bd3786"
             ],
             [
              0.5555555555555556,
              "#d8576b"
             ],
             [
              0.6666666666666666,
              "#ed7953"
             ],
             [
              0.7777777777777778,
              "#fb9f3a"
             ],
             [
              0.8888888888888888,
              "#fdca26"
             ],
             [
              1,
              "#f0f921"
             ]
            ],
            "type": "heatmapgl"
           }
          ],
          "histogram": [
           {
            "marker": {
             "pattern": {
              "fillmode": "overlay",
              "size": 10,
              "solidity": 0.2
             }
            },
            "type": "histogram"
           }
          ],
          "histogram2d": [
           {
            "colorbar": {
             "outlinewidth": 0,
             "ticks": ""
            },
            "colorscale": [
             [
              0,
              "#0d0887"
             ],
             [
              0.1111111111111111,
              "#46039f"
             ],
             [
              0.2222222222222222,
              "#7201a8"
             ],
             [
              0.3333333333333333,
              "#9c179e"
             ],
             [
              0.4444444444444444,
              "#bd3786"
             ],
             [
              0.5555555555555556,
              "#d8576b"
             ],
             [
              0.6666666666666666,
              "#ed7953"
             ],
             [
              0.7777777777777778,
              "#fb9f3a"
             ],
             [
              0.8888888888888888,
              "#fdca26"
             ],
             [
              1,
              "#f0f921"
             ]
            ],
            "type": "histogram2d"
           }
          ],
          "histogram2dcontour": [
           {
            "colorbar": {
             "outlinewidth": 0,
             "ticks": ""
            },
            "colorscale": [
             [
              0,
              "#0d0887"
             ],
             [
              0.1111111111111111,
              "#46039f"
             ],
             [
              0.2222222222222222,
              "#7201a8"
             ],
             [
              0.3333333333333333,
              "#9c179e"
             ],
             [
              0.4444444444444444,
              "#bd3786"
             ],
             [
              0.5555555555555556,
              "#d8576b"
             ],
             [
              0.6666666666666666,
              "#ed7953"
             ],
             [
              0.7777777777777778,
              "#fb9f3a"
             ],
             [
              0.8888888888888888,
              "#fdca26"
             ],
             [
              1,
              "#f0f921"
             ]
            ],
            "type": "histogram2dcontour"
           }
          ],
          "mesh3d": [
           {
            "colorbar": {
             "outlinewidth": 0,
             "ticks": ""
            },
            "type": "mesh3d"
           }
          ],
          "parcoords": [
           {
            "line": {
             "colorbar": {
              "outlinewidth": 0,
              "ticks": ""
             }
            },
            "type": "parcoords"
           }
          ],
          "pie": [
           {
            "automargin": true,
            "type": "pie"
           }
          ],
          "scatter": [
           {
            "fillpattern": {
             "fillmode": "overlay",
             "size": 10,
             "solidity": 0.2
            },
            "type": "scatter"
           }
          ],
          "scatter3d": [
           {
            "line": {
             "colorbar": {
              "outlinewidth": 0,
              "ticks": ""
             }
            },
            "marker": {
             "colorbar": {
              "outlinewidth": 0,
              "ticks": ""
             }
            },
            "type": "scatter3d"
           }
          ],
          "scattercarpet": [
           {
            "marker": {
             "colorbar": {
              "outlinewidth": 0,
              "ticks": ""
             }
            },
            "type": "scattercarpet"
           }
          ],
          "scattergeo": [
           {
            "marker": {
             "colorbar": {
              "outlinewidth": 0,
              "ticks": ""
             }
            },
            "type": "scattergeo"
           }
          ],
          "scattergl": [
           {
            "marker": {
             "colorbar": {
              "outlinewidth": 0,
              "ticks": ""
             }
            },
            "type": "scattergl"
           }
          ],
          "scattermapbox": [
           {
            "marker": {
             "colorbar": {
              "outlinewidth": 0,
              "ticks": ""
             }
            },
            "type": "scattermapbox"
           }
          ],
          "scatterpolar": [
           {
            "marker": {
             "colorbar": {
              "outlinewidth": 0,
              "ticks": ""
             }
            },
            "type": "scatterpolar"
           }
          ],
          "scatterpolargl": [
           {
            "marker": {
             "colorbar": {
              "outlinewidth": 0,
              "ticks": ""
             }
            },
            "type": "scatterpolargl"
           }
          ],
          "scatterternary": [
           {
            "marker": {
             "colorbar": {
              "outlinewidth": 0,
              "ticks": ""
             }
            },
            "type": "scatterternary"
           }
          ],
          "surface": [
           {
            "colorbar": {
             "outlinewidth": 0,
             "ticks": ""
            },
            "colorscale": [
             [
              0,
              "#0d0887"
             ],
             [
              0.1111111111111111,
              "#46039f"
             ],
             [
              0.2222222222222222,
              "#7201a8"
             ],
             [
              0.3333333333333333,
              "#9c179e"
             ],
             [
              0.4444444444444444,
              "#bd3786"
             ],
             [
              0.5555555555555556,
              "#d8576b"
             ],
             [
              0.6666666666666666,
              "#ed7953"
             ],
             [
              0.7777777777777778,
              "#fb9f3a"
             ],
             [
              0.8888888888888888,
              "#fdca26"
             ],
             [
              1,
              "#f0f921"
             ]
            ],
            "type": "surface"
           }
          ],
          "table": [
           {
            "cells": {
             "fill": {
              "color": "#EBF0F8"
             },
             "line": {
              "color": "white"
             }
            },
            "header": {
             "fill": {
              "color": "#C8D4E3"
             },
             "line": {
              "color": "white"
             }
            },
            "type": "table"
           }
          ]
         },
         "layout": {
          "annotationdefaults": {
           "arrowcolor": "#2a3f5f",
           "arrowhead": 0,
           "arrowwidth": 1
          },
          "autotypenumbers": "strict",
          "coloraxis": {
           "colorbar": {
            "outlinewidth": 0,
            "ticks": ""
           }
          },
          "colorscale": {
           "diverging": [
            [
             0,
             "#8e0152"
            ],
            [
             0.1,
             "#c51b7d"
            ],
            [
             0.2,
             "#de77ae"
            ],
            [
             0.3,
             "#f1b6da"
            ],
            [
             0.4,
             "#fde0ef"
            ],
            [
             0.5,
             "#f7f7f7"
            ],
            [
             0.6,
             "#e6f5d0"
            ],
            [
             0.7,
             "#b8e186"
            ],
            [
             0.8,
             "#7fbc41"
            ],
            [
             0.9,
             "#4d9221"
            ],
            [
             1,
             "#276419"
            ]
           ],
           "sequential": [
            [
             0,
             "#0d0887"
            ],
            [
             0.1111111111111111,
             "#46039f"
            ],
            [
             0.2222222222222222,
             "#7201a8"
            ],
            [
             0.3333333333333333,
             "#9c179e"
            ],
            [
             0.4444444444444444,
             "#bd3786"
            ],
            [
             0.5555555555555556,
             "#d8576b"
            ],
            [
             0.6666666666666666,
             "#ed7953"
            ],
            [
             0.7777777777777778,
             "#fb9f3a"
            ],
            [
             0.8888888888888888,
             "#fdca26"
            ],
            [
             1,
             "#f0f921"
            ]
           ],
           "sequentialminus": [
            [
             0,
             "#0d0887"
            ],
            [
             0.1111111111111111,
             "#46039f"
            ],
            [
             0.2222222222222222,
             "#7201a8"
            ],
            [
             0.3333333333333333,
             "#9c179e"
            ],
            [
             0.4444444444444444,
             "#bd3786"
            ],
            [
             0.5555555555555556,
             "#d8576b"
            ],
            [
             0.6666666666666666,
             "#ed7953"
            ],
            [
             0.7777777777777778,
             "#fb9f3a"
            ],
            [
             0.8888888888888888,
             "#fdca26"
            ],
            [
             1,
             "#f0f921"
            ]
           ]
          },
          "colorway": [
           "#636efa",
           "#EF553B",
           "#00cc96",
           "#ab63fa",
           "#FFA15A",
           "#19d3f3",
           "#FF6692",
           "#B6E880",
           "#FF97FF",
           "#FECB52"
          ],
          "font": {
           "color": "#2a3f5f"
          },
          "geo": {
           "bgcolor": "white",
           "lakecolor": "white",
           "landcolor": "white",
           "showlakes": true,
           "showland": true,
           "subunitcolor": "#C8D4E3"
          },
          "hoverlabel": {
           "align": "left"
          },
          "hovermode": "closest",
          "mapbox": {
           "style": "light"
          },
          "paper_bgcolor": "white",
          "plot_bgcolor": "white",
          "polar": {
           "angularaxis": {
            "gridcolor": "#EBF0F8",
            "linecolor": "#EBF0F8",
            "ticks": ""
           },
           "bgcolor": "white",
           "radialaxis": {
            "gridcolor": "#EBF0F8",
            "linecolor": "#EBF0F8",
            "ticks": ""
           }
          },
          "scene": {
           "xaxis": {
            "backgroundcolor": "white",
            "gridcolor": "#DFE8F3",
            "gridwidth": 2,
            "linecolor": "#EBF0F8",
            "showbackground": true,
            "ticks": "",
            "zerolinecolor": "#EBF0F8"
           },
           "yaxis": {
            "backgroundcolor": "white",
            "gridcolor": "#DFE8F3",
            "gridwidth": 2,
            "linecolor": "#EBF0F8",
            "showbackground": true,
            "ticks": "",
            "zerolinecolor": "#EBF0F8"
           },
           "zaxis": {
            "backgroundcolor": "white",
            "gridcolor": "#DFE8F3",
            "gridwidth": 2,
            "linecolor": "#EBF0F8",
            "showbackground": true,
            "ticks": "",
            "zerolinecolor": "#EBF0F8"
           }
          },
          "shapedefaults": {
           "line": {
            "color": "#2a3f5f"
           }
          },
          "ternary": {
           "aaxis": {
            "gridcolor": "#DFE8F3",
            "linecolor": "#A2B1C6",
            "ticks": ""
           },
           "baxis": {
            "gridcolor": "#DFE8F3",
            "linecolor": "#A2B1C6",
            "ticks": ""
           },
           "bgcolor": "white",
           "caxis": {
            "gridcolor": "#DFE8F3",
            "linecolor": "#A2B1C6",
            "ticks": ""
           }
          },
          "title": {
           "x": 0.05
          },
          "xaxis": {
           "automargin": true,
           "gridcolor": "#EBF0F8",
           "linecolor": "#EBF0F8",
           "ticks": "",
           "title": {
            "standoff": 15
           },
           "zerolinecolor": "#EBF0F8",
           "zerolinewidth": 2
          },
          "yaxis": {
           "automargin": true,
           "gridcolor": "#EBF0F8",
           "linecolor": "#EBF0F8",
           "ticks": "",
           "title": {
            "standoff": 15
           },
           "zerolinecolor": "#EBF0F8",
           "zerolinewidth": 2
          }
         }
        },
        "title": {
         "text": "Optimization History Plot"
        },
        "width": 1000,
        "xaxis": {
         "title": {
          "text": "Trial"
         }
        },
        "yaxis": {
         "title": {
          "text": "Objective Value"
         }
        }
       }
      }
     },
     "metadata": {},
     "output_type": "display_data"
    },
    {
     "data": {
      "application/vnd.plotly.v1+json": {
       "config": {
        "plotlyServerURL": "https://plot.ly"
       },
       "data": [
        {
         "marker": {
          "color": [
           0,
           1,
           2,
           3,
           4,
           5,
           6,
           7,
           8,
           9
          ],
          "colorbar": {
           "title": {
            "text": "Trial"
           },
           "x": 1,
           "xpad": 40
          },
          "colorscale": [
           [
            0,
            "rgb(247,251,255)"
           ],
           [
            0.125,
            "rgb(222,235,247)"
           ],
           [
            0.25,
            "rgb(198,219,239)"
           ],
           [
            0.375,
            "rgb(158,202,225)"
           ],
           [
            0.5,
            "rgb(107,174,214)"
           ],
           [
            0.625,
            "rgb(66,146,198)"
           ],
           [
            0.75,
            "rgb(33,113,181)"
           ],
           [
            0.875,
            "rgb(8,81,156)"
           ],
           [
            1,
            "rgb(8,48,107)"
           ]
          ],
          "line": {
           "color": "Grey",
           "width": 0.5
          },
          "showscale": true
         },
         "mode": "markers",
         "showlegend": false,
         "type": "scatter",
         "x": [
          "DecisionTree",
          "LogisticRegression",
          "DecisionTree",
          "LogisticRegression",
          "DecisionTree",
          "LogisticRegression",
          "DecisionTree",
          "RandomForest",
          "DecisionTree",
          "DecisionTree"
         ],
         "xaxis": "x",
         "y": [
          0.465,
          0.358,
          0.465,
          0,
          0.481,
          0.335,
          0.465,
          0.562,
          0.491,
          0.55
         ],
         "yaxis": "y"
        },
        {
         "marker": {
          "color": [
           0,
           2,
           4,
           6,
           8,
           9
          ],
          "colorbar": {
           "title": {
            "text": "Trial"
           },
           "x": 1,
           "xpad": 40
          },
          "colorscale": [
           [
            0,
            "rgb(247,251,255)"
           ],
           [
            0.125,
            "rgb(222,235,247)"
           ],
           [
            0.25,
            "rgb(198,219,239)"
           ],
           [
            0.375,
            "rgb(158,202,225)"
           ],
           [
            0.5,
            "rgb(107,174,214)"
           ],
           [
            0.625,
            "rgb(66,146,198)"
           ],
           [
            0.75,
            "rgb(33,113,181)"
           ],
           [
            0.875,
            "rgb(8,81,156)"
           ],
           [
            1,
            "rgb(8,48,107)"
           ]
          ],
          "line": {
           "color": "Grey",
           "width": 0.5
          },
          "showscale": false
         },
         "mode": "markers",
         "showlegend": false,
         "type": "scatter",
         "x": [
          30,
          49,
          15,
          26,
          16,
          7
         ],
         "xaxis": "x2",
         "y": [
          0.465,
          0.465,
          0.481,
          0.465,
          0.491,
          0.55
         ],
         "yaxis": "y2"
        },
        {
         "marker": {
          "color": [
           1,
           3,
           5
          ],
          "colorbar": {
           "title": {
            "text": "Trial"
           },
           "x": 1,
           "xpad": 40
          },
          "colorscale": [
           [
            0,
            "rgb(247,251,255)"
           ],
           [
            0.125,
            "rgb(222,235,247)"
           ],
           [
            0.25,
            "rgb(198,219,239)"
           ],
           [
            0.375,
            "rgb(158,202,225)"
           ],
           [
            0.5,
            "rgb(107,174,214)"
           ],
           [
            0.625,
            "rgb(66,146,198)"
           ],
           [
            0.75,
            "rgb(33,113,181)"
           ],
           [
            0.875,
            "rgb(8,81,156)"
           ],
           [
            1,
            "rgb(8,48,107)"
           ]
          ],
          "line": {
           "color": "Grey",
           "width": 0.5
          },
          "showscale": false
         },
         "mode": "markers",
         "showlegend": false,
         "type": "scatter",
         "x": [
          24780.71022662143,
          0.00015880132371526778,
          0.02490818711274116
         ],
         "xaxis": "x3",
         "y": [
          0.358,
          0,
          0.335
         ],
         "yaxis": "y3"
        },
        {
         "marker": {
          "color": [
           7
          ],
          "colorbar": {
           "title": {
            "text": "Trial"
           },
           "x": 1,
           "xpad": 40
          },
          "colorscale": [
           [
            0,
            "rgb(247,251,255)"
           ],
           [
            0.125,
            "rgb(222,235,247)"
           ],
           [
            0.25,
            "rgb(198,219,239)"
           ],
           [
            0.375,
            "rgb(158,202,225)"
           ],
           [
            0.5,
            "rgb(107,174,214)"
           ],
           [
            0.625,
            "rgb(66,146,198)"
           ],
           [
            0.75,
            "rgb(33,113,181)"
           ],
           [
            0.875,
            "rgb(8,81,156)"
           ],
           [
            1,
            "rgb(8,48,107)"
           ]
          ],
          "line": {
           "color": "Grey",
           "width": 0.5
          },
          "showscale": false
         },
         "mode": "markers",
         "showlegend": false,
         "type": "scatter",
         "x": [
          18
         ],
         "xaxis": "x4",
         "y": [
          0.562
         ],
         "yaxis": "y4"
        },
        {
         "marker": {
          "color": [
           7
          ],
          "colorbar": {
           "title": {
            "text": "Trial"
           },
           "x": 1,
           "xpad": 40
          },
          "colorscale": [
           [
            0,
            "rgb(247,251,255)"
           ],
           [
            0.125,
            "rgb(222,235,247)"
           ],
           [
            0.25,
            "rgb(198,219,239)"
           ],
           [
            0.375,
            "rgb(158,202,225)"
           ],
           [
            0.5,
            "rgb(107,174,214)"
           ],
           [
            0.625,
            "rgb(66,146,198)"
           ],
           [
            0.75,
            "rgb(33,113,181)"
           ],
           [
            0.875,
            "rgb(8,81,156)"
           ],
           [
            1,
            "rgb(8,48,107)"
           ]
          ],
          "line": {
           "color": "Grey",
           "width": 0.5
          },
          "showscale": false
         },
         "mode": "markers",
         "showlegend": false,
         "type": "scatter",
         "x": [
          158
         ],
         "xaxis": "x5",
         "y": [
          0.562
         ],
         "yaxis": "y5"
        }
       ],
       "layout": {
        "height": 500,
        "template": {
         "data": {
          "bar": [
           {
            "error_x": {
             "color": "#2a3f5f"
            },
            "error_y": {
             "color": "#2a3f5f"
            },
            "marker": {
             "line": {
              "color": "white",
              "width": 0.5
             },
             "pattern": {
              "fillmode": "overlay",
              "size": 10,
              "solidity": 0.2
             }
            },
            "type": "bar"
           }
          ],
          "barpolar": [
           {
            "marker": {
             "line": {
              "color": "white",
              "width": 0.5
             },
             "pattern": {
              "fillmode": "overlay",
              "size": 10,
              "solidity": 0.2
             }
            },
            "type": "barpolar"
           }
          ],
          "carpet": [
           {
            "aaxis": {
             "endlinecolor": "#2a3f5f",
             "gridcolor": "#C8D4E3",
             "linecolor": "#C8D4E3",
             "minorgridcolor": "#C8D4E3",
             "startlinecolor": "#2a3f5f"
            },
            "baxis": {
             "endlinecolor": "#2a3f5f",
             "gridcolor": "#C8D4E3",
             "linecolor": "#C8D4E3",
             "minorgridcolor": "#C8D4E3",
             "startlinecolor": "#2a3f5f"
            },
            "type": "carpet"
           }
          ],
          "choropleth": [
           {
            "colorbar": {
             "outlinewidth": 0,
             "ticks": ""
            },
            "type": "choropleth"
           }
          ],
          "contour": [
           {
            "colorbar": {
             "outlinewidth": 0,
             "ticks": ""
            },
            "colorscale": [
             [
              0,
              "#0d0887"
             ],
             [
              0.1111111111111111,
              "#46039f"
             ],
             [
              0.2222222222222222,
              "#7201a8"
             ],
             [
              0.3333333333333333,
              "#9c179e"
             ],
             [
              0.4444444444444444,
              "#bd3786"
             ],
             [
              0.5555555555555556,
              "#d8576b"
             ],
             [
              0.6666666666666666,
              "#ed7953"
             ],
             [
              0.7777777777777778,
              "#fb9f3a"
             ],
             [
              0.8888888888888888,
              "#fdca26"
             ],
             [
              1,
              "#f0f921"
             ]
            ],
            "type": "contour"
           }
          ],
          "contourcarpet": [
           {
            "colorbar": {
             "outlinewidth": 0,
             "ticks": ""
            },
            "type": "contourcarpet"
           }
          ],
          "heatmap": [
           {
            "colorbar": {
             "outlinewidth": 0,
             "ticks": ""
            },
            "colorscale": [
             [
              0,
              "#0d0887"
             ],
             [
              0.1111111111111111,
              "#46039f"
             ],
             [
              0.2222222222222222,
              "#7201a8"
             ],
             [
              0.3333333333333333,
              "#9c179e"
             ],
             [
              0.4444444444444444,
              "#bd3786"
             ],
             [
              0.5555555555555556,
              "#d8576b"
             ],
             [
              0.6666666666666666,
              "#ed7953"
             ],
             [
              0.7777777777777778,
              "#fb9f3a"
             ],
             [
              0.8888888888888888,
              "#fdca26"
             ],
             [
              1,
              "#f0f921"
             ]
            ],
            "type": "heatmap"
           }
          ],
          "heatmapgl": [
           {
            "colorbar": {
             "outlinewidth": 0,
             "ticks": ""
            },
            "colorscale": [
             [
              0,
              "#0d0887"
             ],
             [
              0.1111111111111111,
              "#46039f"
             ],
             [
              0.2222222222222222,
              "#7201a8"
             ],
             [
              0.3333333333333333,
              "#9c179e"
             ],
             [
              0.4444444444444444,
              "#bd3786"
             ],
             [
              0.5555555555555556,
              "#d8576b"
             ],
             [
              0.6666666666666666,
              "#ed7953"
             ],
             [
              0.7777777777777778,
              "#fb9f3a"
             ],
             [
              0.8888888888888888,
              "#fdca26"
             ],
             [
              1,
              "#f0f921"
             ]
            ],
            "type": "heatmapgl"
           }
          ],
          "histogram": [
           {
            "marker": {
             "pattern": {
              "fillmode": "overlay",
              "size": 10,
              "solidity": 0.2
             }
            },
            "type": "histogram"
           }
          ],
          "histogram2d": [
           {
            "colorbar": {
             "outlinewidth": 0,
             "ticks": ""
            },
            "colorscale": [
             [
              0,
              "#0d0887"
             ],
             [
              0.1111111111111111,
              "#46039f"
             ],
             [
              0.2222222222222222,
              "#7201a8"
             ],
             [
              0.3333333333333333,
              "#9c179e"
             ],
             [
              0.4444444444444444,
              "#bd3786"
             ],
             [
              0.5555555555555556,
              "#d8576b"
             ],
             [
              0.6666666666666666,
              "#ed7953"
             ],
             [
              0.7777777777777778,
              "#fb9f3a"
             ],
             [
              0.8888888888888888,
              "#fdca26"
             ],
             [
              1,
              "#f0f921"
             ]
            ],
            "type": "histogram2d"
           }
          ],
          "histogram2dcontour": [
           {
            "colorbar": {
             "outlinewidth": 0,
             "ticks": ""
            },
            "colorscale": [
             [
              0,
              "#0d0887"
             ],
             [
              0.1111111111111111,
              "#46039f"
             ],
             [
              0.2222222222222222,
              "#7201a8"
             ],
             [
              0.3333333333333333,
              "#9c179e"
             ],
             [
              0.4444444444444444,
              "#bd3786"
             ],
             [
              0.5555555555555556,
              "#d8576b"
             ],
             [
              0.6666666666666666,
              "#ed7953"
             ],
             [
              0.7777777777777778,
              "#fb9f3a"
             ],
             [
              0.8888888888888888,
              "#fdca26"
             ],
             [
              1,
              "#f0f921"
             ]
            ],
            "type": "histogram2dcontour"
           }
          ],
          "mesh3d": [
           {
            "colorbar": {
             "outlinewidth": 0,
             "ticks": ""
            },
            "type": "mesh3d"
           }
          ],
          "parcoords": [
           {
            "line": {
             "colorbar": {
              "outlinewidth": 0,
              "ticks": ""
             }
            },
            "type": "parcoords"
           }
          ],
          "pie": [
           {
            "automargin": true,
            "type": "pie"
           }
          ],
          "scatter": [
           {
            "fillpattern": {
             "fillmode": "overlay",
             "size": 10,
             "solidity": 0.2
            },
            "type": "scatter"
           }
          ],
          "scatter3d": [
           {
            "line": {
             "colorbar": {
              "outlinewidth": 0,
              "ticks": ""
             }
            },
            "marker": {
             "colorbar": {
              "outlinewidth": 0,
              "ticks": ""
             }
            },
            "type": "scatter3d"
           }
          ],
          "scattercarpet": [
           {
            "marker": {
             "colorbar": {
              "outlinewidth": 0,
              "ticks": ""
             }
            },
            "type": "scattercarpet"
           }
          ],
          "scattergeo": [
           {
            "marker": {
             "colorbar": {
              "outlinewidth": 0,
              "ticks": ""
             }
            },
            "type": "scattergeo"
           }
          ],
          "scattergl": [
           {
            "marker": {
             "colorbar": {
              "outlinewidth": 0,
              "ticks": ""
             }
            },
            "type": "scattergl"
           }
          ],
          "scattermapbox": [
           {
            "marker": {
             "colorbar": {
              "outlinewidth": 0,
              "ticks": ""
             }
            },
            "type": "scattermapbox"
           }
          ],
          "scatterpolar": [
           {
            "marker": {
             "colorbar": {
              "outlinewidth": 0,
              "ticks": ""
             }
            },
            "type": "scatterpolar"
           }
          ],
          "scatterpolargl": [
           {
            "marker": {
             "colorbar": {
              "outlinewidth": 0,
              "ticks": ""
             }
            },
            "type": "scatterpolargl"
           }
          ],
          "scatterternary": [
           {
            "marker": {
             "colorbar": {
              "outlinewidth": 0,
              "ticks": ""
             }
            },
            "type": "scatterternary"
           }
          ],
          "surface": [
           {
            "colorbar": {
             "outlinewidth": 0,
             "ticks": ""
            },
            "colorscale": [
             [
              0,
              "#0d0887"
             ],
             [
              0.1111111111111111,
              "#46039f"
             ],
             [
              0.2222222222222222,
              "#7201a8"
             ],
             [
              0.3333333333333333,
              "#9c179e"
             ],
             [
              0.4444444444444444,
              "#bd3786"
             ],
             [
              0.5555555555555556,
              "#d8576b"
             ],
             [
              0.6666666666666666,
              "#ed7953"
             ],
             [
              0.7777777777777778,
              "#fb9f3a"
             ],
             [
              0.8888888888888888,
              "#fdca26"
             ],
             [
              1,
              "#f0f921"
             ]
            ],
            "type": "surface"
           }
          ],
          "table": [
           {
            "cells": {
             "fill": {
              "color": "#EBF0F8"
             },
             "line": {
              "color": "white"
             }
            },
            "header": {
             "fill": {
              "color": "#C8D4E3"
             },
             "line": {
              "color": "white"
             }
            },
            "type": "table"
           }
          ]
         },
         "layout": {
          "annotationdefaults": {
           "arrowcolor": "#2a3f5f",
           "arrowhead": 0,
           "arrowwidth": 1
          },
          "autotypenumbers": "strict",
          "coloraxis": {
           "colorbar": {
            "outlinewidth": 0,
            "ticks": ""
           }
          },
          "colorscale": {
           "diverging": [
            [
             0,
             "#8e0152"
            ],
            [
             0.1,
             "#c51b7d"
            ],
            [
             0.2,
             "#de77ae"
            ],
            [
             0.3,
             "#f1b6da"
            ],
            [
             0.4,
             "#fde0ef"
            ],
            [
             0.5,
             "#f7f7f7"
            ],
            [
             0.6,
             "#e6f5d0"
            ],
            [
             0.7,
             "#b8e186"
            ],
            [
             0.8,
             "#7fbc41"
            ],
            [
             0.9,
             "#4d9221"
            ],
            [
             1,
             "#276419"
            ]
           ],
           "sequential": [
            [
             0,
             "#0d0887"
            ],
            [
             0.1111111111111111,
             "#46039f"
            ],
            [
             0.2222222222222222,
             "#7201a8"
            ],
            [
             0.3333333333333333,
             "#9c179e"
            ],
            [
             0.4444444444444444,
             "#bd3786"
            ],
            [
             0.5555555555555556,
             "#d8576b"
            ],
            [
             0.6666666666666666,
             "#ed7953"
            ],
            [
             0.7777777777777778,
             "#fb9f3a"
            ],
            [
             0.8888888888888888,
             "#fdca26"
            ],
            [
             1,
             "#f0f921"
            ]
           ],
           "sequentialminus": [
            [
             0,
             "#0d0887"
            ],
            [
             0.1111111111111111,
             "#46039f"
            ],
            [
             0.2222222222222222,
             "#7201a8"
            ],
            [
             0.3333333333333333,
             "#9c179e"
            ],
            [
             0.4444444444444444,
             "#bd3786"
            ],
            [
             0.5555555555555556,
             "#d8576b"
            ],
            [
             0.6666666666666666,
             "#ed7953"
            ],
            [
             0.7777777777777778,
             "#fb9f3a"
            ],
            [
             0.8888888888888888,
             "#fdca26"
            ],
            [
             1,
             "#f0f921"
            ]
           ]
          },
          "colorway": [
           "#636efa",
           "#EF553B",
           "#00cc96",
           "#ab63fa",
           "#FFA15A",
           "#19d3f3",
           "#FF6692",
           "#B6E880",
           "#FF97FF",
           "#FECB52"
          ],
          "font": {
           "color": "#2a3f5f"
          },
          "geo": {
           "bgcolor": "white",
           "lakecolor": "white",
           "landcolor": "white",
           "showlakes": true,
           "showland": true,
           "subunitcolor": "#C8D4E3"
          },
          "hoverlabel": {
           "align": "left"
          },
          "hovermode": "closest",
          "mapbox": {
           "style": "light"
          },
          "paper_bgcolor": "white",
          "plot_bgcolor": "white",
          "polar": {
           "angularaxis": {
            "gridcolor": "#EBF0F8",
            "linecolor": "#EBF0F8",
            "ticks": ""
           },
           "bgcolor": "white",
           "radialaxis": {
            "gridcolor": "#EBF0F8",
            "linecolor": "#EBF0F8",
            "ticks": ""
           }
          },
          "scene": {
           "xaxis": {
            "backgroundcolor": "white",
            "gridcolor": "#DFE8F3",
            "gridwidth": 2,
            "linecolor": "#EBF0F8",
            "showbackground": true,
            "ticks": "",
            "zerolinecolor": "#EBF0F8"
           },
           "yaxis": {
            "backgroundcolor": "white",
            "gridcolor": "#DFE8F3",
            "gridwidth": 2,
            "linecolor": "#EBF0F8",
            "showbackground": true,
            "ticks": "",
            "zerolinecolor": "#EBF0F8"
           },
           "zaxis": {
            "backgroundcolor": "white",
            "gridcolor": "#DFE8F3",
            "gridwidth": 2,
            "linecolor": "#EBF0F8",
            "showbackground": true,
            "ticks": "",
            "zerolinecolor": "#EBF0F8"
           }
          },
          "shapedefaults": {
           "line": {
            "color": "#2a3f5f"
           }
          },
          "ternary": {
           "aaxis": {
            "gridcolor": "#DFE8F3",
            "linecolor": "#A2B1C6",
            "ticks": ""
           },
           "baxis": {
            "gridcolor": "#DFE8F3",
            "linecolor": "#A2B1C6",
            "ticks": ""
           },
           "bgcolor": "white",
           "caxis": {
            "gridcolor": "#DFE8F3",
            "linecolor": "#A2B1C6",
            "ticks": ""
           }
          },
          "title": {
           "x": 0.05
          },
          "xaxis": {
           "automargin": true,
           "gridcolor": "#EBF0F8",
           "linecolor": "#EBF0F8",
           "ticks": "",
           "title": {
            "standoff": 15
           },
           "zerolinecolor": "#EBF0F8",
           "zerolinewidth": 2
          },
          "yaxis": {
           "automargin": true,
           "gridcolor": "#EBF0F8",
           "linecolor": "#EBF0F8",
           "ticks": "",
           "title": {
            "standoff": 15
           },
           "zerolinecolor": "#EBF0F8",
           "zerolinewidth": 2
          }
         }
        },
        "title": {
         "text": "Slice Plot"
        },
        "width": 1000,
        "xaxis": {
         "anchor": "y",
         "domain": [
          0,
          0.16799999999999998
         ],
         "tickangle": -90,
         "title": {
          "text": "classifier"
         }
        },
        "xaxis2": {
         "anchor": "y2",
         "domain": [
          0.208,
          0.376
         ],
         "tickangle": -90,
         "title": {
          "text": "dt_max_depth"
         }
        },
        "xaxis3": {
         "anchor": "y3",
         "domain": [
          0.416,
          0.584
         ],
         "tickangle": -90,
         "title": {
          "text": "lr_c"
         },
         "type": "log"
        },
        "xaxis4": {
         "anchor": "y4",
         "domain": [
          0.624,
          0.792
         ],
         "tickangle": -90,
         "title": {
          "text": "rf_max_depth"
         }
        },
        "xaxis5": {
         "anchor": "y5",
         "domain": [
          0.832,
          1
         ],
         "tickangle": -90,
         "title": {
          "text": "rf_n_estimators"
         }
        },
        "yaxis": {
         "anchor": "x",
         "domain": [
          0,
          1
         ],
         "title": {
          "text": "Objective Value"
         }
        },
        "yaxis2": {
         "anchor": "x2",
         "domain": [
          0,
          1
         ],
         "matches": "y",
         "showticklabels": false
        },
        "yaxis3": {
         "anchor": "x3",
         "domain": [
          0,
          1
         ],
         "matches": "y",
         "showticklabels": false
        },
        "yaxis4": {
         "anchor": "x4",
         "domain": [
          0,
          1
         ],
         "matches": "y",
         "showticklabels": false
        },
        "yaxis5": {
         "anchor": "x5",
         "domain": [
          0,
          1
         ],
         "matches": "y",
         "showticklabels": false
        }
       }
      }
     },
     "metadata": {},
     "output_type": "display_data"
    }
   ],
   "source": [
    "fig = optuna.visualization.plot_optimization_history(study_no_sampling)\n",
    "fig.update_layout(template='plotly_white', width=FIG_WIDTH, height=FIG_HEIGHT)\n",
    "fig.show()\n",
    "\n",
    "fig = optuna.visualization.plot_slice(study_no_sampling)\n",
    "fig.update_layout(template='plotly_white', width=FIG_WIDTH, height=FIG_HEIGHT)\n",
    "fig.update_xaxes(tickangle=-90)\n",
    "fig.show()"
   ]
  },
  {
   "cell_type": "code",
   "execution_count": 177,
   "metadata": {},
   "outputs": [
    {
     "data": {
      "application/vnd.plotly.v1+json": {
       "config": {
        "plotlyServerURL": "https://plot.ly"
       },
       "data": [
        {
         "mode": "lines",
         "name": "Validation set ROC (AUC = 0.85)",
         "type": "scatter",
         "x": [
          0,
          0,
          0,
          0,
          0,
          0,
          0,
          0.0008203445447087777,
          0.0008203445447087777,
          0.0008203445447087777,
          0.0016406890894175555,
          0.0016406890894175555,
          0.0016406890894175555,
          0.002461033634126333,
          0.003281378178835111,
          0.003281378178835111,
          0.003281378178835111,
          0.003281378178835111,
          0.003281378178835111,
          0.003281378178835111,
          0.004101722723543888,
          0.004101722723543888,
          0.004922067268252666,
          0.004922067268252666,
          0.004922067268252666,
          0.005742411812961444,
          0.006562756357670222,
          0.006562756357670222,
          0.006562756357670222,
          0.006562756357670222,
          0.008203445447087777,
          0.008203445447087777,
          0.008203445447087777,
          0.008203445447087777,
          0.009023789991796555,
          0.009023789991796555,
          0.009023789991796555,
          0.01066447908121411,
          0.011484823625922888,
          0.012305168170631665,
          0.016406890894175553,
          0.016406890894175553,
          0.016406890894175553,
          0.017227235438884332,
          0.017227235438884332,
          0.017227235438884332,
          0.017227235438884332,
          0.018867924528301886,
          0.018867924528301886,
          0.018867924528301886,
          0.018867924528301886,
          0.022149302707136997,
          0.02378999179655455,
          0.02378999179655455,
          0.02461033634126333,
          0.02543068088597211,
          0.026251025430680888,
          0.027071369975389663,
          0.02789171452009844,
          0.029532403609515995,
          0.031173092698933553,
          0.031173092698933553,
          0.034454470877768664,
          0.034454470877768664,
          0.03527481542247744,
          0.03691550451189499,
          0.03937653814602133,
          0.04265791632485644,
          0.043478260869565216,
          0.044298605414273995,
          0.045118949958982774,
          0.045118949958982774,
          0.04593929450369155,
          0.04593929450369155,
          0.04840032813781788,
          0.05086136177194422,
          0.05086136177194422,
          0.052502050861361775,
          0.054963084495488104,
          0.05742411812961444,
          0.05742411812961444,
          0.05906480721903199,
          0.06070549630844955,
          0.06070549630844955,
          0.06152584085315833,
          0.062346185397867106,
          0.06562756357670221,
          0.06972928630024611,
          0.06972928630024611,
          0.07136997538966366,
          0.07301066447908121,
          0.07629204265791632,
          0.08285479901558655,
          0.08613617719442165,
          0.08941755537325677,
          0.09105824446267433,
          0.09269893355209188,
          0.09433962264150944,
          0.09598031173092698,
          0.09762100082034454,
          0.0992616899097621,
          0.10254306808859721,
          0.10336341263330599,
          0.10828547990155865,
          0.11156685808039377,
          0.11320754716981132,
          0.11566858080393766,
          0.12387202625102543,
          0.1287940935192781,
          0.13289581624282198,
          0.1361771944216571,
          0.13781788351107466,
          0.13863822805578344,
          0.14109926168990977,
          0.1443806398687449,
          0.1542247744052502,
          0.16078753076292043,
          0.16488925348646433,
          0.1681706316652994,
          0.17145200984413453,
          0.1804757998359311,
          0.184577522559475,
          0.1878589007383101,
          0.19278096800656275,
          0.19934372436423298,
          0.20508613617719443,
          0.20918785890073832,
          0.21739130434782608,
          0.22231337161607875,
          0.2280557834290402,
          0.23543888433141918,
          0.24528301886792453,
          0.2534864643150123,
          0.2575881870385562,
          0.2674323215750615,
          0.27727645611156687,
          0.28794093519278097,
          0.3092698933552092,
          0.3223954060705496,
          0.32895816242821985,
          0.33470057424118127,
          0.3420836751435603,
          0.35192780968006565,
          0.3675143560295324,
          0.37899917965545526,
          0.3937653814602133,
          0.40935192780968005,
          0.41837571780147664,
          0.4257588187038556,
          0.4470877768662838,
          0.4610336341263331,
          0.46595570139458575,
          0.48400328137817883,
          0.4963084495488105,
          0.5077932731747334,
          0.5250205086136177,
          0.5381460213289582,
          0.5586546349466776,
          0.5775225594749795,
          0.5947497949138638,
          0.6111566858080394,
          0.6283839212469237,
          0.6521739130434783,
          0.6792452830188679,
          0.70467596390484,
          0.7333880229696472,
          0.7579983593109105,
          0.7990155865463495,
          0.8260869565217391,
          0.8531583264971287,
          0.8785890073831009,
          0.9122231337161608,
          0.9442165709598032,
          0.9770303527481542,
          1
         ],
         "y": [
          0,
          0.0035587188612099642,
          0.02491103202846975,
          0.03202846975088968,
          0.03558718861209965,
          0.046263345195729534,
          0.05338078291814947,
          0.05693950177935943,
          0.06405693950177936,
          0.06761565836298933,
          0.08185053380782918,
          0.08896797153024912,
          0.099644128113879,
          0.10676156583629894,
          0.1103202846975089,
          0.11743772241992882,
          0.12811387900355872,
          0.13167259786476868,
          0.1423487544483986,
          0.1494661921708185,
          0.16370106761565836,
          0.17437722419928825,
          0.17437722419928825,
          0.17793594306049823,
          0.19217081850533807,
          0.199288256227758,
          0.21352313167259787,
          0.23487544483985764,
          0.23843416370106763,
          0.2526690391459075,
          0.25622775800711745,
          0.26334519572953735,
          0.2669039145907473,
          0.27402135231316727,
          0.27402135231316727,
          0.28825622775800713,
          0.29537366548042704,
          0.30604982206405695,
          0.3096085409252669,
          0.3096085409252669,
          0.31316725978647686,
          0.3202846975088968,
          0.3274021352313167,
          0.3309608540925267,
          0.3416370106761566,
          0.3487544483985765,
          0.35231316725978645,
          0.3594306049822064,
          0.3665480427046263,
          0.3736654804270463,
          0.38434163701067614,
          0.3914590747330961,
          0.3914590747330961,
          0.398576512455516,
          0.40213523131672596,
          0.41637010676156583,
          0.4234875444839858,
          0.4234875444839858,
          0.4306049822064057,
          0.4306049822064057,
          0.4306049822064057,
          0.4377224199288256,
          0.4377224199288256,
          0.45195729537366547,
          0.4555160142348754,
          0.46619217081850534,
          0.46619217081850534,
          0.47330960854092524,
          0.47686832740213525,
          0.47686832740213525,
          0.4804270462633452,
          0.4875444839857651,
          0.49110320284697506,
          0.498220640569395,
          0.501779359430605,
          0.501779359430605,
          0.505338078291815,
          0.505338078291815,
          0.5124555160142349,
          0.5160142348754448,
          0.5195729537366548,
          0.5231316725978647,
          0.5231316725978647,
          0.5302491103202847,
          0.5338078291814946,
          0.5409252669039146,
          0.5444839857651246,
          0.5480427046263345,
          0.5516014234875445,
          0.5587188612099644,
          0.5622775800711743,
          0.5765124555160143,
          0.5836298932384342,
          0.5836298932384342,
          0.5907473309608541,
          0.597864768683274,
          0.608540925266904,
          0.608540925266904,
          0.6156583629893239,
          0.6156583629893239,
          0.6192170818505338,
          0.6192170818505338,
          0.6298932384341637,
          0.6334519572953736,
          0.6370106761565836,
          0.6512455516014235,
          0.6512455516014235,
          0.6512455516014235,
          0.6512455516014235,
          0.6583629893238434,
          0.6619217081850534,
          0.6761565836298933,
          0.6868327402135231,
          0.693950177935943,
          0.693950177935943,
          0.693950177935943,
          0.693950177935943,
          0.701067615658363,
          0.701067615658363,
          0.708185053380783,
          0.7153024911032029,
          0.7153024911032029,
          0.7188612099644128,
          0.7224199288256228,
          0.7224199288256228,
          0.7330960854092526,
          0.7366548042704626,
          0.7366548042704626,
          0.7437722419928826,
          0.7508896797153025,
          0.7544483985765125,
          0.7544483985765125,
          0.7580071174377224,
          0.7615658362989324,
          0.7722419928825622,
          0.7864768683274022,
          0.797153024911032,
          0.797153024911032,
          0.797153024911032,
          0.8042704626334519,
          0.8113879003558719,
          0.8256227758007118,
          0.8327402135231317,
          0.8362989323843416,
          0.8505338078291815,
          0.8612099644128114,
          0.8718861209964412,
          0.8790035587188612,
          0.8932384341637011,
          0.896797153024911,
          0.896797153024911,
          0.896797153024911,
          0.9039145907473309,
          0.9110320284697508,
          0.9181494661921709,
          0.9217081850533808,
          0.9252669039145908,
          0.9288256227758007,
          0.9395017793594306,
          0.9466192170818505,
          0.9537366548042705,
          0.9572953736654805,
          0.9679715302491103,
          0.9715302491103203,
          0.9750889679715302,
          0.9822064056939501,
          0.9822064056939501,
          0.9857651245551602,
          0.9857651245551602,
          0.9893238434163701,
          0.99644128113879,
          0.99644128113879,
          0.99644128113879,
          1,
          1
         ]
        },
        {
         "mode": "lines",
         "name": "Test set ROC (AUC = 0.84)",
         "type": "scatter",
         "x": [
          0,
          0,
          0,
          0,
          0,
          0,
          0.0008424599831508003,
          0.0008424599831508003,
          0.0008424599831508003,
          0.0008424599831508003,
          0.0008424599831508003,
          0.0008424599831508003,
          0.0008424599831508003,
          0.0008424599831508003,
          0.0016849199663016006,
          0.0016849199663016006,
          0.0016849199663016006,
          0.0016849199663016006,
          0.0016849199663016006,
          0.002527379949452401,
          0.002527379949452401,
          0.003369839932603201,
          0.003369839932603201,
          0.003369839932603201,
          0.004212299915754001,
          0.004212299915754001,
          0.005054759898904802,
          0.005054759898904802,
          0.005897219882055603,
          0.005897219882055603,
          0.005897219882055603,
          0.005897219882055603,
          0.006739679865206402,
          0.007582139848357203,
          0.007582139848357203,
          0.008424599831508003,
          0.008424599831508003,
          0.010109519797809604,
          0.010109519797809604,
          0.010951979780960405,
          0.010951979780960405,
          0.011794439764111205,
          0.011794439764111205,
          0.011794439764111205,
          0.011794439764111205,
          0.012636899747262006,
          0.012636899747262006,
          0.013479359730412805,
          0.013479359730412805,
          0.013479359730412805,
          0.013479359730412805,
          0.014321819713563605,
          0.014321819713563605,
          0.014321819713563605,
          0.014321819713563605,
          0.016849199663016005,
          0.017691659646166806,
          0.018534119629317607,
          0.018534119629317607,
          0.019376579612468407,
          0.019376579612468407,
          0.02106149957877001,
          0.02358887952822241,
          0.02443133951137321,
          0.02611625947767481,
          0.02695871946082561,
          0.02695871946082561,
          0.02864363942712721,
          0.030328559393428812,
          0.030328559393428812,
          0.030328559393428812,
          0.03201347935973041,
          0.03285593934288121,
          0.03706823925863521,
          0.03706823925863521,
          0.03706823925863521,
          0.037910699241786014,
          0.037910699241786014,
          0.039595619208087615,
          0.041280539174389216,
          0.04212299915754002,
          0.04296545914069082,
          0.04717775905644482,
          0.04802021903959562,
          0.04886267902274642,
          0.04886267902274642,
          0.05223251895534962,
          0.05391743892165122,
          0.05475989890480202,
          0.05644481887110362,
          0.05728727885425442,
          0.05897219882055602,
          0.06318449873631002,
          0.06739679865206402,
          0.06908171861836562,
          0.07413647851727043,
          0.07582139848357203,
          0.07750631844987363,
          0.07919123841617523,
          0.08171861836562763,
          0.08340353833192923,
          0.08508845829823083,
          0.08593091828138164,
          0.08761583824768324,
          0.08930075821398484,
          0.09351305812973884,
          0.09604043807919124,
          0.10025273799494525,
          0.10278011794439765,
          0.10530749789385004,
          0.11036225779275484,
          0.11373209772535804,
          0.11625947767481044,
          0.12131423757371525,
          0.12552653748946924,
          0.12721145745577084,
          0.13058129738837404,
          0.13563605728727884,
          0.13816343723673125,
          0.14827295703454085,
          0.15248525695029486,
          0.15585509688289806,
          0.15838247683235046,
          0.16343723673125526,
          0.17186183656276327,
          0.17523167649536647,
          0.18281381634372368,
          0.18786857624262848,
          0.19292333614153329,
          0.2005054759898905,
          0.2047177759056445,
          0.20977253580454927,
          0.21566975568660487,
          0.22156697556866048,
          0.2325189553496209,
          0.2350463352990733,
          0.2417860151642797,
          0.2510530749789385,
          0.2594776748104465,
          0.2628475147430497,
          0.2704296545914069,
          0.2805391743892165,
          0.2881213142375737,
          0.2965459140690817,
          0.3142375737152485,
          0.3251895534962089,
          0.33445661331086773,
          0.34625105307497894,
          0.35551811288963775,
          0.36562763268744736,
          0.37826453243470937,
          0.3866891322662174,
          0.3959561920808762,
          0.405223251895535,
          0.4119629317607414,
          0.42628475147430495,
          0.43807919123841615,
          0.45408593091828137,
          0.4717775905644482,
          0.4877843302443134,
          0.506318449873631,
          0.5223251895534962,
          0.548441449031171,
          0.5745577085088458,
          0.5981465880370682,
          0.6225779275484414,
          0.6461668070766639,
          0.6815501263689975,
          0.7000842459983151,
          0.7312552653748947,
          0.7615838247683235,
          0.7902274641954508,
          0.8222409435551812,
          0.8458298230834035,
          0.8702611625947767,
          0.9048020219039595,
          0.9435551811288964,
          0.9755686604886268,
          1
         ],
         "y": [
          0,
          0.003194888178913738,
          0.01597444089456869,
          0.022364217252396165,
          0.025559105431309903,
          0.03514376996805112,
          0.04153354632587859,
          0.06070287539936102,
          0.06389776357827476,
          0.07987220447284345,
          0.08306709265175719,
          0.0926517571884984,
          0.09904153354632587,
          0.10223642172523961,
          0.11182108626198083,
          0.1182108626198083,
          0.12140575079872204,
          0.134185303514377,
          0.13738019169329074,
          0.14696485623003194,
          0.1597444089456869,
          0.16932907348242812,
          0.18210862619808307,
          0.1853035143769968,
          0.1853035143769968,
          0.18849840255591055,
          0.19169329073482427,
          0.19808306709265175,
          0.19808306709265175,
          0.21725239616613418,
          0.22364217252396165,
          0.23003194888178913,
          0.2364217252396166,
          0.2364217252396166,
          0.23961661341853036,
          0.24600638977635783,
          0.24920127795527156,
          0.25559105431309903,
          0.26198083067092653,
          0.26517571884984026,
          0.2779552715654952,
          0.28753993610223644,
          0.29073482428115016,
          0.2971246006389776,
          0.3035143769968051,
          0.3035143769968051,
          0.30670926517571884,
          0.30990415335463256,
          0.31629392971246006,
          0.3258785942492013,
          0.329073482428115,
          0.3354632587859425,
          0.34185303514376997,
          0.3514376996805112,
          0.3546325878594249,
          0.35782747603833864,
          0.35782747603833864,
          0.3610223642172524,
          0.3801916932907348,
          0.3865814696485623,
          0.38977635782747605,
          0.3929712460063898,
          0.3961661341853035,
          0.3961661341853035,
          0.3961661341853035,
          0.3961661341853035,
          0.402555910543131,
          0.40894568690095845,
          0.41214057507987223,
          0.4249201277955272,
          0.4281150159744409,
          0.43130990415335463,
          0.43450479233226835,
          0.43769968051118213,
          0.45686900958466453,
          0.46325878594249204,
          0.46325878594249204,
          0.46645367412140576,
          0.4696485623003195,
          0.4792332268370607,
          0.4792332268370607,
          0.48562300319488816,
          0.49201277955271566,
          0.49201277955271566,
          0.4952076677316294,
          0.5015974440894568,
          0.5015974440894568,
          0.5047923322683706,
          0.5079872204472844,
          0.5143769968051118,
          0.5175718849840255,
          0.5207667731629393,
          0.5303514376996805,
          0.5303514376996805,
          0.5335463258785943,
          0.5431309904153354,
          0.549520766773163,
          0.549520766773163,
          0.5559105431309904,
          0.5623003194888179,
          0.5686900958466453,
          0.5718849840255591,
          0.5782747603833865,
          0.5878594249201278,
          0.5942492012779552,
          0.597444089456869,
          0.597444089456869,
          0.6006389776357828,
          0.6070287539936102,
          0.610223642172524,
          0.6230031948881789,
          0.6325878594249201,
          0.645367412140575,
          0.645367412140575,
          0.6485623003194888,
          0.6517571884984026,
          0.6613418530351438,
          0.6677316293929713,
          0.6805111821086262,
          0.6869009584664537,
          0.6900958466453674,
          0.6964856230031949,
          0.6964856230031949,
          0.6964856230031949,
          0.6964856230031949,
          0.6996805111821086,
          0.7092651757188498,
          0.7156549520766773,
          0.7188498402555911,
          0.7220447284345048,
          0.7284345047923323,
          0.7348242811501597,
          0.7380191693290735,
          0.7380191693290735,
          0.7412140575079872,
          0.7507987220447284,
          0.7603833865814696,
          0.7603833865814696,
          0.7603833865814696,
          0.7731629392971247,
          0.7763578274760383,
          0.7827476038338658,
          0.7859424920127795,
          0.7891373801916933,
          0.792332268370607,
          0.8019169329073482,
          0.8115015974440895,
          0.8210862619808307,
          0.8402555910543131,
          0.8402555910543131,
          0.8402555910543131,
          0.8466453674121406,
          0.8562300319488818,
          0.8690095846645367,
          0.8722044728434505,
          0.8785942492012779,
          0.8849840255591054,
          0.8849840255591054,
          0.8849840255591054,
          0.8945686900958466,
          0.9073482428115016,
          0.9105431309904153,
          0.9233226837060703,
          0.9329073482428115,
          0.9329073482428115,
          0.9456869009584664,
          0.9456869009584664,
          0.9552715654952076,
          0.9616613418530351,
          0.9712460063897763,
          0.9744408945686901,
          0.9840255591054313,
          0.9904153354632588,
          0.9904153354632588,
          0.9968051118210862,
          1,
          1,
          1,
          1
         ]
        },
        {
         "line": {
          "color": "black",
          "dash": "dash"
         },
         "mode": "lines",
         "name": "No Skill",
         "type": "scatter",
         "x": [
          0,
          1
         ],
         "y": [
          0,
          1
         ]
        }
       ],
       "layout": {
        "height": 750,
        "template": {
         "data": {
          "bar": [
           {
            "error_x": {
             "color": "#2a3f5f"
            },
            "error_y": {
             "color": "#2a3f5f"
            },
            "marker": {
             "line": {
              "color": "white",
              "width": 0.5
             },
             "pattern": {
              "fillmode": "overlay",
              "size": 10,
              "solidity": 0.2
             }
            },
            "type": "bar"
           }
          ],
          "barpolar": [
           {
            "marker": {
             "line": {
              "color": "white",
              "width": 0.5
             },
             "pattern": {
              "fillmode": "overlay",
              "size": 10,
              "solidity": 0.2
             }
            },
            "type": "barpolar"
           }
          ],
          "carpet": [
           {
            "aaxis": {
             "endlinecolor": "#2a3f5f",
             "gridcolor": "#C8D4E3",
             "linecolor": "#C8D4E3",
             "minorgridcolor": "#C8D4E3",
             "startlinecolor": "#2a3f5f"
            },
            "baxis": {
             "endlinecolor": "#2a3f5f",
             "gridcolor": "#C8D4E3",
             "linecolor": "#C8D4E3",
             "minorgridcolor": "#C8D4E3",
             "startlinecolor": "#2a3f5f"
            },
            "type": "carpet"
           }
          ],
          "choropleth": [
           {
            "colorbar": {
             "outlinewidth": 0,
             "ticks": ""
            },
            "type": "choropleth"
           }
          ],
          "contour": [
           {
            "colorbar": {
             "outlinewidth": 0,
             "ticks": ""
            },
            "colorscale": [
             [
              0,
              "#0d0887"
             ],
             [
              0.1111111111111111,
              "#46039f"
             ],
             [
              0.2222222222222222,
              "#7201a8"
             ],
             [
              0.3333333333333333,
              "#9c179e"
             ],
             [
              0.4444444444444444,
              "#bd3786"
             ],
             [
              0.5555555555555556,
              "#d8576b"
             ],
             [
              0.6666666666666666,
              "#ed7953"
             ],
             [
              0.7777777777777778,
              "#fb9f3a"
             ],
             [
              0.8888888888888888,
              "#fdca26"
             ],
             [
              1,
              "#f0f921"
             ]
            ],
            "type": "contour"
           }
          ],
          "contourcarpet": [
           {
            "colorbar": {
             "outlinewidth": 0,
             "ticks": ""
            },
            "type": "contourcarpet"
           }
          ],
          "heatmap": [
           {
            "colorbar": {
             "outlinewidth": 0,
             "ticks": ""
            },
            "colorscale": [
             [
              0,
              "#0d0887"
             ],
             [
              0.1111111111111111,
              "#46039f"
             ],
             [
              0.2222222222222222,
              "#7201a8"
             ],
             [
              0.3333333333333333,
              "#9c179e"
             ],
             [
              0.4444444444444444,
              "#bd3786"
             ],
             [
              0.5555555555555556,
              "#d8576b"
             ],
             [
              0.6666666666666666,
              "#ed7953"
             ],
             [
              0.7777777777777778,
              "#fb9f3a"
             ],
             [
              0.8888888888888888,
              "#fdca26"
             ],
             [
              1,
              "#f0f921"
             ]
            ],
            "type": "heatmap"
           }
          ],
          "heatmapgl": [
           {
            "colorbar": {
             "outlinewidth": 0,
             "ticks": ""
            },
            "colorscale": [
             [
              0,
              "#0d0887"
             ],
             [
              0.1111111111111111,
              "#46039f"
             ],
             [
              0.2222222222222222,
              "#7201a8"
             ],
             [
              0.3333333333333333,
              "#9c179e"
             ],
             [
              0.4444444444444444,
              "#bd3786"
             ],
             [
              0.5555555555555556,
              "#d8576b"
             ],
             [
              0.6666666666666666,
              "#ed7953"
             ],
             [
              0.7777777777777778,
              "#fb9f3a"
             ],
             [
              0.8888888888888888,
              "#fdca26"
             ],
             [
              1,
              "#f0f921"
             ]
            ],
            "type": "heatmapgl"
           }
          ],
          "histogram": [
           {
            "marker": {
             "pattern": {
              "fillmode": "overlay",
              "size": 10,
              "solidity": 0.2
             }
            },
            "type": "histogram"
           }
          ],
          "histogram2d": [
           {
            "colorbar": {
             "outlinewidth": 0,
             "ticks": ""
            },
            "colorscale": [
             [
              0,
              "#0d0887"
             ],
             [
              0.1111111111111111,
              "#46039f"
             ],
             [
              0.2222222222222222,
              "#7201a8"
             ],
             [
              0.3333333333333333,
              "#9c179e"
             ],
             [
              0.4444444444444444,
              "#bd3786"
             ],
             [
              0.5555555555555556,
              "#d8576b"
             ],
             [
              0.6666666666666666,
              "#ed7953"
             ],
             [
              0.7777777777777778,
              "#fb9f3a"
             ],
             [
              0.8888888888888888,
              "#fdca26"
             ],
             [
              1,
              "#f0f921"
             ]
            ],
            "type": "histogram2d"
           }
          ],
          "histogram2dcontour": [
           {
            "colorbar": {
             "outlinewidth": 0,
             "ticks": ""
            },
            "colorscale": [
             [
              0,
              "#0d0887"
             ],
             [
              0.1111111111111111,
              "#46039f"
             ],
             [
              0.2222222222222222,
              "#7201a8"
             ],
             [
              0.3333333333333333,
              "#9c179e"
             ],
             [
              0.4444444444444444,
              "#bd3786"
             ],
             [
              0.5555555555555556,
              "#d8576b"
             ],
             [
              0.6666666666666666,
              "#ed7953"
             ],
             [
              0.7777777777777778,
              "#fb9f3a"
             ],
             [
              0.8888888888888888,
              "#fdca26"
             ],
             [
              1,
              "#f0f921"
             ]
            ],
            "type": "histogram2dcontour"
           }
          ],
          "mesh3d": [
           {
            "colorbar": {
             "outlinewidth": 0,
             "ticks": ""
            },
            "type": "mesh3d"
           }
          ],
          "parcoords": [
           {
            "line": {
             "colorbar": {
              "outlinewidth": 0,
              "ticks": ""
             }
            },
            "type": "parcoords"
           }
          ],
          "pie": [
           {
            "automargin": true,
            "type": "pie"
           }
          ],
          "scatter": [
           {
            "fillpattern": {
             "fillmode": "overlay",
             "size": 10,
             "solidity": 0.2
            },
            "type": "scatter"
           }
          ],
          "scatter3d": [
           {
            "line": {
             "colorbar": {
              "outlinewidth": 0,
              "ticks": ""
             }
            },
            "marker": {
             "colorbar": {
              "outlinewidth": 0,
              "ticks": ""
             }
            },
            "type": "scatter3d"
           }
          ],
          "scattercarpet": [
           {
            "marker": {
             "colorbar": {
              "outlinewidth": 0,
              "ticks": ""
             }
            },
            "type": "scattercarpet"
           }
          ],
          "scattergeo": [
           {
            "marker": {
             "colorbar": {
              "outlinewidth": 0,
              "ticks": ""
             }
            },
            "type": "scattergeo"
           }
          ],
          "scattergl": [
           {
            "marker": {
             "colorbar": {
              "outlinewidth": 0,
              "ticks": ""
             }
            },
            "type": "scattergl"
           }
          ],
          "scattermapbox": [
           {
            "marker": {
             "colorbar": {
              "outlinewidth": 0,
              "ticks": ""
             }
            },
            "type": "scattermapbox"
           }
          ],
          "scatterpolar": [
           {
            "marker": {
             "colorbar": {
              "outlinewidth": 0,
              "ticks": ""
             }
            },
            "type": "scatterpolar"
           }
          ],
          "scatterpolargl": [
           {
            "marker": {
             "colorbar": {
              "outlinewidth": 0,
              "ticks": ""
             }
            },
            "type": "scatterpolargl"
           }
          ],
          "scatterternary": [
           {
            "marker": {
             "colorbar": {
              "outlinewidth": 0,
              "ticks": ""
             }
            },
            "type": "scatterternary"
           }
          ],
          "surface": [
           {
            "colorbar": {
             "outlinewidth": 0,
             "ticks": ""
            },
            "colorscale": [
             [
              0,
              "#0d0887"
             ],
             [
              0.1111111111111111,
              "#46039f"
             ],
             [
              0.2222222222222222,
              "#7201a8"
             ],
             [
              0.3333333333333333,
              "#9c179e"
             ],
             [
              0.4444444444444444,
              "#bd3786"
             ],
             [
              0.5555555555555556,
              "#d8576b"
             ],
             [
              0.6666666666666666,
              "#ed7953"
             ],
             [
              0.7777777777777778,
              "#fb9f3a"
             ],
             [
              0.8888888888888888,
              "#fdca26"
             ],
             [
              1,
              "#f0f921"
             ]
            ],
            "type": "surface"
           }
          ],
          "table": [
           {
            "cells": {
             "fill": {
              "color": "#EBF0F8"
             },
             "line": {
              "color": "white"
             }
            },
            "header": {
             "fill": {
              "color": "#C8D4E3"
             },
             "line": {
              "color": "white"
             }
            },
            "type": "table"
           }
          ]
         },
         "layout": {
          "annotationdefaults": {
           "arrowcolor": "#2a3f5f",
           "arrowhead": 0,
           "arrowwidth": 1
          },
          "autotypenumbers": "strict",
          "coloraxis": {
           "colorbar": {
            "outlinewidth": 0,
            "ticks": ""
           }
          },
          "colorscale": {
           "diverging": [
            [
             0,
             "#8e0152"
            ],
            [
             0.1,
             "#c51b7d"
            ],
            [
             0.2,
             "#de77ae"
            ],
            [
             0.3,
             "#f1b6da"
            ],
            [
             0.4,
             "#fde0ef"
            ],
            [
             0.5,
             "#f7f7f7"
            ],
            [
             0.6,
             "#e6f5d0"
            ],
            [
             0.7,
             "#b8e186"
            ],
            [
             0.8,
             "#7fbc41"
            ],
            [
             0.9,
             "#4d9221"
            ],
            [
             1,
             "#276419"
            ]
           ],
           "sequential": [
            [
             0,
             "#0d0887"
            ],
            [
             0.1111111111111111,
             "#46039f"
            ],
            [
             0.2222222222222222,
             "#7201a8"
            ],
            [
             0.3333333333333333,
             "#9c179e"
            ],
            [
             0.4444444444444444,
             "#bd3786"
            ],
            [
             0.5555555555555556,
             "#d8576b"
            ],
            [
             0.6666666666666666,
             "#ed7953"
            ],
            [
             0.7777777777777778,
             "#fb9f3a"
            ],
            [
             0.8888888888888888,
             "#fdca26"
            ],
            [
             1,
             "#f0f921"
            ]
           ],
           "sequentialminus": [
            [
             0,
             "#0d0887"
            ],
            [
             0.1111111111111111,
             "#46039f"
            ],
            [
             0.2222222222222222,
             "#7201a8"
            ],
            [
             0.3333333333333333,
             "#9c179e"
            ],
            [
             0.4444444444444444,
             "#bd3786"
            ],
            [
             0.5555555555555556,
             "#d8576b"
            ],
            [
             0.6666666666666666,
             "#ed7953"
            ],
            [
             0.7777777777777778,
             "#fb9f3a"
            ],
            [
             0.8888888888888888,
             "#fdca26"
            ],
            [
             1,
             "#f0f921"
            ]
           ]
          },
          "colorway": [
           "#636efa",
           "#EF553B",
           "#00cc96",
           "#ab63fa",
           "#FFA15A",
           "#19d3f3",
           "#FF6692",
           "#B6E880",
           "#FF97FF",
           "#FECB52"
          ],
          "font": {
           "color": "#2a3f5f"
          },
          "geo": {
           "bgcolor": "white",
           "lakecolor": "white",
           "landcolor": "white",
           "showlakes": true,
           "showland": true,
           "subunitcolor": "#C8D4E3"
          },
          "hoverlabel": {
           "align": "left"
          },
          "hovermode": "closest",
          "mapbox": {
           "style": "light"
          },
          "paper_bgcolor": "white",
          "plot_bgcolor": "white",
          "polar": {
           "angularaxis": {
            "gridcolor": "#EBF0F8",
            "linecolor": "#EBF0F8",
            "ticks": ""
           },
           "bgcolor": "white",
           "radialaxis": {
            "gridcolor": "#EBF0F8",
            "linecolor": "#EBF0F8",
            "ticks": ""
           }
          },
          "scene": {
           "xaxis": {
            "backgroundcolor": "white",
            "gridcolor": "#DFE8F3",
            "gridwidth": 2,
            "linecolor": "#EBF0F8",
            "showbackground": true,
            "ticks": "",
            "zerolinecolor": "#EBF0F8"
           },
           "yaxis": {
            "backgroundcolor": "white",
            "gridcolor": "#DFE8F3",
            "gridwidth": 2,
            "linecolor": "#EBF0F8",
            "showbackground": true,
            "ticks": "",
            "zerolinecolor": "#EBF0F8"
           },
           "zaxis": {
            "backgroundcolor": "white",
            "gridcolor": "#DFE8F3",
            "gridwidth": 2,
            "linecolor": "#EBF0F8",
            "showbackground": true,
            "ticks": "",
            "zerolinecolor": "#EBF0F8"
           }
          },
          "shapedefaults": {
           "line": {
            "color": "#2a3f5f"
           }
          },
          "ternary": {
           "aaxis": {
            "gridcolor": "#DFE8F3",
            "linecolor": "#A2B1C6",
            "ticks": ""
           },
           "baxis": {
            "gridcolor": "#DFE8F3",
            "linecolor": "#A2B1C6",
            "ticks": ""
           },
           "bgcolor": "white",
           "caxis": {
            "gridcolor": "#DFE8F3",
            "linecolor": "#A2B1C6",
            "ticks": ""
           }
          },
          "title": {
           "x": 0.05
          },
          "xaxis": {
           "automargin": true,
           "gridcolor": "#EBF0F8",
           "linecolor": "#EBF0F8",
           "ticks": "",
           "title": {
            "standoff": 15
           },
           "zerolinecolor": "#EBF0F8",
           "zerolinewidth": 2
          },
          "yaxis": {
           "automargin": true,
           "gridcolor": "#EBF0F8",
           "linecolor": "#EBF0F8",
           "ticks": "",
           "title": {
            "standoff": 15
           },
           "zerolinecolor": "#EBF0F8",
           "zerolinewidth": 2
          }
         }
        },
        "title": {
         "text": "ROC for No Sampling Dataset"
        },
        "width": 1000,
        "xaxis": {
         "title": {
          "text": "False Positive Rate"
         }
        },
        "yaxis": {
         "title": {
          "text": "True Positive Rate"
         }
        }
       }
      }
     },
     "metadata": {},
     "output_type": "display_data"
    }
   ],
   "source": [
    "fig = plot_roc_auc('no_sampling', best_model, 'ROC for No Sampling Dataset')\n",
    "fig.show()"
   ]
  },
  {
   "cell_type": "code",
   "execution_count": 184,
   "metadata": {},
   "outputs": [
    {
     "name": "stdout",
     "output_type": "stream",
     "text": [
      "Validation F1 Score: 0.562\n"
     ]
    }
   ],
   "source": [
    "metrics, best_model = evaluate_best_model('no_sampling', study_no_sampling)\n",
    "\n",
    "# print(f\"Validation ROC AUC Score: {roc_auc_valid}\")\n",
    "\n",
    "# print(f\"Test F1 Score: {f1_test}\")\n",
    "# print(f\"Test ROC AUC Score: {roc_auc_test}\")"
   ]
  },
  {
   "cell_type": "code",
   "execution_count": null,
   "metadata": {},
   "outputs": [],
   "source": [
    "print('Validation F1 Score:', round(metrics['valid_f1'], 3))"
   ]
  }
 ],
 "metadata": {
  "ExecuteTimeLog": [
   {
    "duration": 1605,
    "start_time": "2023-05-21T19:46:45.978Z"
   },
   {
    "duration": 35,
    "start_time": "2023-05-21T19:46:52.071Z"
   },
   {
    "duration": 836,
    "start_time": "2023-05-21T19:46:54.792Z"
   },
   {
    "duration": 168,
    "start_time": "2023-05-21T19:48:12.739Z"
   },
   {
    "duration": 73,
    "start_time": "2023-05-21T19:48:16.311Z"
   },
   {
    "duration": 24,
    "start_time": "2023-05-21T19:48:16.386Z"
   },
   {
    "duration": 360,
    "start_time": "2023-05-21T19:48:16.412Z"
   },
   {
    "duration": 6,
    "start_time": "2023-05-21T19:48:16.774Z"
   },
   {
    "duration": 321,
    "start_time": "2023-05-21T19:48:16.781Z"
   },
   {
    "duration": 64,
    "start_time": "2023-05-21T19:48:17.103Z"
   },
   {
    "duration": 12362,
    "start_time": "2023-05-21T19:48:22.972Z"
   },
   {
    "duration": 108,
    "start_time": "2023-05-21T19:48:35.337Z"
   },
   {
    "duration": 1385,
    "start_time": "2023-05-22T18:16:08.557Z"
   },
   {
    "duration": 37,
    "start_time": "2023-05-22T18:16:09.944Z"
   },
   {
    "duration": 865,
    "start_time": "2023-05-22T18:16:09.983Z"
   },
   {
    "duration": 9,
    "start_time": "2023-05-22T18:16:10.849Z"
   },
   {
    "duration": 119,
    "start_time": "2023-05-22T18:16:10.860Z"
   },
   {
    "duration": 0,
    "start_time": "2023-05-22T18:16:10.982Z"
   },
   {
    "duration": 0,
    "start_time": "2023-05-22T18:16:10.984Z"
   },
   {
    "duration": 0,
    "start_time": "2023-05-22T18:16:10.986Z"
   },
   {
    "duration": 0,
    "start_time": "2023-05-22T18:16:10.989Z"
   },
   {
    "duration": 0,
    "start_time": "2023-05-22T18:16:10.990Z"
   },
   {
    "duration": 0,
    "start_time": "2023-05-22T18:16:10.991Z"
   },
   {
    "duration": 0,
    "start_time": "2023-05-22T18:16:10.993Z"
   },
   {
    "duration": 2493,
    "start_time": "2023-05-22T18:16:36.511Z"
   },
   {
    "duration": 2398,
    "start_time": "2023-05-22T18:16:49.695Z"
   },
   {
    "duration": 9,
    "start_time": "2023-05-22T18:18:55.751Z"
   },
   {
    "duration": 9,
    "start_time": "2023-05-22T18:19:30.158Z"
   },
   {
    "duration": 11,
    "start_time": "2023-05-22T18:20:12.910Z"
   },
   {
    "duration": 9,
    "start_time": "2023-05-22T18:20:21.983Z"
   },
   {
    "duration": 77,
    "start_time": "2023-05-22T18:20:32.174Z"
   },
   {
    "duration": 87,
    "start_time": "2023-05-22T18:20:35.022Z"
   },
   {
    "duration": 10,
    "start_time": "2023-05-22T18:20:41.677Z"
   },
   {
    "duration": 11,
    "start_time": "2023-05-22T18:21:11.639Z"
   },
   {
    "duration": 9,
    "start_time": "2023-05-22T18:21:20.782Z"
   },
   {
    "duration": 8,
    "start_time": "2023-05-22T18:23:28.845Z"
   },
   {
    "duration": 13,
    "start_time": "2023-05-22T18:23:42.013Z"
   },
   {
    "duration": 10,
    "start_time": "2023-05-22T18:25:45.151Z"
   },
   {
    "duration": 33,
    "start_time": "2023-05-22T18:29:58.816Z"
   },
   {
    "duration": 45,
    "start_time": "2023-05-22T18:30:04.874Z"
   },
   {
    "duration": 9,
    "start_time": "2023-05-22T18:30:19.373Z"
   },
   {
    "duration": 29,
    "start_time": "2023-05-22T18:30:24.428Z"
   },
   {
    "duration": 9,
    "start_time": "2023-05-22T18:30:28.442Z"
   },
   {
    "duration": 70,
    "start_time": "2023-05-22T18:30:47.915Z"
   },
   {
    "duration": 9,
    "start_time": "2023-05-22T18:30:50.837Z"
   },
   {
    "duration": 11,
    "start_time": "2023-05-22T18:30:54.031Z"
   },
   {
    "duration": 12,
    "start_time": "2023-05-22T18:31:03.340Z"
   },
   {
    "duration": 9,
    "start_time": "2023-05-22T18:31:06.987Z"
   },
   {
    "duration": 9,
    "start_time": "2023-05-22T18:31:08.197Z"
   },
   {
    "duration": 26,
    "start_time": "2023-05-22T18:31:09.340Z"
   },
   {
    "duration": 179,
    "start_time": "2023-05-22T18:31:26.445Z"
   },
   {
    "duration": 1293,
    "start_time": "2023-05-22T18:31:50.893Z"
   },
   {
    "duration": 17,
    "start_time": "2023-05-22T18:31:52.188Z"
   },
   {
    "duration": 25,
    "start_time": "2023-05-22T18:31:52.207Z"
   },
   {
    "duration": 27,
    "start_time": "2023-05-22T18:31:52.234Z"
   },
   {
    "duration": 773,
    "start_time": "2023-05-22T18:31:52.263Z"
   },
   {
    "duration": 9,
    "start_time": "2023-05-22T18:31:53.037Z"
   },
   {
    "duration": 2404,
    "start_time": "2023-05-22T18:31:53.048Z"
   },
   {
    "duration": 184,
    "start_time": "2023-05-22T18:31:55.453Z"
   },
   {
    "duration": 0,
    "start_time": "2023-05-22T18:31:55.638Z"
   },
   {
    "duration": 0,
    "start_time": "2023-05-22T18:31:55.640Z"
   },
   {
    "duration": 0,
    "start_time": "2023-05-22T18:31:55.640Z"
   },
   {
    "duration": 0,
    "start_time": "2023-05-22T18:31:55.642Z"
   },
   {
    "duration": 0,
    "start_time": "2023-05-22T18:31:55.643Z"
   },
   {
    "duration": 0,
    "start_time": "2023-05-22T18:31:55.644Z"
   },
   {
    "duration": 13,
    "start_time": "2023-05-22T18:34:11.456Z"
   },
   {
    "duration": 25,
    "start_time": "2023-05-22T18:34:14.034Z"
   },
   {
    "duration": 2245,
    "start_time": "2023-05-22T18:34:26.018Z"
   },
   {
    "duration": 638,
    "start_time": "2023-05-22T18:34:37.931Z"
   },
   {
    "duration": 628,
    "start_time": "2023-05-22T18:34:58.575Z"
   },
   {
    "duration": 46,
    "start_time": "2023-05-22T18:35:11.934Z"
   },
   {
    "duration": 2240,
    "start_time": "2023-05-22T18:35:58.893Z"
   },
   {
    "duration": 46,
    "start_time": "2023-05-22T18:36:10.737Z"
   },
   {
    "duration": 35006,
    "start_time": "2023-05-22T18:43:11.984Z"
   },
   {
    "duration": 72,
    "start_time": "2023-05-22T18:44:58.325Z"
   },
   {
    "duration": 60,
    "start_time": "2023-05-22T18:45:29.078Z"
   },
   {
    "duration": 110,
    "start_time": "2023-05-22T18:46:32.716Z"
   },
   {
    "duration": 17,
    "start_time": "2023-05-22T18:48:06.773Z"
   },
   {
    "duration": 29,
    "start_time": "2023-05-22T18:48:19.134Z"
   },
   {
    "duration": 1344,
    "start_time": "2023-05-22T18:48:49.944Z"
   },
   {
    "duration": 22,
    "start_time": "2023-05-22T18:48:51.291Z"
   },
   {
    "duration": 16,
    "start_time": "2023-05-22T18:48:51.315Z"
   },
   {
    "duration": 26,
    "start_time": "2023-05-22T18:48:51.333Z"
   },
   {
    "duration": 711,
    "start_time": "2023-05-22T18:48:51.362Z"
   },
   {
    "duration": 9,
    "start_time": "2023-05-22T18:48:52.074Z"
   },
   {
    "duration": 2355,
    "start_time": "2023-05-22T18:48:52.085Z"
   },
   {
    "duration": 46,
    "start_time": "2023-05-22T18:48:54.442Z"
   },
   {
    "duration": 200,
    "start_time": "2023-05-22T18:48:54.489Z"
   },
   {
    "duration": 0,
    "start_time": "2023-05-22T18:48:54.691Z"
   },
   {
    "duration": 0,
    "start_time": "2023-05-22T18:48:54.693Z"
   },
   {
    "duration": 0,
    "start_time": "2023-05-22T18:48:54.694Z"
   },
   {
    "duration": 0,
    "start_time": "2023-05-22T18:48:54.695Z"
   },
   {
    "duration": 0,
    "start_time": "2023-05-22T18:48:54.696Z"
   },
   {
    "duration": 35180,
    "start_time": "2023-05-22T18:49:14.678Z"
   },
   {
    "duration": 29,
    "start_time": "2023-05-22T18:51:33.684Z"
   },
   {
    "duration": 36161,
    "start_time": "2023-05-22T18:59:42.601Z"
   },
   {
    "duration": 29,
    "start_time": "2023-05-22T19:00:25.095Z"
   },
   {
    "duration": 1322,
    "start_time": "2023-05-22T19:00:47.296Z"
   },
   {
    "duration": 1470,
    "start_time": "2023-05-22T19:01:46.489Z"
   },
   {
    "duration": 25,
    "start_time": "2023-05-22T19:02:02.352Z"
   },
   {
    "duration": 25,
    "start_time": "2023-05-22T19:02:11.960Z"
   },
   {
    "duration": 1220,
    "start_time": "2023-05-22T19:02:35.260Z"
   },
   {
    "duration": 6,
    "start_time": "2023-05-22T19:02:45.317Z"
   },
   {
    "duration": 13,
    "start_time": "2023-05-22T19:02:50.617Z"
   },
   {
    "duration": 13,
    "start_time": "2023-05-22T19:02:53.456Z"
   },
   {
    "duration": 30,
    "start_time": "2023-05-22T19:02:57.872Z"
   },
   {
    "duration": 1464,
    "start_time": "2023-05-22T19:03:02.297Z"
   },
   {
    "duration": 14,
    "start_time": "2023-05-22T19:03:10.960Z"
   },
   {
    "duration": 17,
    "start_time": "2023-05-22T19:03:28.776Z"
   },
   {
    "duration": 22,
    "start_time": "2023-05-22T19:03:33.560Z"
   },
   {
    "duration": 118,
    "start_time": "2023-05-22T19:03:46.106Z"
   },
   {
    "duration": 194,
    "start_time": "2023-05-22T19:05:43.456Z"
   },
   {
    "duration": 223,
    "start_time": "2023-05-22T19:06:06.752Z"
   },
   {
    "duration": 4,
    "start_time": "2023-05-22T19:06:09.856Z"
   },
   {
    "duration": 13,
    "start_time": "2023-05-22T19:08:23.155Z"
   },
   {
    "duration": 48,
    "start_time": "2023-05-22T19:08:27.164Z"
   },
   {
    "duration": 206,
    "start_time": "2023-05-22T19:08:48.168Z"
   },
   {
    "duration": 21,
    "start_time": "2023-05-22T19:08:51.352Z"
   },
   {
    "duration": 50,
    "start_time": "2023-05-22T19:09:09.387Z"
   },
   {
    "duration": 79,
    "start_time": "2023-05-22T19:11:42.417Z"
   },
   {
    "duration": 42,
    "start_time": "2023-05-22T19:11:44.002Z"
   },
   {
    "duration": 98,
    "start_time": "2023-05-22T19:11:52.163Z"
   },
   {
    "duration": 42,
    "start_time": "2023-05-22T19:11:53.777Z"
   },
   {
    "duration": 122,
    "start_time": "2023-05-22T19:12:02.124Z"
   },
   {
    "duration": 43,
    "start_time": "2023-05-22T19:12:03.660Z"
   },
   {
    "duration": 134,
    "start_time": "2023-05-22T19:12:12.560Z"
   },
   {
    "duration": 49,
    "start_time": "2023-05-22T19:12:13.873Z"
   },
   {
    "duration": 155,
    "start_time": "2023-05-22T19:12:23.064Z"
   },
   {
    "duration": 48,
    "start_time": "2023-05-22T19:12:25.472Z"
   },
   {
    "duration": 204,
    "start_time": "2023-05-22T19:12:41.581Z"
   },
   {
    "duration": 55,
    "start_time": "2023-05-22T19:12:43.242Z"
   },
   {
    "duration": 2488,
    "start_time": "2023-05-22T19:12:51.360Z"
   },
   {
    "duration": 41,
    "start_time": "2023-05-22T19:12:54.281Z"
   },
   {
    "duration": 12,
    "start_time": "2023-05-22T19:13:13.504Z"
   },
   {
    "duration": 131,
    "start_time": "2023-05-22T19:13:36.504Z"
   },
   {
    "duration": 46,
    "start_time": "2023-05-22T19:13:38.017Z"
   },
   {
    "duration": 15,
    "start_time": "2023-05-22T19:14:18.176Z"
   },
   {
    "duration": 6,
    "start_time": "2023-05-22T19:14:23.481Z"
   },
   {
    "duration": 12,
    "start_time": "2023-05-22T19:14:25.159Z"
   },
   {
    "duration": 22,
    "start_time": "2023-05-22T19:14:26.767Z"
   },
   {
    "duration": 68,
    "start_time": "2023-05-22T19:14:31.816Z"
   },
   {
    "duration": 49,
    "start_time": "2023-05-22T19:14:40.818Z"
   }
  ],
  "kernelspec": {
   "display_name": "Python 3 (ipykernel)",
   "language": "python",
   "name": "python3"
  },
  "language_info": {
   "codemirror_mode": {
    "name": "ipython",
    "version": 3
   },
   "file_extension": ".py",
   "mimetype": "text/x-python",
   "name": "python",
   "nbconvert_exporter": "python",
   "pygments_lexer": "ipython3",
   "version": "3.9.7"
  },
  "toc": {
   "base_numbering": 1,
   "nav_menu": {},
   "number_sections": true,
   "sideBar": true,
   "skip_h1_title": true,
   "title_cell": "Table of Contents",
   "title_sidebar": "Contents",
   "toc_cell": false,
   "toc_position": {},
   "toc_section_display": true,
   "toc_window_display": false
  },
  "vscode": {
   "interpreter": {
    "hash": "95633e14b7ea774968f538ab8687a60d358136f4a990a7903a22cc539dc1dcdb"
   }
  }
 },
 "nbformat": 4,
 "nbformat_minor": 2
}
