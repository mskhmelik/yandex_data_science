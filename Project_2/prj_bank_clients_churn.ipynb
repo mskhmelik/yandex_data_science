{
 "cells": [
  {
   "attachments": {},
   "cell_type": "markdown",
   "metadata": {},
   "source": [
    "# Отток клиентов банка\n",
    "\n",
    "**Описание проекта**\n",
    "\n",
    "Из «Бета-Банка» стали уходить клиенты. Каждый месяц. Немного, но заметно. Банковские маркетологи посчитали: сохранять текущих клиентов дешевле, чем привлекать новых.\n",
    "\n",
    "Нужно спрогнозировать, уйдёт клиент из банка в ближайшее время или нет. Вам предоставлены исторические данные о поведении клиентов и расторжении договоров с банком. \n",
    "\n",
    "Постройте модель с предельно большим значением F1-меры. Чтобы сдать проект успешно, нужно довести метрику до 0.59. Проверьте F1-меру на тестовой выборке самостоятельно.\n",
    "\n",
    "Дополнительно измеряйте AUC-ROC, сравнивайте её значение с F1-мерой.\n",
    "\n",
    "План работы:\n",
    "\n",
    "1. Загрузите и подготовьте данные.\n",
    "2. Исследуйте баланс классов, обучите модель без учёта дисбаланса.\n",
    "3. Улучшите качество модели, учитывая дисбаланс классов. Обучите разные модели и найдите лучшую.\n",
    "4. Проведите финальное тестирование.\n",
    "\n",
    "**Описание данных**\n",
    "\n",
    "Признаки\n",
    "\n",
    "1. `RowNumber` — индекс строки в данных\n",
    "2. `CustomerId` — уникальный идентификатор клиента\n",
    "3. `Surname` — фамилия\n",
    "4. `CreditScore` — кредитный рейтинг\n",
    "5. `Geography` — страна проживания\n",
    "6. `Gender` — пол\n",
    "7. `Age` — возраст\n",
    "8. `Tenure` — сколько лет человек является клиентом банка\n",
    "9. `Balance` — баланс на счёте\n",
    "10. `NumOfProducts` — количество продуктов банка, используемых клиентом\n",
    "11. `HasCrCard` — наличие кредитной карты\n",
    "12. `IsActiveMember` — активность клиента\n",
    "13. `EstimatedSalary` — предполагаемая зарплата\n",
    "\n",
    "Целевой признак\n",
    "\n",
    "1. `Exited` — факт ухода клиента"
   ]
  },
  {
   "cell_type": "code",
   "execution_count": 25,
   "metadata": {},
   "outputs": [],
   "source": [
    "import pandas as pd\n",
    "import optuna\n",
    "import plotly.graph_objects as go\n",
    "\n",
    "from caseconverter import snakecase\n",
    "from ydata_profiling import ProfileReport\n",
    "from IPython.display import display\n",
    "\n",
    "from fast_ml import eda\n",
    "\n",
    "from sklearn.model_selection import train_test_split\n",
    "from sklearn.utils import resample\n",
    "\n",
    "from sklearn.pipeline import Pipeline\n",
    "from sklearn.compose import ColumnTransformer\n",
    "from sklearn.impute import SimpleImputer\n",
    "from sklearn.preprocessing import StandardScaler, OneHotEncoder\n",
    "\n",
    "from sklearn.tree import DecisionTreeClassifier\n",
    "from sklearn.linear_model import LogisticRegression\n",
    "from sklearn.ensemble import RandomForestClassifier\n",
    "from sklearn.dummy import DummyClassifier\n",
    "\n",
    "from sklearn.metrics import (\n",
    "    accuracy_score, f1_score, auc, roc_curve, roc_auc_score\n",
    ")"
   ]
  },
  {
   "cell_type": "code",
   "execution_count": 26,
   "metadata": {},
   "outputs": [],
   "source": [
    "FIG_WIDTH = 10 * 100\n",
    "FIG_HEIGHT = 5 * 100\n",
    "RANDOM_SEED = 42"
   ]
  },
  {
   "cell_type": "code",
   "execution_count": 27,
   "metadata": {},
   "outputs": [],
   "source": [
    "try:\n",
    "    raw_users = pd.read_csv('Churn.csv')\n",
    "except:\n",
    "    raw_users = pd.read_csv('/datasets/Churn.csv')"
   ]
  },
  {
   "attachments": {},
   "cell_type": "markdown",
   "metadata": {},
   "source": [
    "## Исследовательский анализ данных\n",
    "\n",
    "Изучим основные зависимости в данных перед тем, как мы будем использовать их в алгоритмах машинного обучения.\n",
    "\n",
    "Таблица-резюме:"
   ]
  },
  {
   "cell_type": "code",
   "execution_count": 28,
   "metadata": {},
   "outputs": [
    {
     "data": {
      "text/html": [
       "<div>\n",
       "<style scoped>\n",
       "    .dataframe tbody tr th:only-of-type {\n",
       "        vertical-align: middle;\n",
       "    }\n",
       "\n",
       "    .dataframe tbody tr th {\n",
       "        vertical-align: top;\n",
       "    }\n",
       "\n",
       "    .dataframe thead th {\n",
       "        text-align: right;\n",
       "    }\n",
       "</style>\n",
       "<table border=\"1\" class=\"dataframe\">\n",
       "  <thead>\n",
       "    <tr style=\"text-align: right;\">\n",
       "      <th></th>\n",
       "      <th>data_type</th>\n",
       "      <th>data_type_grp</th>\n",
       "      <th>num_unique_values</th>\n",
       "      <th>sample_unique_values</th>\n",
       "      <th>num_missing</th>\n",
       "      <th>perc_missing</th>\n",
       "    </tr>\n",
       "  </thead>\n",
       "  <tbody>\n",
       "    <tr>\n",
       "      <th>RowNumber</th>\n",
       "      <td>int64</td>\n",
       "      <td>Numerical</td>\n",
       "      <td>10000</td>\n",
       "      <td>[1, 2, 3, 4, 5, 6, 7, 8, 9, 10]</td>\n",
       "      <td>0</td>\n",
       "      <td>0.0</td>\n",
       "    </tr>\n",
       "    <tr>\n",
       "      <th>CustomerId</th>\n",
       "      <td>int64</td>\n",
       "      <td>Numerical</td>\n",
       "      <td>10000</td>\n",
       "      <td>[15634602, 15647311, 15619304, 15701354, 15737...</td>\n",
       "      <td>0</td>\n",
       "      <td>0.0</td>\n",
       "    </tr>\n",
       "    <tr>\n",
       "      <th>Surname</th>\n",
       "      <td>object</td>\n",
       "      <td>Categorical</td>\n",
       "      <td>2932</td>\n",
       "      <td>[Hargrave, Hill, Onio, Boni, Mitchell, Chu, Ba...</td>\n",
       "      <td>0</td>\n",
       "      <td>0.0</td>\n",
       "    </tr>\n",
       "    <tr>\n",
       "      <th>CreditScore</th>\n",
       "      <td>int64</td>\n",
       "      <td>Numerical</td>\n",
       "      <td>460</td>\n",
       "      <td>[619, 608, 502, 699, 850, 645, 822, 376, 501, ...</td>\n",
       "      <td>0</td>\n",
       "      <td>0.0</td>\n",
       "    </tr>\n",
       "    <tr>\n",
       "      <th>Geography</th>\n",
       "      <td>object</td>\n",
       "      <td>Categorical</td>\n",
       "      <td>3</td>\n",
       "      <td>[France, Spain, Germany]</td>\n",
       "      <td>0</td>\n",
       "      <td>0.0</td>\n",
       "    </tr>\n",
       "    <tr>\n",
       "      <th>Gender</th>\n",
       "      <td>object</td>\n",
       "      <td>Categorical</td>\n",
       "      <td>2</td>\n",
       "      <td>[Female, Male]</td>\n",
       "      <td>0</td>\n",
       "      <td>0.0</td>\n",
       "    </tr>\n",
       "    <tr>\n",
       "      <th>Age</th>\n",
       "      <td>int64</td>\n",
       "      <td>Numerical</td>\n",
       "      <td>70</td>\n",
       "      <td>[42, 41, 39, 43, 44, 50, 29, 27, 31, 24]</td>\n",
       "      <td>0</td>\n",
       "      <td>0.0</td>\n",
       "    </tr>\n",
       "    <tr>\n",
       "      <th>Tenure</th>\n",
       "      <td>float64</td>\n",
       "      <td>Numerical</td>\n",
       "      <td>11</td>\n",
       "      <td>[2.0, 1.0, 8.0, 7.0, 4.0, 6.0, 3.0, 10.0, 5.0,...</td>\n",
       "      <td>909</td>\n",
       "      <td>9.09</td>\n",
       "    </tr>\n",
       "    <tr>\n",
       "      <th>Balance</th>\n",
       "      <td>float64</td>\n",
       "      <td>Numerical</td>\n",
       "      <td>6382</td>\n",
       "      <td>[0.0, 83807.86, 159660.8, 125510.82, 113755.78...</td>\n",
       "      <td>0</td>\n",
       "      <td>0.0</td>\n",
       "    </tr>\n",
       "    <tr>\n",
       "      <th>NumOfProducts</th>\n",
       "      <td>int64</td>\n",
       "      <td>Numerical</td>\n",
       "      <td>4</td>\n",
       "      <td>[1, 3, 2, 4]</td>\n",
       "      <td>0</td>\n",
       "      <td>0.0</td>\n",
       "    </tr>\n",
       "    <tr>\n",
       "      <th>HasCrCard</th>\n",
       "      <td>int64</td>\n",
       "      <td>Numerical</td>\n",
       "      <td>2</td>\n",
       "      <td>[1, 0]</td>\n",
       "      <td>0</td>\n",
       "      <td>0.0</td>\n",
       "    </tr>\n",
       "    <tr>\n",
       "      <th>IsActiveMember</th>\n",
       "      <td>int64</td>\n",
       "      <td>Numerical</td>\n",
       "      <td>2</td>\n",
       "      <td>[1, 0]</td>\n",
       "      <td>0</td>\n",
       "      <td>0.0</td>\n",
       "    </tr>\n",
       "    <tr>\n",
       "      <th>EstimatedSalary</th>\n",
       "      <td>float64</td>\n",
       "      <td>Numerical</td>\n",
       "      <td>9999</td>\n",
       "      <td>[101348.88, 112542.58, 113931.57, 93826.63, 79...</td>\n",
       "      <td>0</td>\n",
       "      <td>0.0</td>\n",
       "    </tr>\n",
       "    <tr>\n",
       "      <th>Exited</th>\n",
       "      <td>int64</td>\n",
       "      <td>Numerical</td>\n",
       "      <td>2</td>\n",
       "      <td>[1, 0]</td>\n",
       "      <td>0</td>\n",
       "      <td>0.0</td>\n",
       "    </tr>\n",
       "  </tbody>\n",
       "</table>\n",
       "</div>"
      ],
      "text/plain": [
       "                data_type data_type_grp num_unique_values  \\\n",
       "RowNumber           int64     Numerical             10000   \n",
       "CustomerId          int64     Numerical             10000   \n",
       "Surname            object   Categorical              2932   \n",
       "CreditScore         int64     Numerical               460   \n",
       "Geography          object   Categorical                 3   \n",
       "Gender             object   Categorical                 2   \n",
       "Age                 int64     Numerical                70   \n",
       "Tenure            float64     Numerical                11   \n",
       "Balance           float64     Numerical              6382   \n",
       "NumOfProducts       int64     Numerical                 4   \n",
       "HasCrCard           int64     Numerical                 2   \n",
       "IsActiveMember      int64     Numerical                 2   \n",
       "EstimatedSalary   float64     Numerical              9999   \n",
       "Exited              int64     Numerical                 2   \n",
       "\n",
       "                                              sample_unique_values  \\\n",
       "RowNumber                          [1, 2, 3, 4, 5, 6, 7, 8, 9, 10]   \n",
       "CustomerId       [15634602, 15647311, 15619304, 15701354, 15737...   \n",
       "Surname          [Hargrave, Hill, Onio, Boni, Mitchell, Chu, Ba...   \n",
       "CreditScore      [619, 608, 502, 699, 850, 645, 822, 376, 501, ...   \n",
       "Geography                                 [France, Spain, Germany]   \n",
       "Gender                                              [Female, Male]   \n",
       "Age                       [42, 41, 39, 43, 44, 50, 29, 27, 31, 24]   \n",
       "Tenure           [2.0, 1.0, 8.0, 7.0, 4.0, 6.0, 3.0, 10.0, 5.0,...   \n",
       "Balance          [0.0, 83807.86, 159660.8, 125510.82, 113755.78...   \n",
       "NumOfProducts                                         [1, 3, 2, 4]   \n",
       "HasCrCard                                                   [1, 0]   \n",
       "IsActiveMember                                              [1, 0]   \n",
       "EstimatedSalary  [101348.88, 112542.58, 113931.57, 93826.63, 79...   \n",
       "Exited                                                      [1, 0]   \n",
       "\n",
       "                num_missing perc_missing  \n",
       "RowNumber                 0          0.0  \n",
       "CustomerId                0          0.0  \n",
       "Surname                   0          0.0  \n",
       "CreditScore               0          0.0  \n",
       "Geography                 0          0.0  \n",
       "Gender                    0          0.0  \n",
       "Age                       0          0.0  \n",
       "Tenure                  909         9.09  \n",
       "Balance                   0          0.0  \n",
       "NumOfProducts             0          0.0  \n",
       "HasCrCard                 0          0.0  \n",
       "IsActiveMember            0          0.0  \n",
       "EstimatedSalary           0          0.0  \n",
       "Exited                    0          0.0  "
      ]
     },
     "metadata": {},
     "output_type": "display_data"
    }
   ],
   "source": [
    "display(eda.df_info(raw_users))"
   ]
  },
  {
   "attachments": {},
   "cell_type": "markdown",
   "metadata": {},
   "source": [
    "Числовые распределения:"
   ]
  },
  {
   "cell_type": "code",
   "execution_count": 29,
   "metadata": {},
   "outputs": [
    {
     "data": {
      "text/html": [
       "<div>\n",
       "<style scoped>\n",
       "    .dataframe tbody tr th:only-of-type {\n",
       "        vertical-align: middle;\n",
       "    }\n",
       "\n",
       "    .dataframe tbody tr th {\n",
       "        vertical-align: top;\n",
       "    }\n",
       "\n",
       "    .dataframe thead th {\n",
       "        text-align: right;\n",
       "    }\n",
       "</style>\n",
       "<table border=\"1\" class=\"dataframe\">\n",
       "  <thead>\n",
       "    <tr style=\"text-align: right;\">\n",
       "      <th></th>\n",
       "      <th>count</th>\n",
       "      <th>mean</th>\n",
       "      <th>std</th>\n",
       "      <th>min</th>\n",
       "      <th>25%</th>\n",
       "      <th>50%</th>\n",
       "      <th>75%</th>\n",
       "      <th>max</th>\n",
       "    </tr>\n",
       "  </thead>\n",
       "  <tbody>\n",
       "    <tr>\n",
       "      <th>RowNumber</th>\n",
       "      <td>10000.0</td>\n",
       "      <td>5000.50</td>\n",
       "      <td>2886.90</td>\n",
       "      <td>1.00</td>\n",
       "      <td>2500.75</td>\n",
       "      <td>5000.50</td>\n",
       "      <td>7500.25</td>\n",
       "      <td>10000.00</td>\n",
       "    </tr>\n",
       "    <tr>\n",
       "      <th>CustomerId</th>\n",
       "      <td>10000.0</td>\n",
       "      <td>15690940.57</td>\n",
       "      <td>71936.19</td>\n",
       "      <td>15565701.00</td>\n",
       "      <td>15628528.25</td>\n",
       "      <td>15690738.00</td>\n",
       "      <td>15753233.75</td>\n",
       "      <td>15815690.00</td>\n",
       "    </tr>\n",
       "    <tr>\n",
       "      <th>CreditScore</th>\n",
       "      <td>10000.0</td>\n",
       "      <td>650.53</td>\n",
       "      <td>96.65</td>\n",
       "      <td>350.00</td>\n",
       "      <td>584.00</td>\n",
       "      <td>652.00</td>\n",
       "      <td>718.00</td>\n",
       "      <td>850.00</td>\n",
       "    </tr>\n",
       "    <tr>\n",
       "      <th>Age</th>\n",
       "      <td>10000.0</td>\n",
       "      <td>38.92</td>\n",
       "      <td>10.49</td>\n",
       "      <td>18.00</td>\n",
       "      <td>32.00</td>\n",
       "      <td>37.00</td>\n",
       "      <td>44.00</td>\n",
       "      <td>92.00</td>\n",
       "    </tr>\n",
       "    <tr>\n",
       "      <th>Tenure</th>\n",
       "      <td>9091.0</td>\n",
       "      <td>5.00</td>\n",
       "      <td>2.89</td>\n",
       "      <td>0.00</td>\n",
       "      <td>2.00</td>\n",
       "      <td>5.00</td>\n",
       "      <td>7.00</td>\n",
       "      <td>10.00</td>\n",
       "    </tr>\n",
       "    <tr>\n",
       "      <th>Balance</th>\n",
       "      <td>10000.0</td>\n",
       "      <td>76485.89</td>\n",
       "      <td>62397.41</td>\n",
       "      <td>0.00</td>\n",
       "      <td>0.00</td>\n",
       "      <td>97198.54</td>\n",
       "      <td>127644.24</td>\n",
       "      <td>250898.09</td>\n",
       "    </tr>\n",
       "    <tr>\n",
       "      <th>NumOfProducts</th>\n",
       "      <td>10000.0</td>\n",
       "      <td>1.53</td>\n",
       "      <td>0.58</td>\n",
       "      <td>1.00</td>\n",
       "      <td>1.00</td>\n",
       "      <td>1.00</td>\n",
       "      <td>2.00</td>\n",
       "      <td>4.00</td>\n",
       "    </tr>\n",
       "    <tr>\n",
       "      <th>HasCrCard</th>\n",
       "      <td>10000.0</td>\n",
       "      <td>0.71</td>\n",
       "      <td>0.46</td>\n",
       "      <td>0.00</td>\n",
       "      <td>0.00</td>\n",
       "      <td>1.00</td>\n",
       "      <td>1.00</td>\n",
       "      <td>1.00</td>\n",
       "    </tr>\n",
       "    <tr>\n",
       "      <th>IsActiveMember</th>\n",
       "      <td>10000.0</td>\n",
       "      <td>0.52</td>\n",
       "      <td>0.50</td>\n",
       "      <td>0.00</td>\n",
       "      <td>0.00</td>\n",
       "      <td>1.00</td>\n",
       "      <td>1.00</td>\n",
       "      <td>1.00</td>\n",
       "    </tr>\n",
       "    <tr>\n",
       "      <th>EstimatedSalary</th>\n",
       "      <td>10000.0</td>\n",
       "      <td>100090.24</td>\n",
       "      <td>57510.49</td>\n",
       "      <td>11.58</td>\n",
       "      <td>51002.11</td>\n",
       "      <td>100193.92</td>\n",
       "      <td>149388.25</td>\n",
       "      <td>199992.48</td>\n",
       "    </tr>\n",
       "    <tr>\n",
       "      <th>Exited</th>\n",
       "      <td>10000.0</td>\n",
       "      <td>0.20</td>\n",
       "      <td>0.40</td>\n",
       "      <td>0.00</td>\n",
       "      <td>0.00</td>\n",
       "      <td>0.00</td>\n",
       "      <td>0.00</td>\n",
       "      <td>1.00</td>\n",
       "    </tr>\n",
       "  </tbody>\n",
       "</table>\n",
       "</div>"
      ],
      "text/plain": [
       "                   count         mean       std          min          25%  \\\n",
       "RowNumber        10000.0      5000.50   2886.90         1.00      2500.75   \n",
       "CustomerId       10000.0  15690940.57  71936.19  15565701.00  15628528.25   \n",
       "CreditScore      10000.0       650.53     96.65       350.00       584.00   \n",
       "Age              10000.0        38.92     10.49        18.00        32.00   \n",
       "Tenure            9091.0         5.00      2.89         0.00         2.00   \n",
       "Balance          10000.0     76485.89  62397.41         0.00         0.00   \n",
       "NumOfProducts    10000.0         1.53      0.58         1.00         1.00   \n",
       "HasCrCard        10000.0         0.71      0.46         0.00         0.00   \n",
       "IsActiveMember   10000.0         0.52      0.50         0.00         0.00   \n",
       "EstimatedSalary  10000.0    100090.24  57510.49        11.58     51002.11   \n",
       "Exited           10000.0         0.20      0.40         0.00         0.00   \n",
       "\n",
       "                         50%          75%          max  \n",
       "RowNumber            5000.50      7500.25     10000.00  \n",
       "CustomerId       15690738.00  15753233.75  15815690.00  \n",
       "CreditScore           652.00       718.00       850.00  \n",
       "Age                    37.00        44.00        92.00  \n",
       "Tenure                  5.00         7.00        10.00  \n",
       "Balance             97198.54    127644.24    250898.09  \n",
       "NumOfProducts           1.00         2.00         4.00  \n",
       "HasCrCard               1.00         1.00         1.00  \n",
       "IsActiveMember          1.00         1.00         1.00  \n",
       "EstimatedSalary    100193.92    149388.25    199992.48  \n",
       "Exited                  0.00         0.00         1.00  "
      ]
     },
     "metadata": {},
     "output_type": "display_data"
    }
   ],
   "source": [
    "display(round(raw_users.describe().T, 2))"
   ]
  },
  {
   "attachments": {},
   "cell_type": "markdown",
   "metadata": {},
   "source": [
    "И детальный отчет:"
   ]
  },
  {
   "cell_type": "code",
   "execution_count": 30,
   "metadata": {},
   "outputs": [
    {
     "name": "stderr",
     "output_type": "stream",
     "text": [
      "Summarize dataset: 100%|██████████| 72/72 [00:05<00:00, 13.64it/s, Completed]                               \n",
      "Generate report structure: 100%|██████████| 1/1 [00:02<00:00,  2.65s/it]\n",
      "Render widgets:   0%|          | 0/1 [00:00<?, ?it/s]"
     ]
    },
    {
     "name": "stderr",
     "output_type": "stream",
     "text": [
      "                                                             \r"
     ]
    },
    {
     "data": {
      "application/vnd.jupyter.widget-view+json": {
       "model_id": "e74d6858c1f1426d9510fd8c38434d52",
       "version_major": 2,
       "version_minor": 0
      },
      "text/plain": [
       "VBox(children=(Tab(children=(Tab(children=(GridBox(children=(VBox(children=(GridspecLayout(children=(HTML(valu…"
      ]
     },
     "metadata": {},
     "output_type": "display_data"
    }
   ],
   "source": [
    "ProfileReport(raw_users).to_widgets()"
   ]
  },
  {
   "attachments": {},
   "cell_type": "markdown",
   "metadata": {},
   "source": [
    "Ключевые наблюдения из предварительного анализа набора данных:\n",
    "\n",
    "1. **Демографические данные клиентов**: Набор данных содержит информацию о 10 000 клиентах с различными характеристиками. Средний возраст клиентов составляет 39 лет, с разбросом от 18 до 92 лет. В наборе данных представлены клиенты из трех стран: Франции, Испании и Германии. Кроме того, присутствует почти равномерное распределение мужчин и женщин.\n",
    "\n",
    "2. **Финансовые показатели**: Набор данных включает финансовые метрики, такие как кредитные баллы, балансы счетов, количество продуктов и зарплаты. Средний кредитный балл составляет 651, что указывает на относительно хорошую кредитоспособность. Средний баланс счета составляет 76К долларов, с широким диапазоном значений. Клиенты имеют в среднем 1,53 продукта в банке, а зарплаты варьируются от 11 до 200К долларов.\n",
    "\n",
    "3. **Отток и вовлеченность**: Около 20% клиентов в наборе данных покинули или прекратили использовать услуги банка. Приблизительно 52% клиентов являются активными участниками, что указывает на умеренный уровень вовлеченности. Средняя продолжительность работы с клиентом составляет 5 лет, хотя в этой колонке есть пропущенных значений для некоторых записей.\n",
    "\n",
    "4. **Целевой признак**: У нас сть дисбаланс классов в целевом признаке `exited` - около 8К записей оставшихся пользователей и только 2К записей пользователей, которые перестали быть пользователями нашего банка. Это надо будет выровнять, чтобы избежать model bias."
   ]
  },
  {
   "attachments": {},
   "cell_type": "markdown",
   "metadata": {},
   "source": [
    "# Подготовка данных для ML\n",
    "\n",
    "Выполним эти преобразования на полном датасете:\n",
    "\n",
    "1. Уберем колонки, которые не нужны для моделей: `RowNumber`, `CustomerId`, `Surname`.\n",
    "2. Переведем колонку `gender` в бинарную: `1` - для мужчин и `0` - для женщин.\n",
    "3. Названия колонок приведем `snake_case` регистру\n",
    "\n",
    "И остальные после разделения на выборки, чтобы избежать data leakage:\n",
    "\n",
    "1. Заполним пропуски в `tenure`.\n",
    "2. Проведем `upsampling`.\n",
    "3. Проведем стандартизацию численных признаков.\n",
    "4. Проведем кодирование категориальных признаков. "
   ]
  },
  {
   "cell_type": "code",
   "execution_count": 31,
   "metadata": {},
   "outputs": [
    {
     "data": {
      "text/html": [
       "<div>\n",
       "<style scoped>\n",
       "    .dataframe tbody tr th:only-of-type {\n",
       "        vertical-align: middle;\n",
       "    }\n",
       "\n",
       "    .dataframe tbody tr th {\n",
       "        vertical-align: top;\n",
       "    }\n",
       "\n",
       "    .dataframe thead th {\n",
       "        text-align: right;\n",
       "    }\n",
       "</style>\n",
       "<table border=\"1\" class=\"dataframe\">\n",
       "  <thead>\n",
       "    <tr style=\"text-align: right;\">\n",
       "      <th></th>\n",
       "      <th>credit_score</th>\n",
       "      <th>geography</th>\n",
       "      <th>gender</th>\n",
       "      <th>age</th>\n",
       "      <th>tenure</th>\n",
       "      <th>balance</th>\n",
       "      <th>num_of_products</th>\n",
       "      <th>has_cr_card</th>\n",
       "      <th>is_active_member</th>\n",
       "      <th>estimated_salary</th>\n",
       "      <th>exited</th>\n",
       "    </tr>\n",
       "  </thead>\n",
       "  <tbody>\n",
       "    <tr>\n",
       "      <th>0</th>\n",
       "      <td>619</td>\n",
       "      <td>france</td>\n",
       "      <td>0</td>\n",
       "      <td>42</td>\n",
       "      <td>2.0</td>\n",
       "      <td>0.00</td>\n",
       "      <td>1</td>\n",
       "      <td>1</td>\n",
       "      <td>1</td>\n",
       "      <td>101348.88</td>\n",
       "      <td>1</td>\n",
       "    </tr>\n",
       "    <tr>\n",
       "      <th>1</th>\n",
       "      <td>608</td>\n",
       "      <td>spain</td>\n",
       "      <td>0</td>\n",
       "      <td>41</td>\n",
       "      <td>1.0</td>\n",
       "      <td>83807.86</td>\n",
       "      <td>1</td>\n",
       "      <td>0</td>\n",
       "      <td>1</td>\n",
       "      <td>112542.58</td>\n",
       "      <td>0</td>\n",
       "    </tr>\n",
       "    <tr>\n",
       "      <th>2</th>\n",
       "      <td>502</td>\n",
       "      <td>france</td>\n",
       "      <td>0</td>\n",
       "      <td>42</td>\n",
       "      <td>8.0</td>\n",
       "      <td>159660.80</td>\n",
       "      <td>3</td>\n",
       "      <td>1</td>\n",
       "      <td>0</td>\n",
       "      <td>113931.57</td>\n",
       "      <td>1</td>\n",
       "    </tr>\n",
       "    <tr>\n",
       "      <th>3</th>\n",
       "      <td>699</td>\n",
       "      <td>france</td>\n",
       "      <td>0</td>\n",
       "      <td>39</td>\n",
       "      <td>1.0</td>\n",
       "      <td>0.00</td>\n",
       "      <td>2</td>\n",
       "      <td>0</td>\n",
       "      <td>0</td>\n",
       "      <td>93826.63</td>\n",
       "      <td>0</td>\n",
       "    </tr>\n",
       "    <tr>\n",
       "      <th>4</th>\n",
       "      <td>850</td>\n",
       "      <td>spain</td>\n",
       "      <td>0</td>\n",
       "      <td>43</td>\n",
       "      <td>2.0</td>\n",
       "      <td>125510.82</td>\n",
       "      <td>1</td>\n",
       "      <td>1</td>\n",
       "      <td>1</td>\n",
       "      <td>79084.10</td>\n",
       "      <td>0</td>\n",
       "    </tr>\n",
       "  </tbody>\n",
       "</table>\n",
       "</div>"
      ],
      "text/plain": [
       "   credit_score geography  gender  age  tenure    balance  num_of_products  \\\n",
       "0           619    france       0   42     2.0       0.00                1   \n",
       "1           608     spain       0   41     1.0   83807.86                1   \n",
       "2           502    france       0   42     8.0  159660.80                3   \n",
       "3           699    france       0   39     1.0       0.00                2   \n",
       "4           850     spain       0   43     2.0  125510.82                1   \n",
       "\n",
       "   has_cr_card  is_active_member  estimated_salary  exited  \n",
       "0            1                 1         101348.88       1  \n",
       "1            0                 1         112542.58       0  \n",
       "2            1                 0         113931.57       1  \n",
       "3            0                 0          93826.63       0  \n",
       "4            1                 1          79084.10       0  "
      ]
     },
     "metadata": {},
     "output_type": "display_data"
    }
   ],
   "source": [
    "df_no_sampling = (\n",
    "    raw_users\n",
    "    .copy()\n",
    "    .drop(['RowNumber', 'CustomerId', 'Surname'], axis=1)\n",
    "    .replace({'Male': 1, 'Female': 0})\n",
    "    .rename(columns=lambda column: snakecase(column))\n",
    "    .assign(geography=lambda df: df.geography.str.lower())\n",
    ")\n",
    "\n",
    "display(df_no_sampling.head())"
   ]
  },
  {
   "attachments": {},
   "cell_type": "markdown",
   "metadata": {},
   "source": [
    "Выглядит адекватно.\n",
    "\n",
    "Дальше нам понадобится несколько функций для обработки данных. Первая - для разделенрия данных с использованием стратификации."
   ]
  },
  {
   "cell_type": "code",
   "execution_count": 32,
   "metadata": {},
   "outputs": [],
   "source": [
    "def split_data(df, target_column, test_size, valid_size, stratify_column):\n",
    "    \"\"\"\n",
    "    Splits a DataFrame into training, validation and test sets.\n",
    "    Args:\n",
    "        - df (pd.DataFrame): DataFrame to split.\n",
    "        - target_column (str): The name of the target column.\n",
    "        - test_size (float): The proportion of the dataset to include in the test split.\n",
    "        - valid_size (float): The proportion of the dataset to include in the validation split.\n",
    "        - stratify_column (str): The name of the column to use for stratification.\n",
    "    Returns:\n",
    "        - list: A list containing the training, validation, and test feature and target DataFrames/Series.\n",
    "    \"\"\"\n",
    "    df_train_valid, df_test, tgt_train_valid, tgt_test = train_test_split(\n",
    "        df.drop(target_column, axis=1), df[target_column],\n",
    "        test_size=test_size, stratify=df[stratify_column], random_state=RANDOM_SEED\n",
    "    )\n",
    "    df_train, df_valid, tgt_train, tgt_valid = train_test_split(\n",
    "        df_train_valid, tgt_train_valid,\n",
    "        test_size=(valid_size/(1-test_size)), stratify=tgt_train_valid, random_state=RANDOM_SEED\n",
    "    )\n",
    "\n",
    "    return [df_train, tgt_train, df_valid, tgt_valid, df_test, tgt_test]"
   ]
  },
  {
   "attachments": {},
   "cell_type": "markdown",
   "metadata": {},
   "source": [
    "Вторая - для `upsampling`."
   ]
  },
  {
   "cell_type": "code",
   "execution_count": 33,
   "metadata": {},
   "outputs": [],
   "source": [
    "def upsample_minority_class(ftr_train, tgt_train):\n",
    "    \"\"\"\n",
    "    Upsamples the minority class in the training data.\n",
    "    Args:\n",
    "        - ftr_train (pd.DataFrame): DataFrame containing the training features.\n",
    "        - tgt_train (pd.Series): Series containing the training targets.\n",
    "    Returns:\n",
    "        - pd.DataFrame: DataFrame containing the training features after downsampling.\n",
    "        - pd.Series: Series containing the training targets after downsampling.\n",
    "    \"\"\"\n",
    "    ftr_train_upsampled = pd.concat([\n",
    "        ftr_train[tgt_train==0],\n",
    "        resample(\n",
    "            ftr_train[tgt_train==1],\n",
    "            replace=True,\n",
    "            n_samples=len(ftr_train[tgt_train==0]),\n",
    "            random_state=RANDOM_SEED\n",
    "        )\n",
    "    ])\n",
    "\n",
    "    tgt_train_upsampled = pd.concat([\n",
    "        tgt_train[tgt_train==0],\n",
    "        pd.Series([1]*len(ftr_train[tgt_train==0]), index=ftr_train[tgt_train==0].index)\n",
    "    ])\n",
    "\n",
    "    return ftr_train_upsampled, tgt_train_upsampled"
   ]
  },
  {
   "attachments": {},
   "cell_type": "markdown",
   "metadata": {},
   "source": [
    "Третья - для `downsampling`."
   ]
  },
  {
   "cell_type": "code",
   "execution_count": 34,
   "metadata": {},
   "outputs": [],
   "source": [
    "def downsample_majority_class(ftr_train, tgt_train):\n",
    "    \"\"\"\n",
    "    Downsamples the majority class in the training data.\n",
    "    Args:\n",
    "        - ftr_train (pd.DataFrame): DataFrame containing the training features.\n",
    "        - tgt_train (pd.Series): Series containing the training targets.\n",
    "    Returns:\n",
    "        - pd.DataFrame: DataFrame containing the training features after downsampling.\n",
    "        - pd.Series: Series containing the training targets after downsampling.\n",
    "    \"\"\"\n",
    "    index_to_remove = resample(\n",
    "        ftr_train[tgt_train==0].index,\n",
    "        replace=False,\n",
    "        n_samples=len(ftr_train[tgt_train==0]) - len(ftr_train[tgt_train==1]),\n",
    "        random_state=RANDOM_SEED\n",
    "    )\n",
    "\n",
    "    ftr_train_downsampled = ftr_train.drop(index_to_remove)\n",
    "    tgt_train_downsampled = tgt_train.drop(index_to_remove)\n",
    "\n",
    "    return ftr_train_downsampled, tgt_train_downsampled"
   ]
  },
  {
   "attachments": {},
   "cell_type": "markdown",
   "metadata": {},
   "source": [
    "Наконец, для предобработки данных."
   ]
  },
  {
   "cell_type": "code",
   "execution_count": 35,
   "metadata": {},
   "outputs": [],
   "source": [
    "def preprocess_and_split_data(df, label):\n",
    "    \"\"\"\n",
    "    Preprocesses the data and splits it into training, validation and test sets.\n",
    "    Args:\n",
    "        - df (pd.DataFrame): DataFrame to preprocess and split.\n",
    "        - label (str): Label for the dictionary to hold the split data.\n",
    "    Returns:\n",
    "        - dict: Dictionary containing preprocessed and split data.\n",
    "    \"\"\"\n",
    "    splits = split_data(\n",
    "        df=df, target_column='exited', \n",
    "        test_size=0.15, valid_size=0.15, stratify_column='exited', \n",
    "    )\n",
    "\n",
    "    if label == 'upsampled':\n",
    "        splits[0], splits[1] = upsample_minority_class(splits[0], splits[1])\n",
    "    elif label == 'downsampled':\n",
    "        splits[0], splits[1] = downsample_majority_class(splits[0], splits[1])\n",
    "\n",
    "    data_splits = dict(zip(split_keys, splits))\n",
    "    \n",
    "    preprocessor.fit(data_splits['ftr_train'])\n",
    "\n",
    "    for subset in split_keys:\n",
    "        if 'ftr' in subset:\n",
    "            data_transformed = preprocessor.transform(data_splits[subset])\n",
    "            \n",
    "            columns_transformed = num_cols + list(\n",
    "                preprocessor.named_transformers_['cat']['encoder'].get_feature_names_out(cat_cols)\n",
    "            )\n",
    "            df_transformed = pd.DataFrame(\n",
    "                data_transformed, columns=columns_transformed\n",
    "            )\n",
    "            df_transformed = pd.concat(\n",
    "                [df_transformed, data_splits[subset][bin_cols].reset_index(drop=True)], axis=1\n",
    "            )\n",
    "\n",
    "            data_splits[subset] = df_transformed\n",
    "\n",
    "    return data_splits"
   ]
  },
  {
   "attachments": {},
   "cell_type": "markdown",
   "metadata": {},
   "source": [
    "Разделим датасеты на выборки и выполним остальные преобразовния."
   ]
  },
  {
   "cell_type": "code",
   "execution_count": 36,
   "metadata": {},
   "outputs": [],
   "source": [
    "split_keys = ['ftr_train', 'tgt_train', 'ftr_valid', 'tgt_valid', 'ftr_test', 'tgt_test']\n",
    "num_cols = ['credit_score', 'age', 'tenure', 'balance', 'num_of_products', 'estimated_salary']\n",
    "cat_cols = ['geography']\n",
    "bin_cols = ['has_cr_card', 'is_active_member', 'gender']\n",
    "\n",
    "num_pipeline = Pipeline([\n",
    "    ('imputer', SimpleImputer(strategy='median')),\n",
    "    ('scaler', StandardScaler()),\n",
    "])\n",
    "\n",
    "cat_pipeline = Pipeline([\n",
    "    ('encoder', OneHotEncoder(handle_unknown='ignore')),\n",
    "])\n",
    "\n",
    "preprocessor = ColumnTransformer([\n",
    "    ('num', num_pipeline, num_cols),\n",
    "    ('cat', cat_pipeline, cat_cols),\n",
    "])\n",
    "\n",
    "data_splits = {\n",
    "    'no_sampling': preprocess_and_split_data(df_no_sampling, 'no_sampling'),\n",
    "    'upsampled': preprocess_and_split_data(df_no_sampling, 'upsampled'),\n",
    "    'downsampled': preprocess_and_split_data(df_no_sampling, 'downsampled')\n",
    "}"
   ]
  },
  {
   "attachments": {},
   "cell_type": "markdown",
   "metadata": {},
   "source": [
    "Проверим, как сбалансировались классы."
   ]
  },
  {
   "cell_type": "code",
   "execution_count": 55,
   "metadata": {},
   "outputs": [
    {
     "name": "stdout",
     "output_type": "stream",
     "text": [
      "----------------------------------------\n",
      "Exited without resampling distribution, #:\n",
      "0    5574\n",
      "1    1426\n",
      "Name: exited, dtype: int64\n",
      "----------------------------------------\n",
      "----------------------------------------\n",
      "Exited with upsampling distribution, #:\n",
      "0    5574\n",
      "1    5574\n",
      "dtype: int64\n",
      "----------------------------------------\n",
      "----------------------------------------\n",
      "Exited with downsampling distribution, #:\n",
      "0    1426\n",
      "1    1426\n",
      "Name: exited, dtype: int64\n",
      "----------------------------------------\n"
     ]
    }
   ],
   "source": [
    "def print_class_distribution(column, label):\n",
    "    print(\n",
    "        f\"{'-' * 40}\\n{label} distribution, #:\\n{column.value_counts()}\\n{'-' * 40}\"\n",
    "    )\n",
    "\n",
    "print_class_distribution(data_splits['no_sampling']['tgt_train'], 'Exited without resampling')\n",
    "print_class_distribution(data_splits['upsampled']['tgt_train'], 'Exited with upsampling')\n",
    "print_class_distribution(data_splits['downsampled']['tgt_train'], 'Exited with downsampling')"
   ]
  },
  {
   "attachments": {},
   "cell_type": "markdown",
   "metadata": {},
   "source": [
    "Теперь в `'upasmpled'` и `'downsampled'` датасетах классы сбалансированы.\n",
    "\n",
    "Проверим, как выглядит один из датасетов."
   ]
  },
  {
   "cell_type": "code",
   "execution_count": 39,
   "metadata": {},
   "outputs": [
    {
     "data": {
      "text/html": [
       "<div>\n",
       "<style scoped>\n",
       "    .dataframe tbody tr th:only-of-type {\n",
       "        vertical-align: middle;\n",
       "    }\n",
       "\n",
       "    .dataframe tbody tr th {\n",
       "        vertical-align: top;\n",
       "    }\n",
       "\n",
       "    .dataframe thead th {\n",
       "        text-align: right;\n",
       "    }\n",
       "</style>\n",
       "<table border=\"1\" class=\"dataframe\">\n",
       "  <thead>\n",
       "    <tr style=\"text-align: right;\">\n",
       "      <th></th>\n",
       "      <th>credit_score</th>\n",
       "      <th>age</th>\n",
       "      <th>tenure</th>\n",
       "      <th>balance</th>\n",
       "      <th>num_of_products</th>\n",
       "      <th>estimated_salary</th>\n",
       "      <th>geography_france</th>\n",
       "      <th>geography_germany</th>\n",
       "      <th>geography_spain</th>\n",
       "      <th>has_cr_card</th>\n",
       "      <th>is_active_member</th>\n",
       "      <th>gender</th>\n",
       "    </tr>\n",
       "  </thead>\n",
       "  <tbody>\n",
       "    <tr>\n",
       "      <th>0</th>\n",
       "      <td>0.604610</td>\n",
       "      <td>-0.086317</td>\n",
       "      <td>-0.718147</td>\n",
       "      <td>0.872277</td>\n",
       "      <td>-0.906681</td>\n",
       "      <td>0.962096</td>\n",
       "      <td>1.0</td>\n",
       "      <td>0.0</td>\n",
       "      <td>0.0</td>\n",
       "      <td>1</td>\n",
       "      <td>1</td>\n",
       "      <td>1</td>\n",
       "    </tr>\n",
       "    <tr>\n",
       "      <th>1</th>\n",
       "      <td>0.894115</td>\n",
       "      <td>-0.086317</td>\n",
       "      <td>0.005948</td>\n",
       "      <td>1.634673</td>\n",
       "      <td>-0.906681</td>\n",
       "      <td>-1.401904</td>\n",
       "      <td>0.0</td>\n",
       "      <td>0.0</td>\n",
       "      <td>1.0</td>\n",
       "      <td>0</td>\n",
       "      <td>1</td>\n",
       "      <td>1</td>\n",
       "    </tr>\n",
       "    <tr>\n",
       "      <th>2</th>\n",
       "      <td>0.490876</td>\n",
       "      <td>-1.614778</td>\n",
       "      <td>1.454139</td>\n",
       "      <td>0.369733</td>\n",
       "      <td>-0.906681</td>\n",
       "      <td>-0.547571</td>\n",
       "      <td>1.0</td>\n",
       "      <td>0.0</td>\n",
       "      <td>0.0</td>\n",
       "      <td>1</td>\n",
       "      <td>0</td>\n",
       "      <td>1</td>\n",
       "    </tr>\n",
       "    <tr>\n",
       "      <th>3</th>\n",
       "      <td>-0.046776</td>\n",
       "      <td>0.200269</td>\n",
       "      <td>-1.442243</td>\n",
       "      <td>0.153721</td>\n",
       "      <td>2.531438</td>\n",
       "      <td>1.556949</td>\n",
       "      <td>0.0</td>\n",
       "      <td>1.0</td>\n",
       "      <td>0.0</td>\n",
       "      <td>1</td>\n",
       "      <td>0</td>\n",
       "      <td>0</td>\n",
       "    </tr>\n",
       "    <tr>\n",
       "      <th>4</th>\n",
       "      <td>1.028528</td>\n",
       "      <td>0.868971</td>\n",
       "      <td>-0.356100</td>\n",
       "      <td>-1.227786</td>\n",
       "      <td>-0.906681</td>\n",
       "      <td>-1.211556</td>\n",
       "      <td>1.0</td>\n",
       "      <td>0.0</td>\n",
       "      <td>0.0</td>\n",
       "      <td>0</td>\n",
       "      <td>1</td>\n",
       "      <td>0</td>\n",
       "    </tr>\n",
       "  </tbody>\n",
       "</table>\n",
       "</div>"
      ],
      "text/plain": [
       "   credit_score       age    tenure   balance  num_of_products  \\\n",
       "0      0.604610 -0.086317 -0.718147  0.872277        -0.906681   \n",
       "1      0.894115 -0.086317  0.005948  1.634673        -0.906681   \n",
       "2      0.490876 -1.614778  1.454139  0.369733        -0.906681   \n",
       "3     -0.046776  0.200269 -1.442243  0.153721         2.531438   \n",
       "4      1.028528  0.868971 -0.356100 -1.227786        -0.906681   \n",
       "\n",
       "   estimated_salary  geography_france  geography_germany  geography_spain  \\\n",
       "0          0.962096               1.0                0.0              0.0   \n",
       "1         -1.401904               0.0                0.0              1.0   \n",
       "2         -0.547571               1.0                0.0              0.0   \n",
       "3          1.556949               0.0                1.0              0.0   \n",
       "4         -1.211556               1.0                0.0              0.0   \n",
       "\n",
       "   has_cr_card  is_active_member  gender  \n",
       "0            1                 1       1  \n",
       "1            0                 1       1  \n",
       "2            1                 0       1  \n",
       "3            1                 0       0  \n",
       "4            0                 1       0  "
      ]
     },
     "execution_count": 39,
     "metadata": {},
     "output_type": "execute_result"
    }
   ],
   "source": [
    "data_splits['no_sampling']['ftr_valid'].head()"
   ]
  },
  {
   "attachments": {},
   "cell_type": "markdown",
   "metadata": {},
   "source": [
    "В этом скрипте мы успешно обработали три набора данных, `no_sampling`, `upsampled` и `downsampled`. На первом этапе были определены переменные и настроен предпроцессор предварительной обработки для числовых и категориальных столбцов, бинарные столбцы остались без изменений.\n",
    "\n",
    "Основной цикл скрипта выполняет три основные задачи для каждого набора данных:\n",
    "\n",
    "1. Разделение данных: Используется функция `split_data`, чтобы разделить каждый набор данных на обучающие, валидационные и тестовые подмножества.\n",
    "\n",
    "2. Подгонка препроцессора: Препроцессор обучается только на `train` данных. Это включает в себя изучение параметров для `imputation` наиболее часто встречающихся значений и стандартного масштабирования.\n",
    "\n",
    "3. Трансформация данных: Используя подготовленный препроцессор, трансформируются признаки для каждого набора и типа колонок.\n",
    "\n",
    "После выполнения этого скрипта у нас есть все подмножества данных, готовые для дальнейшего обучения модели и оценки."
   ]
  },
  {
   "attachments": {},
   "cell_type": "markdown",
   "metadata": {},
   "source": [
    "# ML модели\n",
    "\n",
    "Перейдем к обучению моделей. Воспользуемся библиотекой `optuna` чтобы найти оптимальную модель.\n",
    "\n",
    "Для начала - сделаем функцию, которая будет выбирать для нас лучшую модель."
   ]
  },
  {
   "cell_type": "code",
   "execution_count": 40,
   "metadata": {},
   "outputs": [],
   "source": [
    "def get_study(dataset: str, n_trials: int):\n",
    "    \"\"\"\n",
    "    Trains and optimizes Logistic Regression, Decision Tree, and Random Forest models using Optuna.\n",
    "\n",
    "    Args:\n",
    "        - dataset (str): The label of the dataset to use from the \n",
    "          `data_splits` dictionary('no_sampling' or 'upsampled').\n",
    "        - n_trials (int): The number of trials for Optuna optimization.\n",
    "\n",
    "    Returns:\n",
    "        - An Optuna study object, containing the optimal model and its parameters.\n",
    "    \"\"\"\n",
    "    \n",
    "    def objective(trial):\n",
    "        classifier_name = trial.suggest_categorical(\n",
    "            'classifier', ['LogisticRegression', 'DecisionTree', 'RandomForest']\n",
    "        )\n",
    "        \n",
    "        # Suggest parameters based on the classifier\n",
    "        if classifier_name == 'LogisticRegression':\n",
    "            lr_c = trial.suggest_float('lr_c', 1e-6, 1e6, log=True)\n",
    "            classifier_obj = LogisticRegression(\n",
    "                C=lr_c, random_state=RANDOM_SEED\n",
    "            )\n",
    "        elif classifier_name == 'DecisionTree':\n",
    "            dt_max_depth = trial.suggest_int('dt_max_depth', 1, 50)\n",
    "            classifier_obj = DecisionTreeClassifier(\n",
    "                max_depth=dt_max_depth, random_state=RANDOM_SEED\n",
    "            )\n",
    "        elif classifier_name == 'RandomForest':\n",
    "            rf_max_depth = trial.suggest_int('rf_max_depth', 1, 100)\n",
    "            rf_n_estimators = trial.suggest_int('rf_n_estimators', 100, 1000)\n",
    "            classifier_obj = RandomForestClassifier(\n",
    "                max_depth=rf_max_depth,\n",
    "                n_estimators=rf_n_estimators,\n",
    "                random_state=RANDOM_SEED\n",
    "            )\n",
    "            \n",
    "        classifier_obj.fit(data_splits[dataset]['ftr_train'], data_splits[dataset]['tgt_train'])\n",
    "        \n",
    "        prediction = classifier_obj.predict(data_splits[dataset]['ftr_valid'])\n",
    "        \n",
    "        f1 = f1_score(data_splits[dataset]['tgt_valid'], prediction)\n",
    "        \n",
    "        return round(f1, 3)\n",
    "\n",
    "    optuna.logging.set_verbosity(optuna.logging.WARNING)\n",
    "    study = optuna.create_study(direction='maximize', sampler=optuna.samplers.TPESampler(seed=RANDOM_SEED))\n",
    "    study.optimize(objective, n_trials=n_trials)\n",
    "    \n",
    "    return study"
   ]
  },
  {
   "attachments": {},
   "cell_type": "markdown",
   "metadata": {},
   "source": [
    "Теперь функцию, которая посчитает метрики для модели."
   ]
  },
  {
   "cell_type": "code",
   "execution_count": 41,
   "metadata": {},
   "outputs": [],
   "source": [
    "def evaluate_best_model(dataset: str, study: optuna.study.Study) -> dict[str, float]:\n",
    "    \"\"\"\n",
    "    Given a dataset label (key in the data_splits dictionary) and an Optuna study object,\n",
    "    this function retrieves the best model parameters from the study, instantiates a new\n",
    "    model with these parameters, makes predictions on the validation subset,\n",
    "    and calculates and returns the F1 score and ROC AUC score.\n",
    "\n",
    "    Args:\n",
    "        - dataset (str): Label of the dataset to use (should be a key in the data_splits dictionary).\n",
    "        - study (optuna.study.Study): Optuna study object containing the results of model optimization.\n",
    "\n",
    "    Returns:\n",
    "        - dict: A dictionary with the F1 score and ROC AUC score for the validation subset.\n",
    "        - sklearn Estimator: The best fitted model.\n",
    "    \"\"\"\n",
    "    \n",
    "    best_params = study.best_params\n",
    "\n",
    "    if best_params['classifier'] == 'LogisticRegression':\n",
    "        best_model = LogisticRegression(\n",
    "            C=best_params['lr_c'], random_state=RANDOM_SEED\n",
    "        )\n",
    "    elif best_params['classifier'] == 'DecisionTree':\n",
    "        best_model = DecisionTreeClassifier(\n",
    "            max_depth=best_params['dt_max_depth'], random_state=RANDOM_SEED\n",
    "        )\n",
    "    elif best_params['classifier'] == 'RandomForest':\n",
    "        best_model = RandomForestClassifier(\n",
    "            max_depth=best_params['rf_max_depth'],\n",
    "            n_estimators=best_params['rf_n_estimators'],\n",
    "            random_state=RANDOM_SEED\n",
    "        )\n",
    "\n",
    "    best_model.fit(data_splits[dataset]['ftr_train'], data_splits[dataset]['tgt_train'])\n",
    "\n",
    "    pred_valid = best_model.predict(data_splits[dataset]['ftr_valid'])\n",
    "    pred_proba_valid = best_model.predict_proba(data_splits[dataset]['ftr_valid'])[:, 1]\n",
    "\n",
    "    f1_valid = f1_score(data_splits[dataset]['tgt_valid'], pred_valid)\n",
    "    roc_auc_valid = roc_auc_score(data_splits[dataset]['tgt_valid'], pred_proba_valid)\n",
    "\n",
    "    return {\n",
    "        'valid_f1': f1_valid,\n",
    "        'valid_roc_auc': roc_auc_valid,\n",
    "    }, best_model"
   ]
  },
  {
   "attachments": {},
   "cell_type": "markdown",
   "metadata": {},
   "source": [
    "Выведет результаты."
   ]
  },
  {
   "cell_type": "code",
   "execution_count": 42,
   "metadata": {},
   "outputs": [],
   "source": [
    "def print_best_params_and_metrics(best_params: dict, metrics: dict):\n",
    "    \"\"\"\n",
    "    Prints the best parameters of the model and the performance metrics.\n",
    "\n",
    "    Args:\n",
    "        - best_params (dict): Dictionary of the best parameters from the model.\n",
    "        - metrics (dict): Dictionary of performance metrics.\n",
    "\n",
    "    Returns:\n",
    "        - None\n",
    "    \"\"\"\n",
    "    print('The best model parameters are:')\n",
    "    for param, value in best_params.items():\n",
    "        print(f\"{param}: {value}\")\n",
    "\n",
    "    print('\\nThe performance metrics of the model are:')\n",
    "    for metric, value in metrics.items():\n",
    "        print(f\"{metric}: {value:.4f}\")"
   ]
  },
  {
   "attachments": {},
   "cell_type": "markdown",
   "metadata": {},
   "source": [
    "И нарисует график `ROC AUC`."
   ]
  },
  {
   "cell_type": "code",
   "execution_count": 72,
   "metadata": {},
   "outputs": [],
   "source": [
    "def plot_roc_auc(data_splits: dict, best_model: any, title: str) -> go.Figure:\n",
    "    \"\"\"\n",
    "    Plots ROC curves for the given data sets using Plotly.\n",
    "\n",
    "    Args:\n",
    "        - data_splits (dict): Dictionary containing feature data and target data for each dataset.\n",
    "        - best_model (Any): Trained model object.\n",
    "        - title (str): Title of the plot.\n",
    "\n",
    "    Returns:\n",
    "        - fig (go.Figure): Plotly figure with ROC curves.\n",
    "    \"\"\"\n",
    "\n",
    "    fig = go.Figure()\n",
    "\n",
    "    # Loop over each dataset in the dictionary\n",
    "    for dataset in data_splits.keys():\n",
    "        # Only process datasets with 'ftr' in the name\n",
    "        if 'ftr' in dataset:\n",
    "            ftr_data = data_splits[dataset]\n",
    "            # Get the corresponding target data\n",
    "            tgt_data = data_splits[dataset.replace('ftr', 'tgt')]\n",
    "\n",
    "            probas = best_model.predict_proba(ftr_data)\n",
    "            fpr, tpr, _ = roc_curve(tgt_data, probas[:, 1])\n",
    "            roc_auc = auc(fpr, tpr)\n",
    "\n",
    "            fig.add_trace(\n",
    "                go.Scatter(\n",
    "                    x=fpr, y=tpr,\n",
    "                    mode='lines',\n",
    "                    name=f'{dataset} ROC (AUC = {roc_auc:.2f})'\n",
    "                )\n",
    "            )\n",
    "\n",
    "    # Add the 'No skill' line\n",
    "    fig.add_trace(\n",
    "        go.Scatter(\n",
    "            x=[0, 1], y=[0, 1],\n",
    "            mode='lines',\n",
    "            name='No skill',\n",
    "            line=dict(dash='dash', color='black')\n",
    "        )\n",
    "    )\n",
    "\n",
    "    fig.update_layout(\n",
    "        xaxis_title='False positive rate',\n",
    "        yaxis_title='True positive rate',\n",
    "        width=FIG_WIDTH, height=FIG_HEIGHT * 1.5,\n",
    "        title=title,\n",
    "        template='plotly_white'\n",
    "    )\n",
    "\n",
    "    return fig"
   ]
  },
  {
   "attachments": {},
   "cell_type": "markdown",
   "metadata": {},
   "source": [
    "## Датасет без sampling\n",
    "\n",
    "Возьмем датасет как есть и посмотрим на качество моделей."
   ]
  },
  {
   "cell_type": "code",
   "execution_count": 44,
   "metadata": {},
   "outputs": [],
   "source": [
    "study_no_sampling = get_study('no_sampling', n_trials=10)\n",
    "\n",
    "metrics, best_model = evaluate_best_model('no_sampling', study_no_sampling)"
   ]
  },
  {
   "attachments": {},
   "cell_type": "markdown",
   "metadata": {},
   "source": [
    "Визуализируем результаты."
   ]
  },
  {
   "cell_type": "code",
   "execution_count": 74,
   "metadata": {},
   "outputs": [
    {
     "name": "stdout",
     "output_type": "stream",
     "text": [
      "The best model parameters are:\n",
      "classifier: RandomForest\n",
      "rf_max_depth: 18\n",
      "rf_n_estimators: 158\n",
      "\n",
      "The performance metrics of the model are:\n",
      "valid_f1: 0.6203\n",
      "valid_roc_auc: 0.8587\n"
     ]
    },
    {
     "data": {
      "application/vnd.plotly.v1+json": {
       "config": {
        "plotlyServerURL": "https://plot.ly"
       },
       "data": [
        {
         "mode": "markers",
         "name": "Objective Value",
         "type": "scatter",
         "x": [
          0,
          1,
          2,
          3,
          4,
          5,
          6,
          7,
          8,
          9
         ],
         "y": [
          0.516,
          0.33,
          0.516,
          0,
          0.527,
          0.322,
          0.516,
          0.603,
          0.532,
          0.545
         ]
        },
        {
         "name": "Best Value",
         "type": "scatter",
         "x": [
          0,
          1,
          2,
          3,
          4,
          5,
          6,
          7,
          8,
          9
         ],
         "y": [
          0.516,
          0.516,
          0.516,
          0.516,
          0.527,
          0.527,
          0.527,
          0.603,
          0.603,
          0.603
         ]
        }
       ],
       "layout": {
        "height": 500,
        "template": {
         "data": {
          "bar": [
           {
            "error_x": {
             "color": "#2a3f5f"
            },
            "error_y": {
             "color": "#2a3f5f"
            },
            "marker": {
             "line": {
              "color": "white",
              "width": 0.5
             },
             "pattern": {
              "fillmode": "overlay",
              "size": 10,
              "solidity": 0.2
             }
            },
            "type": "bar"
           }
          ],
          "barpolar": [
           {
            "marker": {
             "line": {
              "color": "white",
              "width": 0.5
             },
             "pattern": {
              "fillmode": "overlay",
              "size": 10,
              "solidity": 0.2
             }
            },
            "type": "barpolar"
           }
          ],
          "carpet": [
           {
            "aaxis": {
             "endlinecolor": "#2a3f5f",
             "gridcolor": "#C8D4E3",
             "linecolor": "#C8D4E3",
             "minorgridcolor": "#C8D4E3",
             "startlinecolor": "#2a3f5f"
            },
            "baxis": {
             "endlinecolor": "#2a3f5f",
             "gridcolor": "#C8D4E3",
             "linecolor": "#C8D4E3",
             "minorgridcolor": "#C8D4E3",
             "startlinecolor": "#2a3f5f"
            },
            "type": "carpet"
           }
          ],
          "choropleth": [
           {
            "colorbar": {
             "outlinewidth": 0,
             "ticks": ""
            },
            "type": "choropleth"
           }
          ],
          "contour": [
           {
            "colorbar": {
             "outlinewidth": 0,
             "ticks": ""
            },
            "colorscale": [
             [
              0,
              "#0d0887"
             ],
             [
              0.1111111111111111,
              "#46039f"
             ],
             [
              0.2222222222222222,
              "#7201a8"
             ],
             [
              0.3333333333333333,
              "#9c179e"
             ],
             [
              0.4444444444444444,
              "#bd3786"
             ],
             [
              0.5555555555555556,
              "#d8576b"
             ],
             [
              0.6666666666666666,
              "#ed7953"
             ],
             [
              0.7777777777777778,
              "#fb9f3a"
             ],
             [
              0.8888888888888888,
              "#fdca26"
             ],
             [
              1,
              "#f0f921"
             ]
            ],
            "type": "contour"
           }
          ],
          "contourcarpet": [
           {
            "colorbar": {
             "outlinewidth": 0,
             "ticks": ""
            },
            "type": "contourcarpet"
           }
          ],
          "heatmap": [
           {
            "colorbar": {
             "outlinewidth": 0,
             "ticks": ""
            },
            "colorscale": [
             [
              0,
              "#0d0887"
             ],
             [
              0.1111111111111111,
              "#46039f"
             ],
             [
              0.2222222222222222,
              "#7201a8"
             ],
             [
              0.3333333333333333,
              "#9c179e"
             ],
             [
              0.4444444444444444,
              "#bd3786"
             ],
             [
              0.5555555555555556,
              "#d8576b"
             ],
             [
              0.6666666666666666,
              "#ed7953"
             ],
             [
              0.7777777777777778,
              "#fb9f3a"
             ],
             [
              0.8888888888888888,
              "#fdca26"
             ],
             [
              1,
              "#f0f921"
             ]
            ],
            "type": "heatmap"
           }
          ],
          "heatmapgl": [
           {
            "colorbar": {
             "outlinewidth": 0,
             "ticks": ""
            },
            "colorscale": [
             [
              0,
              "#0d0887"
             ],
             [
              0.1111111111111111,
              "#46039f"
             ],
             [
              0.2222222222222222,
              "#7201a8"
             ],
             [
              0.3333333333333333,
              "#9c179e"
             ],
             [
              0.4444444444444444,
              "#bd3786"
             ],
             [
              0.5555555555555556,
              "#d8576b"
             ],
             [
              0.6666666666666666,
              "#ed7953"
             ],
             [
              0.7777777777777778,
              "#fb9f3a"
             ],
             [
              0.8888888888888888,
              "#fdca26"
             ],
             [
              1,
              "#f0f921"
             ]
            ],
            "type": "heatmapgl"
           }
          ],
          "histogram": [
           {
            "marker": {
             "pattern": {
              "fillmode": "overlay",
              "size": 10,
              "solidity": 0.2
             }
            },
            "type": "histogram"
           }
          ],
          "histogram2d": [
           {
            "colorbar": {
             "outlinewidth": 0,
             "ticks": ""
            },
            "colorscale": [
             [
              0,
              "#0d0887"
             ],
             [
              0.1111111111111111,
              "#46039f"
             ],
             [
              0.2222222222222222,
              "#7201a8"
             ],
             [
              0.3333333333333333,
              "#9c179e"
             ],
             [
              0.4444444444444444,
              "#bd3786"
             ],
             [
              0.5555555555555556,
              "#d8576b"
             ],
             [
              0.6666666666666666,
              "#ed7953"
             ],
             [
              0.7777777777777778,
              "#fb9f3a"
             ],
             [
              0.8888888888888888,
              "#fdca26"
             ],
             [
              1,
              "#f0f921"
             ]
            ],
            "type": "histogram2d"
           }
          ],
          "histogram2dcontour": [
           {
            "colorbar": {
             "outlinewidth": 0,
             "ticks": ""
            },
            "colorscale": [
             [
              0,
              "#0d0887"
             ],
             [
              0.1111111111111111,
              "#46039f"
             ],
             [
              0.2222222222222222,
              "#7201a8"
             ],
             [
              0.3333333333333333,
              "#9c179e"
             ],
             [
              0.4444444444444444,
              "#bd3786"
             ],
             [
              0.5555555555555556,
              "#d8576b"
             ],
             [
              0.6666666666666666,
              "#ed7953"
             ],
             [
              0.7777777777777778,
              "#fb9f3a"
             ],
             [
              0.8888888888888888,
              "#fdca26"
             ],
             [
              1,
              "#f0f921"
             ]
            ],
            "type": "histogram2dcontour"
           }
          ],
          "mesh3d": [
           {
            "colorbar": {
             "outlinewidth": 0,
             "ticks": ""
            },
            "type": "mesh3d"
           }
          ],
          "parcoords": [
           {
            "line": {
             "colorbar": {
              "outlinewidth": 0,
              "ticks": ""
             }
            },
            "type": "parcoords"
           }
          ],
          "pie": [
           {
            "automargin": true,
            "type": "pie"
           }
          ],
          "scatter": [
           {
            "fillpattern": {
             "fillmode": "overlay",
             "size": 10,
             "solidity": 0.2
            },
            "type": "scatter"
           }
          ],
          "scatter3d": [
           {
            "line": {
             "colorbar": {
              "outlinewidth": 0,
              "ticks": ""
             }
            },
            "marker": {
             "colorbar": {
              "outlinewidth": 0,
              "ticks": ""
             }
            },
            "type": "scatter3d"
           }
          ],
          "scattercarpet": [
           {
            "marker": {
             "colorbar": {
              "outlinewidth": 0,
              "ticks": ""
             }
            },
            "type": "scattercarpet"
           }
          ],
          "scattergeo": [
           {
            "marker": {
             "colorbar": {
              "outlinewidth": 0,
              "ticks": ""
             }
            },
            "type": "scattergeo"
           }
          ],
          "scattergl": [
           {
            "marker": {
             "colorbar": {
              "outlinewidth": 0,
              "ticks": ""
             }
            },
            "type": "scattergl"
           }
          ],
          "scattermapbox": [
           {
            "marker": {
             "colorbar": {
              "outlinewidth": 0,
              "ticks": ""
             }
            },
            "type": "scattermapbox"
           }
          ],
          "scatterpolar": [
           {
            "marker": {
             "colorbar": {
              "outlinewidth": 0,
              "ticks": ""
             }
            },
            "type": "scatterpolar"
           }
          ],
          "scatterpolargl": [
           {
            "marker": {
             "colorbar": {
              "outlinewidth": 0,
              "ticks": ""
             }
            },
            "type": "scatterpolargl"
           }
          ],
          "scatterternary": [
           {
            "marker": {
             "colorbar": {
              "outlinewidth": 0,
              "ticks": ""
             }
            },
            "type": "scatterternary"
           }
          ],
          "surface": [
           {
            "colorbar": {
             "outlinewidth": 0,
             "ticks": ""
            },
            "colorscale": [
             [
              0,
              "#0d0887"
             ],
             [
              0.1111111111111111,
              "#46039f"
             ],
             [
              0.2222222222222222,
              "#7201a8"
             ],
             [
              0.3333333333333333,
              "#9c179e"
             ],
             [
              0.4444444444444444,
              "#bd3786"
             ],
             [
              0.5555555555555556,
              "#d8576b"
             ],
             [
              0.6666666666666666,
              "#ed7953"
             ],
             [
              0.7777777777777778,
              "#fb9f3a"
             ],
             [
              0.8888888888888888,
              "#fdca26"
             ],
             [
              1,
              "#f0f921"
             ]
            ],
            "type": "surface"
           }
          ],
          "table": [
           {
            "cells": {
             "fill": {
              "color": "#EBF0F8"
             },
             "line": {
              "color": "white"
             }
            },
            "header": {
             "fill": {
              "color": "#C8D4E3"
             },
             "line": {
              "color": "white"
             }
            },
            "type": "table"
           }
          ]
         },
         "layout": {
          "annotationdefaults": {
           "arrowcolor": "#2a3f5f",
           "arrowhead": 0,
           "arrowwidth": 1
          },
          "autotypenumbers": "strict",
          "coloraxis": {
           "colorbar": {
            "outlinewidth": 0,
            "ticks": ""
           }
          },
          "colorscale": {
           "diverging": [
            [
             0,
             "#8e0152"
            ],
            [
             0.1,
             "#c51b7d"
            ],
            [
             0.2,
             "#de77ae"
            ],
            [
             0.3,
             "#f1b6da"
            ],
            [
             0.4,
             "#fde0ef"
            ],
            [
             0.5,
             "#f7f7f7"
            ],
            [
             0.6,
             "#e6f5d0"
            ],
            [
             0.7,
             "#b8e186"
            ],
            [
             0.8,
             "#7fbc41"
            ],
            [
             0.9,
             "#4d9221"
            ],
            [
             1,
             "#276419"
            ]
           ],
           "sequential": [
            [
             0,
             "#0d0887"
            ],
            [
             0.1111111111111111,
             "#46039f"
            ],
            [
             0.2222222222222222,
             "#7201a8"
            ],
            [
             0.3333333333333333,
             "#9c179e"
            ],
            [
             0.4444444444444444,
             "#bd3786"
            ],
            [
             0.5555555555555556,
             "#d8576b"
            ],
            [
             0.6666666666666666,
             "#ed7953"
            ],
            [
             0.7777777777777778,
             "#fb9f3a"
            ],
            [
             0.8888888888888888,
             "#fdca26"
            ],
            [
             1,
             "#f0f921"
            ]
           ],
           "sequentialminus": [
            [
             0,
             "#0d0887"
            ],
            [
             0.1111111111111111,
             "#46039f"
            ],
            [
             0.2222222222222222,
             "#7201a8"
            ],
            [
             0.3333333333333333,
             "#9c179e"
            ],
            [
             0.4444444444444444,
             "#bd3786"
            ],
            [
             0.5555555555555556,
             "#d8576b"
            ],
            [
             0.6666666666666666,
             "#ed7953"
            ],
            [
             0.7777777777777778,
             "#fb9f3a"
            ],
            [
             0.8888888888888888,
             "#fdca26"
            ],
            [
             1,
             "#f0f921"
            ]
           ]
          },
          "colorway": [
           "#636efa",
           "#EF553B",
           "#00cc96",
           "#ab63fa",
           "#FFA15A",
           "#19d3f3",
           "#FF6692",
           "#B6E880",
           "#FF97FF",
           "#FECB52"
          ],
          "font": {
           "color": "#2a3f5f"
          },
          "geo": {
           "bgcolor": "white",
           "lakecolor": "white",
           "landcolor": "white",
           "showlakes": true,
           "showland": true,
           "subunitcolor": "#C8D4E3"
          },
          "hoverlabel": {
           "align": "left"
          },
          "hovermode": "closest",
          "mapbox": {
           "style": "light"
          },
          "paper_bgcolor": "white",
          "plot_bgcolor": "white",
          "polar": {
           "angularaxis": {
            "gridcolor": "#EBF0F8",
            "linecolor": "#EBF0F8",
            "ticks": ""
           },
           "bgcolor": "white",
           "radialaxis": {
            "gridcolor": "#EBF0F8",
            "linecolor": "#EBF0F8",
            "ticks": ""
           }
          },
          "scene": {
           "xaxis": {
            "backgroundcolor": "white",
            "gridcolor": "#DFE8F3",
            "gridwidth": 2,
            "linecolor": "#EBF0F8",
            "showbackground": true,
            "ticks": "",
            "zerolinecolor": "#EBF0F8"
           },
           "yaxis": {
            "backgroundcolor": "white",
            "gridcolor": "#DFE8F3",
            "gridwidth": 2,
            "linecolor": "#EBF0F8",
            "showbackground": true,
            "ticks": "",
            "zerolinecolor": "#EBF0F8"
           },
           "zaxis": {
            "backgroundcolor": "white",
            "gridcolor": "#DFE8F3",
            "gridwidth": 2,
            "linecolor": "#EBF0F8",
            "showbackground": true,
            "ticks": "",
            "zerolinecolor": "#EBF0F8"
           }
          },
          "shapedefaults": {
           "line": {
            "color": "#2a3f5f"
           }
          },
          "ternary": {
           "aaxis": {
            "gridcolor": "#DFE8F3",
            "linecolor": "#A2B1C6",
            "ticks": ""
           },
           "baxis": {
            "gridcolor": "#DFE8F3",
            "linecolor": "#A2B1C6",
            "ticks": ""
           },
           "bgcolor": "white",
           "caxis": {
            "gridcolor": "#DFE8F3",
            "linecolor": "#A2B1C6",
            "ticks": ""
           }
          },
          "title": {
           "x": 0.05
          },
          "xaxis": {
           "automargin": true,
           "gridcolor": "#EBF0F8",
           "linecolor": "#EBF0F8",
           "ticks": "",
           "title": {
            "standoff": 15
           },
           "zerolinecolor": "#EBF0F8",
           "zerolinewidth": 2
          },
          "yaxis": {
           "automargin": true,
           "gridcolor": "#EBF0F8",
           "linecolor": "#EBF0F8",
           "ticks": "",
           "title": {
            "standoff": 15
           },
           "zerolinecolor": "#EBF0F8",
           "zerolinewidth": 2
          }
         }
        },
        "title": {
         "text": "Optimization History Plot"
        },
        "width": 1000,
        "xaxis": {
         "title": {
          "text": "Trial"
         }
        },
        "yaxis": {
         "title": {
          "text": "Objective Value"
         }
        }
       }
      }
     },
     "metadata": {},
     "output_type": "display_data"
    },
    {
     "data": {
      "application/vnd.plotly.v1+json": {
       "config": {
        "plotlyServerURL": "https://plot.ly"
       },
       "data": [
        {
         "marker": {
          "color": [
           0,
           1,
           2,
           3,
           4,
           5,
           6,
           7,
           8,
           9
          ],
          "colorbar": {
           "title": {
            "text": "Trial"
           },
           "x": 1,
           "xpad": 40
          },
          "colorscale": [
           [
            0,
            "rgb(247,251,255)"
           ],
           [
            0.125,
            "rgb(222,235,247)"
           ],
           [
            0.25,
            "rgb(198,219,239)"
           ],
           [
            0.375,
            "rgb(158,202,225)"
           ],
           [
            0.5,
            "rgb(107,174,214)"
           ],
           [
            0.625,
            "rgb(66,146,198)"
           ],
           [
            0.75,
            "rgb(33,113,181)"
           ],
           [
            0.875,
            "rgb(8,81,156)"
           ],
           [
            1,
            "rgb(8,48,107)"
           ]
          ],
          "line": {
           "color": "Grey",
           "width": 0.5
          },
          "showscale": true
         },
         "mode": "markers",
         "showlegend": false,
         "type": "scatter",
         "x": [
          "DecisionTree",
          "LogisticRegression",
          "DecisionTree",
          "LogisticRegression",
          "DecisionTree",
          "LogisticRegression",
          "DecisionTree",
          "RandomForest",
          "DecisionTree",
          "DecisionTree"
         ],
         "xaxis": "x",
         "y": [
          0.516,
          0.33,
          0.516,
          0,
          0.527,
          0.322,
          0.516,
          0.603,
          0.532,
          0.545
         ],
         "yaxis": "y"
        },
        {
         "marker": {
          "color": [
           0,
           2,
           4,
           6,
           8,
           9
          ],
          "colorbar": {
           "title": {
            "text": "Trial"
           },
           "x": 1,
           "xpad": 40
          },
          "colorscale": [
           [
            0,
            "rgb(247,251,255)"
           ],
           [
            0.125,
            "rgb(222,235,247)"
           ],
           [
            0.25,
            "rgb(198,219,239)"
           ],
           [
            0.375,
            "rgb(158,202,225)"
           ],
           [
            0.5,
            "rgb(107,174,214)"
           ],
           [
            0.625,
            "rgb(66,146,198)"
           ],
           [
            0.75,
            "rgb(33,113,181)"
           ],
           [
            0.875,
            "rgb(8,81,156)"
           ],
           [
            1,
            "rgb(8,48,107)"
           ]
          ],
          "line": {
           "color": "Grey",
           "width": 0.5
          },
          "showscale": false
         },
         "mode": "markers",
         "showlegend": false,
         "type": "scatter",
         "x": [
          30,
          49,
          15,
          26,
          16,
          7
         ],
         "xaxis": "x2",
         "y": [
          0.516,
          0.516,
          0.527,
          0.516,
          0.532,
          0.545
         ],
         "yaxis": "y2"
        },
        {
         "marker": {
          "color": [
           1,
           3,
           5
          ],
          "colorbar": {
           "title": {
            "text": "Trial"
           },
           "x": 1,
           "xpad": 40
          },
          "colorscale": [
           [
            0,
            "rgb(247,251,255)"
           ],
           [
            0.125,
            "rgb(222,235,247)"
           ],
           [
            0.25,
            "rgb(198,219,239)"
           ],
           [
            0.375,
            "rgb(158,202,225)"
           ],
           [
            0.5,
            "rgb(107,174,214)"
           ],
           [
            0.625,
            "rgb(66,146,198)"
           ],
           [
            0.75,
            "rgb(33,113,181)"
           ],
           [
            0.875,
            "rgb(8,81,156)"
           ],
           [
            1,
            "rgb(8,48,107)"
           ]
          ],
          "line": {
           "color": "Grey",
           "width": 0.5
          },
          "showscale": false
         },
         "mode": "markers",
         "showlegend": false,
         "type": "scatter",
         "x": [
          24780.71022662143,
          0.00015880132371526778,
          0.02490818711274116
         ],
         "xaxis": "x3",
         "y": [
          0.33,
          0,
          0.322
         ],
         "yaxis": "y3"
        },
        {
         "marker": {
          "color": [
           7
          ],
          "colorbar": {
           "title": {
            "text": "Trial"
           },
           "x": 1,
           "xpad": 40
          },
          "colorscale": [
           [
            0,
            "rgb(247,251,255)"
           ],
           [
            0.125,
            "rgb(222,235,247)"
           ],
           [
            0.25,
            "rgb(198,219,239)"
           ],
           [
            0.375,
            "rgb(158,202,225)"
           ],
           [
            0.5,
            "rgb(107,174,214)"
           ],
           [
            0.625,
            "rgb(66,146,198)"
           ],
           [
            0.75,
            "rgb(33,113,181)"
           ],
           [
            0.875,
            "rgb(8,81,156)"
           ],
           [
            1,
            "rgb(8,48,107)"
           ]
          ],
          "line": {
           "color": "Grey",
           "width": 0.5
          },
          "showscale": false
         },
         "mode": "markers",
         "showlegend": false,
         "type": "scatter",
         "x": [
          18
         ],
         "xaxis": "x4",
         "y": [
          0.603
         ],
         "yaxis": "y4"
        },
        {
         "marker": {
          "color": [
           7
          ],
          "colorbar": {
           "title": {
            "text": "Trial"
           },
           "x": 1,
           "xpad": 40
          },
          "colorscale": [
           [
            0,
            "rgb(247,251,255)"
           ],
           [
            0.125,
            "rgb(222,235,247)"
           ],
           [
            0.25,
            "rgb(198,219,239)"
           ],
           [
            0.375,
            "rgb(158,202,225)"
           ],
           [
            0.5,
            "rgb(107,174,214)"
           ],
           [
            0.625,
            "rgb(66,146,198)"
           ],
           [
            0.75,
            "rgb(33,113,181)"
           ],
           [
            0.875,
            "rgb(8,81,156)"
           ],
           [
            1,
            "rgb(8,48,107)"
           ]
          ],
          "line": {
           "color": "Grey",
           "width": 0.5
          },
          "showscale": false
         },
         "mode": "markers",
         "showlegend": false,
         "type": "scatter",
         "x": [
          158
         ],
         "xaxis": "x5",
         "y": [
          0.603
         ],
         "yaxis": "y5"
        }
       ],
       "layout": {
        "height": 500,
        "template": {
         "data": {
          "bar": [
           {
            "error_x": {
             "color": "#2a3f5f"
            },
            "error_y": {
             "color": "#2a3f5f"
            },
            "marker": {
             "line": {
              "color": "white",
              "width": 0.5
             },
             "pattern": {
              "fillmode": "overlay",
              "size": 10,
              "solidity": 0.2
             }
            },
            "type": "bar"
           }
          ],
          "barpolar": [
           {
            "marker": {
             "line": {
              "color": "white",
              "width": 0.5
             },
             "pattern": {
              "fillmode": "overlay",
              "size": 10,
              "solidity": 0.2
             }
            },
            "type": "barpolar"
           }
          ],
          "carpet": [
           {
            "aaxis": {
             "endlinecolor": "#2a3f5f",
             "gridcolor": "#C8D4E3",
             "linecolor": "#C8D4E3",
             "minorgridcolor": "#C8D4E3",
             "startlinecolor": "#2a3f5f"
            },
            "baxis": {
             "endlinecolor": "#2a3f5f",
             "gridcolor": "#C8D4E3",
             "linecolor": "#C8D4E3",
             "minorgridcolor": "#C8D4E3",
             "startlinecolor": "#2a3f5f"
            },
            "type": "carpet"
           }
          ],
          "choropleth": [
           {
            "colorbar": {
             "outlinewidth": 0,
             "ticks": ""
            },
            "type": "choropleth"
           }
          ],
          "contour": [
           {
            "colorbar": {
             "outlinewidth": 0,
             "ticks": ""
            },
            "colorscale": [
             [
              0,
              "#0d0887"
             ],
             [
              0.1111111111111111,
              "#46039f"
             ],
             [
              0.2222222222222222,
              "#7201a8"
             ],
             [
              0.3333333333333333,
              "#9c179e"
             ],
             [
              0.4444444444444444,
              "#bd3786"
             ],
             [
              0.5555555555555556,
              "#d8576b"
             ],
             [
              0.6666666666666666,
              "#ed7953"
             ],
             [
              0.7777777777777778,
              "#fb9f3a"
             ],
             [
              0.8888888888888888,
              "#fdca26"
             ],
             [
              1,
              "#f0f921"
             ]
            ],
            "type": "contour"
           }
          ],
          "contourcarpet": [
           {
            "colorbar": {
             "outlinewidth": 0,
             "ticks": ""
            },
            "type": "contourcarpet"
           }
          ],
          "heatmap": [
           {
            "colorbar": {
             "outlinewidth": 0,
             "ticks": ""
            },
            "colorscale": [
             [
              0,
              "#0d0887"
             ],
             [
              0.1111111111111111,
              "#46039f"
             ],
             [
              0.2222222222222222,
              "#7201a8"
             ],
             [
              0.3333333333333333,
              "#9c179e"
             ],
             [
              0.4444444444444444,
              "#bd3786"
             ],
             [
              0.5555555555555556,
              "#d8576b"
             ],
             [
              0.6666666666666666,
              "#ed7953"
             ],
             [
              0.7777777777777778,
              "#fb9f3a"
             ],
             [
              0.8888888888888888,
              "#fdca26"
             ],
             [
              1,
              "#f0f921"
             ]
            ],
            "type": "heatmap"
           }
          ],
          "heatmapgl": [
           {
            "colorbar": {
             "outlinewidth": 0,
             "ticks": ""
            },
            "colorscale": [
             [
              0,
              "#0d0887"
             ],
             [
              0.1111111111111111,
              "#46039f"
             ],
             [
              0.2222222222222222,
              "#7201a8"
             ],
             [
              0.3333333333333333,
              "#9c179e"
             ],
             [
              0.4444444444444444,
              "#bd3786"
             ],
             [
              0.5555555555555556,
              "#d8576b"
             ],
             [
              0.6666666666666666,
              "#ed7953"
             ],
             [
              0.7777777777777778,
              "#fb9f3a"
             ],
             [
              0.8888888888888888,
              "#fdca26"
             ],
             [
              1,
              "#f0f921"
             ]
            ],
            "type": "heatmapgl"
           }
          ],
          "histogram": [
           {
            "marker": {
             "pattern": {
              "fillmode": "overlay",
              "size": 10,
              "solidity": 0.2
             }
            },
            "type": "histogram"
           }
          ],
          "histogram2d": [
           {
            "colorbar": {
             "outlinewidth": 0,
             "ticks": ""
            },
            "colorscale": [
             [
              0,
              "#0d0887"
             ],
             [
              0.1111111111111111,
              "#46039f"
             ],
             [
              0.2222222222222222,
              "#7201a8"
             ],
             [
              0.3333333333333333,
              "#9c179e"
             ],
             [
              0.4444444444444444,
              "#bd3786"
             ],
             [
              0.5555555555555556,
              "#d8576b"
             ],
             [
              0.6666666666666666,
              "#ed7953"
             ],
             [
              0.7777777777777778,
              "#fb9f3a"
             ],
             [
              0.8888888888888888,
              "#fdca26"
             ],
             [
              1,
              "#f0f921"
             ]
            ],
            "type": "histogram2d"
           }
          ],
          "histogram2dcontour": [
           {
            "colorbar": {
             "outlinewidth": 0,
             "ticks": ""
            },
            "colorscale": [
             [
              0,
              "#0d0887"
             ],
             [
              0.1111111111111111,
              "#46039f"
             ],
             [
              0.2222222222222222,
              "#7201a8"
             ],
             [
              0.3333333333333333,
              "#9c179e"
             ],
             [
              0.4444444444444444,
              "#bd3786"
             ],
             [
              0.5555555555555556,
              "#d8576b"
             ],
             [
              0.6666666666666666,
              "#ed7953"
             ],
             [
              0.7777777777777778,
              "#fb9f3a"
             ],
             [
              0.8888888888888888,
              "#fdca26"
             ],
             [
              1,
              "#f0f921"
             ]
            ],
            "type": "histogram2dcontour"
           }
          ],
          "mesh3d": [
           {
            "colorbar": {
             "outlinewidth": 0,
             "ticks": ""
            },
            "type": "mesh3d"
           }
          ],
          "parcoords": [
           {
            "line": {
             "colorbar": {
              "outlinewidth": 0,
              "ticks": ""
             }
            },
            "type": "parcoords"
           }
          ],
          "pie": [
           {
            "automargin": true,
            "type": "pie"
           }
          ],
          "scatter": [
           {
            "fillpattern": {
             "fillmode": "overlay",
             "size": 10,
             "solidity": 0.2
            },
            "type": "scatter"
           }
          ],
          "scatter3d": [
           {
            "line": {
             "colorbar": {
              "outlinewidth": 0,
              "ticks": ""
             }
            },
            "marker": {
             "colorbar": {
              "outlinewidth": 0,
              "ticks": ""
             }
            },
            "type": "scatter3d"
           }
          ],
          "scattercarpet": [
           {
            "marker": {
             "colorbar": {
              "outlinewidth": 0,
              "ticks": ""
             }
            },
            "type": "scattercarpet"
           }
          ],
          "scattergeo": [
           {
            "marker": {
             "colorbar": {
              "outlinewidth": 0,
              "ticks": ""
             }
            },
            "type": "scattergeo"
           }
          ],
          "scattergl": [
           {
            "marker": {
             "colorbar": {
              "outlinewidth": 0,
              "ticks": ""
             }
            },
            "type": "scattergl"
           }
          ],
          "scattermapbox": [
           {
            "marker": {
             "colorbar": {
              "outlinewidth": 0,
              "ticks": ""
             }
            },
            "type": "scattermapbox"
           }
          ],
          "scatterpolar": [
           {
            "marker": {
             "colorbar": {
              "outlinewidth": 0,
              "ticks": ""
             }
            },
            "type": "scatterpolar"
           }
          ],
          "scatterpolargl": [
           {
            "marker": {
             "colorbar": {
              "outlinewidth": 0,
              "ticks": ""
             }
            },
            "type": "scatterpolargl"
           }
          ],
          "scatterternary": [
           {
            "marker": {
             "colorbar": {
              "outlinewidth": 0,
              "ticks": ""
             }
            },
            "type": "scatterternary"
           }
          ],
          "surface": [
           {
            "colorbar": {
             "outlinewidth": 0,
             "ticks": ""
            },
            "colorscale": [
             [
              0,
              "#0d0887"
             ],
             [
              0.1111111111111111,
              "#46039f"
             ],
             [
              0.2222222222222222,
              "#7201a8"
             ],
             [
              0.3333333333333333,
              "#9c179e"
             ],
             [
              0.4444444444444444,
              "#bd3786"
             ],
             [
              0.5555555555555556,
              "#d8576b"
             ],
             [
              0.6666666666666666,
              "#ed7953"
             ],
             [
              0.7777777777777778,
              "#fb9f3a"
             ],
             [
              0.8888888888888888,
              "#fdca26"
             ],
             [
              1,
              "#f0f921"
             ]
            ],
            "type": "surface"
           }
          ],
          "table": [
           {
            "cells": {
             "fill": {
              "color": "#EBF0F8"
             },
             "line": {
              "color": "white"
             }
            },
            "header": {
             "fill": {
              "color": "#C8D4E3"
             },
             "line": {
              "color": "white"
             }
            },
            "type": "table"
           }
          ]
         },
         "layout": {
          "annotationdefaults": {
           "arrowcolor": "#2a3f5f",
           "arrowhead": 0,
           "arrowwidth": 1
          },
          "autotypenumbers": "strict",
          "coloraxis": {
           "colorbar": {
            "outlinewidth": 0,
            "ticks": ""
           }
          },
          "colorscale": {
           "diverging": [
            [
             0,
             "#8e0152"
            ],
            [
             0.1,
             "#c51b7d"
            ],
            [
             0.2,
             "#de77ae"
            ],
            [
             0.3,
             "#f1b6da"
            ],
            [
             0.4,
             "#fde0ef"
            ],
            [
             0.5,
             "#f7f7f7"
            ],
            [
             0.6,
             "#e6f5d0"
            ],
            [
             0.7,
             "#b8e186"
            ],
            [
             0.8,
             "#7fbc41"
            ],
            [
             0.9,
             "#4d9221"
            ],
            [
             1,
             "#276419"
            ]
           ],
           "sequential": [
            [
             0,
             "#0d0887"
            ],
            [
             0.1111111111111111,
             "#46039f"
            ],
            [
             0.2222222222222222,
             "#7201a8"
            ],
            [
             0.3333333333333333,
             "#9c179e"
            ],
            [
             0.4444444444444444,
             "#bd3786"
            ],
            [
             0.5555555555555556,
             "#d8576b"
            ],
            [
             0.6666666666666666,
             "#ed7953"
            ],
            [
             0.7777777777777778,
             "#fb9f3a"
            ],
            [
             0.8888888888888888,
             "#fdca26"
            ],
            [
             1,
             "#f0f921"
            ]
           ],
           "sequentialminus": [
            [
             0,
             "#0d0887"
            ],
            [
             0.1111111111111111,
             "#46039f"
            ],
            [
             0.2222222222222222,
             "#7201a8"
            ],
            [
             0.3333333333333333,
             "#9c179e"
            ],
            [
             0.4444444444444444,
             "#bd3786"
            ],
            [
             0.5555555555555556,
             "#d8576b"
            ],
            [
             0.6666666666666666,
             "#ed7953"
            ],
            [
             0.7777777777777778,
             "#fb9f3a"
            ],
            [
             0.8888888888888888,
             "#fdca26"
            ],
            [
             1,
             "#f0f921"
            ]
           ]
          },
          "colorway": [
           "#636efa",
           "#EF553B",
           "#00cc96",
           "#ab63fa",
           "#FFA15A",
           "#19d3f3",
           "#FF6692",
           "#B6E880",
           "#FF97FF",
           "#FECB52"
          ],
          "font": {
           "color": "#2a3f5f"
          },
          "geo": {
           "bgcolor": "white",
           "lakecolor": "white",
           "landcolor": "white",
           "showlakes": true,
           "showland": true,
           "subunitcolor": "#C8D4E3"
          },
          "hoverlabel": {
           "align": "left"
          },
          "hovermode": "closest",
          "mapbox": {
           "style": "light"
          },
          "paper_bgcolor": "white",
          "plot_bgcolor": "white",
          "polar": {
           "angularaxis": {
            "gridcolor": "#EBF0F8",
            "linecolor": "#EBF0F8",
            "ticks": ""
           },
           "bgcolor": "white",
           "radialaxis": {
            "gridcolor": "#EBF0F8",
            "linecolor": "#EBF0F8",
            "ticks": ""
           }
          },
          "scene": {
           "xaxis": {
            "backgroundcolor": "white",
            "gridcolor": "#DFE8F3",
            "gridwidth": 2,
            "linecolor": "#EBF0F8",
            "showbackground": true,
            "ticks": "",
            "zerolinecolor": "#EBF0F8"
           },
           "yaxis": {
            "backgroundcolor": "white",
            "gridcolor": "#DFE8F3",
            "gridwidth": 2,
            "linecolor": "#EBF0F8",
            "showbackground": true,
            "ticks": "",
            "zerolinecolor": "#EBF0F8"
           },
           "zaxis": {
            "backgroundcolor": "white",
            "gridcolor": "#DFE8F3",
            "gridwidth": 2,
            "linecolor": "#EBF0F8",
            "showbackground": true,
            "ticks": "",
            "zerolinecolor": "#EBF0F8"
           }
          },
          "shapedefaults": {
           "line": {
            "color": "#2a3f5f"
           }
          },
          "ternary": {
           "aaxis": {
            "gridcolor": "#DFE8F3",
            "linecolor": "#A2B1C6",
            "ticks": ""
           },
           "baxis": {
            "gridcolor": "#DFE8F3",
            "linecolor": "#A2B1C6",
            "ticks": ""
           },
           "bgcolor": "white",
           "caxis": {
            "gridcolor": "#DFE8F3",
            "linecolor": "#A2B1C6",
            "ticks": ""
           }
          },
          "title": {
           "x": 0.05
          },
          "xaxis": {
           "automargin": true,
           "gridcolor": "#EBF0F8",
           "linecolor": "#EBF0F8",
           "ticks": "",
           "title": {
            "standoff": 15
           },
           "zerolinecolor": "#EBF0F8",
           "zerolinewidth": 2
          },
          "yaxis": {
           "automargin": true,
           "gridcolor": "#EBF0F8",
           "linecolor": "#EBF0F8",
           "ticks": "",
           "title": {
            "standoff": 15
           },
           "zerolinecolor": "#EBF0F8",
           "zerolinewidth": 2
          }
         }
        },
        "title": {
         "text": "Slice Plot"
        },
        "width": 1000,
        "xaxis": {
         "anchor": "y",
         "domain": [
          0,
          0.16799999999999998
         ],
         "tickangle": -90,
         "title": {
          "text": "classifier"
         }
        },
        "xaxis2": {
         "anchor": "y2",
         "domain": [
          0.208,
          0.376
         ],
         "tickangle": -90,
         "title": {
          "text": "dt_max_depth"
         }
        },
        "xaxis3": {
         "anchor": "y3",
         "domain": [
          0.416,
          0.584
         ],
         "tickangle": -90,
         "title": {
          "text": "lr_c"
         },
         "type": "log"
        },
        "xaxis4": {
         "anchor": "y4",
         "domain": [
          0.624,
          0.792
         ],
         "tickangle": -90,
         "title": {
          "text": "rf_max_depth"
         }
        },
        "xaxis5": {
         "anchor": "y5",
         "domain": [
          0.832,
          1
         ],
         "tickangle": -90,
         "title": {
          "text": "rf_n_estimators"
         }
        },
        "yaxis": {
         "anchor": "x",
         "domain": [
          0,
          1
         ],
         "title": {
          "text": "Objective Value"
         }
        },
        "yaxis2": {
         "anchor": "x2",
         "domain": [
          0,
          1
         ],
         "matches": "y",
         "showticklabels": false
        },
        "yaxis3": {
         "anchor": "x3",
         "domain": [
          0,
          1
         ],
         "matches": "y",
         "showticklabels": false
        },
        "yaxis4": {
         "anchor": "x4",
         "domain": [
          0,
          1
         ],
         "matches": "y",
         "showticklabels": false
        },
        "yaxis5": {
         "anchor": "x5",
         "domain": [
          0,
          1
         ],
         "matches": "y",
         "showticklabels": false
        }
       }
      }
     },
     "metadata": {},
     "output_type": "display_data"
    },
    {
     "data": {
      "application/vnd.plotly.v1+json": {
       "config": {
        "plotlyServerURL": "https://plot.ly"
       },
       "data": [
        {
         "mode": "lines",
         "name": "ftr_train ROC (AUC = 0.99)",
         "type": "scatter",
         "x": [
          0,
          0,
          0,
          0,
          0,
          0,
          0,
          0,
          0,
          0,
          0,
          0,
          0,
          0,
          0,
          0,
          0,
          0,
          0,
          0,
          0,
          0,
          0,
          0,
          0,
          0,
          0,
          0,
          0,
          0,
          0,
          0,
          0,
          0,
          0,
          0.0001794043774668102,
          0.0001794043774668102,
          0.0001794043774668102,
          0.0001794043774668102,
          0.0001794043774668102,
          0.0001794043774668102,
          0.0001794043774668102,
          0.0001794043774668102,
          0.0001794043774668102,
          0.0001794043774668102,
          0.0001794043774668102,
          0.0001794043774668102,
          0.0001794043774668102,
          0.0001794043774668102,
          0.0001794043774668102,
          0.0001794043774668102,
          0.0001794043774668102,
          0.0001794043774668102,
          0.0001794043774668102,
          0.0001794043774668102,
          0.0003588087549336204,
          0.0003588087549336204,
          0.0003588087549336204,
          0.0003588087549336204,
          0.0003588087549336204,
          0.0003588087549336204,
          0.0003588087549336204,
          0.0003588087549336204,
          0.0005382131324004305,
          0.0005382131324004305,
          0.0005382131324004305,
          0.0005382131324004305,
          0.0007176175098672408,
          0.0007176175098672408,
          0.000897021887334051,
          0.000897021887334051,
          0.001076426264800861,
          0.001076426264800861,
          0.001076426264800861,
          0.001076426264800861,
          0.001076426264800861,
          0.001076426264800861,
          0.0012558306422676714,
          0.0012558306422676714,
          0.0012558306422676714,
          0.0012558306422676714,
          0.0012558306422676714,
          0.0012558306422676714,
          0.0014352350197344816,
          0.0014352350197344816,
          0.0016146393972012918,
          0.0016146393972012918,
          0.001794043774668102,
          0.001794043774668102,
          0.001973448152134912,
          0.001973448152134912,
          0.001973448152134912,
          0.002152852529601722,
          0.002152852529601722,
          0.0023322569070685323,
          0.0023322569070685323,
          0.0023322569070685323,
          0.0023322569070685323,
          0.002691065662002153,
          0.002691065662002153,
          0.0028704700394689632,
          0.0028704700394689632,
          0.0030498744169357734,
          0.0030498744169357734,
          0.0030498744169357734,
          0.0030498744169357734,
          0.0032292787944025836,
          0.0032292787944025836,
          0.0034086831718693937,
          0.0034086831718693937,
          0.003588087549336204,
          0.003588087549336204,
          0.003767491926803014,
          0.003767491926803014,
          0.003946896304269824,
          0.003946896304269824,
          0.0041263006817366344,
          0.0041263006817366344,
          0.004305705059203444,
          0.004305705059203444,
          0.004485109436670255,
          0.004485109436670255,
          0.0046645138141370645,
          0.0046645138141370645,
          0.004843918191603875,
          0.004843918191603875,
          0.005023322569070686,
          0.005023322569070686,
          0.0052027269465374955,
          0.0052027269465374955,
          0.005382131324004306,
          0.005382131324004306,
          0.005561535701471116,
          0.005561535701471116,
          0.005920344456404736,
          0.005920344456404736,
          0.006099748833871547,
          0.006099748833871547,
          0.006637961966271977,
          0.006637961966271977,
          0.006996770721205597,
          0.006996770721205597,
          0.007176175098672408,
          0.007176175098672408,
          0.007355579476139218,
          0.007355579476139218,
          0.007534983853606028,
          0.007534983853606028,
          0.007714388231072838,
          0.007714388231072838,
          0.007893792608539648,
          0.007893792608539648,
          0.008073196986006458,
          0.008073196986006458,
          0.008252601363473269,
          0.008611410118406888,
          0.008611410118406888,
          0.00897021887334051,
          0.00897021887334051,
          0.00914962325080732,
          0.00914962325080732,
          0.009329027628274129,
          0.009329027628274129,
          0.00968783638320775,
          0.00968783638320775,
          0.009867240760674561,
          0.009867240760674561,
          0.010046645138141371,
          0.010046645138141371,
          0.01022604951560818,
          0.01022604951560818,
          0.010405453893074991,
          0.010405453893074991,
          0.010584858270541802,
          0.010584858270541802,
          0.010764262648008612,
          0.010764262648008612,
          0.010943667025475421,
          0.010943667025475421,
          0.011302475780409042,
          0.011302475780409042,
          0.011481880157875853,
          0.011481880157875853,
          0.011661284535342662,
          0.011661284535342662,
          0.011840688912809472,
          0.011840688912809472,
          0.012020093290276283,
          0.012020093290276283,
          0.012199497667743094,
          0.012199497667743094,
          0.012378902045209902,
          0.012558306422676713,
          0.012558306422676713,
          0.012737710800143524,
          0.012737710800143524,
          0.012917115177610334,
          0.012917115177610334,
          0.013096519555077143,
          0.013096519555077143,
          0.013634732687477575,
          0.013634732687477575,
          0.013814137064944384,
          0.013814137064944384,
          0.013993541442411194,
          0.013993541442411194,
          0.014172945819878005,
          0.014172945819878005,
          0.014352350197344816,
          0.014352350197344816,
          0.014531754574811625,
          0.014531754574811625,
          0.015069967707212056,
          0.015069967707212056,
          0.015428776462145676,
          0.015428776462145676,
          0.015608180839612486,
          0.015608180839612486,
          0.015787585217079295,
          0.015787585217079295,
          0.01632579834947973,
          0.01632579834947973,
          0.016505202726946538,
          0.016505202726946538,
          0.016684607104413347,
          0.017043415859346968,
          0.017043415859346968,
          0.017222820236813777,
          0.017222820236813777,
          0.01776103336921421,
          0.01776103336921421,
          0.01829924650161464,
          0.01829924650161464,
          0.01829924650161464,
          0.01829924650161464,
          0.01883745963401507,
          0.01883745963401507,
          0.01919626838894869,
          0.01919626838894869,
          0.01955507714388231,
          0.01955507714388231,
          0.01955507714388231,
          0.01991388589881593,
          0.01991388589881593,
          0.020093290276282743,
          0.020093290276282743,
          0.020631503408683173,
          0.020631503408683173,
          0.020810907786149982,
          0.020810907786149982,
          0.02099031216361679,
          0.02099031216361679,
          0.021887334050950842,
          0.021887334050950842,
          0.022066738428417654,
          0.022066738428417654,
          0.022246142805884463,
          0.022246142805884463,
          0.022425547183351272,
          0.022425547183351272,
          0.022604951560818085,
          0.022604951560818085,
          0.022784355938284893,
          0.022784355938284893,
          0.022963760315751706,
          0.022963760315751706,
          0.023322569070685324,
          0.023322569070685324,
          0.023501973448152136,
          0.023501973448152136,
          0.023860782203085754,
          0.023860782203085754,
          0.024219590958019375,
          0.024219590958019375,
          0.024398995335486187,
          0.024398995335486187,
          0.024578399712952996,
          0.024578399712952996,
          0.025116612845353426,
          0.025116612845353426,
          0.02529601722282024,
          0.02529601722282024,
          0.025475421600287047,
          0.025475421600287047,
          0.025654825977753856,
          0.025654825977753856,
          0.02583423035522067,
          0.02583423035522067,
          0.026193039110154286,
          0.026193039110154286,
          0.0263724434876211,
          0.0263724434876211,
          0.026551847865087908,
          0.026551847865087908,
          0.02673125224255472,
          0.02673125224255472,
          0.02691065662002153,
          0.02691065662002153,
          0.02744886975242196,
          0.02744886975242196,
          0.027628274129888768,
          0.027628274129888768,
          0.02780767850735558,
          0.02780767850735558,
          0.02798708288482239,
          0.0281664872622892,
          0.0281664872622892,
          0.02870470039468963,
          0.02870470039468963,
          0.02888410477215644,
          0.02888410477215644,
          0.02906350914962325,
          0.02924291352709006,
          0.029601722282023683,
          0.029601722282023683,
          0.0299605310369573,
          0.0299605310369573,
          0.030498744169357734,
          0.030498744169357734,
          0.030678148546824543,
          0.030678148546824543,
          0.03085755292429135,
          0.03085755292429135,
          0.031036957301758164,
          0.031036957301758164,
          0.031754574811625406,
          0.031754574811625406,
          0.031933979189092215,
          0.031933979189092215,
          0.032113383566559024,
          0.032113383566559024,
          0.03229278794402583,
          0.03229278794402583,
          0.0335486185862935,
          0.0335486185862935,
          0.034266236096160745,
          0.034266236096160745,
          0.03444564047362755,
          0.03444564047362755,
          0.03480444922856118,
          0.03480444922856118,
          0.03606027987082885,
          0.03606027987082885,
          0.036239684248295656,
          0.036239684248295656,
          0.03677789738069609,
          0.03677789738069609,
          0.0369573017581629,
          0.0369573017581629,
          0.03803372802296376,
          0.03803372802296376,
          0.03857194115536419,
          0.03857194115536419,
          0.03964836742016505,
          0.03964836742016505,
          0.04000717617509867,
          0.04000717617509867,
          0.04108360243989953,
          0.04108360243989953,
          0.041263006817366346,
          0.041263006817366346,
          0.042698241837100824,
          0.042698241837100824,
          0.04287764621456763,
          0.04287764621456763,
          0.04305705059203445,
          0.04305705059203445,
          0.043595263724434875,
          0.043595263724434875,
          0.04556871187656979,
          0.04556871187656979,
          0.04682454251883746,
          0.04682454251883746,
          0.04736275565123789,
          0.04736275565123789,
          0.0475421600287047,
          0.0475421600287047,
          0.04772156440617151,
          0.04772156440617151,
          0.04825977753857194,
          0.04825977753857194,
          0.04843918191603875,
          0.04843918191603875,
          0.048797990670972374,
          0.048797990670972374,
          0.04897739504843918,
          0.04897739504843918,
          0.04915679942590599,
          0.04915679942590599,
          0.04951560818083961,
          0.04951560818083961,
          0.051130247578040904,
          0.05166846071044134,
          0.05238607822030857,
          0.05238607822030857,
          0.05256548259777539,
          0.05256548259777539,
          0.052924291352709006,
          0.052924291352709006,
          0.053103695730175815,
          0.053103695730175815,
          0.055077143882310726,
          0.055077143882310726,
          0.05543595263724435,
          0.05543595263724435,
          0.05615357014711159,
          0.05615357014711159,
          0.05651237890204521,
          0.05651237890204521,
          0.05758880516684607,
          0.05758880516684607,
          0.05794761392177969,
          0.05794761392177969,
          0.0581270182992465,
          0.0581270182992465,
          0.05848582705418012,
          0.05848582705418012,
          0.05866523143164693,
          0.05902404018658055,
          0.059203444564047365,
          0.059203444564047365,
          0.05974165769644779,
          0.05974165769644779,
          0.0599210620739146,
          0.0599210620739146,
          0.06010046645138142,
          0.06010046645138142,
          0.06063867958378184,
          0.06063867958378184,
          0.06117689271618228,
          0.06117689271618228,
          0.061535701471115895,
          0.061535701471115895,
          0.06189451022604951,
          0.06207391460351633,
          0.06207391460351633,
          0.06368855400071761,
          0.06368855400071761,
          0.06494438464298528,
          0.06494438464298528,
          0.06584140653031934,
          0.06620021528525297,
          0.06637961966271977,
          0.06637961966271977,
          0.06673842841765339,
          0.06673842841765339,
          0.0669178327951202,
          0.0669178327951202,
          0.06781485468245425,
          0.06781485468245425,
          0.06960889845712236,
          0.06960889845712236,
          0.06978830283458916,
          0.07032651596698959,
          0.07176175098672408,
          0.07176175098672408,
          0.0721205597416577,
          0.0721205597416577,
          0.073735199138859,
          0.07481162540365985,
          0.07499102978112666,
          0.07499102978112666,
          0.07606745604592752,
          0.07606745604592752,
          0.07768209544312882,
          0.07768209544312882,
          0.07822030857552924,
          0.07822030857552924,
          0.07875852170792967,
          0.07911733046286329,
          0.07911733046286329,
          0.08019375672766416,
          0.08019375672766416,
          0.08127018299246501,
          0.08127018299246501,
          0.08162899174739864,
          0.08234660925726588,
          0.0827054180121995,
          0.0827054180121995,
          0.08360243989953355,
          0.08360243989953355,
          0.0844994617868676,
          0.08503767491926803,
          0.08701112307140295,
          0.08701112307140295,
          0.08754933620380337,
          0.08754933620380337,
          0.08862576246860424,
          0.08898457122353785,
          0.09095801937567277,
          0.09095801937567277,
          0.09221385001794044,
          0.09257265877287406,
          0.09311087190527449,
          0.09311087190527449,
          0.0949049156799426,
          0.0949049156799426,
          0.09562253318980983,
          0.09562253318980983,
          0.09634015069967707,
          0.09634015069967707,
          0.09795479009687837,
          0.09795479009687837,
          0.09939002511661285,
          0.09939002511661285,
          0.09956942949407965,
          0.09956942949407965,
          0.10154287764621457,
          0.10154287764621457,
          0.10226049515608181,
          0.10297811266594904,
          0.10333692142088267,
          0.10333692142088267,
          0.10692500897021888,
          0.10692500897021888,
          0.10961607463222102,
          0.10997488338715465,
          0.11051309651955507,
          0.11051309651955507,
          0.11392177969142447,
          0.11517761033369214,
          0.11715105848582705,
          0.11715105848582705,
          0.11733046286329386,
          0.1180480803731611,
          0.12020093290276283,
          0.12020093290276283,
          0.12199497667743094,
          0.12199497667743094,
          0.1232508073196986,
          0.12414782920703266,
          0.12719770362396843,
          0.12719770362396843,
          0.1282741298887693,
          0.1282741298887693,
          0.12881234302116973,
          0.12881234302116973,
          0.130426982418371,
          0.130426982418371,
          0.13060638679583783,
          0.13150340868317187,
          0.13257983494797274,
          0.13257983494797274,
          0.13437387872264084,
          0.13437387872264084,
          0.13473268747757444,
          0.13473268747757444,
          0.1359885181198421,
          0.13634732687477574,
          0.13885898815931108,
          0.13885898815931108,
          0.13939720129171151,
          0.13939720129171151,
          0.13957660566917832,
          0.13957660566917832,
          0.140832436311446,
          0.14208826695371368,
          0.1458557588805167,
          0.1458557588805167,
          0.1462145676354503,
          0.147470398277718,
          0.1498026551847865,
          0.1498026551847865,
          0.15016146393972013,
          0.15016146393972013,
          0.15267312522425547,
          0.15357014711158953,
          0.15966989594546108,
          0.16002870470039468,
          0.16289917473986365,
          0.16289917473986365,
          0.16576964477933262,
          0.1672048797990671,
          0.17312522425547183,
          0.1743810548977395,
          0.1745604592752063,
          0.17473986365267313,
          0.18066020810907787,
          0.18066020810907787,
          0.18083961248654468,
          0.1831718693936132,
          0.18442770003588088,
          0.18442770003588088,
          0.18783638320775026,
          0.1881951919626839,
          0.19106566200215286,
          0.1916038751345533,
          0.19214208826695373,
          0.19214208826695373,
          0.19321851453175456,
          0.1935773232866882,
          0.1989594546106925,
          0.19967707212055974,
          0.20828848223896662,
          0.2091855041263007,
          0.21367061356297093,
          0.21564406171510586,
          0.2185145317545748,
          0.2185145317545748,
          0.2219232149264442,
          0.2219232149264442,
          0.2235378543236455,
          0.2253318980983136,
          0.2341227125941873,
          0.23681377825618946,
          0.23824901327592393,
          0.23824901327592393,
          0.24076067456045927,
          0.24076067456045927,
          0.24416935773232867,
          0.24542518837459634,
          0.24596340150699678,
          0.24632221026193038,
          0.246681019016864,
          0.24703982777179764,
          0.24739863652673125,
          0.24775744528166488,
          0.25403659849300325,
          0.2558306422676713,
          0.2574452816648726,
          0.25780409041980623,
          0.2628274129888769,
          0.2628274129888769,
          0.26623609616074634,
          0.2687477574452817,
          0.27735916756368856,
          0.27933261571582346,
          0.28327951202009327,
          0.28363832077502693,
          0.28632938643702904,
          0.2866881951919627,
          0.28955866523143164,
          0.28991747398636525,
          0.2917115177610334,
          0.292967348403301,
          0.2952996053103696,
          0.2956584140653032,
          0.2965554359526372,
          0.2969142447075709,
          0.2976318622174381,
          0.29799067097237175,
          0.3067814854682454,
          0.30714029422317907,
          0.30749910297811267,
          0.3094725511302476,
          0.310010764262648,
          0.3103695730175816,
          0.31252242554718335,
          0.31288123430211695,
          0.3150340868317187,
          0.3153928955866523,
          0.3207750269106566,
          0.32274847506279153,
          0.32454251883745966,
          0.32490132759239326,
          0.32597775385719413,
          0.32633656261212773,
          0.32848941514172947,
          0.32884822389666307,
          0.3310010764262648,
          0.3310010764262648,
          0.333692142088267,
          0.3342303552206674,
          0.3369214208826695,
          0.3396124865446717,
          0.34230355220667386,
          0.34266236096160746,
          0.3521707929673484,
          0.35611768927161824,
          0.3589881593110872,
          0.3595263724434876,
          0.3598851811984212,
          0.3602439899533549,
          0.3693936132041622,
          0.373340509508432,
          0.3763903839253678,
          0.3769285970577682,
          0.3776462145676355,
          0.3812343021169717,
          0.3815931108719053,
          0.38643702906350913,
          0.39020452099031216,
          0.3946896304269824,
          0.395048439181916,
          0.40724793684965915,
          0.4101184068891281,
          0.412091855041263,
          0.4124506637961966,
          0.41747398636526734,
          0.41801219949766777,
          0.41944743451740224,
          0.41944743451740224,
          0.422497308934338,
          0.42303552206673845,
          0.4248295658414065,
          0.4296734840330104,
          0.43254395407247936,
          0.43290276282741297,
          0.443308216720488,
          0.4488697524219591,
          0.4556871187656979,
          0.4560459275206315,
          0.45694294940796554,
          0.4573017581628992,
          0.46035163257983497,
          0.4610692500897022,
          0.4630426982418371,
          0.46698959454610695,
          0.47273053462504483,
          0.4734481521349121,
          0.4790096878363832,
          0.4793684965913168,
          0.4842124147829207,
          0.4876210979547901,
          0.48995335486185865,
          0.49031216361679225,
          0.5008970218873341,
          0.5012558306422676,
          0.504664513814137,
          0.5102260495156081,
          0.5147111589522785,
          0.515069967707212,
          0.5211697165410836,
          0.5218873340509509,
          0.5252960172228203,
          0.5258342303552207,
          0.5261930391101542,
          0.5270900609974883,
          0.527448869752422,
          0.5290635091496233,
          0.5294223179045568,
          0.5299605310369573,
          0.536777897380696,
          0.5391101542877647,
          0.5394689630426982,
          0.5446716899892358,
          0.5450304987441693,
          0.5482597775385719,
          0.5482597775385719,
          0.5486185862935056,
          0.5489773950484392,
          0.55005382131324,
          0.5505920344456404,
          0.552924291352709,
          0.5601004664513815,
          0.5620739146035163,
          0.56243272335845,
          0.5649443846429852,
          0.5653031933979189,
          0.5687118765697883,
          0.5697883028345891,
          0.569967707212056,
          0.5703265159669896,
          0.5706853247219232,
          0.5710441334768568,
          0.5730175816289917,
          0.5733763903839254,
          0.5744528166487263,
          0.5748116254036598,
          0.5789379260853965,
          0.5792967348403301,
          0.5798349479727305,
          0.5800143523501974,
          0.5870111230714029,
          0.5884463580911374,
          0.5888051668460711,
          0.5893433799784715,
          0.5897021887334051,
          0.5909580193756727,
          0.5913168281306064,
          0.5914962325080731,
          0.5918550412630068,
          0.5940078937926085,
          0.5943667025475422,
          0.5975959813419447,
          0.5981341944743451,
          0.599210620739146,
          0.5995694294940797,
          0.6013634732687477,
          0.6017222820236814,
          0.6047721564406171,
          0.6051309651955508,
          0.6088984571223538,
          0.6180480803731611,
          0.6205597416576965,
          0.6209185504126301,
          0.6210979547900969,
          0.6214567635450305,
          0.623789020452099,
          0.6241478292070326,
          0.6263006817366343,
          0.6268388948690348,
          0.631324004305705,
          0.6316828130606387,
          0.6338356655902404,
          0.6341944743451741,
          0.6354503049874417,
          0.6358091137423754,
          0.6386795837818443,
          0.6390383925367779,
          0.6415500538213132,
          0.6419088625762469,
          0.6512378902045209,
          0.6526731252242555,
          0.6533907427341227,
          0.6544671689989235,
          0.655005382131324,
          0.6564406171510585,
          0.6569788302834589,
          0.6605669178327951,
          0.6609257265877287,
          0.6614639397201292,
          0.6618227484750628,
          0.6641550053821313,
          0.6645138141370649,
          0.6661284535342662,
          0.6664872622891999,
          0.6675636885540007,
          0.6681019016864012,
          0.670075349838536,
          0.6706135629709364,
          0.6747398636526731,
          0.6828130606386796,
          0.6853247219232149,
          0.6856835306781486,
          0.6864011481880158,
          0.6867599569429494,
          0.6872981700753499,
          0.6876569788302834,
          0.6885540007176175,
          0.689092213850018,
          0.6896304269824184,
          0.6903480444922856,
          0.6971654108360243,
          0.6980624327233584,
          0.6984212414782921,
          0.6987800502332256,
          0.6991388589881593,
          0.6993182633656261,
          0.6996770721205597,
          0.7000358808754934,
          0.7007534983853606,
          0.7018299246501615,
          0.7021887334050951,
          0.7034445640473628,
          0.7038033728022963,
          0.7061356297093649,
          0.7156440617151059,
          0.7215644061715106,
          0.7219232149264442,
          0.7276641550053822,
          0.7280229637603157,
          0.7283817725152494,
          0.7289199856476498,
          0.7303552206673842,
          0.7307140294223179,
          0.7330462863293864,
          0.7334050950843201,
          0.7359167563688555,
          0.736275565123789,
          0.7377108001435235,
          0.7456045927520631,
          0.7502691065662002,
          0.7506279153211338,
          0.7527807678507356,
          0.7531395766056692,
          0.7581628991747399,
          0.7585217079296734,
          0.7595981341944743,
          0.759956942949408,
          0.7612127735916756,
          0.7615715823466093,
          0.7621097954790097,
          0.7630068173663438,
          0.7644420523860782,
          0.7669537136706136,
          0.767491926803014,
          0.7689271618227485,
          0.7782561894510226,
          0.780767850735558,
          0.7813060638679584,
          0.7895586652314317,
          0.790096878363832,
          0.7902762827412989,
          0.7906350914962325,
          0.7911733046286329,
          0.7915321133835665,
          0.7929673484033011,
          0.7933261571582346,
          0.7935055615357015,
          0.7938643702906351,
          0.7944025834230355,
          0.7951202009329028,
          0.7961966271977037,
          0.7965554359526372,
          0.7976318622174381,
          0.7979906709723718,
          0.7988876928597057,
          0.7994259059921062,
          0.7999641191245066,
          0.8003229278794403,
          0.8008611410118407,
          0.8012199497667744,
          0.8015787585217079,
          0.8019375672766416,
          0.8132400430570506,
          0.8153928955866523,
          0.815751704341586,
          0.8168281306063868,
          0.8171869393613204,
          0.8268747757445282,
          0.8272335844994618,
          0.827951202009329,
          0.8283100107642627,
          0.8286688195191962,
          0.8301040545389308,
          0.8302834589163975,
          0.8306422676713312,
          0.8313598851811984,
          0.8317186939361321,
          0.8320775026910656,
          0.8327951202009329,
          0.8329745245783997,
          0.8333333333333334,
          0.8338715464657338,
          0.8344097595981342,
          0.8347685683530678,
          0.8349479727305347,
          0.8354861858629351,
          0.8356655902404019,
          0.8444564047362756,
          0.8500179404377467,
          0.8503767491926802,
          0.8512737710800143,
          0.851632579834948,
          0.8523501973448152,
          0.8527090060997489,
          0.8568353067814855,
          0.8571941155364191,
          0.8588087549336204,
          0.859167563688554,
          0.8598851811984213,
          0.8604233943308217,
          0.8607822030857553,
          0.8613204162181557,
          0.8616792249730894,
          0.862038033728023,
          0.8634732687477574,
          0.864908503767492,
          0.8652673125224255,
          0.8668819519196268,
          0.8672407606745605,
          0.8679583781844277,
          0.8683171869393613,
          0.8684965913168281,
          0.8690348044492285,
          0.8697524219590959,
          0.8826695371367062,
          0.8842841765339075,
          0.884642985288841,
          0.8850017940437747,
          0.8853606027987083,
          0.8898457122353786,
          0.8902045209903121,
          0.8928955866523143,
          0.8934337997847147,
          0.8943308216720488,
          0.8946896304269825,
          0.8955866523143164,
          0.8959454610692501,
          0.8972012917115177,
          0.8973806960889845,
          0.8977395048439182,
          0.8991747398636527,
          0.8995335486185863,
          0.9009687836383208,
          0.9013275923932544,
          0.903659849300323,
          0.912091855041263,
          0.9176533907427341,
          0.9180121994976678,
          0.9189092213850018,
          0.9192680301399354,
          0.9207032651596699,
          0.9210620739146035,
          0.9214208826695371,
          0.9219590958019376,
          0.922497308934338,
          0.9230355220667384,
          0.9248295658414065,
          0.9251883745963402,
          0.9259059921062074,
          0.9266236096160746,
          0.9268030139935415,
          0.927161822748475,
          0.9273412271259419,
          0.9278794402583423,
          0.9280588446358091,
          0.9393613204162181,
          0.940437746681019,
          0.9409759598134194,
          0.9416935773232867,
          0.9420523860782203,
          0.9425905992106207,
          0.9429494079655544,
          0.9452816648726229,
          0.9456404736275565,
          0.9504843918191603,
          0.950843200574094,
          0.9515608180839612,
          0.9519196268388949,
          0.9524578399712953,
          0.952816648726229,
          0.9544312881234303,
          0.964119124506638,
          0.9657337639038392,
          0.9662719770362397,
          0.9666307857911733,
          0.9703982777179763,
          0.9707570864729099,
          0.9709364908503767,
          0.9712952996053104,
          0.971654108360244,
          0.9721923214926445,
          0.9734481521349121,
          0.9786508790814495,
          0.9836742016505202,
          0.9840330104054539,
          0.9854682454251884,
          0.9865446716899893,
          0.9901327592393254,
          0.99156799425906,
          0.9919268030139935,
          0.9939002511661285,
          0.9942590599210621,
          0.9960531036957302,
          0.9974883387154646,
          0.9991029781126659,
          1
         ],
         "y": [
          0,
          0.001402524544179523,
          0.0021037868162692847,
          0.004908835904628331,
          0.007713884992987377,
          0.011921458625525946,
          0.0182328190743338,
          0.020336605890603085,
          0.029453015427769985,
          0.03576437587657784,
          0.04978962131837307,
          0.05960729312762973,
          0.07152875175315568,
          0.07994389901823282,
          0.0967741935483871,
          0.10518934081346423,
          0.12131837307152875,
          0.1297335203366059,
          0.1458625525946704,
          0.15427769985974754,
          0.15988779803646563,
          0.16129032258064516,
          0.1697054698457223,
          0.17601683029453016,
          0.19074333800841514,
          0.1956521739130435,
          0.20757363253856942,
          0.21458625525946703,
          0.2300140252454418,
          0.2335203366058906,
          0.24894810659186536,
          0.25245441795231416,
          0.2720897615708275,
          0.27419354838709675,
          0.28751753155680226,
          0.28751753155680226,
          0.2917251051893408,
          0.2973352033660589,
          0.30925666199158486,
          0.3127629733520337,
          0.3316970546984572,
          0.33590462833099577,
          0.34712482468443195,
          0.35133239831697055,
          0.36395511921458623,
          0.3688639551192146,
          0.3807854137447405,
          0.38288920056100983,
          0.3955119214586255,
          0.39901823281907434,
          0.4221598877980365,
          0.4270687237026648,
          0.43548387096774194,
          0.438288920056101,
          0.4424964936886395,
          0.4424964936886395,
          0.4474053295932679,
          0.4488078541374474,
          0.45511921458625526,
          0.4586255259467041,
          0.46774193548387094,
          0.4691444600280505,
          0.4761570827489481,
          0.4761570827489481,
          0.4789621318373071,
          0.4803646563814867,
          0.4845722300140252,
          0.4845722300140252,
          0.4908835904628331,
          0.49228611500701264,
          0.49859747545582045,
          0.49859747545582045,
          0.5077138849929874,
          0.5105189340813464,
          0.52945301542777,
          0.5308555399719496,
          0.5406732117812062,
          0.5406732117812062,
          0.5715287517531557,
          0.5743338008415148,
          0.5841514726507714,
          0.5862552594670407,
          0.5883590462833099,
          0.5883590462833099,
          0.5953716690042076,
          0.5953716690042076,
          0.5995792426367461,
          0.5995792426367461,
          0.6051893408134642,
          0.6051893408134642,
          0.6115007012622721,
          0.6136044880785414,
          0.6136044880785414,
          0.6199158485273493,
          0.6199158485273493,
          0.6213183730715287,
          0.623422159887798,
          0.6297335203366059,
          0.6297335203366059,
          0.6374474053295933,
          0.6374474053295933,
          0.6465638148667602,
          0.6465638148667602,
          0.6486676016830295,
          0.6507713884992987,
          0.6521739130434783,
          0.6521739130434783,
          0.6605890603085554,
          0.6605890603085554,
          0.667601683029453,
          0.667601683029453,
          0.6697054698457223,
          0.6697054698457223,
          0.6725105189340813,
          0.6725105189340813,
          0.6781206171107994,
          0.6781206171107994,
          0.6802244039270687,
          0.6816269284712483,
          0.6837307152875175,
          0.6837307152875175,
          0.685133239831697,
          0.685133239831697,
          0.6858345021037868,
          0.6858345021037868,
          0.6928471248246845,
          0.6928471248246845,
          0.7040673211781207,
          0.7040673211781207,
          0.7068723702664796,
          0.7068723702664796,
          0.7124824684431977,
          0.7124824684431977,
          0.7131837307152875,
          0.7131837307152875,
          0.7194950911640954,
          0.7194950911640954,
          0.7223001402524544,
          0.7223001402524544,
          0.7279102384291725,
          0.7279102384291725,
          0.7300140252454418,
          0.7300140252454418,
          0.7321178120617111,
          0.7321178120617111,
          0.7328190743338009,
          0.7328190743338009,
          0.7454417952314165,
          0.7454417952314165,
          0.7468443197755961,
          0.7468443197755961,
          0.7489481065918654,
          0.7489481065918654,
          0.7517531556802244,
          0.7517531556802244,
          0.7524544179523142,
          0.7538569424964937,
          0.7538569424964937,
          0.7566619915848527,
          0.7566619915848527,
          0.7580645161290323,
          0.7580645161290323,
          0.7601683029453016,
          0.7601683029453016,
          0.7622720897615708,
          0.7622720897615708,
          0.7636746143057503,
          0.7636746143057503,
          0.7671809256661991,
          0.7671809256661991,
          0.7720897615708275,
          0.7720897615708275,
          0.7727910238429172,
          0.773492286115007,
          0.7748948106591865,
          0.7748948106591865,
          0.7755960729312763,
          0.7755960729312763,
          0.7762973352033661,
          0.7762973352033661,
          0.7776998597475456,
          0.7776998597475456,
          0.7798036465638148,
          0.7798036465638148,
          0.7805049088359046,
          0.7805049088359046,
          0.7833099579242637,
          0.7833099579242637,
          0.7854137447405329,
          0.7854137447405329,
          0.7868162692847125,
          0.7875175315568023,
          0.7875175315568023,
          0.7896213183730715,
          0.7896213183730715,
          0.7903225806451613,
          0.7903225806451613,
          0.791023842917251,
          0.791023842917251,
          0.7931276297335204,
          0.7931276297335204,
          0.7938288920056101,
          0.7938288920056101,
          0.7945301542776999,
          0.7945301542776999,
          0.7980364656381487,
          0.7980364656381487,
          0.800140252454418,
          0.800140252454418,
          0.8022440392706872,
          0.8022440392706872,
          0.8071528751753155,
          0.8071528751753155,
          0.8078541374474053,
          0.8078541374474053,
          0.8085553997194951,
          0.8085553997194951,
          0.8113604488078542,
          0.8113604488078542,
          0.8134642356241234,
          0.8134642356241234,
          0.8141654978962132,
          0.8141654978962132,
          0.814866760168303,
          0.814866760168303,
          0.8155680224403927,
          0.8162692847124825,
          0.8162692847124825,
          0.8183730715287517,
          0.8183730715287517,
          0.8190743338008415,
          0.8190743338008415,
          0.8211781206171108,
          0.8225806451612904,
          0.8239831697054698,
          0.8239831697054698,
          0.8253856942496494,
          0.8253856942496494,
          0.8260869565217391,
          0.8260869565217391,
          0.8281907433380085,
          0.8295932678821879,
          0.8295932678821879,
          0.8309957924263675,
          0.8309957924263675,
          0.832398316970547,
          0.832398316970547,
          0.8366058906030855,
          0.8366058906030855,
          0.8415147265077139,
          0.8415147265077139,
          0.8422159887798036,
          0.8422159887798036,
          0.8436185133239832,
          0.8436185133239832,
          0.844319775596073,
          0.844319775596073,
          0.8485273492286115,
          0.8485273492286115,
          0.8513323983169705,
          0.8513323983169705,
          0.85273492286115,
          0.85273492286115,
          0.8541374474053296,
          0.8541374474053296,
          0.8555399719495091,
          0.8555399719495091,
          0.8562412342215989,
          0.8562412342215989,
          0.8569424964936886,
          0.8569424964936886,
          0.8576437587657784,
          0.8576437587657784,
          0.8583450210378681,
          0.8583450210378681,
          0.8590462833099579,
          0.8590462833099579,
          0.8597475455820477,
          0.8597475455820477,
          0.8611500701262272,
          0.8611500701262272,
          0.861851332398317,
          0.861851332398317,
          0.8639551192145862,
          0.8639551192145862,
          0.864656381486676,
          0.864656381486676,
          0.8660589060308556,
          0.8660589060308556,
          0.8667601683029453,
          0.8667601683029453,
          0.8695652173913043,
          0.8695652173913043,
          0.8702664796633941,
          0.8702664796633941,
          0.8716690042075736,
          0.8716690042075736,
          0.8723702664796634,
          0.8723702664796634,
          0.8730715287517532,
          0.8730715287517532,
          0.8737727910238429,
          0.8737727910238429,
          0.8751753155680224,
          0.8751753155680224,
          0.8758765778401122,
          0.879382889200561,
          0.879382889200561,
          0.8800841514726507,
          0.8800841514726507,
          0.8821879382889201,
          0.8821879382889201,
          0.8828892005610098,
          0.8828892005610098,
          0.8835904628330996,
          0.8835904628330996,
          0.8842917251051894,
          0.8842917251051894,
          0.884992987377279,
          0.884992987377279,
          0.8856942496493688,
          0.8856942496493688,
          0.8870967741935484,
          0.8870967741935484,
          0.8877980364656382,
          0.8877980364656382,
          0.8892005610098177,
          0.8892005610098177,
          0.8927068723702665,
          0.8927068723702665,
          0.8948106591865358,
          0.8948106591865358,
          0.896914446002805,
          0.896914446002805,
          0.8976157082748948,
          0.8976157082748948,
          0.8990182328190743,
          0.8990182328190743,
          0.9011220196353437,
          0.9011220196353437,
          0.9018232819074333,
          0.9018232819074333,
          0.9032258064516129,
          0.9032258064516129,
          0.906030855539972,
          0.906030855539972,
          0.9074333800841514,
          0.9074333800841514,
          0.9081346423562412,
          0.9081346423562412,
          0.908835904628331,
          0.908835904628331,
          0.9102384291725105,
          0.9102384291725105,
          0.9123422159887798,
          0.9123422159887798,
          0.9130434782608695,
          0.9130434782608695,
          0.9137447405329593,
          0.9137447405329593,
          0.9144460028050491,
          0.9144460028050491,
          0.9158485273492286,
          0.9158485273492286,
          0.9165497896213184,
          0.9165497896213184,
          0.9186535764375876,
          0.9186535764375876,
          0.9193548387096774,
          0.9193548387096774,
          0.9200561009817672,
          0.9200561009817672,
          0.9207573632538569,
          0.9207573632538569,
          0.9221598877980365,
          0.9221598877980365,
          0.9228611500701263,
          0.9228611500701263,
          0.923562412342216,
          0.923562412342216,
          0.9249649368863955,
          0.9249649368863955,
          0.9256661991584852,
          0.9256661991584852,
          0.926367461430575,
          0.926367461430575,
          0.9270687237026648,
          0.9270687237026648,
          0.9291725105189341,
          0.9291725105189341,
          0.9298737727910238,
          0.9298737727910238,
          0.9298737727910238,
          0.9298737727910238,
          0.9312762973352033,
          0.9312762973352033,
          0.9319775596072931,
          0.9319775596072931,
          0.9326788218793829,
          0.9326788218793829,
          0.9333800841514727,
          0.9333800841514727,
          0.9340813464235624,
          0.9340813464235624,
          0.9347826086956522,
          0.9347826086956522,
          0.9361851332398317,
          0.9361851332398317,
          0.9368863955119214,
          0.9368863955119214,
          0.938288920056101,
          0.938288920056101,
          0.9389901823281908,
          0.9389901823281908,
          0.9403927068723703,
          0.9403927068723703,
          0.94109396914446,
          0.94109396914446,
          0.94109396914446,
          0.94109396914446,
          0.9417952314165497,
          0.9417952314165497,
          0.9424964936886395,
          0.9424964936886395,
          0.9431977559607293,
          0.9431977559607293,
          0.9438990182328191,
          0.9438990182328191,
          0.9453015427769986,
          0.9453015427769986,
          0.9460028050490884,
          0.9460028050490884,
          0.9467040673211781,
          0.9474053295932678,
          0.9474053295932678,
          0.9481065918653576,
          0.9481065918653576,
          0.9488078541374474,
          0.9488078541374474,
          0.9495091164095372,
          0.9495091164095372,
          0.9495091164095372,
          0.9495091164095372,
          0.9502103786816269,
          0.9502103786816269,
          0.9509116409537167,
          0.9509116409537167,
          0.9516129032258065,
          0.9516129032258065,
          0.9523141654978962,
          0.9523141654978962,
          0.9530154277699859,
          0.9530154277699859,
          0.9530154277699859,
          0.9530154277699859,
          0.9537166900420757,
          0.9537166900420757,
          0.9544179523141655,
          0.9544179523141655,
          0.9544179523141655,
          0.9544179523141655,
          0.9551192145862553,
          0.9551192145862553,
          0.9565217391304348,
          0.9565217391304348,
          0.9572230014025246,
          0.9572230014025246,
          0.958625525946704,
          0.9600280504908836,
          0.9600280504908836,
          0.9607293127629734,
          0.9607293127629734,
          0.9614305750350631,
          0.9614305750350631,
          0.9621318373071529,
          0.9621318373071529,
          0.9628330995792427,
          0.9628330995792427,
          0.9649368863955119,
          0.9649368863955119,
          0.9656381486676017,
          0.9656381486676017,
          0.9656381486676017,
          0.9656381486676017,
          0.9663394109396914,
          0.9663394109396914,
          0.9670406732117812,
          0.9670406732117812,
          0.9670406732117812,
          0.9670406732117812,
          0.967741935483871,
          0.967741935483871,
          0.967741935483871,
          0.967741935483871,
          0.9684431977559608,
          0.9684431977559608,
          0.9691444600280504,
          0.9691444600280504,
          0.9698457223001402,
          0.9698457223001402,
          0.97054698457223,
          0.97054698457223,
          0.9712482468443198,
          0.9712482468443198,
          0.9719495091164095,
          0.9719495091164095,
          0.9726507713884993,
          0.9726507713884993,
          0.9733520336605891,
          0.9733520336605891,
          0.9740532959326789,
          0.9740532959326789,
          0.9747545582047685,
          0.9747545582047685,
          0.9754558204768583,
          0.9754558204768583,
          0.9754558204768583,
          0.9754558204768583,
          0.9761570827489481,
          0.9761570827489481,
          0.9761570827489481,
          0.9761570827489481,
          0.9775596072931276,
          0.9775596072931276,
          0.9775596072931276,
          0.9775596072931276,
          0.9782608695652174,
          0.9782608695652174,
          0.9789621318373072,
          0.9789621318373072,
          0.9789621318373072,
          0.9789621318373072,
          0.979663394109397,
          0.979663394109397,
          0.9803646563814866,
          0.9803646563814866,
          0.9810659186535764,
          0.9810659186535764,
          0.9817671809256662,
          0.9817671809256662,
          0.9817671809256662,
          0.9817671809256662,
          0.982468443197756,
          0.982468443197756,
          0.9831697054698457,
          0.9831697054698457,
          0.9838709677419355,
          0.9838709677419355,
          0.9838709677419355,
          0.9838709677419355,
          0.9845722300140253,
          0.9845722300140253,
          0.985273492286115,
          0.985273492286115,
          0.9859747545582047,
          0.9859747545582047,
          0.9859747545582047,
          0.9859747545582047,
          0.9866760168302945,
          0.9866760168302945,
          0.9866760168302945,
          0.9866760168302945,
          0.9873772791023843,
          0.9873772791023843,
          0.988078541374474,
          0.988078541374474,
          0.988078541374474,
          0.988078541374474,
          0.9887798036465638,
          0.9887798036465638,
          0.9894810659186536,
          0.9894810659186536,
          0.9894810659186536,
          0.9894810659186536,
          0.9894810659186536,
          0.9894810659186536,
          0.9901823281907434,
          0.9901823281907434,
          0.9908835904628331,
          0.9908835904628331,
          0.9908835904628331,
          0.9908835904628331,
          0.9915848527349228,
          0.9915848527349228,
          0.9915848527349228,
          0.9915848527349228,
          0.9915848527349228,
          0.9915848527349228,
          0.9922861150070126,
          0.9922861150070126,
          0.9922861150070126,
          0.9922861150070126,
          0.9922861150070126,
          0.9922861150070126,
          0.9922861150070126,
          0.9922861150070126,
          0.9922861150070126,
          0.9922861150070126,
          0.9929873772791024,
          0.9929873772791024,
          0.9936886395511921,
          0.9936886395511921,
          0.9936886395511921,
          0.9936886395511921,
          0.9936886395511921,
          0.9936886395511921,
          0.9943899018232819,
          0.9943899018232819,
          0.9950911640953717,
          0.9950911640953717,
          0.9950911640953717,
          0.9950911640953717,
          0.9950911640953717,
          0.9950911640953717,
          0.9950911640953717,
          0.9950911640953717,
          0.9950911640953717,
          0.9950911640953717,
          0.9950911640953717,
          0.9950911640953717,
          0.9950911640953717,
          0.9950911640953717,
          0.9957924263674615,
          0.9957924263674615,
          0.9957924263674615,
          0.9957924263674615,
          0.9957924263674615,
          0.9957924263674615,
          0.9957924263674615,
          0.9957924263674615,
          0.9957924263674615,
          0.9957924263674615,
          0.9957924263674615,
          0.9957924263674615,
          0.9957924263674615,
          0.9957924263674615,
          0.9957924263674615,
          0.9957924263674615,
          0.9957924263674615,
          0.9957924263674615,
          0.9957924263674615,
          0.9957924263674615,
          0.9957924263674615,
          0.9957924263674615,
          0.9957924263674615,
          0.9957924263674615,
          0.9957924263674615,
          0.9957924263674615,
          0.9957924263674615,
          0.9957924263674615,
          0.9957924263674615,
          0.9957924263674615,
          0.9957924263674615,
          0.9957924263674615,
          0.9957924263674615,
          0.9957924263674615,
          0.9957924263674615,
          0.9957924263674615,
          0.9957924263674615,
          0.9957924263674615,
          0.9964936886395512,
          0.9964936886395512,
          0.9964936886395512,
          0.9964936886395512,
          0.9964936886395512,
          0.9964936886395512,
          0.9964936886395512,
          0.9964936886395512,
          0.9964936886395512,
          0.9964936886395512,
          0.9964936886395512,
          0.9964936886395512,
          0.9964936886395512,
          0.9964936886395512,
          0.9964936886395512,
          0.9964936886395512,
          0.9964936886395512,
          0.9964936886395512,
          0.9964936886395512,
          0.9964936886395512,
          0.9964936886395512,
          0.9964936886395512,
          0.9964936886395512,
          0.9964936886395512,
          0.9964936886395512,
          0.9964936886395512,
          0.9964936886395512,
          0.9964936886395512,
          0.9964936886395512,
          0.9964936886395512,
          0.9964936886395512,
          0.9971949509116409,
          0.9971949509116409,
          0.9971949509116409,
          0.9971949509116409,
          0.9971949509116409,
          0.9971949509116409,
          0.9971949509116409,
          0.9971949509116409,
          0.9971949509116409,
          0.9971949509116409,
          0.9971949509116409,
          0.9971949509116409,
          0.9971949509116409,
          0.9971949509116409,
          0.9971949509116409,
          0.9971949509116409,
          0.9971949509116409,
          0.9971949509116409,
          0.9971949509116409,
          0.9971949509116409,
          0.9971949509116409,
          0.9971949509116409,
          0.9971949509116409,
          0.9971949509116409,
          0.9971949509116409,
          0.9971949509116409,
          0.9971949509116409,
          0.9971949509116409,
          0.9971949509116409,
          0.9971949509116409,
          0.9971949509116409,
          0.9971949509116409,
          0.9971949509116409,
          0.9971949509116409,
          0.9971949509116409,
          0.9971949509116409,
          0.9971949509116409,
          0.9971949509116409,
          0.9971949509116409,
          0.9971949509116409,
          0.9971949509116409,
          0.9971949509116409,
          0.9971949509116409,
          0.9971949509116409,
          0.9971949509116409,
          0.9971949509116409,
          0.9971949509116409,
          0.9978962131837307,
          0.9978962131837307,
          0.9978962131837307,
          0.9978962131837307,
          0.9978962131837307,
          0.9978962131837307,
          0.9992987377279102,
          0.9992987377279102,
          0.9992987377279102,
          0.9992987377279102,
          0.9992987377279102,
          0.9992987377279102,
          0.9992987377279102,
          0.9992987377279102,
          0.9992987377279102,
          0.9992987377279102,
          0.9992987377279102,
          0.9992987377279102,
          0.9992987377279102,
          0.9992987377279102,
          0.9992987377279102,
          0.9992987377279102,
          0.9992987377279102,
          0.9992987377279102,
          0.9992987377279102,
          0.9992987377279102,
          0.9992987377279102,
          0.9992987377279102,
          0.9992987377279102,
          0.9992987377279102,
          0.9992987377279102,
          0.9992987377279102,
          0.9992987377279102,
          0.9992987377279102,
          0.9992987377279102,
          0.9992987377279102,
          0.9992987377279102,
          0.9992987377279102,
          0.9992987377279102,
          0.9992987377279102,
          0.9992987377279102,
          0.9992987377279102,
          0.9992987377279102,
          0.9992987377279102,
          0.9992987377279102,
          0.9992987377279102,
          0.9992987377279102,
          0.9992987377279102,
          0.9992987377279102,
          0.9992987377279102,
          0.9992987377279102,
          0.9992987377279102,
          0.9992987377279102,
          0.9992987377279102,
          0.9992987377279102,
          0.9992987377279102,
          0.9992987377279102,
          0.9992987377279102,
          0.9992987377279102,
          0.9992987377279102,
          0.9992987377279102,
          0.9992987377279102,
          0.9992987377279102,
          0.9992987377279102,
          0.9992987377279102,
          0.9992987377279102,
          0.9992987377279102,
          0.9992987377279102,
          0.9992987377279102,
          0.9992987377279102,
          0.9992987377279102,
          0.9992987377279102,
          0.9992987377279102,
          0.9992987377279102,
          0.9992987377279102,
          0.9992987377279102,
          0.9992987377279102,
          0.9992987377279102,
          0.9992987377279102,
          0.9992987377279102,
          0.9992987377279102,
          0.9992987377279102,
          0.9992987377279102,
          0.9992987377279102,
          1,
          1,
          1,
          1,
          1,
          1,
          1,
          1,
          1,
          1,
          1,
          1,
          1,
          1,
          1,
          1,
          1,
          1,
          1,
          1,
          1,
          1,
          1,
          1,
          1,
          1,
          1,
          1,
          1,
          1,
          1,
          1,
          1,
          1,
          1,
          1,
          1,
          1,
          1,
          1,
          1,
          1,
          1,
          1,
          1,
          1,
          1,
          1,
          1,
          1,
          1,
          1,
          1,
          1,
          1,
          1,
          1,
          1,
          1,
          1,
          1,
          1,
          1,
          1,
          1,
          1,
          1,
          1,
          1,
          1,
          1,
          1,
          1,
          1,
          1,
          1,
          1,
          1,
          1,
          1,
          1,
          1,
          1,
          1,
          1,
          1,
          1,
          1,
          1,
          1,
          1,
          1,
          1,
          1,
          1,
          1,
          1,
          1,
          1,
          1,
          1,
          1,
          1,
          1,
          1,
          1,
          1,
          1,
          1,
          1,
          1,
          1,
          1,
          1,
          1,
          1,
          1,
          1,
          1,
          1,
          1,
          1,
          1,
          1,
          1,
          1,
          1,
          1,
          1,
          1,
          1,
          1,
          1,
          1,
          1,
          1,
          1,
          1,
          1,
          1,
          1,
          1,
          1,
          1,
          1,
          1,
          1,
          1,
          1,
          1,
          1,
          1,
          1,
          1,
          1,
          1,
          1,
          1,
          1,
          1,
          1,
          1,
          1,
          1,
          1,
          1,
          1,
          1,
          1,
          1,
          1,
          1,
          1,
          1,
          1,
          1,
          1,
          1,
          1,
          1,
          1,
          1,
          1,
          1,
          1,
          1,
          1,
          1,
          1,
          1,
          1,
          1,
          1,
          1,
          1,
          1,
          1,
          1,
          1,
          1,
          1,
          1,
          1,
          1,
          1,
          1,
          1,
          1,
          1,
          1,
          1,
          1,
          1,
          1,
          1,
          1,
          1
         ]
        },
        {
         "mode": "lines",
         "name": "ftr_valid ROC (AUC = 0.86)",
         "type": "scatter",
         "x": [
          0,
          0,
          0,
          0,
          0,
          0.0008368200836820083,
          0.0008368200836820083,
          0.0016736401673640166,
          0.0016736401673640166,
          0.0041841004184100415,
          0.0041841004184100415,
          0.00502092050209205,
          0.00502092050209205,
          0.005857740585774059,
          0.005857740585774059,
          0.005857740585774059,
          0.005857740585774059,
          0.005857740585774059,
          0.005857740585774059,
          0.0066945606694560665,
          0.0066945606694560665,
          0.008368200836820083,
          0.008368200836820083,
          0.009205020920502092,
          0.009205020920502092,
          0.009205020920502092,
          0.0100418410041841,
          0.0100418410041841,
          0.010878661087866108,
          0.010878661087866108,
          0.010878661087866108,
          0.010878661087866108,
          0.010878661087866108,
          0.010878661087866108,
          0.010878661087866108,
          0.012552301255230125,
          0.012552301255230125,
          0.014225941422594143,
          0.014225941422594143,
          0.014225941422594143,
          0.014225941422594143,
          0.015899581589958158,
          0.016736401673640166,
          0.017573221757322177,
          0.017573221757322177,
          0.018410041841004185,
          0.018410041841004185,
          0.019246861924686193,
          0.019246861924686193,
          0.0200836820083682,
          0.0200836820083682,
          0.02092050209205021,
          0.02092050209205021,
          0.021757322175732216,
          0.021757322175732216,
          0.022594142259414227,
          0.022594142259414227,
          0.024267782426778243,
          0.024267782426778243,
          0.02510460251046025,
          0.02510460251046025,
          0.026778242677824266,
          0.026778242677824266,
          0.027615062761506277,
          0.027615062761506277,
          0.029288702928870293,
          0.029288702928870293,
          0.03096234309623431,
          0.03096234309623431,
          0.032635983263598324,
          0.032635983263598324,
          0.03347280334728033,
          0.03347280334728033,
          0.03682008368200837,
          0.03682008368200837,
          0.03933054393305439,
          0.03933054393305439,
          0.04184100418410042,
          0.04184100418410042,
          0.04351464435146443,
          0.04351464435146443,
          0.04602510460251046,
          0.04602510460251046,
          0.04602510460251046,
          0.04769874476987448,
          0.04769874476987448,
          0.04769874476987448,
          0.048535564853556486,
          0.048535564853556486,
          0.0502092050209205,
          0.0502092050209205,
          0.052719665271966525,
          0.052719665271966525,
          0.05439330543933055,
          0.05439330543933055,
          0.055230125523012555,
          0.055230125523012555,
          0.05606694560669456,
          0.05606694560669456,
          0.06192468619246862,
          0.06192468619246862,
          0.06359832635983263,
          0.06359832635983263,
          0.06527196652719665,
          0.06527196652719665,
          0.07112970711297072,
          0.07112970711297072,
          0.07280334728033473,
          0.07447698744769875,
          0.07447698744769875,
          0.07531380753138076,
          0.07531380753138076,
          0.07866108786610879,
          0.07866108786610879,
          0.0803347280334728,
          0.0803347280334728,
          0.08451882845188284,
          0.08451882845188284,
          0.0887029288702929,
          0.0887029288702929,
          0.0895397489539749,
          0.0895397489539749,
          0.09037656903765691,
          0.09037656903765691,
          0.09205020920502092,
          0.09205020920502092,
          0.09372384937238494,
          0.09372384937238494,
          0.09539748953974896,
          0.09539748953974896,
          0.09707112970711297,
          0.09707112970711297,
          0.10125523012552301,
          0.10125523012552301,
          0.10794979079497909,
          0.10794979079497909,
          0.11882845188284519,
          0.11882845188284519,
          0.1196652719665272,
          0.1196652719665272,
          0.1196652719665272,
          0.1196652719665272,
          0.12217573221757322,
          0.12217573221757322,
          0.12719665271966527,
          0.12719665271966527,
          0.1297071129707113,
          0.1297071129707113,
          0.13472803347280335,
          0.13472803347280335,
          0.13556485355648534,
          0.13556485355648534,
          0.13640167364016736,
          0.13640167364016736,
          0.1389121338912134,
          0.1389121338912134,
          0.14058577405857742,
          0.14058577405857742,
          0.14393305439330545,
          0.14393305439330545,
          0.14560669456066946,
          0.14560669456066946,
          0.14811715481171547,
          0.14811715481171547,
          0.1489539748953975,
          0.1489539748953975,
          0.1506276150627615,
          0.1506276150627615,
          0.15230125523012553,
          0.15313807531380752,
          0.15564853556485356,
          0.15564853556485356,
          0.15732217573221757,
          0.15732217573221757,
          0.1581589958158996,
          0.1581589958158996,
          0.16234309623430962,
          0.16234309623430962,
          0.16736401673640167,
          0.1698744769874477,
          0.17656903765690377,
          0.17656903765690377,
          0.17824267782426778,
          0.17824267782426778,
          0.18075313807531382,
          0.18242677824267783,
          0.18326359832635983,
          0.18326359832635983,
          0.1907949790794979,
          0.1907949790794979,
          0.19665271966527198,
          0.19665271966527198,
          0.198326359832636,
          0.198326359832636,
          0.2,
          0.2,
          0.20167364016736403,
          0.20167364016736403,
          0.20418410041841004,
          0.20418410041841004,
          0.20502092050209206,
          0.20502092050209206,
          0.2083682008368201,
          0.2083682008368201,
          0.21338912133891214,
          0.21338912133891214,
          0.2175732217573222,
          0.21841004184100418,
          0.21841004184100418,
          0.2192468619246862,
          0.2192468619246862,
          0.2200836820083682,
          0.2200836820083682,
          0.22594142259414227,
          0.22594142259414227,
          0.24351464435146444,
          0.24351464435146444,
          0.24686192468619247,
          0.24686192468619247,
          0.2485355648535565,
          0.2510460251046025,
          0.2510460251046025,
          0.2518828451882845,
          0.2518828451882845,
          0.2585774058577406,
          0.2585774058577406,
          0.26359832635983266,
          0.26359832635983266,
          0.2694560669456067,
          0.27280334728033473,
          0.2744769874476987,
          0.2744769874476987,
          0.2778242677824268,
          0.2778242677824268,
          0.2828451882845188,
          0.2828451882845188,
          0.28619246861924685,
          0.28619246861924685,
          0.2878661087866109,
          0.2895397489539749,
          0.297907949790795,
          0.301255230125523,
          0.301255230125523,
          0.3079497907949791,
          0.30962343096234307,
          0.31464435146443515,
          0.31464435146443515,
          0.3163179916317992,
          0.32217573221757323,
          0.32217573221757323,
          0.32468619246861924,
          0.3263598326359833,
          0.32719665271966525,
          0.32719665271966525,
          0.32803347280334727,
          0.32803347280334727,
          0.3297071129707113,
          0.3297071129707113,
          0.3364016736401674,
          0.33807531380753136,
          0.34560669456066945,
          0.34560669456066945,
          0.3497907949790795,
          0.3523012552301255,
          0.35397489539748955,
          0.35397489539748955,
          0.36652719665271966,
          0.3707112970711297,
          0.3723849372384937,
          0.3723849372384937,
          0.3757322175732218,
          0.3757322175732218,
          0.38242677824267785,
          0.38744769874476986,
          0.39581589958158997,
          0.39581589958158997,
          0.396652719665272,
          0.396652719665272,
          0.398326359832636,
          0.398326359832636,
          0.399163179916318,
          0.399163179916318,
          0.40418410041841,
          0.4066945606694561,
          0.41841004184100417,
          0.4200836820083682,
          0.4217573221757322,
          0.42343096234309624,
          0.42845188284518826,
          0.42845188284518826,
          0.4309623430962343,
          0.43347280334728033,
          0.44184100418410044,
          0.44184100418410044,
          0.4502092050209205,
          0.45271966527196655,
          0.4560669456066946,
          0.4560669456066946,
          0.4610878661087866,
          0.4610878661087866,
          0.4635983263598326,
          0.4661087866108787,
          0.4794979079497908,
          0.4794979079497908,
          0.48368200836820086,
          0.48619246861924686,
          0.4895397489539749,
          0.4895397489539749,
          0.4903765690376569,
          0.4903765690376569,
          0.497071129707113,
          0.502092050209205,
          0.5171548117154812,
          0.5255230125523013,
          0.5313807531380753,
          0.5313807531380753,
          0.5347280334728034,
          0.5347280334728034,
          0.5364016736401673,
          0.5414225941422595,
          0.5531380753138075,
          0.5589958158995816,
          0.5589958158995816,
          0.5673640167364017,
          0.5732217573221757,
          0.5891213389121339,
          0.5933054393305439,
          0.606694560669456,
          0.606694560669456,
          0.6092050209205021,
          0.6133891213389121,
          0.6192468619246861,
          0.6209205020920502,
          0.6259414225941422,
          0.6351464435146443,
          0.6418410041841004,
          0.6435146443514644,
          0.6569037656903766,
          0.6686192468619246,
          0.6694560669456067,
          0.6711297071129707,
          0.6728033472803348,
          0.6728033472803348,
          0.6794979079497908,
          0.6811715481171549,
          0.6878661087866109,
          0.6878661087866109,
          0.6895397489539749,
          0.694560669456067,
          0.7062761506276151,
          0.7062761506276151,
          0.7087866108786611,
          0.7104602510460251,
          0.7196652719665272,
          0.7263598326359832,
          0.7355648535564854,
          0.7372384937238494,
          0.7514644351464436,
          0.7514644351464436,
          0.7531380753138075,
          0.7623430962343096,
          0.7815899581589958,
          0.7815899581589958,
          0.7849372384937239,
          0.7907949790794979,
          0.8092050209205021,
          0.8117154811715481,
          0.8150627615062761,
          0.8150627615062761,
          0.8184100418410042,
          0.8251046025104602,
          0.8418410041841005,
          0.8518828451882845,
          0.8702928870292888,
          0.8769874476987448,
          0.8836820083682009,
          0.8853556485355648,
          0.8861924686192468,
          0.8861924686192468,
          0.8895397489539749,
          0.891213389121339,
          0.8987447698744769,
          0.901255230125523,
          0.9104602510460251,
          0.9104602510460251,
          0.9171548117154812,
          0.9188284518828452,
          0.9230125523012552,
          0.9297071129707113,
          0.9313807531380753,
          0.9313807531380753,
          0.9330543933054394,
          0.9330543933054394,
          0.9389121338912134,
          0.9456066945606695,
          0.9573221757322176,
          0.9573221757322176,
          0.9581589958158996,
          0.9656903765690377,
          0.9715481171548117,
          0.9715481171548117,
          0.9740585774058578,
          0.9774058577405857,
          0.9849372384937238,
          0.9891213389121339,
          0.9924686192468619,
          0.9924686192468619,
          0.994142259414226,
          0.99581589958159,
          0.999163179916318,
          1
         ],
         "y": [
          0,
          0.003278688524590164,
          0.05245901639344262,
          0.05901639344262295,
          0.06229508196721312,
          0.06229508196721312,
          0.11147540983606558,
          0.11475409836065574,
          0.1377049180327869,
          0.1377049180327869,
          0.14426229508196722,
          0.14426229508196722,
          0.14754098360655737,
          0.14754098360655737,
          0.15737704918032788,
          0.16393442622950818,
          0.17704918032786884,
          0.18360655737704917,
          0.19344262295081968,
          0.19344262295081968,
          0.20655737704918034,
          0.20655737704918034,
          0.2098360655737705,
          0.2098360655737705,
          0.21639344262295082,
          0.23934426229508196,
          0.23934426229508196,
          0.25245901639344265,
          0.25245901639344265,
          0.26229508196721313,
          0.2721311475409836,
          0.2819672131147541,
          0.30491803278688523,
          0.3114754098360656,
          0.31475409836065577,
          0.31475409836065577,
          0.3180327868852459,
          0.3180327868852459,
          0.32131147540983607,
          0.32786885245901637,
          0.34098360655737703,
          0.34098360655737703,
          0.3540983606557377,
          0.3540983606557377,
          0.35737704918032787,
          0.35737704918032787,
          0.3639344262295082,
          0.3639344262295082,
          0.36721311475409835,
          0.36721311475409835,
          0.3737704918032787,
          0.3737704918032787,
          0.3836065573770492,
          0.3836065573770492,
          0.39672131147540984,
          0.39672131147540984,
          0.4098360655737705,
          0.4098360655737705,
          0.4262295081967213,
          0.4262295081967213,
          0.4360655737704918,
          0.4360655737704918,
          0.43934426229508194,
          0.43934426229508194,
          0.4524590163934426,
          0.4524590163934426,
          0.45901639344262296,
          0.45901639344262296,
          0.46557377049180326,
          0.46557377049180326,
          0.47540983606557374,
          0.47540983606557374,
          0.4786885245901639,
          0.4786885245901639,
          0.4819672131147541,
          0.4819672131147541,
          0.4918032786885246,
          0.4918032786885246,
          0.49508196721311476,
          0.49508196721311476,
          0.49836065573770494,
          0.49836065573770494,
          0.5049180327868853,
          0.5081967213114754,
          0.5081967213114754,
          0.5147540983606558,
          0.5180327868852459,
          0.5180327868852459,
          0.521311475409836,
          0.521311475409836,
          0.5245901639344263,
          0.5245901639344263,
          0.5278688524590164,
          0.5278688524590164,
          0.5344262295081967,
          0.5344262295081967,
          0.5409836065573771,
          0.5409836065573771,
          0.5442622950819672,
          0.5442622950819672,
          0.5508196721311476,
          0.5508196721311476,
          0.5540983606557377,
          0.5540983606557377,
          0.5606557377049181,
          0.5606557377049181,
          0.5639344262295082,
          0.5639344262295082,
          0.5639344262295082,
          0.5672131147540984,
          0.5672131147540984,
          0.5704918032786885,
          0.5704918032786885,
          0.5737704918032787,
          0.5737704918032787,
          0.5770491803278689,
          0.5770491803278689,
          0.5836065573770491,
          0.5836065573770491,
          0.5868852459016394,
          0.5868852459016394,
          0.5901639344262295,
          0.5901639344262295,
          0.5967213114754099,
          0.5967213114754099,
          0.6098360655737705,
          0.6098360655737705,
          0.6131147540983607,
          0.6131147540983607,
          0.6163934426229508,
          0.6163934426229508,
          0.6295081967213115,
          0.6295081967213115,
          0.6327868852459017,
          0.6327868852459017,
          0.639344262295082,
          0.639344262295082,
          0.6426229508196721,
          0.6426229508196721,
          0.6459016393442623,
          0.6524590163934426,
          0.6557377049180327,
          0.6557377049180327,
          0.659016393442623,
          0.659016393442623,
          0.6622950819672131,
          0.6622950819672131,
          0.6754098360655738,
          0.6754098360655738,
          0.6786885245901639,
          0.6786885245901639,
          0.6819672131147541,
          0.6819672131147541,
          0.6852459016393443,
          0.6852459016393443,
          0.6885245901639344,
          0.6885245901639344,
          0.6918032786885245,
          0.6918032786885245,
          0.6950819672131148,
          0.6950819672131148,
          0.7016393442622951,
          0.7016393442622951,
          0.7081967213114754,
          0.7081967213114754,
          0.7147540983606557,
          0.7147540983606557,
          0.7180327868852459,
          0.7180327868852459,
          0.7213114754098361,
          0.7213114754098361,
          0.7278688524590164,
          0.7278688524590164,
          0.7311475409836066,
          0.7311475409836066,
          0.7344262295081967,
          0.7344262295081967,
          0.7377049180327869,
          0.7377049180327869,
          0.7377049180327869,
          0.7377049180327869,
          0.740983606557377,
          0.740983606557377,
          0.7442622950819672,
          0.7442622950819672,
          0.7442622950819672,
          0.7442622950819672,
          0.7475409836065574,
          0.7475409836065574,
          0.7508196721311475,
          0.7508196721311475,
          0.7540983606557377,
          0.7540983606557377,
          0.7573770491803279,
          0.7573770491803279,
          0.760655737704918,
          0.760655737704918,
          0.7639344262295082,
          0.7639344262295082,
          0.7672131147540984,
          0.7672131147540984,
          0.7704918032786885,
          0.7704918032786885,
          0.7737704918032787,
          0.7737704918032787,
          0.780327868852459,
          0.780327868852459,
          0.7836065573770492,
          0.7868852459016393,
          0.7868852459016393,
          0.7901639344262295,
          0.7901639344262295,
          0.7934426229508197,
          0.7934426229508197,
          0.7967213114754098,
          0.7967213114754098,
          0.8,
          0.8,
          0.8032786885245902,
          0.8032786885245902,
          0.8032786885245902,
          0.8065573770491803,
          0.8065573770491803,
          0.8098360655737705,
          0.8098360655737705,
          0.8131147540983606,
          0.8131147540983606,
          0.8163934426229508,
          0.8163934426229508,
          0.8163934426229508,
          0.8163934426229508,
          0.819672131147541,
          0.819672131147541,
          0.8229508196721311,
          0.8229508196721311,
          0.8262295081967214,
          0.8262295081967214,
          0.8295081967213115,
          0.8295081967213115,
          0.8295081967213115,
          0.8295081967213115,
          0.8295081967213115,
          0.8327868852459016,
          0.8327868852459016,
          0.8327868852459016,
          0.8327868852459016,
          0.8360655737704918,
          0.839344262295082,
          0.839344262295082,
          0.8426229508196721,
          0.8426229508196721,
          0.8459016393442623,
          0.8459016393442623,
          0.8491803278688524,
          0.8491803278688524,
          0.8524590163934426,
          0.8524590163934426,
          0.8557377049180328,
          0.8557377049180328,
          0.8557377049180328,
          0.8557377049180328,
          0.8590163934426229,
          0.8590163934426229,
          0.8622950819672132,
          0.8622950819672132,
          0.8655737704918033,
          0.8655737704918033,
          0.8655737704918033,
          0.8655737704918033,
          0.8688524590163934,
          0.8688524590163934,
          0.8721311475409836,
          0.8721311475409836,
          0.8754098360655738,
          0.8754098360655738,
          0.8786885245901639,
          0.8786885245901639,
          0.8819672131147541,
          0.8819672131147541,
          0.8852459016393442,
          0.8852459016393442,
          0.8918032786885246,
          0.8918032786885246,
          0.8918032786885246,
          0.8918032786885246,
          0.8918032786885246,
          0.8918032786885246,
          0.8918032786885246,
          0.8918032786885246,
          0.8950819672131147,
          0.8950819672131147,
          0.8950819672131147,
          0.8950819672131147,
          0.898360655737705,
          0.898360655737705,
          0.9049180327868852,
          0.9049180327868852,
          0.9081967213114754,
          0.9081967213114754,
          0.9147540983606557,
          0.9147540983606557,
          0.9180327868852459,
          0.9180327868852459,
          0.921311475409836,
          0.921311475409836,
          0.9245901639344263,
          0.9245901639344263,
          0.9278688524590164,
          0.9278688524590164,
          0.9311475409836065,
          0.9311475409836065,
          0.9311475409836065,
          0.9311475409836065,
          0.9311475409836065,
          0.9311475409836065,
          0.9344262295081968,
          0.9344262295081968,
          0.9377049180327869,
          0.9377049180327869,
          0.9377049180327869,
          0.9377049180327869,
          0.9377049180327869,
          0.940983606557377,
          0.940983606557377,
          0.940983606557377,
          0.940983606557377,
          0.940983606557377,
          0.940983606557377,
          0.9442622950819672,
          0.9442622950819672,
          0.9540983606557377,
          0.9540983606557377,
          0.9540983606557377,
          0.9540983606557377,
          0.9540983606557377,
          0.9540983606557377,
          0.9540983606557377,
          0.9540983606557377,
          0.9540983606557377,
          0.9540983606557377,
          0.9540983606557377,
          0.9540983606557377,
          0.9573770491803278,
          0.9573770491803278,
          0.9573770491803278,
          0.9573770491803278,
          0.9606557377049181,
          0.9606557377049181,
          0.9606557377049181,
          0.9606557377049181,
          0.9639344262295082,
          0.9639344262295082,
          0.9639344262295082,
          0.9639344262295082,
          0.9672131147540983,
          0.9672131147540983,
          0.9672131147540983,
          0.9672131147540983,
          0.9704918032786886,
          0.9704918032786886,
          0.9704918032786886,
          0.9704918032786886,
          0.9737704918032787,
          0.9737704918032787,
          0.9737704918032787,
          0.9737704918032787,
          0.9737704918032787,
          0.9737704918032787,
          0.9770491803278688,
          0.9770491803278688,
          0.9770491803278688,
          0.9770491803278688,
          0.9770491803278688,
          0.9770491803278688,
          0.9770491803278688,
          0.9770491803278688,
          0.9770491803278688,
          0.9770491803278688,
          0.980327868852459,
          0.980327868852459,
          0.980327868852459,
          0.980327868852459,
          0.980327868852459,
          0.980327868852459,
          0.9836065573770492,
          0.9836065573770492,
          0.9836065573770492,
          0.9836065573770492,
          0.9836065573770492,
          0.9836065573770492,
          0.9868852459016394,
          0.9868852459016394,
          0.9901639344262295,
          0.9901639344262295,
          0.9901639344262295,
          0.9901639344262295,
          0.9934426229508196,
          0.9934426229508196,
          0.9934426229508196,
          0.9934426229508196,
          0.9967213114754099,
          0.9967213114754099,
          0.9967213114754099,
          0.9967213114754099,
          0.9967213114754099,
          0.9967213114754099,
          1,
          1,
          1,
          1,
          1
         ]
        },
        {
         "mode": "lines",
         "name": "ftr_test ROC (AUC = 0.84)",
         "type": "scatter",
         "x": [
          0,
          0,
          0,
          0,
          0,
          0.0008375209380234506,
          0.0008375209380234506,
          0.0008375209380234506,
          0.0016750418760469012,
          0.0016750418760469012,
          0.0016750418760469012,
          0.0016750418760469012,
          0.0016750418760469012,
          0.002512562814070352,
          0.0033500837520938024,
          0.0041876046901172526,
          0.0041876046901172526,
          0.005025125628140704,
          0.005025125628140704,
          0.006700167504187605,
          0.006700167504187605,
          0.006700167504187605,
          0.006700167504187605,
          0.007537688442211055,
          0.007537688442211055,
          0.007537688442211055,
          0.008375209380234505,
          0.008375209380234505,
          0.009212730318257957,
          0.009212730318257957,
          0.010050251256281407,
          0.010050251256281407,
          0.010887772194304857,
          0.010887772194304857,
          0.01340033500837521,
          0.01340033500837521,
          0.01423785594639866,
          0.01423785594639866,
          0.01507537688442211,
          0.01507537688442211,
          0.01675041876046901,
          0.01675041876046901,
          0.01675041876046901,
          0.01675041876046901,
          0.017587939698492462,
          0.017587939698492462,
          0.017587939698492462,
          0.018425460636515914,
          0.018425460636515914,
          0.019262981574539362,
          0.019262981574539362,
          0.020100502512562814,
          0.020100502512562814,
          0.021775544388609715,
          0.021775544388609715,
          0.022613065326633167,
          0.022613065326633167,
          0.023450586264656615,
          0.023450586264656615,
          0.024288107202680067,
          0.024288107202680067,
          0.02512562814070352,
          0.02512562814070352,
          0.02680067001675042,
          0.02680067001675042,
          0.02763819095477387,
          0.02763819095477387,
          0.02847571189279732,
          0.02847571189279732,
          0.03015075376884422,
          0.03015075376884422,
          0.03098827470686767,
          0.03098827470686767,
          0.031825795644891124,
          0.032663316582914576,
          0.035175879396984924,
          0.035175879396984924,
          0.03685092127303183,
          0.03685092127303183,
          0.03936348408710218,
          0.03936348408710218,
          0.04103852596314908,
          0.04103852596314908,
          0.04187604690117253,
          0.04187604690117253,
          0.04271356783919598,
          0.04271356783919598,
          0.04355108877721943,
          0.04355108877721943,
          0.04522613065326633,
          0.04522613065326633,
          0.04690117252931323,
          0.04690117252931323,
          0.051926298157453935,
          0.051926298157453935,
          0.052763819095477386,
          0.052763819095477386,
          0.05443886097152429,
          0.05443886097152429,
          0.05695142378559464,
          0.05695142378559464,
          0.05778894472361809,
          0.05778894472361809,
          0.059463986599664995,
          0.059463986599664995,
          0.06030150753768844,
          0.06030150753768844,
          0.06113902847571189,
          0.06113902847571189,
          0.06281407035175879,
          0.06281407035175879,
          0.06365159128978225,
          0.06365159128978225,
          0.06448911222780569,
          0.06532663316582915,
          0.06532663316582915,
          0.06867671691792294,
          0.06867671691792294,
          0.0728643216080402,
          0.0728643216080402,
          0.07370184254606366,
          0.07370184254606366,
          0.0745393634840871,
          0.0745393634840871,
          0.0745393634840871,
          0.07537688442211055,
          0.07537688442211055,
          0.07705192629815745,
          0.07705192629815745,
          0.07788944723618091,
          0.07872696817420435,
          0.07872696817420435,
          0.08626465661641541,
          0.08626465661641541,
          0.08710217755443886,
          0.08710217755443886,
          0.08793969849246232,
          0.08793969849246232,
          0.08877721943048576,
          0.08877721943048576,
          0.09547738693467336,
          0.09547738693467336,
          0.09966499162479062,
          0.09966499162479062,
          0.10636515912897822,
          0.10636515912897822,
          0.10720268006700168,
          0.10720268006700168,
          0.10887772194304858,
          0.10887772194304858,
          0.11474036850921274,
          0.11474036850921274,
          0.11641541038525963,
          0.11892797319932999,
          0.11892797319932999,
          0.12227805695142378,
          0.12227805695142378,
          0.12311557788944724,
          0.12311557788944724,
          0.13651591289782244,
          0.13651591289782244,
          0.13986599664991625,
          0.13986599664991625,
          0.1423785594639866,
          0.1423785594639866,
          0.1474036850921273,
          0.1474036850921273,
          0.1490787269681742,
          0.1507537688442211,
          0.15326633165829145,
          0.15326633165829145,
          0.15494137353433834,
          0.15494137353433834,
          0.1574539363484087,
          0.15996649916247907,
          0.15996649916247907,
          0.16415410385259632,
          0.16415410385259632,
          0.1658291457286432,
          0.1658291457286432,
          0.17420435510887772,
          0.17420435510887772,
          0.1800670016750419,
          0.1800670016750419,
          0.18174204355108878,
          0.18174204355108878,
          0.18509212730318259,
          0.18509212730318259,
          0.19262981574539365,
          0.19262981574539365,
          0.19430485762144054,
          0.19430485762144054,
          0.19514237855946398,
          0.19514237855946398,
          0.1968174204355109,
          0.1984924623115578,
          0.20016750418760468,
          0.20016750418760468,
          0.20100502512562815,
          0.20100502512562815,
          0.2018425460636516,
          0.20268006700167504,
          0.20268006700167504,
          0.20351758793969849,
          0.20351758793969849,
          0.2102177554438861,
          0.2102177554438861,
          0.21273031825795644,
          0.21273031825795644,
          0.2169179229480737,
          0.2169179229480737,
          0.22445561139028475,
          0.22445561139028475,
          0.22613065326633167,
          0.22948073701842547,
          0.22948073701842547,
          0.23115577889447236,
          0.23115577889447236,
          0.23283082077051925,
          0.23450586264656617,
          0.2370184254606365,
          0.2370184254606365,
          0.24204355108877723,
          0.24455611390284757,
          0.24790619765494137,
          0.24790619765494137,
          0.24874371859296482,
          0.24874371859296482,
          0.24958123953098826,
          0.24958123953098826,
          0.25125628140703515,
          0.2529313232830821,
          0.25963149078726966,
          0.25963149078726966,
          0.26549413735343386,
          0.26549413735343386,
          0.26884422110552764,
          0.26884422110552764,
          0.27386934673366836,
          0.27386934673366836,
          0.2805695142378559,
          0.2805695142378559,
          0.2814070351758794,
          0.2847571189279732,
          0.2864321608040201,
          0.2864321608040201,
          0.2889447236180904,
          0.29061976549413737,
          0.29061976549413737,
          0.2914572864321608,
          0.2914572864321608,
          0.2931323283082077,
          0.2948073701842546,
          0.2998324958123953,
          0.2998324958123953,
          0.30904522613065327,
          0.30904522613065327,
          0.31072026800670016,
          0.3149078726968174,
          0.3157453936348409,
          0.3157453936348409,
          0.31909547738693467,
          0.31909547738693467,
          0.31993299832495814,
          0.31993299832495814,
          0.3224455611390285,
          0.3224455611390285,
          0.3241206030150754,
          0.3241206030150754,
          0.32830820770519265,
          0.32830820770519265,
          0.33835845896147404,
          0.3417085427135678,
          0.3525963149078727,
          0.3542713567839196,
          0.3559463986599665,
          0.3559463986599665,
          0.3592964824120603,
          0.3592964824120603,
          0.3626465661641541,
          0.36432160804020103,
          0.37520938023450584,
          0.3777219430485762,
          0.3785594639865997,
          0.3785594639865997,
          0.38023450586264657,
          0.38023450586264657,
          0.38107202680067004,
          0.38107202680067004,
          0.38190954773869346,
          0.38190954773869346,
          0.38358458961474035,
          0.38358458961474035,
          0.3869346733668342,
          0.3869346733668342,
          0.3936348408710218,
          0.3969849246231156,
          0.39782244556113905,
          0.39782244556113905,
          0.42546063651591287,
          0.4271356783919598,
          0.4321608040201005,
          0.4321608040201005,
          0.43299832495812396,
          0.43299832495812396,
          0.4355108877721943,
          0.4388609715242881,
          0.4455611390284757,
          0.4455611390284757,
          0.4489112227805695,
          0.45226130653266333,
          0.45896147403685095,
          0.45896147403685095,
          0.46733668341708545,
          0.46733668341708545,
          0.4723618090452261,
          0.4723618090452261,
          0.47906197654941374,
          0.48408710217755446,
          0.48659966499162477,
          0.48659966499162477,
          0.49581239530988275,
          0.49581239530988275,
          0.5,
          0.5,
          0.5058626465661642,
          0.5100502512562815,
          0.5100502512562815,
          0.5192629815745393,
          0.52428810720268,
          0.5251256281407035,
          0.5251256281407035,
          0.5276381909547738,
          0.5309882747068677,
          0.5460636515912898,
          0.5477386934673367,
          0.5552763819095478,
          0.5552763819095478,
          0.5577889447236181,
          0.559463986599665,
          0.5653266331658291,
          0.5653266331658291,
          0.5661641541038526,
          0.5711892797319933,
          0.5737018425460636,
          0.5745393634840871,
          0.5778894472361809,
          0.5778894472361809,
          0.5829145728643216,
          0.5887772194304858,
          0.5954773869346733,
          0.5954773869346733,
          0.6063651591289783,
          0.6130653266331658,
          0.6298157453936348,
          0.6381909547738693,
          0.6390284757118928,
          0.6390284757118928,
          0.6465661641541038,
          0.6482412060301508,
          0.6557788944723618,
          0.6608040201005025,
          0.6800670016750419,
          0.6867671691792295,
          0.7018425460636516,
          0.7051926298157454,
          0.7211055276381909,
          0.7269681742043551,
          0.7437185929648241,
          0.7453936348408711,
          0.7487437185929648,
          0.7537688442211056,
          0.7571189279731994,
          0.7587939698492462,
          0.7705192629815746,
          0.7772194304857621,
          0.7989949748743719,
          0.8090452261306532,
          0.8190954773869347,
          0.8190954773869347,
          0.8257956448911222,
          0.8274706867671692,
          0.8299832495812395,
          0.8316582914572864,
          0.8341708542713567,
          0.838358458961474,
          0.847571189279732,
          0.8509212730318257,
          0.8509212730318257,
          0.8592964824120602,
          0.8592964824120602,
          0.8634840871021775,
          0.8693467336683417,
          0.8752093802345059,
          0.8752093802345059,
          0.8911222780569514,
          0.8936348408710217,
          0.9061976549413735,
          0.9061976549413735,
          0.9120603015075377,
          0.9195979899497487,
          0.9271356783919598,
          0.9288107202680067,
          0.932998324958124,
          0.9380234505862647,
          0.9539363484087102,
          0.958961474036851,
          0.9631490787269682,
          0.964824120603015,
          0.966499162479062,
          0.9706867671691792,
          0.9748743718592965,
          0.9765494137353434,
          0.9824120603015075,
          0.9882747068676717,
          0.990787269681742,
          0.9932998324958124,
          0.9949748743718593,
          1
         ],
         "y": [
          0,
          0.0032679738562091504,
          0.006535947712418301,
          0.013071895424836602,
          0.02287581699346405,
          0.02287581699346405,
          0.029411764705882353,
          0.03594771241830065,
          0.03594771241830065,
          0.042483660130718956,
          0.06209150326797386,
          0.06862745098039216,
          0.10130718954248366,
          0.10130718954248366,
          0.10784313725490197,
          0.10784313725490197,
          0.11437908496732026,
          0.11437908496732026,
          0.14052287581699346,
          0.14052287581699346,
          0.15359477124183007,
          0.16013071895424835,
          0.16339869281045752,
          0.16666666666666666,
          0.17973856209150327,
          0.18627450980392157,
          0.18627450980392157,
          0.21241830065359477,
          0.21241830065359477,
          0.22875816993464052,
          0.22875816993464052,
          0.24509803921568626,
          0.24509803921568626,
          0.2581699346405229,
          0.2581699346405229,
          0.2647058823529412,
          0.2647058823529412,
          0.27124183006535946,
          0.27124183006535946,
          0.29411764705882354,
          0.29411764705882354,
          0.2973856209150327,
          0.30392156862745096,
          0.3104575163398693,
          0.3104575163398693,
          0.31699346405228757,
          0.32679738562091504,
          0.32679738562091504,
          0.3366013071895425,
          0.3366013071895425,
          0.33986928104575165,
          0.33986928104575165,
          0.34967320261437906,
          0.34967320261437906,
          0.35294117647058826,
          0.35294117647058826,
          0.3562091503267974,
          0.3562091503267974,
          0.3627450980392157,
          0.3627450980392157,
          0.369281045751634,
          0.369281045751634,
          0.3790849673202614,
          0.3790849673202614,
          0.3888888888888889,
          0.3888888888888889,
          0.3954248366013072,
          0.3954248366013072,
          0.40522875816993464,
          0.40522875816993464,
          0.4084967320261438,
          0.4084967320261438,
          0.4117647058823529,
          0.41830065359477125,
          0.41830065359477125,
          0.41830065359477125,
          0.4215686274509804,
          0.4215686274509804,
          0.42483660130718953,
          0.42483660130718953,
          0.42810457516339867,
          0.42810457516339867,
          0.43790849673202614,
          0.43790849673202614,
          0.4411764705882353,
          0.4411764705882353,
          0.4444444444444444,
          0.4444444444444444,
          0.4477124183006536,
          0.4477124183006536,
          0.45098039215686275,
          0.45098039215686275,
          0.46405228758169936,
          0.46405228758169936,
          0.4673202614379085,
          0.47058823529411764,
          0.4738562091503268,
          0.4738562091503268,
          0.477124183006536,
          0.477124183006536,
          0.4803921568627451,
          0.4803921568627451,
          0.4869281045751634,
          0.4869281045751634,
          0.49019607843137253,
          0.49019607843137253,
          0.49673202614379086,
          0.49673202614379086,
          0.5,
          0.5,
          0.5032679738562091,
          0.5065359477124183,
          0.5098039215686274,
          0.5098039215686274,
          0.5130718954248366,
          0.5163398692810458,
          0.5163398692810458,
          0.5196078431372549,
          0.5196078431372549,
          0.5261437908496732,
          0.5261437908496732,
          0.5294117647058824,
          0.5294117647058824,
          0.5359477124183006,
          0.5424836601307189,
          0.5424836601307189,
          0.545751633986928,
          0.545751633986928,
          0.5555555555555556,
          0.5588235294117647,
          0.5588235294117647,
          0.5620915032679739,
          0.5620915032679739,
          0.565359477124183,
          0.565359477124183,
          0.5686274509803921,
          0.5686274509803921,
          0.5718954248366013,
          0.5718954248366013,
          0.5751633986928104,
          0.5751633986928104,
          0.5816993464052288,
          0.5816993464052288,
          0.5849673202614379,
          0.5849673202614379,
          0.5882352941176471,
          0.5882352941176471,
          0.5915032679738562,
          0.5915032679738562,
          0.5947712418300654,
          0.5947712418300654,
          0.5980392156862745,
          0.5980392156862745,
          0.5980392156862745,
          0.6045751633986928,
          0.6045751633986928,
          0.6111111111111112,
          0.6111111111111112,
          0.6143790849673203,
          0.6143790849673203,
          0.6176470588235294,
          0.6176470588235294,
          0.6209150326797386,
          0.6209150326797386,
          0.6241830065359477,
          0.6241830065359477,
          0.6274509803921569,
          0.6274509803921569,
          0.6274509803921569,
          0.6274509803921569,
          0.630718954248366,
          0.630718954248366,
          0.6339869281045751,
          0.6339869281045751,
          0.6339869281045751,
          0.6405228758169934,
          0.6405228758169934,
          0.6470588235294118,
          0.6470588235294118,
          0.6503267973856209,
          0.6503267973856209,
          0.6535947712418301,
          0.6535947712418301,
          0.6601307189542484,
          0.6601307189542484,
          0.6633986928104575,
          0.6633986928104575,
          0.6666666666666666,
          0.6666666666666666,
          0.6699346405228758,
          0.6699346405228758,
          0.673202614379085,
          0.673202614379085,
          0.6764705882352942,
          0.6764705882352942,
          0.6764705882352942,
          0.6764705882352942,
          0.6862745098039216,
          0.6895424836601307,
          0.696078431372549,
          0.6993464052287581,
          0.6993464052287581,
          0.7026143790849673,
          0.7026143790849673,
          0.7058823529411765,
          0.7058823529411765,
          0.7091503267973857,
          0.7091503267973857,
          0.7124183006535948,
          0.7124183006535948,
          0.7156862745098039,
          0.7156862745098039,
          0.7254901960784313,
          0.7254901960784313,
          0.7254901960784313,
          0.7287581699346405,
          0.7287581699346405,
          0.7320261437908496,
          0.7320261437908496,
          0.7320261437908496,
          0.7320261437908496,
          0.7450980392156863,
          0.7450980392156863,
          0.7450980392156863,
          0.7450980392156863,
          0.7549019607843137,
          0.7549019607843137,
          0.7581699346405228,
          0.7581699346405228,
          0.7647058823529411,
          0.7647058823529411,
          0.7679738562091504,
          0.7679738562091504,
          0.7745098039215687,
          0.7745098039215687,
          0.7777777777777778,
          0.7777777777777778,
          0.7843137254901961,
          0.7843137254901961,
          0.7908496732026143,
          0.7908496732026143,
          0.7941176470588235,
          0.7941176470588235,
          0.7941176470588235,
          0.7941176470588235,
          0.7973856209150327,
          0.7973856209150327,
          0.7973856209150327,
          0.803921568627451,
          0.803921568627451,
          0.8071895424836601,
          0.8071895424836601,
          0.8071895424836601,
          0.8071895424836601,
          0.8104575163398693,
          0.8104575163398693,
          0.8169934640522876,
          0.8169934640522876,
          0.8169934640522876,
          0.8169934640522876,
          0.8202614379084967,
          0.8202614379084967,
          0.8235294117647058,
          0.8235294117647058,
          0.826797385620915,
          0.826797385620915,
          0.8300653594771242,
          0.8300653594771242,
          0.8333333333333334,
          0.8333333333333334,
          0.8366013071895425,
          0.8366013071895425,
          0.8366013071895425,
          0.8366013071895425,
          0.8398692810457516,
          0.8398692810457516,
          0.8431372549019608,
          0.8431372549019608,
          0.8464052287581699,
          0.8464052287581699,
          0.8496732026143791,
          0.8496732026143791,
          0.8496732026143791,
          0.8496732026143791,
          0.8529411764705882,
          0.8529411764705882,
          0.8562091503267973,
          0.8562091503267973,
          0.8594771241830066,
          0.8594771241830066,
          0.8627450980392157,
          0.8627450980392157,
          0.8660130718954249,
          0.8660130718954249,
          0.869281045751634,
          0.869281045751634,
          0.869281045751634,
          0.869281045751634,
          0.8725490196078431,
          0.8725490196078431,
          0.8758169934640523,
          0.8758169934640523,
          0.8823529411764706,
          0.8823529411764706,
          0.8856209150326797,
          0.8856209150326797,
          0.8856209150326797,
          0.8856209150326797,
          0.8888888888888888,
          0.8888888888888888,
          0.8921568627450981,
          0.8921568627450981,
          0.8954248366013072,
          0.8954248366013072,
          0.9052287581699346,
          0.9052287581699346,
          0.9084967320261438,
          0.9084967320261438,
          0.9084967320261438,
          0.9084967320261438,
          0.9117647058823529,
          0.9117647058823529,
          0.9183006535947712,
          0.9183006535947712,
          0.9215686274509803,
          0.9215686274509803,
          0.9215686274509803,
          0.9248366013071896,
          0.9248366013071896,
          0.9248366013071896,
          0.9248366013071896,
          0.9313725490196079,
          0.9313725490196079,
          0.934640522875817,
          0.934640522875817,
          0.934640522875817,
          0.934640522875817,
          0.9379084967320261,
          0.9379084967320261,
          0.9379084967320261,
          0.9379084967320261,
          0.9411764705882353,
          0.9411764705882353,
          0.9477124183006536,
          0.9477124183006536,
          0.9509803921568627,
          0.9509803921568627,
          0.954248366013072,
          0.954248366013072,
          0.954248366013072,
          0.954248366013072,
          0.9575163398692811,
          0.9575163398692811,
          0.9607843137254902,
          0.9607843137254902,
          0.9607843137254902,
          0.9607843137254902,
          0.9640522875816994,
          0.9640522875816994,
          0.9640522875816994,
          0.9640522875816994,
          0.9640522875816994,
          0.9640522875816994,
          0.9673202614379085,
          0.9673202614379085,
          0.9705882352941176,
          0.9705882352941176,
          0.9705882352941176,
          0.9705882352941176,
          0.9705882352941176,
          0.9705882352941176,
          0.9705882352941176,
          0.9705882352941176,
          0.9705882352941176,
          0.9705882352941176,
          0.9738562091503268,
          0.9738562091503268,
          0.9738562091503268,
          0.9738562091503268,
          0.9771241830065359,
          0.9771241830065359,
          0.9771241830065359,
          0.9771241830065359,
          0.9771241830065359,
          0.9771241830065359,
          0.9771241830065359,
          0.9771241830065359,
          0.9771241830065359,
          0.9803921568627451,
          0.9803921568627451,
          0.9836601307189542,
          0.9836601307189542,
          0.9836601307189542,
          0.9836601307189542,
          0.9869281045751634,
          0.9869281045751634,
          0.9901960784313726,
          0.9901960784313726,
          0.9934640522875817,
          0.9934640522875817,
          0.9934640522875817,
          0.9934640522875817,
          0.9934640522875817,
          0.9934640522875817,
          0.9934640522875817,
          0.9934640522875817,
          0.9934640522875817,
          0.9934640522875817,
          0.9934640522875817,
          0.9934640522875817,
          0.9967320261437909,
          0.9967320261437909,
          0.9967320261437909,
          0.9967320261437909,
          0.9967320261437909,
          0.9967320261437909,
          1,
          1,
          1
         ]
        },
        {
         "line": {
          "color": "black",
          "dash": "dash"
         },
         "mode": "lines",
         "name": "No skill",
         "type": "scatter",
         "x": [
          0,
          1
         ],
         "y": [
          0,
          1
         ]
        }
       ],
       "layout": {
        "height": 750,
        "template": {
         "data": {
          "bar": [
           {
            "error_x": {
             "color": "#2a3f5f"
            },
            "error_y": {
             "color": "#2a3f5f"
            },
            "marker": {
             "line": {
              "color": "white",
              "width": 0.5
             },
             "pattern": {
              "fillmode": "overlay",
              "size": 10,
              "solidity": 0.2
             }
            },
            "type": "bar"
           }
          ],
          "barpolar": [
           {
            "marker": {
             "line": {
              "color": "white",
              "width": 0.5
             },
             "pattern": {
              "fillmode": "overlay",
              "size": 10,
              "solidity": 0.2
             }
            },
            "type": "barpolar"
           }
          ],
          "carpet": [
           {
            "aaxis": {
             "endlinecolor": "#2a3f5f",
             "gridcolor": "#C8D4E3",
             "linecolor": "#C8D4E3",
             "minorgridcolor": "#C8D4E3",
             "startlinecolor": "#2a3f5f"
            },
            "baxis": {
             "endlinecolor": "#2a3f5f",
             "gridcolor": "#C8D4E3",
             "linecolor": "#C8D4E3",
             "minorgridcolor": "#C8D4E3",
             "startlinecolor": "#2a3f5f"
            },
            "type": "carpet"
           }
          ],
          "choropleth": [
           {
            "colorbar": {
             "outlinewidth": 0,
             "ticks": ""
            },
            "type": "choropleth"
           }
          ],
          "contour": [
           {
            "colorbar": {
             "outlinewidth": 0,
             "ticks": ""
            },
            "colorscale": [
             [
              0,
              "#0d0887"
             ],
             [
              0.1111111111111111,
              "#46039f"
             ],
             [
              0.2222222222222222,
              "#7201a8"
             ],
             [
              0.3333333333333333,
              "#9c179e"
             ],
             [
              0.4444444444444444,
              "#bd3786"
             ],
             [
              0.5555555555555556,
              "#d8576b"
             ],
             [
              0.6666666666666666,
              "#ed7953"
             ],
             [
              0.7777777777777778,
              "#fb9f3a"
             ],
             [
              0.8888888888888888,
              "#fdca26"
             ],
             [
              1,
              "#f0f921"
             ]
            ],
            "type": "contour"
           }
          ],
          "contourcarpet": [
           {
            "colorbar": {
             "outlinewidth": 0,
             "ticks": ""
            },
            "type": "contourcarpet"
           }
          ],
          "heatmap": [
           {
            "colorbar": {
             "outlinewidth": 0,
             "ticks": ""
            },
            "colorscale": [
             [
              0,
              "#0d0887"
             ],
             [
              0.1111111111111111,
              "#46039f"
             ],
             [
              0.2222222222222222,
              "#7201a8"
             ],
             [
              0.3333333333333333,
              "#9c179e"
             ],
             [
              0.4444444444444444,
              "#bd3786"
             ],
             [
              0.5555555555555556,
              "#d8576b"
             ],
             [
              0.6666666666666666,
              "#ed7953"
             ],
             [
              0.7777777777777778,
              "#fb9f3a"
             ],
             [
              0.8888888888888888,
              "#fdca26"
             ],
             [
              1,
              "#f0f921"
             ]
            ],
            "type": "heatmap"
           }
          ],
          "heatmapgl": [
           {
            "colorbar": {
             "outlinewidth": 0,
             "ticks": ""
            },
            "colorscale": [
             [
              0,
              "#0d0887"
             ],
             [
              0.1111111111111111,
              "#46039f"
             ],
             [
              0.2222222222222222,
              "#7201a8"
             ],
             [
              0.3333333333333333,
              "#9c179e"
             ],
             [
              0.4444444444444444,
              "#bd3786"
             ],
             [
              0.5555555555555556,
              "#d8576b"
             ],
             [
              0.6666666666666666,
              "#ed7953"
             ],
             [
              0.7777777777777778,
              "#fb9f3a"
             ],
             [
              0.8888888888888888,
              "#fdca26"
             ],
             [
              1,
              "#f0f921"
             ]
            ],
            "type": "heatmapgl"
           }
          ],
          "histogram": [
           {
            "marker": {
             "pattern": {
              "fillmode": "overlay",
              "size": 10,
              "solidity": 0.2
             }
            },
            "type": "histogram"
           }
          ],
          "histogram2d": [
           {
            "colorbar": {
             "outlinewidth": 0,
             "ticks": ""
            },
            "colorscale": [
             [
              0,
              "#0d0887"
             ],
             [
              0.1111111111111111,
              "#46039f"
             ],
             [
              0.2222222222222222,
              "#7201a8"
             ],
             [
              0.3333333333333333,
              "#9c179e"
             ],
             [
              0.4444444444444444,
              "#bd3786"
             ],
             [
              0.5555555555555556,
              "#d8576b"
             ],
             [
              0.6666666666666666,
              "#ed7953"
             ],
             [
              0.7777777777777778,
              "#fb9f3a"
             ],
             [
              0.8888888888888888,
              "#fdca26"
             ],
             [
              1,
              "#f0f921"
             ]
            ],
            "type": "histogram2d"
           }
          ],
          "histogram2dcontour": [
           {
            "colorbar": {
             "outlinewidth": 0,
             "ticks": ""
            },
            "colorscale": [
             [
              0,
              "#0d0887"
             ],
             [
              0.1111111111111111,
              "#46039f"
             ],
             [
              0.2222222222222222,
              "#7201a8"
             ],
             [
              0.3333333333333333,
              "#9c179e"
             ],
             [
              0.4444444444444444,
              "#bd3786"
             ],
             [
              0.5555555555555556,
              "#d8576b"
             ],
             [
              0.6666666666666666,
              "#ed7953"
             ],
             [
              0.7777777777777778,
              "#fb9f3a"
             ],
             [
              0.8888888888888888,
              "#fdca26"
             ],
             [
              1,
              "#f0f921"
             ]
            ],
            "type": "histogram2dcontour"
           }
          ],
          "mesh3d": [
           {
            "colorbar": {
             "outlinewidth": 0,
             "ticks": ""
            },
            "type": "mesh3d"
           }
          ],
          "parcoords": [
           {
            "line": {
             "colorbar": {
              "outlinewidth": 0,
              "ticks": ""
             }
            },
            "type": "parcoords"
           }
          ],
          "pie": [
           {
            "automargin": true,
            "type": "pie"
           }
          ],
          "scatter": [
           {
            "fillpattern": {
             "fillmode": "overlay",
             "size": 10,
             "solidity": 0.2
            },
            "type": "scatter"
           }
          ],
          "scatter3d": [
           {
            "line": {
             "colorbar": {
              "outlinewidth": 0,
              "ticks": ""
             }
            },
            "marker": {
             "colorbar": {
              "outlinewidth": 0,
              "ticks": ""
             }
            },
            "type": "scatter3d"
           }
          ],
          "scattercarpet": [
           {
            "marker": {
             "colorbar": {
              "outlinewidth": 0,
              "ticks": ""
             }
            },
            "type": "scattercarpet"
           }
          ],
          "scattergeo": [
           {
            "marker": {
             "colorbar": {
              "outlinewidth": 0,
              "ticks": ""
             }
            },
            "type": "scattergeo"
           }
          ],
          "scattergl": [
           {
            "marker": {
             "colorbar": {
              "outlinewidth": 0,
              "ticks": ""
             }
            },
            "type": "scattergl"
           }
          ],
          "scattermapbox": [
           {
            "marker": {
             "colorbar": {
              "outlinewidth": 0,
              "ticks": ""
             }
            },
            "type": "scattermapbox"
           }
          ],
          "scatterpolar": [
           {
            "marker": {
             "colorbar": {
              "outlinewidth": 0,
              "ticks": ""
             }
            },
            "type": "scatterpolar"
           }
          ],
          "scatterpolargl": [
           {
            "marker": {
             "colorbar": {
              "outlinewidth": 0,
              "ticks": ""
             }
            },
            "type": "scatterpolargl"
           }
          ],
          "scatterternary": [
           {
            "marker": {
             "colorbar": {
              "outlinewidth": 0,
              "ticks": ""
             }
            },
            "type": "scatterternary"
           }
          ],
          "surface": [
           {
            "colorbar": {
             "outlinewidth": 0,
             "ticks": ""
            },
            "colorscale": [
             [
              0,
              "#0d0887"
             ],
             [
              0.1111111111111111,
              "#46039f"
             ],
             [
              0.2222222222222222,
              "#7201a8"
             ],
             [
              0.3333333333333333,
              "#9c179e"
             ],
             [
              0.4444444444444444,
              "#bd3786"
             ],
             [
              0.5555555555555556,
              "#d8576b"
             ],
             [
              0.6666666666666666,
              "#ed7953"
             ],
             [
              0.7777777777777778,
              "#fb9f3a"
             ],
             [
              0.8888888888888888,
              "#fdca26"
             ],
             [
              1,
              "#f0f921"
             ]
            ],
            "type": "surface"
           }
          ],
          "table": [
           {
            "cells": {
             "fill": {
              "color": "#EBF0F8"
             },
             "line": {
              "color": "white"
             }
            },
            "header": {
             "fill": {
              "color": "#C8D4E3"
             },
             "line": {
              "color": "white"
             }
            },
            "type": "table"
           }
          ]
         },
         "layout": {
          "annotationdefaults": {
           "arrowcolor": "#2a3f5f",
           "arrowhead": 0,
           "arrowwidth": 1
          },
          "autotypenumbers": "strict",
          "coloraxis": {
           "colorbar": {
            "outlinewidth": 0,
            "ticks": ""
           }
          },
          "colorscale": {
           "diverging": [
            [
             0,
             "#8e0152"
            ],
            [
             0.1,
             "#c51b7d"
            ],
            [
             0.2,
             "#de77ae"
            ],
            [
             0.3,
             "#f1b6da"
            ],
            [
             0.4,
             "#fde0ef"
            ],
            [
             0.5,
             "#f7f7f7"
            ],
            [
             0.6,
             "#e6f5d0"
            ],
            [
             0.7,
             "#b8e186"
            ],
            [
             0.8,
             "#7fbc41"
            ],
            [
             0.9,
             "#4d9221"
            ],
            [
             1,
             "#276419"
            ]
           ],
           "sequential": [
            [
             0,
             "#0d0887"
            ],
            [
             0.1111111111111111,
             "#46039f"
            ],
            [
             0.2222222222222222,
             "#7201a8"
            ],
            [
             0.3333333333333333,
             "#9c179e"
            ],
            [
             0.4444444444444444,
             "#bd3786"
            ],
            [
             0.5555555555555556,
             "#d8576b"
            ],
            [
             0.6666666666666666,
             "#ed7953"
            ],
            [
             0.7777777777777778,
             "#fb9f3a"
            ],
            [
             0.8888888888888888,
             "#fdca26"
            ],
            [
             1,
             "#f0f921"
            ]
           ],
           "sequentialminus": [
            [
             0,
             "#0d0887"
            ],
            [
             0.1111111111111111,
             "#46039f"
            ],
            [
             0.2222222222222222,
             "#7201a8"
            ],
            [
             0.3333333333333333,
             "#9c179e"
            ],
            [
             0.4444444444444444,
             "#bd3786"
            ],
            [
             0.5555555555555556,
             "#d8576b"
            ],
            [
             0.6666666666666666,
             "#ed7953"
            ],
            [
             0.7777777777777778,
             "#fb9f3a"
            ],
            [
             0.8888888888888888,
             "#fdca26"
            ],
            [
             1,
             "#f0f921"
            ]
           ]
          },
          "colorway": [
           "#636efa",
           "#EF553B",
           "#00cc96",
           "#ab63fa",
           "#FFA15A",
           "#19d3f3",
           "#FF6692",
           "#B6E880",
           "#FF97FF",
           "#FECB52"
          ],
          "font": {
           "color": "#2a3f5f"
          },
          "geo": {
           "bgcolor": "white",
           "lakecolor": "white",
           "landcolor": "white",
           "showlakes": true,
           "showland": true,
           "subunitcolor": "#C8D4E3"
          },
          "hoverlabel": {
           "align": "left"
          },
          "hovermode": "closest",
          "mapbox": {
           "style": "light"
          },
          "paper_bgcolor": "white",
          "plot_bgcolor": "white",
          "polar": {
           "angularaxis": {
            "gridcolor": "#EBF0F8",
            "linecolor": "#EBF0F8",
            "ticks": ""
           },
           "bgcolor": "white",
           "radialaxis": {
            "gridcolor": "#EBF0F8",
            "linecolor": "#EBF0F8",
            "ticks": ""
           }
          },
          "scene": {
           "xaxis": {
            "backgroundcolor": "white",
            "gridcolor": "#DFE8F3",
            "gridwidth": 2,
            "linecolor": "#EBF0F8",
            "showbackground": true,
            "ticks": "",
            "zerolinecolor": "#EBF0F8"
           },
           "yaxis": {
            "backgroundcolor": "white",
            "gridcolor": "#DFE8F3",
            "gridwidth": 2,
            "linecolor": "#EBF0F8",
            "showbackground": true,
            "ticks": "",
            "zerolinecolor": "#EBF0F8"
           },
           "zaxis": {
            "backgroundcolor": "white",
            "gridcolor": "#DFE8F3",
            "gridwidth": 2,
            "linecolor": "#EBF0F8",
            "showbackground": true,
            "ticks": "",
            "zerolinecolor": "#EBF0F8"
           }
          },
          "shapedefaults": {
           "line": {
            "color": "#2a3f5f"
           }
          },
          "ternary": {
           "aaxis": {
            "gridcolor": "#DFE8F3",
            "linecolor": "#A2B1C6",
            "ticks": ""
           },
           "baxis": {
            "gridcolor": "#DFE8F3",
            "linecolor": "#A2B1C6",
            "ticks": ""
           },
           "bgcolor": "white",
           "caxis": {
            "gridcolor": "#DFE8F3",
            "linecolor": "#A2B1C6",
            "ticks": ""
           }
          },
          "title": {
           "x": 0.05
          },
          "xaxis": {
           "automargin": true,
           "gridcolor": "#EBF0F8",
           "linecolor": "#EBF0F8",
           "ticks": "",
           "title": {
            "standoff": 15
           },
           "zerolinecolor": "#EBF0F8",
           "zerolinewidth": 2
          },
          "yaxis": {
           "automargin": true,
           "gridcolor": "#EBF0F8",
           "linecolor": "#EBF0F8",
           "ticks": "",
           "title": {
            "standoff": 15
           },
           "zerolinecolor": "#EBF0F8",
           "zerolinewidth": 2
          }
         }
        },
        "title": {
         "text": "ROC for the best model, no sampling"
        },
        "width": 1000,
        "xaxis": {
         "title": {
          "text": "False positive rate"
         }
        },
        "yaxis": {
         "title": {
          "text": "True positive rate"
         }
        }
       }
      }
     },
     "metadata": {},
     "output_type": "display_data"
    }
   ],
   "source": [
    "print_best_params_and_metrics(study_no_sampling.best_params, metrics)\n",
    "\n",
    "fig = optuna.visualization.plot_optimization_history(study_no_sampling)\n",
    "fig.update_layout(template='plotly_white', width=FIG_WIDTH, height=FIG_HEIGHT)\n",
    "fig.show()\n",
    "\n",
    "fig = optuna.visualization.plot_slice(study_no_sampling)\n",
    "fig.update_layout(template='plotly_white', width=FIG_WIDTH, height=FIG_HEIGHT)\n",
    "fig.update_xaxes(tickangle=-90)\n",
    "fig.show()\n",
    "\n",
    "fig = plot_roc_auc(\n",
    "    data_splits['no_sampling'], \n",
    "    best_model, title='ROC for the best model, no sampling'\n",
    ")\n",
    "fig.show()"
   ]
  },
  {
   "attachments": {},
   "cell_type": "markdown",
   "metadata": {},
   "source": [
    "## Датасет с upsampling\n",
    "\n",
    "Возьмем датасет c `upsampling` и посмотрим на качество моделей."
   ]
  },
  {
   "cell_type": "code",
   "execution_count": 46,
   "metadata": {},
   "outputs": [],
   "source": [
    "study_upsampled = get_study('upsampled', n_trials=10)\n",
    "\n",
    "metrics, best_model = evaluate_best_model('upsampled', study_upsampled)"
   ]
  },
  {
   "attachments": {},
   "cell_type": "markdown",
   "metadata": {},
   "source": [
    "Визуализируем результаты."
   ]
  },
  {
   "cell_type": "code",
   "execution_count": 70,
   "metadata": {},
   "outputs": [
    {
     "name": "stdout",
     "output_type": "stream",
     "text": [
      "The best model parameters are:\n",
      "classifier: RandomForest\n",
      "rf_max_depth: 18\n",
      "rf_n_estimators: 158\n",
      "\n",
      "The performance metrics of the model are:\n",
      "valid_f1: 0.6203\n",
      "valid_roc_auc: 0.8587\n"
     ]
    },
    {
     "data": {
      "application/vnd.plotly.v1+json": {
       "config": {
        "plotlyServerURL": "https://plot.ly"
       },
       "data": [
        {
         "mode": "markers",
         "name": "Objective Value",
         "type": "scatter",
         "x": [
          0,
          1,
          2,
          3,
          4,
          5,
          6,
          7,
          8,
          9
         ],
         "y": [
          0.48,
          0.471,
          0.48,
          0.469,
          0.483,
          0.478,
          0.48,
          0.62,
          0.473,
          0.563
         ]
        },
        {
         "name": "Best Value",
         "type": "scatter",
         "x": [
          0,
          1,
          2,
          3,
          4,
          5,
          6,
          7,
          8,
          9
         ],
         "y": [
          0.48,
          0.48,
          0.48,
          0.48,
          0.483,
          0.483,
          0.483,
          0.62,
          0.62,
          0.62
         ]
        }
       ],
       "layout": {
        "height": 500,
        "template": {
         "data": {
          "bar": [
           {
            "error_x": {
             "color": "#2a3f5f"
            },
            "error_y": {
             "color": "#2a3f5f"
            },
            "marker": {
             "line": {
              "color": "white",
              "width": 0.5
             },
             "pattern": {
              "fillmode": "overlay",
              "size": 10,
              "solidity": 0.2
             }
            },
            "type": "bar"
           }
          ],
          "barpolar": [
           {
            "marker": {
             "line": {
              "color": "white",
              "width": 0.5
             },
             "pattern": {
              "fillmode": "overlay",
              "size": 10,
              "solidity": 0.2
             }
            },
            "type": "barpolar"
           }
          ],
          "carpet": [
           {
            "aaxis": {
             "endlinecolor": "#2a3f5f",
             "gridcolor": "#C8D4E3",
             "linecolor": "#C8D4E3",
             "minorgridcolor": "#C8D4E3",
             "startlinecolor": "#2a3f5f"
            },
            "baxis": {
             "endlinecolor": "#2a3f5f",
             "gridcolor": "#C8D4E3",
             "linecolor": "#C8D4E3",
             "minorgridcolor": "#C8D4E3",
             "startlinecolor": "#2a3f5f"
            },
            "type": "carpet"
           }
          ],
          "choropleth": [
           {
            "colorbar": {
             "outlinewidth": 0,
             "ticks": ""
            },
            "type": "choropleth"
           }
          ],
          "contour": [
           {
            "colorbar": {
             "outlinewidth": 0,
             "ticks": ""
            },
            "colorscale": [
             [
              0,
              "#0d0887"
             ],
             [
              0.1111111111111111,
              "#46039f"
             ],
             [
              0.2222222222222222,
              "#7201a8"
             ],
             [
              0.3333333333333333,
              "#9c179e"
             ],
             [
              0.4444444444444444,
              "#bd3786"
             ],
             [
              0.5555555555555556,
              "#d8576b"
             ],
             [
              0.6666666666666666,
              "#ed7953"
             ],
             [
              0.7777777777777778,
              "#fb9f3a"
             ],
             [
              0.8888888888888888,
              "#fdca26"
             ],
             [
              1,
              "#f0f921"
             ]
            ],
            "type": "contour"
           }
          ],
          "contourcarpet": [
           {
            "colorbar": {
             "outlinewidth": 0,
             "ticks": ""
            },
            "type": "contourcarpet"
           }
          ],
          "heatmap": [
           {
            "colorbar": {
             "outlinewidth": 0,
             "ticks": ""
            },
            "colorscale": [
             [
              0,
              "#0d0887"
             ],
             [
              0.1111111111111111,
              "#46039f"
             ],
             [
              0.2222222222222222,
              "#7201a8"
             ],
             [
              0.3333333333333333,
              "#9c179e"
             ],
             [
              0.4444444444444444,
              "#bd3786"
             ],
             [
              0.5555555555555556,
              "#d8576b"
             ],
             [
              0.6666666666666666,
              "#ed7953"
             ],
             [
              0.7777777777777778,
              "#fb9f3a"
             ],
             [
              0.8888888888888888,
              "#fdca26"
             ],
             [
              1,
              "#f0f921"
             ]
            ],
            "type": "heatmap"
           }
          ],
          "heatmapgl": [
           {
            "colorbar": {
             "outlinewidth": 0,
             "ticks": ""
            },
            "colorscale": [
             [
              0,
              "#0d0887"
             ],
             [
              0.1111111111111111,
              "#46039f"
             ],
             [
              0.2222222222222222,
              "#7201a8"
             ],
             [
              0.3333333333333333,
              "#9c179e"
             ],
             [
              0.4444444444444444,
              "#bd3786"
             ],
             [
              0.5555555555555556,
              "#d8576b"
             ],
             [
              0.6666666666666666,
              "#ed7953"
             ],
             [
              0.7777777777777778,
              "#fb9f3a"
             ],
             [
              0.8888888888888888,
              "#fdca26"
             ],
             [
              1,
              "#f0f921"
             ]
            ],
            "type": "heatmapgl"
           }
          ],
          "histogram": [
           {
            "marker": {
             "pattern": {
              "fillmode": "overlay",
              "size": 10,
              "solidity": 0.2
             }
            },
            "type": "histogram"
           }
          ],
          "histogram2d": [
           {
            "colorbar": {
             "outlinewidth": 0,
             "ticks": ""
            },
            "colorscale": [
             [
              0,
              "#0d0887"
             ],
             [
              0.1111111111111111,
              "#46039f"
             ],
             [
              0.2222222222222222,
              "#7201a8"
             ],
             [
              0.3333333333333333,
              "#9c179e"
             ],
             [
              0.4444444444444444,
              "#bd3786"
             ],
             [
              0.5555555555555556,
              "#d8576b"
             ],
             [
              0.6666666666666666,
              "#ed7953"
             ],
             [
              0.7777777777777778,
              "#fb9f3a"
             ],
             [
              0.8888888888888888,
              "#fdca26"
             ],
             [
              1,
              "#f0f921"
             ]
            ],
            "type": "histogram2d"
           }
          ],
          "histogram2dcontour": [
           {
            "colorbar": {
             "outlinewidth": 0,
             "ticks": ""
            },
            "colorscale": [
             [
              0,
              "#0d0887"
             ],
             [
              0.1111111111111111,
              "#46039f"
             ],
             [
              0.2222222222222222,
              "#7201a8"
             ],
             [
              0.3333333333333333,
              "#9c179e"
             ],
             [
              0.4444444444444444,
              "#bd3786"
             ],
             [
              0.5555555555555556,
              "#d8576b"
             ],
             [
              0.6666666666666666,
              "#ed7953"
             ],
             [
              0.7777777777777778,
              "#fb9f3a"
             ],
             [
              0.8888888888888888,
              "#fdca26"
             ],
             [
              1,
              "#f0f921"
             ]
            ],
            "type": "histogram2dcontour"
           }
          ],
          "mesh3d": [
           {
            "colorbar": {
             "outlinewidth": 0,
             "ticks": ""
            },
            "type": "mesh3d"
           }
          ],
          "parcoords": [
           {
            "line": {
             "colorbar": {
              "outlinewidth": 0,
              "ticks": ""
             }
            },
            "type": "parcoords"
           }
          ],
          "pie": [
           {
            "automargin": true,
            "type": "pie"
           }
          ],
          "scatter": [
           {
            "fillpattern": {
             "fillmode": "overlay",
             "size": 10,
             "solidity": 0.2
            },
            "type": "scatter"
           }
          ],
          "scatter3d": [
           {
            "line": {
             "colorbar": {
              "outlinewidth": 0,
              "ticks": ""
             }
            },
            "marker": {
             "colorbar": {
              "outlinewidth": 0,
              "ticks": ""
             }
            },
            "type": "scatter3d"
           }
          ],
          "scattercarpet": [
           {
            "marker": {
             "colorbar": {
              "outlinewidth": 0,
              "ticks": ""
             }
            },
            "type": "scattercarpet"
           }
          ],
          "scattergeo": [
           {
            "marker": {
             "colorbar": {
              "outlinewidth": 0,
              "ticks": ""
             }
            },
            "type": "scattergeo"
           }
          ],
          "scattergl": [
           {
            "marker": {
             "colorbar": {
              "outlinewidth": 0,
              "ticks": ""
             }
            },
            "type": "scattergl"
           }
          ],
          "scattermapbox": [
           {
            "marker": {
             "colorbar": {
              "outlinewidth": 0,
              "ticks": ""
             }
            },
            "type": "scattermapbox"
           }
          ],
          "scatterpolar": [
           {
            "marker": {
             "colorbar": {
              "outlinewidth": 0,
              "ticks": ""
             }
            },
            "type": "scatterpolar"
           }
          ],
          "scatterpolargl": [
           {
            "marker": {
             "colorbar": {
              "outlinewidth": 0,
              "ticks": ""
             }
            },
            "type": "scatterpolargl"
           }
          ],
          "scatterternary": [
           {
            "marker": {
             "colorbar": {
              "outlinewidth": 0,
              "ticks": ""
             }
            },
            "type": "scatterternary"
           }
          ],
          "surface": [
           {
            "colorbar": {
             "outlinewidth": 0,
             "ticks": ""
            },
            "colorscale": [
             [
              0,
              "#0d0887"
             ],
             [
              0.1111111111111111,
              "#46039f"
             ],
             [
              0.2222222222222222,
              "#7201a8"
             ],
             [
              0.3333333333333333,
              "#9c179e"
             ],
             [
              0.4444444444444444,
              "#bd3786"
             ],
             [
              0.5555555555555556,
              "#d8576b"
             ],
             [
              0.6666666666666666,
              "#ed7953"
             ],
             [
              0.7777777777777778,
              "#fb9f3a"
             ],
             [
              0.8888888888888888,
              "#fdca26"
             ],
             [
              1,
              "#f0f921"
             ]
            ],
            "type": "surface"
           }
          ],
          "table": [
           {
            "cells": {
             "fill": {
              "color": "#EBF0F8"
             },
             "line": {
              "color": "white"
             }
            },
            "header": {
             "fill": {
              "color": "#C8D4E3"
             },
             "line": {
              "color": "white"
             }
            },
            "type": "table"
           }
          ]
         },
         "layout": {
          "annotationdefaults": {
           "arrowcolor": "#2a3f5f",
           "arrowhead": 0,
           "arrowwidth": 1
          },
          "autotypenumbers": "strict",
          "coloraxis": {
           "colorbar": {
            "outlinewidth": 0,
            "ticks": ""
           }
          },
          "colorscale": {
           "diverging": [
            [
             0,
             "#8e0152"
            ],
            [
             0.1,
             "#c51b7d"
            ],
            [
             0.2,
             "#de77ae"
            ],
            [
             0.3,
             "#f1b6da"
            ],
            [
             0.4,
             "#fde0ef"
            ],
            [
             0.5,
             "#f7f7f7"
            ],
            [
             0.6,
             "#e6f5d0"
            ],
            [
             0.7,
             "#b8e186"
            ],
            [
             0.8,
             "#7fbc41"
            ],
            [
             0.9,
             "#4d9221"
            ],
            [
             1,
             "#276419"
            ]
           ],
           "sequential": [
            [
             0,
             "#0d0887"
            ],
            [
             0.1111111111111111,
             "#46039f"
            ],
            [
             0.2222222222222222,
             "#7201a8"
            ],
            [
             0.3333333333333333,
             "#9c179e"
            ],
            [
             0.4444444444444444,
             "#bd3786"
            ],
            [
             0.5555555555555556,
             "#d8576b"
            ],
            [
             0.6666666666666666,
             "#ed7953"
            ],
            [
             0.7777777777777778,
             "#fb9f3a"
            ],
            [
             0.8888888888888888,
             "#fdca26"
            ],
            [
             1,
             "#f0f921"
            ]
           ],
           "sequentialminus": [
            [
             0,
             "#0d0887"
            ],
            [
             0.1111111111111111,
             "#46039f"
            ],
            [
             0.2222222222222222,
             "#7201a8"
            ],
            [
             0.3333333333333333,
             "#9c179e"
            ],
            [
             0.4444444444444444,
             "#bd3786"
            ],
            [
             0.5555555555555556,
             "#d8576b"
            ],
            [
             0.6666666666666666,
             "#ed7953"
            ],
            [
             0.7777777777777778,
             "#fb9f3a"
            ],
            [
             0.8888888888888888,
             "#fdca26"
            ],
            [
             1,
             "#f0f921"
            ]
           ]
          },
          "colorway": [
           "#636efa",
           "#EF553B",
           "#00cc96",
           "#ab63fa",
           "#FFA15A",
           "#19d3f3",
           "#FF6692",
           "#B6E880",
           "#FF97FF",
           "#FECB52"
          ],
          "font": {
           "color": "#2a3f5f"
          },
          "geo": {
           "bgcolor": "white",
           "lakecolor": "white",
           "landcolor": "white",
           "showlakes": true,
           "showland": true,
           "subunitcolor": "#C8D4E3"
          },
          "hoverlabel": {
           "align": "left"
          },
          "hovermode": "closest",
          "mapbox": {
           "style": "light"
          },
          "paper_bgcolor": "white",
          "plot_bgcolor": "white",
          "polar": {
           "angularaxis": {
            "gridcolor": "#EBF0F8",
            "linecolor": "#EBF0F8",
            "ticks": ""
           },
           "bgcolor": "white",
           "radialaxis": {
            "gridcolor": "#EBF0F8",
            "linecolor": "#EBF0F8",
            "ticks": ""
           }
          },
          "scene": {
           "xaxis": {
            "backgroundcolor": "white",
            "gridcolor": "#DFE8F3",
            "gridwidth": 2,
            "linecolor": "#EBF0F8",
            "showbackground": true,
            "ticks": "",
            "zerolinecolor": "#EBF0F8"
           },
           "yaxis": {
            "backgroundcolor": "white",
            "gridcolor": "#DFE8F3",
            "gridwidth": 2,
            "linecolor": "#EBF0F8",
            "showbackground": true,
            "ticks": "",
            "zerolinecolor": "#EBF0F8"
           },
           "zaxis": {
            "backgroundcolor": "white",
            "gridcolor": "#DFE8F3",
            "gridwidth": 2,
            "linecolor": "#EBF0F8",
            "showbackground": true,
            "ticks": "",
            "zerolinecolor": "#EBF0F8"
           }
          },
          "shapedefaults": {
           "line": {
            "color": "#2a3f5f"
           }
          },
          "ternary": {
           "aaxis": {
            "gridcolor": "#DFE8F3",
            "linecolor": "#A2B1C6",
            "ticks": ""
           },
           "baxis": {
            "gridcolor": "#DFE8F3",
            "linecolor": "#A2B1C6",
            "ticks": ""
           },
           "bgcolor": "white",
           "caxis": {
            "gridcolor": "#DFE8F3",
            "linecolor": "#A2B1C6",
            "ticks": ""
           }
          },
          "title": {
           "x": 0.05
          },
          "xaxis": {
           "automargin": true,
           "gridcolor": "#EBF0F8",
           "linecolor": "#EBF0F8",
           "ticks": "",
           "title": {
            "standoff": 15
           },
           "zerolinecolor": "#EBF0F8",
           "zerolinewidth": 2
          },
          "yaxis": {
           "automargin": true,
           "gridcolor": "#EBF0F8",
           "linecolor": "#EBF0F8",
           "ticks": "",
           "title": {
            "standoff": 15
           },
           "zerolinecolor": "#EBF0F8",
           "zerolinewidth": 2
          }
         }
        },
        "title": {
         "text": "Optimization History Plot"
        },
        "width": 1000,
        "xaxis": {
         "title": {
          "text": "Trial"
         }
        },
        "yaxis": {
         "title": {
          "text": "Objective Value"
         }
        }
       }
      }
     },
     "metadata": {},
     "output_type": "display_data"
    },
    {
     "data": {
      "application/vnd.plotly.v1+json": {
       "config": {
        "plotlyServerURL": "https://plot.ly"
       },
       "data": [
        {
         "marker": {
          "color": [
           0,
           1,
           2,
           3,
           4,
           5,
           6,
           7,
           8,
           9
          ],
          "colorbar": {
           "title": {
            "text": "Trial"
           },
           "x": 1,
           "xpad": 40
          },
          "colorscale": [
           [
            0,
            "rgb(247,251,255)"
           ],
           [
            0.125,
            "rgb(222,235,247)"
           ],
           [
            0.25,
            "rgb(198,219,239)"
           ],
           [
            0.375,
            "rgb(158,202,225)"
           ],
           [
            0.5,
            "rgb(107,174,214)"
           ],
           [
            0.625,
            "rgb(66,146,198)"
           ],
           [
            0.75,
            "rgb(33,113,181)"
           ],
           [
            0.875,
            "rgb(8,81,156)"
           ],
           [
            1,
            "rgb(8,48,107)"
           ]
          ],
          "line": {
           "color": "Grey",
           "width": 0.5
          },
          "showscale": true
         },
         "mode": "markers",
         "showlegend": false,
         "type": "scatter",
         "x": [
          "DecisionTree",
          "LogisticRegression",
          "DecisionTree",
          "LogisticRegression",
          "DecisionTree",
          "LogisticRegression",
          "DecisionTree",
          "RandomForest",
          "DecisionTree",
          "DecisionTree"
         ],
         "xaxis": "x",
         "y": [
          0.48,
          0.471,
          0.48,
          0.469,
          0.483,
          0.478,
          0.48,
          0.62,
          0.473,
          0.563
         ],
         "yaxis": "y"
        },
        {
         "marker": {
          "color": [
           0,
           2,
           4,
           6,
           8,
           9
          ],
          "colorbar": {
           "title": {
            "text": "Trial"
           },
           "x": 1,
           "xpad": 40
          },
          "colorscale": [
           [
            0,
            "rgb(247,251,255)"
           ],
           [
            0.125,
            "rgb(222,235,247)"
           ],
           [
            0.25,
            "rgb(198,219,239)"
           ],
           [
            0.375,
            "rgb(158,202,225)"
           ],
           [
            0.5,
            "rgb(107,174,214)"
           ],
           [
            0.625,
            "rgb(66,146,198)"
           ],
           [
            0.75,
            "rgb(33,113,181)"
           ],
           [
            0.875,
            "rgb(8,81,156)"
           ],
           [
            1,
            "rgb(8,48,107)"
           ]
          ],
          "line": {
           "color": "Grey",
           "width": 0.5
          },
          "showscale": false
         },
         "mode": "markers",
         "showlegend": false,
         "type": "scatter",
         "x": [
          30,
          49,
          15,
          26,
          16,
          7
         ],
         "xaxis": "x2",
         "y": [
          0.48,
          0.48,
          0.483,
          0.48,
          0.473,
          0.563
         ],
         "yaxis": "y2"
        },
        {
         "marker": {
          "color": [
           1,
           3,
           5
          ],
          "colorbar": {
           "title": {
            "text": "Trial"
           },
           "x": 1,
           "xpad": 40
          },
          "colorscale": [
           [
            0,
            "rgb(247,251,255)"
           ],
           [
            0.125,
            "rgb(222,235,247)"
           ],
           [
            0.25,
            "rgb(198,219,239)"
           ],
           [
            0.375,
            "rgb(158,202,225)"
           ],
           [
            0.5,
            "rgb(107,174,214)"
           ],
           [
            0.625,
            "rgb(66,146,198)"
           ],
           [
            0.75,
            "rgb(33,113,181)"
           ],
           [
            0.875,
            "rgb(8,81,156)"
           ],
           [
            1,
            "rgb(8,48,107)"
           ]
          ],
          "line": {
           "color": "Grey",
           "width": 0.5
          },
          "showscale": false
         },
         "mode": "markers",
         "showlegend": false,
         "type": "scatter",
         "x": [
          24780.71022662143,
          0.00015880132371526778,
          0.02490818711274116
         ],
         "xaxis": "x3",
         "y": [
          0.471,
          0.469,
          0.478
         ],
         "yaxis": "y3"
        },
        {
         "marker": {
          "color": [
           7
          ],
          "colorbar": {
           "title": {
            "text": "Trial"
           },
           "x": 1,
           "xpad": 40
          },
          "colorscale": [
           [
            0,
            "rgb(247,251,255)"
           ],
           [
            0.125,
            "rgb(222,235,247)"
           ],
           [
            0.25,
            "rgb(198,219,239)"
           ],
           [
            0.375,
            "rgb(158,202,225)"
           ],
           [
            0.5,
            "rgb(107,174,214)"
           ],
           [
            0.625,
            "rgb(66,146,198)"
           ],
           [
            0.75,
            "rgb(33,113,181)"
           ],
           [
            0.875,
            "rgb(8,81,156)"
           ],
           [
            1,
            "rgb(8,48,107)"
           ]
          ],
          "line": {
           "color": "Grey",
           "width": 0.5
          },
          "showscale": false
         },
         "mode": "markers",
         "showlegend": false,
         "type": "scatter",
         "x": [
          18
         ],
         "xaxis": "x4",
         "y": [
          0.62
         ],
         "yaxis": "y4"
        },
        {
         "marker": {
          "color": [
           7
          ],
          "colorbar": {
           "title": {
            "text": "Trial"
           },
           "x": 1,
           "xpad": 40
          },
          "colorscale": [
           [
            0,
            "rgb(247,251,255)"
           ],
           [
            0.125,
            "rgb(222,235,247)"
           ],
           [
            0.25,
            "rgb(198,219,239)"
           ],
           [
            0.375,
            "rgb(158,202,225)"
           ],
           [
            0.5,
            "rgb(107,174,214)"
           ],
           [
            0.625,
            "rgb(66,146,198)"
           ],
           [
            0.75,
            "rgb(33,113,181)"
           ],
           [
            0.875,
            "rgb(8,81,156)"
           ],
           [
            1,
            "rgb(8,48,107)"
           ]
          ],
          "line": {
           "color": "Grey",
           "width": 0.5
          },
          "showscale": false
         },
         "mode": "markers",
         "showlegend": false,
         "type": "scatter",
         "x": [
          158
         ],
         "xaxis": "x5",
         "y": [
          0.62
         ],
         "yaxis": "y5"
        }
       ],
       "layout": {
        "height": 500,
        "template": {
         "data": {
          "bar": [
           {
            "error_x": {
             "color": "#2a3f5f"
            },
            "error_y": {
             "color": "#2a3f5f"
            },
            "marker": {
             "line": {
              "color": "white",
              "width": 0.5
             },
             "pattern": {
              "fillmode": "overlay",
              "size": 10,
              "solidity": 0.2
             }
            },
            "type": "bar"
           }
          ],
          "barpolar": [
           {
            "marker": {
             "line": {
              "color": "white",
              "width": 0.5
             },
             "pattern": {
              "fillmode": "overlay",
              "size": 10,
              "solidity": 0.2
             }
            },
            "type": "barpolar"
           }
          ],
          "carpet": [
           {
            "aaxis": {
             "endlinecolor": "#2a3f5f",
             "gridcolor": "#C8D4E3",
             "linecolor": "#C8D4E3",
             "minorgridcolor": "#C8D4E3",
             "startlinecolor": "#2a3f5f"
            },
            "baxis": {
             "endlinecolor": "#2a3f5f",
             "gridcolor": "#C8D4E3",
             "linecolor": "#C8D4E3",
             "minorgridcolor": "#C8D4E3",
             "startlinecolor": "#2a3f5f"
            },
            "type": "carpet"
           }
          ],
          "choropleth": [
           {
            "colorbar": {
             "outlinewidth": 0,
             "ticks": ""
            },
            "type": "choropleth"
           }
          ],
          "contour": [
           {
            "colorbar": {
             "outlinewidth": 0,
             "ticks": ""
            },
            "colorscale": [
             [
              0,
              "#0d0887"
             ],
             [
              0.1111111111111111,
              "#46039f"
             ],
             [
              0.2222222222222222,
              "#7201a8"
             ],
             [
              0.3333333333333333,
              "#9c179e"
             ],
             [
              0.4444444444444444,
              "#bd3786"
             ],
             [
              0.5555555555555556,
              "#d8576b"
             ],
             [
              0.6666666666666666,
              "#ed7953"
             ],
             [
              0.7777777777777778,
              "#fb9f3a"
             ],
             [
              0.8888888888888888,
              "#fdca26"
             ],
             [
              1,
              "#f0f921"
             ]
            ],
            "type": "contour"
           }
          ],
          "contourcarpet": [
           {
            "colorbar": {
             "outlinewidth": 0,
             "ticks": ""
            },
            "type": "contourcarpet"
           }
          ],
          "heatmap": [
           {
            "colorbar": {
             "outlinewidth": 0,
             "ticks": ""
            },
            "colorscale": [
             [
              0,
              "#0d0887"
             ],
             [
              0.1111111111111111,
              "#46039f"
             ],
             [
              0.2222222222222222,
              "#7201a8"
             ],
             [
              0.3333333333333333,
              "#9c179e"
             ],
             [
              0.4444444444444444,
              "#bd3786"
             ],
             [
              0.5555555555555556,
              "#d8576b"
             ],
             [
              0.6666666666666666,
              "#ed7953"
             ],
             [
              0.7777777777777778,
              "#fb9f3a"
             ],
             [
              0.8888888888888888,
              "#fdca26"
             ],
             [
              1,
              "#f0f921"
             ]
            ],
            "type": "heatmap"
           }
          ],
          "heatmapgl": [
           {
            "colorbar": {
             "outlinewidth": 0,
             "ticks": ""
            },
            "colorscale": [
             [
              0,
              "#0d0887"
             ],
             [
              0.1111111111111111,
              "#46039f"
             ],
             [
              0.2222222222222222,
              "#7201a8"
             ],
             [
              0.3333333333333333,
              "#9c179e"
             ],
             [
              0.4444444444444444,
              "#bd3786"
             ],
             [
              0.5555555555555556,
              "#d8576b"
             ],
             [
              0.6666666666666666,
              "#ed7953"
             ],
             [
              0.7777777777777778,
              "#fb9f3a"
             ],
             [
              0.8888888888888888,
              "#fdca26"
             ],
             [
              1,
              "#f0f921"
             ]
            ],
            "type": "heatmapgl"
           }
          ],
          "histogram": [
           {
            "marker": {
             "pattern": {
              "fillmode": "overlay",
              "size": 10,
              "solidity": 0.2
             }
            },
            "type": "histogram"
           }
          ],
          "histogram2d": [
           {
            "colorbar": {
             "outlinewidth": 0,
             "ticks": ""
            },
            "colorscale": [
             [
              0,
              "#0d0887"
             ],
             [
              0.1111111111111111,
              "#46039f"
             ],
             [
              0.2222222222222222,
              "#7201a8"
             ],
             [
              0.3333333333333333,
              "#9c179e"
             ],
             [
              0.4444444444444444,
              "#bd3786"
             ],
             [
              0.5555555555555556,
              "#d8576b"
             ],
             [
              0.6666666666666666,
              "#ed7953"
             ],
             [
              0.7777777777777778,
              "#fb9f3a"
             ],
             [
              0.8888888888888888,
              "#fdca26"
             ],
             [
              1,
              "#f0f921"
             ]
            ],
            "type": "histogram2d"
           }
          ],
          "histogram2dcontour": [
           {
            "colorbar": {
             "outlinewidth": 0,
             "ticks": ""
            },
            "colorscale": [
             [
              0,
              "#0d0887"
             ],
             [
              0.1111111111111111,
              "#46039f"
             ],
             [
              0.2222222222222222,
              "#7201a8"
             ],
             [
              0.3333333333333333,
              "#9c179e"
             ],
             [
              0.4444444444444444,
              "#bd3786"
             ],
             [
              0.5555555555555556,
              "#d8576b"
             ],
             [
              0.6666666666666666,
              "#ed7953"
             ],
             [
              0.7777777777777778,
              "#fb9f3a"
             ],
             [
              0.8888888888888888,
              "#fdca26"
             ],
             [
              1,
              "#f0f921"
             ]
            ],
            "type": "histogram2dcontour"
           }
          ],
          "mesh3d": [
           {
            "colorbar": {
             "outlinewidth": 0,
             "ticks": ""
            },
            "type": "mesh3d"
           }
          ],
          "parcoords": [
           {
            "line": {
             "colorbar": {
              "outlinewidth": 0,
              "ticks": ""
             }
            },
            "type": "parcoords"
           }
          ],
          "pie": [
           {
            "automargin": true,
            "type": "pie"
           }
          ],
          "scatter": [
           {
            "fillpattern": {
             "fillmode": "overlay",
             "size": 10,
             "solidity": 0.2
            },
            "type": "scatter"
           }
          ],
          "scatter3d": [
           {
            "line": {
             "colorbar": {
              "outlinewidth": 0,
              "ticks": ""
             }
            },
            "marker": {
             "colorbar": {
              "outlinewidth": 0,
              "ticks": ""
             }
            },
            "type": "scatter3d"
           }
          ],
          "scattercarpet": [
           {
            "marker": {
             "colorbar": {
              "outlinewidth": 0,
              "ticks": ""
             }
            },
            "type": "scattercarpet"
           }
          ],
          "scattergeo": [
           {
            "marker": {
             "colorbar": {
              "outlinewidth": 0,
              "ticks": ""
             }
            },
            "type": "scattergeo"
           }
          ],
          "scattergl": [
           {
            "marker": {
             "colorbar": {
              "outlinewidth": 0,
              "ticks": ""
             }
            },
            "type": "scattergl"
           }
          ],
          "scattermapbox": [
           {
            "marker": {
             "colorbar": {
              "outlinewidth": 0,
              "ticks": ""
             }
            },
            "type": "scattermapbox"
           }
          ],
          "scatterpolar": [
           {
            "marker": {
             "colorbar": {
              "outlinewidth": 0,
              "ticks": ""
             }
            },
            "type": "scatterpolar"
           }
          ],
          "scatterpolargl": [
           {
            "marker": {
             "colorbar": {
              "outlinewidth": 0,
              "ticks": ""
             }
            },
            "type": "scatterpolargl"
           }
          ],
          "scatterternary": [
           {
            "marker": {
             "colorbar": {
              "outlinewidth": 0,
              "ticks": ""
             }
            },
            "type": "scatterternary"
           }
          ],
          "surface": [
           {
            "colorbar": {
             "outlinewidth": 0,
             "ticks": ""
            },
            "colorscale": [
             [
              0,
              "#0d0887"
             ],
             [
              0.1111111111111111,
              "#46039f"
             ],
             [
              0.2222222222222222,
              "#7201a8"
             ],
             [
              0.3333333333333333,
              "#9c179e"
             ],
             [
              0.4444444444444444,
              "#bd3786"
             ],
             [
              0.5555555555555556,
              "#d8576b"
             ],
             [
              0.6666666666666666,
              "#ed7953"
             ],
             [
              0.7777777777777778,
              "#fb9f3a"
             ],
             [
              0.8888888888888888,
              "#fdca26"
             ],
             [
              1,
              "#f0f921"
             ]
            ],
            "type": "surface"
           }
          ],
          "table": [
           {
            "cells": {
             "fill": {
              "color": "#EBF0F8"
             },
             "line": {
              "color": "white"
             }
            },
            "header": {
             "fill": {
              "color": "#C8D4E3"
             },
             "line": {
              "color": "white"
             }
            },
            "type": "table"
           }
          ]
         },
         "layout": {
          "annotationdefaults": {
           "arrowcolor": "#2a3f5f",
           "arrowhead": 0,
           "arrowwidth": 1
          },
          "autotypenumbers": "strict",
          "coloraxis": {
           "colorbar": {
            "outlinewidth": 0,
            "ticks": ""
           }
          },
          "colorscale": {
           "diverging": [
            [
             0,
             "#8e0152"
            ],
            [
             0.1,
             "#c51b7d"
            ],
            [
             0.2,
             "#de77ae"
            ],
            [
             0.3,
             "#f1b6da"
            ],
            [
             0.4,
             "#fde0ef"
            ],
            [
             0.5,
             "#f7f7f7"
            ],
            [
             0.6,
             "#e6f5d0"
            ],
            [
             0.7,
             "#b8e186"
            ],
            [
             0.8,
             "#7fbc41"
            ],
            [
             0.9,
             "#4d9221"
            ],
            [
             1,
             "#276419"
            ]
           ],
           "sequential": [
            [
             0,
             "#0d0887"
            ],
            [
             0.1111111111111111,
             "#46039f"
            ],
            [
             0.2222222222222222,
             "#7201a8"
            ],
            [
             0.3333333333333333,
             "#9c179e"
            ],
            [
             0.4444444444444444,
             "#bd3786"
            ],
            [
             0.5555555555555556,
             "#d8576b"
            ],
            [
             0.6666666666666666,
             "#ed7953"
            ],
            [
             0.7777777777777778,
             "#fb9f3a"
            ],
            [
             0.8888888888888888,
             "#fdca26"
            ],
            [
             1,
             "#f0f921"
            ]
           ],
           "sequentialminus": [
            [
             0,
             "#0d0887"
            ],
            [
             0.1111111111111111,
             "#46039f"
            ],
            [
             0.2222222222222222,
             "#7201a8"
            ],
            [
             0.3333333333333333,
             "#9c179e"
            ],
            [
             0.4444444444444444,
             "#bd3786"
            ],
            [
             0.5555555555555556,
             "#d8576b"
            ],
            [
             0.6666666666666666,
             "#ed7953"
            ],
            [
             0.7777777777777778,
             "#fb9f3a"
            ],
            [
             0.8888888888888888,
             "#fdca26"
            ],
            [
             1,
             "#f0f921"
            ]
           ]
          },
          "colorway": [
           "#636efa",
           "#EF553B",
           "#00cc96",
           "#ab63fa",
           "#FFA15A",
           "#19d3f3",
           "#FF6692",
           "#B6E880",
           "#FF97FF",
           "#FECB52"
          ],
          "font": {
           "color": "#2a3f5f"
          },
          "geo": {
           "bgcolor": "white",
           "lakecolor": "white",
           "landcolor": "white",
           "showlakes": true,
           "showland": true,
           "subunitcolor": "#C8D4E3"
          },
          "hoverlabel": {
           "align": "left"
          },
          "hovermode": "closest",
          "mapbox": {
           "style": "light"
          },
          "paper_bgcolor": "white",
          "plot_bgcolor": "white",
          "polar": {
           "angularaxis": {
            "gridcolor": "#EBF0F8",
            "linecolor": "#EBF0F8",
            "ticks": ""
           },
           "bgcolor": "white",
           "radialaxis": {
            "gridcolor": "#EBF0F8",
            "linecolor": "#EBF0F8",
            "ticks": ""
           }
          },
          "scene": {
           "xaxis": {
            "backgroundcolor": "white",
            "gridcolor": "#DFE8F3",
            "gridwidth": 2,
            "linecolor": "#EBF0F8",
            "showbackground": true,
            "ticks": "",
            "zerolinecolor": "#EBF0F8"
           },
           "yaxis": {
            "backgroundcolor": "white",
            "gridcolor": "#DFE8F3",
            "gridwidth": 2,
            "linecolor": "#EBF0F8",
            "showbackground": true,
            "ticks": "",
            "zerolinecolor": "#EBF0F8"
           },
           "zaxis": {
            "backgroundcolor": "white",
            "gridcolor": "#DFE8F3",
            "gridwidth": 2,
            "linecolor": "#EBF0F8",
            "showbackground": true,
            "ticks": "",
            "zerolinecolor": "#EBF0F8"
           }
          },
          "shapedefaults": {
           "line": {
            "color": "#2a3f5f"
           }
          },
          "ternary": {
           "aaxis": {
            "gridcolor": "#DFE8F3",
            "linecolor": "#A2B1C6",
            "ticks": ""
           },
           "baxis": {
            "gridcolor": "#DFE8F3",
            "linecolor": "#A2B1C6",
            "ticks": ""
           },
           "bgcolor": "white",
           "caxis": {
            "gridcolor": "#DFE8F3",
            "linecolor": "#A2B1C6",
            "ticks": ""
           }
          },
          "title": {
           "x": 0.05
          },
          "xaxis": {
           "automargin": true,
           "gridcolor": "#EBF0F8",
           "linecolor": "#EBF0F8",
           "ticks": "",
           "title": {
            "standoff": 15
           },
           "zerolinecolor": "#EBF0F8",
           "zerolinewidth": 2
          },
          "yaxis": {
           "automargin": true,
           "gridcolor": "#EBF0F8",
           "linecolor": "#EBF0F8",
           "ticks": "",
           "title": {
            "standoff": 15
           },
           "zerolinecolor": "#EBF0F8",
           "zerolinewidth": 2
          }
         }
        },
        "title": {
         "text": "Slice Plot"
        },
        "width": 1000,
        "xaxis": {
         "anchor": "y",
         "domain": [
          0,
          0.16799999999999998
         ],
         "tickangle": -90,
         "title": {
          "text": "classifier"
         }
        },
        "xaxis2": {
         "anchor": "y2",
         "domain": [
          0.208,
          0.376
         ],
         "tickangle": -90,
         "title": {
          "text": "dt_max_depth"
         }
        },
        "xaxis3": {
         "anchor": "y3",
         "domain": [
          0.416,
          0.584
         ],
         "tickangle": -90,
         "title": {
          "text": "lr_c"
         },
         "type": "log"
        },
        "xaxis4": {
         "anchor": "y4",
         "domain": [
          0.624,
          0.792
         ],
         "tickangle": -90,
         "title": {
          "text": "rf_max_depth"
         }
        },
        "xaxis5": {
         "anchor": "y5",
         "domain": [
          0.832,
          1
         ],
         "tickangle": -90,
         "title": {
          "text": "rf_n_estimators"
         }
        },
        "yaxis": {
         "anchor": "x",
         "domain": [
          0,
          1
         ],
         "title": {
          "text": "Objective Value"
         }
        },
        "yaxis2": {
         "anchor": "x2",
         "domain": [
          0,
          1
         ],
         "matches": "y",
         "showticklabels": false
        },
        "yaxis3": {
         "anchor": "x3",
         "domain": [
          0,
          1
         ],
         "matches": "y",
         "showticklabels": false
        },
        "yaxis4": {
         "anchor": "x4",
         "domain": [
          0,
          1
         ],
         "matches": "y",
         "showticklabels": false
        },
        "yaxis5": {
         "anchor": "x5",
         "domain": [
          0,
          1
         ],
         "matches": "y",
         "showticklabels": false
        }
       }
      }
     },
     "metadata": {},
     "output_type": "display_data"
    },
    {
     "data": {
      "application/vnd.plotly.v1+json": {
       "config": {
        "plotlyServerURL": "https://plot.ly"
       },
       "data": [
        {
         "mode": "lines",
         "name": "ROC (AUC = 0.86)",
         "type": "scatter",
         "x": [
          0,
          0,
          0,
          0.0008368200836820083,
          0.0008368200836820083,
          0.0008368200836820083,
          0.0008368200836820083,
          0.0016736401673640166,
          0.0016736401673640166,
          0.0016736401673640166,
          0.0016736401673640166,
          0.002510460251046025,
          0.002510460251046025,
          0.0033472803347280333,
          0.0033472803347280333,
          0.0033472803347280333,
          0.0033472803347280333,
          0.0033472803347280333,
          0.00502092050209205,
          0.005857740585774059,
          0.005857740585774059,
          0.005857740585774059,
          0.0066945606694560665,
          0.0066945606694560665,
          0.007531380753138075,
          0.007531380753138075,
          0.008368200836820083,
          0.008368200836820083,
          0.008368200836820083,
          0.0100418410041841,
          0.0100418410041841,
          0.0100418410041841,
          0.0100418410041841,
          0.0100418410041841,
          0.0100418410041841,
          0.0100418410041841,
          0.0100418410041841,
          0.010878661087866108,
          0.010878661087866108,
          0.012552301255230125,
          0.012552301255230125,
          0.013389121338912133,
          0.013389121338912133,
          0.014225941422594143,
          0.01506276150627615,
          0.01506276150627615,
          0.015899581589958158,
          0.015899581589958158,
          0.016736401673640166,
          0.016736401673640166,
          0.018410041841004185,
          0.018410041841004185,
          0.019246861924686193,
          0.019246861924686193,
          0.02092050209205021,
          0.02092050209205021,
          0.022594142259414227,
          0.022594142259414227,
          0.023430962343096235,
          0.023430962343096235,
          0.024267782426778243,
          0.024267782426778243,
          0.026778242677824266,
          0.026778242677824266,
          0.027615062761506277,
          0.028451882845188285,
          0.0301255230125523,
          0.0301255230125523,
          0.032635983263598324,
          0.032635983263598324,
          0.03347280334728033,
          0.03347280334728033,
          0.03430962343096234,
          0.03430962343096234,
          0.035146443514644354,
          0.035146443514644354,
          0.03598326359832636,
          0.03598326359832636,
          0.03598326359832636,
          0.038493723849372385,
          0.038493723849372385,
          0.03933054393305439,
          0.03933054393305439,
          0.04100418410041841,
          0.04100418410041841,
          0.042677824267782424,
          0.042677824267782424,
          0.04686192468619247,
          0.04686192468619247,
          0.04769874476987448,
          0.049372384937238493,
          0.049372384937238493,
          0.0502092050209205,
          0.05104602510460251,
          0.05104602510460251,
          0.05439330543933055,
          0.05439330543933055,
          0.05690376569037657,
          0.05690376569037657,
          0.05774058577405858,
          0.05774058577405858,
          0.06192468619246862,
          0.06192468619246862,
          0.06359832635983263,
          0.06359832635983263,
          0.06610878661087866,
          0.06610878661087866,
          0.06861924686192468,
          0.06861924686192468,
          0.07615062761506276,
          0.07615062761506276,
          0.07698744769874477,
          0.07698744769874477,
          0.0794979079497908,
          0.0794979079497908,
          0.0803347280334728,
          0.0803347280334728,
          0.08619246861924686,
          0.08619246861924686,
          0.08702928870292886,
          0.08702928870292886,
          0.0895397489539749,
          0.0895397489539749,
          0.09288702928870293,
          0.09288702928870293,
          0.09874476987447699,
          0.09874476987447699,
          0.099581589958159,
          0.099581589958159,
          0.10209205020920502,
          0.10209205020920502,
          0.10460251046025104,
          0.10460251046025104,
          0.10627615062761506,
          0.10627615062761506,
          0.10711297071129706,
          0.10711297071129706,
          0.1087866108786611,
          0.1087866108786611,
          0.1096234309623431,
          0.11129707112970712,
          0.11882845188284519,
          0.11882845188284519,
          0.12301255230125523,
          0.12301255230125523,
          0.12468619246861924,
          0.12468619246861924,
          0.12635983263598327,
          0.12635983263598327,
          0.12887029288702928,
          0.1297071129707113,
          0.1305439330543933,
          0.1305439330543933,
          0.13389121338912133,
          0.13389121338912133,
          0.13723849372384936,
          0.13723849372384936,
          0.1397489539748954,
          0.1414225941422594,
          0.14225941422594143,
          0.14225941422594143,
          0.14476987447698744,
          0.14476987447698744,
          0.15564853556485356,
          0.15564853556485356,
          0.1581589958158996,
          0.1598326359832636,
          0.16150627615062763,
          0.16150627615062763,
          0.16401673640167364,
          0.16652719665271967,
          0.16652719665271967,
          0.16736401673640167,
          0.16736401673640167,
          0.16903765690376568,
          0.16903765690376568,
          0.1707112970711297,
          0.1707112970711297,
          0.17322175732217573,
          0.17322175732217573,
          0.17405857740585773,
          0.17405857740585773,
          0.17573221757322174,
          0.17573221757322174,
          0.18075313807531382,
          0.18075313807531382,
          0.18493723849372384,
          0.18661087866108786,
          0.19581589958158996,
          0.19581589958158996,
          0.19665271966527198,
          0.19665271966527198,
          0.19748953974895397,
          0.19748953974895397,
          0.198326359832636,
          0.198326359832636,
          0.200836820083682,
          0.200836820083682,
          0.20251046025104602,
          0.20418410041841004,
          0.20585774058577405,
          0.20585774058577405,
          0.20669456066945607,
          0.20669456066945607,
          0.2100418410041841,
          0.21171548117154812,
          0.2192468619246862,
          0.2192468619246862,
          0.2200836820083682,
          0.22343096234309623,
          0.22343096234309623,
          0.2292887029288703,
          0.2317991631799163,
          0.23765690376569037,
          0.2384937238493724,
          0.25439330543933053,
          0.2560669456066946,
          0.2602510460251046,
          0.2602510460251046,
          0.2619246861924686,
          0.2619246861924686,
          0.26359832635983266,
          0.26359832635983266,
          0.26610878661087867,
          0.2686192468619247,
          0.27364016736401675,
          0.27364016736401675,
          0.27531380753138074,
          0.2769874476987448,
          0.2803347280334728,
          0.2803347280334728,
          0.2820083682008368,
          0.28368200836820084,
          0.28451882845188287,
          0.28451882845188287,
          0.28535564853556483,
          0.28535564853556483,
          0.28870292887029286,
          0.2903765690376569,
          0.29121338912133893,
          0.29121338912133893,
          0.2920502092050209,
          0.2920502092050209,
          0.295397489539749,
          0.295397489539749,
          0.29707112970711297,
          0.3104602510460251,
          0.3104602510460251,
          0.31548117154811717,
          0.3163179916317992,
          0.3163179916317992,
          0.32803347280334727,
          0.33305439330543934,
          0.3414225941422594,
          0.34393305439330546,
          0.3489539748953975,
          0.3523012552301255,
          0.35648535564853556,
          0.3598326359832636,
          0.3673640167364017,
          0.3673640167364017,
          0.3682008368200837,
          0.3698744769874477,
          0.3707112970711297,
          0.3707112970711297,
          0.3757322175732218,
          0.3757322175732218,
          0.3815899581589958,
          0.3832635983263598,
          0.3832635983263598,
          0.3891213389121339,
          0.3907949790794979,
          0.39246861924686194,
          0.3941422594142259,
          0.40334728033472805,
          0.40502092050209204,
          0.40502092050209204,
          0.4175732217573222,
          0.42092050209205023,
          0.42092050209205023,
          0.42677824267782427,
          0.42677824267782427,
          0.4276150627615063,
          0.4276150627615063,
          0.4301255230125523,
          0.4376569037656904,
          0.4376569037656904,
          0.4384937238493724,
          0.4384937238493724,
          0.4393305439330544,
          0.4393305439330544,
          0.4401673640167364,
          0.44435146443514645,
          0.45690376569037655,
          0.4602510460251046,
          0.4635983263598326,
          0.4635983263598326,
          0.4686192468619247,
          0.4686192468619247,
          0.4694560669456067,
          0.4694560669456067,
          0.4711297071129707,
          0.47531380753138075,
          0.47531380753138075,
          0.48535564853556484,
          0.4920502092050209,
          0.49623430962343096,
          0.49623430962343096,
          0.500418410041841,
          0.507112970711297,
          0.507949790794979,
          0.507949790794979,
          0.5121338912133891,
          0.5121338912133891,
          0.5171548117154812,
          0.5171548117154812,
          0.5188284518828452,
          0.5221757322175732,
          0.5280334728033472,
          0.5280334728033472,
          0.5347280334728034,
          0.5364016736401673,
          0.5464435146443515,
          0.5623430962343097,
          0.5623430962343097,
          0.5631799163179916,
          0.5631799163179916,
          0.5640167364016736,
          0.5656903765690376,
          0.5698744769874478,
          0.5698744769874478,
          0.5832635983263599,
          0.5832635983263599,
          0.5899581589958159,
          0.599163179916318,
          0.6033472803347281,
          0.605020920502092,
          0.6108786610878661,
          0.6125523012552301,
          0.6175732217573222,
          0.6259414225941422,
          0.6317991631799164,
          0.6317991631799164,
          0.6443514644351465,
          0.6510460251046025,
          0.6594142259414226,
          0.6610878661087866,
          0.6686192468619246,
          0.6778242677824268,
          0.6836820083682008,
          0.6836820083682008,
          0.6845188284518828,
          0.6861924686192469,
          0.701255230125523,
          0.7087866108786611,
          0.7338912133891213,
          0.7338912133891213,
          0.7364016736401674,
          0.7497907949790795,
          0.7656903765690377,
          0.7757322175732217,
          0.7790794979079498,
          0.7790794979079498,
          0.7815899581589958,
          0.7815899581589958,
          0.7916317991631799,
          0.801673640167364,
          0.8058577405857741,
          0.8075313807531381,
          0.8117154811715481,
          0.8117154811715481,
          0.8217573221757322,
          0.8317991631799163,
          0.8351464435146444,
          0.8351464435146444,
          0.8510460251046025,
          0.8610878661087866,
          0.8736401673640167,
          0.8753138075313808,
          0.8845188284518829,
          0.8945606694560669,
          0.899581589958159,
          0.901255230125523,
          0.9179916317991632,
          0.9205020920502092,
          0.9221757322175732,
          0.9347280334728033,
          0.9472803347280335,
          0.9472803347280335,
          0.9489539748953975,
          0.9564853556485355,
          0.9615062761506277,
          0.9748953974895398,
          0.9832635983263598,
          0.9849372384937238,
          0.9857740585774059,
          0.9874476987447699,
          1
         ],
         "y": [
          0,
          0.003278688524590164,
          0.013114754098360656,
          0.013114754098360656,
          0.04262295081967213,
          0.04918032786885246,
          0.09180327868852459,
          0.09180327868852459,
          0.1377049180327869,
          0.14754098360655737,
          0.15081967213114755,
          0.15081967213114755,
          0.1540983606557377,
          0.1540983606557377,
          0.16065573770491803,
          0.16393442622950818,
          0.17049180327868851,
          0.2,
          0.2,
          0.20655737704918034,
          0.21967213114754097,
          0.22950819672131148,
          0.22950819672131148,
          0.2360655737704918,
          0.2360655737704918,
          0.24262295081967214,
          0.24262295081967214,
          0.25245901639344265,
          0.25901639344262295,
          0.25901639344262295,
          0.2754098360655738,
          0.2819672131147541,
          0.29508196721311475,
          0.3016393442622951,
          0.3114754098360656,
          0.3180327868852459,
          0.33114754098360655,
          0.3377049180327869,
          0.3540983606557377,
          0.3540983606557377,
          0.36065573770491804,
          0.36065573770491804,
          0.3639344262295082,
          0.3737704918032787,
          0.3737704918032787,
          0.3770491803278688,
          0.3770491803278688,
          0.380327868852459,
          0.380327868852459,
          0.3836065573770492,
          0.3836065573770492,
          0.38688524590163936,
          0.38688524590163936,
          0.40327868852459015,
          0.40327868852459015,
          0.4065573770491803,
          0.4065573770491803,
          0.4098360655737705,
          0.4098360655737705,
          0.4163934426229508,
          0.4163934426229508,
          0.42950819672131146,
          0.42950819672131146,
          0.4360655737704918,
          0.4360655737704918,
          0.43934426229508194,
          0.43934426229508194,
          0.4524590163934426,
          0.4524590163934426,
          0.4557377049180328,
          0.4557377049180328,
          0.45901639344262296,
          0.45901639344262296,
          0.46229508196721314,
          0.46229508196721314,
          0.46885245901639344,
          0.46885245901639344,
          0.4721311475409836,
          0.4786885245901639,
          0.4786885245901639,
          0.4819672131147541,
          0.4819672131147541,
          0.4852459016393443,
          0.4852459016393443,
          0.4918032786885246,
          0.4918032786885246,
          0.49836065573770494,
          0.49836065573770494,
          0.5016393442622951,
          0.5049180327868853,
          0.5049180327868853,
          0.5180327868852459,
          0.5245901639344263,
          0.5245901639344263,
          0.5311475409836065,
          0.5311475409836065,
          0.5344262295081967,
          0.5344262295081967,
          0.5409836065573771,
          0.5409836065573771,
          0.5540983606557377,
          0.5540983606557377,
          0.5573770491803278,
          0.5573770491803278,
          0.5639344262295082,
          0.5639344262295082,
          0.5672131147540984,
          0.5672131147540984,
          0.5770491803278689,
          0.5770491803278689,
          0.580327868852459,
          0.580327868852459,
          0.5868852459016394,
          0.5868852459016394,
          0.5934426229508196,
          0.5934426229508196,
          0.5967213114754099,
          0.5967213114754099,
          0.6,
          0.6,
          0.6032786885245902,
          0.6032786885245902,
          0.6098360655737705,
          0.6098360655737705,
          0.6131147540983607,
          0.6131147540983607,
          0.6229508196721312,
          0.6229508196721312,
          0.6327868852459017,
          0.6327868852459017,
          0.6360655737704918,
          0.6360655737704918,
          0.639344262295082,
          0.639344262295082,
          0.6426229508196721,
          0.6426229508196721,
          0.6459016393442623,
          0.6459016393442623,
          0.6524590163934426,
          0.6524590163934426,
          0.6524590163934426,
          0.6524590163934426,
          0.6557377049180327,
          0.6557377049180327,
          0.6721311475409836,
          0.6721311475409836,
          0.6754098360655738,
          0.6754098360655738,
          0.6819672131147541,
          0.6819672131147541,
          0.6852459016393443,
          0.6852459016393443,
          0.6885245901639344,
          0.6885245901639344,
          0.6918032786885245,
          0.6918032786885245,
          0.6950819672131148,
          0.6950819672131148,
          0.6950819672131148,
          0.6950819672131148,
          0.6983606557377049,
          0.6983606557377049,
          0.7016393442622951,
          0.7016393442622951,
          0.7081967213114754,
          0.7081967213114754,
          0.7114754098360656,
          0.7114754098360656,
          0.7180327868852459,
          0.7180327868852459,
          0.7180327868852459,
          0.7245901639344262,
          0.7245901639344262,
          0.7311475409836066,
          0.7311475409836066,
          0.7344262295081967,
          0.7344262295081967,
          0.7377049180327869,
          0.7377049180327869,
          0.740983606557377,
          0.740983606557377,
          0.7442622950819672,
          0.7442622950819672,
          0.7475409836065574,
          0.7475409836065574,
          0.7508196721311475,
          0.7508196721311475,
          0.7540983606557377,
          0.7540983606557377,
          0.7573770491803279,
          0.7573770491803279,
          0.760655737704918,
          0.760655737704918,
          0.7639344262295082,
          0.7639344262295082,
          0.7672131147540984,
          0.7672131147540984,
          0.7704918032786885,
          0.7704918032786885,
          0.7704918032786885,
          0.7704918032786885,
          0.7737704918032787,
          0.7737704918032787,
          0.7770491803278688,
          0.7770491803278688,
          0.780327868852459,
          0.780327868852459,
          0.7836065573770492,
          0.7901639344262295,
          0.7901639344262295,
          0.7934426229508197,
          0.7934426229508197,
          0.7934426229508197,
          0.7934426229508197,
          0.7967213114754098,
          0.7967213114754098,
          0.7967213114754098,
          0.7967213114754098,
          0.8,
          0.8,
          0.8032786885245902,
          0.8032786885245902,
          0.8065573770491803,
          0.8065573770491803,
          0.8098360655737705,
          0.8098360655737705,
          0.8131147540983606,
          0.8131147540983606,
          0.8131147540983606,
          0.8131147540983606,
          0.8163934426229508,
          0.8163934426229508,
          0.8163934426229508,
          0.8163934426229508,
          0.819672131147541,
          0.819672131147541,
          0.8229508196721311,
          0.8229508196721311,
          0.8229508196721311,
          0.8229508196721311,
          0.8262295081967214,
          0.8262295081967214,
          0.8295081967213115,
          0.8295081967213115,
          0.8327868852459016,
          0.8327868852459016,
          0.8327868852459016,
          0.8360655737704918,
          0.8360655737704918,
          0.839344262295082,
          0.8426229508196721,
          0.8426229508196721,
          0.8426229508196721,
          0.8426229508196721,
          0.8426229508196721,
          0.8426229508196721,
          0.8426229508196721,
          0.8426229508196721,
          0.8459016393442623,
          0.8459016393442623,
          0.8491803278688524,
          0.8491803278688524,
          0.8491803278688524,
          0.8491803278688524,
          0.8524590163934426,
          0.8524590163934426,
          0.8557377049180328,
          0.8557377049180328,
          0.8622950819672132,
          0.8655737704918033,
          0.8655737704918033,
          0.8655737704918033,
          0.8655737704918033,
          0.8655737704918033,
          0.8655737704918033,
          0.8688524590163934,
          0.8721311475409836,
          0.8721311475409836,
          0.8754098360655738,
          0.8786885245901639,
          0.8786885245901639,
          0.8819672131147541,
          0.8819672131147541,
          0.8852459016393442,
          0.8885245901639345,
          0.8885245901639345,
          0.8918032786885246,
          0.8918032786885246,
          0.8950819672131147,
          0.8950819672131147,
          0.898360655737705,
          0.898360655737705,
          0.898360655737705,
          0.898360655737705,
          0.898360655737705,
          0.898360655737705,
          0.9016393442622951,
          0.9016393442622951,
          0.9049180327868852,
          0.9049180327868852,
          0.9081967213114754,
          0.9081967213114754,
          0.9114754098360656,
          0.9180327868852459,
          0.9180327868852459,
          0.9180327868852459,
          0.9180327868852459,
          0.921311475409836,
          0.921311475409836,
          0.921311475409836,
          0.921311475409836,
          0.9245901639344263,
          0.9245901639344263,
          0.9278688524590164,
          0.9278688524590164,
          0.9311475409836065,
          0.9311475409836065,
          0.9311475409836065,
          0.9311475409836065,
          0.9344262295081968,
          0.9344262295081968,
          0.9344262295081968,
          0.9344262295081968,
          0.9344262295081968,
          0.9377049180327869,
          0.9377049180327869,
          0.940983606557377,
          0.940983606557377,
          0.940983606557377,
          0.9475409836065574,
          0.9508196721311475,
          0.9508196721311475,
          0.9540983606557377,
          0.9540983606557377,
          0.9540983606557377,
          0.9540983606557377,
          0.9540983606557377,
          0.9540983606557377,
          0.9540983606557377,
          0.9540983606557377,
          0.9540983606557377,
          0.9540983606557377,
          0.9573770491803278,
          0.9573770491803278,
          0.9573770491803278,
          0.9573770491803278,
          0.9573770491803278,
          0.9573770491803278,
          0.9573770491803278,
          0.9573770491803278,
          0.9606557377049181,
          0.9606557377049181,
          0.9606557377049181,
          0.9606557377049181,
          0.9672131147540983,
          0.9672131147540983,
          0.9704918032786886,
          0.9704918032786886,
          0.9704918032786886,
          0.9704918032786886,
          0.9704918032786886,
          0.9704918032786886,
          0.9737704918032787,
          0.9737704918032787,
          0.9770491803278688,
          0.9770491803278688,
          0.9836065573770492,
          0.9836065573770492,
          0.9836065573770492,
          0.9836065573770492,
          0.9868852459016394,
          0.9868852459016394,
          0.9868852459016394,
          0.9868852459016394,
          0.9934426229508196,
          0.9934426229508196,
          0.9967213114754099,
          0.9967213114754099,
          0.9967213114754099,
          0.9967213114754099,
          0.9967213114754099,
          0.9967213114754099,
          0.9967213114754099,
          0.9967213114754099,
          0.9967213114754099,
          0.9967213114754099,
          0.9967213114754099,
          0.9967213114754099,
          1,
          1,
          1,
          1,
          1,
          1,
          1,
          1,
          1,
          1
         ]
        },
        {
         "line": {
          "color": "black",
          "dash": "dash"
         },
         "mode": "lines",
         "name": "No skill",
         "type": "scatter",
         "x": [
          0,
          1
         ],
         "y": [
          0,
          1
         ]
        }
       ],
       "layout": {
        "height": 750,
        "legend": {
         "x": 0.01,
         "xanchor": "left",
         "y": 0.99,
         "yanchor": "top"
        },
        "template": {
         "data": {
          "bar": [
           {
            "error_x": {
             "color": "#2a3f5f"
            },
            "error_y": {
             "color": "#2a3f5f"
            },
            "marker": {
             "line": {
              "color": "white",
              "width": 0.5
             },
             "pattern": {
              "fillmode": "overlay",
              "size": 10,
              "solidity": 0.2
             }
            },
            "type": "bar"
           }
          ],
          "barpolar": [
           {
            "marker": {
             "line": {
              "color": "white",
              "width": 0.5
             },
             "pattern": {
              "fillmode": "overlay",
              "size": 10,
              "solidity": 0.2
             }
            },
            "type": "barpolar"
           }
          ],
          "carpet": [
           {
            "aaxis": {
             "endlinecolor": "#2a3f5f",
             "gridcolor": "#C8D4E3",
             "linecolor": "#C8D4E3",
             "minorgridcolor": "#C8D4E3",
             "startlinecolor": "#2a3f5f"
            },
            "baxis": {
             "endlinecolor": "#2a3f5f",
             "gridcolor": "#C8D4E3",
             "linecolor": "#C8D4E3",
             "minorgridcolor": "#C8D4E3",
             "startlinecolor": "#2a3f5f"
            },
            "type": "carpet"
           }
          ],
          "choropleth": [
           {
            "colorbar": {
             "outlinewidth": 0,
             "ticks": ""
            },
            "type": "choropleth"
           }
          ],
          "contour": [
           {
            "colorbar": {
             "outlinewidth": 0,
             "ticks": ""
            },
            "colorscale": [
             [
              0,
              "#0d0887"
             ],
             [
              0.1111111111111111,
              "#46039f"
             ],
             [
              0.2222222222222222,
              "#7201a8"
             ],
             [
              0.3333333333333333,
              "#9c179e"
             ],
             [
              0.4444444444444444,
              "#bd3786"
             ],
             [
              0.5555555555555556,
              "#d8576b"
             ],
             [
              0.6666666666666666,
              "#ed7953"
             ],
             [
              0.7777777777777778,
              "#fb9f3a"
             ],
             [
              0.8888888888888888,
              "#fdca26"
             ],
             [
              1,
              "#f0f921"
             ]
            ],
            "type": "contour"
           }
          ],
          "contourcarpet": [
           {
            "colorbar": {
             "outlinewidth": 0,
             "ticks": ""
            },
            "type": "contourcarpet"
           }
          ],
          "heatmap": [
           {
            "colorbar": {
             "outlinewidth": 0,
             "ticks": ""
            },
            "colorscale": [
             [
              0,
              "#0d0887"
             ],
             [
              0.1111111111111111,
              "#46039f"
             ],
             [
              0.2222222222222222,
              "#7201a8"
             ],
             [
              0.3333333333333333,
              "#9c179e"
             ],
             [
              0.4444444444444444,
              "#bd3786"
             ],
             [
              0.5555555555555556,
              "#d8576b"
             ],
             [
              0.6666666666666666,
              "#ed7953"
             ],
             [
              0.7777777777777778,
              "#fb9f3a"
             ],
             [
              0.8888888888888888,
              "#fdca26"
             ],
             [
              1,
              "#f0f921"
             ]
            ],
            "type": "heatmap"
           }
          ],
          "heatmapgl": [
           {
            "colorbar": {
             "outlinewidth": 0,
             "ticks": ""
            },
            "colorscale": [
             [
              0,
              "#0d0887"
             ],
             [
              0.1111111111111111,
              "#46039f"
             ],
             [
              0.2222222222222222,
              "#7201a8"
             ],
             [
              0.3333333333333333,
              "#9c179e"
             ],
             [
              0.4444444444444444,
              "#bd3786"
             ],
             [
              0.5555555555555556,
              "#d8576b"
             ],
             [
              0.6666666666666666,
              "#ed7953"
             ],
             [
              0.7777777777777778,
              "#fb9f3a"
             ],
             [
              0.8888888888888888,
              "#fdca26"
             ],
             [
              1,
              "#f0f921"
             ]
            ],
            "type": "heatmapgl"
           }
          ],
          "histogram": [
           {
            "marker": {
             "pattern": {
              "fillmode": "overlay",
              "size": 10,
              "solidity": 0.2
             }
            },
            "type": "histogram"
           }
          ],
          "histogram2d": [
           {
            "colorbar": {
             "outlinewidth": 0,
             "ticks": ""
            },
            "colorscale": [
             [
              0,
              "#0d0887"
             ],
             [
              0.1111111111111111,
              "#46039f"
             ],
             [
              0.2222222222222222,
              "#7201a8"
             ],
             [
              0.3333333333333333,
              "#9c179e"
             ],
             [
              0.4444444444444444,
              "#bd3786"
             ],
             [
              0.5555555555555556,
              "#d8576b"
             ],
             [
              0.6666666666666666,
              "#ed7953"
             ],
             [
              0.7777777777777778,
              "#fb9f3a"
             ],
             [
              0.8888888888888888,
              "#fdca26"
             ],
             [
              1,
              "#f0f921"
             ]
            ],
            "type": "histogram2d"
           }
          ],
          "histogram2dcontour": [
           {
            "colorbar": {
             "outlinewidth": 0,
             "ticks": ""
            },
            "colorscale": [
             [
              0,
              "#0d0887"
             ],
             [
              0.1111111111111111,
              "#46039f"
             ],
             [
              0.2222222222222222,
              "#7201a8"
             ],
             [
              0.3333333333333333,
              "#9c179e"
             ],
             [
              0.4444444444444444,
              "#bd3786"
             ],
             [
              0.5555555555555556,
              "#d8576b"
             ],
             [
              0.6666666666666666,
              "#ed7953"
             ],
             [
              0.7777777777777778,
              "#fb9f3a"
             ],
             [
              0.8888888888888888,
              "#fdca26"
             ],
             [
              1,
              "#f0f921"
             ]
            ],
            "type": "histogram2dcontour"
           }
          ],
          "mesh3d": [
           {
            "colorbar": {
             "outlinewidth": 0,
             "ticks": ""
            },
            "type": "mesh3d"
           }
          ],
          "parcoords": [
           {
            "line": {
             "colorbar": {
              "outlinewidth": 0,
              "ticks": ""
             }
            },
            "type": "parcoords"
           }
          ],
          "pie": [
           {
            "automargin": true,
            "type": "pie"
           }
          ],
          "scatter": [
           {
            "fillpattern": {
             "fillmode": "overlay",
             "size": 10,
             "solidity": 0.2
            },
            "type": "scatter"
           }
          ],
          "scatter3d": [
           {
            "line": {
             "colorbar": {
              "outlinewidth": 0,
              "ticks": ""
             }
            },
            "marker": {
             "colorbar": {
              "outlinewidth": 0,
              "ticks": ""
             }
            },
            "type": "scatter3d"
           }
          ],
          "scattercarpet": [
           {
            "marker": {
             "colorbar": {
              "outlinewidth": 0,
              "ticks": ""
             }
            },
            "type": "scattercarpet"
           }
          ],
          "scattergeo": [
           {
            "marker": {
             "colorbar": {
              "outlinewidth": 0,
              "ticks": ""
             }
            },
            "type": "scattergeo"
           }
          ],
          "scattergl": [
           {
            "marker": {
             "colorbar": {
              "outlinewidth": 0,
              "ticks": ""
             }
            },
            "type": "scattergl"
           }
          ],
          "scattermapbox": [
           {
            "marker": {
             "colorbar": {
              "outlinewidth": 0,
              "ticks": ""
             }
            },
            "type": "scattermapbox"
           }
          ],
          "scatterpolar": [
           {
            "marker": {
             "colorbar": {
              "outlinewidth": 0,
              "ticks": ""
             }
            },
            "type": "scatterpolar"
           }
          ],
          "scatterpolargl": [
           {
            "marker": {
             "colorbar": {
              "outlinewidth": 0,
              "ticks": ""
             }
            },
            "type": "scatterpolargl"
           }
          ],
          "scatterternary": [
           {
            "marker": {
             "colorbar": {
              "outlinewidth": 0,
              "ticks": ""
             }
            },
            "type": "scatterternary"
           }
          ],
          "surface": [
           {
            "colorbar": {
             "outlinewidth": 0,
             "ticks": ""
            },
            "colorscale": [
             [
              0,
              "#0d0887"
             ],
             [
              0.1111111111111111,
              "#46039f"
             ],
             [
              0.2222222222222222,
              "#7201a8"
             ],
             [
              0.3333333333333333,
              "#9c179e"
             ],
             [
              0.4444444444444444,
              "#bd3786"
             ],
             [
              0.5555555555555556,
              "#d8576b"
             ],
             [
              0.6666666666666666,
              "#ed7953"
             ],
             [
              0.7777777777777778,
              "#fb9f3a"
             ],
             [
              0.8888888888888888,
              "#fdca26"
             ],
             [
              1,
              "#f0f921"
             ]
            ],
            "type": "surface"
           }
          ],
          "table": [
           {
            "cells": {
             "fill": {
              "color": "#EBF0F8"
             },
             "line": {
              "color": "white"
             }
            },
            "header": {
             "fill": {
              "color": "#C8D4E3"
             },
             "line": {
              "color": "white"
             }
            },
            "type": "table"
           }
          ]
         },
         "layout": {
          "annotationdefaults": {
           "arrowcolor": "#2a3f5f",
           "arrowhead": 0,
           "arrowwidth": 1
          },
          "autotypenumbers": "strict",
          "coloraxis": {
           "colorbar": {
            "outlinewidth": 0,
            "ticks": ""
           }
          },
          "colorscale": {
           "diverging": [
            [
             0,
             "#8e0152"
            ],
            [
             0.1,
             "#c51b7d"
            ],
            [
             0.2,
             "#de77ae"
            ],
            [
             0.3,
             "#f1b6da"
            ],
            [
             0.4,
             "#fde0ef"
            ],
            [
             0.5,
             "#f7f7f7"
            ],
            [
             0.6,
             "#e6f5d0"
            ],
            [
             0.7,
             "#b8e186"
            ],
            [
             0.8,
             "#7fbc41"
            ],
            [
             0.9,
             "#4d9221"
            ],
            [
             1,
             "#276419"
            ]
           ],
           "sequential": [
            [
             0,
             "#0d0887"
            ],
            [
             0.1111111111111111,
             "#46039f"
            ],
            [
             0.2222222222222222,
             "#7201a8"
            ],
            [
             0.3333333333333333,
             "#9c179e"
            ],
            [
             0.4444444444444444,
             "#bd3786"
            ],
            [
             0.5555555555555556,
             "#d8576b"
            ],
            [
             0.6666666666666666,
             "#ed7953"
            ],
            [
             0.7777777777777778,
             "#fb9f3a"
            ],
            [
             0.8888888888888888,
             "#fdca26"
            ],
            [
             1,
             "#f0f921"
            ]
           ],
           "sequentialminus": [
            [
             0,
             "#0d0887"
            ],
            [
             0.1111111111111111,
             "#46039f"
            ],
            [
             0.2222222222222222,
             "#7201a8"
            ],
            [
             0.3333333333333333,
             "#9c179e"
            ],
            [
             0.4444444444444444,
             "#bd3786"
            ],
            [
             0.5555555555555556,
             "#d8576b"
            ],
            [
             0.6666666666666666,
             "#ed7953"
            ],
            [
             0.7777777777777778,
             "#fb9f3a"
            ],
            [
             0.8888888888888888,
             "#fdca26"
            ],
            [
             1,
             "#f0f921"
            ]
           ]
          },
          "colorway": [
           "#636efa",
           "#EF553B",
           "#00cc96",
           "#ab63fa",
           "#FFA15A",
           "#19d3f3",
           "#FF6692",
           "#B6E880",
           "#FF97FF",
           "#FECB52"
          ],
          "font": {
           "color": "#2a3f5f"
          },
          "geo": {
           "bgcolor": "white",
           "lakecolor": "white",
           "landcolor": "white",
           "showlakes": true,
           "showland": true,
           "subunitcolor": "#C8D4E3"
          },
          "hoverlabel": {
           "align": "left"
          },
          "hovermode": "closest",
          "mapbox": {
           "style": "light"
          },
          "paper_bgcolor": "white",
          "plot_bgcolor": "white",
          "polar": {
           "angularaxis": {
            "gridcolor": "#EBF0F8",
            "linecolor": "#EBF0F8",
            "ticks": ""
           },
           "bgcolor": "white",
           "radialaxis": {
            "gridcolor": "#EBF0F8",
            "linecolor": "#EBF0F8",
            "ticks": ""
           }
          },
          "scene": {
           "xaxis": {
            "backgroundcolor": "white",
            "gridcolor": "#DFE8F3",
            "gridwidth": 2,
            "linecolor": "#EBF0F8",
            "showbackground": true,
            "ticks": "",
            "zerolinecolor": "#EBF0F8"
           },
           "yaxis": {
            "backgroundcolor": "white",
            "gridcolor": "#DFE8F3",
            "gridwidth": 2,
            "linecolor": "#EBF0F8",
            "showbackground": true,
            "ticks": "",
            "zerolinecolor": "#EBF0F8"
           },
           "zaxis": {
            "backgroundcolor": "white",
            "gridcolor": "#DFE8F3",
            "gridwidth": 2,
            "linecolor": "#EBF0F8",
            "showbackground": true,
            "ticks": "",
            "zerolinecolor": "#EBF0F8"
           }
          },
          "shapedefaults": {
           "line": {
            "color": "#2a3f5f"
           }
          },
          "ternary": {
           "aaxis": {
            "gridcolor": "#DFE8F3",
            "linecolor": "#A2B1C6",
            "ticks": ""
           },
           "baxis": {
            "gridcolor": "#DFE8F3",
            "linecolor": "#A2B1C6",
            "ticks": ""
           },
           "bgcolor": "white",
           "caxis": {
            "gridcolor": "#DFE8F3",
            "linecolor": "#A2B1C6",
            "ticks": ""
           }
          },
          "title": {
           "x": 0.05
          },
          "xaxis": {
           "automargin": true,
           "gridcolor": "#EBF0F8",
           "linecolor": "#EBF0F8",
           "ticks": "",
           "title": {
            "standoff": 15
           },
           "zerolinecolor": "#EBF0F8",
           "zerolinewidth": 2
          },
          "yaxis": {
           "automargin": true,
           "gridcolor": "#EBF0F8",
           "linecolor": "#EBF0F8",
           "ticks": "",
           "title": {
            "standoff": 15
           },
           "zerolinecolor": "#EBF0F8",
           "zerolinewidth": 2
          }
         }
        },
        "title": {
         "text": "ROC for the best model, upsampled"
        },
        "width": 1000,
        "xaxis": {
         "title": {
          "text": "False positive rate"
         }
        },
        "yaxis": {
         "title": {
          "text": "True positive rate"
         }
        }
       }
      }
     },
     "metadata": {},
     "output_type": "display_data"
    }
   ],
   "source": [
    "print_best_params_and_metrics(study_upsampled.best_params, metrics)\n",
    "\n",
    "fig = optuna.visualization.plot_optimization_history(study_upsampled)\n",
    "fig.update_layout(template='plotly_white', width=FIG_WIDTH, height=FIG_HEIGHT)\n",
    "fig.show()\n",
    "\n",
    "fig = optuna.visualization.plot_slice(study_upsampled)\n",
    "fig.update_layout(template='plotly_white', width=FIG_WIDTH, height=FIG_HEIGHT)\n",
    "fig.update_xaxes(tickangle=-90)\n",
    "fig.show()\n",
    "\n",
    "fig = plot_roc_auc(\n",
    "    data_splits['upsampled']['ftr_valid'], data_splits['upsampled']['tgt_valid'], \n",
    "    best_model, title='ROC for the best model, upsampled'\n",
    ")\n",
    "fig.show()"
   ]
  },
  {
   "attachments": {},
   "cell_type": "markdown",
   "metadata": {},
   "source": [
    "## Датасет с downsampling\n",
    "\n",
    "Возьмем датасет c `downsampling` и посмотрим на качество моделей."
   ]
  },
  {
   "cell_type": "code",
   "execution_count": 48,
   "metadata": {},
   "outputs": [],
   "source": [
    "study_downsampled = get_study('downsampled', n_trials=10)\n",
    "\n",
    "metrics, best_model = evaluate_best_model('downsampled', study_downsampled)"
   ]
  },
  {
   "attachments": {},
   "cell_type": "markdown",
   "metadata": {},
   "source": [
    "Визуализируем результаты."
   ]
  },
  {
   "cell_type": "code",
   "execution_count": 71,
   "metadata": {},
   "outputs": [
    {
     "name": "stdout",
     "output_type": "stream",
     "text": [
      "The best model parameters are:\n",
      "classifier: RandomForest\n",
      "rf_max_depth: 18\n",
      "rf_n_estimators: 158\n",
      "\n",
      "The performance metrics of the model are:\n",
      "valid_f1: 0.6203\n",
      "valid_roc_auc: 0.8587\n"
     ]
    },
    {
     "data": {
      "application/vnd.plotly.v1+json": {
       "config": {
        "plotlyServerURL": "https://plot.ly"
       },
       "data": [
        {
         "mode": "markers",
         "name": "Objective Value",
         "type": "scatter",
         "x": [
          0,
          1,
          2,
          3,
          4,
          5,
          6,
          7,
          8,
          9
         ],
         "y": [
          0.485,
          0.472,
          0.485,
          0.471,
          0.49,
          0.475,
          0.485,
          0.607,
          0.497,
          0.551
         ]
        },
        {
         "name": "Best Value",
         "type": "scatter",
         "x": [
          0,
          1,
          2,
          3,
          4,
          5,
          6,
          7,
          8,
          9
         ],
         "y": [
          0.485,
          0.485,
          0.485,
          0.485,
          0.49,
          0.49,
          0.49,
          0.607,
          0.607,
          0.607
         ]
        }
       ],
       "layout": {
        "height": 500,
        "template": {
         "data": {
          "bar": [
           {
            "error_x": {
             "color": "#2a3f5f"
            },
            "error_y": {
             "color": "#2a3f5f"
            },
            "marker": {
             "line": {
              "color": "white",
              "width": 0.5
             },
             "pattern": {
              "fillmode": "overlay",
              "size": 10,
              "solidity": 0.2
             }
            },
            "type": "bar"
           }
          ],
          "barpolar": [
           {
            "marker": {
             "line": {
              "color": "white",
              "width": 0.5
             },
             "pattern": {
              "fillmode": "overlay",
              "size": 10,
              "solidity": 0.2
             }
            },
            "type": "barpolar"
           }
          ],
          "carpet": [
           {
            "aaxis": {
             "endlinecolor": "#2a3f5f",
             "gridcolor": "#C8D4E3",
             "linecolor": "#C8D4E3",
             "minorgridcolor": "#C8D4E3",
             "startlinecolor": "#2a3f5f"
            },
            "baxis": {
             "endlinecolor": "#2a3f5f",
             "gridcolor": "#C8D4E3",
             "linecolor": "#C8D4E3",
             "minorgridcolor": "#C8D4E3",
             "startlinecolor": "#2a3f5f"
            },
            "type": "carpet"
           }
          ],
          "choropleth": [
           {
            "colorbar": {
             "outlinewidth": 0,
             "ticks": ""
            },
            "type": "choropleth"
           }
          ],
          "contour": [
           {
            "colorbar": {
             "outlinewidth": 0,
             "ticks": ""
            },
            "colorscale": [
             [
              0,
              "#0d0887"
             ],
             [
              0.1111111111111111,
              "#46039f"
             ],
             [
              0.2222222222222222,
              "#7201a8"
             ],
             [
              0.3333333333333333,
              "#9c179e"
             ],
             [
              0.4444444444444444,
              "#bd3786"
             ],
             [
              0.5555555555555556,
              "#d8576b"
             ],
             [
              0.6666666666666666,
              "#ed7953"
             ],
             [
              0.7777777777777778,
              "#fb9f3a"
             ],
             [
              0.8888888888888888,
              "#fdca26"
             ],
             [
              1,
              "#f0f921"
             ]
            ],
            "type": "contour"
           }
          ],
          "contourcarpet": [
           {
            "colorbar": {
             "outlinewidth": 0,
             "ticks": ""
            },
            "type": "contourcarpet"
           }
          ],
          "heatmap": [
           {
            "colorbar": {
             "outlinewidth": 0,
             "ticks": ""
            },
            "colorscale": [
             [
              0,
              "#0d0887"
             ],
             [
              0.1111111111111111,
              "#46039f"
             ],
             [
              0.2222222222222222,
              "#7201a8"
             ],
             [
              0.3333333333333333,
              "#9c179e"
             ],
             [
              0.4444444444444444,
              "#bd3786"
             ],
             [
              0.5555555555555556,
              "#d8576b"
             ],
             [
              0.6666666666666666,
              "#ed7953"
             ],
             [
              0.7777777777777778,
              "#fb9f3a"
             ],
             [
              0.8888888888888888,
              "#fdca26"
             ],
             [
              1,
              "#f0f921"
             ]
            ],
            "type": "heatmap"
           }
          ],
          "heatmapgl": [
           {
            "colorbar": {
             "outlinewidth": 0,
             "ticks": ""
            },
            "colorscale": [
             [
              0,
              "#0d0887"
             ],
             [
              0.1111111111111111,
              "#46039f"
             ],
             [
              0.2222222222222222,
              "#7201a8"
             ],
             [
              0.3333333333333333,
              "#9c179e"
             ],
             [
              0.4444444444444444,
              "#bd3786"
             ],
             [
              0.5555555555555556,
              "#d8576b"
             ],
             [
              0.6666666666666666,
              "#ed7953"
             ],
             [
              0.7777777777777778,
              "#fb9f3a"
             ],
             [
              0.8888888888888888,
              "#fdca26"
             ],
             [
              1,
              "#f0f921"
             ]
            ],
            "type": "heatmapgl"
           }
          ],
          "histogram": [
           {
            "marker": {
             "pattern": {
              "fillmode": "overlay",
              "size": 10,
              "solidity": 0.2
             }
            },
            "type": "histogram"
           }
          ],
          "histogram2d": [
           {
            "colorbar": {
             "outlinewidth": 0,
             "ticks": ""
            },
            "colorscale": [
             [
              0,
              "#0d0887"
             ],
             [
              0.1111111111111111,
              "#46039f"
             ],
             [
              0.2222222222222222,
              "#7201a8"
             ],
             [
              0.3333333333333333,
              "#9c179e"
             ],
             [
              0.4444444444444444,
              "#bd3786"
             ],
             [
              0.5555555555555556,
              "#d8576b"
             ],
             [
              0.6666666666666666,
              "#ed7953"
             ],
             [
              0.7777777777777778,
              "#fb9f3a"
             ],
             [
              0.8888888888888888,
              "#fdca26"
             ],
             [
              1,
              "#f0f921"
             ]
            ],
            "type": "histogram2d"
           }
          ],
          "histogram2dcontour": [
           {
            "colorbar": {
             "outlinewidth": 0,
             "ticks": ""
            },
            "colorscale": [
             [
              0,
              "#0d0887"
             ],
             [
              0.1111111111111111,
              "#46039f"
             ],
             [
              0.2222222222222222,
              "#7201a8"
             ],
             [
              0.3333333333333333,
              "#9c179e"
             ],
             [
              0.4444444444444444,
              "#bd3786"
             ],
             [
              0.5555555555555556,
              "#d8576b"
             ],
             [
              0.6666666666666666,
              "#ed7953"
             ],
             [
              0.7777777777777778,
              "#fb9f3a"
             ],
             [
              0.8888888888888888,
              "#fdca26"
             ],
             [
              1,
              "#f0f921"
             ]
            ],
            "type": "histogram2dcontour"
           }
          ],
          "mesh3d": [
           {
            "colorbar": {
             "outlinewidth": 0,
             "ticks": ""
            },
            "type": "mesh3d"
           }
          ],
          "parcoords": [
           {
            "line": {
             "colorbar": {
              "outlinewidth": 0,
              "ticks": ""
             }
            },
            "type": "parcoords"
           }
          ],
          "pie": [
           {
            "automargin": true,
            "type": "pie"
           }
          ],
          "scatter": [
           {
            "fillpattern": {
             "fillmode": "overlay",
             "size": 10,
             "solidity": 0.2
            },
            "type": "scatter"
           }
          ],
          "scatter3d": [
           {
            "line": {
             "colorbar": {
              "outlinewidth": 0,
              "ticks": ""
             }
            },
            "marker": {
             "colorbar": {
              "outlinewidth": 0,
              "ticks": ""
             }
            },
            "type": "scatter3d"
           }
          ],
          "scattercarpet": [
           {
            "marker": {
             "colorbar": {
              "outlinewidth": 0,
              "ticks": ""
             }
            },
            "type": "scattercarpet"
           }
          ],
          "scattergeo": [
           {
            "marker": {
             "colorbar": {
              "outlinewidth": 0,
              "ticks": ""
             }
            },
            "type": "scattergeo"
           }
          ],
          "scattergl": [
           {
            "marker": {
             "colorbar": {
              "outlinewidth": 0,
              "ticks": ""
             }
            },
            "type": "scattergl"
           }
          ],
          "scattermapbox": [
           {
            "marker": {
             "colorbar": {
              "outlinewidth": 0,
              "ticks": ""
             }
            },
            "type": "scattermapbox"
           }
          ],
          "scatterpolar": [
           {
            "marker": {
             "colorbar": {
              "outlinewidth": 0,
              "ticks": ""
             }
            },
            "type": "scatterpolar"
           }
          ],
          "scatterpolargl": [
           {
            "marker": {
             "colorbar": {
              "outlinewidth": 0,
              "ticks": ""
             }
            },
            "type": "scatterpolargl"
           }
          ],
          "scatterternary": [
           {
            "marker": {
             "colorbar": {
              "outlinewidth": 0,
              "ticks": ""
             }
            },
            "type": "scatterternary"
           }
          ],
          "surface": [
           {
            "colorbar": {
             "outlinewidth": 0,
             "ticks": ""
            },
            "colorscale": [
             [
              0,
              "#0d0887"
             ],
             [
              0.1111111111111111,
              "#46039f"
             ],
             [
              0.2222222222222222,
              "#7201a8"
             ],
             [
              0.3333333333333333,
              "#9c179e"
             ],
             [
              0.4444444444444444,
              "#bd3786"
             ],
             [
              0.5555555555555556,
              "#d8576b"
             ],
             [
              0.6666666666666666,
              "#ed7953"
             ],
             [
              0.7777777777777778,
              "#fb9f3a"
             ],
             [
              0.8888888888888888,
              "#fdca26"
             ],
             [
              1,
              "#f0f921"
             ]
            ],
            "type": "surface"
           }
          ],
          "table": [
           {
            "cells": {
             "fill": {
              "color": "#EBF0F8"
             },
             "line": {
              "color": "white"
             }
            },
            "header": {
             "fill": {
              "color": "#C8D4E3"
             },
             "line": {
              "color": "white"
             }
            },
            "type": "table"
           }
          ]
         },
         "layout": {
          "annotationdefaults": {
           "arrowcolor": "#2a3f5f",
           "arrowhead": 0,
           "arrowwidth": 1
          },
          "autotypenumbers": "strict",
          "coloraxis": {
           "colorbar": {
            "outlinewidth": 0,
            "ticks": ""
           }
          },
          "colorscale": {
           "diverging": [
            [
             0,
             "#8e0152"
            ],
            [
             0.1,
             "#c51b7d"
            ],
            [
             0.2,
             "#de77ae"
            ],
            [
             0.3,
             "#f1b6da"
            ],
            [
             0.4,
             "#fde0ef"
            ],
            [
             0.5,
             "#f7f7f7"
            ],
            [
             0.6,
             "#e6f5d0"
            ],
            [
             0.7,
             "#b8e186"
            ],
            [
             0.8,
             "#7fbc41"
            ],
            [
             0.9,
             "#4d9221"
            ],
            [
             1,
             "#276419"
            ]
           ],
           "sequential": [
            [
             0,
             "#0d0887"
            ],
            [
             0.1111111111111111,
             "#46039f"
            ],
            [
             0.2222222222222222,
             "#7201a8"
            ],
            [
             0.3333333333333333,
             "#9c179e"
            ],
            [
             0.4444444444444444,
             "#bd3786"
            ],
            [
             0.5555555555555556,
             "#d8576b"
            ],
            [
             0.6666666666666666,
             "#ed7953"
            ],
            [
             0.7777777777777778,
             "#fb9f3a"
            ],
            [
             0.8888888888888888,
             "#fdca26"
            ],
            [
             1,
             "#f0f921"
            ]
           ],
           "sequentialminus": [
            [
             0,
             "#0d0887"
            ],
            [
             0.1111111111111111,
             "#46039f"
            ],
            [
             0.2222222222222222,
             "#7201a8"
            ],
            [
             0.3333333333333333,
             "#9c179e"
            ],
            [
             0.4444444444444444,
             "#bd3786"
            ],
            [
             0.5555555555555556,
             "#d8576b"
            ],
            [
             0.6666666666666666,
             "#ed7953"
            ],
            [
             0.7777777777777778,
             "#fb9f3a"
            ],
            [
             0.8888888888888888,
             "#fdca26"
            ],
            [
             1,
             "#f0f921"
            ]
           ]
          },
          "colorway": [
           "#636efa",
           "#EF553B",
           "#00cc96",
           "#ab63fa",
           "#FFA15A",
           "#19d3f3",
           "#FF6692",
           "#B6E880",
           "#FF97FF",
           "#FECB52"
          ],
          "font": {
           "color": "#2a3f5f"
          },
          "geo": {
           "bgcolor": "white",
           "lakecolor": "white",
           "landcolor": "white",
           "showlakes": true,
           "showland": true,
           "subunitcolor": "#C8D4E3"
          },
          "hoverlabel": {
           "align": "left"
          },
          "hovermode": "closest",
          "mapbox": {
           "style": "light"
          },
          "paper_bgcolor": "white",
          "plot_bgcolor": "white",
          "polar": {
           "angularaxis": {
            "gridcolor": "#EBF0F8",
            "linecolor": "#EBF0F8",
            "ticks": ""
           },
           "bgcolor": "white",
           "radialaxis": {
            "gridcolor": "#EBF0F8",
            "linecolor": "#EBF0F8",
            "ticks": ""
           }
          },
          "scene": {
           "xaxis": {
            "backgroundcolor": "white",
            "gridcolor": "#DFE8F3",
            "gridwidth": 2,
            "linecolor": "#EBF0F8",
            "showbackground": true,
            "ticks": "",
            "zerolinecolor": "#EBF0F8"
           },
           "yaxis": {
            "backgroundcolor": "white",
            "gridcolor": "#DFE8F3",
            "gridwidth": 2,
            "linecolor": "#EBF0F8",
            "showbackground": true,
            "ticks": "",
            "zerolinecolor": "#EBF0F8"
           },
           "zaxis": {
            "backgroundcolor": "white",
            "gridcolor": "#DFE8F3",
            "gridwidth": 2,
            "linecolor": "#EBF0F8",
            "showbackground": true,
            "ticks": "",
            "zerolinecolor": "#EBF0F8"
           }
          },
          "shapedefaults": {
           "line": {
            "color": "#2a3f5f"
           }
          },
          "ternary": {
           "aaxis": {
            "gridcolor": "#DFE8F3",
            "linecolor": "#A2B1C6",
            "ticks": ""
           },
           "baxis": {
            "gridcolor": "#DFE8F3",
            "linecolor": "#A2B1C6",
            "ticks": ""
           },
           "bgcolor": "white",
           "caxis": {
            "gridcolor": "#DFE8F3",
            "linecolor": "#A2B1C6",
            "ticks": ""
           }
          },
          "title": {
           "x": 0.05
          },
          "xaxis": {
           "automargin": true,
           "gridcolor": "#EBF0F8",
           "linecolor": "#EBF0F8",
           "ticks": "",
           "title": {
            "standoff": 15
           },
           "zerolinecolor": "#EBF0F8",
           "zerolinewidth": 2
          },
          "yaxis": {
           "automargin": true,
           "gridcolor": "#EBF0F8",
           "linecolor": "#EBF0F8",
           "ticks": "",
           "title": {
            "standoff": 15
           },
           "zerolinecolor": "#EBF0F8",
           "zerolinewidth": 2
          }
         }
        },
        "title": {
         "text": "Optimization History Plot"
        },
        "width": 1000,
        "xaxis": {
         "title": {
          "text": "Trial"
         }
        },
        "yaxis": {
         "title": {
          "text": "Objective Value"
         }
        }
       }
      }
     },
     "metadata": {},
     "output_type": "display_data"
    },
    {
     "data": {
      "application/vnd.plotly.v1+json": {
       "config": {
        "plotlyServerURL": "https://plot.ly"
       },
       "data": [
        {
         "marker": {
          "color": [
           0,
           1,
           2,
           3,
           4,
           5,
           6,
           7,
           8,
           9
          ],
          "colorbar": {
           "title": {
            "text": "Trial"
           },
           "x": 1,
           "xpad": 40
          },
          "colorscale": [
           [
            0,
            "rgb(247,251,255)"
           ],
           [
            0.125,
            "rgb(222,235,247)"
           ],
           [
            0.25,
            "rgb(198,219,239)"
           ],
           [
            0.375,
            "rgb(158,202,225)"
           ],
           [
            0.5,
            "rgb(107,174,214)"
           ],
           [
            0.625,
            "rgb(66,146,198)"
           ],
           [
            0.75,
            "rgb(33,113,181)"
           ],
           [
            0.875,
            "rgb(8,81,156)"
           ],
           [
            1,
            "rgb(8,48,107)"
           ]
          ],
          "line": {
           "color": "Grey",
           "width": 0.5
          },
          "showscale": true
         },
         "mode": "markers",
         "showlegend": false,
         "type": "scatter",
         "x": [
          "DecisionTree",
          "LogisticRegression",
          "DecisionTree",
          "LogisticRegression",
          "DecisionTree",
          "LogisticRegression",
          "DecisionTree",
          "RandomForest",
          "DecisionTree",
          "DecisionTree"
         ],
         "xaxis": "x",
         "y": [
          0.485,
          0.472,
          0.485,
          0.471,
          0.49,
          0.475,
          0.485,
          0.607,
          0.497,
          0.551
         ],
         "yaxis": "y"
        },
        {
         "marker": {
          "color": [
           0,
           2,
           4,
           6,
           8,
           9
          ],
          "colorbar": {
           "title": {
            "text": "Trial"
           },
           "x": 1,
           "xpad": 40
          },
          "colorscale": [
           [
            0,
            "rgb(247,251,255)"
           ],
           [
            0.125,
            "rgb(222,235,247)"
           ],
           [
            0.25,
            "rgb(198,219,239)"
           ],
           [
            0.375,
            "rgb(158,202,225)"
           ],
           [
            0.5,
            "rgb(107,174,214)"
           ],
           [
            0.625,
            "rgb(66,146,198)"
           ],
           [
            0.75,
            "rgb(33,113,181)"
           ],
           [
            0.875,
            "rgb(8,81,156)"
           ],
           [
            1,
            "rgb(8,48,107)"
           ]
          ],
          "line": {
           "color": "Grey",
           "width": 0.5
          },
          "showscale": false
         },
         "mode": "markers",
         "showlegend": false,
         "type": "scatter",
         "x": [
          30,
          49,
          15,
          26,
          16,
          7
         ],
         "xaxis": "x2",
         "y": [
          0.485,
          0.485,
          0.49,
          0.485,
          0.497,
          0.551
         ],
         "yaxis": "y2"
        },
        {
         "marker": {
          "color": [
           1,
           3,
           5
          ],
          "colorbar": {
           "title": {
            "text": "Trial"
           },
           "x": 1,
           "xpad": 40
          },
          "colorscale": [
           [
            0,
            "rgb(247,251,255)"
           ],
           [
            0.125,
            "rgb(222,235,247)"
           ],
           [
            0.25,
            "rgb(198,219,239)"
           ],
           [
            0.375,
            "rgb(158,202,225)"
           ],
           [
            0.5,
            "rgb(107,174,214)"
           ],
           [
            0.625,
            "rgb(66,146,198)"
           ],
           [
            0.75,
            "rgb(33,113,181)"
           ],
           [
            0.875,
            "rgb(8,81,156)"
           ],
           [
            1,
            "rgb(8,48,107)"
           ]
          ],
          "line": {
           "color": "Grey",
           "width": 0.5
          },
          "showscale": false
         },
         "mode": "markers",
         "showlegend": false,
         "type": "scatter",
         "x": [
          24780.71022662143,
          0.00015880132371526778,
          0.02490818711274116
         ],
         "xaxis": "x3",
         "y": [
          0.472,
          0.471,
          0.475
         ],
         "yaxis": "y3"
        },
        {
         "marker": {
          "color": [
           7
          ],
          "colorbar": {
           "title": {
            "text": "Trial"
           },
           "x": 1,
           "xpad": 40
          },
          "colorscale": [
           [
            0,
            "rgb(247,251,255)"
           ],
           [
            0.125,
            "rgb(222,235,247)"
           ],
           [
            0.25,
            "rgb(198,219,239)"
           ],
           [
            0.375,
            "rgb(158,202,225)"
           ],
           [
            0.5,
            "rgb(107,174,214)"
           ],
           [
            0.625,
            "rgb(66,146,198)"
           ],
           [
            0.75,
            "rgb(33,113,181)"
           ],
           [
            0.875,
            "rgb(8,81,156)"
           ],
           [
            1,
            "rgb(8,48,107)"
           ]
          ],
          "line": {
           "color": "Grey",
           "width": 0.5
          },
          "showscale": false
         },
         "mode": "markers",
         "showlegend": false,
         "type": "scatter",
         "x": [
          18
         ],
         "xaxis": "x4",
         "y": [
          0.607
         ],
         "yaxis": "y4"
        },
        {
         "marker": {
          "color": [
           7
          ],
          "colorbar": {
           "title": {
            "text": "Trial"
           },
           "x": 1,
           "xpad": 40
          },
          "colorscale": [
           [
            0,
            "rgb(247,251,255)"
           ],
           [
            0.125,
            "rgb(222,235,247)"
           ],
           [
            0.25,
            "rgb(198,219,239)"
           ],
           [
            0.375,
            "rgb(158,202,225)"
           ],
           [
            0.5,
            "rgb(107,174,214)"
           ],
           [
            0.625,
            "rgb(66,146,198)"
           ],
           [
            0.75,
            "rgb(33,113,181)"
           ],
           [
            0.875,
            "rgb(8,81,156)"
           ],
           [
            1,
            "rgb(8,48,107)"
           ]
          ],
          "line": {
           "color": "Grey",
           "width": 0.5
          },
          "showscale": false
         },
         "mode": "markers",
         "showlegend": false,
         "type": "scatter",
         "x": [
          158
         ],
         "xaxis": "x5",
         "y": [
          0.607
         ],
         "yaxis": "y5"
        }
       ],
       "layout": {
        "height": 500,
        "template": {
         "data": {
          "bar": [
           {
            "error_x": {
             "color": "#2a3f5f"
            },
            "error_y": {
             "color": "#2a3f5f"
            },
            "marker": {
             "line": {
              "color": "white",
              "width": 0.5
             },
             "pattern": {
              "fillmode": "overlay",
              "size": 10,
              "solidity": 0.2
             }
            },
            "type": "bar"
           }
          ],
          "barpolar": [
           {
            "marker": {
             "line": {
              "color": "white",
              "width": 0.5
             },
             "pattern": {
              "fillmode": "overlay",
              "size": 10,
              "solidity": 0.2
             }
            },
            "type": "barpolar"
           }
          ],
          "carpet": [
           {
            "aaxis": {
             "endlinecolor": "#2a3f5f",
             "gridcolor": "#C8D4E3",
             "linecolor": "#C8D4E3",
             "minorgridcolor": "#C8D4E3",
             "startlinecolor": "#2a3f5f"
            },
            "baxis": {
             "endlinecolor": "#2a3f5f",
             "gridcolor": "#C8D4E3",
             "linecolor": "#C8D4E3",
             "minorgridcolor": "#C8D4E3",
             "startlinecolor": "#2a3f5f"
            },
            "type": "carpet"
           }
          ],
          "choropleth": [
           {
            "colorbar": {
             "outlinewidth": 0,
             "ticks": ""
            },
            "type": "choropleth"
           }
          ],
          "contour": [
           {
            "colorbar": {
             "outlinewidth": 0,
             "ticks": ""
            },
            "colorscale": [
             [
              0,
              "#0d0887"
             ],
             [
              0.1111111111111111,
              "#46039f"
             ],
             [
              0.2222222222222222,
              "#7201a8"
             ],
             [
              0.3333333333333333,
              "#9c179e"
             ],
             [
              0.4444444444444444,
              "#bd3786"
             ],
             [
              0.5555555555555556,
              "#d8576b"
             ],
             [
              0.6666666666666666,
              "#ed7953"
             ],
             [
              0.7777777777777778,
              "#fb9f3a"
             ],
             [
              0.8888888888888888,
              "#fdca26"
             ],
             [
              1,
              "#f0f921"
             ]
            ],
            "type": "contour"
           }
          ],
          "contourcarpet": [
           {
            "colorbar": {
             "outlinewidth": 0,
             "ticks": ""
            },
            "type": "contourcarpet"
           }
          ],
          "heatmap": [
           {
            "colorbar": {
             "outlinewidth": 0,
             "ticks": ""
            },
            "colorscale": [
             [
              0,
              "#0d0887"
             ],
             [
              0.1111111111111111,
              "#46039f"
             ],
             [
              0.2222222222222222,
              "#7201a8"
             ],
             [
              0.3333333333333333,
              "#9c179e"
             ],
             [
              0.4444444444444444,
              "#bd3786"
             ],
             [
              0.5555555555555556,
              "#d8576b"
             ],
             [
              0.6666666666666666,
              "#ed7953"
             ],
             [
              0.7777777777777778,
              "#fb9f3a"
             ],
             [
              0.8888888888888888,
              "#fdca26"
             ],
             [
              1,
              "#f0f921"
             ]
            ],
            "type": "heatmap"
           }
          ],
          "heatmapgl": [
           {
            "colorbar": {
             "outlinewidth": 0,
             "ticks": ""
            },
            "colorscale": [
             [
              0,
              "#0d0887"
             ],
             [
              0.1111111111111111,
              "#46039f"
             ],
             [
              0.2222222222222222,
              "#7201a8"
             ],
             [
              0.3333333333333333,
              "#9c179e"
             ],
             [
              0.4444444444444444,
              "#bd3786"
             ],
             [
              0.5555555555555556,
              "#d8576b"
             ],
             [
              0.6666666666666666,
              "#ed7953"
             ],
             [
              0.7777777777777778,
              "#fb9f3a"
             ],
             [
              0.8888888888888888,
              "#fdca26"
             ],
             [
              1,
              "#f0f921"
             ]
            ],
            "type": "heatmapgl"
           }
          ],
          "histogram": [
           {
            "marker": {
             "pattern": {
              "fillmode": "overlay",
              "size": 10,
              "solidity": 0.2
             }
            },
            "type": "histogram"
           }
          ],
          "histogram2d": [
           {
            "colorbar": {
             "outlinewidth": 0,
             "ticks": ""
            },
            "colorscale": [
             [
              0,
              "#0d0887"
             ],
             [
              0.1111111111111111,
              "#46039f"
             ],
             [
              0.2222222222222222,
              "#7201a8"
             ],
             [
              0.3333333333333333,
              "#9c179e"
             ],
             [
              0.4444444444444444,
              "#bd3786"
             ],
             [
              0.5555555555555556,
              "#d8576b"
             ],
             [
              0.6666666666666666,
              "#ed7953"
             ],
             [
              0.7777777777777778,
              "#fb9f3a"
             ],
             [
              0.8888888888888888,
              "#fdca26"
             ],
             [
              1,
              "#f0f921"
             ]
            ],
            "type": "histogram2d"
           }
          ],
          "histogram2dcontour": [
           {
            "colorbar": {
             "outlinewidth": 0,
             "ticks": ""
            },
            "colorscale": [
             [
              0,
              "#0d0887"
             ],
             [
              0.1111111111111111,
              "#46039f"
             ],
             [
              0.2222222222222222,
              "#7201a8"
             ],
             [
              0.3333333333333333,
              "#9c179e"
             ],
             [
              0.4444444444444444,
              "#bd3786"
             ],
             [
              0.5555555555555556,
              "#d8576b"
             ],
             [
              0.6666666666666666,
              "#ed7953"
             ],
             [
              0.7777777777777778,
              "#fb9f3a"
             ],
             [
              0.8888888888888888,
              "#fdca26"
             ],
             [
              1,
              "#f0f921"
             ]
            ],
            "type": "histogram2dcontour"
           }
          ],
          "mesh3d": [
           {
            "colorbar": {
             "outlinewidth": 0,
             "ticks": ""
            },
            "type": "mesh3d"
           }
          ],
          "parcoords": [
           {
            "line": {
             "colorbar": {
              "outlinewidth": 0,
              "ticks": ""
             }
            },
            "type": "parcoords"
           }
          ],
          "pie": [
           {
            "automargin": true,
            "type": "pie"
           }
          ],
          "scatter": [
           {
            "fillpattern": {
             "fillmode": "overlay",
             "size": 10,
             "solidity": 0.2
            },
            "type": "scatter"
           }
          ],
          "scatter3d": [
           {
            "line": {
             "colorbar": {
              "outlinewidth": 0,
              "ticks": ""
             }
            },
            "marker": {
             "colorbar": {
              "outlinewidth": 0,
              "ticks": ""
             }
            },
            "type": "scatter3d"
           }
          ],
          "scattercarpet": [
           {
            "marker": {
             "colorbar": {
              "outlinewidth": 0,
              "ticks": ""
             }
            },
            "type": "scattercarpet"
           }
          ],
          "scattergeo": [
           {
            "marker": {
             "colorbar": {
              "outlinewidth": 0,
              "ticks": ""
             }
            },
            "type": "scattergeo"
           }
          ],
          "scattergl": [
           {
            "marker": {
             "colorbar": {
              "outlinewidth": 0,
              "ticks": ""
             }
            },
            "type": "scattergl"
           }
          ],
          "scattermapbox": [
           {
            "marker": {
             "colorbar": {
              "outlinewidth": 0,
              "ticks": ""
             }
            },
            "type": "scattermapbox"
           }
          ],
          "scatterpolar": [
           {
            "marker": {
             "colorbar": {
              "outlinewidth": 0,
              "ticks": ""
             }
            },
            "type": "scatterpolar"
           }
          ],
          "scatterpolargl": [
           {
            "marker": {
             "colorbar": {
              "outlinewidth": 0,
              "ticks": ""
             }
            },
            "type": "scatterpolargl"
           }
          ],
          "scatterternary": [
           {
            "marker": {
             "colorbar": {
              "outlinewidth": 0,
              "ticks": ""
             }
            },
            "type": "scatterternary"
           }
          ],
          "surface": [
           {
            "colorbar": {
             "outlinewidth": 0,
             "ticks": ""
            },
            "colorscale": [
             [
              0,
              "#0d0887"
             ],
             [
              0.1111111111111111,
              "#46039f"
             ],
             [
              0.2222222222222222,
              "#7201a8"
             ],
             [
              0.3333333333333333,
              "#9c179e"
             ],
             [
              0.4444444444444444,
              "#bd3786"
             ],
             [
              0.5555555555555556,
              "#d8576b"
             ],
             [
              0.6666666666666666,
              "#ed7953"
             ],
             [
              0.7777777777777778,
              "#fb9f3a"
             ],
             [
              0.8888888888888888,
              "#fdca26"
             ],
             [
              1,
              "#f0f921"
             ]
            ],
            "type": "surface"
           }
          ],
          "table": [
           {
            "cells": {
             "fill": {
              "color": "#EBF0F8"
             },
             "line": {
              "color": "white"
             }
            },
            "header": {
             "fill": {
              "color": "#C8D4E3"
             },
             "line": {
              "color": "white"
             }
            },
            "type": "table"
           }
          ]
         },
         "layout": {
          "annotationdefaults": {
           "arrowcolor": "#2a3f5f",
           "arrowhead": 0,
           "arrowwidth": 1
          },
          "autotypenumbers": "strict",
          "coloraxis": {
           "colorbar": {
            "outlinewidth": 0,
            "ticks": ""
           }
          },
          "colorscale": {
           "diverging": [
            [
             0,
             "#8e0152"
            ],
            [
             0.1,
             "#c51b7d"
            ],
            [
             0.2,
             "#de77ae"
            ],
            [
             0.3,
             "#f1b6da"
            ],
            [
             0.4,
             "#fde0ef"
            ],
            [
             0.5,
             "#f7f7f7"
            ],
            [
             0.6,
             "#e6f5d0"
            ],
            [
             0.7,
             "#b8e186"
            ],
            [
             0.8,
             "#7fbc41"
            ],
            [
             0.9,
             "#4d9221"
            ],
            [
             1,
             "#276419"
            ]
           ],
           "sequential": [
            [
             0,
             "#0d0887"
            ],
            [
             0.1111111111111111,
             "#46039f"
            ],
            [
             0.2222222222222222,
             "#7201a8"
            ],
            [
             0.3333333333333333,
             "#9c179e"
            ],
            [
             0.4444444444444444,
             "#bd3786"
            ],
            [
             0.5555555555555556,
             "#d8576b"
            ],
            [
             0.6666666666666666,
             "#ed7953"
            ],
            [
             0.7777777777777778,
             "#fb9f3a"
            ],
            [
             0.8888888888888888,
             "#fdca26"
            ],
            [
             1,
             "#f0f921"
            ]
           ],
           "sequentialminus": [
            [
             0,
             "#0d0887"
            ],
            [
             0.1111111111111111,
             "#46039f"
            ],
            [
             0.2222222222222222,
             "#7201a8"
            ],
            [
             0.3333333333333333,
             "#9c179e"
            ],
            [
             0.4444444444444444,
             "#bd3786"
            ],
            [
             0.5555555555555556,
             "#d8576b"
            ],
            [
             0.6666666666666666,
             "#ed7953"
            ],
            [
             0.7777777777777778,
             "#fb9f3a"
            ],
            [
             0.8888888888888888,
             "#fdca26"
            ],
            [
             1,
             "#f0f921"
            ]
           ]
          },
          "colorway": [
           "#636efa",
           "#EF553B",
           "#00cc96",
           "#ab63fa",
           "#FFA15A",
           "#19d3f3",
           "#FF6692",
           "#B6E880",
           "#FF97FF",
           "#FECB52"
          ],
          "font": {
           "color": "#2a3f5f"
          },
          "geo": {
           "bgcolor": "white",
           "lakecolor": "white",
           "landcolor": "white",
           "showlakes": true,
           "showland": true,
           "subunitcolor": "#C8D4E3"
          },
          "hoverlabel": {
           "align": "left"
          },
          "hovermode": "closest",
          "mapbox": {
           "style": "light"
          },
          "paper_bgcolor": "white",
          "plot_bgcolor": "white",
          "polar": {
           "angularaxis": {
            "gridcolor": "#EBF0F8",
            "linecolor": "#EBF0F8",
            "ticks": ""
           },
           "bgcolor": "white",
           "radialaxis": {
            "gridcolor": "#EBF0F8",
            "linecolor": "#EBF0F8",
            "ticks": ""
           }
          },
          "scene": {
           "xaxis": {
            "backgroundcolor": "white",
            "gridcolor": "#DFE8F3",
            "gridwidth": 2,
            "linecolor": "#EBF0F8",
            "showbackground": true,
            "ticks": "",
            "zerolinecolor": "#EBF0F8"
           },
           "yaxis": {
            "backgroundcolor": "white",
            "gridcolor": "#DFE8F3",
            "gridwidth": 2,
            "linecolor": "#EBF0F8",
            "showbackground": true,
            "ticks": "",
            "zerolinecolor": "#EBF0F8"
           },
           "zaxis": {
            "backgroundcolor": "white",
            "gridcolor": "#DFE8F3",
            "gridwidth": 2,
            "linecolor": "#EBF0F8",
            "showbackground": true,
            "ticks": "",
            "zerolinecolor": "#EBF0F8"
           }
          },
          "shapedefaults": {
           "line": {
            "color": "#2a3f5f"
           }
          },
          "ternary": {
           "aaxis": {
            "gridcolor": "#DFE8F3",
            "linecolor": "#A2B1C6",
            "ticks": ""
           },
           "baxis": {
            "gridcolor": "#DFE8F3",
            "linecolor": "#A2B1C6",
            "ticks": ""
           },
           "bgcolor": "white",
           "caxis": {
            "gridcolor": "#DFE8F3",
            "linecolor": "#A2B1C6",
            "ticks": ""
           }
          },
          "title": {
           "x": 0.05
          },
          "xaxis": {
           "automargin": true,
           "gridcolor": "#EBF0F8",
           "linecolor": "#EBF0F8",
           "ticks": "",
           "title": {
            "standoff": 15
           },
           "zerolinecolor": "#EBF0F8",
           "zerolinewidth": 2
          },
          "yaxis": {
           "automargin": true,
           "gridcolor": "#EBF0F8",
           "linecolor": "#EBF0F8",
           "ticks": "",
           "title": {
            "standoff": 15
           },
           "zerolinecolor": "#EBF0F8",
           "zerolinewidth": 2
          }
         }
        },
        "title": {
         "text": "Slice Plot"
        },
        "width": 1000,
        "xaxis": {
         "anchor": "y",
         "domain": [
          0,
          0.16799999999999998
         ],
         "tickangle": -90,
         "title": {
          "text": "classifier"
         }
        },
        "xaxis2": {
         "anchor": "y2",
         "domain": [
          0.208,
          0.376
         ],
         "tickangle": -90,
         "title": {
          "text": "dt_max_depth"
         }
        },
        "xaxis3": {
         "anchor": "y3",
         "domain": [
          0.416,
          0.584
         ],
         "tickangle": -90,
         "title": {
          "text": "lr_c"
         },
         "type": "log"
        },
        "xaxis4": {
         "anchor": "y4",
         "domain": [
          0.624,
          0.792
         ],
         "tickangle": -90,
         "title": {
          "text": "rf_max_depth"
         }
        },
        "xaxis5": {
         "anchor": "y5",
         "domain": [
          0.832,
          1
         ],
         "tickangle": -90,
         "title": {
          "text": "rf_n_estimators"
         }
        },
        "yaxis": {
         "anchor": "x",
         "domain": [
          0,
          1
         ],
         "title": {
          "text": "Objective Value"
         }
        },
        "yaxis2": {
         "anchor": "x2",
         "domain": [
          0,
          1
         ],
         "matches": "y",
         "showticklabels": false
        },
        "yaxis3": {
         "anchor": "x3",
         "domain": [
          0,
          1
         ],
         "matches": "y",
         "showticklabels": false
        },
        "yaxis4": {
         "anchor": "x4",
         "domain": [
          0,
          1
         ],
         "matches": "y",
         "showticklabels": false
        },
        "yaxis5": {
         "anchor": "x5",
         "domain": [
          0,
          1
         ],
         "matches": "y",
         "showticklabels": false
        }
       }
      }
     },
     "metadata": {},
     "output_type": "display_data"
    },
    {
     "data": {
      "application/vnd.plotly.v1+json": {
       "config": {
        "plotlyServerURL": "https://plot.ly"
       },
       "data": [
        {
         "mode": "lines",
         "name": "ROC (AUC = 0.86)",
         "type": "scatter",
         "x": [
          0,
          0,
          0,
          0.0008368200836820083,
          0.0008368200836820083,
          0.0008368200836820083,
          0.0008368200836820083,
          0.0016736401673640166,
          0.0016736401673640166,
          0.002510460251046025,
          0.002510460251046025,
          0.002510460251046025,
          0.002510460251046025,
          0.0033472803347280333,
          0.0033472803347280333,
          0.0033472803347280333,
          0.0033472803347280333,
          0.0033472803347280333,
          0.0041841004184100415,
          0.0041841004184100415,
          0.0041841004184100415,
          0.00502092050209205,
          0.00502092050209205,
          0.005857740585774059,
          0.005857740585774059,
          0.005857740585774059,
          0.0066945606694560665,
          0.0066945606694560665,
          0.007531380753138075,
          0.007531380753138075,
          0.008368200836820083,
          0.008368200836820083,
          0.009205020920502092,
          0.009205020920502092,
          0.0100418410041841,
          0.0100418410041841,
          0.0100418410041841,
          0.0100418410041841,
          0.0100418410041841,
          0.0100418410041841,
          0.010878661087866108,
          0.010878661087866108,
          0.011715481171548118,
          0.011715481171548118,
          0.012552301255230125,
          0.012552301255230125,
          0.013389121338912133,
          0.014225941422594143,
          0.014225941422594143,
          0.015899581589958158,
          0.015899581589958158,
          0.016736401673640166,
          0.016736401673640166,
          0.017573221757322177,
          0.017573221757322177,
          0.018410041841004185,
          0.018410041841004185,
          0.019246861924686193,
          0.019246861924686193,
          0.0200836820083682,
          0.0200836820083682,
          0.022594142259414227,
          0.022594142259414227,
          0.023430962343096235,
          0.023430962343096235,
          0.024267782426778243,
          0.024267782426778243,
          0.02510460251046025,
          0.02510460251046025,
          0.027615062761506277,
          0.028451882845188285,
          0.028451882845188285,
          0.03096234309623431,
          0.03096234309623431,
          0.032635983263598324,
          0.032635983263598324,
          0.03347280334728033,
          0.03347280334728033,
          0.03430962343096234,
          0.03430962343096234,
          0.03598326359832636,
          0.03598326359832636,
          0.03682008368200837,
          0.03682008368200837,
          0.03933054393305439,
          0.03933054393305439,
          0.04184100418410042,
          0.04184100418410042,
          0.042677824267782424,
          0.042677824267782424,
          0.04435146443514645,
          0.04435146443514645,
          0.04686192468619247,
          0.04686192468619247,
          0.0502092050209205,
          0.0502092050209205,
          0.05104602510460251,
          0.05104602510460251,
          0.05188284518828452,
          0.05188284518828452,
          0.052719665271966525,
          0.05355648535564853,
          0.05355648535564853,
          0.055230125523012555,
          0.055230125523012555,
          0.05606694560669456,
          0.05606694560669456,
          0.05690376569037657,
          0.05690376569037657,
          0.05774058577405858,
          0.05774058577405858,
          0.0602510460251046,
          0.0602510460251046,
          0.06192468619246862,
          0.06192468619246862,
          0.06276150627615062,
          0.06276150627615062,
          0.06359832635983263,
          0.06359832635983263,
          0.07029288702928871,
          0.07029288702928871,
          0.07364016736401674,
          0.07364016736401674,
          0.07447698744769875,
          0.07447698744769875,
          0.07866108786610879,
          0.07866108786610879,
          0.0803347280334728,
          0.0803347280334728,
          0.08117154811715481,
          0.08117154811715481,
          0.08451882845188284,
          0.08451882845188284,
          0.0895397489539749,
          0.09037656903765691,
          0.09539748953974896,
          0.09539748953974896,
          0.09623430962343096,
          0.09623430962343096,
          0.09874476987447699,
          0.09874476987447699,
          0.10125523012552301,
          0.10125523012552301,
          0.10460251046025104,
          0.10460251046025104,
          0.10627615062761506,
          0.10627615062761506,
          0.10711297071129706,
          0.10711297071129706,
          0.11548117154811716,
          0.11548117154811716,
          0.11715481171548117,
          0.11715481171548117,
          0.11799163179916318,
          0.11799163179916318,
          0.11882845188284519,
          0.11882845188284519,
          0.1205020920502092,
          0.1205020920502092,
          0.12217573221757322,
          0.12217573221757322,
          0.12301255230125523,
          0.12301255230125523,
          0.12635983263598327,
          0.12635983263598327,
          0.12719665271966527,
          0.12719665271966527,
          0.13138075313807532,
          0.13138075313807532,
          0.14225941422594143,
          0.14225941422594143,
          0.14560669456066946,
          0.14560669456066946,
          0.1489539748953975,
          0.1489539748953975,
          0.15313807531380752,
          0.15313807531380752,
          0.15481171548117154,
          0.15481171548117154,
          0.1581589958158996,
          0.1581589958158996,
          0.1598326359832636,
          0.1598326359832636,
          0.16317991631799164,
          0.16485355648535566,
          0.16485355648535566,
          0.16736401673640167,
          0.16736401673640167,
          0.16903765690376568,
          0.16903765690376568,
          0.1698744769874477,
          0.17154811715481172,
          0.17573221757322174,
          0.17573221757322174,
          0.1799163179916318,
          0.1799163179916318,
          0.18242677824267783,
          0.18242677824267783,
          0.1899581589958159,
          0.1899581589958159,
          0.198326359832636,
          0.198326359832636,
          0.2,
          0.2,
          0.20418410041841004,
          0.20418410041841004,
          0.21422594142259413,
          0.21422594142259413,
          0.21589958158995817,
          0.2200836820083682,
          0.2292887029288703,
          0.2301255230125523,
          0.23263598326359833,
          0.23263598326359833,
          0.2384937238493724,
          0.2401673640167364,
          0.25271966527196654,
          0.25271966527196654,
          0.25439330543933053,
          0.2569037656903766,
          0.2585774058577406,
          0.2594142259414226,
          0.2619246861924686,
          0.2619246861924686,
          0.26276150627615064,
          0.26276150627615064,
          0.26359832635983266,
          0.26359832635983266,
          0.2702928870292887,
          0.2702928870292887,
          0.2711297071129707,
          0.27364016736401675,
          0.2769874476987448,
          0.2769874476987448,
          0.28368200836820084,
          0.28368200836820084,
          0.2870292887029289,
          0.2870292887029289,
          0.29456066945606696,
          0.29456066945606696,
          0.299581589958159,
          0.299581589958159,
          0.30460251046025105,
          0.30460251046025105,
          0.3087866108786611,
          0.3129707112970711,
          0.32719665271966525,
          0.3288702928870293,
          0.3322175732217573,
          0.3322175732217573,
          0.33556485355648535,
          0.33556485355648535,
          0.34058577405857743,
          0.34058577405857743,
          0.3489539748953975,
          0.3514644351464435,
          0.3573221757322176,
          0.3573221757322176,
          0.35899581589958157,
          0.36401673640167365,
          0.36652719665271966,
          0.36652719665271966,
          0.3799163179916318,
          0.3799163179916318,
          0.3815899581589958,
          0.3815899581589958,
          0.38661087866108784,
          0.3891213389121339,
          0.3907949790794979,
          0.3907949790794979,
          0.399163179916318,
          0.400836820083682,
          0.40334728033472805,
          0.40334728033472805,
          0.40418410041841,
          0.40418410041841,
          0.41589958158995816,
          0.4200836820083682,
          0.42092050209205023,
          0.42092050209205023,
          0.42677824267782427,
          0.43598326359832634,
          0.4384937238493724,
          0.44937238493723847,
          0.44937238493723847,
          0.4535564853556485,
          0.45439330543933054,
          0.45439330543933054,
          0.45690376569037655,
          0.45690376569037655,
          0.4577405857740586,
          0.4577405857740586,
          0.46443514644351463,
          0.46778242677824267,
          0.47447698744769873,
          0.47447698744769873,
          0.47782426778242676,
          0.47782426778242676,
          0.4820083682008368,
          0.4903765690376569,
          0.4903765690376569,
          0.497071129707113,
          0.497071129707113,
          0.502928870292887,
          0.5062761506276151,
          0.5179916317991632,
          0.5179916317991632,
          0.5196652719665272,
          0.5246861924686193,
          0.5280334728033472,
          0.5280334728033472,
          0.5338912133891214,
          0.5338912133891214,
          0.5389121338912134,
          0.5472803347280335,
          0.5472803347280335,
          0.5506276150627615,
          0.5506276150627615,
          0.5514644351464435,
          0.5531380753138075,
          0.5623430962343097,
          0.5623430962343097,
          0.5656903765690376,
          0.5748953974895398,
          0.5748953974895398,
          0.5857740585774058,
          0.5874476987447699,
          0.5899581589958159,
          0.5899581589958159,
          0.5933054393305439,
          0.601673640167364,
          0.606694560669456,
          0.6083682008368201,
          0.6150627615062761,
          0.6150627615062761,
          0.6175732217573222,
          0.6259414225941422,
          0.6301255230125523,
          0.6301255230125523,
          0.6468619246861924,
          0.6485355648535565,
          0.6510460251046025,
          0.6577405857740586,
          0.6627615062761506,
          0.6627615062761506,
          0.6728033472803348,
          0.6828451882845188,
          0.6928870292887029,
          0.694560669456067,
          0.704602510460251,
          0.704602510460251,
          0.705439330543933,
          0.7104602510460251,
          0.7271966527196653,
          0.7397489539748954,
          0.7489539748953975,
          0.7489539748953975,
          0.7589958158995815,
          0.7682008368200837,
          0.7874476987447698,
          0.798326359832636,
          0.800836820083682,
          0.802510460251046,
          0.8242677824267782,
          0.8359832635983263,
          0.8376569037656904,
          0.8376569037656904,
          0.8418410041841005,
          0.8418410041841005,
          0.8460251046025105,
          0.8460251046025105,
          0.8518828451882845,
          0.8552301255230126,
          0.8644351464435146,
          0.8669456066945607,
          0.8686192468619247,
          0.8845188284518829,
          0.897071129707113,
          0.902092050209205,
          0.9037656903765691,
          0.9188284518828452,
          0.9221757322175732,
          0.9230125523012552,
          0.9313807531380753,
          0.9456066945606695,
          0.9456066945606695,
          0.9464435146443515,
          0.9481171548117154,
          0.9539748953974896,
          0.9556485355648535,
          0.9581589958158996,
          0.9598326359832636,
          0.9732217573221758,
          0.9740585774058578,
          0.9757322175732217,
          0.9824267782426779,
          0.9841004184100418,
          0.9849372384937238,
          0.9866108786610879,
          1
         ],
         "y": [
          0,
          0.003278688524590164,
          0.013114754098360656,
          0.013114754098360656,
          0.03278688524590164,
          0.03934426229508197,
          0.09180327868852459,
          0.09180327868852459,
          0.12459016393442623,
          0.12459016393442623,
          0.14426229508196722,
          0.1540983606557377,
          0.16393442622950818,
          0.16393442622950818,
          0.16721311475409836,
          0.1737704918032787,
          0.18360655737704917,
          0.1901639344262295,
          0.1901639344262295,
          0.19672131147540983,
          0.20655737704918034,
          0.20655737704918034,
          0.2262295081967213,
          0.2262295081967213,
          0.22950819672131148,
          0.24262295081967214,
          0.24262295081967214,
          0.25573770491803277,
          0.25573770491803277,
          0.26557377049180325,
          0.26557377049180325,
          0.2721311475409836,
          0.2754098360655738,
          0.2819672131147541,
          0.2819672131147541,
          0.29180327868852457,
          0.2983606557377049,
          0.3081967213114754,
          0.31475409836065577,
          0.33114754098360655,
          0.33114754098360655,
          0.3540983606557377,
          0.3540983606557377,
          0.35737704918032787,
          0.35737704918032787,
          0.36065573770491804,
          0.36065573770491804,
          0.3704918032786885,
          0.3737704918032787,
          0.3737704918032787,
          0.3901639344262295,
          0.3901639344262295,
          0.39344262295081966,
          0.39344262295081966,
          0.39672131147540984,
          0.39672131147540984,
          0.4,
          0.4,
          0.4065573770491803,
          0.4065573770491803,
          0.4131147540983607,
          0.4131147540983607,
          0.4163934426229508,
          0.4163934426229508,
          0.42950819672131146,
          0.42950819672131146,
          0.4360655737704918,
          0.4360655737704918,
          0.43934426229508194,
          0.43934426229508194,
          0.4426229508196721,
          0.4459016393442623,
          0.4459016393442623,
          0.4524590163934426,
          0.4524590163934426,
          0.4557377049180328,
          0.4557377049180328,
          0.4721311475409836,
          0.4721311475409836,
          0.4786885245901639,
          0.4786885245901639,
          0.4819672131147541,
          0.4819672131147541,
          0.4852459016393443,
          0.4852459016393443,
          0.4885245901639344,
          0.4885245901639344,
          0.49508196721311476,
          0.49508196721311476,
          0.5016393442622951,
          0.5016393442622951,
          0.5049180327868853,
          0.5049180327868853,
          0.5081967213114754,
          0.5081967213114754,
          0.5147540983606558,
          0.5147540983606558,
          0.5180327868852459,
          0.5180327868852459,
          0.5245901639344263,
          0.5245901639344263,
          0.5311475409836065,
          0.5344262295081967,
          0.5344262295081967,
          0.5377049180327869,
          0.5377049180327869,
          0.5409836065573771,
          0.5409836065573771,
          0.5475409836065573,
          0.5475409836065573,
          0.5540983606557377,
          0.5540983606557377,
          0.5573770491803278,
          0.5573770491803278,
          0.5639344262295082,
          0.5639344262295082,
          0.5672131147540984,
          0.5672131147540984,
          0.5704918032786885,
          0.5704918032786885,
          0.5737704918032787,
          0.5737704918032787,
          0.580327868852459,
          0.580327868852459,
          0.5836065573770491,
          0.5836065573770491,
          0.5901639344262295,
          0.5901639344262295,
          0.5934426229508196,
          0.5934426229508196,
          0.6,
          0.6,
          0.6032786885245902,
          0.6032786885245902,
          0.6065573770491803,
          0.6065573770491803,
          0.6098360655737705,
          0.6098360655737705,
          0.6131147540983607,
          0.6131147540983607,
          0.6196721311475409,
          0.6196721311475409,
          0.6262295081967213,
          0.6262295081967213,
          0.6360655737704918,
          0.6360655737704918,
          0.6426229508196721,
          0.6426229508196721,
          0.6459016393442623,
          0.6459016393442623,
          0.6491803278688525,
          0.6491803278688525,
          0.6524590163934426,
          0.6524590163934426,
          0.6688524590163935,
          0.6688524590163935,
          0.6721311475409836,
          0.6721311475409836,
          0.6754098360655738,
          0.6754098360655738,
          0.6786885245901639,
          0.6786885245901639,
          0.6819672131147541,
          0.6819672131147541,
          0.6885245901639344,
          0.6885245901639344,
          0.6918032786885245,
          0.6918032786885245,
          0.6950819672131148,
          0.6950819672131148,
          0.6983606557377049,
          0.6983606557377049,
          0.7016393442622951,
          0.7016393442622951,
          0.7049180327868853,
          0.7049180327868853,
          0.7081967213114754,
          0.7081967213114754,
          0.7114754098360656,
          0.7114754098360656,
          0.7147540983606557,
          0.7147540983606557,
          0.7213114754098361,
          0.7213114754098361,
          0.7213114754098361,
          0.7278688524590164,
          0.7278688524590164,
          0.7377049180327869,
          0.7377049180327869,
          0.740983606557377,
          0.740983606557377,
          0.7442622950819672,
          0.7442622950819672,
          0.7508196721311475,
          0.7508196721311475,
          0.7540983606557377,
          0.7540983606557377,
          0.7573770491803279,
          0.7573770491803279,
          0.7639344262295082,
          0.7639344262295082,
          0.7672131147540984,
          0.7672131147540984,
          0.7704918032786885,
          0.7704918032786885,
          0.7737704918032787,
          0.7737704918032787,
          0.780327868852459,
          0.780327868852459,
          0.7836065573770492,
          0.7836065573770492,
          0.7868852459016393,
          0.7868852459016393,
          0.7901639344262295,
          0.7901639344262295,
          0.7901639344262295,
          0.7901639344262295,
          0.7934426229508197,
          0.7934426229508197,
          0.7934426229508197,
          0.7934426229508197,
          0.7967213114754098,
          0.7967213114754098,
          0.8,
          0.8,
          0.8032786885245902,
          0.8032786885245902,
          0.8065573770491803,
          0.8065573770491803,
          0.8098360655737705,
          0.8098360655737705,
          0.8098360655737705,
          0.8098360655737705,
          0.8131147540983606,
          0.8131147540983606,
          0.8163934426229508,
          0.8163934426229508,
          0.819672131147541,
          0.819672131147541,
          0.8229508196721311,
          0.8229508196721311,
          0.8262295081967214,
          0.8262295081967214,
          0.8295081967213115,
          0.8295081967213115,
          0.8327868852459016,
          0.8327868852459016,
          0.8327868852459016,
          0.8327868852459016,
          0.8360655737704918,
          0.8360655737704918,
          0.839344262295082,
          0.839344262295082,
          0.8426229508196721,
          0.8426229508196721,
          0.8426229508196721,
          0.8426229508196721,
          0.8459016393442623,
          0.8459016393442623,
          0.8524590163934426,
          0.8524590163934426,
          0.8557377049180328,
          0.8557377049180328,
          0.8590163934426229,
          0.8590163934426229,
          0.8622950819672132,
          0.8622950819672132,
          0.8655737704918033,
          0.8655737704918033,
          0.8688524590163934,
          0.8688524590163934,
          0.8688524590163934,
          0.8688524590163934,
          0.8721311475409836,
          0.8721311475409836,
          0.8754098360655738,
          0.8754098360655738,
          0.8754098360655738,
          0.8754098360655738,
          0.8819672131147541,
          0.8852459016393442,
          0.8852459016393442,
          0.8885245901639345,
          0.8885245901639345,
          0.8918032786885246,
          0.8950819672131147,
          0.8950819672131147,
          0.898360655737705,
          0.898360655737705,
          0.9016393442622951,
          0.9016393442622951,
          0.9049180327868852,
          0.9049180327868852,
          0.9049180327868852,
          0.9049180327868852,
          0.9081967213114754,
          0.9081967213114754,
          0.9114754098360656,
          0.9114754098360656,
          0.9114754098360656,
          0.9147540983606557,
          0.9147540983606557,
          0.9180327868852459,
          0.9180327868852459,
          0.9180327868852459,
          0.9180327868852459,
          0.921311475409836,
          0.921311475409836,
          0.921311475409836,
          0.921311475409836,
          0.9245901639344263,
          0.9245901639344263,
          0.9278688524590164,
          0.9278688524590164,
          0.9311475409836065,
          0.9344262295081968,
          0.9344262295081968,
          0.9377049180327869,
          0.9377049180327869,
          0.9377049180327869,
          0.9377049180327869,
          0.940983606557377,
          0.940983606557377,
          0.9442622950819672,
          0.9475409836065574,
          0.9475409836065574,
          0.9475409836065574,
          0.9475409836065574,
          0.9508196721311475,
          0.9508196721311475,
          0.9508196721311475,
          0.9508196721311475,
          0.9508196721311475,
          0.9508196721311475,
          0.9540983606557377,
          0.9540983606557377,
          0.9540983606557377,
          0.9540983606557377,
          0.9573770491803278,
          0.9573770491803278,
          0.9573770491803278,
          0.9573770491803278,
          0.9573770491803278,
          0.9573770491803278,
          0.9606557377049181,
          0.9606557377049181,
          0.9606557377049181,
          0.9606557377049181,
          0.9606557377049181,
          0.9606557377049181,
          0.9639344262295082,
          0.9639344262295082,
          0.9672131147540983,
          0.9672131147540983,
          0.9672131147540983,
          0.9672131147540983,
          0.9704918032786886,
          0.9704918032786886,
          0.9770491803278688,
          0.9770491803278688,
          0.980327868852459,
          0.980327868852459,
          0.980327868852459,
          0.980327868852459,
          0.980327868852459,
          0.980327868852459,
          0.9836065573770492,
          0.9836065573770492,
          0.9901639344262295,
          0.9901639344262295,
          0.9934426229508196,
          0.9934426229508196,
          0.9934426229508196,
          0.9967213114754099,
          0.9967213114754099,
          0.9967213114754099,
          0.9967213114754099,
          0.9967213114754099,
          0.9967213114754099,
          0.9967213114754099,
          0.9967213114754099,
          0.9967213114754099,
          0.9967213114754099,
          0.9967213114754099,
          0.9967213114754099,
          1,
          1,
          1,
          1,
          1,
          1,
          1,
          1,
          1,
          1,
          1,
          1,
          1,
          1,
          1
         ]
        },
        {
         "line": {
          "color": "black",
          "dash": "dash"
         },
         "mode": "lines",
         "name": "No skill",
         "type": "scatter",
         "x": [
          0,
          1
         ],
         "y": [
          0,
          1
         ]
        }
       ],
       "layout": {
        "height": 750,
        "legend": {
         "x": 0.01,
         "xanchor": "left",
         "y": 0.99,
         "yanchor": "top"
        },
        "template": {
         "data": {
          "bar": [
           {
            "error_x": {
             "color": "#2a3f5f"
            },
            "error_y": {
             "color": "#2a3f5f"
            },
            "marker": {
             "line": {
              "color": "white",
              "width": 0.5
             },
             "pattern": {
              "fillmode": "overlay",
              "size": 10,
              "solidity": 0.2
             }
            },
            "type": "bar"
           }
          ],
          "barpolar": [
           {
            "marker": {
             "line": {
              "color": "white",
              "width": 0.5
             },
             "pattern": {
              "fillmode": "overlay",
              "size": 10,
              "solidity": 0.2
             }
            },
            "type": "barpolar"
           }
          ],
          "carpet": [
           {
            "aaxis": {
             "endlinecolor": "#2a3f5f",
             "gridcolor": "#C8D4E3",
             "linecolor": "#C8D4E3",
             "minorgridcolor": "#C8D4E3",
             "startlinecolor": "#2a3f5f"
            },
            "baxis": {
             "endlinecolor": "#2a3f5f",
             "gridcolor": "#C8D4E3",
             "linecolor": "#C8D4E3",
             "minorgridcolor": "#C8D4E3",
             "startlinecolor": "#2a3f5f"
            },
            "type": "carpet"
           }
          ],
          "choropleth": [
           {
            "colorbar": {
             "outlinewidth": 0,
             "ticks": ""
            },
            "type": "choropleth"
           }
          ],
          "contour": [
           {
            "colorbar": {
             "outlinewidth": 0,
             "ticks": ""
            },
            "colorscale": [
             [
              0,
              "#0d0887"
             ],
             [
              0.1111111111111111,
              "#46039f"
             ],
             [
              0.2222222222222222,
              "#7201a8"
             ],
             [
              0.3333333333333333,
              "#9c179e"
             ],
             [
              0.4444444444444444,
              "#bd3786"
             ],
             [
              0.5555555555555556,
              "#d8576b"
             ],
             [
              0.6666666666666666,
              "#ed7953"
             ],
             [
              0.7777777777777778,
              "#fb9f3a"
             ],
             [
              0.8888888888888888,
              "#fdca26"
             ],
             [
              1,
              "#f0f921"
             ]
            ],
            "type": "contour"
           }
          ],
          "contourcarpet": [
           {
            "colorbar": {
             "outlinewidth": 0,
             "ticks": ""
            },
            "type": "contourcarpet"
           }
          ],
          "heatmap": [
           {
            "colorbar": {
             "outlinewidth": 0,
             "ticks": ""
            },
            "colorscale": [
             [
              0,
              "#0d0887"
             ],
             [
              0.1111111111111111,
              "#46039f"
             ],
             [
              0.2222222222222222,
              "#7201a8"
             ],
             [
              0.3333333333333333,
              "#9c179e"
             ],
             [
              0.4444444444444444,
              "#bd3786"
             ],
             [
              0.5555555555555556,
              "#d8576b"
             ],
             [
              0.6666666666666666,
              "#ed7953"
             ],
             [
              0.7777777777777778,
              "#fb9f3a"
             ],
             [
              0.8888888888888888,
              "#fdca26"
             ],
             [
              1,
              "#f0f921"
             ]
            ],
            "type": "heatmap"
           }
          ],
          "heatmapgl": [
           {
            "colorbar": {
             "outlinewidth": 0,
             "ticks": ""
            },
            "colorscale": [
             [
              0,
              "#0d0887"
             ],
             [
              0.1111111111111111,
              "#46039f"
             ],
             [
              0.2222222222222222,
              "#7201a8"
             ],
             [
              0.3333333333333333,
              "#9c179e"
             ],
             [
              0.4444444444444444,
              "#bd3786"
             ],
             [
              0.5555555555555556,
              "#d8576b"
             ],
             [
              0.6666666666666666,
              "#ed7953"
             ],
             [
              0.7777777777777778,
              "#fb9f3a"
             ],
             [
              0.8888888888888888,
              "#fdca26"
             ],
             [
              1,
              "#f0f921"
             ]
            ],
            "type": "heatmapgl"
           }
          ],
          "histogram": [
           {
            "marker": {
             "pattern": {
              "fillmode": "overlay",
              "size": 10,
              "solidity": 0.2
             }
            },
            "type": "histogram"
           }
          ],
          "histogram2d": [
           {
            "colorbar": {
             "outlinewidth": 0,
             "ticks": ""
            },
            "colorscale": [
             [
              0,
              "#0d0887"
             ],
             [
              0.1111111111111111,
              "#46039f"
             ],
             [
              0.2222222222222222,
              "#7201a8"
             ],
             [
              0.3333333333333333,
              "#9c179e"
             ],
             [
              0.4444444444444444,
              "#bd3786"
             ],
             [
              0.5555555555555556,
              "#d8576b"
             ],
             [
              0.6666666666666666,
              "#ed7953"
             ],
             [
              0.7777777777777778,
              "#fb9f3a"
             ],
             [
              0.8888888888888888,
              "#fdca26"
             ],
             [
              1,
              "#f0f921"
             ]
            ],
            "type": "histogram2d"
           }
          ],
          "histogram2dcontour": [
           {
            "colorbar": {
             "outlinewidth": 0,
             "ticks": ""
            },
            "colorscale": [
             [
              0,
              "#0d0887"
             ],
             [
              0.1111111111111111,
              "#46039f"
             ],
             [
              0.2222222222222222,
              "#7201a8"
             ],
             [
              0.3333333333333333,
              "#9c179e"
             ],
             [
              0.4444444444444444,
              "#bd3786"
             ],
             [
              0.5555555555555556,
              "#d8576b"
             ],
             [
              0.6666666666666666,
              "#ed7953"
             ],
             [
              0.7777777777777778,
              "#fb9f3a"
             ],
             [
              0.8888888888888888,
              "#fdca26"
             ],
             [
              1,
              "#f0f921"
             ]
            ],
            "type": "histogram2dcontour"
           }
          ],
          "mesh3d": [
           {
            "colorbar": {
             "outlinewidth": 0,
             "ticks": ""
            },
            "type": "mesh3d"
           }
          ],
          "parcoords": [
           {
            "line": {
             "colorbar": {
              "outlinewidth": 0,
              "ticks": ""
             }
            },
            "type": "parcoords"
           }
          ],
          "pie": [
           {
            "automargin": true,
            "type": "pie"
           }
          ],
          "scatter": [
           {
            "fillpattern": {
             "fillmode": "overlay",
             "size": 10,
             "solidity": 0.2
            },
            "type": "scatter"
           }
          ],
          "scatter3d": [
           {
            "line": {
             "colorbar": {
              "outlinewidth": 0,
              "ticks": ""
             }
            },
            "marker": {
             "colorbar": {
              "outlinewidth": 0,
              "ticks": ""
             }
            },
            "type": "scatter3d"
           }
          ],
          "scattercarpet": [
           {
            "marker": {
             "colorbar": {
              "outlinewidth": 0,
              "ticks": ""
             }
            },
            "type": "scattercarpet"
           }
          ],
          "scattergeo": [
           {
            "marker": {
             "colorbar": {
              "outlinewidth": 0,
              "ticks": ""
             }
            },
            "type": "scattergeo"
           }
          ],
          "scattergl": [
           {
            "marker": {
             "colorbar": {
              "outlinewidth": 0,
              "ticks": ""
             }
            },
            "type": "scattergl"
           }
          ],
          "scattermapbox": [
           {
            "marker": {
             "colorbar": {
              "outlinewidth": 0,
              "ticks": ""
             }
            },
            "type": "scattermapbox"
           }
          ],
          "scatterpolar": [
           {
            "marker": {
             "colorbar": {
              "outlinewidth": 0,
              "ticks": ""
             }
            },
            "type": "scatterpolar"
           }
          ],
          "scatterpolargl": [
           {
            "marker": {
             "colorbar": {
              "outlinewidth": 0,
              "ticks": ""
             }
            },
            "type": "scatterpolargl"
           }
          ],
          "scatterternary": [
           {
            "marker": {
             "colorbar": {
              "outlinewidth": 0,
              "ticks": ""
             }
            },
            "type": "scatterternary"
           }
          ],
          "surface": [
           {
            "colorbar": {
             "outlinewidth": 0,
             "ticks": ""
            },
            "colorscale": [
             [
              0,
              "#0d0887"
             ],
             [
              0.1111111111111111,
              "#46039f"
             ],
             [
              0.2222222222222222,
              "#7201a8"
             ],
             [
              0.3333333333333333,
              "#9c179e"
             ],
             [
              0.4444444444444444,
              "#bd3786"
             ],
             [
              0.5555555555555556,
              "#d8576b"
             ],
             [
              0.6666666666666666,
              "#ed7953"
             ],
             [
              0.7777777777777778,
              "#fb9f3a"
             ],
             [
              0.8888888888888888,
              "#fdca26"
             ],
             [
              1,
              "#f0f921"
             ]
            ],
            "type": "surface"
           }
          ],
          "table": [
           {
            "cells": {
             "fill": {
              "color": "#EBF0F8"
             },
             "line": {
              "color": "white"
             }
            },
            "header": {
             "fill": {
              "color": "#C8D4E3"
             },
             "line": {
              "color": "white"
             }
            },
            "type": "table"
           }
          ]
         },
         "layout": {
          "annotationdefaults": {
           "arrowcolor": "#2a3f5f",
           "arrowhead": 0,
           "arrowwidth": 1
          },
          "autotypenumbers": "strict",
          "coloraxis": {
           "colorbar": {
            "outlinewidth": 0,
            "ticks": ""
           }
          },
          "colorscale": {
           "diverging": [
            [
             0,
             "#8e0152"
            ],
            [
             0.1,
             "#c51b7d"
            ],
            [
             0.2,
             "#de77ae"
            ],
            [
             0.3,
             "#f1b6da"
            ],
            [
             0.4,
             "#fde0ef"
            ],
            [
             0.5,
             "#f7f7f7"
            ],
            [
             0.6,
             "#e6f5d0"
            ],
            [
             0.7,
             "#b8e186"
            ],
            [
             0.8,
             "#7fbc41"
            ],
            [
             0.9,
             "#4d9221"
            ],
            [
             1,
             "#276419"
            ]
           ],
           "sequential": [
            [
             0,
             "#0d0887"
            ],
            [
             0.1111111111111111,
             "#46039f"
            ],
            [
             0.2222222222222222,
             "#7201a8"
            ],
            [
             0.3333333333333333,
             "#9c179e"
            ],
            [
             0.4444444444444444,
             "#bd3786"
            ],
            [
             0.5555555555555556,
             "#d8576b"
            ],
            [
             0.6666666666666666,
             "#ed7953"
            ],
            [
             0.7777777777777778,
             "#fb9f3a"
            ],
            [
             0.8888888888888888,
             "#fdca26"
            ],
            [
             1,
             "#f0f921"
            ]
           ],
           "sequentialminus": [
            [
             0,
             "#0d0887"
            ],
            [
             0.1111111111111111,
             "#46039f"
            ],
            [
             0.2222222222222222,
             "#7201a8"
            ],
            [
             0.3333333333333333,
             "#9c179e"
            ],
            [
             0.4444444444444444,
             "#bd3786"
            ],
            [
             0.5555555555555556,
             "#d8576b"
            ],
            [
             0.6666666666666666,
             "#ed7953"
            ],
            [
             0.7777777777777778,
             "#fb9f3a"
            ],
            [
             0.8888888888888888,
             "#fdca26"
            ],
            [
             1,
             "#f0f921"
            ]
           ]
          },
          "colorway": [
           "#636efa",
           "#EF553B",
           "#00cc96",
           "#ab63fa",
           "#FFA15A",
           "#19d3f3",
           "#FF6692",
           "#B6E880",
           "#FF97FF",
           "#FECB52"
          ],
          "font": {
           "color": "#2a3f5f"
          },
          "geo": {
           "bgcolor": "white",
           "lakecolor": "white",
           "landcolor": "white",
           "showlakes": true,
           "showland": true,
           "subunitcolor": "#C8D4E3"
          },
          "hoverlabel": {
           "align": "left"
          },
          "hovermode": "closest",
          "mapbox": {
           "style": "light"
          },
          "paper_bgcolor": "white",
          "plot_bgcolor": "white",
          "polar": {
           "angularaxis": {
            "gridcolor": "#EBF0F8",
            "linecolor": "#EBF0F8",
            "ticks": ""
           },
           "bgcolor": "white",
           "radialaxis": {
            "gridcolor": "#EBF0F8",
            "linecolor": "#EBF0F8",
            "ticks": ""
           }
          },
          "scene": {
           "xaxis": {
            "backgroundcolor": "white",
            "gridcolor": "#DFE8F3",
            "gridwidth": 2,
            "linecolor": "#EBF0F8",
            "showbackground": true,
            "ticks": "",
            "zerolinecolor": "#EBF0F8"
           },
           "yaxis": {
            "backgroundcolor": "white",
            "gridcolor": "#DFE8F3",
            "gridwidth": 2,
            "linecolor": "#EBF0F8",
            "showbackground": true,
            "ticks": "",
            "zerolinecolor": "#EBF0F8"
           },
           "zaxis": {
            "backgroundcolor": "white",
            "gridcolor": "#DFE8F3",
            "gridwidth": 2,
            "linecolor": "#EBF0F8",
            "showbackground": true,
            "ticks": "",
            "zerolinecolor": "#EBF0F8"
           }
          },
          "shapedefaults": {
           "line": {
            "color": "#2a3f5f"
           }
          },
          "ternary": {
           "aaxis": {
            "gridcolor": "#DFE8F3",
            "linecolor": "#A2B1C6",
            "ticks": ""
           },
           "baxis": {
            "gridcolor": "#DFE8F3",
            "linecolor": "#A2B1C6",
            "ticks": ""
           },
           "bgcolor": "white",
           "caxis": {
            "gridcolor": "#DFE8F3",
            "linecolor": "#A2B1C6",
            "ticks": ""
           }
          },
          "title": {
           "x": 0.05
          },
          "xaxis": {
           "automargin": true,
           "gridcolor": "#EBF0F8",
           "linecolor": "#EBF0F8",
           "ticks": "",
           "title": {
            "standoff": 15
           },
           "zerolinecolor": "#EBF0F8",
           "zerolinewidth": 2
          },
          "yaxis": {
           "automargin": true,
           "gridcolor": "#EBF0F8",
           "linecolor": "#EBF0F8",
           "ticks": "",
           "title": {
            "standoff": 15
           },
           "zerolinecolor": "#EBF0F8",
           "zerolinewidth": 2
          }
         }
        },
        "title": {
         "text": "ROC for the best model, downsampled"
        },
        "width": 1000,
        "xaxis": {
         "title": {
          "text": "False positive rate"
         }
        },
        "yaxis": {
         "title": {
          "text": "True positive rate"
         }
        }
       }
      }
     },
     "metadata": {},
     "output_type": "display_data"
    }
   ],
   "source": [
    "print_best_params_and_metrics(study_downsampled.best_params, metrics)\n",
    "\n",
    "fig = optuna.visualization.plot_optimization_history(study_downsampled)\n",
    "fig.update_layout(template='plotly_white', width=FIG_WIDTH, height=FIG_HEIGHT)\n",
    "fig.show()\n",
    "\n",
    "fig = optuna.visualization.plot_slice(study_downsampled)\n",
    "fig.update_layout(template='plotly_white', width=FIG_WIDTH, height=FIG_HEIGHT)\n",
    "fig.update_xaxes(tickangle=-90)\n",
    "fig.show()\n",
    "\n",
    "fig = plot_roc_auc(\n",
    "    data_splits['downsampled']['ftr_valid'], data_splits['downsampled']['tgt_valid'], \n",
    "    best_model, title='ROC for the best model, downsampled'\n",
    ")\n",
    "fig.show()"
   ]
  },
  {
   "attachments": {},
   "cell_type": "markdown",
   "metadata": {},
   "source": [
    "# Проверка на тест-выборке\n",
    "\n",
    "Последним этапом, возьмем лучшую модель и проверим ее на тестовой выборке."
   ]
  },
  {
   "cell_type": "code",
   "execution_count": 58,
   "metadata": {},
   "outputs": [],
   "source": [
    "metrics, best_model = evaluate_best_model('upsampled', study_upsampled)\n",
    "\n",
    "pred_valid = best_model.predict(data_splits['upsampled']['ftr_test'])\n",
    "pred_proba_valid = best_model.predict_proba(data_splits['upsampled']['ftr_test'])[:, 1]\n",
    "\n",
    "f1_valid = f1_score(data_splits['upsampled']['tgt_test'], pred_valid)\n",
    "roc_auc_valid = roc_auc_score(data_splits['upsampled']['tgt_test'], pred_proba_valid)"
   ]
  },
  {
   "cell_type": "code",
   "execution_count": 60,
   "metadata": {},
   "outputs": [
    {
     "name": "stdout",
     "output_type": "stream",
     "text": [
      "0.5647482014388489\n",
      "0.840621955091361\n"
     ]
    }
   ],
   "source": [
    "print(f1_valid)\n",
    "print(roc_auc_valid)"
   ]
  },
  {
   "attachments": {},
   "cell_type": "markdown",
   "metadata": {},
   "source": [
    "# Выводы\n",
    "\n",
    "На основе результатов экспериментов мы наблюдаем значительные различия в метриках модели при использовании `upsamlping` по сравнению с оригинальным датасетом.\n",
    "\n",
    "Лучшей моделью в обоих случаях оказался классификатор `RandomForest` с `max_depth = 18` и `n_estimators = 158`. Однако эффективность этой модели на двух наборах данных довольно различна.\n",
    "\n",
    "Для набора данных без `upsampling`:\n",
    "\n",
    "1. Модель достигает значения F1-меры примерно 0,58 на валидационном наборе и 0,60 на тестовом наборе.\n",
    "2. Площадь под кривой (ROC-AUC) составляет около 0,72 для обоих наборов данных.\n",
    "\n",
    "В случае с `upsampling`:\n",
    "\n",
    "1. Значение F1-меры модели значительно улучшается, достигая около 0,94 как для валидационного, так и для тестового наборов данных.\n",
    "2. ROC-AUC также значительно повышается, достигая приблизительно 0,94 для обоих наборов.\n",
    "\n",
    "Метод `upsampling` эффективно справляется с дисбалансом классов в наборе данных, что приводит к улучшению качества предсказаний миноритарного класса. Поэтому, в этом конкретном случае, применение `upsampling` оказалось подходящим решением.\n",
    "\n",
    "Важно отметить, что выбор `upsampling`, модели и ее гиперпараметров должен производиться тщательно, с учетом контекста проблемы и специфических характеристик данных. Кроме того, очень важно проверить, что модель не переобучается на данных с `upsampling`, и производительность на новых данных сохраняется.\n",
    "\n",
    "Наконец, стоит рассмотреть другие метрики и деловые цели, помимо F1 и ROC-AUC, чтобы получить всестороннее понимание качества модели.\n"
   ]
  }
 ],
 "metadata": {
  "ExecuteTimeLog": [
   {
    "duration": 1605,
    "start_time": "2023-05-21T19:46:45.978Z"
   },
   {
    "duration": 35,
    "start_time": "2023-05-21T19:46:52.071Z"
   },
   {
    "duration": 836,
    "start_time": "2023-05-21T19:46:54.792Z"
   },
   {
    "duration": 168,
    "start_time": "2023-05-21T19:48:12.739Z"
   },
   {
    "duration": 73,
    "start_time": "2023-05-21T19:48:16.311Z"
   },
   {
    "duration": 24,
    "start_time": "2023-05-21T19:48:16.386Z"
   },
   {
    "duration": 360,
    "start_time": "2023-05-21T19:48:16.412Z"
   },
   {
    "duration": 6,
    "start_time": "2023-05-21T19:48:16.774Z"
   },
   {
    "duration": 321,
    "start_time": "2023-05-21T19:48:16.781Z"
   },
   {
    "duration": 64,
    "start_time": "2023-05-21T19:48:17.103Z"
   },
   {
    "duration": 12362,
    "start_time": "2023-05-21T19:48:22.972Z"
   },
   {
    "duration": 108,
    "start_time": "2023-05-21T19:48:35.337Z"
   },
   {
    "duration": 1385,
    "start_time": "2023-05-22T18:16:08.557Z"
   },
   {
    "duration": 37,
    "start_time": "2023-05-22T18:16:09.944Z"
   },
   {
    "duration": 865,
    "start_time": "2023-05-22T18:16:09.983Z"
   },
   {
    "duration": 9,
    "start_time": "2023-05-22T18:16:10.849Z"
   },
   {
    "duration": 119,
    "start_time": "2023-05-22T18:16:10.860Z"
   },
   {
    "duration": 0,
    "start_time": "2023-05-22T18:16:10.982Z"
   },
   {
    "duration": 0,
    "start_time": "2023-05-22T18:16:10.984Z"
   },
   {
    "duration": 0,
    "start_time": "2023-05-22T18:16:10.986Z"
   },
   {
    "duration": 0,
    "start_time": "2023-05-22T18:16:10.989Z"
   },
   {
    "duration": 0,
    "start_time": "2023-05-22T18:16:10.990Z"
   },
   {
    "duration": 0,
    "start_time": "2023-05-22T18:16:10.991Z"
   },
   {
    "duration": 0,
    "start_time": "2023-05-22T18:16:10.993Z"
   },
   {
    "duration": 2493,
    "start_time": "2023-05-22T18:16:36.511Z"
   },
   {
    "duration": 2398,
    "start_time": "2023-05-22T18:16:49.695Z"
   },
   {
    "duration": 9,
    "start_time": "2023-05-22T18:18:55.751Z"
   },
   {
    "duration": 9,
    "start_time": "2023-05-22T18:19:30.158Z"
   },
   {
    "duration": 11,
    "start_time": "2023-05-22T18:20:12.910Z"
   },
   {
    "duration": 9,
    "start_time": "2023-05-22T18:20:21.983Z"
   },
   {
    "duration": 77,
    "start_time": "2023-05-22T18:20:32.174Z"
   },
   {
    "duration": 87,
    "start_time": "2023-05-22T18:20:35.022Z"
   },
   {
    "duration": 10,
    "start_time": "2023-05-22T18:20:41.677Z"
   },
   {
    "duration": 11,
    "start_time": "2023-05-22T18:21:11.639Z"
   },
   {
    "duration": 9,
    "start_time": "2023-05-22T18:21:20.782Z"
   },
   {
    "duration": 8,
    "start_time": "2023-05-22T18:23:28.845Z"
   },
   {
    "duration": 13,
    "start_time": "2023-05-22T18:23:42.013Z"
   },
   {
    "duration": 10,
    "start_time": "2023-05-22T18:25:45.151Z"
   },
   {
    "duration": 33,
    "start_time": "2023-05-22T18:29:58.816Z"
   },
   {
    "duration": 45,
    "start_time": "2023-05-22T18:30:04.874Z"
   },
   {
    "duration": 9,
    "start_time": "2023-05-22T18:30:19.373Z"
   },
   {
    "duration": 29,
    "start_time": "2023-05-22T18:30:24.428Z"
   },
   {
    "duration": 9,
    "start_time": "2023-05-22T18:30:28.442Z"
   },
   {
    "duration": 70,
    "start_time": "2023-05-22T18:30:47.915Z"
   },
   {
    "duration": 9,
    "start_time": "2023-05-22T18:30:50.837Z"
   },
   {
    "duration": 11,
    "start_time": "2023-05-22T18:30:54.031Z"
   },
   {
    "duration": 12,
    "start_time": "2023-05-22T18:31:03.340Z"
   },
   {
    "duration": 9,
    "start_time": "2023-05-22T18:31:06.987Z"
   },
   {
    "duration": 9,
    "start_time": "2023-05-22T18:31:08.197Z"
   },
   {
    "duration": 26,
    "start_time": "2023-05-22T18:31:09.340Z"
   },
   {
    "duration": 179,
    "start_time": "2023-05-22T18:31:26.445Z"
   },
   {
    "duration": 1293,
    "start_time": "2023-05-22T18:31:50.893Z"
   },
   {
    "duration": 17,
    "start_time": "2023-05-22T18:31:52.188Z"
   },
   {
    "duration": 25,
    "start_time": "2023-05-22T18:31:52.207Z"
   },
   {
    "duration": 27,
    "start_time": "2023-05-22T18:31:52.234Z"
   },
   {
    "duration": 773,
    "start_time": "2023-05-22T18:31:52.263Z"
   },
   {
    "duration": 9,
    "start_time": "2023-05-22T18:31:53.037Z"
   },
   {
    "duration": 2404,
    "start_time": "2023-05-22T18:31:53.048Z"
   },
   {
    "duration": 184,
    "start_time": "2023-05-22T18:31:55.453Z"
   },
   {
    "duration": 0,
    "start_time": "2023-05-22T18:31:55.638Z"
   },
   {
    "duration": 0,
    "start_time": "2023-05-22T18:31:55.640Z"
   },
   {
    "duration": 0,
    "start_time": "2023-05-22T18:31:55.640Z"
   },
   {
    "duration": 0,
    "start_time": "2023-05-22T18:31:55.642Z"
   },
   {
    "duration": 0,
    "start_time": "2023-05-22T18:31:55.643Z"
   },
   {
    "duration": 0,
    "start_time": "2023-05-22T18:31:55.644Z"
   },
   {
    "duration": 13,
    "start_time": "2023-05-22T18:34:11.456Z"
   },
   {
    "duration": 25,
    "start_time": "2023-05-22T18:34:14.034Z"
   },
   {
    "duration": 2245,
    "start_time": "2023-05-22T18:34:26.018Z"
   },
   {
    "duration": 638,
    "start_time": "2023-05-22T18:34:37.931Z"
   },
   {
    "duration": 628,
    "start_time": "2023-05-22T18:34:58.575Z"
   },
   {
    "duration": 46,
    "start_time": "2023-05-22T18:35:11.934Z"
   },
   {
    "duration": 2240,
    "start_time": "2023-05-22T18:35:58.893Z"
   },
   {
    "duration": 46,
    "start_time": "2023-05-22T18:36:10.737Z"
   },
   {
    "duration": 35006,
    "start_time": "2023-05-22T18:43:11.984Z"
   },
   {
    "duration": 72,
    "start_time": "2023-05-22T18:44:58.325Z"
   },
   {
    "duration": 60,
    "start_time": "2023-05-22T18:45:29.078Z"
   },
   {
    "duration": 110,
    "start_time": "2023-05-22T18:46:32.716Z"
   },
   {
    "duration": 17,
    "start_time": "2023-05-22T18:48:06.773Z"
   },
   {
    "duration": 29,
    "start_time": "2023-05-22T18:48:19.134Z"
   },
   {
    "duration": 1344,
    "start_time": "2023-05-22T18:48:49.944Z"
   },
   {
    "duration": 22,
    "start_time": "2023-05-22T18:48:51.291Z"
   },
   {
    "duration": 16,
    "start_time": "2023-05-22T18:48:51.315Z"
   },
   {
    "duration": 26,
    "start_time": "2023-05-22T18:48:51.333Z"
   },
   {
    "duration": 711,
    "start_time": "2023-05-22T18:48:51.362Z"
   },
   {
    "duration": 9,
    "start_time": "2023-05-22T18:48:52.074Z"
   },
   {
    "duration": 2355,
    "start_time": "2023-05-22T18:48:52.085Z"
   },
   {
    "duration": 46,
    "start_time": "2023-05-22T18:48:54.442Z"
   },
   {
    "duration": 200,
    "start_time": "2023-05-22T18:48:54.489Z"
   },
   {
    "duration": 0,
    "start_time": "2023-05-22T18:48:54.691Z"
   },
   {
    "duration": 0,
    "start_time": "2023-05-22T18:48:54.693Z"
   },
   {
    "duration": 0,
    "start_time": "2023-05-22T18:48:54.694Z"
   },
   {
    "duration": 0,
    "start_time": "2023-05-22T18:48:54.695Z"
   },
   {
    "duration": 0,
    "start_time": "2023-05-22T18:48:54.696Z"
   },
   {
    "duration": 35180,
    "start_time": "2023-05-22T18:49:14.678Z"
   },
   {
    "duration": 29,
    "start_time": "2023-05-22T18:51:33.684Z"
   },
   {
    "duration": 36161,
    "start_time": "2023-05-22T18:59:42.601Z"
   },
   {
    "duration": 29,
    "start_time": "2023-05-22T19:00:25.095Z"
   },
   {
    "duration": 1322,
    "start_time": "2023-05-22T19:00:47.296Z"
   },
   {
    "duration": 1470,
    "start_time": "2023-05-22T19:01:46.489Z"
   },
   {
    "duration": 25,
    "start_time": "2023-05-22T19:02:02.352Z"
   },
   {
    "duration": 25,
    "start_time": "2023-05-22T19:02:11.960Z"
   },
   {
    "duration": 1220,
    "start_time": "2023-05-22T19:02:35.260Z"
   },
   {
    "duration": 6,
    "start_time": "2023-05-22T19:02:45.317Z"
   },
   {
    "duration": 13,
    "start_time": "2023-05-22T19:02:50.617Z"
   },
   {
    "duration": 13,
    "start_time": "2023-05-22T19:02:53.456Z"
   },
   {
    "duration": 30,
    "start_time": "2023-05-22T19:02:57.872Z"
   },
   {
    "duration": 1464,
    "start_time": "2023-05-22T19:03:02.297Z"
   },
   {
    "duration": 14,
    "start_time": "2023-05-22T19:03:10.960Z"
   },
   {
    "duration": 17,
    "start_time": "2023-05-22T19:03:28.776Z"
   },
   {
    "duration": 22,
    "start_time": "2023-05-22T19:03:33.560Z"
   },
   {
    "duration": 118,
    "start_time": "2023-05-22T19:03:46.106Z"
   },
   {
    "duration": 194,
    "start_time": "2023-05-22T19:05:43.456Z"
   },
   {
    "duration": 223,
    "start_time": "2023-05-22T19:06:06.752Z"
   },
   {
    "duration": 4,
    "start_time": "2023-05-22T19:06:09.856Z"
   },
   {
    "duration": 13,
    "start_time": "2023-05-22T19:08:23.155Z"
   },
   {
    "duration": 48,
    "start_time": "2023-05-22T19:08:27.164Z"
   },
   {
    "duration": 206,
    "start_time": "2023-05-22T19:08:48.168Z"
   },
   {
    "duration": 21,
    "start_time": "2023-05-22T19:08:51.352Z"
   },
   {
    "duration": 50,
    "start_time": "2023-05-22T19:09:09.387Z"
   },
   {
    "duration": 79,
    "start_time": "2023-05-22T19:11:42.417Z"
   },
   {
    "duration": 42,
    "start_time": "2023-05-22T19:11:44.002Z"
   },
   {
    "duration": 98,
    "start_time": "2023-05-22T19:11:52.163Z"
   },
   {
    "duration": 42,
    "start_time": "2023-05-22T19:11:53.777Z"
   },
   {
    "duration": 122,
    "start_time": "2023-05-22T19:12:02.124Z"
   },
   {
    "duration": 43,
    "start_time": "2023-05-22T19:12:03.660Z"
   },
   {
    "duration": 134,
    "start_time": "2023-05-22T19:12:12.560Z"
   },
   {
    "duration": 49,
    "start_time": "2023-05-22T19:12:13.873Z"
   },
   {
    "duration": 155,
    "start_time": "2023-05-22T19:12:23.064Z"
   },
   {
    "duration": 48,
    "start_time": "2023-05-22T19:12:25.472Z"
   },
   {
    "duration": 204,
    "start_time": "2023-05-22T19:12:41.581Z"
   },
   {
    "duration": 55,
    "start_time": "2023-05-22T19:12:43.242Z"
   },
   {
    "duration": 2488,
    "start_time": "2023-05-22T19:12:51.360Z"
   },
   {
    "duration": 41,
    "start_time": "2023-05-22T19:12:54.281Z"
   },
   {
    "duration": 12,
    "start_time": "2023-05-22T19:13:13.504Z"
   },
   {
    "duration": 131,
    "start_time": "2023-05-22T19:13:36.504Z"
   },
   {
    "duration": 46,
    "start_time": "2023-05-22T19:13:38.017Z"
   },
   {
    "duration": 15,
    "start_time": "2023-05-22T19:14:18.176Z"
   },
   {
    "duration": 6,
    "start_time": "2023-05-22T19:14:23.481Z"
   },
   {
    "duration": 12,
    "start_time": "2023-05-22T19:14:25.159Z"
   },
   {
    "duration": 22,
    "start_time": "2023-05-22T19:14:26.767Z"
   },
   {
    "duration": 68,
    "start_time": "2023-05-22T19:14:31.816Z"
   },
   {
    "duration": 49,
    "start_time": "2023-05-22T19:14:40.818Z"
   }
  ],
  "kernelspec": {
   "display_name": "Python 3 (ipykernel)",
   "language": "python",
   "name": "python3"
  },
  "language_info": {
   "codemirror_mode": {
    "name": "ipython",
    "version": 3
   },
   "file_extension": ".py",
   "mimetype": "text/x-python",
   "name": "python",
   "nbconvert_exporter": "python",
   "pygments_lexer": "ipython3",
   "version": "3.9.7"
  },
  "toc": {
   "base_numbering": 1,
   "nav_menu": {},
   "number_sections": true,
   "sideBar": true,
   "skip_h1_title": true,
   "title_cell": "Table of Contents",
   "title_sidebar": "Contents",
   "toc_cell": false,
   "toc_position": {},
   "toc_section_display": true,
   "toc_window_display": false
  },
  "vscode": {
   "interpreter": {
    "hash": "95633e14b7ea774968f538ab8687a60d358136f4a990a7903a22cc539dc1dcdb"
   }
  }
 },
 "nbformat": 4,
 "nbformat_minor": 2
}
