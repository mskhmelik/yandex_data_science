{
 "cells": [
  {
   "attachments": {},
   "cell_type": "markdown",
   "metadata": {},
   "source": [
    "<div class=\"alert alert-info\">\n",
    "<b>Комментарий студента:</b>\n",
    "\n",
    "Алексей, привет. Давай на ты.\n",
    "\n",
    "1. Прости - после твоих комментариев половину функций пришлось переделать, поэтому я загрузил новый файл...\n",
    "2. Первая итерация проекта находится [здесь](https://github.com/mskhmelik/yandex_data_science/blob/master/Project_2/prj_bank_clients_churn_first_review.ipynb). Я надеюсь, этого будет достаточно, чтобы отследить изменения, но если есть какие-то проблемы - дай знать.\n",
    "\n",
    "Пара вопросов:\n",
    "\n",
    "1. Проект выглядел просто, когда я про него читал, но стал очень тяжелым, если делать его нормально, а не абы как. Я что-то не так делаю?\n",
    "2. Кучу функций пришлось написать с нуля. Тот же `train_valid_test` без стратификации - это какой-то зашквар. Неужели нету каких-то библиотек? Я что-то упускаю?\n",
    "\n",
    "</div>\n",
    "    "
   ]
  },
  {
   "attachments": {},
   "cell_type": "markdown",
   "metadata": {},
   "source": [
    "# Отток клиентов банка\n",
    "\n",
    "**Описание проекта**\n",
    "\n",
    "Из «Бета-Банка» стали уходить клиенты. Каждый месяц. Немного, но заметно. Банковские маркетологи посчитали: сохранять текущих клиентов дешевле, чем привлекать новых.\n",
    "\n",
    "Нужно спрогнозировать, уйдёт клиент из банка в ближайшее время или нет. Вам предоставлены исторические данные о поведении клиентов и расторжении договоров с банком. \n",
    "\n",
    "Постройте модель с предельно большим значением F1-меры. Чтобы сдать проект успешно, нужно довести метрику до 0.59. Проверьте F1-меру на тестовой выборке самостоятельно.\n",
    "\n",
    "Дополнительно измеряйте AUC-ROC, сравнивайте её значение с F1-мерой.\n",
    "\n",
    "План работы:\n",
    "\n",
    "1. Загрузите и подготовьте данные.\n",
    "2. Исследуйте баланс классов, обучите модель без учёта дисбаланса.\n",
    "3. Улучшите качество модели, учитывая дисбаланс классов. Обучите разные модели и найдите лучшую.\n",
    "4. Проведите финальное тестирование.\n",
    "\n",
    "**Описание данных**\n",
    "\n",
    "Признаки\n",
    "\n",
    "1. `RowNumber` — индекс строки в данных\n",
    "2. `CustomerId` — уникальный идентификатор клиента\n",
    "3. `Surname` — фамилия\n",
    "4. `CreditScore` — кредитный рейтинг\n",
    "5. `Geography` — страна проживания\n",
    "6. `Gender` — пол\n",
    "7. `Age` — возраст\n",
    "8. `Tenure` — сколько лет человек является клиентом банка\n",
    "9. `Balance` — баланс на счёте\n",
    "10. `NumOfProducts` — количество продуктов банка, используемых клиентом\n",
    "11. `HasCrCard` — наличие кредитной карты\n",
    "12. `IsActiveMember` — активность клиента\n",
    "13. `EstimatedSalary` — предполагаемая зарплата\n",
    "\n",
    "Целевой признак\n",
    "\n",
    "1. `Exited` — факт ухода клиента"
   ]
  },
  {
   "cell_type": "code",
   "execution_count": 1,
   "metadata": {},
   "outputs": [],
   "source": [
    "import pandas as pd\n",
    "import optuna\n",
    "import plotly.graph_objects as go\n",
    "\n",
    "from caseconverter import snakecase\n",
    "from ydata_profiling import ProfileReport\n",
    "from IPython.display import display\n",
    "\n",
    "from fast_ml import eda\n",
    "\n",
    "from sklearn.model_selection import train_test_split\n",
    "from sklearn.utils import resample\n",
    "\n",
    "from sklearn.pipeline import Pipeline\n",
    "from sklearn.compose import ColumnTransformer\n",
    "from sklearn.impute import SimpleImputer\n",
    "from sklearn.preprocessing import StandardScaler, OneHotEncoder\n",
    "\n",
    "from sklearn.tree import DecisionTreeClassifier\n",
    "from sklearn.linear_model import LogisticRegression\n",
    "from sklearn.ensemble import RandomForestClassifier\n",
    "from sklearn.dummy import DummyClassifier\n",
    "\n",
    "from sklearn.metrics import (\n",
    "    accuracy_score, f1_score, auc, roc_curve, roc_auc_score\n",
    ")"
   ]
  },
  {
   "cell_type": "code",
   "execution_count": 2,
   "metadata": {},
   "outputs": [],
   "source": [
    "FIG_WIDTH = 10 * 100\n",
    "FIG_HEIGHT = 5 * 100\n",
    "RANDOM_SEED = 42"
   ]
  },
  {
   "cell_type": "code",
   "execution_count": 3,
   "metadata": {},
   "outputs": [],
   "source": [
    "try:\n",
    "    raw_users = pd.read_csv('Churn.csv')\n",
    "except:\n",
    "    raw_users = pd.read_csv('/datasets/Churn.csv')"
   ]
  },
  {
   "attachments": {},
   "cell_type": "markdown",
   "metadata": {},
   "source": [
    "## Исследовательский анализ данных\n",
    "\n",
    "Изучим основные зависимости в данных перед тем, как мы будем использовать их в алгоритмах машинного обучения.\n",
    "\n",
    "Таблица-резюме:"
   ]
  },
  {
   "cell_type": "code",
   "execution_count": 4,
   "metadata": {},
   "outputs": [
    {
     "data": {
      "text/html": [
       "<div>\n",
       "<style scoped>\n",
       "    .dataframe tbody tr th:only-of-type {\n",
       "        vertical-align: middle;\n",
       "    }\n",
       "\n",
       "    .dataframe tbody tr th {\n",
       "        vertical-align: top;\n",
       "    }\n",
       "\n",
       "    .dataframe thead th {\n",
       "        text-align: right;\n",
       "    }\n",
       "</style>\n",
       "<table border=\"1\" class=\"dataframe\">\n",
       "  <thead>\n",
       "    <tr style=\"text-align: right;\">\n",
       "      <th></th>\n",
       "      <th>data_type</th>\n",
       "      <th>data_type_grp</th>\n",
       "      <th>num_unique_values</th>\n",
       "      <th>sample_unique_values</th>\n",
       "      <th>num_missing</th>\n",
       "      <th>perc_missing</th>\n",
       "    </tr>\n",
       "  </thead>\n",
       "  <tbody>\n",
       "    <tr>\n",
       "      <th>RowNumber</th>\n",
       "      <td>int64</td>\n",
       "      <td>Numerical</td>\n",
       "      <td>10000</td>\n",
       "      <td>[1, 2, 3, 4, 5, 6, 7, 8, 9, 10]</td>\n",
       "      <td>0</td>\n",
       "      <td>0.0</td>\n",
       "    </tr>\n",
       "    <tr>\n",
       "      <th>CustomerId</th>\n",
       "      <td>int64</td>\n",
       "      <td>Numerical</td>\n",
       "      <td>10000</td>\n",
       "      <td>[15634602, 15647311, 15619304, 15701354, 15737...</td>\n",
       "      <td>0</td>\n",
       "      <td>0.0</td>\n",
       "    </tr>\n",
       "    <tr>\n",
       "      <th>Surname</th>\n",
       "      <td>object</td>\n",
       "      <td>Categorical</td>\n",
       "      <td>2932</td>\n",
       "      <td>[Hargrave, Hill, Onio, Boni, Mitchell, Chu, Ba...</td>\n",
       "      <td>0</td>\n",
       "      <td>0.0</td>\n",
       "    </tr>\n",
       "    <tr>\n",
       "      <th>CreditScore</th>\n",
       "      <td>int64</td>\n",
       "      <td>Numerical</td>\n",
       "      <td>460</td>\n",
       "      <td>[619, 608, 502, 699, 850, 645, 822, 376, 501, ...</td>\n",
       "      <td>0</td>\n",
       "      <td>0.0</td>\n",
       "    </tr>\n",
       "    <tr>\n",
       "      <th>Geography</th>\n",
       "      <td>object</td>\n",
       "      <td>Categorical</td>\n",
       "      <td>3</td>\n",
       "      <td>[France, Spain, Germany]</td>\n",
       "      <td>0</td>\n",
       "      <td>0.0</td>\n",
       "    </tr>\n",
       "    <tr>\n",
       "      <th>Gender</th>\n",
       "      <td>object</td>\n",
       "      <td>Categorical</td>\n",
       "      <td>2</td>\n",
       "      <td>[Female, Male]</td>\n",
       "      <td>0</td>\n",
       "      <td>0.0</td>\n",
       "    </tr>\n",
       "    <tr>\n",
       "      <th>Age</th>\n",
       "      <td>int64</td>\n",
       "      <td>Numerical</td>\n",
       "      <td>70</td>\n",
       "      <td>[42, 41, 39, 43, 44, 50, 29, 27, 31, 24]</td>\n",
       "      <td>0</td>\n",
       "      <td>0.0</td>\n",
       "    </tr>\n",
       "    <tr>\n",
       "      <th>Tenure</th>\n",
       "      <td>float64</td>\n",
       "      <td>Numerical</td>\n",
       "      <td>11</td>\n",
       "      <td>[2.0, 1.0, 8.0, 7.0, 4.0, 6.0, 3.0, 10.0, 5.0,...</td>\n",
       "      <td>909</td>\n",
       "      <td>9.09</td>\n",
       "    </tr>\n",
       "    <tr>\n",
       "      <th>Balance</th>\n",
       "      <td>float64</td>\n",
       "      <td>Numerical</td>\n",
       "      <td>6382</td>\n",
       "      <td>[0.0, 83807.86, 159660.8, 125510.82, 113755.78...</td>\n",
       "      <td>0</td>\n",
       "      <td>0.0</td>\n",
       "    </tr>\n",
       "    <tr>\n",
       "      <th>NumOfProducts</th>\n",
       "      <td>int64</td>\n",
       "      <td>Numerical</td>\n",
       "      <td>4</td>\n",
       "      <td>[1, 3, 2, 4]</td>\n",
       "      <td>0</td>\n",
       "      <td>0.0</td>\n",
       "    </tr>\n",
       "    <tr>\n",
       "      <th>HasCrCard</th>\n",
       "      <td>int64</td>\n",
       "      <td>Numerical</td>\n",
       "      <td>2</td>\n",
       "      <td>[1, 0]</td>\n",
       "      <td>0</td>\n",
       "      <td>0.0</td>\n",
       "    </tr>\n",
       "    <tr>\n",
       "      <th>IsActiveMember</th>\n",
       "      <td>int64</td>\n",
       "      <td>Numerical</td>\n",
       "      <td>2</td>\n",
       "      <td>[1, 0]</td>\n",
       "      <td>0</td>\n",
       "      <td>0.0</td>\n",
       "    </tr>\n",
       "    <tr>\n",
       "      <th>EstimatedSalary</th>\n",
       "      <td>float64</td>\n",
       "      <td>Numerical</td>\n",
       "      <td>9999</td>\n",
       "      <td>[101348.88, 112542.58, 113931.57, 93826.63, 79...</td>\n",
       "      <td>0</td>\n",
       "      <td>0.0</td>\n",
       "    </tr>\n",
       "    <tr>\n",
       "      <th>Exited</th>\n",
       "      <td>int64</td>\n",
       "      <td>Numerical</td>\n",
       "      <td>2</td>\n",
       "      <td>[1, 0]</td>\n",
       "      <td>0</td>\n",
       "      <td>0.0</td>\n",
       "    </tr>\n",
       "  </tbody>\n",
       "</table>\n",
       "</div>"
      ],
      "text/plain": [
       "                data_type data_type_grp num_unique_values  \\\n",
       "RowNumber           int64     Numerical             10000   \n",
       "CustomerId          int64     Numerical             10000   \n",
       "Surname            object   Categorical              2932   \n",
       "CreditScore         int64     Numerical               460   \n",
       "Geography          object   Categorical                 3   \n",
       "Gender             object   Categorical                 2   \n",
       "Age                 int64     Numerical                70   \n",
       "Tenure            float64     Numerical                11   \n",
       "Balance           float64     Numerical              6382   \n",
       "NumOfProducts       int64     Numerical                 4   \n",
       "HasCrCard           int64     Numerical                 2   \n",
       "IsActiveMember      int64     Numerical                 2   \n",
       "EstimatedSalary   float64     Numerical              9999   \n",
       "Exited              int64     Numerical                 2   \n",
       "\n",
       "                                              sample_unique_values  \\\n",
       "RowNumber                          [1, 2, 3, 4, 5, 6, 7, 8, 9, 10]   \n",
       "CustomerId       [15634602, 15647311, 15619304, 15701354, 15737...   \n",
       "Surname          [Hargrave, Hill, Onio, Boni, Mitchell, Chu, Ba...   \n",
       "CreditScore      [619, 608, 502, 699, 850, 645, 822, 376, 501, ...   \n",
       "Geography                                 [France, Spain, Germany]   \n",
       "Gender                                              [Female, Male]   \n",
       "Age                       [42, 41, 39, 43, 44, 50, 29, 27, 31, 24]   \n",
       "Tenure           [2.0, 1.0, 8.0, 7.0, 4.0, 6.0, 3.0, 10.0, 5.0,...   \n",
       "Balance          [0.0, 83807.86, 159660.8, 125510.82, 113755.78...   \n",
       "NumOfProducts                                         [1, 3, 2, 4]   \n",
       "HasCrCard                                                   [1, 0]   \n",
       "IsActiveMember                                              [1, 0]   \n",
       "EstimatedSalary  [101348.88, 112542.58, 113931.57, 93826.63, 79...   \n",
       "Exited                                                      [1, 0]   \n",
       "\n",
       "                num_missing perc_missing  \n",
       "RowNumber                 0          0.0  \n",
       "CustomerId                0          0.0  \n",
       "Surname                   0          0.0  \n",
       "CreditScore               0          0.0  \n",
       "Geography                 0          0.0  \n",
       "Gender                    0          0.0  \n",
       "Age                       0          0.0  \n",
       "Tenure                  909         9.09  \n",
       "Balance                   0          0.0  \n",
       "NumOfProducts             0          0.0  \n",
       "HasCrCard                 0          0.0  \n",
       "IsActiveMember            0          0.0  \n",
       "EstimatedSalary           0          0.0  \n",
       "Exited                    0          0.0  "
      ]
     },
     "metadata": {},
     "output_type": "display_data"
    }
   ],
   "source": [
    "display(eda.df_info(raw_users))"
   ]
  },
  {
   "attachments": {},
   "cell_type": "markdown",
   "metadata": {},
   "source": [
    "Числовые распределения:"
   ]
  },
  {
   "cell_type": "code",
   "execution_count": 5,
   "metadata": {},
   "outputs": [
    {
     "data": {
      "text/html": [
       "<div>\n",
       "<style scoped>\n",
       "    .dataframe tbody tr th:only-of-type {\n",
       "        vertical-align: middle;\n",
       "    }\n",
       "\n",
       "    .dataframe tbody tr th {\n",
       "        vertical-align: top;\n",
       "    }\n",
       "\n",
       "    .dataframe thead th {\n",
       "        text-align: right;\n",
       "    }\n",
       "</style>\n",
       "<table border=\"1\" class=\"dataframe\">\n",
       "  <thead>\n",
       "    <tr style=\"text-align: right;\">\n",
       "      <th></th>\n",
       "      <th>count</th>\n",
       "      <th>mean</th>\n",
       "      <th>std</th>\n",
       "      <th>min</th>\n",
       "      <th>25%</th>\n",
       "      <th>50%</th>\n",
       "      <th>75%</th>\n",
       "      <th>max</th>\n",
       "    </tr>\n",
       "  </thead>\n",
       "  <tbody>\n",
       "    <tr>\n",
       "      <th>RowNumber</th>\n",
       "      <td>10000.0</td>\n",
       "      <td>5000.50</td>\n",
       "      <td>2886.90</td>\n",
       "      <td>1.00</td>\n",
       "      <td>2500.75</td>\n",
       "      <td>5000.50</td>\n",
       "      <td>7500.25</td>\n",
       "      <td>10000.00</td>\n",
       "    </tr>\n",
       "    <tr>\n",
       "      <th>CustomerId</th>\n",
       "      <td>10000.0</td>\n",
       "      <td>15690940.57</td>\n",
       "      <td>71936.19</td>\n",
       "      <td>15565701.00</td>\n",
       "      <td>15628528.25</td>\n",
       "      <td>15690738.00</td>\n",
       "      <td>15753233.75</td>\n",
       "      <td>15815690.00</td>\n",
       "    </tr>\n",
       "    <tr>\n",
       "      <th>CreditScore</th>\n",
       "      <td>10000.0</td>\n",
       "      <td>650.53</td>\n",
       "      <td>96.65</td>\n",
       "      <td>350.00</td>\n",
       "      <td>584.00</td>\n",
       "      <td>652.00</td>\n",
       "      <td>718.00</td>\n",
       "      <td>850.00</td>\n",
       "    </tr>\n",
       "    <tr>\n",
       "      <th>Age</th>\n",
       "      <td>10000.0</td>\n",
       "      <td>38.92</td>\n",
       "      <td>10.49</td>\n",
       "      <td>18.00</td>\n",
       "      <td>32.00</td>\n",
       "      <td>37.00</td>\n",
       "      <td>44.00</td>\n",
       "      <td>92.00</td>\n",
       "    </tr>\n",
       "    <tr>\n",
       "      <th>Tenure</th>\n",
       "      <td>9091.0</td>\n",
       "      <td>5.00</td>\n",
       "      <td>2.89</td>\n",
       "      <td>0.00</td>\n",
       "      <td>2.00</td>\n",
       "      <td>5.00</td>\n",
       "      <td>7.00</td>\n",
       "      <td>10.00</td>\n",
       "    </tr>\n",
       "    <tr>\n",
       "      <th>Balance</th>\n",
       "      <td>10000.0</td>\n",
       "      <td>76485.89</td>\n",
       "      <td>62397.41</td>\n",
       "      <td>0.00</td>\n",
       "      <td>0.00</td>\n",
       "      <td>97198.54</td>\n",
       "      <td>127644.24</td>\n",
       "      <td>250898.09</td>\n",
       "    </tr>\n",
       "    <tr>\n",
       "      <th>NumOfProducts</th>\n",
       "      <td>10000.0</td>\n",
       "      <td>1.53</td>\n",
       "      <td>0.58</td>\n",
       "      <td>1.00</td>\n",
       "      <td>1.00</td>\n",
       "      <td>1.00</td>\n",
       "      <td>2.00</td>\n",
       "      <td>4.00</td>\n",
       "    </tr>\n",
       "    <tr>\n",
       "      <th>HasCrCard</th>\n",
       "      <td>10000.0</td>\n",
       "      <td>0.71</td>\n",
       "      <td>0.46</td>\n",
       "      <td>0.00</td>\n",
       "      <td>0.00</td>\n",
       "      <td>1.00</td>\n",
       "      <td>1.00</td>\n",
       "      <td>1.00</td>\n",
       "    </tr>\n",
       "    <tr>\n",
       "      <th>IsActiveMember</th>\n",
       "      <td>10000.0</td>\n",
       "      <td>0.52</td>\n",
       "      <td>0.50</td>\n",
       "      <td>0.00</td>\n",
       "      <td>0.00</td>\n",
       "      <td>1.00</td>\n",
       "      <td>1.00</td>\n",
       "      <td>1.00</td>\n",
       "    </tr>\n",
       "    <tr>\n",
       "      <th>EstimatedSalary</th>\n",
       "      <td>10000.0</td>\n",
       "      <td>100090.24</td>\n",
       "      <td>57510.49</td>\n",
       "      <td>11.58</td>\n",
       "      <td>51002.11</td>\n",
       "      <td>100193.92</td>\n",
       "      <td>149388.25</td>\n",
       "      <td>199992.48</td>\n",
       "    </tr>\n",
       "    <tr>\n",
       "      <th>Exited</th>\n",
       "      <td>10000.0</td>\n",
       "      <td>0.20</td>\n",
       "      <td>0.40</td>\n",
       "      <td>0.00</td>\n",
       "      <td>0.00</td>\n",
       "      <td>0.00</td>\n",
       "      <td>0.00</td>\n",
       "      <td>1.00</td>\n",
       "    </tr>\n",
       "  </tbody>\n",
       "</table>\n",
       "</div>"
      ],
      "text/plain": [
       "                   count         mean       std          min          25%  \\\n",
       "RowNumber        10000.0      5000.50   2886.90         1.00      2500.75   \n",
       "CustomerId       10000.0  15690940.57  71936.19  15565701.00  15628528.25   \n",
       "CreditScore      10000.0       650.53     96.65       350.00       584.00   \n",
       "Age              10000.0        38.92     10.49        18.00        32.00   \n",
       "Tenure            9091.0         5.00      2.89         0.00         2.00   \n",
       "Balance          10000.0     76485.89  62397.41         0.00         0.00   \n",
       "NumOfProducts    10000.0         1.53      0.58         1.00         1.00   \n",
       "HasCrCard        10000.0         0.71      0.46         0.00         0.00   \n",
       "IsActiveMember   10000.0         0.52      0.50         0.00         0.00   \n",
       "EstimatedSalary  10000.0    100090.24  57510.49        11.58     51002.11   \n",
       "Exited           10000.0         0.20      0.40         0.00         0.00   \n",
       "\n",
       "                         50%          75%          max  \n",
       "RowNumber            5000.50      7500.25     10000.00  \n",
       "CustomerId       15690738.00  15753233.75  15815690.00  \n",
       "CreditScore           652.00       718.00       850.00  \n",
       "Age                    37.00        44.00        92.00  \n",
       "Tenure                  5.00         7.00        10.00  \n",
       "Balance             97198.54    127644.24    250898.09  \n",
       "NumOfProducts           1.00         2.00         4.00  \n",
       "HasCrCard               1.00         1.00         1.00  \n",
       "IsActiveMember          1.00         1.00         1.00  \n",
       "EstimatedSalary    100193.92    149388.25    199992.48  \n",
       "Exited                  0.00         0.00         1.00  "
      ]
     },
     "metadata": {},
     "output_type": "display_data"
    }
   ],
   "source": [
    "display(round(raw_users.describe().T, 2))"
   ]
  },
  {
   "attachments": {},
   "cell_type": "markdown",
   "metadata": {},
   "source": [
    "И детальный отчет:"
   ]
  },
  {
   "cell_type": "code",
   "execution_count": 6,
   "metadata": {},
   "outputs": [
    {
     "name": "stderr",
     "output_type": "stream",
     "text": [
      "Summarize dataset: 100%|██████████| 72/72 [00:07<00:00,  9.09it/s, Completed]                               \n",
      "Generate report structure: 100%|██████████| 1/1 [00:03<00:00,  3.98s/it]\n",
      "Render widgets:   0%|          | 0/1 [00:00<?, ?it/s]"
     ]
    },
    {
     "name": "stderr",
     "output_type": "stream",
     "text": [
      "                                                             \r"
     ]
    },
    {
     "data": {
      "application/vnd.jupyter.widget-view+json": {
       "model_id": "815bee09a1494a6f87e6f9f3c268086b",
       "version_major": 2,
       "version_minor": 0
      },
      "text/plain": [
       "VBox(children=(Tab(children=(Tab(children=(GridBox(children=(VBox(children=(GridspecLayout(children=(HTML(valu…"
      ]
     },
     "metadata": {},
     "output_type": "display_data"
    }
   ],
   "source": [
    "ProfileReport(raw_users).to_widgets()"
   ]
  },
  {
   "attachments": {},
   "cell_type": "markdown",
   "metadata": {},
   "source": [
    "Ключевые наблюдения из предварительного анализа набора данных:\n",
    "\n",
    "1. **Демографические данные клиентов**: Набор данных содержит информацию о 10 000 клиентах с различными характеристиками. Средний возраст клиентов составляет 39 лет, с разбросом от 18 до 92 лет. В наборе данных представлены клиенты из трех стран: Франции, Испании и Германии. Кроме того, присутствует почти равномерное распределение мужчин и женщин.\n",
    "\n",
    "2. **Финансовые показатели**: Набор данных включает финансовые метрики, такие как кредитные баллы, балансы счетов, количество продуктов и зарплаты. Средний кредитный балл составляет 651, что указывает на относительно хорошую кредитоспособность. Средний баланс счета составляет 76К долларов, с широким диапазоном значений. Клиенты имеют в среднем 1,53 продукта в банке, а зарплаты варьируются от 11 до 200К долларов.\n",
    "\n",
    "3. **Отток и вовлеченность**: Около 20% клиентов в наборе данных покинули или прекратили использовать услуги банка. Приблизительно 52% клиентов являются активными участниками, что указывает на умеренный уровень вовлеченности. Средняя продолжительность работы с клиентом составляет 5 лет, хотя в этой колонке есть пропущенных значений для некоторых записей.\n",
    "\n",
    "4. **Целевой признак**: У нас сть дисбаланс классов в целевом признаке `exited` - около 8К записей оставшихся пользователей и только 2К записей пользователей, которые перестали быть пользователями нашего банка. Это надо будет выровнять, чтобы избежать model bias."
   ]
  },
  {
   "attachments": {},
   "cell_type": "markdown",
   "metadata": {},
   "source": [
    "# Подготовка данных для ML\n",
    "\n",
    "Выполним эти преобразования на полном датасете:\n",
    "\n",
    "1. Уберем колонки, которые не нужны для моделей: `RowNumber`, `CustomerId`, `Surname`.\n",
    "2. Переведем колонку `gender` в бинарную: `1` - для мужчин и `0` - для женщин.\n",
    "3. Названия колонок приведем `snake_case` регистру\n",
    "\n",
    "И остальные после разделения на выборки, чтобы избежать data leakage:\n",
    "\n",
    "1. Заполним пропуски в `tenure`.\n",
    "2. Проведем `upsampling`.\n",
    "3. Проведем стандартизацию численных признаков.\n",
    "4. Проведем кодирование категориальных признаков. "
   ]
  },
  {
   "cell_type": "code",
   "execution_count": 7,
   "metadata": {},
   "outputs": [
    {
     "data": {
      "text/html": [
       "<div>\n",
       "<style scoped>\n",
       "    .dataframe tbody tr th:only-of-type {\n",
       "        vertical-align: middle;\n",
       "    }\n",
       "\n",
       "    .dataframe tbody tr th {\n",
       "        vertical-align: top;\n",
       "    }\n",
       "\n",
       "    .dataframe thead th {\n",
       "        text-align: right;\n",
       "    }\n",
       "</style>\n",
       "<table border=\"1\" class=\"dataframe\">\n",
       "  <thead>\n",
       "    <tr style=\"text-align: right;\">\n",
       "      <th></th>\n",
       "      <th>credit_score</th>\n",
       "      <th>geography</th>\n",
       "      <th>gender</th>\n",
       "      <th>age</th>\n",
       "      <th>tenure</th>\n",
       "      <th>balance</th>\n",
       "      <th>num_of_products</th>\n",
       "      <th>has_cr_card</th>\n",
       "      <th>is_active_member</th>\n",
       "      <th>estimated_salary</th>\n",
       "      <th>exited</th>\n",
       "    </tr>\n",
       "  </thead>\n",
       "  <tbody>\n",
       "    <tr>\n",
       "      <th>0</th>\n",
       "      <td>619</td>\n",
       "      <td>france</td>\n",
       "      <td>0</td>\n",
       "      <td>42</td>\n",
       "      <td>2.0</td>\n",
       "      <td>0.00</td>\n",
       "      <td>1</td>\n",
       "      <td>1</td>\n",
       "      <td>1</td>\n",
       "      <td>101348.88</td>\n",
       "      <td>1</td>\n",
       "    </tr>\n",
       "    <tr>\n",
       "      <th>1</th>\n",
       "      <td>608</td>\n",
       "      <td>spain</td>\n",
       "      <td>0</td>\n",
       "      <td>41</td>\n",
       "      <td>1.0</td>\n",
       "      <td>83807.86</td>\n",
       "      <td>1</td>\n",
       "      <td>0</td>\n",
       "      <td>1</td>\n",
       "      <td>112542.58</td>\n",
       "      <td>0</td>\n",
       "    </tr>\n",
       "    <tr>\n",
       "      <th>2</th>\n",
       "      <td>502</td>\n",
       "      <td>france</td>\n",
       "      <td>0</td>\n",
       "      <td>42</td>\n",
       "      <td>8.0</td>\n",
       "      <td>159660.80</td>\n",
       "      <td>3</td>\n",
       "      <td>1</td>\n",
       "      <td>0</td>\n",
       "      <td>113931.57</td>\n",
       "      <td>1</td>\n",
       "    </tr>\n",
       "    <tr>\n",
       "      <th>3</th>\n",
       "      <td>699</td>\n",
       "      <td>france</td>\n",
       "      <td>0</td>\n",
       "      <td>39</td>\n",
       "      <td>1.0</td>\n",
       "      <td>0.00</td>\n",
       "      <td>2</td>\n",
       "      <td>0</td>\n",
       "      <td>0</td>\n",
       "      <td>93826.63</td>\n",
       "      <td>0</td>\n",
       "    </tr>\n",
       "    <tr>\n",
       "      <th>4</th>\n",
       "      <td>850</td>\n",
       "      <td>spain</td>\n",
       "      <td>0</td>\n",
       "      <td>43</td>\n",
       "      <td>2.0</td>\n",
       "      <td>125510.82</td>\n",
       "      <td>1</td>\n",
       "      <td>1</td>\n",
       "      <td>1</td>\n",
       "      <td>79084.10</td>\n",
       "      <td>0</td>\n",
       "    </tr>\n",
       "  </tbody>\n",
       "</table>\n",
       "</div>"
      ],
      "text/plain": [
       "   credit_score geography  gender  age  tenure    balance  num_of_products  \\\n",
       "0           619    france       0   42     2.0       0.00                1   \n",
       "1           608     spain       0   41     1.0   83807.86                1   \n",
       "2           502    france       0   42     8.0  159660.80                3   \n",
       "3           699    france       0   39     1.0       0.00                2   \n",
       "4           850     spain       0   43     2.0  125510.82                1   \n",
       "\n",
       "   has_cr_card  is_active_member  estimated_salary  exited  \n",
       "0            1                 1         101348.88       1  \n",
       "1            0                 1         112542.58       0  \n",
       "2            1                 0         113931.57       1  \n",
       "3            0                 0          93826.63       0  \n",
       "4            1                 1          79084.10       0  "
      ]
     },
     "metadata": {},
     "output_type": "display_data"
    }
   ],
   "source": [
    "df_no_sampling = (\n",
    "    raw_users\n",
    "    .copy()\n",
    "    .drop(['RowNumber', 'CustomerId', 'Surname'], axis=1)\n",
    "    .replace({'Male': 1, 'Female': 0})\n",
    "    .rename(columns=lambda column: snakecase(column))\n",
    "    .assign(geography=lambda df: df.geography.str.lower())\n",
    ")\n",
    "\n",
    "display(df_no_sampling.head())"
   ]
  },
  {
   "attachments": {},
   "cell_type": "markdown",
   "metadata": {},
   "source": [
    "Выглядит адекватно.\n",
    "\n",
    "Дальше нам понадобится несколько функций для обработки данных. Первая - для разделенрия данных с использованием стратификации."
   ]
  },
  {
   "cell_type": "code",
   "execution_count": 8,
   "metadata": {},
   "outputs": [],
   "source": [
    "def split_data(df, target_column, test_size, valid_size, stratify_column):\n",
    "    \"\"\"\n",
    "    Splits a DataFrame into training, validation and test sets.\n",
    "    Args:\n",
    "        - df (pd.DataFrame): DataFrame to split.\n",
    "        - target_column (str): The name of the target column.\n",
    "        - test_size (float): The proportion of the dataset to include in the test split.\n",
    "        - valid_size (float): The proportion of the dataset to include in the validation split.\n",
    "        - stratify_column (str): The name of the column to use for stratification.\n",
    "    Returns:\n",
    "        - list: A list containing the training, validation, and test feature and target DataFrames/Series.\n",
    "    \"\"\"\n",
    "    df_train_valid, df_test, tgt_train_valid, tgt_test = train_test_split(\n",
    "        df.drop(target_column, axis=1), df[target_column],\n",
    "        test_size=test_size, stratify=df[stratify_column], random_state=RANDOM_SEED\n",
    "    )\n",
    "    df_train, df_valid, tgt_train, tgt_valid = train_test_split(\n",
    "        df_train_valid, tgt_train_valid,\n",
    "        test_size=(valid_size/(1-test_size)), stratify=tgt_train_valid, random_state=RANDOM_SEED\n",
    "    )\n",
    "\n",
    "    return [df_train, tgt_train, df_valid, tgt_valid, df_test, tgt_test]"
   ]
  },
  {
   "attachments": {},
   "cell_type": "markdown",
   "metadata": {},
   "source": [
    "Вторая - для `upsampling`."
   ]
  },
  {
   "cell_type": "code",
   "execution_count": 9,
   "metadata": {},
   "outputs": [],
   "source": [
    "def upsample_minority_class(ftr_train, tgt_train):\n",
    "    \"\"\"\n",
    "    Upsamples the minority class in the training data.\n",
    "    Args:\n",
    "        - ftr_train (pd.DataFrame): DataFrame containing the training features.\n",
    "        - tgt_train (pd.Series): Series containing the training targets.\n",
    "    Returns:\n",
    "        - pd.DataFrame: DataFrame containing the training features after downsampling.\n",
    "        - pd.Series: Series containing the training targets after downsampling.\n",
    "    \"\"\"\n",
    "    ftr_train_upsampled = pd.concat([\n",
    "        ftr_train[tgt_train==0],\n",
    "        resample(\n",
    "            ftr_train[tgt_train==1],\n",
    "            replace=True,\n",
    "            n_samples=len(ftr_train[tgt_train==0]),\n",
    "            random_state=RANDOM_SEED\n",
    "        )\n",
    "    ])\n",
    "\n",
    "    tgt_train_upsampled = pd.concat([\n",
    "        tgt_train[tgt_train==0],\n",
    "        pd.Series([1]*len(ftr_train[tgt_train==0]), index=ftr_train[tgt_train==0].index)\n",
    "    ])\n",
    "\n",
    "    return ftr_train_upsampled, tgt_train_upsampled"
   ]
  },
  {
   "attachments": {},
   "cell_type": "markdown",
   "metadata": {},
   "source": [
    "Третья - для `downsampling`."
   ]
  },
  {
   "cell_type": "code",
   "execution_count": 10,
   "metadata": {},
   "outputs": [],
   "source": [
    "def downsample_majority_class(ftr_train, tgt_train):\n",
    "    \"\"\"\n",
    "    Downsamples the majority class in the training data.\n",
    "    Args:\n",
    "        - ftr_train (pd.DataFrame): DataFrame containing the training features.\n",
    "        - tgt_train (pd.Series): Series containing the training targets.\n",
    "    Returns:\n",
    "        - pd.DataFrame: DataFrame containing the training features after downsampling.\n",
    "        - pd.Series: Series containing the training targets after downsampling.\n",
    "    \"\"\"\n",
    "    index_to_remove = resample(\n",
    "        ftr_train[tgt_train==0].index,\n",
    "        replace=False,\n",
    "        n_samples=len(ftr_train[tgt_train==0]) - len(ftr_train[tgt_train==1]),\n",
    "        random_state=RANDOM_SEED\n",
    "    )\n",
    "\n",
    "    ftr_train_downsampled = ftr_train.drop(index_to_remove)\n",
    "    tgt_train_downsampled = tgt_train.drop(index_to_remove)\n",
    "\n",
    "    return ftr_train_downsampled, tgt_train_downsampled"
   ]
  },
  {
   "attachments": {},
   "cell_type": "markdown",
   "metadata": {},
   "source": [
    "Наконец, для предобработки данных."
   ]
  },
  {
   "cell_type": "code",
   "execution_count": 11,
   "metadata": {},
   "outputs": [],
   "source": [
    "def preprocess_and_split_data(df, label):\n",
    "    \"\"\"\n",
    "    Preprocesses the data and splits it into training, validation and test sets.\n",
    "    Args:\n",
    "        - df (pd.DataFrame): DataFrame to preprocess and split.\n",
    "        - label (str): Label for the dictionary to hold the split data.\n",
    "    Returns:\n",
    "        - dict: Dictionary containing preprocessed and split data.\n",
    "    \"\"\"\n",
    "    splits = split_data(\n",
    "        df=df, target_column='exited', \n",
    "        test_size=0.15, valid_size=0.15, stratify_column='exited', \n",
    "    )\n",
    "\n",
    "    if label == 'upsampled':\n",
    "        splits[0], splits[1] = upsample_minority_class(splits[0], splits[1])\n",
    "    elif label == 'downsampled':\n",
    "        splits[0], splits[1] = downsample_majority_class(splits[0], splits[1])\n",
    "\n",
    "    data_splits = dict(zip(split_keys, splits))\n",
    "    \n",
    "    preprocessor.fit(data_splits['ftr_train'])\n",
    "\n",
    "    for subset in split_keys:\n",
    "        if 'ftr' in subset:\n",
    "            data_transformed = preprocessor.transform(data_splits[subset])\n",
    "            \n",
    "            columns_transformed = num_cols + list(\n",
    "                preprocessor.named_transformers_['cat']['encoder'].get_feature_names_out(cat_cols)\n",
    "            )\n",
    "            df_transformed = pd.DataFrame(\n",
    "                data_transformed, columns=columns_transformed\n",
    "            )\n",
    "            df_transformed = pd.concat(\n",
    "                [df_transformed, data_splits[subset][bin_cols].reset_index(drop=True)], axis=1\n",
    "            )\n",
    "\n",
    "            data_splits[subset] = df_transformed\n",
    "\n",
    "    return data_splits"
   ]
  },
  {
   "attachments": {},
   "cell_type": "markdown",
   "metadata": {},
   "source": [
    "Разделим датасеты на выборки и выполним остальные преобразовния."
   ]
  },
  {
   "cell_type": "code",
   "execution_count": 12,
   "metadata": {},
   "outputs": [],
   "source": [
    "split_keys = ['ftr_train', 'tgt_train', 'ftr_valid', 'tgt_valid', 'ftr_test', 'tgt_test']\n",
    "num_cols = ['credit_score', 'age', 'tenure', 'balance', 'num_of_products', 'estimated_salary']\n",
    "cat_cols = ['geography']\n",
    "bin_cols = ['has_cr_card', 'is_active_member', 'gender']\n",
    "\n",
    "num_pipeline = Pipeline([\n",
    "    ('imputer', SimpleImputer(strategy='median')),\n",
    "    ('scaler', StandardScaler()),\n",
    "])\n",
    "\n",
    "cat_pipeline = Pipeline([\n",
    "    ('encoder', OneHotEncoder(handle_unknown='ignore')),\n",
    "])\n",
    "\n",
    "preprocessor = ColumnTransformer([\n",
    "    ('num', num_pipeline, num_cols),\n",
    "    ('cat', cat_pipeline, cat_cols),\n",
    "])\n",
    "\n",
    "data_splits = {\n",
    "    'no_sampling': preprocess_and_split_data(df_no_sampling, 'no_sampling'),\n",
    "    'upsampled': preprocess_and_split_data(df_no_sampling, 'upsampled'),\n",
    "    'downsampled': preprocess_and_split_data(df_no_sampling, 'downsampled')\n",
    "}"
   ]
  },
  {
   "attachments": {},
   "cell_type": "markdown",
   "metadata": {},
   "source": [
    "Проверим, как сбалансировались классы."
   ]
  },
  {
   "cell_type": "code",
   "execution_count": 13,
   "metadata": {},
   "outputs": [
    {
     "name": "stdout",
     "output_type": "stream",
     "text": [
      "----------------------------------------\n",
      "Exited without resampling distribution, #:\n",
      "0    5574\n",
      "1    1426\n",
      "Name: exited, dtype: int64\n",
      "----------------------------------------\n",
      "----------------------------------------\n",
      "Exited with upsampling distribution, #:\n",
      "0    5574\n",
      "1    5574\n",
      "dtype: int64\n",
      "----------------------------------------\n",
      "----------------------------------------\n",
      "Exited with downsampling distribution, #:\n",
      "0    1426\n",
      "1    1426\n",
      "Name: exited, dtype: int64\n",
      "----------------------------------------\n"
     ]
    }
   ],
   "source": [
    "def print_class_distribution(column, label):\n",
    "    print(\n",
    "        f\"{'-' * 40}\\n{label} distribution, #:\\n{column.value_counts()}\\n{'-' * 40}\"\n",
    "    )\n",
    "\n",
    "print_class_distribution(data_splits['no_sampling']['tgt_train'], 'Exited without resampling')\n",
    "print_class_distribution(data_splits['upsampled']['tgt_train'], 'Exited with upsampling')\n",
    "print_class_distribution(data_splits['downsampled']['tgt_train'], 'Exited with downsampling')"
   ]
  },
  {
   "attachments": {},
   "cell_type": "markdown",
   "metadata": {},
   "source": [
    "Теперь в `'upasmpled'` и `'downsampled'` датасетах классы сбалансированы.\n",
    "\n",
    "Проверим, как выглядит один из датасетов."
   ]
  },
  {
   "cell_type": "code",
   "execution_count": 14,
   "metadata": {},
   "outputs": [
    {
     "data": {
      "text/html": [
       "<div>\n",
       "<style scoped>\n",
       "    .dataframe tbody tr th:only-of-type {\n",
       "        vertical-align: middle;\n",
       "    }\n",
       "\n",
       "    .dataframe tbody tr th {\n",
       "        vertical-align: top;\n",
       "    }\n",
       "\n",
       "    .dataframe thead th {\n",
       "        text-align: right;\n",
       "    }\n",
       "</style>\n",
       "<table border=\"1\" class=\"dataframe\">\n",
       "  <thead>\n",
       "    <tr style=\"text-align: right;\">\n",
       "      <th></th>\n",
       "      <th>credit_score</th>\n",
       "      <th>age</th>\n",
       "      <th>tenure</th>\n",
       "      <th>balance</th>\n",
       "      <th>num_of_products</th>\n",
       "      <th>estimated_salary</th>\n",
       "      <th>geography_france</th>\n",
       "      <th>geography_germany</th>\n",
       "      <th>geography_spain</th>\n",
       "      <th>has_cr_card</th>\n",
       "      <th>is_active_member</th>\n",
       "      <th>gender</th>\n",
       "    </tr>\n",
       "  </thead>\n",
       "  <tbody>\n",
       "    <tr>\n",
       "      <th>0</th>\n",
       "      <td>0.604610</td>\n",
       "      <td>-0.086317</td>\n",
       "      <td>-0.718147</td>\n",
       "      <td>0.872277</td>\n",
       "      <td>-0.906681</td>\n",
       "      <td>0.962096</td>\n",
       "      <td>1.0</td>\n",
       "      <td>0.0</td>\n",
       "      <td>0.0</td>\n",
       "      <td>1</td>\n",
       "      <td>1</td>\n",
       "      <td>1</td>\n",
       "    </tr>\n",
       "    <tr>\n",
       "      <th>1</th>\n",
       "      <td>0.894115</td>\n",
       "      <td>-0.086317</td>\n",
       "      <td>0.005948</td>\n",
       "      <td>1.634673</td>\n",
       "      <td>-0.906681</td>\n",
       "      <td>-1.401904</td>\n",
       "      <td>0.0</td>\n",
       "      <td>0.0</td>\n",
       "      <td>1.0</td>\n",
       "      <td>0</td>\n",
       "      <td>1</td>\n",
       "      <td>1</td>\n",
       "    </tr>\n",
       "    <tr>\n",
       "      <th>2</th>\n",
       "      <td>0.490876</td>\n",
       "      <td>-1.614778</td>\n",
       "      <td>1.454139</td>\n",
       "      <td>0.369733</td>\n",
       "      <td>-0.906681</td>\n",
       "      <td>-0.547571</td>\n",
       "      <td>1.0</td>\n",
       "      <td>0.0</td>\n",
       "      <td>0.0</td>\n",
       "      <td>1</td>\n",
       "      <td>0</td>\n",
       "      <td>1</td>\n",
       "    </tr>\n",
       "    <tr>\n",
       "      <th>3</th>\n",
       "      <td>-0.046776</td>\n",
       "      <td>0.200269</td>\n",
       "      <td>-1.442243</td>\n",
       "      <td>0.153721</td>\n",
       "      <td>2.531438</td>\n",
       "      <td>1.556949</td>\n",
       "      <td>0.0</td>\n",
       "      <td>1.0</td>\n",
       "      <td>0.0</td>\n",
       "      <td>1</td>\n",
       "      <td>0</td>\n",
       "      <td>0</td>\n",
       "    </tr>\n",
       "    <tr>\n",
       "      <th>4</th>\n",
       "      <td>1.028528</td>\n",
       "      <td>0.868971</td>\n",
       "      <td>-0.356100</td>\n",
       "      <td>-1.227786</td>\n",
       "      <td>-0.906681</td>\n",
       "      <td>-1.211556</td>\n",
       "      <td>1.0</td>\n",
       "      <td>0.0</td>\n",
       "      <td>0.0</td>\n",
       "      <td>0</td>\n",
       "      <td>1</td>\n",
       "      <td>0</td>\n",
       "    </tr>\n",
       "  </tbody>\n",
       "</table>\n",
       "</div>"
      ],
      "text/plain": [
       "   credit_score       age    tenure   balance  num_of_products  \\\n",
       "0      0.604610 -0.086317 -0.718147  0.872277        -0.906681   \n",
       "1      0.894115 -0.086317  0.005948  1.634673        -0.906681   \n",
       "2      0.490876 -1.614778  1.454139  0.369733        -0.906681   \n",
       "3     -0.046776  0.200269 -1.442243  0.153721         2.531438   \n",
       "4      1.028528  0.868971 -0.356100 -1.227786        -0.906681   \n",
       "\n",
       "   estimated_salary  geography_france  geography_germany  geography_spain  \\\n",
       "0          0.962096               1.0                0.0              0.0   \n",
       "1         -1.401904               0.0                0.0              1.0   \n",
       "2         -0.547571               1.0                0.0              0.0   \n",
       "3          1.556949               0.0                1.0              0.0   \n",
       "4         -1.211556               1.0                0.0              0.0   \n",
       "\n",
       "   has_cr_card  is_active_member  gender  \n",
       "0            1                 1       1  \n",
       "1            0                 1       1  \n",
       "2            1                 0       1  \n",
       "3            1                 0       0  \n",
       "4            0                 1       0  "
      ]
     },
     "execution_count": 14,
     "metadata": {},
     "output_type": "execute_result"
    }
   ],
   "source": [
    "data_splits['no_sampling']['ftr_valid'].head()"
   ]
  },
  {
   "attachments": {},
   "cell_type": "markdown",
   "metadata": {},
   "source": [
    "В этом скрипте мы успешно обработали три набора данных, `no_sampling`, `upsampled` и `downsampled`. На первом этапе были определены переменные и настроен предпроцессор предварительной обработки для числовых и категориальных столбцов, бинарные столбцы остались без изменений.\n",
    "\n",
    "Основной цикл скрипта выполняет три основные задачи для каждого набора данных:\n",
    "\n",
    "1. Разделение данных: Используется функция `split_data`, чтобы разделить каждый набор данных на обучающие, валидационные и тестовые подмножества.\n",
    "\n",
    "2. Подгонка препроцессора: Препроцессор обучается только на `train` данных. Это включает в себя изучение параметров для `imputation` наиболее часто встречающихся значений и стандартного масштабирования.\n",
    "\n",
    "3. Трансформация данных: Используя подготовленный препроцессор, трансформируются признаки для каждого набора и типа колонок.\n",
    "\n",
    "После выполнения этого скрипта у нас есть все подмножества данных, готовые для дальнейшего обучения модели и оценки."
   ]
  },
  {
   "attachments": {},
   "cell_type": "markdown",
   "metadata": {},
   "source": [
    "# ML модели\n",
    "\n",
    "## Функции для анализа\n",
    "\n",
    "Перейдем к обучению моделей. Воспользуемся библиотекой `optuna` чтобы найти оптимальную модель.\n",
    "\n",
    "Для начала - сделаем функцию, которая будет выбирать для нас лучшую модель."
   ]
  },
  {
   "cell_type": "code",
   "execution_count": 15,
   "metadata": {},
   "outputs": [],
   "source": [
    "def get_study(dataset: str, n_trials: int):\n",
    "    \"\"\"\n",
    "    Trains and optimizes Logistic Regression, Decision Tree, and Random Forest models using Optuna.\n",
    "\n",
    "    Args:\n",
    "        - dataset (str): The label of the dataset to use from the \n",
    "          `data_splits` dictionary('no_sampling' or 'upsampled').\n",
    "        - n_trials (int): The number of trials for Optuna optimization.\n",
    "\n",
    "    Returns:\n",
    "        - An Optuna study object, containing the optimal model and its parameters.\n",
    "    \"\"\"\n",
    "    \n",
    "    def objective(trial):\n",
    "        classifier_name = trial.suggest_categorical(\n",
    "            'classifier', ['LogisticRegression', 'DecisionTree', 'RandomForest']\n",
    "        )\n",
    "        \n",
    "        # Suggest parameters based on the classifier\n",
    "        if classifier_name == 'LogisticRegression':\n",
    "            lr_c = trial.suggest_float('lr_c', 1e-6, 1e6, log=True)\n",
    "            classifier_obj = LogisticRegression(\n",
    "                C=lr_c, random_state=RANDOM_SEED\n",
    "            )\n",
    "        elif classifier_name == 'DecisionTree':\n",
    "            dt_max_depth = trial.suggest_int('dt_max_depth', 1, 50)\n",
    "            classifier_obj = DecisionTreeClassifier(\n",
    "                max_depth=dt_max_depth, random_state=RANDOM_SEED\n",
    "            )\n",
    "        elif classifier_name == 'RandomForest':\n",
    "            rf_max_depth = trial.suggest_int('rf_max_depth', 1, 100)\n",
    "            rf_n_estimators = trial.suggest_int('rf_n_estimators', 100, 1000)\n",
    "            classifier_obj = RandomForestClassifier(\n",
    "                max_depth=rf_max_depth,\n",
    "                n_estimators=rf_n_estimators,\n",
    "                random_state=RANDOM_SEED\n",
    "            )\n",
    "            \n",
    "        classifier_obj.fit(data_splits[dataset]['ftr_train'], data_splits[dataset]['tgt_train'])\n",
    "        \n",
    "        prediction = classifier_obj.predict(data_splits[dataset]['ftr_valid'])\n",
    "        \n",
    "        f1 = f1_score(data_splits[dataset]['tgt_valid'], prediction)\n",
    "        \n",
    "        return round(f1, 3)\n",
    "\n",
    "    optuna.logging.set_verbosity(optuna.logging.WARNING)\n",
    "    study = optuna.create_study(direction='maximize', sampler=optuna.samplers.TPESampler(seed=RANDOM_SEED))\n",
    "    study.optimize(objective, n_trials=n_trials)\n",
    "    \n",
    "    return study"
   ]
  },
  {
   "attachments": {},
   "cell_type": "markdown",
   "metadata": {},
   "source": [
    "Теперь функцию, которая посчитает метрики для модели."
   ]
  },
  {
   "cell_type": "code",
   "execution_count": 16,
   "metadata": {},
   "outputs": [],
   "source": [
    "def evaluate_best_model(dataset: str, study: optuna.study.Study) -> dict[str, float]:\n",
    "    \"\"\"\n",
    "    Given a dataset label (key in the data_splits dictionary) and an Optuna study object,\n",
    "    this function retrieves the best model parameters from the study, instantiates a new\n",
    "    model with these parameters, makes predictions on the validation subset,\n",
    "    and calculates and returns the F1 score and ROC AUC score.\n",
    "\n",
    "    Args:\n",
    "        - dataset (str): Label of the dataset to use (should be a key in the data_splits dictionary).\n",
    "        - study (optuna.study.Study): Optuna study object containing the results of model optimization.\n",
    "\n",
    "    Returns:\n",
    "        - dict: A dictionary with the F1 score and ROC AUC score for the validation subset.\n",
    "        - sklearn Estimator: The best fitted model.\n",
    "    \"\"\"\n",
    "    \n",
    "    best_params = study.best_params\n",
    "\n",
    "    if best_params['classifier'] == 'LogisticRegression':\n",
    "        best_model = LogisticRegression(\n",
    "            C=best_params['lr_c'], random_state=RANDOM_SEED\n",
    "        )\n",
    "    elif best_params['classifier'] == 'DecisionTree':\n",
    "        best_model = DecisionTreeClassifier(\n",
    "            max_depth=best_params['dt_max_depth'], random_state=RANDOM_SEED\n",
    "        )\n",
    "    elif best_params['classifier'] == 'RandomForest':\n",
    "        best_model = RandomForestClassifier(\n",
    "            max_depth=best_params['rf_max_depth'],\n",
    "            n_estimators=best_params['rf_n_estimators'],\n",
    "            random_state=RANDOM_SEED\n",
    "        )\n",
    "\n",
    "    best_model.fit(data_splits[dataset]['ftr_train'], data_splits[dataset]['tgt_train'])\n",
    "\n",
    "    pred_valid = best_model.predict(data_splits[dataset]['ftr_valid'])\n",
    "    pred_proba_valid = best_model.predict_proba(data_splits[dataset]['ftr_valid'])[:, 1]\n",
    "\n",
    "    f1_valid = f1_score(data_splits[dataset]['tgt_valid'], pred_valid)\n",
    "    roc_auc_valid = roc_auc_score(data_splits[dataset]['tgt_valid'], pred_proba_valid)\n",
    "\n",
    "    return {\n",
    "        'valid_f1': f1_valid,\n",
    "        'valid_roc_auc': roc_auc_valid,\n",
    "    }, best_model"
   ]
  },
  {
   "attachments": {},
   "cell_type": "markdown",
   "metadata": {},
   "source": [
    "Выведет метрики."
   ]
  },
  {
   "cell_type": "code",
   "execution_count": 17,
   "metadata": {},
   "outputs": [],
   "source": [
    "def print_best_params_and_metrics(best_params: dict, metrics: dict):\n",
    "    \"\"\"\n",
    "    Prints the best parameters of the model and the performance metrics.\n",
    "\n",
    "    Args:\n",
    "        - best_params (dict): Dictionary of the best parameters from the model.\n",
    "        - metrics (dict): Dictionary of performance metrics.\n",
    "\n",
    "    Returns:\n",
    "        - None\n",
    "    \"\"\"\n",
    "    print('The best model parameters are:')\n",
    "    for param, value in best_params.items():\n",
    "        print(f\"{param}: {value}\")\n",
    "\n",
    "    print('\\nThe performance metrics of the model are:')\n",
    "    for metric, value in metrics.items():\n",
    "        print(f\"{metric}: {value:.4f}\")"
   ]
  },
  {
   "attachments": {},
   "cell_type": "markdown",
   "metadata": {},
   "source": [
    "Сделает сводный датафрейм."
   ]
  },
  {
   "cell_type": "code",
   "execution_count": 18,
   "metadata": {},
   "outputs": [],
   "source": [
    "def create_summary(studies: dict, evaluations: dict):\n",
    "    \"\"\"\n",
    "    Create a summary dataframe from studies and evaluations dictionaries.\n",
    "\n",
    "    Args:\n",
    "        - studies (dict): Dictionary containing Optuna studies.\n",
    "        - evaluations (dict): Dictionary containing evaluation results for each study.\n",
    "\n",
    "    Returns:\n",
    "        - pd.DataFrame: DataFrame summarizing the studies and their evaluation results.\n",
    "    \"\"\"\n",
    "\n",
    "    data = {}\n",
    "\n",
    "    for label in studies.keys():\n",
    "        study_params = studies[label].best_params\n",
    "        evaluation_metrics = evaluations[label][0]\n",
    "\n",
    "        # Combine the study parameters and evaluation metrics into one dictionary\n",
    "        data[label] = {**study_params, **evaluation_metrics}\n",
    "\n",
    "    df_summary = pd.DataFrame(data).transpose()\n",
    "\n",
    "    return df_summary"
   ]
  },
  {
   "attachments": {},
   "cell_type": "markdown",
   "metadata": {},
   "source": [
    "Нарисует график `ROC AUC`."
   ]
  },
  {
   "cell_type": "code",
   "execution_count": 19,
   "metadata": {},
   "outputs": [],
   "source": [
    "def plot_roc_auc(data_splits: dict, models: dict, dataset_type: str, title: str, label: str=None) -> go.Figure:\n",
    "    \"\"\"\n",
    "    Plots ROC curves for the given datasets using Plotly.\n",
    "\n",
    "    Args:\n",
    "        - data_splits (dict): Dictionary where keys are types of data split ('train', 'valid', 'test')\n",
    "          and values are tuples containing feature DataFrame and target Series for the given split.\n",
    "        - models (dict): Dictionary where keys are model labels (matching keys in 'data_splits') \n",
    "          and values are trained model objects.\n",
    "        - dataset_type (str): List of types of datasets to plot ('train', 'valid', 'test').\n",
    "        - title (str): Title of the plot.\n",
    "        - label (str, optional): Specific key from 'data_splits' and 'models' to use. If None, all keys are used.\n",
    "\n",
    "    Returns:\n",
    "        - fig (go.Figure): Plotly figure with ROC curves.\n",
    "    \"\"\"\n",
    "    fig = go.Figure()\n",
    "\n",
    "    labels = [label] if label else models.keys()\n",
    "\n",
    "    for label in labels:\n",
    "        best_model = models[label]\n",
    "        \n",
    "        ftr_data = data_splits[label]['ftr_' + dataset_type]\n",
    "        tgt_data = data_splits[label]['tgt_' + dataset_type]\n",
    "\n",
    "        probas = best_model.predict_proba(ftr_data)\n",
    "        fpr, tpr, _ = roc_curve(tgt_data, probas[:, 1])\n",
    "        roc_auc = auc(fpr, tpr)\n",
    "\n",
    "        fig.add_trace(\n",
    "            go.Scatter(\n",
    "                x=fpr, y=tpr,\n",
    "                mode='lines',\n",
    "                name=f'{label} ROC (AUC = {roc_auc:.2f})'\n",
    "            )\n",
    "        )\n",
    "\n",
    "    fig.add_trace(\n",
    "        go.Scatter(\n",
    "            x=[0, 1], y=[0, 1],\n",
    "            mode='lines',\n",
    "            name='No skill',\n",
    "            line=dict(dash='dash', color='black')\n",
    "        )\n",
    "    )\n",
    "\n",
    "    fig.update_layout(\n",
    "        xaxis_title='False positive rate',\n",
    "        yaxis_title='True positive rate',\n",
    "        width=FIG_WIDTH, height=FIG_HEIGHT * 1.5,\n",
    "        title=title,\n",
    "        template='plotly_white'\n",
    "    )\n",
    "\n",
    "    return fig"
   ]
  },
  {
   "attachments": {},
   "cell_type": "markdown",
   "metadata": {},
   "source": [
    "И покажет результаты `optuna`."
   ]
  },
  {
   "cell_type": "code",
   "execution_count": 20,
   "metadata": {},
   "outputs": [],
   "source": [
    "def plot_study_results(label: str, studies: dict, evaluations: dict):\n",
    "    \"\"\"\n",
    "    Plots the results for a given study.\n",
    "\n",
    "    Args:\n",
    "        - label (str): Label of the study to plot (should be a key in the studies and evaluations dictionaries).\n",
    "        - studies (dict): Dictionary containing Optuna studies.\n",
    "        - evaluations (dict): Dictionary containing valuation results for each study.\n",
    "\n",
    "    Returns:\n",
    "        - None\n",
    "    \"\"\"\n",
    "    print_best_params_and_metrics(studies[label].best_params, evaluations[label][0])\n",
    "\n",
    "    fig = optuna.visualization.plot_optimization_history(studies[label])\n",
    "    fig.update_layout(template='plotly_white', width=FIG_WIDTH, height=FIG_HEIGHT)\n",
    "    fig.show()\n",
    "\n",
    "    fig = optuna.visualization.plot_slice(studies[label])\n",
    "    fig.update_layout(template='plotly_white', width=FIG_WIDTH, height=FIG_HEIGHT)\n",
    "    fig.update_xaxes(tickangle=-90)\n",
    "    fig.show()"
   ]
  },
  {
   "attachments": {},
   "cell_type": "markdown",
   "metadata": {},
   "source": [
    "## Проверка метрик\n",
    "\n",
    "В этой секции посмотрим на метрики, которые у нас получились для `no_sampling`, `downsampled` и `upsampled`.\n",
    "\n",
    "### Резюме\n",
    "\n",
    "Сведем результаты в отдельные переменные."
   ]
  },
  {
   "cell_type": "code",
   "execution_count": 21,
   "metadata": {},
   "outputs": [],
   "source": [
    "studies = {\n",
    "    'no_sampling': get_study('no_sampling', n_trials=10),\n",
    "    'downsampled': get_study('downsampled', n_trials=10),\n",
    "    'upsampled': get_study('upsampled', n_trials=10),\n",
    "}\n",
    "\n",
    "evaluations = {\n",
    "    'no_sampling': evaluate_best_model('no_sampling', studies['no_sampling']),\n",
    "    'downsampled': evaluate_best_model('downsampled', studies['downsampled']),\n",
    "    'upsampled': evaluate_best_model('upsampled', studies['upsampled']),\n",
    "}\n",
    "\n",
    "models = {\n",
    "    'no_sampling': evaluations['no_sampling'][1],\n",
    "    'downsampled': evaluations['downsampled'][1],\n",
    "    'upsampled': evaluations['upsampled'][1],\n",
    "}"
   ]
  },
  {
   "attachments": {},
   "cell_type": "markdown",
   "metadata": {},
   "source": [
    "Покажем результаты."
   ]
  },
  {
   "cell_type": "code",
   "execution_count": 22,
   "metadata": {},
   "outputs": [
    {
     "data": {
      "text/html": [
       "<div>\n",
       "<style scoped>\n",
       "    .dataframe tbody tr th:only-of-type {\n",
       "        vertical-align: middle;\n",
       "    }\n",
       "\n",
       "    .dataframe tbody tr th {\n",
       "        vertical-align: top;\n",
       "    }\n",
       "\n",
       "    .dataframe thead th {\n",
       "        text-align: right;\n",
       "    }\n",
       "</style>\n",
       "<table border=\"1\" class=\"dataframe\">\n",
       "  <thead>\n",
       "    <tr style=\"text-align: right;\">\n",
       "      <th></th>\n",
       "      <th>classifier</th>\n",
       "      <th>rf_max_depth</th>\n",
       "      <th>rf_n_estimators</th>\n",
       "      <th>valid_f1</th>\n",
       "      <th>valid_roc_auc</th>\n",
       "    </tr>\n",
       "  </thead>\n",
       "  <tbody>\n",
       "    <tr>\n",
       "      <th>no_sampling</th>\n",
       "      <td>RandomForest</td>\n",
       "      <td>18</td>\n",
       "      <td>158</td>\n",
       "      <td>0.603175</td>\n",
       "      <td>0.86377</td>\n",
       "    </tr>\n",
       "    <tr>\n",
       "      <th>downsampled</th>\n",
       "      <td>RandomForest</td>\n",
       "      <td>18</td>\n",
       "      <td>158</td>\n",
       "      <td>0.607235</td>\n",
       "      <td>0.858571</td>\n",
       "    </tr>\n",
       "    <tr>\n",
       "      <th>upsampled</th>\n",
       "      <td>RandomForest</td>\n",
       "      <td>18</td>\n",
       "      <td>158</td>\n",
       "      <td>0.620321</td>\n",
       "      <td>0.85871</td>\n",
       "    </tr>\n",
       "  </tbody>\n",
       "</table>\n",
       "</div>"
      ],
      "text/plain": [
       "               classifier rf_max_depth rf_n_estimators  valid_f1 valid_roc_auc\n",
       "no_sampling  RandomForest           18             158  0.603175       0.86377\n",
       "downsampled  RandomForest           18             158  0.607235      0.858571\n",
       "upsampled    RandomForest           18             158  0.620321       0.85871"
      ]
     },
     "metadata": {},
     "output_type": "display_data"
    }
   ],
   "source": [
    "display(create_summary(studies, evaluations))"
   ]
  },
  {
   "cell_type": "code",
   "execution_count": 23,
   "metadata": {},
   "outputs": [
    {
     "data": {
      "application/vnd.plotly.v1+json": {
       "config": {
        "plotlyServerURL": "https://plot.ly"
       },
       "data": [
        {
         "mode": "lines",
         "name": "no_sampling ROC (AUC = 0.86)",
         "type": "scatter",
         "x": [
          0,
          0,
          0,
          0,
          0,
          0,
          0,
          0,
          0,
          0,
          0.0008368200836820083,
          0.0008368200836820083,
          0.0008368200836820083,
          0.0008368200836820083,
          0.0008368200836820083,
          0.0008368200836820083,
          0.0008368200836820083,
          0.0016736401673640166,
          0.0016736401673640166,
          0.0016736401673640166,
          0.0016736401673640166,
          0.0016736401673640166,
          0.0016736401673640166,
          0.002510460251046025,
          0.002510460251046025,
          0.0033472803347280333,
          0.0033472803347280333,
          0.0041841004184100415,
          0.0041841004184100415,
          0.0041841004184100415,
          0.0041841004184100415,
          0.0041841004184100415,
          0.0041841004184100415,
          0.0041841004184100415,
          0.0041841004184100415,
          0.00502092050209205,
          0.00502092050209205,
          0.00502092050209205,
          0.0066945606694560665,
          0.0066945606694560665,
          0.007531380753138075,
          0.007531380753138075,
          0.008368200836820083,
          0.008368200836820083,
          0.008368200836820083,
          0.008368200836820083,
          0.008368200836820083,
          0.008368200836820083,
          0.009205020920502092,
          0.009205020920502092,
          0.0100418410041841,
          0.0100418410041841,
          0.010878661087866108,
          0.010878661087866108,
          0.011715481171548118,
          0.011715481171548118,
          0.011715481171548118,
          0.012552301255230125,
          0.012552301255230125,
          0.013389121338912133,
          0.013389121338912133,
          0.014225941422594143,
          0.014225941422594143,
          0.01506276150627615,
          0.016736401673640166,
          0.016736401673640166,
          0.017573221757322177,
          0.017573221757322177,
          0.018410041841004185,
          0.018410041841004185,
          0.0200836820083682,
          0.0200836820083682,
          0.02092050209205021,
          0.02092050209205021,
          0.024267782426778243,
          0.02510460251046025,
          0.02510460251046025,
          0.02594142259414226,
          0.02594142259414226,
          0.026778242677824266,
          0.026778242677824266,
          0.027615062761506277,
          0.027615062761506277,
          0.027615062761506277,
          0.029288702928870293,
          0.029288702928870293,
          0.031799163179916316,
          0.032635983263598324,
          0.03430962343096234,
          0.03430962343096234,
          0.035146443514644354,
          0.035146443514644354,
          0.03933054393305439,
          0.03933054393305439,
          0.0401673640167364,
          0.0401673640167364,
          0.04100418410041841,
          0.04100418410041841,
          0.042677824267782424,
          0.042677824267782424,
          0.04351464435146443,
          0.04351464435146443,
          0.04435146443514645,
          0.04435146443514645,
          0.04686192468619247,
          0.04686192468619247,
          0.048535564853556486,
          0.048535564853556486,
          0.0502092050209205,
          0.05188284518828452,
          0.05188284518828452,
          0.05606694560669456,
          0.05606694560669456,
          0.05690376569037657,
          0.05690376569037657,
          0.05774058577405858,
          0.058577405857740586,
          0.058577405857740586,
          0.0602510460251046,
          0.0602510460251046,
          0.06108786610878661,
          0.06108786610878661,
          0.06527196652719665,
          0.06527196652719665,
          0.06778242677824267,
          0.06778242677824267,
          0.06861924686192468,
          0.06861924686192468,
          0.07029288702928871,
          0.07029288702928871,
          0.07112970711297072,
          0.07112970711297072,
          0.07364016736401674,
          0.07364016736401674,
          0.07531380753138076,
          0.07531380753138076,
          0.07698744769874477,
          0.07866108786610879,
          0.07866108786610879,
          0.0794979079497908,
          0.08117154811715481,
          0.08451882845188284,
          0.08451882845188284,
          0.08619246861924686,
          0.0887029288702929,
          0.09121338912133892,
          0.09623430962343096,
          0.09623430962343096,
          0.09707112970711297,
          0.09790794979079498,
          0.09790794979079498,
          0.100418410041841,
          0.100418410041841,
          0.10209205020920502,
          0.10292887029288703,
          0.10292887029288703,
          0.10543933054393305,
          0.10543933054393305,
          0.10627615062761506,
          0.10627615062761506,
          0.1096234309623431,
          0.1096234309623431,
          0.11046025104602511,
          0.11129707112970712,
          0.11297071129707113,
          0.11297071129707113,
          0.11380753138075314,
          0.11380753138075314,
          0.11882845188284519,
          0.1196652719665272,
          0.12133891213389121,
          0.12133891213389121,
          0.12552301255230125,
          0.12552301255230125,
          0.12635983263598327,
          0.12635983263598327,
          0.12719665271966527,
          0.12887029288702928,
          0.13305439330543933,
          0.13305439330543933,
          0.1414225941422594,
          0.1414225941422594,
          0.14309623430962343,
          0.14476987447698744,
          0.14811715481171547,
          0.14811715481171547,
          0.1497907949790795,
          0.1506276150627615,
          0.1514644351464435,
          0.1514644351464435,
          0.15230125523012553,
          0.15230125523012553,
          0.15397489539748954,
          0.15397489539748954,
          0.15732217573221757,
          0.1606694560669456,
          0.1606694560669456,
          0.16569037656903765,
          0.16569037656903765,
          0.16652719665271967,
          0.16652719665271967,
          0.17322175732217573,
          0.17656903765690377,
          0.1774058577405858,
          0.1774058577405858,
          0.1799163179916318,
          0.1799163179916318,
          0.18242677824267783,
          0.18410041841004185,
          0.18493723849372384,
          0.18493723849372384,
          0.18577405857740587,
          0.18577405857740587,
          0.18828451882845187,
          0.18828451882845187,
          0.1891213389121339,
          0.1891213389121339,
          0.1907949790794979,
          0.19581589958158996,
          0.199163179916318,
          0.199163179916318,
          0.20418410041841004,
          0.20920502092050208,
          0.21841004184100418,
          0.21841004184100418,
          0.2192468619246862,
          0.2192468619246862,
          0.22343096234309623,
          0.22426778242677825,
          0.22426778242677825,
          0.22594142259414227,
          0.22594142259414227,
          0.2309623430962343,
          0.2309623430962343,
          0.2317991631799163,
          0.23682008368200838,
          0.2384937238493724,
          0.2401673640167364,
          0.24602510460251045,
          0.24937238493723848,
          0.2560669456066946,
          0.2560669456066946,
          0.2569037656903766,
          0.2585774058577406,
          0.2644351464435146,
          0.2644351464435146,
          0.2711297071129707,
          0.2711297071129707,
          0.27280334728033473,
          0.2778242677824268,
          0.2778242677824268,
          0.28368200836820084,
          0.28535564853556483,
          0.28870292887029286,
          0.28870292887029286,
          0.29121338912133893,
          0.29121338912133893,
          0.2920502092050209,
          0.2920502092050209,
          0.29372384937238494,
          0.29623430962343095,
          0.29707112970711297,
          0.29707112970711297,
          0.30209205020920504,
          0.30209205020920504,
          0.3079497907949791,
          0.3104602510460251,
          0.31715481171548116,
          0.3188284518828452,
          0.3313807531380753,
          0.33305439330543934,
          0.33305439330543934,
          0.34644351464435147,
          0.34644351464435147,
          0.3548117154811716,
          0.3548117154811716,
          0.35648535564853556,
          0.35648535564853556,
          0.3573221757322176,
          0.35899581589958157,
          0.37154811715481173,
          0.3732217573221757,
          0.3732217573221757,
          0.3757322175732218,
          0.3782426778242678,
          0.3815899581589958,
          0.3815899581589958,
          0.3899581589958159,
          0.3916317991631799,
          0.4,
          0.4,
          0.40418410041841,
          0.4066945606694561,
          0.4108786610878661,
          0.4108786610878661,
          0.4225941422594142,
          0.4225941422594142,
          0.4301255230125523,
          0.4301255230125523,
          0.43179916317991635,
          0.43179916317991635,
          0.4384937238493724,
          0.44435146443514645,
          0.44686192468619246,
          0.44686192468619246,
          0.4485355648535565,
          0.4485355648535565,
          0.4594142259414226,
          0.46527196652719666,
          0.4661087866108787,
          0.4661087866108787,
          0.47447698744769873,
          0.47447698744769873,
          0.4803347280334728,
          0.4845188284518828,
          0.4887029288702929,
          0.4887029288702929,
          0.4920502092050209,
          0.4920502092050209,
          0.503765690376569,
          0.503765690376569,
          0.5046025104602511,
          0.5046025104602511,
          0.507112970711297,
          0.5104602510460251,
          0.5104602510460251,
          0.5238493723849372,
          0.5288702928870292,
          0.5338912133891214,
          0.5338912133891214,
          0.5347280334728034,
          0.5364016736401673,
          0.5514644351464435,
          0.5514644351464435,
          0.5523012552301255,
          0.5556485355648536,
          0.5690376569037657,
          0.5690376569037657,
          0.5715481171548117,
          0.5715481171548117,
          0.5765690376569038,
          0.5832635983263599,
          0.5899581589958159,
          0.5916317991631799,
          0.6033472803347281,
          0.6108786610878661,
          0.6158995815899582,
          0.6158995815899582,
          0.6267782426778242,
          0.6284518828451883,
          0.6410041841004184,
          0.6493723849372385,
          0.6518828451882845,
          0.6518828451882845,
          0.6594142259414226,
          0.6594142259414226,
          0.6635983263598326,
          0.6635983263598326,
          0.6736401673640168,
          0.6845188284518828,
          0.6970711297071129,
          0.6970711297071129,
          0.7071129707112971,
          0.7071129707112971,
          0.7104602510460251,
          0.7154811715481172,
          0.7313807531380753,
          0.7313807531380753,
          0.7464435146443514,
          0.7481171548117155,
          0.7573221757322176,
          0.7589958158995815,
          0.7598326359832636,
          0.7656903765690377,
          0.7656903765690377,
          0.7698744769874477,
          0.7715481171548118,
          0.7857740585774059,
          0.7857740585774059,
          0.793305439330544,
          0.7949790794979079,
          0.799163179916318,
          0.801673640167364,
          0.80418410041841,
          0.8092050209205021,
          0.8217573221757322,
          0.8217573221757322,
          0.8527196652719665,
          0.8585774058577406,
          0.8803347280334728,
          0.8820083682008368,
          0.8845188284518829,
          0.8845188284518829,
          0.8895397489539749,
          0.897071129707113,
          0.9154811715481171,
          0.9171548117154812,
          0.9221757322175732,
          0.9238493723849373,
          0.9389121338912134,
          0.9414225941422594,
          0.9497907949790795,
          0.9849372384937238,
          0.9874476987447699,
          0.9916317991631799,
          1
         ],
         "y": [
          0,
          0.003278688524590164,
          0.019672131147540985,
          0.02622950819672131,
          0.029508196721311476,
          0.04262295081967213,
          0.05245901639344262,
          0.06557377049180328,
          0.08852459016393442,
          0.10163934426229508,
          0.10163934426229508,
          0.11475409836065574,
          0.1180327868852459,
          0.12786885245901639,
          0.1377049180327869,
          0.14754098360655737,
          0.15081967213114755,
          0.15081967213114755,
          0.16721311475409836,
          0.1737704918032787,
          0.17704918032786884,
          0.18360655737704917,
          0.18688524590163935,
          0.18688524590163935,
          0.19672131147540983,
          0.2,
          0.20327868852459016,
          0.20655737704918034,
          0.21311475409836064,
          0.22295081967213115,
          0.22950819672131148,
          0.2360655737704918,
          0.2459016393442623,
          0.25573770491803277,
          0.25901639344262295,
          0.25901639344262295,
          0.26229508196721313,
          0.2721311475409836,
          0.2721311475409836,
          0.2786885245901639,
          0.2786885245901639,
          0.29508196721311475,
          0.29508196721311475,
          0.3016393442622951,
          0.3081967213114754,
          0.3114754098360656,
          0.3180327868852459,
          0.3344262295081967,
          0.3344262295081967,
          0.3377049180327869,
          0.3377049180327869,
          0.34098360655737703,
          0.34098360655737703,
          0.3475409836065574,
          0.3475409836065574,
          0.3540983606557377,
          0.3639344262295082,
          0.3639344262295082,
          0.3737704918032787,
          0.3737704918032787,
          0.3770491803278688,
          0.3770491803278688,
          0.40327868852459015,
          0.40327868852459015,
          0.40327868852459015,
          0.4065573770491803,
          0.4065573770491803,
          0.4131147540983607,
          0.4131147540983607,
          0.42295081967213116,
          0.42295081967213116,
          0.42950819672131146,
          0.42950819672131146,
          0.4360655737704918,
          0.4360655737704918,
          0.43934426229508194,
          0.4426229508196721,
          0.4426229508196721,
          0.4459016393442623,
          0.4459016393442623,
          0.46229508196721314,
          0.46229508196721314,
          0.46557377049180326,
          0.4721311475409836,
          0.4721311475409836,
          0.4786885245901639,
          0.4786885245901639,
          0.4819672131147541,
          0.4819672131147541,
          0.4852459016393443,
          0.4852459016393443,
          0.49836065573770494,
          0.49836065573770494,
          0.5049180327868853,
          0.5049180327868853,
          0.5081967213114754,
          0.5081967213114754,
          0.5180327868852459,
          0.5180327868852459,
          0.5245901639344263,
          0.5245901639344263,
          0.5278688524590164,
          0.5278688524590164,
          0.5344262295081967,
          0.5344262295081967,
          0.5409836065573771,
          0.5409836065573771,
          0.5442622950819672,
          0.5442622950819672,
          0.5442622950819672,
          0.5475409836065573,
          0.5475409836065573,
          0.5540983606557377,
          0.5540983606557377,
          0.5606557377049181,
          0.5639344262295082,
          0.5639344262295082,
          0.5704918032786885,
          0.5704918032786885,
          0.5737704918032787,
          0.5737704918032787,
          0.5836065573770491,
          0.5836065573770491,
          0.5868852459016394,
          0.5868852459016394,
          0.5901639344262295,
          0.5901639344262295,
          0.5934426229508196,
          0.5934426229508196,
          0.6,
          0.6,
          0.6032786885245902,
          0.6032786885245902,
          0.6065573770491803,
          0.6065573770491803,
          0.6098360655737705,
          0.6098360655737705,
          0.6098360655737705,
          0.6131147540983607,
          0.6131147540983607,
          0.6131147540983607,
          0.6131147540983607,
          0.6163934426229508,
          0.6163934426229508,
          0.6163934426229508,
          0.6163934426229508,
          0.6163934426229508,
          0.6196721311475409,
          0.6196721311475409,
          0.6229508196721312,
          0.6262295081967213,
          0.6262295081967213,
          0.6295081967213115,
          0.6295081967213115,
          0.6327868852459017,
          0.639344262295082,
          0.639344262295082,
          0.6426229508196721,
          0.6426229508196721,
          0.6459016393442623,
          0.6459016393442623,
          0.6491803278688525,
          0.6491803278688525,
          0.6524590163934426,
          0.6524590163934426,
          0.6557377049180327,
          0.6557377049180327,
          0.6688524590163935,
          0.6688524590163935,
          0.6721311475409836,
          0.6721311475409836,
          0.6754098360655738,
          0.6754098360655738,
          0.6786885245901639,
          0.6786885245901639,
          0.6852459016393443,
          0.6852459016393443,
          0.6852459016393443,
          0.6852459016393443,
          0.6918032786885245,
          0.6918032786885245,
          0.6950819672131148,
          0.6950819672131148,
          0.6983606557377049,
          0.6983606557377049,
          0.7049180327868853,
          0.7049180327868853,
          0.7081967213114754,
          0.7081967213114754,
          0.7114754098360656,
          0.7114754098360656,
          0.7147540983606557,
          0.7147540983606557,
          0.7180327868852459,
          0.7180327868852459,
          0.7180327868852459,
          0.7213114754098361,
          0.7213114754098361,
          0.7245901639344262,
          0.7245901639344262,
          0.7311475409836066,
          0.7311475409836066,
          0.7344262295081967,
          0.7344262295081967,
          0.7377049180327869,
          0.7377049180327869,
          0.740983606557377,
          0.740983606557377,
          0.740983606557377,
          0.740983606557377,
          0.7442622950819672,
          0.7442622950819672,
          0.7475409836065574,
          0.7475409836065574,
          0.7540983606557377,
          0.7540983606557377,
          0.7573770491803279,
          0.7573770491803279,
          0.7573770491803279,
          0.7639344262295082,
          0.7704918032786885,
          0.7704918032786885,
          0.7704918032786885,
          0.7704918032786885,
          0.7737704918032787,
          0.7737704918032787,
          0.780327868852459,
          0.780327868852459,
          0.7836065573770492,
          0.7868852459016393,
          0.7868852459016393,
          0.7934426229508197,
          0.7934426229508197,
          0.7967213114754098,
          0.7967213114754098,
          0.8,
          0.8,
          0.8,
          0.8,
          0.8,
          0.8,
          0.8032786885245902,
          0.8032786885245902,
          0.8032786885245902,
          0.8032786885245902,
          0.8065573770491803,
          0.8065573770491803,
          0.8098360655737705,
          0.8098360655737705,
          0.8098360655737705,
          0.8131147540983606,
          0.8131147540983606,
          0.8131147540983606,
          0.8131147540983606,
          0.8163934426229508,
          0.8163934426229508,
          0.8229508196721311,
          0.8229508196721311,
          0.8295081967213115,
          0.8295081967213115,
          0.8295081967213115,
          0.8295081967213115,
          0.8327868852459016,
          0.8327868852459016,
          0.839344262295082,
          0.839344262295082,
          0.8426229508196721,
          0.8426229508196721,
          0.8426229508196721,
          0.8426229508196721,
          0.8459016393442623,
          0.8491803278688524,
          0.8491803278688524,
          0.8557377049180328,
          0.8557377049180328,
          0.8590163934426229,
          0.8590163934426229,
          0.8622950819672132,
          0.8622950819672132,
          0.8622950819672132,
          0.8622950819672132,
          0.8622950819672132,
          0.8655737704918033,
          0.8655737704918033,
          0.8655737704918033,
          0.8655737704918033,
          0.8721311475409836,
          0.8721311475409836,
          0.8721311475409836,
          0.8721311475409836,
          0.8754098360655738,
          0.8754098360655738,
          0.8754098360655738,
          0.8754098360655738,
          0.8786885245901639,
          0.8786885245901639,
          0.8819672131147541,
          0.8819672131147541,
          0.8852459016393442,
          0.8852459016393442,
          0.8885245901639345,
          0.8885245901639345,
          0.8918032786885246,
          0.8918032786885246,
          0.898360655737705,
          0.898360655737705,
          0.9016393442622951,
          0.9016393442622951,
          0.9016393442622951,
          0.9016393442622951,
          0.9049180327868852,
          0.9049180327868852,
          0.9081967213114754,
          0.9081967213114754,
          0.9114754098360656,
          0.9114754098360656,
          0.9147540983606557,
          0.9147540983606557,
          0.9245901639344263,
          0.9245901639344263,
          0.9278688524590164,
          0.9278688524590164,
          0.9311475409836065,
          0.9311475409836065,
          0.9311475409836065,
          0.9344262295081968,
          0.9344262295081968,
          0.9344262295081968,
          0.9344262295081968,
          0.9377049180327869,
          0.9377049180327869,
          0.9377049180327869,
          0.9377049180327869,
          0.940983606557377,
          0.940983606557377,
          0.940983606557377,
          0.940983606557377,
          0.9442622950819672,
          0.9442622950819672,
          0.9475409836065574,
          0.9475409836065574,
          0.9475409836065574,
          0.9475409836065574,
          0.9475409836065574,
          0.9475409836065574,
          0.9475409836065574,
          0.9475409836065574,
          0.9508196721311475,
          0.9508196721311475,
          0.9508196721311475,
          0.9508196721311475,
          0.9540983606557377,
          0.9540983606557377,
          0.9573770491803278,
          0.9573770491803278,
          0.9606557377049181,
          0.9606557377049181,
          0.9639344262295082,
          0.9639344262295082,
          0.9704918032786886,
          0.9704918032786886,
          0.9737704918032787,
          0.9737704918032787,
          0.9770491803278688,
          0.9770491803278688,
          0.9770491803278688,
          0.9770491803278688,
          0.980327868852459,
          0.980327868852459,
          0.980327868852459,
          0.980327868852459,
          0.980327868852459,
          0.980327868852459,
          0.9836065573770492,
          0.9868852459016394,
          0.9868852459016394,
          0.9868852459016394,
          0.9868852459016394,
          0.9901639344262295,
          0.9901639344262295,
          0.9901639344262295,
          0.9901639344262295,
          0.9901639344262295,
          0.9901639344262295,
          0.9934426229508196,
          0.9934426229508196,
          0.9967213114754099,
          0.9967213114754099,
          0.9967213114754099,
          0.9967213114754099,
          0.9967213114754099,
          0.9967213114754099,
          1,
          1,
          1,
          1,
          1,
          1,
          1,
          1,
          1,
          1,
          1,
          1,
          1,
          1
         ]
        },
        {
         "mode": "lines",
         "name": "downsampled ROC (AUC = 0.86)",
         "type": "scatter",
         "x": [
          0,
          0,
          0.0008368200836820083,
          0.0008368200836820083,
          0.0008368200836820083,
          0.0008368200836820083,
          0.0016736401673640166,
          0.0016736401673640166,
          0.0016736401673640166,
          0.0033472803347280333,
          0.0033472803347280333,
          0.0033472803347280333,
          0.0041841004184100415,
          0.0041841004184100415,
          0.0041841004184100415,
          0.0041841004184100415,
          0.00502092050209205,
          0.005857740585774059,
          0.0066945606694560665,
          0.0066945606694560665,
          0.007531380753138075,
          0.007531380753138075,
          0.007531380753138075,
          0.008368200836820083,
          0.009205020920502092,
          0.009205020920502092,
          0.009205020920502092,
          0.009205020920502092,
          0.0100418410041841,
          0.0100418410041841,
          0.011715481171548118,
          0.012552301255230125,
          0.012552301255230125,
          0.014225941422594143,
          0.015899581589958158,
          0.015899581589958158,
          0.015899581589958158,
          0.017573221757322177,
          0.017573221757322177,
          0.019246861924686193,
          0.0200836820083682,
          0.02092050209205021,
          0.021757322175732216,
          0.021757322175732216,
          0.021757322175732216,
          0.021757322175732216,
          0.022594142259414227,
          0.022594142259414227,
          0.022594142259414227,
          0.023430962343096235,
          0.02594142259414226,
          0.029288702928870293,
          0.0301255230125523,
          0.0301255230125523,
          0.03096234309623431,
          0.031799163179916316,
          0.031799163179916316,
          0.031799163179916316,
          0.031799163179916316,
          0.03598326359832636,
          0.03682008368200837,
          0.03682008368200837,
          0.03933054393305439,
          0.0401673640167364,
          0.04184100418410042,
          0.04184100418410042,
          0.042677824267782424,
          0.042677824267782424,
          0.04351464435146443,
          0.04435146443514645,
          0.04435146443514645,
          0.045188284518828455,
          0.045188284518828455,
          0.04602510460251046,
          0.048535564853556486,
          0.048535564853556486,
          0.05104602510460251,
          0.05188284518828452,
          0.052719665271966525,
          0.05355648535564853,
          0.05355648535564853,
          0.05439330543933055,
          0.05439330543933055,
          0.055230125523012555,
          0.05690376569037657,
          0.05690376569037657,
          0.058577405857740586,
          0.058577405857740586,
          0.06192468619246862,
          0.06276150627615062,
          0.06276150627615062,
          0.06359832635983263,
          0.06443514644351464,
          0.06527196652719665,
          0.06778242677824267,
          0.06861924686192468,
          0.06861924686192468,
          0.07280334728033473,
          0.07364016736401674,
          0.07447698744769875,
          0.07615062761506276,
          0.07615062761506276,
          0.07782426778242678,
          0.07866108786610879,
          0.08200836820083682,
          0.08284518828451883,
          0.08619246861924686,
          0.0887029288702929,
          0.09205020920502092,
          0.09372384937238494,
          0.09372384937238494,
          0.09456066945606695,
          0.09707112970711297,
          0.10292887029288703,
          0.10460251046025104,
          0.10627615062761506,
          0.10711297071129706,
          0.10794979079497909,
          0.10794979079497909,
          0.1096234309623431,
          0.11129707112970712,
          0.11213389121338913,
          0.11715481171548117,
          0.11715481171548117,
          0.11882845188284519,
          0.1205020920502092,
          0.12217573221757322,
          0.12384937238493723,
          0.12384937238493723,
          0.12719665271966527,
          0.1280334728033473,
          0.12887029288702928,
          0.1297071129707113,
          0.1322175732217573,
          0.1322175732217573,
          0.13472803347280335,
          0.13472803347280335,
          0.13723849372384936,
          0.1389121338912134,
          0.1389121338912134,
          0.14058577405857742,
          0.14058577405857742,
          0.1414225941422594,
          0.14225941422594143,
          0.14309623430962343,
          0.14476987447698744,
          0.14560669456066946,
          0.14560669456066946,
          0.14644351464435146,
          0.14644351464435146,
          0.14728033472803348,
          0.14728033472803348,
          0.1489539748953975,
          0.1489539748953975,
          0.1506276150627615,
          0.1514644351464435,
          0.15313807531380752,
          0.15732217573221757,
          0.1581589958158996,
          0.16150627615062763,
          0.16485355648535566,
          0.16736401673640167,
          0.1682008368200837,
          0.1682008368200837,
          0.17154811715481172,
          0.17405857740585773,
          0.17489539748953975,
          0.17489539748953975,
          0.1774058577405858,
          0.18075313807531382,
          0.18075313807531382,
          0.18242677824267783,
          0.18577405857740587,
          0.18661087866108786,
          0.18661087866108786,
          0.18744769874476988,
          0.18744769874476988,
          0.19246861924686193,
          0.19330543933054392,
          0.19414225941422594,
          0.19414225941422594,
          0.19581589958158996,
          0.200836820083682,
          0.20418410041841004,
          0.20753138075313807,
          0.2083682008368201,
          0.2108786610878661,
          0.21422594142259413,
          0.21422594142259413,
          0.21589958158995817,
          0.2192468619246862,
          0.2200836820083682,
          0.2200836820083682,
          0.22343096234309623,
          0.22677824267782426,
          0.22845188284518828,
          0.23347280334728032,
          0.2393305439330544,
          0.2410041841004184,
          0.24184100418410043,
          0.24184100418410043,
          0.24267782426778242,
          0.24267782426778242,
          0.24351464435146444,
          0.2485355648535565,
          0.25523012552301255,
          0.2569037656903766,
          0.2569037656903766,
          0.2602510460251046,
          0.2602510460251046,
          0.2610878661087866,
          0.2644351464435146,
          0.26610878661087867,
          0.26610878661087867,
          0.2686192468619247,
          0.27280334728033473,
          0.2744769874476987,
          0.2769874476987448,
          0.2828451882845188,
          0.2828451882845188,
          0.28451882845188287,
          0.2870292887029289,
          0.29121338912133893,
          0.29372384937238494,
          0.297907949790795,
          0.299581589958159,
          0.299581589958159,
          0.302928870292887,
          0.3054393305439331,
          0.3087866108786611,
          0.31464435146443515,
          0.31548117154811717,
          0.31548117154811717,
          0.3205020920502092,
          0.3205020920502092,
          0.32217573221757323,
          0.3263598326359833,
          0.32803347280334727,
          0.32803347280334727,
          0.3297071129707113,
          0.3305439330543933,
          0.3313807531380753,
          0.33305439330543934,
          0.33472803347280333,
          0.33472803347280333,
          0.3372384937238494,
          0.3447698744769874,
          0.34560669456066945,
          0.34560669456066945,
          0.34644351464435147,
          0.3506276150627615,
          0.3514644351464435,
          0.3514644351464435,
          0.35648535564853556,
          0.36485355648535567,
          0.36652719665271966,
          0.36652719665271966,
          0.3682008368200837,
          0.3723849372384937,
          0.3732217573221757,
          0.37489539748953976,
          0.37740585774058577,
          0.38744769874476986,
          0.39246861924686194,
          0.39246861924686194,
          0.39497907949790795,
          0.399163179916318,
          0.4,
          0.4,
          0.40502092050209204,
          0.4100418410041841,
          0.4117154811715481,
          0.4117154811715481,
          0.4167364016736402,
          0.4225941422594142,
          0.42343096234309624,
          0.42677824267782427,
          0.43179916317991635,
          0.4393305439330544,
          0.4426778242677824,
          0.4426778242677824,
          0.44518828451882847,
          0.44937238493723847,
          0.44937238493723847,
          0.4510460251046025,
          0.4510460251046025,
          0.45690376569037655,
          0.46276150627615065,
          0.4661087866108787,
          0.4702928870292887,
          0.47364016736401676,
          0.4803347280334728,
          0.48535564853556484,
          0.49539748953974894,
          0.500418410041841,
          0.502928870292887,
          0.5112970711297071,
          0.5146443514644351,
          0.5146443514644351,
          0.5196652719665272,
          0.5280334728033472,
          0.5280334728033472,
          0.5330543933054394,
          0.5397489539748954,
          0.5464435146443515,
          0.5531380753138075,
          0.5589958158995816,
          0.5623430962343097,
          0.5682008368200837,
          0.5690376569037657,
          0.5765690376569038,
          0.5782426778242677,
          0.5782426778242677,
          0.5857740585774058,
          0.590794979079498,
          0.590794979079498,
          0.594979079497908,
          0.594979079497908,
          0.6,
          0.6041841004184101,
          0.6041841004184101,
          0.605857740585774,
          0.6100418410041841,
          0.6150627615062761,
          0.6167364016736402,
          0.6225941422594142,
          0.6326359832635984,
          0.6410041841004184,
          0.6435146443514644,
          0.6451882845188285,
          0.6460251046025105,
          0.6460251046025105,
          0.6476987447698744,
          0.6543933054393305,
          0.6577405857740586,
          0.6577405857740586,
          0.6585774058577406,
          0.6661087866108787,
          0.6694560669456067,
          0.6753138075313807,
          0.6794979079497908,
          0.6912133891213389,
          0.6912133891213389,
          0.697907949790795,
          0.704602510460251,
          0.7112970711297071,
          0.7213389121338912,
          0.7297071129707113,
          0.7364016736401674,
          0.7447698744769874,
          0.7531380753138075,
          0.7556485355648536,
          0.7556485355648536,
          0.7615062761506276,
          0.7623430962343096,
          0.7623430962343096,
          0.7690376569037657,
          0.7765690376569038,
          0.7807531380753138,
          0.7849372384937239,
          0.7916317991631799,
          0.7941422594142259,
          0.8,
          0.8050209205020921,
          0.8150627615062761,
          0.8192468619246862,
          0.8234309623430962,
          0.8234309623430962,
          0.8242677824267782,
          0.8343096234309624,
          0.8376569037656904,
          0.8426778242677824,
          0.8493723849372385,
          0.8543933054393306,
          0.8552301255230126,
          0.8577405857740585,
          0.8619246861924686,
          0.8635983263598327,
          0.8652719665271966,
          0.8669456066945607,
          0.8677824267782427,
          0.8686192468619247,
          0.8728033472803347,
          0.8778242677824267,
          0.8828451882845189,
          0.8845188284518829,
          0.8895397489539749,
          0.8928870292887029,
          0.896234309623431,
          0.897907949790795,
          0.902092050209205,
          0.9054393305439331,
          0.9079497907949791,
          0.9138075313807531,
          0.9213389121338912,
          0.9280334728033472,
          0.9330543933054394,
          0.9347280334728033,
          0.9364016736401674,
          0.9422594142259414,
          0.9472803347280335,
          0.9489539748953975,
          0.9514644351464435,
          0.9615062761506277,
          0.9640167364016736,
          0.9656903765690377,
          0.9690376569037656,
          0.9740585774058578,
          0.9815899581589959,
          0.9841004184100418,
          0.9882845188284519,
          0.9899581589958159,
          0.994142259414226,
          0.99581589958159,
          1
         ],
         "y": [
          0,
          0.003278688524590164,
          0.013114754098360656,
          0.019672131147540985,
          0.029508196721311476,
          0.03934426229508197,
          0.06229508196721312,
          0.07540983606557378,
          0.08196721311475409,
          0.08524590163934426,
          0.08852459016393442,
          0.09508196721311475,
          0.11475409836065574,
          0.1180327868852459,
          0.13114754098360656,
          0.13442622950819672,
          0.13442622950819672,
          0.14754098360655737,
          0.14754098360655737,
          0.16065573770491803,
          0.18360655737704917,
          0.20655737704918034,
          0.21311475409836064,
          0.22950819672131148,
          0.22950819672131148,
          0.2360655737704918,
          0.25245901639344265,
          0.25573770491803277,
          0.26885245901639343,
          0.2754098360655738,
          0.29180327868852457,
          0.29508196721311475,
          0.2983606557377049,
          0.3114754098360656,
          0.3114754098360656,
          0.3180327868852459,
          0.32131147540983607,
          0.33114754098360655,
          0.3344262295081967,
          0.3540983606557377,
          0.3540983606557377,
          0.36065573770491804,
          0.3704918032786885,
          0.3770491803278688,
          0.3836065573770492,
          0.38688524590163936,
          0.4065573770491803,
          0.4131147540983607,
          0.419672131147541,
          0.419672131147541,
          0.4426229508196721,
          0.4426229508196721,
          0.4491803278688525,
          0.4524590163934426,
          0.45901639344262296,
          0.45901639344262296,
          0.46229508196721314,
          0.46885245901639344,
          0.4721311475409836,
          0.4852459016393443,
          0.4852459016393443,
          0.4885245901639344,
          0.4885245901639344,
          0.4885245901639344,
          0.49836065573770494,
          0.5016393442622951,
          0.5016393442622951,
          0.5049180327868853,
          0.5114754098360655,
          0.5114754098360655,
          0.5147540983606558,
          0.5147540983606558,
          0.5180327868852459,
          0.5180327868852459,
          0.5245901639344263,
          0.5278688524590164,
          0.5278688524590164,
          0.5311475409836065,
          0.5311475409836065,
          0.5409836065573771,
          0.5442622950819672,
          0.5442622950819672,
          0.5475409836065573,
          0.5475409836065573,
          0.5508196721311476,
          0.5540983606557377,
          0.5540983606557377,
          0.5573770491803278,
          0.5573770491803278,
          0.5573770491803278,
          0.5639344262295082,
          0.5639344262295082,
          0.5672131147540984,
          0.5672131147540984,
          0.5672131147540984,
          0.5672131147540984,
          0.5704918032786885,
          0.5770491803278689,
          0.5770491803278689,
          0.5868852459016394,
          0.5868852459016394,
          0.5901639344262295,
          0.5934426229508196,
          0.5934426229508196,
          0.5967213114754099,
          0.5967213114754099,
          0.6,
          0.6,
          0.6032786885245902,
          0.6032786885245902,
          0.6065573770491803,
          0.6065573770491803,
          0.6131147540983607,
          0.6131147540983607,
          0.6131147540983607,
          0.6131147540983607,
          0.6163934426229508,
          0.6163934426229508,
          0.6262295081967213,
          0.6262295081967213,
          0.6426229508196721,
          0.6426229508196721,
          0.6459016393442623,
          0.6557377049180327,
          0.6557377049180327,
          0.6557377049180327,
          0.6557377049180327,
          0.6622950819672131,
          0.6655737704918033,
          0.6655737704918033,
          0.6655737704918033,
          0.6688524590163935,
          0.6688524590163935,
          0.6688524590163935,
          0.6721311475409836,
          0.6721311475409836,
          0.6754098360655738,
          0.6754098360655738,
          0.6754098360655738,
          0.6852459016393443,
          0.6852459016393443,
          0.6885245901639344,
          0.6885245901639344,
          0.6918032786885245,
          0.6918032786885245,
          0.6983606557377049,
          0.6983606557377049,
          0.7049180327868853,
          0.7049180327868853,
          0.7081967213114754,
          0.7147540983606557,
          0.7180327868852459,
          0.7180327868852459,
          0.7213114754098361,
          0.7213114754098361,
          0.7311475409836066,
          0.7311475409836066,
          0.7377049180327869,
          0.7377049180327869,
          0.7377049180327869,
          0.7377049180327869,
          0.7377049180327869,
          0.7377049180327869,
          0.740983606557377,
          0.740983606557377,
          0.7442622950819672,
          0.7442622950819672,
          0.7475409836065574,
          0.7475409836065574,
          0.7475409836065574,
          0.7508196721311475,
          0.7540983606557377,
          0.7540983606557377,
          0.7573770491803279,
          0.760655737704918,
          0.760655737704918,
          0.7639344262295082,
          0.7639344262295082,
          0.7672131147540984,
          0.7672131147540984,
          0.7704918032786885,
          0.7704918032786885,
          0.7737704918032787,
          0.7737704918032787,
          0.7770491803278688,
          0.7770491803278688,
          0.7770491803278688,
          0.7770491803278688,
          0.780327868852459,
          0.780327868852459,
          0.7836065573770492,
          0.7836065573770492,
          0.7868852459016393,
          0.7868852459016393,
          0.7868852459016393,
          0.7868852459016393,
          0.7868852459016393,
          0.7868852459016393,
          0.7868852459016393,
          0.7868852459016393,
          0.7901639344262295,
          0.7901639344262295,
          0.7934426229508197,
          0.7934426229508197,
          0.8,
          0.8,
          0.8,
          0.8032786885245902,
          0.8032786885245902,
          0.8065573770491803,
          0.8065573770491803,
          0.8098360655737705,
          0.8098360655737705,
          0.8131147540983606,
          0.8131147540983606,
          0.8131147540983606,
          0.8131147540983606,
          0.819672131147541,
          0.819672131147541,
          0.8229508196721311,
          0.8229508196721311,
          0.8229508196721311,
          0.8229508196721311,
          0.8229508196721311,
          0.8229508196721311,
          0.8229508196721311,
          0.8262295081967214,
          0.8262295081967214,
          0.8327868852459016,
          0.8327868852459016,
          0.8327868852459016,
          0.8327868852459016,
          0.8360655737704918,
          0.8360655737704918,
          0.839344262295082,
          0.839344262295082,
          0.839344262295082,
          0.839344262295082,
          0.8426229508196721,
          0.8426229508196721,
          0.8459016393442623,
          0.8459016393442623,
          0.8459016393442623,
          0.8459016393442623,
          0.8491803278688524,
          0.8491803278688524,
          0.8524590163934426,
          0.8524590163934426,
          0.8590163934426229,
          0.8590163934426229,
          0.8590163934426229,
          0.8590163934426229,
          0.8622950819672132,
          0.8622950819672132,
          0.8655737704918033,
          0.8655737704918033,
          0.8688524590163934,
          0.8688524590163934,
          0.8688524590163934,
          0.8688524590163934,
          0.8688524590163934,
          0.8688524590163934,
          0.8688524590163934,
          0.8688524590163934,
          0.8721311475409836,
          0.8721311475409836,
          0.8819672131147541,
          0.8819672131147541,
          0.8852459016393442,
          0.8852459016393442,
          0.8885245901639345,
          0.8885245901639345,
          0.8918032786885246,
          0.8918032786885246,
          0.8950819672131147,
          0.8950819672131147,
          0.8950819672131147,
          0.8950819672131147,
          0.8950819672131147,
          0.8950819672131147,
          0.898360655737705,
          0.898360655737705,
          0.9016393442622951,
          0.9081967213114754,
          0.9081967213114754,
          0.9114754098360656,
          0.9114754098360656,
          0.9114754098360656,
          0.9180327868852459,
          0.9180327868852459,
          0.9180327868852459,
          0.9180327868852459,
          0.921311475409836,
          0.921311475409836,
          0.921311475409836,
          0.921311475409836,
          0.921311475409836,
          0.921311475409836,
          0.9245901639344263,
          0.9245901639344263,
          0.9245901639344263,
          0.9278688524590164,
          0.9311475409836065,
          0.9311475409836065,
          0.9311475409836065,
          0.9311475409836065,
          0.9311475409836065,
          0.9311475409836065,
          0.9311475409836065,
          0.9311475409836065,
          0.9344262295081968,
          0.9344262295081968,
          0.9377049180327869,
          0.9377049180327869,
          0.940983606557377,
          0.9442622950819672,
          0.9442622950819672,
          0.9475409836065574,
          0.9475409836065574,
          0.9475409836065574,
          0.9508196721311475,
          0.9508196721311475,
          0.9508196721311475,
          0.9508196721311475,
          0.9508196721311475,
          0.9508196721311475,
          0.9508196721311475,
          0.9508196721311475,
          0.9508196721311475,
          0.9508196721311475,
          0.9508196721311475,
          0.9540983606557377,
          0.9540983606557377,
          0.9540983606557377,
          0.9540983606557377,
          0.9573770491803278,
          0.9573770491803278,
          0.9573770491803278,
          0.9573770491803278,
          0.9573770491803278,
          0.9573770491803278,
          0.9606557377049181,
          0.9639344262295082,
          0.9639344262295082,
          0.9639344262295082,
          0.9639344262295082,
          0.9639344262295082,
          0.9639344262295082,
          0.9672131147540983,
          0.9672131147540983,
          0.9672131147540983,
          0.9672131147540983,
          0.9704918032786886,
          0.9704918032786886,
          0.9704918032786886,
          0.9737704918032787,
          0.9737704918032787,
          0.9770491803278688,
          0.9770491803278688,
          0.980327868852459,
          0.980327868852459,
          0.9836065573770492,
          0.9836065573770492,
          0.9868852459016394,
          0.9868852459016394,
          0.9868852459016394,
          0.9868852459016394,
          0.9901639344262295,
          0.9901639344262295,
          0.9901639344262295,
          0.9901639344262295,
          0.9901639344262295,
          0.9901639344262295,
          0.9901639344262295,
          0.9901639344262295,
          0.9901639344262295,
          0.9901639344262295,
          0.9901639344262295,
          0.9901639344262295,
          0.9901639344262295,
          0.9901639344262295,
          0.9934426229508196,
          0.9934426229508196,
          0.9934426229508196,
          0.9934426229508196,
          0.9934426229508196,
          0.9934426229508196,
          0.9967213114754099,
          0.9967213114754099,
          0.9967213114754099,
          0.9967213114754099,
          0.9967213114754099,
          0.9967213114754099,
          0.9967213114754099,
          0.9967213114754099,
          0.9967213114754099,
          0.9967213114754099,
          0.9967213114754099,
          0.9967213114754099,
          1,
          1,
          1,
          1,
          1,
          1,
          1,
          1,
          1,
          1,
          1,
          1,
          1,
          1,
          1,
          1
         ]
        },
        {
         "mode": "lines",
         "name": "upsampled ROC (AUC = 0.86)",
         "type": "scatter",
         "x": [
          0,
          0,
          0,
          0.0008368200836820083,
          0.0008368200836820083,
          0.0008368200836820083,
          0.0008368200836820083,
          0.0016736401673640166,
          0.0016736401673640166,
          0.0016736401673640166,
          0.0016736401673640166,
          0.002510460251046025,
          0.002510460251046025,
          0.0033472803347280333,
          0.0033472803347280333,
          0.0033472803347280333,
          0.0033472803347280333,
          0.0033472803347280333,
          0.00502092050209205,
          0.005857740585774059,
          0.005857740585774059,
          0.005857740585774059,
          0.0066945606694560665,
          0.0066945606694560665,
          0.007531380753138075,
          0.007531380753138075,
          0.008368200836820083,
          0.008368200836820083,
          0.008368200836820083,
          0.0100418410041841,
          0.0100418410041841,
          0.0100418410041841,
          0.0100418410041841,
          0.0100418410041841,
          0.0100418410041841,
          0.0100418410041841,
          0.0100418410041841,
          0.010878661087866108,
          0.010878661087866108,
          0.012552301255230125,
          0.012552301255230125,
          0.013389121338912133,
          0.013389121338912133,
          0.014225941422594143,
          0.01506276150627615,
          0.01506276150627615,
          0.015899581589958158,
          0.015899581589958158,
          0.016736401673640166,
          0.016736401673640166,
          0.018410041841004185,
          0.018410041841004185,
          0.019246861924686193,
          0.019246861924686193,
          0.02092050209205021,
          0.02092050209205021,
          0.022594142259414227,
          0.022594142259414227,
          0.023430962343096235,
          0.023430962343096235,
          0.024267782426778243,
          0.024267782426778243,
          0.026778242677824266,
          0.026778242677824266,
          0.027615062761506277,
          0.028451882845188285,
          0.0301255230125523,
          0.0301255230125523,
          0.032635983263598324,
          0.032635983263598324,
          0.03347280334728033,
          0.03347280334728033,
          0.03430962343096234,
          0.03430962343096234,
          0.035146443514644354,
          0.035146443514644354,
          0.03598326359832636,
          0.03598326359832636,
          0.03598326359832636,
          0.038493723849372385,
          0.038493723849372385,
          0.03933054393305439,
          0.03933054393305439,
          0.04100418410041841,
          0.04100418410041841,
          0.042677824267782424,
          0.042677824267782424,
          0.04686192468619247,
          0.04686192468619247,
          0.04769874476987448,
          0.049372384937238493,
          0.049372384937238493,
          0.0502092050209205,
          0.05104602510460251,
          0.05104602510460251,
          0.05439330543933055,
          0.05439330543933055,
          0.05690376569037657,
          0.05690376569037657,
          0.05774058577405858,
          0.05774058577405858,
          0.06192468619246862,
          0.06192468619246862,
          0.06359832635983263,
          0.06359832635983263,
          0.06610878661087866,
          0.06610878661087866,
          0.06861924686192468,
          0.06861924686192468,
          0.07615062761506276,
          0.07615062761506276,
          0.07698744769874477,
          0.07698744769874477,
          0.0794979079497908,
          0.0794979079497908,
          0.0803347280334728,
          0.0803347280334728,
          0.08619246861924686,
          0.08619246861924686,
          0.08702928870292886,
          0.08702928870292886,
          0.0895397489539749,
          0.0895397489539749,
          0.09288702928870293,
          0.09288702928870293,
          0.09874476987447699,
          0.09874476987447699,
          0.099581589958159,
          0.099581589958159,
          0.10209205020920502,
          0.10209205020920502,
          0.10460251046025104,
          0.10460251046025104,
          0.10627615062761506,
          0.10627615062761506,
          0.10711297071129706,
          0.10711297071129706,
          0.1087866108786611,
          0.1087866108786611,
          0.1096234309623431,
          0.11129707112970712,
          0.11882845188284519,
          0.11882845188284519,
          0.12301255230125523,
          0.12301255230125523,
          0.12468619246861924,
          0.12468619246861924,
          0.12635983263598327,
          0.12635983263598327,
          0.12887029288702928,
          0.1297071129707113,
          0.1305439330543933,
          0.1305439330543933,
          0.13389121338912133,
          0.13389121338912133,
          0.13723849372384936,
          0.13723849372384936,
          0.1397489539748954,
          0.1414225941422594,
          0.14225941422594143,
          0.14225941422594143,
          0.14476987447698744,
          0.14476987447698744,
          0.15564853556485356,
          0.15564853556485356,
          0.1581589958158996,
          0.1598326359832636,
          0.16150627615062763,
          0.16150627615062763,
          0.16401673640167364,
          0.16652719665271967,
          0.16652719665271967,
          0.16736401673640167,
          0.16736401673640167,
          0.16903765690376568,
          0.16903765690376568,
          0.1707112970711297,
          0.1707112970711297,
          0.17322175732217573,
          0.17322175732217573,
          0.17405857740585773,
          0.17405857740585773,
          0.17573221757322174,
          0.17573221757322174,
          0.18075313807531382,
          0.18075313807531382,
          0.18493723849372384,
          0.18661087866108786,
          0.19581589958158996,
          0.19581589958158996,
          0.19665271966527198,
          0.19665271966527198,
          0.19748953974895397,
          0.19748953974895397,
          0.198326359832636,
          0.198326359832636,
          0.200836820083682,
          0.200836820083682,
          0.20251046025104602,
          0.20418410041841004,
          0.20585774058577405,
          0.20585774058577405,
          0.20669456066945607,
          0.20669456066945607,
          0.2100418410041841,
          0.21171548117154812,
          0.2192468619246862,
          0.2192468619246862,
          0.2200836820083682,
          0.22343096234309623,
          0.22343096234309623,
          0.2292887029288703,
          0.2317991631799163,
          0.23765690376569037,
          0.2384937238493724,
          0.25439330543933053,
          0.2560669456066946,
          0.2602510460251046,
          0.2602510460251046,
          0.2619246861924686,
          0.2619246861924686,
          0.26359832635983266,
          0.26359832635983266,
          0.26610878661087867,
          0.2686192468619247,
          0.27364016736401675,
          0.27364016736401675,
          0.27531380753138074,
          0.2769874476987448,
          0.2803347280334728,
          0.2803347280334728,
          0.2820083682008368,
          0.28368200836820084,
          0.28451882845188287,
          0.28451882845188287,
          0.28535564853556483,
          0.28535564853556483,
          0.28870292887029286,
          0.2903765690376569,
          0.29121338912133893,
          0.29121338912133893,
          0.2920502092050209,
          0.2920502092050209,
          0.295397489539749,
          0.295397489539749,
          0.29707112970711297,
          0.3104602510460251,
          0.3104602510460251,
          0.31548117154811717,
          0.3163179916317992,
          0.3163179916317992,
          0.32803347280334727,
          0.33305439330543934,
          0.3414225941422594,
          0.34393305439330546,
          0.3489539748953975,
          0.3523012552301255,
          0.35648535564853556,
          0.3598326359832636,
          0.3673640167364017,
          0.3673640167364017,
          0.3682008368200837,
          0.3698744769874477,
          0.3707112970711297,
          0.3707112970711297,
          0.3757322175732218,
          0.3757322175732218,
          0.3815899581589958,
          0.3832635983263598,
          0.3832635983263598,
          0.3891213389121339,
          0.3907949790794979,
          0.39246861924686194,
          0.3941422594142259,
          0.40334728033472805,
          0.40502092050209204,
          0.40502092050209204,
          0.4175732217573222,
          0.42092050209205023,
          0.42092050209205023,
          0.42677824267782427,
          0.42677824267782427,
          0.4276150627615063,
          0.4276150627615063,
          0.4301255230125523,
          0.4376569037656904,
          0.4376569037656904,
          0.4384937238493724,
          0.4384937238493724,
          0.4393305439330544,
          0.4393305439330544,
          0.4401673640167364,
          0.44435146443514645,
          0.45690376569037655,
          0.4602510460251046,
          0.4635983263598326,
          0.4635983263598326,
          0.4686192468619247,
          0.4686192468619247,
          0.4694560669456067,
          0.4694560669456067,
          0.4711297071129707,
          0.47531380753138075,
          0.47531380753138075,
          0.48535564853556484,
          0.4920502092050209,
          0.49623430962343096,
          0.49623430962343096,
          0.500418410041841,
          0.507112970711297,
          0.507949790794979,
          0.507949790794979,
          0.5121338912133891,
          0.5121338912133891,
          0.5171548117154812,
          0.5171548117154812,
          0.5188284518828452,
          0.5221757322175732,
          0.5280334728033472,
          0.5280334728033472,
          0.5347280334728034,
          0.5364016736401673,
          0.5464435146443515,
          0.5623430962343097,
          0.5623430962343097,
          0.5631799163179916,
          0.5631799163179916,
          0.5640167364016736,
          0.5656903765690376,
          0.5698744769874478,
          0.5698744769874478,
          0.5832635983263599,
          0.5832635983263599,
          0.5899581589958159,
          0.599163179916318,
          0.6033472803347281,
          0.605020920502092,
          0.6108786610878661,
          0.6125523012552301,
          0.6175732217573222,
          0.6259414225941422,
          0.6317991631799164,
          0.6317991631799164,
          0.6443514644351465,
          0.6510460251046025,
          0.6594142259414226,
          0.6610878661087866,
          0.6686192468619246,
          0.6778242677824268,
          0.6836820083682008,
          0.6836820083682008,
          0.6845188284518828,
          0.6861924686192469,
          0.701255230125523,
          0.7087866108786611,
          0.7338912133891213,
          0.7338912133891213,
          0.7364016736401674,
          0.7497907949790795,
          0.7656903765690377,
          0.7757322175732217,
          0.7790794979079498,
          0.7790794979079498,
          0.7815899581589958,
          0.7815899581589958,
          0.7916317991631799,
          0.801673640167364,
          0.8058577405857741,
          0.8075313807531381,
          0.8117154811715481,
          0.8117154811715481,
          0.8217573221757322,
          0.8317991631799163,
          0.8351464435146444,
          0.8351464435146444,
          0.8510460251046025,
          0.8610878661087866,
          0.8736401673640167,
          0.8753138075313808,
          0.8845188284518829,
          0.8945606694560669,
          0.899581589958159,
          0.901255230125523,
          0.9179916317991632,
          0.9205020920502092,
          0.9221757322175732,
          0.9347280334728033,
          0.9472803347280335,
          0.9472803347280335,
          0.9489539748953975,
          0.9564853556485355,
          0.9615062761506277,
          0.9748953974895398,
          0.9832635983263598,
          0.9849372384937238,
          0.9857740585774059,
          0.9874476987447699,
          1
         ],
         "y": [
          0,
          0.003278688524590164,
          0.013114754098360656,
          0.013114754098360656,
          0.04262295081967213,
          0.04918032786885246,
          0.09180327868852459,
          0.09180327868852459,
          0.1377049180327869,
          0.14754098360655737,
          0.15081967213114755,
          0.15081967213114755,
          0.1540983606557377,
          0.1540983606557377,
          0.16065573770491803,
          0.16393442622950818,
          0.17049180327868851,
          0.2,
          0.2,
          0.20655737704918034,
          0.21967213114754097,
          0.22950819672131148,
          0.22950819672131148,
          0.2360655737704918,
          0.2360655737704918,
          0.24262295081967214,
          0.24262295081967214,
          0.25245901639344265,
          0.25901639344262295,
          0.25901639344262295,
          0.2754098360655738,
          0.2819672131147541,
          0.29508196721311475,
          0.3016393442622951,
          0.3114754098360656,
          0.3180327868852459,
          0.33114754098360655,
          0.3377049180327869,
          0.3540983606557377,
          0.3540983606557377,
          0.36065573770491804,
          0.36065573770491804,
          0.3639344262295082,
          0.3737704918032787,
          0.3737704918032787,
          0.3770491803278688,
          0.3770491803278688,
          0.380327868852459,
          0.380327868852459,
          0.3836065573770492,
          0.3836065573770492,
          0.38688524590163936,
          0.38688524590163936,
          0.40327868852459015,
          0.40327868852459015,
          0.4065573770491803,
          0.4065573770491803,
          0.4098360655737705,
          0.4098360655737705,
          0.4163934426229508,
          0.4163934426229508,
          0.42950819672131146,
          0.42950819672131146,
          0.4360655737704918,
          0.4360655737704918,
          0.43934426229508194,
          0.43934426229508194,
          0.4524590163934426,
          0.4524590163934426,
          0.4557377049180328,
          0.4557377049180328,
          0.45901639344262296,
          0.45901639344262296,
          0.46229508196721314,
          0.46229508196721314,
          0.46885245901639344,
          0.46885245901639344,
          0.4721311475409836,
          0.4786885245901639,
          0.4786885245901639,
          0.4819672131147541,
          0.4819672131147541,
          0.4852459016393443,
          0.4852459016393443,
          0.4918032786885246,
          0.4918032786885246,
          0.49836065573770494,
          0.49836065573770494,
          0.5016393442622951,
          0.5049180327868853,
          0.5049180327868853,
          0.5180327868852459,
          0.5245901639344263,
          0.5245901639344263,
          0.5311475409836065,
          0.5311475409836065,
          0.5344262295081967,
          0.5344262295081967,
          0.5409836065573771,
          0.5409836065573771,
          0.5540983606557377,
          0.5540983606557377,
          0.5573770491803278,
          0.5573770491803278,
          0.5639344262295082,
          0.5639344262295082,
          0.5672131147540984,
          0.5672131147540984,
          0.5770491803278689,
          0.5770491803278689,
          0.580327868852459,
          0.580327868852459,
          0.5868852459016394,
          0.5868852459016394,
          0.5934426229508196,
          0.5934426229508196,
          0.5967213114754099,
          0.5967213114754099,
          0.6,
          0.6,
          0.6032786885245902,
          0.6032786885245902,
          0.6098360655737705,
          0.6098360655737705,
          0.6131147540983607,
          0.6131147540983607,
          0.6229508196721312,
          0.6229508196721312,
          0.6327868852459017,
          0.6327868852459017,
          0.6360655737704918,
          0.6360655737704918,
          0.639344262295082,
          0.639344262295082,
          0.6426229508196721,
          0.6426229508196721,
          0.6459016393442623,
          0.6459016393442623,
          0.6524590163934426,
          0.6524590163934426,
          0.6524590163934426,
          0.6524590163934426,
          0.6557377049180327,
          0.6557377049180327,
          0.6721311475409836,
          0.6721311475409836,
          0.6754098360655738,
          0.6754098360655738,
          0.6819672131147541,
          0.6819672131147541,
          0.6852459016393443,
          0.6852459016393443,
          0.6885245901639344,
          0.6885245901639344,
          0.6918032786885245,
          0.6918032786885245,
          0.6950819672131148,
          0.6950819672131148,
          0.6950819672131148,
          0.6950819672131148,
          0.6983606557377049,
          0.6983606557377049,
          0.7016393442622951,
          0.7016393442622951,
          0.7081967213114754,
          0.7081967213114754,
          0.7114754098360656,
          0.7114754098360656,
          0.7180327868852459,
          0.7180327868852459,
          0.7180327868852459,
          0.7245901639344262,
          0.7245901639344262,
          0.7311475409836066,
          0.7311475409836066,
          0.7344262295081967,
          0.7344262295081967,
          0.7377049180327869,
          0.7377049180327869,
          0.740983606557377,
          0.740983606557377,
          0.7442622950819672,
          0.7442622950819672,
          0.7475409836065574,
          0.7475409836065574,
          0.7508196721311475,
          0.7508196721311475,
          0.7540983606557377,
          0.7540983606557377,
          0.7573770491803279,
          0.7573770491803279,
          0.760655737704918,
          0.760655737704918,
          0.7639344262295082,
          0.7639344262295082,
          0.7672131147540984,
          0.7672131147540984,
          0.7704918032786885,
          0.7704918032786885,
          0.7704918032786885,
          0.7704918032786885,
          0.7737704918032787,
          0.7737704918032787,
          0.7770491803278688,
          0.7770491803278688,
          0.780327868852459,
          0.780327868852459,
          0.7836065573770492,
          0.7901639344262295,
          0.7901639344262295,
          0.7934426229508197,
          0.7934426229508197,
          0.7934426229508197,
          0.7934426229508197,
          0.7967213114754098,
          0.7967213114754098,
          0.7967213114754098,
          0.7967213114754098,
          0.8,
          0.8,
          0.8032786885245902,
          0.8032786885245902,
          0.8065573770491803,
          0.8065573770491803,
          0.8098360655737705,
          0.8098360655737705,
          0.8131147540983606,
          0.8131147540983606,
          0.8131147540983606,
          0.8131147540983606,
          0.8163934426229508,
          0.8163934426229508,
          0.8163934426229508,
          0.8163934426229508,
          0.819672131147541,
          0.819672131147541,
          0.8229508196721311,
          0.8229508196721311,
          0.8229508196721311,
          0.8229508196721311,
          0.8262295081967214,
          0.8262295081967214,
          0.8295081967213115,
          0.8295081967213115,
          0.8327868852459016,
          0.8327868852459016,
          0.8327868852459016,
          0.8360655737704918,
          0.8360655737704918,
          0.839344262295082,
          0.8426229508196721,
          0.8426229508196721,
          0.8426229508196721,
          0.8426229508196721,
          0.8426229508196721,
          0.8426229508196721,
          0.8426229508196721,
          0.8426229508196721,
          0.8459016393442623,
          0.8459016393442623,
          0.8491803278688524,
          0.8491803278688524,
          0.8491803278688524,
          0.8491803278688524,
          0.8524590163934426,
          0.8524590163934426,
          0.8557377049180328,
          0.8557377049180328,
          0.8622950819672132,
          0.8655737704918033,
          0.8655737704918033,
          0.8655737704918033,
          0.8655737704918033,
          0.8655737704918033,
          0.8655737704918033,
          0.8688524590163934,
          0.8721311475409836,
          0.8721311475409836,
          0.8754098360655738,
          0.8786885245901639,
          0.8786885245901639,
          0.8819672131147541,
          0.8819672131147541,
          0.8852459016393442,
          0.8885245901639345,
          0.8885245901639345,
          0.8918032786885246,
          0.8918032786885246,
          0.8950819672131147,
          0.8950819672131147,
          0.898360655737705,
          0.898360655737705,
          0.898360655737705,
          0.898360655737705,
          0.898360655737705,
          0.898360655737705,
          0.9016393442622951,
          0.9016393442622951,
          0.9049180327868852,
          0.9049180327868852,
          0.9081967213114754,
          0.9081967213114754,
          0.9114754098360656,
          0.9180327868852459,
          0.9180327868852459,
          0.9180327868852459,
          0.9180327868852459,
          0.921311475409836,
          0.921311475409836,
          0.921311475409836,
          0.921311475409836,
          0.9245901639344263,
          0.9245901639344263,
          0.9278688524590164,
          0.9278688524590164,
          0.9311475409836065,
          0.9311475409836065,
          0.9311475409836065,
          0.9311475409836065,
          0.9344262295081968,
          0.9344262295081968,
          0.9344262295081968,
          0.9344262295081968,
          0.9344262295081968,
          0.9377049180327869,
          0.9377049180327869,
          0.940983606557377,
          0.940983606557377,
          0.940983606557377,
          0.9475409836065574,
          0.9508196721311475,
          0.9508196721311475,
          0.9540983606557377,
          0.9540983606557377,
          0.9540983606557377,
          0.9540983606557377,
          0.9540983606557377,
          0.9540983606557377,
          0.9540983606557377,
          0.9540983606557377,
          0.9540983606557377,
          0.9540983606557377,
          0.9573770491803278,
          0.9573770491803278,
          0.9573770491803278,
          0.9573770491803278,
          0.9573770491803278,
          0.9573770491803278,
          0.9573770491803278,
          0.9573770491803278,
          0.9606557377049181,
          0.9606557377049181,
          0.9606557377049181,
          0.9606557377049181,
          0.9672131147540983,
          0.9672131147540983,
          0.9704918032786886,
          0.9704918032786886,
          0.9704918032786886,
          0.9704918032786886,
          0.9704918032786886,
          0.9704918032786886,
          0.9737704918032787,
          0.9737704918032787,
          0.9770491803278688,
          0.9770491803278688,
          0.9836065573770492,
          0.9836065573770492,
          0.9836065573770492,
          0.9836065573770492,
          0.9868852459016394,
          0.9868852459016394,
          0.9868852459016394,
          0.9868852459016394,
          0.9934426229508196,
          0.9934426229508196,
          0.9967213114754099,
          0.9967213114754099,
          0.9967213114754099,
          0.9967213114754099,
          0.9967213114754099,
          0.9967213114754099,
          0.9967213114754099,
          0.9967213114754099,
          0.9967213114754099,
          0.9967213114754099,
          0.9967213114754099,
          0.9967213114754099,
          1,
          1,
          1,
          1,
          1,
          1,
          1,
          1,
          1,
          1
         ]
        },
        {
         "line": {
          "color": "black",
          "dash": "dash"
         },
         "mode": "lines",
         "name": "No skill",
         "type": "scatter",
         "x": [
          0,
          1
         ],
         "y": [
          0,
          1
         ]
        }
       ],
       "layout": {
        "height": 750,
        "template": {
         "data": {
          "bar": [
           {
            "error_x": {
             "color": "#2a3f5f"
            },
            "error_y": {
             "color": "#2a3f5f"
            },
            "marker": {
             "line": {
              "color": "white",
              "width": 0.5
             },
             "pattern": {
              "fillmode": "overlay",
              "size": 10,
              "solidity": 0.2
             }
            },
            "type": "bar"
           }
          ],
          "barpolar": [
           {
            "marker": {
             "line": {
              "color": "white",
              "width": 0.5
             },
             "pattern": {
              "fillmode": "overlay",
              "size": 10,
              "solidity": 0.2
             }
            },
            "type": "barpolar"
           }
          ],
          "carpet": [
           {
            "aaxis": {
             "endlinecolor": "#2a3f5f",
             "gridcolor": "#C8D4E3",
             "linecolor": "#C8D4E3",
             "minorgridcolor": "#C8D4E3",
             "startlinecolor": "#2a3f5f"
            },
            "baxis": {
             "endlinecolor": "#2a3f5f",
             "gridcolor": "#C8D4E3",
             "linecolor": "#C8D4E3",
             "minorgridcolor": "#C8D4E3",
             "startlinecolor": "#2a3f5f"
            },
            "type": "carpet"
           }
          ],
          "choropleth": [
           {
            "colorbar": {
             "outlinewidth": 0,
             "ticks": ""
            },
            "type": "choropleth"
           }
          ],
          "contour": [
           {
            "colorbar": {
             "outlinewidth": 0,
             "ticks": ""
            },
            "colorscale": [
             [
              0,
              "#0d0887"
             ],
             [
              0.1111111111111111,
              "#46039f"
             ],
             [
              0.2222222222222222,
              "#7201a8"
             ],
             [
              0.3333333333333333,
              "#9c179e"
             ],
             [
              0.4444444444444444,
              "#bd3786"
             ],
             [
              0.5555555555555556,
              "#d8576b"
             ],
             [
              0.6666666666666666,
              "#ed7953"
             ],
             [
              0.7777777777777778,
              "#fb9f3a"
             ],
             [
              0.8888888888888888,
              "#fdca26"
             ],
             [
              1,
              "#f0f921"
             ]
            ],
            "type": "contour"
           }
          ],
          "contourcarpet": [
           {
            "colorbar": {
             "outlinewidth": 0,
             "ticks": ""
            },
            "type": "contourcarpet"
           }
          ],
          "heatmap": [
           {
            "colorbar": {
             "outlinewidth": 0,
             "ticks": ""
            },
            "colorscale": [
             [
              0,
              "#0d0887"
             ],
             [
              0.1111111111111111,
              "#46039f"
             ],
             [
              0.2222222222222222,
              "#7201a8"
             ],
             [
              0.3333333333333333,
              "#9c179e"
             ],
             [
              0.4444444444444444,
              "#bd3786"
             ],
             [
              0.5555555555555556,
              "#d8576b"
             ],
             [
              0.6666666666666666,
              "#ed7953"
             ],
             [
              0.7777777777777778,
              "#fb9f3a"
             ],
             [
              0.8888888888888888,
              "#fdca26"
             ],
             [
              1,
              "#f0f921"
             ]
            ],
            "type": "heatmap"
           }
          ],
          "heatmapgl": [
           {
            "colorbar": {
             "outlinewidth": 0,
             "ticks": ""
            },
            "colorscale": [
             [
              0,
              "#0d0887"
             ],
             [
              0.1111111111111111,
              "#46039f"
             ],
             [
              0.2222222222222222,
              "#7201a8"
             ],
             [
              0.3333333333333333,
              "#9c179e"
             ],
             [
              0.4444444444444444,
              "#bd3786"
             ],
             [
              0.5555555555555556,
              "#d8576b"
             ],
             [
              0.6666666666666666,
              "#ed7953"
             ],
             [
              0.7777777777777778,
              "#fb9f3a"
             ],
             [
              0.8888888888888888,
              "#fdca26"
             ],
             [
              1,
              "#f0f921"
             ]
            ],
            "type": "heatmapgl"
           }
          ],
          "histogram": [
           {
            "marker": {
             "pattern": {
              "fillmode": "overlay",
              "size": 10,
              "solidity": 0.2
             }
            },
            "type": "histogram"
           }
          ],
          "histogram2d": [
           {
            "colorbar": {
             "outlinewidth": 0,
             "ticks": ""
            },
            "colorscale": [
             [
              0,
              "#0d0887"
             ],
             [
              0.1111111111111111,
              "#46039f"
             ],
             [
              0.2222222222222222,
              "#7201a8"
             ],
             [
              0.3333333333333333,
              "#9c179e"
             ],
             [
              0.4444444444444444,
              "#bd3786"
             ],
             [
              0.5555555555555556,
              "#d8576b"
             ],
             [
              0.6666666666666666,
              "#ed7953"
             ],
             [
              0.7777777777777778,
              "#fb9f3a"
             ],
             [
              0.8888888888888888,
              "#fdca26"
             ],
             [
              1,
              "#f0f921"
             ]
            ],
            "type": "histogram2d"
           }
          ],
          "histogram2dcontour": [
           {
            "colorbar": {
             "outlinewidth": 0,
             "ticks": ""
            },
            "colorscale": [
             [
              0,
              "#0d0887"
             ],
             [
              0.1111111111111111,
              "#46039f"
             ],
             [
              0.2222222222222222,
              "#7201a8"
             ],
             [
              0.3333333333333333,
              "#9c179e"
             ],
             [
              0.4444444444444444,
              "#bd3786"
             ],
             [
              0.5555555555555556,
              "#d8576b"
             ],
             [
              0.6666666666666666,
              "#ed7953"
             ],
             [
              0.7777777777777778,
              "#fb9f3a"
             ],
             [
              0.8888888888888888,
              "#fdca26"
             ],
             [
              1,
              "#f0f921"
             ]
            ],
            "type": "histogram2dcontour"
           }
          ],
          "mesh3d": [
           {
            "colorbar": {
             "outlinewidth": 0,
             "ticks": ""
            },
            "type": "mesh3d"
           }
          ],
          "parcoords": [
           {
            "line": {
             "colorbar": {
              "outlinewidth": 0,
              "ticks": ""
             }
            },
            "type": "parcoords"
           }
          ],
          "pie": [
           {
            "automargin": true,
            "type": "pie"
           }
          ],
          "scatter": [
           {
            "fillpattern": {
             "fillmode": "overlay",
             "size": 10,
             "solidity": 0.2
            },
            "type": "scatter"
           }
          ],
          "scatter3d": [
           {
            "line": {
             "colorbar": {
              "outlinewidth": 0,
              "ticks": ""
             }
            },
            "marker": {
             "colorbar": {
              "outlinewidth": 0,
              "ticks": ""
             }
            },
            "type": "scatter3d"
           }
          ],
          "scattercarpet": [
           {
            "marker": {
             "colorbar": {
              "outlinewidth": 0,
              "ticks": ""
             }
            },
            "type": "scattercarpet"
           }
          ],
          "scattergeo": [
           {
            "marker": {
             "colorbar": {
              "outlinewidth": 0,
              "ticks": ""
             }
            },
            "type": "scattergeo"
           }
          ],
          "scattergl": [
           {
            "marker": {
             "colorbar": {
              "outlinewidth": 0,
              "ticks": ""
             }
            },
            "type": "scattergl"
           }
          ],
          "scattermapbox": [
           {
            "marker": {
             "colorbar": {
              "outlinewidth": 0,
              "ticks": ""
             }
            },
            "type": "scattermapbox"
           }
          ],
          "scatterpolar": [
           {
            "marker": {
             "colorbar": {
              "outlinewidth": 0,
              "ticks": ""
             }
            },
            "type": "scatterpolar"
           }
          ],
          "scatterpolargl": [
           {
            "marker": {
             "colorbar": {
              "outlinewidth": 0,
              "ticks": ""
             }
            },
            "type": "scatterpolargl"
           }
          ],
          "scatterternary": [
           {
            "marker": {
             "colorbar": {
              "outlinewidth": 0,
              "ticks": ""
             }
            },
            "type": "scatterternary"
           }
          ],
          "surface": [
           {
            "colorbar": {
             "outlinewidth": 0,
             "ticks": ""
            },
            "colorscale": [
             [
              0,
              "#0d0887"
             ],
             [
              0.1111111111111111,
              "#46039f"
             ],
             [
              0.2222222222222222,
              "#7201a8"
             ],
             [
              0.3333333333333333,
              "#9c179e"
             ],
             [
              0.4444444444444444,
              "#bd3786"
             ],
             [
              0.5555555555555556,
              "#d8576b"
             ],
             [
              0.6666666666666666,
              "#ed7953"
             ],
             [
              0.7777777777777778,
              "#fb9f3a"
             ],
             [
              0.8888888888888888,
              "#fdca26"
             ],
             [
              1,
              "#f0f921"
             ]
            ],
            "type": "surface"
           }
          ],
          "table": [
           {
            "cells": {
             "fill": {
              "color": "#EBF0F8"
             },
             "line": {
              "color": "white"
             }
            },
            "header": {
             "fill": {
              "color": "#C8D4E3"
             },
             "line": {
              "color": "white"
             }
            },
            "type": "table"
           }
          ]
         },
         "layout": {
          "annotationdefaults": {
           "arrowcolor": "#2a3f5f",
           "arrowhead": 0,
           "arrowwidth": 1
          },
          "autotypenumbers": "strict",
          "coloraxis": {
           "colorbar": {
            "outlinewidth": 0,
            "ticks": ""
           }
          },
          "colorscale": {
           "diverging": [
            [
             0,
             "#8e0152"
            ],
            [
             0.1,
             "#c51b7d"
            ],
            [
             0.2,
             "#de77ae"
            ],
            [
             0.3,
             "#f1b6da"
            ],
            [
             0.4,
             "#fde0ef"
            ],
            [
             0.5,
             "#f7f7f7"
            ],
            [
             0.6,
             "#e6f5d0"
            ],
            [
             0.7,
             "#b8e186"
            ],
            [
             0.8,
             "#7fbc41"
            ],
            [
             0.9,
             "#4d9221"
            ],
            [
             1,
             "#276419"
            ]
           ],
           "sequential": [
            [
             0,
             "#0d0887"
            ],
            [
             0.1111111111111111,
             "#46039f"
            ],
            [
             0.2222222222222222,
             "#7201a8"
            ],
            [
             0.3333333333333333,
             "#9c179e"
            ],
            [
             0.4444444444444444,
             "#bd3786"
            ],
            [
             0.5555555555555556,
             "#d8576b"
            ],
            [
             0.6666666666666666,
             "#ed7953"
            ],
            [
             0.7777777777777778,
             "#fb9f3a"
            ],
            [
             0.8888888888888888,
             "#fdca26"
            ],
            [
             1,
             "#f0f921"
            ]
           ],
           "sequentialminus": [
            [
             0,
             "#0d0887"
            ],
            [
             0.1111111111111111,
             "#46039f"
            ],
            [
             0.2222222222222222,
             "#7201a8"
            ],
            [
             0.3333333333333333,
             "#9c179e"
            ],
            [
             0.4444444444444444,
             "#bd3786"
            ],
            [
             0.5555555555555556,
             "#d8576b"
            ],
            [
             0.6666666666666666,
             "#ed7953"
            ],
            [
             0.7777777777777778,
             "#fb9f3a"
            ],
            [
             0.8888888888888888,
             "#fdca26"
            ],
            [
             1,
             "#f0f921"
            ]
           ]
          },
          "colorway": [
           "#636efa",
           "#EF553B",
           "#00cc96",
           "#ab63fa",
           "#FFA15A",
           "#19d3f3",
           "#FF6692",
           "#B6E880",
           "#FF97FF",
           "#FECB52"
          ],
          "font": {
           "color": "#2a3f5f"
          },
          "geo": {
           "bgcolor": "white",
           "lakecolor": "white",
           "landcolor": "white",
           "showlakes": true,
           "showland": true,
           "subunitcolor": "#C8D4E3"
          },
          "hoverlabel": {
           "align": "left"
          },
          "hovermode": "closest",
          "mapbox": {
           "style": "light"
          },
          "paper_bgcolor": "white",
          "plot_bgcolor": "white",
          "polar": {
           "angularaxis": {
            "gridcolor": "#EBF0F8",
            "linecolor": "#EBF0F8",
            "ticks": ""
           },
           "bgcolor": "white",
           "radialaxis": {
            "gridcolor": "#EBF0F8",
            "linecolor": "#EBF0F8",
            "ticks": ""
           }
          },
          "scene": {
           "xaxis": {
            "backgroundcolor": "white",
            "gridcolor": "#DFE8F3",
            "gridwidth": 2,
            "linecolor": "#EBF0F8",
            "showbackground": true,
            "ticks": "",
            "zerolinecolor": "#EBF0F8"
           },
           "yaxis": {
            "backgroundcolor": "white",
            "gridcolor": "#DFE8F3",
            "gridwidth": 2,
            "linecolor": "#EBF0F8",
            "showbackground": true,
            "ticks": "",
            "zerolinecolor": "#EBF0F8"
           },
           "zaxis": {
            "backgroundcolor": "white",
            "gridcolor": "#DFE8F3",
            "gridwidth": 2,
            "linecolor": "#EBF0F8",
            "showbackground": true,
            "ticks": "",
            "zerolinecolor": "#EBF0F8"
           }
          },
          "shapedefaults": {
           "line": {
            "color": "#2a3f5f"
           }
          },
          "ternary": {
           "aaxis": {
            "gridcolor": "#DFE8F3",
            "linecolor": "#A2B1C6",
            "ticks": ""
           },
           "baxis": {
            "gridcolor": "#DFE8F3",
            "linecolor": "#A2B1C6",
            "ticks": ""
           },
           "bgcolor": "white",
           "caxis": {
            "gridcolor": "#DFE8F3",
            "linecolor": "#A2B1C6",
            "ticks": ""
           }
          },
          "title": {
           "x": 0.05
          },
          "xaxis": {
           "automargin": true,
           "gridcolor": "#EBF0F8",
           "linecolor": "#EBF0F8",
           "ticks": "",
           "title": {
            "standoff": 15
           },
           "zerolinecolor": "#EBF0F8",
           "zerolinewidth": 2
          },
          "yaxis": {
           "automargin": true,
           "gridcolor": "#EBF0F8",
           "linecolor": "#EBF0F8",
           "ticks": "",
           "title": {
            "standoff": 15
           },
           "zerolinecolor": "#EBF0F8",
           "zerolinewidth": 2
          }
         }
        },
        "title": {
         "text": "ROC curves based on validation datasets"
        },
        "width": 1000,
        "xaxis": {
         "title": {
          "text": "False positive rate"
         }
        },
        "yaxis": {
         "title": {
          "text": "True positive rate"
         }
        }
       }
      }
     },
     "metadata": {},
     "output_type": "display_data"
    }
   ],
   "source": [
    "fig = plot_roc_auc(data_splits, models, 'valid', 'ROC curves based on validation datasets')\n",
    "fig.show()"
   ]
  },
  {
   "attachments": {},
   "cell_type": "markdown",
   "metadata": {},
   "source": [
    "### Датасет без sampling\n",
    "\n",
    "Возьмем датасет как есть и посмотрим на качество моделей."
   ]
  },
  {
   "cell_type": "code",
   "execution_count": 24,
   "metadata": {},
   "outputs": [
    {
     "name": "stdout",
     "output_type": "stream",
     "text": [
      "The best model parameters are:\n",
      "classifier: RandomForest\n",
      "rf_max_depth: 18\n",
      "rf_n_estimators: 158\n",
      "\n",
      "The performance metrics of the model are:\n",
      "valid_f1: 0.6032\n",
      "valid_roc_auc: 0.8638\n"
     ]
    },
    {
     "data": {
      "application/vnd.plotly.v1+json": {
       "config": {
        "plotlyServerURL": "https://plot.ly"
       },
       "data": [
        {
         "mode": "markers",
         "name": "Objective Value",
         "type": "scatter",
         "x": [
          0,
          1,
          2,
          3,
          4,
          5,
          6,
          7,
          8,
          9
         ],
         "y": [
          0.516,
          0.33,
          0.516,
          0,
          0.527,
          0.322,
          0.516,
          0.603,
          0.532,
          0.545
         ]
        },
        {
         "name": "Best Value",
         "type": "scatter",
         "x": [
          0,
          1,
          2,
          3,
          4,
          5,
          6,
          7,
          8,
          9
         ],
         "y": [
          0.516,
          0.516,
          0.516,
          0.516,
          0.527,
          0.527,
          0.527,
          0.603,
          0.603,
          0.603
         ]
        }
       ],
       "layout": {
        "height": 500,
        "template": {
         "data": {
          "bar": [
           {
            "error_x": {
             "color": "#2a3f5f"
            },
            "error_y": {
             "color": "#2a3f5f"
            },
            "marker": {
             "line": {
              "color": "white",
              "width": 0.5
             },
             "pattern": {
              "fillmode": "overlay",
              "size": 10,
              "solidity": 0.2
             }
            },
            "type": "bar"
           }
          ],
          "barpolar": [
           {
            "marker": {
             "line": {
              "color": "white",
              "width": 0.5
             },
             "pattern": {
              "fillmode": "overlay",
              "size": 10,
              "solidity": 0.2
             }
            },
            "type": "barpolar"
           }
          ],
          "carpet": [
           {
            "aaxis": {
             "endlinecolor": "#2a3f5f",
             "gridcolor": "#C8D4E3",
             "linecolor": "#C8D4E3",
             "minorgridcolor": "#C8D4E3",
             "startlinecolor": "#2a3f5f"
            },
            "baxis": {
             "endlinecolor": "#2a3f5f",
             "gridcolor": "#C8D4E3",
             "linecolor": "#C8D4E3",
             "minorgridcolor": "#C8D4E3",
             "startlinecolor": "#2a3f5f"
            },
            "type": "carpet"
           }
          ],
          "choropleth": [
           {
            "colorbar": {
             "outlinewidth": 0,
             "ticks": ""
            },
            "type": "choropleth"
           }
          ],
          "contour": [
           {
            "colorbar": {
             "outlinewidth": 0,
             "ticks": ""
            },
            "colorscale": [
             [
              0,
              "#0d0887"
             ],
             [
              0.1111111111111111,
              "#46039f"
             ],
             [
              0.2222222222222222,
              "#7201a8"
             ],
             [
              0.3333333333333333,
              "#9c179e"
             ],
             [
              0.4444444444444444,
              "#bd3786"
             ],
             [
              0.5555555555555556,
              "#d8576b"
             ],
             [
              0.6666666666666666,
              "#ed7953"
             ],
             [
              0.7777777777777778,
              "#fb9f3a"
             ],
             [
              0.8888888888888888,
              "#fdca26"
             ],
             [
              1,
              "#f0f921"
             ]
            ],
            "type": "contour"
           }
          ],
          "contourcarpet": [
           {
            "colorbar": {
             "outlinewidth": 0,
             "ticks": ""
            },
            "type": "contourcarpet"
           }
          ],
          "heatmap": [
           {
            "colorbar": {
             "outlinewidth": 0,
             "ticks": ""
            },
            "colorscale": [
             [
              0,
              "#0d0887"
             ],
             [
              0.1111111111111111,
              "#46039f"
             ],
             [
              0.2222222222222222,
              "#7201a8"
             ],
             [
              0.3333333333333333,
              "#9c179e"
             ],
             [
              0.4444444444444444,
              "#bd3786"
             ],
             [
              0.5555555555555556,
              "#d8576b"
             ],
             [
              0.6666666666666666,
              "#ed7953"
             ],
             [
              0.7777777777777778,
              "#fb9f3a"
             ],
             [
              0.8888888888888888,
              "#fdca26"
             ],
             [
              1,
              "#f0f921"
             ]
            ],
            "type": "heatmap"
           }
          ],
          "heatmapgl": [
           {
            "colorbar": {
             "outlinewidth": 0,
             "ticks": ""
            },
            "colorscale": [
             [
              0,
              "#0d0887"
             ],
             [
              0.1111111111111111,
              "#46039f"
             ],
             [
              0.2222222222222222,
              "#7201a8"
             ],
             [
              0.3333333333333333,
              "#9c179e"
             ],
             [
              0.4444444444444444,
              "#bd3786"
             ],
             [
              0.5555555555555556,
              "#d8576b"
             ],
             [
              0.6666666666666666,
              "#ed7953"
             ],
             [
              0.7777777777777778,
              "#fb9f3a"
             ],
             [
              0.8888888888888888,
              "#fdca26"
             ],
             [
              1,
              "#f0f921"
             ]
            ],
            "type": "heatmapgl"
           }
          ],
          "histogram": [
           {
            "marker": {
             "pattern": {
              "fillmode": "overlay",
              "size": 10,
              "solidity": 0.2
             }
            },
            "type": "histogram"
           }
          ],
          "histogram2d": [
           {
            "colorbar": {
             "outlinewidth": 0,
             "ticks": ""
            },
            "colorscale": [
             [
              0,
              "#0d0887"
             ],
             [
              0.1111111111111111,
              "#46039f"
             ],
             [
              0.2222222222222222,
              "#7201a8"
             ],
             [
              0.3333333333333333,
              "#9c179e"
             ],
             [
              0.4444444444444444,
              "#bd3786"
             ],
             [
              0.5555555555555556,
              "#d8576b"
             ],
             [
              0.6666666666666666,
              "#ed7953"
             ],
             [
              0.7777777777777778,
              "#fb9f3a"
             ],
             [
              0.8888888888888888,
              "#fdca26"
             ],
             [
              1,
              "#f0f921"
             ]
            ],
            "type": "histogram2d"
           }
          ],
          "histogram2dcontour": [
           {
            "colorbar": {
             "outlinewidth": 0,
             "ticks": ""
            },
            "colorscale": [
             [
              0,
              "#0d0887"
             ],
             [
              0.1111111111111111,
              "#46039f"
             ],
             [
              0.2222222222222222,
              "#7201a8"
             ],
             [
              0.3333333333333333,
              "#9c179e"
             ],
             [
              0.4444444444444444,
              "#bd3786"
             ],
             [
              0.5555555555555556,
              "#d8576b"
             ],
             [
              0.6666666666666666,
              "#ed7953"
             ],
             [
              0.7777777777777778,
              "#fb9f3a"
             ],
             [
              0.8888888888888888,
              "#fdca26"
             ],
             [
              1,
              "#f0f921"
             ]
            ],
            "type": "histogram2dcontour"
           }
          ],
          "mesh3d": [
           {
            "colorbar": {
             "outlinewidth": 0,
             "ticks": ""
            },
            "type": "mesh3d"
           }
          ],
          "parcoords": [
           {
            "line": {
             "colorbar": {
              "outlinewidth": 0,
              "ticks": ""
             }
            },
            "type": "parcoords"
           }
          ],
          "pie": [
           {
            "automargin": true,
            "type": "pie"
           }
          ],
          "scatter": [
           {
            "fillpattern": {
             "fillmode": "overlay",
             "size": 10,
             "solidity": 0.2
            },
            "type": "scatter"
           }
          ],
          "scatter3d": [
           {
            "line": {
             "colorbar": {
              "outlinewidth": 0,
              "ticks": ""
             }
            },
            "marker": {
             "colorbar": {
              "outlinewidth": 0,
              "ticks": ""
             }
            },
            "type": "scatter3d"
           }
          ],
          "scattercarpet": [
           {
            "marker": {
             "colorbar": {
              "outlinewidth": 0,
              "ticks": ""
             }
            },
            "type": "scattercarpet"
           }
          ],
          "scattergeo": [
           {
            "marker": {
             "colorbar": {
              "outlinewidth": 0,
              "ticks": ""
             }
            },
            "type": "scattergeo"
           }
          ],
          "scattergl": [
           {
            "marker": {
             "colorbar": {
              "outlinewidth": 0,
              "ticks": ""
             }
            },
            "type": "scattergl"
           }
          ],
          "scattermapbox": [
           {
            "marker": {
             "colorbar": {
              "outlinewidth": 0,
              "ticks": ""
             }
            },
            "type": "scattermapbox"
           }
          ],
          "scatterpolar": [
           {
            "marker": {
             "colorbar": {
              "outlinewidth": 0,
              "ticks": ""
             }
            },
            "type": "scatterpolar"
           }
          ],
          "scatterpolargl": [
           {
            "marker": {
             "colorbar": {
              "outlinewidth": 0,
              "ticks": ""
             }
            },
            "type": "scatterpolargl"
           }
          ],
          "scatterternary": [
           {
            "marker": {
             "colorbar": {
              "outlinewidth": 0,
              "ticks": ""
             }
            },
            "type": "scatterternary"
           }
          ],
          "surface": [
           {
            "colorbar": {
             "outlinewidth": 0,
             "ticks": ""
            },
            "colorscale": [
             [
              0,
              "#0d0887"
             ],
             [
              0.1111111111111111,
              "#46039f"
             ],
             [
              0.2222222222222222,
              "#7201a8"
             ],
             [
              0.3333333333333333,
              "#9c179e"
             ],
             [
              0.4444444444444444,
              "#bd3786"
             ],
             [
              0.5555555555555556,
              "#d8576b"
             ],
             [
              0.6666666666666666,
              "#ed7953"
             ],
             [
              0.7777777777777778,
              "#fb9f3a"
             ],
             [
              0.8888888888888888,
              "#fdca26"
             ],
             [
              1,
              "#f0f921"
             ]
            ],
            "type": "surface"
           }
          ],
          "table": [
           {
            "cells": {
             "fill": {
              "color": "#EBF0F8"
             },
             "line": {
              "color": "white"
             }
            },
            "header": {
             "fill": {
              "color": "#C8D4E3"
             },
             "line": {
              "color": "white"
             }
            },
            "type": "table"
           }
          ]
         },
         "layout": {
          "annotationdefaults": {
           "arrowcolor": "#2a3f5f",
           "arrowhead": 0,
           "arrowwidth": 1
          },
          "autotypenumbers": "strict",
          "coloraxis": {
           "colorbar": {
            "outlinewidth": 0,
            "ticks": ""
           }
          },
          "colorscale": {
           "diverging": [
            [
             0,
             "#8e0152"
            ],
            [
             0.1,
             "#c51b7d"
            ],
            [
             0.2,
             "#de77ae"
            ],
            [
             0.3,
             "#f1b6da"
            ],
            [
             0.4,
             "#fde0ef"
            ],
            [
             0.5,
             "#f7f7f7"
            ],
            [
             0.6,
             "#e6f5d0"
            ],
            [
             0.7,
             "#b8e186"
            ],
            [
             0.8,
             "#7fbc41"
            ],
            [
             0.9,
             "#4d9221"
            ],
            [
             1,
             "#276419"
            ]
           ],
           "sequential": [
            [
             0,
             "#0d0887"
            ],
            [
             0.1111111111111111,
             "#46039f"
            ],
            [
             0.2222222222222222,
             "#7201a8"
            ],
            [
             0.3333333333333333,
             "#9c179e"
            ],
            [
             0.4444444444444444,
             "#bd3786"
            ],
            [
             0.5555555555555556,
             "#d8576b"
            ],
            [
             0.6666666666666666,
             "#ed7953"
            ],
            [
             0.7777777777777778,
             "#fb9f3a"
            ],
            [
             0.8888888888888888,
             "#fdca26"
            ],
            [
             1,
             "#f0f921"
            ]
           ],
           "sequentialminus": [
            [
             0,
             "#0d0887"
            ],
            [
             0.1111111111111111,
             "#46039f"
            ],
            [
             0.2222222222222222,
             "#7201a8"
            ],
            [
             0.3333333333333333,
             "#9c179e"
            ],
            [
             0.4444444444444444,
             "#bd3786"
            ],
            [
             0.5555555555555556,
             "#d8576b"
            ],
            [
             0.6666666666666666,
             "#ed7953"
            ],
            [
             0.7777777777777778,
             "#fb9f3a"
            ],
            [
             0.8888888888888888,
             "#fdca26"
            ],
            [
             1,
             "#f0f921"
            ]
           ]
          },
          "colorway": [
           "#636efa",
           "#EF553B",
           "#00cc96",
           "#ab63fa",
           "#FFA15A",
           "#19d3f3",
           "#FF6692",
           "#B6E880",
           "#FF97FF",
           "#FECB52"
          ],
          "font": {
           "color": "#2a3f5f"
          },
          "geo": {
           "bgcolor": "white",
           "lakecolor": "white",
           "landcolor": "white",
           "showlakes": true,
           "showland": true,
           "subunitcolor": "#C8D4E3"
          },
          "hoverlabel": {
           "align": "left"
          },
          "hovermode": "closest",
          "mapbox": {
           "style": "light"
          },
          "paper_bgcolor": "white",
          "plot_bgcolor": "white",
          "polar": {
           "angularaxis": {
            "gridcolor": "#EBF0F8",
            "linecolor": "#EBF0F8",
            "ticks": ""
           },
           "bgcolor": "white",
           "radialaxis": {
            "gridcolor": "#EBF0F8",
            "linecolor": "#EBF0F8",
            "ticks": ""
           }
          },
          "scene": {
           "xaxis": {
            "backgroundcolor": "white",
            "gridcolor": "#DFE8F3",
            "gridwidth": 2,
            "linecolor": "#EBF0F8",
            "showbackground": true,
            "ticks": "",
            "zerolinecolor": "#EBF0F8"
           },
           "yaxis": {
            "backgroundcolor": "white",
            "gridcolor": "#DFE8F3",
            "gridwidth": 2,
            "linecolor": "#EBF0F8",
            "showbackground": true,
            "ticks": "",
            "zerolinecolor": "#EBF0F8"
           },
           "zaxis": {
            "backgroundcolor": "white",
            "gridcolor": "#DFE8F3",
            "gridwidth": 2,
            "linecolor": "#EBF0F8",
            "showbackground": true,
            "ticks": "",
            "zerolinecolor": "#EBF0F8"
           }
          },
          "shapedefaults": {
           "line": {
            "color": "#2a3f5f"
           }
          },
          "ternary": {
           "aaxis": {
            "gridcolor": "#DFE8F3",
            "linecolor": "#A2B1C6",
            "ticks": ""
           },
           "baxis": {
            "gridcolor": "#DFE8F3",
            "linecolor": "#A2B1C6",
            "ticks": ""
           },
           "bgcolor": "white",
           "caxis": {
            "gridcolor": "#DFE8F3",
            "linecolor": "#A2B1C6",
            "ticks": ""
           }
          },
          "title": {
           "x": 0.05
          },
          "xaxis": {
           "automargin": true,
           "gridcolor": "#EBF0F8",
           "linecolor": "#EBF0F8",
           "ticks": "",
           "title": {
            "standoff": 15
           },
           "zerolinecolor": "#EBF0F8",
           "zerolinewidth": 2
          },
          "yaxis": {
           "automargin": true,
           "gridcolor": "#EBF0F8",
           "linecolor": "#EBF0F8",
           "ticks": "",
           "title": {
            "standoff": 15
           },
           "zerolinecolor": "#EBF0F8",
           "zerolinewidth": 2
          }
         }
        },
        "title": {
         "text": "Optimization History Plot"
        },
        "width": 1000,
        "xaxis": {
         "title": {
          "text": "Trial"
         }
        },
        "yaxis": {
         "title": {
          "text": "Objective Value"
         }
        }
       }
      }
     },
     "metadata": {},
     "output_type": "display_data"
    },
    {
     "data": {
      "application/vnd.plotly.v1+json": {
       "config": {
        "plotlyServerURL": "https://plot.ly"
       },
       "data": [
        {
         "marker": {
          "color": [
           0,
           1,
           2,
           3,
           4,
           5,
           6,
           7,
           8,
           9
          ],
          "colorbar": {
           "title": {
            "text": "Trial"
           },
           "x": 1,
           "xpad": 40
          },
          "colorscale": [
           [
            0,
            "rgb(247,251,255)"
           ],
           [
            0.125,
            "rgb(222,235,247)"
           ],
           [
            0.25,
            "rgb(198,219,239)"
           ],
           [
            0.375,
            "rgb(158,202,225)"
           ],
           [
            0.5,
            "rgb(107,174,214)"
           ],
           [
            0.625,
            "rgb(66,146,198)"
           ],
           [
            0.75,
            "rgb(33,113,181)"
           ],
           [
            0.875,
            "rgb(8,81,156)"
           ],
           [
            1,
            "rgb(8,48,107)"
           ]
          ],
          "line": {
           "color": "Grey",
           "width": 0.5
          },
          "showscale": true
         },
         "mode": "markers",
         "showlegend": false,
         "type": "scatter",
         "x": [
          "DecisionTree",
          "LogisticRegression",
          "DecisionTree",
          "LogisticRegression",
          "DecisionTree",
          "LogisticRegression",
          "DecisionTree",
          "RandomForest",
          "DecisionTree",
          "DecisionTree"
         ],
         "xaxis": "x",
         "y": [
          0.516,
          0.33,
          0.516,
          0,
          0.527,
          0.322,
          0.516,
          0.603,
          0.532,
          0.545
         ],
         "yaxis": "y"
        },
        {
         "marker": {
          "color": [
           0,
           2,
           4,
           6,
           8,
           9
          ],
          "colorbar": {
           "title": {
            "text": "Trial"
           },
           "x": 1,
           "xpad": 40
          },
          "colorscale": [
           [
            0,
            "rgb(247,251,255)"
           ],
           [
            0.125,
            "rgb(222,235,247)"
           ],
           [
            0.25,
            "rgb(198,219,239)"
           ],
           [
            0.375,
            "rgb(158,202,225)"
           ],
           [
            0.5,
            "rgb(107,174,214)"
           ],
           [
            0.625,
            "rgb(66,146,198)"
           ],
           [
            0.75,
            "rgb(33,113,181)"
           ],
           [
            0.875,
            "rgb(8,81,156)"
           ],
           [
            1,
            "rgb(8,48,107)"
           ]
          ],
          "line": {
           "color": "Grey",
           "width": 0.5
          },
          "showscale": false
         },
         "mode": "markers",
         "showlegend": false,
         "type": "scatter",
         "x": [
          30,
          49,
          15,
          26,
          16,
          7
         ],
         "xaxis": "x2",
         "y": [
          0.516,
          0.516,
          0.527,
          0.516,
          0.532,
          0.545
         ],
         "yaxis": "y2"
        },
        {
         "marker": {
          "color": [
           1,
           3,
           5
          ],
          "colorbar": {
           "title": {
            "text": "Trial"
           },
           "x": 1,
           "xpad": 40
          },
          "colorscale": [
           [
            0,
            "rgb(247,251,255)"
           ],
           [
            0.125,
            "rgb(222,235,247)"
           ],
           [
            0.25,
            "rgb(198,219,239)"
           ],
           [
            0.375,
            "rgb(158,202,225)"
           ],
           [
            0.5,
            "rgb(107,174,214)"
           ],
           [
            0.625,
            "rgb(66,146,198)"
           ],
           [
            0.75,
            "rgb(33,113,181)"
           ],
           [
            0.875,
            "rgb(8,81,156)"
           ],
           [
            1,
            "rgb(8,48,107)"
           ]
          ],
          "line": {
           "color": "Grey",
           "width": 0.5
          },
          "showscale": false
         },
         "mode": "markers",
         "showlegend": false,
         "type": "scatter",
         "x": [
          24780.71022662143,
          0.00015880132371526778,
          0.02490818711274116
         ],
         "xaxis": "x3",
         "y": [
          0.33,
          0,
          0.322
         ],
         "yaxis": "y3"
        },
        {
         "marker": {
          "color": [
           7
          ],
          "colorbar": {
           "title": {
            "text": "Trial"
           },
           "x": 1,
           "xpad": 40
          },
          "colorscale": [
           [
            0,
            "rgb(247,251,255)"
           ],
           [
            0.125,
            "rgb(222,235,247)"
           ],
           [
            0.25,
            "rgb(198,219,239)"
           ],
           [
            0.375,
            "rgb(158,202,225)"
           ],
           [
            0.5,
            "rgb(107,174,214)"
           ],
           [
            0.625,
            "rgb(66,146,198)"
           ],
           [
            0.75,
            "rgb(33,113,181)"
           ],
           [
            0.875,
            "rgb(8,81,156)"
           ],
           [
            1,
            "rgb(8,48,107)"
           ]
          ],
          "line": {
           "color": "Grey",
           "width": 0.5
          },
          "showscale": false
         },
         "mode": "markers",
         "showlegend": false,
         "type": "scatter",
         "x": [
          18
         ],
         "xaxis": "x4",
         "y": [
          0.603
         ],
         "yaxis": "y4"
        },
        {
         "marker": {
          "color": [
           7
          ],
          "colorbar": {
           "title": {
            "text": "Trial"
           },
           "x": 1,
           "xpad": 40
          },
          "colorscale": [
           [
            0,
            "rgb(247,251,255)"
           ],
           [
            0.125,
            "rgb(222,235,247)"
           ],
           [
            0.25,
            "rgb(198,219,239)"
           ],
           [
            0.375,
            "rgb(158,202,225)"
           ],
           [
            0.5,
            "rgb(107,174,214)"
           ],
           [
            0.625,
            "rgb(66,146,198)"
           ],
           [
            0.75,
            "rgb(33,113,181)"
           ],
           [
            0.875,
            "rgb(8,81,156)"
           ],
           [
            1,
            "rgb(8,48,107)"
           ]
          ],
          "line": {
           "color": "Grey",
           "width": 0.5
          },
          "showscale": false
         },
         "mode": "markers",
         "showlegend": false,
         "type": "scatter",
         "x": [
          158
         ],
         "xaxis": "x5",
         "y": [
          0.603
         ],
         "yaxis": "y5"
        }
       ],
       "layout": {
        "height": 500,
        "template": {
         "data": {
          "bar": [
           {
            "error_x": {
             "color": "#2a3f5f"
            },
            "error_y": {
             "color": "#2a3f5f"
            },
            "marker": {
             "line": {
              "color": "white",
              "width": 0.5
             },
             "pattern": {
              "fillmode": "overlay",
              "size": 10,
              "solidity": 0.2
             }
            },
            "type": "bar"
           }
          ],
          "barpolar": [
           {
            "marker": {
             "line": {
              "color": "white",
              "width": 0.5
             },
             "pattern": {
              "fillmode": "overlay",
              "size": 10,
              "solidity": 0.2
             }
            },
            "type": "barpolar"
           }
          ],
          "carpet": [
           {
            "aaxis": {
             "endlinecolor": "#2a3f5f",
             "gridcolor": "#C8D4E3",
             "linecolor": "#C8D4E3",
             "minorgridcolor": "#C8D4E3",
             "startlinecolor": "#2a3f5f"
            },
            "baxis": {
             "endlinecolor": "#2a3f5f",
             "gridcolor": "#C8D4E3",
             "linecolor": "#C8D4E3",
             "minorgridcolor": "#C8D4E3",
             "startlinecolor": "#2a3f5f"
            },
            "type": "carpet"
           }
          ],
          "choropleth": [
           {
            "colorbar": {
             "outlinewidth": 0,
             "ticks": ""
            },
            "type": "choropleth"
           }
          ],
          "contour": [
           {
            "colorbar": {
             "outlinewidth": 0,
             "ticks": ""
            },
            "colorscale": [
             [
              0,
              "#0d0887"
             ],
             [
              0.1111111111111111,
              "#46039f"
             ],
             [
              0.2222222222222222,
              "#7201a8"
             ],
             [
              0.3333333333333333,
              "#9c179e"
             ],
             [
              0.4444444444444444,
              "#bd3786"
             ],
             [
              0.5555555555555556,
              "#d8576b"
             ],
             [
              0.6666666666666666,
              "#ed7953"
             ],
             [
              0.7777777777777778,
              "#fb9f3a"
             ],
             [
              0.8888888888888888,
              "#fdca26"
             ],
             [
              1,
              "#f0f921"
             ]
            ],
            "type": "contour"
           }
          ],
          "contourcarpet": [
           {
            "colorbar": {
             "outlinewidth": 0,
             "ticks": ""
            },
            "type": "contourcarpet"
           }
          ],
          "heatmap": [
           {
            "colorbar": {
             "outlinewidth": 0,
             "ticks": ""
            },
            "colorscale": [
             [
              0,
              "#0d0887"
             ],
             [
              0.1111111111111111,
              "#46039f"
             ],
             [
              0.2222222222222222,
              "#7201a8"
             ],
             [
              0.3333333333333333,
              "#9c179e"
             ],
             [
              0.4444444444444444,
              "#bd3786"
             ],
             [
              0.5555555555555556,
              "#d8576b"
             ],
             [
              0.6666666666666666,
              "#ed7953"
             ],
             [
              0.7777777777777778,
              "#fb9f3a"
             ],
             [
              0.8888888888888888,
              "#fdca26"
             ],
             [
              1,
              "#f0f921"
             ]
            ],
            "type": "heatmap"
           }
          ],
          "heatmapgl": [
           {
            "colorbar": {
             "outlinewidth": 0,
             "ticks": ""
            },
            "colorscale": [
             [
              0,
              "#0d0887"
             ],
             [
              0.1111111111111111,
              "#46039f"
             ],
             [
              0.2222222222222222,
              "#7201a8"
             ],
             [
              0.3333333333333333,
              "#9c179e"
             ],
             [
              0.4444444444444444,
              "#bd3786"
             ],
             [
              0.5555555555555556,
              "#d8576b"
             ],
             [
              0.6666666666666666,
              "#ed7953"
             ],
             [
              0.7777777777777778,
              "#fb9f3a"
             ],
             [
              0.8888888888888888,
              "#fdca26"
             ],
             [
              1,
              "#f0f921"
             ]
            ],
            "type": "heatmapgl"
           }
          ],
          "histogram": [
           {
            "marker": {
             "pattern": {
              "fillmode": "overlay",
              "size": 10,
              "solidity": 0.2
             }
            },
            "type": "histogram"
           }
          ],
          "histogram2d": [
           {
            "colorbar": {
             "outlinewidth": 0,
             "ticks": ""
            },
            "colorscale": [
             [
              0,
              "#0d0887"
             ],
             [
              0.1111111111111111,
              "#46039f"
             ],
             [
              0.2222222222222222,
              "#7201a8"
             ],
             [
              0.3333333333333333,
              "#9c179e"
             ],
             [
              0.4444444444444444,
              "#bd3786"
             ],
             [
              0.5555555555555556,
              "#d8576b"
             ],
             [
              0.6666666666666666,
              "#ed7953"
             ],
             [
              0.7777777777777778,
              "#fb9f3a"
             ],
             [
              0.8888888888888888,
              "#fdca26"
             ],
             [
              1,
              "#f0f921"
             ]
            ],
            "type": "histogram2d"
           }
          ],
          "histogram2dcontour": [
           {
            "colorbar": {
             "outlinewidth": 0,
             "ticks": ""
            },
            "colorscale": [
             [
              0,
              "#0d0887"
             ],
             [
              0.1111111111111111,
              "#46039f"
             ],
             [
              0.2222222222222222,
              "#7201a8"
             ],
             [
              0.3333333333333333,
              "#9c179e"
             ],
             [
              0.4444444444444444,
              "#bd3786"
             ],
             [
              0.5555555555555556,
              "#d8576b"
             ],
             [
              0.6666666666666666,
              "#ed7953"
             ],
             [
              0.7777777777777778,
              "#fb9f3a"
             ],
             [
              0.8888888888888888,
              "#fdca26"
             ],
             [
              1,
              "#f0f921"
             ]
            ],
            "type": "histogram2dcontour"
           }
          ],
          "mesh3d": [
           {
            "colorbar": {
             "outlinewidth": 0,
             "ticks": ""
            },
            "type": "mesh3d"
           }
          ],
          "parcoords": [
           {
            "line": {
             "colorbar": {
              "outlinewidth": 0,
              "ticks": ""
             }
            },
            "type": "parcoords"
           }
          ],
          "pie": [
           {
            "automargin": true,
            "type": "pie"
           }
          ],
          "scatter": [
           {
            "fillpattern": {
             "fillmode": "overlay",
             "size": 10,
             "solidity": 0.2
            },
            "type": "scatter"
           }
          ],
          "scatter3d": [
           {
            "line": {
             "colorbar": {
              "outlinewidth": 0,
              "ticks": ""
             }
            },
            "marker": {
             "colorbar": {
              "outlinewidth": 0,
              "ticks": ""
             }
            },
            "type": "scatter3d"
           }
          ],
          "scattercarpet": [
           {
            "marker": {
             "colorbar": {
              "outlinewidth": 0,
              "ticks": ""
             }
            },
            "type": "scattercarpet"
           }
          ],
          "scattergeo": [
           {
            "marker": {
             "colorbar": {
              "outlinewidth": 0,
              "ticks": ""
             }
            },
            "type": "scattergeo"
           }
          ],
          "scattergl": [
           {
            "marker": {
             "colorbar": {
              "outlinewidth": 0,
              "ticks": ""
             }
            },
            "type": "scattergl"
           }
          ],
          "scattermapbox": [
           {
            "marker": {
             "colorbar": {
              "outlinewidth": 0,
              "ticks": ""
             }
            },
            "type": "scattermapbox"
           }
          ],
          "scatterpolar": [
           {
            "marker": {
             "colorbar": {
              "outlinewidth": 0,
              "ticks": ""
             }
            },
            "type": "scatterpolar"
           }
          ],
          "scatterpolargl": [
           {
            "marker": {
             "colorbar": {
              "outlinewidth": 0,
              "ticks": ""
             }
            },
            "type": "scatterpolargl"
           }
          ],
          "scatterternary": [
           {
            "marker": {
             "colorbar": {
              "outlinewidth": 0,
              "ticks": ""
             }
            },
            "type": "scatterternary"
           }
          ],
          "surface": [
           {
            "colorbar": {
             "outlinewidth": 0,
             "ticks": ""
            },
            "colorscale": [
             [
              0,
              "#0d0887"
             ],
             [
              0.1111111111111111,
              "#46039f"
             ],
             [
              0.2222222222222222,
              "#7201a8"
             ],
             [
              0.3333333333333333,
              "#9c179e"
             ],
             [
              0.4444444444444444,
              "#bd3786"
             ],
             [
              0.5555555555555556,
              "#d8576b"
             ],
             [
              0.6666666666666666,
              "#ed7953"
             ],
             [
              0.7777777777777778,
              "#fb9f3a"
             ],
             [
              0.8888888888888888,
              "#fdca26"
             ],
             [
              1,
              "#f0f921"
             ]
            ],
            "type": "surface"
           }
          ],
          "table": [
           {
            "cells": {
             "fill": {
              "color": "#EBF0F8"
             },
             "line": {
              "color": "white"
             }
            },
            "header": {
             "fill": {
              "color": "#C8D4E3"
             },
             "line": {
              "color": "white"
             }
            },
            "type": "table"
           }
          ]
         },
         "layout": {
          "annotationdefaults": {
           "arrowcolor": "#2a3f5f",
           "arrowhead": 0,
           "arrowwidth": 1
          },
          "autotypenumbers": "strict",
          "coloraxis": {
           "colorbar": {
            "outlinewidth": 0,
            "ticks": ""
           }
          },
          "colorscale": {
           "diverging": [
            [
             0,
             "#8e0152"
            ],
            [
             0.1,
             "#c51b7d"
            ],
            [
             0.2,
             "#de77ae"
            ],
            [
             0.3,
             "#f1b6da"
            ],
            [
             0.4,
             "#fde0ef"
            ],
            [
             0.5,
             "#f7f7f7"
            ],
            [
             0.6,
             "#e6f5d0"
            ],
            [
             0.7,
             "#b8e186"
            ],
            [
             0.8,
             "#7fbc41"
            ],
            [
             0.9,
             "#4d9221"
            ],
            [
             1,
             "#276419"
            ]
           ],
           "sequential": [
            [
             0,
             "#0d0887"
            ],
            [
             0.1111111111111111,
             "#46039f"
            ],
            [
             0.2222222222222222,
             "#7201a8"
            ],
            [
             0.3333333333333333,
             "#9c179e"
            ],
            [
             0.4444444444444444,
             "#bd3786"
            ],
            [
             0.5555555555555556,
             "#d8576b"
            ],
            [
             0.6666666666666666,
             "#ed7953"
            ],
            [
             0.7777777777777778,
             "#fb9f3a"
            ],
            [
             0.8888888888888888,
             "#fdca26"
            ],
            [
             1,
             "#f0f921"
            ]
           ],
           "sequentialminus": [
            [
             0,
             "#0d0887"
            ],
            [
             0.1111111111111111,
             "#46039f"
            ],
            [
             0.2222222222222222,
             "#7201a8"
            ],
            [
             0.3333333333333333,
             "#9c179e"
            ],
            [
             0.4444444444444444,
             "#bd3786"
            ],
            [
             0.5555555555555556,
             "#d8576b"
            ],
            [
             0.6666666666666666,
             "#ed7953"
            ],
            [
             0.7777777777777778,
             "#fb9f3a"
            ],
            [
             0.8888888888888888,
             "#fdca26"
            ],
            [
             1,
             "#f0f921"
            ]
           ]
          },
          "colorway": [
           "#636efa",
           "#EF553B",
           "#00cc96",
           "#ab63fa",
           "#FFA15A",
           "#19d3f3",
           "#FF6692",
           "#B6E880",
           "#FF97FF",
           "#FECB52"
          ],
          "font": {
           "color": "#2a3f5f"
          },
          "geo": {
           "bgcolor": "white",
           "lakecolor": "white",
           "landcolor": "white",
           "showlakes": true,
           "showland": true,
           "subunitcolor": "#C8D4E3"
          },
          "hoverlabel": {
           "align": "left"
          },
          "hovermode": "closest",
          "mapbox": {
           "style": "light"
          },
          "paper_bgcolor": "white",
          "plot_bgcolor": "white",
          "polar": {
           "angularaxis": {
            "gridcolor": "#EBF0F8",
            "linecolor": "#EBF0F8",
            "ticks": ""
           },
           "bgcolor": "white",
           "radialaxis": {
            "gridcolor": "#EBF0F8",
            "linecolor": "#EBF0F8",
            "ticks": ""
           }
          },
          "scene": {
           "xaxis": {
            "backgroundcolor": "white",
            "gridcolor": "#DFE8F3",
            "gridwidth": 2,
            "linecolor": "#EBF0F8",
            "showbackground": true,
            "ticks": "",
            "zerolinecolor": "#EBF0F8"
           },
           "yaxis": {
            "backgroundcolor": "white",
            "gridcolor": "#DFE8F3",
            "gridwidth": 2,
            "linecolor": "#EBF0F8",
            "showbackground": true,
            "ticks": "",
            "zerolinecolor": "#EBF0F8"
           },
           "zaxis": {
            "backgroundcolor": "white",
            "gridcolor": "#DFE8F3",
            "gridwidth": 2,
            "linecolor": "#EBF0F8",
            "showbackground": true,
            "ticks": "",
            "zerolinecolor": "#EBF0F8"
           }
          },
          "shapedefaults": {
           "line": {
            "color": "#2a3f5f"
           }
          },
          "ternary": {
           "aaxis": {
            "gridcolor": "#DFE8F3",
            "linecolor": "#A2B1C6",
            "ticks": ""
           },
           "baxis": {
            "gridcolor": "#DFE8F3",
            "linecolor": "#A2B1C6",
            "ticks": ""
           },
           "bgcolor": "white",
           "caxis": {
            "gridcolor": "#DFE8F3",
            "linecolor": "#A2B1C6",
            "ticks": ""
           }
          },
          "title": {
           "x": 0.05
          },
          "xaxis": {
           "automargin": true,
           "gridcolor": "#EBF0F8",
           "linecolor": "#EBF0F8",
           "ticks": "",
           "title": {
            "standoff": 15
           },
           "zerolinecolor": "#EBF0F8",
           "zerolinewidth": 2
          },
          "yaxis": {
           "automargin": true,
           "gridcolor": "#EBF0F8",
           "linecolor": "#EBF0F8",
           "ticks": "",
           "title": {
            "standoff": 15
           },
           "zerolinecolor": "#EBF0F8",
           "zerolinewidth": 2
          }
         }
        },
        "title": {
         "text": "Slice Plot"
        },
        "width": 1000,
        "xaxis": {
         "anchor": "y",
         "domain": [
          0,
          0.16799999999999998
         ],
         "tickangle": -90,
         "title": {
          "text": "classifier"
         }
        },
        "xaxis2": {
         "anchor": "y2",
         "domain": [
          0.208,
          0.376
         ],
         "tickangle": -90,
         "title": {
          "text": "dt_max_depth"
         }
        },
        "xaxis3": {
         "anchor": "y3",
         "domain": [
          0.416,
          0.584
         ],
         "tickangle": -90,
         "title": {
          "text": "lr_c"
         },
         "type": "log"
        },
        "xaxis4": {
         "anchor": "y4",
         "domain": [
          0.624,
          0.792
         ],
         "tickangle": -90,
         "title": {
          "text": "rf_max_depth"
         }
        },
        "xaxis5": {
         "anchor": "y5",
         "domain": [
          0.832,
          1
         ],
         "tickangle": -90,
         "title": {
          "text": "rf_n_estimators"
         }
        },
        "yaxis": {
         "anchor": "x",
         "domain": [
          0,
          1
         ],
         "title": {
          "text": "Objective Value"
         }
        },
        "yaxis2": {
         "anchor": "x2",
         "domain": [
          0,
          1
         ],
         "matches": "y",
         "showticklabels": false
        },
        "yaxis3": {
         "anchor": "x3",
         "domain": [
          0,
          1
         ],
         "matches": "y",
         "showticklabels": false
        },
        "yaxis4": {
         "anchor": "x4",
         "domain": [
          0,
          1
         ],
         "matches": "y",
         "showticklabels": false
        },
        "yaxis5": {
         "anchor": "x5",
         "domain": [
          0,
          1
         ],
         "matches": "y",
         "showticklabels": false
        }
       }
      }
     },
     "metadata": {},
     "output_type": "display_data"
    }
   ],
   "source": [
    "plot_study_results('no_sampling', studies, evaluations)"
   ]
  },
  {
   "attachments": {},
   "cell_type": "markdown",
   "metadata": {},
   "source": [
    "### Датасет с upsampling\n",
    "\n",
    "Возьмем датасет c `upsampling` и посмотрим на качество моделей."
   ]
  },
  {
   "cell_type": "code",
   "execution_count": 25,
   "metadata": {},
   "outputs": [
    {
     "name": "stdout",
     "output_type": "stream",
     "text": [
      "The best model parameters are:\n",
      "classifier: RandomForest\n",
      "rf_max_depth: 18\n",
      "rf_n_estimators: 158\n",
      "\n",
      "The performance metrics of the model are:\n",
      "valid_f1: 0.6203\n",
      "valid_roc_auc: 0.8587\n"
     ]
    },
    {
     "data": {
      "application/vnd.plotly.v1+json": {
       "config": {
        "plotlyServerURL": "https://plot.ly"
       },
       "data": [
        {
         "mode": "markers",
         "name": "Objective Value",
         "type": "scatter",
         "x": [
          0,
          1,
          2,
          3,
          4,
          5,
          6,
          7,
          8,
          9
         ],
         "y": [
          0.48,
          0.471,
          0.48,
          0.469,
          0.483,
          0.478,
          0.48,
          0.62,
          0.473,
          0.563
         ]
        },
        {
         "name": "Best Value",
         "type": "scatter",
         "x": [
          0,
          1,
          2,
          3,
          4,
          5,
          6,
          7,
          8,
          9
         ],
         "y": [
          0.48,
          0.48,
          0.48,
          0.48,
          0.483,
          0.483,
          0.483,
          0.62,
          0.62,
          0.62
         ]
        }
       ],
       "layout": {
        "height": 500,
        "template": {
         "data": {
          "bar": [
           {
            "error_x": {
             "color": "#2a3f5f"
            },
            "error_y": {
             "color": "#2a3f5f"
            },
            "marker": {
             "line": {
              "color": "white",
              "width": 0.5
             },
             "pattern": {
              "fillmode": "overlay",
              "size": 10,
              "solidity": 0.2
             }
            },
            "type": "bar"
           }
          ],
          "barpolar": [
           {
            "marker": {
             "line": {
              "color": "white",
              "width": 0.5
             },
             "pattern": {
              "fillmode": "overlay",
              "size": 10,
              "solidity": 0.2
             }
            },
            "type": "barpolar"
           }
          ],
          "carpet": [
           {
            "aaxis": {
             "endlinecolor": "#2a3f5f",
             "gridcolor": "#C8D4E3",
             "linecolor": "#C8D4E3",
             "minorgridcolor": "#C8D4E3",
             "startlinecolor": "#2a3f5f"
            },
            "baxis": {
             "endlinecolor": "#2a3f5f",
             "gridcolor": "#C8D4E3",
             "linecolor": "#C8D4E3",
             "minorgridcolor": "#C8D4E3",
             "startlinecolor": "#2a3f5f"
            },
            "type": "carpet"
           }
          ],
          "choropleth": [
           {
            "colorbar": {
             "outlinewidth": 0,
             "ticks": ""
            },
            "type": "choropleth"
           }
          ],
          "contour": [
           {
            "colorbar": {
             "outlinewidth": 0,
             "ticks": ""
            },
            "colorscale": [
             [
              0,
              "#0d0887"
             ],
             [
              0.1111111111111111,
              "#46039f"
             ],
             [
              0.2222222222222222,
              "#7201a8"
             ],
             [
              0.3333333333333333,
              "#9c179e"
             ],
             [
              0.4444444444444444,
              "#bd3786"
             ],
             [
              0.5555555555555556,
              "#d8576b"
             ],
             [
              0.6666666666666666,
              "#ed7953"
             ],
             [
              0.7777777777777778,
              "#fb9f3a"
             ],
             [
              0.8888888888888888,
              "#fdca26"
             ],
             [
              1,
              "#f0f921"
             ]
            ],
            "type": "contour"
           }
          ],
          "contourcarpet": [
           {
            "colorbar": {
             "outlinewidth": 0,
             "ticks": ""
            },
            "type": "contourcarpet"
           }
          ],
          "heatmap": [
           {
            "colorbar": {
             "outlinewidth": 0,
             "ticks": ""
            },
            "colorscale": [
             [
              0,
              "#0d0887"
             ],
             [
              0.1111111111111111,
              "#46039f"
             ],
             [
              0.2222222222222222,
              "#7201a8"
             ],
             [
              0.3333333333333333,
              "#9c179e"
             ],
             [
              0.4444444444444444,
              "#bd3786"
             ],
             [
              0.5555555555555556,
              "#d8576b"
             ],
             [
              0.6666666666666666,
              "#ed7953"
             ],
             [
              0.7777777777777778,
              "#fb9f3a"
             ],
             [
              0.8888888888888888,
              "#fdca26"
             ],
             [
              1,
              "#f0f921"
             ]
            ],
            "type": "heatmap"
           }
          ],
          "heatmapgl": [
           {
            "colorbar": {
             "outlinewidth": 0,
             "ticks": ""
            },
            "colorscale": [
             [
              0,
              "#0d0887"
             ],
             [
              0.1111111111111111,
              "#46039f"
             ],
             [
              0.2222222222222222,
              "#7201a8"
             ],
             [
              0.3333333333333333,
              "#9c179e"
             ],
             [
              0.4444444444444444,
              "#bd3786"
             ],
             [
              0.5555555555555556,
              "#d8576b"
             ],
             [
              0.6666666666666666,
              "#ed7953"
             ],
             [
              0.7777777777777778,
              "#fb9f3a"
             ],
             [
              0.8888888888888888,
              "#fdca26"
             ],
             [
              1,
              "#f0f921"
             ]
            ],
            "type": "heatmapgl"
           }
          ],
          "histogram": [
           {
            "marker": {
             "pattern": {
              "fillmode": "overlay",
              "size": 10,
              "solidity": 0.2
             }
            },
            "type": "histogram"
           }
          ],
          "histogram2d": [
           {
            "colorbar": {
             "outlinewidth": 0,
             "ticks": ""
            },
            "colorscale": [
             [
              0,
              "#0d0887"
             ],
             [
              0.1111111111111111,
              "#46039f"
             ],
             [
              0.2222222222222222,
              "#7201a8"
             ],
             [
              0.3333333333333333,
              "#9c179e"
             ],
             [
              0.4444444444444444,
              "#bd3786"
             ],
             [
              0.5555555555555556,
              "#d8576b"
             ],
             [
              0.6666666666666666,
              "#ed7953"
             ],
             [
              0.7777777777777778,
              "#fb9f3a"
             ],
             [
              0.8888888888888888,
              "#fdca26"
             ],
             [
              1,
              "#f0f921"
             ]
            ],
            "type": "histogram2d"
           }
          ],
          "histogram2dcontour": [
           {
            "colorbar": {
             "outlinewidth": 0,
             "ticks": ""
            },
            "colorscale": [
             [
              0,
              "#0d0887"
             ],
             [
              0.1111111111111111,
              "#46039f"
             ],
             [
              0.2222222222222222,
              "#7201a8"
             ],
             [
              0.3333333333333333,
              "#9c179e"
             ],
             [
              0.4444444444444444,
              "#bd3786"
             ],
             [
              0.5555555555555556,
              "#d8576b"
             ],
             [
              0.6666666666666666,
              "#ed7953"
             ],
             [
              0.7777777777777778,
              "#fb9f3a"
             ],
             [
              0.8888888888888888,
              "#fdca26"
             ],
             [
              1,
              "#f0f921"
             ]
            ],
            "type": "histogram2dcontour"
           }
          ],
          "mesh3d": [
           {
            "colorbar": {
             "outlinewidth": 0,
             "ticks": ""
            },
            "type": "mesh3d"
           }
          ],
          "parcoords": [
           {
            "line": {
             "colorbar": {
              "outlinewidth": 0,
              "ticks": ""
             }
            },
            "type": "parcoords"
           }
          ],
          "pie": [
           {
            "automargin": true,
            "type": "pie"
           }
          ],
          "scatter": [
           {
            "fillpattern": {
             "fillmode": "overlay",
             "size": 10,
             "solidity": 0.2
            },
            "type": "scatter"
           }
          ],
          "scatter3d": [
           {
            "line": {
             "colorbar": {
              "outlinewidth": 0,
              "ticks": ""
             }
            },
            "marker": {
             "colorbar": {
              "outlinewidth": 0,
              "ticks": ""
             }
            },
            "type": "scatter3d"
           }
          ],
          "scattercarpet": [
           {
            "marker": {
             "colorbar": {
              "outlinewidth": 0,
              "ticks": ""
             }
            },
            "type": "scattercarpet"
           }
          ],
          "scattergeo": [
           {
            "marker": {
             "colorbar": {
              "outlinewidth": 0,
              "ticks": ""
             }
            },
            "type": "scattergeo"
           }
          ],
          "scattergl": [
           {
            "marker": {
             "colorbar": {
              "outlinewidth": 0,
              "ticks": ""
             }
            },
            "type": "scattergl"
           }
          ],
          "scattermapbox": [
           {
            "marker": {
             "colorbar": {
              "outlinewidth": 0,
              "ticks": ""
             }
            },
            "type": "scattermapbox"
           }
          ],
          "scatterpolar": [
           {
            "marker": {
             "colorbar": {
              "outlinewidth": 0,
              "ticks": ""
             }
            },
            "type": "scatterpolar"
           }
          ],
          "scatterpolargl": [
           {
            "marker": {
             "colorbar": {
              "outlinewidth": 0,
              "ticks": ""
             }
            },
            "type": "scatterpolargl"
           }
          ],
          "scatterternary": [
           {
            "marker": {
             "colorbar": {
              "outlinewidth": 0,
              "ticks": ""
             }
            },
            "type": "scatterternary"
           }
          ],
          "surface": [
           {
            "colorbar": {
             "outlinewidth": 0,
             "ticks": ""
            },
            "colorscale": [
             [
              0,
              "#0d0887"
             ],
             [
              0.1111111111111111,
              "#46039f"
             ],
             [
              0.2222222222222222,
              "#7201a8"
             ],
             [
              0.3333333333333333,
              "#9c179e"
             ],
             [
              0.4444444444444444,
              "#bd3786"
             ],
             [
              0.5555555555555556,
              "#d8576b"
             ],
             [
              0.6666666666666666,
              "#ed7953"
             ],
             [
              0.7777777777777778,
              "#fb9f3a"
             ],
             [
              0.8888888888888888,
              "#fdca26"
             ],
             [
              1,
              "#f0f921"
             ]
            ],
            "type": "surface"
           }
          ],
          "table": [
           {
            "cells": {
             "fill": {
              "color": "#EBF0F8"
             },
             "line": {
              "color": "white"
             }
            },
            "header": {
             "fill": {
              "color": "#C8D4E3"
             },
             "line": {
              "color": "white"
             }
            },
            "type": "table"
           }
          ]
         },
         "layout": {
          "annotationdefaults": {
           "arrowcolor": "#2a3f5f",
           "arrowhead": 0,
           "arrowwidth": 1
          },
          "autotypenumbers": "strict",
          "coloraxis": {
           "colorbar": {
            "outlinewidth": 0,
            "ticks": ""
           }
          },
          "colorscale": {
           "diverging": [
            [
             0,
             "#8e0152"
            ],
            [
             0.1,
             "#c51b7d"
            ],
            [
             0.2,
             "#de77ae"
            ],
            [
             0.3,
             "#f1b6da"
            ],
            [
             0.4,
             "#fde0ef"
            ],
            [
             0.5,
             "#f7f7f7"
            ],
            [
             0.6,
             "#e6f5d0"
            ],
            [
             0.7,
             "#b8e186"
            ],
            [
             0.8,
             "#7fbc41"
            ],
            [
             0.9,
             "#4d9221"
            ],
            [
             1,
             "#276419"
            ]
           ],
           "sequential": [
            [
             0,
             "#0d0887"
            ],
            [
             0.1111111111111111,
             "#46039f"
            ],
            [
             0.2222222222222222,
             "#7201a8"
            ],
            [
             0.3333333333333333,
             "#9c179e"
            ],
            [
             0.4444444444444444,
             "#bd3786"
            ],
            [
             0.5555555555555556,
             "#d8576b"
            ],
            [
             0.6666666666666666,
             "#ed7953"
            ],
            [
             0.7777777777777778,
             "#fb9f3a"
            ],
            [
             0.8888888888888888,
             "#fdca26"
            ],
            [
             1,
             "#f0f921"
            ]
           ],
           "sequentialminus": [
            [
             0,
             "#0d0887"
            ],
            [
             0.1111111111111111,
             "#46039f"
            ],
            [
             0.2222222222222222,
             "#7201a8"
            ],
            [
             0.3333333333333333,
             "#9c179e"
            ],
            [
             0.4444444444444444,
             "#bd3786"
            ],
            [
             0.5555555555555556,
             "#d8576b"
            ],
            [
             0.6666666666666666,
             "#ed7953"
            ],
            [
             0.7777777777777778,
             "#fb9f3a"
            ],
            [
             0.8888888888888888,
             "#fdca26"
            ],
            [
             1,
             "#f0f921"
            ]
           ]
          },
          "colorway": [
           "#636efa",
           "#EF553B",
           "#00cc96",
           "#ab63fa",
           "#FFA15A",
           "#19d3f3",
           "#FF6692",
           "#B6E880",
           "#FF97FF",
           "#FECB52"
          ],
          "font": {
           "color": "#2a3f5f"
          },
          "geo": {
           "bgcolor": "white",
           "lakecolor": "white",
           "landcolor": "white",
           "showlakes": true,
           "showland": true,
           "subunitcolor": "#C8D4E3"
          },
          "hoverlabel": {
           "align": "left"
          },
          "hovermode": "closest",
          "mapbox": {
           "style": "light"
          },
          "paper_bgcolor": "white",
          "plot_bgcolor": "white",
          "polar": {
           "angularaxis": {
            "gridcolor": "#EBF0F8",
            "linecolor": "#EBF0F8",
            "ticks": ""
           },
           "bgcolor": "white",
           "radialaxis": {
            "gridcolor": "#EBF0F8",
            "linecolor": "#EBF0F8",
            "ticks": ""
           }
          },
          "scene": {
           "xaxis": {
            "backgroundcolor": "white",
            "gridcolor": "#DFE8F3",
            "gridwidth": 2,
            "linecolor": "#EBF0F8",
            "showbackground": true,
            "ticks": "",
            "zerolinecolor": "#EBF0F8"
           },
           "yaxis": {
            "backgroundcolor": "white",
            "gridcolor": "#DFE8F3",
            "gridwidth": 2,
            "linecolor": "#EBF0F8",
            "showbackground": true,
            "ticks": "",
            "zerolinecolor": "#EBF0F8"
           },
           "zaxis": {
            "backgroundcolor": "white",
            "gridcolor": "#DFE8F3",
            "gridwidth": 2,
            "linecolor": "#EBF0F8",
            "showbackground": true,
            "ticks": "",
            "zerolinecolor": "#EBF0F8"
           }
          },
          "shapedefaults": {
           "line": {
            "color": "#2a3f5f"
           }
          },
          "ternary": {
           "aaxis": {
            "gridcolor": "#DFE8F3",
            "linecolor": "#A2B1C6",
            "ticks": ""
           },
           "baxis": {
            "gridcolor": "#DFE8F3",
            "linecolor": "#A2B1C6",
            "ticks": ""
           },
           "bgcolor": "white",
           "caxis": {
            "gridcolor": "#DFE8F3",
            "linecolor": "#A2B1C6",
            "ticks": ""
           }
          },
          "title": {
           "x": 0.05
          },
          "xaxis": {
           "automargin": true,
           "gridcolor": "#EBF0F8",
           "linecolor": "#EBF0F8",
           "ticks": "",
           "title": {
            "standoff": 15
           },
           "zerolinecolor": "#EBF0F8",
           "zerolinewidth": 2
          },
          "yaxis": {
           "automargin": true,
           "gridcolor": "#EBF0F8",
           "linecolor": "#EBF0F8",
           "ticks": "",
           "title": {
            "standoff": 15
           },
           "zerolinecolor": "#EBF0F8",
           "zerolinewidth": 2
          }
         }
        },
        "title": {
         "text": "Optimization History Plot"
        },
        "width": 1000,
        "xaxis": {
         "title": {
          "text": "Trial"
         }
        },
        "yaxis": {
         "title": {
          "text": "Objective Value"
         }
        }
       }
      }
     },
     "metadata": {},
     "output_type": "display_data"
    },
    {
     "data": {
      "application/vnd.plotly.v1+json": {
       "config": {
        "plotlyServerURL": "https://plot.ly"
       },
       "data": [
        {
         "marker": {
          "color": [
           0,
           1,
           2,
           3,
           4,
           5,
           6,
           7,
           8,
           9
          ],
          "colorbar": {
           "title": {
            "text": "Trial"
           },
           "x": 1,
           "xpad": 40
          },
          "colorscale": [
           [
            0,
            "rgb(247,251,255)"
           ],
           [
            0.125,
            "rgb(222,235,247)"
           ],
           [
            0.25,
            "rgb(198,219,239)"
           ],
           [
            0.375,
            "rgb(158,202,225)"
           ],
           [
            0.5,
            "rgb(107,174,214)"
           ],
           [
            0.625,
            "rgb(66,146,198)"
           ],
           [
            0.75,
            "rgb(33,113,181)"
           ],
           [
            0.875,
            "rgb(8,81,156)"
           ],
           [
            1,
            "rgb(8,48,107)"
           ]
          ],
          "line": {
           "color": "Grey",
           "width": 0.5
          },
          "showscale": true
         },
         "mode": "markers",
         "showlegend": false,
         "type": "scatter",
         "x": [
          "DecisionTree",
          "LogisticRegression",
          "DecisionTree",
          "LogisticRegression",
          "DecisionTree",
          "LogisticRegression",
          "DecisionTree",
          "RandomForest",
          "DecisionTree",
          "DecisionTree"
         ],
         "xaxis": "x",
         "y": [
          0.48,
          0.471,
          0.48,
          0.469,
          0.483,
          0.478,
          0.48,
          0.62,
          0.473,
          0.563
         ],
         "yaxis": "y"
        },
        {
         "marker": {
          "color": [
           0,
           2,
           4,
           6,
           8,
           9
          ],
          "colorbar": {
           "title": {
            "text": "Trial"
           },
           "x": 1,
           "xpad": 40
          },
          "colorscale": [
           [
            0,
            "rgb(247,251,255)"
           ],
           [
            0.125,
            "rgb(222,235,247)"
           ],
           [
            0.25,
            "rgb(198,219,239)"
           ],
           [
            0.375,
            "rgb(158,202,225)"
           ],
           [
            0.5,
            "rgb(107,174,214)"
           ],
           [
            0.625,
            "rgb(66,146,198)"
           ],
           [
            0.75,
            "rgb(33,113,181)"
           ],
           [
            0.875,
            "rgb(8,81,156)"
           ],
           [
            1,
            "rgb(8,48,107)"
           ]
          ],
          "line": {
           "color": "Grey",
           "width": 0.5
          },
          "showscale": false
         },
         "mode": "markers",
         "showlegend": false,
         "type": "scatter",
         "x": [
          30,
          49,
          15,
          26,
          16,
          7
         ],
         "xaxis": "x2",
         "y": [
          0.48,
          0.48,
          0.483,
          0.48,
          0.473,
          0.563
         ],
         "yaxis": "y2"
        },
        {
         "marker": {
          "color": [
           1,
           3,
           5
          ],
          "colorbar": {
           "title": {
            "text": "Trial"
           },
           "x": 1,
           "xpad": 40
          },
          "colorscale": [
           [
            0,
            "rgb(247,251,255)"
           ],
           [
            0.125,
            "rgb(222,235,247)"
           ],
           [
            0.25,
            "rgb(198,219,239)"
           ],
           [
            0.375,
            "rgb(158,202,225)"
           ],
           [
            0.5,
            "rgb(107,174,214)"
           ],
           [
            0.625,
            "rgb(66,146,198)"
           ],
           [
            0.75,
            "rgb(33,113,181)"
           ],
           [
            0.875,
            "rgb(8,81,156)"
           ],
           [
            1,
            "rgb(8,48,107)"
           ]
          ],
          "line": {
           "color": "Grey",
           "width": 0.5
          },
          "showscale": false
         },
         "mode": "markers",
         "showlegend": false,
         "type": "scatter",
         "x": [
          24780.71022662143,
          0.00015880132371526778,
          0.02490818711274116
         ],
         "xaxis": "x3",
         "y": [
          0.471,
          0.469,
          0.478
         ],
         "yaxis": "y3"
        },
        {
         "marker": {
          "color": [
           7
          ],
          "colorbar": {
           "title": {
            "text": "Trial"
           },
           "x": 1,
           "xpad": 40
          },
          "colorscale": [
           [
            0,
            "rgb(247,251,255)"
           ],
           [
            0.125,
            "rgb(222,235,247)"
           ],
           [
            0.25,
            "rgb(198,219,239)"
           ],
           [
            0.375,
            "rgb(158,202,225)"
           ],
           [
            0.5,
            "rgb(107,174,214)"
           ],
           [
            0.625,
            "rgb(66,146,198)"
           ],
           [
            0.75,
            "rgb(33,113,181)"
           ],
           [
            0.875,
            "rgb(8,81,156)"
           ],
           [
            1,
            "rgb(8,48,107)"
           ]
          ],
          "line": {
           "color": "Grey",
           "width": 0.5
          },
          "showscale": false
         },
         "mode": "markers",
         "showlegend": false,
         "type": "scatter",
         "x": [
          18
         ],
         "xaxis": "x4",
         "y": [
          0.62
         ],
         "yaxis": "y4"
        },
        {
         "marker": {
          "color": [
           7
          ],
          "colorbar": {
           "title": {
            "text": "Trial"
           },
           "x": 1,
           "xpad": 40
          },
          "colorscale": [
           [
            0,
            "rgb(247,251,255)"
           ],
           [
            0.125,
            "rgb(222,235,247)"
           ],
           [
            0.25,
            "rgb(198,219,239)"
           ],
           [
            0.375,
            "rgb(158,202,225)"
           ],
           [
            0.5,
            "rgb(107,174,214)"
           ],
           [
            0.625,
            "rgb(66,146,198)"
           ],
           [
            0.75,
            "rgb(33,113,181)"
           ],
           [
            0.875,
            "rgb(8,81,156)"
           ],
           [
            1,
            "rgb(8,48,107)"
           ]
          ],
          "line": {
           "color": "Grey",
           "width": 0.5
          },
          "showscale": false
         },
         "mode": "markers",
         "showlegend": false,
         "type": "scatter",
         "x": [
          158
         ],
         "xaxis": "x5",
         "y": [
          0.62
         ],
         "yaxis": "y5"
        }
       ],
       "layout": {
        "height": 500,
        "template": {
         "data": {
          "bar": [
           {
            "error_x": {
             "color": "#2a3f5f"
            },
            "error_y": {
             "color": "#2a3f5f"
            },
            "marker": {
             "line": {
              "color": "white",
              "width": 0.5
             },
             "pattern": {
              "fillmode": "overlay",
              "size": 10,
              "solidity": 0.2
             }
            },
            "type": "bar"
           }
          ],
          "barpolar": [
           {
            "marker": {
             "line": {
              "color": "white",
              "width": 0.5
             },
             "pattern": {
              "fillmode": "overlay",
              "size": 10,
              "solidity": 0.2
             }
            },
            "type": "barpolar"
           }
          ],
          "carpet": [
           {
            "aaxis": {
             "endlinecolor": "#2a3f5f",
             "gridcolor": "#C8D4E3",
             "linecolor": "#C8D4E3",
             "minorgridcolor": "#C8D4E3",
             "startlinecolor": "#2a3f5f"
            },
            "baxis": {
             "endlinecolor": "#2a3f5f",
             "gridcolor": "#C8D4E3",
             "linecolor": "#C8D4E3",
             "minorgridcolor": "#C8D4E3",
             "startlinecolor": "#2a3f5f"
            },
            "type": "carpet"
           }
          ],
          "choropleth": [
           {
            "colorbar": {
             "outlinewidth": 0,
             "ticks": ""
            },
            "type": "choropleth"
           }
          ],
          "contour": [
           {
            "colorbar": {
             "outlinewidth": 0,
             "ticks": ""
            },
            "colorscale": [
             [
              0,
              "#0d0887"
             ],
             [
              0.1111111111111111,
              "#46039f"
             ],
             [
              0.2222222222222222,
              "#7201a8"
             ],
             [
              0.3333333333333333,
              "#9c179e"
             ],
             [
              0.4444444444444444,
              "#bd3786"
             ],
             [
              0.5555555555555556,
              "#d8576b"
             ],
             [
              0.6666666666666666,
              "#ed7953"
             ],
             [
              0.7777777777777778,
              "#fb9f3a"
             ],
             [
              0.8888888888888888,
              "#fdca26"
             ],
             [
              1,
              "#f0f921"
             ]
            ],
            "type": "contour"
           }
          ],
          "contourcarpet": [
           {
            "colorbar": {
             "outlinewidth": 0,
             "ticks": ""
            },
            "type": "contourcarpet"
           }
          ],
          "heatmap": [
           {
            "colorbar": {
             "outlinewidth": 0,
             "ticks": ""
            },
            "colorscale": [
             [
              0,
              "#0d0887"
             ],
             [
              0.1111111111111111,
              "#46039f"
             ],
             [
              0.2222222222222222,
              "#7201a8"
             ],
             [
              0.3333333333333333,
              "#9c179e"
             ],
             [
              0.4444444444444444,
              "#bd3786"
             ],
             [
              0.5555555555555556,
              "#d8576b"
             ],
             [
              0.6666666666666666,
              "#ed7953"
             ],
             [
              0.7777777777777778,
              "#fb9f3a"
             ],
             [
              0.8888888888888888,
              "#fdca26"
             ],
             [
              1,
              "#f0f921"
             ]
            ],
            "type": "heatmap"
           }
          ],
          "heatmapgl": [
           {
            "colorbar": {
             "outlinewidth": 0,
             "ticks": ""
            },
            "colorscale": [
             [
              0,
              "#0d0887"
             ],
             [
              0.1111111111111111,
              "#46039f"
             ],
             [
              0.2222222222222222,
              "#7201a8"
             ],
             [
              0.3333333333333333,
              "#9c179e"
             ],
             [
              0.4444444444444444,
              "#bd3786"
             ],
             [
              0.5555555555555556,
              "#d8576b"
             ],
             [
              0.6666666666666666,
              "#ed7953"
             ],
             [
              0.7777777777777778,
              "#fb9f3a"
             ],
             [
              0.8888888888888888,
              "#fdca26"
             ],
             [
              1,
              "#f0f921"
             ]
            ],
            "type": "heatmapgl"
           }
          ],
          "histogram": [
           {
            "marker": {
             "pattern": {
              "fillmode": "overlay",
              "size": 10,
              "solidity": 0.2
             }
            },
            "type": "histogram"
           }
          ],
          "histogram2d": [
           {
            "colorbar": {
             "outlinewidth": 0,
             "ticks": ""
            },
            "colorscale": [
             [
              0,
              "#0d0887"
             ],
             [
              0.1111111111111111,
              "#46039f"
             ],
             [
              0.2222222222222222,
              "#7201a8"
             ],
             [
              0.3333333333333333,
              "#9c179e"
             ],
             [
              0.4444444444444444,
              "#bd3786"
             ],
             [
              0.5555555555555556,
              "#d8576b"
             ],
             [
              0.6666666666666666,
              "#ed7953"
             ],
             [
              0.7777777777777778,
              "#fb9f3a"
             ],
             [
              0.8888888888888888,
              "#fdca26"
             ],
             [
              1,
              "#f0f921"
             ]
            ],
            "type": "histogram2d"
           }
          ],
          "histogram2dcontour": [
           {
            "colorbar": {
             "outlinewidth": 0,
             "ticks": ""
            },
            "colorscale": [
             [
              0,
              "#0d0887"
             ],
             [
              0.1111111111111111,
              "#46039f"
             ],
             [
              0.2222222222222222,
              "#7201a8"
             ],
             [
              0.3333333333333333,
              "#9c179e"
             ],
             [
              0.4444444444444444,
              "#bd3786"
             ],
             [
              0.5555555555555556,
              "#d8576b"
             ],
             [
              0.6666666666666666,
              "#ed7953"
             ],
             [
              0.7777777777777778,
              "#fb9f3a"
             ],
             [
              0.8888888888888888,
              "#fdca26"
             ],
             [
              1,
              "#f0f921"
             ]
            ],
            "type": "histogram2dcontour"
           }
          ],
          "mesh3d": [
           {
            "colorbar": {
             "outlinewidth": 0,
             "ticks": ""
            },
            "type": "mesh3d"
           }
          ],
          "parcoords": [
           {
            "line": {
             "colorbar": {
              "outlinewidth": 0,
              "ticks": ""
             }
            },
            "type": "parcoords"
           }
          ],
          "pie": [
           {
            "automargin": true,
            "type": "pie"
           }
          ],
          "scatter": [
           {
            "fillpattern": {
             "fillmode": "overlay",
             "size": 10,
             "solidity": 0.2
            },
            "type": "scatter"
           }
          ],
          "scatter3d": [
           {
            "line": {
             "colorbar": {
              "outlinewidth": 0,
              "ticks": ""
             }
            },
            "marker": {
             "colorbar": {
              "outlinewidth": 0,
              "ticks": ""
             }
            },
            "type": "scatter3d"
           }
          ],
          "scattercarpet": [
           {
            "marker": {
             "colorbar": {
              "outlinewidth": 0,
              "ticks": ""
             }
            },
            "type": "scattercarpet"
           }
          ],
          "scattergeo": [
           {
            "marker": {
             "colorbar": {
              "outlinewidth": 0,
              "ticks": ""
             }
            },
            "type": "scattergeo"
           }
          ],
          "scattergl": [
           {
            "marker": {
             "colorbar": {
              "outlinewidth": 0,
              "ticks": ""
             }
            },
            "type": "scattergl"
           }
          ],
          "scattermapbox": [
           {
            "marker": {
             "colorbar": {
              "outlinewidth": 0,
              "ticks": ""
             }
            },
            "type": "scattermapbox"
           }
          ],
          "scatterpolar": [
           {
            "marker": {
             "colorbar": {
              "outlinewidth": 0,
              "ticks": ""
             }
            },
            "type": "scatterpolar"
           }
          ],
          "scatterpolargl": [
           {
            "marker": {
             "colorbar": {
              "outlinewidth": 0,
              "ticks": ""
             }
            },
            "type": "scatterpolargl"
           }
          ],
          "scatterternary": [
           {
            "marker": {
             "colorbar": {
              "outlinewidth": 0,
              "ticks": ""
             }
            },
            "type": "scatterternary"
           }
          ],
          "surface": [
           {
            "colorbar": {
             "outlinewidth": 0,
             "ticks": ""
            },
            "colorscale": [
             [
              0,
              "#0d0887"
             ],
             [
              0.1111111111111111,
              "#46039f"
             ],
             [
              0.2222222222222222,
              "#7201a8"
             ],
             [
              0.3333333333333333,
              "#9c179e"
             ],
             [
              0.4444444444444444,
              "#bd3786"
             ],
             [
              0.5555555555555556,
              "#d8576b"
             ],
             [
              0.6666666666666666,
              "#ed7953"
             ],
             [
              0.7777777777777778,
              "#fb9f3a"
             ],
             [
              0.8888888888888888,
              "#fdca26"
             ],
             [
              1,
              "#f0f921"
             ]
            ],
            "type": "surface"
           }
          ],
          "table": [
           {
            "cells": {
             "fill": {
              "color": "#EBF0F8"
             },
             "line": {
              "color": "white"
             }
            },
            "header": {
             "fill": {
              "color": "#C8D4E3"
             },
             "line": {
              "color": "white"
             }
            },
            "type": "table"
           }
          ]
         },
         "layout": {
          "annotationdefaults": {
           "arrowcolor": "#2a3f5f",
           "arrowhead": 0,
           "arrowwidth": 1
          },
          "autotypenumbers": "strict",
          "coloraxis": {
           "colorbar": {
            "outlinewidth": 0,
            "ticks": ""
           }
          },
          "colorscale": {
           "diverging": [
            [
             0,
             "#8e0152"
            ],
            [
             0.1,
             "#c51b7d"
            ],
            [
             0.2,
             "#de77ae"
            ],
            [
             0.3,
             "#f1b6da"
            ],
            [
             0.4,
             "#fde0ef"
            ],
            [
             0.5,
             "#f7f7f7"
            ],
            [
             0.6,
             "#e6f5d0"
            ],
            [
             0.7,
             "#b8e186"
            ],
            [
             0.8,
             "#7fbc41"
            ],
            [
             0.9,
             "#4d9221"
            ],
            [
             1,
             "#276419"
            ]
           ],
           "sequential": [
            [
             0,
             "#0d0887"
            ],
            [
             0.1111111111111111,
             "#46039f"
            ],
            [
             0.2222222222222222,
             "#7201a8"
            ],
            [
             0.3333333333333333,
             "#9c179e"
            ],
            [
             0.4444444444444444,
             "#bd3786"
            ],
            [
             0.5555555555555556,
             "#d8576b"
            ],
            [
             0.6666666666666666,
             "#ed7953"
            ],
            [
             0.7777777777777778,
             "#fb9f3a"
            ],
            [
             0.8888888888888888,
             "#fdca26"
            ],
            [
             1,
             "#f0f921"
            ]
           ],
           "sequentialminus": [
            [
             0,
             "#0d0887"
            ],
            [
             0.1111111111111111,
             "#46039f"
            ],
            [
             0.2222222222222222,
             "#7201a8"
            ],
            [
             0.3333333333333333,
             "#9c179e"
            ],
            [
             0.4444444444444444,
             "#bd3786"
            ],
            [
             0.5555555555555556,
             "#d8576b"
            ],
            [
             0.6666666666666666,
             "#ed7953"
            ],
            [
             0.7777777777777778,
             "#fb9f3a"
            ],
            [
             0.8888888888888888,
             "#fdca26"
            ],
            [
             1,
             "#f0f921"
            ]
           ]
          },
          "colorway": [
           "#636efa",
           "#EF553B",
           "#00cc96",
           "#ab63fa",
           "#FFA15A",
           "#19d3f3",
           "#FF6692",
           "#B6E880",
           "#FF97FF",
           "#FECB52"
          ],
          "font": {
           "color": "#2a3f5f"
          },
          "geo": {
           "bgcolor": "white",
           "lakecolor": "white",
           "landcolor": "white",
           "showlakes": true,
           "showland": true,
           "subunitcolor": "#C8D4E3"
          },
          "hoverlabel": {
           "align": "left"
          },
          "hovermode": "closest",
          "mapbox": {
           "style": "light"
          },
          "paper_bgcolor": "white",
          "plot_bgcolor": "white",
          "polar": {
           "angularaxis": {
            "gridcolor": "#EBF0F8",
            "linecolor": "#EBF0F8",
            "ticks": ""
           },
           "bgcolor": "white",
           "radialaxis": {
            "gridcolor": "#EBF0F8",
            "linecolor": "#EBF0F8",
            "ticks": ""
           }
          },
          "scene": {
           "xaxis": {
            "backgroundcolor": "white",
            "gridcolor": "#DFE8F3",
            "gridwidth": 2,
            "linecolor": "#EBF0F8",
            "showbackground": true,
            "ticks": "",
            "zerolinecolor": "#EBF0F8"
           },
           "yaxis": {
            "backgroundcolor": "white",
            "gridcolor": "#DFE8F3",
            "gridwidth": 2,
            "linecolor": "#EBF0F8",
            "showbackground": true,
            "ticks": "",
            "zerolinecolor": "#EBF0F8"
           },
           "zaxis": {
            "backgroundcolor": "white",
            "gridcolor": "#DFE8F3",
            "gridwidth": 2,
            "linecolor": "#EBF0F8",
            "showbackground": true,
            "ticks": "",
            "zerolinecolor": "#EBF0F8"
           }
          },
          "shapedefaults": {
           "line": {
            "color": "#2a3f5f"
           }
          },
          "ternary": {
           "aaxis": {
            "gridcolor": "#DFE8F3",
            "linecolor": "#A2B1C6",
            "ticks": ""
           },
           "baxis": {
            "gridcolor": "#DFE8F3",
            "linecolor": "#A2B1C6",
            "ticks": ""
           },
           "bgcolor": "white",
           "caxis": {
            "gridcolor": "#DFE8F3",
            "linecolor": "#A2B1C6",
            "ticks": ""
           }
          },
          "title": {
           "x": 0.05
          },
          "xaxis": {
           "automargin": true,
           "gridcolor": "#EBF0F8",
           "linecolor": "#EBF0F8",
           "ticks": "",
           "title": {
            "standoff": 15
           },
           "zerolinecolor": "#EBF0F8",
           "zerolinewidth": 2
          },
          "yaxis": {
           "automargin": true,
           "gridcolor": "#EBF0F8",
           "linecolor": "#EBF0F8",
           "ticks": "",
           "title": {
            "standoff": 15
           },
           "zerolinecolor": "#EBF0F8",
           "zerolinewidth": 2
          }
         }
        },
        "title": {
         "text": "Slice Plot"
        },
        "width": 1000,
        "xaxis": {
         "anchor": "y",
         "domain": [
          0,
          0.16799999999999998
         ],
         "tickangle": -90,
         "title": {
          "text": "classifier"
         }
        },
        "xaxis2": {
         "anchor": "y2",
         "domain": [
          0.208,
          0.376
         ],
         "tickangle": -90,
         "title": {
          "text": "dt_max_depth"
         }
        },
        "xaxis3": {
         "anchor": "y3",
         "domain": [
          0.416,
          0.584
         ],
         "tickangle": -90,
         "title": {
          "text": "lr_c"
         },
         "type": "log"
        },
        "xaxis4": {
         "anchor": "y4",
         "domain": [
          0.624,
          0.792
         ],
         "tickangle": -90,
         "title": {
          "text": "rf_max_depth"
         }
        },
        "xaxis5": {
         "anchor": "y5",
         "domain": [
          0.832,
          1
         ],
         "tickangle": -90,
         "title": {
          "text": "rf_n_estimators"
         }
        },
        "yaxis": {
         "anchor": "x",
         "domain": [
          0,
          1
         ],
         "title": {
          "text": "Objective Value"
         }
        },
        "yaxis2": {
         "anchor": "x2",
         "domain": [
          0,
          1
         ],
         "matches": "y",
         "showticklabels": false
        },
        "yaxis3": {
         "anchor": "x3",
         "domain": [
          0,
          1
         ],
         "matches": "y",
         "showticklabels": false
        },
        "yaxis4": {
         "anchor": "x4",
         "domain": [
          0,
          1
         ],
         "matches": "y",
         "showticklabels": false
        },
        "yaxis5": {
         "anchor": "x5",
         "domain": [
          0,
          1
         ],
         "matches": "y",
         "showticklabels": false
        }
       }
      }
     },
     "metadata": {},
     "output_type": "display_data"
    }
   ],
   "source": [
    "plot_study_results('upsampled', studies, evaluations)"
   ]
  },
  {
   "attachments": {},
   "cell_type": "markdown",
   "metadata": {},
   "source": [
    "### Датасет с downsampling\n",
    "\n",
    "Возьмем датасет c `downsampling` и посмотрим на качество моделей."
   ]
  },
  {
   "cell_type": "code",
   "execution_count": 26,
   "metadata": {},
   "outputs": [
    {
     "name": "stdout",
     "output_type": "stream",
     "text": [
      "The best model parameters are:\n",
      "classifier: RandomForest\n",
      "rf_max_depth: 18\n",
      "rf_n_estimators: 158\n",
      "\n",
      "The performance metrics of the model are:\n",
      "valid_f1: 0.6072\n",
      "valid_roc_auc: 0.8586\n"
     ]
    },
    {
     "data": {
      "application/vnd.plotly.v1+json": {
       "config": {
        "plotlyServerURL": "https://plot.ly"
       },
       "data": [
        {
         "mode": "markers",
         "name": "Objective Value",
         "type": "scatter",
         "x": [
          0,
          1,
          2,
          3,
          4,
          5,
          6,
          7,
          8,
          9
         ],
         "y": [
          0.485,
          0.472,
          0.485,
          0.471,
          0.49,
          0.475,
          0.485,
          0.607,
          0.497,
          0.551
         ]
        },
        {
         "name": "Best Value",
         "type": "scatter",
         "x": [
          0,
          1,
          2,
          3,
          4,
          5,
          6,
          7,
          8,
          9
         ],
         "y": [
          0.485,
          0.485,
          0.485,
          0.485,
          0.49,
          0.49,
          0.49,
          0.607,
          0.607,
          0.607
         ]
        }
       ],
       "layout": {
        "height": 500,
        "template": {
         "data": {
          "bar": [
           {
            "error_x": {
             "color": "#2a3f5f"
            },
            "error_y": {
             "color": "#2a3f5f"
            },
            "marker": {
             "line": {
              "color": "white",
              "width": 0.5
             },
             "pattern": {
              "fillmode": "overlay",
              "size": 10,
              "solidity": 0.2
             }
            },
            "type": "bar"
           }
          ],
          "barpolar": [
           {
            "marker": {
             "line": {
              "color": "white",
              "width": 0.5
             },
             "pattern": {
              "fillmode": "overlay",
              "size": 10,
              "solidity": 0.2
             }
            },
            "type": "barpolar"
           }
          ],
          "carpet": [
           {
            "aaxis": {
             "endlinecolor": "#2a3f5f",
             "gridcolor": "#C8D4E3",
             "linecolor": "#C8D4E3",
             "minorgridcolor": "#C8D4E3",
             "startlinecolor": "#2a3f5f"
            },
            "baxis": {
             "endlinecolor": "#2a3f5f",
             "gridcolor": "#C8D4E3",
             "linecolor": "#C8D4E3",
             "minorgridcolor": "#C8D4E3",
             "startlinecolor": "#2a3f5f"
            },
            "type": "carpet"
           }
          ],
          "choropleth": [
           {
            "colorbar": {
             "outlinewidth": 0,
             "ticks": ""
            },
            "type": "choropleth"
           }
          ],
          "contour": [
           {
            "colorbar": {
             "outlinewidth": 0,
             "ticks": ""
            },
            "colorscale": [
             [
              0,
              "#0d0887"
             ],
             [
              0.1111111111111111,
              "#46039f"
             ],
             [
              0.2222222222222222,
              "#7201a8"
             ],
             [
              0.3333333333333333,
              "#9c179e"
             ],
             [
              0.4444444444444444,
              "#bd3786"
             ],
             [
              0.5555555555555556,
              "#d8576b"
             ],
             [
              0.6666666666666666,
              "#ed7953"
             ],
             [
              0.7777777777777778,
              "#fb9f3a"
             ],
             [
              0.8888888888888888,
              "#fdca26"
             ],
             [
              1,
              "#f0f921"
             ]
            ],
            "type": "contour"
           }
          ],
          "contourcarpet": [
           {
            "colorbar": {
             "outlinewidth": 0,
             "ticks": ""
            },
            "type": "contourcarpet"
           }
          ],
          "heatmap": [
           {
            "colorbar": {
             "outlinewidth": 0,
             "ticks": ""
            },
            "colorscale": [
             [
              0,
              "#0d0887"
             ],
             [
              0.1111111111111111,
              "#46039f"
             ],
             [
              0.2222222222222222,
              "#7201a8"
             ],
             [
              0.3333333333333333,
              "#9c179e"
             ],
             [
              0.4444444444444444,
              "#bd3786"
             ],
             [
              0.5555555555555556,
              "#d8576b"
             ],
             [
              0.6666666666666666,
              "#ed7953"
             ],
             [
              0.7777777777777778,
              "#fb9f3a"
             ],
             [
              0.8888888888888888,
              "#fdca26"
             ],
             [
              1,
              "#f0f921"
             ]
            ],
            "type": "heatmap"
           }
          ],
          "heatmapgl": [
           {
            "colorbar": {
             "outlinewidth": 0,
             "ticks": ""
            },
            "colorscale": [
             [
              0,
              "#0d0887"
             ],
             [
              0.1111111111111111,
              "#46039f"
             ],
             [
              0.2222222222222222,
              "#7201a8"
             ],
             [
              0.3333333333333333,
              "#9c179e"
             ],
             [
              0.4444444444444444,
              "#bd3786"
             ],
             [
              0.5555555555555556,
              "#d8576b"
             ],
             [
              0.6666666666666666,
              "#ed7953"
             ],
             [
              0.7777777777777778,
              "#fb9f3a"
             ],
             [
              0.8888888888888888,
              "#fdca26"
             ],
             [
              1,
              "#f0f921"
             ]
            ],
            "type": "heatmapgl"
           }
          ],
          "histogram": [
           {
            "marker": {
             "pattern": {
              "fillmode": "overlay",
              "size": 10,
              "solidity": 0.2
             }
            },
            "type": "histogram"
           }
          ],
          "histogram2d": [
           {
            "colorbar": {
             "outlinewidth": 0,
             "ticks": ""
            },
            "colorscale": [
             [
              0,
              "#0d0887"
             ],
             [
              0.1111111111111111,
              "#46039f"
             ],
             [
              0.2222222222222222,
              "#7201a8"
             ],
             [
              0.3333333333333333,
              "#9c179e"
             ],
             [
              0.4444444444444444,
              "#bd3786"
             ],
             [
              0.5555555555555556,
              "#d8576b"
             ],
             [
              0.6666666666666666,
              "#ed7953"
             ],
             [
              0.7777777777777778,
              "#fb9f3a"
             ],
             [
              0.8888888888888888,
              "#fdca26"
             ],
             [
              1,
              "#f0f921"
             ]
            ],
            "type": "histogram2d"
           }
          ],
          "histogram2dcontour": [
           {
            "colorbar": {
             "outlinewidth": 0,
             "ticks": ""
            },
            "colorscale": [
             [
              0,
              "#0d0887"
             ],
             [
              0.1111111111111111,
              "#46039f"
             ],
             [
              0.2222222222222222,
              "#7201a8"
             ],
             [
              0.3333333333333333,
              "#9c179e"
             ],
             [
              0.4444444444444444,
              "#bd3786"
             ],
             [
              0.5555555555555556,
              "#d8576b"
             ],
             [
              0.6666666666666666,
              "#ed7953"
             ],
             [
              0.7777777777777778,
              "#fb9f3a"
             ],
             [
              0.8888888888888888,
              "#fdca26"
             ],
             [
              1,
              "#f0f921"
             ]
            ],
            "type": "histogram2dcontour"
           }
          ],
          "mesh3d": [
           {
            "colorbar": {
             "outlinewidth": 0,
             "ticks": ""
            },
            "type": "mesh3d"
           }
          ],
          "parcoords": [
           {
            "line": {
             "colorbar": {
              "outlinewidth": 0,
              "ticks": ""
             }
            },
            "type": "parcoords"
           }
          ],
          "pie": [
           {
            "automargin": true,
            "type": "pie"
           }
          ],
          "scatter": [
           {
            "fillpattern": {
             "fillmode": "overlay",
             "size": 10,
             "solidity": 0.2
            },
            "type": "scatter"
           }
          ],
          "scatter3d": [
           {
            "line": {
             "colorbar": {
              "outlinewidth": 0,
              "ticks": ""
             }
            },
            "marker": {
             "colorbar": {
              "outlinewidth": 0,
              "ticks": ""
             }
            },
            "type": "scatter3d"
           }
          ],
          "scattercarpet": [
           {
            "marker": {
             "colorbar": {
              "outlinewidth": 0,
              "ticks": ""
             }
            },
            "type": "scattercarpet"
           }
          ],
          "scattergeo": [
           {
            "marker": {
             "colorbar": {
              "outlinewidth": 0,
              "ticks": ""
             }
            },
            "type": "scattergeo"
           }
          ],
          "scattergl": [
           {
            "marker": {
             "colorbar": {
              "outlinewidth": 0,
              "ticks": ""
             }
            },
            "type": "scattergl"
           }
          ],
          "scattermapbox": [
           {
            "marker": {
             "colorbar": {
              "outlinewidth": 0,
              "ticks": ""
             }
            },
            "type": "scattermapbox"
           }
          ],
          "scatterpolar": [
           {
            "marker": {
             "colorbar": {
              "outlinewidth": 0,
              "ticks": ""
             }
            },
            "type": "scatterpolar"
           }
          ],
          "scatterpolargl": [
           {
            "marker": {
             "colorbar": {
              "outlinewidth": 0,
              "ticks": ""
             }
            },
            "type": "scatterpolargl"
           }
          ],
          "scatterternary": [
           {
            "marker": {
             "colorbar": {
              "outlinewidth": 0,
              "ticks": ""
             }
            },
            "type": "scatterternary"
           }
          ],
          "surface": [
           {
            "colorbar": {
             "outlinewidth": 0,
             "ticks": ""
            },
            "colorscale": [
             [
              0,
              "#0d0887"
             ],
             [
              0.1111111111111111,
              "#46039f"
             ],
             [
              0.2222222222222222,
              "#7201a8"
             ],
             [
              0.3333333333333333,
              "#9c179e"
             ],
             [
              0.4444444444444444,
              "#bd3786"
             ],
             [
              0.5555555555555556,
              "#d8576b"
             ],
             [
              0.6666666666666666,
              "#ed7953"
             ],
             [
              0.7777777777777778,
              "#fb9f3a"
             ],
             [
              0.8888888888888888,
              "#fdca26"
             ],
             [
              1,
              "#f0f921"
             ]
            ],
            "type": "surface"
           }
          ],
          "table": [
           {
            "cells": {
             "fill": {
              "color": "#EBF0F8"
             },
             "line": {
              "color": "white"
             }
            },
            "header": {
             "fill": {
              "color": "#C8D4E3"
             },
             "line": {
              "color": "white"
             }
            },
            "type": "table"
           }
          ]
         },
         "layout": {
          "annotationdefaults": {
           "arrowcolor": "#2a3f5f",
           "arrowhead": 0,
           "arrowwidth": 1
          },
          "autotypenumbers": "strict",
          "coloraxis": {
           "colorbar": {
            "outlinewidth": 0,
            "ticks": ""
           }
          },
          "colorscale": {
           "diverging": [
            [
             0,
             "#8e0152"
            ],
            [
             0.1,
             "#c51b7d"
            ],
            [
             0.2,
             "#de77ae"
            ],
            [
             0.3,
             "#f1b6da"
            ],
            [
             0.4,
             "#fde0ef"
            ],
            [
             0.5,
             "#f7f7f7"
            ],
            [
             0.6,
             "#e6f5d0"
            ],
            [
             0.7,
             "#b8e186"
            ],
            [
             0.8,
             "#7fbc41"
            ],
            [
             0.9,
             "#4d9221"
            ],
            [
             1,
             "#276419"
            ]
           ],
           "sequential": [
            [
             0,
             "#0d0887"
            ],
            [
             0.1111111111111111,
             "#46039f"
            ],
            [
             0.2222222222222222,
             "#7201a8"
            ],
            [
             0.3333333333333333,
             "#9c179e"
            ],
            [
             0.4444444444444444,
             "#bd3786"
            ],
            [
             0.5555555555555556,
             "#d8576b"
            ],
            [
             0.6666666666666666,
             "#ed7953"
            ],
            [
             0.7777777777777778,
             "#fb9f3a"
            ],
            [
             0.8888888888888888,
             "#fdca26"
            ],
            [
             1,
             "#f0f921"
            ]
           ],
           "sequentialminus": [
            [
             0,
             "#0d0887"
            ],
            [
             0.1111111111111111,
             "#46039f"
            ],
            [
             0.2222222222222222,
             "#7201a8"
            ],
            [
             0.3333333333333333,
             "#9c179e"
            ],
            [
             0.4444444444444444,
             "#bd3786"
            ],
            [
             0.5555555555555556,
             "#d8576b"
            ],
            [
             0.6666666666666666,
             "#ed7953"
            ],
            [
             0.7777777777777778,
             "#fb9f3a"
            ],
            [
             0.8888888888888888,
             "#fdca26"
            ],
            [
             1,
             "#f0f921"
            ]
           ]
          },
          "colorway": [
           "#636efa",
           "#EF553B",
           "#00cc96",
           "#ab63fa",
           "#FFA15A",
           "#19d3f3",
           "#FF6692",
           "#B6E880",
           "#FF97FF",
           "#FECB52"
          ],
          "font": {
           "color": "#2a3f5f"
          },
          "geo": {
           "bgcolor": "white",
           "lakecolor": "white",
           "landcolor": "white",
           "showlakes": true,
           "showland": true,
           "subunitcolor": "#C8D4E3"
          },
          "hoverlabel": {
           "align": "left"
          },
          "hovermode": "closest",
          "mapbox": {
           "style": "light"
          },
          "paper_bgcolor": "white",
          "plot_bgcolor": "white",
          "polar": {
           "angularaxis": {
            "gridcolor": "#EBF0F8",
            "linecolor": "#EBF0F8",
            "ticks": ""
           },
           "bgcolor": "white",
           "radialaxis": {
            "gridcolor": "#EBF0F8",
            "linecolor": "#EBF0F8",
            "ticks": ""
           }
          },
          "scene": {
           "xaxis": {
            "backgroundcolor": "white",
            "gridcolor": "#DFE8F3",
            "gridwidth": 2,
            "linecolor": "#EBF0F8",
            "showbackground": true,
            "ticks": "",
            "zerolinecolor": "#EBF0F8"
           },
           "yaxis": {
            "backgroundcolor": "white",
            "gridcolor": "#DFE8F3",
            "gridwidth": 2,
            "linecolor": "#EBF0F8",
            "showbackground": true,
            "ticks": "",
            "zerolinecolor": "#EBF0F8"
           },
           "zaxis": {
            "backgroundcolor": "white",
            "gridcolor": "#DFE8F3",
            "gridwidth": 2,
            "linecolor": "#EBF0F8",
            "showbackground": true,
            "ticks": "",
            "zerolinecolor": "#EBF0F8"
           }
          },
          "shapedefaults": {
           "line": {
            "color": "#2a3f5f"
           }
          },
          "ternary": {
           "aaxis": {
            "gridcolor": "#DFE8F3",
            "linecolor": "#A2B1C6",
            "ticks": ""
           },
           "baxis": {
            "gridcolor": "#DFE8F3",
            "linecolor": "#A2B1C6",
            "ticks": ""
           },
           "bgcolor": "white",
           "caxis": {
            "gridcolor": "#DFE8F3",
            "linecolor": "#A2B1C6",
            "ticks": ""
           }
          },
          "title": {
           "x": 0.05
          },
          "xaxis": {
           "automargin": true,
           "gridcolor": "#EBF0F8",
           "linecolor": "#EBF0F8",
           "ticks": "",
           "title": {
            "standoff": 15
           },
           "zerolinecolor": "#EBF0F8",
           "zerolinewidth": 2
          },
          "yaxis": {
           "automargin": true,
           "gridcolor": "#EBF0F8",
           "linecolor": "#EBF0F8",
           "ticks": "",
           "title": {
            "standoff": 15
           },
           "zerolinecolor": "#EBF0F8",
           "zerolinewidth": 2
          }
         }
        },
        "title": {
         "text": "Optimization History Plot"
        },
        "width": 1000,
        "xaxis": {
         "title": {
          "text": "Trial"
         }
        },
        "yaxis": {
         "title": {
          "text": "Objective Value"
         }
        }
       }
      }
     },
     "metadata": {},
     "output_type": "display_data"
    },
    {
     "data": {
      "application/vnd.plotly.v1+json": {
       "config": {
        "plotlyServerURL": "https://plot.ly"
       },
       "data": [
        {
         "marker": {
          "color": [
           0,
           1,
           2,
           3,
           4,
           5,
           6,
           7,
           8,
           9
          ],
          "colorbar": {
           "title": {
            "text": "Trial"
           },
           "x": 1,
           "xpad": 40
          },
          "colorscale": [
           [
            0,
            "rgb(247,251,255)"
           ],
           [
            0.125,
            "rgb(222,235,247)"
           ],
           [
            0.25,
            "rgb(198,219,239)"
           ],
           [
            0.375,
            "rgb(158,202,225)"
           ],
           [
            0.5,
            "rgb(107,174,214)"
           ],
           [
            0.625,
            "rgb(66,146,198)"
           ],
           [
            0.75,
            "rgb(33,113,181)"
           ],
           [
            0.875,
            "rgb(8,81,156)"
           ],
           [
            1,
            "rgb(8,48,107)"
           ]
          ],
          "line": {
           "color": "Grey",
           "width": 0.5
          },
          "showscale": true
         },
         "mode": "markers",
         "showlegend": false,
         "type": "scatter",
         "x": [
          "DecisionTree",
          "LogisticRegression",
          "DecisionTree",
          "LogisticRegression",
          "DecisionTree",
          "LogisticRegression",
          "DecisionTree",
          "RandomForest",
          "DecisionTree",
          "DecisionTree"
         ],
         "xaxis": "x",
         "y": [
          0.485,
          0.472,
          0.485,
          0.471,
          0.49,
          0.475,
          0.485,
          0.607,
          0.497,
          0.551
         ],
         "yaxis": "y"
        },
        {
         "marker": {
          "color": [
           0,
           2,
           4,
           6,
           8,
           9
          ],
          "colorbar": {
           "title": {
            "text": "Trial"
           },
           "x": 1,
           "xpad": 40
          },
          "colorscale": [
           [
            0,
            "rgb(247,251,255)"
           ],
           [
            0.125,
            "rgb(222,235,247)"
           ],
           [
            0.25,
            "rgb(198,219,239)"
           ],
           [
            0.375,
            "rgb(158,202,225)"
           ],
           [
            0.5,
            "rgb(107,174,214)"
           ],
           [
            0.625,
            "rgb(66,146,198)"
           ],
           [
            0.75,
            "rgb(33,113,181)"
           ],
           [
            0.875,
            "rgb(8,81,156)"
           ],
           [
            1,
            "rgb(8,48,107)"
           ]
          ],
          "line": {
           "color": "Grey",
           "width": 0.5
          },
          "showscale": false
         },
         "mode": "markers",
         "showlegend": false,
         "type": "scatter",
         "x": [
          30,
          49,
          15,
          26,
          16,
          7
         ],
         "xaxis": "x2",
         "y": [
          0.485,
          0.485,
          0.49,
          0.485,
          0.497,
          0.551
         ],
         "yaxis": "y2"
        },
        {
         "marker": {
          "color": [
           1,
           3,
           5
          ],
          "colorbar": {
           "title": {
            "text": "Trial"
           },
           "x": 1,
           "xpad": 40
          },
          "colorscale": [
           [
            0,
            "rgb(247,251,255)"
           ],
           [
            0.125,
            "rgb(222,235,247)"
           ],
           [
            0.25,
            "rgb(198,219,239)"
           ],
           [
            0.375,
            "rgb(158,202,225)"
           ],
           [
            0.5,
            "rgb(107,174,214)"
           ],
           [
            0.625,
            "rgb(66,146,198)"
           ],
           [
            0.75,
            "rgb(33,113,181)"
           ],
           [
            0.875,
            "rgb(8,81,156)"
           ],
           [
            1,
            "rgb(8,48,107)"
           ]
          ],
          "line": {
           "color": "Grey",
           "width": 0.5
          },
          "showscale": false
         },
         "mode": "markers",
         "showlegend": false,
         "type": "scatter",
         "x": [
          24780.71022662143,
          0.00015880132371526778,
          0.02490818711274116
         ],
         "xaxis": "x3",
         "y": [
          0.472,
          0.471,
          0.475
         ],
         "yaxis": "y3"
        },
        {
         "marker": {
          "color": [
           7
          ],
          "colorbar": {
           "title": {
            "text": "Trial"
           },
           "x": 1,
           "xpad": 40
          },
          "colorscale": [
           [
            0,
            "rgb(247,251,255)"
           ],
           [
            0.125,
            "rgb(222,235,247)"
           ],
           [
            0.25,
            "rgb(198,219,239)"
           ],
           [
            0.375,
            "rgb(158,202,225)"
           ],
           [
            0.5,
            "rgb(107,174,214)"
           ],
           [
            0.625,
            "rgb(66,146,198)"
           ],
           [
            0.75,
            "rgb(33,113,181)"
           ],
           [
            0.875,
            "rgb(8,81,156)"
           ],
           [
            1,
            "rgb(8,48,107)"
           ]
          ],
          "line": {
           "color": "Grey",
           "width": 0.5
          },
          "showscale": false
         },
         "mode": "markers",
         "showlegend": false,
         "type": "scatter",
         "x": [
          18
         ],
         "xaxis": "x4",
         "y": [
          0.607
         ],
         "yaxis": "y4"
        },
        {
         "marker": {
          "color": [
           7
          ],
          "colorbar": {
           "title": {
            "text": "Trial"
           },
           "x": 1,
           "xpad": 40
          },
          "colorscale": [
           [
            0,
            "rgb(247,251,255)"
           ],
           [
            0.125,
            "rgb(222,235,247)"
           ],
           [
            0.25,
            "rgb(198,219,239)"
           ],
           [
            0.375,
            "rgb(158,202,225)"
           ],
           [
            0.5,
            "rgb(107,174,214)"
           ],
           [
            0.625,
            "rgb(66,146,198)"
           ],
           [
            0.75,
            "rgb(33,113,181)"
           ],
           [
            0.875,
            "rgb(8,81,156)"
           ],
           [
            1,
            "rgb(8,48,107)"
           ]
          ],
          "line": {
           "color": "Grey",
           "width": 0.5
          },
          "showscale": false
         },
         "mode": "markers",
         "showlegend": false,
         "type": "scatter",
         "x": [
          158
         ],
         "xaxis": "x5",
         "y": [
          0.607
         ],
         "yaxis": "y5"
        }
       ],
       "layout": {
        "height": 500,
        "template": {
         "data": {
          "bar": [
           {
            "error_x": {
             "color": "#2a3f5f"
            },
            "error_y": {
             "color": "#2a3f5f"
            },
            "marker": {
             "line": {
              "color": "white",
              "width": 0.5
             },
             "pattern": {
              "fillmode": "overlay",
              "size": 10,
              "solidity": 0.2
             }
            },
            "type": "bar"
           }
          ],
          "barpolar": [
           {
            "marker": {
             "line": {
              "color": "white",
              "width": 0.5
             },
             "pattern": {
              "fillmode": "overlay",
              "size": 10,
              "solidity": 0.2
             }
            },
            "type": "barpolar"
           }
          ],
          "carpet": [
           {
            "aaxis": {
             "endlinecolor": "#2a3f5f",
             "gridcolor": "#C8D4E3",
             "linecolor": "#C8D4E3",
             "minorgridcolor": "#C8D4E3",
             "startlinecolor": "#2a3f5f"
            },
            "baxis": {
             "endlinecolor": "#2a3f5f",
             "gridcolor": "#C8D4E3",
             "linecolor": "#C8D4E3",
             "minorgridcolor": "#C8D4E3",
             "startlinecolor": "#2a3f5f"
            },
            "type": "carpet"
           }
          ],
          "choropleth": [
           {
            "colorbar": {
             "outlinewidth": 0,
             "ticks": ""
            },
            "type": "choropleth"
           }
          ],
          "contour": [
           {
            "colorbar": {
             "outlinewidth": 0,
             "ticks": ""
            },
            "colorscale": [
             [
              0,
              "#0d0887"
             ],
             [
              0.1111111111111111,
              "#46039f"
             ],
             [
              0.2222222222222222,
              "#7201a8"
             ],
             [
              0.3333333333333333,
              "#9c179e"
             ],
             [
              0.4444444444444444,
              "#bd3786"
             ],
             [
              0.5555555555555556,
              "#d8576b"
             ],
             [
              0.6666666666666666,
              "#ed7953"
             ],
             [
              0.7777777777777778,
              "#fb9f3a"
             ],
             [
              0.8888888888888888,
              "#fdca26"
             ],
             [
              1,
              "#f0f921"
             ]
            ],
            "type": "contour"
           }
          ],
          "contourcarpet": [
           {
            "colorbar": {
             "outlinewidth": 0,
             "ticks": ""
            },
            "type": "contourcarpet"
           }
          ],
          "heatmap": [
           {
            "colorbar": {
             "outlinewidth": 0,
             "ticks": ""
            },
            "colorscale": [
             [
              0,
              "#0d0887"
             ],
             [
              0.1111111111111111,
              "#46039f"
             ],
             [
              0.2222222222222222,
              "#7201a8"
             ],
             [
              0.3333333333333333,
              "#9c179e"
             ],
             [
              0.4444444444444444,
              "#bd3786"
             ],
             [
              0.5555555555555556,
              "#d8576b"
             ],
             [
              0.6666666666666666,
              "#ed7953"
             ],
             [
              0.7777777777777778,
              "#fb9f3a"
             ],
             [
              0.8888888888888888,
              "#fdca26"
             ],
             [
              1,
              "#f0f921"
             ]
            ],
            "type": "heatmap"
           }
          ],
          "heatmapgl": [
           {
            "colorbar": {
             "outlinewidth": 0,
             "ticks": ""
            },
            "colorscale": [
             [
              0,
              "#0d0887"
             ],
             [
              0.1111111111111111,
              "#46039f"
             ],
             [
              0.2222222222222222,
              "#7201a8"
             ],
             [
              0.3333333333333333,
              "#9c179e"
             ],
             [
              0.4444444444444444,
              "#bd3786"
             ],
             [
              0.5555555555555556,
              "#d8576b"
             ],
             [
              0.6666666666666666,
              "#ed7953"
             ],
             [
              0.7777777777777778,
              "#fb9f3a"
             ],
             [
              0.8888888888888888,
              "#fdca26"
             ],
             [
              1,
              "#f0f921"
             ]
            ],
            "type": "heatmapgl"
           }
          ],
          "histogram": [
           {
            "marker": {
             "pattern": {
              "fillmode": "overlay",
              "size": 10,
              "solidity": 0.2
             }
            },
            "type": "histogram"
           }
          ],
          "histogram2d": [
           {
            "colorbar": {
             "outlinewidth": 0,
             "ticks": ""
            },
            "colorscale": [
             [
              0,
              "#0d0887"
             ],
             [
              0.1111111111111111,
              "#46039f"
             ],
             [
              0.2222222222222222,
              "#7201a8"
             ],
             [
              0.3333333333333333,
              "#9c179e"
             ],
             [
              0.4444444444444444,
              "#bd3786"
             ],
             [
              0.5555555555555556,
              "#d8576b"
             ],
             [
              0.6666666666666666,
              "#ed7953"
             ],
             [
              0.7777777777777778,
              "#fb9f3a"
             ],
             [
              0.8888888888888888,
              "#fdca26"
             ],
             [
              1,
              "#f0f921"
             ]
            ],
            "type": "histogram2d"
           }
          ],
          "histogram2dcontour": [
           {
            "colorbar": {
             "outlinewidth": 0,
             "ticks": ""
            },
            "colorscale": [
             [
              0,
              "#0d0887"
             ],
             [
              0.1111111111111111,
              "#46039f"
             ],
             [
              0.2222222222222222,
              "#7201a8"
             ],
             [
              0.3333333333333333,
              "#9c179e"
             ],
             [
              0.4444444444444444,
              "#bd3786"
             ],
             [
              0.5555555555555556,
              "#d8576b"
             ],
             [
              0.6666666666666666,
              "#ed7953"
             ],
             [
              0.7777777777777778,
              "#fb9f3a"
             ],
             [
              0.8888888888888888,
              "#fdca26"
             ],
             [
              1,
              "#f0f921"
             ]
            ],
            "type": "histogram2dcontour"
           }
          ],
          "mesh3d": [
           {
            "colorbar": {
             "outlinewidth": 0,
             "ticks": ""
            },
            "type": "mesh3d"
           }
          ],
          "parcoords": [
           {
            "line": {
             "colorbar": {
              "outlinewidth": 0,
              "ticks": ""
             }
            },
            "type": "parcoords"
           }
          ],
          "pie": [
           {
            "automargin": true,
            "type": "pie"
           }
          ],
          "scatter": [
           {
            "fillpattern": {
             "fillmode": "overlay",
             "size": 10,
             "solidity": 0.2
            },
            "type": "scatter"
           }
          ],
          "scatter3d": [
           {
            "line": {
             "colorbar": {
              "outlinewidth": 0,
              "ticks": ""
             }
            },
            "marker": {
             "colorbar": {
              "outlinewidth": 0,
              "ticks": ""
             }
            },
            "type": "scatter3d"
           }
          ],
          "scattercarpet": [
           {
            "marker": {
             "colorbar": {
              "outlinewidth": 0,
              "ticks": ""
             }
            },
            "type": "scattercarpet"
           }
          ],
          "scattergeo": [
           {
            "marker": {
             "colorbar": {
              "outlinewidth": 0,
              "ticks": ""
             }
            },
            "type": "scattergeo"
           }
          ],
          "scattergl": [
           {
            "marker": {
             "colorbar": {
              "outlinewidth": 0,
              "ticks": ""
             }
            },
            "type": "scattergl"
           }
          ],
          "scattermapbox": [
           {
            "marker": {
             "colorbar": {
              "outlinewidth": 0,
              "ticks": ""
             }
            },
            "type": "scattermapbox"
           }
          ],
          "scatterpolar": [
           {
            "marker": {
             "colorbar": {
              "outlinewidth": 0,
              "ticks": ""
             }
            },
            "type": "scatterpolar"
           }
          ],
          "scatterpolargl": [
           {
            "marker": {
             "colorbar": {
              "outlinewidth": 0,
              "ticks": ""
             }
            },
            "type": "scatterpolargl"
           }
          ],
          "scatterternary": [
           {
            "marker": {
             "colorbar": {
              "outlinewidth": 0,
              "ticks": ""
             }
            },
            "type": "scatterternary"
           }
          ],
          "surface": [
           {
            "colorbar": {
             "outlinewidth": 0,
             "ticks": ""
            },
            "colorscale": [
             [
              0,
              "#0d0887"
             ],
             [
              0.1111111111111111,
              "#46039f"
             ],
             [
              0.2222222222222222,
              "#7201a8"
             ],
             [
              0.3333333333333333,
              "#9c179e"
             ],
             [
              0.4444444444444444,
              "#bd3786"
             ],
             [
              0.5555555555555556,
              "#d8576b"
             ],
             [
              0.6666666666666666,
              "#ed7953"
             ],
             [
              0.7777777777777778,
              "#fb9f3a"
             ],
             [
              0.8888888888888888,
              "#fdca26"
             ],
             [
              1,
              "#f0f921"
             ]
            ],
            "type": "surface"
           }
          ],
          "table": [
           {
            "cells": {
             "fill": {
              "color": "#EBF0F8"
             },
             "line": {
              "color": "white"
             }
            },
            "header": {
             "fill": {
              "color": "#C8D4E3"
             },
             "line": {
              "color": "white"
             }
            },
            "type": "table"
           }
          ]
         },
         "layout": {
          "annotationdefaults": {
           "arrowcolor": "#2a3f5f",
           "arrowhead": 0,
           "arrowwidth": 1
          },
          "autotypenumbers": "strict",
          "coloraxis": {
           "colorbar": {
            "outlinewidth": 0,
            "ticks": ""
           }
          },
          "colorscale": {
           "diverging": [
            [
             0,
             "#8e0152"
            ],
            [
             0.1,
             "#c51b7d"
            ],
            [
             0.2,
             "#de77ae"
            ],
            [
             0.3,
             "#f1b6da"
            ],
            [
             0.4,
             "#fde0ef"
            ],
            [
             0.5,
             "#f7f7f7"
            ],
            [
             0.6,
             "#e6f5d0"
            ],
            [
             0.7,
             "#b8e186"
            ],
            [
             0.8,
             "#7fbc41"
            ],
            [
             0.9,
             "#4d9221"
            ],
            [
             1,
             "#276419"
            ]
           ],
           "sequential": [
            [
             0,
             "#0d0887"
            ],
            [
             0.1111111111111111,
             "#46039f"
            ],
            [
             0.2222222222222222,
             "#7201a8"
            ],
            [
             0.3333333333333333,
             "#9c179e"
            ],
            [
             0.4444444444444444,
             "#bd3786"
            ],
            [
             0.5555555555555556,
             "#d8576b"
            ],
            [
             0.6666666666666666,
             "#ed7953"
            ],
            [
             0.7777777777777778,
             "#fb9f3a"
            ],
            [
             0.8888888888888888,
             "#fdca26"
            ],
            [
             1,
             "#f0f921"
            ]
           ],
           "sequentialminus": [
            [
             0,
             "#0d0887"
            ],
            [
             0.1111111111111111,
             "#46039f"
            ],
            [
             0.2222222222222222,
             "#7201a8"
            ],
            [
             0.3333333333333333,
             "#9c179e"
            ],
            [
             0.4444444444444444,
             "#bd3786"
            ],
            [
             0.5555555555555556,
             "#d8576b"
            ],
            [
             0.6666666666666666,
             "#ed7953"
            ],
            [
             0.7777777777777778,
             "#fb9f3a"
            ],
            [
             0.8888888888888888,
             "#fdca26"
            ],
            [
             1,
             "#f0f921"
            ]
           ]
          },
          "colorway": [
           "#636efa",
           "#EF553B",
           "#00cc96",
           "#ab63fa",
           "#FFA15A",
           "#19d3f3",
           "#FF6692",
           "#B6E880",
           "#FF97FF",
           "#FECB52"
          ],
          "font": {
           "color": "#2a3f5f"
          },
          "geo": {
           "bgcolor": "white",
           "lakecolor": "white",
           "landcolor": "white",
           "showlakes": true,
           "showland": true,
           "subunitcolor": "#C8D4E3"
          },
          "hoverlabel": {
           "align": "left"
          },
          "hovermode": "closest",
          "mapbox": {
           "style": "light"
          },
          "paper_bgcolor": "white",
          "plot_bgcolor": "white",
          "polar": {
           "angularaxis": {
            "gridcolor": "#EBF0F8",
            "linecolor": "#EBF0F8",
            "ticks": ""
           },
           "bgcolor": "white",
           "radialaxis": {
            "gridcolor": "#EBF0F8",
            "linecolor": "#EBF0F8",
            "ticks": ""
           }
          },
          "scene": {
           "xaxis": {
            "backgroundcolor": "white",
            "gridcolor": "#DFE8F3",
            "gridwidth": 2,
            "linecolor": "#EBF0F8",
            "showbackground": true,
            "ticks": "",
            "zerolinecolor": "#EBF0F8"
           },
           "yaxis": {
            "backgroundcolor": "white",
            "gridcolor": "#DFE8F3",
            "gridwidth": 2,
            "linecolor": "#EBF0F8",
            "showbackground": true,
            "ticks": "",
            "zerolinecolor": "#EBF0F8"
           },
           "zaxis": {
            "backgroundcolor": "white",
            "gridcolor": "#DFE8F3",
            "gridwidth": 2,
            "linecolor": "#EBF0F8",
            "showbackground": true,
            "ticks": "",
            "zerolinecolor": "#EBF0F8"
           }
          },
          "shapedefaults": {
           "line": {
            "color": "#2a3f5f"
           }
          },
          "ternary": {
           "aaxis": {
            "gridcolor": "#DFE8F3",
            "linecolor": "#A2B1C6",
            "ticks": ""
           },
           "baxis": {
            "gridcolor": "#DFE8F3",
            "linecolor": "#A2B1C6",
            "ticks": ""
           },
           "bgcolor": "white",
           "caxis": {
            "gridcolor": "#DFE8F3",
            "linecolor": "#A2B1C6",
            "ticks": ""
           }
          },
          "title": {
           "x": 0.05
          },
          "xaxis": {
           "automargin": true,
           "gridcolor": "#EBF0F8",
           "linecolor": "#EBF0F8",
           "ticks": "",
           "title": {
            "standoff": 15
           },
           "zerolinecolor": "#EBF0F8",
           "zerolinewidth": 2
          },
          "yaxis": {
           "automargin": true,
           "gridcolor": "#EBF0F8",
           "linecolor": "#EBF0F8",
           "ticks": "",
           "title": {
            "standoff": 15
           },
           "zerolinecolor": "#EBF0F8",
           "zerolinewidth": 2
          }
         }
        },
        "title": {
         "text": "Slice Plot"
        },
        "width": 1000,
        "xaxis": {
         "anchor": "y",
         "domain": [
          0,
          0.16799999999999998
         ],
         "tickangle": -90,
         "title": {
          "text": "classifier"
         }
        },
        "xaxis2": {
         "anchor": "y2",
         "domain": [
          0.208,
          0.376
         ],
         "tickangle": -90,
         "title": {
          "text": "dt_max_depth"
         }
        },
        "xaxis3": {
         "anchor": "y3",
         "domain": [
          0.416,
          0.584
         ],
         "tickangle": -90,
         "title": {
          "text": "lr_c"
         },
         "type": "log"
        },
        "xaxis4": {
         "anchor": "y4",
         "domain": [
          0.624,
          0.792
         ],
         "tickangle": -90,
         "title": {
          "text": "rf_max_depth"
         }
        },
        "xaxis5": {
         "anchor": "y5",
         "domain": [
          0.832,
          1
         ],
         "tickangle": -90,
         "title": {
          "text": "rf_n_estimators"
         }
        },
        "yaxis": {
         "anchor": "x",
         "domain": [
          0,
          1
         ],
         "title": {
          "text": "Objective Value"
         }
        },
        "yaxis2": {
         "anchor": "x2",
         "domain": [
          0,
          1
         ],
         "matches": "y",
         "showticklabels": false
        },
        "yaxis3": {
         "anchor": "x3",
         "domain": [
          0,
          1
         ],
         "matches": "y",
         "showticklabels": false
        },
        "yaxis4": {
         "anchor": "x4",
         "domain": [
          0,
          1
         ],
         "matches": "y",
         "showticklabels": false
        },
        "yaxis5": {
         "anchor": "x5",
         "domain": [
          0,
          1
         ],
         "matches": "y",
         "showticklabels": false
        }
       }
      }
     },
     "metadata": {},
     "output_type": "display_data"
    }
   ],
   "source": [
    "plot_study_results('downsampled', studies, evaluations)"
   ]
  },
  {
   "attachments": {},
   "cell_type": "markdown",
   "metadata": {},
   "source": [
    "Результаты указывают на незначительные различия в производительности модели `RandomForest` в зависимости от того, были ли тренировочные данные `sampled`. Вот некоторые наблюдения:\n",
    "\n",
    "1. **F1-оценка**: Метод `upsampling` показал наивысшую F1-оценку (0.620321) среди трех методов. Это говорит о том, что для этой конкретной модели и данных использование `upsampling` для балансировки классов в тренировочном наборе может улучшить баланс между `precision` и `recall`, которые измеряет F1-оценка.\n",
    "\n",
    "2. **ROC AUC-оценка**: Однако модель, обученная на `downsampling`, имеет наивысшую ROC AUC-оценку (0.86377), что указывает на лучшую общую производительность с точки зрения как чувствительности (вероятность истинно положительного результата), так и специфичности (вероятность истинно отрицательного результата). Методы `downsampling` и `upsampling` имеют схожие ROC AUC-оценки (соответственно 0.858571 и 0.85871).\n",
    "\n",
    "В общем, выбор метода может зависеть от того, какой показатель важнее для нашего конкретного приложения. Если вам больше важен баланс между точностью и полнотой, то возможно, стоит использовать `upsampling`. Но если более важна общее качество модели на основе ROC AUC-оценки, то возможно, будет лучше не использовать `sampling`.\n",
    "\n",
    "Однако эти различия довольно малы, поэтому эффект от `sampling` не является значимым в данном случае. Более того, выбор гиперпараметров (максимальная глубина и количество оценщиков для случайного леса) остается стабильным во всех стратегиях выборки, что свидетельствует о устойвивости этих параметров независимо от `sampling`."
   ]
  },
  {
   "attachments": {},
   "cell_type": "markdown",
   "metadata": {},
   "source": [
    "# Проверка на тест-выборке\n",
    "\n",
    "Последним этапом, возьмем лучшую модель."
   ]
  },
  {
   "cell_type": "code",
   "execution_count": 27,
   "metadata": {},
   "outputs": [],
   "source": [
    "best_model = models['upsampled']\n",
    "\n",
    "pred_test = best_model.predict(data_splits['upsampled']['ftr_test'])\n",
    "pred_proba_test = best_model.predict_proba(data_splits['upsampled']['ftr_test'])[:, 1]\n",
    "\n",
    "f1_test = f1_score(data_splits['upsampled']['tgt_test'], pred_test)\n",
    "roc_auc_test = roc_auc_score(data_splits['upsampled']['tgt_test'], pred_proba_test)"
   ]
  },
  {
   "attachments": {},
   "cell_type": "markdown",
   "metadata": {},
   "source": [
    "И посмотрим на ее метрики."
   ]
  },
  {
   "cell_type": "code",
   "execution_count": 28,
   "metadata": {},
   "outputs": [
    {
     "name": "stdout",
     "output_type": "stream",
     "text": [
      "Test f1 score: 0.5647\n",
      "Test ROC AUC: 0.8406\n"
     ]
    },
    {
     "data": {
      "application/vnd.plotly.v1+json": {
       "config": {
        "plotlyServerURL": "https://plot.ly"
       },
       "data": [
        {
         "mode": "lines",
         "name": "upsampled ROC (AUC = 0.84)",
         "type": "scatter",
         "x": [
          0,
          0,
          0,
          0,
          0,
          0.0008375209380234506,
          0.0008375209380234506,
          0.0008375209380234506,
          0.0008375209380234506,
          0.0016750418760469012,
          0.0016750418760469012,
          0.0016750418760469012,
          0.002512562814070352,
          0.002512562814070352,
          0.0033500837520938024,
          0.0033500837520938024,
          0.0033500837520938024,
          0.0033500837520938024,
          0.0033500837520938024,
          0.0033500837520938024,
          0.0041876046901172526,
          0.0041876046901172526,
          0.005862646566164154,
          0.005862646566164154,
          0.007537688442211055,
          0.007537688442211055,
          0.008375209380234505,
          0.008375209380234505,
          0.009212730318257957,
          0.009212730318257957,
          0.010050251256281407,
          0.010050251256281407,
          0.011725293132328308,
          0.011725293132328308,
          0.01256281407035176,
          0.01340033500837521,
          0.01340033500837521,
          0.01423785594639866,
          0.01423785594639866,
          0.01507537688442211,
          0.01507537688442211,
          0.01675041876046901,
          0.01675041876046901,
          0.017587939698492462,
          0.017587939698492462,
          0.017587939698492462,
          0.018425460636515914,
          0.018425460636515914,
          0.019262981574539362,
          0.019262981574539362,
          0.019262981574539362,
          0.020100502512562814,
          0.020100502512562814,
          0.020938023450586266,
          0.021775544388609715,
          0.021775544388609715,
          0.023450586264656615,
          0.023450586264656615,
          0.024288107202680067,
          0.024288107202680067,
          0.02512562814070352,
          0.02512562814070352,
          0.025963149078726967,
          0.025963149078726967,
          0.02680067001675042,
          0.02680067001675042,
          0.02763819095477387,
          0.02763819095477387,
          0.03015075376884422,
          0.03015075376884422,
          0.03098827470686767,
          0.03098827470686767,
          0.035175879396984924,
          0.035175879396984924,
          0.038525963149078725,
          0.038525963149078725,
          0.03936348408710218,
          0.03936348408710218,
          0.04103852596314908,
          0.04103852596314908,
          0.04271356783919598,
          0.04271356783919598,
          0.04355108877721943,
          0.04355108877721943,
          0.048576214405360134,
          0.048576214405360134,
          0.05025125628140704,
          0.05025125628140704,
          0.051926298157453935,
          0.05360134003350084,
          0.05695142378559464,
          0.05695142378559464,
          0.05695142378559464,
          0.05778894472361809,
          0.05778894472361809,
          0.05862646566164154,
          0.05862646566164154,
          0.06113902847571189,
          0.06113902847571189,
          0.06448911222780569,
          0.06448911222780569,
          0.06532663316582915,
          0.06532663316582915,
          0.06700167504187604,
          0.06700167504187604,
          0.0678391959798995,
          0.0678391959798995,
          0.0728643216080402,
          0.0728643216080402,
          0.0745393634840871,
          0.0745393634840871,
          0.07956448911222781,
          0.07956448911222781,
          0.08375209380234507,
          0.08375209380234507,
          0.08458961474036851,
          0.08458961474036851,
          0.08710217755443886,
          0.08710217755443886,
          0.09212730318257957,
          0.09212730318257957,
          0.09380234505862646,
          0.09380234505862646,
          0.09547738693467336,
          0.09547738693467336,
          0.09966499162479062,
          0.09966499162479062,
          0.10050251256281408,
          0.10050251256281408,
          0.10134003350083752,
          0.10134003350083752,
          0.10301507537688442,
          0.10301507537688442,
          0.10469011725293133,
          0.10469011725293133,
          0.10552763819095477,
          0.10552763819095477,
          0.10720268006700168,
          0.10720268006700168,
          0.10887772194304858,
          0.11055276381909548,
          0.11139028475711893,
          0.11139028475711893,
          0.11222780569514237,
          0.11222780569514237,
          0.11306532663316583,
          0.11390284757118928,
          0.11390284757118928,
          0.11892797319932999,
          0.11892797319932999,
          0.11976549413735343,
          0.11976549413735343,
          0.12060301507537688,
          0.12060301507537688,
          0.12646566164154105,
          0.12646566164154105,
          0.12897822445561138,
          0.12897822445561138,
          0.12981574539363483,
          0.12981574539363483,
          0.1323283082077052,
          0.1323283082077052,
          0.13400335008375208,
          0.13400335008375208,
          0.1373534338358459,
          0.1373534338358459,
          0.13819095477386933,
          0.1390284757118928,
          0.1390284757118928,
          0.13986599664991625,
          0.13986599664991625,
          0.14154103852596314,
          0.14154103852596314,
          0.14321608040201006,
          0.14321608040201006,
          0.1541038525963149,
          0.1541038525963149,
          0.15996649916247907,
          0.16164154103852596,
          0.16415410385259632,
          0.16415410385259632,
          0.16666666666666666,
          0.16666666666666666,
          0.16917922948073702,
          0.16917922948073702,
          0.1708542713567839,
          0.1708542713567839,
          0.17169179229480738,
          0.17169179229480738,
          0.17420435510887772,
          0.17587939698492464,
          0.17587939698492464,
          0.1800670016750419,
          0.18090452261306533,
          0.18760469011725292,
          0.18760469011725292,
          0.19095477386934673,
          0.19095477386934673,
          0.19179229480737017,
          0.19179229480737017,
          0.19765494137353434,
          0.19932998324958123,
          0.20100502512562815,
          0.20100502512562815,
          0.20268006700167504,
          0.20268006700167504,
          0.20351758793969849,
          0.2051926298157454,
          0.2102177554438861,
          0.2102177554438861,
          0.21105527638190955,
          0.21105527638190955,
          0.21273031825795644,
          0.21440536013400335,
          0.2219430485762144,
          0.2219430485762144,
          0.2236180904522613,
          0.22445561139028475,
          0.22529313232830822,
          0.22529313232830822,
          0.22613065326633167,
          0.22613065326633167,
          0.2269681742043551,
          0.2269681742043551,
          0.22780569514237856,
          0.22780569514237856,
          0.228643216080402,
          0.228643216080402,
          0.23534338358458962,
          0.23534338358458962,
          0.2370184254606365,
          0.2370184254606365,
          0.23869346733668342,
          0.24204355108877723,
          0.24371859296482412,
          0.24371859296482412,
          0.24706867671691793,
          0.24706867671691793,
          0.26214405360134,
          0.26214405360134,
          0.2646566164154104,
          0.2646566164154104,
          0.26800670016750416,
          0.26800670016750416,
          0.26800670016750416,
          0.2730318257956449,
          0.2747068676716918,
          0.2797319932998325,
          0.28224455611390287,
          0.29396984924623115,
          0.29396984924623115,
          0.2948073701842546,
          0.2948073701842546,
          0.29564489112227804,
          0.2989949748743719,
          0.30067001675041877,
          0.30067001675041877,
          0.30234505862646566,
          0.30234505862646566,
          0.3073701842546064,
          0.3073701842546064,
          0.31909547738693467,
          0.31909547738693467,
          0.32077051926298156,
          0.32077051926298156,
          0.32160804020100503,
          0.32160804020100503,
          0.3257956448911223,
          0.3257956448911223,
          0.32663316582914576,
          0.32830820770519265,
          0.330820770519263,
          0.330820770519263,
          0.33835845896147404,
          0.33835845896147404,
          0.34003350083752093,
          0.3417085427135678,
          0.34840871021775544,
          0.35175879396984927,
          0.3525963149078727,
          0.3525963149078727,
          0.3626465661641541,
          0.3626465661641541,
          0.36348408710217756,
          0.36515912897822445,
          0.3659966499162479,
          0.3659966499162479,
          0.3710217755443886,
          0.3710217755443886,
          0.37520938023450584,
          0.3785594639865997,
          0.38190954773869346,
          0.38190954773869346,
          0.38358458961474035,
          0.38358458961474035,
          0.39112227805695143,
          0.3936348408710218,
          0.3969849246231156,
          0.3969849246231156,
          0.40117252931323283,
          0.40117252931323283,
          0.4103852596314908,
          0.4103852596314908,
          0.4120603015075377,
          0.4154103852596315,
          0.4154103852596315,
          0.41708542713567837,
          0.41708542713567837,
          0.4187604690117253,
          0.4187604690117253,
          0.4296482412060301,
          0.4296482412060301,
          0.43299832495812396,
          0.4438860971524288,
          0.4463986599664992,
          0.4547738693467337,
          0.4564489112227806,
          0.4623115577889447,
          0.4623115577889447,
          0.4631490787269682,
          0.4631490787269682,
          0.46817420435510887,
          0.474036850921273,
          0.4765494137353434,
          0.4765494137353434,
          0.4798994974874372,
          0.4798994974874372,
          0.4849246231155779,
          0.48743718592964824,
          0.48743718592964824,
          0.49581239530988275,
          0.49581239530988275,
          0.4983249581239531,
          0.501675041876047,
          0.5108877721943048,
          0.5108877721943048,
          0.5134003350083752,
          0.518425460636516,
          0.52428810720268,
          0.52428810720268,
          0.5293132328308208,
          0.5309882747068677,
          0.5343383584589615,
          0.5385259631490787,
          0.5544388609715243,
          0.5603015075376885,
          0.5703517587939698,
          0.5703517587939698,
          0.5753768844221105,
          0.5787269681742043,
          0.5795644891122278,
          0.5795644891122278,
          0.583752093802345,
          0.5896147403685092,
          0.5971524288107203,
          0.5971524288107203,
          0.602177554438861,
          0.602177554438861,
          0.6080402010050251,
          0.6147403685092128,
          0.6147403685092128,
          0.628140703517588,
          0.628140703517588,
          0.6314907872696818,
          0.6365159128978225,
          0.6474036850921273,
          0.6482412060301508,
          0.6482412060301508,
          0.6541038525963149,
          0.6608040201005025,
          0.6708542713567839,
          0.6775544388609716,
          0.6792294807370184,
          0.6792294807370184,
          0.6867671691792295,
          0.6867671691792295,
          0.6968174204355109,
          0.7035175879396985,
          0.7135678391959799,
          0.7152428810720268,
          0.7261306532663316,
          0.7286432160804021,
          0.7286432160804021,
          0.7453936348408711,
          0.7571189279731994,
          0.7747068676716918,
          0.7763819095477387,
          0.788107202680067,
          0.7981574539363484,
          0.7998324958123953,
          0.8115577889447236,
          0.8249581239530989,
          0.8299832495812395,
          0.8316582914572864,
          0.8492462311557789,
          0.8576214405360134,
          0.8651591289782244,
          0.8668341708542714,
          0.8726968174204355,
          0.8743718592964824,
          0.8743718592964824,
          0.8793969849246231,
          0.88107202680067,
          0.8852596314907872,
          0.9053601340033501,
          0.9195979899497487,
          0.9363484087102177,
          0.9363484087102177,
          0.9522613065326633,
          0.9539363484087102,
          0.9556113902847572,
          0.957286432160804,
          0.9581239530988275,
          0.9698492462311558,
          0.9798994974874372,
          0.983249581239531,
          0.9857621440536013,
          0.9874371859296482,
          0.9882747068676717,
          1
         ],
         "y": [
          0,
          0.0032679738562091504,
          0.029411764705882353,
          0.03594771241830065,
          0.05228758169934641,
          0.05228758169934641,
          0.06209150326797386,
          0.06862745098039216,
          0.0718954248366013,
          0.0718954248366013,
          0.0784313725490196,
          0.08823529411764706,
          0.08823529411764706,
          0.12418300653594772,
          0.12418300653594772,
          0.13071895424836602,
          0.13725490196078433,
          0.14705882352941177,
          0.16013071895424835,
          0.16993464052287582,
          0.16993464052287582,
          0.17320261437908496,
          0.17320261437908496,
          0.17973856209150327,
          0.17973856209150327,
          0.1830065359477124,
          0.1830065359477124,
          0.1895424836601307,
          0.1895424836601307,
          0.19281045751633988,
          0.19281045751633988,
          0.19934640522875818,
          0.19934640522875818,
          0.20261437908496732,
          0.20261437908496732,
          0.20915032679738563,
          0.21895424836601307,
          0.21895424836601307,
          0.22549019607843138,
          0.22549019607843138,
          0.23202614379084968,
          0.23202614379084968,
          0.25163398692810457,
          0.25163398692810457,
          0.2581699346405229,
          0.2647058823529412,
          0.2647058823529412,
          0.27450980392156865,
          0.27450980392156865,
          0.28431372549019607,
          0.2875816993464052,
          0.2875816993464052,
          0.3104575163398693,
          0.31699346405228757,
          0.31699346405228757,
          0.3235294117647059,
          0.3235294117647059,
          0.3366013071895425,
          0.3366013071895425,
          0.33986928104575165,
          0.33986928104575165,
          0.3464052287581699,
          0.3464052287581699,
          0.3627450980392157,
          0.3627450980392157,
          0.369281045751634,
          0.369281045751634,
          0.3758169934640523,
          0.3758169934640523,
          0.3790849673202614,
          0.3790849673202614,
          0.38235294117647056,
          0.38235294117647056,
          0.4019607843137255,
          0.4019607843137255,
          0.40522875816993464,
          0.40522875816993464,
          0.4150326797385621,
          0.4150326797385621,
          0.41830065359477125,
          0.41830065359477125,
          0.42810457516339867,
          0.43137254901960786,
          0.4477124183006536,
          0.4477124183006536,
          0.45751633986928103,
          0.45751633986928103,
          0.46078431372549017,
          0.46078431372549017,
          0.46405228758169936,
          0.46405228758169936,
          0.47058823529411764,
          0.4738562091503268,
          0.4738562091503268,
          0.4803921568627451,
          0.4803921568627451,
          0.48366013071895425,
          0.48366013071895425,
          0.4869281045751634,
          0.4869281045751634,
          0.49019607843137253,
          0.49019607843137253,
          0.4934640522875817,
          0.4934640522875817,
          0.5,
          0.5,
          0.5032679738562091,
          0.5032679738562091,
          0.5098039215686274,
          0.5098039215686274,
          0.5130718954248366,
          0.5130718954248366,
          0.5196078431372549,
          0.5196078431372549,
          0.5261437908496732,
          0.5261437908496732,
          0.5326797385620915,
          0.5326797385620915,
          0.5359477124183006,
          0.5359477124183006,
          0.5392156862745098,
          0.5392156862745098,
          0.5424836601307189,
          0.5424836601307189,
          0.5490196078431373,
          0.5490196078431373,
          0.5522875816993464,
          0.5522875816993464,
          0.5555555555555556,
          0.5555555555555556,
          0.5588235294117647,
          0.5588235294117647,
          0.5686274509803921,
          0.5686274509803921,
          0.5718954248366013,
          0.5718954248366013,
          0.5751633986928104,
          0.5751633986928104,
          0.5816993464052288,
          0.5816993464052288,
          0.5849673202614379,
          0.5849673202614379,
          0.5947712418300654,
          0.5947712418300654,
          0.5980392156862745,
          0.6013071895424836,
          0.6013071895424836,
          0.6045751633986928,
          0.6045751633986928,
          0.6078431372549019,
          0.6078431372549019,
          0.6111111111111112,
          0.6111111111111112,
          0.6143790849673203,
          0.6143790849673203,
          0.6176470588235294,
          0.6176470588235294,
          0.6209150326797386,
          0.6209150326797386,
          0.6241830065359477,
          0.6241830065359477,
          0.6274509803921569,
          0.6274509803921569,
          0.630718954248366,
          0.630718954248366,
          0.6339869281045751,
          0.6372549019607843,
          0.6372549019607843,
          0.6405228758169934,
          0.6405228758169934,
          0.6437908496732027,
          0.6437908496732027,
          0.6470588235294118,
          0.6470588235294118,
          0.6568627450980392,
          0.6568627450980392,
          0.6601307189542484,
          0.6601307189542484,
          0.6601307189542484,
          0.6601307189542484,
          0.6633986928104575,
          0.6633986928104575,
          0.6666666666666666,
          0.6666666666666666,
          0.6699346405228758,
          0.6699346405228758,
          0.673202614379085,
          0.673202614379085,
          0.6797385620915033,
          0.6797385620915033,
          0.6797385620915033,
          0.6830065359477124,
          0.6830065359477124,
          0.6862745098039216,
          0.6862745098039216,
          0.6895424836601307,
          0.6895424836601307,
          0.6928104575163399,
          0.6928104575163399,
          0.6993464052287581,
          0.6993464052287581,
          0.6993464052287581,
          0.6993464052287581,
          0.7058823529411765,
          0.7058823529411765,
          0.7091503267973857,
          0.7091503267973857,
          0.7091503267973857,
          0.7091503267973857,
          0.7124183006535948,
          0.7124183006535948,
          0.7156862745098039,
          0.7156862745098039,
          0.7156862745098039,
          0.7156862745098039,
          0.7222222222222222,
          0.7222222222222222,
          0.7254901960784313,
          0.7254901960784313,
          0.7287581699346405,
          0.7287581699346405,
          0.7320261437908496,
          0.7320261437908496,
          0.7352941176470589,
          0.7352941176470589,
          0.738562091503268,
          0.738562091503268,
          0.7418300653594772,
          0.7418300653594772,
          0.7549019607843137,
          0.7549019607843137,
          0.7581699346405228,
          0.7581699346405228,
          0.7581699346405228,
          0.7581699346405228,
          0.761437908496732,
          0.761437908496732,
          0.7679738562091504,
          0.7679738562091504,
          0.7712418300653595,
          0.7712418300653595,
          0.7745098039215687,
          0.7745098039215687,
          0.7810457516339869,
          0.7843137254901961,
          0.7843137254901961,
          0.7843137254901961,
          0.7843137254901961,
          0.7875816993464052,
          0.7875816993464052,
          0.7941176470588235,
          0.7941176470588235,
          0.8006535947712419,
          0.8006535947712419,
          0.8006535947712419,
          0.8006535947712419,
          0.8071895424836601,
          0.8071895424836601,
          0.8104575163398693,
          0.8104575163398693,
          0.8137254901960784,
          0.8137254901960784,
          0.8202614379084967,
          0.8202614379084967,
          0.8235294117647058,
          0.8235294117647058,
          0.826797385620915,
          0.826797385620915,
          0.8300653594771242,
          0.8300653594771242,
          0.8300653594771242,
          0.8300653594771242,
          0.8333333333333334,
          0.8333333333333334,
          0.8398692810457516,
          0.8398692810457516,
          0.8431372549019608,
          0.8431372549019608,
          0.8431372549019608,
          0.8431372549019608,
          0.8464052287581699,
          0.8464052287581699,
          0.8496732026143791,
          0.8496732026143791,
          0.8496732026143791,
          0.8496732026143791,
          0.8529411764705882,
          0.8529411764705882,
          0.8562091503267973,
          0.8562091503267973,
          0.8562091503267973,
          0.8562091503267973,
          0.8594771241830066,
          0.8594771241830066,
          0.8627450980392157,
          0.8627450980392157,
          0.8660130718954249,
          0.8660130718954249,
          0.869281045751634,
          0.869281045751634,
          0.8725490196078431,
          0.8725490196078431,
          0.8758169934640523,
          0.8758169934640523,
          0.8758169934640523,
          0.8823529411764706,
          0.8823529411764706,
          0.8856209150326797,
          0.8856209150326797,
          0.8921568627450981,
          0.8921568627450981,
          0.8954248366013072,
          0.8954248366013072,
          0.8954248366013072,
          0.8954248366013072,
          0.8954248366013072,
          0.8954248366013072,
          0.8954248366013072,
          0.8986928104575164,
          0.8986928104575164,
          0.9019607843137255,
          0.9019607843137255,
          0.9019607843137255,
          0.9019607843137255,
          0.9052287581699346,
          0.9052287581699346,
          0.9084967320261438,
          0.9084967320261438,
          0.9117647058823529,
          0.9150326797385621,
          0.9150326797385621,
          0.9183006535947712,
          0.9183006535947712,
          0.9183006535947712,
          0.9183006535947712,
          0.9215686274509803,
          0.9215686274509803,
          0.9215686274509803,
          0.9215686274509803,
          0.9248366013071896,
          0.9248366013071896,
          0.9248366013071896,
          0.9248366013071896,
          0.9281045751633987,
          0.9281045751633987,
          0.9281045751633987,
          0.9281045751633987,
          0.9313725490196079,
          0.9313725490196079,
          0.9379084967320261,
          0.9379084967320261,
          0.9411764705882353,
          0.9411764705882353,
          0.9477124183006536,
          0.9477124183006536,
          0.9509803921568627,
          0.9509803921568627,
          0.954248366013072,
          0.954248366013072,
          0.954248366013072,
          0.9575163398692811,
          0.9575163398692811,
          0.9607843137254902,
          0.9607843137254902,
          0.9607843137254902,
          0.9607843137254902,
          0.9640522875816994,
          0.9673202614379085,
          0.9673202614379085,
          0.9705882352941176,
          0.9705882352941176,
          0.9705882352941176,
          0.9705882352941176,
          0.9738562091503268,
          0.9738562091503268,
          0.9771241830065359,
          0.9771241830065359,
          0.9771241830065359,
          0.9771241830065359,
          0.9771241830065359,
          0.9771241830065359,
          0.9771241830065359,
          0.9803921568627451,
          0.9803921568627451,
          0.9836601307189542,
          0.9836601307189542,
          0.9836601307189542,
          0.9836601307189542,
          0.9836601307189542,
          0.9836601307189542,
          0.9836601307189542,
          0.9836601307189542,
          0.9836601307189542,
          0.9836601307189542,
          0.9836601307189542,
          0.9836601307189542,
          0.9836601307189542,
          0.9836601307189542,
          0.9836601307189542,
          0.9836601307189542,
          0.9869281045751634,
          0.9869281045751634,
          0.9869281045751634,
          0.9869281045751634,
          0.9901960784313726,
          0.9901960784313726,
          0.9934640522875817,
          0.9967320261437909,
          0.9967320261437909,
          0.9967320261437909,
          0.9967320261437909,
          0.9967320261437909,
          0.9967320261437909,
          1,
          1,
          1,
          1,
          1,
          1,
          1
         ]
        },
        {
         "line": {
          "color": "black",
          "dash": "dash"
         },
         "mode": "lines",
         "name": "No skill",
         "type": "scatter",
         "x": [
          0,
          1
         ],
         "y": [
          0,
          1
         ]
        }
       ],
       "layout": {
        "height": 750,
        "template": {
         "data": {
          "bar": [
           {
            "error_x": {
             "color": "#2a3f5f"
            },
            "error_y": {
             "color": "#2a3f5f"
            },
            "marker": {
             "line": {
              "color": "white",
              "width": 0.5
             },
             "pattern": {
              "fillmode": "overlay",
              "size": 10,
              "solidity": 0.2
             }
            },
            "type": "bar"
           }
          ],
          "barpolar": [
           {
            "marker": {
             "line": {
              "color": "white",
              "width": 0.5
             },
             "pattern": {
              "fillmode": "overlay",
              "size": 10,
              "solidity": 0.2
             }
            },
            "type": "barpolar"
           }
          ],
          "carpet": [
           {
            "aaxis": {
             "endlinecolor": "#2a3f5f",
             "gridcolor": "#C8D4E3",
             "linecolor": "#C8D4E3",
             "minorgridcolor": "#C8D4E3",
             "startlinecolor": "#2a3f5f"
            },
            "baxis": {
             "endlinecolor": "#2a3f5f",
             "gridcolor": "#C8D4E3",
             "linecolor": "#C8D4E3",
             "minorgridcolor": "#C8D4E3",
             "startlinecolor": "#2a3f5f"
            },
            "type": "carpet"
           }
          ],
          "choropleth": [
           {
            "colorbar": {
             "outlinewidth": 0,
             "ticks": ""
            },
            "type": "choropleth"
           }
          ],
          "contour": [
           {
            "colorbar": {
             "outlinewidth": 0,
             "ticks": ""
            },
            "colorscale": [
             [
              0,
              "#0d0887"
             ],
             [
              0.1111111111111111,
              "#46039f"
             ],
             [
              0.2222222222222222,
              "#7201a8"
             ],
             [
              0.3333333333333333,
              "#9c179e"
             ],
             [
              0.4444444444444444,
              "#bd3786"
             ],
             [
              0.5555555555555556,
              "#d8576b"
             ],
             [
              0.6666666666666666,
              "#ed7953"
             ],
             [
              0.7777777777777778,
              "#fb9f3a"
             ],
             [
              0.8888888888888888,
              "#fdca26"
             ],
             [
              1,
              "#f0f921"
             ]
            ],
            "type": "contour"
           }
          ],
          "contourcarpet": [
           {
            "colorbar": {
             "outlinewidth": 0,
             "ticks": ""
            },
            "type": "contourcarpet"
           }
          ],
          "heatmap": [
           {
            "colorbar": {
             "outlinewidth": 0,
             "ticks": ""
            },
            "colorscale": [
             [
              0,
              "#0d0887"
             ],
             [
              0.1111111111111111,
              "#46039f"
             ],
             [
              0.2222222222222222,
              "#7201a8"
             ],
             [
              0.3333333333333333,
              "#9c179e"
             ],
             [
              0.4444444444444444,
              "#bd3786"
             ],
             [
              0.5555555555555556,
              "#d8576b"
             ],
             [
              0.6666666666666666,
              "#ed7953"
             ],
             [
              0.7777777777777778,
              "#fb9f3a"
             ],
             [
              0.8888888888888888,
              "#fdca26"
             ],
             [
              1,
              "#f0f921"
             ]
            ],
            "type": "heatmap"
           }
          ],
          "heatmapgl": [
           {
            "colorbar": {
             "outlinewidth": 0,
             "ticks": ""
            },
            "colorscale": [
             [
              0,
              "#0d0887"
             ],
             [
              0.1111111111111111,
              "#46039f"
             ],
             [
              0.2222222222222222,
              "#7201a8"
             ],
             [
              0.3333333333333333,
              "#9c179e"
             ],
             [
              0.4444444444444444,
              "#bd3786"
             ],
             [
              0.5555555555555556,
              "#d8576b"
             ],
             [
              0.6666666666666666,
              "#ed7953"
             ],
             [
              0.7777777777777778,
              "#fb9f3a"
             ],
             [
              0.8888888888888888,
              "#fdca26"
             ],
             [
              1,
              "#f0f921"
             ]
            ],
            "type": "heatmapgl"
           }
          ],
          "histogram": [
           {
            "marker": {
             "pattern": {
              "fillmode": "overlay",
              "size": 10,
              "solidity": 0.2
             }
            },
            "type": "histogram"
           }
          ],
          "histogram2d": [
           {
            "colorbar": {
             "outlinewidth": 0,
             "ticks": ""
            },
            "colorscale": [
             [
              0,
              "#0d0887"
             ],
             [
              0.1111111111111111,
              "#46039f"
             ],
             [
              0.2222222222222222,
              "#7201a8"
             ],
             [
              0.3333333333333333,
              "#9c179e"
             ],
             [
              0.4444444444444444,
              "#bd3786"
             ],
             [
              0.5555555555555556,
              "#d8576b"
             ],
             [
              0.6666666666666666,
              "#ed7953"
             ],
             [
              0.7777777777777778,
              "#fb9f3a"
             ],
             [
              0.8888888888888888,
              "#fdca26"
             ],
             [
              1,
              "#f0f921"
             ]
            ],
            "type": "histogram2d"
           }
          ],
          "histogram2dcontour": [
           {
            "colorbar": {
             "outlinewidth": 0,
             "ticks": ""
            },
            "colorscale": [
             [
              0,
              "#0d0887"
             ],
             [
              0.1111111111111111,
              "#46039f"
             ],
             [
              0.2222222222222222,
              "#7201a8"
             ],
             [
              0.3333333333333333,
              "#9c179e"
             ],
             [
              0.4444444444444444,
              "#bd3786"
             ],
             [
              0.5555555555555556,
              "#d8576b"
             ],
             [
              0.6666666666666666,
              "#ed7953"
             ],
             [
              0.7777777777777778,
              "#fb9f3a"
             ],
             [
              0.8888888888888888,
              "#fdca26"
             ],
             [
              1,
              "#f0f921"
             ]
            ],
            "type": "histogram2dcontour"
           }
          ],
          "mesh3d": [
           {
            "colorbar": {
             "outlinewidth": 0,
             "ticks": ""
            },
            "type": "mesh3d"
           }
          ],
          "parcoords": [
           {
            "line": {
             "colorbar": {
              "outlinewidth": 0,
              "ticks": ""
             }
            },
            "type": "parcoords"
           }
          ],
          "pie": [
           {
            "automargin": true,
            "type": "pie"
           }
          ],
          "scatter": [
           {
            "fillpattern": {
             "fillmode": "overlay",
             "size": 10,
             "solidity": 0.2
            },
            "type": "scatter"
           }
          ],
          "scatter3d": [
           {
            "line": {
             "colorbar": {
              "outlinewidth": 0,
              "ticks": ""
             }
            },
            "marker": {
             "colorbar": {
              "outlinewidth": 0,
              "ticks": ""
             }
            },
            "type": "scatter3d"
           }
          ],
          "scattercarpet": [
           {
            "marker": {
             "colorbar": {
              "outlinewidth": 0,
              "ticks": ""
             }
            },
            "type": "scattercarpet"
           }
          ],
          "scattergeo": [
           {
            "marker": {
             "colorbar": {
              "outlinewidth": 0,
              "ticks": ""
             }
            },
            "type": "scattergeo"
           }
          ],
          "scattergl": [
           {
            "marker": {
             "colorbar": {
              "outlinewidth": 0,
              "ticks": ""
             }
            },
            "type": "scattergl"
           }
          ],
          "scattermapbox": [
           {
            "marker": {
             "colorbar": {
              "outlinewidth": 0,
              "ticks": ""
             }
            },
            "type": "scattermapbox"
           }
          ],
          "scatterpolar": [
           {
            "marker": {
             "colorbar": {
              "outlinewidth": 0,
              "ticks": ""
             }
            },
            "type": "scatterpolar"
           }
          ],
          "scatterpolargl": [
           {
            "marker": {
             "colorbar": {
              "outlinewidth": 0,
              "ticks": ""
             }
            },
            "type": "scatterpolargl"
           }
          ],
          "scatterternary": [
           {
            "marker": {
             "colorbar": {
              "outlinewidth": 0,
              "ticks": ""
             }
            },
            "type": "scatterternary"
           }
          ],
          "surface": [
           {
            "colorbar": {
             "outlinewidth": 0,
             "ticks": ""
            },
            "colorscale": [
             [
              0,
              "#0d0887"
             ],
             [
              0.1111111111111111,
              "#46039f"
             ],
             [
              0.2222222222222222,
              "#7201a8"
             ],
             [
              0.3333333333333333,
              "#9c179e"
             ],
             [
              0.4444444444444444,
              "#bd3786"
             ],
             [
              0.5555555555555556,
              "#d8576b"
             ],
             [
              0.6666666666666666,
              "#ed7953"
             ],
             [
              0.7777777777777778,
              "#fb9f3a"
             ],
             [
              0.8888888888888888,
              "#fdca26"
             ],
             [
              1,
              "#f0f921"
             ]
            ],
            "type": "surface"
           }
          ],
          "table": [
           {
            "cells": {
             "fill": {
              "color": "#EBF0F8"
             },
             "line": {
              "color": "white"
             }
            },
            "header": {
             "fill": {
              "color": "#C8D4E3"
             },
             "line": {
              "color": "white"
             }
            },
            "type": "table"
           }
          ]
         },
         "layout": {
          "annotationdefaults": {
           "arrowcolor": "#2a3f5f",
           "arrowhead": 0,
           "arrowwidth": 1
          },
          "autotypenumbers": "strict",
          "coloraxis": {
           "colorbar": {
            "outlinewidth": 0,
            "ticks": ""
           }
          },
          "colorscale": {
           "diverging": [
            [
             0,
             "#8e0152"
            ],
            [
             0.1,
             "#c51b7d"
            ],
            [
             0.2,
             "#de77ae"
            ],
            [
             0.3,
             "#f1b6da"
            ],
            [
             0.4,
             "#fde0ef"
            ],
            [
             0.5,
             "#f7f7f7"
            ],
            [
             0.6,
             "#e6f5d0"
            ],
            [
             0.7,
             "#b8e186"
            ],
            [
             0.8,
             "#7fbc41"
            ],
            [
             0.9,
             "#4d9221"
            ],
            [
             1,
             "#276419"
            ]
           ],
           "sequential": [
            [
             0,
             "#0d0887"
            ],
            [
             0.1111111111111111,
             "#46039f"
            ],
            [
             0.2222222222222222,
             "#7201a8"
            ],
            [
             0.3333333333333333,
             "#9c179e"
            ],
            [
             0.4444444444444444,
             "#bd3786"
            ],
            [
             0.5555555555555556,
             "#d8576b"
            ],
            [
             0.6666666666666666,
             "#ed7953"
            ],
            [
             0.7777777777777778,
             "#fb9f3a"
            ],
            [
             0.8888888888888888,
             "#fdca26"
            ],
            [
             1,
             "#f0f921"
            ]
           ],
           "sequentialminus": [
            [
             0,
             "#0d0887"
            ],
            [
             0.1111111111111111,
             "#46039f"
            ],
            [
             0.2222222222222222,
             "#7201a8"
            ],
            [
             0.3333333333333333,
             "#9c179e"
            ],
            [
             0.4444444444444444,
             "#bd3786"
            ],
            [
             0.5555555555555556,
             "#d8576b"
            ],
            [
             0.6666666666666666,
             "#ed7953"
            ],
            [
             0.7777777777777778,
             "#fb9f3a"
            ],
            [
             0.8888888888888888,
             "#fdca26"
            ],
            [
             1,
             "#f0f921"
            ]
           ]
          },
          "colorway": [
           "#636efa",
           "#EF553B",
           "#00cc96",
           "#ab63fa",
           "#FFA15A",
           "#19d3f3",
           "#FF6692",
           "#B6E880",
           "#FF97FF",
           "#FECB52"
          ],
          "font": {
           "color": "#2a3f5f"
          },
          "geo": {
           "bgcolor": "white",
           "lakecolor": "white",
           "landcolor": "white",
           "showlakes": true,
           "showland": true,
           "subunitcolor": "#C8D4E3"
          },
          "hoverlabel": {
           "align": "left"
          },
          "hovermode": "closest",
          "mapbox": {
           "style": "light"
          },
          "paper_bgcolor": "white",
          "plot_bgcolor": "white",
          "polar": {
           "angularaxis": {
            "gridcolor": "#EBF0F8",
            "linecolor": "#EBF0F8",
            "ticks": ""
           },
           "bgcolor": "white",
           "radialaxis": {
            "gridcolor": "#EBF0F8",
            "linecolor": "#EBF0F8",
            "ticks": ""
           }
          },
          "scene": {
           "xaxis": {
            "backgroundcolor": "white",
            "gridcolor": "#DFE8F3",
            "gridwidth": 2,
            "linecolor": "#EBF0F8",
            "showbackground": true,
            "ticks": "",
            "zerolinecolor": "#EBF0F8"
           },
           "yaxis": {
            "backgroundcolor": "white",
            "gridcolor": "#DFE8F3",
            "gridwidth": 2,
            "linecolor": "#EBF0F8",
            "showbackground": true,
            "ticks": "",
            "zerolinecolor": "#EBF0F8"
           },
           "zaxis": {
            "backgroundcolor": "white",
            "gridcolor": "#DFE8F3",
            "gridwidth": 2,
            "linecolor": "#EBF0F8",
            "showbackground": true,
            "ticks": "",
            "zerolinecolor": "#EBF0F8"
           }
          },
          "shapedefaults": {
           "line": {
            "color": "#2a3f5f"
           }
          },
          "ternary": {
           "aaxis": {
            "gridcolor": "#DFE8F3",
            "linecolor": "#A2B1C6",
            "ticks": ""
           },
           "baxis": {
            "gridcolor": "#DFE8F3",
            "linecolor": "#A2B1C6",
            "ticks": ""
           },
           "bgcolor": "white",
           "caxis": {
            "gridcolor": "#DFE8F3",
            "linecolor": "#A2B1C6",
            "ticks": ""
           }
          },
          "title": {
           "x": 0.05
          },
          "xaxis": {
           "automargin": true,
           "gridcolor": "#EBF0F8",
           "linecolor": "#EBF0F8",
           "ticks": "",
           "title": {
            "standoff": 15
           },
           "zerolinecolor": "#EBF0F8",
           "zerolinewidth": 2
          },
          "yaxis": {
           "automargin": true,
           "gridcolor": "#EBF0F8",
           "linecolor": "#EBF0F8",
           "ticks": "",
           "title": {
            "standoff": 15
           },
           "zerolinecolor": "#EBF0F8",
           "zerolinewidth": 2
          }
         }
        },
        "title": {
         "text": "ROC curves based on test datasets"
        },
        "width": 1000,
        "xaxis": {
         "title": {
          "text": "False positive rate"
         }
        },
        "yaxis": {
         "title": {
          "text": "True positive rate"
         }
        }
       }
      }
     },
     "metadata": {},
     "output_type": "display_data"
    }
   ],
   "source": [
    "print('Test f1 score:', round(f1_test, 4))\n",
    "print('Test ROC AUC:', round(roc_auc_test, 4))\n",
    "fig = plot_roc_auc(data_splits, models, 'test', 'ROC curves based on test datasets', 'upsampled')\n",
    "fig.show()"
   ]
  },
  {
   "attachments": {},
   "cell_type": "markdown",
   "metadata": {},
   "source": [
    "# Выводы\n",
    "\n",
    "На основе результатов экспериментов мы наблюдаем:\n",
    "\n",
    "1. **Сравнение различных стратегий выборки:** Среди моделей, обученных с использованием различных стратегий выборки на тренировочных данных, модель, обученная с использованием метода `upsampling`, показала наивысший результат по метрике F1 (0.620321), немного превысив результаты, полученные `sampling` (0.603175) и при использовании `downsampling` (0.607235). Это говорит о том, что учет дисбаланса классов с помощью `upsampling` может положительно сказаться на способности модели совмещать точность и полноту.\n",
    "\n",
    "2. **Площадь под кривой ROC (AUC-ROC):** Все три модели, независимо от `sampling`, показали схожие значения AUC-ROC, около 0.86, на валидационных данных. Это говорит о том, что модели получились сопоставимого качества с похожими границами определения целевого признака.\n",
    "\n",
    "3. **Влияние `downsampling`:** Несмотря на то, что `downsampling` показывает немного лучший результат по F1-метрике, он все же ниже, чем у модели с `upsampling`. Это говорит о том, что, хотя `downsampling` может улучшить качество предсказаний по сравнению с датасетом as-is, оно может удалять потенциально полезную информацию, которую можно сохранить при `upsampling`.\n",
    "\n",
    "4. **Производительность на тестовых данных:** Затем модель была оценена на тестовом наборе данных, где достигнут F1-счет 0.5647 и AUC-ROC 0.8406. Этот результат на невиданных данных немного ниже, чем результат на валидационном наборе. Снижение метрик может быть связано с переобучением модели на тренировочных данных, что является обычной проблемой в машинном обучении.\n",
    "\n",
    "В итоге, увеличение выборки кажется наиболее эффективным методом борьбы с дисбалансом классов. Наконец, стоит рассмотреть другие метрики и деловые цели, помимо F1 и ROC-AUC, чтобы получить всестороннее понимание качества модели."
   ]
  }
 ],
 "metadata": {
  "ExecuteTimeLog": [
   {
    "duration": 1605,
    "start_time": "2023-05-21T19:46:45.978Z"
   },
   {
    "duration": 35,
    "start_time": "2023-05-21T19:46:52.071Z"
   },
   {
    "duration": 836,
    "start_time": "2023-05-21T19:46:54.792Z"
   },
   {
    "duration": 168,
    "start_time": "2023-05-21T19:48:12.739Z"
   },
   {
    "duration": 73,
    "start_time": "2023-05-21T19:48:16.311Z"
   },
   {
    "duration": 24,
    "start_time": "2023-05-21T19:48:16.386Z"
   },
   {
    "duration": 360,
    "start_time": "2023-05-21T19:48:16.412Z"
   },
   {
    "duration": 6,
    "start_time": "2023-05-21T19:48:16.774Z"
   },
   {
    "duration": 321,
    "start_time": "2023-05-21T19:48:16.781Z"
   },
   {
    "duration": 64,
    "start_time": "2023-05-21T19:48:17.103Z"
   },
   {
    "duration": 12362,
    "start_time": "2023-05-21T19:48:22.972Z"
   },
   {
    "duration": 108,
    "start_time": "2023-05-21T19:48:35.337Z"
   },
   {
    "duration": 1385,
    "start_time": "2023-05-22T18:16:08.557Z"
   },
   {
    "duration": 37,
    "start_time": "2023-05-22T18:16:09.944Z"
   },
   {
    "duration": 865,
    "start_time": "2023-05-22T18:16:09.983Z"
   },
   {
    "duration": 9,
    "start_time": "2023-05-22T18:16:10.849Z"
   },
   {
    "duration": 119,
    "start_time": "2023-05-22T18:16:10.860Z"
   },
   {
    "duration": 0,
    "start_time": "2023-05-22T18:16:10.982Z"
   },
   {
    "duration": 0,
    "start_time": "2023-05-22T18:16:10.984Z"
   },
   {
    "duration": 0,
    "start_time": "2023-05-22T18:16:10.986Z"
   },
   {
    "duration": 0,
    "start_time": "2023-05-22T18:16:10.989Z"
   },
   {
    "duration": 0,
    "start_time": "2023-05-22T18:16:10.990Z"
   },
   {
    "duration": 0,
    "start_time": "2023-05-22T18:16:10.991Z"
   },
   {
    "duration": 0,
    "start_time": "2023-05-22T18:16:10.993Z"
   },
   {
    "duration": 2493,
    "start_time": "2023-05-22T18:16:36.511Z"
   },
   {
    "duration": 2398,
    "start_time": "2023-05-22T18:16:49.695Z"
   },
   {
    "duration": 9,
    "start_time": "2023-05-22T18:18:55.751Z"
   },
   {
    "duration": 9,
    "start_time": "2023-05-22T18:19:30.158Z"
   },
   {
    "duration": 11,
    "start_time": "2023-05-22T18:20:12.910Z"
   },
   {
    "duration": 9,
    "start_time": "2023-05-22T18:20:21.983Z"
   },
   {
    "duration": 77,
    "start_time": "2023-05-22T18:20:32.174Z"
   },
   {
    "duration": 87,
    "start_time": "2023-05-22T18:20:35.022Z"
   },
   {
    "duration": 10,
    "start_time": "2023-05-22T18:20:41.677Z"
   },
   {
    "duration": 11,
    "start_time": "2023-05-22T18:21:11.639Z"
   },
   {
    "duration": 9,
    "start_time": "2023-05-22T18:21:20.782Z"
   },
   {
    "duration": 8,
    "start_time": "2023-05-22T18:23:28.845Z"
   },
   {
    "duration": 13,
    "start_time": "2023-05-22T18:23:42.013Z"
   },
   {
    "duration": 10,
    "start_time": "2023-05-22T18:25:45.151Z"
   },
   {
    "duration": 33,
    "start_time": "2023-05-22T18:29:58.816Z"
   },
   {
    "duration": 45,
    "start_time": "2023-05-22T18:30:04.874Z"
   },
   {
    "duration": 9,
    "start_time": "2023-05-22T18:30:19.373Z"
   },
   {
    "duration": 29,
    "start_time": "2023-05-22T18:30:24.428Z"
   },
   {
    "duration": 9,
    "start_time": "2023-05-22T18:30:28.442Z"
   },
   {
    "duration": 70,
    "start_time": "2023-05-22T18:30:47.915Z"
   },
   {
    "duration": 9,
    "start_time": "2023-05-22T18:30:50.837Z"
   },
   {
    "duration": 11,
    "start_time": "2023-05-22T18:30:54.031Z"
   },
   {
    "duration": 12,
    "start_time": "2023-05-22T18:31:03.340Z"
   },
   {
    "duration": 9,
    "start_time": "2023-05-22T18:31:06.987Z"
   },
   {
    "duration": 9,
    "start_time": "2023-05-22T18:31:08.197Z"
   },
   {
    "duration": 26,
    "start_time": "2023-05-22T18:31:09.340Z"
   },
   {
    "duration": 179,
    "start_time": "2023-05-22T18:31:26.445Z"
   },
   {
    "duration": 1293,
    "start_time": "2023-05-22T18:31:50.893Z"
   },
   {
    "duration": 17,
    "start_time": "2023-05-22T18:31:52.188Z"
   },
   {
    "duration": 25,
    "start_time": "2023-05-22T18:31:52.207Z"
   },
   {
    "duration": 27,
    "start_time": "2023-05-22T18:31:52.234Z"
   },
   {
    "duration": 773,
    "start_time": "2023-05-22T18:31:52.263Z"
   },
   {
    "duration": 9,
    "start_time": "2023-05-22T18:31:53.037Z"
   },
   {
    "duration": 2404,
    "start_time": "2023-05-22T18:31:53.048Z"
   },
   {
    "duration": 184,
    "start_time": "2023-05-22T18:31:55.453Z"
   },
   {
    "duration": 0,
    "start_time": "2023-05-22T18:31:55.638Z"
   },
   {
    "duration": 0,
    "start_time": "2023-05-22T18:31:55.640Z"
   },
   {
    "duration": 0,
    "start_time": "2023-05-22T18:31:55.640Z"
   },
   {
    "duration": 0,
    "start_time": "2023-05-22T18:31:55.642Z"
   },
   {
    "duration": 0,
    "start_time": "2023-05-22T18:31:55.643Z"
   },
   {
    "duration": 0,
    "start_time": "2023-05-22T18:31:55.644Z"
   },
   {
    "duration": 13,
    "start_time": "2023-05-22T18:34:11.456Z"
   },
   {
    "duration": 25,
    "start_time": "2023-05-22T18:34:14.034Z"
   },
   {
    "duration": 2245,
    "start_time": "2023-05-22T18:34:26.018Z"
   },
   {
    "duration": 638,
    "start_time": "2023-05-22T18:34:37.931Z"
   },
   {
    "duration": 628,
    "start_time": "2023-05-22T18:34:58.575Z"
   },
   {
    "duration": 46,
    "start_time": "2023-05-22T18:35:11.934Z"
   },
   {
    "duration": 2240,
    "start_time": "2023-05-22T18:35:58.893Z"
   },
   {
    "duration": 46,
    "start_time": "2023-05-22T18:36:10.737Z"
   },
   {
    "duration": 35006,
    "start_time": "2023-05-22T18:43:11.984Z"
   },
   {
    "duration": 72,
    "start_time": "2023-05-22T18:44:58.325Z"
   },
   {
    "duration": 60,
    "start_time": "2023-05-22T18:45:29.078Z"
   },
   {
    "duration": 110,
    "start_time": "2023-05-22T18:46:32.716Z"
   },
   {
    "duration": 17,
    "start_time": "2023-05-22T18:48:06.773Z"
   },
   {
    "duration": 29,
    "start_time": "2023-05-22T18:48:19.134Z"
   },
   {
    "duration": 1344,
    "start_time": "2023-05-22T18:48:49.944Z"
   },
   {
    "duration": 22,
    "start_time": "2023-05-22T18:48:51.291Z"
   },
   {
    "duration": 16,
    "start_time": "2023-05-22T18:48:51.315Z"
   },
   {
    "duration": 26,
    "start_time": "2023-05-22T18:48:51.333Z"
   },
   {
    "duration": 711,
    "start_time": "2023-05-22T18:48:51.362Z"
   },
   {
    "duration": 9,
    "start_time": "2023-05-22T18:48:52.074Z"
   },
   {
    "duration": 2355,
    "start_time": "2023-05-22T18:48:52.085Z"
   },
   {
    "duration": 46,
    "start_time": "2023-05-22T18:48:54.442Z"
   },
   {
    "duration": 200,
    "start_time": "2023-05-22T18:48:54.489Z"
   },
   {
    "duration": 0,
    "start_time": "2023-05-22T18:48:54.691Z"
   },
   {
    "duration": 0,
    "start_time": "2023-05-22T18:48:54.693Z"
   },
   {
    "duration": 0,
    "start_time": "2023-05-22T18:48:54.694Z"
   },
   {
    "duration": 0,
    "start_time": "2023-05-22T18:48:54.695Z"
   },
   {
    "duration": 0,
    "start_time": "2023-05-22T18:48:54.696Z"
   },
   {
    "duration": 35180,
    "start_time": "2023-05-22T18:49:14.678Z"
   },
   {
    "duration": 29,
    "start_time": "2023-05-22T18:51:33.684Z"
   },
   {
    "duration": 36161,
    "start_time": "2023-05-22T18:59:42.601Z"
   },
   {
    "duration": 29,
    "start_time": "2023-05-22T19:00:25.095Z"
   },
   {
    "duration": 1322,
    "start_time": "2023-05-22T19:00:47.296Z"
   },
   {
    "duration": 1470,
    "start_time": "2023-05-22T19:01:46.489Z"
   },
   {
    "duration": 25,
    "start_time": "2023-05-22T19:02:02.352Z"
   },
   {
    "duration": 25,
    "start_time": "2023-05-22T19:02:11.960Z"
   },
   {
    "duration": 1220,
    "start_time": "2023-05-22T19:02:35.260Z"
   },
   {
    "duration": 6,
    "start_time": "2023-05-22T19:02:45.317Z"
   },
   {
    "duration": 13,
    "start_time": "2023-05-22T19:02:50.617Z"
   },
   {
    "duration": 13,
    "start_time": "2023-05-22T19:02:53.456Z"
   },
   {
    "duration": 30,
    "start_time": "2023-05-22T19:02:57.872Z"
   },
   {
    "duration": 1464,
    "start_time": "2023-05-22T19:03:02.297Z"
   },
   {
    "duration": 14,
    "start_time": "2023-05-22T19:03:10.960Z"
   },
   {
    "duration": 17,
    "start_time": "2023-05-22T19:03:28.776Z"
   },
   {
    "duration": 22,
    "start_time": "2023-05-22T19:03:33.560Z"
   },
   {
    "duration": 118,
    "start_time": "2023-05-22T19:03:46.106Z"
   },
   {
    "duration": 194,
    "start_time": "2023-05-22T19:05:43.456Z"
   },
   {
    "duration": 223,
    "start_time": "2023-05-22T19:06:06.752Z"
   },
   {
    "duration": 4,
    "start_time": "2023-05-22T19:06:09.856Z"
   },
   {
    "duration": 13,
    "start_time": "2023-05-22T19:08:23.155Z"
   },
   {
    "duration": 48,
    "start_time": "2023-05-22T19:08:27.164Z"
   },
   {
    "duration": 206,
    "start_time": "2023-05-22T19:08:48.168Z"
   },
   {
    "duration": 21,
    "start_time": "2023-05-22T19:08:51.352Z"
   },
   {
    "duration": 50,
    "start_time": "2023-05-22T19:09:09.387Z"
   },
   {
    "duration": 79,
    "start_time": "2023-05-22T19:11:42.417Z"
   },
   {
    "duration": 42,
    "start_time": "2023-05-22T19:11:44.002Z"
   },
   {
    "duration": 98,
    "start_time": "2023-05-22T19:11:52.163Z"
   },
   {
    "duration": 42,
    "start_time": "2023-05-22T19:11:53.777Z"
   },
   {
    "duration": 122,
    "start_time": "2023-05-22T19:12:02.124Z"
   },
   {
    "duration": 43,
    "start_time": "2023-05-22T19:12:03.660Z"
   },
   {
    "duration": 134,
    "start_time": "2023-05-22T19:12:12.560Z"
   },
   {
    "duration": 49,
    "start_time": "2023-05-22T19:12:13.873Z"
   },
   {
    "duration": 155,
    "start_time": "2023-05-22T19:12:23.064Z"
   },
   {
    "duration": 48,
    "start_time": "2023-05-22T19:12:25.472Z"
   },
   {
    "duration": 204,
    "start_time": "2023-05-22T19:12:41.581Z"
   },
   {
    "duration": 55,
    "start_time": "2023-05-22T19:12:43.242Z"
   },
   {
    "duration": 2488,
    "start_time": "2023-05-22T19:12:51.360Z"
   },
   {
    "duration": 41,
    "start_time": "2023-05-22T19:12:54.281Z"
   },
   {
    "duration": 12,
    "start_time": "2023-05-22T19:13:13.504Z"
   },
   {
    "duration": 131,
    "start_time": "2023-05-22T19:13:36.504Z"
   },
   {
    "duration": 46,
    "start_time": "2023-05-22T19:13:38.017Z"
   },
   {
    "duration": 15,
    "start_time": "2023-05-22T19:14:18.176Z"
   },
   {
    "duration": 6,
    "start_time": "2023-05-22T19:14:23.481Z"
   },
   {
    "duration": 12,
    "start_time": "2023-05-22T19:14:25.159Z"
   },
   {
    "duration": 22,
    "start_time": "2023-05-22T19:14:26.767Z"
   },
   {
    "duration": 68,
    "start_time": "2023-05-22T19:14:31.816Z"
   },
   {
    "duration": 49,
    "start_time": "2023-05-22T19:14:40.818Z"
   }
  ],
  "kernelspec": {
   "display_name": "Python 3 (ipykernel)",
   "language": "python",
   "name": "python3"
  },
  "language_info": {
   "codemirror_mode": {
    "name": "ipython",
    "version": 3
   },
   "file_extension": ".py",
   "mimetype": "text/x-python",
   "name": "python",
   "nbconvert_exporter": "python",
   "pygments_lexer": "ipython3",
   "version": "3.9.7"
  },
  "toc": {
   "base_numbering": 1,
   "nav_menu": {},
   "number_sections": true,
   "sideBar": true,
   "skip_h1_title": true,
   "title_cell": "Table of Contents",
   "title_sidebar": "Contents",
   "toc_cell": false,
   "toc_position": {},
   "toc_section_display": true,
   "toc_window_display": false
  },
  "vscode": {
   "interpreter": {
    "hash": "95633e14b7ea774968f538ab8687a60d358136f4a990a7903a22cc539dc1dcdb"
   }
  }
 },
 "nbformat": 4,
 "nbformat_minor": 2
}
