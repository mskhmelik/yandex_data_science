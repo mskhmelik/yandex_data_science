{
 "cells": [
  {
   "attachments": {},
   "cell_type": "markdown",
   "metadata": {},
   "source": [
    "# Отток клиентов банка\n",
    "\n",
    "**Описание проекта**\n",
    "\n",
    "Из «Бета-Банка» стали уходить клиенты. Каждый месяц. Немного, но заметно. Банковские маркетологи посчитали: сохранять текущих клиентов дешевле, чем привлекать новых.\n",
    "\n",
    "Нужно спрогнозировать, уйдёт клиент из банка в ближайшее время или нет. Вам предоставлены исторические данные о поведении клиентов и расторжении договоров с банком. \n",
    "\n",
    "Постройте модель с предельно большим значением F1-меры. Чтобы сдать проект успешно, нужно довести метрику до 0.59. Проверьте F1-меру на тестовой выборке самостоятельно.\n",
    "\n",
    "Дополнительно измеряйте AUC-ROC, сравнивайте её значение с F1-мерой.\n",
    "\n",
    "План работы:\n",
    "\n",
    "1. Загрузите и подготовьте данные.\n",
    "2. Исследуйте баланс классов, обучите модель без учёта дисбаланса.\n",
    "3. Улучшите качество модели, учитывая дисбаланс классов. Обучите разные модели и найдите лучшую.\n",
    "4. Проведите финальное тестирование.\n",
    "\n",
    "**Описание данных**\n",
    "\n",
    "Признаки\n",
    "\n",
    "1. `RowNumber` — индекс строки в данных\n",
    "2. `CustomerId` — уникальный идентификатор клиента\n",
    "3. `Surname` — фамилия\n",
    "4. `CreditScore` — кредитный рейтинг\n",
    "5. `Geography` — страна проживания\n",
    "6. `Gender` — пол\n",
    "7. `Age` — возраст\n",
    "8. `Tenure` — сколько лет человек является клиентом банка\n",
    "9. `Balance` — баланс на счёте\n",
    "10. `NumOfProducts` — количество продуктов банка, используемых клиентом\n",
    "11. `HasCrCard` — наличие кредитной карты\n",
    "12. `IsActiveMember` — активность клиента\n",
    "13. `EstimatedSalary` — предполагаемая зарплата\n",
    "\n",
    "Целевой признак\n",
    "\n",
    "1. `Exited` — факт ухода клиента"
   ]
  },
  {
   "cell_type": "code",
   "execution_count": 1,
   "metadata": {},
   "outputs": [],
   "source": [
    "import pandas as pd\n",
    "import optuna\n",
    "import plotly.graph_objects as go\n",
    "\n",
    "from caseconverter import snakecase\n",
    "from ydata_profiling import ProfileReport\n",
    "from IPython.display import display\n",
    "from tqdm import tqdm\n",
    "\n",
    "from fast_ml import eda\n",
    "from fast_ml.model_development import train_valid_test_split\n",
    "\n",
    "from sklearn.utils import resample\n",
    "\n",
    "from sklearn.pipeline import Pipeline\n",
    "from sklearn.compose import ColumnTransformer\n",
    "from sklearn.impute import SimpleImputer\n",
    "from sklearn.preprocessing import StandardScaler, OneHotEncoder\n",
    "\n",
    "from sklearn.tree import DecisionTreeClassifier\n",
    "from sklearn.linear_model import LogisticRegression\n",
    "from sklearn.ensemble import RandomForestClassifier\n",
    "from sklearn.dummy import DummyClassifier\n",
    "\n",
    "from sklearn.metrics import (\n",
    "    accuracy_score, f1_score, auc, roc_curve, roc_auc_score\n",
    ")"
   ]
  },
  {
   "cell_type": "code",
   "execution_count": 2,
   "metadata": {},
   "outputs": [],
   "source": [
    "FIG_WIDTH = 10 * 100\n",
    "FIG_HEIGHT = 5 * 100\n",
    "RANDOM_SEED = 42"
   ]
  },
  {
   "cell_type": "code",
   "execution_count": 3,
   "metadata": {},
   "outputs": [],
   "source": [
    "try:\n",
    "    raw_users = pd.read_csv('Churn.csv')\n",
    "except:\n",
    "    raw_users = pd.read_csv('/datasets/Churn.csv')"
   ]
  },
  {
   "attachments": {},
   "cell_type": "markdown",
   "metadata": {},
   "source": [
    "## Исследовательский анализ данных\n",
    "\n",
    "Изучим основные зависимости в данных перед тем, как мы будем использовать их в алгоритмах машинного обучения.\n",
    "\n",
    "Таблица-резюме:"
   ]
  },
  {
   "cell_type": "code",
   "execution_count": 4,
   "metadata": {},
   "outputs": [
    {
     "data": {
      "text/html": [
       "<div>\n",
       "<style scoped>\n",
       "    .dataframe tbody tr th:only-of-type {\n",
       "        vertical-align: middle;\n",
       "    }\n",
       "\n",
       "    .dataframe tbody tr th {\n",
       "        vertical-align: top;\n",
       "    }\n",
       "\n",
       "    .dataframe thead th {\n",
       "        text-align: right;\n",
       "    }\n",
       "</style>\n",
       "<table border=\"1\" class=\"dataframe\">\n",
       "  <thead>\n",
       "    <tr style=\"text-align: right;\">\n",
       "      <th></th>\n",
       "      <th>data_type</th>\n",
       "      <th>data_type_grp</th>\n",
       "      <th>num_unique_values</th>\n",
       "      <th>sample_unique_values</th>\n",
       "      <th>num_missing</th>\n",
       "      <th>perc_missing</th>\n",
       "    </tr>\n",
       "  </thead>\n",
       "  <tbody>\n",
       "    <tr>\n",
       "      <th>RowNumber</th>\n",
       "      <td>int64</td>\n",
       "      <td>Numerical</td>\n",
       "      <td>10000</td>\n",
       "      <td>[1, 2, 3, 4, 5, 6, 7, 8, 9, 10]</td>\n",
       "      <td>0</td>\n",
       "      <td>0.0</td>\n",
       "    </tr>\n",
       "    <tr>\n",
       "      <th>CustomerId</th>\n",
       "      <td>int64</td>\n",
       "      <td>Numerical</td>\n",
       "      <td>10000</td>\n",
       "      <td>[15634602, 15647311, 15619304, 15701354, 15737...</td>\n",
       "      <td>0</td>\n",
       "      <td>0.0</td>\n",
       "    </tr>\n",
       "    <tr>\n",
       "      <th>Surname</th>\n",
       "      <td>object</td>\n",
       "      <td>Categorical</td>\n",
       "      <td>2932</td>\n",
       "      <td>[Hargrave, Hill, Onio, Boni, Mitchell, Chu, Ba...</td>\n",
       "      <td>0</td>\n",
       "      <td>0.0</td>\n",
       "    </tr>\n",
       "    <tr>\n",
       "      <th>CreditScore</th>\n",
       "      <td>int64</td>\n",
       "      <td>Numerical</td>\n",
       "      <td>460</td>\n",
       "      <td>[619, 608, 502, 699, 850, 645, 822, 376, 501, ...</td>\n",
       "      <td>0</td>\n",
       "      <td>0.0</td>\n",
       "    </tr>\n",
       "    <tr>\n",
       "      <th>Geography</th>\n",
       "      <td>object</td>\n",
       "      <td>Categorical</td>\n",
       "      <td>3</td>\n",
       "      <td>[France, Spain, Germany]</td>\n",
       "      <td>0</td>\n",
       "      <td>0.0</td>\n",
       "    </tr>\n",
       "    <tr>\n",
       "      <th>Gender</th>\n",
       "      <td>object</td>\n",
       "      <td>Categorical</td>\n",
       "      <td>2</td>\n",
       "      <td>[Female, Male]</td>\n",
       "      <td>0</td>\n",
       "      <td>0.0</td>\n",
       "    </tr>\n",
       "    <tr>\n",
       "      <th>Age</th>\n",
       "      <td>int64</td>\n",
       "      <td>Numerical</td>\n",
       "      <td>70</td>\n",
       "      <td>[42, 41, 39, 43, 44, 50, 29, 27, 31, 24]</td>\n",
       "      <td>0</td>\n",
       "      <td>0.0</td>\n",
       "    </tr>\n",
       "    <tr>\n",
       "      <th>Tenure</th>\n",
       "      <td>float64</td>\n",
       "      <td>Numerical</td>\n",
       "      <td>11</td>\n",
       "      <td>[2.0, 1.0, 8.0, 7.0, 4.0, 6.0, 3.0, 10.0, 5.0,...</td>\n",
       "      <td>909</td>\n",
       "      <td>9.09</td>\n",
       "    </tr>\n",
       "    <tr>\n",
       "      <th>Balance</th>\n",
       "      <td>float64</td>\n",
       "      <td>Numerical</td>\n",
       "      <td>6382</td>\n",
       "      <td>[0.0, 83807.86, 159660.8, 125510.82, 113755.78...</td>\n",
       "      <td>0</td>\n",
       "      <td>0.0</td>\n",
       "    </tr>\n",
       "    <tr>\n",
       "      <th>NumOfProducts</th>\n",
       "      <td>int64</td>\n",
       "      <td>Numerical</td>\n",
       "      <td>4</td>\n",
       "      <td>[1, 3, 2, 4]</td>\n",
       "      <td>0</td>\n",
       "      <td>0.0</td>\n",
       "    </tr>\n",
       "    <tr>\n",
       "      <th>HasCrCard</th>\n",
       "      <td>int64</td>\n",
       "      <td>Numerical</td>\n",
       "      <td>2</td>\n",
       "      <td>[1, 0]</td>\n",
       "      <td>0</td>\n",
       "      <td>0.0</td>\n",
       "    </tr>\n",
       "    <tr>\n",
       "      <th>IsActiveMember</th>\n",
       "      <td>int64</td>\n",
       "      <td>Numerical</td>\n",
       "      <td>2</td>\n",
       "      <td>[1, 0]</td>\n",
       "      <td>0</td>\n",
       "      <td>0.0</td>\n",
       "    </tr>\n",
       "    <tr>\n",
       "      <th>EstimatedSalary</th>\n",
       "      <td>float64</td>\n",
       "      <td>Numerical</td>\n",
       "      <td>9999</td>\n",
       "      <td>[101348.88, 112542.58, 113931.57, 93826.63, 79...</td>\n",
       "      <td>0</td>\n",
       "      <td>0.0</td>\n",
       "    </tr>\n",
       "    <tr>\n",
       "      <th>Exited</th>\n",
       "      <td>int64</td>\n",
       "      <td>Numerical</td>\n",
       "      <td>2</td>\n",
       "      <td>[1, 0]</td>\n",
       "      <td>0</td>\n",
       "      <td>0.0</td>\n",
       "    </tr>\n",
       "  </tbody>\n",
       "</table>\n",
       "</div>"
      ],
      "text/plain": [
       "                data_type data_type_grp num_unique_values  \\\n",
       "RowNumber           int64     Numerical             10000   \n",
       "CustomerId          int64     Numerical             10000   \n",
       "Surname            object   Categorical              2932   \n",
       "CreditScore         int64     Numerical               460   \n",
       "Geography          object   Categorical                 3   \n",
       "Gender             object   Categorical                 2   \n",
       "Age                 int64     Numerical                70   \n",
       "Tenure            float64     Numerical                11   \n",
       "Balance           float64     Numerical              6382   \n",
       "NumOfProducts       int64     Numerical                 4   \n",
       "HasCrCard           int64     Numerical                 2   \n",
       "IsActiveMember      int64     Numerical                 2   \n",
       "EstimatedSalary   float64     Numerical              9999   \n",
       "Exited              int64     Numerical                 2   \n",
       "\n",
       "                                              sample_unique_values  \\\n",
       "RowNumber                          [1, 2, 3, 4, 5, 6, 7, 8, 9, 10]   \n",
       "CustomerId       [15634602, 15647311, 15619304, 15701354, 15737...   \n",
       "Surname          [Hargrave, Hill, Onio, Boni, Mitchell, Chu, Ba...   \n",
       "CreditScore      [619, 608, 502, 699, 850, 645, 822, 376, 501, ...   \n",
       "Geography                                 [France, Spain, Germany]   \n",
       "Gender                                              [Female, Male]   \n",
       "Age                       [42, 41, 39, 43, 44, 50, 29, 27, 31, 24]   \n",
       "Tenure           [2.0, 1.0, 8.0, 7.0, 4.0, 6.0, 3.0, 10.0, 5.0,...   \n",
       "Balance          [0.0, 83807.86, 159660.8, 125510.82, 113755.78...   \n",
       "NumOfProducts                                         [1, 3, 2, 4]   \n",
       "HasCrCard                                                   [1, 0]   \n",
       "IsActiveMember                                              [1, 0]   \n",
       "EstimatedSalary  [101348.88, 112542.58, 113931.57, 93826.63, 79...   \n",
       "Exited                                                      [1, 0]   \n",
       "\n",
       "                num_missing perc_missing  \n",
       "RowNumber                 0          0.0  \n",
       "CustomerId                0          0.0  \n",
       "Surname                   0          0.0  \n",
       "CreditScore               0          0.0  \n",
       "Geography                 0          0.0  \n",
       "Gender                    0          0.0  \n",
       "Age                       0          0.0  \n",
       "Tenure                  909         9.09  \n",
       "Balance                   0          0.0  \n",
       "NumOfProducts             0          0.0  \n",
       "HasCrCard                 0          0.0  \n",
       "IsActiveMember            0          0.0  \n",
       "EstimatedSalary           0          0.0  \n",
       "Exited                    0          0.0  "
      ]
     },
     "metadata": {},
     "output_type": "display_data"
    }
   ],
   "source": [
    "display(eda.df_info(raw_users))"
   ]
  },
  {
   "attachments": {},
   "cell_type": "markdown",
   "metadata": {},
   "source": [
    "Числовые распределения:"
   ]
  },
  {
   "cell_type": "code",
   "execution_count": 5,
   "metadata": {},
   "outputs": [
    {
     "data": {
      "text/html": [
       "<div>\n",
       "<style scoped>\n",
       "    .dataframe tbody tr th:only-of-type {\n",
       "        vertical-align: middle;\n",
       "    }\n",
       "\n",
       "    .dataframe tbody tr th {\n",
       "        vertical-align: top;\n",
       "    }\n",
       "\n",
       "    .dataframe thead th {\n",
       "        text-align: right;\n",
       "    }\n",
       "</style>\n",
       "<table border=\"1\" class=\"dataframe\">\n",
       "  <thead>\n",
       "    <tr style=\"text-align: right;\">\n",
       "      <th></th>\n",
       "      <th>count</th>\n",
       "      <th>mean</th>\n",
       "      <th>std</th>\n",
       "      <th>min</th>\n",
       "      <th>25%</th>\n",
       "      <th>50%</th>\n",
       "      <th>75%</th>\n",
       "      <th>max</th>\n",
       "    </tr>\n",
       "  </thead>\n",
       "  <tbody>\n",
       "    <tr>\n",
       "      <th>RowNumber</th>\n",
       "      <td>10000.0</td>\n",
       "      <td>5000.50</td>\n",
       "      <td>2886.90</td>\n",
       "      <td>1.00</td>\n",
       "      <td>2500.75</td>\n",
       "      <td>5000.50</td>\n",
       "      <td>7500.25</td>\n",
       "      <td>10000.00</td>\n",
       "    </tr>\n",
       "    <tr>\n",
       "      <th>CustomerId</th>\n",
       "      <td>10000.0</td>\n",
       "      <td>15690940.57</td>\n",
       "      <td>71936.19</td>\n",
       "      <td>15565701.00</td>\n",
       "      <td>15628528.25</td>\n",
       "      <td>15690738.00</td>\n",
       "      <td>15753233.75</td>\n",
       "      <td>15815690.00</td>\n",
       "    </tr>\n",
       "    <tr>\n",
       "      <th>CreditScore</th>\n",
       "      <td>10000.0</td>\n",
       "      <td>650.53</td>\n",
       "      <td>96.65</td>\n",
       "      <td>350.00</td>\n",
       "      <td>584.00</td>\n",
       "      <td>652.00</td>\n",
       "      <td>718.00</td>\n",
       "      <td>850.00</td>\n",
       "    </tr>\n",
       "    <tr>\n",
       "      <th>Age</th>\n",
       "      <td>10000.0</td>\n",
       "      <td>38.92</td>\n",
       "      <td>10.49</td>\n",
       "      <td>18.00</td>\n",
       "      <td>32.00</td>\n",
       "      <td>37.00</td>\n",
       "      <td>44.00</td>\n",
       "      <td>92.00</td>\n",
       "    </tr>\n",
       "    <tr>\n",
       "      <th>Tenure</th>\n",
       "      <td>9091.0</td>\n",
       "      <td>5.00</td>\n",
       "      <td>2.89</td>\n",
       "      <td>0.00</td>\n",
       "      <td>2.00</td>\n",
       "      <td>5.00</td>\n",
       "      <td>7.00</td>\n",
       "      <td>10.00</td>\n",
       "    </tr>\n",
       "    <tr>\n",
       "      <th>Balance</th>\n",
       "      <td>10000.0</td>\n",
       "      <td>76485.89</td>\n",
       "      <td>62397.41</td>\n",
       "      <td>0.00</td>\n",
       "      <td>0.00</td>\n",
       "      <td>97198.54</td>\n",
       "      <td>127644.24</td>\n",
       "      <td>250898.09</td>\n",
       "    </tr>\n",
       "    <tr>\n",
       "      <th>NumOfProducts</th>\n",
       "      <td>10000.0</td>\n",
       "      <td>1.53</td>\n",
       "      <td>0.58</td>\n",
       "      <td>1.00</td>\n",
       "      <td>1.00</td>\n",
       "      <td>1.00</td>\n",
       "      <td>2.00</td>\n",
       "      <td>4.00</td>\n",
       "    </tr>\n",
       "    <tr>\n",
       "      <th>HasCrCard</th>\n",
       "      <td>10000.0</td>\n",
       "      <td>0.71</td>\n",
       "      <td>0.46</td>\n",
       "      <td>0.00</td>\n",
       "      <td>0.00</td>\n",
       "      <td>1.00</td>\n",
       "      <td>1.00</td>\n",
       "      <td>1.00</td>\n",
       "    </tr>\n",
       "    <tr>\n",
       "      <th>IsActiveMember</th>\n",
       "      <td>10000.0</td>\n",
       "      <td>0.52</td>\n",
       "      <td>0.50</td>\n",
       "      <td>0.00</td>\n",
       "      <td>0.00</td>\n",
       "      <td>1.00</td>\n",
       "      <td>1.00</td>\n",
       "      <td>1.00</td>\n",
       "    </tr>\n",
       "    <tr>\n",
       "      <th>EstimatedSalary</th>\n",
       "      <td>10000.0</td>\n",
       "      <td>100090.24</td>\n",
       "      <td>57510.49</td>\n",
       "      <td>11.58</td>\n",
       "      <td>51002.11</td>\n",
       "      <td>100193.92</td>\n",
       "      <td>149388.25</td>\n",
       "      <td>199992.48</td>\n",
       "    </tr>\n",
       "    <tr>\n",
       "      <th>Exited</th>\n",
       "      <td>10000.0</td>\n",
       "      <td>0.20</td>\n",
       "      <td>0.40</td>\n",
       "      <td>0.00</td>\n",
       "      <td>0.00</td>\n",
       "      <td>0.00</td>\n",
       "      <td>0.00</td>\n",
       "      <td>1.00</td>\n",
       "    </tr>\n",
       "  </tbody>\n",
       "</table>\n",
       "</div>"
      ],
      "text/plain": [
       "                   count         mean       std          min          25%  \\\n",
       "RowNumber        10000.0      5000.50   2886.90         1.00      2500.75   \n",
       "CustomerId       10000.0  15690940.57  71936.19  15565701.00  15628528.25   \n",
       "CreditScore      10000.0       650.53     96.65       350.00       584.00   \n",
       "Age              10000.0        38.92     10.49        18.00        32.00   \n",
       "Tenure            9091.0         5.00      2.89         0.00         2.00   \n",
       "Balance          10000.0     76485.89  62397.41         0.00         0.00   \n",
       "NumOfProducts    10000.0         1.53      0.58         1.00         1.00   \n",
       "HasCrCard        10000.0         0.71      0.46         0.00         0.00   \n",
       "IsActiveMember   10000.0         0.52      0.50         0.00         0.00   \n",
       "EstimatedSalary  10000.0    100090.24  57510.49        11.58     51002.11   \n",
       "Exited           10000.0         0.20      0.40         0.00         0.00   \n",
       "\n",
       "                         50%          75%          max  \n",
       "RowNumber            5000.50      7500.25     10000.00  \n",
       "CustomerId       15690738.00  15753233.75  15815690.00  \n",
       "CreditScore           652.00       718.00       850.00  \n",
       "Age                    37.00        44.00        92.00  \n",
       "Tenure                  5.00         7.00        10.00  \n",
       "Balance             97198.54    127644.24    250898.09  \n",
       "NumOfProducts           1.00         2.00         4.00  \n",
       "HasCrCard               1.00         1.00         1.00  \n",
       "IsActiveMember          1.00         1.00         1.00  \n",
       "EstimatedSalary    100193.92    149388.25    199992.48  \n",
       "Exited                  0.00         0.00         1.00  "
      ]
     },
     "metadata": {},
     "output_type": "display_data"
    }
   ],
   "source": [
    "display(round(raw_users.describe().T, 2))"
   ]
  },
  {
   "attachments": {},
   "cell_type": "markdown",
   "metadata": {},
   "source": [
    "И детальный отчет:"
   ]
  },
  {
   "cell_type": "code",
   "execution_count": 6,
   "metadata": {},
   "outputs": [
    {
     "name": "stderr",
     "output_type": "stream",
     "text": [
      "Summarize dataset: 100%|██████████| 72/72 [00:05<00:00, 13.78it/s, Completed]                               \n",
      "Generate report structure: 100%|██████████| 1/1 [00:02<00:00,  2.82s/it]\n",
      "Render widgets:   0%|          | 0/1 [00:00<?, ?it/s]"
     ]
    },
    {
     "name": "stderr",
     "output_type": "stream",
     "text": [
      "                                                             \r"
     ]
    },
    {
     "data": {
      "application/vnd.jupyter.widget-view+json": {
       "model_id": "70c39b043c994013b31dc148cc5a3c5c",
       "version_major": 2,
       "version_minor": 0
      },
      "text/plain": [
       "VBox(children=(Tab(children=(Tab(children=(GridBox(children=(VBox(children=(GridspecLayout(children=(HTML(valu…"
      ]
     },
     "metadata": {},
     "output_type": "display_data"
    }
   ],
   "source": [
    "ProfileReport(raw_users).to_widgets()"
   ]
  },
  {
   "attachments": {},
   "cell_type": "markdown",
   "metadata": {},
   "source": [
    "Ключевые наблюдения из предварительного анализа набора данных:\n",
    "\n",
    "1. **Демографические данные клиентов**: Набор данных содержит информацию о 10 000 клиентах с различными характеристиками. Средний возраст клиентов составляет 39 лет, с разбросом от 18 до 92 лет. В наборе данных представлены клиенты из трех стран: Франции, Испании и Германии. Кроме того, присутствует почти равномерное распределение мужчин и женщин.\n",
    "\n",
    "2. **Финансовые показатели**: Набор данных включает финансовые метрики, такие как кредитные баллы, балансы счетов, количество продуктов и зарплаты. Средний кредитный балл составляет 651, что указывает на относительно хорошую кредитоспособность. Средний баланс счета составляет 76К долларов, с широким диапазоном значений. Клиенты имеют в среднем 1,53 продукта в банке, а зарплаты варьируются от 11 до 200К долларов.\n",
    "\n",
    "3. **Отток и вовлеченность**: Около 20% клиентов в наборе данных покинули или прекратили использовать услуги банка. Приблизительно 52% клиентов являются активными участниками, что указывает на умеренный уровень вовлеченности. Средняя продолжительность работы с клиентом составляет 5 лет, хотя в этой колонке есть пропущенных значений для некоторых записей.\n",
    "\n",
    "4. **Целевой признак**: У нас сть дисбаланс классов в целевом признаке `exited` - около 8К записей оставшихся пользователей и только 2К записей пользователей, которые перестали быть пользователями нашего банка. Это надо будет выровнять, чтобы избежать model bias."
   ]
  },
  {
   "attachments": {},
   "cell_type": "markdown",
   "metadata": {},
   "source": [
    "# Подготовка данных для ML\n",
    "\n",
    "Выполним эти преобразования на полном датасете:\n",
    "\n",
    "1. Уберем колонки, которые не нужны для моделей: `RowNumber`, `CustomerId`, `Surname`.\n",
    "2. Переведем колонку `gender` в бинарную: `1` - для мужчин и `0` - для женщин.\n",
    "3. Названия колонок приведем `snake_case` регистру.\n",
    "4. Проведем `upsampling`.\n",
    "\n",
    "И остальные после разделения на выборки, чтобы избежать data leakage:\n",
    "\n",
    "1. Заполним пропуски в `tenure`.\n",
    "2. Проведем стандартизацию численных признаков.\n",
    "3. Проведем кодирование категориальных признаков."
   ]
  },
  {
   "cell_type": "code",
   "execution_count": 7,
   "metadata": {},
   "outputs": [
    {
     "data": {
      "text/html": [
       "<div>\n",
       "<style scoped>\n",
       "    .dataframe tbody tr th:only-of-type {\n",
       "        vertical-align: middle;\n",
       "    }\n",
       "\n",
       "    .dataframe tbody tr th {\n",
       "        vertical-align: top;\n",
       "    }\n",
       "\n",
       "    .dataframe thead th {\n",
       "        text-align: right;\n",
       "    }\n",
       "</style>\n",
       "<table border=\"1\" class=\"dataframe\">\n",
       "  <thead>\n",
       "    <tr style=\"text-align: right;\">\n",
       "      <th></th>\n",
       "      <th>credit_score</th>\n",
       "      <th>geography</th>\n",
       "      <th>gender</th>\n",
       "      <th>age</th>\n",
       "      <th>tenure</th>\n",
       "      <th>balance</th>\n",
       "      <th>num_of_products</th>\n",
       "      <th>has_cr_card</th>\n",
       "      <th>is_active_member</th>\n",
       "      <th>estimated_salary</th>\n",
       "      <th>exited</th>\n",
       "    </tr>\n",
       "  </thead>\n",
       "  <tbody>\n",
       "    <tr>\n",
       "      <th>0</th>\n",
       "      <td>619</td>\n",
       "      <td>france</td>\n",
       "      <td>0</td>\n",
       "      <td>42</td>\n",
       "      <td>2.0</td>\n",
       "      <td>0.00</td>\n",
       "      <td>1</td>\n",
       "      <td>1</td>\n",
       "      <td>1</td>\n",
       "      <td>101348.88</td>\n",
       "      <td>1</td>\n",
       "    </tr>\n",
       "    <tr>\n",
       "      <th>1</th>\n",
       "      <td>608</td>\n",
       "      <td>spain</td>\n",
       "      <td>0</td>\n",
       "      <td>41</td>\n",
       "      <td>1.0</td>\n",
       "      <td>83807.86</td>\n",
       "      <td>1</td>\n",
       "      <td>0</td>\n",
       "      <td>1</td>\n",
       "      <td>112542.58</td>\n",
       "      <td>0</td>\n",
       "    </tr>\n",
       "    <tr>\n",
       "      <th>2</th>\n",
       "      <td>502</td>\n",
       "      <td>france</td>\n",
       "      <td>0</td>\n",
       "      <td>42</td>\n",
       "      <td>8.0</td>\n",
       "      <td>159660.80</td>\n",
       "      <td>3</td>\n",
       "      <td>1</td>\n",
       "      <td>0</td>\n",
       "      <td>113931.57</td>\n",
       "      <td>1</td>\n",
       "    </tr>\n",
       "    <tr>\n",
       "      <th>3</th>\n",
       "      <td>699</td>\n",
       "      <td>france</td>\n",
       "      <td>0</td>\n",
       "      <td>39</td>\n",
       "      <td>1.0</td>\n",
       "      <td>0.00</td>\n",
       "      <td>2</td>\n",
       "      <td>0</td>\n",
       "      <td>0</td>\n",
       "      <td>93826.63</td>\n",
       "      <td>0</td>\n",
       "    </tr>\n",
       "    <tr>\n",
       "      <th>4</th>\n",
       "      <td>850</td>\n",
       "      <td>spain</td>\n",
       "      <td>0</td>\n",
       "      <td>43</td>\n",
       "      <td>2.0</td>\n",
       "      <td>125510.82</td>\n",
       "      <td>1</td>\n",
       "      <td>1</td>\n",
       "      <td>1</td>\n",
       "      <td>79084.10</td>\n",
       "      <td>0</td>\n",
       "    </tr>\n",
       "  </tbody>\n",
       "</table>\n",
       "</div>"
      ],
      "text/plain": [
       "   credit_score geography  gender  age  tenure    balance  num_of_products  \\\n",
       "0           619    france       0   42     2.0       0.00                1   \n",
       "1           608     spain       0   41     1.0   83807.86                1   \n",
       "2           502    france       0   42     8.0  159660.80                3   \n",
       "3           699    france       0   39     1.0       0.00                2   \n",
       "4           850     spain       0   43     2.0  125510.82                1   \n",
       "\n",
       "   has_cr_card  is_active_member  estimated_salary  exited  \n",
       "0            1                 1         101348.88       1  \n",
       "1            0                 1         112542.58       0  \n",
       "2            1                 0         113931.57       1  \n",
       "3            0                 0          93826.63       0  \n",
       "4            1                 1          79084.10       0  "
      ]
     },
     "metadata": {},
     "output_type": "display_data"
    }
   ],
   "source": [
    "df_no_sampling = (\n",
    "    raw_users\n",
    "    .copy()\n",
    "    .drop(['RowNumber', 'CustomerId', 'Surname'], axis=1)\n",
    "    .replace({'Male': 1, 'Female': 0})\n",
    "    .rename(columns=lambda column: snakecase(column))\n",
    "    .assign(geography=lambda df: df.geography.str.lower())\n",
    ")\n",
    "\n",
    "display(df_no_sampling.head())\n"
   ]
  },
  {
   "attachments": {},
   "cell_type": "markdown",
   "metadata": {},
   "source": [
    "Выглядит адекватно. Сделаем `upsampling`."
   ]
  },
  {
   "cell_type": "code",
   "execution_count": 8,
   "metadata": {},
   "outputs": [],
   "source": [
    "# Perform the split between majority and minority, upsample minority, and concatenate results\n",
    "df_upsampled = (\n",
    "    pd.concat([\n",
    "        df_no_sampling[df_no_sampling.exited==0],\n",
    "        resample(\n",
    "            df_no_sampling[df_no_sampling.exited==1],\n",
    "            replace=True,\n",
    "            n_samples=len(df_no_sampling[df_no_sampling.exited==0]),\n",
    "            random_state=RANDOM_SEED\n",
    "        )\n",
    "    ])\n",
    ")"
   ]
  },
  {
   "attachments": {},
   "cell_type": "markdown",
   "metadata": {},
   "source": [
    "Проверим, что получилось."
   ]
  },
  {
   "cell_type": "code",
   "execution_count": 9,
   "metadata": {},
   "outputs": [
    {
     "name": "stdout",
     "output_type": "stream",
     "text": [
      "----------------------------------------\n",
      "Exited without resampling distribution, %:\n",
      "0    79.63\n",
      "1    20.37\n",
      "Name: exited, dtype: float64\n",
      "----------------------------------------\n",
      "----------------------------------------\n",
      "Exited with upsampling distribution, %:\n",
      "0    50.0\n",
      "1    50.0\n",
      "Name: exited, dtype: float64\n",
      "----------------------------------------\n"
     ]
    }
   ],
   "source": [
    "def print_class_distribution(df, column, label):\n",
    "    print(\n",
    "        f\"{'-' * 40}\\n{label} distribution, %:\\n{df[column].value_counts(normalize=True) * 100}\\n{'-' * 40}\"\n",
    "    )\n",
    "\n",
    "print_class_distribution(df_no_sampling, 'exited', 'Exited without resampling')\n",
    "print_class_distribution(df_upsampled, 'exited', 'Exited with upsampling')"
   ]
  },
  {
   "attachments": {},
   "cell_type": "markdown",
   "metadata": {},
   "source": [
    "В `df_upsampled` классы теперь сбалансированы.\n",
    "\n",
    "Разделим датасеты на выборки и выполним остальные преобразовния."
   ]
  },
  {
   "cell_type": "code",
   "execution_count": 10,
   "metadata": {},
   "outputs": [],
   "source": [
    "# Define variables\n",
    "data_splits = {}\n",
    "split_keys = ['ftr_train', 'tgt_train', 'ftr_valid', 'tgt_valid', 'ftr_test', 'tgt_test']\n",
    "num_cols = ['credit_score', 'age', 'tenure', 'balance', 'num_of_products', 'estimated_salary']\n",
    "cat_cols = ['geography']\n",
    "bin_cols = ['has_cr_card', 'is_active_member', 'gender']\n",
    "\n",
    "# Define the preprocessing pipelines\n",
    "num_pipeline = Pipeline([\n",
    "    ('imputer', SimpleImputer(strategy='median')),\n",
    "    ('scaler', StandardScaler()),\n",
    "])\n",
    "\n",
    "cat_pipeline = Pipeline([\n",
    "    ('encoder', OneHotEncoder(handle_unknown='ignore')),\n",
    "])\n",
    "\n",
    "preprocessor = ColumnTransformer([\n",
    "    ('num', num_pipeline, num_cols),\n",
    "    ('cat', cat_pipeline, cat_cols),\n",
    "])\n",
    "\n",
    "\n",
    "for dataset, label in zip([df_no_sampling, df_upsampled], ['no_sampling', 'upsampled']):\n",
    "    splits = train_valid_test_split(\n",
    "        dataset, 'exited', train_size=0.7, valid_size=0.15, test_size=0.15, random_state=RANDOM_SEED\n",
    "    )\n",
    "    \n",
    "    # Use the split keys and the splits to create a dictionary for each dataset\n",
    "    data_splits[label] = dict(zip(split_keys, splits))\n",
    "    \n",
    "    # Fit the preprocessor on the training data only\n",
    "    preprocessor.fit(data_splits[label]['ftr_train'])\n",
    "\n",
    "    # Transform and reformat each subset of the data\n",
    "    for subset in split_keys:\n",
    "        # Only transform feature subsets\n",
    "        if 'ftr' in subset:\n",
    "            data_transformed = preprocessor.transform(data_splits[label][subset])\n",
    "            \n",
    "            columns_transformed = num_cols + list(\n",
    "                preprocessor.named_transformers_['cat']['encoder'].get_feature_names_out(cat_cols)\n",
    "            )\n",
    "            df_transformed = pd.DataFrame(\n",
    "                data_transformed, columns=columns_transformed\n",
    "            )\n",
    "            df_transformed = pd.concat(\n",
    "                [df_transformed, data_splits[label][subset][bin_cols].reset_index(drop=True)], axis=1\n",
    "            )\n",
    "\n",
    "            data_splits[label][subset] = df_transformed"
   ]
  },
  {
   "attachments": {},
   "cell_type": "markdown",
   "metadata": {},
   "source": [
    "Проверим, что получилось на одном примере."
   ]
  },
  {
   "cell_type": "code",
   "execution_count": 11,
   "metadata": {},
   "outputs": [
    {
     "data": {
      "text/html": [
       "<div>\n",
       "<style scoped>\n",
       "    .dataframe tbody tr th:only-of-type {\n",
       "        vertical-align: middle;\n",
       "    }\n",
       "\n",
       "    .dataframe tbody tr th {\n",
       "        vertical-align: top;\n",
       "    }\n",
       "\n",
       "    .dataframe thead th {\n",
       "        text-align: right;\n",
       "    }\n",
       "</style>\n",
       "<table border=\"1\" class=\"dataframe\">\n",
       "  <thead>\n",
       "    <tr style=\"text-align: right;\">\n",
       "      <th></th>\n",
       "      <th>credit_score</th>\n",
       "      <th>age</th>\n",
       "      <th>tenure</th>\n",
       "      <th>balance</th>\n",
       "      <th>num_of_products</th>\n",
       "      <th>estimated_salary</th>\n",
       "      <th>geography_france</th>\n",
       "      <th>geography_germany</th>\n",
       "      <th>geography_spain</th>\n",
       "      <th>has_cr_card</th>\n",
       "      <th>is_active_member</th>\n",
       "      <th>gender</th>\n",
       "    </tr>\n",
       "  </thead>\n",
       "  <tbody>\n",
       "    <tr>\n",
       "      <th>0</th>\n",
       "      <td>-0.012043</td>\n",
       "      <td>-0.371195</td>\n",
       "      <td>1.098210</td>\n",
       "      <td>0.538578</td>\n",
       "      <td>-0.903352</td>\n",
       "      <td>0.465751</td>\n",
       "      <td>0.0</td>\n",
       "      <td>1.0</td>\n",
       "      <td>0.0</td>\n",
       "      <td>1</td>\n",
       "      <td>0</td>\n",
       "      <td>1</td>\n",
       "    </tr>\n",
       "    <tr>\n",
       "      <th>1</th>\n",
       "      <td>-0.012043</td>\n",
       "      <td>-0.466380</td>\n",
       "      <td>-0.355822</td>\n",
       "      <td>0.242578</td>\n",
       "      <td>-0.903352</td>\n",
       "      <td>0.401147</td>\n",
       "      <td>1.0</td>\n",
       "      <td>0.0</td>\n",
       "      <td>0.0</td>\n",
       "      <td>1</td>\n",
       "      <td>1</td>\n",
       "      <td>1</td>\n",
       "    </tr>\n",
       "    <tr>\n",
       "      <th>2</th>\n",
       "      <td>-1.643626</td>\n",
       "      <td>-0.085639</td>\n",
       "      <td>0.734702</td>\n",
       "      <td>1.576231</td>\n",
       "      <td>-0.903352</td>\n",
       "      <td>-1.053519</td>\n",
       "      <td>0.0</td>\n",
       "      <td>1.0</td>\n",
       "      <td>0.0</td>\n",
       "      <td>1</td>\n",
       "      <td>0</td>\n",
       "      <td>0</td>\n",
       "    </tr>\n",
       "    <tr>\n",
       "      <th>3</th>\n",
       "      <td>0.829729</td>\n",
       "      <td>1.437322</td>\n",
       "      <td>-1.809855</td>\n",
       "      <td>0.925391</td>\n",
       "      <td>-0.903352</td>\n",
       "      <td>-1.516265</td>\n",
       "      <td>0.0</td>\n",
       "      <td>0.0</td>\n",
       "      <td>1.0</td>\n",
       "      <td>0</td>\n",
       "      <td>1</td>\n",
       "      <td>1</td>\n",
       "    </tr>\n",
       "    <tr>\n",
       "      <th>4</th>\n",
       "      <td>0.091879</td>\n",
       "      <td>-0.371195</td>\n",
       "      <td>0.007686</td>\n",
       "      <td>0.832067</td>\n",
       "      <td>-0.903352</td>\n",
       "      <td>0.725006</td>\n",
       "      <td>0.0</td>\n",
       "      <td>0.0</td>\n",
       "      <td>1.0</td>\n",
       "      <td>1</td>\n",
       "      <td>0</td>\n",
       "      <td>0</td>\n",
       "    </tr>\n",
       "  </tbody>\n",
       "</table>\n",
       "</div>"
      ],
      "text/plain": [
       "   credit_score       age    tenure   balance  num_of_products  \\\n",
       "0     -0.012043 -0.371195  1.098210  0.538578        -0.903352   \n",
       "1     -0.012043 -0.466380 -0.355822  0.242578        -0.903352   \n",
       "2     -1.643626 -0.085639  0.734702  1.576231        -0.903352   \n",
       "3      0.829729  1.437322 -1.809855  0.925391        -0.903352   \n",
       "4      0.091879 -0.371195  0.007686  0.832067        -0.903352   \n",
       "\n",
       "   estimated_salary  geography_france  geography_germany  geography_spain  \\\n",
       "0          0.465751               0.0                1.0              0.0   \n",
       "1          0.401147               1.0                0.0              0.0   \n",
       "2         -1.053519               0.0                1.0              0.0   \n",
       "3         -1.516265               0.0                0.0              1.0   \n",
       "4          0.725006               0.0                0.0              1.0   \n",
       "\n",
       "   has_cr_card  is_active_member  gender  \n",
       "0            1                 0       1  \n",
       "1            1                 1       1  \n",
       "2            1                 0       0  \n",
       "3            0                 1       1  \n",
       "4            1                 0       0  "
      ]
     },
     "execution_count": 11,
     "metadata": {},
     "output_type": "execute_result"
    }
   ],
   "source": [
    "data_splits['no_sampling']['ftr_valid'].head()"
   ]
  },
  {
   "attachments": {},
   "cell_type": "markdown",
   "metadata": {},
   "source": [
    "В этом скрипте мы успешно обработали два набора данных, `df_no_sampling` и `df_upsampled`. На первом этапе были определены переменные и настроен предпроцессор предварительной обработки для числовых и категориальных столбцов, бинарные столбцы остались без изменений.\n",
    "\n",
    "Основной цикл скрипта выполняет три основные задачи для каждого набора данных:\n",
    "\n",
    "1. Разделение данных: Используется функция `train_valid_test_split`, чтобы разделить каждый набор данных на обучающие, валидационные и тестовые подмножества.\n",
    "\n",
    "2. Подгонка препроцессора: Препроцессор обучается на обучающих данных. Это включает в себя изучение параметров для `imputation` наиболее часто встречающихся значений и стандартного масштабирования.\n",
    "\n",
    "3. Трансформация данных: Используя подготовленный препроцессор, трансформируются признаки для каждого набора и типа колонок.\n",
    "\n",
    "После выполнения этого скрипта у нас есть все подмножества данных, готовые для дальнейшего обучения модели и оценки."
   ]
  },
  {
   "attachments": {},
   "cell_type": "markdown",
   "metadata": {},
   "source": [
    "# ML модели\n",
    "\n",
    "Перейдем к обучению моделей. Воспользуемся библиотекой `optuna` чтобы найти оптимальную модель.\n",
    "\n",
    "Для начала - сделаем функцию, которая будет выбирать для нас лучшую модель."
   ]
  },
  {
   "cell_type": "code",
   "execution_count": 12,
   "metadata": {},
   "outputs": [],
   "source": [
    "def get_study(dataset: str, n_trials: int):\n",
    "    \"\"\"\n",
    "    Trains and optimizes Logistic Regression, Decision Tree, and Random Forest models using Optuna.\n",
    "\n",
    "    Args:\n",
    "        - dataset (str): The label of the dataset to use from the \n",
    "          `data_splits` dictionary('no_sampling' or 'upsampled').\n",
    "        - n_trials (int): The number of trials for Optuna optimization.\n",
    "\n",
    "    Returns:\n",
    "        - An Optuna study object, containing the optimal model and its parameters.\n",
    "    \"\"\"\n",
    "    \n",
    "    def objective(trial):\n",
    "        classifier_name = trial.suggest_categorical(\n",
    "            'classifier', ['LogisticRegression', 'DecisionTree', 'RandomForest']\n",
    "        )\n",
    "        \n",
    "        # Suggest parameters based on the classifier\n",
    "        if classifier_name == 'LogisticRegression':\n",
    "            lr_c = trial.suggest_float('lr_c', 1e-6, 1e6, log=True)\n",
    "            classifier_obj = LogisticRegression(\n",
    "                C=lr_c, random_state=RANDOM_SEED\n",
    "            )\n",
    "        elif classifier_name == 'DecisionTree':\n",
    "            dt_max_depth = trial.suggest_int('dt_max_depth', 1, 50)\n",
    "            classifier_obj = DecisionTreeClassifier(\n",
    "                max_depth=dt_max_depth, random_state=RANDOM_SEED\n",
    "            )\n",
    "        elif classifier_name == 'RandomForest':\n",
    "            rf_max_depth = trial.suggest_int('rf_max_depth', 1, 100)\n",
    "            rf_n_estimators = trial.suggest_int('rf_n_estimators', 100, 1000)\n",
    "            classifier_obj = RandomForestClassifier(\n",
    "                max_depth=rf_max_depth,\n",
    "                n_estimators=rf_n_estimators,\n",
    "                random_state=RANDOM_SEED\n",
    "            )\n",
    "            \n",
    "        classifier_obj.fit(data_splits[dataset]['ftr_train'], data_splits[dataset]['tgt_train'])\n",
    "        \n",
    "        prediction = classifier_obj.predict(data_splits[dataset]['ftr_valid'])\n",
    "        \n",
    "        f1 = f1_score(data_splits[dataset]['tgt_valid'], prediction)\n",
    "        \n",
    "        return round(f1, 3)\n",
    "\n",
    "    optuna.logging.set_verbosity(optuna.logging.WARNING)\n",
    "    study = optuna.create_study(direction='maximize', sampler=optuna.samplers.TPESampler(seed=RANDOM_SEED))\n",
    "    study.optimize(objective, n_trials=n_trials)\n",
    "    \n",
    "    return study"
   ]
  },
  {
   "attachments": {},
   "cell_type": "markdown",
   "metadata": {},
   "source": [
    "Теперь функцию, которая посчитает метрики для модели."
   ]
  },
  {
   "cell_type": "code",
   "execution_count": 13,
   "metadata": {},
   "outputs": [],
   "source": [
    "def evaluate_best_model(dataset: str, study: optuna.study.Study) -> dict[str, float]:\n",
    "    \"\"\"\n",
    "    Given a dataset label (key in the data_splits dictionary) and an Optuna study object,\n",
    "    this function retrieves the best model parameters from the study, instantiates a new\n",
    "    model with these parameters, makes predictions on the validation and test subsets,\n",
    "    and calculates and returns the F1 score and ROC AUC score for each subset.\n",
    "\n",
    "    Args:\n",
    "        - dataset (str): Label of the dataset to use (should be a key in the data_splits dictionary).\n",
    "        - study (optuna.study.Study): Optuna study object containing the results of model optimization.\n",
    "\n",
    "    Returns:\n",
    "        - dict: A dictionary with the F1 score and ROC AUC score for the validation and test subsets.\n",
    "    \"\"\"\n",
    "    \n",
    "    best_params = study.best_params\n",
    "\n",
    "    if best_params['classifier'] == 'LogisticRegression':\n",
    "        best_model = LogisticRegression(\n",
    "            C=best_params['lr_c'], random_state=RANDOM_SEED\n",
    "        )\n",
    "    elif best_params['classifier'] == 'DecisionTree':\n",
    "        best_model = DecisionTreeClassifier(\n",
    "            max_depth=best_params['dt_max_depth'], random_state=RANDOM_SEED\n",
    "        )\n",
    "    elif best_params['classifier'] == 'RandomForest':\n",
    "        best_model = RandomForestClassifier(\n",
    "            max_depth=best_params['rf_max_depth'],\n",
    "            n_estimators=best_params['rf_n_estimators'],\n",
    "            random_state=RANDOM_SEED\n",
    "        )\n",
    "\n",
    "    best_model.fit(data_splits[dataset]['ftr_train'], data_splits[dataset]['tgt_train'])\n",
    "\n",
    "    pred_valid = best_model.predict(data_splits[dataset]['ftr_valid'])\n",
    "    pred_test = best_model.predict(data_splits[dataset]['ftr_test'])\n",
    "\n",
    "    f1_valid = f1_score(data_splits[dataset]['tgt_valid'], pred_valid)\n",
    "    roc_auc_valid = roc_auc_score(data_splits[dataset]['tgt_valid'], pred_valid)\n",
    "\n",
    "    f1_test = f1_score(data_splits[dataset]['tgt_test'], pred_test)\n",
    "    roc_auc_test = roc_auc_score(data_splits[dataset]['tgt_test'], pred_test)\n",
    "\n",
    "    return {\n",
    "        'valid_f1': f1_valid,\n",
    "        'valid_roc_auc': roc_auc_valid,\n",
    "        'test_f1': f1_test,\n",
    "        'test_roc_auc': roc_auc_test\n",
    "    }, best_model\n"
   ]
  },
  {
   "attachments": {},
   "cell_type": "markdown",
   "metadata": {},
   "source": [
    "Выведет результаты."
   ]
  },
  {
   "cell_type": "code",
   "execution_count": null,
   "metadata": {},
   "outputs": [],
   "source": [
    "def print_best_params_and_metrics(best_params: dict, metrics: dict):\n",
    "    \"\"\"\n",
    "    Prints the best parameters of the model and the performance metrics.\n",
    "\n",
    "    Args:\n",
    "        - best_params (dict): Dictionary of the best parameters from the model.\n",
    "        - metrics (dict): Dictionary of performance metrics.\n",
    "\n",
    "    Returns:\n",
    "        - None\n",
    "    \"\"\"\n",
    "    print('The best model parameters are:)\n",
    "    for param, value in best_params.items():\n",
    "        print(f\"{param}: {value}\")\n",
    "\n",
    "    print('\\nThe performance metrics of the model are:')\n",
    "    for metric, value in metrics.items():\n",
    "        print(f\"{metric}: {value:.4f}\")"
   ]
  },
  {
   "attachments": {},
   "cell_type": "markdown",
   "metadata": {},
   "source": [
    "И нарисует график `ROC AUC`."
   ]
  },
  {
   "cell_type": "code",
   "execution_count": 14,
   "metadata": {},
   "outputs": [],
   "source": [
    "def plot_roc_auc(dataset: str, best_model: any, title: str) -> go.Figure:\n",
    "    \"\"\"\n",
    "    Plots ROC curves for the validation and test sets using Plotly.\n",
    "\n",
    "    Args:\n",
    "        - dataset (str): Label of the dataset to use (should be a key in the data_splits dictionary).\n",
    "        - best_model (Any): Trained model object.\n",
    "        - title (str): Title of the plot.\n",
    "\n",
    "    Returns:\n",
    "        - fig (go.Figure): Plotly figure with ROC curves.\n",
    "    \"\"\"\n",
    "\n",
    "    probas_valid = best_model.predict_proba(data_splits[dataset]['ftr_valid'])\n",
    "    fpr_valid, tpr_valid, _ = roc_curve(data_splits[dataset]['tgt_valid'], probas_valid[:, 1])\n",
    "    roc_auc_valid = auc(fpr_valid, tpr_valid)\n",
    "    \n",
    "    probas_test = best_model.predict_proba(data_splits[dataset]['ftr_test'])\n",
    "    fpr_test, tpr_test, _ = roc_curve(data_splits[dataset]['tgt_test'], probas_test[:, 1])\n",
    "    roc_auc_test = auc(fpr_test, tpr_test)\n",
    "    \n",
    "    fig = go.Figure()\n",
    "\n",
    "    fig.add_trace(\n",
    "        go.Scatter(\n",
    "            x=fpr_valid, y=tpr_valid,\n",
    "            mode='lines',\n",
    "            name=f'Validation set ROC (AUC = {roc_auc_valid:.2f})'\n",
    "        )\n",
    "    )\n",
    "    fig.add_trace(\n",
    "        go.Scatter(\n",
    "            x=fpr_test, y=tpr_test,\n",
    "            mode='lines',\n",
    "            name=f'Test set ROC (AUC = {roc_auc_test:.2f})'\n",
    "        )\n",
    "    )\n",
    "    fig.add_trace(\n",
    "        go.Scatter(\n",
    "            x=[0, 1], y=[0, 1],\n",
    "            mode='lines',\n",
    "            name='No skill',\n",
    "            line=dict(dash='dash', color='black')\n",
    "        )\n",
    "    )\n",
    "\n",
    "    fig.update_layout(\n",
    "        xaxis_title='False positive rate',\n",
    "        yaxis_title='True positive rate',\n",
    "        width=FIG_WIDTH, height=FIG_HEIGHT * 1.5,\n",
    "        title=title,\n",
    "        template='plotly_white'\n",
    "    )\n",
    "\n",
    "    return fig\n"
   ]
  },
  {
   "attachments": {},
   "cell_type": "markdown",
   "metadata": {},
   "source": [
    "## Датасет без sampling\n",
    "\n",
    "Возьмем датасет как есть и посмотрим на качество моделей."
   ]
  },
  {
   "cell_type": "code",
   "execution_count": 15,
   "metadata": {},
   "outputs": [],
   "source": [
    "study_no_sampling = get_study('no_sampling', n_trials=10)\n",
    "\n",
    "metrics, best_model = evaluate_best_model('no_sampling', study_no_sampling)"
   ]
  },
  {
   "attachments": {},
   "cell_type": "markdown",
   "metadata": {},
   "source": [
    "Визуализируем результаты."
   ]
  },
  {
   "cell_type": "code",
   "execution_count": 23,
   "metadata": {},
   "outputs": [
    {
     "name": "stdout",
     "output_type": "stream",
     "text": [
      "The best model parameters are:\n",
      "classifier: RandomForest\n",
      "rf_max_depth: 18\n",
      "rf_n_estimators: 158\n",
      "\n",
      "The performance metrics of the model are:\n",
      "valid_f1: 0.5809\n",
      "valid_roc_auc: 0.7158\n",
      "test_f1: 0.5984\n",
      "test_roc_auc: 0.7279\n"
     ]
    },
    {
     "data": {
      "application/vnd.plotly.v1+json": {
       "config": {
        "plotlyServerURL": "https://plot.ly"
       },
       "data": [
        {
         "mode": "markers",
         "name": "Objective Value",
         "type": "scatter",
         "x": [
          0,
          1,
          2,
          3,
          4,
          5,
          6,
          7,
          8,
          9
         ],
         "y": [
          0.491,
          0.287,
          0.491,
          0,
          0.508,
          0.264,
          0.491,
          0.581,
          0.485,
          0.562
         ]
        },
        {
         "name": "Best Value",
         "type": "scatter",
         "x": [
          0,
          1,
          2,
          3,
          4,
          5,
          6,
          7,
          8,
          9
         ],
         "y": [
          0.491,
          0.491,
          0.491,
          0.491,
          0.508,
          0.508,
          0.508,
          0.581,
          0.581,
          0.581
         ]
        }
       ],
       "layout": {
        "height": 500,
        "template": {
         "data": {
          "bar": [
           {
            "error_x": {
             "color": "#2a3f5f"
            },
            "error_y": {
             "color": "#2a3f5f"
            },
            "marker": {
             "line": {
              "color": "white",
              "width": 0.5
             },
             "pattern": {
              "fillmode": "overlay",
              "size": 10,
              "solidity": 0.2
             }
            },
            "type": "bar"
           }
          ],
          "barpolar": [
           {
            "marker": {
             "line": {
              "color": "white",
              "width": 0.5
             },
             "pattern": {
              "fillmode": "overlay",
              "size": 10,
              "solidity": 0.2
             }
            },
            "type": "barpolar"
           }
          ],
          "carpet": [
           {
            "aaxis": {
             "endlinecolor": "#2a3f5f",
             "gridcolor": "#C8D4E3",
             "linecolor": "#C8D4E3",
             "minorgridcolor": "#C8D4E3",
             "startlinecolor": "#2a3f5f"
            },
            "baxis": {
             "endlinecolor": "#2a3f5f",
             "gridcolor": "#C8D4E3",
             "linecolor": "#C8D4E3",
             "minorgridcolor": "#C8D4E3",
             "startlinecolor": "#2a3f5f"
            },
            "type": "carpet"
           }
          ],
          "choropleth": [
           {
            "colorbar": {
             "outlinewidth": 0,
             "ticks": ""
            },
            "type": "choropleth"
           }
          ],
          "contour": [
           {
            "colorbar": {
             "outlinewidth": 0,
             "ticks": ""
            },
            "colorscale": [
             [
              0,
              "#0d0887"
             ],
             [
              0.1111111111111111,
              "#46039f"
             ],
             [
              0.2222222222222222,
              "#7201a8"
             ],
             [
              0.3333333333333333,
              "#9c179e"
             ],
             [
              0.4444444444444444,
              "#bd3786"
             ],
             [
              0.5555555555555556,
              "#d8576b"
             ],
             [
              0.6666666666666666,
              "#ed7953"
             ],
             [
              0.7777777777777778,
              "#fb9f3a"
             ],
             [
              0.8888888888888888,
              "#fdca26"
             ],
             [
              1,
              "#f0f921"
             ]
            ],
            "type": "contour"
           }
          ],
          "contourcarpet": [
           {
            "colorbar": {
             "outlinewidth": 0,
             "ticks": ""
            },
            "type": "contourcarpet"
           }
          ],
          "heatmap": [
           {
            "colorbar": {
             "outlinewidth": 0,
             "ticks": ""
            },
            "colorscale": [
             [
              0,
              "#0d0887"
             ],
             [
              0.1111111111111111,
              "#46039f"
             ],
             [
              0.2222222222222222,
              "#7201a8"
             ],
             [
              0.3333333333333333,
              "#9c179e"
             ],
             [
              0.4444444444444444,
              "#bd3786"
             ],
             [
              0.5555555555555556,
              "#d8576b"
             ],
             [
              0.6666666666666666,
              "#ed7953"
             ],
             [
              0.7777777777777778,
              "#fb9f3a"
             ],
             [
              0.8888888888888888,
              "#fdca26"
             ],
             [
              1,
              "#f0f921"
             ]
            ],
            "type": "heatmap"
           }
          ],
          "heatmapgl": [
           {
            "colorbar": {
             "outlinewidth": 0,
             "ticks": ""
            },
            "colorscale": [
             [
              0,
              "#0d0887"
             ],
             [
              0.1111111111111111,
              "#46039f"
             ],
             [
              0.2222222222222222,
              "#7201a8"
             ],
             [
              0.3333333333333333,
              "#9c179e"
             ],
             [
              0.4444444444444444,
              "#bd3786"
             ],
             [
              0.5555555555555556,
              "#d8576b"
             ],
             [
              0.6666666666666666,
              "#ed7953"
             ],
             [
              0.7777777777777778,
              "#fb9f3a"
             ],
             [
              0.8888888888888888,
              "#fdca26"
             ],
             [
              1,
              "#f0f921"
             ]
            ],
            "type": "heatmapgl"
           }
          ],
          "histogram": [
           {
            "marker": {
             "pattern": {
              "fillmode": "overlay",
              "size": 10,
              "solidity": 0.2
             }
            },
            "type": "histogram"
           }
          ],
          "histogram2d": [
           {
            "colorbar": {
             "outlinewidth": 0,
             "ticks": ""
            },
            "colorscale": [
             [
              0,
              "#0d0887"
             ],
             [
              0.1111111111111111,
              "#46039f"
             ],
             [
              0.2222222222222222,
              "#7201a8"
             ],
             [
              0.3333333333333333,
              "#9c179e"
             ],
             [
              0.4444444444444444,
              "#bd3786"
             ],
             [
              0.5555555555555556,
              "#d8576b"
             ],
             [
              0.6666666666666666,
              "#ed7953"
             ],
             [
              0.7777777777777778,
              "#fb9f3a"
             ],
             [
              0.8888888888888888,
              "#fdca26"
             ],
             [
              1,
              "#f0f921"
             ]
            ],
            "type": "histogram2d"
           }
          ],
          "histogram2dcontour": [
           {
            "colorbar": {
             "outlinewidth": 0,
             "ticks": ""
            },
            "colorscale": [
             [
              0,
              "#0d0887"
             ],
             [
              0.1111111111111111,
              "#46039f"
             ],
             [
              0.2222222222222222,
              "#7201a8"
             ],
             [
              0.3333333333333333,
              "#9c179e"
             ],
             [
              0.4444444444444444,
              "#bd3786"
             ],
             [
              0.5555555555555556,
              "#d8576b"
             ],
             [
              0.6666666666666666,
              "#ed7953"
             ],
             [
              0.7777777777777778,
              "#fb9f3a"
             ],
             [
              0.8888888888888888,
              "#fdca26"
             ],
             [
              1,
              "#f0f921"
             ]
            ],
            "type": "histogram2dcontour"
           }
          ],
          "mesh3d": [
           {
            "colorbar": {
             "outlinewidth": 0,
             "ticks": ""
            },
            "type": "mesh3d"
           }
          ],
          "parcoords": [
           {
            "line": {
             "colorbar": {
              "outlinewidth": 0,
              "ticks": ""
             }
            },
            "type": "parcoords"
           }
          ],
          "pie": [
           {
            "automargin": true,
            "type": "pie"
           }
          ],
          "scatter": [
           {
            "fillpattern": {
             "fillmode": "overlay",
             "size": 10,
             "solidity": 0.2
            },
            "type": "scatter"
           }
          ],
          "scatter3d": [
           {
            "line": {
             "colorbar": {
              "outlinewidth": 0,
              "ticks": ""
             }
            },
            "marker": {
             "colorbar": {
              "outlinewidth": 0,
              "ticks": ""
             }
            },
            "type": "scatter3d"
           }
          ],
          "scattercarpet": [
           {
            "marker": {
             "colorbar": {
              "outlinewidth": 0,
              "ticks": ""
             }
            },
            "type": "scattercarpet"
           }
          ],
          "scattergeo": [
           {
            "marker": {
             "colorbar": {
              "outlinewidth": 0,
              "ticks": ""
             }
            },
            "type": "scattergeo"
           }
          ],
          "scattergl": [
           {
            "marker": {
             "colorbar": {
              "outlinewidth": 0,
              "ticks": ""
             }
            },
            "type": "scattergl"
           }
          ],
          "scattermapbox": [
           {
            "marker": {
             "colorbar": {
              "outlinewidth": 0,
              "ticks": ""
             }
            },
            "type": "scattermapbox"
           }
          ],
          "scatterpolar": [
           {
            "marker": {
             "colorbar": {
              "outlinewidth": 0,
              "ticks": ""
             }
            },
            "type": "scatterpolar"
           }
          ],
          "scatterpolargl": [
           {
            "marker": {
             "colorbar": {
              "outlinewidth": 0,
              "ticks": ""
             }
            },
            "type": "scatterpolargl"
           }
          ],
          "scatterternary": [
           {
            "marker": {
             "colorbar": {
              "outlinewidth": 0,
              "ticks": ""
             }
            },
            "type": "scatterternary"
           }
          ],
          "surface": [
           {
            "colorbar": {
             "outlinewidth": 0,
             "ticks": ""
            },
            "colorscale": [
             [
              0,
              "#0d0887"
             ],
             [
              0.1111111111111111,
              "#46039f"
             ],
             [
              0.2222222222222222,
              "#7201a8"
             ],
             [
              0.3333333333333333,
              "#9c179e"
             ],
             [
              0.4444444444444444,
              "#bd3786"
             ],
             [
              0.5555555555555556,
              "#d8576b"
             ],
             [
              0.6666666666666666,
              "#ed7953"
             ],
             [
              0.7777777777777778,
              "#fb9f3a"
             ],
             [
              0.8888888888888888,
              "#fdca26"
             ],
             [
              1,
              "#f0f921"
             ]
            ],
            "type": "surface"
           }
          ],
          "table": [
           {
            "cells": {
             "fill": {
              "color": "#EBF0F8"
             },
             "line": {
              "color": "white"
             }
            },
            "header": {
             "fill": {
              "color": "#C8D4E3"
             },
             "line": {
              "color": "white"
             }
            },
            "type": "table"
           }
          ]
         },
         "layout": {
          "annotationdefaults": {
           "arrowcolor": "#2a3f5f",
           "arrowhead": 0,
           "arrowwidth": 1
          },
          "autotypenumbers": "strict",
          "coloraxis": {
           "colorbar": {
            "outlinewidth": 0,
            "ticks": ""
           }
          },
          "colorscale": {
           "diverging": [
            [
             0,
             "#8e0152"
            ],
            [
             0.1,
             "#c51b7d"
            ],
            [
             0.2,
             "#de77ae"
            ],
            [
             0.3,
             "#f1b6da"
            ],
            [
             0.4,
             "#fde0ef"
            ],
            [
             0.5,
             "#f7f7f7"
            ],
            [
             0.6,
             "#e6f5d0"
            ],
            [
             0.7,
             "#b8e186"
            ],
            [
             0.8,
             "#7fbc41"
            ],
            [
             0.9,
             "#4d9221"
            ],
            [
             1,
             "#276419"
            ]
           ],
           "sequential": [
            [
             0,
             "#0d0887"
            ],
            [
             0.1111111111111111,
             "#46039f"
            ],
            [
             0.2222222222222222,
             "#7201a8"
            ],
            [
             0.3333333333333333,
             "#9c179e"
            ],
            [
             0.4444444444444444,
             "#bd3786"
            ],
            [
             0.5555555555555556,
             "#d8576b"
            ],
            [
             0.6666666666666666,
             "#ed7953"
            ],
            [
             0.7777777777777778,
             "#fb9f3a"
            ],
            [
             0.8888888888888888,
             "#fdca26"
            ],
            [
             1,
             "#f0f921"
            ]
           ],
           "sequentialminus": [
            [
             0,
             "#0d0887"
            ],
            [
             0.1111111111111111,
             "#46039f"
            ],
            [
             0.2222222222222222,
             "#7201a8"
            ],
            [
             0.3333333333333333,
             "#9c179e"
            ],
            [
             0.4444444444444444,
             "#bd3786"
            ],
            [
             0.5555555555555556,
             "#d8576b"
            ],
            [
             0.6666666666666666,
             "#ed7953"
            ],
            [
             0.7777777777777778,
             "#fb9f3a"
            ],
            [
             0.8888888888888888,
             "#fdca26"
            ],
            [
             1,
             "#f0f921"
            ]
           ]
          },
          "colorway": [
           "#636efa",
           "#EF553B",
           "#00cc96",
           "#ab63fa",
           "#FFA15A",
           "#19d3f3",
           "#FF6692",
           "#B6E880",
           "#FF97FF",
           "#FECB52"
          ],
          "font": {
           "color": "#2a3f5f"
          },
          "geo": {
           "bgcolor": "white",
           "lakecolor": "white",
           "landcolor": "white",
           "showlakes": true,
           "showland": true,
           "subunitcolor": "#C8D4E3"
          },
          "hoverlabel": {
           "align": "left"
          },
          "hovermode": "closest",
          "mapbox": {
           "style": "light"
          },
          "paper_bgcolor": "white",
          "plot_bgcolor": "white",
          "polar": {
           "angularaxis": {
            "gridcolor": "#EBF0F8",
            "linecolor": "#EBF0F8",
            "ticks": ""
           },
           "bgcolor": "white",
           "radialaxis": {
            "gridcolor": "#EBF0F8",
            "linecolor": "#EBF0F8",
            "ticks": ""
           }
          },
          "scene": {
           "xaxis": {
            "backgroundcolor": "white",
            "gridcolor": "#DFE8F3",
            "gridwidth": 2,
            "linecolor": "#EBF0F8",
            "showbackground": true,
            "ticks": "",
            "zerolinecolor": "#EBF0F8"
           },
           "yaxis": {
            "backgroundcolor": "white",
            "gridcolor": "#DFE8F3",
            "gridwidth": 2,
            "linecolor": "#EBF0F8",
            "showbackground": true,
            "ticks": "",
            "zerolinecolor": "#EBF0F8"
           },
           "zaxis": {
            "backgroundcolor": "white",
            "gridcolor": "#DFE8F3",
            "gridwidth": 2,
            "linecolor": "#EBF0F8",
            "showbackground": true,
            "ticks": "",
            "zerolinecolor": "#EBF0F8"
           }
          },
          "shapedefaults": {
           "line": {
            "color": "#2a3f5f"
           }
          },
          "ternary": {
           "aaxis": {
            "gridcolor": "#DFE8F3",
            "linecolor": "#A2B1C6",
            "ticks": ""
           },
           "baxis": {
            "gridcolor": "#DFE8F3",
            "linecolor": "#A2B1C6",
            "ticks": ""
           },
           "bgcolor": "white",
           "caxis": {
            "gridcolor": "#DFE8F3",
            "linecolor": "#A2B1C6",
            "ticks": ""
           }
          },
          "title": {
           "x": 0.05
          },
          "xaxis": {
           "automargin": true,
           "gridcolor": "#EBF0F8",
           "linecolor": "#EBF0F8",
           "ticks": "",
           "title": {
            "standoff": 15
           },
           "zerolinecolor": "#EBF0F8",
           "zerolinewidth": 2
          },
          "yaxis": {
           "automargin": true,
           "gridcolor": "#EBF0F8",
           "linecolor": "#EBF0F8",
           "ticks": "",
           "title": {
            "standoff": 15
           },
           "zerolinecolor": "#EBF0F8",
           "zerolinewidth": 2
          }
         }
        },
        "title": {
         "text": "Optimization History Plot"
        },
        "width": 1000,
        "xaxis": {
         "title": {
          "text": "Trial"
         }
        },
        "yaxis": {
         "title": {
          "text": "Objective Value"
         }
        }
       }
      }
     },
     "metadata": {},
     "output_type": "display_data"
    },
    {
     "data": {
      "application/vnd.plotly.v1+json": {
       "config": {
        "plotlyServerURL": "https://plot.ly"
       },
       "data": [
        {
         "marker": {
          "color": [
           0,
           1,
           2,
           3,
           4,
           5,
           6,
           7,
           8,
           9
          ],
          "colorbar": {
           "title": {
            "text": "Trial"
           },
           "x": 1,
           "xpad": 40
          },
          "colorscale": [
           [
            0,
            "rgb(247,251,255)"
           ],
           [
            0.125,
            "rgb(222,235,247)"
           ],
           [
            0.25,
            "rgb(198,219,239)"
           ],
           [
            0.375,
            "rgb(158,202,225)"
           ],
           [
            0.5,
            "rgb(107,174,214)"
           ],
           [
            0.625,
            "rgb(66,146,198)"
           ],
           [
            0.75,
            "rgb(33,113,181)"
           ],
           [
            0.875,
            "rgb(8,81,156)"
           ],
           [
            1,
            "rgb(8,48,107)"
           ]
          ],
          "line": {
           "color": "Grey",
           "width": 0.5
          },
          "showscale": true
         },
         "mode": "markers",
         "showlegend": false,
         "type": "scatter",
         "x": [
          "DecisionTree",
          "LogisticRegression",
          "DecisionTree",
          "LogisticRegression",
          "DecisionTree",
          "LogisticRegression",
          "DecisionTree",
          "RandomForest",
          "DecisionTree",
          "DecisionTree"
         ],
         "xaxis": "x",
         "y": [
          0.491,
          0.287,
          0.491,
          0,
          0.508,
          0.264,
          0.491,
          0.581,
          0.485,
          0.562
         ],
         "yaxis": "y"
        },
        {
         "marker": {
          "color": [
           0,
           2,
           4,
           6,
           8,
           9
          ],
          "colorbar": {
           "title": {
            "text": "Trial"
           },
           "x": 1,
           "xpad": 40
          },
          "colorscale": [
           [
            0,
            "rgb(247,251,255)"
           ],
           [
            0.125,
            "rgb(222,235,247)"
           ],
           [
            0.25,
            "rgb(198,219,239)"
           ],
           [
            0.375,
            "rgb(158,202,225)"
           ],
           [
            0.5,
            "rgb(107,174,214)"
           ],
           [
            0.625,
            "rgb(66,146,198)"
           ],
           [
            0.75,
            "rgb(33,113,181)"
           ],
           [
            0.875,
            "rgb(8,81,156)"
           ],
           [
            1,
            "rgb(8,48,107)"
           ]
          ],
          "line": {
           "color": "Grey",
           "width": 0.5
          },
          "showscale": false
         },
         "mode": "markers",
         "showlegend": false,
         "type": "scatter",
         "x": [
          30,
          49,
          15,
          26,
          16,
          7
         ],
         "xaxis": "x2",
         "y": [
          0.491,
          0.491,
          0.508,
          0.491,
          0.485,
          0.562
         ],
         "yaxis": "y2"
        },
        {
         "marker": {
          "color": [
           1,
           3,
           5
          ],
          "colorbar": {
           "title": {
            "text": "Trial"
           },
           "x": 1,
           "xpad": 40
          },
          "colorscale": [
           [
            0,
            "rgb(247,251,255)"
           ],
           [
            0.125,
            "rgb(222,235,247)"
           ],
           [
            0.25,
            "rgb(198,219,239)"
           ],
           [
            0.375,
            "rgb(158,202,225)"
           ],
           [
            0.5,
            "rgb(107,174,214)"
           ],
           [
            0.625,
            "rgb(66,146,198)"
           ],
           [
            0.75,
            "rgb(33,113,181)"
           ],
           [
            0.875,
            "rgb(8,81,156)"
           ],
           [
            1,
            "rgb(8,48,107)"
           ]
          ],
          "line": {
           "color": "Grey",
           "width": 0.5
          },
          "showscale": false
         },
         "mode": "markers",
         "showlegend": false,
         "type": "scatter",
         "x": [
          24780.71022662143,
          0.00015880132371526778,
          0.02490818711274116
         ],
         "xaxis": "x3",
         "y": [
          0.287,
          0,
          0.264
         ],
         "yaxis": "y3"
        },
        {
         "marker": {
          "color": [
           7
          ],
          "colorbar": {
           "title": {
            "text": "Trial"
           },
           "x": 1,
           "xpad": 40
          },
          "colorscale": [
           [
            0,
            "rgb(247,251,255)"
           ],
           [
            0.125,
            "rgb(222,235,247)"
           ],
           [
            0.25,
            "rgb(198,219,239)"
           ],
           [
            0.375,
            "rgb(158,202,225)"
           ],
           [
            0.5,
            "rgb(107,174,214)"
           ],
           [
            0.625,
            "rgb(66,146,198)"
           ],
           [
            0.75,
            "rgb(33,113,181)"
           ],
           [
            0.875,
            "rgb(8,81,156)"
           ],
           [
            1,
            "rgb(8,48,107)"
           ]
          ],
          "line": {
           "color": "Grey",
           "width": 0.5
          },
          "showscale": false
         },
         "mode": "markers",
         "showlegend": false,
         "type": "scatter",
         "x": [
          18
         ],
         "xaxis": "x4",
         "y": [
          0.581
         ],
         "yaxis": "y4"
        },
        {
         "marker": {
          "color": [
           7
          ],
          "colorbar": {
           "title": {
            "text": "Trial"
           },
           "x": 1,
           "xpad": 40
          },
          "colorscale": [
           [
            0,
            "rgb(247,251,255)"
           ],
           [
            0.125,
            "rgb(222,235,247)"
           ],
           [
            0.25,
            "rgb(198,219,239)"
           ],
           [
            0.375,
            "rgb(158,202,225)"
           ],
           [
            0.5,
            "rgb(107,174,214)"
           ],
           [
            0.625,
            "rgb(66,146,198)"
           ],
           [
            0.75,
            "rgb(33,113,181)"
           ],
           [
            0.875,
            "rgb(8,81,156)"
           ],
           [
            1,
            "rgb(8,48,107)"
           ]
          ],
          "line": {
           "color": "Grey",
           "width": 0.5
          },
          "showscale": false
         },
         "mode": "markers",
         "showlegend": false,
         "type": "scatter",
         "x": [
          158
         ],
         "xaxis": "x5",
         "y": [
          0.581
         ],
         "yaxis": "y5"
        }
       ],
       "layout": {
        "height": 500,
        "template": {
         "data": {
          "bar": [
           {
            "error_x": {
             "color": "#2a3f5f"
            },
            "error_y": {
             "color": "#2a3f5f"
            },
            "marker": {
             "line": {
              "color": "white",
              "width": 0.5
             },
             "pattern": {
              "fillmode": "overlay",
              "size": 10,
              "solidity": 0.2
             }
            },
            "type": "bar"
           }
          ],
          "barpolar": [
           {
            "marker": {
             "line": {
              "color": "white",
              "width": 0.5
             },
             "pattern": {
              "fillmode": "overlay",
              "size": 10,
              "solidity": 0.2
             }
            },
            "type": "barpolar"
           }
          ],
          "carpet": [
           {
            "aaxis": {
             "endlinecolor": "#2a3f5f",
             "gridcolor": "#C8D4E3",
             "linecolor": "#C8D4E3",
             "minorgridcolor": "#C8D4E3",
             "startlinecolor": "#2a3f5f"
            },
            "baxis": {
             "endlinecolor": "#2a3f5f",
             "gridcolor": "#C8D4E3",
             "linecolor": "#C8D4E3",
             "minorgridcolor": "#C8D4E3",
             "startlinecolor": "#2a3f5f"
            },
            "type": "carpet"
           }
          ],
          "choropleth": [
           {
            "colorbar": {
             "outlinewidth": 0,
             "ticks": ""
            },
            "type": "choropleth"
           }
          ],
          "contour": [
           {
            "colorbar": {
             "outlinewidth": 0,
             "ticks": ""
            },
            "colorscale": [
             [
              0,
              "#0d0887"
             ],
             [
              0.1111111111111111,
              "#46039f"
             ],
             [
              0.2222222222222222,
              "#7201a8"
             ],
             [
              0.3333333333333333,
              "#9c179e"
             ],
             [
              0.4444444444444444,
              "#bd3786"
             ],
             [
              0.5555555555555556,
              "#d8576b"
             ],
             [
              0.6666666666666666,
              "#ed7953"
             ],
             [
              0.7777777777777778,
              "#fb9f3a"
             ],
             [
              0.8888888888888888,
              "#fdca26"
             ],
             [
              1,
              "#f0f921"
             ]
            ],
            "type": "contour"
           }
          ],
          "contourcarpet": [
           {
            "colorbar": {
             "outlinewidth": 0,
             "ticks": ""
            },
            "type": "contourcarpet"
           }
          ],
          "heatmap": [
           {
            "colorbar": {
             "outlinewidth": 0,
             "ticks": ""
            },
            "colorscale": [
             [
              0,
              "#0d0887"
             ],
             [
              0.1111111111111111,
              "#46039f"
             ],
             [
              0.2222222222222222,
              "#7201a8"
             ],
             [
              0.3333333333333333,
              "#9c179e"
             ],
             [
              0.4444444444444444,
              "#bd3786"
             ],
             [
              0.5555555555555556,
              "#d8576b"
             ],
             [
              0.6666666666666666,
              "#ed7953"
             ],
             [
              0.7777777777777778,
              "#fb9f3a"
             ],
             [
              0.8888888888888888,
              "#fdca26"
             ],
             [
              1,
              "#f0f921"
             ]
            ],
            "type": "heatmap"
           }
          ],
          "heatmapgl": [
           {
            "colorbar": {
             "outlinewidth": 0,
             "ticks": ""
            },
            "colorscale": [
             [
              0,
              "#0d0887"
             ],
             [
              0.1111111111111111,
              "#46039f"
             ],
             [
              0.2222222222222222,
              "#7201a8"
             ],
             [
              0.3333333333333333,
              "#9c179e"
             ],
             [
              0.4444444444444444,
              "#bd3786"
             ],
             [
              0.5555555555555556,
              "#d8576b"
             ],
             [
              0.6666666666666666,
              "#ed7953"
             ],
             [
              0.7777777777777778,
              "#fb9f3a"
             ],
             [
              0.8888888888888888,
              "#fdca26"
             ],
             [
              1,
              "#f0f921"
             ]
            ],
            "type": "heatmapgl"
           }
          ],
          "histogram": [
           {
            "marker": {
             "pattern": {
              "fillmode": "overlay",
              "size": 10,
              "solidity": 0.2
             }
            },
            "type": "histogram"
           }
          ],
          "histogram2d": [
           {
            "colorbar": {
             "outlinewidth": 0,
             "ticks": ""
            },
            "colorscale": [
             [
              0,
              "#0d0887"
             ],
             [
              0.1111111111111111,
              "#46039f"
             ],
             [
              0.2222222222222222,
              "#7201a8"
             ],
             [
              0.3333333333333333,
              "#9c179e"
             ],
             [
              0.4444444444444444,
              "#bd3786"
             ],
             [
              0.5555555555555556,
              "#d8576b"
             ],
             [
              0.6666666666666666,
              "#ed7953"
             ],
             [
              0.7777777777777778,
              "#fb9f3a"
             ],
             [
              0.8888888888888888,
              "#fdca26"
             ],
             [
              1,
              "#f0f921"
             ]
            ],
            "type": "histogram2d"
           }
          ],
          "histogram2dcontour": [
           {
            "colorbar": {
             "outlinewidth": 0,
             "ticks": ""
            },
            "colorscale": [
             [
              0,
              "#0d0887"
             ],
             [
              0.1111111111111111,
              "#46039f"
             ],
             [
              0.2222222222222222,
              "#7201a8"
             ],
             [
              0.3333333333333333,
              "#9c179e"
             ],
             [
              0.4444444444444444,
              "#bd3786"
             ],
             [
              0.5555555555555556,
              "#d8576b"
             ],
             [
              0.6666666666666666,
              "#ed7953"
             ],
             [
              0.7777777777777778,
              "#fb9f3a"
             ],
             [
              0.8888888888888888,
              "#fdca26"
             ],
             [
              1,
              "#f0f921"
             ]
            ],
            "type": "histogram2dcontour"
           }
          ],
          "mesh3d": [
           {
            "colorbar": {
             "outlinewidth": 0,
             "ticks": ""
            },
            "type": "mesh3d"
           }
          ],
          "parcoords": [
           {
            "line": {
             "colorbar": {
              "outlinewidth": 0,
              "ticks": ""
             }
            },
            "type": "parcoords"
           }
          ],
          "pie": [
           {
            "automargin": true,
            "type": "pie"
           }
          ],
          "scatter": [
           {
            "fillpattern": {
             "fillmode": "overlay",
             "size": 10,
             "solidity": 0.2
            },
            "type": "scatter"
           }
          ],
          "scatter3d": [
           {
            "line": {
             "colorbar": {
              "outlinewidth": 0,
              "ticks": ""
             }
            },
            "marker": {
             "colorbar": {
              "outlinewidth": 0,
              "ticks": ""
             }
            },
            "type": "scatter3d"
           }
          ],
          "scattercarpet": [
           {
            "marker": {
             "colorbar": {
              "outlinewidth": 0,
              "ticks": ""
             }
            },
            "type": "scattercarpet"
           }
          ],
          "scattergeo": [
           {
            "marker": {
             "colorbar": {
              "outlinewidth": 0,
              "ticks": ""
             }
            },
            "type": "scattergeo"
           }
          ],
          "scattergl": [
           {
            "marker": {
             "colorbar": {
              "outlinewidth": 0,
              "ticks": ""
             }
            },
            "type": "scattergl"
           }
          ],
          "scattermapbox": [
           {
            "marker": {
             "colorbar": {
              "outlinewidth": 0,
              "ticks": ""
             }
            },
            "type": "scattermapbox"
           }
          ],
          "scatterpolar": [
           {
            "marker": {
             "colorbar": {
              "outlinewidth": 0,
              "ticks": ""
             }
            },
            "type": "scatterpolar"
           }
          ],
          "scatterpolargl": [
           {
            "marker": {
             "colorbar": {
              "outlinewidth": 0,
              "ticks": ""
             }
            },
            "type": "scatterpolargl"
           }
          ],
          "scatterternary": [
           {
            "marker": {
             "colorbar": {
              "outlinewidth": 0,
              "ticks": ""
             }
            },
            "type": "scatterternary"
           }
          ],
          "surface": [
           {
            "colorbar": {
             "outlinewidth": 0,
             "ticks": ""
            },
            "colorscale": [
             [
              0,
              "#0d0887"
             ],
             [
              0.1111111111111111,
              "#46039f"
             ],
             [
              0.2222222222222222,
              "#7201a8"
             ],
             [
              0.3333333333333333,
              "#9c179e"
             ],
             [
              0.4444444444444444,
              "#bd3786"
             ],
             [
              0.5555555555555556,
              "#d8576b"
             ],
             [
              0.6666666666666666,
              "#ed7953"
             ],
             [
              0.7777777777777778,
              "#fb9f3a"
             ],
             [
              0.8888888888888888,
              "#fdca26"
             ],
             [
              1,
              "#f0f921"
             ]
            ],
            "type": "surface"
           }
          ],
          "table": [
           {
            "cells": {
             "fill": {
              "color": "#EBF0F8"
             },
             "line": {
              "color": "white"
             }
            },
            "header": {
             "fill": {
              "color": "#C8D4E3"
             },
             "line": {
              "color": "white"
             }
            },
            "type": "table"
           }
          ]
         },
         "layout": {
          "annotationdefaults": {
           "arrowcolor": "#2a3f5f",
           "arrowhead": 0,
           "arrowwidth": 1
          },
          "autotypenumbers": "strict",
          "coloraxis": {
           "colorbar": {
            "outlinewidth": 0,
            "ticks": ""
           }
          },
          "colorscale": {
           "diverging": [
            [
             0,
             "#8e0152"
            ],
            [
             0.1,
             "#c51b7d"
            ],
            [
             0.2,
             "#de77ae"
            ],
            [
             0.3,
             "#f1b6da"
            ],
            [
             0.4,
             "#fde0ef"
            ],
            [
             0.5,
             "#f7f7f7"
            ],
            [
             0.6,
             "#e6f5d0"
            ],
            [
             0.7,
             "#b8e186"
            ],
            [
             0.8,
             "#7fbc41"
            ],
            [
             0.9,
             "#4d9221"
            ],
            [
             1,
             "#276419"
            ]
           ],
           "sequential": [
            [
             0,
             "#0d0887"
            ],
            [
             0.1111111111111111,
             "#46039f"
            ],
            [
             0.2222222222222222,
             "#7201a8"
            ],
            [
             0.3333333333333333,
             "#9c179e"
            ],
            [
             0.4444444444444444,
             "#bd3786"
            ],
            [
             0.5555555555555556,
             "#d8576b"
            ],
            [
             0.6666666666666666,
             "#ed7953"
            ],
            [
             0.7777777777777778,
             "#fb9f3a"
            ],
            [
             0.8888888888888888,
             "#fdca26"
            ],
            [
             1,
             "#f0f921"
            ]
           ],
           "sequentialminus": [
            [
             0,
             "#0d0887"
            ],
            [
             0.1111111111111111,
             "#46039f"
            ],
            [
             0.2222222222222222,
             "#7201a8"
            ],
            [
             0.3333333333333333,
             "#9c179e"
            ],
            [
             0.4444444444444444,
             "#bd3786"
            ],
            [
             0.5555555555555556,
             "#d8576b"
            ],
            [
             0.6666666666666666,
             "#ed7953"
            ],
            [
             0.7777777777777778,
             "#fb9f3a"
            ],
            [
             0.8888888888888888,
             "#fdca26"
            ],
            [
             1,
             "#f0f921"
            ]
           ]
          },
          "colorway": [
           "#636efa",
           "#EF553B",
           "#00cc96",
           "#ab63fa",
           "#FFA15A",
           "#19d3f3",
           "#FF6692",
           "#B6E880",
           "#FF97FF",
           "#FECB52"
          ],
          "font": {
           "color": "#2a3f5f"
          },
          "geo": {
           "bgcolor": "white",
           "lakecolor": "white",
           "landcolor": "white",
           "showlakes": true,
           "showland": true,
           "subunitcolor": "#C8D4E3"
          },
          "hoverlabel": {
           "align": "left"
          },
          "hovermode": "closest",
          "mapbox": {
           "style": "light"
          },
          "paper_bgcolor": "white",
          "plot_bgcolor": "white",
          "polar": {
           "angularaxis": {
            "gridcolor": "#EBF0F8",
            "linecolor": "#EBF0F8",
            "ticks": ""
           },
           "bgcolor": "white",
           "radialaxis": {
            "gridcolor": "#EBF0F8",
            "linecolor": "#EBF0F8",
            "ticks": ""
           }
          },
          "scene": {
           "xaxis": {
            "backgroundcolor": "white",
            "gridcolor": "#DFE8F3",
            "gridwidth": 2,
            "linecolor": "#EBF0F8",
            "showbackground": true,
            "ticks": "",
            "zerolinecolor": "#EBF0F8"
           },
           "yaxis": {
            "backgroundcolor": "white",
            "gridcolor": "#DFE8F3",
            "gridwidth": 2,
            "linecolor": "#EBF0F8",
            "showbackground": true,
            "ticks": "",
            "zerolinecolor": "#EBF0F8"
           },
           "zaxis": {
            "backgroundcolor": "white",
            "gridcolor": "#DFE8F3",
            "gridwidth": 2,
            "linecolor": "#EBF0F8",
            "showbackground": true,
            "ticks": "",
            "zerolinecolor": "#EBF0F8"
           }
          },
          "shapedefaults": {
           "line": {
            "color": "#2a3f5f"
           }
          },
          "ternary": {
           "aaxis": {
            "gridcolor": "#DFE8F3",
            "linecolor": "#A2B1C6",
            "ticks": ""
           },
           "baxis": {
            "gridcolor": "#DFE8F3",
            "linecolor": "#A2B1C6",
            "ticks": ""
           },
           "bgcolor": "white",
           "caxis": {
            "gridcolor": "#DFE8F3",
            "linecolor": "#A2B1C6",
            "ticks": ""
           }
          },
          "title": {
           "x": 0.05
          },
          "xaxis": {
           "automargin": true,
           "gridcolor": "#EBF0F8",
           "linecolor": "#EBF0F8",
           "ticks": "",
           "title": {
            "standoff": 15
           },
           "zerolinecolor": "#EBF0F8",
           "zerolinewidth": 2
          },
          "yaxis": {
           "automargin": true,
           "gridcolor": "#EBF0F8",
           "linecolor": "#EBF0F8",
           "ticks": "",
           "title": {
            "standoff": 15
           },
           "zerolinecolor": "#EBF0F8",
           "zerolinewidth": 2
          }
         }
        },
        "title": {
         "text": "Slice Plot"
        },
        "width": 1000,
        "xaxis": {
         "anchor": "y",
         "domain": [
          0,
          0.16799999999999998
         ],
         "tickangle": -90,
         "title": {
          "text": "classifier"
         }
        },
        "xaxis2": {
         "anchor": "y2",
         "domain": [
          0.208,
          0.376
         ],
         "tickangle": -90,
         "title": {
          "text": "dt_max_depth"
         }
        },
        "xaxis3": {
         "anchor": "y3",
         "domain": [
          0.416,
          0.584
         ],
         "tickangle": -90,
         "title": {
          "text": "lr_c"
         },
         "type": "log"
        },
        "xaxis4": {
         "anchor": "y4",
         "domain": [
          0.624,
          0.792
         ],
         "tickangle": -90,
         "title": {
          "text": "rf_max_depth"
         }
        },
        "xaxis5": {
         "anchor": "y5",
         "domain": [
          0.832,
          1
         ],
         "tickangle": -90,
         "title": {
          "text": "rf_n_estimators"
         }
        },
        "yaxis": {
         "anchor": "x",
         "domain": [
          0,
          1
         ],
         "title": {
          "text": "Objective Value"
         }
        },
        "yaxis2": {
         "anchor": "x2",
         "domain": [
          0,
          1
         ],
         "matches": "y",
         "showticklabels": false
        },
        "yaxis3": {
         "anchor": "x3",
         "domain": [
          0,
          1
         ],
         "matches": "y",
         "showticklabels": false
        },
        "yaxis4": {
         "anchor": "x4",
         "domain": [
          0,
          1
         ],
         "matches": "y",
         "showticklabels": false
        },
        "yaxis5": {
         "anchor": "x5",
         "domain": [
          0,
          1
         ],
         "matches": "y",
         "showticklabels": false
        }
       }
      }
     },
     "metadata": {},
     "output_type": "display_data"
    },
    {
     "data": {
      "application/vnd.plotly.v1+json": {
       "config": {
        "plotlyServerURL": "https://plot.ly"
       },
       "data": [
        {
         "mode": "lines",
         "name": "Validation set ROC (AUC = 0.85)",
         "type": "scatter",
         "x": [
          0,
          0,
          0,
          0,
          0,
          0,
          0,
          0,
          0.0008223684210526315,
          0.0008223684210526315,
          0.0008223684210526315,
          0.0008223684210526315,
          0.0008223684210526315,
          0.0008223684210526315,
          0.0008223684210526315,
          0.0008223684210526315,
          0.001644736842105263,
          0.001644736842105263,
          0.001644736842105263,
          0.001644736842105263,
          0.0024671052631578946,
          0.0024671052631578946,
          0.003289473684210526,
          0.004111842105263158,
          0.005756578947368421,
          0.006578947368421052,
          0.006578947368421052,
          0.007401315789473684,
          0.007401315789473684,
          0.008223684210526315,
          0.008223684210526315,
          0.009046052631578948,
          0.009046052631578948,
          0.009868421052631578,
          0.009868421052631578,
          0.01069078947368421,
          0.01069078947368421,
          0.011513157894736841,
          0.011513157894736841,
          0.012335526315789474,
          0.012335526315789474,
          0.013157894736842105,
          0.013157894736842105,
          0.013980263157894737,
          0.013980263157894737,
          0.015625,
          0.015625,
          0.017269736842105265,
          0.017269736842105265,
          0.018092105263157895,
          0.018092105263157895,
          0.02138157894736842,
          0.02138157894736842,
          0.022203947368421052,
          0.022203947368421052,
          0.022203947368421052,
          0.022203947368421052,
          0.023848684210526317,
          0.023848684210526317,
          0.024671052631578948,
          0.024671052631578948,
          0.02631578947368421,
          0.027138157894736843,
          0.027138157894736843,
          0.027960526315789474,
          0.027960526315789474,
          0.029605263157894735,
          0.029605263157894735,
          0.03289473684210526,
          0.03289473684210526,
          0.03289473684210526,
          0.033717105263157895,
          0.033717105263157895,
          0.03700657894736842,
          0.03700657894736842,
          0.03782894736842105,
          0.03782894736842105,
          0.04029605263157895,
          0.04029605263157895,
          0.04194078947368421,
          0.04194078947368421,
          0.04276315789473684,
          0.04276315789473684,
          0.04358552631578947,
          0.04358552631578947,
          0.046875,
          0.046875,
          0.047697368421052634,
          0.047697368421052634,
          0.04851973684210526,
          0.05016447368421053,
          0.05016447368421053,
          0.05180921052631579,
          0.05263157894736842,
          0.05263157894736842,
          0.05756578947368421,
          0.05756578947368421,
          0.06085526315789474,
          0.06085526315789474,
          0.061677631578947366,
          0.061677631578947366,
          0.06332236842105263,
          0.06332236842105263,
          0.0649671052631579,
          0.0649671052631579,
          0.07154605263157894,
          0.07154605263157894,
          0.07401315789473684,
          0.07401315789473684,
          0.0756578947368421,
          0.0756578947368421,
          0.07648026315789473,
          0.07648026315789473,
          0.078125,
          0.078125,
          0.0805921052631579,
          0.0805921052631579,
          0.08223684210526316,
          0.08388157894736842,
          0.08388157894736842,
          0.08717105263157894,
          0.08717105263157894,
          0.08963815789473684,
          0.0912828947368421,
          0.10773026315789473,
          0.10773026315789473,
          0.109375,
          0.109375,
          0.11019736842105263,
          0.11019736842105263,
          0.11348684210526316,
          0.11348684210526316,
          0.11430921052631579,
          0.11595394736842106,
          0.11842105263157894,
          0.11842105263157894,
          0.11924342105263158,
          0.11924342105263158,
          0.12088815789473684,
          0.12171052631578948,
          0.1225328947368421,
          0.1225328947368421,
          0.125,
          0.12746710526315788,
          0.12828947368421054,
          0.12828947368421054,
          0.13157894736842105,
          0.13157894736842105,
          0.13322368421052633,
          0.13322368421052633,
          0.13651315789473684,
          0.13815789473684212,
          0.140625,
          0.140625,
          0.14144736842105263,
          0.14144736842105263,
          0.14226973684210525,
          0.14226973684210525,
          0.1455592105263158,
          0.14638157894736842,
          0.14884868421052633,
          0.14884868421052633,
          0.15049342105263158,
          0.15049342105263158,
          0.15296052631578946,
          0.15296052631578946,
          0.16200657894736842,
          0.16282894736842105,
          0.16447368421052633,
          0.16447368421052633,
          0.16776315789473684,
          0.16776315789473684,
          0.17351973684210525,
          0.17351973684210525,
          0.17516447368421054,
          0.17516447368421054,
          0.1825657894736842,
          0.1825657894736842,
          0.19161184210526316,
          0.19161184210526316,
          0.19325657894736842,
          0.19325657894736842,
          0.19407894736842105,
          0.19407894736842105,
          0.1981907894736842,
          0.19901315789473684,
          0.20230263157894737,
          0.20230263157894737,
          0.20559210526315788,
          0.20559210526315788,
          0.20641447368421054,
          0.20641447368421054,
          0.2080592105263158,
          0.21134868421052633,
          0.21217105263157895,
          0.21217105263157895,
          0.21957236842105263,
          0.22203947368421054,
          0.22286184210526316,
          0.22286184210526316,
          0.22615131578947367,
          0.22615131578947367,
          0.2294407894736842,
          0.23190789473684212,
          0.23848684210526316,
          0.24013157894736842,
          0.24671052631578946,
          0.24671052631578946,
          0.2524671052631579,
          0.2524671052631579,
          0.2532894736842105,
          0.2532894736842105,
          0.2598684210526316,
          0.2623355263157895,
          0.265625,
          0.265625,
          0.2689144736842105,
          0.26973684210526316,
          0.2754934210526316,
          0.2754934210526316,
          0.27713815789473684,
          0.2787828947368421,
          0.28042763157894735,
          0.28042763157894735,
          0.28125,
          0.28125,
          0.2870065789473684,
          0.2870065789473684,
          0.2894736842105263,
          0.2894736842105263,
          0.29605263157894735,
          0.29605263157894735,
          0.296875,
          0.296875,
          0.2993421052631579,
          0.2993421052631579,
          0.30098684210526316,
          0.30098684210526316,
          0.31167763157894735,
          0.31167763157894735,
          0.31332236842105265,
          0.31414473684210525,
          0.31743421052631576,
          0.31743421052631576,
          0.3223684210526316,
          0.3223684210526316,
          0.32401315789473684,
          0.34375,
          0.34375,
          0.3511513157894737,
          0.3511513157894737,
          0.3536184210526316,
          0.3560855263157895,
          0.3560855263157895,
          0.36430921052631576,
          0.36430921052631576,
          0.3840460526315789,
          0.3840460526315789,
          0.3873355263157895,
          0.39144736842105265,
          0.3939144736842105,
          0.3939144736842105,
          0.40542763157894735,
          0.40542763157894735,
          0.4087171052631579,
          0.4120065789473684,
          0.4120065789473684,
          0.41776315789473684,
          0.41776315789473684,
          0.4194078947368421,
          0.4194078947368421,
          0.42351973684210525,
          0.42351973684210525,
          0.4243421052631579,
          0.4243421052631579,
          0.4251644736842105,
          0.4251644736842105,
          0.4317434210526316,
          0.4350328947368421,
          0.4399671052631579,
          0.4399671052631579,
          0.4465460526315789,
          0.4465460526315789,
          0.4498355263157895,
          0.4555921052631579,
          0.4555921052631579,
          0.4613486842105263,
          0.4613486842105263,
          0.4662828947368421,
          0.4662828947368421,
          0.46792763157894735,
          0.4745065789473684,
          0.48930921052631576,
          0.4909539473684211,
          0.5024671052631579,
          0.5024671052631579,
          0.5032894736842105,
          0.5032894736842105,
          0.5131578947368421,
          0.5172697368421053,
          0.5213815789473685,
          0.5213815789473685,
          0.5304276315789473,
          0.5304276315789473,
          0.5427631578947368,
          0.5435855263157895,
          0.546875,
          0.546875,
          0.555921052631579,
          0.555921052631579,
          0.5567434210526315,
          0.5600328947368421,
          0.578125,
          0.578125,
          0.5822368421052632,
          0.6011513157894737,
          0.6011513157894737,
          0.602796052631579,
          0.609375,
          0.6167763157894737,
          0.6167763157894737,
          0.6233552631578947,
          0.625,
          0.6398026315789473,
          0.6463815789473685,
          0.6776315789473685,
          0.6792763157894737,
          0.6800986842105263,
          0.6875,
          0.6957236842105263,
          0.6957236842105263,
          0.7055921052631579,
          0.7055921052631579,
          0.7113486842105263,
          0.7113486842105263,
          0.7162828947368421,
          0.7236842105263158,
          0.7368421052631579,
          0.7376644736842105,
          0.7508223684210527,
          0.7524671052631579,
          0.7541118421052632,
          0.7557565789473685,
          0.756578947368421,
          0.7623355263157895,
          0.7664473684210527,
          0.7664473684210527,
          0.7689144736842105,
          0.7689144736842105,
          0.7705592105263158,
          0.7787828947368421,
          0.7787828947368421,
          0.7861842105263158,
          0.787828947368421,
          0.7944078947368421,
          0.7960526315789473,
          0.8042763157894737,
          0.8396381578947368,
          0.8453947368421053,
          0.8708881578947368,
          0.8725328947368421,
          0.875,
          0.8766447368421053,
          0.8774671052631579,
          0.8791118421052632,
          0.8799342105263158,
          0.8873355263157895,
          0.8963815789473685,
          0.8963815789473685,
          0.9111842105263158,
          0.912828947368421,
          0.9136513157894737,
          0.9243421052631579,
          0.9243421052631579,
          0.9325657894736842,
          0.9325657894736842,
          0.9605263157894737,
          0.962171052631579,
          0.9629934210526315,
          0.9646381578947368,
          0.975328947368421,
          0.9893092105263158,
          0.9893092105263158,
          0.990953947368421,
          0.9958881578947368,
          1
         ],
         "y": [
          0,
          0.0035211267605633804,
          0.01056338028169014,
          0.017605633802816902,
          0.03169014084507042,
          0.045774647887323945,
          0.0528169014084507,
          0.05985915492957746,
          0.07042253521126761,
          0.07746478873239436,
          0.08450704225352113,
          0.1056338028169014,
          0.11267605633802817,
          0.14084507042253522,
          0.15140845070422534,
          0.15492957746478872,
          0.15845070422535212,
          0.176056338028169,
          0.19014084507042253,
          0.19718309859154928,
          0.19718309859154928,
          0.20774647887323944,
          0.20774647887323944,
          0.2147887323943662,
          0.2147887323943662,
          0.22535211267605634,
          0.28169014084507044,
          0.28169014084507044,
          0.30985915492957744,
          0.30985915492957744,
          0.31338028169014087,
          0.31338028169014087,
          0.3204225352112676,
          0.3204225352112676,
          0.323943661971831,
          0.323943661971831,
          0.34507042253521125,
          0.34507042253521125,
          0.36619718309859156,
          0.36619718309859156,
          0.3732394366197183,
          0.3732394366197183,
          0.38028169014084506,
          0.38028169014084506,
          0.3873239436619718,
          0.3873239436619718,
          0.39436619718309857,
          0.39436619718309857,
          0.397887323943662,
          0.397887323943662,
          0.4084507042253521,
          0.4084507042253521,
          0.4119718309859155,
          0.4119718309859155,
          0.4154929577464789,
          0.4225352112676056,
          0.44014084507042256,
          0.44014084507042256,
          0.44366197183098594,
          0.44366197183098594,
          0.4507042253521127,
          0.4507042253521127,
          0.45422535211267606,
          0.45774647887323944,
          0.45774647887323944,
          0.4612676056338028,
          0.4612676056338028,
          0.46830985915492956,
          0.46830985915492956,
          0.4753521126760563,
          0.4823943661971831,
          0.4823943661971831,
          0.4894366197183099,
          0.4894366197183099,
          0.4964788732394366,
          0.4964788732394366,
          0.5,
          0.5,
          0.5035211267605634,
          0.5035211267605634,
          0.5070422535211268,
          0.5070422535211268,
          0.5105633802816901,
          0.5105633802816901,
          0.5176056338028169,
          0.5176056338028169,
          0.5211267605633803,
          0.5211267605633803,
          0.5246478873239436,
          0.528169014084507,
          0.528169014084507,
          0.5316901408450704,
          0.5316901408450704,
          0.5316901408450704,
          0.5352112676056338,
          0.5352112676056338,
          0.5387323943661971,
          0.5387323943661971,
          0.5422535211267606,
          0.5422535211267606,
          0.545774647887324,
          0.545774647887324,
          0.5528169014084507,
          0.5528169014084507,
          0.5563380281690141,
          0.5563380281690141,
          0.5633802816901409,
          0.5633802816901409,
          0.5704225352112676,
          0.5704225352112676,
          0.5809859154929577,
          0.5809859154929577,
          0.5845070422535211,
          0.5845070422535211,
          0.5880281690140845,
          0.5880281690140845,
          0.5915492957746479,
          0.5950704225352113,
          0.5950704225352113,
          0.6056338028169014,
          0.6056338028169014,
          0.6091549295774648,
          0.6091549295774648,
          0.6091549295774648,
          0.6091549295774648,
          0.6126760563380281,
          0.6126760563380281,
          0.6161971830985915,
          0.6161971830985915,
          0.6302816901408451,
          0.6302816901408451,
          0.6338028169014085,
          0.6338028169014085,
          0.6338028169014085,
          0.6338028169014085,
          0.6373239436619719,
          0.6373239436619719,
          0.6408450704225352,
          0.6408450704225352,
          0.6443661971830986,
          0.6443661971830986,
          0.647887323943662,
          0.647887323943662,
          0.647887323943662,
          0.647887323943662,
          0.6514084507042254,
          0.6514084507042254,
          0.6549295774647887,
          0.6549295774647887,
          0.6584507042253521,
          0.6584507042253521,
          0.6584507042253521,
          0.6584507042253521,
          0.6619718309859155,
          0.6619718309859155,
          0.6654929577464789,
          0.6654929577464789,
          0.6690140845070423,
          0.6690140845070423,
          0.6725352112676056,
          0.6725352112676056,
          0.676056338028169,
          0.676056338028169,
          0.6795774647887324,
          0.6795774647887324,
          0.6830985915492958,
          0.6830985915492958,
          0.6866197183098591,
          0.6866197183098591,
          0.6901408450704225,
          0.6901408450704225,
          0.6936619718309859,
          0.6936619718309859,
          0.6971830985915493,
          0.6971830985915493,
          0.7007042253521126,
          0.7007042253521126,
          0.7077464788732394,
          0.7077464788732394,
          0.7112676056338029,
          0.7112676056338029,
          0.7147887323943662,
          0.7147887323943662,
          0.721830985915493,
          0.721830985915493,
          0.7253521126760564,
          0.7253521126760564,
          0.7288732394366197,
          0.7288732394366197,
          0.7323943661971831,
          0.7323943661971831,
          0.7359154929577465,
          0.7359154929577465,
          0.7359154929577465,
          0.7359154929577465,
          0.7394366197183099,
          0.7394366197183099,
          0.7394366197183099,
          0.7394366197183099,
          0.7429577464788732,
          0.7429577464788732,
          0.7464788732394366,
          0.7464788732394366,
          0.7464788732394366,
          0.7464788732394366,
          0.7464788732394366,
          0.7464788732394366,
          0.75,
          0.75,
          0.7535211267605634,
          0.7535211267605634,
          0.7640845070422535,
          0.7640845070422535,
          0.7640845070422535,
          0.7640845070422535,
          0.7676056338028169,
          0.7676056338028169,
          0.7711267605633803,
          0.7711267605633803,
          0.7746478873239436,
          0.7746478873239436,
          0.7746478873239436,
          0.7746478873239436,
          0.778169014084507,
          0.778169014084507,
          0.7816901408450704,
          0.7816901408450704,
          0.7852112676056338,
          0.7852112676056338,
          0.7887323943661971,
          0.7887323943661971,
          0.795774647887324,
          0.7992957746478874,
          0.8028169014084507,
          0.8028169014084507,
          0.8063380281690141,
          0.8063380281690141,
          0.8133802816901409,
          0.8133802816901409,
          0.8169014084507042,
          0.8169014084507042,
          0.823943661971831,
          0.823943661971831,
          0.8274647887323944,
          0.8274647887323944,
          0.8309859154929577,
          0.8309859154929577,
          0.8309859154929577,
          0.8345070422535211,
          0.8345070422535211,
          0.8380281690140845,
          0.8380281690140845,
          0.8380281690140845,
          0.8415492957746479,
          0.8415492957746479,
          0.8450704225352113,
          0.8450704225352113,
          0.8485915492957746,
          0.8485915492957746,
          0.8485915492957746,
          0.8485915492957746,
          0.852112676056338,
          0.852112676056338,
          0.8556338028169014,
          0.8556338028169014,
          0.8556338028169014,
          0.8591549295774648,
          0.8591549295774648,
          0.8626760563380281,
          0.8626760563380281,
          0.8661971830985915,
          0.8661971830985915,
          0.8697183098591549,
          0.8697183098591549,
          0.8732394366197183,
          0.8732394366197183,
          0.8767605633802817,
          0.8767605633802817,
          0.8767605633802817,
          0.8767605633802817,
          0.8802816901408451,
          0.8802816901408451,
          0.8838028169014085,
          0.8838028169014085,
          0.8943661971830986,
          0.897887323943662,
          0.897887323943662,
          0.9014084507042254,
          0.9014084507042254,
          0.9084507042253521,
          0.9084507042253521,
          0.9119718309859155,
          0.9119718309859155,
          0.9119718309859155,
          0.9119718309859155,
          0.9154929577464789,
          0.9154929577464789,
          0.9190140845070423,
          0.9190140845070423,
          0.9190140845070423,
          0.9190140845070423,
          0.9225352112676056,
          0.9225352112676056,
          0.926056338028169,
          0.926056338028169,
          0.9295774647887324,
          0.9295774647887324,
          0.9330985915492958,
          0.9330985915492958,
          0.9366197183098591,
          0.9366197183098591,
          0.9401408450704225,
          0.9401408450704225,
          0.9436619718309859,
          0.9436619718309859,
          0.9436619718309859,
          0.9471830985915493,
          0.9471830985915493,
          0.9471830985915493,
          0.9471830985915493,
          0.954225352112676,
          0.954225352112676,
          0.954225352112676,
          0.954225352112676,
          0.9577464788732394,
          0.9577464788732394,
          0.9577464788732394,
          0.9577464788732394,
          0.9577464788732394,
          0.9577464788732394,
          0.9612676056338029,
          0.9612676056338029,
          0.9647887323943662,
          0.9647887323943662,
          0.9683098591549296,
          0.9683098591549296,
          0.971830985915493,
          0.971830985915493,
          0.9753521126760564,
          0.9753521126760564,
          0.9753521126760564,
          0.9753521126760564,
          0.9753521126760564,
          0.9753521126760564,
          0.9753521126760564,
          0.9753521126760564,
          0.9788732394366197,
          0.9788732394366197,
          0.9823943661971831,
          0.9823943661971831,
          0.9823943661971831,
          0.9859154929577465,
          0.9859154929577465,
          0.9859154929577465,
          0.9859154929577465,
          0.9859154929577465,
          0.9859154929577465,
          0.9859154929577465,
          0.9859154929577465,
          0.9859154929577465,
          0.9859154929577465,
          0.9859154929577465,
          0.9859154929577465,
          0.9859154929577465,
          0.9859154929577465,
          0.9859154929577465,
          0.9859154929577465,
          0.9859154929577465,
          0.9894366197183099,
          0.9894366197183099,
          0.9894366197183099,
          0.9894366197183099,
          0.9894366197183099,
          0.9929577464788732,
          0.9929577464788732,
          0.9964788732394366,
          0.9964788732394366,
          0.9964788732394366,
          0.9964788732394366,
          0.9964788732394366,
          0.9964788732394366,
          0.9964788732394366,
          1,
          1,
          1,
          1
         ]
        },
        {
         "mode": "lines",
         "name": "Test set ROC (AUC = 0.86)",
         "type": "scatter",
         "x": [
          0,
          0,
          0,
          0,
          0,
          0,
          0,
          0,
          0.0008333333333333334,
          0.0008333333333333334,
          0.0008333333333333334,
          0.0008333333333333334,
          0.0008333333333333334,
          0.0016666666666666668,
          0.0025,
          0.0025,
          0.0033333333333333335,
          0.0033333333333333335,
          0.004166666666666667,
          0.004166666666666667,
          0.004166666666666667,
          0.004166666666666667,
          0.005,
          0.005,
          0.005,
          0.005833333333333334,
          0.005833333333333334,
          0.005833333333333334,
          0.005833333333333334,
          0.005833333333333334,
          0.0075,
          0.0075,
          0.008333333333333333,
          0.008333333333333333,
          0.009166666666666667,
          0.009166666666666667,
          0.011666666666666667,
          0.011666666666666667,
          0.0125,
          0.0125,
          0.013333333333333334,
          0.013333333333333334,
          0.014166666666666666,
          0.014166666666666666,
          0.015,
          0.015,
          0.015833333333333335,
          0.015833333333333335,
          0.016666666666666666,
          0.016666666666666666,
          0.0175,
          0.0175,
          0.018333333333333333,
          0.018333333333333333,
          0.019166666666666665,
          0.019166666666666665,
          0.02,
          0.02,
          0.020833333333333332,
          0.020833333333333332,
          0.021666666666666667,
          0.0225,
          0.0225,
          0.023333333333333334,
          0.024166666666666666,
          0.025,
          0.025,
          0.025833333333333333,
          0.025833333333333333,
          0.0275,
          0.0275,
          0.028333333333333332,
          0.028333333333333332,
          0.029166666666666667,
          0.029166666666666667,
          0.03166666666666667,
          0.0325,
          0.03333333333333333,
          0.03333333333333333,
          0.034166666666666665,
          0.034166666666666665,
          0.0375,
          0.0375,
          0.03833333333333333,
          0.03833333333333333,
          0.03916666666666667,
          0.03916666666666667,
          0.04,
          0.04,
          0.04083333333333333,
          0.0425,
          0.043333333333333335,
          0.043333333333333335,
          0.045,
          0.045,
          0.04666666666666667,
          0.04666666666666667,
          0.0475,
          0.0475,
          0.049166666666666664,
          0.049166666666666664,
          0.050833333333333335,
          0.050833333333333335,
          0.051666666666666666,
          0.051666666666666666,
          0.05333333333333334,
          0.05333333333333334,
          0.056666666666666664,
          0.056666666666666664,
          0.059166666666666666,
          0.059166666666666666,
          0.06,
          0.06,
          0.0625,
          0.0625,
          0.06416666666666666,
          0.06416666666666666,
          0.065,
          0.065,
          0.06666666666666667,
          0.06666666666666667,
          0.07,
          0.07,
          0.0725,
          0.0725,
          0.0775,
          0.0775,
          0.07833333333333334,
          0.07833333333333334,
          0.07916666666666666,
          0.07916666666666666,
          0.08,
          0.08,
          0.08083333333333333,
          0.08083333333333333,
          0.08166666666666667,
          0.08166666666666667,
          0.08333333333333333,
          0.08333333333333333,
          0.085,
          0.085,
          0.09166666666666666,
          0.09166666666666666,
          0.1,
          0.1,
          0.10166666666666667,
          0.10166666666666667,
          0.105,
          0.105,
          0.11,
          0.11083333333333334,
          0.11083333333333334,
          0.11166666666666666,
          0.11166666666666666,
          0.1125,
          0.11333333333333333,
          0.11583333333333333,
          0.11583333333333333,
          0.11916666666666667,
          0.12416666666666666,
          0.12416666666666666,
          0.13083333333333333,
          0.13083333333333333,
          0.13333333333333333,
          0.13333333333333333,
          0.13416666666666666,
          0.13416666666666666,
          0.135,
          0.135,
          0.13666666666666666,
          0.14083333333333334,
          0.14083333333333334,
          0.15166666666666667,
          0.15166666666666667,
          0.1525,
          0.1525,
          0.15333333333333332,
          0.155,
          0.155,
          0.16,
          0.16,
          0.16166666666666665,
          0.16333333333333333,
          0.16416666666666666,
          0.16416666666666666,
          0.165,
          0.165,
          0.16583333333333333,
          0.16583333333333333,
          0.16916666666666666,
          0.17,
          0.175,
          0.175,
          0.17583333333333334,
          0.17583333333333334,
          0.1775,
          0.1775,
          0.17833333333333334,
          0.17833333333333334,
          0.18,
          0.18,
          0.18166666666666667,
          0.18166666666666667,
          0.18833333333333332,
          0.18833333333333332,
          0.19083333333333333,
          0.1925,
          0.1925,
          0.195,
          0.195,
          0.20083333333333334,
          0.20083333333333334,
          0.205,
          0.20666666666666667,
          0.20666666666666667,
          0.20833333333333334,
          0.20833333333333334,
          0.215,
          0.22,
          0.22166666666666668,
          0.22166666666666668,
          0.22333333333333333,
          0.225,
          0.2275,
          0.2275,
          0.23916666666666667,
          0.23916666666666667,
          0.24166666666666667,
          0.24333333333333335,
          0.25,
          0.25,
          0.25166666666666665,
          0.25166666666666665,
          0.2525,
          0.2525,
          0.25416666666666665,
          0.25416666666666665,
          0.255,
          0.255,
          0.25583333333333336,
          0.2575,
          0.26,
          0.26,
          0.265,
          0.265,
          0.26916666666666667,
          0.26916666666666667,
          0.27,
          0.27,
          0.27166666666666667,
          0.27166666666666667,
          0.2808333333333333,
          0.2808333333333333,
          0.29333333333333333,
          0.29333333333333333,
          0.29583333333333334,
          0.29583333333333334,
          0.3025,
          0.30416666666666664,
          0.315,
          0.31916666666666665,
          0.3225,
          0.3225,
          0.3233333333333333,
          0.3233333333333333,
          0.33,
          0.33,
          0.3308333333333333,
          0.33166666666666667,
          0.3325,
          0.3325,
          0.3375,
          0.3375,
          0.3408333333333333,
          0.3408333333333333,
          0.3591666666666667,
          0.3591666666666667,
          0.37583333333333335,
          0.37583333333333335,
          0.37666666666666665,
          0.37666666666666665,
          0.38083333333333336,
          0.38083333333333336,
          0.3908333333333333,
          0.395,
          0.4008333333333333,
          0.4008333333333333,
          0.4025,
          0.4025,
          0.405,
          0.4075,
          0.41,
          0.41,
          0.4166666666666667,
          0.41833333333333333,
          0.4216666666666667,
          0.42333333333333334,
          0.4266666666666667,
          0.4266666666666667,
          0.43,
          0.43,
          0.4325,
          0.4325,
          0.445,
          0.4525,
          0.45916666666666667,
          0.45916666666666667,
          0.4691666666666667,
          0.475,
          0.47583333333333333,
          0.47583333333333333,
          0.48083333333333333,
          0.48083333333333333,
          0.4841666666666667,
          0.48583333333333334,
          0.49,
          0.49416666666666664,
          0.5008333333333334,
          0.5008333333333334,
          0.5058333333333334,
          0.5058333333333334,
          0.5075,
          0.5075,
          0.5208333333333334,
          0.5241666666666667,
          0.5258333333333334,
          0.5258333333333334,
          0.5333333333333333,
          0.5333333333333333,
          0.535,
          0.535,
          0.5366666666666666,
          0.5366666666666666,
          0.54,
          0.54,
          0.5458333333333333,
          0.5508333333333333,
          0.555,
          0.555,
          0.5566666666666666,
          0.5566666666666666,
          0.5575,
          0.5575,
          0.56,
          0.56,
          0.5633333333333334,
          0.565,
          0.5683333333333334,
          0.57,
          0.5708333333333333,
          0.5808333333333333,
          0.595,
          0.595,
          0.5958333333333333,
          0.5975,
          0.6041666666666666,
          0.6116666666666667,
          0.6125,
          0.6125,
          0.6333333333333333,
          0.6333333333333333,
          0.6341666666666667,
          0.6383333333333333,
          0.6508333333333334,
          0.6525,
          0.6683333333333333,
          0.6733333333333333,
          0.68,
          0.68,
          0.69,
          0.69,
          0.6966666666666667,
          0.7025,
          0.7316666666666667,
          0.7391666666666666,
          0.745,
          0.745,
          0.7541666666666667,
          0.7541666666666667,
          0.7575,
          0.7575,
          0.7691666666666667,
          0.7766666666666666,
          0.7791666666666667,
          0.7791666666666667,
          0.8016666666666666,
          0.8016666666666666,
          0.8041666666666667,
          0.8058333333333333,
          0.81,
          0.815,
          0.8208333333333333,
          0.8208333333333333,
          0.8483333333333334,
          0.8533333333333334,
          0.89,
          0.8916666666666667,
          0.8958333333333334,
          0.8983333333333333,
          0.915,
          0.95,
          0.9516666666666667,
          0.9525,
          0.9608333333333333,
          0.9858333333333333,
          0.9875,
          0.9908333333333333,
          0.9933333333333333,
          0.995,
          1
         ],
         "y": [
          0,
          0.0033333333333333335,
          0.023333333333333334,
          0.03333333333333333,
          0.04,
          0.04666666666666667,
          0.07,
          0.08333333333333333,
          0.08333333333333333,
          0.09,
          0.09333333333333334,
          0.10333333333333333,
          0.10666666666666667,
          0.10666666666666667,
          0.11333333333333333,
          0.11666666666666667,
          0.12666666666666668,
          0.13666666666666666,
          0.13666666666666666,
          0.15,
          0.15666666666666668,
          0.17333333333333334,
          0.17333333333333334,
          0.18333333333333332,
          0.19,
          0.19,
          0.2,
          0.20666666666666667,
          0.22333333333333333,
          0.23,
          0.23,
          0.26,
          0.26,
          0.2833333333333333,
          0.2833333333333333,
          0.29,
          0.29,
          0.32,
          0.32,
          0.32666666666666666,
          0.32666666666666666,
          0.33666666666666667,
          0.33666666666666667,
          0.35,
          0.35333333333333333,
          0.37333333333333335,
          0.37333333333333335,
          0.37666666666666665,
          0.38333333333333336,
          0.39,
          0.39,
          0.4066666666666667,
          0.4066666666666667,
          0.41,
          0.41,
          0.41333333333333333,
          0.41333333333333333,
          0.42333333333333334,
          0.42333333333333334,
          0.4266666666666667,
          0.43,
          0.43,
          0.43333333333333335,
          0.43333333333333335,
          0.43666666666666665,
          0.43666666666666665,
          0.44,
          0.44,
          0.44666666666666666,
          0.44666666666666666,
          0.45,
          0.45,
          0.45666666666666667,
          0.46,
          0.4666666666666667,
          0.4666666666666667,
          0.47,
          0.47,
          0.47333333333333333,
          0.47333333333333333,
          0.4766666666666667,
          0.4766666666666667,
          0.48333333333333334,
          0.48333333333333334,
          0.49,
          0.49,
          0.49333333333333335,
          0.49333333333333335,
          0.49666666666666665,
          0.49666666666666665,
          0.5,
          0.5,
          0.5033333333333333,
          0.5033333333333333,
          0.5066666666666667,
          0.5066666666666667,
          0.51,
          0.51,
          0.5133333333333333,
          0.5133333333333333,
          0.5166666666666667,
          0.5166666666666667,
          0.52,
          0.5266666666666666,
          0.53,
          0.53,
          0.5333333333333333,
          0.5333333333333333,
          0.54,
          0.54,
          0.5433333333333333,
          0.5433333333333333,
          0.5466666666666666,
          0.5466666666666666,
          0.5533333333333333,
          0.5533333333333333,
          0.5566666666666666,
          0.5566666666666666,
          0.56,
          0.56,
          0.5666666666666667,
          0.5666666666666667,
          0.57,
          0.57,
          0.5733333333333334,
          0.5733333333333334,
          0.58,
          0.58,
          0.5833333333333334,
          0.5833333333333334,
          0.5933333333333334,
          0.5933333333333334,
          0.6,
          0.6,
          0.6066666666666667,
          0.6066666666666667,
          0.61,
          0.61,
          0.6166666666666667,
          0.6166666666666667,
          0.62,
          0.62,
          0.6266666666666667,
          0.6266666666666667,
          0.63,
          0.63,
          0.6333333333333333,
          0.6333333333333333,
          0.6366666666666667,
          0.6366666666666667,
          0.64,
          0.6433333333333333,
          0.6433333333333333,
          0.6466666666666666,
          0.6466666666666666,
          0.65,
          0.65,
          0.6533333333333333,
          0.6533333333333333,
          0.6533333333333333,
          0.6566666666666666,
          0.6566666666666666,
          0.66,
          0.66,
          0.6633333333333333,
          0.6633333333333333,
          0.6666666666666666,
          0.6666666666666666,
          0.6733333333333333,
          0.6733333333333333,
          0.6733333333333333,
          0.6766666666666666,
          0.6766666666666666,
          0.68,
          0.68,
          0.6833333333333333,
          0.6833333333333333,
          0.69,
          0.6933333333333334,
          0.6933333333333334,
          0.6966666666666667,
          0.6966666666666667,
          0.7,
          0.7,
          0.7033333333333334,
          0.7033333333333334,
          0.7066666666666667,
          0.7066666666666667,
          0.71,
          0.71,
          0.7133333333333334,
          0.7133333333333334,
          0.7166666666666667,
          0.7166666666666667,
          0.72,
          0.72,
          0.7233333333333334,
          0.7233333333333334,
          0.7266666666666667,
          0.7266666666666667,
          0.73,
          0.73,
          0.7333333333333333,
          0.7333333333333333,
          0.74,
          0.74,
          0.74,
          0.7433333333333333,
          0.7433333333333333,
          0.7466666666666667,
          0.7466666666666667,
          0.75,
          0.75,
          0.75,
          0.7533333333333333,
          0.7533333333333333,
          0.76,
          0.76,
          0.7633333333333333,
          0.7633333333333333,
          0.7666666666666667,
          0.7666666666666667,
          0.77,
          0.77,
          0.7733333333333333,
          0.7733333333333333,
          0.7766666666666666,
          0.7766666666666666,
          0.7766666666666666,
          0.7766666666666666,
          0.78,
          0.78,
          0.7833333333333333,
          0.7833333333333333,
          0.7866666666666666,
          0.7866666666666666,
          0.79,
          0.79,
          0.7933333333333333,
          0.7933333333333333,
          0.7933333333333333,
          0.7933333333333333,
          0.7966666666666666,
          0.7966666666666666,
          0.8,
          0.8,
          0.8066666666666666,
          0.8066666666666666,
          0.81,
          0.81,
          0.8133333333333334,
          0.8133333333333334,
          0.8166666666666667,
          0.8166666666666667,
          0.82,
          0.82,
          0.8233333333333334,
          0.8233333333333334,
          0.8233333333333334,
          0.8233333333333334,
          0.8233333333333334,
          0.8233333333333334,
          0.8266666666666667,
          0.8266666666666667,
          0.83,
          0.83,
          0.8333333333333334,
          0.8366666666666667,
          0.8433333333333334,
          0.8433333333333334,
          0.8466666666666667,
          0.8466666666666667,
          0.85,
          0.85,
          0.8533333333333334,
          0.8533333333333334,
          0.8566666666666667,
          0.8566666666666667,
          0.86,
          0.86,
          0.8633333333333333,
          0.8633333333333333,
          0.8666666666666667,
          0.8666666666666667,
          0.8666666666666667,
          0.8666666666666667,
          0.87,
          0.87,
          0.8733333333333333,
          0.8733333333333333,
          0.8733333333333333,
          0.8733333333333333,
          0.88,
          0.88,
          0.88,
          0.88,
          0.88,
          0.88,
          0.8833333333333333,
          0.8833333333333333,
          0.8866666666666667,
          0.8866666666666667,
          0.89,
          0.89,
          0.8933333333333333,
          0.8933333333333333,
          0.9,
          0.9,
          0.9033333333333333,
          0.9033333333333333,
          0.9066666666666666,
          0.9066666666666666,
          0.91,
          0.91,
          0.91,
          0.91,
          0.9133333333333333,
          0.9133333333333333,
          0.9166666666666666,
          0.9166666666666666,
          0.92,
          0.92,
          0.9233333333333333,
          0.9233333333333333,
          0.9233333333333333,
          0.9233333333333333,
          0.9266666666666666,
          0.9266666666666666,
          0.93,
          0.93,
          0.9333333333333333,
          0.9333333333333333,
          0.9366666666666666,
          0.9366666666666666,
          0.94,
          0.94,
          0.94,
          0.94,
          0.9433333333333334,
          0.9433333333333334,
          0.95,
          0.95,
          0.9533333333333334,
          0.9533333333333334,
          0.9566666666666667,
          0.9566666666666667,
          0.9566666666666667,
          0.9566666666666667,
          0.9566666666666667,
          0.9566666666666667,
          0.9566666666666667,
          0.9566666666666667,
          0.96,
          0.96,
          0.96,
          0.96,
          0.96,
          0.96,
          0.9633333333333334,
          0.9633333333333334,
          0.9666666666666667,
          0.9666666666666667,
          0.97,
          0.97,
          0.97,
          0.97,
          0.97,
          0.97,
          0.9733333333333334,
          0.9733333333333334,
          0.9766666666666667,
          0.9766666666666667,
          0.9766666666666667,
          0.9766666666666667,
          0.9766666666666667,
          0.9766666666666667,
          0.98,
          0.98,
          0.9833333333333333,
          0.9833333333333333,
          0.9866666666666667,
          0.9866666666666667,
          0.9866666666666667,
          0.9866666666666667,
          0.99,
          0.99,
          0.9933333333333333,
          0.9933333333333333,
          0.9933333333333333,
          0.9933333333333333,
          0.9933333333333333,
          0.9933333333333333,
          0.9966666666666667,
          0.9966666666666667,
          1,
          1,
          1,
          1,
          1,
          1,
          1,
          1,
          1,
          1,
          1,
          1,
          1,
          1,
          1,
          1
         ]
        },
        {
         "line": {
          "color": "black",
          "dash": "dash"
         },
         "mode": "lines",
         "name": "No skill",
         "type": "scatter",
         "x": [
          0,
          1
         ],
         "y": [
          0,
          1
         ]
        }
       ],
       "layout": {
        "height": 750,
        "template": {
         "data": {
          "bar": [
           {
            "error_x": {
             "color": "#2a3f5f"
            },
            "error_y": {
             "color": "#2a3f5f"
            },
            "marker": {
             "line": {
              "color": "white",
              "width": 0.5
             },
             "pattern": {
              "fillmode": "overlay",
              "size": 10,
              "solidity": 0.2
             }
            },
            "type": "bar"
           }
          ],
          "barpolar": [
           {
            "marker": {
             "line": {
              "color": "white",
              "width": 0.5
             },
             "pattern": {
              "fillmode": "overlay",
              "size": 10,
              "solidity": 0.2
             }
            },
            "type": "barpolar"
           }
          ],
          "carpet": [
           {
            "aaxis": {
             "endlinecolor": "#2a3f5f",
             "gridcolor": "#C8D4E3",
             "linecolor": "#C8D4E3",
             "minorgridcolor": "#C8D4E3",
             "startlinecolor": "#2a3f5f"
            },
            "baxis": {
             "endlinecolor": "#2a3f5f",
             "gridcolor": "#C8D4E3",
             "linecolor": "#C8D4E3",
             "minorgridcolor": "#C8D4E3",
             "startlinecolor": "#2a3f5f"
            },
            "type": "carpet"
           }
          ],
          "choropleth": [
           {
            "colorbar": {
             "outlinewidth": 0,
             "ticks": ""
            },
            "type": "choropleth"
           }
          ],
          "contour": [
           {
            "colorbar": {
             "outlinewidth": 0,
             "ticks": ""
            },
            "colorscale": [
             [
              0,
              "#0d0887"
             ],
             [
              0.1111111111111111,
              "#46039f"
             ],
             [
              0.2222222222222222,
              "#7201a8"
             ],
             [
              0.3333333333333333,
              "#9c179e"
             ],
             [
              0.4444444444444444,
              "#bd3786"
             ],
             [
              0.5555555555555556,
              "#d8576b"
             ],
             [
              0.6666666666666666,
              "#ed7953"
             ],
             [
              0.7777777777777778,
              "#fb9f3a"
             ],
             [
              0.8888888888888888,
              "#fdca26"
             ],
             [
              1,
              "#f0f921"
             ]
            ],
            "type": "contour"
           }
          ],
          "contourcarpet": [
           {
            "colorbar": {
             "outlinewidth": 0,
             "ticks": ""
            },
            "type": "contourcarpet"
           }
          ],
          "heatmap": [
           {
            "colorbar": {
             "outlinewidth": 0,
             "ticks": ""
            },
            "colorscale": [
             [
              0,
              "#0d0887"
             ],
             [
              0.1111111111111111,
              "#46039f"
             ],
             [
              0.2222222222222222,
              "#7201a8"
             ],
             [
              0.3333333333333333,
              "#9c179e"
             ],
             [
              0.4444444444444444,
              "#bd3786"
             ],
             [
              0.5555555555555556,
              "#d8576b"
             ],
             [
              0.6666666666666666,
              "#ed7953"
             ],
             [
              0.7777777777777778,
              "#fb9f3a"
             ],
             [
              0.8888888888888888,
              "#fdca26"
             ],
             [
              1,
              "#f0f921"
             ]
            ],
            "type": "heatmap"
           }
          ],
          "heatmapgl": [
           {
            "colorbar": {
             "outlinewidth": 0,
             "ticks": ""
            },
            "colorscale": [
             [
              0,
              "#0d0887"
             ],
             [
              0.1111111111111111,
              "#46039f"
             ],
             [
              0.2222222222222222,
              "#7201a8"
             ],
             [
              0.3333333333333333,
              "#9c179e"
             ],
             [
              0.4444444444444444,
              "#bd3786"
             ],
             [
              0.5555555555555556,
              "#d8576b"
             ],
             [
              0.6666666666666666,
              "#ed7953"
             ],
             [
              0.7777777777777778,
              "#fb9f3a"
             ],
             [
              0.8888888888888888,
              "#fdca26"
             ],
             [
              1,
              "#f0f921"
             ]
            ],
            "type": "heatmapgl"
           }
          ],
          "histogram": [
           {
            "marker": {
             "pattern": {
              "fillmode": "overlay",
              "size": 10,
              "solidity": 0.2
             }
            },
            "type": "histogram"
           }
          ],
          "histogram2d": [
           {
            "colorbar": {
             "outlinewidth": 0,
             "ticks": ""
            },
            "colorscale": [
             [
              0,
              "#0d0887"
             ],
             [
              0.1111111111111111,
              "#46039f"
             ],
             [
              0.2222222222222222,
              "#7201a8"
             ],
             [
              0.3333333333333333,
              "#9c179e"
             ],
             [
              0.4444444444444444,
              "#bd3786"
             ],
             [
              0.5555555555555556,
              "#d8576b"
             ],
             [
              0.6666666666666666,
              "#ed7953"
             ],
             [
              0.7777777777777778,
              "#fb9f3a"
             ],
             [
              0.8888888888888888,
              "#fdca26"
             ],
             [
              1,
              "#f0f921"
             ]
            ],
            "type": "histogram2d"
           }
          ],
          "histogram2dcontour": [
           {
            "colorbar": {
             "outlinewidth": 0,
             "ticks": ""
            },
            "colorscale": [
             [
              0,
              "#0d0887"
             ],
             [
              0.1111111111111111,
              "#46039f"
             ],
             [
              0.2222222222222222,
              "#7201a8"
             ],
             [
              0.3333333333333333,
              "#9c179e"
             ],
             [
              0.4444444444444444,
              "#bd3786"
             ],
             [
              0.5555555555555556,
              "#d8576b"
             ],
             [
              0.6666666666666666,
              "#ed7953"
             ],
             [
              0.7777777777777778,
              "#fb9f3a"
             ],
             [
              0.8888888888888888,
              "#fdca26"
             ],
             [
              1,
              "#f0f921"
             ]
            ],
            "type": "histogram2dcontour"
           }
          ],
          "mesh3d": [
           {
            "colorbar": {
             "outlinewidth": 0,
             "ticks": ""
            },
            "type": "mesh3d"
           }
          ],
          "parcoords": [
           {
            "line": {
             "colorbar": {
              "outlinewidth": 0,
              "ticks": ""
             }
            },
            "type": "parcoords"
           }
          ],
          "pie": [
           {
            "automargin": true,
            "type": "pie"
           }
          ],
          "scatter": [
           {
            "fillpattern": {
             "fillmode": "overlay",
             "size": 10,
             "solidity": 0.2
            },
            "type": "scatter"
           }
          ],
          "scatter3d": [
           {
            "line": {
             "colorbar": {
              "outlinewidth": 0,
              "ticks": ""
             }
            },
            "marker": {
             "colorbar": {
              "outlinewidth": 0,
              "ticks": ""
             }
            },
            "type": "scatter3d"
           }
          ],
          "scattercarpet": [
           {
            "marker": {
             "colorbar": {
              "outlinewidth": 0,
              "ticks": ""
             }
            },
            "type": "scattercarpet"
           }
          ],
          "scattergeo": [
           {
            "marker": {
             "colorbar": {
              "outlinewidth": 0,
              "ticks": ""
             }
            },
            "type": "scattergeo"
           }
          ],
          "scattergl": [
           {
            "marker": {
             "colorbar": {
              "outlinewidth": 0,
              "ticks": ""
             }
            },
            "type": "scattergl"
           }
          ],
          "scattermapbox": [
           {
            "marker": {
             "colorbar": {
              "outlinewidth": 0,
              "ticks": ""
             }
            },
            "type": "scattermapbox"
           }
          ],
          "scatterpolar": [
           {
            "marker": {
             "colorbar": {
              "outlinewidth": 0,
              "ticks": ""
             }
            },
            "type": "scatterpolar"
           }
          ],
          "scatterpolargl": [
           {
            "marker": {
             "colorbar": {
              "outlinewidth": 0,
              "ticks": ""
             }
            },
            "type": "scatterpolargl"
           }
          ],
          "scatterternary": [
           {
            "marker": {
             "colorbar": {
              "outlinewidth": 0,
              "ticks": ""
             }
            },
            "type": "scatterternary"
           }
          ],
          "surface": [
           {
            "colorbar": {
             "outlinewidth": 0,
             "ticks": ""
            },
            "colorscale": [
             [
              0,
              "#0d0887"
             ],
             [
              0.1111111111111111,
              "#46039f"
             ],
             [
              0.2222222222222222,
              "#7201a8"
             ],
             [
              0.3333333333333333,
              "#9c179e"
             ],
             [
              0.4444444444444444,
              "#bd3786"
             ],
             [
              0.5555555555555556,
              "#d8576b"
             ],
             [
              0.6666666666666666,
              "#ed7953"
             ],
             [
              0.7777777777777778,
              "#fb9f3a"
             ],
             [
              0.8888888888888888,
              "#fdca26"
             ],
             [
              1,
              "#f0f921"
             ]
            ],
            "type": "surface"
           }
          ],
          "table": [
           {
            "cells": {
             "fill": {
              "color": "#EBF0F8"
             },
             "line": {
              "color": "white"
             }
            },
            "header": {
             "fill": {
              "color": "#C8D4E3"
             },
             "line": {
              "color": "white"
             }
            },
            "type": "table"
           }
          ]
         },
         "layout": {
          "annotationdefaults": {
           "arrowcolor": "#2a3f5f",
           "arrowhead": 0,
           "arrowwidth": 1
          },
          "autotypenumbers": "strict",
          "coloraxis": {
           "colorbar": {
            "outlinewidth": 0,
            "ticks": ""
           }
          },
          "colorscale": {
           "diverging": [
            [
             0,
             "#8e0152"
            ],
            [
             0.1,
             "#c51b7d"
            ],
            [
             0.2,
             "#de77ae"
            ],
            [
             0.3,
             "#f1b6da"
            ],
            [
             0.4,
             "#fde0ef"
            ],
            [
             0.5,
             "#f7f7f7"
            ],
            [
             0.6,
             "#e6f5d0"
            ],
            [
             0.7,
             "#b8e186"
            ],
            [
             0.8,
             "#7fbc41"
            ],
            [
             0.9,
             "#4d9221"
            ],
            [
             1,
             "#276419"
            ]
           ],
           "sequential": [
            [
             0,
             "#0d0887"
            ],
            [
             0.1111111111111111,
             "#46039f"
            ],
            [
             0.2222222222222222,
             "#7201a8"
            ],
            [
             0.3333333333333333,
             "#9c179e"
            ],
            [
             0.4444444444444444,
             "#bd3786"
            ],
            [
             0.5555555555555556,
             "#d8576b"
            ],
            [
             0.6666666666666666,
             "#ed7953"
            ],
            [
             0.7777777777777778,
             "#fb9f3a"
            ],
            [
             0.8888888888888888,
             "#fdca26"
            ],
            [
             1,
             "#f0f921"
            ]
           ],
           "sequentialminus": [
            [
             0,
             "#0d0887"
            ],
            [
             0.1111111111111111,
             "#46039f"
            ],
            [
             0.2222222222222222,
             "#7201a8"
            ],
            [
             0.3333333333333333,
             "#9c179e"
            ],
            [
             0.4444444444444444,
             "#bd3786"
            ],
            [
             0.5555555555555556,
             "#d8576b"
            ],
            [
             0.6666666666666666,
             "#ed7953"
            ],
            [
             0.7777777777777778,
             "#fb9f3a"
            ],
            [
             0.8888888888888888,
             "#fdca26"
            ],
            [
             1,
             "#f0f921"
            ]
           ]
          },
          "colorway": [
           "#636efa",
           "#EF553B",
           "#00cc96",
           "#ab63fa",
           "#FFA15A",
           "#19d3f3",
           "#FF6692",
           "#B6E880",
           "#FF97FF",
           "#FECB52"
          ],
          "font": {
           "color": "#2a3f5f"
          },
          "geo": {
           "bgcolor": "white",
           "lakecolor": "white",
           "landcolor": "white",
           "showlakes": true,
           "showland": true,
           "subunitcolor": "#C8D4E3"
          },
          "hoverlabel": {
           "align": "left"
          },
          "hovermode": "closest",
          "mapbox": {
           "style": "light"
          },
          "paper_bgcolor": "white",
          "plot_bgcolor": "white",
          "polar": {
           "angularaxis": {
            "gridcolor": "#EBF0F8",
            "linecolor": "#EBF0F8",
            "ticks": ""
           },
           "bgcolor": "white",
           "radialaxis": {
            "gridcolor": "#EBF0F8",
            "linecolor": "#EBF0F8",
            "ticks": ""
           }
          },
          "scene": {
           "xaxis": {
            "backgroundcolor": "white",
            "gridcolor": "#DFE8F3",
            "gridwidth": 2,
            "linecolor": "#EBF0F8",
            "showbackground": true,
            "ticks": "",
            "zerolinecolor": "#EBF0F8"
           },
           "yaxis": {
            "backgroundcolor": "white",
            "gridcolor": "#DFE8F3",
            "gridwidth": 2,
            "linecolor": "#EBF0F8",
            "showbackground": true,
            "ticks": "",
            "zerolinecolor": "#EBF0F8"
           },
           "zaxis": {
            "backgroundcolor": "white",
            "gridcolor": "#DFE8F3",
            "gridwidth": 2,
            "linecolor": "#EBF0F8",
            "showbackground": true,
            "ticks": "",
            "zerolinecolor": "#EBF0F8"
           }
          },
          "shapedefaults": {
           "line": {
            "color": "#2a3f5f"
           }
          },
          "ternary": {
           "aaxis": {
            "gridcolor": "#DFE8F3",
            "linecolor": "#A2B1C6",
            "ticks": ""
           },
           "baxis": {
            "gridcolor": "#DFE8F3",
            "linecolor": "#A2B1C6",
            "ticks": ""
           },
           "bgcolor": "white",
           "caxis": {
            "gridcolor": "#DFE8F3",
            "linecolor": "#A2B1C6",
            "ticks": ""
           }
          },
          "title": {
           "x": 0.05
          },
          "xaxis": {
           "automargin": true,
           "gridcolor": "#EBF0F8",
           "linecolor": "#EBF0F8",
           "ticks": "",
           "title": {
            "standoff": 15
           },
           "zerolinecolor": "#EBF0F8",
           "zerolinewidth": 2
          },
          "yaxis": {
           "automargin": true,
           "gridcolor": "#EBF0F8",
           "linecolor": "#EBF0F8",
           "ticks": "",
           "title": {
            "standoff": 15
           },
           "zerolinecolor": "#EBF0F8",
           "zerolinewidth": 2
          }
         }
        },
        "title": {
         "text": "ROC for the best model, no sampling"
        },
        "width": 1000,
        "xaxis": {
         "title": {
          "text": "False positive rate"
         }
        },
        "yaxis": {
         "title": {
          "text": "True positive rate"
         }
        }
       }
      }
     },
     "metadata": {},
     "output_type": "display_data"
    }
   ],
   "source": [
    "print_best_params_and_metrics(study_no_sampling.best_params, metrics)\n",
    "\n",
    "fig = optuna.visualization.plot_optimization_history(study_no_sampling)\n",
    "fig.update_layout(template='plotly_white', width=FIG_WIDTH, height=FIG_HEIGHT)\n",
    "fig.show()\n",
    "\n",
    "fig = optuna.visualization.plot_slice(study_no_sampling)\n",
    "fig.update_layout(template='plotly_white', width=FIG_WIDTH, height=FIG_HEIGHT)\n",
    "fig.update_xaxes(tickangle=-90)\n",
    "fig.show()\n",
    "\n",
    "fig = plot_roc_auc('no_sampling', best_model, 'ROC for the best model, no sampling')\n",
    "fig.show()"
   ]
  },
  {
   "attachments": {},
   "cell_type": "markdown",
   "metadata": {},
   "source": [
    "## Датасет с upsampling\n",
    "\n",
    "Возьмем датасет c `upsampling` и посмотрим на качество моделей."
   ]
  },
  {
   "cell_type": "code",
   "execution_count": 25,
   "metadata": {},
   "outputs": [],
   "source": [
    "study_upsampled = get_study('upsampled', n_trials=10)\n",
    "\n",
    "metrics, best_model = evaluate_best_model('upsampled', study_upsampled)"
   ]
  },
  {
   "attachments": {},
   "cell_type": "markdown",
   "metadata": {},
   "source": [
    "Визуализируем результаты."
   ]
  },
  {
   "cell_type": "code",
   "execution_count": 26,
   "metadata": {},
   "outputs": [
    {
     "name": "stdout",
     "output_type": "stream",
     "text": [
      "The best model parameters are:\n",
      "classifier: RandomForest\n",
      "rf_max_depth: 18\n",
      "rf_n_estimators: 158\n",
      "\n",
      "The performance metrics of the model are:\n",
      "valid_f1: 0.9445\n",
      "valid_roc_auc: 0.9434\n",
      "test_f1: 0.9452\n",
      "test_roc_auc: 0.9435\n"
     ]
    },
    {
     "data": {
      "application/vnd.plotly.v1+json": {
       "config": {
        "plotlyServerURL": "https://plot.ly"
       },
       "data": [
        {
         "mode": "markers",
         "name": "Objective Value",
         "type": "scatter",
         "x": [
          0,
          1,
          2,
          3,
          4,
          5,
          6,
          7,
          8,
          9
         ],
         "y": [
          0.919,
          0.705,
          0.919,
          0.702,
          0.905,
          0.709,
          0.918,
          0.944,
          0.912,
          0.771
         ]
        },
        {
         "name": "Best Value",
         "type": "scatter",
         "x": [
          0,
          1,
          2,
          3,
          4,
          5,
          6,
          7,
          8,
          9
         ],
         "y": [
          0.919,
          0.919,
          0.919,
          0.919,
          0.919,
          0.919,
          0.919,
          0.944,
          0.944,
          0.944
         ]
        }
       ],
       "layout": {
        "height": 500,
        "template": {
         "data": {
          "bar": [
           {
            "error_x": {
             "color": "#2a3f5f"
            },
            "error_y": {
             "color": "#2a3f5f"
            },
            "marker": {
             "line": {
              "color": "white",
              "width": 0.5
             },
             "pattern": {
              "fillmode": "overlay",
              "size": 10,
              "solidity": 0.2
             }
            },
            "type": "bar"
           }
          ],
          "barpolar": [
           {
            "marker": {
             "line": {
              "color": "white",
              "width": 0.5
             },
             "pattern": {
              "fillmode": "overlay",
              "size": 10,
              "solidity": 0.2
             }
            },
            "type": "barpolar"
           }
          ],
          "carpet": [
           {
            "aaxis": {
             "endlinecolor": "#2a3f5f",
             "gridcolor": "#C8D4E3",
             "linecolor": "#C8D4E3",
             "minorgridcolor": "#C8D4E3",
             "startlinecolor": "#2a3f5f"
            },
            "baxis": {
             "endlinecolor": "#2a3f5f",
             "gridcolor": "#C8D4E3",
             "linecolor": "#C8D4E3",
             "minorgridcolor": "#C8D4E3",
             "startlinecolor": "#2a3f5f"
            },
            "type": "carpet"
           }
          ],
          "choropleth": [
           {
            "colorbar": {
             "outlinewidth": 0,
             "ticks": ""
            },
            "type": "choropleth"
           }
          ],
          "contour": [
           {
            "colorbar": {
             "outlinewidth": 0,
             "ticks": ""
            },
            "colorscale": [
             [
              0,
              "#0d0887"
             ],
             [
              0.1111111111111111,
              "#46039f"
             ],
             [
              0.2222222222222222,
              "#7201a8"
             ],
             [
              0.3333333333333333,
              "#9c179e"
             ],
             [
              0.4444444444444444,
              "#bd3786"
             ],
             [
              0.5555555555555556,
              "#d8576b"
             ],
             [
              0.6666666666666666,
              "#ed7953"
             ],
             [
              0.7777777777777778,
              "#fb9f3a"
             ],
             [
              0.8888888888888888,
              "#fdca26"
             ],
             [
              1,
              "#f0f921"
             ]
            ],
            "type": "contour"
           }
          ],
          "contourcarpet": [
           {
            "colorbar": {
             "outlinewidth": 0,
             "ticks": ""
            },
            "type": "contourcarpet"
           }
          ],
          "heatmap": [
           {
            "colorbar": {
             "outlinewidth": 0,
             "ticks": ""
            },
            "colorscale": [
             [
              0,
              "#0d0887"
             ],
             [
              0.1111111111111111,
              "#46039f"
             ],
             [
              0.2222222222222222,
              "#7201a8"
             ],
             [
              0.3333333333333333,
              "#9c179e"
             ],
             [
              0.4444444444444444,
              "#bd3786"
             ],
             [
              0.5555555555555556,
              "#d8576b"
             ],
             [
              0.6666666666666666,
              "#ed7953"
             ],
             [
              0.7777777777777778,
              "#fb9f3a"
             ],
             [
              0.8888888888888888,
              "#fdca26"
             ],
             [
              1,
              "#f0f921"
             ]
            ],
            "type": "heatmap"
           }
          ],
          "heatmapgl": [
           {
            "colorbar": {
             "outlinewidth": 0,
             "ticks": ""
            },
            "colorscale": [
             [
              0,
              "#0d0887"
             ],
             [
              0.1111111111111111,
              "#46039f"
             ],
             [
              0.2222222222222222,
              "#7201a8"
             ],
             [
              0.3333333333333333,
              "#9c179e"
             ],
             [
              0.4444444444444444,
              "#bd3786"
             ],
             [
              0.5555555555555556,
              "#d8576b"
             ],
             [
              0.6666666666666666,
              "#ed7953"
             ],
             [
              0.7777777777777778,
              "#fb9f3a"
             ],
             [
              0.8888888888888888,
              "#fdca26"
             ],
             [
              1,
              "#f0f921"
             ]
            ],
            "type": "heatmapgl"
           }
          ],
          "histogram": [
           {
            "marker": {
             "pattern": {
              "fillmode": "overlay",
              "size": 10,
              "solidity": 0.2
             }
            },
            "type": "histogram"
           }
          ],
          "histogram2d": [
           {
            "colorbar": {
             "outlinewidth": 0,
             "ticks": ""
            },
            "colorscale": [
             [
              0,
              "#0d0887"
             ],
             [
              0.1111111111111111,
              "#46039f"
             ],
             [
              0.2222222222222222,
              "#7201a8"
             ],
             [
              0.3333333333333333,
              "#9c179e"
             ],
             [
              0.4444444444444444,
              "#bd3786"
             ],
             [
              0.5555555555555556,
              "#d8576b"
             ],
             [
              0.6666666666666666,
              "#ed7953"
             ],
             [
              0.7777777777777778,
              "#fb9f3a"
             ],
             [
              0.8888888888888888,
              "#fdca26"
             ],
             [
              1,
              "#f0f921"
             ]
            ],
            "type": "histogram2d"
           }
          ],
          "histogram2dcontour": [
           {
            "colorbar": {
             "outlinewidth": 0,
             "ticks": ""
            },
            "colorscale": [
             [
              0,
              "#0d0887"
             ],
             [
              0.1111111111111111,
              "#46039f"
             ],
             [
              0.2222222222222222,
              "#7201a8"
             ],
             [
              0.3333333333333333,
              "#9c179e"
             ],
             [
              0.4444444444444444,
              "#bd3786"
             ],
             [
              0.5555555555555556,
              "#d8576b"
             ],
             [
              0.6666666666666666,
              "#ed7953"
             ],
             [
              0.7777777777777778,
              "#fb9f3a"
             ],
             [
              0.8888888888888888,
              "#fdca26"
             ],
             [
              1,
              "#f0f921"
             ]
            ],
            "type": "histogram2dcontour"
           }
          ],
          "mesh3d": [
           {
            "colorbar": {
             "outlinewidth": 0,
             "ticks": ""
            },
            "type": "mesh3d"
           }
          ],
          "parcoords": [
           {
            "line": {
             "colorbar": {
              "outlinewidth": 0,
              "ticks": ""
             }
            },
            "type": "parcoords"
           }
          ],
          "pie": [
           {
            "automargin": true,
            "type": "pie"
           }
          ],
          "scatter": [
           {
            "fillpattern": {
             "fillmode": "overlay",
             "size": 10,
             "solidity": 0.2
            },
            "type": "scatter"
           }
          ],
          "scatter3d": [
           {
            "line": {
             "colorbar": {
              "outlinewidth": 0,
              "ticks": ""
             }
            },
            "marker": {
             "colorbar": {
              "outlinewidth": 0,
              "ticks": ""
             }
            },
            "type": "scatter3d"
           }
          ],
          "scattercarpet": [
           {
            "marker": {
             "colorbar": {
              "outlinewidth": 0,
              "ticks": ""
             }
            },
            "type": "scattercarpet"
           }
          ],
          "scattergeo": [
           {
            "marker": {
             "colorbar": {
              "outlinewidth": 0,
              "ticks": ""
             }
            },
            "type": "scattergeo"
           }
          ],
          "scattergl": [
           {
            "marker": {
             "colorbar": {
              "outlinewidth": 0,
              "ticks": ""
             }
            },
            "type": "scattergl"
           }
          ],
          "scattermapbox": [
           {
            "marker": {
             "colorbar": {
              "outlinewidth": 0,
              "ticks": ""
             }
            },
            "type": "scattermapbox"
           }
          ],
          "scatterpolar": [
           {
            "marker": {
             "colorbar": {
              "outlinewidth": 0,
              "ticks": ""
             }
            },
            "type": "scatterpolar"
           }
          ],
          "scatterpolargl": [
           {
            "marker": {
             "colorbar": {
              "outlinewidth": 0,
              "ticks": ""
             }
            },
            "type": "scatterpolargl"
           }
          ],
          "scatterternary": [
           {
            "marker": {
             "colorbar": {
              "outlinewidth": 0,
              "ticks": ""
             }
            },
            "type": "scatterternary"
           }
          ],
          "surface": [
           {
            "colorbar": {
             "outlinewidth": 0,
             "ticks": ""
            },
            "colorscale": [
             [
              0,
              "#0d0887"
             ],
             [
              0.1111111111111111,
              "#46039f"
             ],
             [
              0.2222222222222222,
              "#7201a8"
             ],
             [
              0.3333333333333333,
              "#9c179e"
             ],
             [
              0.4444444444444444,
              "#bd3786"
             ],
             [
              0.5555555555555556,
              "#d8576b"
             ],
             [
              0.6666666666666666,
              "#ed7953"
             ],
             [
              0.7777777777777778,
              "#fb9f3a"
             ],
             [
              0.8888888888888888,
              "#fdca26"
             ],
             [
              1,
              "#f0f921"
             ]
            ],
            "type": "surface"
           }
          ],
          "table": [
           {
            "cells": {
             "fill": {
              "color": "#EBF0F8"
             },
             "line": {
              "color": "white"
             }
            },
            "header": {
             "fill": {
              "color": "#C8D4E3"
             },
             "line": {
              "color": "white"
             }
            },
            "type": "table"
           }
          ]
         },
         "layout": {
          "annotationdefaults": {
           "arrowcolor": "#2a3f5f",
           "arrowhead": 0,
           "arrowwidth": 1
          },
          "autotypenumbers": "strict",
          "coloraxis": {
           "colorbar": {
            "outlinewidth": 0,
            "ticks": ""
           }
          },
          "colorscale": {
           "diverging": [
            [
             0,
             "#8e0152"
            ],
            [
             0.1,
             "#c51b7d"
            ],
            [
             0.2,
             "#de77ae"
            ],
            [
             0.3,
             "#f1b6da"
            ],
            [
             0.4,
             "#fde0ef"
            ],
            [
             0.5,
             "#f7f7f7"
            ],
            [
             0.6,
             "#e6f5d0"
            ],
            [
             0.7,
             "#b8e186"
            ],
            [
             0.8,
             "#7fbc41"
            ],
            [
             0.9,
             "#4d9221"
            ],
            [
             1,
             "#276419"
            ]
           ],
           "sequential": [
            [
             0,
             "#0d0887"
            ],
            [
             0.1111111111111111,
             "#46039f"
            ],
            [
             0.2222222222222222,
             "#7201a8"
            ],
            [
             0.3333333333333333,
             "#9c179e"
            ],
            [
             0.4444444444444444,
             "#bd3786"
            ],
            [
             0.5555555555555556,
             "#d8576b"
            ],
            [
             0.6666666666666666,
             "#ed7953"
            ],
            [
             0.7777777777777778,
             "#fb9f3a"
            ],
            [
             0.8888888888888888,
             "#fdca26"
            ],
            [
             1,
             "#f0f921"
            ]
           ],
           "sequentialminus": [
            [
             0,
             "#0d0887"
            ],
            [
             0.1111111111111111,
             "#46039f"
            ],
            [
             0.2222222222222222,
             "#7201a8"
            ],
            [
             0.3333333333333333,
             "#9c179e"
            ],
            [
             0.4444444444444444,
             "#bd3786"
            ],
            [
             0.5555555555555556,
             "#d8576b"
            ],
            [
             0.6666666666666666,
             "#ed7953"
            ],
            [
             0.7777777777777778,
             "#fb9f3a"
            ],
            [
             0.8888888888888888,
             "#fdca26"
            ],
            [
             1,
             "#f0f921"
            ]
           ]
          },
          "colorway": [
           "#636efa",
           "#EF553B",
           "#00cc96",
           "#ab63fa",
           "#FFA15A",
           "#19d3f3",
           "#FF6692",
           "#B6E880",
           "#FF97FF",
           "#FECB52"
          ],
          "font": {
           "color": "#2a3f5f"
          },
          "geo": {
           "bgcolor": "white",
           "lakecolor": "white",
           "landcolor": "white",
           "showlakes": true,
           "showland": true,
           "subunitcolor": "#C8D4E3"
          },
          "hoverlabel": {
           "align": "left"
          },
          "hovermode": "closest",
          "mapbox": {
           "style": "light"
          },
          "paper_bgcolor": "white",
          "plot_bgcolor": "white",
          "polar": {
           "angularaxis": {
            "gridcolor": "#EBF0F8",
            "linecolor": "#EBF0F8",
            "ticks": ""
           },
           "bgcolor": "white",
           "radialaxis": {
            "gridcolor": "#EBF0F8",
            "linecolor": "#EBF0F8",
            "ticks": ""
           }
          },
          "scene": {
           "xaxis": {
            "backgroundcolor": "white",
            "gridcolor": "#DFE8F3",
            "gridwidth": 2,
            "linecolor": "#EBF0F8",
            "showbackground": true,
            "ticks": "",
            "zerolinecolor": "#EBF0F8"
           },
           "yaxis": {
            "backgroundcolor": "white",
            "gridcolor": "#DFE8F3",
            "gridwidth": 2,
            "linecolor": "#EBF0F8",
            "showbackground": true,
            "ticks": "",
            "zerolinecolor": "#EBF0F8"
           },
           "zaxis": {
            "backgroundcolor": "white",
            "gridcolor": "#DFE8F3",
            "gridwidth": 2,
            "linecolor": "#EBF0F8",
            "showbackground": true,
            "ticks": "",
            "zerolinecolor": "#EBF0F8"
           }
          },
          "shapedefaults": {
           "line": {
            "color": "#2a3f5f"
           }
          },
          "ternary": {
           "aaxis": {
            "gridcolor": "#DFE8F3",
            "linecolor": "#A2B1C6",
            "ticks": ""
           },
           "baxis": {
            "gridcolor": "#DFE8F3",
            "linecolor": "#A2B1C6",
            "ticks": ""
           },
           "bgcolor": "white",
           "caxis": {
            "gridcolor": "#DFE8F3",
            "linecolor": "#A2B1C6",
            "ticks": ""
           }
          },
          "title": {
           "x": 0.05
          },
          "xaxis": {
           "automargin": true,
           "gridcolor": "#EBF0F8",
           "linecolor": "#EBF0F8",
           "ticks": "",
           "title": {
            "standoff": 15
           },
           "zerolinecolor": "#EBF0F8",
           "zerolinewidth": 2
          },
          "yaxis": {
           "automargin": true,
           "gridcolor": "#EBF0F8",
           "linecolor": "#EBF0F8",
           "ticks": "",
           "title": {
            "standoff": 15
           },
           "zerolinecolor": "#EBF0F8",
           "zerolinewidth": 2
          }
         }
        },
        "title": {
         "text": "Optimization History Plot"
        },
        "width": 1000,
        "xaxis": {
         "title": {
          "text": "Trial"
         }
        },
        "yaxis": {
         "title": {
          "text": "Objective Value"
         }
        }
       }
      }
     },
     "metadata": {},
     "output_type": "display_data"
    },
    {
     "data": {
      "application/vnd.plotly.v1+json": {
       "config": {
        "plotlyServerURL": "https://plot.ly"
       },
       "data": [
        {
         "marker": {
          "color": [
           0,
           1,
           2,
           3,
           4,
           5,
           6,
           7,
           8,
           9
          ],
          "colorbar": {
           "title": {
            "text": "Trial"
           },
           "x": 1,
           "xpad": 40
          },
          "colorscale": [
           [
            0,
            "rgb(247,251,255)"
           ],
           [
            0.125,
            "rgb(222,235,247)"
           ],
           [
            0.25,
            "rgb(198,219,239)"
           ],
           [
            0.375,
            "rgb(158,202,225)"
           ],
           [
            0.5,
            "rgb(107,174,214)"
           ],
           [
            0.625,
            "rgb(66,146,198)"
           ],
           [
            0.75,
            "rgb(33,113,181)"
           ],
           [
            0.875,
            "rgb(8,81,156)"
           ],
           [
            1,
            "rgb(8,48,107)"
           ]
          ],
          "line": {
           "color": "Grey",
           "width": 0.5
          },
          "showscale": true
         },
         "mode": "markers",
         "showlegend": false,
         "type": "scatter",
         "x": [
          "DecisionTree",
          "LogisticRegression",
          "DecisionTree",
          "LogisticRegression",
          "DecisionTree",
          "LogisticRegression",
          "DecisionTree",
          "RandomForest",
          "DecisionTree",
          "DecisionTree"
         ],
         "xaxis": "x",
         "y": [
          0.919,
          0.705,
          0.919,
          0.702,
          0.905,
          0.709,
          0.918,
          0.944,
          0.912,
          0.771
         ],
         "yaxis": "y"
        },
        {
         "marker": {
          "color": [
           0,
           2,
           4,
           6,
           8,
           9
          ],
          "colorbar": {
           "title": {
            "text": "Trial"
           },
           "x": 1,
           "xpad": 40
          },
          "colorscale": [
           [
            0,
            "rgb(247,251,255)"
           ],
           [
            0.125,
            "rgb(222,235,247)"
           ],
           [
            0.25,
            "rgb(198,219,239)"
           ],
           [
            0.375,
            "rgb(158,202,225)"
           ],
           [
            0.5,
            "rgb(107,174,214)"
           ],
           [
            0.625,
            "rgb(66,146,198)"
           ],
           [
            0.75,
            "rgb(33,113,181)"
           ],
           [
            0.875,
            "rgb(8,81,156)"
           ],
           [
            1,
            "rgb(8,48,107)"
           ]
          ],
          "line": {
           "color": "Grey",
           "width": 0.5
          },
          "showscale": false
         },
         "mode": "markers",
         "showlegend": false,
         "type": "scatter",
         "x": [
          30,
          49,
          15,
          26,
          16,
          7
         ],
         "xaxis": "x2",
         "y": [
          0.919,
          0.919,
          0.905,
          0.918,
          0.912,
          0.771
         ],
         "yaxis": "y2"
        },
        {
         "marker": {
          "color": [
           1,
           3,
           5
          ],
          "colorbar": {
           "title": {
            "text": "Trial"
           },
           "x": 1,
           "xpad": 40
          },
          "colorscale": [
           [
            0,
            "rgb(247,251,255)"
           ],
           [
            0.125,
            "rgb(222,235,247)"
           ],
           [
            0.25,
            "rgb(198,219,239)"
           ],
           [
            0.375,
            "rgb(158,202,225)"
           ],
           [
            0.5,
            "rgb(107,174,214)"
           ],
           [
            0.625,
            "rgb(66,146,198)"
           ],
           [
            0.75,
            "rgb(33,113,181)"
           ],
           [
            0.875,
            "rgb(8,81,156)"
           ],
           [
            1,
            "rgb(8,48,107)"
           ]
          ],
          "line": {
           "color": "Grey",
           "width": 0.5
          },
          "showscale": false
         },
         "mode": "markers",
         "showlegend": false,
         "type": "scatter",
         "x": [
          24780.71022662143,
          0.00015880132371526778,
          0.02490818711274116
         ],
         "xaxis": "x3",
         "y": [
          0.705,
          0.702,
          0.709
         ],
         "yaxis": "y3"
        },
        {
         "marker": {
          "color": [
           7
          ],
          "colorbar": {
           "title": {
            "text": "Trial"
           },
           "x": 1,
           "xpad": 40
          },
          "colorscale": [
           [
            0,
            "rgb(247,251,255)"
           ],
           [
            0.125,
            "rgb(222,235,247)"
           ],
           [
            0.25,
            "rgb(198,219,239)"
           ],
           [
            0.375,
            "rgb(158,202,225)"
           ],
           [
            0.5,
            "rgb(107,174,214)"
           ],
           [
            0.625,
            "rgb(66,146,198)"
           ],
           [
            0.75,
            "rgb(33,113,181)"
           ],
           [
            0.875,
            "rgb(8,81,156)"
           ],
           [
            1,
            "rgb(8,48,107)"
           ]
          ],
          "line": {
           "color": "Grey",
           "width": 0.5
          },
          "showscale": false
         },
         "mode": "markers",
         "showlegend": false,
         "type": "scatter",
         "x": [
          18
         ],
         "xaxis": "x4",
         "y": [
          0.944
         ],
         "yaxis": "y4"
        },
        {
         "marker": {
          "color": [
           7
          ],
          "colorbar": {
           "title": {
            "text": "Trial"
           },
           "x": 1,
           "xpad": 40
          },
          "colorscale": [
           [
            0,
            "rgb(247,251,255)"
           ],
           [
            0.125,
            "rgb(222,235,247)"
           ],
           [
            0.25,
            "rgb(198,219,239)"
           ],
           [
            0.375,
            "rgb(158,202,225)"
           ],
           [
            0.5,
            "rgb(107,174,214)"
           ],
           [
            0.625,
            "rgb(66,146,198)"
           ],
           [
            0.75,
            "rgb(33,113,181)"
           ],
           [
            0.875,
            "rgb(8,81,156)"
           ],
           [
            1,
            "rgb(8,48,107)"
           ]
          ],
          "line": {
           "color": "Grey",
           "width": 0.5
          },
          "showscale": false
         },
         "mode": "markers",
         "showlegend": false,
         "type": "scatter",
         "x": [
          158
         ],
         "xaxis": "x5",
         "y": [
          0.944
         ],
         "yaxis": "y5"
        }
       ],
       "layout": {
        "height": 500,
        "template": {
         "data": {
          "bar": [
           {
            "error_x": {
             "color": "#2a3f5f"
            },
            "error_y": {
             "color": "#2a3f5f"
            },
            "marker": {
             "line": {
              "color": "white",
              "width": 0.5
             },
             "pattern": {
              "fillmode": "overlay",
              "size": 10,
              "solidity": 0.2
             }
            },
            "type": "bar"
           }
          ],
          "barpolar": [
           {
            "marker": {
             "line": {
              "color": "white",
              "width": 0.5
             },
             "pattern": {
              "fillmode": "overlay",
              "size": 10,
              "solidity": 0.2
             }
            },
            "type": "barpolar"
           }
          ],
          "carpet": [
           {
            "aaxis": {
             "endlinecolor": "#2a3f5f",
             "gridcolor": "#C8D4E3",
             "linecolor": "#C8D4E3",
             "minorgridcolor": "#C8D4E3",
             "startlinecolor": "#2a3f5f"
            },
            "baxis": {
             "endlinecolor": "#2a3f5f",
             "gridcolor": "#C8D4E3",
             "linecolor": "#C8D4E3",
             "minorgridcolor": "#C8D4E3",
             "startlinecolor": "#2a3f5f"
            },
            "type": "carpet"
           }
          ],
          "choropleth": [
           {
            "colorbar": {
             "outlinewidth": 0,
             "ticks": ""
            },
            "type": "choropleth"
           }
          ],
          "contour": [
           {
            "colorbar": {
             "outlinewidth": 0,
             "ticks": ""
            },
            "colorscale": [
             [
              0,
              "#0d0887"
             ],
             [
              0.1111111111111111,
              "#46039f"
             ],
             [
              0.2222222222222222,
              "#7201a8"
             ],
             [
              0.3333333333333333,
              "#9c179e"
             ],
             [
              0.4444444444444444,
              "#bd3786"
             ],
             [
              0.5555555555555556,
              "#d8576b"
             ],
             [
              0.6666666666666666,
              "#ed7953"
             ],
             [
              0.7777777777777778,
              "#fb9f3a"
             ],
             [
              0.8888888888888888,
              "#fdca26"
             ],
             [
              1,
              "#f0f921"
             ]
            ],
            "type": "contour"
           }
          ],
          "contourcarpet": [
           {
            "colorbar": {
             "outlinewidth": 0,
             "ticks": ""
            },
            "type": "contourcarpet"
           }
          ],
          "heatmap": [
           {
            "colorbar": {
             "outlinewidth": 0,
             "ticks": ""
            },
            "colorscale": [
             [
              0,
              "#0d0887"
             ],
             [
              0.1111111111111111,
              "#46039f"
             ],
             [
              0.2222222222222222,
              "#7201a8"
             ],
             [
              0.3333333333333333,
              "#9c179e"
             ],
             [
              0.4444444444444444,
              "#bd3786"
             ],
             [
              0.5555555555555556,
              "#d8576b"
             ],
             [
              0.6666666666666666,
              "#ed7953"
             ],
             [
              0.7777777777777778,
              "#fb9f3a"
             ],
             [
              0.8888888888888888,
              "#fdca26"
             ],
             [
              1,
              "#f0f921"
             ]
            ],
            "type": "heatmap"
           }
          ],
          "heatmapgl": [
           {
            "colorbar": {
             "outlinewidth": 0,
             "ticks": ""
            },
            "colorscale": [
             [
              0,
              "#0d0887"
             ],
             [
              0.1111111111111111,
              "#46039f"
             ],
             [
              0.2222222222222222,
              "#7201a8"
             ],
             [
              0.3333333333333333,
              "#9c179e"
             ],
             [
              0.4444444444444444,
              "#bd3786"
             ],
             [
              0.5555555555555556,
              "#d8576b"
             ],
             [
              0.6666666666666666,
              "#ed7953"
             ],
             [
              0.7777777777777778,
              "#fb9f3a"
             ],
             [
              0.8888888888888888,
              "#fdca26"
             ],
             [
              1,
              "#f0f921"
             ]
            ],
            "type": "heatmapgl"
           }
          ],
          "histogram": [
           {
            "marker": {
             "pattern": {
              "fillmode": "overlay",
              "size": 10,
              "solidity": 0.2
             }
            },
            "type": "histogram"
           }
          ],
          "histogram2d": [
           {
            "colorbar": {
             "outlinewidth": 0,
             "ticks": ""
            },
            "colorscale": [
             [
              0,
              "#0d0887"
             ],
             [
              0.1111111111111111,
              "#46039f"
             ],
             [
              0.2222222222222222,
              "#7201a8"
             ],
             [
              0.3333333333333333,
              "#9c179e"
             ],
             [
              0.4444444444444444,
              "#bd3786"
             ],
             [
              0.5555555555555556,
              "#d8576b"
             ],
             [
              0.6666666666666666,
              "#ed7953"
             ],
             [
              0.7777777777777778,
              "#fb9f3a"
             ],
             [
              0.8888888888888888,
              "#fdca26"
             ],
             [
              1,
              "#f0f921"
             ]
            ],
            "type": "histogram2d"
           }
          ],
          "histogram2dcontour": [
           {
            "colorbar": {
             "outlinewidth": 0,
             "ticks": ""
            },
            "colorscale": [
             [
              0,
              "#0d0887"
             ],
             [
              0.1111111111111111,
              "#46039f"
             ],
             [
              0.2222222222222222,
              "#7201a8"
             ],
             [
              0.3333333333333333,
              "#9c179e"
             ],
             [
              0.4444444444444444,
              "#bd3786"
             ],
             [
              0.5555555555555556,
              "#d8576b"
             ],
             [
              0.6666666666666666,
              "#ed7953"
             ],
             [
              0.7777777777777778,
              "#fb9f3a"
             ],
             [
              0.8888888888888888,
              "#fdca26"
             ],
             [
              1,
              "#f0f921"
             ]
            ],
            "type": "histogram2dcontour"
           }
          ],
          "mesh3d": [
           {
            "colorbar": {
             "outlinewidth": 0,
             "ticks": ""
            },
            "type": "mesh3d"
           }
          ],
          "parcoords": [
           {
            "line": {
             "colorbar": {
              "outlinewidth": 0,
              "ticks": ""
             }
            },
            "type": "parcoords"
           }
          ],
          "pie": [
           {
            "automargin": true,
            "type": "pie"
           }
          ],
          "scatter": [
           {
            "fillpattern": {
             "fillmode": "overlay",
             "size": 10,
             "solidity": 0.2
            },
            "type": "scatter"
           }
          ],
          "scatter3d": [
           {
            "line": {
             "colorbar": {
              "outlinewidth": 0,
              "ticks": ""
             }
            },
            "marker": {
             "colorbar": {
              "outlinewidth": 0,
              "ticks": ""
             }
            },
            "type": "scatter3d"
           }
          ],
          "scattercarpet": [
           {
            "marker": {
             "colorbar": {
              "outlinewidth": 0,
              "ticks": ""
             }
            },
            "type": "scattercarpet"
           }
          ],
          "scattergeo": [
           {
            "marker": {
             "colorbar": {
              "outlinewidth": 0,
              "ticks": ""
             }
            },
            "type": "scattergeo"
           }
          ],
          "scattergl": [
           {
            "marker": {
             "colorbar": {
              "outlinewidth": 0,
              "ticks": ""
             }
            },
            "type": "scattergl"
           }
          ],
          "scattermapbox": [
           {
            "marker": {
             "colorbar": {
              "outlinewidth": 0,
              "ticks": ""
             }
            },
            "type": "scattermapbox"
           }
          ],
          "scatterpolar": [
           {
            "marker": {
             "colorbar": {
              "outlinewidth": 0,
              "ticks": ""
             }
            },
            "type": "scatterpolar"
           }
          ],
          "scatterpolargl": [
           {
            "marker": {
             "colorbar": {
              "outlinewidth": 0,
              "ticks": ""
             }
            },
            "type": "scatterpolargl"
           }
          ],
          "scatterternary": [
           {
            "marker": {
             "colorbar": {
              "outlinewidth": 0,
              "ticks": ""
             }
            },
            "type": "scatterternary"
           }
          ],
          "surface": [
           {
            "colorbar": {
             "outlinewidth": 0,
             "ticks": ""
            },
            "colorscale": [
             [
              0,
              "#0d0887"
             ],
             [
              0.1111111111111111,
              "#46039f"
             ],
             [
              0.2222222222222222,
              "#7201a8"
             ],
             [
              0.3333333333333333,
              "#9c179e"
             ],
             [
              0.4444444444444444,
              "#bd3786"
             ],
             [
              0.5555555555555556,
              "#d8576b"
             ],
             [
              0.6666666666666666,
              "#ed7953"
             ],
             [
              0.7777777777777778,
              "#fb9f3a"
             ],
             [
              0.8888888888888888,
              "#fdca26"
             ],
             [
              1,
              "#f0f921"
             ]
            ],
            "type": "surface"
           }
          ],
          "table": [
           {
            "cells": {
             "fill": {
              "color": "#EBF0F8"
             },
             "line": {
              "color": "white"
             }
            },
            "header": {
             "fill": {
              "color": "#C8D4E3"
             },
             "line": {
              "color": "white"
             }
            },
            "type": "table"
           }
          ]
         },
         "layout": {
          "annotationdefaults": {
           "arrowcolor": "#2a3f5f",
           "arrowhead": 0,
           "arrowwidth": 1
          },
          "autotypenumbers": "strict",
          "coloraxis": {
           "colorbar": {
            "outlinewidth": 0,
            "ticks": ""
           }
          },
          "colorscale": {
           "diverging": [
            [
             0,
             "#8e0152"
            ],
            [
             0.1,
             "#c51b7d"
            ],
            [
             0.2,
             "#de77ae"
            ],
            [
             0.3,
             "#f1b6da"
            ],
            [
             0.4,
             "#fde0ef"
            ],
            [
             0.5,
             "#f7f7f7"
            ],
            [
             0.6,
             "#e6f5d0"
            ],
            [
             0.7,
             "#b8e186"
            ],
            [
             0.8,
             "#7fbc41"
            ],
            [
             0.9,
             "#4d9221"
            ],
            [
             1,
             "#276419"
            ]
           ],
           "sequential": [
            [
             0,
             "#0d0887"
            ],
            [
             0.1111111111111111,
             "#46039f"
            ],
            [
             0.2222222222222222,
             "#7201a8"
            ],
            [
             0.3333333333333333,
             "#9c179e"
            ],
            [
             0.4444444444444444,
             "#bd3786"
            ],
            [
             0.5555555555555556,
             "#d8576b"
            ],
            [
             0.6666666666666666,
             "#ed7953"
            ],
            [
             0.7777777777777778,
             "#fb9f3a"
            ],
            [
             0.8888888888888888,
             "#fdca26"
            ],
            [
             1,
             "#f0f921"
            ]
           ],
           "sequentialminus": [
            [
             0,
             "#0d0887"
            ],
            [
             0.1111111111111111,
             "#46039f"
            ],
            [
             0.2222222222222222,
             "#7201a8"
            ],
            [
             0.3333333333333333,
             "#9c179e"
            ],
            [
             0.4444444444444444,
             "#bd3786"
            ],
            [
             0.5555555555555556,
             "#d8576b"
            ],
            [
             0.6666666666666666,
             "#ed7953"
            ],
            [
             0.7777777777777778,
             "#fb9f3a"
            ],
            [
             0.8888888888888888,
             "#fdca26"
            ],
            [
             1,
             "#f0f921"
            ]
           ]
          },
          "colorway": [
           "#636efa",
           "#EF553B",
           "#00cc96",
           "#ab63fa",
           "#FFA15A",
           "#19d3f3",
           "#FF6692",
           "#B6E880",
           "#FF97FF",
           "#FECB52"
          ],
          "font": {
           "color": "#2a3f5f"
          },
          "geo": {
           "bgcolor": "white",
           "lakecolor": "white",
           "landcolor": "white",
           "showlakes": true,
           "showland": true,
           "subunitcolor": "#C8D4E3"
          },
          "hoverlabel": {
           "align": "left"
          },
          "hovermode": "closest",
          "mapbox": {
           "style": "light"
          },
          "paper_bgcolor": "white",
          "plot_bgcolor": "white",
          "polar": {
           "angularaxis": {
            "gridcolor": "#EBF0F8",
            "linecolor": "#EBF0F8",
            "ticks": ""
           },
           "bgcolor": "white",
           "radialaxis": {
            "gridcolor": "#EBF0F8",
            "linecolor": "#EBF0F8",
            "ticks": ""
           }
          },
          "scene": {
           "xaxis": {
            "backgroundcolor": "white",
            "gridcolor": "#DFE8F3",
            "gridwidth": 2,
            "linecolor": "#EBF0F8",
            "showbackground": true,
            "ticks": "",
            "zerolinecolor": "#EBF0F8"
           },
           "yaxis": {
            "backgroundcolor": "white",
            "gridcolor": "#DFE8F3",
            "gridwidth": 2,
            "linecolor": "#EBF0F8",
            "showbackground": true,
            "ticks": "",
            "zerolinecolor": "#EBF0F8"
           },
           "zaxis": {
            "backgroundcolor": "white",
            "gridcolor": "#DFE8F3",
            "gridwidth": 2,
            "linecolor": "#EBF0F8",
            "showbackground": true,
            "ticks": "",
            "zerolinecolor": "#EBF0F8"
           }
          },
          "shapedefaults": {
           "line": {
            "color": "#2a3f5f"
           }
          },
          "ternary": {
           "aaxis": {
            "gridcolor": "#DFE8F3",
            "linecolor": "#A2B1C6",
            "ticks": ""
           },
           "baxis": {
            "gridcolor": "#DFE8F3",
            "linecolor": "#A2B1C6",
            "ticks": ""
           },
           "bgcolor": "white",
           "caxis": {
            "gridcolor": "#DFE8F3",
            "linecolor": "#A2B1C6",
            "ticks": ""
           }
          },
          "title": {
           "x": 0.05
          },
          "xaxis": {
           "automargin": true,
           "gridcolor": "#EBF0F8",
           "linecolor": "#EBF0F8",
           "ticks": "",
           "title": {
            "standoff": 15
           },
           "zerolinecolor": "#EBF0F8",
           "zerolinewidth": 2
          },
          "yaxis": {
           "automargin": true,
           "gridcolor": "#EBF0F8",
           "linecolor": "#EBF0F8",
           "ticks": "",
           "title": {
            "standoff": 15
           },
           "zerolinecolor": "#EBF0F8",
           "zerolinewidth": 2
          }
         }
        },
        "title": {
         "text": "Slice Plot"
        },
        "width": 1000,
        "xaxis": {
         "anchor": "y",
         "domain": [
          0,
          0.16799999999999998
         ],
         "tickangle": -90,
         "title": {
          "text": "classifier"
         }
        },
        "xaxis2": {
         "anchor": "y2",
         "domain": [
          0.208,
          0.376
         ],
         "tickangle": -90,
         "title": {
          "text": "dt_max_depth"
         }
        },
        "xaxis3": {
         "anchor": "y3",
         "domain": [
          0.416,
          0.584
         ],
         "tickangle": -90,
         "title": {
          "text": "lr_c"
         },
         "type": "log"
        },
        "xaxis4": {
         "anchor": "y4",
         "domain": [
          0.624,
          0.792
         ],
         "tickangle": -90,
         "title": {
          "text": "rf_max_depth"
         }
        },
        "xaxis5": {
         "anchor": "y5",
         "domain": [
          0.832,
          1
         ],
         "tickangle": -90,
         "title": {
          "text": "rf_n_estimators"
         }
        },
        "yaxis": {
         "anchor": "x",
         "domain": [
          0,
          1
         ],
         "title": {
          "text": "Objective Value"
         }
        },
        "yaxis2": {
         "anchor": "x2",
         "domain": [
          0,
          1
         ],
         "matches": "y",
         "showticklabels": false
        },
        "yaxis3": {
         "anchor": "x3",
         "domain": [
          0,
          1
         ],
         "matches": "y",
         "showticklabels": false
        },
        "yaxis4": {
         "anchor": "x4",
         "domain": [
          0,
          1
         ],
         "matches": "y",
         "showticklabels": false
        },
        "yaxis5": {
         "anchor": "x5",
         "domain": [
          0,
          1
         ],
         "matches": "y",
         "showticklabels": false
        }
       }
      }
     },
     "metadata": {},
     "output_type": "display_data"
    },
    {
     "data": {
      "application/vnd.plotly.v1+json": {
       "config": {
        "plotlyServerURL": "https://plot.ly"
       },
       "data": [
        {
         "mode": "lines",
         "name": "Validation set ROC (AUC = 0.99)",
         "type": "scatter",
         "x": [
          0,
          0,
          0,
          0,
          0,
          0,
          0,
          0,
          0,
          0,
          0,
          0,
          0,
          0,
          0,
          0,
          0,
          0,
          0,
          0,
          0,
          0,
          0,
          0,
          0,
          0,
          0,
          0,
          0,
          0,
          0,
          0,
          0,
          0,
          0,
          0,
          0,
          0,
          0,
          0,
          0,
          0,
          0,
          0,
          0,
          0,
          0,
          0,
          0,
          0,
          0,
          0,
          0,
          0,
          0,
          0,
          0,
          0,
          0,
          0,
          0,
          0,
          0,
          0,
          0,
          0,
          0,
          0,
          0,
          0,
          0,
          0,
          0,
          0,
          0,
          0,
          0,
          0,
          0,
          0,
          0,
          0,
          0,
          0,
          0,
          0,
          0,
          0,
          0,
          0,
          0,
          0,
          0,
          0,
          0,
          0,
          0,
          0,
          0,
          0,
          0,
          0,
          0,
          0,
          0,
          0,
          0,
          0,
          0,
          0,
          0,
          0,
          0,
          0,
          0,
          0,
          0,
          0,
          0,
          0,
          0,
          0,
          0,
          0,
          0,
          0,
          0,
          0,
          0,
          0,
          0,
          0,
          0,
          0,
          0,
          0,
          0,
          0,
          0,
          0,
          0,
          0,
          0,
          0,
          0,
          0,
          0,
          0,
          0,
          0,
          0,
          0,
          0,
          0,
          0,
          0,
          0,
          0,
          0,
          0,
          0,
          0,
          0,
          0,
          0,
          0,
          0,
          0,
          0,
          0,
          0,
          0,
          0,
          0,
          0,
          0,
          0,
          0,
          0.0008298755186721991,
          0.0008298755186721991,
          0.0008298755186721991,
          0.0008298755186721991,
          0.0008298755186721991,
          0.0008298755186721991,
          0.0008298755186721991,
          0.0008298755186721991,
          0.0008298755186721991,
          0.0008298755186721991,
          0.0008298755186721991,
          0.0008298755186721991,
          0.0008298755186721991,
          0.0008298755186721991,
          0.0008298755186721991,
          0.0016597510373443983,
          0.0016597510373443983,
          0.0016597510373443983,
          0.0016597510373443983,
          0.0016597510373443983,
          0.0016597510373443983,
          0.0016597510373443983,
          0.0016597510373443983,
          0.0016597510373443983,
          0.0016597510373443983,
          0.0016597510373443983,
          0.0016597510373443983,
          0.0016597510373443983,
          0.0016597510373443983,
          0.0016597510373443983,
          0.0016597510373443983,
          0.0016597510373443983,
          0.0016597510373443983,
          0.0016597510373443983,
          0.0016597510373443983,
          0.0016597510373443983,
          0.0024896265560165973,
          0.0024896265560165973,
          0.0024896265560165973,
          0.0024896265560165973,
          0.0024896265560165973,
          0.0024896265560165973,
          0.0024896265560165973,
          0.0024896265560165973,
          0.0024896265560165973,
          0.0024896265560165973,
          0.0024896265560165973,
          0.0024896265560165973,
          0.0024896265560165973,
          0.0024896265560165973,
          0.0024896265560165973,
          0.0024896265560165973,
          0.0024896265560165973,
          0.0024896265560165973,
          0.0024896265560165973,
          0.0024896265560165973,
          0.0024896265560165973,
          0.0024896265560165973,
          0.0024896265560165973,
          0.0024896265560165973,
          0.0024896265560165973,
          0.0024896265560165973,
          0.0024896265560165973,
          0.0024896265560165973,
          0.0024896265560165973,
          0.0024896265560165973,
          0.0024896265560165973,
          0.0024896265560165973,
          0.0024896265560165973,
          0.0024896265560165973,
          0.0024896265560165973,
          0.0024896265560165973,
          0.0024896265560165973,
          0.0024896265560165973,
          0.0024896265560165973,
          0.0024896265560165973,
          0.0024896265560165973,
          0.0033195020746887966,
          0.0033195020746887966,
          0.0033195020746887966,
          0.0033195020746887966,
          0.0033195020746887966,
          0.0033195020746887966,
          0.0033195020746887966,
          0.0033195020746887966,
          0.0033195020746887966,
          0.0033195020746887966,
          0.0033195020746887966,
          0.0033195020746887966,
          0.0033195020746887966,
          0.004149377593360996,
          0.004149377593360996,
          0.004149377593360996,
          0.004149377593360996,
          0.004149377593360996,
          0.004979253112033195,
          0.004979253112033195,
          0.004979253112033195,
          0.004979253112033195,
          0.005809128630705394,
          0.005809128630705394,
          0.005809128630705394,
          0.005809128630705394,
          0.005809128630705394,
          0.005809128630705394,
          0.005809128630705394,
          0.005809128630705394,
          0.005809128630705394,
          0.005809128630705394,
          0.005809128630705394,
          0.005809128630705394,
          0.006639004149377593,
          0.006639004149377593,
          0.006639004149377593,
          0.006639004149377593,
          0.006639004149377593,
          0.006639004149377593,
          0.007468879668049793,
          0.007468879668049793,
          0.007468879668049793,
          0.007468879668049793,
          0.007468879668049793,
          0.008298755186721992,
          0.008298755186721992,
          0.008298755186721992,
          0.008298755186721992,
          0.008298755186721992,
          0.008298755186721992,
          0.008298755186721992,
          0.008298755186721992,
          0.009128630705394191,
          0.009128630705394191,
          0.009128630705394191,
          0.00995850622406639,
          0.00995850622406639,
          0.00995850622406639,
          0.00995850622406639,
          0.00995850622406639,
          0.00995850622406639,
          0.00995850622406639,
          0.00995850622406639,
          0.00995850622406639,
          0.00995850622406639,
          0.00995850622406639,
          0.011618257261410789,
          0.011618257261410789,
          0.011618257261410789,
          0.011618257261410789,
          0.012448132780082987,
          0.012448132780082987,
          0.012448132780082987,
          0.012448132780082987,
          0.012448132780082987,
          0.012448132780082987,
          0.012448132780082987,
          0.012448132780082987,
          0.013278008298755186,
          0.013278008298755186,
          0.013278008298755186,
          0.013278008298755186,
          0.013278008298755186,
          0.014107883817427386,
          0.014107883817427386,
          0.014937759336099586,
          0.014937759336099586,
          0.015767634854771784,
          0.015767634854771784,
          0.015767634854771784,
          0.015767634854771784,
          0.017427385892116183,
          0.017427385892116183,
          0.018257261410788383,
          0.018257261410788383,
          0.018257261410788383,
          0.018257261410788383,
          0.018257261410788383,
          0.018257261410788383,
          0.019087136929460582,
          0.019087136929460582,
          0.01991701244813278,
          0.01991701244813278,
          0.02074688796680498,
          0.02074688796680498,
          0.02074688796680498,
          0.02074688796680498,
          0.02074688796680498,
          0.02074688796680498,
          0.02074688796680498,
          0.021576763485477178,
          0.021576763485477178,
          0.021576763485477178,
          0.021576763485477178,
          0.022406639004149378,
          0.022406639004149378,
          0.023236514522821577,
          0.023236514522821577,
          0.024066390041493777,
          0.024066390041493777,
          0.024066390041493777,
          0.024896265560165973,
          0.024896265560165973,
          0.025726141078838173,
          0.025726141078838173,
          0.025726141078838173,
          0.025726141078838173,
          0.026556016597510373,
          0.026556016597510373,
          0.026556016597510373,
          0.026556016597510373,
          0.027385892116182572,
          0.027385892116182572,
          0.029045643153526972,
          0.029045643153526972,
          0.029045643153526972,
          0.02987551867219917,
          0.02987551867219917,
          0.030705394190871368,
          0.030705394190871368,
          0.03236514522821577,
          0.03236514522821577,
          0.03319502074688797,
          0.03319502074688797,
          0.03402489626556016,
          0.03402489626556016,
          0.03568464730290456,
          0.03568464730290456,
          0.03734439834024896,
          0.03734439834024896,
          0.038174273858921165,
          0.038174273858921165,
          0.038174273858921165,
          0.03983402489626556,
          0.03983402489626556,
          0.04066390041493776,
          0.04066390041493776,
          0.04149377593360996,
          0.04149377593360996,
          0.04232365145228216,
          0.04232365145228216,
          0.043153526970954356,
          0.043153526970954356,
          0.04398340248962656,
          0.04398340248962656,
          0.04564315352697095,
          0.04564315352697095,
          0.048132780082987554,
          0.048132780082987554,
          0.048132780082987554,
          0.048132780082987554,
          0.051452282157676346,
          0.051452282157676346,
          0.05560165975103734,
          0.05560165975103734,
          0.056431535269709544,
          0.056431535269709544,
          0.06556016597510374,
          0.06556016597510374,
          0.07136929460580912,
          0.07136929460580912,
          0.08464730290456432,
          0.08464730290456432,
          0.10290456431535269,
          0.10290456431535269,
          0.12780082987551866,
          0.12780082987551866,
          0.13775933609958507,
          0.13775933609958507,
          0.15103734439834024,
          0.15103734439834024,
          0.16016597510373445,
          0.16016597510373445,
          0.16182572614107885,
          0.16182572614107885,
          0.17178423236514523,
          0.17178423236514523,
          0.183402489626556,
          0.18506224066390042,
          0.187551867219917,
          0.1892116182572614,
          0.204149377593361,
          0.204149377593361,
          0.20580912863070538,
          0.20580912863070538,
          0.2074688796680498,
          0.2099585062240664,
          0.21161825726141079,
          0.21327800829875518,
          0.21410788381742737,
          0.21410788381742737,
          0.23153526970954358,
          0.23402489626556017,
          0.24315352697095435,
          0.24647302904564317,
          0.26141078838174275,
          0.26307053941908715,
          0.3095435684647303,
          0.3112033195020747,
          0.32946058091286307,
          0.33278008298755185,
          0.3385892116182573,
          0.3385892116182573,
          0.34854771784232363,
          0.34854771784232363,
          0.350207468879668,
          0.4099585062240664,
          0.41161825726141077,
          0.4157676348547718,
          0.4157676348547718,
          0.4224066390041494,
          0.42904564315352695,
          0.44232365145228214,
          0.44813278008298757,
          0.4580912863070539,
          0.46141078838174276,
          0.46804979253112033,
          0.46804979253112033,
          0.4705394190871369,
          0.4721991701244813,
          0.4829875518672199,
          0.4846473029045643,
          0.5145228215767634,
          0.5170124481327801,
          0.5253112033195021,
          0.5278008298755187,
          0.546058091286307,
          0.5477178423236515,
          0.562655601659751,
          0.5651452282157676,
          0.5742738589211618,
          0.5792531120331951,
          0.5941908713692946,
          0.5975103734439834,
          0.6058091286307054,
          0.6074688796680497,
          0.6182572614107884,
          0.620746887966805,
          0.6331950207468879,
          0.6356846473029045,
          0.64149377593361,
          0.64149377593361,
          0.6439834024896266,
          0.645643153526971,
          0.6473029045643154,
          0.6473029045643154,
          0.653941908713693,
          0.6580912863070539,
          0.6680497925311203,
          0.6730290456431536,
          0.6929460580912863,
          0.6962655601659751,
          0.7120331950207469,
          0.7153526970954357,
          0.7195020746887967,
          0.7219917012448133,
          0.7228215767634855,
          0.7228215767634855,
          0.7344398340248963,
          0.7402489626556017,
          0.7477178423236515,
          0.7477178423236515,
          0.75850622406639,
          0.7601659751037344,
          0.7651452282157676,
          0.7676348547717843,
          0.7692946058091287,
          0.783402489626556,
          0.7867219917012448,
          0.8058091286307054,
          0.808298755186722,
          0.8240663900414937,
          0.8257261410788381,
          0.8265560165975103,
          0.8282157676348548,
          0.8340248962655602,
          0.837344398340249,
          0.8439834024896266,
          0.845643153526971,
          0.8556016597510373,
          0.8597510373443984,
          0.8854771784232365,
          0.8871369294605809,
          0.9087136929460581,
          0.9103734439834025,
          0.9178423236514522,
          0.9269709543568465,
          0.9311203319502075,
          0.9311203319502075,
          0.9510373443983402,
          0.9601659751037345,
          0.9858921161825727,
          0.991701244813278,
          0.9983402489626556,
          1
         ],
         "y": [
          0,
          0.03462837837837838,
          0.037162162162162164,
          0.03800675675675676,
          0.03969594594594594,
          0.04054054054054054,
          0.04222972972972973,
          0.04391891891891892,
          0.04560810810810811,
          0.0472972972972973,
          0.04983108108108108,
          0.05489864864864865,
          0.06165540540540541,
          0.0625,
          0.06418918918918919,
          0.06503378378378379,
          0.06756756756756757,
          0.07094594594594594,
          0.07516891891891891,
          0.07685810810810811,
          0.07939189189189189,
          0.08108108108108109,
          0.08361486486486487,
          0.08530405405405406,
          0.08783783783783784,
          0.08952702702702703,
          0.09206081081081081,
          0.09375,
          0.0945945945945946,
          0.09628378378378379,
          0.09966216216216216,
          0.10304054054054054,
          0.10810810810810811,
          0.1097972972972973,
          0.11233108108108109,
          0.11402027027027027,
          0.11655405405405406,
          0.12162162162162163,
          0.125,
          0.1266891891891892,
          0.12922297297297297,
          0.13429054054054054,
          0.13513513513513514,
          0.13682432432432431,
          0.14020270270270271,
          0.17314189189189189,
          0.17483108108108109,
          0.17567567567567569,
          0.17736486486486486,
          0.17989864864864866,
          0.18327702702702703,
          0.1883445945945946,
          0.19172297297297297,
          0.19594594594594594,
          0.20101351351351351,
          0.20270270270270271,
          0.20523648648648649,
          0.21368243243243243,
          0.21537162162162163,
          0.2179054054054054,
          0.2195945945945946,
          0.22212837837837837,
          0.22381756756756757,
          0.22635135135135134,
          0.22804054054054054,
          0.23057432432432431,
          0.23226351351351351,
          0.23564189189189189,
          0.23733108108108109,
          0.23817567567567569,
          0.24070945945945946,
          0.24239864864864866,
          0.24408783783783783,
          0.24746621621621623,
          0.25,
          0.25084459459459457,
          0.25253378378378377,
          0.25760135135135137,
          0.2609797297297297,
          0.2626689189189189,
          0.2643581081081081,
          0.2702702702702703,
          0.28040540540540543,
          0.28378378378378377,
          0.2846283783783784,
          0.28800675675675674,
          0.2939189189189189,
          0.2964527027027027,
          0.2972972972972973,
          0.30067567567567566,
          0.30405405405405406,
          0.30574324324324326,
          0.30827702702702703,
          0.30996621621621623,
          0.3108108108108108,
          0.3125,
          0.31334459459459457,
          0.31841216216216217,
          0.32263513513513514,
          0.32432432432432434,
          0.3260135135135135,
          0.3285472972972973,
          0.3302364864864865,
          0.3310810810810811,
          0.3327702702702703,
          0.33361486486486486,
          0.33530405405405406,
          0.33614864864864863,
          0.33952702702702703,
          0.3420608108108108,
          0.34459459459459457,
          0.3471283783783784,
          0.35050675675675674,
          0.35135135135135137,
          0.3606418918918919,
          0.36317567567567566,
          0.36486486486486486,
          0.37246621621621623,
          0.37584459459459457,
          0.38006756756756754,
          0.38344594594594594,
          0.38682432432432434,
          0.3885135135135135,
          0.3910472972972973,
          0.3927364864864865,
          0.3952702702702703,
          0.3969594594594595,
          0.39780405405405406,
          0.40118243243243246,
          0.4028716216216216,
          0.40625,
          0.4079391891891892,
          0.4155405405405405,
          0.4206081081081081,
          0.4222972972972973,
          0.42736486486486486,
          0.42989864864864863,
          0.43665540540540543,
          0.44003378378378377,
          0.4408783783783784,
          0.44256756756756754,
          0.4467905405405405,
          0.4518581081081081,
          0.4543918918918919,
          0.4560810810810811,
          0.45692567567567566,
          0.46368243243243246,
          0.46790540540540543,
          0.46959459459459457,
          0.47128378378378377,
          0.47297297297297297,
          0.47550675675675674,
          0.4814189189189189,
          0.4847972972972973,
          0.4856418918918919,
          0.49239864864864863,
          0.49324324324324326,
          0.49493243243243246,
          0.49746621621621623,
          0.49915540540540543,
          0.5025337837837838,
          0.504222972972973,
          0.5067567567567568,
          0.5084459459459459,
          0.5143581081081081,
          0.5168918918918919,
          0.518581081081081,
          0.5194256756756757,
          0.5211148648648649,
          0.5228040540540541,
          0.5244932432432432,
          0.5363175675675675,
          0.5380067567567568,
          0.5430743243243243,
          0.5464527027027027,
          0.5481418918918919,
          0.549831081081081,
          0.5506756756756757,
          0.5506756756756757,
          0.5540540540540541,
          0.5557432432432432,
          0.5633445945945946,
          0.5675675675675675,
          0.5692567567567568,
          0.5717905405405406,
          0.5726351351351351,
          0.5743243243243243,
          0.5768581081081081,
          0.5793918918918919,
          0.581081081081081,
          0.5844594594594594,
          0.5869932432432432,
          0.5886824324324325,
          0.5886824324324325,
          0.589527027027027,
          0.5920608108108109,
          0.5954391891891891,
          0.5971283783783784,
          0.5988175675675675,
          0.6013513513513513,
          0.6030405405405406,
          0.6038851351351351,
          0.6055743243243243,
          0.606418918918919,
          0.6097972972972973,
          0.6114864864864865,
          0.6131756756756757,
          0.6140202702702703,
          0.6157094594594594,
          0.6173986486486487,
          0.6190878378378378,
          0.6199324324324325,
          0.6216216216216216,
          0.6233108108108109,
          0.6233108108108109,
          0.6241554054054054,
          0.6283783783783784,
          0.629222972972973,
          0.6309121621621622,
          0.6326013513513513,
          0.6342905405405406,
          0.6351351351351351,
          0.6368243243243243,
          0.6393581081081081,
          0.6410472972972973,
          0.6427364864864865,
          0.6444256756756757,
          0.6503378378378378,
          0.6528716216216216,
          0.6537162162162162,
          0.6570945945945946,
          0.6596283783783784,
          0.6630067567567568,
          0.6638513513513513,
          0.6655405405405406,
          0.6672297297297297,
          0.668918918918919,
          0.6706081081081081,
          0.6756756756756757,
          0.6773648648648649,
          0.6790540540540541,
          0.6815878378378378,
          0.6849662162162162,
          0.6875,
          0.6925675675675675,
          0.6942567567567568,
          0.6984797297297297,
          0.7010135135135135,
          0.7035472972972973,
          0.706081081081081,
          0.7069256756756757,
          0.7103040540540541,
          0.7111486486486487,
          0.7128378378378378,
          0.7136824324324325,
          0.7136824324324325,
          0.7153716216216216,
          0.71875,
          0.7204391891891891,
          0.7221283783783784,
          0.7246621621621622,
          0.7280405405405406,
          0.7322635135135135,
          0.7339527027027027,
          0.7356418918918919,
          0.737331081081081,
          0.7390202702702703,
          0.7398648648648649,
          0.7398648648648649,
          0.7407094594594594,
          0.7432432432432432,
          0.7466216216216216,
          0.7483108108108109,
          0.7483108108108109,
          0.75,
          0.7516891891891891,
          0.7525337837837838,
          0.7525337837837838,
          0.7584459459459459,
          0.7609797297297297,
          0.7635135135135135,
          0.7652027027027027,
          0.7677364864864865,
          0.7694256756756757,
          0.7753378378378378,
          0.777027027027027,
          0.7778716216216216,
          0.7795608108108109,
          0.7804054054054054,
          0.7804054054054054,
          0.78125,
          0.7880067567567568,
          0.7896959459459459,
          0.7922297297297297,
          0.7964527027027027,
          0.7964527027027027,
          0.7981418918918919,
          0.7989864864864865,
          0.8015202702702703,
          0.8032094594594594,
          0.8032094594594594,
          0.8091216216216216,
          0.8125,
          0.8158783783783784,
          0.8175675675675675,
          0.8192567567567568,
          0.8201013513513513,
          0.8217905405405406,
          0.8217905405405406,
          0.8277027027027027,
          0.831081081081081,
          0.831081081081081,
          0.8327702702702703,
          0.8344594594594594,
          0.8353040540540541,
          0.8369932432432432,
          0.8378378378378378,
          0.839527027027027,
          0.84375,
          0.8471283783783784,
          0.8505067567567568,
          0.8521959459459459,
          0.8521959459459459,
          0.8530405405405406,
          0.8547297297297297,
          0.856418918918919,
          0.856418918918919,
          0.8581081081081081,
          0.8597972972972973,
          0.8606418918918919,
          0.8631756756756757,
          0.8640202702702703,
          0.8665540540540541,
          0.8682432432432432,
          0.8682432432432432,
          0.8699324324324325,
          0.8724662162162162,
          0.8741554054054054,
          0.8758445945945946,
          0.8758445945945946,
          0.879222972972973,
          0.879222972972973,
          0.8817567567567568,
          0.8817567567567568,
          0.8826013513513513,
          0.8842905405405406,
          0.8851351351351351,
          0.8851351351351351,
          0.8893581081081081,
          0.8893581081081081,
          0.8944256756756757,
          0.8969594594594594,
          0.8994932432432432,
          0.9011824324324325,
          0.902027027027027,
          0.902027027027027,
          0.9028716216216216,
          0.9028716216216216,
          0.9037162162162162,
          0.9037162162162162,
          0.9054054054054054,
          0.9079391891891891,
          0.9113175675675675,
          0.9130067567567568,
          0.9146959459459459,
          0.9155405405405406,
          0.9155405405405406,
          0.9197635135135135,
          0.9214527027027027,
          0.9239864864864865,
          0.9239864864864865,
          0.924831081081081,
          0.924831081081081,
          0.9256756756756757,
          0.9256756756756757,
          0.9273648648648649,
          0.9298986486486487,
          0.9298986486486487,
          0.933277027027027,
          0.933277027027027,
          0.9358108108108109,
          0.9375,
          0.9383445945945946,
          0.9383445945945946,
          0.9400337837837838,
          0.9425675675675675,
          0.9434121621621622,
          0.9434121621621622,
          0.9451013513513513,
          0.9451013513513513,
          0.9459459459459459,
          0.9476351351351351,
          0.9476351351351351,
          0.9484797297297297,
          0.9484797297297297,
          0.9493243243243243,
          0.9493243243243243,
          0.9510135135135135,
          0.9510135135135135,
          0.9518581081081081,
          0.9518581081081081,
          0.9527027027027027,
          0.9527027027027027,
          0.9535472972972973,
          0.9535472972972973,
          0.9552364864864865,
          0.9552364864864865,
          0.956081081081081,
          0.9577702702702703,
          0.9577702702702703,
          0.9586148648648649,
          0.9586148648648649,
          0.9603040540540541,
          0.9603040540540541,
          0.9619932432432432,
          0.9619932432432432,
          0.9636824324324325,
          0.9636824324324325,
          0.964527027027027,
          0.964527027027027,
          0.9653716216216216,
          0.9653716216216216,
          0.9662162162162162,
          0.9662162162162162,
          0.9679054054054054,
          0.96875,
          0.9704391891891891,
          0.9704391891891891,
          0.9712837837837838,
          0.9712837837837838,
          0.9721283783783784,
          0.9721283783783784,
          0.9746621621621622,
          0.9746621621621622,
          0.9755067567567568,
          0.9755067567567568,
          0.9763513513513513,
          0.9763513513513513,
          0.9771959459459459,
          0.9771959459459459,
          0.9788851351351351,
          0.9788851351351351,
          0.9805743243243243,
          0.9805743243243243,
          0.981418918918919,
          0.981418918918919,
          0.9831081081081081,
          0.9831081081081081,
          0.9856418918918919,
          0.9856418918918919,
          0.987331081081081,
          0.987331081081081,
          0.9890202702702703,
          0.9890202702702703,
          0.9890202702702703,
          0.9890202702702703,
          0.9890202702702703,
          0.9890202702702703,
          0.9898648648648649,
          0.9898648648648649,
          0.9907094594594594,
          0.9907094594594594,
          0.9907094594594594,
          0.9907094594594594,
          0.9907094594594594,
          0.9907094594594594,
          0.9915540540540541,
          0.9915540540540541,
          0.9915540540540541,
          0.9915540540540541,
          0.9915540540540541,
          0.9915540540540541,
          0.9915540540540541,
          0.9915540540540541,
          0.9915540540540541,
          0.9915540540540541,
          0.9915540540540541,
          0.9915540540540541,
          0.9923986486486487,
          0.9923986486486487,
          0.9940878378378378,
          0.9940878378378378,
          0.9940878378378378,
          0.9940878378378378,
          0.9940878378378378,
          0.9949324324324325,
          0.9949324324324325,
          0.9949324324324325,
          0.9949324324324325,
          0.9949324324324325,
          0.9949324324324325,
          0.9949324324324325,
          0.9949324324324325,
          0.995777027027027,
          0.995777027027027,
          0.995777027027027,
          0.995777027027027,
          0.995777027027027,
          0.995777027027027,
          0.995777027027027,
          0.995777027027027,
          0.995777027027027,
          0.995777027027027,
          0.995777027027027,
          0.995777027027027,
          0.995777027027027,
          0.995777027027027,
          0.995777027027027,
          0.995777027027027,
          0.995777027027027,
          0.995777027027027,
          0.995777027027027,
          0.995777027027027,
          0.995777027027027,
          0.995777027027027,
          0.995777027027027,
          0.995777027027027,
          0.9966216216216216,
          0.9966216216216216,
          0.9966216216216216,
          0.9966216216216216,
          0.9974662162162162,
          0.9974662162162162,
          0.9974662162162162,
          0.9974662162162162,
          0.9974662162162162,
          0.9974662162162162,
          0.9974662162162162,
          0.9974662162162162,
          0.9974662162162162,
          0.9974662162162162,
          0.9974662162162162,
          0.9974662162162162,
          0.9983108108108109,
          0.9983108108108109,
          0.9983108108108109,
          0.9983108108108109,
          0.9991554054054054,
          0.9991554054054054,
          0.9991554054054054,
          0.9991554054054054,
          0.9991554054054054,
          0.9991554054054054,
          0.9991554054054054,
          0.9991554054054054,
          0.9991554054054054,
          0.9991554054054054,
          0.9991554054054054,
          0.9991554054054054,
          0.9991554054054054,
          0.9991554054054054,
          0.9991554054054054,
          0.9991554054054054,
          0.9991554054054054,
          0.9991554054054054,
          0.9991554054054054,
          0.9991554054054054,
          0.9991554054054054,
          0.9991554054054054,
          0.9991554054054054,
          0.9991554054054054,
          0.9991554054054054,
          0.9991554054054054,
          0.9991554054054054,
          1,
          1,
          1,
          1,
          1,
          1,
          1
         ]
        },
        {
         "mode": "lines",
         "name": "Test set ROC (AUC = 0.98)",
         "type": "scatter",
         "x": [
          0,
          0,
          0,
          0,
          0,
          0,
          0,
          0,
          0,
          0,
          0,
          0,
          0,
          0,
          0,
          0,
          0,
          0,
          0,
          0,
          0,
          0,
          0,
          0,
          0,
          0,
          0,
          0,
          0,
          0,
          0,
          0,
          0,
          0,
          0,
          0,
          0,
          0,
          0,
          0,
          0,
          0,
          0,
          0,
          0,
          0,
          0,
          0,
          0,
          0,
          0,
          0,
          0,
          0,
          0,
          0,
          0,
          0,
          0,
          0,
          0,
          0,
          0,
          0,
          0,
          0,
          0,
          0,
          0,
          0,
          0,
          0,
          0,
          0,
          0,
          0,
          0,
          0,
          0,
          0,
          0,
          0,
          0,
          0,
          0,
          0,
          0,
          0,
          0,
          0,
          0,
          0,
          0,
          0,
          0,
          0,
          0,
          0,
          0,
          0,
          0,
          0,
          0,
          0,
          0,
          0,
          0,
          0,
          0,
          0,
          0,
          0,
          0,
          0,
          0,
          0,
          0,
          0,
          0,
          0,
          0,
          0,
          0,
          0,
          0,
          0,
          0,
          0,
          0,
          0,
          0.0008382229673093043,
          0.0008382229673093043,
          0.0008382229673093043,
          0.0008382229673093043,
          0.0008382229673093043,
          0.0016764459346186086,
          0.0016764459346186086,
          0.0016764459346186086,
          0.0016764459346186086,
          0.0016764459346186086,
          0.0016764459346186086,
          0.0016764459346186086,
          0.0016764459346186086,
          0.0016764459346186086,
          0.0016764459346186086,
          0.0016764459346186086,
          0.0016764459346186086,
          0.0016764459346186086,
          0.0016764459346186086,
          0.0016764459346186086,
          0.0016764459346186086,
          0.0016764459346186086,
          0.0016764459346186086,
          0.0016764459346186086,
          0.0016764459346186086,
          0.0016764459346186086,
          0.0016764459346186086,
          0.0016764459346186086,
          0.0016764459346186086,
          0.0016764459346186086,
          0.002514668901927913,
          0.002514668901927913,
          0.002514668901927913,
          0.002514668901927913,
          0.002514668901927913,
          0.002514668901927913,
          0.002514668901927913,
          0.002514668901927913,
          0.002514668901927913,
          0.002514668901927913,
          0.002514668901927913,
          0.002514668901927913,
          0.002514668901927913,
          0.003352891869237217,
          0.003352891869237217,
          0.003352891869237217,
          0.003352891869237217,
          0.003352891869237217,
          0.003352891869237217,
          0.003352891869237217,
          0.003352891869237217,
          0.003352891869237217,
          0.003352891869237217,
          0.003352891869237217,
          0.003352891869237217,
          0.003352891869237217,
          0.003352891869237217,
          0.003352891869237217,
          0.003352891869237217,
          0.003352891869237217,
          0.003352891869237217,
          0.003352891869237217,
          0.003352891869237217,
          0.003352891869237217,
          0.003352891869237217,
          0.003352891869237217,
          0.003352891869237217,
          0.003352891869237217,
          0.003352891869237217,
          0.003352891869237217,
          0.003352891869237217,
          0.003352891869237217,
          0.003352891869237217,
          0.003352891869237217,
          0.003352891869237217,
          0.003352891869237217,
          0.003352891869237217,
          0.003352891869237217,
          0.003352891869237217,
          0.003352891869237217,
          0.003352891869237217,
          0.003352891869237217,
          0.003352891869237217,
          0.003352891869237217,
          0.003352891869237217,
          0.003352891869237217,
          0.003352891869237217,
          0.003352891869237217,
          0.003352891869237217,
          0.003352891869237217,
          0.003352891869237217,
          0.003352891869237217,
          0.003352891869237217,
          0.003352891869237217,
          0.003352891869237217,
          0.003352891869237217,
          0.003352891869237217,
          0.003352891869237217,
          0.003352891869237217,
          0.003352891869237217,
          0.003352891869237217,
          0.003352891869237217,
          0.003352891869237217,
          0.003352891869237217,
          0.003352891869237217,
          0.003352891869237217,
          0.003352891869237217,
          0.003352891869237217,
          0.003352891869237217,
          0.003352891869237217,
          0.003352891869237217,
          0.003352891869237217,
          0.003352891869237217,
          0.003352891869237217,
          0.003352891869237217,
          0.003352891869237217,
          0.004191114836546521,
          0.004191114836546521,
          0.004191114836546521,
          0.004191114836546521,
          0.004191114836546521,
          0.004191114836546521,
          0.004191114836546521,
          0.004191114836546521,
          0.004191114836546521,
          0.004191114836546521,
          0.005029337803855826,
          0.005029337803855826,
          0.005029337803855826,
          0.00586756077116513,
          0.00586756077116513,
          0.006705783738474434,
          0.006705783738474434,
          0.006705783738474434,
          0.006705783738474434,
          0.006705783738474434,
          0.006705783738474434,
          0.006705783738474434,
          0.006705783738474434,
          0.0075440067057837385,
          0.0075440067057837385,
          0.0075440067057837385,
          0.0075440067057837385,
          0.008382229673093043,
          0.008382229673093043,
          0.008382229673093043,
          0.008382229673093043,
          0.008382229673093043,
          0.008382229673093043,
          0.008382229673093043,
          0.008382229673093043,
          0.008382229673093043,
          0.009220452640402346,
          0.009220452640402346,
          0.010058675607711651,
          0.010058675607711651,
          0.010058675607711651,
          0.010058675607711651,
          0.010058675607711651,
          0.010058675607711651,
          0.010058675607711651,
          0.010058675607711651,
          0.010058675607711651,
          0.010058675607711651,
          0.010058675607711651,
          0.010058675607711651,
          0.010058675607711651,
          0.010058675607711651,
          0.010058675607711651,
          0.010058675607711651,
          0.010896898575020955,
          0.010896898575020955,
          0.010896898575020955,
          0.010896898575020955,
          0.01173512154233026,
          0.01173512154233026,
          0.01173512154233026,
          0.01173512154233026,
          0.01173512154233026,
          0.01173512154233026,
          0.01173512154233026,
          0.012573344509639563,
          0.012573344509639563,
          0.012573344509639563,
          0.012573344509639563,
          0.012573344509639563,
          0.012573344509639563,
          0.013411567476948869,
          0.013411567476948869,
          0.013411567476948869,
          0.013411567476948869,
          0.014249790444258172,
          0.014249790444258172,
          0.014249790444258172,
          0.014249790444258172,
          0.014249790444258172,
          0.014249790444258172,
          0.014249790444258172,
          0.014249790444258172,
          0.014249790444258172,
          0.015088013411567477,
          0.015088013411567477,
          0.015088013411567477,
          0.015088013411567477,
          0.015088013411567477,
          0.015088013411567477,
          0.015088013411567477,
          0.016764459346186086,
          0.016764459346186086,
          0.016764459346186086,
          0.01760268231349539,
          0.01760268231349539,
          0.018440905280804692,
          0.018440905280804692,
          0.019279128248113998,
          0.019279128248113998,
          0.019279128248113998,
          0.020117351215423303,
          0.020117351215423303,
          0.020117351215423303,
          0.020117351215423303,
          0.020117351215423303,
          0.020955574182732608,
          0.020955574182732608,
          0.020955574182732608,
          0.020955574182732608,
          0.020955574182732608,
          0.020955574182732608,
          0.020955574182732608,
          0.02179379715004191,
          0.02179379715004191,
          0.02179379715004191,
          0.02179379715004191,
          0.022632020117351215,
          0.022632020117351215,
          0.022632020117351215,
          0.02347024308466052,
          0.02347024308466052,
          0.02347024308466052,
          0.024308466051969825,
          0.024308466051969825,
          0.025984911986588432,
          0.025984911986588432,
          0.025984911986588432,
          0.026823134953897737,
          0.026823134953897737,
          0.026823134953897737,
          0.026823134953897737,
          0.026823134953897737,
          0.028499580888516344,
          0.028499580888516344,
          0.028499580888516344,
          0.030176026823134954,
          0.030176026823134954,
          0.03185247275775356,
          0.03185247275775356,
          0.03185247275775356,
          0.03185247275775356,
          0.03269069572506287,
          0.03269069572506287,
          0.03352891869237217,
          0.03352891869237217,
          0.03352891869237217,
          0.03352891869237217,
          0.03436714165968147,
          0.03436714165968147,
          0.03436714165968147,
          0.03436714165968147,
          0.03604358759430008,
          0.03604358759430008,
          0.036881810561609385,
          0.036881810561609385,
          0.037720033528918694,
          0.037720033528918694,
          0.038558256496227995,
          0.038558256496227995,
          0.039396479463537304,
          0.039396479463537304,
          0.039396479463537304,
          0.039396479463537304,
          0.04107292539815591,
          0.04107292539815591,
          0.041911148365465216,
          0.041911148365465216,
          0.041911148365465216,
          0.04945515507124895,
          0.04945515507124895,
          0.05113160100586756,
          0.05113160100586756,
          0.056160938809723386,
          0.056160938809723386,
          0.05699916177703269,
          0.05699916177703269,
          0.06705783738474434,
          0.06705783738474434,
          0.07208717518860017,
          0.07208717518860017,
          0.07795473595976529,
          0.07963118189438391,
          0.11986588432523052,
          0.11986588432523052,
          0.12489522212908634,
          0.12657166806370496,
          0.13160100586756077,
          0.13160100586756077,
          0.14585079631181894,
          0.14585079631181894,
          0.1567476948868399,
          0.1567476948868399,
          0.15926236378876782,
          0.15926236378876782,
          0.18440905280804695,
          0.18440905280804695,
          0.20452640402347025,
          0.20452640402347025,
          0.21039396479463537,
          0.21039396479463537,
          0.21207041072925398,
          0.21207041072925398,
          0.22464375523889354,
          0.22632020117351215,
          0.24811399832355407,
          0.24979044425817268,
          0.2749371332774518,
          0.2766135792120704,
          0.2766135792120704,
          0.30511316010058676,
          0.3076278290025147,
          0.3176865046102263,
          0.3193629505448449,
          0.3269069572506287,
          0.3269069572506287,
          0.3461860854987427,
          0.3461860854987427,
          0.3830678960603521,
          0.38558256496227994,
          0.393964794635373,
          0.393964794635373,
          0.40150880134115674,
          0.40402347024308466,
          0.4165968147527242,
          0.4165968147527242,
          0.4300083822296731,
          0.4333612740989103,
          0.44425817267393125,
          0.4459346186085499,
          0.45347862531433364,
          0.45347862531433364,
          0.4559932942162615,
          0.45934618608549876,
          0.46186085498742663,
          0.46186085498742663,
          0.4660519698239732,
          0.4677284157585918,
          0.48030176026823135,
          0.48197820620285,
          0.48197820620285,
          0.49706621961441744,
          0.5020955574182733,
          0.5088013411567477,
          0.5088013411567477,
          0.5113160100586757,
          0.5146689019279128,
          0.5272422464375524,
          0.528918692372171,
          0.5431684828164292,
          0.5448449287510477,
          0.5507124895222129,
          0.5523889354568315,
          0.5624476110645432,
          0.5658005029337804,
          0.6010058675607711,
          0.6035205364626991,
          0.6160938809723386,
          0.6211232187761945,
          0.6295054484492875,
          0.6295054484492875,
          0.6320201173512154,
          0.6320201173512154,
          0.636211232187762,
          0.6387259010896899,
          0.6580050293378038,
          0.6630343671416596,
          0.680637049455155,
          0.6823134953897737,
          0.702430846605197,
          0.7066219614417435,
          0.7158424140821459,
          0.7158424140821459,
          0.7292539815590947,
          0.7334450963956413,
          0.7376362112321878,
          0.7376362112321878,
          0.7527242246437552,
          0.7594300083822296,
          0.7678122380553227,
          0.7678122380553227,
          0.7803855825649623,
          0.7854149203688181,
          0.8063704945515507,
          0.8097233864207879,
          0.8398994132439229,
          0.8449287510477788,
          0.86756077116513,
          0.8734283319362951,
          0.8952221290863369,
          0.90360435875943,
          0.9178541492036881,
          0.9195305951383068,
          0.9245599329421627,
          0.9304274937133278,
          0.9329421626152556,
          0.9329421626152556,
          0.9371332774518022,
          0.9388097233864208,
          0.9564124056999161,
          0.9580888516345348,
          0.9681475272422464,
          0.989103101424979,
          0.989103101424979,
          0.9907795473595976,
          1
         ],
         "y": [
          0,
          0.04096989966555184,
          0.043478260869565216,
          0.04431438127090301,
          0.048494983277591976,
          0.05100334448160535,
          0.05434782608695652,
          0.056856187290969896,
          0.05852842809364549,
          0.061036789297658864,
          0.06354515050167224,
          0.06521739130434782,
          0.06939799331103678,
          0.07190635451505016,
          0.07357859531772576,
          0.07692307692307693,
          0.07859531772575251,
          0.08444816053511706,
          0.08946488294314381,
          0.09197324414715718,
          0.09531772575250837,
          0.09782608695652174,
          0.09949832775919733,
          0.10117056856187291,
          0.1028428093645485,
          0.10451505016722408,
          0.10618729096989966,
          0.10953177257525083,
          0.11120401337792642,
          0.11371237458193979,
          0.11538461538461539,
          0.12040133779264214,
          0.12207357859531773,
          0.12290969899665552,
          0.1245819397993311,
          0.1262541806020067,
          0.12792642140468227,
          0.12959866220735786,
          0.13127090301003344,
          0.13377926421404682,
          0.1354515050167224,
          0.13795986622073578,
          0.14297658862876253,
          0.1454849498327759,
          0.14715719063545152,
          0.1479933110367893,
          0.1496655518394649,
          0.1505016722408027,
          0.15217391304347827,
          0.18478260869565216,
          0.18645484949832775,
          0.18812709030100336,
          0.18896321070234115,
          0.19063545150501673,
          0.19147157190635453,
          0.1931438127090301,
          0.1948160535117057,
          0.19732441471571907,
          0.205685618729097,
          0.20819397993311037,
          0.20986622073578595,
          0.21153846153846154,
          0.21822742474916387,
          0.21989966555183946,
          0.22073578595317725,
          0.22324414715719063,
          0.22826086956521738,
          0.23327759197324416,
          0.23494983277591974,
          0.23662207357859533,
          0.2382943143812709,
          0.2408026755852843,
          0.24163879598662208,
          0.24331103678929766,
          0.24498327759197325,
          0.24665551839464883,
          0.24749163879598662,
          0.2525083612040134,
          0.25334448160535117,
          0.25501672240802675,
          0.25668896321070234,
          0.2583612040133779,
          0.2625418060200669,
          0.26421404682274247,
          0.26755852842809363,
          0.2692307692307692,
          0.2709030100334448,
          0.27424749163879597,
          0.27508361204013376,
          0.27675585284280935,
          0.2792642140468227,
          0.2809364548494983,
          0.2826086956521739,
          0.28595317725752506,
          0.29347826086956524,
          0.2976588628762542,
          0.2993311036789298,
          0.30183946488294316,
          0.30351170568561875,
          0.30434782608695654,
          0.3068561872909699,
          0.3102006688963211,
          0.31521739130434784,
          0.318561872909699,
          0.3210702341137124,
          0.32274247491638797,
          0.32357859531772576,
          0.32525083612040134,
          0.3269230769230769,
          0.3285953177257525,
          0.3302675585284281,
          0.3319397993311037,
          0.33612040133779264,
          0.3411371237458194,
          0.34364548494983277,
          0.34531772575250835,
          0.3486622073578595,
          0.3503344481605351,
          0.3528428093645485,
          0.35451505016722407,
          0.35535117056856186,
          0.35702341137123744,
          0.35785953177257523,
          0.3620401337792642,
          0.36705685618729095,
          0.3770903010033445,
          0.3787625418060201,
          0.38127090301003347,
          0.38461538461538464,
          0.387123745819398,
          0.387123745819398,
          0.3896321070234114,
          0.39214046822742477,
          0.39548494983277593,
          0.3963210702341137,
          0.3963210702341137,
          0.3979933110367893,
          0.3996655518394649,
          0.40301003344481606,
          0.40468227424749165,
          0.4080267558528428,
          0.4096989966555184,
          0.4122073578595318,
          0.41471571906354515,
          0.4188963210702341,
          0.4205685618729097,
          0.42391304347826086,
          0.42642140468227424,
          0.4331103678929766,
          0.4406354515050167,
          0.4414715719063545,
          0.4431438127090301,
          0.4439799331103679,
          0.44565217391304346,
          0.4531772575250836,
          0.45484949832775917,
          0.46070234113712377,
          0.46488294314381273,
          0.4665551839464883,
          0.4673913043478261,
          0.4673913043478261,
          0.4698996655518395,
          0.47324414715719065,
          0.47408026755852845,
          0.47575250836120403,
          0.4774247491638796,
          0.4790969899665552,
          0.479933110367893,
          0.4816053511705686,
          0.48411371237458195,
          0.48578595317725753,
          0.4866220735785953,
          0.4891304347826087,
          0.4891304347826087,
          0.4908026755852843,
          0.49331103678929766,
          0.4983277591973244,
          0.5,
          0.5083612040133779,
          0.5108695652173914,
          0.5142140468227425,
          0.5192307692307693,
          0.5209030100334449,
          0.5225752508361204,
          0.524247491638796,
          0.5250836120401338,
          0.5267558528428093,
          0.5292642140468228,
          0.5309364548494984,
          0.5317725752508361,
          0.5351170568561873,
          0.5392976588628763,
          0.5476588628762542,
          0.5493311036789298,
          0.5568561872909699,
          0.5585284280936454,
          0.5635451505016722,
          0.5660535117056856,
          0.5677257525083612,
          0.5702341137123745,
          0.5719063545150501,
          0.5735785953177257,
          0.5752508361204013,
          0.5777591973244147,
          0.580267558528428,
          0.5819397993311036,
          0.5827759197324415,
          0.5844481605351171,
          0.5869565217391305,
          0.5886287625418061,
          0.5911371237458194,
          0.5953177257525084,
          0.5978260869565217,
          0.6003344481605352,
          0.6011705685618729,
          0.6045150501672241,
          0.6061872909698997,
          0.6204013377926422,
          0.6237458193979933,
          0.6254180602006689,
          0.6304347826086957,
          0.632943143812709,
          0.6379598662207357,
          0.6387959866220736,
          0.6404682274247492,
          0.6421404682274248,
          0.6446488294314381,
          0.6463210702341137,
          0.6471571906354515,
          0.6488294314381271,
          0.6505016722408027,
          0.6538461538461539,
          0.6546822742474916,
          0.6563545150501672,
          0.6588628762541806,
          0.6605351170568562,
          0.6622073578595318,
          0.6638795986622074,
          0.6680602006688964,
          0.669732441471572,
          0.6722408026755853,
          0.6739130434782609,
          0.6780936454849499,
          0.6822742474916388,
          0.6839464882943144,
          0.6864548494983278,
          0.6864548494983278,
          0.689799331103679,
          0.6906354515050167,
          0.6923076923076923,
          0.6998327759197325,
          0.7015050167224081,
          0.7090301003344481,
          0.7123745819397993,
          0.7132107023411371,
          0.7148829431438127,
          0.7165551839464883,
          0.717391304347826,
          0.7207357859531772,
          0.7207357859531772,
          0.7224080267558528,
          0.7224080267558528,
          0.725752508361204,
          0.7265886287625418,
          0.7282608695652174,
          0.7290969899665551,
          0.7324414715719063,
          0.7357859531772575,
          0.7374581939799331,
          0.7374581939799331,
          0.7399665551839465,
          0.7416387959866221,
          0.745819397993311,
          0.745819397993311,
          0.7474916387959866,
          0.7525083612040134,
          0.7533444816053512,
          0.7558528428093646,
          0.7583612040133779,
          0.7608695652173914,
          0.7642140468227425,
          0.7658862876254181,
          0.7658862876254181,
          0.7667224080267558,
          0.7667224080267558,
          0.770066889632107,
          0.7725752508361204,
          0.7750836120401338,
          0.7767558528428093,
          0.7775919732441472,
          0.7792642140468228,
          0.782608695652174,
          0.7859531772575251,
          0.7876254180602007,
          0.790133779264214,
          0.7926421404682275,
          0.7934782608695652,
          0.7959866220735786,
          0.7976588628762542,
          0.7993311036789298,
          0.7993311036789298,
          0.8010033444816054,
          0.802675585284281,
          0.8060200668896321,
          0.8060200668896321,
          0.8068561872909699,
          0.8085284280936454,
          0.8093645484949833,
          0.8110367892976589,
          0.8135451505016722,
          0.81438127090301,
          0.81438127090301,
          0.8152173913043478,
          0.8168896321070234,
          0.8193979933110368,
          0.8210702341137124,
          0.8219063545150501,
          0.8219063545150501,
          0.8244147157190636,
          0.8260869565217391,
          0.8269230769230769,
          0.8269230769230769,
          0.8285953177257525,
          0.830267558528428,
          0.8319397993311036,
          0.8386287625418061,
          0.8403010033444817,
          0.8411371237458194,
          0.8444816053511706,
          0.8453177257525084,
          0.8453177257525084,
          0.8461538461538461,
          0.8478260869565217,
          0.8511705685618729,
          0.8520066889632107,
          0.8553511705685619,
          0.8561872909698997,
          0.8561872909698997,
          0.8570234113712375,
          0.8595317725752508,
          0.8637123745819398,
          0.8645484949832776,
          0.8645484949832776,
          0.867056856187291,
          0.867056856187291,
          0.8695652173913043,
          0.8729096989966555,
          0.8729096989966555,
          0.8745819397993311,
          0.8779264214046822,
          0.8795986622073578,
          0.8804347826086957,
          0.8804347826086957,
          0.8821070234113713,
          0.8854515050167224,
          0.8887959866220736,
          0.8913043478260869,
          0.8921404682274248,
          0.8938127090301003,
          0.8938127090301003,
          0.8963210702341137,
          0.8979933110367893,
          0.8988294314381271,
          0.8988294314381271,
          0.9021739130434783,
          0.9055183946488294,
          0.9055183946488294,
          0.9080267558528428,
          0.9122073578595318,
          0.9122073578595318,
          0.9147157190635451,
          0.9147157190635451,
          0.9172240802675585,
          0.9180602006688964,
          0.9180602006688964,
          0.9188963210702341,
          0.9205685618729097,
          0.9214046822742475,
          0.9230769230769231,
          0.9230769230769231,
          0.9264214046822743,
          0.927257525083612,
          0.927257525083612,
          0.9289297658862876,
          0.9289297658862876,
          0.9306020066889632,
          0.9322742474916388,
          0.9339464882943144,
          0.9339464882943144,
          0.9347826086956522,
          0.9347826086956522,
          0.9364548494983278,
          0.9381270903010034,
          0.9423076923076923,
          0.9423076923076923,
          0.9439799331103679,
          0.947324414715719,
          0.9481605351170569,
          0.9481605351170569,
          0.9498327759197325,
          0.9498327759197325,
          0.9506688963210702,
          0.9506688963210702,
          0.9515050167224081,
          0.9515050167224081,
          0.9523411371237458,
          0.9523411371237458,
          0.9540133779264214,
          0.955685618729097,
          0.9573578595317725,
          0.9573578595317725,
          0.9581939799331104,
          0.9581939799331104,
          0.959866220735786,
          0.9623745819397993,
          0.9623745819397993,
          0.967391304347826,
          0.967391304347826,
          0.9690635451505016,
          0.9690635451505016,
          0.9698996655518395,
          0.9698996655518395,
          0.9715719063545151,
          0.9715719063545151,
          0.9732441471571907,
          0.9732441471571907,
          0.9740802675585284,
          0.9740802675585284,
          0.9740802675585284,
          0.9740802675585284,
          0.9749163879598662,
          0.9749163879598662,
          0.9749163879598662,
          0.9749163879598662,
          0.975752508361204,
          0.975752508361204,
          0.9774247491638796,
          0.9774247491638796,
          0.9782608695652174,
          0.9782608695652174,
          0.9790969899665551,
          0.9790969899665551,
          0.979933110367893,
          0.979933110367893,
          0.9807692307692307,
          0.9807692307692307,
          0.9816053511705686,
          0.9816053511705686,
          0.9824414715719063,
          0.9824414715719063,
          0.9824414715719063,
          0.9824414715719063,
          0.9824414715719063,
          0.9824414715719063,
          0.9824414715719063,
          0.9832775919732442,
          0.9832775919732442,
          0.9832775919732442,
          0.9832775919732442,
          0.9832775919732442,
          0.9832775919732442,
          0.9841137123745819,
          0.9841137123745819,
          0.9849498327759197,
          0.9849498327759197,
          0.9849498327759197,
          0.9849498327759197,
          0.9857859531772575,
          0.9857859531772575,
          0.9857859531772575,
          0.9857859531772575,
          0.9866220735785953,
          0.9866220735785953,
          0.9866220735785953,
          0.9866220735785953,
          0.9866220735785953,
          0.9866220735785953,
          0.9882943143812709,
          0.9882943143812709,
          0.9882943143812709,
          0.9882943143812709,
          0.9899665551839465,
          0.9899665551839465,
          0.9899665551839465,
          0.9899665551839465,
          0.9899665551839465,
          0.9908026755852842,
          0.9908026755852842,
          0.9908026755852842,
          0.9908026755852842,
          0.9916387959866221,
          0.9916387959866221,
          0.9916387959866221,
          0.9916387959866221,
          0.9916387959866221,
          0.9916387959866221,
          0.9916387959866221,
          0.9916387959866221,
          0.9916387959866221,
          0.9916387959866221,
          0.9916387959866221,
          0.9916387959866221,
          0.9916387959866221,
          0.9916387959866221,
          0.9916387959866221,
          0.9916387959866221,
          0.9924749163879598,
          0.9924749163879598,
          0.9941471571906354,
          0.9941471571906354,
          0.9941471571906354,
          0.9941471571906354,
          0.9941471571906354,
          0.9941471571906354,
          0.9941471571906354,
          0.9941471571906354,
          0.9941471571906354,
          0.9941471571906354,
          0.9949832775919732,
          0.9949832775919732,
          0.9949832775919732,
          0.9949832775919732,
          0.995819397993311,
          0.995819397993311,
          0.995819397993311,
          0.995819397993311,
          0.9974916387959866,
          0.9974916387959866,
          0.9974916387959866,
          0.9974916387959866,
          0.9974916387959866,
          0.9974916387959866,
          0.9974916387959866,
          0.9974916387959866,
          0.9974916387959866,
          0.9974916387959866,
          0.9974916387959866,
          0.9974916387959866,
          0.9974916387959866,
          0.9974916387959866,
          0.9974916387959866,
          0.9974916387959866,
          0.9983277591973244,
          0.9983277591973244,
          0.9983277591973244,
          0.9983277591973244,
          0.9983277591973244,
          0.9983277591973244,
          0.9983277591973244,
          1,
          1,
          1
         ]
        },
        {
         "line": {
          "color": "black",
          "dash": "dash"
         },
         "mode": "lines",
         "name": "No skill",
         "type": "scatter",
         "x": [
          0,
          1
         ],
         "y": [
          0,
          1
         ]
        }
       ],
       "layout": {
        "height": 750,
        "template": {
         "data": {
          "bar": [
           {
            "error_x": {
             "color": "#2a3f5f"
            },
            "error_y": {
             "color": "#2a3f5f"
            },
            "marker": {
             "line": {
              "color": "white",
              "width": 0.5
             },
             "pattern": {
              "fillmode": "overlay",
              "size": 10,
              "solidity": 0.2
             }
            },
            "type": "bar"
           }
          ],
          "barpolar": [
           {
            "marker": {
             "line": {
              "color": "white",
              "width": 0.5
             },
             "pattern": {
              "fillmode": "overlay",
              "size": 10,
              "solidity": 0.2
             }
            },
            "type": "barpolar"
           }
          ],
          "carpet": [
           {
            "aaxis": {
             "endlinecolor": "#2a3f5f",
             "gridcolor": "#C8D4E3",
             "linecolor": "#C8D4E3",
             "minorgridcolor": "#C8D4E3",
             "startlinecolor": "#2a3f5f"
            },
            "baxis": {
             "endlinecolor": "#2a3f5f",
             "gridcolor": "#C8D4E3",
             "linecolor": "#C8D4E3",
             "minorgridcolor": "#C8D4E3",
             "startlinecolor": "#2a3f5f"
            },
            "type": "carpet"
           }
          ],
          "choropleth": [
           {
            "colorbar": {
             "outlinewidth": 0,
             "ticks": ""
            },
            "type": "choropleth"
           }
          ],
          "contour": [
           {
            "colorbar": {
             "outlinewidth": 0,
             "ticks": ""
            },
            "colorscale": [
             [
              0,
              "#0d0887"
             ],
             [
              0.1111111111111111,
              "#46039f"
             ],
             [
              0.2222222222222222,
              "#7201a8"
             ],
             [
              0.3333333333333333,
              "#9c179e"
             ],
             [
              0.4444444444444444,
              "#bd3786"
             ],
             [
              0.5555555555555556,
              "#d8576b"
             ],
             [
              0.6666666666666666,
              "#ed7953"
             ],
             [
              0.7777777777777778,
              "#fb9f3a"
             ],
             [
              0.8888888888888888,
              "#fdca26"
             ],
             [
              1,
              "#f0f921"
             ]
            ],
            "type": "contour"
           }
          ],
          "contourcarpet": [
           {
            "colorbar": {
             "outlinewidth": 0,
             "ticks": ""
            },
            "type": "contourcarpet"
           }
          ],
          "heatmap": [
           {
            "colorbar": {
             "outlinewidth": 0,
             "ticks": ""
            },
            "colorscale": [
             [
              0,
              "#0d0887"
             ],
             [
              0.1111111111111111,
              "#46039f"
             ],
             [
              0.2222222222222222,
              "#7201a8"
             ],
             [
              0.3333333333333333,
              "#9c179e"
             ],
             [
              0.4444444444444444,
              "#bd3786"
             ],
             [
              0.5555555555555556,
              "#d8576b"
             ],
             [
              0.6666666666666666,
              "#ed7953"
             ],
             [
              0.7777777777777778,
              "#fb9f3a"
             ],
             [
              0.8888888888888888,
              "#fdca26"
             ],
             [
              1,
              "#f0f921"
             ]
            ],
            "type": "heatmap"
           }
          ],
          "heatmapgl": [
           {
            "colorbar": {
             "outlinewidth": 0,
             "ticks": ""
            },
            "colorscale": [
             [
              0,
              "#0d0887"
             ],
             [
              0.1111111111111111,
              "#46039f"
             ],
             [
              0.2222222222222222,
              "#7201a8"
             ],
             [
              0.3333333333333333,
              "#9c179e"
             ],
             [
              0.4444444444444444,
              "#bd3786"
             ],
             [
              0.5555555555555556,
              "#d8576b"
             ],
             [
              0.6666666666666666,
              "#ed7953"
             ],
             [
              0.7777777777777778,
              "#fb9f3a"
             ],
             [
              0.8888888888888888,
              "#fdca26"
             ],
             [
              1,
              "#f0f921"
             ]
            ],
            "type": "heatmapgl"
           }
          ],
          "histogram": [
           {
            "marker": {
             "pattern": {
              "fillmode": "overlay",
              "size": 10,
              "solidity": 0.2
             }
            },
            "type": "histogram"
           }
          ],
          "histogram2d": [
           {
            "colorbar": {
             "outlinewidth": 0,
             "ticks": ""
            },
            "colorscale": [
             [
              0,
              "#0d0887"
             ],
             [
              0.1111111111111111,
              "#46039f"
             ],
             [
              0.2222222222222222,
              "#7201a8"
             ],
             [
              0.3333333333333333,
              "#9c179e"
             ],
             [
              0.4444444444444444,
              "#bd3786"
             ],
             [
              0.5555555555555556,
              "#d8576b"
             ],
             [
              0.6666666666666666,
              "#ed7953"
             ],
             [
              0.7777777777777778,
              "#fb9f3a"
             ],
             [
              0.8888888888888888,
              "#fdca26"
             ],
             [
              1,
              "#f0f921"
             ]
            ],
            "type": "histogram2d"
           }
          ],
          "histogram2dcontour": [
           {
            "colorbar": {
             "outlinewidth": 0,
             "ticks": ""
            },
            "colorscale": [
             [
              0,
              "#0d0887"
             ],
             [
              0.1111111111111111,
              "#46039f"
             ],
             [
              0.2222222222222222,
              "#7201a8"
             ],
             [
              0.3333333333333333,
              "#9c179e"
             ],
             [
              0.4444444444444444,
              "#bd3786"
             ],
             [
              0.5555555555555556,
              "#d8576b"
             ],
             [
              0.6666666666666666,
              "#ed7953"
             ],
             [
              0.7777777777777778,
              "#fb9f3a"
             ],
             [
              0.8888888888888888,
              "#fdca26"
             ],
             [
              1,
              "#f0f921"
             ]
            ],
            "type": "histogram2dcontour"
           }
          ],
          "mesh3d": [
           {
            "colorbar": {
             "outlinewidth": 0,
             "ticks": ""
            },
            "type": "mesh3d"
           }
          ],
          "parcoords": [
           {
            "line": {
             "colorbar": {
              "outlinewidth": 0,
              "ticks": ""
             }
            },
            "type": "parcoords"
           }
          ],
          "pie": [
           {
            "automargin": true,
            "type": "pie"
           }
          ],
          "scatter": [
           {
            "fillpattern": {
             "fillmode": "overlay",
             "size": 10,
             "solidity": 0.2
            },
            "type": "scatter"
           }
          ],
          "scatter3d": [
           {
            "line": {
             "colorbar": {
              "outlinewidth": 0,
              "ticks": ""
             }
            },
            "marker": {
             "colorbar": {
              "outlinewidth": 0,
              "ticks": ""
             }
            },
            "type": "scatter3d"
           }
          ],
          "scattercarpet": [
           {
            "marker": {
             "colorbar": {
              "outlinewidth": 0,
              "ticks": ""
             }
            },
            "type": "scattercarpet"
           }
          ],
          "scattergeo": [
           {
            "marker": {
             "colorbar": {
              "outlinewidth": 0,
              "ticks": ""
             }
            },
            "type": "scattergeo"
           }
          ],
          "scattergl": [
           {
            "marker": {
             "colorbar": {
              "outlinewidth": 0,
              "ticks": ""
             }
            },
            "type": "scattergl"
           }
          ],
          "scattermapbox": [
           {
            "marker": {
             "colorbar": {
              "outlinewidth": 0,
              "ticks": ""
             }
            },
            "type": "scattermapbox"
           }
          ],
          "scatterpolar": [
           {
            "marker": {
             "colorbar": {
              "outlinewidth": 0,
              "ticks": ""
             }
            },
            "type": "scatterpolar"
           }
          ],
          "scatterpolargl": [
           {
            "marker": {
             "colorbar": {
              "outlinewidth": 0,
              "ticks": ""
             }
            },
            "type": "scatterpolargl"
           }
          ],
          "scatterternary": [
           {
            "marker": {
             "colorbar": {
              "outlinewidth": 0,
              "ticks": ""
             }
            },
            "type": "scatterternary"
           }
          ],
          "surface": [
           {
            "colorbar": {
             "outlinewidth": 0,
             "ticks": ""
            },
            "colorscale": [
             [
              0,
              "#0d0887"
             ],
             [
              0.1111111111111111,
              "#46039f"
             ],
             [
              0.2222222222222222,
              "#7201a8"
             ],
             [
              0.3333333333333333,
              "#9c179e"
             ],
             [
              0.4444444444444444,
              "#bd3786"
             ],
             [
              0.5555555555555556,
              "#d8576b"
             ],
             [
              0.6666666666666666,
              "#ed7953"
             ],
             [
              0.7777777777777778,
              "#fb9f3a"
             ],
             [
              0.8888888888888888,
              "#fdca26"
             ],
             [
              1,
              "#f0f921"
             ]
            ],
            "type": "surface"
           }
          ],
          "table": [
           {
            "cells": {
             "fill": {
              "color": "#EBF0F8"
             },
             "line": {
              "color": "white"
             }
            },
            "header": {
             "fill": {
              "color": "#C8D4E3"
             },
             "line": {
              "color": "white"
             }
            },
            "type": "table"
           }
          ]
         },
         "layout": {
          "annotationdefaults": {
           "arrowcolor": "#2a3f5f",
           "arrowhead": 0,
           "arrowwidth": 1
          },
          "autotypenumbers": "strict",
          "coloraxis": {
           "colorbar": {
            "outlinewidth": 0,
            "ticks": ""
           }
          },
          "colorscale": {
           "diverging": [
            [
             0,
             "#8e0152"
            ],
            [
             0.1,
             "#c51b7d"
            ],
            [
             0.2,
             "#de77ae"
            ],
            [
             0.3,
             "#f1b6da"
            ],
            [
             0.4,
             "#fde0ef"
            ],
            [
             0.5,
             "#f7f7f7"
            ],
            [
             0.6,
             "#e6f5d0"
            ],
            [
             0.7,
             "#b8e186"
            ],
            [
             0.8,
             "#7fbc41"
            ],
            [
             0.9,
             "#4d9221"
            ],
            [
             1,
             "#276419"
            ]
           ],
           "sequential": [
            [
             0,
             "#0d0887"
            ],
            [
             0.1111111111111111,
             "#46039f"
            ],
            [
             0.2222222222222222,
             "#7201a8"
            ],
            [
             0.3333333333333333,
             "#9c179e"
            ],
            [
             0.4444444444444444,
             "#bd3786"
            ],
            [
             0.5555555555555556,
             "#d8576b"
            ],
            [
             0.6666666666666666,
             "#ed7953"
            ],
            [
             0.7777777777777778,
             "#fb9f3a"
            ],
            [
             0.8888888888888888,
             "#fdca26"
            ],
            [
             1,
             "#f0f921"
            ]
           ],
           "sequentialminus": [
            [
             0,
             "#0d0887"
            ],
            [
             0.1111111111111111,
             "#46039f"
            ],
            [
             0.2222222222222222,
             "#7201a8"
            ],
            [
             0.3333333333333333,
             "#9c179e"
            ],
            [
             0.4444444444444444,
             "#bd3786"
            ],
            [
             0.5555555555555556,
             "#d8576b"
            ],
            [
             0.6666666666666666,
             "#ed7953"
            ],
            [
             0.7777777777777778,
             "#fb9f3a"
            ],
            [
             0.8888888888888888,
             "#fdca26"
            ],
            [
             1,
             "#f0f921"
            ]
           ]
          },
          "colorway": [
           "#636efa",
           "#EF553B",
           "#00cc96",
           "#ab63fa",
           "#FFA15A",
           "#19d3f3",
           "#FF6692",
           "#B6E880",
           "#FF97FF",
           "#FECB52"
          ],
          "font": {
           "color": "#2a3f5f"
          },
          "geo": {
           "bgcolor": "white",
           "lakecolor": "white",
           "landcolor": "white",
           "showlakes": true,
           "showland": true,
           "subunitcolor": "#C8D4E3"
          },
          "hoverlabel": {
           "align": "left"
          },
          "hovermode": "closest",
          "mapbox": {
           "style": "light"
          },
          "paper_bgcolor": "white",
          "plot_bgcolor": "white",
          "polar": {
           "angularaxis": {
            "gridcolor": "#EBF0F8",
            "linecolor": "#EBF0F8",
            "ticks": ""
           },
           "bgcolor": "white",
           "radialaxis": {
            "gridcolor": "#EBF0F8",
            "linecolor": "#EBF0F8",
            "ticks": ""
           }
          },
          "scene": {
           "xaxis": {
            "backgroundcolor": "white",
            "gridcolor": "#DFE8F3",
            "gridwidth": 2,
            "linecolor": "#EBF0F8",
            "showbackground": true,
            "ticks": "",
            "zerolinecolor": "#EBF0F8"
           },
           "yaxis": {
            "backgroundcolor": "white",
            "gridcolor": "#DFE8F3",
            "gridwidth": 2,
            "linecolor": "#EBF0F8",
            "showbackground": true,
            "ticks": "",
            "zerolinecolor": "#EBF0F8"
           },
           "zaxis": {
            "backgroundcolor": "white",
            "gridcolor": "#DFE8F3",
            "gridwidth": 2,
            "linecolor": "#EBF0F8",
            "showbackground": true,
            "ticks": "",
            "zerolinecolor": "#EBF0F8"
           }
          },
          "shapedefaults": {
           "line": {
            "color": "#2a3f5f"
           }
          },
          "ternary": {
           "aaxis": {
            "gridcolor": "#DFE8F3",
            "linecolor": "#A2B1C6",
            "ticks": ""
           },
           "baxis": {
            "gridcolor": "#DFE8F3",
            "linecolor": "#A2B1C6",
            "ticks": ""
           },
           "bgcolor": "white",
           "caxis": {
            "gridcolor": "#DFE8F3",
            "linecolor": "#A2B1C6",
            "ticks": ""
           }
          },
          "title": {
           "x": 0.05
          },
          "xaxis": {
           "automargin": true,
           "gridcolor": "#EBF0F8",
           "linecolor": "#EBF0F8",
           "ticks": "",
           "title": {
            "standoff": 15
           },
           "zerolinecolor": "#EBF0F8",
           "zerolinewidth": 2
          },
          "yaxis": {
           "automargin": true,
           "gridcolor": "#EBF0F8",
           "linecolor": "#EBF0F8",
           "ticks": "",
           "title": {
            "standoff": 15
           },
           "zerolinecolor": "#EBF0F8",
           "zerolinewidth": 2
          }
         }
        },
        "title": {
         "text": "ROC for the best model, upsampled"
        },
        "width": 1000,
        "xaxis": {
         "title": {
          "text": "False positive rate"
         }
        },
        "yaxis": {
         "title": {
          "text": "True positive rate"
         }
        }
       }
      }
     },
     "metadata": {},
     "output_type": "display_data"
    }
   ],
   "source": [
    "print_best_params_and_metrics(study_upsampled.best_params, metrics)\n",
    "\n",
    "fig = optuna.visualization.plot_optimization_history(study_upsampled)\n",
    "fig.update_layout(template='plotly_white', width=FIG_WIDTH, height=FIG_HEIGHT)\n",
    "fig.show()\n",
    "\n",
    "fig = optuna.visualization.plot_slice(study_upsampled)\n",
    "fig.update_layout(template='plotly_white', width=FIG_WIDTH, height=FIG_HEIGHT)\n",
    "fig.update_xaxes(tickangle=-90)\n",
    "fig.show()\n",
    "\n",
    "fig = plot_roc_auc('upsampled', best_model, 'ROC for the best model, upsampled')\n",
    "fig.show()"
   ]
  },
  {
   "attachments": {},
   "cell_type": "markdown",
   "metadata": {},
   "source": [
    "# Выводы\n",
    "\n",
    "На основе результатов экспериментов мы наблюдаем значительные различия в метриках модели при использовании `upsamlping` по сравнению с оригинальным датасетом.\n",
    "\n",
    "Лучшей моделью в обоих случаях оказался классификатор `RandomForest` с `max_depth = 18` и `n_estimators = 158`. Однако эффективность этой модели на двух наборах данных довольно различна.\n",
    "\n",
    "Для набора данных без `upsampling`:\n",
    "\n",
    "1. Модель достигает значения F1-меры примерно 0,58 на валидационном наборе и 0,60 на тестовом наборе.\n",
    "2. Площадь под кривой (ROC-AUC) составляет около 0,72 для обоих наборов данных.\n",
    "\n",
    "В случае с `upsampling`:\n",
    "\n",
    "1. Значение F1-меры модели значительно улучшается, достигая около 0,94 как для валидационного, так и для тестового наборов данных.\n",
    "2. ROC-AUC также значительно повышается, достигая приблизительно 0,94 для обоих наборов.\n",
    "\n",
    "Метод `upsampling` эффективно справляется с дисбалансом классов в наборе данных, что приводит к улучшению качества предсказаний миноритарного класса. Поэтому, в этом конкретном случае, применение `upsampling` оказалось подходящим решением.\n",
    "\n",
    "Важно отметить, что выбор `upsampling`, модели и ее гиперпараметров должен производиться тщательно, с учетом контекста проблемы и специфических характеристик данных. Кроме того, очень важно проверить, что модель не переобучается на данных с `upsampling`, и производительность на новых данных сохраняется.\n",
    "\n",
    "Наконец, стоит рассмотреть другие метрики и деловые цели, помимо F1 и ROC-AUC, чтобы получить всестороннее понимание качества модели.\n"
   ]
  }
 ],
 "metadata": {
  "ExecuteTimeLog": [
   {
    "duration": 1605,
    "start_time": "2023-05-21T19:46:45.978Z"
   },
   {
    "duration": 35,
    "start_time": "2023-05-21T19:46:52.071Z"
   },
   {
    "duration": 836,
    "start_time": "2023-05-21T19:46:54.792Z"
   },
   {
    "duration": 168,
    "start_time": "2023-05-21T19:48:12.739Z"
   },
   {
    "duration": 73,
    "start_time": "2023-05-21T19:48:16.311Z"
   },
   {
    "duration": 24,
    "start_time": "2023-05-21T19:48:16.386Z"
   },
   {
    "duration": 360,
    "start_time": "2023-05-21T19:48:16.412Z"
   },
   {
    "duration": 6,
    "start_time": "2023-05-21T19:48:16.774Z"
   },
   {
    "duration": 321,
    "start_time": "2023-05-21T19:48:16.781Z"
   },
   {
    "duration": 64,
    "start_time": "2023-05-21T19:48:17.103Z"
   },
   {
    "duration": 12362,
    "start_time": "2023-05-21T19:48:22.972Z"
   },
   {
    "duration": 108,
    "start_time": "2023-05-21T19:48:35.337Z"
   },
   {
    "duration": 1385,
    "start_time": "2023-05-22T18:16:08.557Z"
   },
   {
    "duration": 37,
    "start_time": "2023-05-22T18:16:09.944Z"
   },
   {
    "duration": 865,
    "start_time": "2023-05-22T18:16:09.983Z"
   },
   {
    "duration": 9,
    "start_time": "2023-05-22T18:16:10.849Z"
   },
   {
    "duration": 119,
    "start_time": "2023-05-22T18:16:10.860Z"
   },
   {
    "duration": 0,
    "start_time": "2023-05-22T18:16:10.982Z"
   },
   {
    "duration": 0,
    "start_time": "2023-05-22T18:16:10.984Z"
   },
   {
    "duration": 0,
    "start_time": "2023-05-22T18:16:10.986Z"
   },
   {
    "duration": 0,
    "start_time": "2023-05-22T18:16:10.989Z"
   },
   {
    "duration": 0,
    "start_time": "2023-05-22T18:16:10.990Z"
   },
   {
    "duration": 0,
    "start_time": "2023-05-22T18:16:10.991Z"
   },
   {
    "duration": 0,
    "start_time": "2023-05-22T18:16:10.993Z"
   },
   {
    "duration": 2493,
    "start_time": "2023-05-22T18:16:36.511Z"
   },
   {
    "duration": 2398,
    "start_time": "2023-05-22T18:16:49.695Z"
   },
   {
    "duration": 9,
    "start_time": "2023-05-22T18:18:55.751Z"
   },
   {
    "duration": 9,
    "start_time": "2023-05-22T18:19:30.158Z"
   },
   {
    "duration": 11,
    "start_time": "2023-05-22T18:20:12.910Z"
   },
   {
    "duration": 9,
    "start_time": "2023-05-22T18:20:21.983Z"
   },
   {
    "duration": 77,
    "start_time": "2023-05-22T18:20:32.174Z"
   },
   {
    "duration": 87,
    "start_time": "2023-05-22T18:20:35.022Z"
   },
   {
    "duration": 10,
    "start_time": "2023-05-22T18:20:41.677Z"
   },
   {
    "duration": 11,
    "start_time": "2023-05-22T18:21:11.639Z"
   },
   {
    "duration": 9,
    "start_time": "2023-05-22T18:21:20.782Z"
   },
   {
    "duration": 8,
    "start_time": "2023-05-22T18:23:28.845Z"
   },
   {
    "duration": 13,
    "start_time": "2023-05-22T18:23:42.013Z"
   },
   {
    "duration": 10,
    "start_time": "2023-05-22T18:25:45.151Z"
   },
   {
    "duration": 33,
    "start_time": "2023-05-22T18:29:58.816Z"
   },
   {
    "duration": 45,
    "start_time": "2023-05-22T18:30:04.874Z"
   },
   {
    "duration": 9,
    "start_time": "2023-05-22T18:30:19.373Z"
   },
   {
    "duration": 29,
    "start_time": "2023-05-22T18:30:24.428Z"
   },
   {
    "duration": 9,
    "start_time": "2023-05-22T18:30:28.442Z"
   },
   {
    "duration": 70,
    "start_time": "2023-05-22T18:30:47.915Z"
   },
   {
    "duration": 9,
    "start_time": "2023-05-22T18:30:50.837Z"
   },
   {
    "duration": 11,
    "start_time": "2023-05-22T18:30:54.031Z"
   },
   {
    "duration": 12,
    "start_time": "2023-05-22T18:31:03.340Z"
   },
   {
    "duration": 9,
    "start_time": "2023-05-22T18:31:06.987Z"
   },
   {
    "duration": 9,
    "start_time": "2023-05-22T18:31:08.197Z"
   },
   {
    "duration": 26,
    "start_time": "2023-05-22T18:31:09.340Z"
   },
   {
    "duration": 179,
    "start_time": "2023-05-22T18:31:26.445Z"
   },
   {
    "duration": 1293,
    "start_time": "2023-05-22T18:31:50.893Z"
   },
   {
    "duration": 17,
    "start_time": "2023-05-22T18:31:52.188Z"
   },
   {
    "duration": 25,
    "start_time": "2023-05-22T18:31:52.207Z"
   },
   {
    "duration": 27,
    "start_time": "2023-05-22T18:31:52.234Z"
   },
   {
    "duration": 773,
    "start_time": "2023-05-22T18:31:52.263Z"
   },
   {
    "duration": 9,
    "start_time": "2023-05-22T18:31:53.037Z"
   },
   {
    "duration": 2404,
    "start_time": "2023-05-22T18:31:53.048Z"
   },
   {
    "duration": 184,
    "start_time": "2023-05-22T18:31:55.453Z"
   },
   {
    "duration": 0,
    "start_time": "2023-05-22T18:31:55.638Z"
   },
   {
    "duration": 0,
    "start_time": "2023-05-22T18:31:55.640Z"
   },
   {
    "duration": 0,
    "start_time": "2023-05-22T18:31:55.640Z"
   },
   {
    "duration": 0,
    "start_time": "2023-05-22T18:31:55.642Z"
   },
   {
    "duration": 0,
    "start_time": "2023-05-22T18:31:55.643Z"
   },
   {
    "duration": 0,
    "start_time": "2023-05-22T18:31:55.644Z"
   },
   {
    "duration": 13,
    "start_time": "2023-05-22T18:34:11.456Z"
   },
   {
    "duration": 25,
    "start_time": "2023-05-22T18:34:14.034Z"
   },
   {
    "duration": 2245,
    "start_time": "2023-05-22T18:34:26.018Z"
   },
   {
    "duration": 638,
    "start_time": "2023-05-22T18:34:37.931Z"
   },
   {
    "duration": 628,
    "start_time": "2023-05-22T18:34:58.575Z"
   },
   {
    "duration": 46,
    "start_time": "2023-05-22T18:35:11.934Z"
   },
   {
    "duration": 2240,
    "start_time": "2023-05-22T18:35:58.893Z"
   },
   {
    "duration": 46,
    "start_time": "2023-05-22T18:36:10.737Z"
   },
   {
    "duration": 35006,
    "start_time": "2023-05-22T18:43:11.984Z"
   },
   {
    "duration": 72,
    "start_time": "2023-05-22T18:44:58.325Z"
   },
   {
    "duration": 60,
    "start_time": "2023-05-22T18:45:29.078Z"
   },
   {
    "duration": 110,
    "start_time": "2023-05-22T18:46:32.716Z"
   },
   {
    "duration": 17,
    "start_time": "2023-05-22T18:48:06.773Z"
   },
   {
    "duration": 29,
    "start_time": "2023-05-22T18:48:19.134Z"
   },
   {
    "duration": 1344,
    "start_time": "2023-05-22T18:48:49.944Z"
   },
   {
    "duration": 22,
    "start_time": "2023-05-22T18:48:51.291Z"
   },
   {
    "duration": 16,
    "start_time": "2023-05-22T18:48:51.315Z"
   },
   {
    "duration": 26,
    "start_time": "2023-05-22T18:48:51.333Z"
   },
   {
    "duration": 711,
    "start_time": "2023-05-22T18:48:51.362Z"
   },
   {
    "duration": 9,
    "start_time": "2023-05-22T18:48:52.074Z"
   },
   {
    "duration": 2355,
    "start_time": "2023-05-22T18:48:52.085Z"
   },
   {
    "duration": 46,
    "start_time": "2023-05-22T18:48:54.442Z"
   },
   {
    "duration": 200,
    "start_time": "2023-05-22T18:48:54.489Z"
   },
   {
    "duration": 0,
    "start_time": "2023-05-22T18:48:54.691Z"
   },
   {
    "duration": 0,
    "start_time": "2023-05-22T18:48:54.693Z"
   },
   {
    "duration": 0,
    "start_time": "2023-05-22T18:48:54.694Z"
   },
   {
    "duration": 0,
    "start_time": "2023-05-22T18:48:54.695Z"
   },
   {
    "duration": 0,
    "start_time": "2023-05-22T18:48:54.696Z"
   },
   {
    "duration": 35180,
    "start_time": "2023-05-22T18:49:14.678Z"
   },
   {
    "duration": 29,
    "start_time": "2023-05-22T18:51:33.684Z"
   },
   {
    "duration": 36161,
    "start_time": "2023-05-22T18:59:42.601Z"
   },
   {
    "duration": 29,
    "start_time": "2023-05-22T19:00:25.095Z"
   },
   {
    "duration": 1322,
    "start_time": "2023-05-22T19:00:47.296Z"
   },
   {
    "duration": 1470,
    "start_time": "2023-05-22T19:01:46.489Z"
   },
   {
    "duration": 25,
    "start_time": "2023-05-22T19:02:02.352Z"
   },
   {
    "duration": 25,
    "start_time": "2023-05-22T19:02:11.960Z"
   },
   {
    "duration": 1220,
    "start_time": "2023-05-22T19:02:35.260Z"
   },
   {
    "duration": 6,
    "start_time": "2023-05-22T19:02:45.317Z"
   },
   {
    "duration": 13,
    "start_time": "2023-05-22T19:02:50.617Z"
   },
   {
    "duration": 13,
    "start_time": "2023-05-22T19:02:53.456Z"
   },
   {
    "duration": 30,
    "start_time": "2023-05-22T19:02:57.872Z"
   },
   {
    "duration": 1464,
    "start_time": "2023-05-22T19:03:02.297Z"
   },
   {
    "duration": 14,
    "start_time": "2023-05-22T19:03:10.960Z"
   },
   {
    "duration": 17,
    "start_time": "2023-05-22T19:03:28.776Z"
   },
   {
    "duration": 22,
    "start_time": "2023-05-22T19:03:33.560Z"
   },
   {
    "duration": 118,
    "start_time": "2023-05-22T19:03:46.106Z"
   },
   {
    "duration": 194,
    "start_time": "2023-05-22T19:05:43.456Z"
   },
   {
    "duration": 223,
    "start_time": "2023-05-22T19:06:06.752Z"
   },
   {
    "duration": 4,
    "start_time": "2023-05-22T19:06:09.856Z"
   },
   {
    "duration": 13,
    "start_time": "2023-05-22T19:08:23.155Z"
   },
   {
    "duration": 48,
    "start_time": "2023-05-22T19:08:27.164Z"
   },
   {
    "duration": 206,
    "start_time": "2023-05-22T19:08:48.168Z"
   },
   {
    "duration": 21,
    "start_time": "2023-05-22T19:08:51.352Z"
   },
   {
    "duration": 50,
    "start_time": "2023-05-22T19:09:09.387Z"
   },
   {
    "duration": 79,
    "start_time": "2023-05-22T19:11:42.417Z"
   },
   {
    "duration": 42,
    "start_time": "2023-05-22T19:11:44.002Z"
   },
   {
    "duration": 98,
    "start_time": "2023-05-22T19:11:52.163Z"
   },
   {
    "duration": 42,
    "start_time": "2023-05-22T19:11:53.777Z"
   },
   {
    "duration": 122,
    "start_time": "2023-05-22T19:12:02.124Z"
   },
   {
    "duration": 43,
    "start_time": "2023-05-22T19:12:03.660Z"
   },
   {
    "duration": 134,
    "start_time": "2023-05-22T19:12:12.560Z"
   },
   {
    "duration": 49,
    "start_time": "2023-05-22T19:12:13.873Z"
   },
   {
    "duration": 155,
    "start_time": "2023-05-22T19:12:23.064Z"
   },
   {
    "duration": 48,
    "start_time": "2023-05-22T19:12:25.472Z"
   },
   {
    "duration": 204,
    "start_time": "2023-05-22T19:12:41.581Z"
   },
   {
    "duration": 55,
    "start_time": "2023-05-22T19:12:43.242Z"
   },
   {
    "duration": 2488,
    "start_time": "2023-05-22T19:12:51.360Z"
   },
   {
    "duration": 41,
    "start_time": "2023-05-22T19:12:54.281Z"
   },
   {
    "duration": 12,
    "start_time": "2023-05-22T19:13:13.504Z"
   },
   {
    "duration": 131,
    "start_time": "2023-05-22T19:13:36.504Z"
   },
   {
    "duration": 46,
    "start_time": "2023-05-22T19:13:38.017Z"
   },
   {
    "duration": 15,
    "start_time": "2023-05-22T19:14:18.176Z"
   },
   {
    "duration": 6,
    "start_time": "2023-05-22T19:14:23.481Z"
   },
   {
    "duration": 12,
    "start_time": "2023-05-22T19:14:25.159Z"
   },
   {
    "duration": 22,
    "start_time": "2023-05-22T19:14:26.767Z"
   },
   {
    "duration": 68,
    "start_time": "2023-05-22T19:14:31.816Z"
   },
   {
    "duration": 49,
    "start_time": "2023-05-22T19:14:40.818Z"
   }
  ],
  "kernelspec": {
   "display_name": "Python 3 (ipykernel)",
   "language": "python",
   "name": "python3"
  },
  "language_info": {
   "codemirror_mode": {
    "name": "ipython",
    "version": 3
   },
   "file_extension": ".py",
   "mimetype": "text/x-python",
   "name": "python",
   "nbconvert_exporter": "python",
   "pygments_lexer": "ipython3",
   "version": "3.9.7"
  },
  "toc": {
   "base_numbering": 1,
   "nav_menu": {},
   "number_sections": true,
   "sideBar": true,
   "skip_h1_title": true,
   "title_cell": "Table of Contents",
   "title_sidebar": "Contents",
   "toc_cell": false,
   "toc_position": {},
   "toc_section_display": true,
   "toc_window_display": false
  },
  "vscode": {
   "interpreter": {
    "hash": "95633e14b7ea774968f538ab8687a60d358136f4a990a7903a22cc539dc1dcdb"
   }
  }
 },
 "nbformat": 4,
 "nbformat_minor": 2
}
