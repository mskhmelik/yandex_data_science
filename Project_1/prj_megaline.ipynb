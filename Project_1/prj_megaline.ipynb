{
 "cells": [
  {
   "attachments": {},
   "cell_type": "markdown",
   "metadata": {},
   "source": [
    "# Final Project - A/B testing\n",
    "\n",
    "## Introduction\n",
    "\n",
    "**Project Description**\n",
    "\n",
    "Our task is to evaluate the results of an A/B test. We have a dataset containing user actions, a technical specification, and several auxiliary datasets. Our objectives are:\n",
    "\n",
    "1. Assess the correctness of the test implementation.\n",
    "2. Analyze the test results.\n",
    "\n",
    "To evaluate the correctness of the test implementation, we will check the following:\n",
    "\n",
    "1. Intersection of the test audience with a competing test.\n",
    "2. Alignment of the test with marketing events and other issues regarding the temporal boundaries of the test.\n",
    "\n",
    "**Technical Specification**\n",
    "\n",
    "1. Test name: `recommender_system_test`.\n",
    "2. Groups: A - control group, B - new payment funnel.\n",
    "3. Launch date: December 7, 2020.\n",
    "4. Date to stop collecting new users: December 21, 2020.\n",
    "5. End date: January 4, 2021.\n",
    "6. Audience: 15% of new users from the EU region.\n",
    "7. Test objective: testing changes related to the implementation of an improved recommender system.\n",
    "8. Expected number of test participants: 6000.\n",
    "9. Expected effect: within 14 days from registration, users should show an improvement of at least 10% for each metric: conversion to product page views (event: product_page), views of the product cart (event: product_cart), and purchases (event: purchase).\n",
    "\n",
    "**Data Description**\n",
    "\n",
    "`ab_project_marketing_events.csv` - calendar of marketing events for the year 2020.\n",
    "\n",
    "File structure:\n",
    "1. `name` - name of the marketing event.\n",
    "2. `regions` - regions where the advertising campaign will take place.\n",
    "3. `start_dt` - start date of the campaign.\n",
    "4. `finish_dt` - end date of the campaign.\n",
    "\n",
    "`final_ab_new_users.csv` - users who registered from December 7 to December 21, 2020.\n",
    "\n",
    "File structure:\n",
    "1. `user_id` - user identifier.\n",
    "2. `first_date` - registration date.\n",
    "3. `region` - user's region.\n",
    "4. `device` - device used for registration.\n",
    "\n",
    "`final_ab_events.csv` - actions of new users from December 7, 2020, to January 4, 2021.\n",
    "\n",
    "File structure:\n",
    "1. `user_id` - user identifier.\n",
    "2. `event_dt` - date and time of the event.\n",
    "3. `event_name` - type of event.\n",
    "4. `details` - additional data about the event. For purchases (event: purchase), this field contains the cost of the purchase in dollars.\n",
    "\n",
    "`final_ab_participants.csv` - table of test participants.\n",
    "\n",
    "File structure:\n",
    "1. `user_id` - user identifier.\n",
    "2. `ab_test` - test name.\n",
    "3. `group` - user group.\n",
    "\n",
    "**Work Plan**\n",
    "\n",
    "1. Data exploration: type conversion, identification of missing values and duplicates.\n",
    "2. Assess the correctness of the test implementation. Check the following:\n",
    "   1. Data compliance with the technical specification. Correctness of all technical specification points.\n",
    "   2. Test timing: it should not coincide with marketing or other activities.\n",
    "   3. Test audience: ensure there are no overlaps with a competing test and no users participating in both test groups simultaneously. Check the uniform distribution across test groups and the correctness of their formation.\n",
    "3. Perform exploratory data analysis:\n",
    "   1. Are the number of events per user evenly distributed in the samples?\n",
    "   2. How is the number of events distributed over the days in the samples?\n",
    "   3. How does the conversion in the funnel change at different stages in the samples?\n",
    "   4. What data peculiarities should be considered before starting A/B testing?\n",
    "4. Evaluate the results of A/B testing:\n",
    "   1. What can be said about the results of A/B testing?\n",
    "   2. Check the statistical difference in proportions using the z-test.\n",
    "5. Make a general conclusion about the correctness of the test implementation.\n"
   ]
  },
  {
   "cell_type": "code",
   "execution_count": 2,
   "metadata": {},
   "outputs": [],
   "source": [
    "import pandas as pd\n",
    "import numpy as np\n",
    "import math as mth\n",
    "import plotly.express as px\n",
    "from scipy import stats as st\n",
    "from IPython.display import display\n",
    "\n",
    "# Save raw datasets in case we need them\n",
    "try:\n",
    "    raw_new_users = pd.read_csv('final_ab_new_users.csv')\n",
    "    raw_test_users = pd.read_csv('final_ab_participants.csv')\n",
    "    raw_events = pd.read_csv('final_ab_events.csv')\n",
    "    raw_marketing = pd.read_csv('ab_project_marketing_events.csv')\n",
    "except:\n",
    "    raw_new_users = pd.read_csv('/datasets/final_ab_new_users.csv')\n",
    "    raw_test_users = pd.read_csv('/datasets/final_ab_participants.csv')\n",
    "    raw_events = pd.read_csv('/datasets/final_ab_events.csv')\n",
    "    raw_marketing = pd.read_csv('/datasets/ab_project_marketing_events.csv')\n",
    "\n",
    "# Constants, which we will need later\n",
    "FIG_WIDTH = 8\n",
    "FIG_HEIGHT = 5\n"
   ]
  },
  {
   "attachments": {},
   "cell_type": "markdown",
   "metadata": {},
   "source": [
    "## Data preprocessing\n",
    "\n",
    "To begin, let's examine the data we have received. We are interested in the following:\n",
    "\n",
    "1. Column names.\n",
    "2. Values in the columns that are not of the appropriate data type.\n",
    "3. Missing values.\n",
    "4. Additional columns and their respective data types.\n",
    "\n",
    "Let's do one-by-one."
   ]
  },
  {
   "cell_type": "code",
   "execution_count": 3,
   "metadata": {},
   "outputs": [
    {
     "name": "stdout",
     "output_type": "stream",
     "text": [
      "--------------------------------------------------\n",
      "<class 'pandas.core.frame.DataFrame'>\n",
      "RangeIndex: 61733 entries, 0 to 61732\n",
      "Data columns (total 4 columns):\n",
      " #   Column      Non-Null Count  Dtype \n",
      "---  ------      --------------  ----- \n",
      " 0   user_id     61733 non-null  object\n",
      " 1   first_date  61733 non-null  object\n",
      " 2   region      61733 non-null  object\n",
      " 3   device      61733 non-null  object\n",
      "dtypes: object(4)\n",
      "memory usage: 1.9+ MB\n",
      "--------------------------------------------------\n",
      "<class 'pandas.core.frame.DataFrame'>\n",
      "RangeIndex: 18268 entries, 0 to 18267\n",
      "Data columns (total 3 columns):\n",
      " #   Column   Non-Null Count  Dtype \n",
      "---  ------   --------------  ----- \n",
      " 0   user_id  18268 non-null  object\n",
      " 1   group    18268 non-null  object\n",
      " 2   ab_test  18268 non-null  object\n",
      "dtypes: object(3)\n",
      "memory usage: 428.3+ KB\n",
      "--------------------------------------------------\n",
      "<class 'pandas.core.frame.DataFrame'>\n",
      "RangeIndex: 440317 entries, 0 to 440316\n",
      "Data columns (total 4 columns):\n",
      " #   Column      Non-Null Count   Dtype  \n",
      "---  ------      --------------   -----  \n",
      " 0   user_id     440317 non-null  object \n",
      " 1   event_dt    440317 non-null  object \n",
      " 2   event_name  440317 non-null  object \n",
      " 3   details     62740 non-null   float64\n",
      "dtypes: float64(1), object(3)\n",
      "memory usage: 13.4+ MB\n",
      "--------------------------------------------------\n",
      "<class 'pandas.core.frame.DataFrame'>\n",
      "RangeIndex: 14 entries, 0 to 13\n",
      "Data columns (total 4 columns):\n",
      " #   Column     Non-Null Count  Dtype \n",
      "---  ------     --------------  ----- \n",
      " 0   name       14 non-null     object\n",
      " 1   regions    14 non-null     object\n",
      " 2   start_dt   14 non-null     object\n",
      " 3   finish_dt  14 non-null     object\n",
      "dtypes: object(4)\n",
      "memory usage: 576.0+ bytes\n"
     ]
    }
   ],
   "source": [
    "for dataset in [raw_new_users, raw_test_users, raw_events, raw_marketing]:\n",
    "    print('-' * 50)\n",
    "    dataset.info()\n"
   ]
  },
  {
   "attachments": {},
   "cell_type": "markdown",
   "metadata": {},
   "source": [
    "The column names are already properly defined. We have encountered a considerable number of missing values in the `raw_events` dataset, which may be attributed to the data collection process. Lastly, we need to establish the appropriate data types for the date columns.\n",
    "\n",
    "Let's examine the contents of these tables in more detail:"
   ]
  },
  {
   "cell_type": "code",
   "execution_count": 4,
   "metadata": {},
   "outputs": [
    {
     "data": {
      "text/html": [
       "<div>\n",
       "<style scoped>\n",
       "    .dataframe tbody tr th:only-of-type {\n",
       "        vertical-align: middle;\n",
       "    }\n",
       "\n",
       "    .dataframe tbody tr th {\n",
       "        vertical-align: top;\n",
       "    }\n",
       "\n",
       "    .dataframe thead th {\n",
       "        text-align: right;\n",
       "    }\n",
       "</style>\n",
       "<table border=\"1\" class=\"dataframe\">\n",
       "  <thead>\n",
       "    <tr style=\"text-align: right;\">\n",
       "      <th>index</th>\n",
       "      <th>region</th>\n",
       "      <th>Android</th>\n",
       "      <th>Mac</th>\n",
       "      <th>PC</th>\n",
       "      <th>iPhone</th>\n",
       "      <th>All</th>\n",
       "    </tr>\n",
       "  </thead>\n",
       "  <tbody>\n",
       "    <tr>\n",
       "      <th>2</th>\n",
       "      <td>EU</td>\n",
       "      <td>20629</td>\n",
       "      <td>4575</td>\n",
       "      <td>11693</td>\n",
       "      <td>9373</td>\n",
       "      <td>46270</td>\n",
       "    </tr>\n",
       "    <tr>\n",
       "      <th>3</th>\n",
       "      <td>N.America</td>\n",
       "      <td>4077</td>\n",
       "      <td>883</td>\n",
       "      <td>2327</td>\n",
       "      <td>1868</td>\n",
       "      <td>9155</td>\n",
       "    </tr>\n",
       "    <tr>\n",
       "      <th>1</th>\n",
       "      <td>CIS</td>\n",
       "      <td>1413</td>\n",
       "      <td>310</td>\n",
       "      <td>776</td>\n",
       "      <td>656</td>\n",
       "      <td>3155</td>\n",
       "    </tr>\n",
       "    <tr>\n",
       "      <th>0</th>\n",
       "      <td>APAC</td>\n",
       "      <td>1401</td>\n",
       "      <td>316</td>\n",
       "      <td>803</td>\n",
       "      <td>633</td>\n",
       "      <td>3153</td>\n",
       "    </tr>\n",
       "    <tr>\n",
       "      <th>4</th>\n",
       "      <td>All</td>\n",
       "      <td>27520</td>\n",
       "      <td>6084</td>\n",
       "      <td>15599</td>\n",
       "      <td>12530</td>\n",
       "      <td>61733</td>\n",
       "    </tr>\n",
       "  </tbody>\n",
       "</table>\n",
       "</div>"
      ],
      "text/plain": [
       "index     region  Android   Mac     PC  iPhone    All\n",
       "2             EU    20629  4575  11693    9373  46270\n",
       "3      N.America     4077   883   2327    1868   9155\n",
       "1            CIS     1413   310    776     656   3155\n",
       "0           APAC     1401   316    803     633   3153\n",
       "4            All    27520  6084  15599   12530  61733"
      ]
     },
     "execution_count": 4,
     "metadata": {},
     "output_type": "execute_result"
    }
   ],
   "source": [
    "(raw_new_users\n",
    " .fillna('NA')\n",
    " .pivot_table(index='region', columns='device', values='user_id', aggfunc='nunique', margins=True)\n",
    " .reset_index()\n",
    " .rename_axis('index', axis=1)\n",
    " .assign(sort_key=lambda df: df.region == 'All')\n",
    " .sort_values(['sort_key', 'All'], ascending=[True, False])\n",
    " .drop('sort_key', axis=1)\n",
    ")\n"
   ]
  },
  {
   "cell_type": "code",
   "execution_count": 5,
   "metadata": {},
   "outputs": [
    {
     "data": {
      "text/html": [
       "<div>\n",
       "<style scoped>\n",
       "    .dataframe tbody tr th:only-of-type {\n",
       "        vertical-align: middle;\n",
       "    }\n",
       "\n",
       "    .dataframe tbody tr th {\n",
       "        vertical-align: top;\n",
       "    }\n",
       "\n",
       "    .dataframe thead th {\n",
       "        text-align: right;\n",
       "    }\n",
       "</style>\n",
       "<table border=\"1\" class=\"dataframe\">\n",
       "  <thead>\n",
       "    <tr style=\"text-align: right;\">\n",
       "      <th>index</th>\n",
       "      <th>group</th>\n",
       "      <th>interface_eu_test</th>\n",
       "      <th>recommender_system_test</th>\n",
       "      <th>All</th>\n",
       "    </tr>\n",
       "  </thead>\n",
       "  <tbody>\n",
       "    <tr>\n",
       "      <th>0</th>\n",
       "      <td>A</td>\n",
       "      <td>5831</td>\n",
       "      <td>3824</td>\n",
       "      <td>9173</td>\n",
       "    </tr>\n",
       "    <tr>\n",
       "      <th>1</th>\n",
       "      <td>B</td>\n",
       "      <td>5736</td>\n",
       "      <td>2877</td>\n",
       "      <td>8269</td>\n",
       "    </tr>\n",
       "    <tr>\n",
       "      <th>2</th>\n",
       "      <td>All</td>\n",
       "      <td>11567</td>\n",
       "      <td>6701</td>\n",
       "      <td>16666</td>\n",
       "    </tr>\n",
       "  </tbody>\n",
       "</table>\n",
       "</div>"
      ],
      "text/plain": [
       "index group  interface_eu_test  recommender_system_test    All\n",
       "0         A               5831                     3824   9173\n",
       "1         B               5736                     2877   8269\n",
       "2       All              11567                     6701  16666"
      ]
     },
     "execution_count": 5,
     "metadata": {},
     "output_type": "execute_result"
    }
   ],
   "source": [
    "(raw_test_users\n",
    " .fillna('NA')\n",
    " .pivot_table(index='group', columns='ab_test', values='user_id', aggfunc='nunique', margins=True)\n",
    " .reset_index()\n",
    " .rename_axis('index', axis=1)\n",
    " .rename(columns={'user_id':'ucount'})\n",
    ")\n"
   ]
  },
  {
   "cell_type": "code",
   "execution_count": 6,
   "metadata": {},
   "outputs": [
    {
     "data": {
      "text/html": [
       "<div>\n",
       "<style scoped>\n",
       "    .dataframe tbody tr th:only-of-type {\n",
       "        vertical-align: middle;\n",
       "    }\n",
       "\n",
       "    .dataframe tbody tr th {\n",
       "        vertical-align: top;\n",
       "    }\n",
       "\n",
       "    .dataframe thead th {\n",
       "        text-align: right;\n",
       "    }\n",
       "</style>\n",
       "<table border=\"1\" class=\"dataframe\">\n",
       "  <thead>\n",
       "    <tr style=\"text-align: right;\">\n",
       "      <th>index</th>\n",
       "      <th>event_name</th>\n",
       "      <th>details</th>\n",
       "      <th>count</th>\n",
       "    </tr>\n",
       "  </thead>\n",
       "  <tbody>\n",
       "    <tr>\n",
       "      <th>0</th>\n",
       "      <td>login</td>\n",
       "      <td>NA</td>\n",
       "      <td>189552</td>\n",
       "    </tr>\n",
       "    <tr>\n",
       "      <th>1</th>\n",
       "      <td>product_cart</td>\n",
       "      <td>NA</td>\n",
       "      <td>62462</td>\n",
       "    </tr>\n",
       "    <tr>\n",
       "      <th>2</th>\n",
       "      <td>product_page</td>\n",
       "      <td>NA</td>\n",
       "      <td>125563</td>\n",
       "    </tr>\n",
       "    <tr>\n",
       "      <th>3</th>\n",
       "      <td>purchase</td>\n",
       "      <td>4.99</td>\n",
       "      <td>46362</td>\n",
       "    </tr>\n",
       "    <tr>\n",
       "      <th>4</th>\n",
       "      <td>purchase</td>\n",
       "      <td>9.99</td>\n",
       "      <td>9530</td>\n",
       "    </tr>\n",
       "    <tr>\n",
       "      <th>5</th>\n",
       "      <td>purchase</td>\n",
       "      <td>99.99</td>\n",
       "      <td>5631</td>\n",
       "    </tr>\n",
       "    <tr>\n",
       "      <th>6</th>\n",
       "      <td>purchase</td>\n",
       "      <td>499.99</td>\n",
       "      <td>1217</td>\n",
       "    </tr>\n",
       "    <tr>\n",
       "      <th>7</th>\n",
       "      <td>All</td>\n",
       "      <td></td>\n",
       "      <td>440317</td>\n",
       "    </tr>\n",
       "  </tbody>\n",
       "</table>\n",
       "</div>"
      ],
      "text/plain": [
       "index    event_name details   count\n",
       "0             login      NA  189552\n",
       "1      product_cart      NA   62462\n",
       "2      product_page      NA  125563\n",
       "3          purchase    4.99   46362\n",
       "4          purchase    9.99    9530\n",
       "5          purchase   99.99    5631\n",
       "6          purchase  499.99    1217\n",
       "7               All          440317"
      ]
     },
     "execution_count": 6,
     "metadata": {},
     "output_type": "execute_result"
    }
   ],
   "source": [
    "(raw_events\n",
    " .fillna('NA')\n",
    " .pivot_table(index=['event_name','details'], values='user_id', aggfunc='count', margins=True)\n",
    " .reset_index()\n",
    " .rename_axis('index', axis=1)\n",
    " .rename(columns={'user_id':'count'})\n",
    ")\n"
   ]
  },
  {
   "cell_type": "code",
   "execution_count": 7,
   "metadata": {},
   "outputs": [
    {
     "data": {
      "application/vnd.plotly.v1+json": {
       "config": {
        "plotlyServerURL": "https://plot.ly"
       },
       "data": [
        {
         "alignmentgroup": "True",
         "base": [
          "2020-01-25",
          "2020-02-14",
          "2020-03-08",
          "2020-03-17",
          "2020-04-12",
          "2020-05-01",
          "2020-05-09",
          "2020-06-25",
          "2020-07-04",
          "2020-10-01",
          "2020-11-11",
          "2020-11-26",
          "2020-12-25",
          "2020-12-30"
         ],
         "hovertemplate": "start_dt=%{base}<br>finish_dt=%{x}<br>name=%{y}<extra></extra>",
         "legendgroup": "",
         "marker": {
          "color": "#636efa",
          "pattern": {
           "shape": ""
          }
         },
         "name": "",
         "offsetgroup": "",
         "orientation": "h",
         "showlegend": false,
         "textposition": "auto",
         "type": "bar",
         "x": [
          1123200000,
          172800000,
          172800000,
          172800000,
          604800000,
          172800000,
          172800000,
          518400000,
          604800000,
          518400000,
          86400000,
          432000000,
          777600000,
          691200000
         ],
         "xaxis": "x",
         "y": [
          "Chinese New Year Promo",
          "St. Valentine's Day Giveaway",
          "International Women's Day Promo",
          "St. Patric's Day Promo",
          "Easter Promo",
          "Labor day (May 1st) Ads Campaign",
          "Victory Day CIS (May 9th) Event",
          "Dragon Boat Festival Giveaway",
          "4th of July Promo",
          "Chinese Moon Festival",
          "Single's Day Gift Promo",
          "Black Friday Ads Campaign",
          "Christmas&New Year Promo",
          "CIS New Year Gift Lottery"
         ],
         "yaxis": "y"
        }
       ],
       "layout": {
        "barmode": "overlay",
        "legend": {
         "tracegroupgap": 0
        },
        "margin": {
         "t": 60
        },
        "template": {
         "data": {
          "bar": [
           {
            "error_x": {
             "color": "#2a3f5f"
            },
            "error_y": {
             "color": "#2a3f5f"
            },
            "marker": {
             "line": {
              "color": "#E5ECF6",
              "width": 0.5
             },
             "pattern": {
              "fillmode": "overlay",
              "size": 10,
              "solidity": 0.2
             }
            },
            "type": "bar"
           }
          ],
          "barpolar": [
           {
            "marker": {
             "line": {
              "color": "#E5ECF6",
              "width": 0.5
             },
             "pattern": {
              "fillmode": "overlay",
              "size": 10,
              "solidity": 0.2
             }
            },
            "type": "barpolar"
           }
          ],
          "carpet": [
           {
            "aaxis": {
             "endlinecolor": "#2a3f5f",
             "gridcolor": "white",
             "linecolor": "white",
             "minorgridcolor": "white",
             "startlinecolor": "#2a3f5f"
            },
            "baxis": {
             "endlinecolor": "#2a3f5f",
             "gridcolor": "white",
             "linecolor": "white",
             "minorgridcolor": "white",
             "startlinecolor": "#2a3f5f"
            },
            "type": "carpet"
           }
          ],
          "choropleth": [
           {
            "colorbar": {
             "outlinewidth": 0,
             "ticks": ""
            },
            "type": "choropleth"
           }
          ],
          "contour": [
           {
            "colorbar": {
             "outlinewidth": 0,
             "ticks": ""
            },
            "colorscale": [
             [
              0,
              "#0d0887"
             ],
             [
              0.1111111111111111,
              "#46039f"
             ],
             [
              0.2222222222222222,
              "#7201a8"
             ],
             [
              0.3333333333333333,
              "#9c179e"
             ],
             [
              0.4444444444444444,
              "#bd3786"
             ],
             [
              0.5555555555555556,
              "#d8576b"
             ],
             [
              0.6666666666666666,
              "#ed7953"
             ],
             [
              0.7777777777777778,
              "#fb9f3a"
             ],
             [
              0.8888888888888888,
              "#fdca26"
             ],
             [
              1,
              "#f0f921"
             ]
            ],
            "type": "contour"
           }
          ],
          "contourcarpet": [
           {
            "colorbar": {
             "outlinewidth": 0,
             "ticks": ""
            },
            "type": "contourcarpet"
           }
          ],
          "heatmap": [
           {
            "colorbar": {
             "outlinewidth": 0,
             "ticks": ""
            },
            "colorscale": [
             [
              0,
              "#0d0887"
             ],
             [
              0.1111111111111111,
              "#46039f"
             ],
             [
              0.2222222222222222,
              "#7201a8"
             ],
             [
              0.3333333333333333,
              "#9c179e"
             ],
             [
              0.4444444444444444,
              "#bd3786"
             ],
             [
              0.5555555555555556,
              "#d8576b"
             ],
             [
              0.6666666666666666,
              "#ed7953"
             ],
             [
              0.7777777777777778,
              "#fb9f3a"
             ],
             [
              0.8888888888888888,
              "#fdca26"
             ],
             [
              1,
              "#f0f921"
             ]
            ],
            "type": "heatmap"
           }
          ],
          "heatmapgl": [
           {
            "colorbar": {
             "outlinewidth": 0,
             "ticks": ""
            },
            "colorscale": [
             [
              0,
              "#0d0887"
             ],
             [
              0.1111111111111111,
              "#46039f"
             ],
             [
              0.2222222222222222,
              "#7201a8"
             ],
             [
              0.3333333333333333,
              "#9c179e"
             ],
             [
              0.4444444444444444,
              "#bd3786"
             ],
             [
              0.5555555555555556,
              "#d8576b"
             ],
             [
              0.6666666666666666,
              "#ed7953"
             ],
             [
              0.7777777777777778,
              "#fb9f3a"
             ],
             [
              0.8888888888888888,
              "#fdca26"
             ],
             [
              1,
              "#f0f921"
             ]
            ],
            "type": "heatmapgl"
           }
          ],
          "histogram": [
           {
            "marker": {
             "pattern": {
              "fillmode": "overlay",
              "size": 10,
              "solidity": 0.2
             }
            },
            "type": "histogram"
           }
          ],
          "histogram2d": [
           {
            "colorbar": {
             "outlinewidth": 0,
             "ticks": ""
            },
            "colorscale": [
             [
              0,
              "#0d0887"
             ],
             [
              0.1111111111111111,
              "#46039f"
             ],
             [
              0.2222222222222222,
              "#7201a8"
             ],
             [
              0.3333333333333333,
              "#9c179e"
             ],
             [
              0.4444444444444444,
              "#bd3786"
             ],
             [
              0.5555555555555556,
              "#d8576b"
             ],
             [
              0.6666666666666666,
              "#ed7953"
             ],
             [
              0.7777777777777778,
              "#fb9f3a"
             ],
             [
              0.8888888888888888,
              "#fdca26"
             ],
             [
              1,
              "#f0f921"
             ]
            ],
            "type": "histogram2d"
           }
          ],
          "histogram2dcontour": [
           {
            "colorbar": {
             "outlinewidth": 0,
             "ticks": ""
            },
            "colorscale": [
             [
              0,
              "#0d0887"
             ],
             [
              0.1111111111111111,
              "#46039f"
             ],
             [
              0.2222222222222222,
              "#7201a8"
             ],
             [
              0.3333333333333333,
              "#9c179e"
             ],
             [
              0.4444444444444444,
              "#bd3786"
             ],
             [
              0.5555555555555556,
              "#d8576b"
             ],
             [
              0.6666666666666666,
              "#ed7953"
             ],
             [
              0.7777777777777778,
              "#fb9f3a"
             ],
             [
              0.8888888888888888,
              "#fdca26"
             ],
             [
              1,
              "#f0f921"
             ]
            ],
            "type": "histogram2dcontour"
           }
          ],
          "mesh3d": [
           {
            "colorbar": {
             "outlinewidth": 0,
             "ticks": ""
            },
            "type": "mesh3d"
           }
          ],
          "parcoords": [
           {
            "line": {
             "colorbar": {
              "outlinewidth": 0,
              "ticks": ""
             }
            },
            "type": "parcoords"
           }
          ],
          "pie": [
           {
            "automargin": true,
            "type": "pie"
           }
          ],
          "scatter": [
           {
            "fillpattern": {
             "fillmode": "overlay",
             "size": 10,
             "solidity": 0.2
            },
            "type": "scatter"
           }
          ],
          "scatter3d": [
           {
            "line": {
             "colorbar": {
              "outlinewidth": 0,
              "ticks": ""
             }
            },
            "marker": {
             "colorbar": {
              "outlinewidth": 0,
              "ticks": ""
             }
            },
            "type": "scatter3d"
           }
          ],
          "scattercarpet": [
           {
            "marker": {
             "colorbar": {
              "outlinewidth": 0,
              "ticks": ""
             }
            },
            "type": "scattercarpet"
           }
          ],
          "scattergeo": [
           {
            "marker": {
             "colorbar": {
              "outlinewidth": 0,
              "ticks": ""
             }
            },
            "type": "scattergeo"
           }
          ],
          "scattergl": [
           {
            "marker": {
             "colorbar": {
              "outlinewidth": 0,
              "ticks": ""
             }
            },
            "type": "scattergl"
           }
          ],
          "scattermapbox": [
           {
            "marker": {
             "colorbar": {
              "outlinewidth": 0,
              "ticks": ""
             }
            },
            "type": "scattermapbox"
           }
          ],
          "scatterpolar": [
           {
            "marker": {
             "colorbar": {
              "outlinewidth": 0,
              "ticks": ""
             }
            },
            "type": "scatterpolar"
           }
          ],
          "scatterpolargl": [
           {
            "marker": {
             "colorbar": {
              "outlinewidth": 0,
              "ticks": ""
             }
            },
            "type": "scatterpolargl"
           }
          ],
          "scatterternary": [
           {
            "marker": {
             "colorbar": {
              "outlinewidth": 0,
              "ticks": ""
             }
            },
            "type": "scatterternary"
           }
          ],
          "surface": [
           {
            "colorbar": {
             "outlinewidth": 0,
             "ticks": ""
            },
            "colorscale": [
             [
              0,
              "#0d0887"
             ],
             [
              0.1111111111111111,
              "#46039f"
             ],
             [
              0.2222222222222222,
              "#7201a8"
             ],
             [
              0.3333333333333333,
              "#9c179e"
             ],
             [
              0.4444444444444444,
              "#bd3786"
             ],
             [
              0.5555555555555556,
              "#d8576b"
             ],
             [
              0.6666666666666666,
              "#ed7953"
             ],
             [
              0.7777777777777778,
              "#fb9f3a"
             ],
             [
              0.8888888888888888,
              "#fdca26"
             ],
             [
              1,
              "#f0f921"
             ]
            ],
            "type": "surface"
           }
          ],
          "table": [
           {
            "cells": {
             "fill": {
              "color": "#EBF0F8"
             },
             "line": {
              "color": "white"
             }
            },
            "header": {
             "fill": {
              "color": "#C8D4E3"
             },
             "line": {
              "color": "white"
             }
            },
            "type": "table"
           }
          ]
         },
         "layout": {
          "annotationdefaults": {
           "arrowcolor": "#2a3f5f",
           "arrowhead": 0,
           "arrowwidth": 1
          },
          "autotypenumbers": "strict",
          "coloraxis": {
           "colorbar": {
            "outlinewidth": 0,
            "ticks": ""
           }
          },
          "colorscale": {
           "diverging": [
            [
             0,
             "#8e0152"
            ],
            [
             0.1,
             "#c51b7d"
            ],
            [
             0.2,
             "#de77ae"
            ],
            [
             0.3,
             "#f1b6da"
            ],
            [
             0.4,
             "#fde0ef"
            ],
            [
             0.5,
             "#f7f7f7"
            ],
            [
             0.6,
             "#e6f5d0"
            ],
            [
             0.7,
             "#b8e186"
            ],
            [
             0.8,
             "#7fbc41"
            ],
            [
             0.9,
             "#4d9221"
            ],
            [
             1,
             "#276419"
            ]
           ],
           "sequential": [
            [
             0,
             "#0d0887"
            ],
            [
             0.1111111111111111,
             "#46039f"
            ],
            [
             0.2222222222222222,
             "#7201a8"
            ],
            [
             0.3333333333333333,
             "#9c179e"
            ],
            [
             0.4444444444444444,
             "#bd3786"
            ],
            [
             0.5555555555555556,
             "#d8576b"
            ],
            [
             0.6666666666666666,
             "#ed7953"
            ],
            [
             0.7777777777777778,
             "#fb9f3a"
            ],
            [
             0.8888888888888888,
             "#fdca26"
            ],
            [
             1,
             "#f0f921"
            ]
           ],
           "sequentialminus": [
            [
             0,
             "#0d0887"
            ],
            [
             0.1111111111111111,
             "#46039f"
            ],
            [
             0.2222222222222222,
             "#7201a8"
            ],
            [
             0.3333333333333333,
             "#9c179e"
            ],
            [
             0.4444444444444444,
             "#bd3786"
            ],
            [
             0.5555555555555556,
             "#d8576b"
            ],
            [
             0.6666666666666666,
             "#ed7953"
            ],
            [
             0.7777777777777778,
             "#fb9f3a"
            ],
            [
             0.8888888888888888,
             "#fdca26"
            ],
            [
             1,
             "#f0f921"
            ]
           ]
          },
          "colorway": [
           "#636efa",
           "#EF553B",
           "#00cc96",
           "#ab63fa",
           "#FFA15A",
           "#19d3f3",
           "#FF6692",
           "#B6E880",
           "#FF97FF",
           "#FECB52"
          ],
          "font": {
           "color": "#2a3f5f"
          },
          "geo": {
           "bgcolor": "white",
           "lakecolor": "white",
           "landcolor": "#E5ECF6",
           "showlakes": true,
           "showland": true,
           "subunitcolor": "white"
          },
          "hoverlabel": {
           "align": "left"
          },
          "hovermode": "closest",
          "mapbox": {
           "style": "light"
          },
          "paper_bgcolor": "white",
          "plot_bgcolor": "#E5ECF6",
          "polar": {
           "angularaxis": {
            "gridcolor": "white",
            "linecolor": "white",
            "ticks": ""
           },
           "bgcolor": "#E5ECF6",
           "radialaxis": {
            "gridcolor": "white",
            "linecolor": "white",
            "ticks": ""
           }
          },
          "scene": {
           "xaxis": {
            "backgroundcolor": "#E5ECF6",
            "gridcolor": "white",
            "gridwidth": 2,
            "linecolor": "white",
            "showbackground": true,
            "ticks": "",
            "zerolinecolor": "white"
           },
           "yaxis": {
            "backgroundcolor": "#E5ECF6",
            "gridcolor": "white",
            "gridwidth": 2,
            "linecolor": "white",
            "showbackground": true,
            "ticks": "",
            "zerolinecolor": "white"
           },
           "zaxis": {
            "backgroundcolor": "#E5ECF6",
            "gridcolor": "white",
            "gridwidth": 2,
            "linecolor": "white",
            "showbackground": true,
            "ticks": "",
            "zerolinecolor": "white"
           }
          },
          "shapedefaults": {
           "line": {
            "color": "#2a3f5f"
           }
          },
          "ternary": {
           "aaxis": {
            "gridcolor": "white",
            "linecolor": "white",
            "ticks": ""
           },
           "baxis": {
            "gridcolor": "white",
            "linecolor": "white",
            "ticks": ""
           },
           "bgcolor": "#E5ECF6",
           "caxis": {
            "gridcolor": "white",
            "linecolor": "white",
            "ticks": ""
           }
          },
          "title": {
           "x": 0.05
          },
          "xaxis": {
           "automargin": true,
           "gridcolor": "white",
           "linecolor": "white",
           "ticks": "",
           "title": {
            "standoff": 15
           },
           "zerolinecolor": "white",
           "zerolinewidth": 2
          },
          "yaxis": {
           "automargin": true,
           "gridcolor": "white",
           "linecolor": "white",
           "ticks": "",
           "title": {
            "standoff": 15
           },
           "zerolinecolor": "white",
           "zerolinewidth": 2
          }
         }
        },
        "xaxis": {
         "anchor": "y",
         "domain": [
          0,
          1
         ],
         "type": "date"
        },
        "yaxis": {
         "anchor": "x",
         "autorange": "reversed",
         "domain": [
          0,
          1
         ],
         "title": {
          "text": "name"
         }
        }
       }
      }
     },
     "metadata": {},
     "output_type": "display_data"
    }
   ],
   "source": [
    "fig = px.timeline(\n",
    "    raw_marketing.sort_values('start_dt'),\n",
    "    x_start='start_dt', x_end='finish_dt',\n",
    "    y='name'\n",
    ")\n",
    "fig.update_yaxes(autorange='reversed')\n",
    "fig.show()"
   ]
  },
  {
   "attachments": {},
   "cell_type": "markdown",
   "metadata": {},
   "source": [
    "It seems that everything is in order, except for the `raw_marketing` table. The `regions` column contains values separated by commas, which may cause issues.\n",
    "\n",
    "In the `raw_events` table, the `details` column appears to represent the purchase cost. For events that do not correspond to purchases, this column will be empty (as expected).\n",
    "\n",
    "Finally, in the `raw_tests` table, our users from groups A and B participated in two experiments (and some may have participated in both simultaneously). We will need to consider this in our subsequent analysis.\n",
    "\n",
    "Now, let's verify the main parameters according to the technical specification. We will begin by examining the dates in the datasets."
   ]
  },
  {
   "cell_type": "code",
   "execution_count": 8,
   "metadata": {},
   "outputs": [
    {
     "name": "stdout",
     "output_type": "stream",
     "text": [
      "User registrations from 2020-12-07 to 2020-12-23\n",
      "--------------------------------------------------\n",
      "User events from 2020-12-07 00:00:33 to 2020-12-30 23:36:33\n",
      "--------------------------------------------------\n",
      "Marketing events start dates from 2020-01-25 to 2020-12-30\n",
      "Marketing events end dates from 2020-02-07 to 2021-01-07\n"
     ]
    }
   ],
   "source": [
    "print(\n",
    "    'User registrations from ', raw_new_users.first_date.min(), ' to ', raw_new_users.first_date.max(), '\\n',\n",
    "    '-' * 50, '\\n',\n",
    "    'User events from ', raw_events.event_dt.min(), ' to ', raw_events.event_dt.max(), '\\n',\n",
    "    '-' * 50, '\\n',\n",
    "    'Marketing events start dates from ', raw_marketing.start_dt.min(), ' to ', raw_marketing.start_dt.max(), '\\n',\n",
    "    'Marketing events end dates from ', raw_marketing.finish_dt.min(), ' to ', raw_marketing.finish_dt.max(),\n",
    "    sep=''\n",
    ")\n"
   ]
  },
  {
   "attachments": {},
   "cell_type": "markdown",
   "metadata": {},
   "source": [
    "The registration date of new users aligns with the specification: `2020-12-07`. However, the end date does not match; in the dataset, it is `2020-12-23` instead of the required `2020-12-21`. We will need to truncate these users.\n",
    "\n",
    "Regarding the events, there is a shortfall. The first event occurs on `2020-12-07`, and the last event is on `2020-12-30`, rather than the specified date of `2021-01-04`. According to the conditions, the user lifetime should be 14 days. Users who arrive on `2020-12-21` will not have enough time to \"live\" sufficiently for analysis, while users who arrive on `2020-12-07` will have a longer lifetime than necessary. We will trim the events that correspond to a lifetime of more than 14 days.\n",
    "\n",
    "Lastly, we had multiple marketing events, but only two fall within the relevant dates: the New Year Lottery in the CIS region and Christmas in Europe and North America. Since we are only interested in users from Europe, only Christmas could have influenced them.\n",
    "\n",
    "To facilitate further analysis, it is advisable to create a consolidated dataset that we will utilize."
   ]
  },
  {
   "cell_type": "code",
   "execution_count": 9,
   "metadata": {},
   "outputs": [],
   "source": [
    "# Take users which participated only in one experiment\n",
    "df_temp = (\n",
    "    pd.pivot_table(data=raw_test_users, index='user_id', values='ab_test', aggfunc='nunique')\n",
    "    .reset_index()\n",
    "    .rename_axis('index', axis=1)\n",
    "    .rename(columns={'ab_test': 'test_count'})\n",
    "    .loc[lambda df: df.test_count == 1]\n",
    ")\n",
    "\n",
    "# From test users select only the ones that had one experiment\n",
    "# df_test_users = raw_test_users[raw_test_users.user_id.isin(df_temp.user_id)].copy()\n",
    "df_test_users = raw_test_users.copy()\n",
    "\n",
    "# Keep the rest of the datasets\n",
    "df_new_users = raw_new_users.copy().astype({'first_date': 'datetime64[D]'})\n",
    "df_events = raw_events.copy().astype({'event_dt': 'datetime64[s]'})\n",
    "\n",
    "# Create a summary dataset\n",
    "df_summary = (\n",
    "    raw_events\n",
    "    .copy()\n",
    "    .merge(df_new_users, on='user_id', how='left')\n",
    "    .merge(df_test_users, on='user_id', how='left')\n",
    "    .assign(\n",
    "        event_date=lambda df: df.event_dt,\n",
    "        lifetime=lambda df:\n",
    "            (pd.to_datetime(df.event_dt) - pd.to_datetime(df.first_date)) / np.timedelta64(1, 'D')\n",
    "    )\n",
    "    .loc[lambda df:\n",
    "         (df.first_date <= '2020-12-21')\n",
    "         & (df.ab_test == 'recommender_system_test')\n",
    "         & (df.lifetime <= 14)\n",
    "         & (df.region == 'EU')\n",
    "         & (df.user_id.isin(df_temp.user_id))\n",
    "    ]\n",
    "    .drop(['first_date', 'ab_test'], axis=1)\n",
    "    .astype({'event_dt': 'datetime64[s]', 'event_date': 'datetime64[D]'})\n",
    ")\n"
   ]
  },
  {
   "attachments": {},
   "cell_type": "markdown",
   "metadata": {},
   "source": [
    "Let's examine the number of users in the participants table."
   ]
  },
  {
   "attachments": {},
   "cell_type": "markdown",
   "metadata": {},
   "source": []
  },
  {
   "cell_type": "code",
   "execution_count": 10,
   "metadata": {},
   "outputs": [
    {
     "data": {
      "text/html": [
       "<div>\n",
       "<style scoped>\n",
       "    .dataframe tbody tr th:only-of-type {\n",
       "        vertical-align: middle;\n",
       "    }\n",
       "\n",
       "    .dataframe tbody tr th {\n",
       "        vertical-align: top;\n",
       "    }\n",
       "\n",
       "    .dataframe thead th {\n",
       "        text-align: right;\n",
       "    }\n",
       "</style>\n",
       "<table border=\"1\" class=\"dataframe\">\n",
       "  <thead>\n",
       "    <tr style=\"text-align: right;\">\n",
       "      <th>index</th>\n",
       "      <th>group</th>\n",
       "      <th>user_id_total_ucount</th>\n",
       "      <th>user_id_pct</th>\n",
       "    </tr>\n",
       "  </thead>\n",
       "  <tbody>\n",
       "    <tr>\n",
       "      <th>0</th>\n",
       "      <td>A</td>\n",
       "      <td>3824</td>\n",
       "      <td>57.1</td>\n",
       "    </tr>\n",
       "    <tr>\n",
       "      <th>1</th>\n",
       "      <td>B</td>\n",
       "      <td>2877</td>\n",
       "      <td>42.9</td>\n",
       "    </tr>\n",
       "    <tr>\n",
       "      <th>2</th>\n",
       "      <td>All</td>\n",
       "      <td>6701</td>\n",
       "      <td>100.0</td>\n",
       "    </tr>\n",
       "  </tbody>\n",
       "</table>\n",
       "</div>"
      ],
      "text/plain": [
       "index group  user_id_total_ucount  user_id_pct\n",
       "0         A                  3824         57.1\n",
       "1         B                  2877         42.9\n",
       "2       All                  6701        100.0"
      ]
     },
     "metadata": {},
     "output_type": "display_data"
    }
   ],
   "source": [
    "df_temp = (\n",
    "    df_test_users[df_test_users.ab_test == 'recommender_system_test']\n",
    "    .pivot_table(index='group', values='user_id', aggfunc='nunique', margins=True)\n",
    "    .reset_index()\n",
    "    .rename_axis('index', axis=1)\n",
    "    .rename(columns={'user_id':'user_id_total_ucount'})\n",
    "    .assign(user_id_pct=lambda df: round(100 * df.user_id_total_ucount / df.user_id_total_ucount.iloc[-1], 1))\n",
    ")\n",
    "\n",
    "display(df_temp)\n"
   ]
  },
  {
   "attachments": {},
   "cell_type": "markdown",
   "metadata": {},
   "source": [
    "The total number of unique users in the two groups turned out to be less than 6,000. This is because of the initial sample: we had 6,700 individuals, but 1,600 of them participated in both experiments, and we had to truncate them.\n",
    "\n",
    "Furthermore, our groups are not well-balanced, with a difference of over 10% (around 700 individuals)."
   ]
  },
  {
   "cell_type": "code",
   "execution_count": 11,
   "metadata": {},
   "outputs": [
    {
     "data": {
      "text/html": [
       "<div>\n",
       "<style scoped>\n",
       "    .dataframe tbody tr th:only-of-type {\n",
       "        vertical-align: middle;\n",
       "    }\n",
       "\n",
       "    .dataframe tbody tr th {\n",
       "        vertical-align: top;\n",
       "    }\n",
       "\n",
       "    .dataframe thead th {\n",
       "        text-align: right;\n",
       "    }\n",
       "</style>\n",
       "<table border=\"1\" class=\"dataframe\">\n",
       "  <thead>\n",
       "    <tr style=\"text-align: right;\">\n",
       "      <th>index</th>\n",
       "      <th>group</th>\n",
       "      <th>user_id_active_ucount</th>\n",
       "      <th>user_id_total_ucount</th>\n",
       "      <th>user_acitve_pct</th>\n",
       "    </tr>\n",
       "  </thead>\n",
       "  <tbody>\n",
       "    <tr>\n",
       "      <th>0</th>\n",
       "      <td>A</td>\n",
       "      <td>1939</td>\n",
       "      <td>3824</td>\n",
       "      <td>50.71</td>\n",
       "    </tr>\n",
       "    <tr>\n",
       "      <th>1</th>\n",
       "      <td>B</td>\n",
       "      <td>655</td>\n",
       "      <td>2877</td>\n",
       "      <td>22.77</td>\n",
       "    </tr>\n",
       "    <tr>\n",
       "      <th>2</th>\n",
       "      <td>All</td>\n",
       "      <td>2594</td>\n",
       "      <td>6701</td>\n",
       "      <td>38.71</td>\n",
       "    </tr>\n",
       "  </tbody>\n",
       "</table>\n",
       "</div>"
      ],
      "text/plain": [
       "index group  user_id_active_ucount  user_id_total_ucount  user_acitve_pct\n",
       "0         A                   1939                  3824            50.71\n",
       "1         B                    655                  2877            22.77\n",
       "2       All                   2594                  6701            38.71"
      ]
     },
     "execution_count": 11,
     "metadata": {},
     "output_type": "execute_result"
    }
   ],
   "source": [
    "(df_summary\n",
    " .pivot_table(index='group', values='user_id', aggfunc='nunique', margins=True)\n",
    " .reset_index()\n",
    " .rename_axis('index', axis=1)\n",
    " .rename(columns={'user_id':'user_id_active_ucount'})\n",
    " .merge(df_temp[['group', 'user_id_total_ucount']], on='group', how='left')\n",
    " .assign(user_acitve_pct=lambda df: round(100 * df.user_id_active_ucount / df.user_id_total_ucount, 2))\n",
    ")\n"
   ]
  },
  {
   "attachments": {},
   "cell_type": "markdown",
   "metadata": {},
   "source": [
    "The situation with active users is not satisfactory, particularly in group B, where only 30% of the individuals performed any actions during the specified period.\n",
    "\n",
    "Let's examine the distribution of users across regions."
   ]
  },
  {
   "cell_type": "code",
   "execution_count": 12,
   "metadata": {},
   "outputs": [
    {
     "data": {
      "text/html": [
       "<div>\n",
       "<style scoped>\n",
       "    .dataframe tbody tr th:only-of-type {\n",
       "        vertical-align: middle;\n",
       "    }\n",
       "\n",
       "    .dataframe tbody tr th {\n",
       "        vertical-align: top;\n",
       "    }\n",
       "\n",
       "    .dataframe thead th {\n",
       "        text-align: right;\n",
       "    }\n",
       "</style>\n",
       "<table border=\"1\" class=\"dataframe\">\n",
       "  <thead>\n",
       "    <tr style=\"text-align: right;\">\n",
       "      <th>index</th>\n",
       "      <th>region</th>\n",
       "      <th>user_id_ucount</th>\n",
       "      <th>user_id_pct</th>\n",
       "    </tr>\n",
       "  </thead>\n",
       "  <tbody>\n",
       "    <tr>\n",
       "      <th>2</th>\n",
       "      <td>EU</td>\n",
       "      <td>6351</td>\n",
       "      <td>94.8</td>\n",
       "    </tr>\n",
       "    <tr>\n",
       "      <th>3</th>\n",
       "      <td>N.America</td>\n",
       "      <td>223</td>\n",
       "      <td>3.3</td>\n",
       "    </tr>\n",
       "    <tr>\n",
       "      <th>0</th>\n",
       "      <td>APAC</td>\n",
       "      <td>72</td>\n",
       "      <td>1.1</td>\n",
       "    </tr>\n",
       "    <tr>\n",
       "      <th>1</th>\n",
       "      <td>CIS</td>\n",
       "      <td>55</td>\n",
       "      <td>0.8</td>\n",
       "    </tr>\n",
       "    <tr>\n",
       "      <th>4</th>\n",
       "      <td>All</td>\n",
       "      <td>6701</td>\n",
       "      <td>100.0</td>\n",
       "    </tr>\n",
       "  </tbody>\n",
       "</table>\n",
       "</div>"
      ],
      "text/plain": [
       "index     region  user_id_ucount  user_id_pct\n",
       "2             EU            6351         94.8\n",
       "3      N.America             223          3.3\n",
       "0           APAC              72          1.1\n",
       "1            CIS              55          0.8\n",
       "4            All            6701        100.0"
      ]
     },
     "metadata": {},
     "output_type": "display_data"
    }
   ],
   "source": [
    "df_temp = (\n",
    "    pd.merge(left=df_test_users, right=df_new_users, on='user_id', how='left')\n",
    "    .loc[lambda df: df.ab_test == 'recommender_system_test']\n",
    "    .pivot_table(index='region', values='user_id', aggfunc='nunique', margins=True)\n",
    "    .reset_index()\n",
    "    .rename_axis('index', axis=1)\n",
    "    .rename(columns={'user_id': 'user_id_ucount'})\n",
    "    .assign(\n",
    "        user_id_pct=lambda df: round(100 * df.user_id_ucount / df.user_id_ucount.iloc[-1], 1),\n",
    "        sort_key=lambda df: df.region == 'All'\n",
    "    )\n",
    "    .sort_values(['sort_key', 'user_id_ucount'], ascending=[True, False])\n",
    "    .drop('sort_key', axis=1)\n",
    ")\n",
    "\n",
    "display(df_temp)\n"
   ]
  },
  {
   "attachments": {},
   "cell_type": "markdown",
   "metadata": {},
   "source": [
    "The majority of people in the test came from the EU region, as we expected. Let's examine the proportion they represent in relation to the total number of users."
   ]
  },
  {
   "cell_type": "code",
   "execution_count": 13,
   "metadata": {},
   "outputs": [
    {
     "name": "stdout",
     "output_type": "stream",
     "text": [
      "Total number of new users from EU: 42340\n",
      "Number of new users from EU in the test: 6351\n",
      "Percentage of new users from EU in the test: 15.0\n"
     ]
    }
   ],
   "source": [
    "print(\n",
    "    'Total number of new users from EU: ',\n",
    "    df_new_users[(df_new_users.region == 'EU') & (df_new_users.first_date <= '2020-12-21')].user_id.nunique(), '\\n',\n",
    "    'Number of new users from EU in the test: ', \n",
    "    df_temp[df_temp.region == 'EU'].user_id_ucount.sum(), '\\n',\n",
    "    'Percentage of new users from EU in the test: ',\n",
    "    round(100 * df_temp[df_temp.region == 'EU'].user_id_ucount.sum()\n",
    "    / df_new_users[(df_new_users.region == 'EU') & (df_new_users.first_date <= '2020-12-21')].user_id.nunique(), 2),\n",
    "    sep=''\n",
    ")\n"
   ]
  },
  {
   "attachments": {},
   "cell_type": "markdown",
   "metadata": {},
   "source": [
    "Users from the EU region account for 10% of the test participants. Once again, this is not what we would have preferred. However, the reason remains the same as in the previous section – we have excluded users who participated in both tests simultaneously.\n",
    "\n",
    "Determining the next steps for the test is challenging since half of our metrics do not meet the requirements of the technical specification.\n",
    "\n",
    "We have 5.1K users instead of the expected 6K (with slightly over half of them being active). Users are not evenly distributed between the groups. We do not have sufficient data to cover the entire test period (events end before the 14-day user lifetime). We have only obtained 10% of new users from the EU, and the remaining 5% of users are from other regions.\n",
    "\n",
    "Given the limited options, let's examine what occurred during the test period. However, we must exercise caution in interpreting the results of these experiments."
   ]
  },
  {
   "attachments": {},
   "cell_type": "markdown",
   "metadata": {},
   "source": [
    "## Exploratory data analysis\n",
    "\n",
    "Let's examine the main dependencies in the data and explore the following aspects: how users performed events and the progression through the funnel.\n",
    "\n",
    "### Analysis of event counts\n",
    "\n",
    "First, we will check the total number of events by groups, and then by user."
   ]
  },
  {
   "cell_type": "code",
   "execution_count": 14,
   "metadata": {},
   "outputs": [
    {
     "data": {
      "application/vnd.plotly.v1+json": {
       "config": {
        "plotlyServerURL": "https://plot.ly"
       },
       "data": [
        {
         "hovertemplate": "group=A<br>Date=%{x}<br>Events, #=%{y}<extra></extra>",
         "legendgroup": "A",
         "line": {
          "color": "#636efa",
          "dash": "solid"
         },
         "marker": {
          "symbol": "circle"
         },
         "mode": "markers+lines",
         "name": "A",
         "orientation": "v",
         "showlegend": true,
         "type": "scatter",
         "x": [
          "2020-12-07T00:00:00",
          "2020-12-08T00:00:00",
          "2020-12-09T00:00:00",
          "2020-12-10T00:00:00",
          "2020-12-11T00:00:00",
          "2020-12-12T00:00:00",
          "2020-12-13T00:00:00",
          "2020-12-14T00:00:00",
          "2020-12-15T00:00:00",
          "2020-12-16T00:00:00",
          "2020-12-17T00:00:00",
          "2020-12-18T00:00:00",
          "2020-12-19T00:00:00",
          "2020-12-20T00:00:00",
          "2020-12-21T00:00:00",
          "2020-12-22T00:00:00",
          "2020-12-23T00:00:00",
          "2020-12-24T00:00:00",
          "2020-12-25T00:00:00",
          "2020-12-26T00:00:00",
          "2020-12-27T00:00:00",
          "2020-12-28T00:00:00",
          "2020-12-29T00:00:00"
         ],
         "xaxis": "x",
         "y": [
          221,
          239,
          282,
          246,
          264,
          273,
          233,
          755,
          780,
          748,
          875,
          908,
          1104,
          1099,
          1430,
          934,
          702,
          595,
          446,
          386,
          390,
          252,
          212
         ],
         "yaxis": "y"
        },
        {
         "hovertemplate": "group=B<br>Date=%{x}<br>Events, #=%{y}<extra></extra>",
         "legendgroup": "B",
         "line": {
          "color": "#EF553B",
          "dash": "solid"
         },
         "marker": {
          "symbol": "circle"
         },
         "mode": "markers+lines",
         "name": "B",
         "orientation": "v",
         "showlegend": true,
         "type": "scatter",
         "x": [
          "2020-12-07T00:00:00",
          "2020-12-08T00:00:00",
          "2020-12-09T00:00:00",
          "2020-12-10T00:00:00",
          "2020-12-11T00:00:00",
          "2020-12-12T00:00:00",
          "2020-12-13T00:00:00",
          "2020-12-14T00:00:00",
          "2020-12-15T00:00:00",
          "2020-12-16T00:00:00",
          "2020-12-17T00:00:00",
          "2020-12-18T00:00:00",
          "2020-12-19T00:00:00",
          "2020-12-20T00:00:00",
          "2020-12-21T00:00:00",
          "2020-12-22T00:00:00",
          "2020-12-23T00:00:00",
          "2020-12-24T00:00:00",
          "2020-12-25T00:00:00",
          "2020-12-26T00:00:00",
          "2020-12-27T00:00:00",
          "2020-12-28T00:00:00",
          "2020-12-29T00:00:00"
         ],
         "xaxis": "x",
         "y": [
          268,
          169,
          250,
          182,
          115,
          150,
          103,
          193,
          164,
          275,
          194,
          200,
          212,
          238,
          290,
          123,
          112,
          87,
          57,
          41,
          52,
          39,
          30
         ],
         "yaxis": "y"
        }
       ],
       "layout": {
        "height": 500,
        "hovermode": "x unified",
        "legend": {
         "orientation": "h",
         "title": {
          "text": "group"
         },
         "tracegroupgap": 0,
         "x": 0,
         "y": 1.1,
         "yanchor": "top"
        },
        "template": {
         "data": {
          "bar": [
           {
            "error_x": {
             "color": "#2a3f5f"
            },
            "error_y": {
             "color": "#2a3f5f"
            },
            "marker": {
             "line": {
              "color": "white",
              "width": 0.5
             },
             "pattern": {
              "fillmode": "overlay",
              "size": 10,
              "solidity": 0.2
             }
            },
            "type": "bar"
           }
          ],
          "barpolar": [
           {
            "marker": {
             "line": {
              "color": "white",
              "width": 0.5
             },
             "pattern": {
              "fillmode": "overlay",
              "size": 10,
              "solidity": 0.2
             }
            },
            "type": "barpolar"
           }
          ],
          "carpet": [
           {
            "aaxis": {
             "endlinecolor": "#2a3f5f",
             "gridcolor": "#C8D4E3",
             "linecolor": "#C8D4E3",
             "minorgridcolor": "#C8D4E3",
             "startlinecolor": "#2a3f5f"
            },
            "baxis": {
             "endlinecolor": "#2a3f5f",
             "gridcolor": "#C8D4E3",
             "linecolor": "#C8D4E3",
             "minorgridcolor": "#C8D4E3",
             "startlinecolor": "#2a3f5f"
            },
            "type": "carpet"
           }
          ],
          "choropleth": [
           {
            "colorbar": {
             "outlinewidth": 0,
             "ticks": ""
            },
            "type": "choropleth"
           }
          ],
          "contour": [
           {
            "colorbar": {
             "outlinewidth": 0,
             "ticks": ""
            },
            "colorscale": [
             [
              0,
              "#0d0887"
             ],
             [
              0.1111111111111111,
              "#46039f"
             ],
             [
              0.2222222222222222,
              "#7201a8"
             ],
             [
              0.3333333333333333,
              "#9c179e"
             ],
             [
              0.4444444444444444,
              "#bd3786"
             ],
             [
              0.5555555555555556,
              "#d8576b"
             ],
             [
              0.6666666666666666,
              "#ed7953"
             ],
             [
              0.7777777777777778,
              "#fb9f3a"
             ],
             [
              0.8888888888888888,
              "#fdca26"
             ],
             [
              1,
              "#f0f921"
             ]
            ],
            "type": "contour"
           }
          ],
          "contourcarpet": [
           {
            "colorbar": {
             "outlinewidth": 0,
             "ticks": ""
            },
            "type": "contourcarpet"
           }
          ],
          "heatmap": [
           {
            "colorbar": {
             "outlinewidth": 0,
             "ticks": ""
            },
            "colorscale": [
             [
              0,
              "#0d0887"
             ],
             [
              0.1111111111111111,
              "#46039f"
             ],
             [
              0.2222222222222222,
              "#7201a8"
             ],
             [
              0.3333333333333333,
              "#9c179e"
             ],
             [
              0.4444444444444444,
              "#bd3786"
             ],
             [
              0.5555555555555556,
              "#d8576b"
             ],
             [
              0.6666666666666666,
              "#ed7953"
             ],
             [
              0.7777777777777778,
              "#fb9f3a"
             ],
             [
              0.8888888888888888,
              "#fdca26"
             ],
             [
              1,
              "#f0f921"
             ]
            ],
            "type": "heatmap"
           }
          ],
          "heatmapgl": [
           {
            "colorbar": {
             "outlinewidth": 0,
             "ticks": ""
            },
            "colorscale": [
             [
              0,
              "#0d0887"
             ],
             [
              0.1111111111111111,
              "#46039f"
             ],
             [
              0.2222222222222222,
              "#7201a8"
             ],
             [
              0.3333333333333333,
              "#9c179e"
             ],
             [
              0.4444444444444444,
              "#bd3786"
             ],
             [
              0.5555555555555556,
              "#d8576b"
             ],
             [
              0.6666666666666666,
              "#ed7953"
             ],
             [
              0.7777777777777778,
              "#fb9f3a"
             ],
             [
              0.8888888888888888,
              "#fdca26"
             ],
             [
              1,
              "#f0f921"
             ]
            ],
            "type": "heatmapgl"
           }
          ],
          "histogram": [
           {
            "marker": {
             "pattern": {
              "fillmode": "overlay",
              "size": 10,
              "solidity": 0.2
             }
            },
            "type": "histogram"
           }
          ],
          "histogram2d": [
           {
            "colorbar": {
             "outlinewidth": 0,
             "ticks": ""
            },
            "colorscale": [
             [
              0,
              "#0d0887"
             ],
             [
              0.1111111111111111,
              "#46039f"
             ],
             [
              0.2222222222222222,
              "#7201a8"
             ],
             [
              0.3333333333333333,
              "#9c179e"
             ],
             [
              0.4444444444444444,
              "#bd3786"
             ],
             [
              0.5555555555555556,
              "#d8576b"
             ],
             [
              0.6666666666666666,
              "#ed7953"
             ],
             [
              0.7777777777777778,
              "#fb9f3a"
             ],
             [
              0.8888888888888888,
              "#fdca26"
             ],
             [
              1,
              "#f0f921"
             ]
            ],
            "type": "histogram2d"
           }
          ],
          "histogram2dcontour": [
           {
            "colorbar": {
             "outlinewidth": 0,
             "ticks": ""
            },
            "colorscale": [
             [
              0,
              "#0d0887"
             ],
             [
              0.1111111111111111,
              "#46039f"
             ],
             [
              0.2222222222222222,
              "#7201a8"
             ],
             [
              0.3333333333333333,
              "#9c179e"
             ],
             [
              0.4444444444444444,
              "#bd3786"
             ],
             [
              0.5555555555555556,
              "#d8576b"
             ],
             [
              0.6666666666666666,
              "#ed7953"
             ],
             [
              0.7777777777777778,
              "#fb9f3a"
             ],
             [
              0.8888888888888888,
              "#fdca26"
             ],
             [
              1,
              "#f0f921"
             ]
            ],
            "type": "histogram2dcontour"
           }
          ],
          "mesh3d": [
           {
            "colorbar": {
             "outlinewidth": 0,
             "ticks": ""
            },
            "type": "mesh3d"
           }
          ],
          "parcoords": [
           {
            "line": {
             "colorbar": {
              "outlinewidth": 0,
              "ticks": ""
             }
            },
            "type": "parcoords"
           }
          ],
          "pie": [
           {
            "automargin": true,
            "type": "pie"
           }
          ],
          "scatter": [
           {
            "fillpattern": {
             "fillmode": "overlay",
             "size": 10,
             "solidity": 0.2
            },
            "type": "scatter"
           }
          ],
          "scatter3d": [
           {
            "line": {
             "colorbar": {
              "outlinewidth": 0,
              "ticks": ""
             }
            },
            "marker": {
             "colorbar": {
              "outlinewidth": 0,
              "ticks": ""
             }
            },
            "type": "scatter3d"
           }
          ],
          "scattercarpet": [
           {
            "marker": {
             "colorbar": {
              "outlinewidth": 0,
              "ticks": ""
             }
            },
            "type": "scattercarpet"
           }
          ],
          "scattergeo": [
           {
            "marker": {
             "colorbar": {
              "outlinewidth": 0,
              "ticks": ""
             }
            },
            "type": "scattergeo"
           }
          ],
          "scattergl": [
           {
            "marker": {
             "colorbar": {
              "outlinewidth": 0,
              "ticks": ""
             }
            },
            "type": "scattergl"
           }
          ],
          "scattermapbox": [
           {
            "marker": {
             "colorbar": {
              "outlinewidth": 0,
              "ticks": ""
             }
            },
            "type": "scattermapbox"
           }
          ],
          "scatterpolar": [
           {
            "marker": {
             "colorbar": {
              "outlinewidth": 0,
              "ticks": ""
             }
            },
            "type": "scatterpolar"
           }
          ],
          "scatterpolargl": [
           {
            "marker": {
             "colorbar": {
              "outlinewidth": 0,
              "ticks": ""
             }
            },
            "type": "scatterpolargl"
           }
          ],
          "scatterternary": [
           {
            "marker": {
             "colorbar": {
              "outlinewidth": 0,
              "ticks": ""
             }
            },
            "type": "scatterternary"
           }
          ],
          "surface": [
           {
            "colorbar": {
             "outlinewidth": 0,
             "ticks": ""
            },
            "colorscale": [
             [
              0,
              "#0d0887"
             ],
             [
              0.1111111111111111,
              "#46039f"
             ],
             [
              0.2222222222222222,
              "#7201a8"
             ],
             [
              0.3333333333333333,
              "#9c179e"
             ],
             [
              0.4444444444444444,
              "#bd3786"
             ],
             [
              0.5555555555555556,
              "#d8576b"
             ],
             [
              0.6666666666666666,
              "#ed7953"
             ],
             [
              0.7777777777777778,
              "#fb9f3a"
             ],
             [
              0.8888888888888888,
              "#fdca26"
             ],
             [
              1,
              "#f0f921"
             ]
            ],
            "type": "surface"
           }
          ],
          "table": [
           {
            "cells": {
             "fill": {
              "color": "#EBF0F8"
             },
             "line": {
              "color": "white"
             }
            },
            "header": {
             "fill": {
              "color": "#C8D4E3"
             },
             "line": {
              "color": "white"
             }
            },
            "type": "table"
           }
          ]
         },
         "layout": {
          "annotationdefaults": {
           "arrowcolor": "#2a3f5f",
           "arrowhead": 0,
           "arrowwidth": 1
          },
          "autotypenumbers": "strict",
          "coloraxis": {
           "colorbar": {
            "outlinewidth": 0,
            "ticks": ""
           }
          },
          "colorscale": {
           "diverging": [
            [
             0,
             "#8e0152"
            ],
            [
             0.1,
             "#c51b7d"
            ],
            [
             0.2,
             "#de77ae"
            ],
            [
             0.3,
             "#f1b6da"
            ],
            [
             0.4,
             "#fde0ef"
            ],
            [
             0.5,
             "#f7f7f7"
            ],
            [
             0.6,
             "#e6f5d0"
            ],
            [
             0.7,
             "#b8e186"
            ],
            [
             0.8,
             "#7fbc41"
            ],
            [
             0.9,
             "#4d9221"
            ],
            [
             1,
             "#276419"
            ]
           ],
           "sequential": [
            [
             0,
             "#0d0887"
            ],
            [
             0.1111111111111111,
             "#46039f"
            ],
            [
             0.2222222222222222,
             "#7201a8"
            ],
            [
             0.3333333333333333,
             "#9c179e"
            ],
            [
             0.4444444444444444,
             "#bd3786"
            ],
            [
             0.5555555555555556,
             "#d8576b"
            ],
            [
             0.6666666666666666,
             "#ed7953"
            ],
            [
             0.7777777777777778,
             "#fb9f3a"
            ],
            [
             0.8888888888888888,
             "#fdca26"
            ],
            [
             1,
             "#f0f921"
            ]
           ],
           "sequentialminus": [
            [
             0,
             "#0d0887"
            ],
            [
             0.1111111111111111,
             "#46039f"
            ],
            [
             0.2222222222222222,
             "#7201a8"
            ],
            [
             0.3333333333333333,
             "#9c179e"
            ],
            [
             0.4444444444444444,
             "#bd3786"
            ],
            [
             0.5555555555555556,
             "#d8576b"
            ],
            [
             0.6666666666666666,
             "#ed7953"
            ],
            [
             0.7777777777777778,
             "#fb9f3a"
            ],
            [
             0.8888888888888888,
             "#fdca26"
            ],
            [
             1,
             "#f0f921"
            ]
           ]
          },
          "colorway": [
           "#636efa",
           "#EF553B",
           "#00cc96",
           "#ab63fa",
           "#FFA15A",
           "#19d3f3",
           "#FF6692",
           "#B6E880",
           "#FF97FF",
           "#FECB52"
          ],
          "font": {
           "color": "#2a3f5f"
          },
          "geo": {
           "bgcolor": "white",
           "lakecolor": "white",
           "landcolor": "white",
           "showlakes": true,
           "showland": true,
           "subunitcolor": "#C8D4E3"
          },
          "hoverlabel": {
           "align": "left"
          },
          "hovermode": "closest",
          "mapbox": {
           "style": "light"
          },
          "paper_bgcolor": "white",
          "plot_bgcolor": "white",
          "polar": {
           "angularaxis": {
            "gridcolor": "#EBF0F8",
            "linecolor": "#EBF0F8",
            "ticks": ""
           },
           "bgcolor": "white",
           "radialaxis": {
            "gridcolor": "#EBF0F8",
            "linecolor": "#EBF0F8",
            "ticks": ""
           }
          },
          "scene": {
           "xaxis": {
            "backgroundcolor": "white",
            "gridcolor": "#DFE8F3",
            "gridwidth": 2,
            "linecolor": "#EBF0F8",
            "showbackground": true,
            "ticks": "",
            "zerolinecolor": "#EBF0F8"
           },
           "yaxis": {
            "backgroundcolor": "white",
            "gridcolor": "#DFE8F3",
            "gridwidth": 2,
            "linecolor": "#EBF0F8",
            "showbackground": true,
            "ticks": "",
            "zerolinecolor": "#EBF0F8"
           },
           "zaxis": {
            "backgroundcolor": "white",
            "gridcolor": "#DFE8F3",
            "gridwidth": 2,
            "linecolor": "#EBF0F8",
            "showbackground": true,
            "ticks": "",
            "zerolinecolor": "#EBF0F8"
           }
          },
          "shapedefaults": {
           "line": {
            "color": "#2a3f5f"
           }
          },
          "ternary": {
           "aaxis": {
            "gridcolor": "#DFE8F3",
            "linecolor": "#A2B1C6",
            "ticks": ""
           },
           "baxis": {
            "gridcolor": "#DFE8F3",
            "linecolor": "#A2B1C6",
            "ticks": ""
           },
           "bgcolor": "white",
           "caxis": {
            "gridcolor": "#DFE8F3",
            "linecolor": "#A2B1C6",
            "ticks": ""
           }
          },
          "title": {
           "x": 0.05
          },
          "xaxis": {
           "automargin": true,
           "gridcolor": "#EBF0F8",
           "linecolor": "#EBF0F8",
           "ticks": "",
           "title": {
            "standoff": 15
           },
           "zerolinecolor": "#EBF0F8",
           "zerolinewidth": 2
          },
          "yaxis": {
           "automargin": true,
           "gridcolor": "#EBF0F8",
           "linecolor": "#EBF0F8",
           "ticks": "",
           "title": {
            "standoff": 15
           },
           "zerolinecolor": "#EBF0F8",
           "zerolinewidth": 2
          }
         }
        },
        "title": {
         "text": "Number of events per day depending on the test group"
        },
        "width": 800,
        "xaxis": {
         "anchor": "y",
         "domain": [
          0,
          1
         ],
         "title": {
          "text": "Date"
         }
        },
        "yaxis": {
         "anchor": "x",
         "domain": [
          0,
          1
         ],
         "title": {
          "text": "Events, #"
         }
        }
       }
      }
     },
     "metadata": {},
     "output_type": "display_data"
    }
   ],
   "source": [
    "df_temp = (\n",
    "    pd.pivot_table(\n",
    "        data=df_summary,\n",
    "        index=['event_date', 'group'],\n",
    "        values='event_name',\n",
    "        aggfunc='count'\n",
    "    )\n",
    "    .reset_index()\n",
    "    .rename_axis('index', axis=1)\n",
    "    .rename(columns={'event_name': 'event_count'})\n",
    ")\n",
    "\n",
    "fig = px.line(\n",
    "    df_temp,\n",
    "    x='event_date',\n",
    "    y='event_count',\n",
    "    color='group',\n",
    "    markers=True,\n",
    "    title='Number of events per day depending on the test group',\n",
    "    labels=dict(event_date='Date', event_count='Events, #'),\n",
    "    width=FIG_WIDTH * 100,\n",
    "    height=FIG_HEIGHT * 100,\n",
    "    template='plotly_white'\n",
    ")\n",
    "fig.update_layout(\n",
    "    legend=dict(orientation='h', yanchor='top', y=1.1, x=0), hovermode='x unified'\n",
    ")\n",
    "fig.show()\n"
   ]
  },
  {
   "attachments": {},
   "cell_type": "markdown",
   "metadata": {},
   "source": [
    "The number of events in group A significantly increases after December 12th. However, this could be attributed to the difference in the total number of users.\n",
    "\n",
    "Let's examine this metric on a per-user basis."
   ]
  },
  {
   "cell_type": "code",
   "execution_count": 15,
   "metadata": {},
   "outputs": [
    {
     "data": {
      "application/vnd.plotly.v1+json": {
       "config": {
        "plotlyServerURL": "https://plot.ly"
       },
       "data": [
        {
         "hovertemplate": "group=A<br>Date=%{x}<br>Events per user, #=%{y}<extra></extra>",
         "legendgroup": "A",
         "line": {
          "color": "#636efa",
          "dash": "solid"
         },
         "marker": {
          "symbol": "circle"
         },
         "mode": "markers+lines",
         "name": "A",
         "orientation": "v",
         "showlegend": true,
         "type": "scatter",
         "x": [
          "2020-12-07T00:00:00",
          "2020-12-08T00:00:00",
          "2020-12-09T00:00:00",
          "2020-12-10T00:00:00",
          "2020-12-11T00:00:00",
          "2020-12-12T00:00:00",
          "2020-12-13T00:00:00",
          "2020-12-14T00:00:00",
          "2020-12-15T00:00:00",
          "2020-12-16T00:00:00",
          "2020-12-17T00:00:00",
          "2020-12-18T00:00:00",
          "2020-12-19T00:00:00",
          "2020-12-20T00:00:00",
          "2020-12-21T00:00:00",
          "2020-12-22T00:00:00",
          "2020-12-23T00:00:00",
          "2020-12-24T00:00:00",
          "2020-12-25T00:00:00",
          "2020-12-26T00:00:00",
          "2020-12-27T00:00:00",
          "2020-12-28T00:00:00",
          "2020-12-29T00:00:00"
         ],
         "xaxis": "x",
         "y": [
          2.145631067961165,
          2.212962962962963,
          2.203125,
          2.1769911504424777,
          2.0625,
          2.1328125,
          2.0086206896551726,
          2.2271386430678466,
          2.2941176470588234,
          2.287461773700306,
          2.320954907161804,
          2.275689223057644,
          2.3340380549682873,
          2.2895833333333333,
          2.266244057052298,
          2.2344497607655502,
          2.207547169811321,
          2.32421875,
          2.3350785340314135,
          2.311377245508982,
          2.2941176470588234,
          2.230088495575221,
          2.3043478260869565
         ],
         "yaxis": "y"
        },
        {
         "hovertemplate": "group=B<br>Date=%{x}<br>Events per user, #=%{y}<extra></extra>",
         "legendgroup": "B",
         "line": {
          "color": "#EF553B",
          "dash": "solid"
         },
         "marker": {
          "symbol": "circle"
         },
         "mode": "markers+lines",
         "name": "B",
         "orientation": "v",
         "showlegend": true,
         "type": "scatter",
         "x": [
          "2020-12-07T00:00:00",
          "2020-12-08T00:00:00",
          "2020-12-09T00:00:00",
          "2020-12-10T00:00:00",
          "2020-12-11T00:00:00",
          "2020-12-12T00:00:00",
          "2020-12-13T00:00:00",
          "2020-12-14T00:00:00",
          "2020-12-15T00:00:00",
          "2020-12-16T00:00:00",
          "2020-12-17T00:00:00",
          "2020-12-18T00:00:00",
          "2020-12-19T00:00:00",
          "2020-12-20T00:00:00",
          "2020-12-21T00:00:00",
          "2020-12-22T00:00:00",
          "2020-12-23T00:00:00",
          "2020-12-24T00:00:00",
          "2020-12-25T00:00:00",
          "2020-12-26T00:00:00",
          "2020-12-27T00:00:00",
          "2020-12-28T00:00:00",
          "2020-12-29T00:00:00"
         ],
         "xaxis": "x",
         "y": [
          2.2521008403361344,
          2.0609756097560976,
          2.1367521367521367,
          2.044943820224719,
          1.9491525423728813,
          2,
          1.9074074074074074,
          2.031578947368421,
          2,
          2.2357723577235773,
          2.1555555555555554,
          2.0408163265306123,
          2.058252427184466,
          2.016949152542373,
          2.1641791044776117,
          1.9838709677419355,
          1.9649122807017543,
          2.1219512195121952,
          2.0357142857142856,
          1.8636363636363635,
          2.260869565217391,
          1.8571428571428572,
          1.875
         ],
         "yaxis": "y"
        }
       ],
       "layout": {
        "height": 500,
        "hovermode": "x unified",
        "legend": {
         "orientation": "h",
         "title": {
          "text": "group"
         },
         "tracegroupgap": 0,
         "x": 0,
         "y": 1.1,
         "yanchor": "top"
        },
        "template": {
         "data": {
          "bar": [
           {
            "error_x": {
             "color": "#2a3f5f"
            },
            "error_y": {
             "color": "#2a3f5f"
            },
            "marker": {
             "line": {
              "color": "white",
              "width": 0.5
             },
             "pattern": {
              "fillmode": "overlay",
              "size": 10,
              "solidity": 0.2
             }
            },
            "type": "bar"
           }
          ],
          "barpolar": [
           {
            "marker": {
             "line": {
              "color": "white",
              "width": 0.5
             },
             "pattern": {
              "fillmode": "overlay",
              "size": 10,
              "solidity": 0.2
             }
            },
            "type": "barpolar"
           }
          ],
          "carpet": [
           {
            "aaxis": {
             "endlinecolor": "#2a3f5f",
             "gridcolor": "#C8D4E3",
             "linecolor": "#C8D4E3",
             "minorgridcolor": "#C8D4E3",
             "startlinecolor": "#2a3f5f"
            },
            "baxis": {
             "endlinecolor": "#2a3f5f",
             "gridcolor": "#C8D4E3",
             "linecolor": "#C8D4E3",
             "minorgridcolor": "#C8D4E3",
             "startlinecolor": "#2a3f5f"
            },
            "type": "carpet"
           }
          ],
          "choropleth": [
           {
            "colorbar": {
             "outlinewidth": 0,
             "ticks": ""
            },
            "type": "choropleth"
           }
          ],
          "contour": [
           {
            "colorbar": {
             "outlinewidth": 0,
             "ticks": ""
            },
            "colorscale": [
             [
              0,
              "#0d0887"
             ],
             [
              0.1111111111111111,
              "#46039f"
             ],
             [
              0.2222222222222222,
              "#7201a8"
             ],
             [
              0.3333333333333333,
              "#9c179e"
             ],
             [
              0.4444444444444444,
              "#bd3786"
             ],
             [
              0.5555555555555556,
              "#d8576b"
             ],
             [
              0.6666666666666666,
              "#ed7953"
             ],
             [
              0.7777777777777778,
              "#fb9f3a"
             ],
             [
              0.8888888888888888,
              "#fdca26"
             ],
             [
              1,
              "#f0f921"
             ]
            ],
            "type": "contour"
           }
          ],
          "contourcarpet": [
           {
            "colorbar": {
             "outlinewidth": 0,
             "ticks": ""
            },
            "type": "contourcarpet"
           }
          ],
          "heatmap": [
           {
            "colorbar": {
             "outlinewidth": 0,
             "ticks": ""
            },
            "colorscale": [
             [
              0,
              "#0d0887"
             ],
             [
              0.1111111111111111,
              "#46039f"
             ],
             [
              0.2222222222222222,
              "#7201a8"
             ],
             [
              0.3333333333333333,
              "#9c179e"
             ],
             [
              0.4444444444444444,
              "#bd3786"
             ],
             [
              0.5555555555555556,
              "#d8576b"
             ],
             [
              0.6666666666666666,
              "#ed7953"
             ],
             [
              0.7777777777777778,
              "#fb9f3a"
             ],
             [
              0.8888888888888888,
              "#fdca26"
             ],
             [
              1,
              "#f0f921"
             ]
            ],
            "type": "heatmap"
           }
          ],
          "heatmapgl": [
           {
            "colorbar": {
             "outlinewidth": 0,
             "ticks": ""
            },
            "colorscale": [
             [
              0,
              "#0d0887"
             ],
             [
              0.1111111111111111,
              "#46039f"
             ],
             [
              0.2222222222222222,
              "#7201a8"
             ],
             [
              0.3333333333333333,
              "#9c179e"
             ],
             [
              0.4444444444444444,
              "#bd3786"
             ],
             [
              0.5555555555555556,
              "#d8576b"
             ],
             [
              0.6666666666666666,
              "#ed7953"
             ],
             [
              0.7777777777777778,
              "#fb9f3a"
             ],
             [
              0.8888888888888888,
              "#fdca26"
             ],
             [
              1,
              "#f0f921"
             ]
            ],
            "type": "heatmapgl"
           }
          ],
          "histogram": [
           {
            "marker": {
             "pattern": {
              "fillmode": "overlay",
              "size": 10,
              "solidity": 0.2
             }
            },
            "type": "histogram"
           }
          ],
          "histogram2d": [
           {
            "colorbar": {
             "outlinewidth": 0,
             "ticks": ""
            },
            "colorscale": [
             [
              0,
              "#0d0887"
             ],
             [
              0.1111111111111111,
              "#46039f"
             ],
             [
              0.2222222222222222,
              "#7201a8"
             ],
             [
              0.3333333333333333,
              "#9c179e"
             ],
             [
              0.4444444444444444,
              "#bd3786"
             ],
             [
              0.5555555555555556,
              "#d8576b"
             ],
             [
              0.6666666666666666,
              "#ed7953"
             ],
             [
              0.7777777777777778,
              "#fb9f3a"
             ],
             [
              0.8888888888888888,
              "#fdca26"
             ],
             [
              1,
              "#f0f921"
             ]
            ],
            "type": "histogram2d"
           }
          ],
          "histogram2dcontour": [
           {
            "colorbar": {
             "outlinewidth": 0,
             "ticks": ""
            },
            "colorscale": [
             [
              0,
              "#0d0887"
             ],
             [
              0.1111111111111111,
              "#46039f"
             ],
             [
              0.2222222222222222,
              "#7201a8"
             ],
             [
              0.3333333333333333,
              "#9c179e"
             ],
             [
              0.4444444444444444,
              "#bd3786"
             ],
             [
              0.5555555555555556,
              "#d8576b"
             ],
             [
              0.6666666666666666,
              "#ed7953"
             ],
             [
              0.7777777777777778,
              "#fb9f3a"
             ],
             [
              0.8888888888888888,
              "#fdca26"
             ],
             [
              1,
              "#f0f921"
             ]
            ],
            "type": "histogram2dcontour"
           }
          ],
          "mesh3d": [
           {
            "colorbar": {
             "outlinewidth": 0,
             "ticks": ""
            },
            "type": "mesh3d"
           }
          ],
          "parcoords": [
           {
            "line": {
             "colorbar": {
              "outlinewidth": 0,
              "ticks": ""
             }
            },
            "type": "parcoords"
           }
          ],
          "pie": [
           {
            "automargin": true,
            "type": "pie"
           }
          ],
          "scatter": [
           {
            "fillpattern": {
             "fillmode": "overlay",
             "size": 10,
             "solidity": 0.2
            },
            "type": "scatter"
           }
          ],
          "scatter3d": [
           {
            "line": {
             "colorbar": {
              "outlinewidth": 0,
              "ticks": ""
             }
            },
            "marker": {
             "colorbar": {
              "outlinewidth": 0,
              "ticks": ""
             }
            },
            "type": "scatter3d"
           }
          ],
          "scattercarpet": [
           {
            "marker": {
             "colorbar": {
              "outlinewidth": 0,
              "ticks": ""
             }
            },
            "type": "scattercarpet"
           }
          ],
          "scattergeo": [
           {
            "marker": {
             "colorbar": {
              "outlinewidth": 0,
              "ticks": ""
             }
            },
            "type": "scattergeo"
           }
          ],
          "scattergl": [
           {
            "marker": {
             "colorbar": {
              "outlinewidth": 0,
              "ticks": ""
             }
            },
            "type": "scattergl"
           }
          ],
          "scattermapbox": [
           {
            "marker": {
             "colorbar": {
              "outlinewidth": 0,
              "ticks": ""
             }
            },
            "type": "scattermapbox"
           }
          ],
          "scatterpolar": [
           {
            "marker": {
             "colorbar": {
              "outlinewidth": 0,
              "ticks": ""
             }
            },
            "type": "scatterpolar"
           }
          ],
          "scatterpolargl": [
           {
            "marker": {
             "colorbar": {
              "outlinewidth": 0,
              "ticks": ""
             }
            },
            "type": "scatterpolargl"
           }
          ],
          "scatterternary": [
           {
            "marker": {
             "colorbar": {
              "outlinewidth": 0,
              "ticks": ""
             }
            },
            "type": "scatterternary"
           }
          ],
          "surface": [
           {
            "colorbar": {
             "outlinewidth": 0,
             "ticks": ""
            },
            "colorscale": [
             [
              0,
              "#0d0887"
             ],
             [
              0.1111111111111111,
              "#46039f"
             ],
             [
              0.2222222222222222,
              "#7201a8"
             ],
             [
              0.3333333333333333,
              "#9c179e"
             ],
             [
              0.4444444444444444,
              "#bd3786"
             ],
             [
              0.5555555555555556,
              "#d8576b"
             ],
             [
              0.6666666666666666,
              "#ed7953"
             ],
             [
              0.7777777777777778,
              "#fb9f3a"
             ],
             [
              0.8888888888888888,
              "#fdca26"
             ],
             [
              1,
              "#f0f921"
             ]
            ],
            "type": "surface"
           }
          ],
          "table": [
           {
            "cells": {
             "fill": {
              "color": "#EBF0F8"
             },
             "line": {
              "color": "white"
             }
            },
            "header": {
             "fill": {
              "color": "#C8D4E3"
             },
             "line": {
              "color": "white"
             }
            },
            "type": "table"
           }
          ]
         },
         "layout": {
          "annotationdefaults": {
           "arrowcolor": "#2a3f5f",
           "arrowhead": 0,
           "arrowwidth": 1
          },
          "autotypenumbers": "strict",
          "coloraxis": {
           "colorbar": {
            "outlinewidth": 0,
            "ticks": ""
           }
          },
          "colorscale": {
           "diverging": [
            [
             0,
             "#8e0152"
            ],
            [
             0.1,
             "#c51b7d"
            ],
            [
             0.2,
             "#de77ae"
            ],
            [
             0.3,
             "#f1b6da"
            ],
            [
             0.4,
             "#fde0ef"
            ],
            [
             0.5,
             "#f7f7f7"
            ],
            [
             0.6,
             "#e6f5d0"
            ],
            [
             0.7,
             "#b8e186"
            ],
            [
             0.8,
             "#7fbc41"
            ],
            [
             0.9,
             "#4d9221"
            ],
            [
             1,
             "#276419"
            ]
           ],
           "sequential": [
            [
             0,
             "#0d0887"
            ],
            [
             0.1111111111111111,
             "#46039f"
            ],
            [
             0.2222222222222222,
             "#7201a8"
            ],
            [
             0.3333333333333333,
             "#9c179e"
            ],
            [
             0.4444444444444444,
             "#bd3786"
            ],
            [
             0.5555555555555556,
             "#d8576b"
            ],
            [
             0.6666666666666666,
             "#ed7953"
            ],
            [
             0.7777777777777778,
             "#fb9f3a"
            ],
            [
             0.8888888888888888,
             "#fdca26"
            ],
            [
             1,
             "#f0f921"
            ]
           ],
           "sequentialminus": [
            [
             0,
             "#0d0887"
            ],
            [
             0.1111111111111111,
             "#46039f"
            ],
            [
             0.2222222222222222,
             "#7201a8"
            ],
            [
             0.3333333333333333,
             "#9c179e"
            ],
            [
             0.4444444444444444,
             "#bd3786"
            ],
            [
             0.5555555555555556,
             "#d8576b"
            ],
            [
             0.6666666666666666,
             "#ed7953"
            ],
            [
             0.7777777777777778,
             "#fb9f3a"
            ],
            [
             0.8888888888888888,
             "#fdca26"
            ],
            [
             1,
             "#f0f921"
            ]
           ]
          },
          "colorway": [
           "#636efa",
           "#EF553B",
           "#00cc96",
           "#ab63fa",
           "#FFA15A",
           "#19d3f3",
           "#FF6692",
           "#B6E880",
           "#FF97FF",
           "#FECB52"
          ],
          "font": {
           "color": "#2a3f5f"
          },
          "geo": {
           "bgcolor": "white",
           "lakecolor": "white",
           "landcolor": "white",
           "showlakes": true,
           "showland": true,
           "subunitcolor": "#C8D4E3"
          },
          "hoverlabel": {
           "align": "left"
          },
          "hovermode": "closest",
          "mapbox": {
           "style": "light"
          },
          "paper_bgcolor": "white",
          "plot_bgcolor": "white",
          "polar": {
           "angularaxis": {
            "gridcolor": "#EBF0F8",
            "linecolor": "#EBF0F8",
            "ticks": ""
           },
           "bgcolor": "white",
           "radialaxis": {
            "gridcolor": "#EBF0F8",
            "linecolor": "#EBF0F8",
            "ticks": ""
           }
          },
          "scene": {
           "xaxis": {
            "backgroundcolor": "white",
            "gridcolor": "#DFE8F3",
            "gridwidth": 2,
            "linecolor": "#EBF0F8",
            "showbackground": true,
            "ticks": "",
            "zerolinecolor": "#EBF0F8"
           },
           "yaxis": {
            "backgroundcolor": "white",
            "gridcolor": "#DFE8F3",
            "gridwidth": 2,
            "linecolor": "#EBF0F8",
            "showbackground": true,
            "ticks": "",
            "zerolinecolor": "#EBF0F8"
           },
           "zaxis": {
            "backgroundcolor": "white",
            "gridcolor": "#DFE8F3",
            "gridwidth": 2,
            "linecolor": "#EBF0F8",
            "showbackground": true,
            "ticks": "",
            "zerolinecolor": "#EBF0F8"
           }
          },
          "shapedefaults": {
           "line": {
            "color": "#2a3f5f"
           }
          },
          "ternary": {
           "aaxis": {
            "gridcolor": "#DFE8F3",
            "linecolor": "#A2B1C6",
            "ticks": ""
           },
           "baxis": {
            "gridcolor": "#DFE8F3",
            "linecolor": "#A2B1C6",
            "ticks": ""
           },
           "bgcolor": "white",
           "caxis": {
            "gridcolor": "#DFE8F3",
            "linecolor": "#A2B1C6",
            "ticks": ""
           }
          },
          "title": {
           "x": 0.05
          },
          "xaxis": {
           "automargin": true,
           "gridcolor": "#EBF0F8",
           "linecolor": "#EBF0F8",
           "ticks": "",
           "title": {
            "standoff": 15
           },
           "zerolinecolor": "#EBF0F8",
           "zerolinewidth": 2
          },
          "yaxis": {
           "automargin": true,
           "gridcolor": "#EBF0F8",
           "linecolor": "#EBF0F8",
           "ticks": "",
           "title": {
            "standoff": 15
           },
           "zerolinecolor": "#EBF0F8",
           "zerolinewidth": 2
          }
         }
        },
        "title": {
         "text": "Number of events per user per day depending on the test group"
        },
        "width": 800,
        "xaxis": {
         "anchor": "y",
         "domain": [
          0,
          1
         ],
         "title": {
          "text": "Date"
         }
        },
        "yaxis": {
         "anchor": "x",
         "domain": [
          0,
          1
         ],
         "title": {
          "text": "Events per user, #"
         }
        }
       }
      }
     },
     "metadata": {},
     "output_type": "display_data"
    }
   ],
   "source": [
    "df_temp = (\n",
    "    pd.pivot_table(\n",
    "        data=df_summary,\n",
    "        index=['event_date', 'group'],\n",
    "        values=['user_id', 'event_name'],\n",
    "        aggfunc={'user_id': 'nunique', 'event_name': 'count'}\n",
    "    )\n",
    "    .reset_index()\n",
    "    .rename_axis('index', axis=1)\n",
    "    .rename(columns={'event_name': 'event_count', 'user_id': 'user_id_ucount'})\n",
    "    .assign(\n",
    "        events_per_user=lambda df: df.event_count / df.user_id_ucount\n",
    "    )\n",
    ")\n",
    "\n",
    "fig = px.line(\n",
    "    df_temp,\n",
    "    x='event_date',\n",
    "    y='events_per_user',\n",
    "    color='group',\n",
    "    markers=True,\n",
    "    title='Number of events per user per day depending on the test group',\n",
    "    labels=dict(event_date='Date', events_per_user='Events per user, #'),\n",
    "    width=FIG_WIDTH * 100,\n",
    "    height=FIG_HEIGHT * 100,\n",
    "    template='plotly_white'\n",
    ")\n",
    "fig.update_layout(\n",
    "    legend=dict(orientation='h', yanchor='top', y=1.1, x=0), hovermode='x unified'\n",
    ")\n",
    "fig.show()\n"
   ]
  },
  {
   "attachments": {},
   "cell_type": "markdown",
   "metadata": {},
   "source": [
    "The difference still exists, but it is not as significant as in the previous graph. In group A, there were more events per user throughout the entire test period compared to group B.\n",
    "\n",
    "Let's examine the overall user behavior."
   ]
  },
  {
   "cell_type": "code",
   "execution_count": 16,
   "metadata": {},
   "outputs": [
    {
     "data": {
      "application/vnd.plotly.v1+json": {
       "config": {
        "plotlyServerURL": "https://plot.ly"
       },
       "data": [
        {
         "alignmentgroup": "True",
         "box": {
          "visible": false
         },
         "hovertemplate": "Test group=%{y}<br>Events per user, #=%{x}<extra></extra>",
         "legendgroup": "A",
         "marker": {
          "color": "#636efa"
         },
         "name": "A",
         "offsetgroup": "A",
         "orientation": "h",
         "scalegroup": "True",
         "showlegend": false,
         "type": "violin",
         "x": [
          12,
          15,
          5,
          6,
          2,
          9,
          4,
          9,
          4,
          8,
          4,
          3,
          6,
          1,
          2,
          4,
          8,
          6,
          6,
          4,
          10,
          9,
          4,
          4,
          12,
          8,
          9,
          12,
          10,
          4,
          4,
          8,
          6,
          8,
          3,
          6,
          9,
          6,
          3,
          12,
          2,
          6,
          12,
          3,
          4,
          8,
          6,
          3,
          8,
          6,
          5,
          9,
          6,
          6,
          6,
          4,
          6,
          3,
          9,
          9,
          4,
          12,
          8,
          9,
          6,
          3,
          6,
          12,
          6,
          6,
          8,
          9,
          12,
          6,
          4,
          9,
          6,
          4,
          4,
          4,
          8,
          4,
          10,
          3,
          8,
          15,
          2,
          8,
          3,
          9,
          8,
          12,
          2,
          6,
          10,
          12,
          8,
          6,
          6,
          9,
          3,
          3,
          6,
          4,
          4,
          4,
          3,
          1,
          4,
          3,
          8,
          10,
          12,
          20,
          4,
          4,
          4,
          9,
          8,
          6,
          6,
          4,
          2,
          6,
          10,
          9,
          2,
          6,
          8,
          4,
          5,
          8,
          10,
          6,
          3,
          4,
          10,
          12,
          5,
          12,
          12,
          4,
          10,
          4,
          9,
          3,
          6,
          6,
          9,
          3,
          12,
          2,
          3,
          16,
          6,
          15,
          12,
          8,
          6,
          9,
          3,
          9,
          3,
          6,
          6,
          4,
          4,
          8,
          4,
          6,
          6,
          12,
          3,
          4,
          6,
          6,
          6,
          9,
          4,
          2,
          2,
          3,
          6,
          6,
          9,
          4,
          20,
          15,
          3,
          8,
          3,
          6,
          8,
          16,
          8,
          4,
          4,
          4,
          9,
          6,
          6,
          16,
          6,
          20,
          15,
          2,
          8,
          6,
          16,
          4,
          4,
          4,
          8,
          9,
          9,
          4,
          4,
          6,
          20,
          9,
          6,
          4,
          4,
          9,
          12,
          6,
          8,
          9,
          4,
          1,
          10,
          12,
          12,
          6,
          2,
          9,
          2,
          8,
          6,
          1,
          12,
          4,
          2,
          8,
          3,
          9,
          4,
          18,
          8,
          6,
          15,
          9,
          6,
          3,
          4,
          2,
          6,
          8,
          4,
          8,
          8,
          6,
          6,
          6,
          10,
          12,
          4,
          9,
          4,
          1,
          6,
          4,
          9,
          16,
          3,
          9,
          2,
          3,
          9,
          15,
          2,
          2,
          3,
          6,
          2,
          1,
          4,
          15,
          8,
          3,
          6,
          9,
          6,
          12,
          12,
          8,
          9,
          3,
          8,
          9,
          12,
          4,
          9,
          9,
          4,
          6,
          8,
          6,
          12,
          8,
          6,
          6,
          4,
          15,
          3,
          8,
          4,
          12,
          8,
          6,
          6,
          4,
          6,
          12,
          10,
          6,
          8,
          6,
          4,
          3,
          6,
          3,
          8,
          12,
          8,
          5,
          9,
          6,
          6,
          6,
          4,
          6,
          12,
          4,
          4,
          3,
          6,
          20,
          6,
          9,
          3,
          3,
          8,
          6,
          15,
          8,
          6,
          8,
          8,
          3,
          8,
          3,
          9,
          6,
          2,
          15,
          3,
          12,
          6,
          9,
          15,
          8,
          6,
          4,
          4,
          9,
          8,
          6,
          5,
          8,
          8,
          9,
          9,
          6,
          4,
          12,
          4,
          8,
          2,
          5,
          8,
          12,
          8,
          3,
          5,
          8,
          12,
          6,
          4,
          4,
          4,
          10,
          6,
          12,
          9,
          10,
          6,
          9,
          4,
          2,
          15,
          1,
          15,
          4,
          6,
          3,
          9,
          12,
          8,
          5,
          9,
          16,
          5,
          10,
          15,
          4,
          12,
          18,
          2,
          6,
          6,
          2,
          4,
          4,
          6,
          12,
          12,
          2,
          10,
          3,
          6,
          2,
          8,
          1,
          4,
          6,
          12,
          6,
          4,
          16,
          3,
          5,
          4,
          4,
          3,
          4,
          8,
          8,
          15,
          3,
          6,
          1,
          12,
          6,
          12,
          2,
          4,
          12,
          3,
          12,
          9,
          12,
          4,
          6,
          9,
          8,
          6,
          2,
          3,
          6,
          8,
          12,
          6,
          3,
          6,
          6,
          6,
          3,
          9,
          4,
          4,
          6,
          14,
          2,
          8,
          6,
          6,
          6,
          3,
          2,
          2,
          8,
          4,
          4,
          8,
          4,
          6,
          1,
          2,
          1,
          6,
          12,
          4,
          8,
          8,
          3,
          6,
          4,
          2,
          8,
          12,
          6,
          8,
          6,
          15,
          3,
          3,
          8,
          9,
          8,
          9,
          2,
          6,
          4,
          3,
          16,
          2,
          2,
          15,
          6,
          9,
          6,
          9,
          9,
          2,
          9,
          4,
          9,
          8,
          8,
          1,
          6,
          12,
          15,
          3,
          6,
          15,
          8,
          20,
          4,
          6,
          12,
          16,
          6,
          3,
          2,
          8,
          8,
          9,
          8,
          4,
          9,
          10,
          6,
          4,
          12,
          4,
          5,
          6,
          9,
          9,
          6,
          2,
          3,
          9,
          5,
          12,
          4,
          12,
          2,
          9,
          6,
          10,
          12,
          5,
          3,
          8,
          4,
          9,
          12,
          2,
          4,
          8,
          6,
          12,
          4,
          10,
          12,
          2,
          4,
          12,
          6,
          2,
          10,
          12,
          9,
          15,
          2,
          6,
          6,
          4,
          6,
          12,
          6,
          6,
          9,
          3,
          4,
          8,
          4,
          4,
          2,
          6,
          6,
          6,
          3,
          2,
          6,
          6,
          4,
          6,
          2,
          6,
          9,
          9,
          4,
          12,
          10,
          4,
          8,
          9,
          4,
          12,
          6,
          3,
          4,
          2,
          16,
          9,
          12,
          6,
          1,
          8,
          8,
          4,
          6,
          4,
          12,
          8,
          3,
          4,
          12,
          1,
          9,
          4,
          6,
          4,
          2,
          4,
          6,
          10,
          9,
          8,
          6,
          1,
          9,
          3,
          6,
          8,
          9,
          8,
          6,
          2,
          3,
          8,
          3,
          5,
          4,
          8,
          8,
          4,
          4,
          12,
          10,
          10,
          8,
          12,
          12,
          8,
          4,
          3,
          15,
          3,
          2,
          4,
          8,
          10,
          18,
          6,
          8,
          8,
          3,
          9,
          8,
          9,
          15,
          14,
          6,
          4,
          6,
          3,
          8,
          14,
          4,
          9,
          8,
          12,
          12,
          8,
          6,
          12,
          3,
          6,
          12,
          4,
          4,
          8,
          12,
          18,
          9,
          4,
          2,
          8,
          5,
          10,
          16,
          9,
          8,
          4,
          4,
          6,
          2,
          8,
          6,
          8,
          6,
          9,
          6,
          12,
          8,
          6,
          6,
          3,
          4,
          4,
          6,
          4,
          4,
          3,
          6,
          10,
          3,
          9,
          4,
          2,
          12,
          8,
          12,
          6,
          4,
          12,
          4,
          4,
          15,
          9,
          9,
          6,
          4,
          2,
          4,
          2,
          3,
          6,
          6,
          4,
          8,
          4,
          3,
          4,
          12,
          3,
          2,
          6,
          12,
          6,
          6,
          15,
          6,
          8,
          9,
          5,
          6,
          2,
          1,
          4,
          2,
          9,
          6,
          8,
          18,
          3,
          2,
          12,
          2,
          3,
          6,
          9,
          5,
          9,
          6,
          6,
          4,
          9,
          4,
          2,
          8,
          3,
          6,
          6,
          2,
          6,
          4,
          18,
          12,
          4,
          6,
          3,
          9,
          6,
          8,
          4,
          6,
          6,
          10,
          12,
          20,
          9,
          4,
          12,
          4,
          3,
          6,
          8,
          12,
          3,
          8,
          12,
          9,
          3,
          15,
          9,
          10,
          3,
          3,
          2,
          3,
          4,
          8,
          4,
          6,
          3,
          4,
          6,
          9,
          6,
          11,
          6,
          12,
          6,
          20,
          3,
          1,
          6,
          5,
          8,
          12,
          6,
          15,
          12,
          9,
          4,
          12,
          4,
          4,
          20,
          6,
          12,
          3,
          3,
          2,
          8,
          3,
          2,
          6,
          6,
          12,
          10,
          4,
          6,
          2,
          4,
          6,
          6,
          3,
          2,
          3,
          8,
          12,
          6,
          4,
          8,
          6,
          4,
          2,
          2,
          14,
          6,
          4,
          8,
          1,
          6,
          2,
          4,
          3,
          6,
          4,
          4,
          6,
          12,
          9,
          9,
          2,
          3,
          8,
          6,
          6,
          10,
          3,
          9,
          12,
          4,
          12,
          3,
          8,
          2,
          4,
          8,
          6,
          8,
          4,
          4,
          8,
          4,
          10,
          20,
          4,
          10,
          8,
          6,
          4,
          9,
          12,
          6,
          3,
          4,
          4,
          3,
          12,
          9,
          6,
          6,
          6,
          12,
          6,
          12,
          6,
          4,
          9,
          6,
          8,
          4,
          6,
          6,
          16,
          4,
          3,
          8,
          16,
          9,
          12,
          3,
          10,
          14,
          9,
          6,
          8,
          3,
          4,
          2,
          4,
          12,
          2,
          4,
          8,
          2,
          6,
          8,
          8,
          2,
          6,
          4,
          6,
          4,
          9,
          8,
          4,
          10,
          6,
          9,
          9,
          6,
          8,
          9,
          2,
          4,
          3,
          6,
          6,
          12,
          12,
          6,
          18,
          2,
          6,
          1,
          2,
          3,
          12,
          16,
          6,
          4,
          12,
          4,
          8,
          4,
          15,
          8,
          4,
          12,
          4,
          4,
          8,
          12,
          6,
          9,
          2,
          6,
          6,
          9,
          1,
          8,
          9,
          8,
          6,
          2,
          2,
          12,
          16,
          6,
          9,
          3,
          3,
          3,
          8,
          9,
          4,
          3,
          9,
          9,
          4,
          4,
          6,
          8,
          6,
          4,
          6,
          6,
          3,
          6,
          4,
          6,
          4,
          2,
          2,
          8,
          4,
          9,
          8,
          2,
          4,
          9,
          5,
          9,
          6,
          4,
          2,
          3,
          12,
          9,
          15,
          5,
          18,
          9,
          4,
          2,
          9,
          12,
          12,
          6,
          4,
          6,
          12,
          6,
          15,
          8,
          15,
          3,
          3,
          4,
          16,
          4,
          4,
          9,
          10,
          3,
          6,
          12,
          9,
          10,
          6,
          6,
          4,
          6,
          4,
          8,
          4,
          3,
          4,
          2,
          6,
          8,
          8,
          6,
          4,
          12,
          6,
          4,
          6,
          3,
          4,
          3,
          6,
          3,
          6,
          4,
          6,
          6,
          8,
          2,
          6,
          8,
          10,
          8,
          3,
          5,
          15,
          2,
          2,
          4,
          4,
          6,
          1,
          2,
          12,
          12,
          4,
          9,
          6,
          4,
          2,
          4,
          4,
          2,
          20,
          6,
          6,
          6,
          6,
          9,
          4,
          6,
          15,
          3,
          18,
          11,
          3,
          4,
          18,
          4,
          9,
          8,
          8,
          2,
          14,
          8,
          3,
          4,
          12,
          15,
          6,
          9,
          8,
          8,
          6,
          6,
          3,
          15,
          6,
          4,
          14,
          6,
          4,
          9,
          6,
          12,
          6,
          10,
          6,
          4,
          12,
          16,
          10,
          4,
          4,
          8,
          9,
          12,
          6,
          12,
          16,
          9,
          6,
          6,
          6,
          2,
          9,
          8,
          4,
          2,
          10,
          6,
          10,
          9,
          2,
          6,
          6,
          6,
          16,
          12,
          10,
          10,
          4,
          2,
          2,
          6,
          8,
          12,
          4,
          20,
          8,
          6,
          6,
          16,
          9,
          3,
          6,
          3,
          4,
          9,
          4,
          4,
          6,
          9,
          12,
          12,
          10,
          15,
          4,
          9,
          6,
          6,
          10,
          4,
          8,
          10,
          10,
          3,
          5,
          8,
          12,
          6,
          9,
          8,
          2,
          9,
          8,
          4,
          6,
          9,
          2,
          3,
          12,
          3,
          6,
          6,
          4,
          6,
          6,
          8,
          10,
          15,
          4,
          4,
          6,
          9,
          14,
          8,
          6,
          6,
          15,
          4,
          6,
          4,
          15,
          6,
          10,
          4,
          9,
          12,
          2,
          2,
          6,
          6,
          8,
          2,
          8,
          4,
          3,
          3,
          12,
          10,
          15,
          5,
          4,
          12,
          3,
          4,
          8,
          9,
          4,
          4,
          12,
          3,
          2,
          6,
          4,
          6,
          12,
          4,
          4,
          4,
          15,
          3,
          8,
          4,
          8,
          9,
          8,
          12,
          6,
          15,
          21,
          4,
          8,
          6,
          8,
          6,
          4,
          6,
          15,
          12,
          16,
          4,
          6,
          8,
          8,
          5,
          8,
          20,
          18,
          12,
          8,
          4,
          6,
          5,
          4,
          8,
          4,
          5,
          9,
          10,
          12,
          4,
          4,
          6,
          4,
          4,
          3,
          8,
          6,
          8,
          10,
          4,
          8,
          8,
          3,
          9,
          9,
          4,
          12,
          4,
          6,
          12,
          4,
          6,
          3,
          6,
          6,
          6,
          4,
          2,
          18,
          6,
          4,
          5,
          3,
          16,
          9,
          12,
          8,
          2,
          4,
          8,
          6,
          2,
          2,
          6,
          4,
          6,
          3,
          8,
          3,
          4,
          9,
          8,
          6,
          3,
          9,
          6,
          6,
          9,
          6,
          8,
          10,
          8,
          3,
          4,
          12,
          9,
          1,
          8,
          9,
          4,
          6,
          6,
          6,
          12,
          2,
          6,
          16,
          9,
          6,
          3,
          6,
          3,
          6,
          12,
          4,
          12,
          8,
          8,
          3,
          12,
          4,
          12,
          2,
          6,
          6,
          6,
          6,
          6,
          3,
          8,
          6,
          12,
          8,
          2,
          9,
          4,
          6,
          9,
          4,
          9,
          18,
          6,
          8,
          12,
          8,
          4,
          15,
          3,
          8,
          12,
          12,
          6,
          6,
          24,
          6,
          8,
          2,
          8,
          6,
          6,
          4,
          6,
          2,
          8,
          4,
          6,
          5,
          9,
          8,
          9,
          2,
          12,
          6,
          6,
          6,
          6,
          8,
          4,
          2,
          8,
          12,
          2,
          2,
          9,
          12,
          12,
          6,
          9,
          6,
          4,
          4,
          4,
          2,
          6,
          8,
          4,
          6,
          12,
          4,
          10,
          2,
          8,
          4,
          12,
          6,
          6,
          3,
          12,
          12,
          2,
          4,
          15,
          6,
          3,
          10,
          2,
          4,
          9,
          12,
          10,
          2,
          6,
          12,
          4,
          2,
          4,
          4,
          12,
          15,
          4,
          6,
          9,
          4,
          4,
          9,
          8,
          15,
          6,
          16,
          12,
          4,
          1,
          8,
          2,
          3,
          8,
          8,
          8,
          9,
          6,
          9,
          3,
          15,
          6,
          9,
          6,
          4,
          12,
          6,
          4,
          4,
          12,
          1,
          6,
          6,
          6,
          4,
          12,
          6,
          6,
          6,
          12,
          2,
          8,
          16,
          8,
          4,
          10,
          2,
          4,
          4,
          15,
          12,
          6,
          20,
          6,
          12,
          9,
          3,
          6,
          6,
          3,
          2,
          3,
          3,
          18,
          4,
          6,
          4,
          8,
          6,
          4,
          6,
          1,
          9,
          2,
          8,
          12,
          10,
          4,
          8,
          9,
          16,
          9,
          3,
          4,
          6,
          6,
          3,
          8,
          3,
          2,
          6,
          3,
          6,
          3,
          15,
          5,
          9,
          9,
          4,
          8,
          9,
          2,
          4,
          6,
          3,
          2,
          4,
          6,
          2,
          15,
          3,
          6,
          6,
          9,
          12,
          9,
          6,
          6,
          6,
          3,
          6,
          2,
          3,
          6,
          8,
          6,
          6,
          9,
          4,
          2,
          12,
          2,
          2,
          6,
          4,
          3,
          2,
          15,
          6,
          4,
          6,
          8,
          9,
          12,
          6,
          6,
          2,
          4,
          4,
          8,
          9,
          4,
          6,
          8,
          6,
          9,
          6,
          6,
          6,
          2,
          6,
          2,
          9,
          6,
          3,
          12,
          15,
          10,
          12,
          12,
          12,
          12,
          6,
          15,
          8,
          15,
          3,
          3,
          5,
          1,
          6,
          8,
          4,
          4,
          4,
          4,
          4,
          8,
          4,
          9,
          6,
          6,
          6,
          4,
          9,
          6,
          15,
          6,
          9,
          8,
          10,
          9,
          6,
          2,
          2,
          3,
          8,
          2,
          8,
          6,
          10,
          8,
          4,
          3,
          6,
          6,
          4,
          4,
          14,
          10,
          20,
          12,
          4,
          6,
          9,
          2,
          4,
          12,
          8,
          6,
          12,
          6,
          12,
          15,
          2,
          8,
          20,
          6,
          6,
          6,
          9,
          9,
          4,
          4,
          6,
          9,
          12,
          12,
          3,
          2,
          4,
          4,
          8,
          4,
          6,
          6,
          8,
          4,
          6,
          9,
          2,
          8,
          2,
          3,
          16,
          12,
          3,
          4,
          8,
          3,
          1,
          6,
          12,
          6,
          9,
          8,
          4,
          4,
          4,
          12,
          10,
          9,
          8,
          6
         ],
         "x0": " ",
         "xaxis": "x",
         "y": [
          "A",
          "A",
          "A",
          "A",
          "A",
          "A",
          "A",
          "A",
          "A",
          "A",
          "A",
          "A",
          "A",
          "A",
          "A",
          "A",
          "A",
          "A",
          "A",
          "A",
          "A",
          "A",
          "A",
          "A",
          "A",
          "A",
          "A",
          "A",
          "A",
          "A",
          "A",
          "A",
          "A",
          "A",
          "A",
          "A",
          "A",
          "A",
          "A",
          "A",
          "A",
          "A",
          "A",
          "A",
          "A",
          "A",
          "A",
          "A",
          "A",
          "A",
          "A",
          "A",
          "A",
          "A",
          "A",
          "A",
          "A",
          "A",
          "A",
          "A",
          "A",
          "A",
          "A",
          "A",
          "A",
          "A",
          "A",
          "A",
          "A",
          "A",
          "A",
          "A",
          "A",
          "A",
          "A",
          "A",
          "A",
          "A",
          "A",
          "A",
          "A",
          "A",
          "A",
          "A",
          "A",
          "A",
          "A",
          "A",
          "A",
          "A",
          "A",
          "A",
          "A",
          "A",
          "A",
          "A",
          "A",
          "A",
          "A",
          "A",
          "A",
          "A",
          "A",
          "A",
          "A",
          "A",
          "A",
          "A",
          "A",
          "A",
          "A",
          "A",
          "A",
          "A",
          "A",
          "A",
          "A",
          "A",
          "A",
          "A",
          "A",
          "A",
          "A",
          "A",
          "A",
          "A",
          "A",
          "A",
          "A",
          "A",
          "A",
          "A",
          "A",
          "A",
          "A",
          "A",
          "A",
          "A",
          "A",
          "A",
          "A",
          "A",
          "A",
          "A",
          "A",
          "A",
          "A",
          "A",
          "A",
          "A",
          "A",
          "A",
          "A",
          "A",
          "A",
          "A",
          "A",
          "A",
          "A",
          "A",
          "A",
          "A",
          "A",
          "A",
          "A",
          "A",
          "A",
          "A",
          "A",
          "A",
          "A",
          "A",
          "A",
          "A",
          "A",
          "A",
          "A",
          "A",
          "A",
          "A",
          "A",
          "A",
          "A",
          "A",
          "A",
          "A",
          "A",
          "A",
          "A",
          "A",
          "A",
          "A",
          "A",
          "A",
          "A",
          "A",
          "A",
          "A",
          "A",
          "A",
          "A",
          "A",
          "A",
          "A",
          "A",
          "A",
          "A",
          "A",
          "A",
          "A",
          "A",
          "A",
          "A",
          "A",
          "A",
          "A",
          "A",
          "A",
          "A",
          "A",
          "A",
          "A",
          "A",
          "A",
          "A",
          "A",
          "A",
          "A",
          "A",
          "A",
          "A",
          "A",
          "A",
          "A",
          "A",
          "A",
          "A",
          "A",
          "A",
          "A",
          "A",
          "A",
          "A",
          "A",
          "A",
          "A",
          "A",
          "A",
          "A",
          "A",
          "A",
          "A",
          "A",
          "A",
          "A",
          "A",
          "A",
          "A",
          "A",
          "A",
          "A",
          "A",
          "A",
          "A",
          "A",
          "A",
          "A",
          "A",
          "A",
          "A",
          "A",
          "A",
          "A",
          "A",
          "A",
          "A",
          "A",
          "A",
          "A",
          "A",
          "A",
          "A",
          "A",
          "A",
          "A",
          "A",
          "A",
          "A",
          "A",
          "A",
          "A",
          "A",
          "A",
          "A",
          "A",
          "A",
          "A",
          "A",
          "A",
          "A",
          "A",
          "A",
          "A",
          "A",
          "A",
          "A",
          "A",
          "A",
          "A",
          "A",
          "A",
          "A",
          "A",
          "A",
          "A",
          "A",
          "A",
          "A",
          "A",
          "A",
          "A",
          "A",
          "A",
          "A",
          "A",
          "A",
          "A",
          "A",
          "A",
          "A",
          "A",
          "A",
          "A",
          "A",
          "A",
          "A",
          "A",
          "A",
          "A",
          "A",
          "A",
          "A",
          "A",
          "A",
          "A",
          "A",
          "A",
          "A",
          "A",
          "A",
          "A",
          "A",
          "A",
          "A",
          "A",
          "A",
          "A",
          "A",
          "A",
          "A",
          "A",
          "A",
          "A",
          "A",
          "A",
          "A",
          "A",
          "A",
          "A",
          "A",
          "A",
          "A",
          "A",
          "A",
          "A",
          "A",
          "A",
          "A",
          "A",
          "A",
          "A",
          "A",
          "A",
          "A",
          "A",
          "A",
          "A",
          "A",
          "A",
          "A",
          "A",
          "A",
          "A",
          "A",
          "A",
          "A",
          "A",
          "A",
          "A",
          "A",
          "A",
          "A",
          "A",
          "A",
          "A",
          "A",
          "A",
          "A",
          "A",
          "A",
          "A",
          "A",
          "A",
          "A",
          "A",
          "A",
          "A",
          "A",
          "A",
          "A",
          "A",
          "A",
          "A",
          "A",
          "A",
          "A",
          "A",
          "A",
          "A",
          "A",
          "A",
          "A",
          "A",
          "A",
          "A",
          "A",
          "A",
          "A",
          "A",
          "A",
          "A",
          "A",
          "A",
          "A",
          "A",
          "A",
          "A",
          "A",
          "A",
          "A",
          "A",
          "A",
          "A",
          "A",
          "A",
          "A",
          "A",
          "A",
          "A",
          "A",
          "A",
          "A",
          "A",
          "A",
          "A",
          "A",
          "A",
          "A",
          "A",
          "A",
          "A",
          "A",
          "A",
          "A",
          "A",
          "A",
          "A",
          "A",
          "A",
          "A",
          "A",
          "A",
          "A",
          "A",
          "A",
          "A",
          "A",
          "A",
          "A",
          "A",
          "A",
          "A",
          "A",
          "A",
          "A",
          "A",
          "A",
          "A",
          "A",
          "A",
          "A",
          "A",
          "A",
          "A",
          "A",
          "A",
          "A",
          "A",
          "A",
          "A",
          "A",
          "A",
          "A",
          "A",
          "A",
          "A",
          "A",
          "A",
          "A",
          "A",
          "A",
          "A",
          "A",
          "A",
          "A",
          "A",
          "A",
          "A",
          "A",
          "A",
          "A",
          "A",
          "A",
          "A",
          "A",
          "A",
          "A",
          "A",
          "A",
          "A",
          "A",
          "A",
          "A",
          "A",
          "A",
          "A",
          "A",
          "A",
          "A",
          "A",
          "A",
          "A",
          "A",
          "A",
          "A",
          "A",
          "A",
          "A",
          "A",
          "A",
          "A",
          "A",
          "A",
          "A",
          "A",
          "A",
          "A",
          "A",
          "A",
          "A",
          "A",
          "A",
          "A",
          "A",
          "A",
          "A",
          "A",
          "A",
          "A",
          "A",
          "A",
          "A",
          "A",
          "A",
          "A",
          "A",
          "A",
          "A",
          "A",
          "A",
          "A",
          "A",
          "A",
          "A",
          "A",
          "A",
          "A",
          "A",
          "A",
          "A",
          "A",
          "A",
          "A",
          "A",
          "A",
          "A",
          "A",
          "A",
          "A",
          "A",
          "A",
          "A",
          "A",
          "A",
          "A",
          "A",
          "A",
          "A",
          "A",
          "A",
          "A",
          "A",
          "A",
          "A",
          "A",
          "A",
          "A",
          "A",
          "A",
          "A",
          "A",
          "A",
          "A",
          "A",
          "A",
          "A",
          "A",
          "A",
          "A",
          "A",
          "A",
          "A",
          "A",
          "A",
          "A",
          "A",
          "A",
          "A",
          "A",
          "A",
          "A",
          "A",
          "A",
          "A",
          "A",
          "A",
          "A",
          "A",
          "A",
          "A",
          "A",
          "A",
          "A",
          "A",
          "A",
          "A",
          "A",
          "A",
          "A",
          "A",
          "A",
          "A",
          "A",
          "A",
          "A",
          "A",
          "A",
          "A",
          "A",
          "A",
          "A",
          "A",
          "A",
          "A",
          "A",
          "A",
          "A",
          "A",
          "A",
          "A",
          "A",
          "A",
          "A",
          "A",
          "A",
          "A",
          "A",
          "A",
          "A",
          "A",
          "A",
          "A",
          "A",
          "A",
          "A",
          "A",
          "A",
          "A",
          "A",
          "A",
          "A",
          "A",
          "A",
          "A",
          "A",
          "A",
          "A",
          "A",
          "A",
          "A",
          "A",
          "A",
          "A",
          "A",
          "A",
          "A",
          "A",
          "A",
          "A",
          "A",
          "A",
          "A",
          "A",
          "A",
          "A",
          "A",
          "A",
          "A",
          "A",
          "A",
          "A",
          "A",
          "A",
          "A",
          "A",
          "A",
          "A",
          "A",
          "A",
          "A",
          "A",
          "A",
          "A",
          "A",
          "A",
          "A",
          "A",
          "A",
          "A",
          "A",
          "A",
          "A",
          "A",
          "A",
          "A",
          "A",
          "A",
          "A",
          "A",
          "A",
          "A",
          "A",
          "A",
          "A",
          "A",
          "A",
          "A",
          "A",
          "A",
          "A",
          "A",
          "A",
          "A",
          "A",
          "A",
          "A",
          "A",
          "A",
          "A",
          "A",
          "A",
          "A",
          "A",
          "A",
          "A",
          "A",
          "A",
          "A",
          "A",
          "A",
          "A",
          "A",
          "A",
          "A",
          "A",
          "A",
          "A",
          "A",
          "A",
          "A",
          "A",
          "A",
          "A",
          "A",
          "A",
          "A",
          "A",
          "A",
          "A",
          "A",
          "A",
          "A",
          "A",
          "A",
          "A",
          "A",
          "A",
          "A",
          "A",
          "A",
          "A",
          "A",
          "A",
          "A",
          "A",
          "A",
          "A",
          "A",
          "A",
          "A",
          "A",
          "A",
          "A",
          "A",
          "A",
          "A",
          "A",
          "A",
          "A",
          "A",
          "A",
          "A",
          "A",
          "A",
          "A",
          "A",
          "A",
          "A",
          "A",
          "A",
          "A",
          "A",
          "A",
          "A",
          "A",
          "A",
          "A",
          "A",
          "A",
          "A",
          "A",
          "A",
          "A",
          "A",
          "A",
          "A",
          "A",
          "A",
          "A",
          "A",
          "A",
          "A",
          "A",
          "A",
          "A",
          "A",
          "A",
          "A",
          "A",
          "A",
          "A",
          "A",
          "A",
          "A",
          "A",
          "A",
          "A",
          "A",
          "A",
          "A",
          "A",
          "A",
          "A",
          "A",
          "A",
          "A",
          "A",
          "A",
          "A",
          "A",
          "A",
          "A",
          "A",
          "A",
          "A",
          "A",
          "A",
          "A",
          "A",
          "A",
          "A",
          "A",
          "A",
          "A",
          "A",
          "A",
          "A",
          "A",
          "A",
          "A",
          "A",
          "A",
          "A",
          "A",
          "A",
          "A",
          "A",
          "A",
          "A",
          "A",
          "A",
          "A",
          "A",
          "A",
          "A",
          "A",
          "A",
          "A",
          "A",
          "A",
          "A",
          "A",
          "A",
          "A",
          "A",
          "A",
          "A",
          "A",
          "A",
          "A",
          "A",
          "A",
          "A",
          "A",
          "A",
          "A",
          "A",
          "A",
          "A",
          "A",
          "A",
          "A",
          "A",
          "A",
          "A",
          "A",
          "A",
          "A",
          "A",
          "A",
          "A",
          "A",
          "A",
          "A",
          "A",
          "A",
          "A",
          "A",
          "A",
          "A",
          "A",
          "A",
          "A",
          "A",
          "A",
          "A",
          "A",
          "A",
          "A",
          "A",
          "A",
          "A",
          "A",
          "A",
          "A",
          "A",
          "A",
          "A",
          "A",
          "A",
          "A",
          "A",
          "A",
          "A",
          "A",
          "A",
          "A",
          "A",
          "A",
          "A",
          "A",
          "A",
          "A",
          "A",
          "A",
          "A",
          "A",
          "A",
          "A",
          "A",
          "A",
          "A",
          "A",
          "A",
          "A",
          "A",
          "A",
          "A",
          "A",
          "A",
          "A",
          "A",
          "A",
          "A",
          "A",
          "A",
          "A",
          "A",
          "A",
          "A",
          "A",
          "A",
          "A",
          "A",
          "A",
          "A",
          "A",
          "A",
          "A",
          "A",
          "A",
          "A",
          "A",
          "A",
          "A",
          "A",
          "A",
          "A",
          "A",
          "A",
          "A",
          "A",
          "A",
          "A",
          "A",
          "A",
          "A",
          "A",
          "A",
          "A",
          "A",
          "A",
          "A",
          "A",
          "A",
          "A",
          "A",
          "A",
          "A",
          "A",
          "A",
          "A",
          "A",
          "A",
          "A",
          "A",
          "A",
          "A",
          "A",
          "A",
          "A",
          "A",
          "A",
          "A",
          "A",
          "A",
          "A",
          "A",
          "A",
          "A",
          "A",
          "A",
          "A",
          "A",
          "A",
          "A",
          "A",
          "A",
          "A",
          "A",
          "A",
          "A",
          "A",
          "A",
          "A",
          "A",
          "A",
          "A",
          "A",
          "A",
          "A",
          "A",
          "A",
          "A",
          "A",
          "A",
          "A",
          "A",
          "A",
          "A",
          "A",
          "A",
          "A",
          "A",
          "A",
          "A",
          "A",
          "A",
          "A",
          "A",
          "A",
          "A",
          "A",
          "A",
          "A",
          "A",
          "A",
          "A",
          "A",
          "A",
          "A",
          "A",
          "A",
          "A",
          "A",
          "A",
          "A",
          "A",
          "A",
          "A",
          "A",
          "A",
          "A",
          "A",
          "A",
          "A",
          "A",
          "A",
          "A",
          "A",
          "A",
          "A",
          "A",
          "A",
          "A",
          "A",
          "A",
          "A",
          "A",
          "A",
          "A",
          "A",
          "A",
          "A",
          "A",
          "A",
          "A",
          "A",
          "A",
          "A",
          "A",
          "A",
          "A",
          "A",
          "A",
          "A",
          "A",
          "A",
          "A",
          "A",
          "A",
          "A",
          "A",
          "A",
          "A",
          "A",
          "A",
          "A",
          "A",
          "A",
          "A",
          "A",
          "A",
          "A",
          "A",
          "A",
          "A",
          "A",
          "A",
          "A",
          "A",
          "A",
          "A",
          "A",
          "A",
          "A",
          "A",
          "A",
          "A",
          "A",
          "A",
          "A",
          "A",
          "A",
          "A",
          "A",
          "A",
          "A",
          "A",
          "A",
          "A",
          "A",
          "A",
          "A",
          "A",
          "A",
          "A",
          "A",
          "A",
          "A",
          "A",
          "A",
          "A",
          "A",
          "A",
          "A",
          "A",
          "A",
          "A",
          "A",
          "A",
          "A",
          "A",
          "A",
          "A",
          "A",
          "A",
          "A",
          "A",
          "A",
          "A",
          "A",
          "A",
          "A",
          "A",
          "A",
          "A",
          "A",
          "A",
          "A",
          "A",
          "A",
          "A",
          "A",
          "A",
          "A",
          "A",
          "A",
          "A",
          "A",
          "A",
          "A",
          "A",
          "A",
          "A",
          "A",
          "A",
          "A",
          "A",
          "A",
          "A",
          "A",
          "A",
          "A",
          "A",
          "A",
          "A",
          "A",
          "A",
          "A",
          "A",
          "A",
          "A",
          "A",
          "A",
          "A",
          "A",
          "A",
          "A",
          "A",
          "A",
          "A",
          "A",
          "A",
          "A",
          "A",
          "A",
          "A",
          "A",
          "A",
          "A",
          "A",
          "A",
          "A",
          "A",
          "A",
          "A",
          "A",
          "A",
          "A",
          "A",
          "A",
          "A",
          "A",
          "A",
          "A",
          "A",
          "A",
          "A",
          "A",
          "A",
          "A",
          "A",
          "A",
          "A",
          "A",
          "A",
          "A",
          "A",
          "A",
          "A",
          "A",
          "A",
          "A",
          "A",
          "A",
          "A",
          "A",
          "A",
          "A",
          "A",
          "A",
          "A",
          "A",
          "A",
          "A",
          "A",
          "A",
          "A",
          "A",
          "A",
          "A",
          "A",
          "A",
          "A",
          "A",
          "A",
          "A",
          "A",
          "A",
          "A",
          "A",
          "A",
          "A",
          "A",
          "A",
          "A",
          "A",
          "A",
          "A",
          "A",
          "A",
          "A",
          "A",
          "A",
          "A",
          "A",
          "A",
          "A",
          "A",
          "A",
          "A",
          "A",
          "A",
          "A",
          "A",
          "A",
          "A",
          "A",
          "A",
          "A",
          "A",
          "A",
          "A",
          "A",
          "A",
          "A",
          "A",
          "A",
          "A",
          "A",
          "A",
          "A",
          "A",
          "A",
          "A",
          "A",
          "A",
          "A",
          "A",
          "A",
          "A",
          "A",
          "A",
          "A",
          "A",
          "A",
          "A",
          "A",
          "A",
          "A",
          "A",
          "A",
          "A",
          "A",
          "A",
          "A",
          "A",
          "A",
          "A",
          "A",
          "A",
          "A",
          "A",
          "A",
          "A",
          "A",
          "A",
          "A",
          "A",
          "A",
          "A",
          "A",
          "A",
          "A",
          "A",
          "A",
          "A",
          "A",
          "A",
          "A",
          "A",
          "A",
          "A",
          "A",
          "A",
          "A",
          "A",
          "A",
          "A",
          "A",
          "A",
          "A",
          "A",
          "A",
          "A",
          "A",
          "A",
          "A",
          "A",
          "A",
          "A",
          "A",
          "A",
          "A",
          "A",
          "A",
          "A",
          "A",
          "A",
          "A",
          "A",
          "A",
          "A",
          "A",
          "A",
          "A",
          "A",
          "A",
          "A",
          "A",
          "A",
          "A",
          "A",
          "A",
          "A",
          "A",
          "A",
          "A",
          "A",
          "A",
          "A",
          "A",
          "A",
          "A",
          "A",
          "A",
          "A",
          "A",
          "A",
          "A",
          "A",
          "A",
          "A",
          "A",
          "A",
          "A",
          "A",
          "A",
          "A",
          "A",
          "A",
          "A",
          "A",
          "A",
          "A",
          "A",
          "A",
          "A",
          "A",
          "A",
          "A",
          "A",
          "A",
          "A",
          "A",
          "A",
          "A",
          "A",
          "A",
          "A",
          "A",
          "A",
          "A",
          "A",
          "A",
          "A",
          "A",
          "A",
          "A",
          "A",
          "A",
          "A",
          "A",
          "A",
          "A",
          "A",
          "A",
          "A",
          "A",
          "A",
          "A",
          "A",
          "A",
          "A",
          "A",
          "A",
          "A",
          "A",
          "A",
          "A",
          "A",
          "A",
          "A",
          "A",
          "A",
          "A",
          "A",
          "A",
          "A",
          "A",
          "A",
          "A",
          "A",
          "A",
          "A",
          "A",
          "A",
          "A",
          "A",
          "A",
          "A",
          "A",
          "A",
          "A",
          "A",
          "A",
          "A",
          "A",
          "A",
          "A",
          "A",
          "A",
          "A",
          "A",
          "A",
          "A",
          "A",
          "A",
          "A",
          "A",
          "A",
          "A",
          "A",
          "A",
          "A",
          "A",
          "A",
          "A",
          "A",
          "A",
          "A",
          "A",
          "A",
          "A",
          "A",
          "A",
          "A",
          "A",
          "A",
          "A",
          "A",
          "A",
          "A",
          "A",
          "A",
          "A",
          "A",
          "A",
          "A",
          "A",
          "A",
          "A",
          "A",
          "A",
          "A",
          "A",
          "A",
          "A",
          "A",
          "A",
          "A",
          "A",
          "A",
          "A",
          "A",
          "A",
          "A",
          "A",
          "A",
          "A",
          "A",
          "A",
          "A",
          "A",
          "A",
          "A",
          "A",
          "A",
          "A",
          "A",
          "A",
          "A",
          "A",
          "A",
          "A",
          "A",
          "A",
          "A",
          "A",
          "A",
          "A",
          "A",
          "A",
          "A",
          "A",
          "A",
          "A",
          "A",
          "A",
          "A",
          "A",
          "A",
          "A",
          "A",
          "A",
          "A",
          "A",
          "A",
          "A",
          "A",
          "A",
          "A",
          "A",
          "A",
          "A",
          "A",
          "A",
          "A",
          "A",
          "A",
          "A",
          "A",
          "A",
          "A",
          "A",
          "A",
          "A",
          "A",
          "A",
          "A",
          "A",
          "A",
          "A",
          "A",
          "A",
          "A",
          "A",
          "A",
          "A",
          "A",
          "A",
          "A",
          "A",
          "A",
          "A",
          "A",
          "A",
          "A",
          "A",
          "A",
          "A",
          "A",
          "A",
          "A",
          "A",
          "A",
          "A",
          "A",
          "A",
          "A",
          "A",
          "A",
          "A",
          "A",
          "A",
          "A",
          "A",
          "A",
          "A",
          "A",
          "A",
          "A",
          "A",
          "A",
          "A",
          "A",
          "A",
          "A",
          "A",
          "A",
          "A",
          "A",
          "A",
          "A",
          "A",
          "A",
          "A",
          "A",
          "A",
          "A",
          "A",
          "A",
          "A",
          "A",
          "A",
          "A",
          "A",
          "A",
          "A",
          "A",
          "A",
          "A",
          "A",
          "A",
          "A",
          "A",
          "A",
          "A",
          "A",
          "A",
          "A",
          "A",
          "A",
          "A",
          "A",
          "A",
          "A",
          "A",
          "A",
          "A",
          "A",
          "A",
          "A",
          "A",
          "A",
          "A",
          "A",
          "A",
          "A",
          "A",
          "A",
          "A",
          "A",
          "A",
          "A",
          "A",
          "A",
          "A",
          "A",
          "A",
          "A",
          "A",
          "A",
          "A",
          "A",
          "A",
          "A",
          "A",
          "A",
          "A",
          "A",
          "A",
          "A",
          "A",
          "A",
          "A",
          "A",
          "A",
          "A",
          "A",
          "A",
          "A",
          "A",
          "A",
          "A",
          "A",
          "A",
          "A",
          "A",
          "A",
          "A",
          "A",
          "A",
          "A",
          "A",
          "A",
          "A",
          "A",
          "A",
          "A",
          "A",
          "A",
          "A",
          "A",
          "A",
          "A",
          "A",
          "A",
          "A",
          "A",
          "A",
          "A",
          "A",
          "A",
          "A",
          "A",
          "A",
          "A",
          "A",
          "A",
          "A",
          "A",
          "A",
          "A",
          "A",
          "A",
          "A",
          "A"
         ],
         "y0": " ",
         "yaxis": "y"
        },
        {
         "alignmentgroup": "True",
         "box": {
          "visible": false
         },
         "hovertemplate": "Test group=%{y}<br>Events per user, #=%{x}<extra></extra>",
         "legendgroup": "B",
         "marker": {
          "color": "#EF553B"
         },
         "name": "B",
         "offsetgroup": "B",
         "orientation": "h",
         "scalegroup": "True",
         "showlegend": false,
         "type": "violin",
         "x": [
          4,
          6,
          2,
          12,
          8,
          3,
          2,
          5,
          6,
          8,
          3,
          2,
          3,
          6,
          2,
          3,
          3,
          3,
          8,
          6,
          9,
          9,
          2,
          4,
          7,
          4,
          1,
          2,
          12,
          9,
          2,
          4,
          3,
          6,
          3,
          6,
          21,
          24,
          2,
          2,
          10,
          4,
          6,
          9,
          3,
          8,
          3,
          6,
          6,
          3,
          9,
          9,
          6,
          6,
          2,
          8,
          4,
          1,
          4,
          9,
          3,
          4,
          4,
          6,
          2,
          2,
          9,
          3,
          8,
          3,
          9,
          9,
          4,
          4,
          4,
          6,
          4,
          6,
          4,
          8,
          4,
          4,
          4,
          6,
          3,
          9,
          2,
          2,
          6,
          4,
          4,
          9,
          2,
          6,
          12,
          4,
          4,
          4,
          8,
          3,
          15,
          3,
          6,
          4,
          12,
          12,
          10,
          20,
          3,
          4,
          4,
          1,
          4,
          6,
          4,
          5,
          8,
          4,
          3,
          9,
          4,
          2,
          4,
          8,
          6,
          3,
          6,
          4,
          3,
          2,
          2,
          6,
          9,
          4,
          6,
          10,
          10,
          9,
          3,
          4,
          6,
          4,
          6,
          3,
          3,
          3,
          4,
          6,
          6,
          8,
          3,
          3,
          4,
          2,
          12,
          1,
          12,
          2,
          6,
          4,
          2,
          3,
          9,
          8,
          2,
          4,
          4,
          4,
          6,
          2,
          4,
          12,
          5,
          2,
          4,
          4,
          6,
          2,
          8,
          2,
          9,
          4,
          3,
          4,
          4,
          6,
          4,
          4,
          15,
          4,
          3,
          8,
          6,
          4,
          6,
          4,
          8,
          3,
          4,
          12,
          2,
          5,
          16,
          2,
          4,
          6,
          4,
          8,
          4,
          4,
          3,
          8,
          2,
          8,
          4,
          3,
          4,
          6,
          1,
          8,
          9,
          12,
          8,
          3,
          12,
          9,
          1,
          2,
          8,
          4,
          9,
          6,
          6,
          6,
          5,
          3,
          6,
          3,
          12,
          8,
          6,
          6,
          6,
          4,
          6,
          3,
          4,
          3,
          3,
          1,
          6,
          9,
          2,
          6,
          2,
          8,
          12,
          10,
          3,
          9,
          8,
          4,
          2,
          2,
          2,
          3,
          6,
          8,
          6,
          2,
          2,
          1,
          2,
          6,
          4,
          2,
          3,
          6,
          6,
          6,
          9,
          3,
          4,
          12,
          12,
          9,
          6,
          9,
          8,
          6,
          12,
          12,
          6,
          1,
          6,
          6,
          3,
          2,
          12,
          10,
          6,
          9,
          5,
          10,
          12,
          3,
          4,
          6,
          4,
          2,
          2,
          1,
          8,
          4,
          12,
          6,
          6,
          3,
          12,
          6,
          20,
          9,
          4,
          4,
          4,
          10,
          4,
          4,
          11,
          2,
          6,
          3,
          12,
          2,
          4,
          2,
          6,
          8,
          3,
          6,
          3,
          2,
          6,
          6,
          6,
          9,
          1,
          6,
          6,
          2,
          8,
          9,
          3,
          21,
          10,
          3,
          8,
          2,
          9,
          4,
          9,
          2,
          4,
          4,
          4,
          3,
          3,
          3,
          2,
          4,
          12,
          2,
          3,
          6,
          4,
          2,
          1,
          8,
          6,
          6,
          6,
          6,
          2,
          4,
          3,
          2,
          2,
          4,
          4,
          9,
          4,
          3,
          4,
          8,
          3,
          4,
          8,
          1,
          3,
          8,
          4,
          4,
          10,
          2,
          4,
          6,
          6,
          2,
          6,
          3,
          2,
          4,
          6,
          6,
          12,
          4,
          3,
          12,
          2,
          7,
          6,
          5,
          4,
          8,
          9,
          3,
          4,
          8,
          3,
          6,
          6,
          6,
          3,
          6,
          4,
          4,
          6,
          2,
          2,
          4,
          16,
          2,
          8,
          4,
          4,
          2,
          6,
          2,
          6,
          6,
          3,
          3,
          8,
          2,
          4,
          3,
          3,
          6,
          4,
          2,
          6,
          5,
          4,
          4,
          12,
          6,
          4,
          9,
          3,
          3,
          8,
          12,
          2,
          8,
          9,
          6,
          2,
          3,
          2,
          8,
          3,
          2,
          2,
          3,
          4,
          4,
          4,
          6,
          6,
          3,
          4,
          9,
          3,
          9,
          3,
          2,
          6,
          4,
          9,
          7,
          9,
          12,
          4,
          4,
          4,
          6,
          4,
          3,
          2,
          6,
          3,
          9,
          3,
          4,
          3,
          13,
          5,
          5,
          4,
          9,
          6,
          6,
          4,
          4,
          10,
          8,
          2,
          8,
          3,
          6,
          4,
          4,
          3,
          2,
          6,
          6,
          4,
          3,
          8,
          10,
          8,
          1,
          2,
          6,
          14,
          3,
          4,
          3,
          3,
          2,
          3,
          9,
          4,
          6,
          9,
          4,
          4,
          9,
          8,
          6,
          6,
          6,
          10,
          12,
          1,
          9,
          2,
          6,
          12,
          3,
          12,
          6,
          5,
          6,
          2,
          4,
          2,
          4,
          6,
          4,
          2,
          6,
          4,
          6,
          2,
          8,
          3,
          6,
          6,
          2,
          9,
          3,
          10,
          6,
          1,
          1,
          6,
          3,
          6,
          3,
          8,
          5,
          8,
          6,
          8,
          3,
          6,
          9,
          4,
          3,
          4,
          6,
          2,
          4,
          4,
          12,
          3,
          1,
          3,
          6,
          3,
          7,
          5,
          6,
          2,
          2,
          9,
          2,
          12,
          2,
          4,
          2,
          4,
          4,
          5,
          4,
          6,
          4,
          2,
          6,
          6,
          6,
          12,
          6,
          8,
          6,
          3,
          4,
          4,
          4,
          6,
          6,
          2,
          16,
          4
         ],
         "x0": " ",
         "xaxis": "x",
         "y": [
          "B",
          "B",
          "B",
          "B",
          "B",
          "B",
          "B",
          "B",
          "B",
          "B",
          "B",
          "B",
          "B",
          "B",
          "B",
          "B",
          "B",
          "B",
          "B",
          "B",
          "B",
          "B",
          "B",
          "B",
          "B",
          "B",
          "B",
          "B",
          "B",
          "B",
          "B",
          "B",
          "B",
          "B",
          "B",
          "B",
          "B",
          "B",
          "B",
          "B",
          "B",
          "B",
          "B",
          "B",
          "B",
          "B",
          "B",
          "B",
          "B",
          "B",
          "B",
          "B",
          "B",
          "B",
          "B",
          "B",
          "B",
          "B",
          "B",
          "B",
          "B",
          "B",
          "B",
          "B",
          "B",
          "B",
          "B",
          "B",
          "B",
          "B",
          "B",
          "B",
          "B",
          "B",
          "B",
          "B",
          "B",
          "B",
          "B",
          "B",
          "B",
          "B",
          "B",
          "B",
          "B",
          "B",
          "B",
          "B",
          "B",
          "B",
          "B",
          "B",
          "B",
          "B",
          "B",
          "B",
          "B",
          "B",
          "B",
          "B",
          "B",
          "B",
          "B",
          "B",
          "B",
          "B",
          "B",
          "B",
          "B",
          "B",
          "B",
          "B",
          "B",
          "B",
          "B",
          "B",
          "B",
          "B",
          "B",
          "B",
          "B",
          "B",
          "B",
          "B",
          "B",
          "B",
          "B",
          "B",
          "B",
          "B",
          "B",
          "B",
          "B",
          "B",
          "B",
          "B",
          "B",
          "B",
          "B",
          "B",
          "B",
          "B",
          "B",
          "B",
          "B",
          "B",
          "B",
          "B",
          "B",
          "B",
          "B",
          "B",
          "B",
          "B",
          "B",
          "B",
          "B",
          "B",
          "B",
          "B",
          "B",
          "B",
          "B",
          "B",
          "B",
          "B",
          "B",
          "B",
          "B",
          "B",
          "B",
          "B",
          "B",
          "B",
          "B",
          "B",
          "B",
          "B",
          "B",
          "B",
          "B",
          "B",
          "B",
          "B",
          "B",
          "B",
          "B",
          "B",
          "B",
          "B",
          "B",
          "B",
          "B",
          "B",
          "B",
          "B",
          "B",
          "B",
          "B",
          "B",
          "B",
          "B",
          "B",
          "B",
          "B",
          "B",
          "B",
          "B",
          "B",
          "B",
          "B",
          "B",
          "B",
          "B",
          "B",
          "B",
          "B",
          "B",
          "B",
          "B",
          "B",
          "B",
          "B",
          "B",
          "B",
          "B",
          "B",
          "B",
          "B",
          "B",
          "B",
          "B",
          "B",
          "B",
          "B",
          "B",
          "B",
          "B",
          "B",
          "B",
          "B",
          "B",
          "B",
          "B",
          "B",
          "B",
          "B",
          "B",
          "B",
          "B",
          "B",
          "B",
          "B",
          "B",
          "B",
          "B",
          "B",
          "B",
          "B",
          "B",
          "B",
          "B",
          "B",
          "B",
          "B",
          "B",
          "B",
          "B",
          "B",
          "B",
          "B",
          "B",
          "B",
          "B",
          "B",
          "B",
          "B",
          "B",
          "B",
          "B",
          "B",
          "B",
          "B",
          "B",
          "B",
          "B",
          "B",
          "B",
          "B",
          "B",
          "B",
          "B",
          "B",
          "B",
          "B",
          "B",
          "B",
          "B",
          "B",
          "B",
          "B",
          "B",
          "B",
          "B",
          "B",
          "B",
          "B",
          "B",
          "B",
          "B",
          "B",
          "B",
          "B",
          "B",
          "B",
          "B",
          "B",
          "B",
          "B",
          "B",
          "B",
          "B",
          "B",
          "B",
          "B",
          "B",
          "B",
          "B",
          "B",
          "B",
          "B",
          "B",
          "B",
          "B",
          "B",
          "B",
          "B",
          "B",
          "B",
          "B",
          "B",
          "B",
          "B",
          "B",
          "B",
          "B",
          "B",
          "B",
          "B",
          "B",
          "B",
          "B",
          "B",
          "B",
          "B",
          "B",
          "B",
          "B",
          "B",
          "B",
          "B",
          "B",
          "B",
          "B",
          "B",
          "B",
          "B",
          "B",
          "B",
          "B",
          "B",
          "B",
          "B",
          "B",
          "B",
          "B",
          "B",
          "B",
          "B",
          "B",
          "B",
          "B",
          "B",
          "B",
          "B",
          "B",
          "B",
          "B",
          "B",
          "B",
          "B",
          "B",
          "B",
          "B",
          "B",
          "B",
          "B",
          "B",
          "B",
          "B",
          "B",
          "B",
          "B",
          "B",
          "B",
          "B",
          "B",
          "B",
          "B",
          "B",
          "B",
          "B",
          "B",
          "B",
          "B",
          "B",
          "B",
          "B",
          "B",
          "B",
          "B",
          "B",
          "B",
          "B",
          "B",
          "B",
          "B",
          "B",
          "B",
          "B",
          "B",
          "B",
          "B",
          "B",
          "B",
          "B",
          "B",
          "B",
          "B",
          "B",
          "B",
          "B",
          "B",
          "B",
          "B",
          "B",
          "B",
          "B",
          "B",
          "B",
          "B",
          "B",
          "B",
          "B",
          "B",
          "B",
          "B",
          "B",
          "B",
          "B",
          "B",
          "B",
          "B",
          "B",
          "B",
          "B",
          "B",
          "B",
          "B",
          "B",
          "B",
          "B",
          "B",
          "B",
          "B",
          "B",
          "B",
          "B",
          "B",
          "B",
          "B",
          "B",
          "B",
          "B",
          "B",
          "B",
          "B",
          "B",
          "B",
          "B",
          "B",
          "B",
          "B",
          "B",
          "B",
          "B",
          "B",
          "B",
          "B",
          "B",
          "B",
          "B",
          "B",
          "B",
          "B",
          "B",
          "B",
          "B",
          "B",
          "B",
          "B",
          "B",
          "B",
          "B",
          "B",
          "B",
          "B",
          "B",
          "B",
          "B",
          "B",
          "B",
          "B",
          "B",
          "B",
          "B",
          "B",
          "B",
          "B",
          "B",
          "B",
          "B",
          "B",
          "B",
          "B",
          "B",
          "B",
          "B",
          "B",
          "B",
          "B",
          "B",
          "B",
          "B",
          "B",
          "B",
          "B",
          "B",
          "B",
          "B",
          "B",
          "B",
          "B",
          "B",
          "B",
          "B",
          "B",
          "B",
          "B",
          "B",
          "B",
          "B",
          "B",
          "B",
          "B",
          "B",
          "B",
          "B",
          "B",
          "B",
          "B",
          "B",
          "B",
          "B",
          "B",
          "B",
          "B",
          "B",
          "B",
          "B",
          "B",
          "B",
          "B",
          "B",
          "B",
          "B",
          "B",
          "B",
          "B",
          "B",
          "B",
          "B",
          "B",
          "B",
          "B",
          "B",
          "B",
          "B",
          "B",
          "B",
          "B",
          "B",
          "B",
          "B",
          "B",
          "B",
          "B",
          "B",
          "B",
          "B",
          "B",
          "B",
          "B",
          "B",
          "B",
          "B",
          "B",
          "B",
          "B",
          "B",
          "B",
          "B",
          "B",
          "B",
          "B",
          "B",
          "B",
          "B",
          "B",
          "B",
          "B",
          "B",
          "B",
          "B",
          "B",
          "B",
          "B",
          "B",
          "B",
          "B",
          "B",
          "B",
          "B",
          "B",
          "B",
          "B",
          "B",
          "B",
          "B",
          "B",
          "B",
          "B",
          "B",
          "B",
          "B"
         ],
         "y0": " ",
         "yaxis": "y"
        }
       ],
       "layout": {
        "height": 500,
        "legend": {
         "title": {
          "text": "Test group"
         },
         "tracegroupgap": 0
        },
        "template": {
         "data": {
          "bar": [
           {
            "error_x": {
             "color": "#2a3f5f"
            },
            "error_y": {
             "color": "#2a3f5f"
            },
            "marker": {
             "line": {
              "color": "white",
              "width": 0.5
             },
             "pattern": {
              "fillmode": "overlay",
              "size": 10,
              "solidity": 0.2
             }
            },
            "type": "bar"
           }
          ],
          "barpolar": [
           {
            "marker": {
             "line": {
              "color": "white",
              "width": 0.5
             },
             "pattern": {
              "fillmode": "overlay",
              "size": 10,
              "solidity": 0.2
             }
            },
            "type": "barpolar"
           }
          ],
          "carpet": [
           {
            "aaxis": {
             "endlinecolor": "#2a3f5f",
             "gridcolor": "#C8D4E3",
             "linecolor": "#C8D4E3",
             "minorgridcolor": "#C8D4E3",
             "startlinecolor": "#2a3f5f"
            },
            "baxis": {
             "endlinecolor": "#2a3f5f",
             "gridcolor": "#C8D4E3",
             "linecolor": "#C8D4E3",
             "minorgridcolor": "#C8D4E3",
             "startlinecolor": "#2a3f5f"
            },
            "type": "carpet"
           }
          ],
          "choropleth": [
           {
            "colorbar": {
             "outlinewidth": 0,
             "ticks": ""
            },
            "type": "choropleth"
           }
          ],
          "contour": [
           {
            "colorbar": {
             "outlinewidth": 0,
             "ticks": ""
            },
            "colorscale": [
             [
              0,
              "#0d0887"
             ],
             [
              0.1111111111111111,
              "#46039f"
             ],
             [
              0.2222222222222222,
              "#7201a8"
             ],
             [
              0.3333333333333333,
              "#9c179e"
             ],
             [
              0.4444444444444444,
              "#bd3786"
             ],
             [
              0.5555555555555556,
              "#d8576b"
             ],
             [
              0.6666666666666666,
              "#ed7953"
             ],
             [
              0.7777777777777778,
              "#fb9f3a"
             ],
             [
              0.8888888888888888,
              "#fdca26"
             ],
             [
              1,
              "#f0f921"
             ]
            ],
            "type": "contour"
           }
          ],
          "contourcarpet": [
           {
            "colorbar": {
             "outlinewidth": 0,
             "ticks": ""
            },
            "type": "contourcarpet"
           }
          ],
          "heatmap": [
           {
            "colorbar": {
             "outlinewidth": 0,
             "ticks": ""
            },
            "colorscale": [
             [
              0,
              "#0d0887"
             ],
             [
              0.1111111111111111,
              "#46039f"
             ],
             [
              0.2222222222222222,
              "#7201a8"
             ],
             [
              0.3333333333333333,
              "#9c179e"
             ],
             [
              0.4444444444444444,
              "#bd3786"
             ],
             [
              0.5555555555555556,
              "#d8576b"
             ],
             [
              0.6666666666666666,
              "#ed7953"
             ],
             [
              0.7777777777777778,
              "#fb9f3a"
             ],
             [
              0.8888888888888888,
              "#fdca26"
             ],
             [
              1,
              "#f0f921"
             ]
            ],
            "type": "heatmap"
           }
          ],
          "heatmapgl": [
           {
            "colorbar": {
             "outlinewidth": 0,
             "ticks": ""
            },
            "colorscale": [
             [
              0,
              "#0d0887"
             ],
             [
              0.1111111111111111,
              "#46039f"
             ],
             [
              0.2222222222222222,
              "#7201a8"
             ],
             [
              0.3333333333333333,
              "#9c179e"
             ],
             [
              0.4444444444444444,
              "#bd3786"
             ],
             [
              0.5555555555555556,
              "#d8576b"
             ],
             [
              0.6666666666666666,
              "#ed7953"
             ],
             [
              0.7777777777777778,
              "#fb9f3a"
             ],
             [
              0.8888888888888888,
              "#fdca26"
             ],
             [
              1,
              "#f0f921"
             ]
            ],
            "type": "heatmapgl"
           }
          ],
          "histogram": [
           {
            "marker": {
             "pattern": {
              "fillmode": "overlay",
              "size": 10,
              "solidity": 0.2
             }
            },
            "type": "histogram"
           }
          ],
          "histogram2d": [
           {
            "colorbar": {
             "outlinewidth": 0,
             "ticks": ""
            },
            "colorscale": [
             [
              0,
              "#0d0887"
             ],
             [
              0.1111111111111111,
              "#46039f"
             ],
             [
              0.2222222222222222,
              "#7201a8"
             ],
             [
              0.3333333333333333,
              "#9c179e"
             ],
             [
              0.4444444444444444,
              "#bd3786"
             ],
             [
              0.5555555555555556,
              "#d8576b"
             ],
             [
              0.6666666666666666,
              "#ed7953"
             ],
             [
              0.7777777777777778,
              "#fb9f3a"
             ],
             [
              0.8888888888888888,
              "#fdca26"
             ],
             [
              1,
              "#f0f921"
             ]
            ],
            "type": "histogram2d"
           }
          ],
          "histogram2dcontour": [
           {
            "colorbar": {
             "outlinewidth": 0,
             "ticks": ""
            },
            "colorscale": [
             [
              0,
              "#0d0887"
             ],
             [
              0.1111111111111111,
              "#46039f"
             ],
             [
              0.2222222222222222,
              "#7201a8"
             ],
             [
              0.3333333333333333,
              "#9c179e"
             ],
             [
              0.4444444444444444,
              "#bd3786"
             ],
             [
              0.5555555555555556,
              "#d8576b"
             ],
             [
              0.6666666666666666,
              "#ed7953"
             ],
             [
              0.7777777777777778,
              "#fb9f3a"
             ],
             [
              0.8888888888888888,
              "#fdca26"
             ],
             [
              1,
              "#f0f921"
             ]
            ],
            "type": "histogram2dcontour"
           }
          ],
          "mesh3d": [
           {
            "colorbar": {
             "outlinewidth": 0,
             "ticks": ""
            },
            "type": "mesh3d"
           }
          ],
          "parcoords": [
           {
            "line": {
             "colorbar": {
              "outlinewidth": 0,
              "ticks": ""
             }
            },
            "type": "parcoords"
           }
          ],
          "pie": [
           {
            "automargin": true,
            "type": "pie"
           }
          ],
          "scatter": [
           {
            "fillpattern": {
             "fillmode": "overlay",
             "size": 10,
             "solidity": 0.2
            },
            "type": "scatter"
           }
          ],
          "scatter3d": [
           {
            "line": {
             "colorbar": {
              "outlinewidth": 0,
              "ticks": ""
             }
            },
            "marker": {
             "colorbar": {
              "outlinewidth": 0,
              "ticks": ""
             }
            },
            "type": "scatter3d"
           }
          ],
          "scattercarpet": [
           {
            "marker": {
             "colorbar": {
              "outlinewidth": 0,
              "ticks": ""
             }
            },
            "type": "scattercarpet"
           }
          ],
          "scattergeo": [
           {
            "marker": {
             "colorbar": {
              "outlinewidth": 0,
              "ticks": ""
             }
            },
            "type": "scattergeo"
           }
          ],
          "scattergl": [
           {
            "marker": {
             "colorbar": {
              "outlinewidth": 0,
              "ticks": ""
             }
            },
            "type": "scattergl"
           }
          ],
          "scattermapbox": [
           {
            "marker": {
             "colorbar": {
              "outlinewidth": 0,
              "ticks": ""
             }
            },
            "type": "scattermapbox"
           }
          ],
          "scatterpolar": [
           {
            "marker": {
             "colorbar": {
              "outlinewidth": 0,
              "ticks": ""
             }
            },
            "type": "scatterpolar"
           }
          ],
          "scatterpolargl": [
           {
            "marker": {
             "colorbar": {
              "outlinewidth": 0,
              "ticks": ""
             }
            },
            "type": "scatterpolargl"
           }
          ],
          "scatterternary": [
           {
            "marker": {
             "colorbar": {
              "outlinewidth": 0,
              "ticks": ""
             }
            },
            "type": "scatterternary"
           }
          ],
          "surface": [
           {
            "colorbar": {
             "outlinewidth": 0,
             "ticks": ""
            },
            "colorscale": [
             [
              0,
              "#0d0887"
             ],
             [
              0.1111111111111111,
              "#46039f"
             ],
             [
              0.2222222222222222,
              "#7201a8"
             ],
             [
              0.3333333333333333,
              "#9c179e"
             ],
             [
              0.4444444444444444,
              "#bd3786"
             ],
             [
              0.5555555555555556,
              "#d8576b"
             ],
             [
              0.6666666666666666,
              "#ed7953"
             ],
             [
              0.7777777777777778,
              "#fb9f3a"
             ],
             [
              0.8888888888888888,
              "#fdca26"
             ],
             [
              1,
              "#f0f921"
             ]
            ],
            "type": "surface"
           }
          ],
          "table": [
           {
            "cells": {
             "fill": {
              "color": "#EBF0F8"
             },
             "line": {
              "color": "white"
             }
            },
            "header": {
             "fill": {
              "color": "#C8D4E3"
             },
             "line": {
              "color": "white"
             }
            },
            "type": "table"
           }
          ]
         },
         "layout": {
          "annotationdefaults": {
           "arrowcolor": "#2a3f5f",
           "arrowhead": 0,
           "arrowwidth": 1
          },
          "autotypenumbers": "strict",
          "coloraxis": {
           "colorbar": {
            "outlinewidth": 0,
            "ticks": ""
           }
          },
          "colorscale": {
           "diverging": [
            [
             0,
             "#8e0152"
            ],
            [
             0.1,
             "#c51b7d"
            ],
            [
             0.2,
             "#de77ae"
            ],
            [
             0.3,
             "#f1b6da"
            ],
            [
             0.4,
             "#fde0ef"
            ],
            [
             0.5,
             "#f7f7f7"
            ],
            [
             0.6,
             "#e6f5d0"
            ],
            [
             0.7,
             "#b8e186"
            ],
            [
             0.8,
             "#7fbc41"
            ],
            [
             0.9,
             "#4d9221"
            ],
            [
             1,
             "#276419"
            ]
           ],
           "sequential": [
            [
             0,
             "#0d0887"
            ],
            [
             0.1111111111111111,
             "#46039f"
            ],
            [
             0.2222222222222222,
             "#7201a8"
            ],
            [
             0.3333333333333333,
             "#9c179e"
            ],
            [
             0.4444444444444444,
             "#bd3786"
            ],
            [
             0.5555555555555556,
             "#d8576b"
            ],
            [
             0.6666666666666666,
             "#ed7953"
            ],
            [
             0.7777777777777778,
             "#fb9f3a"
            ],
            [
             0.8888888888888888,
             "#fdca26"
            ],
            [
             1,
             "#f0f921"
            ]
           ],
           "sequentialminus": [
            [
             0,
             "#0d0887"
            ],
            [
             0.1111111111111111,
             "#46039f"
            ],
            [
             0.2222222222222222,
             "#7201a8"
            ],
            [
             0.3333333333333333,
             "#9c179e"
            ],
            [
             0.4444444444444444,
             "#bd3786"
            ],
            [
             0.5555555555555556,
             "#d8576b"
            ],
            [
             0.6666666666666666,
             "#ed7953"
            ],
            [
             0.7777777777777778,
             "#fb9f3a"
            ],
            [
             0.8888888888888888,
             "#fdca26"
            ],
            [
             1,
             "#f0f921"
            ]
           ]
          },
          "colorway": [
           "#636efa",
           "#EF553B",
           "#00cc96",
           "#ab63fa",
           "#FFA15A",
           "#19d3f3",
           "#FF6692",
           "#B6E880",
           "#FF97FF",
           "#FECB52"
          ],
          "font": {
           "color": "#2a3f5f"
          },
          "geo": {
           "bgcolor": "white",
           "lakecolor": "white",
           "landcolor": "white",
           "showlakes": true,
           "showland": true,
           "subunitcolor": "#C8D4E3"
          },
          "hoverlabel": {
           "align": "left"
          },
          "hovermode": "closest",
          "mapbox": {
           "style": "light"
          },
          "paper_bgcolor": "white",
          "plot_bgcolor": "white",
          "polar": {
           "angularaxis": {
            "gridcolor": "#EBF0F8",
            "linecolor": "#EBF0F8",
            "ticks": ""
           },
           "bgcolor": "white",
           "radialaxis": {
            "gridcolor": "#EBF0F8",
            "linecolor": "#EBF0F8",
            "ticks": ""
           }
          },
          "scene": {
           "xaxis": {
            "backgroundcolor": "white",
            "gridcolor": "#DFE8F3",
            "gridwidth": 2,
            "linecolor": "#EBF0F8",
            "showbackground": true,
            "ticks": "",
            "zerolinecolor": "#EBF0F8"
           },
           "yaxis": {
            "backgroundcolor": "white",
            "gridcolor": "#DFE8F3",
            "gridwidth": 2,
            "linecolor": "#EBF0F8",
            "showbackground": true,
            "ticks": "",
            "zerolinecolor": "#EBF0F8"
           },
           "zaxis": {
            "backgroundcolor": "white",
            "gridcolor": "#DFE8F3",
            "gridwidth": 2,
            "linecolor": "#EBF0F8",
            "showbackground": true,
            "ticks": "",
            "zerolinecolor": "#EBF0F8"
           }
          },
          "shapedefaults": {
           "line": {
            "color": "#2a3f5f"
           }
          },
          "ternary": {
           "aaxis": {
            "gridcolor": "#DFE8F3",
            "linecolor": "#A2B1C6",
            "ticks": ""
           },
           "baxis": {
            "gridcolor": "#DFE8F3",
            "linecolor": "#A2B1C6",
            "ticks": ""
           },
           "bgcolor": "white",
           "caxis": {
            "gridcolor": "#DFE8F3",
            "linecolor": "#A2B1C6",
            "ticks": ""
           }
          },
          "title": {
           "x": 0.05
          },
          "xaxis": {
           "automargin": true,
           "gridcolor": "#EBF0F8",
           "linecolor": "#EBF0F8",
           "ticks": "",
           "title": {
            "standoff": 15
           },
           "zerolinecolor": "#EBF0F8",
           "zerolinewidth": 2
          },
          "yaxis": {
           "automargin": true,
           "gridcolor": "#EBF0F8",
           "linecolor": "#EBF0F8",
           "ticks": "",
           "title": {
            "standoff": 15
           },
           "zerolinecolor": "#EBF0F8",
           "zerolinewidth": 2
          }
         }
        },
        "title": {
         "text": "Number of events per user depending on the test group"
        },
        "violinmode": "overlay",
        "width": 800,
        "xaxis": {
         "anchor": "y",
         "domain": [
          0,
          1
         ],
         "title": {
          "text": "Events per user, #"
         }
        },
        "yaxis": {
         "anchor": "x",
         "categoryarray": [
          "B",
          "A"
         ],
         "categoryorder": "array",
         "domain": [
          0,
          1
         ],
         "title": {
          "text": "Test group"
         }
        }
       }
      }
     },
     "metadata": {},
     "output_type": "display_data"
    },
    {
     "data": {
      "text/html": [
       "<div>\n",
       "<style scoped>\n",
       "    .dataframe tbody tr th:only-of-type {\n",
       "        vertical-align: middle;\n",
       "    }\n",
       "\n",
       "    .dataframe tbody tr th {\n",
       "        vertical-align: top;\n",
       "    }\n",
       "\n",
       "    .dataframe thead th {\n",
       "        text-align: right;\n",
       "    }\n",
       "</style>\n",
       "<table border=\"1\" class=\"dataframe\">\n",
       "  <thead>\n",
       "    <tr style=\"text-align: right;\">\n",
       "      <th></th>\n",
       "      <th>count</th>\n",
       "      <th>mean</th>\n",
       "      <th>std</th>\n",
       "      <th>min</th>\n",
       "      <th>25%</th>\n",
       "      <th>50%</th>\n",
       "      <th>75%</th>\n",
       "      <th>max</th>\n",
       "    </tr>\n",
       "    <tr>\n",
       "      <th>group</th>\n",
       "      <th></th>\n",
       "      <th></th>\n",
       "      <th></th>\n",
       "      <th></th>\n",
       "      <th></th>\n",
       "      <th></th>\n",
       "      <th></th>\n",
       "      <th></th>\n",
       "    </tr>\n",
       "  </thead>\n",
       "  <tbody>\n",
       "    <tr>\n",
       "      <th>A</th>\n",
       "      <td>1939.0</td>\n",
       "      <td>6.90</td>\n",
       "      <td>3.83</td>\n",
       "      <td>1.0</td>\n",
       "      <td>4.0</td>\n",
       "      <td>6.0</td>\n",
       "      <td>9.0</td>\n",
       "      <td>24.0</td>\n",
       "    </tr>\n",
       "    <tr>\n",
       "      <th>B</th>\n",
       "      <td>655.0</td>\n",
       "      <td>5.41</td>\n",
       "      <td>3.27</td>\n",
       "      <td>1.0</td>\n",
       "      <td>3.0</td>\n",
       "      <td>4.0</td>\n",
       "      <td>6.5</td>\n",
       "      <td>24.0</td>\n",
       "    </tr>\n",
       "  </tbody>\n",
       "</table>\n",
       "</div>"
      ],
      "text/plain": [
       "        count  mean   std  min  25%  50%  75%   max\n",
       "group                                              \n",
       "A      1939.0  6.90  3.83  1.0  4.0  6.0  9.0  24.0\n",
       "B       655.0  5.41  3.27  1.0  3.0  4.0  6.5  24.0"
      ]
     },
     "metadata": {},
     "output_type": "display_data"
    }
   ],
   "source": [
    "df_temp = (\n",
    "    pd.pivot_table(\n",
    "        data=df_summary,\n",
    "        index=['user_id', 'group'],\n",
    "        values='event_name',\n",
    "        aggfunc='count'\n",
    "    )\n",
    "    .reset_index()\n",
    "    .rename_axis('index', axis=1)\n",
    "    .rename(columns={'event_name': 'event_count'})\n",
    ")\n",
    "\n",
    "fig = px.violin(\n",
    "    df_temp,\n",
    "    y='group',\n",
    "    x='event_count',\n",
    "    color='group',\n",
    "    # spanmode='hard',\n",
    "    title='Number of events per user depending on the test group',\n",
    "    labels=dict(group='Test group', event_count='Events per user, #'),\n",
    "    width=FIG_WIDTH * 100,\n",
    "    height=FIG_HEIGHT * 100,\n",
    "    template='plotly_white',\n",
    ")\n",
    "fig.update_traces(showlegend=False)\n",
    "fig.show()\n",
    "\n",
    "display(\n",
    "    round(\n",
    "        pd.pivot_table(data=df_temp, index='user_id', columns='group')\n",
    "        .reset_index()\n",
    "        .droplevel(level=0, axis=1)\n",
    "        .describe()\n",
    "        .T, 2\n",
    "    )\n",
    ")\n"
   ]
  },
  {
   "attachments": {},
   "cell_type": "markdown",
   "metadata": {},
   "source": [
    "User behavior differs: on average, users in group A performed 7 events, while users in group B performed around 6 events. The median value for group A is 6 events, while for group B it is 5 events. Whether these observations, along with the previous ones, have statistical significance will be examined in the subsequent sections."
   ]
  },
  {
   "attachments": {},
   "cell_type": "markdown",
   "metadata": {},
   "source": [
    "### Conversion funnel analysis\n",
    "\n",
    "Let's examine the sales funnels in general and for each group."
   ]
  },
  {
   "cell_type": "code",
   "execution_count": 17,
   "metadata": {},
   "outputs": [
    {
     "data": {
      "text/html": [
       "<div>\n",
       "<style scoped>\n",
       "    .dataframe tbody tr th:only-of-type {\n",
       "        vertical-align: middle;\n",
       "    }\n",
       "\n",
       "    .dataframe tbody tr th {\n",
       "        vertical-align: top;\n",
       "    }\n",
       "\n",
       "    .dataframe thead th {\n",
       "        text-align: right;\n",
       "    }\n",
       "</style>\n",
       "<table border=\"1\" class=\"dataframe\">\n",
       "  <thead>\n",
       "    <tr style=\"text-align: right;\">\n",
       "      <th>index</th>\n",
       "      <th>event_name</th>\n",
       "      <th>group_a</th>\n",
       "      <th>group_b</th>\n",
       "      <th>group_ab</th>\n",
       "      <th>conversion_a_pct</th>\n",
       "      <th>conversion_b_pct</th>\n",
       "      <th>conversion_ab_pct</th>\n",
       "    </tr>\n",
       "  </thead>\n",
       "  <tbody>\n",
       "    <tr>\n",
       "      <th>0</th>\n",
       "      <td>login</td>\n",
       "      <td>1939</td>\n",
       "      <td>654</td>\n",
       "      <td>2593</td>\n",
       "      <td>100.00</td>\n",
       "      <td>100.00</td>\n",
       "      <td>100.00</td>\n",
       "    </tr>\n",
       "    <tr>\n",
       "      <th>2</th>\n",
       "      <td>product_page</td>\n",
       "      <td>1265</td>\n",
       "      <td>367</td>\n",
       "      <td>1632</td>\n",
       "      <td>65.24</td>\n",
       "      <td>56.12</td>\n",
       "      <td>62.94</td>\n",
       "    </tr>\n",
       "    <tr>\n",
       "      <th>1</th>\n",
       "      <td>product_cart</td>\n",
       "      <td>589</td>\n",
       "      <td>184</td>\n",
       "      <td>773</td>\n",
       "      <td>30.38</td>\n",
       "      <td>28.13</td>\n",
       "      <td>29.81</td>\n",
       "    </tr>\n",
       "    <tr>\n",
       "      <th>3</th>\n",
       "      <td>purchase</td>\n",
       "      <td>613</td>\n",
       "      <td>191</td>\n",
       "      <td>804</td>\n",
       "      <td>31.61</td>\n",
       "      <td>29.20</td>\n",
       "      <td>31.01</td>\n",
       "    </tr>\n",
       "  </tbody>\n",
       "</table>\n",
       "</div>"
      ],
      "text/plain": [
       "index    event_name  group_a  group_b  group_ab  conversion_a_pct  \\\n",
       "0             login     1939      654      2593            100.00   \n",
       "2      product_page     1265      367      1632             65.24   \n",
       "1      product_cart      589      184       773             30.38   \n",
       "3          purchase      613      191       804             31.61   \n",
       "\n",
       "index  conversion_b_pct  conversion_ab_pct  \n",
       "0                100.00             100.00  \n",
       "2                 56.12              62.94  \n",
       "1                 28.13              29.81  \n",
       "3                 29.20              31.01  "
      ]
     },
     "metadata": {},
     "output_type": "display_data"
    }
   ],
   "source": [
    "pvt_funnel = (\n",
    "    pd.pivot_table(\n",
    "        data=df_summary,\n",
    "        index='event_name',\n",
    "        columns='group',\n",
    "        values='user_id',\n",
    "        aggfunc='nunique',\n",
    "        margins=True,\n",
    "    )\n",
    "    .reset_index()\n",
    "    .rename_axis('index', axis=1)\n",
    "    .rename(columns={'A': 'group_a', 'B': 'group_b', 'All': 'group_ab'})\n",
    "    .assign(\n",
    "        conversion_a_pct=lambda df: round(100 * df.group_a / df.group_a.iloc[0], 2),\n",
    "        conversion_b_pct=lambda df: round(100 * df.group_b / df.group_b.iloc[0], 2),\n",
    "        conversion_ab_pct=lambda df: round(100 * df.group_ab / df.group_ab.iloc[0], 2),\n",
    "        sort_key=lambda df: df.event_name.map({'login': 1, 'product_page': 2, 'product_cart': 3, 'purchase': 4})\n",
    "    )\n",
    "    .loc[lambda df: df.event_name != 'All']\n",
    "    .sort_values('sort_key')\n",
    "    .drop('sort_key', axis=1)\n",
    ")\n",
    "\n",
    "display(pvt_funnel)\n"
   ]
  },
  {
   "attachments": {},
   "cell_type": "markdown",
   "metadata": {},
   "source": [
    "It appears that users can make a purchase without viewing the cart. Let's take a closer look at the funnels."
   ]
  },
  {
   "cell_type": "code",
   "execution_count": 18,
   "metadata": {},
   "outputs": [
    {
     "data": {
      "application/vnd.plotly.v1+json": {
       "config": {
        "plotlyServerURL": "https://plot.ly"
       },
       "data": [
        {
         "hovertemplate": "Legend=group_a<br>value=%{x}<br>Funnel stage=%{y}<extra></extra>",
         "legendgroup": "group_a",
         "marker": {
          "color": "#636efa"
         },
         "name": "group_a",
         "orientation": "h",
         "showlegend": true,
         "type": "funnel",
         "x": [
          1939,
          1265,
          589,
          613
         ],
         "xaxis": "x",
         "y": [
          "login",
          "product_page",
          "product_cart",
          "purchase"
         ],
         "yaxis": "y"
        },
        {
         "hovertemplate": "Legend=group_b<br>value=%{x}<br>Funnel stage=%{y}<extra></extra>",
         "legendgroup": "group_b",
         "marker": {
          "color": "#EF553B"
         },
         "name": "group_b",
         "orientation": "h",
         "showlegend": true,
         "type": "funnel",
         "x": [
          654,
          367,
          184,
          191
         ],
         "xaxis": "x",
         "y": [
          "login",
          "product_page",
          "product_cart",
          "purchase"
         ],
         "yaxis": "y"
        },
        {
         "hovertemplate": "Legend=group_ab<br>value=%{x}<br>Funnel stage=%{y}<extra></extra>",
         "legendgroup": "group_ab",
         "marker": {
          "color": "#00cc96"
         },
         "name": "group_ab",
         "orientation": "h",
         "showlegend": true,
         "type": "funnel",
         "x": [
          2593,
          1632,
          773,
          804
         ],
         "xaxis": "x",
         "y": [
          "login",
          "product_page",
          "product_cart",
          "purchase"
         ],
         "yaxis": "y"
        }
       ],
       "layout": {
        "height": 500,
        "legend": {
         "orientation": "h",
         "title": {
          "text": "Legend"
         },
         "tracegroupgap": 0,
         "x": 0,
         "y": 1.1,
         "yanchor": "top"
        },
        "template": {
         "data": {
          "bar": [
           {
            "error_x": {
             "color": "#2a3f5f"
            },
            "error_y": {
             "color": "#2a3f5f"
            },
            "marker": {
             "line": {
              "color": "white",
              "width": 0.5
             },
             "pattern": {
              "fillmode": "overlay",
              "size": 10,
              "solidity": 0.2
             }
            },
            "type": "bar"
           }
          ],
          "barpolar": [
           {
            "marker": {
             "line": {
              "color": "white",
              "width": 0.5
             },
             "pattern": {
              "fillmode": "overlay",
              "size": 10,
              "solidity": 0.2
             }
            },
            "type": "barpolar"
           }
          ],
          "carpet": [
           {
            "aaxis": {
             "endlinecolor": "#2a3f5f",
             "gridcolor": "#C8D4E3",
             "linecolor": "#C8D4E3",
             "minorgridcolor": "#C8D4E3",
             "startlinecolor": "#2a3f5f"
            },
            "baxis": {
             "endlinecolor": "#2a3f5f",
             "gridcolor": "#C8D4E3",
             "linecolor": "#C8D4E3",
             "minorgridcolor": "#C8D4E3",
             "startlinecolor": "#2a3f5f"
            },
            "type": "carpet"
           }
          ],
          "choropleth": [
           {
            "colorbar": {
             "outlinewidth": 0,
             "ticks": ""
            },
            "type": "choropleth"
           }
          ],
          "contour": [
           {
            "colorbar": {
             "outlinewidth": 0,
             "ticks": ""
            },
            "colorscale": [
             [
              0,
              "#0d0887"
             ],
             [
              0.1111111111111111,
              "#46039f"
             ],
             [
              0.2222222222222222,
              "#7201a8"
             ],
             [
              0.3333333333333333,
              "#9c179e"
             ],
             [
              0.4444444444444444,
              "#bd3786"
             ],
             [
              0.5555555555555556,
              "#d8576b"
             ],
             [
              0.6666666666666666,
              "#ed7953"
             ],
             [
              0.7777777777777778,
              "#fb9f3a"
             ],
             [
              0.8888888888888888,
              "#fdca26"
             ],
             [
              1,
              "#f0f921"
             ]
            ],
            "type": "contour"
           }
          ],
          "contourcarpet": [
           {
            "colorbar": {
             "outlinewidth": 0,
             "ticks": ""
            },
            "type": "contourcarpet"
           }
          ],
          "heatmap": [
           {
            "colorbar": {
             "outlinewidth": 0,
             "ticks": ""
            },
            "colorscale": [
             [
              0,
              "#0d0887"
             ],
             [
              0.1111111111111111,
              "#46039f"
             ],
             [
              0.2222222222222222,
              "#7201a8"
             ],
             [
              0.3333333333333333,
              "#9c179e"
             ],
             [
              0.4444444444444444,
              "#bd3786"
             ],
             [
              0.5555555555555556,
              "#d8576b"
             ],
             [
              0.6666666666666666,
              "#ed7953"
             ],
             [
              0.7777777777777778,
              "#fb9f3a"
             ],
             [
              0.8888888888888888,
              "#fdca26"
             ],
             [
              1,
              "#f0f921"
             ]
            ],
            "type": "heatmap"
           }
          ],
          "heatmapgl": [
           {
            "colorbar": {
             "outlinewidth": 0,
             "ticks": ""
            },
            "colorscale": [
             [
              0,
              "#0d0887"
             ],
             [
              0.1111111111111111,
              "#46039f"
             ],
             [
              0.2222222222222222,
              "#7201a8"
             ],
             [
              0.3333333333333333,
              "#9c179e"
             ],
             [
              0.4444444444444444,
              "#bd3786"
             ],
             [
              0.5555555555555556,
              "#d8576b"
             ],
             [
              0.6666666666666666,
              "#ed7953"
             ],
             [
              0.7777777777777778,
              "#fb9f3a"
             ],
             [
              0.8888888888888888,
              "#fdca26"
             ],
             [
              1,
              "#f0f921"
             ]
            ],
            "type": "heatmapgl"
           }
          ],
          "histogram": [
           {
            "marker": {
             "pattern": {
              "fillmode": "overlay",
              "size": 10,
              "solidity": 0.2
             }
            },
            "type": "histogram"
           }
          ],
          "histogram2d": [
           {
            "colorbar": {
             "outlinewidth": 0,
             "ticks": ""
            },
            "colorscale": [
             [
              0,
              "#0d0887"
             ],
             [
              0.1111111111111111,
              "#46039f"
             ],
             [
              0.2222222222222222,
              "#7201a8"
             ],
             [
              0.3333333333333333,
              "#9c179e"
             ],
             [
              0.4444444444444444,
              "#bd3786"
             ],
             [
              0.5555555555555556,
              "#d8576b"
             ],
             [
              0.6666666666666666,
              "#ed7953"
             ],
             [
              0.7777777777777778,
              "#fb9f3a"
             ],
             [
              0.8888888888888888,
              "#fdca26"
             ],
             [
              1,
              "#f0f921"
             ]
            ],
            "type": "histogram2d"
           }
          ],
          "histogram2dcontour": [
           {
            "colorbar": {
             "outlinewidth": 0,
             "ticks": ""
            },
            "colorscale": [
             [
              0,
              "#0d0887"
             ],
             [
              0.1111111111111111,
              "#46039f"
             ],
             [
              0.2222222222222222,
              "#7201a8"
             ],
             [
              0.3333333333333333,
              "#9c179e"
             ],
             [
              0.4444444444444444,
              "#bd3786"
             ],
             [
              0.5555555555555556,
              "#d8576b"
             ],
             [
              0.6666666666666666,
              "#ed7953"
             ],
             [
              0.7777777777777778,
              "#fb9f3a"
             ],
             [
              0.8888888888888888,
              "#fdca26"
             ],
             [
              1,
              "#f0f921"
             ]
            ],
            "type": "histogram2dcontour"
           }
          ],
          "mesh3d": [
           {
            "colorbar": {
             "outlinewidth": 0,
             "ticks": ""
            },
            "type": "mesh3d"
           }
          ],
          "parcoords": [
           {
            "line": {
             "colorbar": {
              "outlinewidth": 0,
              "ticks": ""
             }
            },
            "type": "parcoords"
           }
          ],
          "pie": [
           {
            "automargin": true,
            "type": "pie"
           }
          ],
          "scatter": [
           {
            "fillpattern": {
             "fillmode": "overlay",
             "size": 10,
             "solidity": 0.2
            },
            "type": "scatter"
           }
          ],
          "scatter3d": [
           {
            "line": {
             "colorbar": {
              "outlinewidth": 0,
              "ticks": ""
             }
            },
            "marker": {
             "colorbar": {
              "outlinewidth": 0,
              "ticks": ""
             }
            },
            "type": "scatter3d"
           }
          ],
          "scattercarpet": [
           {
            "marker": {
             "colorbar": {
              "outlinewidth": 0,
              "ticks": ""
             }
            },
            "type": "scattercarpet"
           }
          ],
          "scattergeo": [
           {
            "marker": {
             "colorbar": {
              "outlinewidth": 0,
              "ticks": ""
             }
            },
            "type": "scattergeo"
           }
          ],
          "scattergl": [
           {
            "marker": {
             "colorbar": {
              "outlinewidth": 0,
              "ticks": ""
             }
            },
            "type": "scattergl"
           }
          ],
          "scattermapbox": [
           {
            "marker": {
             "colorbar": {
              "outlinewidth": 0,
              "ticks": ""
             }
            },
            "type": "scattermapbox"
           }
          ],
          "scatterpolar": [
           {
            "marker": {
             "colorbar": {
              "outlinewidth": 0,
              "ticks": ""
             }
            },
            "type": "scatterpolar"
           }
          ],
          "scatterpolargl": [
           {
            "marker": {
             "colorbar": {
              "outlinewidth": 0,
              "ticks": ""
             }
            },
            "type": "scatterpolargl"
           }
          ],
          "scatterternary": [
           {
            "marker": {
             "colorbar": {
              "outlinewidth": 0,
              "ticks": ""
             }
            },
            "type": "scatterternary"
           }
          ],
          "surface": [
           {
            "colorbar": {
             "outlinewidth": 0,
             "ticks": ""
            },
            "colorscale": [
             [
              0,
              "#0d0887"
             ],
             [
              0.1111111111111111,
              "#46039f"
             ],
             [
              0.2222222222222222,
              "#7201a8"
             ],
             [
              0.3333333333333333,
              "#9c179e"
             ],
             [
              0.4444444444444444,
              "#bd3786"
             ],
             [
              0.5555555555555556,
              "#d8576b"
             ],
             [
              0.6666666666666666,
              "#ed7953"
             ],
             [
              0.7777777777777778,
              "#fb9f3a"
             ],
             [
              0.8888888888888888,
              "#fdca26"
             ],
             [
              1,
              "#f0f921"
             ]
            ],
            "type": "surface"
           }
          ],
          "table": [
           {
            "cells": {
             "fill": {
              "color": "#EBF0F8"
             },
             "line": {
              "color": "white"
             }
            },
            "header": {
             "fill": {
              "color": "#C8D4E3"
             },
             "line": {
              "color": "white"
             }
            },
            "type": "table"
           }
          ]
         },
         "layout": {
          "annotationdefaults": {
           "arrowcolor": "#2a3f5f",
           "arrowhead": 0,
           "arrowwidth": 1
          },
          "autotypenumbers": "strict",
          "coloraxis": {
           "colorbar": {
            "outlinewidth": 0,
            "ticks": ""
           }
          },
          "colorscale": {
           "diverging": [
            [
             0,
             "#8e0152"
            ],
            [
             0.1,
             "#c51b7d"
            ],
            [
             0.2,
             "#de77ae"
            ],
            [
             0.3,
             "#f1b6da"
            ],
            [
             0.4,
             "#fde0ef"
            ],
            [
             0.5,
             "#f7f7f7"
            ],
            [
             0.6,
             "#e6f5d0"
            ],
            [
             0.7,
             "#b8e186"
            ],
            [
             0.8,
             "#7fbc41"
            ],
            [
             0.9,
             "#4d9221"
            ],
            [
             1,
             "#276419"
            ]
           ],
           "sequential": [
            [
             0,
             "#0d0887"
            ],
            [
             0.1111111111111111,
             "#46039f"
            ],
            [
             0.2222222222222222,
             "#7201a8"
            ],
            [
             0.3333333333333333,
             "#9c179e"
            ],
            [
             0.4444444444444444,
             "#bd3786"
            ],
            [
             0.5555555555555556,
             "#d8576b"
            ],
            [
             0.6666666666666666,
             "#ed7953"
            ],
            [
             0.7777777777777778,
             "#fb9f3a"
            ],
            [
             0.8888888888888888,
             "#fdca26"
            ],
            [
             1,
             "#f0f921"
            ]
           ],
           "sequentialminus": [
            [
             0,
             "#0d0887"
            ],
            [
             0.1111111111111111,
             "#46039f"
            ],
            [
             0.2222222222222222,
             "#7201a8"
            ],
            [
             0.3333333333333333,
             "#9c179e"
            ],
            [
             0.4444444444444444,
             "#bd3786"
            ],
            [
             0.5555555555555556,
             "#d8576b"
            ],
            [
             0.6666666666666666,
             "#ed7953"
            ],
            [
             0.7777777777777778,
             "#fb9f3a"
            ],
            [
             0.8888888888888888,
             "#fdca26"
            ],
            [
             1,
             "#f0f921"
            ]
           ]
          },
          "colorway": [
           "#636efa",
           "#EF553B",
           "#00cc96",
           "#ab63fa",
           "#FFA15A",
           "#19d3f3",
           "#FF6692",
           "#B6E880",
           "#FF97FF",
           "#FECB52"
          ],
          "font": {
           "color": "#2a3f5f"
          },
          "geo": {
           "bgcolor": "white",
           "lakecolor": "white",
           "landcolor": "white",
           "showlakes": true,
           "showland": true,
           "subunitcolor": "#C8D4E3"
          },
          "hoverlabel": {
           "align": "left"
          },
          "hovermode": "closest",
          "mapbox": {
           "style": "light"
          },
          "paper_bgcolor": "white",
          "plot_bgcolor": "white",
          "polar": {
           "angularaxis": {
            "gridcolor": "#EBF0F8",
            "linecolor": "#EBF0F8",
            "ticks": ""
           },
           "bgcolor": "white",
           "radialaxis": {
            "gridcolor": "#EBF0F8",
            "linecolor": "#EBF0F8",
            "ticks": ""
           }
          },
          "scene": {
           "xaxis": {
            "backgroundcolor": "white",
            "gridcolor": "#DFE8F3",
            "gridwidth": 2,
            "linecolor": "#EBF0F8",
            "showbackground": true,
            "ticks": "",
            "zerolinecolor": "#EBF0F8"
           },
           "yaxis": {
            "backgroundcolor": "white",
            "gridcolor": "#DFE8F3",
            "gridwidth": 2,
            "linecolor": "#EBF0F8",
            "showbackground": true,
            "ticks": "",
            "zerolinecolor": "#EBF0F8"
           },
           "zaxis": {
            "backgroundcolor": "white",
            "gridcolor": "#DFE8F3",
            "gridwidth": 2,
            "linecolor": "#EBF0F8",
            "showbackground": true,
            "ticks": "",
            "zerolinecolor": "#EBF0F8"
           }
          },
          "shapedefaults": {
           "line": {
            "color": "#2a3f5f"
           }
          },
          "ternary": {
           "aaxis": {
            "gridcolor": "#DFE8F3",
            "linecolor": "#A2B1C6",
            "ticks": ""
           },
           "baxis": {
            "gridcolor": "#DFE8F3",
            "linecolor": "#A2B1C6",
            "ticks": ""
           },
           "bgcolor": "white",
           "caxis": {
            "gridcolor": "#DFE8F3",
            "linecolor": "#A2B1C6",
            "ticks": ""
           }
          },
          "title": {
           "x": 0.05
          },
          "xaxis": {
           "automargin": true,
           "gridcolor": "#EBF0F8",
           "linecolor": "#EBF0F8",
           "ticks": "",
           "title": {
            "standoff": 15
           },
           "zerolinecolor": "#EBF0F8",
           "zerolinewidth": 2
          },
          "yaxis": {
           "automargin": true,
           "gridcolor": "#EBF0F8",
           "linecolor": "#EBF0F8",
           "ticks": "",
           "title": {
            "standoff": 15
           },
           "zerolinecolor": "#EBF0F8",
           "zerolinewidth": 2
          }
         }
        },
        "title": {
         "text": "Funnel stages per group"
        },
        "width": 800,
        "xaxis": {
         "anchor": "y",
         "domain": [
          0,
          1
         ],
         "title": {
          "text": "value"
         }
        },
        "yaxis": {
         "anchor": "x",
         "domain": [
          0,
          1
         ],
         "title": {
          "text": "Funnel stage"
         }
        }
       }
      }
     },
     "metadata": {},
     "output_type": "display_data"
    }
   ],
   "source": [
    "# pvt_funnel = pvt_funnel[pvt_funnel.event_name != 'product_cart']\n",
    "\n",
    "fig = px.funnel(\n",
    "    pvt_funnel.iloc[:, 0:4].melt(id_vars='event_name'),\n",
    "    x='value',\n",
    "    y='event_name',\n",
    "    # facet_col='index',\n",
    "    color='index',\n",
    "    title='Funnel stages per group',\n",
    "    labels=dict(event_name='Funnel stage', index='Legend'),\n",
    "    width=FIG_WIDTH * 100,\n",
    "    height=FIG_HEIGHT * 100,\n",
    "    template='plotly_white'\n",
    ")\n",
    "fig.update_layout(\n",
    "    legend=dict(orientation='h', yanchor='top', y=1.1, x=0)\n",
    ")\n",
    "fig.show()"
   ]
  },
  {
   "attachments": {},
   "cell_type": "markdown",
   "metadata": {},
   "source": [
    "The conversion rates at each step for the groups were different: group A turned out to be slightly more successful than group B.\n",
    "\n",
    "As a final step, we will determine whether this difference is statistically significant. We have already noted the various data peculiarities that should be taken into account when drawing conclusions."
   ]
  },
  {
   "attachments": {},
   "cell_type": "markdown",
   "metadata": {},
   "source": [
    "### A/B test results\n",
    "\n",
    "The main task is to assess the differences in conversion rates at each step between the groups. We can utilize the Z-test for this purpose. To minimize the risk of errors, let's choose a significance level of `alpha = 0.01`."
   ]
  },
  {
   "cell_type": "code",
   "execution_count": 19,
   "metadata": {},
   "outputs": [
    {
     "data": {
      "text/html": [
       "<div>\n",
       "<style scoped>\n",
       "    .dataframe tbody tr th:only-of-type {\n",
       "        vertical-align: middle;\n",
       "    }\n",
       "\n",
       "    .dataframe tbody tr th {\n",
       "        vertical-align: top;\n",
       "    }\n",
       "\n",
       "    .dataframe thead th {\n",
       "        text-align: right;\n",
       "    }\n",
       "</style>\n",
       "<table border=\"1\" class=\"dataframe\">\n",
       "  <thead>\n",
       "    <tr style=\"text-align: right;\">\n",
       "      <th>index</th>\n",
       "      <th>event_name</th>\n",
       "      <th>group_a</th>\n",
       "      <th>group_b</th>\n",
       "      <th>group_ab</th>\n",
       "      <th>conversion_a_pct</th>\n",
       "      <th>conversion_b_pct</th>\n",
       "      <th>conversion_ab_pct</th>\n",
       "    </tr>\n",
       "  </thead>\n",
       "  <tbody>\n",
       "    <tr>\n",
       "      <th>0</th>\n",
       "      <td>login</td>\n",
       "      <td>1939</td>\n",
       "      <td>654</td>\n",
       "      <td>2593</td>\n",
       "      <td>100.00</td>\n",
       "      <td>100.00</td>\n",
       "      <td>100.00</td>\n",
       "    </tr>\n",
       "    <tr>\n",
       "      <th>2</th>\n",
       "      <td>product_page</td>\n",
       "      <td>1265</td>\n",
       "      <td>367</td>\n",
       "      <td>1632</td>\n",
       "      <td>65.24</td>\n",
       "      <td>56.12</td>\n",
       "      <td>62.94</td>\n",
       "    </tr>\n",
       "    <tr>\n",
       "      <th>1</th>\n",
       "      <td>product_cart</td>\n",
       "      <td>589</td>\n",
       "      <td>184</td>\n",
       "      <td>773</td>\n",
       "      <td>30.38</td>\n",
       "      <td>28.13</td>\n",
       "      <td>29.81</td>\n",
       "    </tr>\n",
       "    <tr>\n",
       "      <th>3</th>\n",
       "      <td>purchase</td>\n",
       "      <td>613</td>\n",
       "      <td>191</td>\n",
       "      <td>804</td>\n",
       "      <td>31.61</td>\n",
       "      <td>29.20</td>\n",
       "      <td>31.01</td>\n",
       "    </tr>\n",
       "  </tbody>\n",
       "</table>\n",
       "</div>"
      ],
      "text/plain": [
       "index    event_name  group_a  group_b  group_ab  conversion_a_pct  \\\n",
       "0             login     1939      654      2593            100.00   \n",
       "2      product_page     1265      367      1632             65.24   \n",
       "1      product_cart      589      184       773             30.38   \n",
       "3          purchase      613      191       804             31.61   \n",
       "\n",
       "index  conversion_b_pct  conversion_ab_pct  \n",
       "0                100.00             100.00  \n",
       "2                 56.12              62.94  \n",
       "1                 28.13              29.81  \n",
       "3                 29.20              31.01  "
      ]
     },
     "metadata": {},
     "output_type": "display_data"
    }
   ],
   "source": [
    "display(pvt_funnel)\n"
   ]
  },
  {
   "attachments": {},
   "cell_type": "markdown",
   "metadata": {},
   "source": [
    "Let's write a function that will perform the Z-test for us."
   ]
  },
  {
   "cell_type": "code",
   "execution_count": 20,
   "metadata": {},
   "outputs": [],
   "source": [
    "def fun_get_p_value(start_count: list, end_count: list, alpha: float) -> float:\n",
    "    \"\"\"\n",
    "    This function output p-value of a Z-test for conversions of 2 samples.\n",
    "\n",
    "    Args:\n",
    "        start_count (list): list of starting values.\n",
    "        end_count (list): list of values after an event.\n",
    "        alpha (float): statistical significance\n",
    "\n",
    "    Returns:\n",
    "        p-value: p-value of a test\n",
    "    \"\"\"\n",
    "    \n",
    "    p1 = end_count[0] / start_count[0]\n",
    "    p2 = end_count[1] / start_count[1]\n",
    "    \n",
    "    p_combined = (end_count[0] + end_count[1]) / (start_count[0] + start_count[1])\n",
    "    difference = p1 - p2\n",
    "    \n",
    "    z_value = difference / mth.sqrt(p_combined * (1 - p_combined) * (1 / start_count[0] + 1 / start_count[1]))\n",
    "    \n",
    "    distribution = st.norm(0, 1)\n",
    "    p_value = (1 - distribution.cdf(abs(z_value))) * 2\n",
    "\n",
    "    return p_value\n"
   ]
  },
  {
   "attachments": {},
   "cell_type": "markdown",
   "metadata": {},
   "source": [
    "Now let's test the hypotheses:\n",
    "\n",
    "> **Null Hypothesis (H0):** There are no statistically significant differences between the conversion rates of group A and group B.\n",
    "\n",
    "> **Alternative Hypothesis (H1):** There are statistically significant differences between the conversion rates of group A and group B.\n",
    "\n",
    "We will accept the null hypothesis if `p_value > alpha`. We will accept the alternative hypothesis if `p_value < alpha`. Let's write another function that will analyze our `pvt_funnel` table."
   ]
  },
  {
   "cell_type": "code",
   "execution_count": 21,
   "metadata": {},
   "outputs": [],
   "source": [
    "def fun_get_hypothesis_results(df_input: pd.DataFrame, group_1: object, group_2: object, alpha: float) -> pd.DataFrame:\n",
    "    \"\"\"\n",
    "    This function creates a summary report after testing hypotheses related to conversion.\n",
    "\n",
    "    Args:\n",
    "        df_input (DataFrame): input dataframe\n",
    "        group_1 (object): name of the column which contains total unique users per each step of the pipeline for the first group \n",
    "        group_2 (object): name of the column which contains total unique users per each step of the pipeline for the second group\n",
    "        alpha (float): statistical significance.\n",
    "\n",
    "    Returns:\n",
    "        DataFrame: summary table of key results for each test: steps in scope, conversions, p_value, alpha and H0/H1 decision.\n",
    "    \"\"\"\n",
    "    \n",
    "    start_event = []\n",
    "    end_event = []\n",
    "    conversion_group_1 = []\n",
    "    conversion_group_2 = []\n",
    "    p_values = []\n",
    "    hypothesis_to_accept = []\n",
    "    \n",
    "    for counter in range(len(df_input.event_name) - 1):       \n",
    "        start_event.append(df_input.event_name.iloc[0])\n",
    "        end_event.append(df_input.event_name.iloc[counter + 1])\n",
    "        \n",
    "        conversion_group_1.append(\n",
    "            round(100 * df_input[group_1].iloc[counter + 1] / df_input[group_1].iloc[0], 1)\n",
    "        )\n",
    "        \n",
    "        conversion_group_2.append(\n",
    "            round(100 * df_input[group_2].iloc[counter + 1] / df_input[group_2].iloc[0], 1)\n",
    "        )\n",
    "        \n",
    "        p_value = fun_get_p_value(\n",
    "            [df_input[group_1].iloc[0], df_input[group_2].iloc[0]],\n",
    "            [df_input[group_1].iloc[counter + 1], df_input[group_2].iloc[counter + 1]],\n",
    "            alpha\n",
    "        )\n",
    "        \n",
    "        p_values.append(round(p_value, 3))\n",
    "        \n",
    "        if p_value > alpha:\n",
    "            hypothesis_to_accept.append('H0')\n",
    "        else:\n",
    "            hypothesis_to_accept.append('H1')\n",
    "\n",
    "    df_output = pd.DataFrame({\n",
    "        'start_event': start_event,\n",
    "        'end_event': end_event,\n",
    "        'conversion_' + group_1: conversion_group_1,\n",
    "        'conversion_' + group_2: conversion_group_2,\n",
    "        'p_value': p_values,\n",
    "        'alpha': alpha,\n",
    "        'hypothesis_to_accept': hypothesis_to_accept\n",
    "    })\n",
    "    \n",
    "    return df_output\n"
   ]
  },
  {
   "attachments": {},
   "cell_type": "markdown",
   "metadata": {},
   "source": [
    "Настало время узнать ответ: есть ли разница между группами A и B."
   ]
  },
  {
   "cell_type": "code",
   "execution_count": 22,
   "metadata": {},
   "outputs": [
    {
     "data": {
      "text/html": [
       "<div>\n",
       "<style scoped>\n",
       "    .dataframe tbody tr th:only-of-type {\n",
       "        vertical-align: middle;\n",
       "    }\n",
       "\n",
       "    .dataframe tbody tr th {\n",
       "        vertical-align: top;\n",
       "    }\n",
       "\n",
       "    .dataframe thead th {\n",
       "        text-align: right;\n",
       "    }\n",
       "</style>\n",
       "<table border=\"1\" class=\"dataframe\">\n",
       "  <thead>\n",
       "    <tr style=\"text-align: right;\">\n",
       "      <th></th>\n",
       "      <th>start_event</th>\n",
       "      <th>end_event</th>\n",
       "      <th>conversion_group_a</th>\n",
       "      <th>conversion_group_b</th>\n",
       "      <th>p_value</th>\n",
       "      <th>alpha</th>\n",
       "      <th>hypothesis_to_accept</th>\n",
       "    </tr>\n",
       "  </thead>\n",
       "  <tbody>\n",
       "    <tr>\n",
       "      <th>0</th>\n",
       "      <td>login</td>\n",
       "      <td>product_page</td>\n",
       "      <td>65.2</td>\n",
       "      <td>56.1</td>\n",
       "      <td>0.000</td>\n",
       "      <td>0.01</td>\n",
       "      <td>H1</td>\n",
       "    </tr>\n",
       "    <tr>\n",
       "      <th>1</th>\n",
       "      <td>login</td>\n",
       "      <td>product_cart</td>\n",
       "      <td>30.4</td>\n",
       "      <td>28.1</td>\n",
       "      <td>0.278</td>\n",
       "      <td>0.01</td>\n",
       "      <td>H0</td>\n",
       "    </tr>\n",
       "    <tr>\n",
       "      <th>2</th>\n",
       "      <td>login</td>\n",
       "      <td>purchase</td>\n",
       "      <td>31.6</td>\n",
       "      <td>29.2</td>\n",
       "      <td>0.249</td>\n",
       "      <td>0.01</td>\n",
       "      <td>H0</td>\n",
       "    </tr>\n",
       "  </tbody>\n",
       "</table>\n",
       "</div>"
      ],
      "text/plain": [
       "  start_event     end_event  conversion_group_a  conversion_group_b  p_value  \\\n",
       "0       login  product_page                65.2                56.1    0.000   \n",
       "1       login  product_cart                30.4                28.1    0.278   \n",
       "2       login      purchase                31.6                29.2    0.249   \n",
       "\n",
       "   alpha hypothesis_to_accept  \n",
       "0   0.01                   H1  \n",
       "1   0.01                   H0  \n",
       "2   0.01                   H0  "
      ]
     },
     "metadata": {},
     "output_type": "display_data"
    }
   ],
   "source": [
    "display(fun_get_hypothesis_results(pvt_funnel, 'group_a', 'group_b', 0.01))"
   ]
  },
  {
   "attachments": {},
   "cell_type": "markdown",
   "metadata": {},
   "source": [
    "Significant differences in conversion rates are observed only when transitioning from `login` to `product_page`. However, there is no expected 10% improvement in conversion rates at any step."
   ]
  },
  {
   "attachments": {},
   "cell_type": "markdown",
   "metadata": {},
   "source": [
    "## Conclusions\n",
    "\n",
    "Let's summarise our findings:\n",
    "\n",
    "The conducted A/B test evaluating the effectiveness of implementing an enhanced recommender system did not yield the desired results and demonstrated several shortcomings in the test execution. The test was marred by issues such as overlapping experiments, imbalanced user groups, insufficient event data coverage, and a lower-than-expected number of active users.\n",
    "\n",
    "The analysis of the test results revealed that there were no significant improvements in conversion rates at any stage of the funnel. This suggests that the implemented changes related to the enhanced recommender system did not have the desired impact on user behavior and engagement.\n",
    "\n",
    "Given these findings, it is crucial to reassess the implementation of the recommender system and explore alternative strategies or improvements to achieve the desired outcomes. The test results underscore the importance of careful planning, accurate data collection, and robust experimental designs to obtain reliable and meaningful insights.\n",
    "\n",
    "Moving forward, it is recommended to redesign the test, addressing the identified issues, and conduct a new experiment with proper controls and a larger sample size. Further analysis and evaluation of alternative approaches, such as refining recommendation algorithms and enhancing user experience, should be pursued to optimize user engagement and maximize the desired metrics.\n",
    "\n",
    "This study serves as a valuable learning experience, highlighting the significance of rigorous experimentation practices and the need for data-driven decision-making. By incorporating these lessons, future tests can yield more accurate insights and inform effective strategies for improving user engagement and achieving desired business outcomes."
   ]
  }
 ],
 "metadata": {
  "kernelspec": {
   "display_name": "base",
   "language": "python",
   "name": "python3"
  },
  "language_info": {
   "codemirror_mode": {
    "name": "ipython",
    "version": 3
   },
   "file_extension": ".py",
   "mimetype": "text/x-python",
   "name": "python",
   "nbconvert_exporter": "python",
   "pygments_lexer": "ipython3",
   "version": "3.9.7"
  },
  "orig_nbformat": 4,
  "vscode": {
   "interpreter": {
    "hash": "95633e14b7ea774968f538ab8687a60d358136f4a990a7903a22cc539dc1dcdb"
   }
  }
 },
 "nbformat": 4,
 "nbformat_minor": 2
}
