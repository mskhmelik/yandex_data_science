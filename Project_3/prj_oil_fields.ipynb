{
 "cells": [
  {
   "attachments": {},
   "cell_type": "markdown",
   "metadata": {},
   "source": [
    "# Прогнозирование выручки от добычи нефти\n",
    "\n",
    "**Описание проекта**\n",
    "\n",
    "Вы работаете в добывающей компании «ГлавРосГосНефть». Нужно решить, где бурить новую скважину. \n",
    "\n",
    "Шаги для выбора локации обычно такие:\n",
    "1. В избранном регионе собирают характеристики для скважин: качество нефти и объём её запасов;\n",
    "2. Строят модель для предсказания объёма запасов в новых скважинах;\n",
    "3. Выбирают скважины с самыми высокими оценками значений;\n",
    "4. Определяют регион с максимальной суммарной прибылью отобранных скважин.\n",
    "\n",
    "Вам предоставлены пробы нефти в трёх регионах. Характеристики для каждой скважины в регионе уже известны. Постройте модель для определения региона, где добыча принесёт наибольшую прибыль. Проанализируйте возможную прибыль и риски техникой `Bootstrap`.\n",
    "\n",
    "**Описание данных**\n",
    "\n",
    "Признаки:\n",
    "\n",
    "1. `id` — уникальный идентификатор скважины;\n",
    "2. `f0`, `f1`, `f2` — три признака точек (неважно, что они означают, но сами признаки значимы);\n",
    "\n",
    "Целевой признак:\n",
    "\n",
    "1. `product` — объём запасов в скважине (тыс. баррелей).\n",
    "\n",
    "**Дополнительные условия**\n",
    "\n",
    "1. Для обучения модели подходит только линейная регрессия (остальные — недостаточно предсказуемые).\n",
    "2. При разведке региона исследуют 500 точек, из которых с помощью машинного обучения выбирают 200 лучших для разработки.\n",
    "3. Бюджет на разработку скважин в регионе — 10 млрд рублей.\n",
    "4. При нынешних ценах один баррель сырья приносит 450 рублей дохода. Доход с каждой единицы продукта составляет 450 тыс. рублей, поскольку объём указан в тысячах баррелей.\n",
    "5. После оценки рисков нужно оставить лишь те регионы, в которых вероятность убытков меньше 2.5%. Среди них выбирают регион с наибольшей средней прибылью.\n",
    "6. Данные синтетические: детали контрактов и характеристики месторождений не разглашаются."
   ]
  },
  {
   "cell_type": "code",
   "execution_count": 1,
   "metadata": {},
   "outputs": [],
   "source": [
    "import pandas as pd\n",
    "import optuna\n",
    "import plotly.graph_objects as go\n",
    "\n",
    "from plotly.subplots import make_subplots\n",
    "from IPython.display import display\n",
    "from collections import defaultdict\n",
    "from ydata_profiling import ProfileReport\n",
    "\n",
    "from fast_ml import eda\n",
    "\n",
    "from sklearn.model_selection import train_test_split\n",
    "from sklearn.utils import resample\n",
    "\n",
    "from sklearn.pipeline import Pipeline\n",
    "from sklearn.preprocessing import StandardScaler\n",
    "\n",
    "from sklearn.linear_model import LinearRegression\n",
    "\n",
    "from sklearn.metrics import (\n",
    "    accuracy_score, f1_score, auc, roc_curve, roc_auc_score\n",
    ")"
   ]
  },
  {
   "cell_type": "code",
   "execution_count": 2,
   "metadata": {},
   "outputs": [],
   "source": [
    "FIG_WIDTH = 10 * 100\n",
    "FIG_HEIGHT = 5 * 100\n",
    "RANDOM_SEED = 42\n",
    "FILE_NAMES = ['geo_data_0', 'geo_data_1', 'geo_data_2']"
   ]
  },
  {
   "cell_type": "code",
   "execution_count": 3,
   "metadata": {},
   "outputs": [],
   "source": [
    "raw_oil = {}\n",
    "for file_name in FILE_NAMES:\n",
    "    try:\n",
    "        raw_oil[file_name] = pd.read_csv(file_name + '.csv')\n",
    "    except:\n",
    "        raw_oil[file_name] = pd.read_csv('/datasets/' + file_name + '.csv')"
   ]
  },
  {
   "attachments": {},
   "cell_type": "markdown",
   "metadata": {},
   "source": [
    "## Исследовательский анализ данных\n",
    "\n",
    "Изучим основные зависимости в данных перед тем, как мы будем использовать их в алгоритмах машинного обучения.\n",
    "\n",
    "Таблица-резюме:"
   ]
  },
  {
   "cell_type": "code",
   "execution_count": 4,
   "metadata": {},
   "outputs": [
    {
     "data": {
      "text/html": [
       "<div>\n",
       "<style scoped>\n",
       "    .dataframe tbody tr th:only-of-type {\n",
       "        vertical-align: middle;\n",
       "    }\n",
       "\n",
       "    .dataframe tbody tr th {\n",
       "        vertical-align: top;\n",
       "    }\n",
       "\n",
       "    .dataframe thead th {\n",
       "        text-align: right;\n",
       "    }\n",
       "</style>\n",
       "<table border=\"1\" class=\"dataframe\">\n",
       "  <thead>\n",
       "    <tr style=\"text-align: right;\">\n",
       "      <th></th>\n",
       "      <th>data_type</th>\n",
       "      <th>data_type_grp</th>\n",
       "      <th>num_unique_values</th>\n",
       "      <th>sample_unique_values</th>\n",
       "      <th>num_missing</th>\n",
       "      <th>perc_missing</th>\n",
       "    </tr>\n",
       "  </thead>\n",
       "  <tbody>\n",
       "    <tr>\n",
       "      <th>id</th>\n",
       "      <td>object</td>\n",
       "      <td>Categorical</td>\n",
       "      <td>99990</td>\n",
       "      <td>[txEyH, 2acmU, 409Wp, iJLyR, Xdl7t, wX4Hy, tL6...</td>\n",
       "      <td>0</td>\n",
       "      <td>0.0</td>\n",
       "    </tr>\n",
       "    <tr>\n",
       "      <th>f0</th>\n",
       "      <td>float64</td>\n",
       "      <td>Numerical</td>\n",
       "      <td>100000</td>\n",
       "      <td>[0.7057449842080644, 1.3347112926051892, 1.022...</td>\n",
       "      <td>0</td>\n",
       "      <td>0.0</td>\n",
       "    </tr>\n",
       "    <tr>\n",
       "      <th>f1</th>\n",
       "      <td>float64</td>\n",
       "      <td>Numerical</td>\n",
       "      <td>100000</td>\n",
       "      <td>[-0.4978225001976334, -0.3401642528583136, 0.1...</td>\n",
       "      <td>0</td>\n",
       "      <td>0.0</td>\n",
       "    </tr>\n",
       "    <tr>\n",
       "      <th>f2</th>\n",
       "      <td>float64</td>\n",
       "      <td>Numerical</td>\n",
       "      <td>100000</td>\n",
       "      <td>[1.22116994843607, 4.3650803324282, 1.41992623...</td>\n",
       "      <td>0</td>\n",
       "      <td>0.0</td>\n",
       "    </tr>\n",
       "    <tr>\n",
       "      <th>product</th>\n",
       "      <td>float64</td>\n",
       "      <td>Numerical</td>\n",
       "      <td>100000</td>\n",
       "      <td>[105.28006184349584, 73.03775026515737, 85.265...</td>\n",
       "      <td>0</td>\n",
       "      <td>0.0</td>\n",
       "    </tr>\n",
       "  </tbody>\n",
       "</table>\n",
       "</div>"
      ],
      "text/plain": [
       "        data_type data_type_grp num_unique_values  \\\n",
       "id         object   Categorical             99990   \n",
       "f0        float64     Numerical            100000   \n",
       "f1        float64     Numerical            100000   \n",
       "f2        float64     Numerical            100000   \n",
       "product   float64     Numerical            100000   \n",
       "\n",
       "                                      sample_unique_values num_missing  \\\n",
       "id       [txEyH, 2acmU, 409Wp, iJLyR, Xdl7t, wX4Hy, tL6...           0   \n",
       "f0       [0.7057449842080644, 1.3347112926051892, 1.022...           0   \n",
       "f1       [-0.4978225001976334, -0.3401642528583136, 0.1...           0   \n",
       "f2       [1.22116994843607, 4.3650803324282, 1.41992623...           0   \n",
       "product  [105.28006184349584, 73.03775026515737, 85.265...           0   \n",
       "\n",
       "        perc_missing  \n",
       "id               0.0  \n",
       "f0               0.0  \n",
       "f1               0.0  \n",
       "f2               0.0  \n",
       "product          0.0  "
      ]
     },
     "metadata": {},
     "output_type": "display_data"
    },
    {
     "data": {
      "text/html": [
       "<div>\n",
       "<style scoped>\n",
       "    .dataframe tbody tr th:only-of-type {\n",
       "        vertical-align: middle;\n",
       "    }\n",
       "\n",
       "    .dataframe tbody tr th {\n",
       "        vertical-align: top;\n",
       "    }\n",
       "\n",
       "    .dataframe thead th {\n",
       "        text-align: right;\n",
       "    }\n",
       "</style>\n",
       "<table border=\"1\" class=\"dataframe\">\n",
       "  <thead>\n",
       "    <tr style=\"text-align: right;\">\n",
       "      <th></th>\n",
       "      <th>data_type</th>\n",
       "      <th>data_type_grp</th>\n",
       "      <th>num_unique_values</th>\n",
       "      <th>sample_unique_values</th>\n",
       "      <th>num_missing</th>\n",
       "      <th>perc_missing</th>\n",
       "    </tr>\n",
       "  </thead>\n",
       "  <tbody>\n",
       "    <tr>\n",
       "      <th>id</th>\n",
       "      <td>object</td>\n",
       "      <td>Categorical</td>\n",
       "      <td>99996</td>\n",
       "      <td>[kBEdx, 62mP7, vyE1P, KcrkZ, AHL4O, HHckp, h5U...</td>\n",
       "      <td>0</td>\n",
       "      <td>0.0</td>\n",
       "    </tr>\n",
       "    <tr>\n",
       "      <th>f0</th>\n",
       "      <td>float64</td>\n",
       "      <td>Numerical</td>\n",
       "      <td>100000</td>\n",
       "      <td>[-15.00134818249185, 14.272087811011149, 6.263...</td>\n",
       "      <td>0</td>\n",
       "      <td>0.0</td>\n",
       "    </tr>\n",
       "    <tr>\n",
       "      <th>f1</th>\n",
       "      <td>float64</td>\n",
       "      <td>Numerical</td>\n",
       "      <td>100000</td>\n",
       "      <td>[-8.275999947188001, -3.47508321506002, -5.948...</td>\n",
       "      <td>0</td>\n",
       "      <td>0.0</td>\n",
       "    </tr>\n",
       "    <tr>\n",
       "      <th>f2</th>\n",
       "      <td>float64</td>\n",
       "      <td>Numerical</td>\n",
       "      <td>100000</td>\n",
       "      <td>[-0.0058760136933206, 0.9991827365665829, 5.00...</td>\n",
       "      <td>0</td>\n",
       "      <td>0.0</td>\n",
       "    </tr>\n",
       "    <tr>\n",
       "      <th>product</th>\n",
       "      <td>float64</td>\n",
       "      <td>Numerical</td>\n",
       "      <td>12</td>\n",
       "      <td>[3.179102583207246, 26.95326103153969, 134.766...</td>\n",
       "      <td>0</td>\n",
       "      <td>0.0</td>\n",
       "    </tr>\n",
       "  </tbody>\n",
       "</table>\n",
       "</div>"
      ],
      "text/plain": [
       "        data_type data_type_grp num_unique_values  \\\n",
       "id         object   Categorical             99996   \n",
       "f0        float64     Numerical            100000   \n",
       "f1        float64     Numerical            100000   \n",
       "f2        float64     Numerical            100000   \n",
       "product   float64     Numerical                12   \n",
       "\n",
       "                                      sample_unique_values num_missing  \\\n",
       "id       [kBEdx, 62mP7, vyE1P, KcrkZ, AHL4O, HHckp, h5U...           0   \n",
       "f0       [-15.00134818249185, 14.272087811011149, 6.263...           0   \n",
       "f1       [-8.275999947188001, -3.47508321506002, -5.948...           0   \n",
       "f2       [-0.0058760136933206, 0.9991827365665829, 5.00...           0   \n",
       "product  [3.179102583207246, 26.95326103153969, 134.766...           0   \n",
       "\n",
       "        perc_missing  \n",
       "id               0.0  \n",
       "f0               0.0  \n",
       "f1               0.0  \n",
       "f2               0.0  \n",
       "product          0.0  "
      ]
     },
     "metadata": {},
     "output_type": "display_data"
    },
    {
     "data": {
      "text/html": [
       "<div>\n",
       "<style scoped>\n",
       "    .dataframe tbody tr th:only-of-type {\n",
       "        vertical-align: middle;\n",
       "    }\n",
       "\n",
       "    .dataframe tbody tr th {\n",
       "        vertical-align: top;\n",
       "    }\n",
       "\n",
       "    .dataframe thead th {\n",
       "        text-align: right;\n",
       "    }\n",
       "</style>\n",
       "<table border=\"1\" class=\"dataframe\">\n",
       "  <thead>\n",
       "    <tr style=\"text-align: right;\">\n",
       "      <th></th>\n",
       "      <th>data_type</th>\n",
       "      <th>data_type_grp</th>\n",
       "      <th>num_unique_values</th>\n",
       "      <th>sample_unique_values</th>\n",
       "      <th>num_missing</th>\n",
       "      <th>perc_missing</th>\n",
       "    </tr>\n",
       "  </thead>\n",
       "  <tbody>\n",
       "    <tr>\n",
       "      <th>id</th>\n",
       "      <td>object</td>\n",
       "      <td>Categorical</td>\n",
       "      <td>99996</td>\n",
       "      <td>[fwXo0, WJtFt, ovLUW, q6cA6, WPMUX, LzZXx, WBH...</td>\n",
       "      <td>0</td>\n",
       "      <td>0.0</td>\n",
       "    </tr>\n",
       "    <tr>\n",
       "      <th>f0</th>\n",
       "      <td>float64</td>\n",
       "      <td>Numerical</td>\n",
       "      <td>100000</td>\n",
       "      <td>[-1.1469870984179529, 0.2627779016539684, 0.19...</td>\n",
       "      <td>0</td>\n",
       "      <td>0.0</td>\n",
       "    </tr>\n",
       "    <tr>\n",
       "      <th>f1</th>\n",
       "      <td>float64</td>\n",
       "      <td>Numerical</td>\n",
       "      <td>100000</td>\n",
       "      <td>[0.9633279217162892, 0.2698389572803021, 0.289...</td>\n",
       "      <td>0</td>\n",
       "      <td>0.0</td>\n",
       "    </tr>\n",
       "    <tr>\n",
       "      <th>f2</th>\n",
       "      <td>float64</td>\n",
       "      <td>Numerical</td>\n",
       "      <td>100000</td>\n",
       "      <td>[-0.8289649221710994, -2.530186515492004, -5.5...</td>\n",
       "      <td>0</td>\n",
       "      <td>0.0</td>\n",
       "    </tr>\n",
       "    <tr>\n",
       "      <th>product</th>\n",
       "      <td>float64</td>\n",
       "      <td>Numerical</td>\n",
       "      <td>100000</td>\n",
       "      <td>[27.75867323073004, 56.06969663239464, 62.8719...</td>\n",
       "      <td>0</td>\n",
       "      <td>0.0</td>\n",
       "    </tr>\n",
       "  </tbody>\n",
       "</table>\n",
       "</div>"
      ],
      "text/plain": [
       "        data_type data_type_grp num_unique_values  \\\n",
       "id         object   Categorical             99996   \n",
       "f0        float64     Numerical            100000   \n",
       "f1        float64     Numerical            100000   \n",
       "f2        float64     Numerical            100000   \n",
       "product   float64     Numerical            100000   \n",
       "\n",
       "                                      sample_unique_values num_missing  \\\n",
       "id       [fwXo0, WJtFt, ovLUW, q6cA6, WPMUX, LzZXx, WBH...           0   \n",
       "f0       [-1.1469870984179529, 0.2627779016539684, 0.19...           0   \n",
       "f1       [0.9633279217162892, 0.2698389572803021, 0.289...           0   \n",
       "f2       [-0.8289649221710994, -2.530186515492004, -5.5...           0   \n",
       "product  [27.75867323073004, 56.06969663239464, 62.8719...           0   \n",
       "\n",
       "        perc_missing  \n",
       "id               0.0  \n",
       "f0               0.0  \n",
       "f1               0.0  \n",
       "f2               0.0  \n",
       "product          0.0  "
      ]
     },
     "metadata": {},
     "output_type": "display_data"
    }
   ],
   "source": [
    "for file_name in FILE_NAMES:\n",
    "    display(eda.df_info(raw_oil[file_name]))"
   ]
  },
  {
   "attachments": {},
   "cell_type": "markdown",
   "metadata": {},
   "source": [
    "Числовые распределения:"
   ]
  },
  {
   "cell_type": "code",
   "execution_count": 5,
   "metadata": {},
   "outputs": [
    {
     "data": {
      "text/html": [
       "<div>\n",
       "<style scoped>\n",
       "    .dataframe tbody tr th:only-of-type {\n",
       "        vertical-align: middle;\n",
       "    }\n",
       "\n",
       "    .dataframe tbody tr th {\n",
       "        vertical-align: top;\n",
       "    }\n",
       "\n",
       "    .dataframe thead th {\n",
       "        text-align: right;\n",
       "    }\n",
       "</style>\n",
       "<table border=\"1\" class=\"dataframe\">\n",
       "  <thead>\n",
       "    <tr style=\"text-align: right;\">\n",
       "      <th></th>\n",
       "      <th>count</th>\n",
       "      <th>mean</th>\n",
       "      <th>std</th>\n",
       "      <th>min</th>\n",
       "      <th>25%</th>\n",
       "      <th>50%</th>\n",
       "      <th>75%</th>\n",
       "      <th>max</th>\n",
       "    </tr>\n",
       "  </thead>\n",
       "  <tbody>\n",
       "    <tr>\n",
       "      <th>f0</th>\n",
       "      <td>100000.0</td>\n",
       "      <td>0.50</td>\n",
       "      <td>0.87</td>\n",
       "      <td>-1.41</td>\n",
       "      <td>-0.07</td>\n",
       "      <td>0.50</td>\n",
       "      <td>1.07</td>\n",
       "      <td>2.36</td>\n",
       "    </tr>\n",
       "    <tr>\n",
       "      <th>f1</th>\n",
       "      <td>100000.0</td>\n",
       "      <td>0.25</td>\n",
       "      <td>0.50</td>\n",
       "      <td>-0.85</td>\n",
       "      <td>-0.20</td>\n",
       "      <td>0.25</td>\n",
       "      <td>0.70</td>\n",
       "      <td>1.34</td>\n",
       "    </tr>\n",
       "    <tr>\n",
       "      <th>f2</th>\n",
       "      <td>100000.0</td>\n",
       "      <td>2.50</td>\n",
       "      <td>3.25</td>\n",
       "      <td>-12.09</td>\n",
       "      <td>0.29</td>\n",
       "      <td>2.52</td>\n",
       "      <td>4.72</td>\n",
       "      <td>16.00</td>\n",
       "    </tr>\n",
       "    <tr>\n",
       "      <th>product</th>\n",
       "      <td>100000.0</td>\n",
       "      <td>92.50</td>\n",
       "      <td>44.29</td>\n",
       "      <td>0.00</td>\n",
       "      <td>56.50</td>\n",
       "      <td>91.85</td>\n",
       "      <td>128.56</td>\n",
       "      <td>185.36</td>\n",
       "    </tr>\n",
       "  </tbody>\n",
       "</table>\n",
       "</div>"
      ],
      "text/plain": [
       "            count   mean    std    min    25%    50%     75%     max\n",
       "f0       100000.0   0.50   0.87  -1.41  -0.07   0.50    1.07    2.36\n",
       "f1       100000.0   0.25   0.50  -0.85  -0.20   0.25    0.70    1.34\n",
       "f2       100000.0   2.50   3.25 -12.09   0.29   2.52    4.72   16.00\n",
       "product  100000.0  92.50  44.29   0.00  56.50  91.85  128.56  185.36"
      ]
     },
     "metadata": {},
     "output_type": "display_data"
    },
    {
     "data": {
      "text/html": [
       "<div>\n",
       "<style scoped>\n",
       "    .dataframe tbody tr th:only-of-type {\n",
       "        vertical-align: middle;\n",
       "    }\n",
       "\n",
       "    .dataframe tbody tr th {\n",
       "        vertical-align: top;\n",
       "    }\n",
       "\n",
       "    .dataframe thead th {\n",
       "        text-align: right;\n",
       "    }\n",
       "</style>\n",
       "<table border=\"1\" class=\"dataframe\">\n",
       "  <thead>\n",
       "    <tr style=\"text-align: right;\">\n",
       "      <th></th>\n",
       "      <th>count</th>\n",
       "      <th>mean</th>\n",
       "      <th>std</th>\n",
       "      <th>min</th>\n",
       "      <th>25%</th>\n",
       "      <th>50%</th>\n",
       "      <th>75%</th>\n",
       "      <th>max</th>\n",
       "    </tr>\n",
       "  </thead>\n",
       "  <tbody>\n",
       "    <tr>\n",
       "      <th>f0</th>\n",
       "      <td>100000.0</td>\n",
       "      <td>1.14</td>\n",
       "      <td>8.97</td>\n",
       "      <td>-31.61</td>\n",
       "      <td>-6.30</td>\n",
       "      <td>1.15</td>\n",
       "      <td>8.62</td>\n",
       "      <td>29.42</td>\n",
       "    </tr>\n",
       "    <tr>\n",
       "      <th>f1</th>\n",
       "      <td>100000.0</td>\n",
       "      <td>-4.80</td>\n",
       "      <td>5.12</td>\n",
       "      <td>-26.36</td>\n",
       "      <td>-8.27</td>\n",
       "      <td>-4.81</td>\n",
       "      <td>-1.33</td>\n",
       "      <td>18.73</td>\n",
       "    </tr>\n",
       "    <tr>\n",
       "      <th>f2</th>\n",
       "      <td>100000.0</td>\n",
       "      <td>2.49</td>\n",
       "      <td>1.70</td>\n",
       "      <td>-0.02</td>\n",
       "      <td>1.00</td>\n",
       "      <td>2.01</td>\n",
       "      <td>4.00</td>\n",
       "      <td>5.02</td>\n",
       "    </tr>\n",
       "    <tr>\n",
       "      <th>product</th>\n",
       "      <td>100000.0</td>\n",
       "      <td>68.83</td>\n",
       "      <td>45.94</td>\n",
       "      <td>0.00</td>\n",
       "      <td>26.95</td>\n",
       "      <td>57.09</td>\n",
       "      <td>107.81</td>\n",
       "      <td>137.95</td>\n",
       "    </tr>\n",
       "  </tbody>\n",
       "</table>\n",
       "</div>"
      ],
      "text/plain": [
       "            count   mean    std    min    25%    50%     75%     max\n",
       "f0       100000.0   1.14   8.97 -31.61  -6.30   1.15    8.62   29.42\n",
       "f1       100000.0  -4.80   5.12 -26.36  -8.27  -4.81   -1.33   18.73\n",
       "f2       100000.0   2.49   1.70  -0.02   1.00   2.01    4.00    5.02\n",
       "product  100000.0  68.83  45.94   0.00  26.95  57.09  107.81  137.95"
      ]
     },
     "metadata": {},
     "output_type": "display_data"
    },
    {
     "data": {
      "text/html": [
       "<div>\n",
       "<style scoped>\n",
       "    .dataframe tbody tr th:only-of-type {\n",
       "        vertical-align: middle;\n",
       "    }\n",
       "\n",
       "    .dataframe tbody tr th {\n",
       "        vertical-align: top;\n",
       "    }\n",
       "\n",
       "    .dataframe thead th {\n",
       "        text-align: right;\n",
       "    }\n",
       "</style>\n",
       "<table border=\"1\" class=\"dataframe\">\n",
       "  <thead>\n",
       "    <tr style=\"text-align: right;\">\n",
       "      <th></th>\n",
       "      <th>count</th>\n",
       "      <th>mean</th>\n",
       "      <th>std</th>\n",
       "      <th>min</th>\n",
       "      <th>25%</th>\n",
       "      <th>50%</th>\n",
       "      <th>75%</th>\n",
       "      <th>max</th>\n",
       "    </tr>\n",
       "  </thead>\n",
       "  <tbody>\n",
       "    <tr>\n",
       "      <th>f0</th>\n",
       "      <td>100000.0</td>\n",
       "      <td>0.0</td>\n",
       "      <td>1.73</td>\n",
       "      <td>-8.76</td>\n",
       "      <td>-1.16</td>\n",
       "      <td>0.01</td>\n",
       "      <td>1.16</td>\n",
       "      <td>7.24</td>\n",
       "    </tr>\n",
       "    <tr>\n",
       "      <th>f1</th>\n",
       "      <td>100000.0</td>\n",
       "      <td>-0.0</td>\n",
       "      <td>1.73</td>\n",
       "      <td>-7.08</td>\n",
       "      <td>-1.17</td>\n",
       "      <td>-0.01</td>\n",
       "      <td>1.16</td>\n",
       "      <td>7.84</td>\n",
       "    </tr>\n",
       "    <tr>\n",
       "      <th>f2</th>\n",
       "      <td>100000.0</td>\n",
       "      <td>2.5</td>\n",
       "      <td>3.47</td>\n",
       "      <td>-11.97</td>\n",
       "      <td>0.13</td>\n",
       "      <td>2.48</td>\n",
       "      <td>4.86</td>\n",
       "      <td>16.74</td>\n",
       "    </tr>\n",
       "    <tr>\n",
       "      <th>product</th>\n",
       "      <td>100000.0</td>\n",
       "      <td>95.0</td>\n",
       "      <td>44.75</td>\n",
       "      <td>0.00</td>\n",
       "      <td>59.45</td>\n",
       "      <td>94.93</td>\n",
       "      <td>130.60</td>\n",
       "      <td>190.03</td>\n",
       "    </tr>\n",
       "  </tbody>\n",
       "</table>\n",
       "</div>"
      ],
      "text/plain": [
       "            count  mean    std    min    25%    50%     75%     max\n",
       "f0       100000.0   0.0   1.73  -8.76  -1.16   0.01    1.16    7.24\n",
       "f1       100000.0  -0.0   1.73  -7.08  -1.17  -0.01    1.16    7.84\n",
       "f2       100000.0   2.5   3.47 -11.97   0.13   2.48    4.86   16.74\n",
       "product  100000.0  95.0  44.75   0.00  59.45  94.93  130.60  190.03"
      ]
     },
     "metadata": {},
     "output_type": "display_data"
    }
   ],
   "source": [
    "for file_name in FILE_NAMES:\n",
    "    display(round(raw_oil[file_name].describe().T, 2))"
   ]
  },
  {
   "attachments": {},
   "cell_type": "markdown",
   "metadata": {},
   "source": [
    "И детальный отчет:"
   ]
  },
  {
   "cell_type": "code",
   "execution_count": 6,
   "metadata": {},
   "outputs": [
    {
     "name": "stderr",
     "output_type": "stream",
     "text": [
      "Summarize dataset: 100%|██████████| 30/30 [00:03<00:00,  9.27it/s, Completed]                \n",
      "Generate report structure: 100%|██████████| 1/1 [00:01<00:00,  1.51s/it]\n",
      "Render widgets:   0%|          | 0/1 [00:00<?, ?it/s]"
     ]
    },
    {
     "name": "stderr",
     "output_type": "stream",
     "text": [
      "                                                             \r"
     ]
    },
    {
     "data": {
      "application/vnd.jupyter.widget-view+json": {
       "model_id": "fe9562e4c9bd46e2b177c84bfd99c3a0",
       "version_major": 2,
       "version_minor": 0
      },
      "text/plain": [
       "VBox(children=(Tab(children=(Tab(children=(GridBox(children=(VBox(children=(GridspecLayout(children=(HTML(valu…"
      ]
     },
     "metadata": {},
     "output_type": "display_data"
    },
    {
     "name": "stderr",
     "output_type": "stream",
     "text": [
      "Summarize dataset: 100%|██████████| 30/30 [00:02<00:00, 10.70it/s, Completed]                \n",
      "Generate report structure: 100%|██████████| 1/1 [00:01<00:00,  1.57s/it]\n",
      "Render widgets:   0%|          | 0/1 [00:00<?, ?it/s]"
     ]
    },
    {
     "name": "stderr",
     "output_type": "stream",
     "text": [
      "                                                             \r"
     ]
    },
    {
     "data": {
      "application/vnd.jupyter.widget-view+json": {
       "model_id": "7890166bec314e13b99c0bca9957f480",
       "version_major": 2,
       "version_minor": 0
      },
      "text/plain": [
       "VBox(children=(Tab(children=(Tab(children=(GridBox(children=(VBox(children=(GridspecLayout(children=(HTML(valu…"
      ]
     },
     "metadata": {},
     "output_type": "display_data"
    },
    {
     "name": "stderr",
     "output_type": "stream",
     "text": [
      "Summarize dataset: 100%|██████████| 30/30 [00:03<00:00,  8.27it/s, Completed]                \n",
      "Generate report structure: 100%|██████████| 1/1 [00:01<00:00,  1.58s/it]\n",
      "Render widgets:   0%|          | 0/1 [00:00<?, ?it/s]"
     ]
    },
    {
     "name": "stderr",
     "output_type": "stream",
     "text": [
      "                                                             \r"
     ]
    },
    {
     "data": {
      "application/vnd.jupyter.widget-view+json": {
       "model_id": "c845d1510fe942a18fc10a1f37d62789",
       "version_major": 2,
       "version_minor": 0
      },
      "text/plain": [
       "VBox(children=(Tab(children=(Tab(children=(GridBox(children=(VBox(children=(GridspecLayout(children=(HTML(valu…"
      ]
     },
     "metadata": {},
     "output_type": "display_data"
    }
   ],
   "source": [
    "for file_name in FILE_NAMES:\n",
    "    ProfileReport(raw_oil[file_name]).to_widgets()"
   ]
  },
  {
   "attachments": {},
   "cell_type": "markdown",
   "metadata": {},
   "source": [
    "Ключевые наблюдения из предварительного анализа набора данных:\n",
    "\n",
    "1. **Качество данных и типы**: Все три набора данных полные и не имеют пропущенных значений в признаках. Это хорошо, поскольку нам не придется заполнять пропуски, и мы можем прямо переходить к анализу и построению модели. Все наборы данных имеют один категориальный признак `id` и четыре числовых признака: `f0`, `f1`, `f2` и `product`. В дальнейшем `id` можно отбросить, потому что с точки зрения модели, нам не нужен уникальный индентификтор скважины.\n",
    "\n",
    "2. **Уникальные значения**: Количество уникальных значений в `product` удивительно низкое в наборе данных 2: здесь всего 12 уникальных значений по сравнению с 100 000 в двух других наборах данных. Это может указывать на различия в характере данных в наборе данных 2. Возможно, это связано с тем, как данные были собраны.\n",
    "\n",
    "3. **Распределение данных**: Большинство значений в колонках расперелены нормально, хотя есть несколько выдяляющихся (например, `f0` в первом датасете). Также, в датасете 2 распределение `f2` и `product` сильно отличается от других. Более того, возможно есть какие-то сложные нелинейные зависимости между различными колонками (например, в датасете 1 мы видим два полумесяца для `f0` vs `f1`).\n",
    "\n",
    "4. **Корреляция**: Корреляция между признаками варьируется в разных наборах данных. В наборе данных 1 заметна отрицательная корреляция между `f0` и `f1`. В наборе данных 2 `f2` показывает очень сильную положительную корреляцию с `product`, что указывает на то, что `f2` может быть значимым предиктором для `product` в этом наборе данных. В наборе данных 3 все корреляции очень слабые, что указывает на менее прямолинейную связь между переменными."
   ]
  },
  {
   "attachments": {},
   "cell_type": "markdown",
   "metadata": {},
   "source": [
    "# Обучение ML моделей\n",
    "\n",
    "Выполним преобразования на этих датасетах - уберем колонки, которые не нужны для моделей: `id`.\n",
    "\n",
    "И после разделения на выборки, чтобы избежать data leakage - проведем стандартизацию численных признаков.\n",
    "\n",
    "Наконец, обучим `LogisticRegression` модель для каждого датасета."
   ]
  },
  {
   "cell_type": "code",
   "execution_count": 9,
   "metadata": {},
   "outputs": [],
   "source": [
    "dct_oil = defaultdict(dict)\n",
    "dct_splits = defaultdict(dict)\n",
    "dct_models = defaultdict(dict)    "
   ]
  },
  {
   "cell_type": "code",
   "execution_count": 30,
   "metadata": {},
   "outputs": [],
   "source": [
    "# Define the pipeline\n",
    "pipeline = Pipeline([\n",
    "    ('scaler', StandardScaler()),\n",
    "    ('model', LinearRegression())\n",
    "])\n",
    "\n",
    "# Apply transformations\n",
    "for file_name in FILE_NAMES:\n",
    "    \n",
    "    dct_oil[file_name] = raw_oil[file_name].drop('id', axis=1)\n",
    "    \n",
    "    ftr_train, ftr_valid, tgt_train, tgt_valid = train_test_split(\n",
    "        dct_oil[file_name].drop('product', axis=1), dct_oil[file_name]['product'],\n",
    "        test_size=0.25, random_state=RANDOM_SEED\n",
    "    )\n",
    "    \n",
    "    pipeline.fit(ftr_train, tgt_train)\n",
    "    \n",
    "    dct_models[file_name] = pipeline\n",
    "    \n",
    "    dct_splits[file_name] = {\n",
    "        'ftr_train': pd.DataFrame(ftr_train, columns=ftr_train.columns),\n",
    "        'ftr_valid': pd.DataFrame(ftr_valid, columns=ftr_valid.columns),\n",
    "        'tgt_train': pd.DataFrame(tgt_train, columns=['product']),\n",
    "        'tgt_valid': pd.DataFrame(tgt_valid, columns=['product']),\n",
    "        'tgt_prdct': pd.DataFrame(pipeline.predict(ftr_valid), index=ftr_valid.index, columns=['product'])\n",
    "    }"
   ]
  },
  {
   "cell_type": "code",
   "execution_count": 31,
   "metadata": {},
   "outputs": [
    {
     "data": {
      "text/plain": [
       "defaultdict(dict,\n",
       "            {'geo_data_0': Pipeline(steps=[('scaler', StandardScaler()), ('model', LinearRegression())]),\n",
       "             'geo_data_1': Pipeline(steps=[('scaler', StandardScaler()), ('model', LinearRegression())]),\n",
       "             'geo_data_2': Pipeline(steps=[('scaler', StandardScaler()), ('model', LinearRegression())])})"
      ]
     },
     "execution_count": 31,
     "metadata": {},
     "output_type": "execute_result"
    }
   ],
   "source": [
    "dct_models"
   ]
  },
  {
   "cell_type": "code",
   "execution_count": 32,
   "metadata": {},
   "outputs": [
    {
     "data": {
      "text/html": [
       "<div>\n",
       "<style scoped>\n",
       "    .dataframe tbody tr th:only-of-type {\n",
       "        vertical-align: middle;\n",
       "    }\n",
       "\n",
       "    .dataframe tbody tr th {\n",
       "        vertical-align: top;\n",
       "    }\n",
       "\n",
       "    .dataframe thead th {\n",
       "        text-align: right;\n",
       "    }\n",
       "</style>\n",
       "<table border=\"1\" class=\"dataframe\">\n",
       "  <thead>\n",
       "    <tr style=\"text-align: right;\">\n",
       "      <th></th>\n",
       "      <th>product</th>\n",
       "    </tr>\n",
       "  </thead>\n",
       "  <tbody>\n",
       "    <tr>\n",
       "      <th>75721</th>\n",
       "      <td>98.301916</td>\n",
       "    </tr>\n",
       "    <tr>\n",
       "      <th>80184</th>\n",
       "      <td>101.592461</td>\n",
       "    </tr>\n",
       "    <tr>\n",
       "      <th>19864</th>\n",
       "      <td>52.449099</td>\n",
       "    </tr>\n",
       "    <tr>\n",
       "      <th>76699</th>\n",
       "      <td>109.922127</td>\n",
       "    </tr>\n",
       "    <tr>\n",
       "      <th>92991</th>\n",
       "      <td>72.411847</td>\n",
       "    </tr>\n",
       "    <tr>\n",
       "      <th>...</th>\n",
       "      <td>...</td>\n",
       "    </tr>\n",
       "    <tr>\n",
       "      <th>21271</th>\n",
       "      <td>102.764169</td>\n",
       "    </tr>\n",
       "    <tr>\n",
       "      <th>34014</th>\n",
       "      <td>93.431823</td>\n",
       "    </tr>\n",
       "    <tr>\n",
       "      <th>81355</th>\n",
       "      <td>64.098390</td>\n",
       "    </tr>\n",
       "    <tr>\n",
       "      <th>65720</th>\n",
       "      <td>83.764135</td>\n",
       "    </tr>\n",
       "    <tr>\n",
       "      <th>11627</th>\n",
       "      <td>86.558644</td>\n",
       "    </tr>\n",
       "  </tbody>\n",
       "</table>\n",
       "<p>25000 rows × 1 columns</p>\n",
       "</div>"
      ],
      "text/plain": [
       "          product\n",
       "75721   98.301916\n",
       "80184  101.592461\n",
       "19864   52.449099\n",
       "76699  109.922127\n",
       "92991   72.411847\n",
       "...           ...\n",
       "21271  102.764169\n",
       "34014   93.431823\n",
       "81355   64.098390\n",
       "65720   83.764135\n",
       "11627   86.558644\n",
       "\n",
       "[25000 rows x 1 columns]"
      ]
     },
     "execution_count": 32,
     "metadata": {},
     "output_type": "execute_result"
    }
   ],
   "source": [
    "dct_splits[file_name]['tgt_prdct']"
   ]
  }
 ],
 "metadata": {
  "ExecuteTimeLog": [
   {
    "duration": 1605,
    "start_time": "2023-05-21T19:46:45.978Z"
   },
   {
    "duration": 35,
    "start_time": "2023-05-21T19:46:52.071Z"
   },
   {
    "duration": 836,
    "start_time": "2023-05-21T19:46:54.792Z"
   },
   {
    "duration": 168,
    "start_time": "2023-05-21T19:48:12.739Z"
   },
   {
    "duration": 73,
    "start_time": "2023-05-21T19:48:16.311Z"
   },
   {
    "duration": 24,
    "start_time": "2023-05-21T19:48:16.386Z"
   },
   {
    "duration": 360,
    "start_time": "2023-05-21T19:48:16.412Z"
   },
   {
    "duration": 6,
    "start_time": "2023-05-21T19:48:16.774Z"
   },
   {
    "duration": 321,
    "start_time": "2023-05-21T19:48:16.781Z"
   },
   {
    "duration": 64,
    "start_time": "2023-05-21T19:48:17.103Z"
   },
   {
    "duration": 12362,
    "start_time": "2023-05-21T19:48:22.972Z"
   },
   {
    "duration": 108,
    "start_time": "2023-05-21T19:48:35.337Z"
   },
   {
    "duration": 1385,
    "start_time": "2023-05-22T18:16:08.557Z"
   },
   {
    "duration": 37,
    "start_time": "2023-05-22T18:16:09.944Z"
   },
   {
    "duration": 865,
    "start_time": "2023-05-22T18:16:09.983Z"
   },
   {
    "duration": 9,
    "start_time": "2023-05-22T18:16:10.849Z"
   },
   {
    "duration": 119,
    "start_time": "2023-05-22T18:16:10.860Z"
   },
   {
    "duration": 0,
    "start_time": "2023-05-22T18:16:10.982Z"
   },
   {
    "duration": 0,
    "start_time": "2023-05-22T18:16:10.984Z"
   },
   {
    "duration": 0,
    "start_time": "2023-05-22T18:16:10.986Z"
   },
   {
    "duration": 0,
    "start_time": "2023-05-22T18:16:10.989Z"
   },
   {
    "duration": 0,
    "start_time": "2023-05-22T18:16:10.990Z"
   },
   {
    "duration": 0,
    "start_time": "2023-05-22T18:16:10.991Z"
   },
   {
    "duration": 0,
    "start_time": "2023-05-22T18:16:10.993Z"
   },
   {
    "duration": 2493,
    "start_time": "2023-05-22T18:16:36.511Z"
   },
   {
    "duration": 2398,
    "start_time": "2023-05-22T18:16:49.695Z"
   },
   {
    "duration": 9,
    "start_time": "2023-05-22T18:18:55.751Z"
   },
   {
    "duration": 9,
    "start_time": "2023-05-22T18:19:30.158Z"
   },
   {
    "duration": 11,
    "start_time": "2023-05-22T18:20:12.910Z"
   },
   {
    "duration": 9,
    "start_time": "2023-05-22T18:20:21.983Z"
   },
   {
    "duration": 77,
    "start_time": "2023-05-22T18:20:32.174Z"
   },
   {
    "duration": 87,
    "start_time": "2023-05-22T18:20:35.022Z"
   },
   {
    "duration": 10,
    "start_time": "2023-05-22T18:20:41.677Z"
   },
   {
    "duration": 11,
    "start_time": "2023-05-22T18:21:11.639Z"
   },
   {
    "duration": 9,
    "start_time": "2023-05-22T18:21:20.782Z"
   },
   {
    "duration": 8,
    "start_time": "2023-05-22T18:23:28.845Z"
   },
   {
    "duration": 13,
    "start_time": "2023-05-22T18:23:42.013Z"
   },
   {
    "duration": 10,
    "start_time": "2023-05-22T18:25:45.151Z"
   },
   {
    "duration": 33,
    "start_time": "2023-05-22T18:29:58.816Z"
   },
   {
    "duration": 45,
    "start_time": "2023-05-22T18:30:04.874Z"
   },
   {
    "duration": 9,
    "start_time": "2023-05-22T18:30:19.373Z"
   },
   {
    "duration": 29,
    "start_time": "2023-05-22T18:30:24.428Z"
   },
   {
    "duration": 9,
    "start_time": "2023-05-22T18:30:28.442Z"
   },
   {
    "duration": 70,
    "start_time": "2023-05-22T18:30:47.915Z"
   },
   {
    "duration": 9,
    "start_time": "2023-05-22T18:30:50.837Z"
   },
   {
    "duration": 11,
    "start_time": "2023-05-22T18:30:54.031Z"
   },
   {
    "duration": 12,
    "start_time": "2023-05-22T18:31:03.340Z"
   },
   {
    "duration": 9,
    "start_time": "2023-05-22T18:31:06.987Z"
   },
   {
    "duration": 9,
    "start_time": "2023-05-22T18:31:08.197Z"
   },
   {
    "duration": 26,
    "start_time": "2023-05-22T18:31:09.340Z"
   },
   {
    "duration": 179,
    "start_time": "2023-05-22T18:31:26.445Z"
   },
   {
    "duration": 1293,
    "start_time": "2023-05-22T18:31:50.893Z"
   },
   {
    "duration": 17,
    "start_time": "2023-05-22T18:31:52.188Z"
   },
   {
    "duration": 25,
    "start_time": "2023-05-22T18:31:52.207Z"
   },
   {
    "duration": 27,
    "start_time": "2023-05-22T18:31:52.234Z"
   },
   {
    "duration": 773,
    "start_time": "2023-05-22T18:31:52.263Z"
   },
   {
    "duration": 9,
    "start_time": "2023-05-22T18:31:53.037Z"
   },
   {
    "duration": 2404,
    "start_time": "2023-05-22T18:31:53.048Z"
   },
   {
    "duration": 184,
    "start_time": "2023-05-22T18:31:55.453Z"
   },
   {
    "duration": 0,
    "start_time": "2023-05-22T18:31:55.638Z"
   },
   {
    "duration": 0,
    "start_time": "2023-05-22T18:31:55.640Z"
   },
   {
    "duration": 0,
    "start_time": "2023-05-22T18:31:55.640Z"
   },
   {
    "duration": 0,
    "start_time": "2023-05-22T18:31:55.642Z"
   },
   {
    "duration": 0,
    "start_time": "2023-05-22T18:31:55.643Z"
   },
   {
    "duration": 0,
    "start_time": "2023-05-22T18:31:55.644Z"
   },
   {
    "duration": 13,
    "start_time": "2023-05-22T18:34:11.456Z"
   },
   {
    "duration": 25,
    "start_time": "2023-05-22T18:34:14.034Z"
   },
   {
    "duration": 2245,
    "start_time": "2023-05-22T18:34:26.018Z"
   },
   {
    "duration": 638,
    "start_time": "2023-05-22T18:34:37.931Z"
   },
   {
    "duration": 628,
    "start_time": "2023-05-22T18:34:58.575Z"
   },
   {
    "duration": 46,
    "start_time": "2023-05-22T18:35:11.934Z"
   },
   {
    "duration": 2240,
    "start_time": "2023-05-22T18:35:58.893Z"
   },
   {
    "duration": 46,
    "start_time": "2023-05-22T18:36:10.737Z"
   },
   {
    "duration": 35006,
    "start_time": "2023-05-22T18:43:11.984Z"
   },
   {
    "duration": 72,
    "start_time": "2023-05-22T18:44:58.325Z"
   },
   {
    "duration": 60,
    "start_time": "2023-05-22T18:45:29.078Z"
   },
   {
    "duration": 110,
    "start_time": "2023-05-22T18:46:32.716Z"
   },
   {
    "duration": 17,
    "start_time": "2023-05-22T18:48:06.773Z"
   },
   {
    "duration": 29,
    "start_time": "2023-05-22T18:48:19.134Z"
   },
   {
    "duration": 1344,
    "start_time": "2023-05-22T18:48:49.944Z"
   },
   {
    "duration": 22,
    "start_time": "2023-05-22T18:48:51.291Z"
   },
   {
    "duration": 16,
    "start_time": "2023-05-22T18:48:51.315Z"
   },
   {
    "duration": 26,
    "start_time": "2023-05-22T18:48:51.333Z"
   },
   {
    "duration": 711,
    "start_time": "2023-05-22T18:48:51.362Z"
   },
   {
    "duration": 9,
    "start_time": "2023-05-22T18:48:52.074Z"
   },
   {
    "duration": 2355,
    "start_time": "2023-05-22T18:48:52.085Z"
   },
   {
    "duration": 46,
    "start_time": "2023-05-22T18:48:54.442Z"
   },
   {
    "duration": 200,
    "start_time": "2023-05-22T18:48:54.489Z"
   },
   {
    "duration": 0,
    "start_time": "2023-05-22T18:48:54.691Z"
   },
   {
    "duration": 0,
    "start_time": "2023-05-22T18:48:54.693Z"
   },
   {
    "duration": 0,
    "start_time": "2023-05-22T18:48:54.694Z"
   },
   {
    "duration": 0,
    "start_time": "2023-05-22T18:48:54.695Z"
   },
   {
    "duration": 0,
    "start_time": "2023-05-22T18:48:54.696Z"
   },
   {
    "duration": 35180,
    "start_time": "2023-05-22T18:49:14.678Z"
   },
   {
    "duration": 29,
    "start_time": "2023-05-22T18:51:33.684Z"
   },
   {
    "duration": 36161,
    "start_time": "2023-05-22T18:59:42.601Z"
   },
   {
    "duration": 29,
    "start_time": "2023-05-22T19:00:25.095Z"
   },
   {
    "duration": 1322,
    "start_time": "2023-05-22T19:00:47.296Z"
   },
   {
    "duration": 1470,
    "start_time": "2023-05-22T19:01:46.489Z"
   },
   {
    "duration": 25,
    "start_time": "2023-05-22T19:02:02.352Z"
   },
   {
    "duration": 25,
    "start_time": "2023-05-22T19:02:11.960Z"
   },
   {
    "duration": 1220,
    "start_time": "2023-05-22T19:02:35.260Z"
   },
   {
    "duration": 6,
    "start_time": "2023-05-22T19:02:45.317Z"
   },
   {
    "duration": 13,
    "start_time": "2023-05-22T19:02:50.617Z"
   },
   {
    "duration": 13,
    "start_time": "2023-05-22T19:02:53.456Z"
   },
   {
    "duration": 30,
    "start_time": "2023-05-22T19:02:57.872Z"
   },
   {
    "duration": 1464,
    "start_time": "2023-05-22T19:03:02.297Z"
   },
   {
    "duration": 14,
    "start_time": "2023-05-22T19:03:10.960Z"
   },
   {
    "duration": 17,
    "start_time": "2023-05-22T19:03:28.776Z"
   },
   {
    "duration": 22,
    "start_time": "2023-05-22T19:03:33.560Z"
   },
   {
    "duration": 118,
    "start_time": "2023-05-22T19:03:46.106Z"
   },
   {
    "duration": 194,
    "start_time": "2023-05-22T19:05:43.456Z"
   },
   {
    "duration": 223,
    "start_time": "2023-05-22T19:06:06.752Z"
   },
   {
    "duration": 4,
    "start_time": "2023-05-22T19:06:09.856Z"
   },
   {
    "duration": 13,
    "start_time": "2023-05-22T19:08:23.155Z"
   },
   {
    "duration": 48,
    "start_time": "2023-05-22T19:08:27.164Z"
   },
   {
    "duration": 206,
    "start_time": "2023-05-22T19:08:48.168Z"
   },
   {
    "duration": 21,
    "start_time": "2023-05-22T19:08:51.352Z"
   },
   {
    "duration": 50,
    "start_time": "2023-05-22T19:09:09.387Z"
   },
   {
    "duration": 79,
    "start_time": "2023-05-22T19:11:42.417Z"
   },
   {
    "duration": 42,
    "start_time": "2023-05-22T19:11:44.002Z"
   },
   {
    "duration": 98,
    "start_time": "2023-05-22T19:11:52.163Z"
   },
   {
    "duration": 42,
    "start_time": "2023-05-22T19:11:53.777Z"
   },
   {
    "duration": 122,
    "start_time": "2023-05-22T19:12:02.124Z"
   },
   {
    "duration": 43,
    "start_time": "2023-05-22T19:12:03.660Z"
   },
   {
    "duration": 134,
    "start_time": "2023-05-22T19:12:12.560Z"
   },
   {
    "duration": 49,
    "start_time": "2023-05-22T19:12:13.873Z"
   },
   {
    "duration": 155,
    "start_time": "2023-05-22T19:12:23.064Z"
   },
   {
    "duration": 48,
    "start_time": "2023-05-22T19:12:25.472Z"
   },
   {
    "duration": 204,
    "start_time": "2023-05-22T19:12:41.581Z"
   },
   {
    "duration": 55,
    "start_time": "2023-05-22T19:12:43.242Z"
   },
   {
    "duration": 2488,
    "start_time": "2023-05-22T19:12:51.360Z"
   },
   {
    "duration": 41,
    "start_time": "2023-05-22T19:12:54.281Z"
   },
   {
    "duration": 12,
    "start_time": "2023-05-22T19:13:13.504Z"
   },
   {
    "duration": 131,
    "start_time": "2023-05-22T19:13:36.504Z"
   },
   {
    "duration": 46,
    "start_time": "2023-05-22T19:13:38.017Z"
   },
   {
    "duration": 15,
    "start_time": "2023-05-22T19:14:18.176Z"
   },
   {
    "duration": 6,
    "start_time": "2023-05-22T19:14:23.481Z"
   },
   {
    "duration": 12,
    "start_time": "2023-05-22T19:14:25.159Z"
   },
   {
    "duration": 22,
    "start_time": "2023-05-22T19:14:26.767Z"
   },
   {
    "duration": 68,
    "start_time": "2023-05-22T19:14:31.816Z"
   },
   {
    "duration": 49,
    "start_time": "2023-05-22T19:14:40.818Z"
   }
  ],
  "kernelspec": {
   "display_name": "Python 3 (ipykernel)",
   "language": "python",
   "name": "python3"
  },
  "language_info": {
   "codemirror_mode": {
    "name": "ipython",
    "version": 3
   },
   "file_extension": ".py",
   "mimetype": "text/x-python",
   "name": "python",
   "nbconvert_exporter": "python",
   "pygments_lexer": "ipython3",
   "version": "3.9.7"
  },
  "toc": {
   "base_numbering": 1,
   "nav_menu": {},
   "number_sections": true,
   "sideBar": true,
   "skip_h1_title": true,
   "title_cell": "Table of Contents",
   "title_sidebar": "Contents",
   "toc_cell": false,
   "toc_position": {},
   "toc_section_display": true,
   "toc_window_display": false
  },
  "vscode": {
   "interpreter": {
    "hash": "95633e14b7ea774968f538ab8687a60d358136f4a990a7903a22cc539dc1dcdb"
   }
  }
 },
 "nbformat": 4,
 "nbformat_minor": 2
}
