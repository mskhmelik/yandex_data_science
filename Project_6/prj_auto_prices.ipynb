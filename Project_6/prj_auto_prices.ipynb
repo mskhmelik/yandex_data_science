{
 "cells": [
  {
   "attachments": {},
   "cell_type": "markdown",
   "metadata": {},
   "source": [
    "# Предсказание цен на авто\n",
    "\n",
    "**Описание проекта**\n",
    "\n",
    "Сервис по продаже автомобилей с пробегом «Не бит, не крашен» разрабатывает приложение для привлечения новых клиентов. В нём можно быстро узнать рыночную стоимость своего автомобиля. В вашем распоряжении исторические данные: технические характеристики, комплектации и цены автомобилей. Вам нужно построить модель для определения стоимости. \n",
    "\n",
    "Заказчику важны:\n",
    "1. Качество предсказания.\n",
    "2. Скорость предсказания.\n",
    "3. Время обучения.\n",
    "\n",
    "**Инструкция по выполнению проекта**\n",
    "\n",
    "Чтобы усилить исследование, не ограничивайтесь градиентным бустингом. Попробуйте более простые модели — иногда они работают лучше. Это редкие случаи, которые легко пропустить, если всегда применять только бустинг. Поэкспериментируйте и сравните характеристики моделей: скорость работы, точность результата.\n",
    "\n",
    "План работы:\n",
    "1. Загрузите и подготовьте данные.\n",
    "2. Обучите разные модели. Для каждой попробуйте различные гиперпараметры.\n",
    "3. Проанализируйте скорость работы и качество моделей.\n",
    "4. Для оценки качества моделей применяйте метрику RMSE.\n",
    "\n",
    "**Описание данных**\n",
    "\n",
    "Данные находятся в файле `/datasets/autos.csv`.\n",
    "\n",
    "Признаки:\n",
    "1. `DateCrawled` — дата скачивания анкеты из базы\n",
    "2. `VehicleType` — тип автомобильного кузова\n",
    "3. `RegistrationYear` — год регистрации автомобиля\n",
    "4. `Gearbox` — тип коробки передач\n",
    "5. `Power` — мощность (л. с.)\n",
    "6. `Model` — модель автомобиля\n",
    "7. `Kilometer` — пробег (км)\n",
    "8. `RegistrationMonth` — месяц регистрации автомобиля\n",
    "9. `FuelType` — тип топлива\n",
    "10. `Brand` — марка автомобиля\n",
    "11. `NotRepaired` — была машина в ремонте или нет\n",
    "12. `DateCreated` — дата создания анкеты\n",
    "13. `NumberOfPictures` — количество фотографий автомобиля\n",
    "14. `PostalCode` — почтовый индекс владельца анкеты (пользователя)\n",
    "15. `LastSeen` — дата последней активности пользователя\n",
    "\n",
    "Целевой признак:\n",
    "1. `Price` — цена (евро)"
   ]
  },
  {
   "cell_type": "code",
   "execution_count": 1,
   "metadata": {},
   "outputs": [],
   "source": [
    "import pandas as pd\n",
    "import numpy as np\n",
    "import miceforest as mf\n",
    "\n",
    "from time import time\n",
    "from fast_ml import eda\n",
    "from ydata_profiling import ProfileReport\n",
    "from caseconverter import snakecase\n",
    "from IPython.display import display\n",
    "\n",
    "from sklearn.model_selection import train_test_split\n",
    "\n",
    "from sklearn.pipeline import Pipeline\n",
    "from sklearn.compose import ColumnTransformer\n",
    "from sklearn.preprocessing import StandardScaler\n",
    "from category_encoders import MEstimateEncoder\n",
    "\n",
    "from sklearn.dummy import DummyRegressor\n",
    "from sklearn.linear_model import LinearRegression\n",
    "from sklearn.ensemble import RandomForestRegressor\n",
    "from catboost import CatBoostRegressor\n",
    "from lightgbm import LGBMRegressor\n",
    "\n",
    "from sklearn.model_selection import cross_val_score"
   ]
  },
  {
   "cell_type": "code",
   "execution_count": 2,
   "metadata": {},
   "outputs": [],
   "source": [
    "FIG_WIDTH = 10 * 100\n",
    "FIG_HEIGHT = 5 * 100\n",
    "RANDOM_SEED = 42"
   ]
  },
  {
   "cell_type": "code",
   "execution_count": 3,
   "metadata": {},
   "outputs": [],
   "source": [
    "try:\n",
    "    raw_autos = pd.read_csv('autos.csv')\n",
    "except:\n",
    "    raw_autos = pd.read_csv('/datasets/autos.csv')"
   ]
  },
  {
   "attachments": {},
   "cell_type": "markdown",
   "metadata": {},
   "source": [
    "## Исследовательский анализ данных\n",
    "\n",
    "Изучим основные зависимости в данных перед тем, как мы будем использовать их в алгоритмах машинного обучения.\n",
    "\n",
    "Таблица-резюме:"
   ]
  },
  {
   "cell_type": "code",
   "execution_count": 4,
   "metadata": {},
   "outputs": [
    {
     "data": {
      "text/html": [
       "<div>\n",
       "<style scoped>\n",
       "    .dataframe tbody tr th:only-of-type {\n",
       "        vertical-align: middle;\n",
       "    }\n",
       "\n",
       "    .dataframe tbody tr th {\n",
       "        vertical-align: top;\n",
       "    }\n",
       "\n",
       "    .dataframe thead th {\n",
       "        text-align: right;\n",
       "    }\n",
       "</style>\n",
       "<table border=\"1\" class=\"dataframe\">\n",
       "  <thead>\n",
       "    <tr style=\"text-align: right;\">\n",
       "      <th></th>\n",
       "      <th>data_type</th>\n",
       "      <th>data_type_grp</th>\n",
       "      <th>num_unique_values</th>\n",
       "      <th>sample_unique_values</th>\n",
       "      <th>num_missing</th>\n",
       "      <th>perc_missing</th>\n",
       "    </tr>\n",
       "  </thead>\n",
       "  <tbody>\n",
       "    <tr>\n",
       "      <th>DateCrawled</th>\n",
       "      <td>object</td>\n",
       "      <td>Categorical</td>\n",
       "      <td>271174</td>\n",
       "      <td>[2016-03-24 11:52:17, 2016-03-24 10:58:45, 201...</td>\n",
       "      <td>0</td>\n",
       "      <td>0.0</td>\n",
       "    </tr>\n",
       "    <tr>\n",
       "      <th>Price</th>\n",
       "      <td>int64</td>\n",
       "      <td>Numerical</td>\n",
       "      <td>3731</td>\n",
       "      <td>[480, 18300, 9800, 1500, 3600, 650, 2200, 0, 1...</td>\n",
       "      <td>0</td>\n",
       "      <td>0.0</td>\n",
       "    </tr>\n",
       "    <tr>\n",
       "      <th>VehicleType</th>\n",
       "      <td>object</td>\n",
       "      <td>Categorical</td>\n",
       "      <td>8</td>\n",
       "      <td>[nan, coupe, suv, small, sedan, convertible, b...</td>\n",
       "      <td>37490</td>\n",
       "      <td>10.579368</td>\n",
       "    </tr>\n",
       "    <tr>\n",
       "      <th>RegistrationYear</th>\n",
       "      <td>int64</td>\n",
       "      <td>Numerical</td>\n",
       "      <td>151</td>\n",
       "      <td>[1993, 2011, 2004, 2001, 2008, 1995, 1980, 201...</td>\n",
       "      <td>0</td>\n",
       "      <td>0.0</td>\n",
       "    </tr>\n",
       "    <tr>\n",
       "      <th>Gearbox</th>\n",
       "      <td>object</td>\n",
       "      <td>Categorical</td>\n",
       "      <td>2</td>\n",
       "      <td>[manual, auto, nan]</td>\n",
       "      <td>19833</td>\n",
       "      <td>5.596709</td>\n",
       "    </tr>\n",
       "    <tr>\n",
       "      <th>Power</th>\n",
       "      <td>int64</td>\n",
       "      <td>Numerical</td>\n",
       "      <td>712</td>\n",
       "      <td>[0, 190, 163, 75, 69, 102, 109, 50, 125, 101]</td>\n",
       "      <td>0</td>\n",
       "      <td>0.0</td>\n",
       "    </tr>\n",
       "    <tr>\n",
       "      <th>Model</th>\n",
       "      <td>object</td>\n",
       "      <td>Categorical</td>\n",
       "      <td>250</td>\n",
       "      <td>[golf, nan, grand, fabia, 3er, 2_reihe, other,...</td>\n",
       "      <td>19705</td>\n",
       "      <td>5.560588</td>\n",
       "    </tr>\n",
       "    <tr>\n",
       "      <th>Kilometer</th>\n",
       "      <td>int64</td>\n",
       "      <td>Numerical</td>\n",
       "      <td>13</td>\n",
       "      <td>[150000, 125000, 90000, 40000, 30000, 70000, 5...</td>\n",
       "      <td>0</td>\n",
       "      <td>0.0</td>\n",
       "    </tr>\n",
       "    <tr>\n",
       "      <th>RegistrationMonth</th>\n",
       "      <td>int64</td>\n",
       "      <td>Numerical</td>\n",
       "      <td>13</td>\n",
       "      <td>[0, 5, 8, 6, 7, 10, 12, 11, 2, 3]</td>\n",
       "      <td>0</td>\n",
       "      <td>0.0</td>\n",
       "    </tr>\n",
       "    <tr>\n",
       "      <th>FuelType</th>\n",
       "      <td>object</td>\n",
       "      <td>Categorical</td>\n",
       "      <td>7</td>\n",
       "      <td>[petrol, gasoline, nan, lpg, other, hybrid, cn...</td>\n",
       "      <td>32895</td>\n",
       "      <td>9.282697</td>\n",
       "    </tr>\n",
       "    <tr>\n",
       "      <th>Brand</th>\n",
       "      <td>object</td>\n",
       "      <td>Categorical</td>\n",
       "      <td>40</td>\n",
       "      <td>[volkswagen, audi, jeep, skoda, bmw, peugeot, ...</td>\n",
       "      <td>0</td>\n",
       "      <td>0.0</td>\n",
       "    </tr>\n",
       "    <tr>\n",
       "      <th>Repaired</th>\n",
       "      <td>object</td>\n",
       "      <td>Categorical</td>\n",
       "      <td>2</td>\n",
       "      <td>[nan, yes, no]</td>\n",
       "      <td>71154</td>\n",
       "      <td>20.07907</td>\n",
       "    </tr>\n",
       "    <tr>\n",
       "      <th>DateCreated</th>\n",
       "      <td>object</td>\n",
       "      <td>Categorical</td>\n",
       "      <td>109</td>\n",
       "      <td>[2016-03-24 00:00:00, 2016-03-14 00:00:00, 201...</td>\n",
       "      <td>0</td>\n",
       "      <td>0.0</td>\n",
       "    </tr>\n",
       "    <tr>\n",
       "      <th>NumberOfPictures</th>\n",
       "      <td>int64</td>\n",
       "      <td>Numerical</td>\n",
       "      <td>1</td>\n",
       "      <td>[0]</td>\n",
       "      <td>0</td>\n",
       "      <td>0.0</td>\n",
       "    </tr>\n",
       "    <tr>\n",
       "      <th>PostalCode</th>\n",
       "      <td>int64</td>\n",
       "      <td>Numerical</td>\n",
       "      <td>8143</td>\n",
       "      <td>[70435, 66954, 90480, 91074, 60437, 33775, 671...</td>\n",
       "      <td>0</td>\n",
       "      <td>0.0</td>\n",
       "    </tr>\n",
       "    <tr>\n",
       "      <th>LastSeen</th>\n",
       "      <td>object</td>\n",
       "      <td>Categorical</td>\n",
       "      <td>179150</td>\n",
       "      <td>[2016-04-07 03:16:57, 2016-04-07 01:46:50, 201...</td>\n",
       "      <td>0</td>\n",
       "      <td>0.0</td>\n",
       "    </tr>\n",
       "  </tbody>\n",
       "</table>\n",
       "</div>"
      ],
      "text/plain": [
       "                  data_type data_type_grp num_unique_values  \\\n",
       "DateCrawled          object   Categorical            271174   \n",
       "Price                 int64     Numerical              3731   \n",
       "VehicleType          object   Categorical                 8   \n",
       "RegistrationYear      int64     Numerical               151   \n",
       "Gearbox              object   Categorical                 2   \n",
       "Power                 int64     Numerical               712   \n",
       "Model                object   Categorical               250   \n",
       "Kilometer             int64     Numerical                13   \n",
       "RegistrationMonth     int64     Numerical                13   \n",
       "FuelType             object   Categorical                 7   \n",
       "Brand                object   Categorical                40   \n",
       "Repaired             object   Categorical                 2   \n",
       "DateCreated          object   Categorical               109   \n",
       "NumberOfPictures      int64     Numerical                 1   \n",
       "PostalCode            int64     Numerical              8143   \n",
       "LastSeen             object   Categorical            179150   \n",
       "\n",
       "                                                sample_unique_values  \\\n",
       "DateCrawled        [2016-03-24 11:52:17, 2016-03-24 10:58:45, 201...   \n",
       "Price              [480, 18300, 9800, 1500, 3600, 650, 2200, 0, 1...   \n",
       "VehicleType        [nan, coupe, suv, small, sedan, convertible, b...   \n",
       "RegistrationYear   [1993, 2011, 2004, 2001, 2008, 1995, 1980, 201...   \n",
       "Gearbox                                          [manual, auto, nan]   \n",
       "Power                  [0, 190, 163, 75, 69, 102, 109, 50, 125, 101]   \n",
       "Model              [golf, nan, grand, fabia, 3er, 2_reihe, other,...   \n",
       "Kilometer          [150000, 125000, 90000, 40000, 30000, 70000, 5...   \n",
       "RegistrationMonth                  [0, 5, 8, 6, 7, 10, 12, 11, 2, 3]   \n",
       "FuelType           [petrol, gasoline, nan, lpg, other, hybrid, cn...   \n",
       "Brand              [volkswagen, audi, jeep, skoda, bmw, peugeot, ...   \n",
       "Repaired                                              [nan, yes, no]   \n",
       "DateCreated        [2016-03-24 00:00:00, 2016-03-14 00:00:00, 201...   \n",
       "NumberOfPictures                                                 [0]   \n",
       "PostalCode         [70435, 66954, 90480, 91074, 60437, 33775, 671...   \n",
       "LastSeen           [2016-04-07 03:16:57, 2016-04-07 01:46:50, 201...   \n",
       "\n",
       "                  num_missing perc_missing  \n",
       "DateCrawled                 0          0.0  \n",
       "Price                       0          0.0  \n",
       "VehicleType             37490    10.579368  \n",
       "RegistrationYear            0          0.0  \n",
       "Gearbox                 19833     5.596709  \n",
       "Power                       0          0.0  \n",
       "Model                   19705     5.560588  \n",
       "Kilometer                   0          0.0  \n",
       "RegistrationMonth           0          0.0  \n",
       "FuelType                32895     9.282697  \n",
       "Brand                       0          0.0  \n",
       "Repaired                71154     20.07907  \n",
       "DateCreated                 0          0.0  \n",
       "NumberOfPictures            0          0.0  \n",
       "PostalCode                  0          0.0  \n",
       "LastSeen                    0          0.0  "
      ]
     },
     "metadata": {},
     "output_type": "display_data"
    }
   ],
   "source": [
    "display(eda.df_info(raw_autos))"
   ]
  },
  {
   "attachments": {},
   "cell_type": "markdown",
   "metadata": {},
   "source": [
    "Числовые распределения:"
   ]
  },
  {
   "cell_type": "code",
   "execution_count": 5,
   "metadata": {},
   "outputs": [
    {
     "data": {
      "text/html": [
       "<div>\n",
       "<style scoped>\n",
       "    .dataframe tbody tr th:only-of-type {\n",
       "        vertical-align: middle;\n",
       "    }\n",
       "\n",
       "    .dataframe tbody tr th {\n",
       "        vertical-align: top;\n",
       "    }\n",
       "\n",
       "    .dataframe thead th {\n",
       "        text-align: right;\n",
       "    }\n",
       "</style>\n",
       "<table border=\"1\" class=\"dataframe\">\n",
       "  <thead>\n",
       "    <tr style=\"text-align: right;\">\n",
       "      <th></th>\n",
       "      <th>count</th>\n",
       "      <th>mean</th>\n",
       "      <th>std</th>\n",
       "      <th>min</th>\n",
       "      <th>25%</th>\n",
       "      <th>50%</th>\n",
       "      <th>75%</th>\n",
       "      <th>max</th>\n",
       "    </tr>\n",
       "  </thead>\n",
       "  <tbody>\n",
       "    <tr>\n",
       "      <th>Price</th>\n",
       "      <td>354369.0</td>\n",
       "      <td>4416.66</td>\n",
       "      <td>4514.16</td>\n",
       "      <td>0.0</td>\n",
       "      <td>1050.0</td>\n",
       "      <td>2700.0</td>\n",
       "      <td>6400.0</td>\n",
       "      <td>20000.0</td>\n",
       "    </tr>\n",
       "    <tr>\n",
       "      <th>RegistrationYear</th>\n",
       "      <td>354369.0</td>\n",
       "      <td>2004.23</td>\n",
       "      <td>90.23</td>\n",
       "      <td>1000.0</td>\n",
       "      <td>1999.0</td>\n",
       "      <td>2003.0</td>\n",
       "      <td>2008.0</td>\n",
       "      <td>9999.0</td>\n",
       "    </tr>\n",
       "    <tr>\n",
       "      <th>Power</th>\n",
       "      <td>354369.0</td>\n",
       "      <td>110.09</td>\n",
       "      <td>189.85</td>\n",
       "      <td>0.0</td>\n",
       "      <td>69.0</td>\n",
       "      <td>105.0</td>\n",
       "      <td>143.0</td>\n",
       "      <td>20000.0</td>\n",
       "    </tr>\n",
       "    <tr>\n",
       "      <th>Kilometer</th>\n",
       "      <td>354369.0</td>\n",
       "      <td>128211.17</td>\n",
       "      <td>37905.34</td>\n",
       "      <td>5000.0</td>\n",
       "      <td>125000.0</td>\n",
       "      <td>150000.0</td>\n",
       "      <td>150000.0</td>\n",
       "      <td>150000.0</td>\n",
       "    </tr>\n",
       "    <tr>\n",
       "      <th>RegistrationMonth</th>\n",
       "      <td>354369.0</td>\n",
       "      <td>5.71</td>\n",
       "      <td>3.73</td>\n",
       "      <td>0.0</td>\n",
       "      <td>3.0</td>\n",
       "      <td>6.0</td>\n",
       "      <td>9.0</td>\n",
       "      <td>12.0</td>\n",
       "    </tr>\n",
       "    <tr>\n",
       "      <th>NumberOfPictures</th>\n",
       "      <td>354369.0</td>\n",
       "      <td>0.00</td>\n",
       "      <td>0.00</td>\n",
       "      <td>0.0</td>\n",
       "      <td>0.0</td>\n",
       "      <td>0.0</td>\n",
       "      <td>0.0</td>\n",
       "      <td>0.0</td>\n",
       "    </tr>\n",
       "    <tr>\n",
       "      <th>PostalCode</th>\n",
       "      <td>354369.0</td>\n",
       "      <td>50508.69</td>\n",
       "      <td>25783.10</td>\n",
       "      <td>1067.0</td>\n",
       "      <td>30165.0</td>\n",
       "      <td>49413.0</td>\n",
       "      <td>71083.0</td>\n",
       "      <td>99998.0</td>\n",
       "    </tr>\n",
       "  </tbody>\n",
       "</table>\n",
       "</div>"
      ],
      "text/plain": [
       "                      count       mean       std     min       25%       50%  \\\n",
       "Price              354369.0    4416.66   4514.16     0.0    1050.0    2700.0   \n",
       "RegistrationYear   354369.0    2004.23     90.23  1000.0    1999.0    2003.0   \n",
       "Power              354369.0     110.09    189.85     0.0      69.0     105.0   \n",
       "Kilometer          354369.0  128211.17  37905.34  5000.0  125000.0  150000.0   \n",
       "RegistrationMonth  354369.0       5.71      3.73     0.0       3.0       6.0   \n",
       "NumberOfPictures   354369.0       0.00      0.00     0.0       0.0       0.0   \n",
       "PostalCode         354369.0   50508.69  25783.10  1067.0   30165.0   49413.0   \n",
       "\n",
       "                        75%       max  \n",
       "Price                6400.0   20000.0  \n",
       "RegistrationYear     2008.0    9999.0  \n",
       "Power                 143.0   20000.0  \n",
       "Kilometer          150000.0  150000.0  \n",
       "RegistrationMonth       9.0      12.0  \n",
       "NumberOfPictures        0.0       0.0  \n",
       "PostalCode          71083.0   99998.0  "
      ]
     },
     "metadata": {},
     "output_type": "display_data"
    }
   ],
   "source": [
    "display(round(raw_autos.describe().T, 2))"
   ]
  },
  {
   "attachments": {},
   "cell_type": "markdown",
   "metadata": {},
   "source": [
    "И детальный отчет:"
   ]
  },
  {
   "cell_type": "code",
   "execution_count": 6,
   "metadata": {},
   "outputs": [
    {
     "name": "stderr",
     "output_type": "stream",
     "text": [
      "Summarize dataset: 100%|██████████| 62/62 [00:29<00:00,  2.09it/s, Completed]                                   \n",
      "Generate report structure: 100%|██████████| 1/1 [00:05<00:00,  5.51s/it]\n",
      "Render widgets:   0%|          | 0/1 [00:00<?, ?it/s]"
     ]
    },
    {
     "name": "stderr",
     "output_type": "stream",
     "text": [
      "                                                             \r"
     ]
    },
    {
     "data": {
      "application/vnd.jupyter.widget-view+json": {
       "model_id": "2fe63f377e554bc1a70d33aac52ac5cf",
       "version_major": 2,
       "version_minor": 0
      },
      "text/plain": [
       "VBox(children=(Tab(children=(Tab(children=(GridBox(children=(VBox(children=(GridspecLayout(children=(HTML(valu…"
      ]
     },
     "metadata": {},
     "output_type": "display_data"
    }
   ],
   "source": [
    "ProfileReport(raw_autos).to_widgets()"
   ]
  },
  {
   "attachments": {},
   "cell_type": "markdown",
   "metadata": {},
   "source": [
    "На основе предоставленных выводов, вот некоторые предварительные наблюдения:\n",
    "\n",
    "**Пропущенные данные:** \n",
    "1. Колонки `VehicleType`, `Gearbox`, `Model`, `FuelType`, и `Repaired` имеют пропущенные значения. Колонка `Repaired` имеет наибольшее количество пропущенных значений, 20% данных отсутствует.\n",
    "\n",
    "**Типы данных и уникальные значения:** \n",
    "1. Датасет содержит как категориальные (тип `object`), так и числовые (тип `int64`) переменные. \n",
    "2. Колонка `NumberOfPictures` содержит только одно уникальное значение - 0, которое не предоставляет полезной информации для модели.\n",
    "\n",
    "**Дескриптивная статистика:**\n",
    "1. Колонка `Price` (наша целевая переменная) варьируется от 0 до 20000, со средним значением около 4416.66. Это указывает на широкий диапазон цен на автомобили в наборе данных. Тот факт, что минимальная цена равна 0, может потребовать дополнительного исследования, так как необычно, чтобы цена автомобиля была 0.\n",
    "2. Колонка `RegistrationYear` варьируется от 1000 до 9999, что не имеет смысла, поскольку автомобили были изобретены только в конце 19-го века, а год 9999 находится в далеком будущем. Эта колонка может требовать очистки данных.\n",
    "3. Колонка `Power` имеет максимальное значение 20000, что кажется чрезмерно высоким и, вероятно, указывает на некоторые ошибочные записи.\n",
    "4. Колонка `Kilometer` кажется сильно смещенной в сторону более высоких значений, с 75% автомобилей, пробег которых составляет 150000 км."
   ]
  },
  {
   "cell_type": "markdown",
   "metadata": {},
   "source": [
    "# Подготовка данных для ML\n",
    "\n",
    "Выполним эти преобразования на полном датасете:\n",
    "\n",
    "1. Уберем колонки, которые не влияют на предсказания: `DateCrawled`, `DateCreated`, `LastSeen`, `PostalCode`, `NumberOfPictures`.\n",
    "2. Названия колонок приведем `snake_case` регистру.\n",
    "3. Обрежем строки, которые не имеют бизнес-смысла или если мы их можем восстановить.\n",
    "\n",
    "И остальные после разделения на выборки, чтобы избежать data leakage:\n",
    "\n",
    "1. Заполним пропуски.\n",
    "2. Проведем стандартизацию численных признаков.\n",
    "3. Проведем кодирование категориальных признаков."
   ]
  },
  {
   "cell_type": "code",
   "execution_count": 7,
   "metadata": {},
   "outputs": [
    {
     "data": {
      "text/html": [
       "<div>\n",
       "<style scoped>\n",
       "    .dataframe tbody tr th:only-of-type {\n",
       "        vertical-align: middle;\n",
       "    }\n",
       "\n",
       "    .dataframe tbody tr th {\n",
       "        vertical-align: top;\n",
       "    }\n",
       "\n",
       "    .dataframe thead th {\n",
       "        text-align: right;\n",
       "    }\n",
       "</style>\n",
       "<table border=\"1\" class=\"dataframe\">\n",
       "  <thead>\n",
       "    <tr style=\"text-align: right;\">\n",
       "      <th></th>\n",
       "      <th>brand</th>\n",
       "      <th>vehicle_type</th>\n",
       "      <th>model</th>\n",
       "      <th>fuel_type</th>\n",
       "      <th>is_manual</th>\n",
       "      <th>is_repaired</th>\n",
       "      <th>registration_year</th>\n",
       "      <th>registration_month</th>\n",
       "      <th>power</th>\n",
       "      <th>kilometer</th>\n",
       "      <th>price</th>\n",
       "    </tr>\n",
       "  </thead>\n",
       "  <tbody>\n",
       "    <tr>\n",
       "      <th>1</th>\n",
       "      <td>audi</td>\n",
       "      <td>coupe</td>\n",
       "      <td>NaN</td>\n",
       "      <td>gasoline</td>\n",
       "      <td>1.0</td>\n",
       "      <td>1.0</td>\n",
       "      <td>2011</td>\n",
       "      <td>5</td>\n",
       "      <td>190.0</td>\n",
       "      <td>125000</td>\n",
       "      <td>18300</td>\n",
       "    </tr>\n",
       "    <tr>\n",
       "      <th>2</th>\n",
       "      <td>jeep</td>\n",
       "      <td>suv</td>\n",
       "      <td>grand</td>\n",
       "      <td>gasoline</td>\n",
       "      <td>0.0</td>\n",
       "      <td>NaN</td>\n",
       "      <td>2004</td>\n",
       "      <td>8</td>\n",
       "      <td>163.0</td>\n",
       "      <td>125000</td>\n",
       "      <td>9800</td>\n",
       "    </tr>\n",
       "    <tr>\n",
       "      <th>3</th>\n",
       "      <td>volkswagen</td>\n",
       "      <td>small</td>\n",
       "      <td>golf</td>\n",
       "      <td>petrol</td>\n",
       "      <td>1.0</td>\n",
       "      <td>0.0</td>\n",
       "      <td>2001</td>\n",
       "      <td>6</td>\n",
       "      <td>75.0</td>\n",
       "      <td>150000</td>\n",
       "      <td>1500</td>\n",
       "    </tr>\n",
       "    <tr>\n",
       "      <th>4</th>\n",
       "      <td>skoda</td>\n",
       "      <td>small</td>\n",
       "      <td>fabia</td>\n",
       "      <td>gasoline</td>\n",
       "      <td>1.0</td>\n",
       "      <td>0.0</td>\n",
       "      <td>2008</td>\n",
       "      <td>7</td>\n",
       "      <td>69.0</td>\n",
       "      <td>90000</td>\n",
       "      <td>3600</td>\n",
       "    </tr>\n",
       "    <tr>\n",
       "      <th>5</th>\n",
       "      <td>bmw</td>\n",
       "      <td>sedan</td>\n",
       "      <td>3er</td>\n",
       "      <td>petrol</td>\n",
       "      <td>1.0</td>\n",
       "      <td>1.0</td>\n",
       "      <td>1995</td>\n",
       "      <td>10</td>\n",
       "      <td>102.0</td>\n",
       "      <td>150000</td>\n",
       "      <td>650</td>\n",
       "    </tr>\n",
       "  </tbody>\n",
       "</table>\n",
       "</div>"
      ],
      "text/plain": [
       "        brand vehicle_type  model fuel_type  is_manual  is_repaired  \\\n",
       "1        audi        coupe    NaN  gasoline        1.0          1.0   \n",
       "2        jeep          suv  grand  gasoline        0.0          NaN   \n",
       "3  volkswagen        small   golf    petrol        1.0          0.0   \n",
       "4       skoda        small  fabia  gasoline        1.0          0.0   \n",
       "5         bmw        sedan    3er    petrol        1.0          1.0   \n",
       "\n",
       "   registration_year  registration_month  power  kilometer  price  \n",
       "1               2011                   5  190.0     125000  18300  \n",
       "2               2004                   8  163.0     125000   9800  \n",
       "3               2001                   6   75.0     150000   1500  \n",
       "4               2008                   7   69.0      90000   3600  \n",
       "5               1995                  10  102.0     150000    650  "
      ]
     },
     "metadata": {},
     "output_type": "display_data"
    }
   ],
   "source": [
    "df_autos = (\n",
    "    raw_autos\n",
    "    .copy()\n",
    "    .drop(['DateCrawled', 'DateCreated', 'LastSeen', 'PostalCode', 'NumberOfPictures'], axis=1)\n",
    "    .rename(columns=lambda column: snakecase(column))\n",
    "    .loc[lambda df:\n",
    "        (df.price > 0) \n",
    "        & (df.registration_year.between(1990, 2016))\n",
    "        & (df.registration_month > 0)\n",
    "        & (df.power <= 300)\n",
    "        # & ~(df.vehicle_type.isna())\n",
    "    ]\n",
    "    .assign(\n",
    "        power=lambda df: df.power.replace(0, np.nan),\n",
    "        is_repaired=lambda df: df.repaired.map({'yes': 1, 'no': 0}),\n",
    "        is_manual=lambda df: df.gearbox.map({'manual': 1, 'auto': 0})\n",
    "    )\n",
    "    .loc[:, [\n",
    "        'brand', 'vehicle_type', 'model', 'fuel_type', 'is_manual', 'is_repaired',\n",
    "        'registration_year', 'registration_month', 'power', 'kilometer', 'price'\n",
    "    ]]\n",
    ")\n",
    "\n",
    "display(df_autos.head())"
   ]
  },
  {
   "cell_type": "markdown",
   "metadata": {},
   "source": [
    "Посмотрим, сколько строк нам пришлось вырезать:"
   ]
  },
  {
   "cell_type": "code",
   "execution_count": 8,
   "metadata": {},
   "outputs": [
    {
     "name": "stdout",
     "output_type": "stream",
     "text": [
      "Original number of rows: 354369\n",
      "Cleaned number of rows: 289972\n",
      "Percentage difference: 18.17\n"
     ]
    }
   ],
   "source": [
    "print(\n",
    "    'Original number of rows: ', raw_autos.Price.count(), '\\n',\n",
    "    'Cleaned number of rows: ', df_autos.price.count(), '\\n',\n",
    "    'Percentage difference: ', round(100 * (1 - df_autos.price.count() / raw_autos.Price.count()), 2),\n",
    "    sep=''\n",
    ")"
   ]
  },
  {
   "cell_type": "markdown",
   "metadata": {},
   "source": [
    "Мы отбросили существенное количество записей, однако, выбора у нас нет, потому что они имееют мало смысла: машины-ракеты с мощностью более 2К л.с., а также путешественники во времени с датами регистрации в будущем. Пропущенные записи попробуем восстановить продвинутыми методами ниже.\n",
    "\n",
    "Начнем делать `pipeline` для обработки данных. Посмотрим на разделения данных на `train` и `valid`."
   ]
  },
  {
   "cell_type": "code",
   "execution_count": 9,
   "metadata": {},
   "outputs": [],
   "source": [
    "def split_data(df: pd.DataFrame, target_column: str, test_size: float):\n",
    "    \"\"\"\n",
    "    Split a DataFrame into training and testing datasets.\n",
    "\n",
    "    This function accepts a DataFrame, the name of the target column, and the proportion of the data \n",
    "    to be included in the test split. It returns four DataFrames: the training features, the training target, \n",
    "    the testing features, and the testing target. The target datasets are DataFrames with a single column rather \n",
    "    than Series objects.\n",
    "\n",
    "    Parameters\n",
    "    ----------\n",
    "    df : pd.DataFrame\n",
    "        The DataFrame to split. This DataFrame should include both the features and the target.\n",
    "\n",
    "    target_column : str\n",
    "        The name of the target column. This column will be separated from the features and returned \n",
    "        in the target DataFrames.\n",
    "\n",
    "    test_size : float\n",
    "        The proportion of the data to include in the test split. For example, if `test_size` is 0.3, \n",
    "        30% of the data will be used for the test split, and the rest will be used for the training split.\n",
    "\n",
    "    Returns\n",
    "    -------\n",
    "    list of pd.DataFrame\n",
    "        A list containing four DataFrames: the training features, the training target, \n",
    "        the testing features, and the testing target.\n",
    "    \"\"\"\n",
    "    df_train, df_test = train_test_split(\n",
    "        df, test_size=test_size, random_state=RANDOM_SEED\n",
    "    )\n",
    "    \n",
    "    ftr_train = df_train.drop(target_column, axis=1)\n",
    "    tgt_train = df_train[[target_column]]\n",
    "    ftr_test = df_test.drop(target_column, axis=1)\n",
    "    tgt_test = df_test[[target_column]]\n",
    "    \n",
    "    return [ftr_train, tgt_train, ftr_test, tgt_test]"
   ]
  },
  {
   "cell_type": "markdown",
   "metadata": {},
   "source": [
    "Маленькая функция для удобства записи в словарь."
   ]
  },
  {
   "cell_type": "code",
   "execution_count": 10,
   "metadata": {},
   "outputs": [],
   "source": [
    "def get_dict_splits(features, target):\n",
    "    \"\"\"\n",
    "    Creates a dictionary with keys 'features' and 'target' pointing to the respective input arguments.\n",
    "\n",
    "    Parameters\n",
    "    ----------\n",
    "    features : pd.DataFrame\n",
    "        The DataFrame containing the feature columns.\n",
    "    target : pd.DataFrame\n",
    "        The DataFrame containing the target column.\n",
    "\n",
    "    Returns\n",
    "    -------\n",
    "    dict\n",
    "        A dictionary with keys 'features' and 'target'.\n",
    "    \"\"\"\n",
    "    return {'features': features, 'target': target}"
   ]
  },
  {
   "cell_type": "markdown",
   "metadata": {},
   "source": [
    "Зададим типы данных в колонках - это будет необходимо для алгоритмов восстановления пропусков."
   ]
  },
  {
   "cell_type": "code",
   "execution_count": 11,
   "metadata": {},
   "outputs": [],
   "source": [
    "df_autos = (\n",
    "    df_autos\n",
    "    .astype({\n",
    "        'brand': 'category', 'vehicle_type': 'category', 'model': 'category', 'fuel_type': 'category',\n",
    "        'is_manual': 'float', 'is_repaired': 'float', 'registration_year': 'float', 'registration_month': 'float',\n",
    "        'power': 'float', 'kilometer': 'float', 'price': 'float'\n",
    "    })\n",
    ")"
   ]
  },
  {
   "cell_type": "markdown",
   "metadata": {},
   "source": [
    "Сохраним данные в словарь, которые будем использовать дальше."
   ]
  },
  {
   "cell_type": "code",
   "execution_count": 12,
   "metadata": {},
   "outputs": [],
   "source": [
    "ftr_train, tgt_train, ftr_test, tgt_test = split_data(df_autos, 'price', 0.1)\n",
    "\n",
    "dct_splits = {\n",
    "    'original': {\n",
    "        'train': get_dict_splits(ftr_train, tgt_train),\n",
    "        'test': get_dict_splits(ftr_test, tgt_test),\n",
    "    },\n",
    "    'transformed': {\n",
    "        'train': get_dict_splits(ftr_train.copy(), tgt_train.copy()),\n",
    "        'test': get_dict_splits(ftr_test.copy(), tgt_test.copy()),\n",
    "    }\n",
    "}"
   ]
  },
  {
   "cell_type": "markdown",
   "metadata": {},
   "source": [
    "Пропуски заполним с помощью библиотеки `miceforest`. Она использует Multiple Imputation by Chained Equations (MICE) c `lightgbm` - это позволит нам восстановить некоторые трудно доступные значения типа `model` и `fuel_type`."
   ]
  },
  {
   "cell_type": "code",
   "execution_count": 13,
   "metadata": {},
   "outputs": [
    {
     "name": "stderr",
     "output_type": "stream",
     "text": [
      "x:\\1_Programs\\Coding\\Conda\\lib\\site-packages\\miceforest\\ImputationKernel.py:371: UserWarning: [brand,model,fuel_type] have very rare categories, it is a good idea to group these, or set the min_data_in_leaf parameter to prevent lightgbm from outputting 0.0 probabilities.\n",
      "  warn(\n"
     ]
    }
   ],
   "source": [
    "impute_kernel = mf.ImputationKernel(dct_splits['original']['train']['features'], random_state=RANDOM_SEED)\n",
    "impute_kernel.mice(1)"
   ]
  },
  {
   "cell_type": "markdown",
   "metadata": {},
   "source": [
    "Перезапишем наши датасеты теперь уже с заполненными колонками. Для `test` используем ту же самую модель, которая обучилась на `train` данных."
   ]
  },
  {
   "cell_type": "code",
   "execution_count": 14,
   "metadata": {},
   "outputs": [],
   "source": [
    "dct_splits['original']['train']['features'] = impute_kernel.complete_data()\n",
    "dct_splits['original']['test']['features'] = (\n",
    "    impute_kernel.impute_new_data(dct_splits['original']['test']['features']).complete_data()\n",
    ")"
   ]
  },
  {
   "cell_type": "markdown",
   "metadata": {},
   "source": [
    "А вот теперь можно, наконец, закодировать и стандартизировать данные."
   ]
  },
  {
   "cell_type": "code",
   "execution_count": 15,
   "metadata": {},
   "outputs": [],
   "source": [
    "cols_num = ['registration_year', 'registration_month', 'power', 'kilometer']\n",
    "cols_cat = ['brand', 'vehicle_type', 'model', 'fuel_type']\n",
    "cols_bin = ['is_manual', 'is_repaired']\n",
    "\n",
    "num_pipeline = Pipeline([\n",
    "    ('scaler', StandardScaler()),\n",
    "])\n",
    "\n",
    "cat_pipeline = Pipeline([\n",
    "    ('encoder', MEstimateEncoder()),\n",
    "])\n",
    "\n",
    "preprocessor = ColumnTransformer([\n",
    "    ('num', num_pipeline, cols_num),\n",
    "    ('cat', cat_pipeline, cols_cat),\n",
    "])\n",
    "\n",
    "pipeline = Pipeline([\n",
    "    ('preprocessor', preprocessor),\n",
    "])\n",
    "\n",
    "pipeline.fit(\n",
    "    dct_splits['original']['train']['features'],\n",
    "    dct_splits['original']['train']['target']\n",
    ")\n",
    "\n",
    "dct_splits['transformed']['train']['features'] = pipeline.transform(dct_splits['original']['train']['features'])\n",
    "dct_splits['transformed']['test']['features'] = pipeline.transform(dct_splits['original']['test']['features'])\n",
    "dct_splits['transformed']['train']['target'] = dct_splits['transformed']['train']['target'].values\n",
    "dct_splits['transformed']['test']['target'] = dct_splits['transformed']['test']['target'].values"
   ]
  },
  {
   "cell_type": "markdown",
   "metadata": {},
   "source": [
    "## ML модели\n",
    "\n",
    "В этой секции обучим и проверим несколько разных моделей: `LinearRegression`, `RandomForest`, `lightgbm` и `catboost`.\n",
    "\n",
    "Сделаем функцию, которая для нас соберет в кучу результаты."
   ]
  },
  {
   "cell_type": "code",
   "execution_count": 16,
   "metadata": {},
   "outputs": [],
   "source": [
    "def evaluate_models(dct_splits, models):\n",
    "    \"\"\"\n",
    "    Evaluate and compare rmse, time_to_fit and time_to_predict (in seconds) of different regression models.\n",
    "    \n",
    "    Parameters:\n",
    "    - dct_splits: A dictionary containing train-test splits of features and target.\n",
    "    - models: A dictionary containing initialized machine learning models.\n",
    "    \n",
    "    Returns:\n",
    "    - df_results: A dataframe with evaluation metrics for each model.\n",
    "    - dct_predictions: A dictionary with predictions from each model on the test set.\n",
    "    \"\"\"\n",
    "    results = []\n",
    "    dct_predictions = {}\n",
    "\n",
    "    for name, model in models.items():\n",
    "        start_fit = time()\n",
    "        model.fit(\n",
    "            dct_splits['transformed']['train']['features'],\n",
    "            dct_splits['transformed']['train']['target'].ravel()\n",
    "        )\n",
    "        end_fit = time()\n",
    "\n",
    "        start_predict = time()\n",
    "        predictions = model.predict(dct_splits['transformed']['test']['features'])\n",
    "        end_predict = time()\n",
    "\n",
    "        scores = cross_val_score(\n",
    "            model,\n",
    "            dct_splits['transformed']['test']['features'],\n",
    "            dct_splits['transformed']['test']['target'].ravel(),\n",
    "            cv=5,\n",
    "            scoring='neg_root_mean_squared_error'\n",
    "        )\n",
    "        \n",
    "        results.append({\n",
    "            'regressor': name,\n",
    "            'rmse': -np.mean(scores),\n",
    "            'time_to_fit': end_fit - start_fit,\n",
    "            'time_to_predict': end_predict - start_predict\n",
    "        })\n",
    "        \n",
    "        dct_predictions[name] = predictions\n",
    "\n",
    "    df_results = pd.DataFrame(results)\n",
    "    \n",
    "    return df_results, dct_predictions"
   ]
  },
  {
   "cell_type": "markdown",
   "metadata": {},
   "source": [
    "Зададим модели."
   ]
  },
  {
   "cell_type": "code",
   "execution_count": 17,
   "metadata": {},
   "outputs": [],
   "source": [
    "dct_models = {\n",
    "    'linear': LinearRegression(),\n",
    "    'forest': RandomForestRegressor(n_estimators=10, random_state=RANDOM_SEED),\n",
    "    'lightgbm': LGBMRegressor(n_estimators=1000, learning_rate=0.1, verbose=0, force_row_wise=True, random_state=RANDOM_SEED),\n",
    "    'catboost': CatBoostRegressor(iterations=1000, learning_rate=0.1, silent=True, random_state=RANDOM_SEED)\n",
    "}"
   ]
  },
  {
   "cell_type": "markdown",
   "metadata": {},
   "source": [
    "Посмотрим, что получилось."
   ]
  },
  {
   "cell_type": "code",
   "execution_count": 18,
   "metadata": {},
   "outputs": [
    {
     "data": {
      "text/html": [
       "<div>\n",
       "<style scoped>\n",
       "    .dataframe tbody tr th:only-of-type {\n",
       "        vertical-align: middle;\n",
       "    }\n",
       "\n",
       "    .dataframe tbody tr th {\n",
       "        vertical-align: top;\n",
       "    }\n",
       "\n",
       "    .dataframe thead th {\n",
       "        text-align: right;\n",
       "    }\n",
       "</style>\n",
       "<table border=\"1\" class=\"dataframe\">\n",
       "  <thead>\n",
       "    <tr style=\"text-align: right;\">\n",
       "      <th></th>\n",
       "      <th>regressor</th>\n",
       "      <th>rmse</th>\n",
       "      <th>time_to_fit</th>\n",
       "      <th>time_to_predict</th>\n",
       "    </tr>\n",
       "  </thead>\n",
       "  <tbody>\n",
       "    <tr>\n",
       "      <th>0</th>\n",
       "      <td>linear</td>\n",
       "      <td>2623.766</td>\n",
       "      <td>0.129</td>\n",
       "      <td>0.008</td>\n",
       "    </tr>\n",
       "    <tr>\n",
       "      <th>1</th>\n",
       "      <td>forest</td>\n",
       "      <td>1866.429</td>\n",
       "      <td>9.557</td>\n",
       "      <td>0.174</td>\n",
       "    </tr>\n",
       "    <tr>\n",
       "      <th>2</th>\n",
       "      <td>lightgbm</td>\n",
       "      <td>1694.682</td>\n",
       "      <td>2.609</td>\n",
       "      <td>0.152</td>\n",
       "    </tr>\n",
       "    <tr>\n",
       "      <th>3</th>\n",
       "      <td>catboost</td>\n",
       "      <td>1673.477</td>\n",
       "      <td>23.440</td>\n",
       "      <td>0.008</td>\n",
       "    </tr>\n",
       "  </tbody>\n",
       "</table>\n",
       "</div>"
      ],
      "text/plain": [
       "  regressor      rmse  time_to_fit  time_to_predict\n",
       "0    linear  2623.766        0.129            0.008\n",
       "1    forest  1866.429        9.557            0.174\n",
       "2  lightgbm  1694.682        2.609            0.152\n",
       "3  catboost  1673.477       23.440            0.008"
      ]
     },
     "metadata": {},
     "output_type": "display_data"
    }
   ],
   "source": [
    "df_results, dct_predictions = evaluate_models(dct_splits, dct_models)\n",
    "\n",
    "display(round(df_results, 3))"
   ]
  },
  {
   "cell_type": "markdown",
   "metadata": {},
   "source": [
    "## Выводы\n",
    "\n",
    "1. **Производительность модели**: Ансамблевые методы, такие как `LightGBM` и `CatBoost`, значительно превзошли `Линейную регрессию`. `LightGBM` предоставил лучший баланс между точностью прогнозирования (RMSE) и вычислительной эффективностью.\n",
    "\n",
    "1. **Важность предварительной обработки**: Правильная обработка отсутствующих значений и кодирование категориальных переменных были критически важны для эффективного обучения модели.\n",
    "\n",
    "2. **Компромиссы**: Несмотря на лучшую точность, ансамблевые методы требовали больше вычислительных ресурсов, особенно `CatBoost`.\n",
    "\n",
    "3. **Рекомендация**: Для лучшей точности при разумном времени вычисления `CatBoost` кажется наиболее перспективной моделью для этого набора данных.\n",
    "\n",
    "4. **Дальнейшие шаги**: Рассмотреть возможность настройки гиперпараметров и инженерии признаков для потенциального улучшения качества модели."
   ]
  }
 ],
 "metadata": {
  "ExecuteTimeLog": [
   {
    "duration": 1605,
    "start_time": "2023-05-21T19:46:45.978Z"
   },
   {
    "duration": 35,
    "start_time": "2023-05-21T19:46:52.071Z"
   },
   {
    "duration": 836,
    "start_time": "2023-05-21T19:46:54.792Z"
   },
   {
    "duration": 168,
    "start_time": "2023-05-21T19:48:12.739Z"
   },
   {
    "duration": 73,
    "start_time": "2023-05-21T19:48:16.311Z"
   },
   {
    "duration": 24,
    "start_time": "2023-05-21T19:48:16.386Z"
   },
   {
    "duration": 360,
    "start_time": "2023-05-21T19:48:16.412Z"
   },
   {
    "duration": 6,
    "start_time": "2023-05-21T19:48:16.774Z"
   },
   {
    "duration": 321,
    "start_time": "2023-05-21T19:48:16.781Z"
   },
   {
    "duration": 64,
    "start_time": "2023-05-21T19:48:17.103Z"
   },
   {
    "duration": 12362,
    "start_time": "2023-05-21T19:48:22.972Z"
   },
   {
    "duration": 108,
    "start_time": "2023-05-21T19:48:35.337Z"
   },
   {
    "duration": 1385,
    "start_time": "2023-05-22T18:16:08.557Z"
   },
   {
    "duration": 37,
    "start_time": "2023-05-22T18:16:09.944Z"
   },
   {
    "duration": 865,
    "start_time": "2023-05-22T18:16:09.983Z"
   },
   {
    "duration": 9,
    "start_time": "2023-05-22T18:16:10.849Z"
   },
   {
    "duration": 119,
    "start_time": "2023-05-22T18:16:10.860Z"
   },
   {
    "duration": 0,
    "start_time": "2023-05-22T18:16:10.982Z"
   },
   {
    "duration": 0,
    "start_time": "2023-05-22T18:16:10.984Z"
   },
   {
    "duration": 0,
    "start_time": "2023-05-22T18:16:10.986Z"
   },
   {
    "duration": 0,
    "start_time": "2023-05-22T18:16:10.989Z"
   },
   {
    "duration": 0,
    "start_time": "2023-05-22T18:16:10.990Z"
   },
   {
    "duration": 0,
    "start_time": "2023-05-22T18:16:10.991Z"
   },
   {
    "duration": 0,
    "start_time": "2023-05-22T18:16:10.993Z"
   },
   {
    "duration": 2493,
    "start_time": "2023-05-22T18:16:36.511Z"
   },
   {
    "duration": 2398,
    "start_time": "2023-05-22T18:16:49.695Z"
   },
   {
    "duration": 9,
    "start_time": "2023-05-22T18:18:55.751Z"
   },
   {
    "duration": 9,
    "start_time": "2023-05-22T18:19:30.158Z"
   },
   {
    "duration": 11,
    "start_time": "2023-05-22T18:20:12.910Z"
   },
   {
    "duration": 9,
    "start_time": "2023-05-22T18:20:21.983Z"
   },
   {
    "duration": 77,
    "start_time": "2023-05-22T18:20:32.174Z"
   },
   {
    "duration": 87,
    "start_time": "2023-05-22T18:20:35.022Z"
   },
   {
    "duration": 10,
    "start_time": "2023-05-22T18:20:41.677Z"
   },
   {
    "duration": 11,
    "start_time": "2023-05-22T18:21:11.639Z"
   },
   {
    "duration": 9,
    "start_time": "2023-05-22T18:21:20.782Z"
   },
   {
    "duration": 8,
    "start_time": "2023-05-22T18:23:28.845Z"
   },
   {
    "duration": 13,
    "start_time": "2023-05-22T18:23:42.013Z"
   },
   {
    "duration": 10,
    "start_time": "2023-05-22T18:25:45.151Z"
   },
   {
    "duration": 33,
    "start_time": "2023-05-22T18:29:58.816Z"
   },
   {
    "duration": 45,
    "start_time": "2023-05-22T18:30:04.874Z"
   },
   {
    "duration": 9,
    "start_time": "2023-05-22T18:30:19.373Z"
   },
   {
    "duration": 29,
    "start_time": "2023-05-22T18:30:24.428Z"
   },
   {
    "duration": 9,
    "start_time": "2023-05-22T18:30:28.442Z"
   },
   {
    "duration": 70,
    "start_time": "2023-05-22T18:30:47.915Z"
   },
   {
    "duration": 9,
    "start_time": "2023-05-22T18:30:50.837Z"
   },
   {
    "duration": 11,
    "start_time": "2023-05-22T18:30:54.031Z"
   },
   {
    "duration": 12,
    "start_time": "2023-05-22T18:31:03.340Z"
   },
   {
    "duration": 9,
    "start_time": "2023-05-22T18:31:06.987Z"
   },
   {
    "duration": 9,
    "start_time": "2023-05-22T18:31:08.197Z"
   },
   {
    "duration": 26,
    "start_time": "2023-05-22T18:31:09.340Z"
   },
   {
    "duration": 179,
    "start_time": "2023-05-22T18:31:26.445Z"
   },
   {
    "duration": 1293,
    "start_time": "2023-05-22T18:31:50.893Z"
   },
   {
    "duration": 17,
    "start_time": "2023-05-22T18:31:52.188Z"
   },
   {
    "duration": 25,
    "start_time": "2023-05-22T18:31:52.207Z"
   },
   {
    "duration": 27,
    "start_time": "2023-05-22T18:31:52.234Z"
   },
   {
    "duration": 773,
    "start_time": "2023-05-22T18:31:52.263Z"
   },
   {
    "duration": 9,
    "start_time": "2023-05-22T18:31:53.037Z"
   },
   {
    "duration": 2404,
    "start_time": "2023-05-22T18:31:53.048Z"
   },
   {
    "duration": 184,
    "start_time": "2023-05-22T18:31:55.453Z"
   },
   {
    "duration": 0,
    "start_time": "2023-05-22T18:31:55.638Z"
   },
   {
    "duration": 0,
    "start_time": "2023-05-22T18:31:55.640Z"
   },
   {
    "duration": 0,
    "start_time": "2023-05-22T18:31:55.640Z"
   },
   {
    "duration": 0,
    "start_time": "2023-05-22T18:31:55.642Z"
   },
   {
    "duration": 0,
    "start_time": "2023-05-22T18:31:55.643Z"
   },
   {
    "duration": 0,
    "start_time": "2023-05-22T18:31:55.644Z"
   },
   {
    "duration": 13,
    "start_time": "2023-05-22T18:34:11.456Z"
   },
   {
    "duration": 25,
    "start_time": "2023-05-22T18:34:14.034Z"
   },
   {
    "duration": 2245,
    "start_time": "2023-05-22T18:34:26.018Z"
   },
   {
    "duration": 638,
    "start_time": "2023-05-22T18:34:37.931Z"
   },
   {
    "duration": 628,
    "start_time": "2023-05-22T18:34:58.575Z"
   },
   {
    "duration": 46,
    "start_time": "2023-05-22T18:35:11.934Z"
   },
   {
    "duration": 2240,
    "start_time": "2023-05-22T18:35:58.893Z"
   },
   {
    "duration": 46,
    "start_time": "2023-05-22T18:36:10.737Z"
   },
   {
    "duration": 35006,
    "start_time": "2023-05-22T18:43:11.984Z"
   },
   {
    "duration": 72,
    "start_time": "2023-05-22T18:44:58.325Z"
   },
   {
    "duration": 60,
    "start_time": "2023-05-22T18:45:29.078Z"
   },
   {
    "duration": 110,
    "start_time": "2023-05-22T18:46:32.716Z"
   },
   {
    "duration": 17,
    "start_time": "2023-05-22T18:48:06.773Z"
   },
   {
    "duration": 29,
    "start_time": "2023-05-22T18:48:19.134Z"
   },
   {
    "duration": 1344,
    "start_time": "2023-05-22T18:48:49.944Z"
   },
   {
    "duration": 22,
    "start_time": "2023-05-22T18:48:51.291Z"
   },
   {
    "duration": 16,
    "start_time": "2023-05-22T18:48:51.315Z"
   },
   {
    "duration": 26,
    "start_time": "2023-05-22T18:48:51.333Z"
   },
   {
    "duration": 711,
    "start_time": "2023-05-22T18:48:51.362Z"
   },
   {
    "duration": 9,
    "start_time": "2023-05-22T18:48:52.074Z"
   },
   {
    "duration": 2355,
    "start_time": "2023-05-22T18:48:52.085Z"
   },
   {
    "duration": 46,
    "start_time": "2023-05-22T18:48:54.442Z"
   },
   {
    "duration": 200,
    "start_time": "2023-05-22T18:48:54.489Z"
   },
   {
    "duration": 0,
    "start_time": "2023-05-22T18:48:54.691Z"
   },
   {
    "duration": 0,
    "start_time": "2023-05-22T18:48:54.693Z"
   },
   {
    "duration": 0,
    "start_time": "2023-05-22T18:48:54.694Z"
   },
   {
    "duration": 0,
    "start_time": "2023-05-22T18:48:54.695Z"
   },
   {
    "duration": 0,
    "start_time": "2023-05-22T18:48:54.696Z"
   },
   {
    "duration": 35180,
    "start_time": "2023-05-22T18:49:14.678Z"
   },
   {
    "duration": 29,
    "start_time": "2023-05-22T18:51:33.684Z"
   },
   {
    "duration": 36161,
    "start_time": "2023-05-22T18:59:42.601Z"
   },
   {
    "duration": 29,
    "start_time": "2023-05-22T19:00:25.095Z"
   },
   {
    "duration": 1322,
    "start_time": "2023-05-22T19:00:47.296Z"
   },
   {
    "duration": 1470,
    "start_time": "2023-05-22T19:01:46.489Z"
   },
   {
    "duration": 25,
    "start_time": "2023-05-22T19:02:02.352Z"
   },
   {
    "duration": 25,
    "start_time": "2023-05-22T19:02:11.960Z"
   },
   {
    "duration": 1220,
    "start_time": "2023-05-22T19:02:35.260Z"
   },
   {
    "duration": 6,
    "start_time": "2023-05-22T19:02:45.317Z"
   },
   {
    "duration": 13,
    "start_time": "2023-05-22T19:02:50.617Z"
   },
   {
    "duration": 13,
    "start_time": "2023-05-22T19:02:53.456Z"
   },
   {
    "duration": 30,
    "start_time": "2023-05-22T19:02:57.872Z"
   },
   {
    "duration": 1464,
    "start_time": "2023-05-22T19:03:02.297Z"
   },
   {
    "duration": 14,
    "start_time": "2023-05-22T19:03:10.960Z"
   },
   {
    "duration": 17,
    "start_time": "2023-05-22T19:03:28.776Z"
   },
   {
    "duration": 22,
    "start_time": "2023-05-22T19:03:33.560Z"
   },
   {
    "duration": 118,
    "start_time": "2023-05-22T19:03:46.106Z"
   },
   {
    "duration": 194,
    "start_time": "2023-05-22T19:05:43.456Z"
   },
   {
    "duration": 223,
    "start_time": "2023-05-22T19:06:06.752Z"
   },
   {
    "duration": 4,
    "start_time": "2023-05-22T19:06:09.856Z"
   },
   {
    "duration": 13,
    "start_time": "2023-05-22T19:08:23.155Z"
   },
   {
    "duration": 48,
    "start_time": "2023-05-22T19:08:27.164Z"
   },
   {
    "duration": 206,
    "start_time": "2023-05-22T19:08:48.168Z"
   },
   {
    "duration": 21,
    "start_time": "2023-05-22T19:08:51.352Z"
   },
   {
    "duration": 50,
    "start_time": "2023-05-22T19:09:09.387Z"
   },
   {
    "duration": 79,
    "start_time": "2023-05-22T19:11:42.417Z"
   },
   {
    "duration": 42,
    "start_time": "2023-05-22T19:11:44.002Z"
   },
   {
    "duration": 98,
    "start_time": "2023-05-22T19:11:52.163Z"
   },
   {
    "duration": 42,
    "start_time": "2023-05-22T19:11:53.777Z"
   },
   {
    "duration": 122,
    "start_time": "2023-05-22T19:12:02.124Z"
   },
   {
    "duration": 43,
    "start_time": "2023-05-22T19:12:03.660Z"
   },
   {
    "duration": 134,
    "start_time": "2023-05-22T19:12:12.560Z"
   },
   {
    "duration": 49,
    "start_time": "2023-05-22T19:12:13.873Z"
   },
   {
    "duration": 155,
    "start_time": "2023-05-22T19:12:23.064Z"
   },
   {
    "duration": 48,
    "start_time": "2023-05-22T19:12:25.472Z"
   },
   {
    "duration": 204,
    "start_time": "2023-05-22T19:12:41.581Z"
   },
   {
    "duration": 55,
    "start_time": "2023-05-22T19:12:43.242Z"
   },
   {
    "duration": 2488,
    "start_time": "2023-05-22T19:12:51.360Z"
   },
   {
    "duration": 41,
    "start_time": "2023-05-22T19:12:54.281Z"
   },
   {
    "duration": 12,
    "start_time": "2023-05-22T19:13:13.504Z"
   },
   {
    "duration": 131,
    "start_time": "2023-05-22T19:13:36.504Z"
   },
   {
    "duration": 46,
    "start_time": "2023-05-22T19:13:38.017Z"
   },
   {
    "duration": 15,
    "start_time": "2023-05-22T19:14:18.176Z"
   },
   {
    "duration": 6,
    "start_time": "2023-05-22T19:14:23.481Z"
   },
   {
    "duration": 12,
    "start_time": "2023-05-22T19:14:25.159Z"
   },
   {
    "duration": 22,
    "start_time": "2023-05-22T19:14:26.767Z"
   },
   {
    "duration": 68,
    "start_time": "2023-05-22T19:14:31.816Z"
   },
   {
    "duration": 49,
    "start_time": "2023-05-22T19:14:40.818Z"
   }
  ],
  "kernelspec": {
   "display_name": "Python 3 (ipykernel)",
   "language": "python",
   "name": "python3"
  },
  "language_info": {
   "codemirror_mode": {
    "name": "ipython",
    "version": 3
   },
   "file_extension": ".py",
   "mimetype": "text/x-python",
   "name": "python",
   "nbconvert_exporter": "python",
   "pygments_lexer": "ipython3",
   "version": "3.9.7"
  },
  "toc": {
   "base_numbering": 1,
   "nav_menu": {},
   "number_sections": true,
   "sideBar": true,
   "skip_h1_title": true,
   "title_cell": "Table of Contents",
   "title_sidebar": "Contents",
   "toc_cell": false,
   "toc_position": {},
   "toc_section_display": true,
   "toc_window_display": false
  },
  "vscode": {
   "interpreter": {
    "hash": "95633e14b7ea774968f538ab8687a60d358136f4a990a7903a22cc539dc1dcdb"
   }
  }
 },
 "nbformat": 4,
 "nbformat_minor": 2
}
