{
 "cells": [
  {
   "cell_type": "markdown",
   "metadata": {},
   "source": [
    "# Прогнозирование заказов такси\n",
    "\n",
    "**Описание проекта**\n",
    "\n",
    "Компания «Чётенькое такси» собрала исторические данные о заказах такси в аэропортах. Чтобы привлекать больше водителей в период пиковой нагрузки, нужно спрогнозировать количество заказов такси на следующий час. Постройте модель для такого предсказания.\n",
    "\n",
    "Значение метрики RMSE на тестовой выборке должно быть не больше 48.\n",
    "\n",
    "**Описание данных**\n",
    "\n",
    "Данные лежат в файле `/datasets/taxi.csv`.\n",
    "\n",
    "Количество заказов находится в столбце `num_orders`.\n",
    "\n",
    "**План работы**\n",
    "1. Загрузите данные и выполните их ресемплирование по одному часу.\n",
    "2. Проанализируйте данные.\n",
    "3. Обучите разные модели с различными гиперпараметрами. Сделайте тестовую выборку размером 10% от исходных данных.\n",
    "4. Проверьте данные на тестовой выборке и сделайте выводы."
   ]
  },
  {
   "cell_type": "code",
   "execution_count": 2,
   "metadata": {},
   "outputs": [],
   "source": [
    "import pandas as pd\n",
    "import optuna\n",
    "import plotly.express as px\n",
    "\n",
    "from collections import defaultdict\n",
    "from IPython.display import display\n",
    "\n",
    "from ydata_profiling import ProfileReport\n",
    "from fast_ml import eda\n",
    "\n",
    "from sklearn.model_selection import train_test_split\n",
    "\n",
    "from sklearn.pipeline import Pipeline\n",
    "from sklearn.compose import ColumnTransformer\n",
    "from sklearn.impute import SimpleImputer\n",
    "from sklearn.preprocessing import StandardScaler, OneHotEncoder\n",
    "\n",
    "from sklearn.dummy import DummyRegressor\n",
    "from sklearn.linear_model import LinearRegression\n",
    "from sklearn.ensemble import RandomForestRegressor\n",
    "from catboost import CatBoostRegressor\n",
    "from lightgbm import LGBMRegressor\n",
    "\n",
    "from sklearn.metrics import mean_squared_error"
   ]
  },
  {
   "cell_type": "code",
   "execution_count": 3,
   "metadata": {},
   "outputs": [],
   "source": [
    "FIG_WIDTH = 10 * 100\n",
    "FIG_HEIGHT = 5 * 100\n",
    "RANDOM_SEED = 42"
   ]
  },
  {
   "cell_type": "code",
   "execution_count": 4,
   "metadata": {},
   "outputs": [],
   "source": [
    "try:\n",
    "    raw_taxi_orders = pd.read_csv('taxi.csv')\n",
    "except:\n",
    "    raw_taxi_orders = pd.read_csv('/datasets/taxi.csv')"
   ]
  },
  {
   "cell_type": "markdown",
   "metadata": {},
   "source": [
    "## Исследовательский анализ данных\n",
    "\n",
    "Изучим основные зависимости в данных перед тем, как мы будем использовать их в алгоритмах машинного обучения.\n",
    "\n",
    "Таблица-резюме:"
   ]
  },
  {
   "cell_type": "code",
   "execution_count": 5,
   "metadata": {},
   "outputs": [
    {
     "data": {
      "text/html": [
       "<div>\n",
       "<style scoped>\n",
       "    .dataframe tbody tr th:only-of-type {\n",
       "        vertical-align: middle;\n",
       "    }\n",
       "\n",
       "    .dataframe tbody tr th {\n",
       "        vertical-align: top;\n",
       "    }\n",
       "\n",
       "    .dataframe thead th {\n",
       "        text-align: right;\n",
       "    }\n",
       "</style>\n",
       "<table border=\"1\" class=\"dataframe\">\n",
       "  <thead>\n",
       "    <tr style=\"text-align: right;\">\n",
       "      <th></th>\n",
       "      <th>data_type</th>\n",
       "      <th>data_type_grp</th>\n",
       "      <th>num_unique_values</th>\n",
       "      <th>sample_unique_values</th>\n",
       "      <th>num_missing</th>\n",
       "      <th>perc_missing</th>\n",
       "    </tr>\n",
       "  </thead>\n",
       "  <tbody>\n",
       "    <tr>\n",
       "      <th>datetime</th>\n",
       "      <td>object</td>\n",
       "      <td>Categorical</td>\n",
       "      <td>26496</td>\n",
       "      <td>[2018-03-01 00:00:00, 2018-03-01 00:10:00, 201...</td>\n",
       "      <td>0</td>\n",
       "      <td>0.0</td>\n",
       "    </tr>\n",
       "    <tr>\n",
       "      <th>num_orders</th>\n",
       "      <td>int64</td>\n",
       "      <td>Numerical</td>\n",
       "      <td>81</td>\n",
       "      <td>[9, 14, 28, 20, 32, 21, 7, 5, 17, 12]</td>\n",
       "      <td>0</td>\n",
       "      <td>0.0</td>\n",
       "    </tr>\n",
       "  </tbody>\n",
       "</table>\n",
       "</div>"
      ],
      "text/plain": [
       "           data_type data_type_grp num_unique_values  \\\n",
       "datetime      object   Categorical             26496   \n",
       "num_orders     int64     Numerical                81   \n",
       "\n",
       "                                         sample_unique_values num_missing  \\\n",
       "datetime    [2018-03-01 00:00:00, 2018-03-01 00:10:00, 201...           0   \n",
       "num_orders              [9, 14, 28, 20, 32, 21, 7, 5, 17, 12]           0   \n",
       "\n",
       "           perc_missing  \n",
       "datetime            0.0  \n",
       "num_orders          0.0  "
      ]
     },
     "metadata": {},
     "output_type": "display_data"
    }
   ],
   "source": [
    "display(eda.df_info(raw_taxi_orders))"
   ]
  },
  {
   "cell_type": "markdown",
   "metadata": {},
   "source": [
    "Числовые распределения:"
   ]
  },
  {
   "cell_type": "code",
   "execution_count": 6,
   "metadata": {},
   "outputs": [
    {
     "data": {
      "text/html": [
       "<div>\n",
       "<style scoped>\n",
       "    .dataframe tbody tr th:only-of-type {\n",
       "        vertical-align: middle;\n",
       "    }\n",
       "\n",
       "    .dataframe tbody tr th {\n",
       "        vertical-align: top;\n",
       "    }\n",
       "\n",
       "    .dataframe thead th {\n",
       "        text-align: right;\n",
       "    }\n",
       "</style>\n",
       "<table border=\"1\" class=\"dataframe\">\n",
       "  <thead>\n",
       "    <tr style=\"text-align: right;\">\n",
       "      <th></th>\n",
       "      <th>count</th>\n",
       "      <th>mean</th>\n",
       "      <th>std</th>\n",
       "      <th>min</th>\n",
       "      <th>25%</th>\n",
       "      <th>50%</th>\n",
       "      <th>75%</th>\n",
       "      <th>max</th>\n",
       "    </tr>\n",
       "  </thead>\n",
       "  <tbody>\n",
       "    <tr>\n",
       "      <th>num_orders</th>\n",
       "      <td>26496.0</td>\n",
       "      <td>14.07</td>\n",
       "      <td>9.21</td>\n",
       "      <td>0.0</td>\n",
       "      <td>8.0</td>\n",
       "      <td>13.0</td>\n",
       "      <td>19.0</td>\n",
       "      <td>119.0</td>\n",
       "    </tr>\n",
       "  </tbody>\n",
       "</table>\n",
       "</div>"
      ],
      "text/plain": [
       "              count   mean   std  min  25%   50%   75%    max\n",
       "num_orders  26496.0  14.07  9.21  0.0  8.0  13.0  19.0  119.0"
      ]
     },
     "metadata": {},
     "output_type": "display_data"
    }
   ],
   "source": [
    "display(round(raw_taxi_orders.describe().T, 2))"
   ]
  },
  {
   "cell_type": "markdown",
   "metadata": {},
   "source": [
    "И детальный отчет:"
   ]
  },
  {
   "cell_type": "code",
   "execution_count": 7,
   "metadata": {},
   "outputs": [
    {
     "name": "stderr",
     "output_type": "stream",
     "text": [
      "Summarize dataset:   0%|          | 0/5 [00:00<?, ?it/s]"
     ]
    },
    {
     "name": "stderr",
     "output_type": "stream",
     "text": [
      "Summarize dataset: 100%|██████████| 12/12 [00:03<00:00,  3.54it/s, Completed]                    \n",
      "Generate report structure: 100%|██████████| 1/1 [00:01<00:00,  1.51s/it]\n",
      "Render widgets:   0%|          | 0/1 [00:00<?, ?it/s]"
     ]
    },
    {
     "name": "stderr",
     "output_type": "stream",
     "text": [
      "                                                             \r"
     ]
    },
    {
     "data": {
      "application/vnd.jupyter.widget-view+json": {
       "model_id": "87d6de87f72f4b758bb380e4b7a9f8d2",
       "version_major": 2,
       "version_minor": 0
      },
      "text/plain": [
       "VBox(children=(Tab(children=(Tab(children=(GridBox(children=(VBox(children=(GridspecLayout(children=(HTML(valu…"
      ]
     },
     "metadata": {},
     "output_type": "display_data"
    }
   ],
   "source": [
    "ProfileReport(raw_taxi_orders, tsmode=True).to_widgets()"
   ]
  },
  {
   "cell_type": "markdown",
   "metadata": {},
   "source": [
    "Выводы"
   ]
  },
  {
   "cell_type": "markdown",
   "metadata": {},
   "source": [
    "# Подготовка данных для ML\n",
    "\n",
    "Данные уже достаточно чистые, поэтому обработка будет относительно быстрой:\n",
    "\n",
    "1. Создадим новые колонки с признаками.\n",
    "2. Обрежем нулевые значения."
   ]
  },
  {
   "cell_type": "code",
   "execution_count": 8,
   "metadata": {},
   "outputs": [
    {
     "name": "stdout",
     "output_type": "stream",
     "text": [
      "Index is monotonically increasing: True\n"
     ]
    },
    {
     "data": {
      "text/html": [
       "<div>\n",
       "<style scoped>\n",
       "    .dataframe tbody tr th:only-of-type {\n",
       "        vertical-align: middle;\n",
       "    }\n",
       "\n",
       "    .dataframe tbody tr th {\n",
       "        vertical-align: top;\n",
       "    }\n",
       "\n",
       "    .dataframe thead th {\n",
       "        text-align: right;\n",
       "    }\n",
       "</style>\n",
       "<table border=\"1\" class=\"dataframe\">\n",
       "  <thead>\n",
       "    <tr style=\"text-align: right;\">\n",
       "      <th></th>\n",
       "      <th>num_orders</th>\n",
       "      <th>hour</th>\n",
       "      <th>day_of_week</th>\n",
       "      <th>is_weekend</th>\n",
       "      <th>day_of_month</th>\n",
       "      <th>month</th>\n",
       "      <th>year</th>\n",
       "      <th>lag_1</th>\n",
       "      <th>mean_rol_3</th>\n",
       "      <th>std_rol_3</th>\n",
       "    </tr>\n",
       "    <tr>\n",
       "      <th>datetime</th>\n",
       "      <th></th>\n",
       "      <th></th>\n",
       "      <th></th>\n",
       "      <th></th>\n",
       "      <th></th>\n",
       "      <th></th>\n",
       "      <th></th>\n",
       "      <th></th>\n",
       "      <th></th>\n",
       "      <th></th>\n",
       "    </tr>\n",
       "  </thead>\n",
       "  <tbody>\n",
       "    <tr>\n",
       "      <th>2018-03-01 02:00:00</th>\n",
       "      <td>71</td>\n",
       "      <td>2</td>\n",
       "      <td>3</td>\n",
       "      <td>0</td>\n",
       "      <td>1</td>\n",
       "      <td>3</td>\n",
       "      <td>2018</td>\n",
       "      <td>85.0</td>\n",
       "      <td>93.333333</td>\n",
       "      <td>27.465129</td>\n",
       "    </tr>\n",
       "    <tr>\n",
       "      <th>2018-03-01 03:00:00</th>\n",
       "      <td>66</td>\n",
       "      <td>3</td>\n",
       "      <td>3</td>\n",
       "      <td>0</td>\n",
       "      <td>1</td>\n",
       "      <td>3</td>\n",
       "      <td>2018</td>\n",
       "      <td>71.0</td>\n",
       "      <td>74.000000</td>\n",
       "      <td>9.848858</td>\n",
       "    </tr>\n",
       "    <tr>\n",
       "      <th>2018-03-01 04:00:00</th>\n",
       "      <td>43</td>\n",
       "      <td>4</td>\n",
       "      <td>3</td>\n",
       "      <td>0</td>\n",
       "      <td>1</td>\n",
       "      <td>3</td>\n",
       "      <td>2018</td>\n",
       "      <td>66.0</td>\n",
       "      <td>60.000000</td>\n",
       "      <td>14.933185</td>\n",
       "    </tr>\n",
       "    <tr>\n",
       "      <th>2018-03-01 05:00:00</th>\n",
       "      <td>6</td>\n",
       "      <td>5</td>\n",
       "      <td>3</td>\n",
       "      <td>0</td>\n",
       "      <td>1</td>\n",
       "      <td>3</td>\n",
       "      <td>2018</td>\n",
       "      <td>43.0</td>\n",
       "      <td>38.333333</td>\n",
       "      <td>30.270998</td>\n",
       "    </tr>\n",
       "    <tr>\n",
       "      <th>2018-03-01 06:00:00</th>\n",
       "      <td>12</td>\n",
       "      <td>6</td>\n",
       "      <td>3</td>\n",
       "      <td>0</td>\n",
       "      <td>1</td>\n",
       "      <td>3</td>\n",
       "      <td>2018</td>\n",
       "      <td>6.0</td>\n",
       "      <td>20.333333</td>\n",
       "      <td>19.857828</td>\n",
       "    </tr>\n",
       "  </tbody>\n",
       "</table>\n",
       "</div>"
      ],
      "text/plain": [
       "                     num_orders  hour  day_of_week  is_weekend  day_of_month  \\\n",
       "datetime                                                                       \n",
       "2018-03-01 02:00:00          71     2            3           0             1   \n",
       "2018-03-01 03:00:00          66     3            3           0             1   \n",
       "2018-03-01 04:00:00          43     4            3           0             1   \n",
       "2018-03-01 05:00:00           6     5            3           0             1   \n",
       "2018-03-01 06:00:00          12     6            3           0             1   \n",
       "\n",
       "                     month  year  lag_1  mean_rol_3  std_rol_3  \n",
       "datetime                                                        \n",
       "2018-03-01 02:00:00      3  2018   85.0   93.333333  27.465129  \n",
       "2018-03-01 03:00:00      3  2018   71.0   74.000000   9.848858  \n",
       "2018-03-01 04:00:00      3  2018   66.0   60.000000  14.933185  \n",
       "2018-03-01 05:00:00      3  2018   43.0   38.333333  30.270998  \n",
       "2018-03-01 06:00:00      3  2018    6.0   20.333333  19.857828  "
      ]
     },
     "metadata": {},
     "output_type": "display_data"
    }
   ],
   "source": [
    "df_taxi_orders = (\n",
    "    raw_taxi_orders\n",
    "    .loc[lambda df: df.num_orders > 0]\n",
    "    .reset_index(drop=True)\n",
    "    .assign(datetime=lambda df: pd.to_datetime(df.datetime))\n",
    "    .set_index('datetime')\n",
    "    .resample('1H').sum()\n",
    "    .assign(\n",
    "        hour=lambda df: df.index.hour,\n",
    "        day_of_week=lambda df: df.index.dayofweek,\n",
    "        is_weekend=lambda df: df.day_of_week.isin([5, 6]).astype(int),\n",
    "        day_of_month=lambda df: df.index.day,\n",
    "        month=lambda df: df.index.month,\n",
    "        year=lambda df: df.index.year,\n",
    "        lag_1=lambda df: df.num_orders.shift(1),\n",
    "        mean_rol_3=lambda df: df.num_orders.rolling(window=3).mean(),\n",
    "        std_rol_3=lambda df: df.num_orders.rolling(window=3).std()\n",
    "    )\n",
    "    .dropna()\n",
    ")\n",
    "\n",
    "print('Index is monotonically increasing:', df_taxi_orders.index.is_monotonic_increasing)\n",
    "display(df_taxi_orders.head())"
   ]
  },
  {
   "cell_type": "markdown",
   "metadata": {},
   "source": [
    "Теперь можем посмотреть более детальные графики: возможно, заметим некоторые зависимости в данных."
   ]
  },
  {
   "cell_type": "code",
   "execution_count": 9,
   "metadata": {},
   "outputs": [
    {
     "name": "stderr",
     "output_type": "stream",
     "text": [
      "Summarize dataset:   0%|          | 0/5 [00:00<?, ?it/s]"
     ]
    },
    {
     "name": "stderr",
     "output_type": "stream",
     "text": [
      "Summarize dataset: 100%|██████████| 100/100 [00:14<00:00,  7.07it/s, Completed]                       \n",
      "Generate report structure: 100%|██████████| 1/1 [00:07<00:00,  7.75s/it]\n",
      "Render widgets:   0%|          | 0/1 [00:00<?, ?it/s]"
     ]
    },
    {
     "name": "stderr",
     "output_type": "stream",
     "text": [
      "                                                             \r"
     ]
    },
    {
     "data": {
      "application/vnd.jupyter.widget-view+json": {
       "model_id": "0d734d83cfea4c3cb47955a6107b3632",
       "version_major": 2,
       "version_minor": 0
      },
      "text/plain": [
       "VBox(children=(Tab(children=(Tab(children=(GridBox(children=(VBox(children=(GridspecLayout(children=(HTML(valu…"
      ]
     },
     "metadata": {},
     "output_type": "display_data"
    }
   ],
   "source": [
    "ProfileReport(df_taxi_orders, tsmode=True).to_widgets()"
   ]
  },
  {
   "cell_type": "markdown",
   "metadata": {},
   "source": [
    "Выводы"
   ]
  },
  {
   "cell_type": "markdown",
   "metadata": {},
   "source": [
    "## Модели ML\n",
    "\n",
    "Создадим и обучим несколько моделей. Для начала разделим данные на `train` и `test` выборки."
   ]
  },
  {
   "cell_type": "code",
   "execution_count": 14,
   "metadata": {},
   "outputs": [],
   "source": [
    "def split_data(df: pd.DataFrame, target_column: str, test_size: float, shuffle=False):\n",
    "    \"\"\"\n",
    "    Split a DataFrame into training and testing datasets.\n",
    "\n",
    "    This function accepts a DataFrame, the name of the target column, and the proportion of the data \n",
    "    to be included in the test split. It returns four DataFrames: the training features, the training target, \n",
    "    the testing features, and the testing target. The target datasets are DataFrames with a single column rather \n",
    "    than Series objects.\n",
    "\n",
    "    Parameters\n",
    "    ----------\n",
    "    df : pd.DataFrame\n",
    "        The DataFrame to split. This DataFrame should include both the features and the target.\n",
    "\n",
    "    target_column : str\n",
    "        The name of the target column. This column will be separated from the features and returned \n",
    "        in the target DataFrames.\n",
    "\n",
    "    test_size : float\n",
    "        The proportion of the data to include in the test split. For example, if `test_size` is 0.3, \n",
    "        30% of the data will be used for the test split, and the rest will be used for the training split.\n",
    "        \n",
    "    shuffle : boolean\n",
    "        A flag to shuffle (True) or not (False) the data when splitting into train and test.\n",
    "\n",
    "    Returns\n",
    "    -------\n",
    "    list of pd.DataFrame\n",
    "        A list containing four DataFrames: the training features, the training target, \n",
    "        the testing features, and the testing target.\n",
    "    \"\"\"\n",
    "    df_train, df_test = train_test_split(\n",
    "        df, test_size=test_size, random_state=RANDOM_SEED, shuffle=shuffle\n",
    "    )\n",
    "    \n",
    "    ftr_train = df_train.drop(target_column, axis=1)\n",
    "    tgt_train = df_train[[target_column]]\n",
    "    ftr_test = df_test.drop(target_column, axis=1)\n",
    "    tgt_test = df_test[[target_column]]\n",
    "    \n",
    "    return [ftr_train, tgt_train, ftr_test, tgt_test]"
   ]
  },
  {
   "cell_type": "code",
   "execution_count": 15,
   "metadata": {},
   "outputs": [],
   "source": [
    "dct_splits = defaultdict(dict)\n",
    "\n",
    "dct_splits['train']['features'], dct_splits['train']['target'], dct_splits['test']['features'], dct_splits['test']['target'] = split_data(df_taxi_orders, 'num_orders', 0.1)"
   ]
  },
  {
   "cell_type": "code",
   "execution_count": null,
   "metadata": {},
   "outputs": [],
   "source": []
  }
 ],
 "metadata": {
  "kernelspec": {
   "display_name": "base",
   "language": "python",
   "name": "python3"
  },
  "language_info": {
   "codemirror_mode": {
    "name": "ipython",
    "version": 3
   },
   "file_extension": ".py",
   "mimetype": "text/x-python",
   "name": "python",
   "nbconvert_exporter": "python",
   "pygments_lexer": "ipython3",
   "version": "3.9.7"
  },
  "orig_nbformat": 4
 },
 "nbformat": 4,
 "nbformat_minor": 2
}
