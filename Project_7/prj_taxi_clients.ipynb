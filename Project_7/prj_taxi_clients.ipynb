{
 "cells": [
  {
   "cell_type": "markdown",
   "metadata": {},
   "source": [
    "# Прогнозирование заказов такси\n",
    "\n",
    "**Описание проекта**\n",
    "\n",
    "Компания «Чётенькое такси» собрала исторические данные о заказах такси в аэропортах. Чтобы привлекать больше водителей в период пиковой нагрузки, нужно спрогнозировать количество заказов такси на следующий час. Постройте модель для такого предсказания.\n",
    "\n",
    "Значение метрики RMSE на тестовой выборке должно быть не больше 48.\n",
    "\n",
    "**Описание данных**\n",
    "\n",
    "Данные лежат в файле `/datasets/taxi.csv`.\n",
    "\n",
    "Количество заказов находится в столбце `num_orders`."
   ]
  },
  {
   "cell_type": "code",
   "execution_count": null,
   "metadata": {},
   "outputs": [],
   "source": [
    "import pandas as pd\n",
    "import optuna\n",
    "import plotly.express as px\n",
    "\n",
    "from caseconverter import snakecase\n",
    "from ydata_profiling import ProfileReport\n",
    "from IPython.display import display\n",
    "\n",
    "from fast_ml import eda\n",
    "\n",
    "from sklearn.model_selection import train_test_split\n",
    "from sklearn.utils import resample\n",
    "\n",
    "from sklearn.pipeline import Pipeline\n",
    "from sklearn.compose import ColumnTransformer\n",
    "from sklearn.impute import SimpleImputer\n",
    "from sklearn.preprocessing import StandardScaler, OneHotEncoder\n",
    "\n",
    "from sklearn.tree import DecisionTreeClassifier\n",
    "from sklearn.linear_model import LogisticRegression\n",
    "from sklearn.ensemble import RandomForestClassifier\n",
    "from sklearn.dummy import DummyClassifier\n",
    "\n",
    "from sklearn.metrics import "
   ]
  },
  {
   "cell_type": "code",
   "execution_count": null,
   "metadata": {},
   "outputs": [],
   "source": [
    "FIG_WIDTH = 10 * 100\n",
    "FIG_HEIGHT = 5 * 100\n",
    "RANDOM_SEED = 42"
   ]
  },
  {
   "cell_type": "code",
   "execution_count": null,
   "metadata": {},
   "outputs": [],
   "source": [
    "try:\n",
    "    raw_taxi_orders = pd.read_csv('taxi.csv')\n",
    "except:\n",
    "    raw_taxi_orders = pd.read_csv('/datasets/taxi.csv')"
   ]
  }
 ],
 "metadata": {
  "language_info": {
   "name": "python"
  },
  "orig_nbformat": 4
 },
 "nbformat": 4,
 "nbformat_minor": 2
}
